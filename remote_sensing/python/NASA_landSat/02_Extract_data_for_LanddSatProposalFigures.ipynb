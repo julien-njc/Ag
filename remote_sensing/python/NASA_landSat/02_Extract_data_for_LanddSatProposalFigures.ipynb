{
 "cells": [
  {
   "cell_type": "code",
   "execution_count": 2,
   "metadata": {},
   "outputs": [],
   "source": [
    "# import warnings\n",
    "# warnings.filterwarnings(\"ignore\")\n",
    "\n",
    "import csv\n",
    "import numpy as np\n",
    "import pandas as pd\n",
    "# import geopandas as gpd\n",
    "from IPython.display import Image\n",
    "# from shapely.geometry import Point, Polygon\n",
    "from math import factorial\n",
    "import scipy\n",
    "import scipy.signal\n",
    "import os, os.path\n",
    "\n",
    "from datetime import date\n",
    "import datetime\n",
    "import time\n",
    "\n",
    "from statsmodels.sandbox.regression.predstd import wls_prediction_std\n",
    "from sklearn.linear_model import LinearRegression\n",
    "from patsy import cr\n",
    "\n",
    "# from pprint import pprint\n",
    "import matplotlib.pyplot as plt\n",
    "import seaborn as sb\n",
    "\n",
    "import sys\n",
    "\n",
    "from pylab import rcParams\n",
    "\n",
    "\n",
    "# to move files from one directory to another\n",
    "import shutil"
   ]
  },
  {
   "cell_type": "code",
   "execution_count": 3,
   "metadata": {},
   "outputs": [],
   "source": [
    "sys.path.append('/Users/hn/Documents/00_GitHub/Ag/remote_sensing/python/')\n",
    "import remote_sensing_core as rc\n",
    "import remote_sensing_plot_core as rcp"
   ]
  },
  {
   "cell_type": "code",
   "execution_count": 4,
   "metadata": {},
   "outputs": [],
   "source": [
    "output_dir = \"/Users/hn/Documents/01_research_data/remote_sensing/LandSat_NASA/data_for_combined_plots/\""
   ]
  },
  {
   "cell_type": "markdown",
   "metadata": {},
   "source": [
    "# Extract Landsat data"
   ]
  },
  {
   "cell_type": "code",
   "execution_count": 5,
   "metadata": {},
   "outputs": [],
   "source": [
    "data_dir = \"/Users/hn/Documents/01_research_data/remote_sensing/LandSat_NASA/\""
   ]
  },
  {
   "cell_type": "code",
   "execution_count": 6,
   "metadata": {},
   "outputs": [],
   "source": [
    "EVI_8day = pd.read_csv(data_dir + \"NASA_LandSt_8dayEVI.csv\", low_memory = False)\n",
    "EVI_8day_IDS = list(EVI_8day.ID.unique())"
   ]
  },
  {
   "cell_type": "code",
   "execution_count": 7,
   "metadata": {},
   "outputs": [],
   "source": [
    "EVI_8day = rc.add_human_start_time(EVI_8day)\n",
    "\n",
    "EVI_8day[\"image_year\"] = EVI_8day['human_system_start_time'].dt.year\n",
    "EVI_8day['SF_year'] = 2017\n"
   ]
  },
  {
   "cell_type": "code",
   "execution_count": 8,
   "metadata": {},
   "outputs": [],
   "source": [
    "EVI_8day = rc.fill_missing_doi_for_8DayEVI_Landsat_from_human_system_time(EVI_8day)\n",
    "\n",
    "EVI_8day[\"EVI\"].fillna(-1.5, inplace=True)"
   ]
  },
  {
   "cell_type": "code",
   "execution_count": 9,
   "metadata": {},
   "outputs": [],
   "source": [
    "EVI_8day_noGap = pd.DataFrame()\n",
    "\n",
    "for a_field in EVI_8day_IDS:\n",
    "    curr_field = EVI_8day[EVI_8day.ID == a_field].copy()\n",
    "    curr_field = rc.fill_theGap_linearLine(regular_TS = curr_field, V_idx=\"EVI\", SF_year=2017)\n",
    "    EVI_8day_noGap = pd.concat([EVI_8day_noGap, curr_field])"
   ]
  },
  {
   "cell_type": "markdown",
   "metadata": {},
   "source": [
    "# Apply SG method"
   ]
  },
  {
   "cell_type": "code",
   "execution_count": 10,
   "metadata": {},
   "outputs": [],
   "source": [
    "EVI_8day_noGap[\"SG_EVI\"] = 0\n",
    "\n",
    "# Savitky-Golay parameters:\n",
    "window_len = 7\n",
    "poly_order = 3\n",
    "\n",
    "for a_field in EVI_8day_IDS:\n",
    "    curr_field = EVI_8day_noGap[EVI_8day_noGap.ID == a_field].copy()\n",
    "    curr_idx = EVI_8day_noGap[EVI_8day_noGap.ID == a_field].index.values\n",
    "    \n",
    "    y = curr_field.EVI.values\n",
    "    SG_pred = scipy.signal.savgol_filter(y, window_length = window_len, polyorder = poly_order)\n",
    "    \n",
    "    EVI_8day_noGap.loc[curr_idx, \"SG_EVI\"] = SG_pred\n",
    "\n",
    "#\n",
    "# SG might violate the boundaries. clip them:\n",
    "#\n",
    "upper_viol_idx = EVI_8day_noGap[EVI_8day_noGap.SG_EVI > 1 ].index.values\n",
    "EVI_8day_noGap.loc[upper_viol_idx, \"SG_EVI\"] = 1\n",
    "\n",
    "lower_viol_idx = EVI_8day_noGap[EVI_8day_noGap.SG_EVI <- 1 ].index.values\n",
    "EVI_8day_noGap.loc[lower_viol_idx, \"SG_EVI\"] = -1"
   ]
  },
  {
   "cell_type": "markdown",
   "metadata": {},
   "source": [
    "# Make it fine"
   ]
  },
  {
   "cell_type": "code",
   "execution_count": 84,
   "metadata": {},
   "outputs": [],
   "source": [
    "fine_landsat = pd.DataFrame()\n",
    "SEOS_landsat = pd.DataFrame()\n",
    "\n",
    "SFYr = 2017\n",
    "onset_cut = 0.3\n",
    "offset_cut = 0.3"
   ]
  },
  {
   "cell_type": "code",
   "execution_count": null,
   "metadata": {},
   "outputs": [],
   "source": []
  },
  {
   "cell_type": "code",
   "execution_count": 85,
   "metadata": {},
   "outputs": [],
   "source": [
    "for a_field in EVI_8day_IDS:\n",
    "    twoYears_EVI8Day = EVI_8day_noGap[EVI_8day_noGap.ID == a_field].copy()\n",
    "\n",
    "    crr_fld_twoYrs_regular = twoYears_EVI8Day.copy()\n",
    "    if (not(\"human_system_start_time\" in list(crr_fld_twoYrs_regular.columns))):\n",
    "        crr_fld_twoYrs_regular = rc.add_human_start_time(crr_fld_twoYrs_regular)\n",
    "\n",
    "\n",
    "    ID = crr_fld_twoYrs_regular['ID'].unique()[0]\n",
    "\n",
    "    #############################################\n",
    "    # crr_fld will be one year from now on\n",
    "    crr_fld = crr_fld_twoYrs_regular.copy()\n",
    "    crr_fld = crr_fld[crr_fld.image_year == SFYr]\n",
    "\n",
    "    #############################################\n",
    "    ###\n",
    "    ###             fine granularity table\n",
    "    ###\n",
    "    #############################################\n",
    "    # create the full calenadr to make better estimation of SOS and EOS.\n",
    "    fine_granular_table = rc.create_calendar_table(SF_year = SFYr)\n",
    "    fine_granular_table.rename(columns={\"Date\": \"human_system_start_time\"}, inplace=True)\n",
    "    fine_granular_table = pd.merge(fine_granular_table, crr_fld, \n",
    "                                   on=['human_system_start_time', 'SF_year', 'doy'], how='left')\n",
    "\n",
    "    ###### We need to fill the NAs that are created because they were not created in fine_granular_table\n",
    "    fine_granular_table[\"image_year\"] = crr_fld[\"image_year\"].unique()[0]\n",
    "    fine_granular_table[\"ID\"]     = crr_fld[\"ID\"].unique()[0]\n",
    "    fine_granular_table[\"county\"] = crr_fld[\"county\"].unique()[0]\n",
    "    fine_granular_table[\"CropTyp\"] = crr_fld[\"CropTyp\"].unique()[0]\n",
    "    fine_granular_table[\"DataSrc\"] = crr_fld[\"DataSrc\"].unique()[0]\n",
    "\n",
    "    fine_granular_table[\"Irrigtn\"] = crr_fld[\"Irrigtn\"].unique()[0]\n",
    "\n",
    "    fine_granular_table[\"LstSrvD\"] = crr_fld[\"LstSrvD\"].unique()[0]\n",
    "    fine_granular_table[\"Notes\"]   = crr_fld[\"Notes\"].unique()[0]\n",
    "    fine_granular_table[\"RtCrpTy\"] = crr_fld[\"RtCrpTy\"].unique()[0]\n",
    "\n",
    "    # replace NAs with -1.5. Because, that is what the function fill_theGap_linearLine()\n",
    "    # uses as indicator for missing values\n",
    "    fine_granular_table.fillna(value={\"SG_EVI\":-1.5}, inplace=True)\n",
    "\n",
    "    fine_granular_table = rc.fill_theGap_linearLine(regular_TS = fine_granular_table, \n",
    "                                                    V_idx = \"SG_EVI\", \n",
    "                                                    SF_year=SFYr)\n",
    "\n",
    "    #\n",
    "    # update SG_pred so that we do not have to update too many other stuff.\n",
    "    #\n",
    "    SG_pred = fine_granular_table[\"SG_EVI\"].values.copy()\n",
    "    crr_fld = fine_granular_table\n",
    "\n",
    "    fine_landsat = pd.concat([fine_landsat, fine_granular_table])\n",
    "\n",
    "\n",
    "    crr_fld [\"SG_EVI\"] = SG_pred\n",
    "    crr_fld = rc.addToDF_SOS_EOS_White(pd_TS = crr_fld, VegIdx = \"SG_EVI\", \n",
    "                                       onset_thresh = onset_cut, offset_thresh = offset_cut)\n",
    "\n",
    "    ##\n",
    "    ##  Kill bad detected seasons \n",
    "    ##\n",
    "    crr_fld['Date'] = crr_fld.human_system_start_time\n",
    "    crr_fld = rc.Null_SOS_EOS_by_DoYDiff(pd_TS = crr_fld, min_season_length=40)\n",
    "\n",
    "    SOS_index = list(crr_fld[crr_fld.SOS !=0].index)\n",
    "    EOS_index = list(crr_fld[crr_fld.EOS !=0].index)\n",
    "\n",
    "    SEOS_table = crr_fld.loc[EOS_index + SOS_index,]\n",
    "    SEOS_landsat = pd.concat([SEOS_landsat, SEOS_table])"
   ]
  },
  {
   "cell_type": "code",
   "execution_count": 86,
   "metadata": {},
   "outputs": [
    {
     "data": {
      "text/html": [
       "<div>\n",
       "<style scoped>\n",
       "    .dataframe tbody tr th:only-of-type {\n",
       "        vertical-align: middle;\n",
       "    }\n",
       "\n",
       "    .dataframe tbody tr th {\n",
       "        vertical-align: top;\n",
       "    }\n",
       "\n",
       "    .dataframe thead th {\n",
       "        text-align: right;\n",
       "    }\n",
       "</style>\n",
       "<table border=\"1\" class=\"dataframe\">\n",
       "  <thead>\n",
       "    <tr style=\"text-align: right;\">\n",
       "      <th></th>\n",
       "      <th>human_system_start_time</th>\n",
       "      <th>SF_year</th>\n",
       "      <th>doy</th>\n",
       "      <th>ID</th>\n",
       "      <th>county</th>\n",
       "      <th>DataSrc</th>\n",
       "      <th>CropTyp</th>\n",
       "      <th>EVI</th>\n",
       "      <th>Irrigtn</th>\n",
       "      <th>RtCrpTy</th>\n",
       "      <th>LstSrvD</th>\n",
       "      <th>Notes</th>\n",
       "      <th>system_start_time</th>\n",
       "      <th>image_year</th>\n",
       "      <th>SG_EVI</th>\n",
       "    </tr>\n",
       "  </thead>\n",
       "  <tbody>\n",
       "    <tr>\n",
       "      <th>0</th>\n",
       "      <td>2017-01-01</td>\n",
       "      <td>2017</td>\n",
       "      <td>1</td>\n",
       "      <td>108447_WSDA_SF_2017</td>\n",
       "      <td>Grant</td>\n",
       "      <td>wsda</td>\n",
       "      <td>corn, field</td>\n",
       "      <td>NaN</td>\n",
       "      <td>rill</td>\n",
       "      <td>Alfalfa Hay</td>\n",
       "      <td>2017/07/11</td>\n",
       "      <td>NaN</td>\n",
       "      <td>NaN</td>\n",
       "      <td>2017</td>\n",
       "      <td>0.067547</td>\n",
       "    </tr>\n",
       "    <tr>\n",
       "      <th>1</th>\n",
       "      <td>2017-01-02</td>\n",
       "      <td>2017</td>\n",
       "      <td>2</td>\n",
       "      <td>108447_WSDA_SF_2017</td>\n",
       "      <td>Grant</td>\n",
       "      <td>wsda</td>\n",
       "      <td>corn, field</td>\n",
       "      <td>NaN</td>\n",
       "      <td>rill</td>\n",
       "      <td>Alfalfa Hay</td>\n",
       "      <td>2017/07/11</td>\n",
       "      <td>NaN</td>\n",
       "      <td>NaN</td>\n",
       "      <td>2017</td>\n",
       "      <td>0.067547</td>\n",
       "    </tr>\n",
       "  </tbody>\n",
       "</table>\n",
       "</div>"
      ],
      "text/plain": [
       "  human_system_start_time  SF_year  doy                   ID county DataSrc  \\\n",
       "0              2017-01-01     2017    1  108447_WSDA_SF_2017  Grant    wsda   \n",
       "1              2017-01-02     2017    2  108447_WSDA_SF_2017  Grant    wsda   \n",
       "\n",
       "       CropTyp  EVI Irrigtn      RtCrpTy     LstSrvD Notes  system_start_time  \\\n",
       "0  corn, field  NaN    rill  Alfalfa Hay  2017/07/11   NaN                NaN   \n",
       "1  corn, field  NaN    rill  Alfalfa Hay  2017/07/11   NaN                NaN   \n",
       "\n",
       "   image_year    SG_EVI  \n",
       "0        2017  0.067547  \n",
       "1        2017  0.067547  "
      ]
     },
     "execution_count": 86,
     "metadata": {},
     "output_type": "execute_result"
    }
   ],
   "source": [
    "fine_landsat.head(2)"
   ]
  },
  {
   "cell_type": "code",
   "execution_count": 119,
   "metadata": {},
   "outputs": [],
   "source": [
    "a_fine_field = fine_landsat[fine_landsat.ID == EVI_8day_IDS[2]]\n",
    "a_raw_field = EVI_8day_noGap[EVI_8day_noGap.ID == EVI_8day_IDS[2]]"
   ]
  },
  {
   "cell_type": "code",
   "execution_count": 126,
   "metadata": {},
   "outputs": [
    {
     "data": {
      "image/png": "[encoded data removed]",
      "text/plain": [
       "<Figure size 1080x432 with 1 Axes>"
      ]
     },
     "metadata": {
      "needs_background": "light"
     },
     "output_type": "display_data"
    }
   ],
   "source": [
    "fig, ax = plt.subplots();\n",
    "fig.set_size_inches(15, 6)\n",
    "\n",
    "################################################\n",
    "#\n",
    "#   plot the data\n",
    "#\n",
    "\n",
    "x = a_fine_field.human_system_start_time.values\n",
    "y = a_fine_field.SG_EVI.values\n",
    "ax.scatter(x, y, c ='dodgerblue', s=7, label = 'Landsat Smoothed EVI')\n",
    "\n",
    "x = a_raw_field.human_system_start_time.values\n",
    "y = a_raw_field.EVI.values\n",
    "ax.scatter(x, y, c='r', s=7, label=\"Landsat 8-day EVI\")\n",
    "\n",
    "\n",
    "################################################\n",
    "#\n",
    "# Set labels and ticks\n",
    "#\n",
    "ax.set_xlabel('time', fontsize = 15, labelpad = 15);\n",
    "ax.set_ylabel('EVI', fontsize = 15, labelpad = 15);\n",
    "ax.tick_params(axis = 'y', which = 'major', labelsize = 10)\n",
    "ax.tick_params(axis = 'x', which = 'major', labelsize = 10)\n",
    "ax.legend(loc=\"best\", fontsize=10);\n",
    "ax.set_ylim([-1.1, 1.1])\n",
    "\n",
    "ax.grid(True);\n",
    "\n",
    "plt.show();"
   ]
  },
  {
   "cell_type": "markdown",
   "metadata": {},
   "source": [
    "# Save fine and SOS for Landsat"
   ]
  },
  {
   "cell_type": "code",
   "execution_count": 127,
   "metadata": {},
   "outputs": [],
   "source": [
    "out_name = output_dir + \"landsat_fine.csv\"\n",
    "fine_landsat.to_csv(out_name, index = False)\n",
    "\n",
    "out_name = output_dir + \"landsat_SEOS.csv\"\n",
    "SEOS_landsat.to_csv(out_name, index = False)"
   ]
  },
  {
   "cell_type": "markdown",
   "metadata": {},
   "source": [
    "# Extract Raw Sentinel"
   ]
  },
  {
   "cell_type": "code",
   "execution_count": 128,
   "metadata": {},
   "outputs": [],
   "source": [
    "# data_dir = \"/Users/hn/Documents/01_research_data/remote_sensing/01_NDVI_TS/70_Cloud/00_Eastern_WA_withYear/2Years/\"\n",
    "# EasternWA = pd.read_csv(data_dir + \"Eastern_WA_2017_70cloud_selectors.csv\", low_memory = False) \n",
    "# EasternWA = EasternWA[EasternWA.county == \"Grant\"]\n",
    "\n",
    "# three_fields = EasternWA[EasternWA.ID.isin(EVI_8day_IDS)]\n",
    "# out_name = output_dir + \"three_fields_sentinel_raw.csv\"\n",
    "# three_fields.to_csv(out_name, index = False)"
   ]
  },
  {
   "cell_type": "code",
   "execution_count": 183,
   "metadata": {},
   "outputs": [],
   "source": [
    "sentinel_data_dir = output_dir\n",
    "sentinel_raw = pd.read_csv(sentinel_data_dir + \"three_fields_sentinel_raw.csv\", low_memory = False) "
   ]
  },
  {
   "cell_type": "markdown",
   "metadata": {},
   "source": [
    "# Create Sentinel fine"
   ]
  },
  {
   "cell_type": "code",
   "execution_count": 142,
   "metadata": {},
   "outputs": [],
   "source": [
    "regular_sentinel_dir = \"/Users/hn/Documents/01_research_data/remote_sensing/data_for_plots_in_paper/\"\n",
    "all_df = pd.read_csv(regular_sentinel_dir + \"01_Regular_filledGap_Grant_SF_2017_EVI.csv\", low_memory=False)"
   ]
  },
  {
   "cell_type": "code",
   "execution_count": 166,
   "metadata": {},
   "outputs": [],
   "source": [
    "three_reg_sentinel = all_df[all_df.ID.isin(EVI_8day_IDS)].copy()\n",
    "three_reg_sentinel.reset_index(drop=True, inplace=True)"
   ]
  },
  {
   "cell_type": "code",
   "execution_count": 167,
   "metadata": {},
   "outputs": [],
   "source": [
    "indeks = \"EVI\"\n",
    "given_county= \"Grant\"\n",
    "SF_year = 2017"
   ]
  },
  {
   "cell_type": "code",
   "execution_count": 168,
   "metadata": {},
   "outputs": [],
   "source": [
    "if 'Date' in three_reg_sentinel.columns:\n",
    "    if type(three_reg_sentinel.Date.iloc[0]) == str:\n",
    "        three_reg_sentinel['Date'] = pd.to_datetime(three_reg_sentinel.Date.values).values"
   ]
  },
  {
   "cell_type": "code",
   "execution_count": 169,
   "metadata": {},
   "outputs": [],
   "source": [
    "three_reg_sentinel['SF_year'] = SF_year"
   ]
  },
  {
   "cell_type": "code",
   "execution_count": 170,
   "metadata": {},
   "outputs": [],
   "source": [
    "three_reg_sentinel = rc.initial_clean(df = three_reg_sentinel, column_to_be_cleaned = \"EVI\")"
   ]
  },
  {
   "cell_type": "code",
   "execution_count": 171,
   "metadata": {},
   "outputs": [],
   "source": [
    "three_reg_sentinel.sort_values(by=['ID', 'image_year', 'doy'], inplace=True)"
   ]
  },
  {
   "cell_type": "code",
   "execution_count": 174,
   "metadata": {},
   "outputs": [
    {
     "data": {
      "text/plain": [
       "(51, 22)"
      ]
     },
     "execution_count": 174,
     "metadata": {},
     "output_type": "execute_result"
    }
   ],
   "source": [
    "a_field_for = three_reg_sentinel[three_reg_sentinel.ID == EVI_8day_IDS[0]].copy()\n",
    "a_field_for.shape"
   ]
  },
  {
   "cell_type": "markdown",
   "metadata": {},
   "source": [
    "### Make it fine"
   ]
  },
  {
   "cell_type": "code",
   "execution_count": 200,
   "metadata": {},
   "outputs": [],
   "source": [
    "all_sentinel_fine = pd.DataFrame()\n",
    "all_sentinel_SEOS = pd.DataFrame()\n",
    "\n",
    "idx = \"EVI\""
   ]
  },
  {
   "cell_type": "code",
   "execution_count": 201,
   "metadata": {},
   "outputs": [],
   "source": [
    "for a_field_ID in EVI_8day_IDS:\n",
    "    a_field_for = three_reg_sentinel[three_reg_sentinel.ID == a_field_ID].copy()\n",
    "    crr_fld_twoYrs_regular = a_field_for.copy()\n",
    "\n",
    "    if (not(\"human_system_start_time\" in list(crr_fld_twoYrs_regular.columns))):\n",
    "        crr_fld_twoYrs_regular = rc.add_human_start_time(crr_fld_twoYrs_regular)\n",
    "\n",
    "    twoYrs_regular_Yvalues = crr_fld_twoYrs_regular[idx].copy()\n",
    "    twoYrs_regular_Xvalues = crr_fld_twoYrs_regular['Date'].copy()\n",
    "\n",
    "    #############################################\n",
    "    ###\n",
    "    ###             Smoothen\n",
    "    ###\n",
    "    #############################################\n",
    "    # differences are minor, but lets keep using Pythons function\n",
    "    window_len = 7\n",
    "    poly_order = 3\n",
    "\n",
    "    SG_pred_twoYears = scipy.signal.savgol_filter(twoYrs_regular_Yvalues, \n",
    "                                                  window_length= window_len, polyorder=poly_order)\n",
    "\n",
    "    # SG might violate the boundaries. clip them:\n",
    "    SG_pred_twoYears[SG_pred_twoYears > 1 ] = 1\n",
    "    SG_pred_twoYears[SG_pred_twoYears < -1 ] = -1\n",
    "\n",
    "    crr_fld_twoYrs_regular[idx] = SG_pred_twoYears\n",
    "\n",
    "    # crr_fld will be one year from now on\n",
    "    crr_fld = crr_fld_twoYrs_regular.copy()\n",
    "    crr_fld = crr_fld[crr_fld.image_year == SFYr]\n",
    "    #############################################\n",
    "    ###\n",
    "    ###             fine granularity table\n",
    "    ###\n",
    "    #############################################\n",
    "    # create the full calenadr to make better estimation of SOS and EOS.\n",
    "    fine_granular_table = rc.create_calendar_table(SF_year = SFYr)\n",
    "    fine_granular_table = pd.merge(fine_granular_table, crr_fld, on=['Date', 'SF_year', 'doy'], how='left')\n",
    "\n",
    "    ###### We need to fill the NAs that are created because they were not created in fine_granular_table\n",
    "    fine_granular_table[\"image_year\"] = crr_fld[\"image_year\"].unique()[0]\n",
    "    fine_granular_table[\"ID\"]     = crr_fld[\"ID\"].unique()[0]\n",
    "    fine_granular_table[\"Acres\"]  = crr_fld[\"Acres\"].unique()[0]\n",
    "    fine_granular_table[\"county\"] = crr_fld[\"county\"].unique()[0]\n",
    "\n",
    "    fine_granular_table[\"CropGrp\"] = crr_fld[\"CropGrp\"].unique()[0]\n",
    "    fine_granular_table[\"CropTyp\"] = crr_fld[\"CropTyp\"].unique()[0]\n",
    "    fine_granular_table[\"DataSrc\"] = crr_fld[\"DataSrc\"].unique()[0]\n",
    "    fine_granular_table[\"ExctAcr\"] = crr_fld[\"ExctAcr\"].unique()[0]\n",
    "\n",
    "    fine_granular_table[\"IntlSrD\"] = crr_fld[\"IntlSrD\"].unique()[0]\n",
    "    fine_granular_table[\"Irrigtn\"] = crr_fld[\"Irrigtn\"].unique()[0]\n",
    "\n",
    "    fine_granular_table[\"LstSrvD\"] = crr_fld[\"LstSrvD\"].unique()[0]\n",
    "    fine_granular_table[\"Notes\"]   = crr_fld[\"Notes\"].unique()[0]\n",
    "    fine_granular_table[\"RtCrpTy\"] = crr_fld[\"RtCrpTy\"].unique()[0]\n",
    "    fine_granular_table[\"Shap_Ar\"] = crr_fld[\"Shap_Ar\"].unique()[0]\n",
    "    fine_granular_table[\"Shp_Lng\"] = crr_fld[\"Shp_Lng\"].unique()[0]\n",
    "    fine_granular_table[\"TRS\"] = crr_fld[\"TRS\"].unique()[0]\n",
    "\n",
    "    fine_granular_table = rc.add_human_start_time_by_YearDoY(fine_granular_table)\n",
    "\n",
    "    # replace NAs with -1.5. Because, that is what the function fill_theGap_linearLine()\n",
    "    # uses as indicator for missing values\n",
    "    fine_granular_table.fillna(value={idx:-1.5}, inplace=True)\n",
    "\n",
    "    fine_granular_table = rc.fill_theGap_linearLine(regular_TS = fine_granular_table, \n",
    "                                                    V_idx=idx, \n",
    "                                                    SF_year=SFYr)\n",
    "    \n",
    "    all_sentinel_fine = pd.concat([all_sentinel_fine, fine_granular_table])\n",
    "\n",
    "    # update SG_pred so that we do not have to update too many other stuff.\n",
    "    SG_pred = fine_granular_table[idx].values.copy()\n",
    "    crr_fld = fine_granular_table\n",
    "    y = fine_granular_table[idx].copy()\n",
    "\n",
    "    ###\n",
    "    ###   plot SOS and EOS\n",
    "    ###\n",
    "    # Update the EVI/NDVI values to the smoothed version.\n",
    "    crr_fld [idx] = SG_pred\n",
    "    crr_fld = rc.addToDF_SOS_EOS_White(pd_TS = crr_fld, \n",
    "                                       VegIdx = idx, \n",
    "                                       onset_thresh = onset_cut, \n",
    "                                       offset_thresh = offset_cut)\n",
    "\n",
    "    ##\n",
    "    ##  Kill bad detected seasons \n",
    "    ##\n",
    "    crr_fld = rc.Null_SOS_EOS_by_DoYDiff(pd_TS = crr_fld, min_season_length=40)\n",
    "\n",
    "    SOS_index = list(crr_fld[crr_fld.SOS !=0].index)\n",
    "    EOS_index = list(crr_fld[crr_fld.EOS !=0].index)\n",
    "    SEOS_table = crr_fld.loc[EOS_index + SOS_index,]\n",
    "    \n",
    "    all_sentinel_SEOS = pd.concat([all_sentinel_SEOS, SEOS_sentinel])\n"
   ]
  },
  {
   "cell_type": "markdown",
   "metadata": {},
   "source": [
    "# Plot for visual inspection"
   ]
  },
  {
   "cell_type": "code",
   "execution_count": 206,
   "metadata": {},
   "outputs": [],
   "source": [
    "a_fine_field = all_sentinel_fine[all_sentinel_fine.ID == EVI_8day_IDS[2]]\n",
    "\n",
    "a_raw_sentinel = sentinel_raw[sentinel_raw.ID == EVI_8day_IDS[2]] \n",
    "a_raw_sentinel = rc.initial_clean(df = a_raw_sentinel, column_to_be_cleaned = \"EVI\")\n",
    "a_raw_sentinel = rc.add_human_start_time(a_raw_sentinel)\n",
    "\n",
    "a_SEOS_field = all_sentinel_SEOS[all_sentinel_SEOS.ID == EVI_8day_IDS[2]]\n",
    "# a_raw_field = all_sentinel_SEOS[all_sentinel_SEOS.ID == EVI_8day_IDS[2]]"
   ]
  },
  {
   "cell_type": "code",
   "execution_count": 211,
   "metadata": {},
   "outputs": [
    {
     "data": {
      "image/png": "[encoded data removed]",
      "text/plain": [
       "<Figure size 1080x432 with 1 Axes>"
      ]
     },
     "metadata": {
      "needs_background": "light"
     },
     "output_type": "display_data"
    }
   ],
   "source": [
    "fig, ax = plt.subplots();\n",
    "fig.set_size_inches(15, 6)\n",
    "\n",
    "################################################\n",
    "#\n",
    "#   plot the data\n",
    "#\n",
    "\n",
    "x = a_fine_field.human_system_start_time.values\n",
    "y = a_fine_field.EVI.values\n",
    "ax.scatter(x, y, c ='dodgerblue', s=7, label = 'Sentinel Smoothed EVI')\n",
    "\n",
    "x = a_raw_sentinel.human_system_start_time.values\n",
    "y = a_raw_sentinel.EVI.values\n",
    "ax.scatter(x, y, c='r', s=7, label=\"Sentinel raw\")\n",
    "\n",
    "################################################\n",
    "#\n",
    "# Set labels and ticks\n",
    "#\n",
    "ax.set_xlabel('time', fontsize = 15, labelpad = 15);\n",
    "ax.set_ylabel('EVI', fontsize = 15, labelpad = 15);\n",
    "ax.tick_params(axis = 'y', which = 'major', labelsize = 10)\n",
    "ax.tick_params(axis = 'x', which = 'major', labelsize = 10)\n",
    "ax.legend(loc=\"best\", fontsize=10);\n",
    "ax.set_ylim([-1.1, 1.1])\n",
    "\n",
    "ax.grid(True);\n",
    "\n",
    "plt.show();"
   ]
  },
  {
   "cell_type": "markdown",
   "metadata": {},
   "source": [
    "# Save Sentinel Data"
   ]
  },
  {
   "cell_type": "code",
   "execution_count": 212,
   "metadata": {},
   "outputs": [],
   "source": [
    "out_name = output_dir + \"all_sentinel_fine.csv\"\n",
    "all_sentinel_fine.to_csv(out_name, index = False)\n",
    "\n",
    "out_name = output_dir + \"all_sentinel_SEOS.csv\"\n",
    "all_sentinel_SEOS.to_csv(out_name, index = False)"
   ]
  },
  {
   "cell_type": "code",
   "execution_count": null,
   "metadata": {},
   "outputs": [],
   "source": []
  },
  {
   "cell_type": "markdown",
   "metadata": {},
   "source": [
    "# Plot Sentinel and Landsat Simultaneously"
   ]
  },
  {
   "cell_type": "code",
   "execution_count": 287,
   "metadata": {},
   "outputs": [],
   "source": [
    "plot_dir = \"/Users/hn/Documents/01_research_data/remote_sensing/LandSat_NASA/\""
   ]
  },
  {
   "cell_type": "code",
   "execution_count": 288,
   "metadata": {},
   "outputs": [],
   "source": [
    "size=15\n",
    "title_FontSize = 15\n",
    "legend_FontSize = 12\n",
    "tick_FontSize = 18\n",
    "label_FontSize = 22\n",
    "\n",
    "params = {'legend.fontsize': 'large',\n",
    "          'figure.figsize': (20,8),\n",
    "          'axes.labelsize': size,\n",
    "          'axes.titlesize': size,\n",
    "          'xtick.labelsize': size*0.75,\n",
    "          'ytick.labelsize': size*0.75,\n",
    "          'axes.titlepad': 10}\n",
    "\n",
    "\n",
    "#\n",
    "#  Once set, you cannot change them, unless restart the notebook\n",
    "#\n",
    "plt.rc('font', family = 'georgia')\n",
    "# plt.rc('xtick', labelsize = 15)\n",
    "# plt.rc('ytick', labelsize = 15) # x-small\n",
    "\n",
    "plt.rcParams.update(params)"
   ]
  },
  {
   "cell_type": "code",
   "execution_count": 301,
   "metadata": {},
   "outputs": [
    {
     "data": {
      "image/png": "[encoded data removed]",
      "text/plain": [
       "<Figure size 1080x432 with 1 Axes>"
      ]
     },
     "metadata": {
      "needs_background": "light"
     },
     "output_type": "display_data"
    }
   ],
   "source": [
    "curr_ID = EVI_8day_IDS[2]\n",
    "\n",
    "################################################\n",
    "######\n",
    "######   Subset Landsat data\n",
    "######\n",
    "curr_landsat_raw = EVI_8day_noGap[EVI_8day_noGap.ID == curr_ID]\n",
    "curr_landsat_smooth = fine_landsat[fine_landsat.ID == curr_ID]\n",
    "\n",
    "curr_landsat_SOS = SEOS_landsat[(SEOS_landsat.ID == curr_ID) & (SEOS_landsat.SOS != 0)]\n",
    "curr_landsat_EOS = SEOS_landsat[(SEOS_landsat.ID == curr_ID) & (SEOS_landsat.EOS != 0)]\n",
    "\n",
    "################################################\n",
    "######\n",
    "######   Subset Sentinel data\n",
    "######\n",
    "curr_sentinel_smooth = all_sentinel_fine[all_sentinel_fine.ID == curr_ID]\n",
    "\n",
    "curr_sentinel_raw = sentinel_raw[sentinel_raw.ID == curr_ID].copy()\n",
    "curr_sentinel_raw = rc.initial_clean(df = curr_sentinel_raw, column_to_be_cleaned = \"EVI\")\n",
    "curr_sentinel_raw = rc.add_human_start_time(curr_sentinel_raw)\n",
    "\n",
    "fig, ax = plt.subplots();\n",
    "fig.set_size_inches(15, 6)\n",
    "\n",
    "################################################\n",
    "#\n",
    "#   plot Sentinel data\n",
    "#\n",
    "\n",
    "# ax.scatter(curr_sentinel_smooth.human_system_start_time.values, \n",
    "#            curr_sentinel_smooth.EVI.values, \n",
    "#            c ='dodgerblue', s=7,\n",
    "#            label = 'Sentinel Smoothed EVI')\n",
    "\n",
    "ax.plot(curr_sentinel_smooth.human_system_start_time.values, \n",
    "        curr_sentinel_smooth.EVI.values, \n",
    "        c ='k',\n",
    "        label = 'Sentinel Smoothed EVI')\n",
    "\n",
    "ax.scatter(curr_sentinel_raw.human_system_start_time.values, \n",
    "           curr_sentinel_raw.EVI.values, \n",
    "           c='k', s = 27, label=\"Sentinel raw\")\n",
    "\n",
    "################################################\n",
    "#\n",
    "#   plot Landsat data\n",
    "#\n",
    "\n",
    "# ax.scatter(curr_landsat_smooth.human_system_start_time.values, \n",
    "#            curr_landsat_smooth.SG_EVI.values, \n",
    "#            c ='dodgerblue', s=7, label = 'Landsat Smoothed EVI')\n",
    "\n",
    "ax.plot(curr_landsat_smooth.human_system_start_time.values, \n",
    "           curr_landsat_smooth.SG_EVI.values, \n",
    "           c ='dodgerblue', label = 'Landsat Smoothed EVI')\n",
    "\n",
    "ax.scatter(curr_landsat_raw.human_system_start_time.values, \n",
    "           curr_landsat_raw.EVI.values, \n",
    "           c='dodgerblue', s = 27, label=\"Landsat 8-day EVI\")\n",
    "\n",
    "#\n",
    "#  Plot SOS and EOS\n",
    "#\n",
    "\n",
    "ax.scatter(curr_landsat_SOS['human_system_start_time'], curr_landsat_SOS['SOS'], \n",
    "           marker='+', s = 200, linewidths = 2, \n",
    "           c = 'g', label = \" Landsat SOS\")\n",
    "\n",
    "ax.scatter(curr_landsat_EOS['human_system_start_time'], curr_landsat_EOS['EOS'], \n",
    "           marker='+', s = 200, linewidths = 2, \n",
    "           c = 'r', label = \" Landsat EOS\")\n",
    "\n",
    "\n",
    "#\n",
    "# Anotate S/EOS\n",
    "#\n",
    "\n",
    "for ii in np.arange(0, len(curr_landsat_SOS)):\n",
    "    style = dict(size=10, color='g', rotation='vertical')\n",
    "    ax.text(x = curr_landsat_SOS.iloc[ii]['human_system_start_time'].date(), \n",
    "            y = -0.95, \n",
    "            s = 'DoY=' + str(curr_landsat_SOS.iloc[ii]['doy']), \n",
    "            **style)\n",
    "\n",
    "for ii in np.arange(0, len(curr_landsat_EOS)):\n",
    "    style = dict(size=10, color='r', rotation='vertical')\n",
    "    ax.text(x = curr_landsat_EOS.iloc[ii]['human_system_start_time'].date(), \n",
    "            y = -0.95, \n",
    "            s = 'DoY=' + str(curr_landsat_EOS.iloc[ii]['doy']), \n",
    "            **style)\n",
    "\n",
    "################################################\n",
    "#\n",
    "# Set labels and ticks\n",
    "#\n",
    "ax.set_xlabel('time', labelpad = 15);\n",
    "ax.set_ylabel('EVI', labelpad = 15);\n",
    "ax.tick_params(axis = 'y', which = 'major')\n",
    "ax.tick_params(axis = 'x', which = 'major')\n",
    "\n",
    "if curr_ID == \"99423_WSDA_SF_2017\":\n",
    "    ax.legend(loc = \"lower right\");\n",
    "else:\n",
    "    ax.legend(loc = \"best\");\n",
    "\n",
    "ax.set_ylim([-1.1, 1.1])\n",
    "ax.set_xlim([datetime.date(2017, 1, 1), datetime.date(2018, 1, 1)])\n",
    "\n",
    "ax.grid(True);\n",
    "\n",
    "################################### Form Title\n",
    "county = crr_fld_twoYrs_regular['county'].unique()[0]\n",
    "plant = crr_fld_twoYrs_regular['CropTyp'].unique()[0]\n",
    "plant = plant.replace(\",\", \" \")\n",
    "\n",
    "\n",
    "plot_title = county + \", \" + plant + \" (2017)\" \n",
    "ax.set_title(plot_title);\n",
    "\n",
    "file_name = plot_dir + curr_ID + \"_Land_Sentinel.png\"\n",
    "plt.savefig(fname = file_name, dpi=600, bbox_inches='tight', transparent=False)\n",
    "\n",
    "plt.show();"
   ]
  },
  {
   "cell_type": "code",
   "execution_count": 300,
   "metadata": {},
   "outputs": [
    {
     "data": {
      "text/plain": [
       "'107433_WSDA_SF_2017'"
      ]
     },
     "execution_count": 300,
     "metadata": {},
     "output_type": "execute_result"
    }
   ],
   "source": [
    "curr_ID"
   ]
  },
  {
   "cell_type": "code",
   "execution_count": null,
   "metadata": {},
   "outputs": [],
   "source": []
  }
 ],
 "metadata": {
  "kernelspec": {
   "display_name": "Python 3",
   "language": "python",
   "name": "python3"
  },
  "language_info": {
   "codemirror_mode": {
    "name": "ipython",
    "version": 3
   },
   "file_extension": ".py",
   "mimetype": "text/x-python",
   "name": "python",
   "nbconvert_exporter": "python",
   "pygments_lexer": "ipython3",
   "version": "3.7.4"
  }
 },
 "nbformat": 4,
 "nbformat_minor": 2
}
