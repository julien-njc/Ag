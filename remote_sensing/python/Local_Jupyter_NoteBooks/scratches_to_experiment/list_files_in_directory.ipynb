{
 "cells": [
  {
   "cell_type": "code",
   "execution_count": 1,
   "metadata": {},
   "outputs": [
    {
     "data": {
      "text/plain": [
       "['double_cropped_plants_SEOS3.csv',\n",
       " '.DS_Store',\n",
       " 'Yakima_2018_regular_EVI_SG_win9_Order3.csv']"
      ]
     },
     "execution_count": 1,
     "metadata": {},
     "output_type": "execute_result"
    }
   ],
   "source": [
    "import os, fnmatch\n",
    "import glob\n",
    "\n",
    "location = \"/Users/hn/Documents/01_research_data/remote_sensing/test_Aeolus_data/\"\n",
    "file_list = os.listdir(location)\n",
    "file_list"
   ]
  },
  {
   "cell_type": "code",
   "execution_count": 2,
   "metadata": {},
   "outputs": [
    {
     "data": {
      "text/plain": [
       "['Yakima_2018_regular_EVI_SG_win9_Order3.csv']"
      ]
     },
     "execution_count": 2,
     "metadata": {},
     "output_type": "execute_result"
    }
   ],
   "source": [
    "patt = \"*\" + str(2018) + \"*\"\n",
    "file_list = fnmatch.filter(os.listdir(location), patt)\n",
    "file_list"
   ]
  },
  {
   "cell_type": "code",
   "execution_count": null,
   "metadata": {},
   "outputs": [],
   "source": []
  },
  {
   "cell_type": "code",
   "execution_count": 3,
   "metadata": {},
   "outputs": [],
   "source": [
    "needed_columns = [\"ID\", \"Acres\", \"county\", \"CropTyp\", \"DataSrc\", \"Irrigtn\", \"LstSrvD\", \"Notes\", \n",
    "                  \"RtCrpTy\", \"image_year\", \"SF_year\", \"season_count\"]"
   ]
  },
  {
   "cell_type": "code",
   "execution_count": 4,
   "metadata": {},
   "outputs": [],
   "source": [
    "needed_columns = [\"ID\", \"Acres\", \"county\", \"CropTyp\", \"DataSrc\", \"Irrigtn\", \"LstSrvD\", \"Notes\", \n",
    "                  \"RtCrpTy\", \"image_year\", \"SF_year\", \"season_count\"]\n",
    "\n",
    "output_columns = needed_columns.copy()\n",
    "output_columns.append(\"SG_params\")"
   ]
  },
  {
   "cell_type": "code",
   "execution_count": 5,
   "metadata": {},
   "outputs": [
    {
     "data": {
      "text/plain": [
       "['ID',\n",
       " 'Acres',\n",
       " 'county',\n",
       " 'CropTyp',\n",
       " 'DataSrc',\n",
       " 'Irrigtn',\n",
       " 'LstSrvD',\n",
       " 'Notes',\n",
       " 'RtCrpTy',\n",
       " 'image_year',\n",
       " 'SF_year',\n",
       " 'season_count']"
      ]
     },
     "execution_count": 5,
     "metadata": {},
     "output_type": "execute_result"
    }
   ],
   "source": [
    "needed_columns"
   ]
  },
  {
   "cell_type": "code",
   "execution_count": 6,
   "metadata": {},
   "outputs": [
    {
     "data": {
      "text/plain": [
       "['ID',\n",
       " 'Acres',\n",
       " 'county',\n",
       " 'CropTyp',\n",
       " 'DataSrc',\n",
       " 'Irrigtn',\n",
       " 'LstSrvD',\n",
       " 'Notes',\n",
       " 'RtCrpTy',\n",
       " 'image_year',\n",
       " 'SF_year',\n",
       " 'season_count',\n",
       " 'SG_params']"
      ]
     },
     "execution_count": 6,
     "metadata": {},
     "output_type": "execute_result"
    }
   ],
   "source": [
    "output_columns"
   ]
  },
  {
   "cell_type": "code",
   "execution_count": 7,
   "metadata": {},
   "outputs": [],
   "source": [
    "SG = \"51\""
   ]
  },
  {
   "cell_type": "code",
   "execution_count": 8,
   "metadata": {},
   "outputs": [
    {
     "data": {
      "text/plain": [
       "'1'"
      ]
     },
     "execution_count": 8,
     "metadata": {},
     "output_type": "execute_result"
    }
   ],
   "source": [
    "SG[1]"
   ]
  },
  {
   "cell_type": "code",
   "execution_count": 9,
   "metadata": {},
   "outputs": [
    {
     "data": {
      "text/html": [
       "<div>\n",
       "<style scoped>\n",
       "    .dataframe tbody tr th:only-of-type {\n",
       "        vertical-align: middle;\n",
       "    }\n",
       "\n",
       "    .dataframe tbody tr th {\n",
       "        vertical-align: top;\n",
       "    }\n",
       "\n",
       "    .dataframe thead th {\n",
       "        text-align: right;\n",
       "    }\n",
       "</style>\n",
       "<table border=\"1\" class=\"dataframe\">\n",
       "  <thead>\n",
       "    <tr style=\"text-align: right;\">\n",
       "      <th></th>\n",
       "      <th>ID</th>\n",
       "      <th>Acres</th>\n",
       "      <th>county</th>\n",
       "      <th>CropTyp</th>\n",
       "      <th>DataSrc</th>\n",
       "      <th>Irrigtn</th>\n",
       "      <th>LstSrvD</th>\n",
       "      <th>Notes</th>\n",
       "      <th>RtCrpTy</th>\n",
       "      <th>image_year</th>\n",
       "      <th>SF_year</th>\n",
       "      <th>season_count</th>\n",
       "      <th>SG_params</th>\n",
       "    </tr>\n",
       "  </thead>\n",
       "  <tbody>\n",
       "  </tbody>\n",
       "</table>\n",
       "</div>"
      ],
      "text/plain": [
       "Empty DataFrame\n",
       "Columns: [ID, Acres, county, CropTyp, DataSrc, Irrigtn, LstSrvD, Notes, RtCrpTy, image_year, SF_year, season_count, SG_params]\n",
       "Index: []"
      ]
     },
     "execution_count": 9,
     "metadata": {},
     "output_type": "execute_result"
    }
   ],
   "source": [
    "import pandas as pd\n",
    "A = pd.DataFrame(data = None, \n",
    "                 columns = output_columns)\n",
    "A"
   ]
  },
  {
   "cell_type": "code",
   "execution_count": 10,
   "metadata": {},
   "outputs": [],
   "source": [
    "curr_file = pd.read_csv(location + file_list[0])"
   ]
  },
  {
   "cell_type": "code",
   "execution_count": 11,
   "metadata": {},
   "outputs": [
    {
     "data": {
      "text/plain": [
       "(22107, 25)"
      ]
     },
     "execution_count": 11,
     "metadata": {},
     "output_type": "execute_result"
    }
   ],
   "source": [
    "curr_file.shape"
   ]
  },
  {
   "cell_type": "code",
   "execution_count": 12,
   "metadata": {},
   "outputs": [
    {
     "data": {
      "text/html": [
       "<div>\n",
       "<style scoped>\n",
       "    .dataframe tbody tr th:only-of-type {\n",
       "        vertical-align: middle;\n",
       "    }\n",
       "\n",
       "    .dataframe tbody tr th {\n",
       "        vertical-align: top;\n",
       "    }\n",
       "\n",
       "    .dataframe thead th {\n",
       "        text-align: right;\n",
       "    }\n",
       "</style>\n",
       "<table border=\"1\" class=\"dataframe\">\n",
       "  <thead>\n",
       "    <tr style=\"text-align: right;\">\n",
       "      <th></th>\n",
       "      <th>ID</th>\n",
       "      <th>Acres</th>\n",
       "      <th>county</th>\n",
       "      <th>CropGrp</th>\n",
       "      <th>CropTyp</th>\n",
       "      <th>DataSrc</th>\n",
       "      <th>ExctAcr</th>\n",
       "      <th>IntlSrD</th>\n",
       "      <th>Irrigtn</th>\n",
       "      <th>LstSrvD</th>\n",
       "      <th>...</th>\n",
       "      <th>image_year</th>\n",
       "      <th>SF_year</th>\n",
       "      <th>doy</th>\n",
       "      <th>EVI</th>\n",
       "      <th>human_system_start_time</th>\n",
       "      <th>Date</th>\n",
       "      <th>EVI_ratio</th>\n",
       "      <th>SOS</th>\n",
       "      <th>EOS</th>\n",
       "      <th>season_count</th>\n",
       "    </tr>\n",
       "  </thead>\n",
       "  <tbody>\n",
       "    <tr>\n",
       "      <th>0</th>\n",
       "      <td>49283_WSDA_SF_2018</td>\n",
       "      <td>2</td>\n",
       "      <td>Yakima</td>\n",
       "      <td>Developed</td>\n",
       "      <td>developed</td>\n",
       "      <td>wsda</td>\n",
       "      <td>1.689295</td>\n",
       "      <td>1996/01/01 00:00:00</td>\n",
       "      <td>sprinkler</td>\n",
       "      <td>2002/05/28 00:00:00</td>\n",
       "      <td>...</td>\n",
       "      <td>2018</td>\n",
       "      <td>2018</td>\n",
       "      <td>1</td>\n",
       "      <td>0.400412</td>\n",
       "      <td>2018-01-01 00:00:00</td>\n",
       "      <td>2018-01-01 00:00:00</td>\n",
       "      <td>666.0</td>\n",
       "      <td>666.0</td>\n",
       "      <td>666.0</td>\n",
       "      <td>1</td>\n",
       "    </tr>\n",
       "    <tr>\n",
       "      <th>1</th>\n",
       "      <td>32302_WSDA_SF_2018</td>\n",
       "      <td>16</td>\n",
       "      <td>Yakima</td>\n",
       "      <td>Developed</td>\n",
       "      <td>developed</td>\n",
       "      <td>wsda</td>\n",
       "      <td>15.562098</td>\n",
       "      <td>1996/01/01 00:00:00</td>\n",
       "      <td>none</td>\n",
       "      <td>2002/05/28 00:00:00</td>\n",
       "      <td>...</td>\n",
       "      <td>2018</td>\n",
       "      <td>2018</td>\n",
       "      <td>1</td>\n",
       "      <td>0.281753</td>\n",
       "      <td>2018-01-01 00:00:00</td>\n",
       "      <td>2018-01-01 00:00:00</td>\n",
       "      <td>666.0</td>\n",
       "      <td>666.0</td>\n",
       "      <td>666.0</td>\n",
       "      <td>1</td>\n",
       "    </tr>\n",
       "    <tr>\n",
       "      <th>2</th>\n",
       "      <td>37034_WSDA_SF_2018</td>\n",
       "      <td>6</td>\n",
       "      <td>Yakima</td>\n",
       "      <td>Developed</td>\n",
       "      <td>developed</td>\n",
       "      <td>wsda</td>\n",
       "      <td>6.079239</td>\n",
       "      <td>1996/01/01 00:00:00</td>\n",
       "      <td>none</td>\n",
       "      <td>2002/11/02 00:00:00</td>\n",
       "      <td>...</td>\n",
       "      <td>2018</td>\n",
       "      <td>2018</td>\n",
       "      <td>1</td>\n",
       "      <td>0.144233</td>\n",
       "      <td>2018-01-01 00:00:00</td>\n",
       "      <td>2018-01-01 00:00:00</td>\n",
       "      <td>666.0</td>\n",
       "      <td>666.0</td>\n",
       "      <td>666.0</td>\n",
       "      <td>1</td>\n",
       "    </tr>\n",
       "  </tbody>\n",
       "</table>\n",
       "<p>3 rows × 25 columns</p>\n",
       "</div>"
      ],
      "text/plain": [
       "                   ID  Acres  county    CropGrp    CropTyp DataSrc    ExctAcr  \\\n",
       "0  49283_WSDA_SF_2018      2  Yakima  Developed  developed    wsda   1.689295   \n",
       "1  32302_WSDA_SF_2018     16  Yakima  Developed  developed    wsda  15.562098   \n",
       "2  37034_WSDA_SF_2018      6  Yakima  Developed  developed    wsda   6.079239   \n",
       "\n",
       "               IntlSrD    Irrigtn              LstSrvD  ... image_year  \\\n",
       "0  1996/01/01 00:00:00  sprinkler  2002/05/28 00:00:00  ...       2018   \n",
       "1  1996/01/01 00:00:00       none  2002/05/28 00:00:00  ...       2018   \n",
       "2  1996/01/01 00:00:00       none  2002/11/02 00:00:00  ...       2018   \n",
       "\n",
       "  SF_year  doy       EVI human_system_start_time                 Date  \\\n",
       "0    2018    1  0.400412     2018-01-01 00:00:00  2018-01-01 00:00:00   \n",
       "1    2018    1  0.281753     2018-01-01 00:00:00  2018-01-01 00:00:00   \n",
       "2    2018    1  0.144233     2018-01-01 00:00:00  2018-01-01 00:00:00   \n",
       "\n",
       "   EVI_ratio    SOS    EOS season_count  \n",
       "0      666.0  666.0  666.0            1  \n",
       "1      666.0  666.0  666.0            1  \n",
       "2      666.0  666.0  666.0            1  \n",
       "\n",
       "[3 rows x 25 columns]"
      ]
     },
     "execution_count": 12,
     "metadata": {},
     "output_type": "execute_result"
    }
   ],
   "source": [
    "curr_file.head(3)"
   ]
  },
  {
   "cell_type": "code",
   "execution_count": 20,
   "metadata": {},
   "outputs": [],
   "source": [
    "curr_file = curr_file[curr_file.DataSrc != \"nass\"]"
   ]
  },
  {
   "cell_type": "code",
   "execution_count": 21,
   "metadata": {},
   "outputs": [
    {
     "data": {
      "text/plain": [
       "(21345, 25)"
      ]
     },
     "execution_count": 21,
     "metadata": {},
     "output_type": "execute_result"
    }
   ],
   "source": [
    "curr_file.shape"
   ]
  },
  {
   "cell_type": "code",
   "execution_count": null,
   "metadata": {},
   "outputs": [],
   "source": [
    "LstSrvD"
   ]
  },
  {
   "cell_type": "code",
   "execution_count": null,
   "metadata": {},
   "outputs": [],
   "source": []
  },
  {
   "cell_type": "code",
   "execution_count": null,
   "metadata": {},
   "outputs": [],
   "source": []
  },
  {
   "cell_type": "code",
   "execution_count": 74,
   "metadata": {},
   "outputs": [
    {
     "data": {
      "text/plain": [
       "(22107, 12)"
      ]
     },
     "execution_count": 74,
     "metadata": {},
     "output_type": "execute_result"
    }
   ],
   "source": [
    "curr_file = curr_file[needed_columns]\n",
    "curr_file.shape"
   ]
  },
  {
   "cell_type": "code",
   "execution_count": 83,
   "metadata": {},
   "outputs": [],
   "source": [
    "curr_file = curr_file[curr_file.season_count >= 2]"
   ]
  },
  {
   "cell_type": "code",
   "execution_count": null,
   "metadata": {},
   "outputs": [],
   "source": []
  },
  {
   "cell_type": "code",
   "execution_count": 86,
   "metadata": {},
   "outputs": [],
   "source": [
    "curr_file.drop_duplicates(inplace=True)"
   ]
  },
  {
   "cell_type": "code",
   "execution_count": 88,
   "metadata": {},
   "outputs": [
    {
     "data": {
      "text/html": [
       "<div>\n",
       "<style scoped>\n",
       "    .dataframe tbody tr th:only-of-type {\n",
       "        vertical-align: middle;\n",
       "    }\n",
       "\n",
       "    .dataframe tbody tr th {\n",
       "        vertical-align: top;\n",
       "    }\n",
       "\n",
       "    .dataframe thead th {\n",
       "        text-align: right;\n",
       "    }\n",
       "</style>\n",
       "<table border=\"1\" class=\"dataframe\">\n",
       "  <thead>\n",
       "    <tr style=\"text-align: right;\">\n",
       "      <th></th>\n",
       "      <th>ID</th>\n",
       "      <th>Acres</th>\n",
       "      <th>county</th>\n",
       "      <th>CropTyp</th>\n",
       "      <th>DataSrc</th>\n",
       "      <th>Irrigtn</th>\n",
       "      <th>LstSrvD</th>\n",
       "      <th>Notes</th>\n",
       "      <th>RtCrpTy</th>\n",
       "      <th>image_year</th>\n",
       "      <th>SF_year</th>\n",
       "      <th>season_count</th>\n",
       "    </tr>\n",
       "  </thead>\n",
       "  <tbody>\n",
       "    <tr>\n",
       "      <th>103</th>\n",
       "      <td>33836_WSDA_SF_2018</td>\n",
       "      <td>15</td>\n",
       "      <td>Yakima</td>\n",
       "      <td>developed</td>\n",
       "      <td>wsda</td>\n",
       "      <td>none</td>\n",
       "      <td>2011/10/19 00:00:00</td>\n",
       "      <td>NaN</td>\n",
       "      <td>Alfalfa/Grass Hay</td>\n",
       "      <td>2018</td>\n",
       "      <td>2018</td>\n",
       "      <td>2</td>\n",
       "    </tr>\n",
       "    <tr>\n",
       "      <th>108</th>\n",
       "      <td>38487_WSDA_SF_2018</td>\n",
       "      <td>2</td>\n",
       "      <td>Yakima</td>\n",
       "      <td>developed</td>\n",
       "      <td>wsda</td>\n",
       "      <td>none</td>\n",
       "      <td>2011/11/03 00:00:00</td>\n",
       "      <td>irrigation pond</td>\n",
       "      <td>Apple</td>\n",
       "      <td>2018</td>\n",
       "      <td>2018</td>\n",
       "      <td>2</td>\n",
       "    </tr>\n",
       "  </tbody>\n",
       "</table>\n",
       "</div>"
      ],
      "text/plain": [
       "                     ID  Acres  county    CropTyp DataSrc Irrigtn  \\\n",
       "103  33836_WSDA_SF_2018     15  Yakima  developed    wsda    none   \n",
       "108  38487_WSDA_SF_2018      2  Yakima  developed    wsda    none   \n",
       "\n",
       "                 LstSrvD            Notes            RtCrpTy  image_year  \\\n",
       "103  2011/10/19 00:00:00              NaN  Alfalfa/Grass Hay        2018   \n",
       "108  2011/11/03 00:00:00  irrigation pond              Apple        2018   \n",
       "\n",
       "     SF_year  season_count  \n",
       "103     2018             2  \n",
       "108     2018             2  "
      ]
     },
     "execution_count": 88,
     "metadata": {},
     "output_type": "execute_result"
    }
   ],
   "source": [
    "curr_file.head(2)"
   ]
  },
  {
   "cell_type": "code",
   "execution_count": 93,
   "metadata": {},
   "outputs": [],
   "source": []
  },
  {
   "cell_type": "code",
   "execution_count": 94,
   "metadata": {},
   "outputs": [
    {
     "data": {
      "text/html": [
       "<div>\n",
       "<style scoped>\n",
       "    .dataframe tbody tr th:only-of-type {\n",
       "        vertical-align: middle;\n",
       "    }\n",
       "\n",
       "    .dataframe tbody tr th {\n",
       "        vertical-align: top;\n",
       "    }\n",
       "\n",
       "    .dataframe thead th {\n",
       "        text-align: right;\n",
       "    }\n",
       "</style>\n",
       "<table border=\"1\" class=\"dataframe\">\n",
       "  <thead>\n",
       "    <tr style=\"text-align: right;\">\n",
       "      <th></th>\n",
       "      <th>ID</th>\n",
       "      <th>Acres</th>\n",
       "      <th>county</th>\n",
       "      <th>CropTyp</th>\n",
       "      <th>DataSrc</th>\n",
       "      <th>Irrigtn</th>\n",
       "      <th>LstSrvD</th>\n",
       "      <th>Notes</th>\n",
       "      <th>RtCrpTy</th>\n",
       "      <th>image_year</th>\n",
       "      <th>SF_year</th>\n",
       "      <th>season_count</th>\n",
       "      <th>SG_params</th>\n",
       "    </tr>\n",
       "  </thead>\n",
       "  <tbody>\n",
       "    <tr>\n",
       "      <th>103</th>\n",
       "      <td>33836_WSDA_SF_2018</td>\n",
       "      <td>15</td>\n",
       "      <td>Yakima</td>\n",
       "      <td>developed</td>\n",
       "      <td>wsda</td>\n",
       "      <td>none</td>\n",
       "      <td>2011/10/19 00:00:00</td>\n",
       "      <td>NaN</td>\n",
       "      <td>Alfalfa/Grass Hay</td>\n",
       "      <td>2018</td>\n",
       "      <td>2018</td>\n",
       "      <td>2</td>\n",
       "      <td>51</td>\n",
       "    </tr>\n",
       "    <tr>\n",
       "      <th>108</th>\n",
       "      <td>38487_WSDA_SF_2018</td>\n",
       "      <td>2</td>\n",
       "      <td>Yakima</td>\n",
       "      <td>developed</td>\n",
       "      <td>wsda</td>\n",
       "      <td>none</td>\n",
       "      <td>2011/11/03 00:00:00</td>\n",
       "      <td>irrigation pond</td>\n",
       "      <td>Apple</td>\n",
       "      <td>2018</td>\n",
       "      <td>2018</td>\n",
       "      <td>2</td>\n",
       "      <td>51</td>\n",
       "    </tr>\n",
       "  </tbody>\n",
       "</table>\n",
       "</div>"
      ],
      "text/plain": [
       "                     ID  Acres  county    CropTyp DataSrc Irrigtn  \\\n",
       "103  33836_WSDA_SF_2018     15  Yakima  developed    wsda    none   \n",
       "108  38487_WSDA_SF_2018      2  Yakima  developed    wsda    none   \n",
       "\n",
       "                 LstSrvD            Notes            RtCrpTy  image_year  \\\n",
       "103  2011/10/19 00:00:00              NaN  Alfalfa/Grass Hay        2018   \n",
       "108  2011/11/03 00:00:00  irrigation pond              Apple        2018   \n",
       "\n",
       "     SF_year  season_count SG_params  \n",
       "103     2018             2        51  \n",
       "108     2018             2        51  "
      ]
     },
     "execution_count": 94,
     "metadata": {},
     "output_type": "execute_result"
    }
   ],
   "source": [
    "curr_file.head(2)"
   ]
  },
  {
   "cell_type": "code",
   "execution_count": null,
   "metadata": {},
   "outputs": [],
   "source": []
  },
  {
   "cell_type": "code",
   "execution_count": null,
   "metadata": {},
   "outputs": [],
   "source": []
  }
 ],
 "metadata": {
  "kernelspec": {
   "display_name": "Python 3",
   "language": "python",
   "name": "python3"
  },
  "language_info": {
   "codemirror_mode": {
    "name": "ipython",
    "version": 3
   },
   "file_extension": ".py",
   "mimetype": "text/x-python",
   "name": "python",
   "nbconvert_exporter": "python",
   "pygments_lexer": "ipython3",
   "version": "3.7.4"
  }
 },
 "nbformat": 4,
 "nbformat_minor": 2
}
