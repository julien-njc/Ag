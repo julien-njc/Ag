{
 "cells": [
  {
   "cell_type": "markdown",
   "metadata": {},
   "source": [
    "# in some plots we are having 1 SOS with no EOS.\n",
    "\n",
    "Why nullify function did not work?"
   ]
  },
  {
   "cell_type": "code",
   "execution_count": 1,
   "metadata": {},
   "outputs": [
    {
     "name": "stderr",
     "output_type": "stream",
     "text": [
      "/Users/hn/opt/anaconda3/lib/python3.7/site-packages/statsmodels/tools/_testing.py:19: FutureWarning: pandas.util.testing is deprecated. Use the functions in the public API at pandas.testing instead.\n",
      "  import pandas.util.testing as tm\n"
     ]
    }
   ],
   "source": [
    "# import warnings\n",
    "# warnings.filterwarnings(\"ignore\")\n",
    "\n",
    "import csv\n",
    "import numpy as np\n",
    "import pandas as pd\n",
    "# import geopandas as gpd\n",
    "from IPython.display import Image\n",
    "# from shapely.geometry import Point, Polygon\n",
    "from math import factorial\n",
    "import scipy\n",
    "import scipy.signal\n",
    "import os, os.path\n",
    "\n",
    "from datetime import date\n",
    "import datetime\n",
    "import time\n",
    "\n",
    "from statsmodels.sandbox.regression.predstd import wls_prediction_std\n",
    "from sklearn.linear_model import LinearRegression\n",
    "from patsy import cr\n",
    "\n",
    "# from pprint import pprint\n",
    "import matplotlib.pyplot as plt\n",
    "import seaborn as sb\n",
    "\n",
    "import sys"
   ]
  },
  {
   "cell_type": "code",
   "execution_count": 2,
   "metadata": {},
   "outputs": [],
   "source": [
    "sys.path.append('/Users/hn/Documents/00_GitHub/Ag/remote_sensing/python/')\n",
    "\n",
    "import remote_sensing_core as rc\n",
    "import remote_sensing_plot_core as rcp\n",
    "\n",
    "data_dir = \"/Users/hn/Documents/01_research_data/remote_sensing/test_Aeolus_data/\"\n"
   ]
  },
  {
   "cell_type": "code",
   "execution_count": 3,
   "metadata": {},
   "outputs": [
    {
     "name": "stdout",
     "output_type": "stream",
     "text": [
      "CovrCrp is being set to NA\n",
      "(902955, 23)\n"
     ]
    }
   ],
   "source": [
    "eleven_colors = [\"gray\", \"lightcoral\", \"red\", \"peru\",\n",
    "                 \"darkorange\", \"gold\", \"olive\", \"green\",\n",
    "                 \"blue\", \"violet\", \"deepskyblue\"]\n",
    "\n",
    "indeks = \"EVI\"\n",
    "given_county = \"Grant\"\n",
    "SF_year = 2017\n",
    "sos_thresh = 0.5\n",
    "eos_thresh = 0.5\n",
    "minFinderDetla = 0.4\n",
    "\n",
    "f_name = \"01_Regular_filledGap_Grant_SF_2017_EVI.csv\"\n",
    "a_df = pd.read_csv(data_dir + f_name, low_memory=False)\n",
    "\n",
    "\n",
    "if 'Date' in a_df.columns:\n",
    "    if type(a_df.Date.iloc[0]) == str:\n",
    "        a_df['Date'] = pd.to_datetime(a_df.Date.values).values\n",
    "\n",
    "a_df = a_df[a_df['county'] == given_county.replace(\"_\", \" \")] # Filter Grant\n",
    "# a_df = rc.filter_out_NASS(a_df) # Toss NASS\n",
    "# a_df = rc.filter_by_lastSurvey(a_df, year = SF_year) # filter by last survey date\n",
    "a_df['SF_year'] = SF_year\n",
    "\n",
    "if not('DataSrc' in a_df.columns):\n",
    "    print (\"Data source is being set to NA\")\n",
    "    a_df['DataSrc'] = \"NA\"\n",
    "\n",
    "if not('CovrCrp' in a_df.columns):\n",
    "    print (\"CovrCrp is being set to NA\")\n",
    "    a_df['CovrCrp'] = \"NA\"\n",
    "    \n",
    "print (a_df.shape)"
   ]
  },
  {
   "cell_type": "code",
   "execution_count": 4,
   "metadata": {},
   "outputs": [
    {
     "name": "stdout",
     "output_type": "stream",
     "text": [
      "(902955, 23)\n",
      "(902955, 23)\n",
      "_____________________________________\n",
      "len(polygon_list)\n",
      "17705\n",
      "_____________________________________\n"
     ]
    }
   ],
   "source": [
    "print (a_df.shape)\n",
    "\n",
    "a_df = rc.initial_clean(df = a_df, column_to_be_cleaned = indeks)\n",
    "\n",
    "an_EE_TS = a_df.copy()\n",
    "\n",
    "print (an_EE_TS.shape)\n",
    "\n",
    "### List of unique polygons\n",
    "polygon_list = np.sort(an_EE_TS['ID'].unique())\n",
    "print (\"_____________________________________\")\n",
    "print(\"len(polygon_list)\")\n",
    "print (len(polygon_list))\n",
    "print (\"_____________________________________\")\n",
    "\n",
    "counter = 0\n"
   ]
  },
  {
   "cell_type": "code",
   "execution_count": 5,
   "metadata": {},
   "outputs": [
    {
     "data": {
      "text/plain": [
       "True"
      ]
     },
     "execution_count": 5,
     "metadata": {},
     "output_type": "execute_result"
    }
   ],
   "source": [
    "a_poly = \"100106_WSDA_SF_2017\"\n",
    "          \n",
    "a_poly in (polygon_list)"
   ]
  },
  {
   "cell_type": "code",
   "execution_count": 6,
   "metadata": {},
   "outputs": [
    {
     "name": "stdout",
     "output_type": "stream",
     "text": [
      "_____________________________________\n",
      "counter: 0\n",
      "100106_WSDA_SF_2017\n"
     ]
    }
   ],
   "source": [
    "if (counter%10 == 0):\n",
    "        print (\"_____________________________________\")\n",
    "        print (\"counter: \" + str(counter))\n",
    "        print (a_poly)\n",
    "        \n",
    "curr_field = an_EE_TS[an_EE_TS['ID']==a_poly].copy()\n",
    "\n",
    "#\n",
    "#  filter just one year to have a clean SOS EOS stuff\n",
    "#\n",
    "curr_field = curr_field[curr_field.image_year == SF_year]\n",
    "\n",
    "################################################################\n",
    "# Sort by DoY (sanitary check)\n",
    "curr_field.sort_values(by=['image_year', 'doy'], inplace=True)\n",
    "\n"
   ]
  },
  {
   "cell_type": "code",
   "execution_count": 15,
   "metadata": {},
   "outputs": [
    {
     "data": {
      "image/png": "[encoded data removed]",
      "text/plain": [
       "<Figure size 720x432 with 1 Axes>"
      ]
     },
     "metadata": {
      "needs_background": "light"
     },
     "output_type": "display_data"
    }
   ],
   "source": [
    "fig, axs = plt.subplots(1, 1, figsize=(10,6),\n",
    "                        sharex='col', sharey='row',\n",
    "                        gridspec_kw={'hspace': 0.1, 'wspace': .1});\n",
    "(ax1) = axs;\n",
    "ax1.grid(True); ax2.grid(True);\n",
    "\n",
    "\n",
    "dataAB = curr_field\n",
    "idx=indeks\n",
    "SG_params=[5, 3]\n",
    "SFYr = SF_year\n",
    "ax=ax1\n",
    "deltA= minFinderDetla\n",
    "onset_cut = sos_thresh\n",
    "offset_cut = eos_thresh\n",
    "\n",
    "rcp.SG_1yr_panels_clean_sciPy_My_Peaks_SOS_fineGranularity_1Year(dataAB = curr_field, \n",
    "                                                                 idx=indeks, \n",
    "                                                                 SG_params=SG_params, \n",
    "                                                                 SFYr = SF_year, ax=ax1, deltA= minFinderDetla,\n",
    "                                                                 onset_cut = sos_thresh, \n",
    "                                                                 offset_cut = eos_thresh);\n",
    "\n",
    "fig_name = \"/Users/hn/Documents/00_GitHub/Ag/remote_sensing/\" + \\\n",
    "           \"python/Local_Jupyter_NoteBooks/scratches_to_experiment/1SOS.png\"\n",
    "\n",
    "plt.savefig(fname = fig_name, dpi=400, bbox_inches='tight')"
   ]
  },
  {
   "cell_type": "code",
   "execution_count": null,
   "metadata": {},
   "outputs": [],
   "source": []
  },
  {
   "cell_type": "code",
   "execution_count": null,
   "metadata": {},
   "outputs": [],
   "source": []
  },
  {
   "cell_type": "code",
   "execution_count": null,
   "metadata": {},
   "outputs": [],
   "source": []
  },
  {
   "cell_type": "code",
   "execution_count": null,
   "metadata": {},
   "outputs": [],
   "source": []
  },
  {
   "cell_type": "code",
   "execution_count": 8,
   "metadata": {},
   "outputs": [],
   "source": [
    "dataAB = curr_field\n",
    "idx = indeks\n",
    "SG_params=[5, 1]\n",
    "SFYr = SF_year\n",
    "ax = ax1\n",
    "deltA = minFinderDetla\n",
    "onset_cut = sos_thresh\n",
    "offset_cut = eos_thresh"
   ]
  },
  {
   "cell_type": "code",
   "execution_count": 9,
   "metadata": {},
   "outputs": [],
   "source": [
    "crr_fld = dataAB.copy()\n",
    "if (not(\"human_system_start_time\" in list(crr_fld.columns))):\n",
    "    crr_fld = rc.add_human_start_time(crr_fld)\n",
    "\n",
    "eleven_colors = [\"gray\", \"lightcoral\", \"red\", \"peru\",\n",
    "                 \"darkorange\", \"gold\", \"olive\", \"green\",\n",
    "                 \"blue\", \"violet\", \"deepskyblue\"]\n",
    "\n",
    "plant = crr_fld['CropTyp'].unique()[0]\n",
    "# Take care of names, replace \"/\" and \",\" and \" \" by \"_\"\n",
    "plant = plant.replace(\"/\", \"_\")\n",
    "plant = plant.replace(\",\", \"_\")\n",
    "plant = plant.replace(\" \", \"_\")\n",
    "plant = plant.replace(\"__\", \"_\")\n",
    "\n",
    "county = crr_fld['county'].unique()[0]\n",
    "ID = crr_fld['ID'].unique()[0]\n",
    "\n",
    "y = crr_fld[idx].copy()\n",
    "\n",
    "#############################################\n",
    "###\n",
    "###             Smoothen\n",
    "###\n",
    "#############################################\n",
    "# differences are minor, but lets keep using Pythons function\n",
    "# my_savitzky_pred = rc.savitzky_golay(y, window_size=Sav_win_size, order=sav_order)\n",
    "window_len = SG_params[0]\n",
    "poly_order = SG_params[1]\n",
    "\n",
    "SG_pred = scipy.signal.savgol_filter(y, window_length= window_len, polyorder=poly_order)\n",
    "\n",
    "# SG might violate the boundaries. clip them:\n",
    "SG_pred[SG_pred > 1 ] = 1\n",
    "SG_pred[SG_pred < -1 ] = -1\n",
    "\n",
    "crr_fld[idx] = SG_pred\n",
    "\n",
    "#############################################\n",
    "###\n",
    "###             fine granularity table\n",
    "###\n",
    "#############################################\n",
    "# create the full calenadr to make better estimation of SOS and EOS.\n",
    "fine_granular_table = rc.create_calendar_table(SF_year = SFYr)\n",
    "fine_granular_table = pd.merge(fine_granular_table, crr_fld, on=['Date', 'SF_year', 'doy'], how='left')\n",
    "\n",
    "###### We need to fill the NAs that are created because they were not created in fine_granular_table\n",
    "fine_granular_table[\"image_year\"] = crr_fld[\"image_year\"].unique()[0]\n",
    "fine_granular_table[\"ID\"]     = crr_fld[\"ID\"].unique()[0]\n",
    "fine_granular_table[\"Acres\"]  = crr_fld[\"Acres\"].unique()[0]\n",
    "fine_granular_table[\"county\"] = crr_fld[\"county\"].unique()[0]\n",
    "\n",
    "fine_granular_table[\"CropGrp\"] = crr_fld[\"CropGrp\"].unique()[0]\n",
    "fine_granular_table[\"CropTyp\"] = crr_fld[\"CropTyp\"].unique()[0]\n",
    "fine_granular_table[\"DataSrc\"] = crr_fld[\"DataSrc\"].unique()[0]\n",
    "fine_granular_table[\"ExctAcr\"] = crr_fld[\"ExctAcr\"].unique()[0]\n",
    "\n",
    "fine_granular_table[\"IntlSrD\"] = crr_fld[\"IntlSrD\"].unique()[0]\n",
    "fine_granular_table[\"Irrigtn\"] = crr_fld[\"Irrigtn\"].unique()[0]\n",
    "\n",
    "fine_granular_table[\"LstSrvD\"] = crr_fld[\"LstSrvD\"].unique()[0]\n",
    "fine_granular_table[\"Notes\"]   = crr_fld[\"Notes\"].unique()[0]\n",
    "fine_granular_table[\"RtCrpTy\"] = crr_fld[\"RtCrpTy\"].unique()[0]\n",
    "fine_granular_table[\"Shap_Ar\"] = crr_fld[\"Shap_Ar\"].unique()[0]\n",
    "fine_granular_table[\"Shp_Lng\"] = crr_fld[\"Shp_Lng\"].unique()[0]\n",
    "fine_granular_table[\"TRS\"] = crr_fld[\"TRS\"].unique()[0]\n",
    "\n",
    "fine_granular_table = rc.add_human_start_time_by_YearDoY(fine_granular_table)\n",
    "\n",
    "# replace NAs with -1.5. Because, that is what the function fill_theGap_linearLine()\n",
    "# uses as indicator for missing values\n",
    "fine_granular_table.fillna(value={idx:-1.5}, inplace=True)\n",
    "\n",
    "fine_granular_table = rc.fill_theGap_linearLine(regular_TS = fine_granular_table, \n",
    "                                                V_idx=idx, \n",
    "                                                SF_year=SFYr)\n",
    "\n",
    "# update SG_pred so that we do not have to update too many other stuff.\n",
    "SG_pred = fine_granular_table[idx].values.copy()\n",
    "crr_fld = fine_granular_table\n",
    "y = fine_granular_table[idx].copy()"
   ]
  },
  {
   "cell_type": "code",
   "execution_count": 10,
   "metadata": {},
   "outputs": [],
   "source": [
    "#############################################\n",
    "###\n",
    "###   Form a data table of X and Y values\n",
    "###\n",
    "#############################################\n",
    "\n",
    "if len(fine_granular_table['image_year'].unique()) == 2:\n",
    "    X = rc.extract_XValues_of_2Yrs_TS(fine_granular_table, SF_yr = SFYr)\n",
    "elif len(fine_granular_table['image_year'].unique()) == 1:\n",
    "    X = fine_granular_table['doy']\n",
    "\n",
    "d = {'DoY': X, 'Date': pd.to_datetime(fine_granular_table.human_system_start_time.values).values}\n",
    "date_df = pd.DataFrame(data=d)\n",
    "\n",
    "min_val_for_being_peak = 0.5\n"
   ]
  },
  {
   "cell_type": "code",
   "execution_count": 11,
   "metadata": {},
   "outputs": [],
   "source": [
    "crr_fld [idx] = SG_pred\n",
    "crr_fld = rc.addToDF_SOS_EOS_White(pd_TS = crr_fld, \n",
    "                                   VegIdx = idx, \n",
    "                                   onset_thresh = onset_cut, \n",
    "                                   offset_thresh = offset_cut)"
   ]
  },
  {
   "cell_type": "code",
   "execution_count": null,
   "metadata": {},
   "outputs": [],
   "source": [
    "###\n",
    "### Null_SOS_EOS_by_DoYDiff(pd_TS, min_season_length=40)\n",
    "###\n",
    "pd_TS = crr_fld.copy()\n",
    "min_season_length=40"
   ]
  },
  {
   "cell_type": "code",
   "execution_count": null,
   "metadata": {},
   "outputs": [],
   "source": [
    "pd_TS_DoYDiff = pd_TS.copy()\n",
    "\n",
    "# find indexes of SOS and EOS\n",
    "SOS_indexes = pd_TS_DoYDiff.index[pd_TS_DoYDiff['SOS'] != 0].tolist()\n",
    "EOS_indexes = pd_TS_DoYDiff.index[pd_TS_DoYDiff['EOS'] != 0].tolist()"
   ]
  },
  {
   "cell_type": "code",
   "execution_count": null,
   "metadata": {},
   "outputs": [],
   "source": [
    "SOS_indexes"
   ]
  },
  {
   "cell_type": "code",
   "execution_count": null,
   "metadata": {},
   "outputs": [],
   "source": [
    "EOS_indexes"
   ]
  },
  {
   "cell_type": "code",
   "execution_count": null,
   "metadata": {},
   "outputs": [],
   "source": []
  }
 ],
 "metadata": {
  "kernelspec": {
   "display_name": "Python 3",
   "language": "python",
   "name": "python3"
  },
  "language_info": {
   "codemirror_mode": {
    "name": "ipython",
    "version": 3
   },
   "file_extension": ".py",
   "mimetype": "text/x-python",
   "name": "python",
   "nbconvert_exporter": "python",
   "pygments_lexer": "ipython3",
   "version": "3.7.4"
  }
 },
 "nbformat": 4,
 "nbformat_minor": 2
}
