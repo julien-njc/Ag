{
 "cells": [
  {
   "cell_type": "markdown",
   "metadata": {},
   "source": [
    "# in some plots we are having 1 EOS with no SOS.\n",
    "\n",
    "Why nullify function did not work?\n",
    "\n",
    "\n",
    "<table><tr>\n",
    "<td> \n",
    "  <p align=\"center\" style=\"padding: 10px\">\n",
    "    <img alt=\"Forwarding\" src=\"how_did_this_happen.png\" width=\"520\">\n",
    "    <br>\n",
    "    <em style=\"color: grey\">1</em>\n",
    "  </p> \n",
    "</td>\n",
    "<td> \n",
    "  <p align=\"center\">\n",
    "    <img alt=\"Routing\" src=\"how_did_this_happen_2.png\" width=\"520\">\n",
    "    <br>\n",
    "    <em style=\"color: grey\">2</em>\n",
    "  </p> \n",
    "</td>\n",
    "</tr></table>"
   ]
  },
  {
   "cell_type": "code",
   "execution_count": 2,
   "metadata": {},
   "outputs": [],
   "source": [
    "# import warnings\n",
    "# warnings.filterwarnings(\"ignore\")\n",
    "\n",
    "import csv\n",
    "import numpy as np\n",
    "import pandas as pd\n",
    "# import geopandas as gpd\n",
    "from IPython.display import Image\n",
    "# from shapely.geometry import Point, Polygon\n",
    "from math import factorial\n",
    "import scipy\n",
    "import scipy.signal\n",
    "import os, os.path\n",
    "\n",
    "from datetime import date\n",
    "import datetime\n",
    "import time\n",
    "\n",
    "from statsmodels.sandbox.regression.predstd import wls_prediction_std\n",
    "from sklearn.linear_model import LinearRegression\n",
    "from patsy import cr\n",
    "\n",
    "# from pprint import pprint\n",
    "import matplotlib.pyplot as plt\n",
    "import seaborn as sb\n",
    "\n",
    "import sys"
   ]
  },
  {
   "cell_type": "code",
   "execution_count": 3,
   "metadata": {},
   "outputs": [],
   "source": [
    "sys.path.append('/Users/hn/Documents/00_GitHub/Ag/remote_sensing/python/')\n",
    "\n",
    "import remote_sensing_core as rc\n",
    "import remote_sensing_plot_core as rcp\n",
    "\n",
    "data_dir = \"/Users/hn/Documents/01_research_data/remote_sensing/test_Aeolus_data/\"\n"
   ]
  },
  {
   "cell_type": "code",
   "execution_count": 4,
   "metadata": {},
   "outputs": [
    {
     "name": "stdout",
     "output_type": "stream",
     "text": [
      "CovrCrp is being set to NA\n",
      "(549321, 23)\n"
     ]
    }
   ],
   "source": [
    "eleven_colors = [\"gray\", \"lightcoral\", \"red\", \"peru\",\n",
    "                 \"darkorange\", \"gold\", \"olive\", \"green\",\n",
    "                 \"blue\", \"violet\", \"deepskyblue\"]\n",
    "\n",
    "indeks = \"EVI\"\n",
    "given_county = \"Benton\"\n",
    "SF_year = 2018\n",
    "sos_thresh = 0.3\n",
    "eos_thresh = 0.3\n",
    "minFinderDetla = 0.4\n",
    "\n",
    "f_name = \"01_Regular_filledGap_\" + given_county + \"_SF_\" +  str(SF_year) + \"_EVI.csv\"\n",
    "a_df = pd.read_csv(data_dir + f_name, low_memory=False)\n",
    "\n",
    "\n",
    "if 'Date' in a_df.columns:\n",
    "    if type(a_df.Date.iloc[0]) == str:\n",
    "        a_df['Date'] = pd.to_datetime(a_df.Date.values).values\n",
    "\n",
    "a_df = a_df[a_df['county'] == given_county.replace(\"_\", \" \")] # Filter Grant\n",
    "# a_df = rc.filter_out_NASS(a_df) # Toss NASS\n",
    "# a_df = rc.filter_by_lastSurvey(a_df, year = SF_year) # filter by last survey date\n",
    "a_df['SF_year'] = SF_year\n",
    "\n",
    "if not('DataSrc' in a_df.columns):\n",
    "    print (\"Data source is being set to NA\")\n",
    "    a_df['DataSrc'] = \"NA\"\n",
    "\n",
    "if not('CovrCrp' in a_df.columns):\n",
    "    print (\"CovrCrp is being set to NA\")\n",
    "    a_df['CovrCrp'] = \"NA\"\n",
    "    \n",
    "print (a_df.shape)"
   ]
  },
  {
   "cell_type": "code",
   "execution_count": 5,
   "metadata": {},
   "outputs": [
    {
     "data": {
      "text/plain": [
       "['5668_WSDA_SF_2018', '1462_WSDA_SF_2018']"
      ]
     },
     "execution_count": 5,
     "metadata": {},
     "output_type": "execute_result"
    }
   ],
   "source": [
    "fields_of_interest = [\"1462_WSDA_SF_2018\", \"5668_WSDA_SF_2018\"]\n",
    "\n",
    "a_df = a_df[a_df.ID.isin(fields_of_interest)]\n",
    "\n",
    "a_df.ID.unique().tolist()"
   ]
  },
  {
   "cell_type": "code",
   "execution_count": 6,
   "metadata": {},
   "outputs": [
    {
     "data": {
      "text/plain": [
       "(102, 23)"
      ]
     },
     "execution_count": 6,
     "metadata": {},
     "output_type": "execute_result"
    }
   ],
   "source": [
    "a_df.shape"
   ]
  },
  {
   "cell_type": "code",
   "execution_count": 7,
   "metadata": {},
   "outputs": [
    {
     "name": "stdout",
     "output_type": "stream",
     "text": [
      "(102, 23)\n",
      "(102, 23)\n",
      "_____________________________________\n",
      "len(polygon_list)\n",
      "2\n",
      "_____________________________________\n"
     ]
    }
   ],
   "source": [
    "print (a_df.shape)\n",
    "\n",
    "a_df = rc.initial_clean(df = a_df, column_to_be_cleaned = indeks)\n",
    "\n",
    "an_EE_TS = a_df.copy()\n",
    "\n",
    "print (an_EE_TS.shape)\n",
    "\n",
    "### List of unique polygons\n",
    "polygon_list = np.sort(an_EE_TS['ID'].unique())\n",
    "print (\"_____________________________________\")\n",
    "print(\"len(polygon_list)\")\n",
    "print (len(polygon_list))\n",
    "print (\"_____________________________________\")\n",
    "\n",
    "counter = 0\n"
   ]
  },
  {
   "cell_type": "code",
   "execution_count": 8,
   "metadata": {},
   "outputs": [
    {
     "data": {
      "image/png": "[encoded data removed]",
      "text/plain": [
       "<Figure size 1440x432 with 2 Axes>"
      ]
     },
     "metadata": {
      "needs_background": "light"
     },
     "output_type": "display_data"
    }
   ],
   "source": [
    "fig, axs = plt.subplots(1, 2, figsize=(20,6),\n",
    "                        sharex='col', sharey='row',\n",
    "                        gridspec_kw={'hspace': 0.1, 'wspace': .1});\n",
    "\n",
    "(ax1, ax2) = axs;\n",
    "ax1.grid(True); ax2.grid(True);\n",
    "\n",
    "field_1 = an_EE_TS[an_EE_TS['ID']==fields_of_interest[0]].copy()\n",
    "field_1 = field_1[field_1.image_year == SF_year]\n",
    "\n",
    "field_2 = an_EE_TS[an_EE_TS['ID']==fields_of_interest[1]].copy()\n",
    "field_2 = field_2[field_2.image_year == SF_year]\n",
    "\n",
    "\n",
    "\n",
    "idx=indeks\n",
    "SG_params=[7, 3]\n",
    "SFYr = SF_year\n",
    "deltA= minFinderDetla\n",
    "onset_cut = sos_thresh\n",
    "offset_cut = eos_thresh \n",
    "\n",
    "\n",
    "rcp. SG_1yr_panels_clean_sciPy_My_Peaks_SOS_fineGranularity_1Year(field_1, \n",
    "                                                                  idx, \n",
    "                                                                  SG_params, \n",
    "                                                                  SFYr, \n",
    "                                                                  ax = ax1, \n",
    "                                                                  deltA = minFinderDetla, \n",
    "                                                                  onset_cut=sos_thresh, \n",
    "                                                                  offset_cut=eos_thresh)\n",
    "\n",
    "rcp. SG_1yr_panels_clean_sciPy_My_Peaks_SOS_fineGranularity_1Year(field_2,\n",
    "                                                                  idx=indeks, \n",
    "                                                                  SG_params=SG_params, \n",
    "                                                                  SFYr = SF_year, ax=ax2, deltA= minFinderDetla,\n",
    "                                                                  onset_cut = sos_thresh, \n",
    "                                                                  offset_cut = eos_thresh);"
   ]
  },
  {
   "cell_type": "code",
   "execution_count": null,
   "metadata": {},
   "outputs": [],
   "source": []
  },
  {
   "cell_type": "code",
   "execution_count": null,
   "metadata": {},
   "outputs": [],
   "source": []
  },
  {
   "cell_type": "code",
   "execution_count": null,
   "metadata": {},
   "outputs": [],
   "source": []
  },
  {
   "cell_type": "code",
   "execution_count": null,
   "metadata": {},
   "outputs": [],
   "source": []
  },
  {
   "cell_type": "code",
   "execution_count": 9,
   "metadata": {},
   "outputs": [],
   "source": [
    "dataAB = an_EE_TS[an_EE_TS['ID']==fields_of_interest[0]].copy()\n",
    "curr_field = dataAB \n",
    "idx = indeks\n",
    "SG_params=[7, 3]\n",
    "SFYr = SF_year\n",
    "deltA = minFinderDetla\n",
    "onset_cut = sos_thresh\n",
    "offset_cut = eos_thresh"
   ]
  },
  {
   "cell_type": "code",
   "execution_count": 10,
   "metadata": {},
   "outputs": [],
   "source": [
    "crr_fld = dataAB.copy()\n",
    "if (not(\"human_system_start_time\" in list(crr_fld.columns))):\n",
    "    crr_fld = rc.add_human_start_time(crr_fld)\n",
    "\n",
    "eleven_colors = [\"gray\", \"lightcoral\", \"red\", \"peru\",\n",
    "                 \"darkorange\", \"gold\", \"olive\", \"green\",\n",
    "                 \"blue\", \"violet\", \"deepskyblue\"]\n",
    "\n",
    "plant = crr_fld['CropTyp'].unique()[0]\n",
    "# Take care of names, replace \"/\" and \",\" and \" \" by \"_\"\n",
    "plant = plant.replace(\"/\", \"_\")\n",
    "plant = plant.replace(\",\", \"_\")\n",
    "plant = plant.replace(\" \", \"_\")\n",
    "plant = plant.replace(\"__\", \"_\")\n",
    "\n",
    "county = crr_fld['county'].unique()[0]\n",
    "ID = crr_fld['ID'].unique()[0]\n",
    "\n",
    "y = crr_fld[idx].copy()\n",
    "\n",
    "#############################################\n",
    "###\n",
    "###             Smoothen\n",
    "###\n",
    "#############################################\n",
    "# differences are minor, but lets keep using Pythons function\n",
    "# my_savitzky_pred = rc.savitzky_golay(y, window_size=Sav_win_size, order=sav_order)\n",
    "window_len = SG_params[0]\n",
    "poly_order = SG_params[1]\n",
    "\n",
    "SG_pred = scipy.signal.savgol_filter(y, window_length= window_len, polyorder=poly_order)\n",
    "\n",
    "# SG might violate the boundaries. clip them:\n",
    "SG_pred[SG_pred > 1 ] = 1\n",
    "SG_pred[SG_pred < -1 ] = -1\n",
    "\n",
    "crr_fld[idx] = SG_pred\n",
    "\n",
    "#############################################\n",
    "###\n",
    "###             fine granularity table\n",
    "###\n",
    "#############################################\n",
    "# create the full calenadr to make better estimation of SOS and EOS.\n",
    "fine_granular_table = rc.create_calendar_table(SF_year = SFYr)\n",
    "fine_granular_table = pd.merge(fine_granular_table, crr_fld, on=['Date', 'SF_year', 'doy'], how='left')\n",
    "\n",
    "###### We need to fill the NAs that are created because they were not created in fine_granular_table\n",
    "fine_granular_table[\"image_year\"] = crr_fld[\"image_year\"].unique()[0]\n",
    "fine_granular_table[\"ID\"]     = crr_fld[\"ID\"].unique()[0]\n",
    "fine_granular_table[\"Acres\"]  = crr_fld[\"Acres\"].unique()[0]\n",
    "fine_granular_table[\"county\"] = crr_fld[\"county\"].unique()[0]\n",
    "\n",
    "fine_granular_table[\"CropGrp\"] = crr_fld[\"CropGrp\"].unique()[0]\n",
    "fine_granular_table[\"CropTyp\"] = crr_fld[\"CropTyp\"].unique()[0]\n",
    "fine_granular_table[\"DataSrc\"] = crr_fld[\"DataSrc\"].unique()[0]\n",
    "fine_granular_table[\"ExctAcr\"] = crr_fld[\"ExctAcr\"].unique()[0]\n",
    "\n",
    "fine_granular_table[\"IntlSrD\"] = crr_fld[\"IntlSrD\"].unique()[0]\n",
    "fine_granular_table[\"Irrigtn\"] = crr_fld[\"Irrigtn\"].unique()[0]\n",
    "\n",
    "fine_granular_table[\"LstSrvD\"] = crr_fld[\"LstSrvD\"].unique()[0]\n",
    "fine_granular_table[\"Notes\"]   = crr_fld[\"Notes\"].unique()[0]\n",
    "fine_granular_table[\"RtCrpTy\"] = crr_fld[\"RtCrpTy\"].unique()[0]\n",
    "fine_granular_table[\"Shap_Ar\"] = crr_fld[\"Shap_Ar\"].unique()[0]\n",
    "fine_granular_table[\"Shp_Lng\"] = crr_fld[\"Shp_Lng\"].unique()[0]\n",
    "fine_granular_table[\"TRS\"] = crr_fld[\"TRS\"].unique()[0]\n",
    "\n",
    "fine_granular_table = rc.add_human_start_time_by_YearDoY(fine_granular_table)\n",
    "\n",
    "# replace NAs with -1.5. Because, that is what the function fill_theGap_linearLine()\n",
    "# uses as indicator for missing values\n",
    "fine_granular_table.fillna(value={idx:-1.5}, inplace=True)\n",
    "\n",
    "fine_granular_table = rc.fill_theGap_linearLine(regular_TS = fine_granular_table, \n",
    "                                                V_idx=idx, \n",
    "                                                SF_year=SFYr)\n",
    "\n",
    "# update SG_pred so that we do not have to update too many other stuff.\n",
    "SG_pred = fine_granular_table[idx].values.copy()\n",
    "crr_fld = fine_granular_table\n",
    "y = fine_granular_table[idx].copy()"
   ]
  },
  {
   "cell_type": "code",
   "execution_count": 11,
   "metadata": {},
   "outputs": [],
   "source": [
    "#############################################\n",
    "###\n",
    "###   Form a data table of X and Y values\n",
    "###\n",
    "#############################################\n",
    "\n",
    "if len(fine_granular_table['image_year'].unique()) == 2:\n",
    "    X = rc.extract_XValues_of_2Yrs_TS(fine_granular_table, SF_yr = SFYr)\n",
    "elif len(fine_granular_table['image_year'].unique()) == 1:\n",
    "    X = fine_granular_table['doy']\n",
    "\n",
    "d = {'DoY': X, 'Date': pd.to_datetime(fine_granular_table.human_system_start_time.values).values}\n",
    "date_df = pd.DataFrame(data=d)\n",
    "\n",
    "min_val_for_being_peak = 0.5\n"
   ]
  },
  {
   "cell_type": "code",
   "execution_count": 12,
   "metadata": {},
   "outputs": [],
   "source": [
    "crr_fld [idx] = SG_pred\n",
    "crr_fld = rc.addToDF_SOS_EOS_White(pd_TS = crr_fld, \n",
    "                                   VegIdx = idx, \n",
    "                                   onset_thresh = onset_cut, \n",
    "                                   offset_thresh = offset_cut)"
   ]
  },
  {
   "cell_type": "code",
   "execution_count": 13,
   "metadata": {},
   "outputs": [],
   "source": [
    "###\n",
    "### Null_SOS_EOS_by_DoYDiff(pd_TS, min_season_length=40)\n",
    "###\n",
    "pd_TS = crr_fld.copy()\n",
    "min_season_length=40"
   ]
  },
  {
   "cell_type": "code",
   "execution_count": 14,
   "metadata": {},
   "outputs": [],
   "source": [
    "pd_TS_DoYDiff = pd_TS.copy()\n",
    "\n",
    "# find indexes of SOS and EOS\n",
    "SOS_indexes = pd_TS_DoYDiff.index[pd_TS_DoYDiff['SOS'] != 0].tolist()\n",
    "EOS_indexes = pd_TS_DoYDiff.index[pd_TS_DoYDiff['EOS'] != 0].tolist()"
   ]
  },
  {
   "cell_type": "code",
   "execution_count": 15,
   "metadata": {},
   "outputs": [
    {
     "data": {
      "text/plain": [
       "[]"
      ]
     },
     "execution_count": 15,
     "metadata": {},
     "output_type": "execute_result"
    }
   ],
   "source": [
    "SOS_indexes"
   ]
  },
  {
   "cell_type": "code",
   "execution_count": 16,
   "metadata": {},
   "outputs": [
    {
     "data": {
      "text/plain": [
       "[168]"
      ]
     },
     "execution_count": 16,
     "metadata": {},
     "output_type": "execute_result"
    }
   ],
   "source": [
    "EOS_indexes"
   ]
  },
  {
   "cell_type": "code",
   "execution_count": 17,
   "metadata": {},
   "outputs": [
    {
     "data": {
      "text/html": [
       "<div>\n",
       "<style scoped>\n",
       "    .dataframe tbody tr th:only-of-type {\n",
       "        vertical-align: middle;\n",
       "    }\n",
       "\n",
       "    .dataframe tbody tr th {\n",
       "        vertical-align: top;\n",
       "    }\n",
       "\n",
       "    .dataframe thead th {\n",
       "        text-align: right;\n",
       "    }\n",
       "</style>\n",
       "<table border=\"1\" class=\"dataframe\">\n",
       "  <thead>\n",
       "    <tr style=\"text-align: right;\">\n",
       "      <th></th>\n",
       "      <th>Date</th>\n",
       "      <th>SF_year</th>\n",
       "      <th>doy</th>\n",
       "      <th>ID</th>\n",
       "      <th>Acres</th>\n",
       "      <th>county</th>\n",
       "      <th>CropGrp</th>\n",
       "      <th>CropTyp</th>\n",
       "      <th>DataSrc</th>\n",
       "      <th>ExctAcr</th>\n",
       "      <th>...</th>\n",
       "      <th>Shp_Lng</th>\n",
       "      <th>TRS</th>\n",
       "      <th>image_year</th>\n",
       "      <th>EVI</th>\n",
       "      <th>human_system_start_time</th>\n",
       "      <th>system_start_time</th>\n",
       "      <th>CovrCrp</th>\n",
       "      <th>EVI_ratio</th>\n",
       "      <th>SOS</th>\n",
       "      <th>EOS</th>\n",
       "    </tr>\n",
       "  </thead>\n",
       "  <tbody>\n",
       "    <tr>\n",
       "      <th>0</th>\n",
       "      <td>2018-01-01</td>\n",
       "      <td>2018</td>\n",
       "      <td>1</td>\n",
       "      <td>1462_WSDA_SF_2018</td>\n",
       "      <td>90</td>\n",
       "      <td>Benton</td>\n",
       "      <td>Seed</td>\n",
       "      <td>bluegrass seed</td>\n",
       "      <td>producer</td>\n",
       "      <td>89.923892</td>\n",
       "      <td>...</td>\n",
       "      <td>2323.623554</td>\n",
       "      <td>T06R25E14</td>\n",
       "      <td>2017</td>\n",
       "      <td>0.904727</td>\n",
       "      <td>2017-01-01</td>\n",
       "      <td>1.514848e+12</td>\n",
       "      <td>NA</td>\n",
       "      <td>0.900310</td>\n",
       "      <td>0.0</td>\n",
       "      <td>0.0</td>\n",
       "    </tr>\n",
       "    <tr>\n",
       "      <th>1</th>\n",
       "      <td>2018-01-02</td>\n",
       "      <td>2018</td>\n",
       "      <td>2</td>\n",
       "      <td>1462_WSDA_SF_2018</td>\n",
       "      <td>90</td>\n",
       "      <td>Benton</td>\n",
       "      <td>Seed</td>\n",
       "      <td>bluegrass seed</td>\n",
       "      <td>producer</td>\n",
       "      <td>89.923892</td>\n",
       "      <td>...</td>\n",
       "      <td>2323.623554</td>\n",
       "      <td>T06R25E14</td>\n",
       "      <td>2017</td>\n",
       "      <td>0.903446</td>\n",
       "      <td>2017-01-02</td>\n",
       "      <td>NaN</td>\n",
       "      <td>NaN</td>\n",
       "      <td>0.898969</td>\n",
       "      <td>0.0</td>\n",
       "      <td>0.0</td>\n",
       "    </tr>\n",
       "  </tbody>\n",
       "</table>\n",
       "<p>2 rows × 26 columns</p>\n",
       "</div>"
      ],
      "text/plain": [
       "        Date  SF_year  doy                 ID  Acres  county CropGrp  \\\n",
       "0 2018-01-01     2018    1  1462_WSDA_SF_2018     90  Benton    Seed   \n",
       "1 2018-01-02     2018    2  1462_WSDA_SF_2018     90  Benton    Seed   \n",
       "\n",
       "          CropTyp   DataSrc    ExctAcr  ...      Shp_Lng        TRS  \\\n",
       "0  bluegrass seed  producer  89.923892  ...  2323.623554  T06R25E14   \n",
       "1  bluegrass seed  producer  89.923892  ...  2323.623554  T06R25E14   \n",
       "\n",
       "  image_year       EVI human_system_start_time  system_start_time  CovrCrp  \\\n",
       "0       2017  0.904727              2017-01-01       1.514848e+12       NA   \n",
       "1       2017  0.903446              2017-01-02                NaN      NaN   \n",
       "\n",
       "  EVI_ratio  SOS  EOS  \n",
       "0  0.900310  0.0  0.0  \n",
       "1  0.898969  0.0  0.0  \n",
       "\n",
       "[2 rows x 26 columns]"
      ]
     },
     "execution_count": 17,
     "metadata": {},
     "output_type": "execute_result"
    }
   ],
   "source": [
    "crr_fld.head(2)"
   ]
  },
  {
   "cell_type": "code",
   "execution_count": 18,
   "metadata": {},
   "outputs": [],
   "source": [
    "crr_fld['Date'] = crr_fld.human_system_start_time\n",
    "crr_fld = rc.Null_SOS_EOS_by_DoYDiff(pd_TS = crr_fld, min_season_length=40)"
   ]
  },
  {
   "cell_type": "code",
   "execution_count": 19,
   "metadata": {},
   "outputs": [],
   "source": [
    "pd_TS_DoYDiff = crr_fld.copy()\n",
    "\n",
    "# find indexes of SOS and EOS\n",
    "SOS_indexes = pd_TS_DoYDiff.index[pd_TS_DoYDiff['SOS'] != 0].tolist()\n",
    "EOS_indexes = pd_TS_DoYDiff.index[pd_TS_DoYDiff['EOS'] != 0].tolist()"
   ]
  },
  {
   "cell_type": "code",
   "execution_count": 20,
   "metadata": {},
   "outputs": [
    {
     "data": {
      "text/plain": [
       "[]"
      ]
     },
     "execution_count": 20,
     "metadata": {},
     "output_type": "execute_result"
    }
   ],
   "source": [
    "SOS_indexes"
   ]
  },
  {
   "cell_type": "code",
   "execution_count": 21,
   "metadata": {},
   "outputs": [
    {
     "data": {
      "text/plain": [
       "[]"
      ]
     },
     "execution_count": 21,
     "metadata": {},
     "output_type": "execute_result"
    }
   ],
   "source": [
    "EOS_indexes"
   ]
  },
  {
   "cell_type": "markdown",
   "metadata": {},
   "source": [
    "# Examine Null_SOS_EOS_by_DoYDiff"
   ]
  },
  {
   "cell_type": "code",
   "execution_count": 111,
   "metadata": {},
   "outputs": [],
   "source": [
    "pd_TS = crr_fld.copy()"
   ]
  },
  {
   "cell_type": "code",
   "execution_count": 124,
   "metadata": {},
   "outputs": [],
   "source": [
    "pd_TS_DoYDiff = pd_TS.copy()\n",
    "\n",
    "# find indexes of SOS and EOS\n",
    "SOS_indexes = pd_TS_DoYDiff.index[pd_TS_DoYDiff['SOS'] != 0].tolist()\n",
    "EOS_indexes = pd_TS_DoYDiff.index[pd_TS_DoYDiff['EOS'] != 0].tolist()"
   ]
  },
  {
   "cell_type": "code",
   "execution_count": 125,
   "metadata": {},
   "outputs": [
    {
     "data": {
      "text/plain": [
       "False"
      ]
     },
     "execution_count": 125,
     "metadata": {},
     "output_type": "execute_result"
    }
   ],
   "source": [
    "len(SOS_indexes) == 0 and len(EOS_indexes) == 0"
   ]
  },
  {
   "cell_type": "code",
   "execution_count": 126,
   "metadata": {},
   "outputs": [
    {
     "data": {
      "text/plain": [
       "[168]"
      ]
     },
     "execution_count": 126,
     "metadata": {},
     "output_type": "execute_result"
    }
   ],
   "source": [
    "EOS_indexes "
   ]
  },
  {
   "cell_type": "code",
   "execution_count": 127,
   "metadata": {},
   "outputs": [
    {
     "data": {
      "text/plain": [
       "[168]"
      ]
     },
     "execution_count": 127,
     "metadata": {},
     "output_type": "execute_result"
    }
   ],
   "source": [
    "EOS_indexes"
   ]
  },
  {
   "cell_type": "code",
   "execution_count": null,
   "metadata": {},
   "outputs": [],
   "source": []
  }
 ],
 "metadata": {
  "kernelspec": {
   "display_name": "Python 3",
   "language": "python",
   "name": "python3"
  },
  "language_info": {
   "codemirror_mode": {
    "name": "ipython",
    "version": 3
   },
   "file_extension": ".py",
   "mimetype": "text/x-python",
   "name": "python",
   "nbconvert_exporter": "python",
   "pygments_lexer": "ipython3",
   "version": "3.7.4"
  }
 },
 "nbformat": 4,
 "nbformat_minor": 2
}
