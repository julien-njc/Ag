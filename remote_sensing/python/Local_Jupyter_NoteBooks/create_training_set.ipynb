{
 "cells": [
  {
   "cell_type": "code",
   "execution_count": 2,
   "metadata": {},
   "outputs": [],
   "source": [
    "# import warnings\n",
    "# warnings.filterwarnings(\"ignore\")\n",
    "\n",
    "import csv\n",
    "import numpy as np\n",
    "import pandas as pd\n",
    "# import geopandas as gpd\n",
    "from IPython.display import Image\n",
    "# from shapely.geometry import Point, Polygon\n",
    "from math import factorial\n",
    "import scipy\n",
    "import scipy.signal\n",
    "import os, os.path\n",
    "\n",
    "from datetime import date\n",
    "import datetime\n",
    "import time\n",
    "\n",
    "from statsmodels.sandbox.regression.predstd import wls_prediction_std\n",
    "from sklearn.linear_model import LinearRegression\n",
    "from patsy import cr\n",
    "\n",
    "# from pprint import pprint\n",
    "import matplotlib.pyplot as plt\n",
    "import seaborn as sb\n",
    "\n",
    "import sys\n",
    "\n",
    "\n",
    "# to move files from one directory to another\n",
    "import shutil"
   ]
  },
  {
   "cell_type": "code",
   "execution_count": 3,
   "metadata": {},
   "outputs": [],
   "source": [
    "sys.path.append('/Users/hn/Documents/00_GitHub/Ag/remote_sensing/python/')\n",
    "import remote_sensing_core as rc\n",
    "import remote_sensing_plot_core as rcp\n",
    "\n",
    "start_time = time.time()"
   ]
  },
  {
   "cell_type": "code",
   "execution_count": 4,
   "metadata": {},
   "outputs": [],
   "source": [
    "data_dir = \"/Users/hn/Documents/01_research_data/remote_sensing/01_Data_part_not_filtered/\"\n",
    "output_dir = \"/Users/hn/Documents/01_research_data/remote_sensing/01_NDVI_TS/70_Cloud/00_Eastern_WA_withYear/2Years/\"\n",
    "param_dir = \"/Users/hn/Documents/00_GitHub/Ag/remote_sensing/parameters/\"\n",
    "\n",
    "double_crop_potens = pd.read_csv(param_dir + \"double_crop_potential_plants.csv\")"
   ]
  },
  {
   "cell_type": "code",
   "execution_count": 5,
   "metadata": {},
   "outputs": [],
   "source": [
    "f_names = [\"WSDA_DataTable_2016.csv\",\n",
    "           \"WSDA_DataTable_2017.csv\",\n",
    "           \"WSDA_DataTable_2018.csv\"]"
   ]
  },
  {
   "cell_type": "code",
   "execution_count": 6,
   "metadata": {},
   "outputs": [
    {
     "name": "stdout",
     "output_type": "stream",
     "text": [
      "total_unique_fields_count is [5422].\n",
      "total_randomly_chosen_fields_count is [621].\n",
      "training_set_2016_NASSOut_JustIrr_PereOut_LastSurveyFiltered_10Perc.csv\n",
      "____________________\n",
      "total_unique_fields_count is [2353].\n",
      "total_randomly_chosen_fields_count is [273].\n",
      "training_set_2017_NASSOut_JustIrr_PereOut_LastSurveyFiltered_10Perc.csv\n",
      "____________________\n",
      "total_unique_fields_count is [4748].\n",
      "total_randomly_chosen_fields_count is [547].\n",
      "training_set_2018_NASSOut_JustIrr_PereOut_LastSurveyFiltered_10Perc.csv\n",
      "____________________\n"
     ]
    }
   ],
   "source": [
    "import random\n",
    "random.seed(10)\n",
    "np.random.seed(10)\n",
    "\n",
    "crop_percentage = 10\n",
    "for aYear_TS in f_names:\n",
    "    trainingSet, outputName = rc.generate_training_set_important_counties(data_dir, \n",
    "                                                                          an_f_name = aYear_TS, \n",
    "                                                                          double_poten_dt = double_crop_potens, \n",
    "                                                                          perc_of_fields_to_pick = crop_percentage,\n",
    "                                                                          NASS_out = True, \n",
    "                                                                          non_Irr_out = True, \n",
    "                                                                          perennials_out = True, \n",
    "                                                                          last_survey = True)\n",
    "    \n",
    "    trainingSet.to_csv(output_dir + outputName, index = False)\n",
    "    print (outputName)\n",
    "    print (\"____________________\")\n",
    "    del(trainingSet, outputName)"
   ]
  },
  {
   "cell_type": "code",
   "execution_count": 7,
   "metadata": {},
   "outputs": [
    {
     "data": {
      "text/plain": [
       "'/Users/hn/Documents/01_research_data/remote_sensing/01_NDVI_TS/70_Cloud/00_Eastern_WA_withYear/2Years/'"
      ]
     },
     "execution_count": 7,
     "metadata": {},
     "output_type": "execute_result"
    }
   ],
   "source": [
    "output_dir"
   ]
  },
  {
   "cell_type": "markdown",
   "metadata": {},
   "source": [
    "# Move the randomly chosen plots to new directory for labeling"
   ]
  },
  {
   "cell_type": "code",
   "execution_count": 99,
   "metadata": {},
   "outputs": [],
   "source": [
    "file_prefix =  \"training_set_\"\n",
    "file_post_fix = \"_NASSOut_JustIrr_PereOut_LastSurveyFiltered_10Perc.csv\"\n",
    "\n",
    "dir_base = \"/Users/hn/Documents/01_research_data/remote_sensing/01_NDVI_TS/70_Cloud/00_Eastern_WA_withYear/2Years/\"\n",
    "file_directory = dir_base + \"ground_truth_tables/\"\n",
    "\n",
    "plot_directory_base = dir_base + \"confusions_plots/plots/plots_fine_granularity/ALLYCF_plots_fine_gran/\"\n",
    "plot_directory_postfix = \"_regular_irrigated_only_EVI_SOS3_EOS3/\"\n",
    "\n"
   ]
  },
  {
   "cell_type": "code",
   "execution_count": 105,
   "metadata": {},
   "outputs": [],
   "source": [
    "years = [2018] # \n",
    "for year in years:\n",
    "    an_f_name = file_prefix + str(year) + file_post_fix    \n",
    "    ground_truth_table = pd.read_csv(file_directory + an_f_name, low_memory=False)\n",
    "    curr_plot_dir_base = plot_directory_base + str(year) + plot_directory_postfix\n",
    "    \n",
    "    for ii in np.arange(len(ground_truth_table.index)):\n",
    "        crop_type = ground_truth_table.CropTyp[ii]\n",
    "        crop_type = crop_type.replace(\", \", \"_\")\n",
    "        crop_type = crop_type.replace(\" \", \"_\")\n",
    "\n",
    "        curr_plot_dir = curr_plot_dir_base + crop_type + \"/\"\n",
    "        \n",
    "        trainint_path = curr_plot_dir + \"ground_truth/\"\n",
    "        os.makedirs(trainint_path, exist_ok=True)\n",
    "        \n",
    "        curr_file_to_move = ground_truth_table.county[ii].replace(\" \", \"_\") + \"_\" + \\\n",
    "                              crop_type + \"_SF_year_\" + str(year) + \"_\" + ground_truth_table.ID[ii] + \".png\"\n",
    "\n",
    "        try:\n",
    "            shutil.move(curr_plot_dir + curr_file_to_move, trainint_path + curr_file_to_move)\n",
    "        except:\n",
    "            print (\"no such a file\")\n",
    "            print (curr_plot_dir + curr_file_to_move)\n"
   ]
  },
  {
   "cell_type": "code",
   "execution_count": 102,
   "metadata": {},
   "outputs": [
    {
     "data": {
      "text/plain": [
       "'Grant'"
      ]
     },
     "execution_count": 102,
     "metadata": {},
     "output_type": "execute_result"
    }
   ],
   "source": [
    "ground_truth_table.county[ii].replace(\" \", \"_\")"
   ]
  },
  {
   "cell_type": "code",
   "execution_count": null,
   "metadata": {},
   "outputs": [],
   "source": []
  },
  {
   "cell_type": "code",
   "execution_count": null,
   "metadata": {},
   "outputs": [],
   "source": []
  },
  {
   "cell_type": "code",
   "execution_count": null,
   "metadata": {},
   "outputs": [],
   "source": []
  },
  {
   "cell_type": "code",
   "execution_count": null,
   "metadata": {},
   "outputs": [],
   "source": []
  },
  {
   "cell_type": "code",
   "execution_count": null,
   "metadata": {},
   "outputs": [],
   "source": []
  }
 ],
 "metadata": {
  "kernelspec": {
   "display_name": "Python 3",
   "language": "python",
   "name": "python3"
  },
  "language_info": {
   "codemirror_mode": {
    "name": "ipython",
    "version": 3
   },
   "file_extension": ".py",
   "mimetype": "text/x-python",
   "name": "python",
   "nbconvert_exporter": "python",
   "pygments_lexer": "ipython3",
   "version": "3.7.4"
  }
 },
 "nbformat": 4,
 "nbformat_minor": 2
}
