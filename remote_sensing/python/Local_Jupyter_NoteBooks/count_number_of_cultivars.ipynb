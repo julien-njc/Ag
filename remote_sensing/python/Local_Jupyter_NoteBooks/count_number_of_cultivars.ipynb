{
 "cells": [
  {
   "cell_type": "code",
   "execution_count": 2,
   "metadata": {},
   "outputs": [],
   "source": [
    "# import warnings\n",
    "# warnings.filterwarnings(\"ignore\")\n",
    "\n",
    "import csv\n",
    "import numpy as np\n",
    "import pandas as pd\n",
    "# import geopandas as gpd\n",
    "from IPython.display import Image\n",
    "# from shapely.geometry import Point, Polygon\n",
    "from math import factorial\n",
    "import scipy\n",
    "import scipy.signal\n",
    "import os, os.path\n",
    "\n",
    "from datetime import date\n",
    "import datetime\n",
    "import time\n",
    "\n",
    "from statsmodels.sandbox.regression.predstd import wls_prediction_std\n",
    "from sklearn.linear_model import LinearRegression\n",
    "from patsy import cr\n",
    "\n",
    "# from pprint import pprint\n",
    "import matplotlib.pyplot as plt\n",
    "import seaborn as sb\n",
    "\n",
    "import sys\n",
    "\n",
    "\n",
    "# to move files from one directory to another\n",
    "import shutil"
   ]
  },
  {
   "cell_type": "code",
   "execution_count": 3,
   "metadata": {},
   "outputs": [],
   "source": [
    "sys.path.append('/Users/hn/Documents/00_GitHub/Ag/remote_sensing/python/')\n",
    "import remote_sensing_core as rc\n",
    "import remote_sensing_plot_core as rcp\n",
    "\n",
    "start_time = time.time()"
   ]
  },
  {
   "cell_type": "code",
   "execution_count": 4,
   "metadata": {},
   "outputs": [],
   "source": [
    "data_dir = \"/Users/hn/Documents/01_research_data/remote_sensing/01_Data_part_not_filtered/\"\n",
    "output_dir = \"/Users/hn/Documents/01_research_data/remote_sensing/01_NDVI_TS/70_Cloud/00_Eastern_WA_withYear/2Years/\"\n",
    "param_dir = \"/Users/hn/Documents/00_GitHub/Ag/remote_sensing/parameters/\"\n",
    "\n",
    "double_crop_potens = pd.read_csv(param_dir + \"double_crop_potential_plants.csv\")"
   ]
  },
  {
   "cell_type": "code",
   "execution_count": 57,
   "metadata": {},
   "outputs": [],
   "source": [
    "f_names = [\"WSDA_DataTable_2015.csv\",\n",
    "           \"WSDA_DataTable_2016.csv\",\n",
    "           \"WSDA_DataTable_2017.csv\",\n",
    "           \"WSDA_DataTable_2018.csv\",]"
   ]
  },
  {
   "cell_type": "code",
   "execution_count": 130,
   "metadata": {},
   "outputs": [],
   "source": [
    "WSDA_2015 = pd.read_csv(data_dir + f_names[0], low_memory=False)\n",
    "WSDA_2016 = pd.read_csv(data_dir + f_names[1], low_memory=False)\n",
    "WSDA_2017 = pd.read_csv(data_dir + f_names[2], low_memory=False)\n",
    "WSDA_2018 = pd.read_csv(data_dir + f_names[3], low_memory=False)"
   ]
  },
  {
   "cell_type": "code",
   "execution_count": 131,
   "metadata": {},
   "outputs": [
    {
     "data": {
      "text/html": [
       "<div>\n",
       "<style scoped>\n",
       "    .dataframe tbody tr th:only-of-type {\n",
       "        vertical-align: middle;\n",
       "    }\n",
       "\n",
       "    .dataframe tbody tr th {\n",
       "        vertical-align: top;\n",
       "    }\n",
       "\n",
       "    .dataframe thead th {\n",
       "        text-align: right;\n",
       "    }\n",
       "</style>\n",
       "<table border=\"1\" class=\"dataframe\">\n",
       "  <thead>\n",
       "    <tr style=\"text-align: right;\">\n",
       "      <th></th>\n",
       "      <th>ID</th>\n",
       "      <th>CropTyp</th>\n",
       "      <th>county</th>\n",
       "    </tr>\n",
       "  </thead>\n",
       "  <tbody>\n",
       "    <tr>\n",
       "      <th>0</th>\n",
       "      <td>1_WSDA_SF_2015</td>\n",
       "      <td>fallow</td>\n",
       "      <td>Clallam</td>\n",
       "    </tr>\n",
       "    <tr>\n",
       "      <th>1</th>\n",
       "      <td>2_WSDA_SF_2015</td>\n",
       "      <td>fallow</td>\n",
       "      <td>Clallam</td>\n",
       "    </tr>\n",
       "    <tr>\n",
       "      <th>2</th>\n",
       "      <td>3_WSDA_SF_2015</td>\n",
       "      <td>wheat</td>\n",
       "      <td>Lewis</td>\n",
       "    </tr>\n",
       "  </tbody>\n",
       "</table>\n",
       "</div>"
      ],
      "text/plain": [
       "               ID CropTyp   county\n",
       "0  1_WSDA_SF_2015  fallow  Clallam\n",
       "1  2_WSDA_SF_2015  fallow  Clallam\n",
       "2  3_WSDA_SF_2015   wheat    Lewis"
      ]
     },
     "execution_count": 131,
     "metadata": {},
     "output_type": "execute_result"
    }
   ],
   "source": [
    "WSDA_2015_2018 = pd.concat([WSDA_2015, WSDA_2016, WSDA_2017, WSDA_2018])\n",
    "WSDA_2015_2018['CropTyp'] = WSDA_2015_2018['CropTyp'].str.lower()\n",
    "\n",
    "WSDA_2015_2018 = WSDA_2015_2018[[\"ID\", \"CropTyp\", \"county\"]]\n",
    "WSDA_2015_2018.head(3)"
   ]
  },
  {
   "cell_type": "code",
   "execution_count": 132,
   "metadata": {},
   "outputs": [],
   "source": [
    "eastern_counties = [\"Okanogan\", \"Chelan\", \"Kittitas\", \"Yakima\", \"Klickitat\", \"Douglas\",\n",
    "                    \"Grant\", \"Benton\", \"Ferry\", \"Lincoln\", \"Adams\", \"Franklin\", \"Walla Walla\",\n",
    "                    \"Pend Oreille\", \"Stevens\", \"Spokane\", \"Whitman\", \"Garfield\", \"Columbia\", \"Asotin\"]\n",
    "\n",
    "Eastern_WSDA_2015_2018 = WSDA_2015_2018[WSDA_2015_2018.county.isin(eastern_counties)].copy()"
   ]
  },
  {
   "cell_type": "code",
   "execution_count": 133,
   "metadata": {},
   "outputs": [
    {
     "data": {
      "text/html": [
       "<div>\n",
       "<style scoped>\n",
       "    .dataframe tbody tr th:only-of-type {\n",
       "        vertical-align: middle;\n",
       "    }\n",
       "\n",
       "    .dataframe tbody tr th {\n",
       "        vertical-align: top;\n",
       "    }\n",
       "\n",
       "    .dataframe thead th {\n",
       "        text-align: right;\n",
       "    }\n",
       "</style>\n",
       "<table border=\"1\" class=\"dataframe\">\n",
       "  <thead>\n",
       "    <tr style=\"text-align: right;\">\n",
       "      <th></th>\n",
       "      <th>ID</th>\n",
       "      <th>CropTyp</th>\n",
       "      <th>county</th>\n",
       "    </tr>\n",
       "  </thead>\n",
       "  <tbody>\n",
       "    <tr>\n",
       "      <th>84233</th>\n",
       "      <td>84234_WSDA_SF_2015</td>\n",
       "      <td>alfalfa hay</td>\n",
       "      <td>Adams</td>\n",
       "    </tr>\n",
       "    <tr>\n",
       "      <th>108327</th>\n",
       "      <td>108328_WSDA_SF_2018</td>\n",
       "      <td>alfalfa hay</td>\n",
       "      <td>Franklin</td>\n",
       "    </tr>\n",
       "  </tbody>\n",
       "</table>\n",
       "</div>"
      ],
      "text/plain": [
       "                         ID      CropTyp    county\n",
       "84233    84234_WSDA_SF_2015  alfalfa hay     Adams\n",
       "108327  108328_WSDA_SF_2018  alfalfa hay  Franklin"
      ]
     },
     "execution_count": 133,
     "metadata": {},
     "output_type": "execute_result"
    }
   ],
   "source": [
    "WSDA_2015_2018.sort_values(by='CropTyp', inplace=True)\n",
    "Eastern_WSDA_2015_2018.sort_values(by='CropTyp', inplace=True)\n",
    "WSDA_2015_2018.head(2)"
   ]
  },
  {
   "cell_type": "code",
   "execution_count": 134,
   "metadata": {},
   "outputs": [
    {
     "name": "stdout",
     "output_type": "stream",
     "text": [
      "No. of unique plants in WA [165].\n",
      "No. of unique plants in Eastern WA [145].\n"
     ]
    }
   ],
   "source": [
    "L = len(np.sort(WSDA_2015_2018.CropTyp.unique()))\n",
    "print (\"No. of unique plants in WA [%(nrow)d].\" % {\"nrow\":L})\n",
    "\n",
    "L = len(np.sort(Eastern_WSDA_2015_2018.CropTyp.unique()))\n",
    "print (\"No. of unique plants in Eastern WA [%(nrow)d].\" % {\"nrow\":L})"
   ]
  },
  {
   "cell_type": "code",
   "execution_count": 137,
   "metadata": {},
   "outputs": [],
   "source": [
    "output_dir = \"/Users/hn/Documents/00_GitHub/Ag/remote_sensing/parameters/\"\n",
    "outputName = \"unique_cultivars_WA.csv\"\n",
    "\n",
    "unique_cultivars_WA = WSDA_2015_2018.copy()\n",
    "unique_cultivars_WA = unique_cultivars_WA[['CropTyp']]\n",
    "unique_cultivars_WA.drop_duplicates(inplace=True)\n",
    "\n",
    "unique_cultivars_WA.to_csv( output_dir + outputName, index = False)"
   ]
  },
  {
   "cell_type": "code",
   "execution_count": 109,
   "metadata": {},
   "outputs": [],
   "source": [
    "# np.sort(WSDA_2015_2018.CropTyp.unique())"
   ]
  },
  {
   "cell_type": "code",
   "execution_count": 124,
   "metadata": {},
   "outputs": [],
   "source": [
    "param_dir = \"/Users/hn/Documents/00_GitHub/Ag/remote_sensing/parameters/\"\n",
    "\n",
    "double_crop_potens = pd.read_csv(param_dir + \"double_crop_potential_plants.csv\")"
   ]
  },
  {
   "cell_type": "code",
   "execution_count": 125,
   "metadata": {},
   "outputs": [
    {
     "data": {
      "text/html": [
       "<div>\n",
       "<style scoped>\n",
       "    .dataframe tbody tr th:only-of-type {\n",
       "        vertical-align: middle;\n",
       "    }\n",
       "\n",
       "    .dataframe tbody tr th {\n",
       "        vertical-align: top;\n",
       "    }\n",
       "\n",
       "    .dataframe thead th {\n",
       "        text-align: right;\n",
       "    }\n",
       "</style>\n",
       "<table border=\"1\" class=\"dataframe\">\n",
       "  <thead>\n",
       "    <tr style=\"text-align: right;\">\n",
       "      <th></th>\n",
       "      <th>Crop_Type</th>\n",
       "      <th>Category</th>\n",
       "    </tr>\n",
       "  </thead>\n",
       "  <tbody>\n",
       "    <tr>\n",
       "      <th>0</th>\n",
       "      <td>artichoke</td>\n",
       "      <td>Annual</td>\n",
       "    </tr>\n",
       "    <tr>\n",
       "      <th>1</th>\n",
       "      <td>barley</td>\n",
       "      <td>Annual</td>\n",
       "    </tr>\n",
       "  </tbody>\n",
       "</table>\n",
       "</div>"
      ],
      "text/plain": [
       "   Crop_Type Category\n",
       "0  artichoke   Annual\n",
       "1     barley   Annual"
      ]
     },
     "execution_count": 125,
     "metadata": {},
     "output_type": "execute_result"
    }
   ],
   "source": [
    "double_crop_potens.head(2)"
   ]
  },
  {
   "cell_type": "code",
   "execution_count": null,
   "metadata": {},
   "outputs": [],
   "source": []
  },
  {
   "cell_type": "code",
   "execution_count": 126,
   "metadata": {},
   "outputs": [],
   "source": [
    "WSDA_2015_2018 = WSDA_2015_2018[WSDA_2015_2018.CropTyp.isin(double_crop_potens.Crop_Type)]\n",
    "Eastern_WSDA_2015_2018 = Eastern_WSDA_2015_2018[Eastern_WSDA_2015_2018.CropTyp.isin(double_crop_potens.Crop_Type)]"
   ]
  },
  {
   "cell_type": "code",
   "execution_count": 127,
   "metadata": {},
   "outputs": [
    {
     "name": "stdout",
     "output_type": "stream",
     "text": [
      "No. of unique plants in WA [100].\n",
      "No. of unique plants in Eastern WA [89].\n"
     ]
    }
   ],
   "source": [
    "L = len(np.sort(WSDA_2015_2018.CropTyp.unique()))\n",
    "print (\"No. of unique plants in WA [%(nrow)d].\" % {\"nrow\":L})\n",
    "\n",
    "L = len(np.sort(Eastern_WSDA_2015_2018.CropTyp.unique()))\n",
    "print (\"No. of unique plants in Eastern WA [%(nrow)d].\" % {\"nrow\":L})"
   ]
  },
  {
   "cell_type": "code",
   "execution_count": 128,
   "metadata": {},
   "outputs": [
    {
     "data": {
      "text/plain": [
       "100"
      ]
     },
     "execution_count": 128,
     "metadata": {},
     "output_type": "execute_result"
    }
   ],
   "source": []
  },
  {
   "cell_type": "code",
   "execution_count": null,
   "metadata": {},
   "outputs": [],
   "source": []
  }
 ],
 "metadata": {
  "kernelspec": {
   "display_name": "Python 3",
   "language": "python",
   "name": "python3"
  },
  "language_info": {
   "codemirror_mode": {
    "name": "ipython",
    "version": 3
   },
   "file_extension": ".py",
   "mimetype": "text/x-python",
   "name": "python",
   "nbconvert_exporter": "python",
   "pygments_lexer": "ipython3",
   "version": "3.7.4"
  }
 },
 "nbformat": 4,
 "nbformat_minor": 2
}
