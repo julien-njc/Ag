{
 "cells": [
  {
   "cell_type": "code",
   "execution_count": 1,
   "id": "9c122057",
   "metadata": {},
   "outputs": [],
   "source": [
    "import csv\n",
    "import numpy as np\n",
    "import pandas as pd\n",
    "from math import factorial\n",
    "\n",
    "import datetime\n",
    "from datetime import date\n",
    "import datetime\n",
    "import time\n",
    "\n",
    "import scipy\n",
    "import os, os.path\n",
    "from os import listdir\n",
    "from os.path import isfile, join\n",
    "\n",
    "import re\n",
    "# from pprint import pprint\n",
    "import matplotlib.pyplot as plt\n",
    "import matplotlib.dates as mdates\n",
    "import seaborn as sb\n",
    "\n",
    "import sys\n",
    "\n",
    "\n",
    "# search path for modules\n",
    "# look @ https://stackoverflow.com/questions/67631/how-to-import-a-module-given-the-full-path\n",
    "sys.path.append('/Users/hn/Documents/00_GitHub/Ag/NASA/Python_codes/')\n",
    "import NASA_core as nc\n",
    "import NASA_plot_core as npc"
   ]
  },
  {
   "cell_type": "markdown",
   "id": "07a1ba28",
   "metadata": {},
   "source": [
    "### Set up directories"
   ]
  },
  {
   "cell_type": "code",
   "execution_count": 2,
   "id": "68cc5399",
   "metadata": {},
   "outputs": [],
   "source": [
    "data_dir = \"/Users/hn/Documents/01_research_data/NASA/VI_TS/sixth_investig_intersected/\""
   ]
  },
  {
   "cell_type": "code",
   "execution_count": 3,
   "id": "aa4359be",
   "metadata": {},
   "outputs": [],
   "source": [
    "L5 = pd.read_csv(data_dir + \"L5_T1C2L2_Scaled_intGrant_2008-01-01_2012-05-05.csv\")\n",
    "L7 = pd.read_csv(data_dir + \"L7_T1C2L2_Scaled_intGrant_2008-01-01_2021-09-23.csv\")\n",
    "L8 = pd.read_csv(data_dir + \"L8_T1C2L2_Scaled_intGrant_2008-01-01_2021-10-14.csv\")"
   ]
  },
  {
   "cell_type": "code",
   "execution_count": 4,
   "id": "94791b92",
   "metadata": {},
   "outputs": [],
   "source": [
    "IDs = np.sort(L5.ID.unique())"
   ]
  },
  {
   "cell_type": "code",
   "execution_count": 5,
   "id": "0ef373ea",
   "metadata": {},
   "outputs": [],
   "source": [
    "L578 = pd.concat([L5, L7, L8])\n",
    "# del(L5, L7, L8)"
   ]
  },
  {
   "cell_type": "code",
   "execution_count": 6,
   "id": "08bcf608",
   "metadata": {},
   "outputs": [],
   "source": [
    "import random\n",
    "\n",
    "random.seed(10)\n",
    "np.random.seed(10)"
   ]
  },
  {
   "cell_type": "markdown",
   "id": "a636054c",
   "metadata": {},
   "source": [
    "## Pick 100 random fields."
   ]
  },
  {
   "cell_type": "code",
   "execution_count": 7,
   "id": "5441657b",
   "metadata": {},
   "outputs": [],
   "source": [
    "rand_lst = list(np.random.choice(IDs, 100))"
   ]
  },
  {
   "cell_type": "code",
   "execution_count": 8,
   "id": "f7909880",
   "metadata": {},
   "outputs": [
    {
     "data": {
      "text/plain": [
       "(321500, 5)"
      ]
     },
     "execution_count": 8,
     "metadata": {},
     "output_type": "execute_result"
    }
   ],
   "source": [
    "L578 = L578[L578.ID.isin(rand_lst)].copy()\n",
    "L578.shape"
   ]
  },
  {
   "cell_type": "code",
   "execution_count": 9,
   "id": "312a10e9",
   "metadata": {},
   "outputs": [
    {
     "data": {
      "text/html": [
       "<div>\n",
       "<style scoped>\n",
       "    .dataframe tbody tr th:only-of-type {\n",
       "        vertical-align: middle;\n",
       "    }\n",
       "\n",
       "    .dataframe tbody tr th {\n",
       "        vertical-align: top;\n",
       "    }\n",
       "\n",
       "    .dataframe thead th {\n",
       "        text-align: right;\n",
       "    }\n",
       "</style>\n",
       "<table border=\"1\" class=\"dataframe\">\n",
       "  <thead>\n",
       "    <tr style=\"text-align: right;\">\n",
       "      <th></th>\n",
       "      <th>ID</th>\n",
       "      <th>county</th>\n",
       "      <th>EVI</th>\n",
       "      <th>NDVI</th>\n",
       "      <th>system_start_time</th>\n",
       "    </tr>\n",
       "  </thead>\n",
       "  <tbody>\n",
       "    <tr>\n",
       "      <th>37</th>\n",
       "      <td>117363</td>\n",
       "      <td>Grant</td>\n",
       "      <td>NaN</td>\n",
       "      <td>NaN</td>\n",
       "      <td>NaN</td>\n",
       "    </tr>\n",
       "    <tr>\n",
       "      <th>48</th>\n",
       "      <td>115649</td>\n",
       "      <td>Grant</td>\n",
       "      <td>NaN</td>\n",
       "      <td>NaN</td>\n",
       "      <td>NaN</td>\n",
       "    </tr>\n",
       "  </tbody>\n",
       "</table>\n",
       "</div>"
      ],
      "text/plain": [
       "        ID county  EVI  NDVI  system_start_time\n",
       "37  117363  Grant  NaN   NaN                NaN\n",
       "48  115649  Grant  NaN   NaN                NaN"
      ]
     },
     "execution_count": 9,
     "metadata": {},
     "output_type": "execute_result"
    }
   ],
   "source": [
    "L578.head(2)"
   ]
  },
  {
   "cell_type": "code",
   "execution_count": 10,
   "id": "7f59f5a8",
   "metadata": {},
   "outputs": [],
   "source": [
    "size = 20\n",
    "title_FontSize = 10\n",
    "legend_FontSize = 14\n",
    "tick_FontSize = 18\n",
    "label_FontSize = 14\n",
    "\n",
    "params = {'legend.fontsize': 17,\n",
    "          'figure.figsize': (6, 4),\n",
    "          'axes.labelsize': size,\n",
    "          'axes.titlesize': size,\n",
    "          'xtick.labelsize': size * 0.75,\n",
    "          'ytick.labelsize': size * 0.75,\n",
    "          'axes.titlepad': 10}\n",
    "\n",
    "#\n",
    "#  Once set, you cannot change them, unless restart the notebook\n",
    "#\n",
    "plt.rc('font', family = 'Palatino')\n",
    "plt.rcParams['xtick.bottom'] = True\n",
    "plt.rcParams['ytick.left'] = True\n",
    "plt.rcParams['xtick.labelbottom'] = True\n",
    "plt.rcParams['ytick.labelleft'] = True\n",
    "plt.rcParams.update(params)\n",
    "# pylab.rcParams.update(params)\n",
    "# plt.rc('text', usetex=True)\n"
   ]
  },
  {
   "cell_type": "code",
   "execution_count": 18,
   "id": "30f231db",
   "metadata": {},
   "outputs": [
    {
     "name": "stdout",
     "output_type": "stream",
     "text": [
      "116695\n",
      "295093\n"
     ]
    }
   ],
   "source": [
    "for an_ID in rand_lst:\n",
    "    curr_NDVI = L578[L578.ID == an_ID].copy()\n",
    "    curr_NDVI.drop(['EVI'], axis=1, inplace=True)\n",
    "    curr_NDVI = curr_NDVI[curr_NDVI['NDVI'].notna()]\n",
    "    curr_NDVI = nc.add_human_start_time_by_system_start_time(curr_NDVI)\n",
    "    \n",
    "    curr_EVI = L578[L578.ID == an_ID].copy()\n",
    "    curr_EVI.drop(['NDVI'], axis=1, inplace=True)\n",
    "    curr_EVI = curr_EVI[curr_EVI['EVI'].notna()]\n",
    "    curr_EVI = nc.add_human_start_time_by_system_start_time(curr_EVI)\n",
    "    \n",
    "    curr_NDVI.sort_values(by='human_system_start_time', axis=0, ascending=True, inplace=True)\n",
    "    curr_NDVI.reset_index(drop=True, inplace=True)\n",
    "    \n",
    "    curr_EVI.sort_values(by='human_system_start_time', axis=0, ascending=True, inplace=True)\n",
    "    curr_EVI.reset_index(drop=True, inplace=True)\n",
    "    \n",
    "    if curr_NDVI.shape[0] == 0: \n",
    "        print (an_ID)\n",
    "    \n",
    "    if curr_NDVI.shape[0] > 0:\n",
    "        if curr_EVI.shape[0] > 0:\n",
    "            ##################################\n",
    "            ################################## Remove boundary violations\n",
    "            ################################## This does not happen in NDVI! Just sanity check\n",
    "            ##################################\n",
    "            curr_NDVI.loc[curr_NDVI['NDVI'] > 1, \"NDVI\"]  = 1\n",
    "            curr_NDVI.loc[curr_NDVI['NDVI'] < -1, \"NDVI\"] = -1\n",
    "\n",
    "            #####\n",
    "            #####   Clip or Remove or Interpolate\n",
    "            #####\n",
    "            # curr_EVI.loc[curr_EVI['EVI'] > 1, \"EVI\"]  = 1\n",
    "            # curr_EVI.loc[curr_EVI['EVI'] < -1, \"EVI\"] = -1\n",
    "            \n",
    "            curr_EVI.drop(curr_EVI[curr_EVI.EVI > 1].index, inplace=True)\n",
    "            curr_EVI.drop(curr_EVI[curr_EVI.EVI < -1].index, inplace=True)\n",
    "            \n",
    "            curr_NDVI.reset_index(drop=True, inplace=True)\n",
    "            curr_EVI.reset_index(drop=True, inplace=True)\n",
    "            \n",
    "            ##################################\n",
    "            ################################## Correct big jumps\n",
    "            ##################################\n",
    "            NDVI_NoJump = nc.correct_big_jumps_1DaySeries(dataTMS_jumpie = curr_NDVI, \n",
    "                                                          give_col = \"NDVI\", \n",
    "                                                          maxjump_perDay = 0.018)\n",
    "\n",
    "            EVI_NoJump = nc.correct_big_jumps_1DaySeries(dataTMS_jumpie = curr_EVI, \n",
    "                                                         give_col = \"EVI\", \n",
    "                                                         maxjump_perDay = 0.018)\n",
    "\n",
    "            NDVI_NoJump.reset_index(drop=True, inplace=True)\n",
    "            EVI_NoJump.reset_index(drop=True, inplace=True)\n",
    "\n",
    "            ##################################\n",
    "            ################################## Set Negatives to zero\n",
    "            ##################################\n",
    "            NDVI_NoJump.loc[NDVI_NoJump['NDVI'] < 0, \"NDVI\"] = 0\n",
    "            EVI_NoJump.loc[EVI_NoJump['EVI'] < 0, \"EVI\"] = 0\n",
    "\n",
    "            ##################################\n",
    "            ################################## Regularize (10-day composite) and do SG\n",
    "            ##################################\n",
    "            step_size = 10\n",
    "\n",
    "            NDVI_NoJump['dataset'] = 'L578'\n",
    "            NDVI_NoJump = nc.regularize_a_field(a_df = NDVI_NoJump, \n",
    "                                               V_idks = 'NDVI', \n",
    "                                               interval_size = step_size)\n",
    "\n",
    "            NDVI_NoJump = nc.fill_theGap_linearLine(NDVI_NoJump, V_idx='NDVI')\n",
    "\n",
    "\n",
    "            EVI_NoJump['dataset'] = 'L578'\n",
    "            EVI_NoJump = nc.regularize_a_field(a_df = EVI_NoJump, \n",
    "                                               V_idks = 'EVI', \n",
    "                                               interval_size = step_size)\n",
    "\n",
    "            EVI_NoJump = nc.fill_theGap_linearLine(EVI_NoJump, V_idx='EVI')\n",
    "\n",
    "            SG = scipy.signal.savgol_filter(NDVI_NoJump['NDVI'].values, window_length=7, polyorder=3)\n",
    "            SG[SG > 1 ] = 1     # SG might violate the boundaries. clip them:\n",
    "            SG[SG < -1 ] = -1\n",
    "            NDVI_NoJump['NDVI'] = SG    \n",
    "\n",
    "            SG = scipy.signal.savgol_filter(EVI_NoJump['EVI'].values, window_length=7, polyorder=3)\n",
    "            SG[SG > 1 ] = 1     # SG might violate the boundaries. clip them:\n",
    "            SG[SG < -1 ] = -1\n",
    "            EVI_NoJump['EVI'] = SG\n",
    "\n",
    "            ##########\n",
    "            ##########\n",
    "            ##########\n",
    "            fig, axs = plt.subplots(2, 1, figsize=(40, 8),\n",
    "                                sharex='col', sharey='row',\n",
    "                                gridspec_kw={'hspace': 0.2, 'wspace': .1});\n",
    "\n",
    "            (ax1, ax2) = axs;\n",
    "            ax1.grid(True); ax2.grid(True)\n",
    "\n",
    "            ax1.plot(curr_NDVI['human_system_start_time'], curr_NDVI['NDVI'], '-', label = \"raw NDVI\", \n",
    "                    linewidth=2, color='dodgerblue')\n",
    "\n",
    "            ax1.plot(curr_EVI['human_system_start_time'], curr_EVI['EVI'], '-', label = \"raw EVI\", \n",
    "                    linewidth=2, color='red')\n",
    "\n",
    "            ax2.plot(NDVI_NoJump['human_system_start_time'], NDVI_NoJump['NDVI'], '-', label = \"SG NDVI\", \n",
    "                    linewidth=2, color='dodgerblue')\n",
    "\n",
    "            ax2.plot(EVI_NoJump['human_system_start_time'], EVI_NoJump['EVI'], '-', label = \"SG EVI\", \n",
    "                    linewidth=2, color='red')\n",
    "\n",
    "            ax1.xaxis.set_major_locator(mdates.YearLocator(1)) # every year.\n",
    "            ax2.xaxis.set_major_locator(mdates.YearLocator(1)) # every year.\n",
    "            ax1.set_ylim(-1, 1)\n",
    "            ax2.set_ylim(-1, 1)\n",
    "            ax1.legend(loc=\"upper left\");\n",
    "            ax2.legend(loc=\"upper left\");\n",
    "\n",
    "            plot_dir = data_dir + \"NDVI_vs_EVI/\"\n",
    "            if not os.path.exists(plot_dir):\n",
    "                os.makedirs(plot_dir)\n",
    "\n",
    "            file_name = plot_dir + str(an_ID) + \".pdf\"\n",
    "            # plt.savefig(fname = file_name, dpi=400, bbox_inches='tight', transparent=False)\n",
    "            plt.close()"
   ]
  },
  {
   "cell_type": "code",
   "execution_count": null,
   "id": "6d427ef9",
   "metadata": {},
   "outputs": [],
   "source": []
  },
  {
   "cell_type": "code",
   "execution_count": null,
   "id": "810559bd",
   "metadata": {},
   "outputs": [],
   "source": []
  },
  {
   "cell_type": "code",
   "execution_count": null,
   "id": "d2b74ac5",
   "metadata": {},
   "outputs": [],
   "source": []
  },
  {
   "cell_type": "code",
   "execution_count": null,
   "id": "63f44289",
   "metadata": {},
   "outputs": [],
   "source": []
  },
  {
   "cell_type": "code",
   "execution_count": null,
   "id": "556529f5",
   "metadata": {},
   "outputs": [],
   "source": []
  }
 ],
 "metadata": {
  "kernelspec": {
   "display_name": "Python 3 (ipykernel)",
   "language": "python",
   "name": "python3"
  },
  "language_info": {
   "codemirror_mode": {
    "name": "ipython",
    "version": 3
   },
   "file_extension": ".py",
   "mimetype": "text/x-python",
   "name": "python",
   "nbconvert_exporter": "python",
   "pygments_lexer": "ipython3",
   "version": "3.9.12"
  }
 },
 "nbformat": 4,
 "nbformat_minor": 5
}
