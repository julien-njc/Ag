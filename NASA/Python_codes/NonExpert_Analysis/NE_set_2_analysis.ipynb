{
 "cells": [
  {
   "cell_type": "code",
   "execution_count": 1,
   "id": "d2278586",
   "metadata": {},
   "outputs": [],
   "source": [
    "import numpy as np\n",
    "import pandas as pd\n",
    "import csv\n",
    "\n",
    "import os, os.path\n",
    "import sys\n",
    "\n",
    "# to move files from one directory to another\n",
    "import shutil"
   ]
  },
  {
   "cell_type": "code",
   "execution_count": 2,
   "id": "f4883cb0",
   "metadata": {},
   "outputs": [],
   "source": [
    "param_dir = \"/Users/hn/Documents/01_research_data/NASA/parameters/\"\n",
    "non_expert_chosen_fields_dir = param_dir + \"nonExpert_set2_fields/\"\n",
    "\n",
    "plots_dir = \"/Users/hn/Documents/01_research_data/NASA/snapshots/TS/06_snapshot_flat_PNG/\""
   ]
  },
  {
   "cell_type": "code",
   "execution_count": 3,
   "id": "0d9cab48",
   "metadata": {},
   "outputs": [
    {
     "name": "stdout",
     "output_type": "stream",
     "text": [
      "There are [1429] questions.\n"
     ]
    }
   ],
   "source": [
    "chosen_fields = pd.read_csv(non_expert_chosen_fields_dir+\"nonExpert_survey2_fields.csv\")\n",
    "\n",
    "print('There are [{ques_count}] questions.'.format(ques_count=chosen_fields.shape[0]))"
   ]
  },
  {
   "cell_type": "code",
   "execution_count": 4,
   "id": "e93b11d5",
   "metadata": {},
   "outputs": [
    {
     "data": {
      "text/plain": [
       "Index(['ID', 'NDVI_TS_Name', 'corrected_RGB', 'TOA_RGB', 'latitude',\n",
       "       'longitude', 'Question Text', 'CropTyp', 'Irrigtn', 'DataSrc', 'Acres',\n",
       "       'ExctAcr', 'LstSrvD', 'county'],\n",
       "      dtype='object')"
      ]
     },
     "execution_count": 4,
     "metadata": {},
     "output_type": "execute_result"
    }
   ],
   "source": [
    "chosen_fields.columns"
   ]
  },
  {
   "cell_type": "code",
   "execution_count": 5,
   "id": "37e3a1a0",
   "metadata": {},
   "outputs": [],
   "source": [
    "bad_cols = ['corrected_RGB', 'TOA_RGB', 'Question Text']\n",
    "chosen_fields.drop(labels=bad_cols, axis=1, inplace=True)"
   ]
  },
  {
   "cell_type": "code",
   "execution_count": 6,
   "id": "d431cfe9",
   "metadata": {},
   "outputs": [
    {
     "name": "stdout",
     "output_type": "stream",
     "text": [
      "['NE_S2_F1', 'NE_S2_F2', 'NE_S2_F3', 'NE_S2_F4', 'NE_S2_F5', 'NE_S2_F6', 'NE_S2_F7', 'NE_S2_F8', 'NE_S2_F9', 'NE_S2_F10', 'NE_S2_F11', 'NE_S2_F12', 'NE_S2_F13', 'NE_S2_F14', 'NE_S2_F15', 'NE_S2_F16', 'NE_S2_F17', 'NE_S2_F18', 'NE_S2_F19', 'NE_S2_F20', 'NE_S2_F21', 'NE_S2_F22', 'NE_S2_F23', 'NE_S2_F24']\n"
     ]
    }
   ],
   "source": [
    "response_set_xl = pd.ExcelFile(non_expert_chosen_fields_dir + \"nonExpert_survey2_responses.xlsx\")\n",
    "response_set_sheet_names = response_set_xl.sheet_names  # see all sheet names\n",
    "# response_set_sheet_names = [x for x in response_set_sheet_names if 'Set 2' in x]\n",
    "# response_set_sheet_names = sorted(response_set_sheet_names)\n",
    "print (response_set_sheet_names)"
   ]
  },
  {
   "cell_type": "markdown",
   "id": "e0eeeb79",
   "metadata": {},
   "source": [
    "# Read all the responses\n",
    "\n",
    "Read and concatenate all the responses. Add the ID to each row as well."
   ]
  },
  {
   "cell_type": "code",
   "execution_count": 7,
   "id": "4668143c",
   "metadata": {},
   "outputs": [],
   "source": [
    "# sample_response = response_set_xl.parse(response_set_sheet_names[3])\n",
    "# sample_response = sample_response.drop(columns=['Timestamp'])\n",
    "# sample_response\n",
    "# no_questions = (sample_response.shape[1]-1) // 3\n",
    "# no_questions"
   ]
  },
  {
   "cell_type": "code",
   "execution_count": 8,
   "id": "a47ae0d6",
   "metadata": {},
   "outputs": [
    {
     "data": {
      "text/plain": [
       "1429"
      ]
     },
     "execution_count": 8,
     "metadata": {},
     "output_type": "execute_result"
    }
   ],
   "source": [
    "question_count = chosen_fields.shape[0]\n",
    "question_count"
   ]
  },
  {
   "cell_type": "code",
   "execution_count": 179,
   "id": "7e951785",
   "metadata": {},
   "outputs": [
    {
     "data": {
      "text/html": [
       "<div>\n",
       "<style scoped>\n",
       "    .dataframe tbody tr th:only-of-type {\n",
       "        vertical-align: middle;\n",
       "    }\n",
       "\n",
       "    .dataframe tbody tr th {\n",
       "        vertical-align: top;\n",
       "    }\n",
       "\n",
       "    .dataframe thead th {\n",
       "        text-align: right;\n",
       "    }\n",
       "</style>\n",
       "<table border=\"1\" class=\"dataframe\">\n",
       "  <thead>\n",
       "    <tr style=\"text-align: right;\">\n",
       "      <th></th>\n",
       "      <th>ID</th>\n",
       "      <th>Set</th>\n",
       "      <th>Form</th>\n",
       "      <th>Question</th>\n",
       "      <th>HosseinV</th>\n",
       "      <th>KirtiV</th>\n",
       "      <th>MichaelV</th>\n",
       "      <th>SupriyaV</th>\n",
       "      <th>HosseinD</th>\n",
       "      <th>KirtiD</th>\n",
       "      <th>MichaelD</th>\n",
       "      <th>SupriyaD</th>\n",
       "      <th>HosseinC</th>\n",
       "      <th>KirtiC</th>\n",
       "      <th>MichaelC</th>\n",
       "      <th>SupriyaC</th>\n",
       "    </tr>\n",
       "  </thead>\n",
       "  <tbody>\n",
       "    <tr>\n",
       "      <th>0</th>\n",
       "      <td>101534_WSDA_SF_2018</td>\n",
       "      <td>S2</td>\n",
       "      <td>1</td>\n",
       "      <td>1</td>\n",
       "      <td>Single</td>\n",
       "      <td>NaN</td>\n",
       "      <td>NaN</td>\n",
       "      <td>NaN</td>\n",
       "      <td>NaN</td>\n",
       "      <td>NaN</td>\n",
       "      <td>NaN</td>\n",
       "      <td>NaN</td>\n",
       "      <td>NaN</td>\n",
       "      <td>NaN</td>\n",
       "      <td>NaN</td>\n",
       "      <td>NaN</td>\n",
       "    </tr>\n",
       "    <tr>\n",
       "      <th>1</th>\n",
       "      <td>108118_WSDA_SF_2017</td>\n",
       "      <td>S2</td>\n",
       "      <td>1</td>\n",
       "      <td>2</td>\n",
       "      <td>Single</td>\n",
       "      <td>NaN</td>\n",
       "      <td>NaN</td>\n",
       "      <td>NaN</td>\n",
       "      <td>NaN</td>\n",
       "      <td>NaN</td>\n",
       "      <td>NaN</td>\n",
       "      <td>NaN</td>\n",
       "      <td>NaN</td>\n",
       "      <td>NaN</td>\n",
       "      <td>NaN</td>\n",
       "      <td>NaN</td>\n",
       "    </tr>\n",
       "  </tbody>\n",
       "</table>\n",
       "</div>"
      ],
      "text/plain": [
       "                    ID Set Form Question HosseinV KirtiV MichaelV SupriyaV  \\\n",
       "0  101534_WSDA_SF_2018  S2    1        1   Single    NaN      NaN      NaN   \n",
       "1  108118_WSDA_SF_2017  S2    1        2   Single    NaN      NaN      NaN   \n",
       "\n",
       "  HosseinD KirtiD MichaelD SupriyaD HosseinC KirtiC MichaelC SupriyaC  \n",
       "0      NaN    NaN      NaN      NaN      NaN    NaN      NaN      NaN  \n",
       "1      NaN    NaN      NaN      NaN      NaN    NaN      NaN      NaN  "
      ]
     },
     "execution_count": 179,
     "metadata": {},
     "output_type": "execute_result"
    }
   ],
   "source": [
    "response_cols = [\"ID\", \"Set\", \"Form\", \"Question\",\n",
    "                 \"HosseinV\", \"KirtiV\", \"MichaelV\", \"SupriyaV\",\n",
    "                 \"HosseinD\", \"KirtiD\", \"MichaelD\", \"SupriyaD\",\n",
    "                 \"HosseinC\", \"KirtiC\", \"MichaelC\", \"SupriyaC\"]\n",
    "\n",
    "all_responses = pd.DataFrame(columns=response_cols, \n",
    "                             index=range(question_count))\n",
    "\n",
    "\n",
    "row_number = -1\n",
    "for response_sheet_name in response_set_sheet_names:\n",
    "    sample_response = response_set_xl.parse(response_sheet_name)\n",
    "    sample_response = sample_response.drop(columns=['Timestamp'])\n",
    "    number_of_questions = (sample_response.shape[1]-1)//3\n",
    "    \n",
    "    for question_number in range(1, number_of_questions+1):\n",
    "        # list(curr_tbl.columns)[1].split(\"(\")[1].split(\")\")[0]\n",
    "        row_number+=1\n",
    "        \n",
    "        # Pick columns corresponding to current question!\n",
    "        col_start = (question_number*3)-2\n",
    "        curr_tbl = sample_response.iloc[:, [0, col_start, col_start+1, col_start+2]].copy()\n",
    "\n",
    "        #  enter the Set number\n",
    "        ID = curr_tbl.columns[1].split(\"(\")[1].split(\")\")[0]\n",
    "        all_responses.loc[row_number, \"ID\"]=ID\n",
    "        all_responses.loc[row_number, \"Set\"]=response_sheet_name.split(\"_\")[1]\n",
    "                 #response_sheet_name.split(\"_\")[2]\n",
    "        all_responses.loc[row_number, \"Form\"]=int(response_sheet_name.split(\"_\")[2][1:]) \n",
    "        all_responses.loc[row_number, \"Question\"]=curr_tbl.columns[1].split(\" \")[1]\n",
    "\n",
    "        for email in sample_response[\"Email Address\"].values:\n",
    "            if \"noorazar\" in email:\n",
    "                # Hossein\n",
    "                all_responses.loc[row_number, \"HosseinV\"]=curr_tbl[curr_tbl[\"Email Address\"]==email].values[0][1]\n",
    "                all_responses.loc[row_number, \"HosseinD\"]=curr_tbl[curr_tbl[\"Email Address\"]==email].values[0][2]\n",
    "                all_responses.loc[row_number, \"HosseinC\"]=curr_tbl[curr_tbl[\"Email Address\"]==email].values[0][3]\n",
    "            elif \"brady\" in email:\n",
    "                # Michael\n",
    "                all_responses.loc[row_number, \"MichaelV\"]=curr_tbl[curr_tbl[\"Email Address\"]==email].values[0][1]\n",
    "                all_responses.loc[row_number, \"MichaelD\"]=curr_tbl[curr_tbl[\"Email Address\"]==email].values[0][2]\n",
    "                all_responses.loc[row_number, \"MichaelC\"]=curr_tbl[curr_tbl[\"Email Address\"]==email].values[0][3]\n",
    "                \n",
    "            elif \"kirti\" in email:\n",
    "                # Kirti\n",
    "                all_responses.loc[row_number, \"KirtiV\"]=curr_tbl[curr_tbl[\"Email Address\"]==email].values[0][1]\n",
    "                all_responses.loc[row_number, \"KirtiD\"]=curr_tbl[curr_tbl[\"Email Address\"]==email].values[0][2]\n",
    "                all_responses.loc[row_number, \"KirtiC\"]=curr_tbl[curr_tbl[\"Email Address\"]==email].values[0][3]\n",
    "                \n",
    "            elif \"sup\" in email:\n",
    "                # Supriya\n",
    "                # print (curr_tbl[curr_tbl[\"Email Address\"]==email].values[0][1])\n",
    "                all_responses.loc[row_number, \"SupriyaV\"]=curr_tbl[curr_tbl[\"Email Address\"]==email].values[0][1]\n",
    "                all_responses.loc[row_number, \"SupriyaD\"]=curr_tbl[curr_tbl[\"Email Address\"]==email].values[0][2]\n",
    "                all_responses.loc[row_number, \"SupriyaC\"]=curr_tbl[curr_tbl[\"Email Address\"]==email].values[0][3]\n",
    "\n",
    "all_responses.head(2)"
   ]
  },
  {
   "cell_type": "code",
   "execution_count": 180,
   "id": "e92061be",
   "metadata": {},
   "outputs": [
    {
     "data": {
      "text/html": [
       "<div>\n",
       "<style scoped>\n",
       "    .dataframe tbody tr th:only-of-type {\n",
       "        vertical-align: middle;\n",
       "    }\n",
       "\n",
       "    .dataframe tbody tr th {\n",
       "        vertical-align: top;\n",
       "    }\n",
       "\n",
       "    .dataframe thead th {\n",
       "        text-align: right;\n",
       "    }\n",
       "</style>\n",
       "<table border=\"1\" class=\"dataframe\">\n",
       "  <thead>\n",
       "    <tr style=\"text-align: right;\">\n",
       "      <th></th>\n",
       "      <th>ID</th>\n",
       "      <th>Set</th>\n",
       "      <th>Form</th>\n",
       "      <th>Question</th>\n",
       "      <th>HosseinV</th>\n",
       "      <th>KirtiV</th>\n",
       "      <th>MichaelV</th>\n",
       "      <th>SupriyaV</th>\n",
       "      <th>HosseinD</th>\n",
       "      <th>KirtiD</th>\n",
       "      <th>MichaelD</th>\n",
       "      <th>SupriyaD</th>\n",
       "      <th>HosseinC</th>\n",
       "      <th>KirtiC</th>\n",
       "      <th>MichaelC</th>\n",
       "      <th>SupriyaC</th>\n",
       "    </tr>\n",
       "  </thead>\n",
       "  <tbody>\n",
       "    <tr>\n",
       "      <th>1427</th>\n",
       "      <td>54907_WSDA_SF_2016</td>\n",
       "      <td>S2</td>\n",
       "      <td>24</td>\n",
       "      <td>48</td>\n",
       "      <td>Double/Mustard</td>\n",
       "      <td>NaN</td>\n",
       "      <td>Double</td>\n",
       "      <td>Double</td>\n",
       "      <td>NaN</td>\n",
       "      <td>NaN</td>\n",
       "      <td>Check for Yes</td>\n",
       "      <td>NaN</td>\n",
       "      <td>NaN</td>\n",
       "      <td>NaN</td>\n",
       "      <td>NaN</td>\n",
       "      <td>NaN</td>\n",
       "    </tr>\n",
       "    <tr>\n",
       "      <th>1428</th>\n",
       "      <td>95998_WSDA_SF_2018</td>\n",
       "      <td>S2</td>\n",
       "      <td>24</td>\n",
       "      <td>49</td>\n",
       "      <td>Single</td>\n",
       "      <td>NaN</td>\n",
       "      <td>Single</td>\n",
       "      <td>Single</td>\n",
       "      <td>NaN</td>\n",
       "      <td>NaN</td>\n",
       "      <td>NaN</td>\n",
       "      <td>NaN</td>\n",
       "      <td>NaN</td>\n",
       "      <td>NaN</td>\n",
       "      <td>NaN</td>\n",
       "      <td>NaN</td>\n",
       "    </tr>\n",
       "  </tbody>\n",
       "</table>\n",
       "</div>"
      ],
      "text/plain": [
       "                      ID Set Form Question        HosseinV KirtiV MichaelV  \\\n",
       "1427  54907_WSDA_SF_2016  S2   24       48  Double/Mustard    NaN   Double   \n",
       "1428  95998_WSDA_SF_2018  S2   24       49          Single    NaN   Single   \n",
       "\n",
       "     SupriyaV HosseinD KirtiD       MichaelD SupriyaD HosseinC KirtiC  \\\n",
       "1427   Double      NaN    NaN  Check for Yes      NaN      NaN    NaN   \n",
       "1428   Single      NaN    NaN            NaN      NaN      NaN    NaN   \n",
       "\n",
       "     MichaelC SupriyaC  \n",
       "1427      NaN      NaN  \n",
       "1428      NaN      NaN  "
      ]
     },
     "execution_count": 180,
     "metadata": {},
     "output_type": "execute_result"
    }
   ],
   "source": [
    "all_responses.tail(2)"
   ]
  },
  {
   "cell_type": "code",
   "execution_count": 181,
   "id": "f9de9345",
   "metadata": {},
   "outputs": [],
   "source": [
    "out_name = non_expert_chosen_fields_dir + \"NE_set2_all_responses.csv\"\n",
    "all_responses.to_csv(out_name, index = False)"
   ]
  },
  {
   "cell_type": "code",
   "execution_count": 182,
   "id": "f353f137",
   "metadata": {},
   "outputs": [
    {
     "data": {
      "text/html": [
       "<div>\n",
       "<style scoped>\n",
       "    .dataframe tbody tr th:only-of-type {\n",
       "        vertical-align: middle;\n",
       "    }\n",
       "\n",
       "    .dataframe tbody tr th {\n",
       "        vertical-align: top;\n",
       "    }\n",
       "\n",
       "    .dataframe thead th {\n",
       "        text-align: right;\n",
       "    }\n",
       "</style>\n",
       "<table border=\"1\" class=\"dataframe\">\n",
       "  <thead>\n",
       "    <tr style=\"text-align: right;\">\n",
       "      <th></th>\n",
       "      <th>ID</th>\n",
       "      <th>NDVI_TS_Name</th>\n",
       "      <th>latitude</th>\n",
       "      <th>longitude</th>\n",
       "      <th>CropTyp</th>\n",
       "      <th>Irrigtn</th>\n",
       "      <th>DataSrc</th>\n",
       "      <th>Acres</th>\n",
       "      <th>ExctAcr</th>\n",
       "      <th>LstSrvD</th>\n",
       "      <th>county</th>\n",
       "    </tr>\n",
       "  </thead>\n",
       "  <tbody>\n",
       "    <tr>\n",
       "      <th>0</th>\n",
       "      <td>101534_WSDA_SF_2018</td>\n",
       "      <td>FranklinYakima2018_101534_WSDA_SF_2018.png</td>\n",
       "      <td>46.321880</td>\n",
       "      <td>-119.050357</td>\n",
       "      <td>barley</td>\n",
       "      <td>center pivot</td>\n",
       "      <td>wsda</td>\n",
       "      <td>3</td>\n",
       "      <td>3.220729</td>\n",
       "      <td>2018/08/14 00:00:00</td>\n",
       "      <td>Franklin</td>\n",
       "    </tr>\n",
       "    <tr>\n",
       "      <th>1</th>\n",
       "      <td>108118_WSDA_SF_2017</td>\n",
       "      <td>Grant2017_108118_WSDA_SF_2017.png</td>\n",
       "      <td>46.872243</td>\n",
       "      <td>-119.410143</td>\n",
       "      <td>barley</td>\n",
       "      <td>rill</td>\n",
       "      <td>wsda</td>\n",
       "      <td>5</td>\n",
       "      <td>4.956565</td>\n",
       "      <td>2017/07/12</td>\n",
       "      <td>Grant</td>\n",
       "    </tr>\n",
       "  </tbody>\n",
       "</table>\n",
       "</div>"
      ],
      "text/plain": [
       "                    ID                                NDVI_TS_Name   latitude  \\\n",
       "0  101534_WSDA_SF_2018  FranklinYakima2018_101534_WSDA_SF_2018.png  46.321880   \n",
       "1  108118_WSDA_SF_2017           Grant2017_108118_WSDA_SF_2017.png  46.872243   \n",
       "\n",
       "    longitude CropTyp       Irrigtn DataSrc  Acres   ExctAcr  \\\n",
       "0 -119.050357  barley  center pivot    wsda      3  3.220729   \n",
       "1 -119.410143  barley          rill    wsda      5  4.956565   \n",
       "\n",
       "               LstSrvD    county  \n",
       "0  2018/08/14 00:00:00  Franklin  \n",
       "1           2017/07/12     Grant  "
      ]
     },
     "execution_count": 182,
     "metadata": {},
     "output_type": "execute_result"
    }
   ],
   "source": [
    "chosen_fields.head(2)"
   ]
  },
  {
   "cell_type": "code",
   "execution_count": 183,
   "id": "271ce215",
   "metadata": {},
   "outputs": [
    {
     "data": {
      "text/html": [
       "<div>\n",
       "<style scoped>\n",
       "    .dataframe tbody tr th:only-of-type {\n",
       "        vertical-align: middle;\n",
       "    }\n",
       "\n",
       "    .dataframe tbody tr th {\n",
       "        vertical-align: top;\n",
       "    }\n",
       "\n",
       "    .dataframe thead th {\n",
       "        text-align: right;\n",
       "    }\n",
       "</style>\n",
       "<table border=\"1\" class=\"dataframe\">\n",
       "  <thead>\n",
       "    <tr style=\"text-align: right;\">\n",
       "      <th></th>\n",
       "      <th>ID</th>\n",
       "      <th>Set</th>\n",
       "      <th>Form</th>\n",
       "      <th>Question</th>\n",
       "      <th>HosseinV</th>\n",
       "      <th>KirtiV</th>\n",
       "      <th>MichaelV</th>\n",
       "      <th>SupriyaV</th>\n",
       "      <th>HosseinD</th>\n",
       "      <th>KirtiD</th>\n",
       "      <th>...</th>\n",
       "      <th>NDVI_TS_Name</th>\n",
       "      <th>latitude</th>\n",
       "      <th>longitude</th>\n",
       "      <th>CropTyp</th>\n",
       "      <th>Irrigtn</th>\n",
       "      <th>DataSrc</th>\n",
       "      <th>Acres</th>\n",
       "      <th>ExctAcr</th>\n",
       "      <th>LstSrvD</th>\n",
       "      <th>county</th>\n",
       "    </tr>\n",
       "  </thead>\n",
       "  <tbody>\n",
       "    <tr>\n",
       "      <th>0</th>\n",
       "      <td>101534_WSDA_SF_2018</td>\n",
       "      <td>S2</td>\n",
       "      <td>1</td>\n",
       "      <td>1</td>\n",
       "      <td>Single</td>\n",
       "      <td>No</td>\n",
       "      <td>No</td>\n",
       "      <td>No</td>\n",
       "      <td>No</td>\n",
       "      <td>No</td>\n",
       "      <td>...</td>\n",
       "      <td>FranklinYakima2018_101534_WSDA_SF_2018.png</td>\n",
       "      <td>46.321880</td>\n",
       "      <td>-119.050357</td>\n",
       "      <td>barley</td>\n",
       "      <td>center pivot</td>\n",
       "      <td>wsda</td>\n",
       "      <td>3</td>\n",
       "      <td>3.220729</td>\n",
       "      <td>2018/08/14 00:00:00</td>\n",
       "      <td>Franklin</td>\n",
       "    </tr>\n",
       "    <tr>\n",
       "      <th>1</th>\n",
       "      <td>108118_WSDA_SF_2017</td>\n",
       "      <td>S2</td>\n",
       "      <td>1</td>\n",
       "      <td>2</td>\n",
       "      <td>Single</td>\n",
       "      <td>No</td>\n",
       "      <td>No</td>\n",
       "      <td>No</td>\n",
       "      <td>No</td>\n",
       "      <td>No</td>\n",
       "      <td>...</td>\n",
       "      <td>Grant2017_108118_WSDA_SF_2017.png</td>\n",
       "      <td>46.872243</td>\n",
       "      <td>-119.410143</td>\n",
       "      <td>barley</td>\n",
       "      <td>rill</td>\n",
       "      <td>wsda</td>\n",
       "      <td>5</td>\n",
       "      <td>4.956565</td>\n",
       "      <td>2017/07/12</td>\n",
       "      <td>Grant</td>\n",
       "    </tr>\n",
       "  </tbody>\n",
       "</table>\n",
       "<p>2 rows × 26 columns</p>\n",
       "</div>"
      ],
      "text/plain": [
       "                    ID Set  Form Question HosseinV KirtiV MichaelV SupriyaV  \\\n",
       "0  101534_WSDA_SF_2018  S2     1        1   Single     No       No       No   \n",
       "1  108118_WSDA_SF_2017  S2     1        2   Single     No       No       No   \n",
       "\n",
       "  HosseinD KirtiD  ...                                NDVI_TS_Name   latitude  \\\n",
       "0       No     No  ...  FranklinYakima2018_101534_WSDA_SF_2018.png  46.321880   \n",
       "1       No     No  ...           Grant2017_108118_WSDA_SF_2017.png  46.872243   \n",
       "\n",
       "    longitude CropTyp       Irrigtn DataSrc Acres   ExctAcr  \\\n",
       "0 -119.050357  barley  center pivot    wsda     3  3.220729   \n",
       "1 -119.410143  barley          rill    wsda     5  4.956565   \n",
       "\n",
       "               LstSrvD    county  \n",
       "0  2018/08/14 00:00:00  Franklin  \n",
       "1           2017/07/12     Grant  \n",
       "\n",
       "[2 rows x 26 columns]"
      ]
     },
     "execution_count": 183,
     "metadata": {},
     "output_type": "execute_result"
    }
   ],
   "source": [
    "all_responses = pd.merge(all_responses, chosen_fields, on=['ID'], how='left')\n",
    "all_responses = all_responses.fillna(\"No\")\n",
    "all_responses.head(2)"
   ]
  },
  {
   "cell_type": "markdown",
   "id": "b6000154",
   "metadata": {},
   "source": [
    "# Clean up the all_responses\n",
    "Keep only fields that there is a disagreement, or discussion is requested, or there is a comment.\n",
    "In other word, toss the ones that are good."
   ]
  },
  {
   "cell_type": "code",
   "execution_count": 184,
   "id": "20d117be",
   "metadata": {},
   "outputs": [
    {
     "name": "stdout",
     "output_type": "stream",
     "text": [
      "(1429, 26)\n"
     ]
    },
    {
     "data": {
      "text/html": [
       "<div>\n",
       "<style scoped>\n",
       "    .dataframe tbody tr th:only-of-type {\n",
       "        vertical-align: middle;\n",
       "    }\n",
       "\n",
       "    .dataframe tbody tr th {\n",
       "        vertical-align: top;\n",
       "    }\n",
       "\n",
       "    .dataframe thead th {\n",
       "        text-align: right;\n",
       "    }\n",
       "</style>\n",
       "<table border=\"1\" class=\"dataframe\">\n",
       "  <thead>\n",
       "    <tr style=\"text-align: right;\">\n",
       "      <th></th>\n",
       "      <th>ID</th>\n",
       "      <th>Set</th>\n",
       "      <th>Form</th>\n",
       "      <th>Question</th>\n",
       "      <th>HosseinV</th>\n",
       "      <th>KirtiV</th>\n",
       "      <th>MichaelV</th>\n",
       "      <th>SupriyaV</th>\n",
       "      <th>HosseinD</th>\n",
       "      <th>KirtiD</th>\n",
       "      <th>...</th>\n",
       "      <th>NDVI_TS_Name</th>\n",
       "      <th>latitude</th>\n",
       "      <th>longitude</th>\n",
       "      <th>CropTyp</th>\n",
       "      <th>Irrigtn</th>\n",
       "      <th>DataSrc</th>\n",
       "      <th>Acres</th>\n",
       "      <th>ExctAcr</th>\n",
       "      <th>LstSrvD</th>\n",
       "      <th>county</th>\n",
       "    </tr>\n",
       "  </thead>\n",
       "  <tbody>\n",
       "    <tr>\n",
       "      <th>0</th>\n",
       "      <td>101534_WSDA_SF_2018</td>\n",
       "      <td>S2</td>\n",
       "      <td>1</td>\n",
       "      <td>1</td>\n",
       "      <td>Single</td>\n",
       "      <td>No</td>\n",
       "      <td>No</td>\n",
       "      <td>No</td>\n",
       "      <td>No</td>\n",
       "      <td>No</td>\n",
       "      <td>...</td>\n",
       "      <td>FranklinYakima2018_101534_WSDA_SF_2018.png</td>\n",
       "      <td>46.321880</td>\n",
       "      <td>-119.050357</td>\n",
       "      <td>barley</td>\n",
       "      <td>center pivot</td>\n",
       "      <td>wsda</td>\n",
       "      <td>3</td>\n",
       "      <td>3.220729</td>\n",
       "      <td>2018/08/14 00:00:00</td>\n",
       "      <td>Franklin</td>\n",
       "    </tr>\n",
       "    <tr>\n",
       "      <th>1</th>\n",
       "      <td>108118_WSDA_SF_2017</td>\n",
       "      <td>S2</td>\n",
       "      <td>1</td>\n",
       "      <td>2</td>\n",
       "      <td>Single</td>\n",
       "      <td>No</td>\n",
       "      <td>No</td>\n",
       "      <td>No</td>\n",
       "      <td>No</td>\n",
       "      <td>No</td>\n",
       "      <td>...</td>\n",
       "      <td>Grant2017_108118_WSDA_SF_2017.png</td>\n",
       "      <td>46.872243</td>\n",
       "      <td>-119.410143</td>\n",
       "      <td>barley</td>\n",
       "      <td>rill</td>\n",
       "      <td>wsda</td>\n",
       "      <td>5</td>\n",
       "      <td>4.956565</td>\n",
       "      <td>2017/07/12</td>\n",
       "      <td>Grant</td>\n",
       "    </tr>\n",
       "  </tbody>\n",
       "</table>\n",
       "<p>2 rows × 26 columns</p>\n",
       "</div>"
      ],
      "text/plain": [
       "                    ID Set  Form Question HosseinV KirtiV MichaelV SupriyaV  \\\n",
       "0  101534_WSDA_SF_2018  S2     1        1   Single     No       No       No   \n",
       "1  108118_WSDA_SF_2017  S2     1        2   Single     No       No       No   \n",
       "\n",
       "  HosseinD KirtiD  ...                                NDVI_TS_Name   latitude  \\\n",
       "0       No     No  ...  FranklinYakima2018_101534_WSDA_SF_2018.png  46.321880   \n",
       "1       No     No  ...           Grant2017_108118_WSDA_SF_2017.png  46.872243   \n",
       "\n",
       "    longitude CropTyp       Irrigtn DataSrc Acres   ExctAcr  \\\n",
       "0 -119.050357  barley  center pivot    wsda     3  3.220729   \n",
       "1 -119.410143  barley          rill    wsda     5  4.956565   \n",
       "\n",
       "               LstSrvD    county  \n",
       "0  2018/08/14 00:00:00  Franklin  \n",
       "1           2017/07/12     Grant  \n",
       "\n",
       "[2 rows x 26 columns]"
      ]
     },
     "execution_count": 184,
     "metadata": {},
     "output_type": "execute_result"
    }
   ],
   "source": [
    "print (all_responses.shape)\n",
    "all_responses.head(2)"
   ]
  },
  {
   "cell_type": "markdown",
   "id": "887a60e1",
   "metadata": {},
   "source": [
    "### Create a long PDF of fields where discussion is requested"
   ]
  },
  {
   "cell_type": "code",
   "execution_count": 185,
   "id": "2724e81e",
   "metadata": {},
   "outputs": [
    {
     "data": {
      "text/plain": [
       "'/Users/hn/Documents/01_research_data/NASA/parameters/nonExpert_set2_fields/NE_Set2_PDFs'"
      ]
     },
     "execution_count": 185,
     "metadata": {},
     "output_type": "execute_result"
    }
   ],
   "source": [
    "import subprocess\n",
    "os.getcwd()"
   ]
  },
  {
   "cell_type": "markdown",
   "id": "be7838b7",
   "metadata": {},
   "source": [
    "# Drop Kirti For Now:"
   ]
  },
  {
   "cell_type": "code",
   "execution_count": 186,
   "id": "15b790f0",
   "metadata": {},
   "outputs": [],
   "source": [
    "all_responses.drop(labels=[\"KirtiV\", \"KirtiD\", \"KirtiC\"], axis='columns', inplace=True)\n",
    "all_responses = all_responses[all_responses['Form']>=13]"
   ]
  },
  {
   "cell_type": "code",
   "execution_count": 187,
   "id": "97bc69d1",
   "metadata": {},
   "outputs": [
    {
     "name": "stdout",
     "output_type": "stream",
     "text": [
      "123\n",
      "25\n",
      "0\n"
     ]
    },
    {
     "data": {
      "text/plain": [
       "(709, 23)"
      ]
     },
     "execution_count": 187,
     "metadata": {},
     "output_type": "execute_result"
    }
   ],
   "source": [
    "os.chdir(non_expert_chosen_fields_dir + 'NE_Set2_PDFs/')\n",
    "\n",
    "disagreement_count = 0\n",
    "discuss_count = 0\n",
    "comment_count = 0\n",
    "\n",
    "with open(\"NE_Set_2_3in1_Forms13_24_NoKirti_MustardCoverPresent.tex\",\"w\") as file:\n",
    "    file.write(\"\\\\documentclass{article}\\n\")\n",
    "\n",
    "    file.write(\"\\\\usepackage[osf,sc]{mathpazo}\\n\")\n",
    "    file.write(\"\\\\usepackage{color}\\n\")\n",
    "    file.write(\"\\\\definecolor{mgreen}{RGB}{25,147,100}\\n\")\n",
    "\n",
    "    file.write(\"\\\\usepackage{mathtools,hyperref}\\n\")\n",
    "    file.write(\"\\\\hypersetup{\\n\")\n",
    "    file.write(\"      colorlinks=true,\\n\")\n",
    "    file.write(\"      linkcolor=cyan,\\n\")\n",
    "    file.write(\"      filecolor=cyan,\\n\")\n",
    "    file.write(\"      urlcolor=mgreen,\\n\")\n",
    "    file.write(\"      citecolor=cyan}\\n\")\n",
    "    \n",
    "\n",
    "    file.write(\"\\\\usepackage[margin=1in]{geometry}\\n\")\n",
    "    file.write(\"\\\\usepackage[T1]{fontenc}\\n\")\n",
    "    \n",
    "    file.write(\"\\\\usepackage{caption}\\n\")\n",
    "    file.write(\"\\\\captionsetup{justification= raggedright, singlelinecheck = false}\\n\")\n",
    "\n",
    "    file.write(\"\\\\title{\\\\bf Set 2 - Discussion, Comments, and Disgreements}\\n\")\n",
    "    file.write(\"\\\\author{}\\n\")\n",
    "    file.write(\"\\\\date{}\\n\")\n",
    "\n",
    "\n",
    "    file.write(\"\\\\begin{document}\\n\")\n",
    "    file.write(\"\\\\maketitle\\n\")\n",
    "\n",
    "    # file.write(\"\\\\section{Discussion, Comments, and Disgreements}\\n\")\n",
    "    \n",
    "    file.write(\"\\n\")\n",
    "    file.write(\"\\n\")\n",
    "    \n",
    "    for a_row in all_responses.index:\n",
    "        curr_row = all_responses.loc[a_row]\n",
    "        \n",
    "        ##### Disagreement\n",
    "        if len(np.unique(curr_row[[\"HosseinV\", \"MichaelV\", \"SupriyaV\"]].values))>1: # KirtiV\n",
    "            is_there_disagreement=True\n",
    "            disagreement_count+=1\n",
    "        else:\n",
    "            is_there_disagreement=False\n",
    "        \n",
    "        ##### Discussion\n",
    "        if str(curr_row[\"HosseinD\"])==str(curr_row[\"MichaelD\"])==str(curr_row[\"SupriyaD\"])=='No':\n",
    "            discuss_or_not=False\n",
    "        else:\n",
    "            discuss_or_not=True\n",
    "            discuss_count+=1\n",
    "        \n",
    "        ##### Comment\n",
    "        if str(curr_row[\"HosseinC\"])==str(curr_row[\"MichaelC\"])==str(curr_row[\"SupriyaC\"])=='No':\n",
    "            comment_or_not=False\n",
    "        else:\n",
    "            comment_or_not=True\n",
    "            comment_count+=1\n",
    "        \n",
    "        if is_there_disagreement or discuss_or_not or comment_or_not:\n",
    "            TS_file_name = curr_row[\"NDVI_TS_Name\"]\n",
    "            file.write(\"\\\\begin{figure*}[ht]\\n\")\n",
    "            file.write(\"\\\\centering\\n\")\n",
    "            file.write(\"\\\\includegraphics[width=1\\\\textwidth]{/Users/hn/Documents/\" + \\\n",
    "                         \"01_research_data/NASA/snapshots/TS/06_snapshot_flat_PNG/\" + \\\n",
    "                             TS_file_name + \"}\\n\")\n",
    "            file.write(\"\\\\caption[]{\" + \\\n",
    "                       \"\\\\textbf{\\\\color{red}{\" + curr_row[\"CropTyp\"] + \"}}\" + \\\n",
    "                       \", ID: \" + curr_row[\"ID\"].replace(\"_\", \"\\_\") + \\\n",
    "                       \", Form: \" + str(curr_row[\"Form\"]) + \\\n",
    "                       \", Question: \" + curr_row[\"Question\"] + \".\" + \\\n",
    "                       \"}\\n\")\n",
    "            file.write(\"\\\\label{fig:figure\" + str(a_row) + \"}\\n\")\n",
    "            file.write(\"\\\\end{figure*}\\n\")\n",
    "            file.write(\"\\n\")\n",
    "        \n",
    "            if discuss_or_not:\n",
    "                file.write(\"\\\\noindent \\\\textbf{Discuss? {\\color{red}{Yes}}}\" + \"\\\\\\\\\\n\")\n",
    "            else:\n",
    "                file.write(\"\\\\noindent \\\\textbf{Discuss? {\\color{mgreen}{No}}}\" + \"\\\\\\\\\\n\")\n",
    "            \n",
    "            # file.write(\"\\\\noindent Kirti: \" + str(curr_row[\"KirtiD\"]) + \"\\\\\\\\\\n\")\n",
    "            file.write(\"\\\\noindent Michael: ~\" + str(curr_row[\"MichaelD\"]) + \"\\\\\\\\\\n\")\n",
    "            file.write(\"\\\\noindent Supriya: ~\" + str(curr_row[\"SupriyaD\"]) + \"\\\\\\\\\\n\")\n",
    "            file.write(\"\\\\noindent Hossein: ~\" + str(curr_row[\"HosseinD\"]) + \"\\\\\\\\\\n\")\n",
    "\n",
    "            file.write(\"\\n\")\n",
    "            file.write(\"\\n\")\n",
    "            if is_there_disagreement:\n",
    "                file.write(\"\\\\noindent \\\\textbf{Disagreement? {\\color{red}{Yes}}}\" + \"\\\\\\\\\\n\")\n",
    "#                 file.write(\"\\\\noindent Perry's Vote:~~~~ \" + curr_row[\"PerryV\"] + \"\\\\\\\\\\n\")\n",
    "#                 file.write(\"Andrew's Vote: \" + str(curr_row[\"AndrewV\"]) + \"\\\\\\\\\\n\")\n",
    "            else:\n",
    "                file.write(\"\\\\noindent \\\\textbf{Disagreement? {\\color{mgreen}{No}}}\" + \"\\\\\\\\\\n\")\n",
    "#               file.write(\"\\\\noindent Perry's Vote:~~~~ \" + curr_row[\"PerryV\"] + \"\\\\\\\\\\n\")\n",
    "#               file.write(\"Andrew's Vote: \" + curr_row['AndrewV'] + \"\\\\\\\\\\n\")\n",
    "            file.write(\"\\\\noindent Michael's Vote: \" + curr_row['MichaelV'] + \"\\\\\\\\\\n\")\n",
    "            # file.write(\"Kirti's Vote:~~~~ \" + str(curr_row[\"KirtiV\"]) + \"\\\\\\\\\\n\")            \n",
    "            file.write(\"Supriya's Vote: \" + curr_row['SupriyaV'] + \"\\\\\\\\\\n\")\n",
    "            file.write(\"Hossein's Vote: \" + curr_row['HosseinV'] + \"\\\\\\\\\\n\")            \n",
    "\n",
    "            file.write(\"\\n\")\n",
    "            file.write(\"\\n\")\n",
    "            file.write(\"\\\\noindent \\\\textbf{Comments}\" + \"\\\\\\\\\\n\")\n",
    "            file.write(\"\\\\noindent  Michael: \" + str(curr_row[\"MichaelC\"]) + \"\\\\\\\\\\n\")\n",
    "            # file.write(\"Kirti: ~~~~\" + str(curr_row[\"KirtiC\"]) + \"\\\\\\\\\\n\")\n",
    "            file.write(\"Supriya: \" + str(curr_row[\"SupriyaC\"]) + \"\\\\\\\\\\n\")\n",
    "            file.write(\"Hossein: \" + str(curr_row[\"HosseinC\"]) + \"\\\\\\\\\\n\")\n",
    "\n",
    "            file.write(\"\\\\clearpage\\n\")\n",
    "\n",
    "    file.write(\"\\\\noindent Disagreement count: \" + str(disagreement_count) + \"\\\\\\\\\\n\")\n",
    "    file.write(\"Discussion count: \" + str(discuss_count) + \"\\\\\\\\\\n\")\n",
    "    file.write(\"Comment count: \" + str(comment_count) + \"\\\\\\\\\\n\")\n",
    "    \n",
    "    file.write(\"\\\\end{document}\\n\")\n",
    "    \n",
    "print (disagreement_count)\n",
    "print (discuss_count)\n",
    "print (comment_count)\n",
    "all_responses.shape"
   ]
  },
  {
   "cell_type": "code",
   "execution_count": 191,
   "id": "0306cd5a",
   "metadata": {},
   "outputs": [
    {
     "data": {
      "text/plain": [
       "array(['Single', 'Double', 'Unsure'], dtype=object)"
      ]
     },
     "execution_count": 191,
     "metadata": {},
     "output_type": "execute_result"
    }
   ],
   "source": [
    "all_responses['MichaelV'].unique()"
   ]
  },
  {
   "cell_type": "code",
   "execution_count": 192,
   "id": "b412f011",
   "metadata": {},
   "outputs": [
    {
     "data": {
      "text/plain": [
       "array(['Single', 'Double', 'Double/Mustard'], dtype=object)"
      ]
     },
     "execution_count": 192,
     "metadata": {},
     "output_type": "execute_result"
    }
   ],
   "source": [
    "all_responses['SupriyaV'].unique()"
   ]
  },
  {
   "cell_type": "code",
   "execution_count": 193,
   "id": "957acf19",
   "metadata": {},
   "outputs": [
    {
     "data": {
      "text/plain": [
       "array(['Single', 'Double', 'Cover', 'Unsure', 'Double/Mustard'],\n",
       "      dtype=object)"
      ]
     },
     "execution_count": 193,
     "metadata": {},
     "output_type": "execute_result"
    }
   ],
   "source": [
    "all_responses['HosseinV'].unique()"
   ]
  },
  {
   "cell_type": "markdown",
   "id": "eced7d69",
   "metadata": {},
   "source": [
    "# Replace \n",
    "  - Double/Mustard with Double\n",
    "  - Cover with Single"
   ]
  },
  {
   "cell_type": "code",
   "execution_count": 176,
   "id": "8ba700a1",
   "metadata": {},
   "outputs": [
    {
     "data": {
      "text/plain": [
       "array(['Single', 'Double', 'Unsure'], dtype=object)"
      ]
     },
     "execution_count": 176,
     "metadata": {},
     "output_type": "execute_result"
    }
   ],
   "source": [
    "all_responses.loc[all_responses['HosseinV']==\"Double/Mustard\", 'HosseinV']=\"Double\"\n",
    "all_responses.loc[all_responses['SupriyaV']==\"Double/Mustard\", 'SupriyaV']=\"Double\"\n",
    "all_responses.loc[all_responses['MichaelV']==\"Double/Mustard\", 'MichaelV']=\"Double\"\n",
    "# all_responses.loc[all_responses['KirtiV']==\"Double/Mustard\", 'KirtiV']=\"Double\"\n",
    "\n",
    "all_responses.loc[all_responses['HosseinV']==\"Cover\", 'HosseinV']=\"Single\"\n",
    "all_responses.loc[all_responses['SupriyaV']==\"Cover\", 'SupriyaV']=\"Single\"\n",
    "all_responses.loc[all_responses['MichaelV']==\"Cover\", 'MichaelV']=\"Single\"\n",
    "# all_responses.loc[all_responses['KirtiV']==\"Cover\", 'KirtiV']=\"Single\"\n",
    "all_responses['HosseinV'].unique()"
   ]
  },
  {
   "cell_type": "code",
   "execution_count": 177,
   "id": "254b1ec9",
   "metadata": {},
   "outputs": [],
   "source": [
    "out_name = non_expert_chosen_fields_dir + \"NE_set2_Forms13_24.csv\"\n",
    "all_responses.to_csv(out_name, index = False)"
   ]
  },
  {
   "cell_type": "code",
   "execution_count": null,
   "id": "1527393d",
   "metadata": {},
   "outputs": [],
   "source": []
  },
  {
   "cell_type": "code",
   "execution_count": 178,
   "id": "1b07cc0d",
   "metadata": {},
   "outputs": [
    {
     "name": "stdout",
     "output_type": "stream",
     "text": [
      "52\n",
      "25\n",
      "0\n"
     ]
    },
    {
     "data": {
      "text/plain": [
       "(709, 23)"
      ]
     },
     "execution_count": 178,
     "metadata": {},
     "output_type": "execute_result"
    }
   ],
   "source": [
    "os.chdir(non_expert_chosen_fields_dir + 'NE_Set2_PDFs/')\n",
    "\n",
    "disagreement_count = 0\n",
    "discuss_count = 0\n",
    "comment_count = 0\n",
    "\n",
    "with open(\"NE_Set_2_3in1_Forms13_24_NoKirti_MustardCoverConverted.tex\",\"w\") as file:\n",
    "    file.write(\"\\\\documentclass{article}\\n\")\n",
    "\n",
    "    file.write(\"\\\\usepackage[osf,sc]{mathpazo}\\n\")\n",
    "    file.write(\"\\\\usepackage{color}\\n\")\n",
    "    file.write(\"\\\\definecolor{mgreen}{RGB}{25,147,100}\\n\")\n",
    "\n",
    "    file.write(\"\\\\usepackage{mathtools,hyperref}\\n\")\n",
    "    file.write(\"\\\\hypersetup{\\n\")\n",
    "    file.write(\"      colorlinks=true,\\n\")\n",
    "    file.write(\"      linkcolor=cyan,\\n\")\n",
    "    file.write(\"      filecolor=cyan,\\n\")\n",
    "    file.write(\"      urlcolor=mgreen,\\n\")\n",
    "    file.write(\"      citecolor=cyan}\\n\")\n",
    "    \n",
    "\n",
    "    file.write(\"\\\\usepackage[margin=1in]{geometry}\\n\")\n",
    "    file.write(\"\\\\usepackage[T1]{fontenc}\\n\")\n",
    "    \n",
    "    file.write(\"\\\\usepackage{caption}\\n\")\n",
    "    file.write(\"\\\\captionsetup{justification= raggedright, singlelinecheck = false}\\n\")\n",
    "\n",
    "    file.write(\"\\\\title{\\\\bf Set 2 - Discussion, Comments, and Disgreements}\\n\")\n",
    "    file.write(\"\\\\author{}\\n\")\n",
    "    file.write(\"\\\\date{}\\n\")\n",
    "\n",
    "\n",
    "    file.write(\"\\\\begin{document}\\n\")\n",
    "    file.write(\"\\\\maketitle\\n\")\n",
    "\n",
    "    # file.write(\"\\\\section{Discussion, Comments, and Disgreements}\\n\")\n",
    "    \n",
    "    file.write(\"\\n\")\n",
    "    file.write(\"\\n\")\n",
    "    \n",
    "    for a_row in all_responses.index:\n",
    "        curr_row = all_responses.loc[a_row]\n",
    "        \n",
    "        ##### Disagreement\n",
    "        if len(np.unique(curr_row[[\"HosseinV\", \"MichaelV\", \"SupriyaV\"]].values))>1: # KirtiV\n",
    "            is_there_disagreement=True\n",
    "            disagreement_count+=1\n",
    "        else:\n",
    "            is_there_disagreement=False\n",
    "        \n",
    "        ##### Discussion\n",
    "        if str(curr_row[\"HosseinD\"])==str(curr_row[\"MichaelD\"])==str(curr_row[\"SupriyaD\"])=='No':\n",
    "            discuss_or_not=False\n",
    "        else:\n",
    "            discuss_or_not=True\n",
    "            discuss_count+=1\n",
    "        \n",
    "        ##### Comment\n",
    "        if str(curr_row[\"HosseinC\"])==str(curr_row[\"MichaelC\"])==str(curr_row[\"SupriyaC\"])=='No':\n",
    "            comment_or_not=False\n",
    "        else:\n",
    "            comment_or_not=True\n",
    "            comment_count+=1\n",
    "        \n",
    "        if is_there_disagreement or discuss_or_not or comment_or_not:\n",
    "            TS_file_name = curr_row[\"NDVI_TS_Name\"]\n",
    "            file.write(\"\\\\begin{figure*}[ht]\\n\")\n",
    "            file.write(\"\\\\centering\\n\")\n",
    "            file.write(\"\\\\includegraphics[width=1\\\\textwidth]{/Users/hn/Documents/\" + \\\n",
    "                         \"01_research_data/NASA/snapshots/TS/06_snapshot_flat_PNG/\" + \\\n",
    "                             TS_file_name + \"}\\n\")\n",
    "            file.write(\"\\\\caption[]{\" + \\\n",
    "                       \"\\\\textbf{\\\\color{red}{\" + curr_row[\"CropTyp\"] + \"}}\" + \\\n",
    "                       \", ID: \" + curr_row[\"ID\"].replace(\"_\", \"\\_\") + \\\n",
    "                       \", Form: \" + str(curr_row[\"Form\"]) + \\\n",
    "                       \", Question: \" + curr_row[\"Question\"] + \".\" + \\\n",
    "                       \"}\\n\")\n",
    "            file.write(\"\\\\label{fig:figure\" + str(a_row) + \"}\\n\")\n",
    "            file.write(\"\\\\end{figure*}\\n\")\n",
    "            file.write(\"\\n\")\n",
    "        \n",
    "            if discuss_or_not:\n",
    "                file.write(\"\\\\noindent \\\\textbf{Discuss? {\\color{red}{Yes}}}\" + \"\\\\\\\\\\n\")\n",
    "            else:\n",
    "                file.write(\"\\\\noindent \\\\textbf{Discuss? {\\color{mgreen}{No}}}\" + \"\\\\\\\\\\n\")\n",
    "            \n",
    "            # file.write(\"\\\\noindent Kirti: \" + str(curr_row[\"KirtiD\"]) + \"\\\\\\\\\\n\")\n",
    "            file.write(\"\\\\noindent Michael: ~\" + str(curr_row[\"MichaelD\"]) + \"\\\\\\\\\\n\")\n",
    "            file.write(\"\\\\noindent Supriya: ~\" + str(curr_row[\"SupriyaD\"]) + \"\\\\\\\\\\n\")\n",
    "            file.write(\"\\\\noindent Hossein: ~\" + str(curr_row[\"HosseinD\"]) + \"\\\\\\\\\\n\")\n",
    "\n",
    "            file.write(\"\\n\")\n",
    "            file.write(\"\\n\")\n",
    "            if is_there_disagreement:\n",
    "                file.write(\"\\\\noindent \\\\textbf{Disagreement? {\\color{red}{Yes}}}\" + \"\\\\\\\\\\n\")\n",
    "#                 file.write(\"\\\\noindent Perry's Vote:~~~~ \" + curr_row[\"PerryV\"] + \"\\\\\\\\\\n\")\n",
    "#                 file.write(\"Andrew's Vote: \" + str(curr_row[\"AndrewV\"]) + \"\\\\\\\\\\n\")\n",
    "            else:\n",
    "                file.write(\"\\\\noindent \\\\textbf{Disagreement? {\\color{mgreen}{No}}}\" + \"\\\\\\\\\\n\")\n",
    "#               file.write(\"\\\\noindent Perry's Vote:~~~~ \" + curr_row[\"PerryV\"] + \"\\\\\\\\\\n\")\n",
    "#               file.write(\"Andrew's Vote: \" + curr_row['AndrewV'] + \"\\\\\\\\\\n\")\n",
    "            file.write(\"\\\\noindent Michael's Vote: \" + curr_row['MichaelV'] + \"\\\\\\\\\\n\")\n",
    "            # file.write(\"Kirti's Vote:~~~~ \" + str(curr_row[\"KirtiV\"]) + \"\\\\\\\\\\n\")            \n",
    "            file.write(\"Supriya's Vote: \" + curr_row['SupriyaV'] + \"\\\\\\\\\\n\")\n",
    "            file.write(\"Hossein's Vote: \" + curr_row['HosseinV'] + \"\\\\\\\\\\n\")            \n",
    "\n",
    "            file.write(\"\\n\")\n",
    "            file.write(\"\\n\")\n",
    "            file.write(\"\\\\noindent \\\\textbf{Comments}\" + \"\\\\\\\\\\n\")\n",
    "            file.write(\"\\\\noindent  Michael: \" + str(curr_row[\"MichaelC\"]) + \"\\\\\\\\\\n\")\n",
    "            # file.write(\"Kirti: ~~~~\" + str(curr_row[\"KirtiC\"]) + \"\\\\\\\\\\n\")\n",
    "            file.write(\"Supriya: \" + str(curr_row[\"SupriyaC\"]) + \"\\\\\\\\\\n\")\n",
    "            file.write(\"Hossein: \" + str(curr_row[\"HosseinC\"]) + \"\\\\\\\\\\n\")\n",
    "\n",
    "            file.write(\"\\\\clearpage\\n\")\n",
    "\n",
    "    file.write(\"\\\\noindent Disagreement count: \" + str(disagreement_count) + \"\\\\\\\\\\n\")\n",
    "    file.write(\"Discussion count: \" + str(discuss_count) + \"\\\\\\\\\\n\")\n",
    "    file.write(\"Comment count: \" + str(comment_count) + \"\\\\\\\\\\n\")\n",
    "    \n",
    "    file.write(\"\\\\end{document}\\n\")\n",
    "    \n",
    "print (disagreement_count)\n",
    "print (discuss_count)\n",
    "print (comment_count)\n",
    "all_responses.shape"
   ]
  },
  {
   "cell_type": "code",
   "execution_count": null,
   "id": "9de69efb",
   "metadata": {},
   "outputs": [],
   "source": []
  },
  {
   "cell_type": "code",
   "execution_count": 157,
   "id": "838aed0d",
   "metadata": {},
   "outputs": [],
   "source": [
    "a_dir = \"/Users/hn/Documents/01_research_data/NASA/VI_TS/more_bands/\"\n",
    "NIR = pd.read_csv(a_dir + \"regular_Walla2015_NIR_moreBands_train_set.csv\")\n",
    "blue = pd.read_csv(a_dir + \"regular_Walla2015_blue_moreBands_train_set.csv\")"
   ]
  },
  {
   "cell_type": "code",
   "execution_count": 162,
   "id": "69b674f1",
   "metadata": {},
   "outputs": [],
   "source": [
    "NIR_time = NIR[NIR.ID==\"167176_WSDA_SF_2015\"].human_system_start_time\n",
    "blue_time = blue[blue.ID==\"167176_WSDA_SF_2015\"].human_system_start_time"
   ]
  },
  {
   "cell_type": "code",
   "execution_count": 166,
   "id": "302e3be0",
   "metadata": {},
   "outputs": [
    {
     "data": {
      "text/html": [
       "<div>\n",
       "<style scoped>\n",
       "    .dataframe tbody tr th:only-of-type {\n",
       "        vertical-align: middle;\n",
       "    }\n",
       "\n",
       "    .dataframe tbody tr th {\n",
       "        vertical-align: top;\n",
       "    }\n",
       "\n",
       "    .dataframe thead th {\n",
       "        text-align: right;\n",
       "    }\n",
       "</style>\n",
       "<table border=\"1\" class=\"dataframe\">\n",
       "  <thead>\n",
       "    <tr style=\"text-align: right;\">\n",
       "      <th></th>\n",
       "      <th>ID</th>\n",
       "      <th>human_system_start_time</th>\n",
       "      <th>NIR</th>\n",
       "    </tr>\n",
       "  </thead>\n",
       "  <tbody>\n",
       "    <tr>\n",
       "      <th>0</th>\n",
       "      <td>167176_WSDA_SF_2015</td>\n",
       "      <td>2015-01-01 00:00:00</td>\n",
       "      <td>0.330198</td>\n",
       "    </tr>\n",
       "    <tr>\n",
       "      <th>1</th>\n",
       "      <td>167176_WSDA_SF_2015</td>\n",
       "      <td>2015-01-11 00:00:00</td>\n",
       "      <td>0.118807</td>\n",
       "    </tr>\n",
       "  </tbody>\n",
       "</table>\n",
       "</div>"
      ],
      "text/plain": [
       "                    ID human_system_start_time       NIR\n",
       "0  167176_WSDA_SF_2015     2015-01-01 00:00:00  0.330198\n",
       "1  167176_WSDA_SF_2015     2015-01-11 00:00:00  0.118807"
      ]
     },
     "execution_count": 166,
     "metadata": {},
     "output_type": "execute_result"
    }
   ],
   "source": [
    "NIR[NIR.ID==\"167176_WSDA_SF_2015\"].head(2)"
   ]
  },
  {
   "cell_type": "code",
   "execution_count": 165,
   "id": "f8e606e7",
   "metadata": {},
   "outputs": [
    {
     "data": {
      "text/html": [
       "<div>\n",
       "<style scoped>\n",
       "    .dataframe tbody tr th:only-of-type {\n",
       "        vertical-align: middle;\n",
       "    }\n",
       "\n",
       "    .dataframe tbody tr th {\n",
       "        vertical-align: top;\n",
       "    }\n",
       "\n",
       "    .dataframe thead th {\n",
       "        text-align: right;\n",
       "    }\n",
       "</style>\n",
       "<table border=\"1\" class=\"dataframe\">\n",
       "  <thead>\n",
       "    <tr style=\"text-align: right;\">\n",
       "      <th></th>\n",
       "      <th>ID</th>\n",
       "      <th>human_system_start_time</th>\n",
       "      <th>blue</th>\n",
       "    </tr>\n",
       "  </thead>\n",
       "  <tbody>\n",
       "    <tr>\n",
       "      <th>0</th>\n",
       "      <td>167176_WSDA_SF_2015</td>\n",
       "      <td>2015-01-01 00:00:00</td>\n",
       "      <td>0.310251</td>\n",
       "    </tr>\n",
       "    <tr>\n",
       "      <th>1</th>\n",
       "      <td>167176_WSDA_SF_2015</td>\n",
       "      <td>2015-01-11 00:00:00</td>\n",
       "      <td>0.031510</td>\n",
       "    </tr>\n",
       "  </tbody>\n",
       "</table>\n",
       "</div>"
      ],
      "text/plain": [
       "                    ID human_system_start_time      blue\n",
       "0  167176_WSDA_SF_2015     2015-01-01 00:00:00  0.310251\n",
       "1  167176_WSDA_SF_2015     2015-01-11 00:00:00  0.031510"
      ]
     },
     "execution_count": 165,
     "metadata": {},
     "output_type": "execute_result"
    }
   ],
   "source": [
    "blue[blue.ID==\"167176_WSDA_SF_2015\"].head(2)"
   ]
  },
  {
   "cell_type": "code",
   "execution_count": null,
   "id": "621c34a6",
   "metadata": {},
   "outputs": [],
   "source": []
  },
  {
   "cell_type": "code",
   "execution_count": null,
   "id": "fa78bf76",
   "metadata": {},
   "outputs": [],
   "source": []
  },
  {
   "cell_type": "code",
   "execution_count": null,
   "id": "747a6199",
   "metadata": {},
   "outputs": [],
   "source": []
  },
  {
   "cell_type": "markdown",
   "id": "7264a357",
   "metadata": {},
   "source": [
    "# Label for ML: change damn mustard to double-crop"
   ]
  },
  {
   "cell_type": "code",
   "execution_count": null,
   "id": "faa0e69b",
   "metadata": {},
   "outputs": [],
   "source": [
    "print (all_responses.shape)\n",
    "print (all_responses.PerryV.unique())\n",
    "print (all_responses.AndrewV.unique())"
   ]
  },
  {
   "cell_type": "code",
   "execution_count": null,
   "id": "cce4cd86",
   "metadata": {},
   "outputs": [],
   "source": [
    "A = all_responses.copy()\n",
    "A = A[A.PerryV==A.AndrewV]\n",
    "print (A.PerryV.unique())\n",
    "print (A.AndrewV.unique())"
   ]
  },
  {
   "cell_type": "code",
   "execution_count": null,
   "id": "4fb2c031",
   "metadata": {},
   "outputs": [],
   "source": [
    "double_place= ['Mustard Crop', 'Either double or mustard crop']\n",
    "\n",
    "all_responses['PerryVCorrected']=all_responses['PerryV']\n",
    "idx = all_responses[all_responses.PerryVCorrected.isin(double_place)].index\n",
    "all_responses.loc[idx, \"PerryVCorrected\"] = 'Double Crop'\n",
    "all_responses.head(2)\n",
    "\n",
    "all_responses['AndrewVCorrected']=all_responses['AndrewV']\n",
    "idx = all_responses[all_responses.AndrewVCorrected.isin(double_place)].index\n",
    "all_responses.loc[idx, \"AndrewVCorrected\"] = 'Double Crop'\n",
    "all_responses.head(2)\n",
    "pre_meeting_agreements = all_responses[all_responses.PerryVCorrected==\n",
    "                                                all_responses.AndrewVCorrected].copy()\n",
    "\n",
    "# create Vote column in pre_meeting_agreements\n",
    "pre_meeting_agreements['Vote'] = 1\n",
    "pre_meeting_agreements.head(2)\n",
    "\n",
    "# Change Vote to 2 for double cropped fields\n",
    "double_index = pre_meeting_agreements[pre_meeting_agreements.PerryVCorrected==\"Double Crop\"].index\n",
    "pre_meeting_agreements.loc[double_index, 'Vote']=2\n",
    "\n",
    "pre_meeting_agreements = pre_meeting_agreements[[\"ID\", \"PerryV\", \"AndrewV\", \n",
    "                                                 \"PerryVCorrected\", \"AndrewVCorrected\", \n",
    "                                                 \"Vote\"]]\n",
    "\n",
    "out_folder = \"/Users/hn/Documents/01_research_data/NASA/ML_data/\"\n",
    "out_name = out_folder + \"set2_premeeting_consensus.csv\"\n",
    "pre_meeting_agreements.to_csv(out_name, index = False)"
   ]
  },
  {
   "cell_type": "code",
   "execution_count": null,
   "id": "042713d7",
   "metadata": {},
   "outputs": [],
   "source": [
    "all_responses.head(2)"
   ]
  },
  {
   "cell_type": "code",
   "execution_count": null,
   "id": "3160594d",
   "metadata": {},
   "outputs": [],
   "source": []
  },
  {
   "cell_type": "code",
   "execution_count": null,
   "id": "dc4ed428",
   "metadata": {},
   "outputs": [],
   "source": []
  },
  {
   "cell_type": "markdown",
   "id": "e4cbeb97",
   "metadata": {},
   "source": [
    "# DO NOT \n",
    "include the disagreement of type (double, mustard) in the PDF"
   ]
  },
  {
   "cell_type": "code",
   "execution_count": null,
   "id": "8915e54e",
   "metadata": {},
   "outputs": [],
   "source": [
    "os.chdir('/Users/hn/Documents/01_research_data/NASA/Perry_and_Co/set_2_PDFs/')\n",
    "\n",
    "disagreement_count = 0\n",
    "\n",
    "with open(\"noRepetitions_set_2_3in1_Discussion_Comments_Disagreements.tex\",\"w\") as file:\n",
    "    file.write(\"\\\\documentclass{article}\\n\")\n",
    "\n",
    "    file.write(\"\\\\usepackage[osf,sc]{mathpazo}\\n\")\n",
    "    file.write(\"\\\\usepackage{color}\\n\")\n",
    "    file.write(\"\\\\definecolor{mgreen}{RGB}{25,147,100}\\n\")\n",
    "\n",
    "    file.write(\"\\\\usepackage{mathtools,hyperref}\\n\")\n",
    "    file.write(\"\\\\hypersetup{\\n\")\n",
    "    file.write(\"      colorlinks=true,\\n\")\n",
    "    file.write(\"      linkcolor=cyan,\\n\")\n",
    "    file.write(\"      filecolor=cyan,\\n\")\n",
    "    file.write(\"      urlcolor=mgreen,\\n\")\n",
    "    file.write(\"      citecolor=cyan}\\n\")\n",
    "    \n",
    "\n",
    "    file.write(\"\\\\usepackage[margin=1in]{geometry}\\n\")\n",
    "    file.write(\"\\\\usepackage[T1]{fontenc}\\n\")\n",
    "    \n",
    "    file.write(\"\\\\usepackage{caption}\\n\")\n",
    "    file.write(\"\\\\captionsetup{justification= raggedright, singlelinecheck = false}\\n\")\n",
    "\n",
    "    file.write(\"\\\\title{\\\\bf Set 2 - Discussion, Comments, and Disgreements}\\n\")\n",
    "    file.write(\"\\\\author{}\\n\")\n",
    "    file.write(\"\\\\date{}\\n\")\n",
    "\n",
    "\n",
    "    file.write(\"\\\\begin{document}\\n\")\n",
    "    file.write(\"\\\\maketitle\\n\")\n",
    "\n",
    "    # file.write(\"\\\\section{Discussion, Comments, and Disgreements}\\n\")\n",
    "    \n",
    "    file.write(\"\\n\")\n",
    "    file.write(\"\\n\")\n",
    "    \n",
    "    for a_row in all_responses.index:\n",
    "        curr_row = all_responses.loc[a_row]\n",
    "        \n",
    "        if len(np.unique(curr_row[[\"PerryVCorrected\", \"AndrewVCorrected\"]].values))>1:\n",
    "            is_there_disagreement=True\n",
    "            disagreement_count+=1\n",
    "        else:\n",
    "            is_there_disagreement=False\n",
    "        \n",
    "        if str(curr_row[\"PerryD\"])==str(curr_row[\"AndrewD\"])=='No':\n",
    "            discuss_or_not=False\n",
    "        else:\n",
    "            discuss_or_not=True\n",
    "        \n",
    "        if str(curr_row[\"PerryC\"])==str(curr_row[\"AndrewC\"])=='No':\n",
    "            comment_or_not=False\n",
    "        else:\n",
    "            comment_or_not=True\n",
    "        \n",
    "        if is_there_disagreement or discuss_or_not or comment_or_not:\n",
    "            TS_file_name = curr_row[\"NDVI_TS_Name\"]\n",
    "            file.write(\"\\\\begin{figure*}[ht]\\n\")\n",
    "            file.write(\"\\\\centering\\n\")\n",
    "            file.write(\"\\\\includegraphics[width=1\\\\textwidth]{/Users/hn/Documents/\" + \\\n",
    "                         \"01_research_data/NASA/snapshots/TS/06_snapshot_flat_PNG/\" + \\\n",
    "                             TS_file_name + \"}\\n\")\n",
    "            file.write(\"\\\\caption[]{\" + \\\n",
    "                       \"\\\\textbf{\\\\color{red}{\" + curr_row[\"CropTyp\"] + \"}}\" + \\\n",
    "                       \", ID: \" + curr_row[\"ID\"].replace(\"_\", \"\\_\") + \\\n",
    "                       \", Form: \" + curr_row[\"Form\"] + \\\n",
    "                       \", Question: \" + curr_row[\"Question\"] + \".\" + \\\n",
    "                       \"}\\n\")\n",
    "            file.write(\"\\\\label{fig:figure\" + str(a_row) + \"}\\n\")\n",
    "            file.write(\"\\\\end{figure*}\\n\")\n",
    "            file.write(\"\\n\")\n",
    "        \n",
    "            if discuss_or_not:\n",
    "                file.write(\"\\\\noindent \\\\textbf{Discuss? {\\color{red}{Yes}}}\" + \"\\\\\\\\\\n\")\n",
    "            else:\n",
    "                file.write(\"\\\\noindent \\\\textbf{Discuss? {\\color{mgreen}{No}}}\" + \"\\\\\\\\\\n\")\n",
    "            \n",
    "            file.write(\"\\\\noindent Perry: ~~~~\" + str(curr_row[\"PerryD\"]) + \"\\\\\\\\\\n\")\n",
    "            file.write(\"Andrew: \" + str(curr_row[\"AndrewD\"]) + \"\\\\\\\\\\n\")\n",
    "\n",
    "            file.write(\"\\n\")\n",
    "            file.write(\"\\n\")\n",
    "            if is_there_disagreement:\n",
    "                file.write(\"\\\\noindent \\\\textbf{Disagreement? {\\color{red}{Yes}}}\" + \"\\\\\\\\\\n\")\n",
    "                file.write(\"\\\\noindent Perry's Vote:~~~~ \" + str(curr_row[\"PerryV\"]) + \"\\\\\\\\\\n\")\n",
    "                file.write(\"Andrew's Vote: \" + str(curr_row[\"AndrewV\"]) + \"\\\\\\\\\\n\")\n",
    "            else:\n",
    "                file.write(\"\\\\noindent \\\\textbf{Disagreement? {\\color{mgreen}{No}}}\" + \"\\\\\\\\\\n\")\n",
    "                file.write(\"\\\\noindent Perry's Vote:~~~~ \" + curr_row['PerryV'] + \"\\\\\\\\\\n\")\n",
    "                file.write(\"Andrew's Vote: \" + curr_row['AndrewV'] + \"\\\\\\\\\\n\")\n",
    "\n",
    "            file.write(\"\\n\")\n",
    "            file.write(\"\\n\")\n",
    "            file.write(\"\\\\noindent \\\\textbf{Comments}\" + \"\\\\\\\\\\n\")\n",
    "            file.write(\"\\\\noindent Perry: ~~~~\" + str(curr_row[\"PerryC\"]) + \"\\\\\\\\\\n\")\n",
    "            file.write(\"Andrew: \" + str(curr_row[\"AndrewC\"]) + \"\\\\\\\\\\n\")\n",
    "\n",
    "            file.write(\"\\\\clearpage\\n\")\n",
    "\n",
    "    file.write(\"disagreement count: \" + str(disagreement_count) + \"\\\\\\\\\\n\")\n",
    "    file.write(\"\\\\end{document}\\n\")"
   ]
  },
  {
   "cell_type": "code",
   "execution_count": null,
   "id": "1d42a660",
   "metadata": {},
   "outputs": [],
   "source": []
  }
 ],
 "metadata": {
  "kernelspec": {
   "display_name": "Python 3 (ipykernel)",
   "language": "python",
   "name": "python3"
  },
  "language_info": {
   "codemirror_mode": {
    "name": "ipython",
    "version": 3
   },
   "file_extension": ".py",
   "mimetype": "text/x-python",
   "name": "python",
   "nbconvert_exporter": "python",
   "pygments_lexer": "ipython3",
   "version": "3.9.7"
  }
 },
 "nbformat": 4,
 "nbformat_minor": 5
}
