{
 "cells": [
  {
   "cell_type": "code",
   "execution_count": 1,
   "id": "9ba555fd",
   "metadata": {},
   "outputs": [],
   "source": [
    "import numpy as np\n",
    "import pandas as pd\n",
    "import scipy, scipy.signal\n",
    "\n",
    "from datetime import date\n",
    "import time\n",
    "\n",
    "from random import seed\n",
    "from random import random\n",
    "import random\n",
    "import os, os.path\n",
    "import shutil\n",
    "\n",
    "from sklearn.model_selection import train_test_split\n",
    "from sklearn.linear_model import LogisticRegression\n",
    "\n",
    "from sklearn.neighbors import KNeighborsClassifier\n",
    "from sklearn.model_selection import GridSearchCV\n",
    "from sklearn.metrics import classification_report\n",
    "\n",
    "import matplotlib\n",
    "import matplotlib.pyplot as plt\n",
    "from pylab import imshow\n",
    "\n",
    "import h5py\n",
    "import sys\n",
    "sys.path.append('/Users/hn/Documents/00_GitHub/Ag/NASA/Python_codes/')\n",
    "import NASA_core as nc\n",
    "# import NASA_plot_core.py as rcp"
   ]
  },
  {
   "cell_type": "code",
   "execution_count": 2,
   "id": "4fdf9757",
   "metadata": {},
   "outputs": [],
   "source": [
    "from tslearn.metrics import dtw as dtw_metric\n",
    "# https://dtaidistance.readthedocs.io/en/latest/usage/dtw.html\n",
    "from dtaidistance import dtw\n",
    "from dtaidistance import dtw_visualisation as dtwvis"
   ]
  },
  {
   "cell_type": "code",
   "execution_count": null,
   "id": "1a745f27",
   "metadata": {},
   "outputs": [],
   "source": []
  },
  {
   "cell_type": "markdown",
   "id": "7b511df7",
   "metadata": {},
   "source": [
    "# Read Fields Metadata"
   ]
  },
  {
   "cell_type": "code",
   "execution_count": 3,
   "id": "86f88311",
   "metadata": {},
   "outputs": [
    {
     "data": {
      "text/html": [
       "<div>\n",
       "<style scoped>\n",
       "    .dataframe tbody tr th:only-of-type {\n",
       "        vertical-align: middle;\n",
       "    }\n",
       "\n",
       "    .dataframe tbody tr th {\n",
       "        vertical-align: top;\n",
       "    }\n",
       "\n",
       "    .dataframe thead th {\n",
       "        text-align: right;\n",
       "    }\n",
       "</style>\n",
       "<table border=\"1\" class=\"dataframe\">\n",
       "  <thead>\n",
       "    <tr style=\"text-align: right;\">\n",
       "      <th></th>\n",
       "      <th>ID</th>\n",
       "      <th>CropTyp</th>\n",
       "      <th>Irrigtn</th>\n",
       "      <th>DataSrc</th>\n",
       "      <th>Acres</th>\n",
       "      <th>ExctAcr</th>\n",
       "      <th>LstSrvD</th>\n",
       "      <th>county</th>\n",
       "    </tr>\n",
       "  </thead>\n",
       "  <tbody>\n",
       "    <tr>\n",
       "      <th>0</th>\n",
       "      <td>100010_WSDA_SF_2017</td>\n",
       "      <td>alfalfa hay</td>\n",
       "      <td>center pivot</td>\n",
       "      <td>wsda</td>\n",
       "      <td>34</td>\n",
       "      <td>34.310305</td>\n",
       "      <td>2017/09/12</td>\n",
       "      <td>Grant</td>\n",
       "    </tr>\n",
       "    <tr>\n",
       "      <th>1</th>\n",
       "      <td>100204_WSDA_SF_2017</td>\n",
       "      <td>alfalfa hay</td>\n",
       "      <td>center pivot</td>\n",
       "      <td>wsda</td>\n",
       "      <td>62</td>\n",
       "      <td>61.826535</td>\n",
       "      <td>2017/08/09</td>\n",
       "      <td>Grant</td>\n",
       "    </tr>\n",
       "  </tbody>\n",
       "</table>\n",
       "</div>"
      ],
      "text/plain": [
       "                    ID      CropTyp       Irrigtn DataSrc  Acres    ExctAcr  \\\n",
       "0  100010_WSDA_SF_2017  alfalfa hay  center pivot    wsda     34  34.310305   \n",
       "1  100204_WSDA_SF_2017  alfalfa hay  center pivot    wsda     62  61.826535   \n",
       "\n",
       "      LstSrvD county  \n",
       "0  2017/09/12  Grant  \n",
       "1  2017/08/09  Grant  "
      ]
     },
     "execution_count": 3,
     "metadata": {},
     "output_type": "execute_result"
    }
   ],
   "source": [
    "meta_dir = \"/Users/hn/Documents/01_research_data/NASA/parameters/\"\n",
    "meta = pd.read_csv(meta_dir+\"evaluation_set.csv\")\n",
    "meta.head(2)"
   ]
  },
  {
   "cell_type": "code",
   "execution_count": 4,
   "id": "48f5ebff",
   "metadata": {},
   "outputs": [
    {
     "name": "stdout",
     "output_type": "stream",
     "text": [
      "(6340, 8)\n",
      "(3539, 8)\n"
     ]
    }
   ],
   "source": [
    "meta_moreThan10Acr=meta[meta.ExctAcr>10]\n",
    "print (meta.shape)\n",
    "print (meta_moreThan10Acr.shape)"
   ]
  },
  {
   "cell_type": "markdown",
   "id": "e2a5bb50",
   "metadata": {},
   "source": [
    "# Read Training Set Labels"
   ]
  },
  {
   "cell_type": "code",
   "execution_count": 5,
   "id": "d96d1a0c",
   "metadata": {},
   "outputs": [
    {
     "name": "stdout",
     "output_type": "stream",
     "text": [
      "Unique Votes:  [2 1]\n",
      "1849\n"
     ]
    },
    {
     "data": {
      "text/html": [
       "<div>\n",
       "<style scoped>\n",
       "    .dataframe tbody tr th:only-of-type {\n",
       "        vertical-align: middle;\n",
       "    }\n",
       "\n",
       "    .dataframe tbody tr th {\n",
       "        vertical-align: top;\n",
       "    }\n",
       "\n",
       "    .dataframe thead th {\n",
       "        text-align: right;\n",
       "    }\n",
       "</style>\n",
       "<table border=\"1\" class=\"dataframe\">\n",
       "  <thead>\n",
       "    <tr style=\"text-align: right;\">\n",
       "      <th></th>\n",
       "      <th>ID</th>\n",
       "      <th>Vote</th>\n",
       "    </tr>\n",
       "  </thead>\n",
       "  <tbody>\n",
       "    <tr>\n",
       "      <th>0</th>\n",
       "      <td>99837_WSDA_SF_2017</td>\n",
       "      <td>2</td>\n",
       "    </tr>\n",
       "    <tr>\n",
       "      <th>1</th>\n",
       "      <td>114615_WSDA_SF_2017</td>\n",
       "      <td>1</td>\n",
       "    </tr>\n",
       "  </tbody>\n",
       "</table>\n",
       "</div>"
      ],
      "text/plain": [
       "                    ID  Vote\n",
       "0   99837_WSDA_SF_2017     2\n",
       "1  114615_WSDA_SF_2017     1"
      ]
     },
     "execution_count": 5,
     "metadata": {},
     "output_type": "execute_result"
    }
   ],
   "source": [
    "training_set_dir = \"/Users/hn/Documents/01_research_data/NASA/ML_data/\"\n",
    "ground_truth_labels = pd.read_csv(training_set_dir+\"train_labels.csv\")\n",
    "print (\"Unique Votes: \", ground_truth_labels.Vote.unique())\n",
    "print (len(ground_truth_labels.ID.unique()))\n",
    "ground_truth_labels.head(2)"
   ]
  },
  {
   "cell_type": "code",
   "execution_count": null,
   "id": "dfae0f32",
   "metadata": {},
   "outputs": [],
   "source": []
  },
  {
   "cell_type": "markdown",
   "id": "f90fc675",
   "metadata": {},
   "source": [
    "# Read the Data"
   ]
  },
  {
   "cell_type": "code",
   "execution_count": 6,
   "id": "a6429082",
   "metadata": {},
   "outputs": [],
   "source": [
    "VI_idx = \"EVI\"\n",
    "data_dir = \"/Users/hn/Documents/01_research_data/NASA/VI_TS/05_SG_TS/\""
   ]
  },
  {
   "cell_type": "code",
   "execution_count": 7,
   "id": "4a837be9",
   "metadata": {},
   "outputs": [
    {
     "data": {
      "text/html": [
       "<div>\n",
       "<style scoped>\n",
       "    .dataframe tbody tr th:only-of-type {\n",
       "        vertical-align: middle;\n",
       "    }\n",
       "\n",
       "    .dataframe tbody tr th {\n",
       "        vertical-align: top;\n",
       "    }\n",
       "\n",
       "    .dataframe thead th {\n",
       "        text-align: right;\n",
       "    }\n",
       "</style>\n",
       "<table border=\"1\" class=\"dataframe\">\n",
       "  <thead>\n",
       "    <tr style=\"text-align: right;\">\n",
       "      <th></th>\n",
       "      <th>ID</th>\n",
       "      <th>human_system_start_time</th>\n",
       "      <th>EVI</th>\n",
       "    </tr>\n",
       "  </thead>\n",
       "  <tbody>\n",
       "    <tr>\n",
       "      <th>0</th>\n",
       "      <td>135073_WSDA_SF_2015</td>\n",
       "      <td>2015-01-10</td>\n",
       "      <td>0.054429</td>\n",
       "    </tr>\n",
       "    <tr>\n",
       "      <th>1</th>\n",
       "      <td>135073_WSDA_SF_2015</td>\n",
       "      <td>2015-01-20</td>\n",
       "      <td>0.051731</td>\n",
       "    </tr>\n",
       "  </tbody>\n",
       "</table>\n",
       "</div>"
      ],
      "text/plain": [
       "                    ID human_system_start_time       EVI\n",
       "0  135073_WSDA_SF_2015              2015-01-10  0.054429\n",
       "1  135073_WSDA_SF_2015              2015-01-20  0.051731"
      ]
     },
     "execution_count": 7,
     "metadata": {},
     "output_type": "execute_result"
    }
   ],
   "source": [
    "file_names = [\"SG_Walla2015_\" + VI_idx + \"_JFD.csv\", \"SG_AdamBenton2016_\" + VI_idx + \"_JFD.csv\", \n",
    "              \"SG_Grant2017_\" + VI_idx + \"_JFD.csv\", \"SG_FranklinYakima2018_\"+ VI_idx +\"_JFD.csv\"]\n",
    "\n",
    "data=pd.DataFrame()\n",
    "\n",
    "for file in file_names:\n",
    "    curr_file=pd.read_csv(data_dir + file)\n",
    "    curr_file['human_system_start_time'] = pd.to_datetime(curr_file['human_system_start_time'])\n",
    "    \n",
    "    # These data are for 3 years. The middle one is the correct one\n",
    "    all_years = sorted(curr_file.human_system_start_time.dt.year.unique())\n",
    "    if len(all_years)==3 or len(all_years)==2:\n",
    "        proper_year = all_years[1]\n",
    "    elif len(all_years)==1:\n",
    "        proper_year = all_years[0]\n",
    "\n",
    "    curr_file = curr_file[curr_file.human_system_start_time.dt.year==proper_year]\n",
    "    data=pd.concat([data, curr_file])\n",
    "\n",
    "data.reset_index(drop=True, inplace=True)\n",
    "data.head(2)"
   ]
  },
  {
   "cell_type": "code",
   "execution_count": 8,
   "id": "1f061df0",
   "metadata": {},
   "outputs": [],
   "source": [
    "ground_truth = data[data.ID.isin(list(ground_truth_labels.ID.unique()))].copy()"
   ]
  },
  {
   "cell_type": "markdown",
   "id": "d8dded72",
   "metadata": {},
   "source": [
    "# Toss small fields"
   ]
  },
  {
   "cell_type": "code",
   "execution_count": 9,
   "id": "5601a275",
   "metadata": {},
   "outputs": [],
   "source": [
    "ground_truth = ground_truth[ground_truth.ID.isin((list(meta_moreThan10Acr.ID)))].copy()\n",
    "ground_truth_labels = ground_truth_labels[ground_truth_labels.ID.isin((list(meta_moreThan10Acr.ID)))].copy()"
   ]
  },
  {
   "cell_type": "markdown",
   "id": "eb5a5eb1",
   "metadata": {},
   "source": [
    "# Sort the order of time-series and experts' labels identically"
   ]
  },
  {
   "cell_type": "code",
   "execution_count": 10,
   "id": "e159c2d5",
   "metadata": {},
   "outputs": [
    {
     "name": "stdout",
     "output_type": "stream",
     "text": [
      "100048_WSDA_SF_2017\n",
      "100048_WSDA_SF_2017\n",
      "____________________________________\n",
      "99909_WSDA_SF_2017\n",
      "99909_WSDA_SF_2017\n",
      "____________________________________\n",
      "True\n"
     ]
    }
   ],
   "source": [
    "ground_truth.sort_values(by=[\"ID\", 'human_system_start_time'], inplace=True)\n",
    "ground_truth_labels.sort_values(by=[\"ID\"], inplace=True)\n",
    "\n",
    "ground_truth.reset_index(drop=True, inplace=True)\n",
    "ground_truth_labels.reset_index(drop=True, inplace=True)\n",
    "\n",
    "assert (len(ground_truth.ID.unique()) == len(ground_truth_labels.ID.unique()))\n",
    "\n",
    "print (list(ground_truth.ID)[0])\n",
    "print (list(ground_truth_labels.ID)[0])\n",
    "print (\"____________________________________\")\n",
    "print (list(ground_truth.ID)[-1])\n",
    "print (list(ground_truth_labels.ID)[-1])\n",
    "print (\"____________________________________\")\n",
    "print (list(ground_truth.ID.unique())==list(ground_truth_labels.ID.unique()))"
   ]
  },
  {
   "cell_type": "code",
   "execution_count": 11,
   "id": "3805f0aa",
   "metadata": {},
   "outputs": [
    {
     "data": {
      "text/html": [
       "<div>\n",
       "<style scoped>\n",
       "    .dataframe tbody tr th:only-of-type {\n",
       "        vertical-align: middle;\n",
       "    }\n",
       "\n",
       "    .dataframe tbody tr th {\n",
       "        vertical-align: top;\n",
       "    }\n",
       "\n",
       "    .dataframe thead th {\n",
       "        text-align: right;\n",
       "    }\n",
       "</style>\n",
       "<table border=\"1\" class=\"dataframe\">\n",
       "  <thead>\n",
       "    <tr style=\"text-align: right;\">\n",
       "      <th></th>\n",
       "      <th>ID</th>\n",
       "      <th>human_system_start_time</th>\n",
       "      <th>EVI</th>\n",
       "    </tr>\n",
       "  </thead>\n",
       "  <tbody>\n",
       "    <tr>\n",
       "      <th>0</th>\n",
       "      <td>100048_WSDA_SF_2017</td>\n",
       "      <td>2017-01-06</td>\n",
       "      <td>0.0</td>\n",
       "    </tr>\n",
       "    <tr>\n",
       "      <th>1</th>\n",
       "      <td>100048_WSDA_SF_2017</td>\n",
       "      <td>2017-01-16</td>\n",
       "      <td>0.0</td>\n",
       "    </tr>\n",
       "  </tbody>\n",
       "</table>\n",
       "</div>"
      ],
      "text/plain": [
       "                    ID human_system_start_time  EVI\n",
       "0  100048_WSDA_SF_2017              2017-01-06  0.0\n",
       "1  100048_WSDA_SF_2017              2017-01-16  0.0"
      ]
     },
     "execution_count": 11,
     "metadata": {},
     "output_type": "execute_result"
    }
   ],
   "source": [
    "ground_truth.head(2)"
   ]
  },
  {
   "cell_type": "code",
   "execution_count": 12,
   "id": "07bcb257",
   "metadata": {},
   "outputs": [
    {
     "data": {
      "text/html": [
       "<div>\n",
       "<style scoped>\n",
       "    .dataframe tbody tr th:only-of-type {\n",
       "        vertical-align: middle;\n",
       "    }\n",
       "\n",
       "    .dataframe tbody tr th {\n",
       "        vertical-align: top;\n",
       "    }\n",
       "\n",
       "    .dataframe thead th {\n",
       "        text-align: right;\n",
       "    }\n",
       "</style>\n",
       "<table border=\"1\" class=\"dataframe\">\n",
       "  <thead>\n",
       "    <tr style=\"text-align: right;\">\n",
       "      <th></th>\n",
       "      <th>ID</th>\n",
       "      <th>Vote</th>\n",
       "    </tr>\n",
       "  </thead>\n",
       "  <tbody>\n",
       "    <tr>\n",
       "      <th>0</th>\n",
       "      <td>100048_WSDA_SF_2017</td>\n",
       "      <td>1</td>\n",
       "    </tr>\n",
       "    <tr>\n",
       "      <th>1</th>\n",
       "      <td>100081_WSDA_SF_2017</td>\n",
       "      <td>1</td>\n",
       "    </tr>\n",
       "  </tbody>\n",
       "</table>\n",
       "</div>"
      ],
      "text/plain": [
       "                    ID  Vote\n",
       "0  100048_WSDA_SF_2017     1\n",
       "1  100081_WSDA_SF_2017     1"
      ]
     },
     "execution_count": 12,
     "metadata": {},
     "output_type": "execute_result"
    }
   ],
   "source": [
    "ground_truth_labels.head(2)"
   ]
  },
  {
   "cell_type": "code",
   "execution_count": 13,
   "id": "f3a627f2",
   "metadata": {},
   "outputs": [
    {
     "name": "stdout",
     "output_type": "stream",
     "text": [
      "                    ID  EVI_range\n",
      "0  100048_WSDA_SF_2017   0.542756\n",
      "1  100081_WSDA_SF_2017   0.641120\n"
     ]
    },
    {
     "data": {
      "text/html": [
       "<div>\n",
       "<style scoped>\n",
       "    .dataframe tbody tr th:only-of-type {\n",
       "        vertical-align: middle;\n",
       "    }\n",
       "\n",
       "    .dataframe tbody tr th {\n",
       "        vertical-align: top;\n",
       "    }\n",
       "\n",
       "    .dataframe thead th {\n",
       "        text-align: right;\n",
       "    }\n",
       "</style>\n",
       "<table border=\"1\" class=\"dataframe\">\n",
       "  <thead>\n",
       "    <tr style=\"text-align: right;\">\n",
       "      <th></th>\n",
       "      <th>ID</th>\n",
       "      <th>human_system_start_time</th>\n",
       "      <th>EVI</th>\n",
       "      <th>EVI_range</th>\n",
       "      <th>EVI_min</th>\n",
       "      <th>EVI_ratio</th>\n",
       "    </tr>\n",
       "  </thead>\n",
       "  <tbody>\n",
       "    <tr>\n",
       "      <th>0</th>\n",
       "      <td>100048_WSDA_SF_2017</td>\n",
       "      <td>2017-01-06</td>\n",
       "      <td>0.0</td>\n",
       "      <td>0.542756</td>\n",
       "      <td>-0.006879</td>\n",
       "      <td>0.012674</td>\n",
       "    </tr>\n",
       "    <tr>\n",
       "      <th>1</th>\n",
       "      <td>100048_WSDA_SF_2017</td>\n",
       "      <td>2017-01-16</td>\n",
       "      <td>0.0</td>\n",
       "      <td>0.542756</td>\n",
       "      <td>-0.006879</td>\n",
       "      <td>0.012674</td>\n",
       "    </tr>\n",
       "  </tbody>\n",
       "</table>\n",
       "</div>"
      ],
      "text/plain": [
       "                    ID human_system_start_time  EVI  EVI_range   EVI_min  \\\n",
       "0  100048_WSDA_SF_2017              2017-01-06  0.0   0.542756 -0.006879   \n",
       "1  100048_WSDA_SF_2017              2017-01-16  0.0   0.542756 -0.006879   \n",
       "\n",
       "   EVI_ratio  \n",
       "0   0.012674  \n",
       "1   0.012674  "
      ]
     },
     "execution_count": 13,
     "metadata": {},
     "output_type": "execute_result"
    }
   ],
   "source": [
    "mins = ground_truth.groupby(\"ID\")[VI_idx].min()\n",
    "maxs = ground_truth.groupby(\"ID\")[VI_idx].max()\n",
    "_ranges = maxs-mins\n",
    "_ranges = pd.DataFrame(_ranges)\n",
    "_ranges.reset_index(inplace=True)\n",
    "\n",
    "mins = pd.DataFrame(mins)\n",
    "mins.reset_index(inplace=True)\n",
    "\n",
    "\n",
    "_ranges.rename(columns = {'EVI':'EVI_range'}, inplace = True)\n",
    "mins.rename(columns = {'EVI':'EVI_min'}, inplace = True)\n",
    "\n",
    "print (_ranges.head(2))\n",
    "\n",
    "ground_truth = pd.merge(ground_truth, _ranges, on=['ID'], how='left')\n",
    "ground_truth = pd.merge(ground_truth, mins, on=['ID'], how='left')\n",
    "ground_truth[\"EVI_ratio\"] = (ground_truth[\"EVI\"]-ground_truth[\"EVI_min\"])/ground_truth[\"EVI_range\"]\n",
    "ground_truth.head(2)"
   ]
  },
  {
   "cell_type": "code",
   "execution_count": 14,
   "id": "6e6ae7c5",
   "metadata": {},
   "outputs": [
    {
     "data": {
      "image/png": "[encoded data removed]",
      "text/plain": [
       "<Figure size 1440x288 with 1 Axes>"
      ]
     },
     "metadata": {
      "needs_background": "light"
     },
     "output_type": "display_data"
    }
   ],
   "source": [
    "ID_1=ground_truth.ID.unique()[0]\n",
    "ID_2=ground_truth.ID.unique()[12]\n",
    "\n",
    "# _minimum = ground_truth[ground_truth.ID==ID_1].EVI.values.min()\n",
    "# _range = ground_truth[ground_truth.ID==ID_1].EVI.values.max()-_minimum\n",
    "# y_1 = (ground_truth[ground_truth.ID==ID_1].EVI.values-_minimum)/_range\n",
    "# _minimum = ground_truth[ground_truth.ID==ID_2].EVI.values.min()\n",
    "# _range = ground_truth[ground_truth.ID==ID_2].EVI.values.max()-_minimum\n",
    "# y_2 = (ground_truth[ground_truth.ID==ID_2].EVI.values-_minimum)/_range\n",
    "\n",
    "dtw_score = dtw_metric(ground_truth[ground_truth.ID==ID_1].EVI.values, \n",
    "                       ground_truth[ground_truth.ID==ID_2].EVI.values)\n",
    "\n",
    "dtw_score_ratios = dtw_metric(ground_truth[ground_truth.ID==ID_1].EVI_ratio.values, \n",
    "                       ground_truth[ground_truth.ID==ID_2].EVI_ratio.values)\n",
    "\n",
    "# print (\"dtw score is {:.2f}.\".format(dtw_score))\n",
    "\n",
    "plt.figure(figsize=(20,4))\n",
    "plt.subplot(1, 1, 1)\n",
    "\n",
    "# plot EVIs\n",
    "plt.plot(range(len(ground_truth[ground_truth.ID==ID_1].human_system_start_time.values)),\n",
    "         ground_truth[ground_truth.ID==ID_1].EVI.values,\n",
    "        c='k', linewidth=5);\n",
    "\n",
    "\n",
    "plt.plot(range(len(ground_truth[ground_truth.ID==ID_2].human_system_start_time.values)),\n",
    "         ground_truth[ground_truth.ID==ID_2].EVI.values,\n",
    "        c='red', linewidth=5);\n",
    "\n",
    "# plot ratios\n",
    "plt.plot(range(len(ground_truth[ground_truth.ID==ID_1].human_system_start_time.values)), \n",
    "         ground_truth[ground_truth.ID==ID_1].EVI_ratio.values,\n",
    "         \".-.\", c='k', linewidth=2, label=\"ratios\");\n",
    "\n",
    "plt.plot(range(len(ground_truth[ground_truth.ID==ID_2].human_system_start_time.values)), \n",
    "         ground_truth[ground_truth.ID==ID_2].EVI_ratio.values,\n",
    "         \".-.\", c='red', linewidth=2, label=\"ratios\");\n",
    "\n",
    "\n",
    "title = \"dtw score for EVI is [{:.2f}] and for ratios is [{:.2f}].\".format(dtw_score, dtw_score_ratios)\n",
    "plt.ylim([-0.2, 1.05]);\n",
    "plt.title(title , fontsize = 20);"
   ]
  },
  {
   "cell_type": "code",
   "execution_count": 15,
   "id": "5d75afe8",
   "metadata": {},
   "outputs": [
    {
     "data": {
      "image/png": "[encoded data removed]",
      "text/plain": [
       "<Figure size 432x288 with 2 Axes>"
      ]
     },
     "metadata": {
      "needs_background": "light"
     },
     "output_type": "display_data"
    }
   ],
   "source": [
    "s1=ground_truth[ground_truth.ID==ID_1].EVI_ratio.values\n",
    "s2=ground_truth[ground_truth.ID==ID_2].EVI_ratio.values\n",
    "path = dtw.warping_path(s1, s2)\n",
    "dtwvis.plot_warping(s1, s2, path)\n",
    "distance = dtw.distance(s1, s2)"
   ]
  },
  {
   "cell_type": "code",
   "execution_count": null,
   "id": "d667ef72",
   "metadata": {},
   "outputs": [],
   "source": []
  },
  {
   "cell_type": "code",
   "execution_count": 16,
   "id": "64f00f4c",
   "metadata": {},
   "outputs": [],
   "source": [
    "def DTW_prune(ts1, ts2):\n",
    "    d,_ = dtw.warping_paths(ts1, ts2, window=10, use_pruning=True);\n",
    "    return d\n",
    "    "
   ]
  },
  {
   "cell_type": "markdown",
   "id": "f7583e6e",
   "metadata": {},
   "source": [
    "# Widen Ground Truth Table"
   ]
  },
  {
   "cell_type": "code",
   "execution_count": 17,
   "id": "c15a3eac",
   "metadata": {},
   "outputs": [],
   "source": [
    "EVI_colnames = [VI_idx + \"_\" + str(ii) for ii in range(1, 37) ]\n",
    "columnNames = [\"ID\"] + EVI_colnames\n",
    "ground_truth_wide = pd.DataFrame(columns=columnNames, \n",
    "                             index=range(len(ground_truth.ID.unique())))\n",
    "ground_truth_wide[\"ID\"] = ground_truth.ID.unique()\n",
    "\n",
    "for an_ID in ground_truth.ID.unique():\n",
    "    curr_df = ground_truth[ground_truth.ID==an_ID]\n",
    "    \n",
    "    ground_truth_wide_indx = ground_truth_wide[ground_truth_wide.ID==an_ID].index\n",
    "    ground_truth_wide.loc[ground_truth_wide_indx, \"EVI_1\":\"EVI_36\"] = curr_df.EVI.values[:36]"
   ]
  },
  {
   "cell_type": "code",
   "execution_count": 18,
   "id": "c38f9dad",
   "metadata": {},
   "outputs": [
    {
     "data": {
      "text/html": [
       "<div>\n",
       "<style scoped>\n",
       "    .dataframe tbody tr th:only-of-type {\n",
       "        vertical-align: middle;\n",
       "    }\n",
       "\n",
       "    .dataframe tbody tr th {\n",
       "        vertical-align: top;\n",
       "    }\n",
       "\n",
       "    .dataframe thead th {\n",
       "        text-align: right;\n",
       "    }\n",
       "</style>\n",
       "<table border=\"1\" class=\"dataframe\">\n",
       "  <thead>\n",
       "    <tr style=\"text-align: right;\">\n",
       "      <th></th>\n",
       "      <th>ID</th>\n",
       "      <th>EVI_1</th>\n",
       "      <th>EVI_2</th>\n",
       "      <th>EVI_3</th>\n",
       "      <th>EVI_4</th>\n",
       "      <th>EVI_5</th>\n",
       "      <th>EVI_6</th>\n",
       "      <th>EVI_7</th>\n",
       "      <th>EVI_8</th>\n",
       "      <th>EVI_9</th>\n",
       "      <th>...</th>\n",
       "      <th>EVI_27</th>\n",
       "      <th>EVI_28</th>\n",
       "      <th>EVI_29</th>\n",
       "      <th>EVI_30</th>\n",
       "      <th>EVI_31</th>\n",
       "      <th>EVI_32</th>\n",
       "      <th>EVI_33</th>\n",
       "      <th>EVI_34</th>\n",
       "      <th>EVI_35</th>\n",
       "      <th>EVI_36</th>\n",
       "    </tr>\n",
       "  </thead>\n",
       "  <tbody>\n",
       "    <tr>\n",
       "      <th>0</th>\n",
       "      <td>100048_WSDA_SF_2017</td>\n",
       "      <td>0.0</td>\n",
       "      <td>0.0</td>\n",
       "      <td>0.0</td>\n",
       "      <td>0.0</td>\n",
       "      <td>-0.006879</td>\n",
       "      <td>0.00189</td>\n",
       "      <td>0.022394</td>\n",
       "      <td>0.058236</td>\n",
       "      <td>0.084847</td>\n",
       "      <td>...</td>\n",
       "      <td>0.117901</td>\n",
       "      <td>0.118943</td>\n",
       "      <td>0.10218</td>\n",
       "      <td>0.083567</td>\n",
       "      <td>0.060726</td>\n",
       "      <td>0.043216</td>\n",
       "      <td>0.044677</td>\n",
       "      <td>0.043529</td>\n",
       "      <td>0.044976</td>\n",
       "      <td>0.047556</td>\n",
       "    </tr>\n",
       "    <tr>\n",
       "      <th>1</th>\n",
       "      <td>100081_WSDA_SF_2017</td>\n",
       "      <td>0.061194</td>\n",
       "      <td>0.17806</td>\n",
       "      <td>0.314768</td>\n",
       "      <td>0.400648</td>\n",
       "      <td>0.372504</td>\n",
       "      <td>0.300225</td>\n",
       "      <td>0.248369</td>\n",
       "      <td>0.287094</td>\n",
       "      <td>0.38641</td>\n",
       "      <td>...</td>\n",
       "      <td>0.113426</td>\n",
       "      <td>0.129493</td>\n",
       "      <td>0.131741</td>\n",
       "      <td>0.106022</td>\n",
       "      <td>0.063932</td>\n",
       "      <td>0.038309</td>\n",
       "      <td>0.047011</td>\n",
       "      <td>0.076422</td>\n",
       "      <td>0.104836</td>\n",
       "      <td>0.107314</td>\n",
       "    </tr>\n",
       "  </tbody>\n",
       "</table>\n",
       "<p>2 rows × 37 columns</p>\n",
       "</div>"
      ],
      "text/plain": [
       "                    ID     EVI_1    EVI_2     EVI_3     EVI_4     EVI_5  \\\n",
       "0  100048_WSDA_SF_2017       0.0      0.0       0.0       0.0 -0.006879   \n",
       "1  100081_WSDA_SF_2017  0.061194  0.17806  0.314768  0.400648  0.372504   \n",
       "\n",
       "      EVI_6     EVI_7     EVI_8     EVI_9  ...    EVI_27    EVI_28    EVI_29  \\\n",
       "0   0.00189  0.022394  0.058236  0.084847  ...  0.117901  0.118943   0.10218   \n",
       "1  0.300225  0.248369  0.287094   0.38641  ...  0.113426  0.129493  0.131741   \n",
       "\n",
       "     EVI_30    EVI_31    EVI_32    EVI_33    EVI_34    EVI_35    EVI_36  \n",
       "0  0.083567  0.060726  0.043216  0.044677  0.043529  0.044976  0.047556  \n",
       "1  0.106022  0.063932  0.038309  0.047011  0.076422  0.104836  0.107314  \n",
       "\n",
       "[2 rows x 37 columns]"
      ]
     },
     "execution_count": 18,
     "metadata": {},
     "output_type": "execute_result"
    }
   ],
   "source": [
    "ground_truth_wide.head(2)"
   ]
  },
  {
   "cell_type": "code",
   "execution_count": 19,
   "id": "5b738816",
   "metadata": {},
   "outputs": [
    {
     "data": {
      "text/plain": [
       "(1342, 2)"
      ]
     },
     "execution_count": 19,
     "metadata": {},
     "output_type": "execute_result"
    }
   ],
   "source": [
    "ground_truth_labels.shape"
   ]
  },
  {
   "cell_type": "markdown",
   "id": "bbc1a58f",
   "metadata": {},
   "source": [
    "# Split Train and Test Set\n",
    "\n",
    "#### Make sure rows of ```ground_truth_allBands``` and ```ground_truth_labels``` are in the same order"
   ]
  },
  {
   "cell_type": "code",
   "execution_count": 20,
   "id": "3dcd2bcf",
   "metadata": {},
   "outputs": [],
   "source": [
    "ground_truth_labels = ground_truth_labels.set_index('ID')\n",
    "ground_truth_labels = ground_truth_labels.reindex(index=ground_truth_wide['ID'])\n",
    "ground_truth_labels = ground_truth_labels.reset_index()"
   ]
  },
  {
   "cell_type": "code",
   "execution_count": 21,
   "id": "74e40522",
   "metadata": {},
   "outputs": [
    {
     "data": {
      "text/html": [
       "<div>\n",
       "<style scoped>\n",
       "    .dataframe tbody tr th:only-of-type {\n",
       "        vertical-align: middle;\n",
       "    }\n",
       "\n",
       "    .dataframe tbody tr th {\n",
       "        vertical-align: top;\n",
       "    }\n",
       "\n",
       "    .dataframe thead th {\n",
       "        text-align: right;\n",
       "    }\n",
       "</style>\n",
       "<table border=\"1\" class=\"dataframe\">\n",
       "  <thead>\n",
       "    <tr style=\"text-align: right;\">\n",
       "      <th></th>\n",
       "      <th>ID</th>\n",
       "      <th>Vote</th>\n",
       "    </tr>\n",
       "  </thead>\n",
       "  <tbody>\n",
       "    <tr>\n",
       "      <th>0</th>\n",
       "      <td>100048_WSDA_SF_2017</td>\n",
       "      <td>1</td>\n",
       "    </tr>\n",
       "    <tr>\n",
       "      <th>1</th>\n",
       "      <td>100081_WSDA_SF_2017</td>\n",
       "      <td>1</td>\n",
       "    </tr>\n",
       "  </tbody>\n",
       "</table>\n",
       "</div>"
      ],
      "text/plain": [
       "                    ID  Vote\n",
       "0  100048_WSDA_SF_2017     1\n",
       "1  100081_WSDA_SF_2017     1"
      ]
     },
     "execution_count": 21,
     "metadata": {},
     "output_type": "execute_result"
    }
   ],
   "source": [
    "ground_truth_labels.head(2)"
   ]
  },
  {
   "cell_type": "code",
   "execution_count": 22,
   "id": "8c6759ac",
   "metadata": {},
   "outputs": [],
   "source": [
    "x_train_df, x_test_df, y_train_df, y_test_df = train_test_split(ground_truth_wide, \n",
    "                                                                ground_truth_labels, \n",
    "                                                                test_size=0.2, \n",
    "                                                                random_state=0,\n",
    "                                                                shuffle=True,\n",
    "                                                                stratify=ground_truth_labels.Vote.values)"
   ]
  },
  {
   "cell_type": "markdown",
   "id": "97ccea00",
   "metadata": {},
   "source": [
    "# Train"
   ]
  },
  {
   "cell_type": "code",
   "execution_count": 23,
   "id": "f858d3a7",
   "metadata": {},
   "outputs": [
    {
     "name": "stdout",
     "output_type": "stream",
     "text": [
      "Fitting 5 folds for each of 13 candidates, totalling 65 fits\n",
      "CPU times: total: 5h 12min 32s\n",
      "Wall time: 11h 2min 46s\n"
     ]
    },
    {
     "data": {
      "text/plain": [
       "GridSearchCV(cv=5,\n",
       "             estimator=KNeighborsClassifier(metric=<function DTW_prune at 0x0000025B3985EB80>),\n",
       "             param_grid={'n_neighbors': [2, 4, 8, 9, 10, 11, 12, 13, 14, 15, 16,\n",
       "                                         17, 20],\n",
       "                         'weights': ['uniform']},\n",
       "             verbose=1)"
      ]
     },
     "execution_count": 23,
     "metadata": {},
     "output_type": "execute_result"
    }
   ],
   "source": [
    "%%time\n",
    "parameters = {'n_neighbors':[2, 4, 8, 9, 10, 11, 12, 13, 14, 15, 16, 17, 20],\n",
    "              \"weights\":[\"uniform\"]}\n",
    "KNN_DTW_prune = GridSearchCV(KNeighborsClassifier(metric=DTW_prune), parameters, cv=5, verbose=1)\n",
    "KNN_DTW_prune.fit(x_train_df.iloc[:, 1:], y_train_df.Vote.values)"
   ]
  },
  {
   "cell_type": "code",
   "execution_count": 24,
   "id": "290e8060",
   "metadata": {},
   "outputs": [
    {
     "name": "stdout",
     "output_type": "stream",
     "text": [
      "{'n_neighbors': 9, 'weights': 'uniform'}\n"
     ]
    }
   ],
   "source": [
    "print (KNN_DTW_prune.best_params_)"
   ]
  },
  {
   "cell_type": "code",
   "execution_count": 25,
   "id": "fa07cfcf",
   "metadata": {},
   "outputs": [],
   "source": [
    "x_test_df = x_test_df[x_test_df.ID.isin((list(meta_moreThan10Acr.ID)))].copy()\n",
    "y_test_df = y_test_df[y_test_df.ID.isin((list(meta_moreThan10Acr.ID)))].copy()"
   ]
  },
  {
   "cell_type": "code",
   "execution_count": 51,
   "id": "96843def",
   "metadata": {},
   "outputs": [
    {
     "name": "stdout",
     "output_type": "stream",
     "text": [
      "CPU times: total: 7min 11s\n",
      "Wall time: 7min 12s\n"
     ]
    }
   ],
   "source": [
    "%%time\n",
    "KNN_DTW_prune_predictions_uniform = KNN_DTW_prune.predict(x_test_df.iloc[:, 1:])"
   ]
  },
  {
   "cell_type": "code",
   "execution_count": 52,
   "id": "03bebd61",
   "metadata": {},
   "outputs": [
    {
     "data": {
      "text/plain": [
       "260"
      ]
     },
     "execution_count": 52,
     "metadata": {},
     "output_type": "execute_result"
    }
   ],
   "source": [
    "(KNN_DTW_prune_predictions_uniform==y_test_df.Vote).sum()"
   ]
  },
  {
   "cell_type": "markdown",
   "id": "02bd46ca",
   "metadata": {},
   "source": [
    "# Definitions\n",
    "\n",
    "  - **Precision** Of all instances we predict $\\hat y = 1$, what fraction is actually 1.\n",
    "     \\begin{equation}\\label{eq:precision}\n",
    "        \\text{Precision} = \\frac{\\text{TP}}{\\text{TP} + \\text{FP}}\n",
    "     \\end{equation}\n",
    "\n",
    "  - **Recall** Of all instances that are actually $y = 1$, what fraction we predict 1.\n",
    "     \\begin{equation}\\label{eq:recall}\n",
    "         \\text{Recall} = \\text{TPR} = \\frac{\\text{TP}}{\\text{TP} + \\text{FN}}\n",
    "     \\end{equation}\n",
    "     \n",
    "  - **Specifity** Fraction of all negative instances that are incorrectly predicted positive.\n",
    "     \\begin{equation}\\label{eq:specifity}\n",
    "        \\text{Specifity} = \\text{FPR} = \\frac{\\text{FP}}{\\text{TN} + \\text{FP}}\\\\\n",
    "     \\end{equation}\n",
    "     \n",
    "  - **F-Score** Adjust $\\beta$ for trade off between  precision and recall. For precision oriented task $\\beta = 0.5$.\n",
    "     \\begin{equation}\\label{eq:Fscore}\n",
    "        F_\\beta = \\frac{(1+\\beta^2) \\times \\text{TP}}{ (1+\\beta^2) \\times  \\text{TP} + \\beta^2 \\text{FN} + \\text{FP}}\n",
    "     \\end{equation}\n",
    "\n"
   ]
  },
  {
   "cell_type": "code",
   "execution_count": 53,
   "id": "cb357beb",
   "metadata": {},
   "outputs": [
    {
     "data": {
      "text/html": [
       "<div>\n",
       "<style scoped>\n",
       "    .dataframe tbody tr th:only-of-type {\n",
       "        vertical-align: middle;\n",
       "    }\n",
       "\n",
       "    .dataframe tbody tr th {\n",
       "        vertical-align: top;\n",
       "    }\n",
       "\n",
       "    .dataframe thead th {\n",
       "        text-align: right;\n",
       "    }\n",
       "</style>\n",
       "<table border=\"1\" class=\"dataframe\">\n",
       "  <thead>\n",
       "    <tr style=\"text-align: right;\">\n",
       "      <th></th>\n",
       "      <th>ID</th>\n",
       "      <th>Vote</th>\n",
       "      <th>KNN_DTW_prune_predictions_uniform</th>\n",
       "    </tr>\n",
       "  </thead>\n",
       "  <tbody>\n",
       "    <tr>\n",
       "      <th>1221</th>\n",
       "      <td>7667_WSDA_SF_2016</td>\n",
       "      <td>1</td>\n",
       "      <td>1</td>\n",
       "    </tr>\n",
       "    <tr>\n",
       "      <th>1334</th>\n",
       "      <td>99748_WSDA_SF_2017</td>\n",
       "      <td>1</td>\n",
       "      <td>1</td>\n",
       "    </tr>\n",
       "  </tbody>\n",
       "</table>\n",
       "</div>"
      ],
      "text/plain": [
       "                      ID  Vote  KNN_DTW_prune_predictions_uniform\n",
       "1221   7667_WSDA_SF_2016     1                                  1\n",
       "1334  99748_WSDA_SF_2017     1                                  1"
      ]
     },
     "execution_count": 53,
     "metadata": {},
     "output_type": "execute_result"
    }
   ],
   "source": [
    "y_test_df_copy_uniform=y_test_df.copy()\n",
    "y_test_df_copy_uniform[\"KNN_DTW_prune_predictions_uniform\"] = list(KNN_DTW_prune_predictions_uniform)\n",
    "y_test_df_copy_uniform.head(2)"
   ]
  },
  {
   "cell_type": "code",
   "execution_count": null,
   "id": "af8b84c8",
   "metadata": {},
   "outputs": [],
   "source": []
  },
  {
   "cell_type": "code",
   "execution_count": 55,
   "id": "500aa936",
   "metadata": {},
   "outputs": [],
   "source": [
    "true_single_predicted_single=0\n",
    "true_single_predicted_double=0\n",
    "\n",
    "true_double_predicted_single=0\n",
    "true_double_predicted_double=0\n",
    "\n",
    "for index in y_test_df_copy.index:\n",
    "    curr_vote=list(y_test_df_copy[y_test_df_copy.index==index].Vote)[0]\n",
    "    curr_predict=list(y_test_df_copy_uniform[y_test_df_copy.index==index].KNN_DTW_prune_predictions_uniform)[0]\n",
    "    if curr_vote==curr_predict:\n",
    "        if curr_vote==1:\n",
    "            true_single_predicted_single+=1\n",
    "        else:\n",
    "            true_double_predicted_double+=1\n",
    "    else:\n",
    "        if curr_vote==1:\n",
    "            true_single_predicted_double+=1\n",
    "        else:\n",
    "            true_double_predicted_single+=1"
   ]
  },
  {
   "cell_type": "code",
   "execution_count": 73,
   "id": "08ec47a7",
   "metadata": {},
   "outputs": [
    {
     "data": {
      "text/plain": [
       "439.8096001755226"
      ]
     },
     "execution_count": 73,
     "metadata": {},
     "output_type": "execute_result"
    }
   ],
   "source": [
    "A = y_test_df_copy_uniform[y_test_df_copy_uniform.Vote==2]\n",
    "A = A[A.KNN_DTW_prune_predictions_uniform==1]\n",
    "meta[meta.ID.isin(list(A.ID))].ExctAcr.sum()"
   ]
  },
  {
   "cell_type": "code",
   "execution_count": 74,
   "id": "4b1758c4",
   "metadata": {},
   "outputs": [
    {
     "data": {
      "text/plain": [
       "422.5279144711811"
      ]
     },
     "execution_count": 74,
     "metadata": {},
     "output_type": "execute_result"
    }
   ],
   "source": [
    "A = y_test_df_copy_uniform[y_test_df_copy_uniform.Vote==1]\n",
    "A = A[A.KNN_DTW_prune_predictions_uniform==2]\n",
    "meta[meta.ID.isin(list(A.ID))].ExctAcr.sum()"
   ]
  },
  {
   "cell_type": "markdown",
   "id": "efaffc17",
   "metadata": {},
   "source": [
    "# Confusion Table for Test Set"
   ]
  },
  {
   "cell_type": "code",
   "execution_count": 56,
   "id": "7c55ad02",
   "metadata": {},
   "outputs": [
    {
     "data": {
      "text/html": [
       "<div>\n",
       "<style scoped>\n",
       "    .dataframe tbody tr th:only-of-type {\n",
       "        vertical-align: middle;\n",
       "    }\n",
       "\n",
       "    .dataframe tbody tr th {\n",
       "        vertical-align: top;\n",
       "    }\n",
       "\n",
       "    .dataframe thead th {\n",
       "        text-align: right;\n",
       "    }\n",
       "</style>\n",
       "<table border=\"1\" class=\"dataframe\">\n",
       "  <thead>\n",
       "    <tr style=\"text-align: right;\">\n",
       "      <th></th>\n",
       "      <th>NoName</th>\n",
       "      <th>Predict_Single</th>\n",
       "      <th>Predict_Double</th>\n",
       "    </tr>\n",
       "  </thead>\n",
       "  <tbody>\n",
       "    <tr>\n",
       "      <th>0</th>\n",
       "      <td>Actual_Single</td>\n",
       "      <td>215</td>\n",
       "      <td>4</td>\n",
       "    </tr>\n",
       "    <tr>\n",
       "      <th>1</th>\n",
       "      <td>Actual_Double</td>\n",
       "      <td>5</td>\n",
       "      <td>45</td>\n",
       "    </tr>\n",
       "  </tbody>\n",
       "</table>\n",
       "</div>"
      ],
      "text/plain": [
       "          NoName  Predict_Single  Predict_Double\n",
       "0  Actual_Single             215               4\n",
       "1  Actual_Double               5              45"
      ]
     },
     "execution_count": 56,
     "metadata": {},
     "output_type": "execute_result"
    }
   ],
   "source": [
    "confus_tbl_test_uniform = pd.DataFrame(columns=['NoName', 'Predict_Single', 'Predict_Double'], \n",
    "                               index=range(2))\n",
    "confus_tbl_test_uniform.loc[0, 'NoName'] = 'Actual_Single'\n",
    "confus_tbl_test_uniform.loc[1, 'NoName'] = 'Actual_Double'\n",
    "confus_tbl_test_uniform['Predict_Single']=0\n",
    "confus_tbl_test_uniform['Predict_Double']=0\n",
    "\n",
    "confus_tbl_test_uniform.loc[0, \"Predict_Single\"]=true_single_predicted_single\n",
    "confus_tbl_test_uniform.loc[0, \"Predict_Double\"]=true_single_predicted_double\n",
    "confus_tbl_test_uniform.loc[1, \"Predict_Single\"]=true_double_predicted_single\n",
    "confus_tbl_test_uniform.loc[1, \"Predict_Double\"]=true_double_predicted_double\n",
    "confus_tbl_test_uniform"
   ]
  },
  {
   "cell_type": "code",
   "execution_count": 57,
   "id": "580cbef7",
   "metadata": {},
   "outputs": [
    {
     "name": "stdout",
     "output_type": "stream",
     "text": [
      "              precision    recall  f1-score   support\n",
      "\n",
      "           1       0.98      0.98      0.98       219\n",
      "           2       0.92      0.90      0.91        50\n",
      "\n",
      "    accuracy                           0.97       269\n",
      "   macro avg       0.95      0.94      0.94       269\n",
      "weighted avg       0.97      0.97      0.97       269\n",
      "\n"
     ]
    }
   ],
   "source": [
    "print(classification_report(y_test_df.Vote, KNN_DTW_prune_predictions_uniform))"
   ]
  },
  {
   "cell_type": "code",
   "execution_count": null,
   "id": "7f741f43",
   "metadata": {},
   "outputs": [],
   "source": []
  },
  {
   "cell_type": "code",
   "execution_count": 33,
   "id": "3e8b3515",
   "metadata": {},
   "outputs": [
    {
     "name": "stdout",
     "output_type": "stream",
     "text": [
      "IF **Single** is positive and double is negative:\n",
      "\n",
      "Precision is [0.98]\n",
      "Recall is [0.98]\n",
      "_________________________________________________________\n",
      "IF **Single** is negative. double is positive:\n",
      "\n",
      "Precision is [0.92]\n",
      "Recall is [0.90]\n"
     ]
    }
   ],
   "source": [
    "print (\"IF **Single** is positive and double is negative:\")\n",
    "print (\"\")\n",
    "\n",
    "TP = list(confus_tbl_test[confus_tbl_test.NoName==\"Actual_Single\"][\"Predict_Single\"])[0]\n",
    "FP = list(confus_tbl_test[confus_tbl_test.NoName==\"Actual_Double\"][\"Predict_Single\"])[0]\n",
    "FN = list(confus_tbl_test[confus_tbl_test.NoName==\"Actual_Single\"][\"Predict_Double\"])[0]\n",
    "print (\"Precision is [{0:.2f}]\".format(TP/(TP+FP)))\n",
    "print (\"Recall is [{0:.2f}]\".format(TP/(TP+FN)))\n",
    "\n",
    "print (\"_________________________________________________________\")\n",
    "print (\"IF **Single** is negative. double is positive:\")\n",
    "\n",
    "TP = list(confus_tbl_test[confus_tbl_test.NoName==\"Actual_Double\"][\"Predict_Double\"])[0]\n",
    "FP = list(confus_tbl_test[confus_tbl_test.NoName==\"Actual_Single\"][\"Predict_Double\"])[0]\n",
    "FN = list(confus_tbl_test[confus_tbl_test.NoName==\"Actual_Double\"][\"Predict_Single\"])[0]\n",
    "\n",
    "print (\"\")\n",
    "print (\"Precision is [{0:.2f}]\".format(TP/(TP+FP)))\n",
    "print (\"Recall is [{0:.2f}]\".format(TP/(TP+FN)))"
   ]
  },
  {
   "cell_type": "markdown",
   "id": "c080a140",
   "metadata": {},
   "source": [
    "# Export Trained Model"
   ]
  },
  {
   "cell_type": "code",
   "execution_count": 35,
   "id": "85627170",
   "metadata": {},
   "outputs": [],
   "source": [
    "import pickle\n",
    "model_dir = \"/Users/hn/Documents/01_research_data/NASA/ML_Models/\"\n",
    "\n",
    "filename = model_dir + \"00_KNN_SG_\"+ VI_idx + \"_DTW_prune_\" + KNN_DTW_prune.best_params_[\"weights\"] + \"Weight_\" + \\\n",
    "                        str(KNN_DTW_prune.best_params_[\"n_neighbors\"]) + \"NNisBest.sav\"\n",
    "print (filename)\n",
    "pickle.dump(KNN_DTW_prune, open(filename, 'wb'))"
   ]
  },
  {
   "cell_type": "code",
   "execution_count": 36,
   "id": "7511d251",
   "metadata": {},
   "outputs": [],
   "source": [
    "# How to load the saved model:\n",
    "# loaded_model_KNN_DTW_prune = pickle.load(open(filename, 'rb'))\n",
    "# loaded_model.predict(x_test_df.iloc[0:2, 1:])"
   ]
  },
  {
   "cell_type": "code",
   "execution_count": 37,
   "id": "64ecac56",
   "metadata": {},
   "outputs": [],
   "source": [
    "# %%time\n",
    "# parameters = {'n_neighbors':[10]}\n",
    "# KNN_DTW_prune_10NN = GridSearchCV(KNeighborsClassifier(metric=DTW_prune), parameters, cv=5, verbose=1);\n",
    "# KNN_DTW_prune_10NN.fit(x_train_df.iloc[:, 1:], y_train_df.Vote.values);\n",
    "# %%time\n",
    "# KNN_DTW_prune_10NN_predictions = KNN_DTW_prune_10NN.predict(x_test_df.iloc[:, 1:])"
   ]
  },
  {
   "cell_type": "code",
   "execution_count": null,
   "id": "386365c9",
   "metadata": {},
   "outputs": [],
   "source": []
  },
  {
   "cell_type": "markdown",
   "id": "a6368b76",
   "metadata": {},
   "source": [
    "# Improve"
   ]
  },
  {
   "cell_type": "markdown",
   "id": "91e3a60b",
   "metadata": {},
   "source": [
    "### Lets see if putting weights will make a difference"
   ]
  },
  {
   "cell_type": "code",
   "execution_count": 38,
   "id": "b041ea37",
   "metadata": {
    "scrolled": true
   },
   "outputs": [
    {
     "name": "stdout",
     "output_type": "stream",
     "text": [
      "Fitting 5 folds for each of 17 candidates, totalling 85 fits\n",
      "CPU times: total: 6h 45min 42s\n",
      "Wall time: 6h 52min 19s\n"
     ]
    },
    {
     "data": {
      "text/plain": [
       "GridSearchCV(cv=5,\n",
       "             estimator=KNeighborsClassifier(metric=<function DTW_prune at 0x0000025B3985EB80>),\n",
       "             param_grid={'n_neighbors': [2, 4, 6, 7, 8, 9, 10, 11, 12, 13, 14,\n",
       "                                         15, 16, 17, 18, 19, 20],\n",
       "                         'weights': ['distance']},\n",
       "             verbose=1)"
      ]
     },
     "execution_count": 38,
     "metadata": {},
     "output_type": "execute_result"
    }
   ],
   "source": [
    "%%time\n",
    "parameters = {'n_neighbors':[2, 4, 6, 7, 8, 9, 10, 11, 12, 13, 14, 15, 16, 17, 18, 19, 20],\n",
    "              \"weights\":[\"distance\"]}\n",
    "KNN_DTW_prune_weightsDistance = GridSearchCV(KNeighborsClassifier(metric=DTW_prune), \n",
    "                                             parameters, cv=5, verbose=1)\n",
    "KNN_DTW_prune_weightsDistance.fit(x_train_df.iloc[:, 1:], y_train_df.Vote.values)"
   ]
  },
  {
   "cell_type": "code",
   "execution_count": 39,
   "id": "32c1992a",
   "metadata": {},
   "outputs": [
    {
     "name": "stdout",
     "output_type": "stream",
     "text": [
      "KNN_DTW_prune_weightsDistance.best_params_ is {'n_neighbors': 4, 'weights': 'distance'}\n",
      "KNN_DTW_prune.best_params_ is {'n_neighbors': 9, 'weights': 'uniform'}\n"
     ]
    }
   ],
   "source": [
    "print (\"KNN_DTW_prune_weightsDistance.best_params_ is\", KNN_DTW_prune_weightsDistance.best_params_)\n",
    "print (\"KNN_DTW_prune.best_params_ is\", KNN_DTW_prune.best_params_)"
   ]
  },
  {
   "cell_type": "code",
   "execution_count": 40,
   "id": "1897b90e",
   "metadata": {},
   "outputs": [
    {
     "name": "stdout",
     "output_type": "stream",
     "text": [
      "CPU times: total: 7min 38s\n",
      "Wall time: 8min 6s\n"
     ]
    }
   ],
   "source": [
    "%%time\n",
    "KNN_DTW_prune_weightsDistance_predictions = KNN_DTW_prune_weightsDistance.predict(x_test_df.iloc[:, 1:])"
   ]
  },
  {
   "cell_type": "code",
   "execution_count": 41,
   "id": "f75783b0",
   "metadata": {},
   "outputs": [
    {
     "name": "stdout",
     "output_type": "stream",
     "text": [
      "******* KNN_DTW_prune_predictions *******\n",
      "              precision    recall  f1-score   support\n",
      "\n",
      "           1       0.98      0.98      0.98       219\n",
      "           2       0.92      0.90      0.91        50\n",
      "\n",
      "    accuracy                           0.97       269\n",
      "   macro avg       0.95      0.94      0.94       269\n",
      "weighted avg       0.97      0.97      0.97       269\n",
      "\n",
      "====================================================================================\n",
      "******* KNN_DTW_prune_weightsDistance_predictions *******\n",
      "              precision    recall  f1-score   support\n",
      "\n",
      "           1       0.98      0.98      0.98       219\n",
      "           2       0.92      0.90      0.91        50\n",
      "\n",
      "    accuracy                           0.97       269\n",
      "   macro avg       0.95      0.94      0.94       269\n",
      "weighted avg       0.97      0.97      0.97       269\n",
      "\n"
     ]
    }
   ],
   "source": [
    "print (\"******* KNN_DTW_prune_predictions *******\")\n",
    "print(classification_report(y_test_df.Vote, KNN_DTW_prune_predictions))\n",
    "print (\"====================================================================================\")\n",
    "print (\"******* KNN_DTW_prune_weightsDistance_predictions *******\")\n",
    "print(classification_report(y_test_df.Vote, KNN_DTW_prune_weightsDistance_predictions))"
   ]
  },
  {
   "cell_type": "code",
   "execution_count": 42,
   "id": "3fda10fb",
   "metadata": {},
   "outputs": [
    {
     "data": {
      "text/html": [
       "<div>\n",
       "<style scoped>\n",
       "    .dataframe tbody tr th:only-of-type {\n",
       "        vertical-align: middle;\n",
       "    }\n",
       "\n",
       "    .dataframe tbody tr th {\n",
       "        vertical-align: top;\n",
       "    }\n",
       "\n",
       "    .dataframe thead th {\n",
       "        text-align: right;\n",
       "    }\n",
       "</style>\n",
       "<table border=\"1\" class=\"dataframe\">\n",
       "  <thead>\n",
       "    <tr style=\"text-align: right;\">\n",
       "      <th></th>\n",
       "      <th>None</th>\n",
       "      <th>Predict_Single</th>\n",
       "      <th>Predict_Double</th>\n",
       "    </tr>\n",
       "  </thead>\n",
       "  <tbody>\n",
       "    <tr>\n",
       "      <th>0</th>\n",
       "      <td>Actual_Single</td>\n",
       "      <td>215</td>\n",
       "      <td>4</td>\n",
       "    </tr>\n",
       "    <tr>\n",
       "      <th>1</th>\n",
       "      <td>Actual_Double</td>\n",
       "      <td>5</td>\n",
       "      <td>45</td>\n",
       "    </tr>\n",
       "  </tbody>\n",
       "</table>\n",
       "</div>"
      ],
      "text/plain": [
       "            None  Predict_Single  Predict_Double\n",
       "0  Actual_Single             215               4\n",
       "1  Actual_Double               5              45"
      ]
     },
     "execution_count": 42,
     "metadata": {},
     "output_type": "execute_result"
    }
   ],
   "source": [
    "y_test_df_copy=y_test_df.copy()\n",
    "y_test_df_copy[\"weightDist_predictions\"] = list(KNN_DTW_prune_weightsDistance_predictions)\n",
    "y_test_df_copy.head(2)\n",
    "\n",
    "true_single_predicted_single=0\n",
    "true_single_predicted_double=0\n",
    "\n",
    "true_double_predicted_single=0\n",
    "true_double_predicted_double=0\n",
    "\n",
    "actual_double_predicted_single_IDs=[]\n",
    "actual_single_predicted_double_IDs=[]\n",
    "\n",
    "for index in y_test_df_copy.index:\n",
    "    curr_vote=list(y_test_df_copy[y_test_df_copy.index==index].Vote)[0]\n",
    "    curr_predict=list(y_test_df_copy[y_test_df_copy.index==index].weightDist_predictions)[0]\n",
    "    if curr_vote==curr_predict:\n",
    "        if curr_vote==1:\n",
    "            true_single_predicted_single+=1\n",
    "        else:\n",
    "            true_double_predicted_double+=1\n",
    "    else:\n",
    "        if curr_vote==1:\n",
    "            true_single_predicted_double+=1\n",
    "            actual_single_predicted_double_IDs+=list(y_test_df_copy[y_test_df_copy.index==index].ID)\n",
    "        else:\n",
    "            true_double_predicted_single+=1\n",
    "            actual_double_predicted_single_IDs += list(y_test_df_copy[y_test_df_copy.index==index].ID)\n",
    "\n",
    "confus_tbl_test = pd.DataFrame(columns=['None', 'Predict_Single', 'Predict_Double'], \n",
    "                               index=range(2))\n",
    "confus_tbl_test.loc[0, 'None'] = 'Actual_Single'\n",
    "confus_tbl_test.loc[1, 'None'] = 'Actual_Double'\n",
    "confus_tbl_test['Predict_Single']=0\n",
    "confus_tbl_test['Predict_Double']=0\n",
    "\n",
    "confus_tbl_test.loc[0, \"Predict_Single\"]=true_single_predicted_single\n",
    "confus_tbl_test.loc[0, \"Predict_Double\"]=true_single_predicted_double\n",
    "confus_tbl_test.loc[1, \"Predict_Single\"]=true_double_predicted_single\n",
    "confus_tbl_test.loc[1, \"Predict_Double\"]=true_double_predicted_double\n",
    "confus_tbl_test"
   ]
  },
  {
   "cell_type": "code",
   "execution_count": 44,
   "id": "f7081353",
   "metadata": {},
   "outputs": [],
   "source": [
    "import pickle\n",
    "model_dir = \"/Users/hn/Documents/01_research_data/NASA/ML_Models/\"\n",
    "\n",
    "filename = model_dir + \"00_KNN_SG_\" + VI_idx + \"_DTW_prune_\" + \\\n",
    "                        KNN_DTW_prune_weightsDistance.best_params_[\"weights\"] + \\\n",
    "                       \"Weight_\" + str(KNN_DTW_prune_weightsDistance.best_params_[\"n_neighbors\"]) + \\\n",
    "                       \"NNisBest.sav\"\n",
    "\n",
    "print (filename)\n",
    "pickle.dump(KNN_DTW_prune_weightsDistance, open(filename, 'wb'))"
   ]
  },
  {
   "cell_type": "code",
   "execution_count": 45,
   "id": "ba2e6f74",
   "metadata": {},
   "outputs": [
    {
     "data": {
      "text/plain": [
       "['60678_WSDA_SF_2016',\n",
       " '109262_WSDA_SF_2017',\n",
       " '104993_WSDA_SF_2017',\n",
       " '106509_WSDA_SF_2017',\n",
       " '104402_WSDA_SF_2018']"
      ]
     },
     "execution_count": 45,
     "metadata": {},
     "output_type": "execute_result"
    }
   ],
   "source": [
    "actual_double_predicted_single_IDs"
   ]
  },
  {
   "cell_type": "code",
   "execution_count": 46,
   "id": "d7dd07a8",
   "metadata": {},
   "outputs": [
    {
     "data": {
      "text/plain": [
       "['35343_WSDA_SF_2018',\n",
       " '101372_WSDA_SF_2017',\n",
       " '6873_WSDA_SF_2016',\n",
       " '55524_WSDA_SF_2016']"
      ]
     },
     "execution_count": 46,
     "metadata": {},
     "output_type": "execute_result"
    }
   ],
   "source": [
    "actual_single_predicted_double_IDs"
   ]
  },
  {
   "cell_type": "code",
   "execution_count": 47,
   "id": "b25eae76",
   "metadata": {},
   "outputs": [
    {
     "data": {
      "image/png": "[encoded data removed]",
      "text/plain": [
       "<Figure size 1440x288 with 1 Axes>"
      ]
     },
     "metadata": {
      "needs_background": "light"
     },
     "output_type": "display_data"
    }
   ],
   "source": [
    "plt.figure(figsize=(20,4))\n",
    "plt.subplot(1, 1, 1)\n",
    "\n",
    "ID_1 = actual_double_predicted_single_IDs[4]\n",
    "# plot EVI0\n",
    "# plt.plot(range(len(ground_truth[ground_truth.ID==ID_1].human_system_start_time.values)),\n",
    "#          ground_truth[ground_truth.ID==ID_1].EVI.values,\n",
    "#         c='k', linewidth=5);\n",
    "\n",
    "plt.plot(ground_truth[ground_truth.ID==ID_1].human_system_start_time.values,\n",
    "         ground_truth[ground_truth.ID==ID_1].EVI.values,\n",
    "         c='k', linewidth=5);\n",
    "\n",
    "\n",
    "title = list(meta[meta.ID==ID_1].CropTyp)[0].replace(\",\", \"\")  + \", \" + ID_1\n",
    "plt.ylim([-0.2, 1.05]);\n",
    "plt.title(title , fontsize=20);"
   ]
  },
  {
   "cell_type": "code",
   "execution_count": 48,
   "id": "aba1b30c",
   "metadata": {},
   "outputs": [
    {
     "data": {
      "text/html": [
       "<div>\n",
       "<style scoped>\n",
       "    .dataframe tbody tr th:only-of-type {\n",
       "        vertical-align: middle;\n",
       "    }\n",
       "\n",
       "    .dataframe tbody tr th {\n",
       "        vertical-align: top;\n",
       "    }\n",
       "\n",
       "    .dataframe thead th {\n",
       "        text-align: right;\n",
       "    }\n",
       "</style>\n",
       "<table border=\"1\" class=\"dataframe\">\n",
       "  <thead>\n",
       "    <tr style=\"text-align: right;\">\n",
       "      <th></th>\n",
       "      <th>ID</th>\n",
       "      <th>CropTyp</th>\n",
       "      <th>Irrigtn</th>\n",
       "      <th>DataSrc</th>\n",
       "      <th>Acres</th>\n",
       "      <th>ExctAcr</th>\n",
       "      <th>LstSrvD</th>\n",
       "      <th>county</th>\n",
       "    </tr>\n",
       "  </thead>\n",
       "  <tbody>\n",
       "    <tr>\n",
       "      <th>1928</th>\n",
       "      <td>60678_WSDA_SF_2016</td>\n",
       "      <td>bean, dry</td>\n",
       "      <td>center pivot</td>\n",
       "      <td>wsda</td>\n",
       "      <td>32</td>\n",
       "      <td>32.322881</td>\n",
       "      <td>2016/08/17 00:00:00</td>\n",
       "      <td>Adams</td>\n",
       "    </tr>\n",
       "    <tr>\n",
       "      <th>2103</th>\n",
       "      <td>104402_WSDA_SF_2018</td>\n",
       "      <td>buckwheat</td>\n",
       "      <td>center pivot</td>\n",
       "      <td>wsda</td>\n",
       "      <td>151</td>\n",
       "      <td>151.414756</td>\n",
       "      <td>2018/09/11 00:00:00</td>\n",
       "      <td>Franklin</td>\n",
       "    </tr>\n",
       "    <tr>\n",
       "      <th>2700</th>\n",
       "      <td>104993_WSDA_SF_2017</td>\n",
       "      <td>corn, field</td>\n",
       "      <td>center pivot</td>\n",
       "      <td>wsda</td>\n",
       "      <td>105</td>\n",
       "      <td>105.329378</td>\n",
       "      <td>2017/06/28</td>\n",
       "      <td>Grant</td>\n",
       "    </tr>\n",
       "    <tr>\n",
       "      <th>2755</th>\n",
       "      <td>109262_WSDA_SF_2017</td>\n",
       "      <td>corn, field</td>\n",
       "      <td>center pivot</td>\n",
       "      <td>wsda</td>\n",
       "      <td>26</td>\n",
       "      <td>25.597377</td>\n",
       "      <td>2017/10/18</td>\n",
       "      <td>Grant</td>\n",
       "    </tr>\n",
       "    <tr>\n",
       "      <th>6325</th>\n",
       "      <td>106509_WSDA_SF_2017</td>\n",
       "      <td>yellow mustard</td>\n",
       "      <td>center pivot</td>\n",
       "      <td>wsda</td>\n",
       "      <td>135</td>\n",
       "      <td>134.651954</td>\n",
       "      <td>2017/10/17</td>\n",
       "      <td>Grant</td>\n",
       "    </tr>\n",
       "  </tbody>\n",
       "</table>\n",
       "</div>"
      ],
      "text/plain": [
       "                       ID         CropTyp       Irrigtn DataSrc  Acres  \\\n",
       "1928   60678_WSDA_SF_2016       bean, dry  center pivot    wsda     32   \n",
       "2103  104402_WSDA_SF_2018       buckwheat  center pivot    wsda    151   \n",
       "2700  104993_WSDA_SF_2017     corn, field  center pivot    wsda    105   \n",
       "2755  109262_WSDA_SF_2017     corn, field  center pivot    wsda     26   \n",
       "6325  106509_WSDA_SF_2017  yellow mustard  center pivot    wsda    135   \n",
       "\n",
       "         ExctAcr              LstSrvD    county  \n",
       "1928   32.322881  2016/08/17 00:00:00     Adams  \n",
       "2103  151.414756  2018/09/11 00:00:00  Franklin  \n",
       "2700  105.329378           2017/06/28     Grant  \n",
       "2755   25.597377           2017/10/18     Grant  \n",
       "6325  134.651954           2017/10/17     Grant  "
      ]
     },
     "execution_count": 48,
     "metadata": {},
     "output_type": "execute_result"
    }
   ],
   "source": [
    "meta[meta.ID.isin(actual_double_predicted_single_IDs)]"
   ]
  },
  {
   "cell_type": "code",
   "execution_count": 49,
   "id": "6a091449",
   "metadata": {},
   "outputs": [
    {
     "data": {
      "text/html": [
       "<div>\n",
       "<style scoped>\n",
       "    .dataframe tbody tr th:only-of-type {\n",
       "        vertical-align: middle;\n",
       "    }\n",
       "\n",
       "    .dataframe tbody tr th {\n",
       "        vertical-align: top;\n",
       "    }\n",
       "\n",
       "    .dataframe thead th {\n",
       "        text-align: right;\n",
       "    }\n",
       "</style>\n",
       "<table border=\"1\" class=\"dataframe\">\n",
       "  <thead>\n",
       "    <tr style=\"text-align: right;\">\n",
       "      <th></th>\n",
       "      <th>ID</th>\n",
       "      <th>CropTyp</th>\n",
       "      <th>Irrigtn</th>\n",
       "      <th>DataSrc</th>\n",
       "      <th>Acres</th>\n",
       "      <th>ExctAcr</th>\n",
       "      <th>LstSrvD</th>\n",
       "      <th>county</th>\n",
       "    </tr>\n",
       "  </thead>\n",
       "  <tbody>\n",
       "    <tr>\n",
       "      <th>2070</th>\n",
       "      <td>55524_WSDA_SF_2016</td>\n",
       "      <td>bluegrass seed</td>\n",
       "      <td>center pivot</td>\n",
       "      <td>wsda</td>\n",
       "      <td>141</td>\n",
       "      <td>140.849153</td>\n",
       "      <td>2016/08/03 00:00:00</td>\n",
       "      <td>Adams</td>\n",
       "    </tr>\n",
       "    <tr>\n",
       "      <th>2153</th>\n",
       "      <td>101372_WSDA_SF_2017</td>\n",
       "      <td>canola</td>\n",
       "      <td>center pivot</td>\n",
       "      <td>wsda</td>\n",
       "      <td>80</td>\n",
       "      <td>80.255504</td>\n",
       "      <td>2017/10/16</td>\n",
       "      <td>Grant</td>\n",
       "    </tr>\n",
       "    <tr>\n",
       "      <th>3116</th>\n",
       "      <td>6873_WSDA_SF_2016</td>\n",
       "      <td>corn, sweet</td>\n",
       "      <td>center pivot</td>\n",
       "      <td>producer</td>\n",
       "      <td>57</td>\n",
       "      <td>57.302292</td>\n",
       "      <td>2016/12/15 00:00:00</td>\n",
       "      <td>Benton</td>\n",
       "    </tr>\n",
       "    <tr>\n",
       "      <th>3870</th>\n",
       "      <td>35343_WSDA_SF_2018</td>\n",
       "      <td>grass hay</td>\n",
       "      <td>wheel line</td>\n",
       "      <td>wsda</td>\n",
       "      <td>15</td>\n",
       "      <td>15.047502</td>\n",
       "      <td>2018/12/03 00:00:00</td>\n",
       "      <td>Yakima</td>\n",
       "    </tr>\n",
       "  </tbody>\n",
       "</table>\n",
       "</div>"
      ],
      "text/plain": [
       "                       ID         CropTyp       Irrigtn   DataSrc  Acres  \\\n",
       "2070   55524_WSDA_SF_2016  bluegrass seed  center pivot      wsda    141   \n",
       "2153  101372_WSDA_SF_2017          canola  center pivot      wsda     80   \n",
       "3116    6873_WSDA_SF_2016     corn, sweet  center pivot  producer     57   \n",
       "3870   35343_WSDA_SF_2018       grass hay    wheel line      wsda     15   \n",
       "\n",
       "         ExctAcr              LstSrvD  county  \n",
       "2070  140.849153  2016/08/03 00:00:00   Adams  \n",
       "2153   80.255504           2017/10/16   Grant  \n",
       "3116   57.302292  2016/12/15 00:00:00  Benton  \n",
       "3870   15.047502  2018/12/03 00:00:00  Yakima  "
      ]
     },
     "execution_count": 49,
     "metadata": {},
     "output_type": "execute_result"
    }
   ],
   "source": [
    "meta[meta.ID.isin(actual_single_predicted_double_IDs)]"
   ]
  },
  {
   "cell_type": "code",
   "execution_count": 50,
   "id": "e1e23ebf",
   "metadata": {},
   "outputs": [
    {
     "data": {
      "image/png": "[encoded data removed]",
      "text/plain": [
       "<Figure size 1440x288 with 1 Axes>"
      ]
     },
     "metadata": {
      "needs_background": "light"
     },
     "output_type": "display_data"
    }
   ],
   "source": [
    "plt.figure(figsize=(20,4))\n",
    "plt.subplot(1, 1, 1)\n",
    "\n",
    "ID_1 = actual_single_predicted_double_IDs[0]\n",
    "# plot EVIs\n",
    "# plt.plot(range(len(ground_truth[ground_truth.ID==ID_1].human_system_start_time.values)),\n",
    "#          ground_truth[ground_truth.ID==ID_1].EVI.values,\n",
    "#         c='k', linewidth=5);\n",
    "\n",
    "plt.plot(ground_truth[ground_truth.ID==ID_1].human_system_start_time.values,\n",
    "         ground_truth[ground_truth.ID==ID_1].EVI.values,\n",
    "        c='k', linewidth=5);\n",
    "\n",
    "\n",
    "title = list(meta[meta.ID==ID_1].CropTyp)[0].replace(\",\", \"\")  + \", \" + ID_1\n",
    "plt.ylim([-0.2, 1.05]);\n",
    "plt.title(title , fontsize = 20);"
   ]
  },
  {
   "cell_type": "code",
   "execution_count": null,
   "id": "5c5500f1",
   "metadata": {},
   "outputs": [],
   "source": []
  },
  {
   "cell_type": "code",
   "execution_count": null,
   "id": "a9bca3dc",
   "metadata": {},
   "outputs": [],
   "source": []
  }
 ],
 "metadata": {
  "kernelspec": {
   "display_name": "Python 3 (ipykernel)",
   "language": "python",
   "name": "python3"
  },
  "language_info": {
   "codemirror_mode": {
    "name": "ipython",
    "version": 3
   },
   "file_extension": ".py",
   "mimetype": "text/x-python",
   "name": "python",
   "nbconvert_exporter": "python",
   "pygments_lexer": "ipython3",
   "version": "3.9.12"
  }
 },
 "nbformat": 4,
 "nbformat_minor": 5
}
