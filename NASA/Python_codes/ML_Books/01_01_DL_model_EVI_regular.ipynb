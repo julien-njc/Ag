{
 "cells": [
  {
   "cell_type": "code",
   "execution_count": 1,
   "id": "272d28c8",
   "metadata": {},
   "outputs": [],
   "source": [
    "import numpy as np\n",
    "import pandas as pd\n",
    "from datetime import date\n",
    "from random import seed\n",
    "from random import random\n",
    "\n",
    "import time\n",
    "import scipy, scipy.signal\n",
    "import os, os.path\n",
    "import shutil\n",
    "import matplotlib\n",
    "import matplotlib.pyplot as plt\n",
    "\n",
    "from pylab import imshow\n",
    "\n",
    "# vgg16 model used for transfer learning on the dogs and cats dataset\n",
    "from matplotlib import pyplot\n",
    "# from keras.utils import to_categorical\n",
    "from tensorflow.keras.utils import to_categorical\n",
    "from keras.models import Sequential\n",
    "from keras.applications.vgg16 import VGG16\n",
    "from keras.models import Model\n",
    "from keras.layers import Dense\n",
    "from keras.layers import Flatten\n",
    "import tensorflow as tf\n",
    "# from keras.optimizers import SGD\n",
    "\n",
    "from keras.layers import Conv2D\n",
    "from keras.layers import MaxPooling2D\n",
    "\n",
    "# from keras.optimizers import gradient_descent_v2\n",
    "# SGD = gradient_descent_v2.SGD(...)\n",
    "\n",
    "from tensorflow.keras.optimizers import SGD\n",
    "from keras.preprocessing.image import ImageDataGenerator\n",
    "\n",
    "\n",
    "import h5py\n",
    "import sys\n",
    "sys.path.append('/Users/hn/Documents/00_GitHub/Ag/NASA/Python_codes/')\n",
    "import NASA_core as nc\n",
    "import NASA_plot_core as rcp"
   ]
  },
  {
   "cell_type": "code",
   "execution_count": null,
   "id": "c2ef90cc",
   "metadata": {},
   "outputs": [],
   "source": []
  },
  {
   "cell_type": "code",
   "execution_count": 2,
   "id": "c83bb48a",
   "metadata": {},
   "outputs": [],
   "source": [
    "from tensorflow.keras.utils import load_img\n",
    "from tensorflow.keras.utils import img_to_array"
   ]
  },
  {
   "cell_type": "code",
   "execution_count": 3,
   "id": "5fd77c24",
   "metadata": {},
   "outputs": [],
   "source": [
    "# from keras.preprocessing.image import load_img # commented out in windows\n",
    "# from keras.preprocessing.image import img_to_array # commented out in windows\n",
    "from keras.models import load_model"
   ]
  },
  {
   "cell_type": "markdown",
   "id": "e46c7e6e",
   "metadata": {},
   "source": [
    "# Read Fields Metadata"
   ]
  },
  {
   "cell_type": "code",
   "execution_count": 4,
   "id": "ffa4c8c0",
   "metadata": {},
   "outputs": [
    {
     "name": "stdout",
     "output_type": "stream",
     "text": [
      "(6340, 8)\n",
      "(3539, 8)\n"
     ]
    },
    {
     "data": {
      "text/html": [
       "<div>\n",
       "<style scoped>\n",
       "    .dataframe tbody tr th:only-of-type {\n",
       "        vertical-align: middle;\n",
       "    }\n",
       "\n",
       "    .dataframe tbody tr th {\n",
       "        vertical-align: top;\n",
       "    }\n",
       "\n",
       "    .dataframe thead th {\n",
       "        text-align: right;\n",
       "    }\n",
       "</style>\n",
       "<table border=\"1\" class=\"dataframe\">\n",
       "  <thead>\n",
       "    <tr style=\"text-align: right;\">\n",
       "      <th></th>\n",
       "      <th>ID</th>\n",
       "      <th>CropTyp</th>\n",
       "      <th>Irrigtn</th>\n",
       "      <th>DataSrc</th>\n",
       "      <th>Acres</th>\n",
       "      <th>ExctAcr</th>\n",
       "      <th>LstSrvD</th>\n",
       "      <th>county</th>\n",
       "    </tr>\n",
       "  </thead>\n",
       "  <tbody>\n",
       "    <tr>\n",
       "      <th>0</th>\n",
       "      <td>100010_WSDA_SF_2017</td>\n",
       "      <td>alfalfa hay</td>\n",
       "      <td>center pivot</td>\n",
       "      <td>wsda</td>\n",
       "      <td>34</td>\n",
       "      <td>34.310305</td>\n",
       "      <td>2017/09/12</td>\n",
       "      <td>Grant</td>\n",
       "    </tr>\n",
       "    <tr>\n",
       "      <th>1</th>\n",
       "      <td>100204_WSDA_SF_2017</td>\n",
       "      <td>alfalfa hay</td>\n",
       "      <td>center pivot</td>\n",
       "      <td>wsda</td>\n",
       "      <td>62</td>\n",
       "      <td>61.826535</td>\n",
       "      <td>2017/08/09</td>\n",
       "      <td>Grant</td>\n",
       "    </tr>\n",
       "  </tbody>\n",
       "</table>\n",
       "</div>"
      ],
      "text/plain": [
       "                    ID      CropTyp       Irrigtn DataSrc  Acres    ExctAcr  \\\n",
       "0  100010_WSDA_SF_2017  alfalfa hay  center pivot    wsda     34  34.310305   \n",
       "1  100204_WSDA_SF_2017  alfalfa hay  center pivot    wsda     62  61.826535   \n",
       "\n",
       "      LstSrvD county  \n",
       "0  2017/09/12  Grant  \n",
       "1  2017/08/09  Grant  "
      ]
     },
     "execution_count": 4,
     "metadata": {},
     "output_type": "execute_result"
    }
   ],
   "source": [
    "meta_dir = \"/Users/hn/Documents/01_research_data/NASA/parameters/\"\n",
    "meta = pd.read_csv(meta_dir+\"evaluation_set.csv\")\n",
    "meta_moreThan10Acr=meta[meta.ExctAcr>10]\n",
    "print (meta.shape)\n",
    "print (meta_moreThan10Acr.shape)\n",
    "meta.head(2)"
   ]
  },
  {
   "cell_type": "code",
   "execution_count": 5,
   "id": "6024e5cf",
   "metadata": {},
   "outputs": [
    {
     "data": {
      "text/html": [
       "<div>\n",
       "<style scoped>\n",
       "    .dataframe tbody tr th:only-of-type {\n",
       "        vertical-align: middle;\n",
       "    }\n",
       "\n",
       "    .dataframe tbody tr th {\n",
       "        vertical-align: top;\n",
       "    }\n",
       "\n",
       "    .dataframe thead th {\n",
       "        text-align: right;\n",
       "    }\n",
       "</style>\n",
       "<table border=\"1\" class=\"dataframe\">\n",
       "  <thead>\n",
       "    <tr style=\"text-align: right;\">\n",
       "      <th></th>\n",
       "      <th>ID</th>\n",
       "      <th>CropTyp</th>\n",
       "      <th>Irrigtn</th>\n",
       "      <th>DataSrc</th>\n",
       "      <th>Acres</th>\n",
       "      <th>ExctAcr</th>\n",
       "      <th>LstSrvD</th>\n",
       "      <th>county</th>\n",
       "    </tr>\n",
       "  </thead>\n",
       "  <tbody>\n",
       "    <tr>\n",
       "      <th>0</th>\n",
       "      <td>100010_WSDA_SF_2017</td>\n",
       "      <td>alfalfa hay</td>\n",
       "      <td>center pivot</td>\n",
       "      <td>wsda</td>\n",
       "      <td>34</td>\n",
       "      <td>34.310305</td>\n",
       "      <td>2017/09/12</td>\n",
       "      <td>Grant</td>\n",
       "    </tr>\n",
       "    <tr>\n",
       "      <th>1</th>\n",
       "      <td>100204_WSDA_SF_2017</td>\n",
       "      <td>alfalfa hay</td>\n",
       "      <td>center pivot</td>\n",
       "      <td>wsda</td>\n",
       "      <td>62</td>\n",
       "      <td>61.826535</td>\n",
       "      <td>2017/08/09</td>\n",
       "      <td>Grant</td>\n",
       "    </tr>\n",
       "  </tbody>\n",
       "</table>\n",
       "</div>"
      ],
      "text/plain": [
       "                    ID      CropTyp       Irrigtn DataSrc  Acres    ExctAcr  \\\n",
       "0  100010_WSDA_SF_2017  alfalfa hay  center pivot    wsda     34  34.310305   \n",
       "1  100204_WSDA_SF_2017  alfalfa hay  center pivot    wsda     62  61.826535   \n",
       "\n",
       "      LstSrvD county  \n",
       "0  2017/09/12  Grant  \n",
       "1  2017/08/09  Grant  "
      ]
     },
     "execution_count": 5,
     "metadata": {},
     "output_type": "execute_result"
    }
   ],
   "source": [
    "meta_moreThan10Acr.head(2)"
   ]
  },
  {
   "cell_type": "code",
   "execution_count": 6,
   "id": "d1cec9f7",
   "metadata": {},
   "outputs": [],
   "source": [
    "meta_moreThan10Acr_IDs = list(meta_moreThan10Acr.ID.unique())"
   ]
  },
  {
   "cell_type": "code",
   "execution_count": 7,
   "id": "344aeba6",
   "metadata": {},
   "outputs": [
    {
     "data": {
      "text/plain": [
       "3539"
      ]
     },
     "execution_count": 7,
     "metadata": {},
     "output_type": "execute_result"
    }
   ],
   "source": [
    "len(meta_moreThan10Acr_IDs)"
   ]
  },
  {
   "cell_type": "code",
   "execution_count": 16,
   "id": "e2a2527d",
   "metadata": {},
   "outputs": [],
   "source": [
    "VI_idx = \"EVI\"\n",
    "train_folder = '/Users/hn/Documents/01_research_data/NASA/ML_data/regular_train_images_' + VI_idx + '/'\n",
    "nonExpert_folder = \"/Users/hn/Documents/01_research_data/NASA/ML_data/limitCrops_nonExpert_images/\""
   ]
  },
  {
   "cell_type": "code",
   "execution_count": null,
   "id": "196cf0ac",
   "metadata": {},
   "outputs": [],
   "source": []
  },
  {
   "cell_type": "markdown",
   "id": "7cc69e4f",
   "metadata": {},
   "source": [
    "# Prepare final dataset\n",
    "\n",
    "#### First do 80-20 split like SVM. So, everything is consistent."
   ]
  },
  {
   "cell_type": "code",
   "execution_count": 10,
   "id": "fcf22a2c",
   "metadata": {},
   "outputs": [],
   "source": [
    "ML_data_folder = \"/Users/hn/Documents/01_research_data/NASA/ML_data/\"\n",
    "train80 = pd.read_csv(ML_data_folder+\"train80_split_expertLabels_2Bconsistent.csv\")\n",
    "test20 = pd.read_csv(ML_data_folder+\"test20_split_expertLabels_2Bconsistent.csv\")"
   ]
  },
  {
   "cell_type": "code",
   "execution_count": 11,
   "id": "402ad974",
   "metadata": {},
   "outputs": [
    {
     "name": "stdout",
     "output_type": "stream",
     "text": [
      "(269, 2)\n"
     ]
    },
    {
     "data": {
      "text/plain": [
       "(1073, 2)"
      ]
     },
     "execution_count": 11,
     "metadata": {},
     "output_type": "execute_result"
    }
   ],
   "source": [
    "print (test20.shape)\n",
    "train80.shape"
   ]
  },
  {
   "cell_type": "code",
   "execution_count": 12,
   "id": "c5d81ad1",
   "metadata": {},
   "outputs": [
    {
     "data": {
      "text/plain": [
       "True"
      ]
     },
     "execution_count": 12,
     "metadata": {},
     "output_type": "execute_result"
    }
   ],
   "source": [
    "\"100156_WSDA_SF_2017\" in list(train80.ID)"
   ]
  },
  {
   "cell_type": "code",
   "execution_count": 13,
   "id": "ef79b7dc",
   "metadata": {},
   "outputs": [],
   "source": [
    "# organize dataset into a useful structure\n",
    "# create directories\n",
    "dataset_home = train_folder + \"/train80/\"\n",
    "\n",
    "# create label subdirectories\n",
    "labeldirs = ['separate_singleDouble/single/', 'separate_singleDouble/double/']\n",
    "for labldir in labeldirs:\n",
    "    newdir = dataset_home + labldir\n",
    "    os.makedirs(newdir, exist_ok=True)\n",
    "    \n",
    "# copy training dataset images into subdirectories\n",
    "for file in os.listdir(train_folder):\n",
    "    if \"_\".join(file.split(\"_\")[1:])[:-4] in list(train80.ID):\n",
    "        src = train_folder + '/' + file\n",
    "        if file.startswith('single'):\n",
    "            dst = dataset_home + 'separate_singleDouble/single/' + file\n",
    "            shutil.copyfile(src, dst)\n",
    "        elif file.startswith('double'):\n",
    "            dst = dataset_home + 'separate_singleDouble/double/' + file\n",
    "            shutil.copyfile(src, dst)"
   ]
  },
  {
   "cell_type": "code",
   "execution_count": 14,
   "id": "cf0c500a",
   "metadata": {},
   "outputs": [
    {
     "data": {
      "text/plain": [
       "(1073, 2)"
      ]
     },
     "execution_count": 14,
     "metadata": {},
     "output_type": "execute_result"
    }
   ],
   "source": [
    "train80.shape"
   ]
  },
  {
   "cell_type": "code",
   "execution_count": 17,
   "id": "139d85bc",
   "metadata": {},
   "outputs": [
    {
     "data": {
      "text/plain": [
       "1073"
      ]
     },
     "execution_count": 17,
     "metadata": {},
     "output_type": "execute_result"
    }
   ],
   "source": [
    "len(os.listdir(train_folder+\"/train80/separate_singleDouble/single/\"))+\\\n",
    "len(os.listdir(train_folder+\"/train80/separate_singleDouble/double/\"))"
   ]
  },
  {
   "cell_type": "markdown",
   "id": "a48564cc",
   "metadata": {},
   "source": [
    "# Copy test fields into a separate folder for later use"
   ]
  },
  {
   "cell_type": "code",
   "execution_count": 18,
   "id": "996958f0",
   "metadata": {},
   "outputs": [],
   "source": [
    "# organize dataset into a useful structure\n",
    "# create directories\n",
    "test_home = train_folder + \"/test20/\"\n",
    "os.makedirs(test_home, exist_ok=True)\n",
    "\n",
    "# copy training dataset images into subdirectories\n",
    "for file in os.listdir(train_folder):\n",
    "    if file.endswith('jpg'):\n",
    "        if not (\"_\".join(file.split(\"_\")[1:])[:-4] in list(train80.ID)):\n",
    "            src = train_folder + '/' + file\n",
    "            dst = test_home + file\n",
    "            shutil.copyfile(src, dst)\n",
    "\n",
    "len(os.listdir(test_home))"
   ]
  },
  {
   "cell_type": "markdown",
   "id": "1445efe3",
   "metadata": {},
   "source": [
    "# Plot For Fun"
   ]
  },
  {
   "cell_type": "code",
   "execution_count": 20,
   "id": "e01a29a0",
   "metadata": {},
   "outputs": [
    {
     "data": {
      "text/plain": [
       "['single_111436_WSDA_SF_2017.jpg', 'single_104812_WSDA_SF_2018.jpg']"
      ]
     },
     "execution_count": 20,
     "metadata": {},
     "output_type": "execute_result"
    }
   ],
   "source": [
    "os.listdir(train_folder)[2:4]"
   ]
  },
  {
   "cell_type": "code",
   "execution_count": 21,
   "id": "657b7f47",
   "metadata": {},
   "outputs": [
    {
     "data": {
      "image/png": "[encoded data removed]",
      "text/plain": [
       "<Figure size 432x288 with 2 Axes>"
      ]
     },
     "metadata": {
      "needs_background": "light"
     },
     "output_type": "display_data"
    }
   ],
   "source": [
    "# plot dog photos from the dogs vs cats dataset\n",
    "from matplotlib.image import imread\n",
    "\n",
    "\n",
    "# define location of dataset\n",
    "# plot first few images\n",
    "files = os.listdir(train_folder)[2:4]\n",
    "# files = [sorted(os.listdir(train_folder))[2]] + [sorted(os.listdir(train_folder))[-2]]\n",
    "for i in range(2):\n",
    "    # define subplot\n",
    "    pyplot.subplot(210 + 1 + i)\n",
    "    # define filename\n",
    "    filename = train_folder + files[i]\n",
    "    # load image pixels\n",
    "    image = imread(filename)\n",
    "    # plot raw pixel data\n",
    "    pyplot.imshow(image)\n",
    "# show the figure\n",
    "pyplot.show()"
   ]
  },
  {
   "cell_type": "markdown",
   "id": "2f1020ff",
   "metadata": {},
   "source": [
    "# Full Code"
   ]
  },
  {
   "cell_type": "code",
   "execution_count": 24,
   "id": "4615ac80",
   "metadata": {},
   "outputs": [
    {
     "data": {
      "text/plain": [
       "'/Users/hn/Documents/01_research_data/NASA/ML_data/regular_train_images_EVI/train80/'"
      ]
     },
     "execution_count": 24,
     "metadata": {},
     "output_type": "execute_result"
    }
   ],
   "source": [
    "train_folder_80 = train_folder +\"train80/\"\n",
    "train_folder_80"
   ]
  },
  {
   "cell_type": "code",
   "execution_count": 25,
   "id": "6e9fa2e6",
   "metadata": {},
   "outputs": [
    {
     "name": "stdout",
     "output_type": "stream",
     "text": [
      "Downloading data from https://storage.googleapis.com/tensorflow/keras-applications/vgg16/vgg16_weights_tf_dim_ordering_tf_kernels_notop.h5\n"
     ]
    },
    {
     "name": "stderr",
     "output_type": "stream",
     "text": [
      "2022-08-04 12:45:28.246169: I tensorflow/core/platform/cpu_feature_guard.cc:193] This TensorFlow binary is optimized with oneAPI Deep Neural Network Library (oneDNN) to use the following CPU instructions in performance-critical operations:  AVX2 FMA\n",
      "To enable them in other operations, rebuild TensorFlow with the appropriate compiler flags.\n"
     ]
    },
    {
     "name": "stdout",
     "output_type": "stream",
     "text": [
      "58889256/58889256 [==============================] - 5s 0us/step\n",
      "Found 1073 images belonging to 2 classes.\n",
      "Epoch 1/10\n",
      "68/68 [==============================] - 68s 989ms/step - loss: 2.7318 - accuracy: 0.8751\n",
      "Epoch 2/10\n",
      "68/68 [==============================] - 73s 1s/step - loss: 0.1093 - accuracy: 0.9553\n",
      "Epoch 3/10\n",
      "68/68 [==============================] - 70s 1s/step - loss: 0.0699 - accuracy: 0.9758\n",
      "Epoch 4/10\n",
      "68/68 [==============================] - 67s 983ms/step - loss: 0.0818 - accuracy: 0.9655\n",
      "Epoch 5/10\n",
      "68/68 [==============================] - 73s 1s/step - loss: 0.0533 - accuracy: 0.9758\n",
      "Epoch 6/10\n",
      "68/68 [==============================] - 76s 1s/step - loss: 0.0293 - accuracy: 0.9860\n",
      "Epoch 7/10\n",
      "68/68 [==============================] - 73s 1s/step - loss: 0.0294 - accuracy: 0.9888\n",
      "Epoch 8/10\n",
      "68/68 [==============================] - 74s 1s/step - loss: 0.0169 - accuracy: 0.9935\n",
      "Epoch 9/10\n",
      "68/68 [==============================] - 79s 1s/step - loss: 0.0120 - accuracy: 0.9963\n",
      "Epoch 10/10\n",
      "68/68 [==============================] - 79s 1s/step - loss: 0.0085 - accuracy: 0.9953\n"
     ]
    }
   ],
   "source": [
    "# define cnn model\n",
    "def define_model():\n",
    "    # load model\n",
    "    model = VGG16(include_top=False, input_shape=(224, 224, 3))\n",
    "    # mark loaded layers as not trainable\n",
    "    for layer in model.layers:\n",
    "        layer.trainable = False\n",
    "    # add new classifier layers\n",
    "    flat1 = Flatten()(model.layers[-1].output)\n",
    "    class1 = Dense(128, activation='relu', kernel_initializer='he_uniform')(flat1)\n",
    "    output = Dense(1, activation='sigmoid')(class1)\n",
    "    # define new model\n",
    "    model = Model(inputs=model.inputs, outputs=output)\n",
    "    # compile model\n",
    "    opt = SGD(learning_rate=0.001, momentum=0.9)\n",
    "    model.compile(optimizer=opt, loss='binary_crossentropy', metrics=['accuracy'])\n",
    "    return model\n",
    "\n",
    "# run the test harness for evaluating a model\n",
    "def run_test_harness():\n",
    "    # define model\n",
    "    _model = define_model()\n",
    "    # create data generator\n",
    "    datagen = ImageDataGenerator(featurewise_center=True)\n",
    "    # specify imagenet mean values for centering\n",
    "    datagen.mean = [123.68, 116.779, 103.939]\n",
    "    # prepare iterator\n",
    "    train_separate_dir = train_folder_80 + \"/separate_singleDouble/\"\n",
    "    train_it = datagen.flow_from_directory(train_separate_dir,\n",
    "                                           class_mode='binary', \n",
    "                                           batch_size=16, \n",
    "                                           target_size=(224, 224))\n",
    "    # fit model\n",
    "    _model.fit(train_it, \n",
    "               steps_per_epoch=len(train_it), \n",
    "               epochs=10, verbose=1)\n",
    "    model_dir = \"/Users/hn/Documents/01_research_data/NASA/ML_Models/\"\n",
    "    _model.save(model_dir+'01_TL_SingleDoubleEVI_regular_train80.h5')\n",
    "#     tf.keras.models.save_model(model=trained_model, filepath=model_dir+'01_TL_SingleDouble.h5')\n",
    "  \n",
    "#     return(_model)\n",
    "\n",
    "# entry point, run the test harness\n",
    "start_time = time.time()\n",
    "run_test_harness()\n",
    "end_time = time.time()"
   ]
  },
  {
   "cell_type": "code",
   "execution_count": 26,
   "id": "317de5eb",
   "metadata": {},
   "outputs": [],
   "source": [
    "# photo = load_img(train_folder + files[0], target_size=(200, 500))\n",
    "# photo"
   ]
  },
  {
   "cell_type": "code",
   "execution_count": null,
   "id": "44792293",
   "metadata": {},
   "outputs": [],
   "source": []
  },
  {
   "cell_type": "code",
   "execution_count": null,
   "id": "96696d20",
   "metadata": {},
   "outputs": [],
   "source": []
  }
 ],
 "metadata": {
  "kernelspec": {
   "display_name": "Python 3 (ipykernel)",
   "language": "python",
   "name": "python3"
  },
  "language_info": {
   "codemirror_mode": {
    "name": "ipython",
    "version": 3
   },
   "file_extension": ".py",
   "mimetype": "text/x-python",
   "name": "python",
   "nbconvert_exporter": "python",
   "pygments_lexer": "ipython3",
   "version": "3.9.12"
  }
 },
 "nbformat": 4,
 "nbformat_minor": 5
}
