{
 "cells": [
  {
   "cell_type": "code",
   "execution_count": 1,
   "id": "5c87fd49",
   "metadata": {},
   "outputs": [],
   "source": [
    "import numpy as np\n",
    "import pandas as pd\n",
    "\n",
    "from datetime import date\n",
    "import time\n",
    "\n",
    "import random\n",
    "from random import seed\n",
    "from random import random\n",
    "\n",
    "import os, os.path\n",
    "import shutil\n",
    "\n",
    "from sklearn.model_selection import train_test_split\n",
    "from sklearn.model_selection import GridSearchCV\n",
    "from sklearn.metrics import classification_report\n",
    "\n",
    "import matplotlib\n",
    "import matplotlib.pyplot as plt\n",
    "from pylab import imshow\n",
    "\n",
    "import h5py\n",
    "import sys"
   ]
  },
  {
   "cell_type": "code",
   "execution_count": 2,
   "id": "cfb96838",
   "metadata": {},
   "outputs": [],
   "source": [
    "# sys.path.append('/Users/hn/Documents/00_GitHub/Ag/NASA/Python_codes/')\n",
    "sys.path.append(\"C:\\\\Users\\\\kirti\\\\Documents\\\\NASA_Codes\\\\Python_codes\\\\\")\n",
    "import NASA_core as nc\n",
    "# import NASA_plot_core.py as rcp"
   ]
  },
  {
   "cell_type": "markdown",
   "id": "a75bd139",
   "metadata": {},
   "source": [
    "# Metadata"
   ]
  },
  {
   "cell_type": "code",
   "execution_count": 3,
   "id": "72d6e719",
   "metadata": {},
   "outputs": [
    {
     "name": "stdout",
     "output_type": "stream",
     "text": [
      "(6340, 8)\n",
      "(3539, 8)\n"
     ]
    },
    {
     "data": {
      "text/html": [
       "<div>\n",
       "<style scoped>\n",
       "    .dataframe tbody tr th:only-of-type {\n",
       "        vertical-align: middle;\n",
       "    }\n",
       "\n",
       "    .dataframe tbody tr th {\n",
       "        vertical-align: top;\n",
       "    }\n",
       "\n",
       "    .dataframe thead th {\n",
       "        text-align: right;\n",
       "    }\n",
       "</style>\n",
       "<table border=\"1\" class=\"dataframe\">\n",
       "  <thead>\n",
       "    <tr style=\"text-align: right;\">\n",
       "      <th></th>\n",
       "      <th>ID</th>\n",
       "      <th>CropTyp</th>\n",
       "      <th>Irrigtn</th>\n",
       "      <th>DataSrc</th>\n",
       "      <th>Acres</th>\n",
       "      <th>ExctAcr</th>\n",
       "      <th>LstSrvD</th>\n",
       "      <th>county</th>\n",
       "    </tr>\n",
       "  </thead>\n",
       "  <tbody>\n",
       "    <tr>\n",
       "      <th>0</th>\n",
       "      <td>100010_WSDA_SF_2017</td>\n",
       "      <td>alfalfa hay</td>\n",
       "      <td>center pivot</td>\n",
       "      <td>wsda</td>\n",
       "      <td>34</td>\n",
       "      <td>34.310305</td>\n",
       "      <td>2017/09/12</td>\n",
       "      <td>Grant</td>\n",
       "    </tr>\n",
       "    <tr>\n",
       "      <th>1</th>\n",
       "      <td>100204_WSDA_SF_2017</td>\n",
       "      <td>alfalfa hay</td>\n",
       "      <td>center pivot</td>\n",
       "      <td>wsda</td>\n",
       "      <td>62</td>\n",
       "      <td>61.826535</td>\n",
       "      <td>2017/08/09</td>\n",
       "      <td>Grant</td>\n",
       "    </tr>\n",
       "  </tbody>\n",
       "</table>\n",
       "</div>"
      ],
      "text/plain": [
       "                    ID      CropTyp       Irrigtn DataSrc  Acres    ExctAcr  \\\n",
       "0  100010_WSDA_SF_2017  alfalfa hay  center pivot    wsda     34  34.310305   \n",
       "1  100204_WSDA_SF_2017  alfalfa hay  center pivot    wsda     62  61.826535   \n",
       "\n",
       "      LstSrvD county  \n",
       "0  2017/09/12  Grant  \n",
       "1  2017/08/09  Grant  "
      ]
     },
     "execution_count": 3,
     "metadata": {},
     "output_type": "execute_result"
    }
   ],
   "source": [
    "meta_dir = \"C:\\\\Users\\\\kirti\\\\Documents\\\\NASA_data\\\\parameters\\\\\"\n",
    "meta = pd.read_csv(meta_dir+\"evaluation_set.csv\")\n",
    "meta_moreThan10Acr=meta[meta.ExctAcr>10]\n",
    "print (meta.shape)\n",
    "print (meta_moreThan10Acr.shape)\n",
    "meta.head(2)"
   ]
  },
  {
   "cell_type": "code",
   "execution_count": 4,
   "id": "a05ae6d8",
   "metadata": {},
   "outputs": [],
   "source": [
    "# print (len(meta.ID.unique()))\n",
    "# meta_lessThan10Acr=meta[meta.ExctAcr<10]\n",
    "# print (meta_lessThan10Acr.shape)"
   ]
  },
  {
   "cell_type": "markdown",
   "id": "f19bd063",
   "metadata": {},
   "source": [
    "# Read Training Set Labels"
   ]
  },
  {
   "cell_type": "code",
   "execution_count": 5,
   "id": "be24225f",
   "metadata": {},
   "outputs": [
    {
     "name": "stdout",
     "output_type": "stream",
     "text": [
      "Unique Votes:  [2 1]\n",
      "1849\n"
     ]
    },
    {
     "data": {
      "text/html": [
       "<div>\n",
       "<style scoped>\n",
       "    .dataframe tbody tr th:only-of-type {\n",
       "        vertical-align: middle;\n",
       "    }\n",
       "\n",
       "    .dataframe tbody tr th {\n",
       "        vertical-align: top;\n",
       "    }\n",
       "\n",
       "    .dataframe thead th {\n",
       "        text-align: right;\n",
       "    }\n",
       "</style>\n",
       "<table border=\"1\" class=\"dataframe\">\n",
       "  <thead>\n",
       "    <tr style=\"text-align: right;\">\n",
       "      <th></th>\n",
       "      <th>ID</th>\n",
       "      <th>Vote</th>\n",
       "    </tr>\n",
       "  </thead>\n",
       "  <tbody>\n",
       "    <tr>\n",
       "      <th>0</th>\n",
       "      <td>99837_WSDA_SF_2017</td>\n",
       "      <td>2</td>\n",
       "    </tr>\n",
       "    <tr>\n",
       "      <th>1</th>\n",
       "      <td>114615_WSDA_SF_2017</td>\n",
       "      <td>1</td>\n",
       "    </tr>\n",
       "  </tbody>\n",
       "</table>\n",
       "</div>"
      ],
      "text/plain": [
       "                    ID  Vote\n",
       "0   99837_WSDA_SF_2017     2\n",
       "1  114615_WSDA_SF_2017     1"
      ]
     },
     "execution_count": 5,
     "metadata": {},
     "output_type": "execute_result"
    }
   ],
   "source": [
    "# training_set_dir = \"/Users/hn/Documents/01_research_data/NASA/ML_data/\"\n",
    "training_set_dir = \"C:\\\\Users\\\\kirti\\\\Documents\\\\NASA_data\\\\ML_data\\\\\"\n",
    "ground_truth_labels = pd.read_csv(training_set_dir+\"train_labels.csv\")\n",
    "print (\"Unique Votes: \", ground_truth_labels.Vote.unique())\n",
    "print (len(ground_truth_labels.ID.unique()))\n",
    "ground_truth_labels.head(2)"
   ]
  },
  {
   "cell_type": "markdown",
   "id": "3fc3fd3c",
   "metadata": {},
   "source": [
    "### Detect how many fields are less than 10 acres and report in the paper"
   ]
  },
  {
   "cell_type": "code",
   "execution_count": 6,
   "id": "e74c9b2c",
   "metadata": {},
   "outputs": [
    {
     "name": "stdout",
     "output_type": "stream",
     "text": [
      "1849\n"
     ]
    },
    {
     "data": {
      "text/html": [
       "<div>\n",
       "<style scoped>\n",
       "    .dataframe tbody tr th:only-of-type {\n",
       "        vertical-align: middle;\n",
       "    }\n",
       "\n",
       "    .dataframe tbody tr th {\n",
       "        vertical-align: top;\n",
       "    }\n",
       "\n",
       "    .dataframe thead th {\n",
       "        text-align: right;\n",
       "    }\n",
       "</style>\n",
       "<table border=\"1\" class=\"dataframe\">\n",
       "  <thead>\n",
       "    <tr style=\"text-align: right;\">\n",
       "      <th></th>\n",
       "      <th>ID</th>\n",
       "      <th>CropTyp</th>\n",
       "      <th>Irrigtn</th>\n",
       "      <th>DataSrc</th>\n",
       "      <th>Acres</th>\n",
       "      <th>ExctAcr</th>\n",
       "      <th>LstSrvD</th>\n",
       "      <th>county</th>\n",
       "    </tr>\n",
       "  </thead>\n",
       "  <tbody>\n",
       "    <tr>\n",
       "      <th>0</th>\n",
       "      <td>100010_WSDA_SF_2017</td>\n",
       "      <td>alfalfa hay</td>\n",
       "      <td>center pivot</td>\n",
       "      <td>wsda</td>\n",
       "      <td>34</td>\n",
       "      <td>34.310305</td>\n",
       "      <td>2017/09/12</td>\n",
       "      <td>Grant</td>\n",
       "    </tr>\n",
       "    <tr>\n",
       "      <th>1</th>\n",
       "      <td>100204_WSDA_SF_2017</td>\n",
       "      <td>alfalfa hay</td>\n",
       "      <td>center pivot</td>\n",
       "      <td>wsda</td>\n",
       "      <td>62</td>\n",
       "      <td>61.826535</td>\n",
       "      <td>2017/08/09</td>\n",
       "      <td>Grant</td>\n",
       "    </tr>\n",
       "  </tbody>\n",
       "</table>\n",
       "</div>"
      ],
      "text/plain": [
       "                    ID      CropTyp       Irrigtn DataSrc  Acres    ExctAcr  \\\n",
       "0  100010_WSDA_SF_2017  alfalfa hay  center pivot    wsda     34  34.310305   \n",
       "1  100204_WSDA_SF_2017  alfalfa hay  center pivot    wsda     62  61.826535   \n",
       "\n",
       "      LstSrvD county  \n",
       "0  2017/09/12  Grant  \n",
       "1  2017/08/09  Grant  "
      ]
     },
     "execution_count": 6,
     "metadata": {},
     "output_type": "execute_result"
    }
   ],
   "source": [
    "print (len(meta[meta.ID.isin(list(ground_truth_labels.ID))].ID.unique()))\n",
    "meta.head(2)"
   ]
  },
  {
   "cell_type": "markdown",
   "id": "688e4bba",
   "metadata": {},
   "source": [
    "# Read the data"
   ]
  },
  {
   "cell_type": "code",
   "execution_count": 7,
   "id": "b32a9531",
   "metadata": {},
   "outputs": [],
   "source": [
    "VI_idx = \"EVI\"\n",
    "data_dir = \"C:\\\\Users\\\\kirti\\\\Documents\\\\NASA_data\\\\VI_TS\\\\04_regularized_TS\\\\\""
   ]
  },
  {
   "cell_type": "code",
   "execution_count": 8,
   "id": "88b9a76c",
   "metadata": {},
   "outputs": [
    {
     "data": {
      "text/html": [
       "<div>\n",
       "<style scoped>\n",
       "    .dataframe tbody tr th:only-of-type {\n",
       "        vertical-align: middle;\n",
       "    }\n",
       "\n",
       "    .dataframe tbody tr th {\n",
       "        vertical-align: top;\n",
       "    }\n",
       "\n",
       "    .dataframe thead th {\n",
       "        text-align: right;\n",
       "    }\n",
       "</style>\n",
       "<table border=\"1\" class=\"dataframe\">\n",
       "  <thead>\n",
       "    <tr style=\"text-align: right;\">\n",
       "      <th></th>\n",
       "      <th>ID</th>\n",
       "      <th>human_system_start_time</th>\n",
       "      <th>EVI</th>\n",
       "    </tr>\n",
       "  </thead>\n",
       "  <tbody>\n",
       "    <tr>\n",
       "      <th>0</th>\n",
       "      <td>135073_WSDA_SF_2015</td>\n",
       "      <td>2015-01-10</td>\n",
       "      <td>0.049624</td>\n",
       "    </tr>\n",
       "    <tr>\n",
       "      <th>1</th>\n",
       "      <td>135073_WSDA_SF_2015</td>\n",
       "      <td>2015-01-20</td>\n",
       "      <td>0.026503</td>\n",
       "    </tr>\n",
       "  </tbody>\n",
       "</table>\n",
       "</div>"
      ],
      "text/plain": [
       "                    ID human_system_start_time       EVI\n",
       "0  135073_WSDA_SF_2015              2015-01-10  0.049624\n",
       "1  135073_WSDA_SF_2015              2015-01-20  0.026503"
      ]
     },
     "execution_count": 8,
     "metadata": {},
     "output_type": "execute_result"
    }
   ],
   "source": [
    "file_names = [\"regular_Walla2015_EVI_JFD.csv\", \"regular_AdamBenton2016_EVI_JFD.csv\", \n",
    "              \"regular_Grant2017_EVI_JFD.csv\", \"regular_FranklinYakima2018_EVI_JFD.csv\"]\n",
    "\n",
    "data=pd.DataFrame()\n",
    "\n",
    "for file in file_names:\n",
    "    curr_file=pd.read_csv(data_dir + file)\n",
    "    curr_file['human_system_start_time'] = pd.to_datetime(curr_file['human_system_start_time'])\n",
    "    \n",
    "    # These data are for 3 years. The middle one is the correct one\n",
    "    all_years = sorted(curr_file.human_system_start_time.dt.year.unique())\n",
    "    if len(all_years)==3 or len(all_years)==2:\n",
    "        proper_year = all_years[1]\n",
    "    elif len(all_years)==1:\n",
    "        proper_year = all_years[0]\n",
    "\n",
    "    curr_file = curr_file[curr_file.human_system_start_time.dt.year==proper_year]\n",
    "    data=pd.concat([data, curr_file])\n",
    "\n",
    "data.reset_index(drop=True, inplace=True)\n",
    "data.head(2)"
   ]
  },
  {
   "cell_type": "code",
   "execution_count": 9,
   "id": "7e29a625",
   "metadata": {},
   "outputs": [
    {
     "data": {
      "text/plain": [
       "1849"
      ]
     },
     "execution_count": 9,
     "metadata": {},
     "output_type": "execute_result"
    }
   ],
   "source": [
    "ground_truth = data[data.ID.isin(list(ground_truth_labels.ID.unique()))].copy()\n",
    "len(ground_truth.ID.unique())"
   ]
  },
  {
   "cell_type": "markdown",
   "id": "c6b98b72",
   "metadata": {},
   "source": [
    "# Toss Smalls"
   ]
  },
  {
   "cell_type": "code",
   "execution_count": 10,
   "id": "721e88ec",
   "metadata": {},
   "outputs": [
    {
     "name": "stdout",
     "output_type": "stream",
     "text": [
      "There are [1849] fields in total whose area adds up to [85573.68].\n",
      "There are [1342] fields larger than 10 acres whose area adds up to [83430.79].\n"
     ]
    }
   ],
   "source": [
    "ground_truth_labels_extended = pd.merge(ground_truth_labels, meta, on=['ID'], how='left')\n",
    "ground_truth_labels = ground_truth_labels_extended[ground_truth_labels_extended.ExctAcr>=10].copy()\n",
    "ground_truth_labels.reset_index(drop=True, inplace=True)\n",
    "\n",
    "print (\"There are [{:.0f}] fields in total whose area adds up to [{:.2f}].\".format(len(ground_truth_labels_extended), \\\n",
    "                                                                     ground_truth_labels_extended.ExctAcr.sum()))\n",
    "\n",
    "\n",
    "print (\"There are [{:.0f}] fields larger than 10 acres whose area adds up to [{:.2f}].\".format(len(ground_truth_labels), \\\n",
    "                                                                    ground_truth_labels.ExctAcr.sum()))\n"
   ]
  },
  {
   "cell_type": "code",
   "execution_count": 11,
   "id": "7c9e44ad",
   "metadata": {},
   "outputs": [],
   "source": [
    "ground_truth = ground_truth[ground_truth.ID.isin((list(meta_moreThan10Acr.ID)))].copy()\n",
    "ground_truth_labels = ground_truth_labels[ground_truth_labels.ID.isin((list(meta_moreThan10Acr.ID)))].copy()\n",
    "\n",
    "ground_truth.reset_index(drop=True, inplace=True)\n",
    "ground_truth_labels.reset_index(drop=True, inplace=True)"
   ]
  },
  {
   "cell_type": "markdown",
   "id": "f0fc0f9f",
   "metadata": {},
   "source": [
    "# Sort"
   ]
  },
  {
   "cell_type": "code",
   "execution_count": 12,
   "id": "a9abecf1",
   "metadata": {},
   "outputs": [
    {
     "name": "stdout",
     "output_type": "stream",
     "text": [
      "100048_WSDA_SF_2017\n",
      "100048_WSDA_SF_2017\n",
      "____________________________________\n",
      "99909_WSDA_SF_2017\n",
      "99909_WSDA_SF_2017\n",
      "____________________________________\n",
      "True\n"
     ]
    }
   ],
   "source": [
    "ground_truth.sort_values(by=[\"ID\", 'human_system_start_time'], inplace=True)\n",
    "ground_truth_labels.sort_values(by=[\"ID\"], inplace=True)\n",
    "\n",
    "ground_truth.reset_index(drop=True, inplace=True)\n",
    "ground_truth_labels.reset_index(drop=True, inplace=True)\n",
    "\n",
    "assert (len(ground_truth.ID.unique()) == len(ground_truth_labels.ID.unique()))\n",
    "\n",
    "print (list(ground_truth.ID)[0])\n",
    "print (list(ground_truth_labels.ID)[0])\n",
    "print (\"____________________________________\")\n",
    "print (list(ground_truth.ID)[-1])\n",
    "print (list(ground_truth_labels.ID)[-1])\n",
    "print (\"____________________________________\")\n",
    "print (list(ground_truth.ID.unique())==list(ground_truth_labels.ID.unique()))"
   ]
  },
  {
   "cell_type": "markdown",
   "id": "060adbe3",
   "metadata": {},
   "source": [
    "# Widen"
   ]
  },
  {
   "cell_type": "code",
   "execution_count": 13,
   "id": "a6940fe6",
   "metadata": {},
   "outputs": [],
   "source": [
    "EVI_colnames = [VI_idx + \"_\" + str(ii) for ii in range(1, 37) ]\n",
    "columnNames = [\"ID\"] + EVI_colnames\n",
    "ground_truth_wide = pd.DataFrame(columns=columnNames, \n",
    "                                index=range(len(ground_truth.ID.unique())))\n",
    "ground_truth_wide[\"ID\"] = ground_truth.ID.unique()\n",
    "\n",
    "for an_ID in ground_truth.ID.unique():\n",
    "    curr_df = ground_truth[ground_truth.ID==an_ID]\n",
    "    \n",
    "    ground_truth_wide_indx = ground_truth_wide[ground_truth_wide.ID==an_ID].index\n",
    "    ground_truth_wide.loc[ground_truth_wide_indx, \"EVI_1\":\"EVI_36\"] = curr_df.EVI.values[:36]"
   ]
  },
  {
   "cell_type": "code",
   "execution_count": 14,
   "id": "c7ac9a3d",
   "metadata": {},
   "outputs": [
    {
     "name": "stdout",
     "output_type": "stream",
     "text": [
      "1342\n"
     ]
    },
    {
     "data": {
      "text/html": [
       "<div>\n",
       "<style scoped>\n",
       "    .dataframe tbody tr th:only-of-type {\n",
       "        vertical-align: middle;\n",
       "    }\n",
       "\n",
       "    .dataframe tbody tr th {\n",
       "        vertical-align: top;\n",
       "    }\n",
       "\n",
       "    .dataframe thead th {\n",
       "        text-align: right;\n",
       "    }\n",
       "</style>\n",
       "<table border=\"1\" class=\"dataframe\">\n",
       "  <thead>\n",
       "    <tr style=\"text-align: right;\">\n",
       "      <th></th>\n",
       "      <th>ID</th>\n",
       "      <th>EVI_1</th>\n",
       "      <th>EVI_2</th>\n",
       "      <th>EVI_3</th>\n",
       "      <th>EVI_4</th>\n",
       "      <th>EVI_5</th>\n",
       "      <th>EVI_6</th>\n",
       "      <th>EVI_7</th>\n",
       "      <th>EVI_8</th>\n",
       "      <th>EVI_9</th>\n",
       "      <th>...</th>\n",
       "      <th>EVI_27</th>\n",
       "      <th>EVI_28</th>\n",
       "      <th>EVI_29</th>\n",
       "      <th>EVI_30</th>\n",
       "      <th>EVI_31</th>\n",
       "      <th>EVI_32</th>\n",
       "      <th>EVI_33</th>\n",
       "      <th>EVI_34</th>\n",
       "      <th>EVI_35</th>\n",
       "      <th>EVI_36</th>\n",
       "    </tr>\n",
       "  </thead>\n",
       "  <tbody>\n",
       "    <tr>\n",
       "      <th>0</th>\n",
       "      <td>100048_WSDA_SF_2017</td>\n",
       "      <td>0.0</td>\n",
       "      <td>0.0</td>\n",
       "      <td>0.0</td>\n",
       "      <td>0.0</td>\n",
       "      <td>0.0</td>\n",
       "      <td>0.0</td>\n",
       "      <td>0.0</td>\n",
       "      <td>0.072227</td>\n",
       "      <td>0.088491</td>\n",
       "      <td>...</td>\n",
       "      <td>0.111507</td>\n",
       "      <td>0.119534</td>\n",
       "      <td>0.13248</td>\n",
       "      <td>0.061173</td>\n",
       "      <td>0.055843</td>\n",
       "      <td>0.050513</td>\n",
       "      <td>0.045183</td>\n",
       "      <td>0.039854</td>\n",
       "      <td>0.045165</td>\n",
       "      <td>0.050476</td>\n",
       "    </tr>\n",
       "    <tr>\n",
       "      <th>1</th>\n",
       "      <td>100081_WSDA_SF_2017</td>\n",
       "      <td>0.014832</td>\n",
       "      <td>0.167038</td>\n",
       "      <td>0.319244</td>\n",
       "      <td>0.47145</td>\n",
       "      <td>0.378153</td>\n",
       "      <td>0.284855</td>\n",
       "      <td>0.198468</td>\n",
       "      <td>0.290683</td>\n",
       "      <td>0.398445</td>\n",
       "      <td>...</td>\n",
       "      <td>0.096717</td>\n",
       "      <td>0.117915</td>\n",
       "      <td>0.159058</td>\n",
       "      <td>0.121182</td>\n",
       "      <td>0.060591</td>\n",
       "      <td>0.0</td>\n",
       "      <td>0.050004</td>\n",
       "      <td>0.100009</td>\n",
       "      <td>0.102269</td>\n",
       "      <td>0.104529</td>\n",
       "    </tr>\n",
       "  </tbody>\n",
       "</table>\n",
       "<p>2 rows × 37 columns</p>\n",
       "</div>"
      ],
      "text/plain": [
       "                    ID     EVI_1     EVI_2     EVI_3    EVI_4     EVI_5  \\\n",
       "0  100048_WSDA_SF_2017       0.0       0.0       0.0      0.0       0.0   \n",
       "1  100081_WSDA_SF_2017  0.014832  0.167038  0.319244  0.47145  0.378153   \n",
       "\n",
       "      EVI_6     EVI_7     EVI_8     EVI_9  ...    EVI_27    EVI_28    EVI_29  \\\n",
       "0       0.0       0.0  0.072227  0.088491  ...  0.111507  0.119534   0.13248   \n",
       "1  0.284855  0.198468  0.290683  0.398445  ...  0.096717  0.117915  0.159058   \n",
       "\n",
       "     EVI_30    EVI_31    EVI_32    EVI_33    EVI_34    EVI_35    EVI_36  \n",
       "0  0.061173  0.055843  0.050513  0.045183  0.039854  0.045165  0.050476  \n",
       "1  0.121182  0.060591       0.0  0.050004  0.100009  0.102269  0.104529  \n",
       "\n",
       "[2 rows x 37 columns]"
      ]
     },
     "execution_count": 14,
     "metadata": {},
     "output_type": "execute_result"
    }
   ],
   "source": [
    "print (len(ground_truth_wide.ID.unique()))\n",
    "ground_truth_wide.head(2)"
   ]
  },
  {
   "cell_type": "markdown",
   "id": "e235debd",
   "metadata": {},
   "source": [
    "# Split Train and Test Set\n",
    "\n",
    "#### Make sure rows of ```ground_truth_allBands``` and ```ground_truth_labels``` are in the same order"
   ]
  },
  {
   "cell_type": "code",
   "execution_count": 15,
   "id": "f07e5ebc",
   "metadata": {},
   "outputs": [
    {
     "name": "stdout",
     "output_type": "stream",
     "text": [
      "['bean, green' 'wheat' 'onion' 'pea, green' 'corn, field' 'corn, sweet'\n",
      " 'bean, dry' 'yellow mustard' 'potato' 'canola' 'mint' 'grass seed'\n",
      " 'carrot' 'buckwheat' 'bluegrass seed' 'grass hay' 'corn seed' 'pea, dry'\n",
      " 'pea seed' 'barley hay' 'market crops' 'triticale' 'carrot seed'\n",
      " 'wheat fallow' 'barley' 'alfalfa seed' 'oat hay' 'triticale hay']\n"
     ]
    },
    {
     "data": {
      "text/html": [
       "<div>\n",
       "<style scoped>\n",
       "    .dataframe tbody tr th:only-of-type {\n",
       "        vertical-align: middle;\n",
       "    }\n",
       "\n",
       "    .dataframe tbody tr th {\n",
       "        vertical-align: top;\n",
       "    }\n",
       "\n",
       "    .dataframe thead th {\n",
       "        text-align: right;\n",
       "    }\n",
       "</style>\n",
       "<table border=\"1\" class=\"dataframe\">\n",
       "  <thead>\n",
       "    <tr style=\"text-align: right;\">\n",
       "      <th></th>\n",
       "      <th>ID</th>\n",
       "      <th>Vote</th>\n",
       "      <th>CropTyp</th>\n",
       "      <th>Irrigtn</th>\n",
       "      <th>DataSrc</th>\n",
       "      <th>Acres</th>\n",
       "      <th>ExctAcr</th>\n",
       "      <th>LstSrvD</th>\n",
       "      <th>county</th>\n",
       "    </tr>\n",
       "  </thead>\n",
       "  <tbody>\n",
       "    <tr>\n",
       "      <th>0</th>\n",
       "      <td>100048_WSDA_SF_2017</td>\n",
       "      <td>1</td>\n",
       "      <td>bean, green</td>\n",
       "      <td>rill</td>\n",
       "      <td>wsda</td>\n",
       "      <td>18</td>\n",
       "      <td>18.033240</td>\n",
       "      <td>2017/05/14</td>\n",
       "      <td>Grant</td>\n",
       "    </tr>\n",
       "    <tr>\n",
       "      <th>1</th>\n",
       "      <td>100081_WSDA_SF_2017</td>\n",
       "      <td>1</td>\n",
       "      <td>wheat</td>\n",
       "      <td>rill</td>\n",
       "      <td>wsda</td>\n",
       "      <td>16</td>\n",
       "      <td>15.959744</td>\n",
       "      <td>2017/08/09</td>\n",
       "      <td>Grant</td>\n",
       "    </tr>\n",
       "  </tbody>\n",
       "</table>\n",
       "</div>"
      ],
      "text/plain": [
       "                    ID  Vote      CropTyp Irrigtn DataSrc  Acres    ExctAcr  \\\n",
       "0  100048_WSDA_SF_2017     1  bean, green    rill    wsda     18  18.033240   \n",
       "1  100081_WSDA_SF_2017     1        wheat    rill    wsda     16  15.959744   \n",
       "\n",
       "      LstSrvD county  \n",
       "0  2017/05/14  Grant  \n",
       "1  2017/08/09  Grant  "
      ]
     },
     "execution_count": 15,
     "metadata": {},
     "output_type": "execute_result"
    }
   ],
   "source": [
    "print (ground_truth_labels.CropTyp.unique())\n",
    "ground_truth_labels.head(2)"
   ]
  },
  {
   "cell_type": "code",
   "execution_count": 16,
   "id": "be4b20df",
   "metadata": {},
   "outputs": [
    {
     "data": {
      "text/html": [
       "<div>\n",
       "<style scoped>\n",
       "    .dataframe tbody tr th:only-of-type {\n",
       "        vertical-align: middle;\n",
       "    }\n",
       "\n",
       "    .dataframe tbody tr th {\n",
       "        vertical-align: top;\n",
       "    }\n",
       "\n",
       "    .dataframe thead th {\n",
       "        text-align: right;\n",
       "    }\n",
       "</style>\n",
       "<table border=\"1\" class=\"dataframe\">\n",
       "  <thead>\n",
       "    <tr style=\"text-align: right;\">\n",
       "      <th></th>\n",
       "      <th>ID</th>\n",
       "      <th>human_system_start_time</th>\n",
       "      <th>EVI</th>\n",
       "    </tr>\n",
       "  </thead>\n",
       "  <tbody>\n",
       "    <tr>\n",
       "      <th>0</th>\n",
       "      <td>100048_WSDA_SF_2017</td>\n",
       "      <td>2017-01-06</td>\n",
       "      <td>0.0</td>\n",
       "    </tr>\n",
       "    <tr>\n",
       "      <th>1</th>\n",
       "      <td>100048_WSDA_SF_2017</td>\n",
       "      <td>2017-01-16</td>\n",
       "      <td>0.0</td>\n",
       "    </tr>\n",
       "  </tbody>\n",
       "</table>\n",
       "</div>"
      ],
      "text/plain": [
       "                    ID human_system_start_time  EVI\n",
       "0  100048_WSDA_SF_2017              2017-01-06  0.0\n",
       "1  100048_WSDA_SF_2017              2017-01-16  0.0"
      ]
     },
     "execution_count": 16,
     "metadata": {},
     "output_type": "execute_result"
    }
   ],
   "source": [
    "ground_truth.head(2)"
   ]
  },
  {
   "cell_type": "code",
   "execution_count": 17,
   "id": "60383565",
   "metadata": {},
   "outputs": [
    {
     "name": "stdout",
     "output_type": "stream",
     "text": [
      "10.0708703567\n"
     ]
    },
    {
     "data": {
      "text/html": [
       "<div>\n",
       "<style scoped>\n",
       "    .dataframe tbody tr th:only-of-type {\n",
       "        vertical-align: middle;\n",
       "    }\n",
       "\n",
       "    .dataframe tbody tr th {\n",
       "        vertical-align: top;\n",
       "    }\n",
       "\n",
       "    .dataframe thead th {\n",
       "        text-align: right;\n",
       "    }\n",
       "</style>\n",
       "<table border=\"1\" class=\"dataframe\">\n",
       "  <thead>\n",
       "    <tr style=\"text-align: right;\">\n",
       "      <th></th>\n",
       "      <th>ID</th>\n",
       "      <th>Vote</th>\n",
       "      <th>CropTyp</th>\n",
       "      <th>Irrigtn</th>\n",
       "      <th>DataSrc</th>\n",
       "      <th>Acres</th>\n",
       "      <th>ExctAcr</th>\n",
       "      <th>LstSrvD</th>\n",
       "      <th>county</th>\n",
       "    </tr>\n",
       "  </thead>\n",
       "  <tbody>\n",
       "    <tr>\n",
       "      <th>0</th>\n",
       "      <td>100048_WSDA_SF_2017</td>\n",
       "      <td>1</td>\n",
       "      <td>bean, green</td>\n",
       "      <td>rill</td>\n",
       "      <td>wsda</td>\n",
       "      <td>18</td>\n",
       "      <td>18.033240</td>\n",
       "      <td>2017/05/14</td>\n",
       "      <td>Grant</td>\n",
       "    </tr>\n",
       "    <tr>\n",
       "      <th>1</th>\n",
       "      <td>100081_WSDA_SF_2017</td>\n",
       "      <td>1</td>\n",
       "      <td>wheat</td>\n",
       "      <td>rill</td>\n",
       "      <td>wsda</td>\n",
       "      <td>16</td>\n",
       "      <td>15.959744</td>\n",
       "      <td>2017/08/09</td>\n",
       "      <td>Grant</td>\n",
       "    </tr>\n",
       "  </tbody>\n",
       "</table>\n",
       "</div>"
      ],
      "text/plain": [
       "                    ID  Vote      CropTyp Irrigtn DataSrc  Acres    ExctAcr  \\\n",
       "0  100048_WSDA_SF_2017     1  bean, green    rill    wsda     18  18.033240   \n",
       "1  100081_WSDA_SF_2017     1        wheat    rill    wsda     16  15.959744   \n",
       "\n",
       "      LstSrvD county  \n",
       "0  2017/05/14  Grant  \n",
       "1  2017/08/09  Grant  "
      ]
     },
     "execution_count": 17,
     "metadata": {},
     "output_type": "execute_result"
    }
   ],
   "source": [
    "ground_truth_labels = ground_truth_labels.set_index('ID')\n",
    "ground_truth_labels = ground_truth_labels.reindex(index=ground_truth_wide['ID'])\n",
    "ground_truth_labels = ground_truth_labels.reset_index()\n",
    "\n",
    "print (ground_truth_labels.ExctAcr.min())\n",
    "ground_truth_labels.head(2)"
   ]
  },
  {
   "cell_type": "code",
   "execution_count": 18,
   "id": "db4e5c50",
   "metadata": {},
   "outputs": [],
   "source": [
    "ground_truth_labels=ground_truth_labels[[\"ID\", \"Vote\"]]"
   ]
  },
  {
   "cell_type": "code",
   "execution_count": 19,
   "id": "5c7c37c8",
   "metadata": {},
   "outputs": [
    {
     "data": {
      "text/plain": [
       "(269, 37)"
      ]
     },
     "execution_count": 19,
     "metadata": {},
     "output_type": "execute_result"
    }
   ],
   "source": [
    "x_train_df, x_test_df, y_train_df, y_test_df = train_test_split(ground_truth_wide, \n",
    "                                                                ground_truth_labels, \n",
    "                                                                test_size=0.2, \n",
    "                                                                random_state=0,\n",
    "                                                                shuffle=True,\n",
    "                                                                stratify=ground_truth_labels.Vote.values)\n",
    "x_test_df.shape"
   ]
  },
  {
   "cell_type": "markdown",
   "id": "07f52244",
   "metadata": {},
   "source": [
    "# Start Random Forest"
   ]
  },
  {
   "cell_type": "markdown",
   "id": "f702d33e",
   "metadata": {},
   "source": [
    "# Definitions\n",
    "\n",
    "  - **Precision** Of all instances we predict $\\hat y = 1$, what fraction is actually 1.\n",
    "     \\begin{equation}\\label{eq:precision}\n",
    "        \\text{Precision} = \\frac{TP}{TP + FP}\n",
    "     \\end{equation}\n",
    "\n",
    "  - **Recall** Of all instances that are actually $y = 1$, what fraction we predict 1.\n",
    "     \\begin{equation}\\label{eq:recall}\n",
    "         \\text{Recall} = \\text{TPR} = \\frac{TP}{TP + FN}\n",
    "     \\end{equation}\n",
    "     \n",
    "  - **Specifity** Fraction of all negative instances that are incorrectly predicted positive.\n",
    "     \\begin{equation}\\label{eq:specifity}\n",
    "        \\text{Specifity} = \\text{FPR} = \\frac{FP}{TN + FP}\\\\\n",
    "     \\end{equation}\n",
    "     \n",
    "  - **F-Score** Adjust $\\beta$ for trade off between  precision and recall. For precision oriented task $\\beta = 0.5$.\n",
    "     \\begin{equation}\\label{eq:Fscore}\n",
    "        F_\\beta = \\frac{(1+\\beta^2) TP}{ (1+\\beta^2) TP + \\beta^2 FN + FP}\n",
    "     \\end{equation}\n",
    "\n"
   ]
  },
  {
   "cell_type": "code",
   "execution_count": 20,
   "id": "bf310c55",
   "metadata": {},
   "outputs": [],
   "source": [
    "from sklearn.pipeline import make_pipeline\n",
    "from sklearn.ensemble import RandomForestClassifier"
   ]
  },
  {
   "cell_type": "code",
   "execution_count": 21,
   "id": "11f8f73a",
   "metadata": {},
   "outputs": [
    {
     "name": "stdout",
     "output_type": "stream",
     "text": [
      "CPU times: total: 391 ms\n",
      "Wall time: 379 ms\n"
     ]
    },
    {
     "data": {
      "text/plain": [
       "RandomForestClassifier(max_features='sqrt', random_state=1)"
      ]
     },
     "execution_count": 21,
     "metadata": {},
     "output_type": "execute_result"
    }
   ],
   "source": [
    "%%time\n",
    "forest_1_default = RandomForestClassifier(n_estimators=100, \n",
    "                                          criterion='gini', max_depth=None, \n",
    "                                          min_samples_split=2, min_samples_leaf=1, \n",
    "                                          min_weight_fraction_leaf=0.0,\n",
    "                                          max_features='sqrt', max_leaf_nodes=None, \n",
    "                                          min_impurity_decrease=0.0, \n",
    "                                          bootstrap=True, oob_score=False, n_jobs=None, \n",
    "                                          random_state=1, verbose=0, \n",
    "                                          warm_start=False, class_weight=None, \n",
    "                                          ccp_alpha=0.0, max_samples=None)\n",
    "\n",
    "forest_1_default.fit(x_train_df.iloc[:, 1:], y_train_df.iloc[:, 1:].values.ravel())"
   ]
  },
  {
   "cell_type": "code",
   "execution_count": 23,
   "id": "8f7bc5d8",
   "metadata": {},
   "outputs": [
    {
     "data": {
      "text/html": [
       "<div>\n",
       "<style scoped>\n",
       "    .dataframe tbody tr th:only-of-type {\n",
       "        vertical-align: middle;\n",
       "    }\n",
       "\n",
       "    .dataframe tbody tr th {\n",
       "        vertical-align: top;\n",
       "    }\n",
       "\n",
       "    .dataframe thead th {\n",
       "        text-align: right;\n",
       "    }\n",
       "</style>\n",
       "<table border=\"1\" class=\"dataframe\">\n",
       "  <thead>\n",
       "    <tr style=\"text-align: right;\">\n",
       "      <th></th>\n",
       "      <th>ID</th>\n",
       "      <th>Vote</th>\n",
       "      <th>prediction</th>\n",
       "    </tr>\n",
       "  </thead>\n",
       "  <tbody>\n",
       "    <tr>\n",
       "      <th>1221</th>\n",
       "      <td>7667_WSDA_SF_2016</td>\n",
       "      <td>1</td>\n",
       "      <td>1</td>\n",
       "    </tr>\n",
       "    <tr>\n",
       "      <th>1334</th>\n",
       "      <td>99748_WSDA_SF_2017</td>\n",
       "      <td>1</td>\n",
       "      <td>1</td>\n",
       "    </tr>\n",
       "  </tbody>\n",
       "</table>\n",
       "</div>"
      ],
      "text/plain": [
       "                      ID  Vote  prediction\n",
       "1221   7667_WSDA_SF_2016     1           1\n",
       "1334  99748_WSDA_SF_2017     1           1"
      ]
     },
     "execution_count": 23,
     "metadata": {},
     "output_type": "execute_result"
    }
   ],
   "source": [
    "forest_1_default_predictions = forest_1_default.predict(x_test_df.iloc[:, 1:])\n",
    "forest_1_default_y_test_df=y_test_df.copy()\n",
    "forest_1_default_y_test_df[\"prediction\"]=list(forest_1_default_predictions)\n",
    "forest_1_default_y_test_df.head(2)"
   ]
  },
  {
   "cell_type": "code",
   "execution_count": 42,
   "id": "92ad9c57",
   "metadata": {},
   "outputs": [
    {
     "data": {
      "text/html": [
       "<div>\n",
       "<style scoped>\n",
       "    .dataframe tbody tr th:only-of-type {\n",
       "        vertical-align: middle;\n",
       "    }\n",
       "\n",
       "    .dataframe tbody tr th {\n",
       "        vertical-align: top;\n",
       "    }\n",
       "\n",
       "    .dataframe thead th {\n",
       "        text-align: right;\n",
       "    }\n",
       "</style>\n",
       "<table border=\"1\" class=\"dataframe\">\n",
       "  <thead>\n",
       "    <tr style=\"text-align: right;\">\n",
       "      <th></th>\n",
       "      <th>None</th>\n",
       "      <th>Predict_Single</th>\n",
       "      <th>Predict_Double</th>\n",
       "    </tr>\n",
       "  </thead>\n",
       "  <tbody>\n",
       "    <tr>\n",
       "      <th>0</th>\n",
       "      <td>Actual_Single</td>\n",
       "      <td>218</td>\n",
       "      <td>1</td>\n",
       "    </tr>\n",
       "    <tr>\n",
       "      <th>1</th>\n",
       "      <td>Actual_Double</td>\n",
       "      <td>11</td>\n",
       "      <td>39</td>\n",
       "    </tr>\n",
       "  </tbody>\n",
       "</table>\n",
       "</div>"
      ],
      "text/plain": [
       "            None  Predict_Single  Predict_Double\n",
       "0  Actual_Single             218               1\n",
       "1  Actual_Double              11              39"
      ]
     },
     "execution_count": 42,
     "metadata": {},
     "output_type": "execute_result"
    }
   ],
   "source": [
    "true_single_predicted_single=0\n",
    "true_single_predicted_double=0\n",
    "\n",
    "true_double_predicted_single=0\n",
    "true_double_predicted_double=0\n",
    "\n",
    "for index_ in forest_1_default_y_test_df.index:\n",
    "    curr_vote=list(forest_1_default_y_test_df[forest_1_default_y_test_df.index==index_].Vote)[0]\n",
    "    curr_predict=list(forest_1_default_y_test_df[forest_1_default_y_test_df.index==index_].prediction)[0]\n",
    "    if curr_vote==curr_predict:\n",
    "        if curr_vote==1: \n",
    "            true_single_predicted_single+=1\n",
    "        else:\n",
    "            true_double_predicted_double+=1\n",
    "    else:\n",
    "        if curr_vote==1:\n",
    "            true_single_predicted_double+=1\n",
    "        else:\n",
    "            true_double_predicted_single+=1\n",
    "            \n",
    "forest_default_confus_tbl_test = pd.DataFrame(columns=['None', 'Predict_Single', 'Predict_Double'], \n",
    "                               index=range(2))\n",
    "forest_default_confus_tbl_test.loc[0, 'None'] = 'Actual_Single'\n",
    "forest_default_confus_tbl_test.loc[1, 'None'] = 'Actual_Double'\n",
    "forest_default_confus_tbl_test['Predict_Single']=0\n",
    "forest_default_confus_tbl_test['Predict_Double']=0\n",
    "\n",
    "forest_default_confus_tbl_test.loc[0, \"Predict_Single\"]=true_single_predicted_single\n",
    "forest_default_confus_tbl_test.loc[0, \"Predict_Double\"]=true_single_predicted_double\n",
    "forest_default_confus_tbl_test.loc[1, \"Predict_Single\"]=true_double_predicted_single\n",
    "forest_default_confus_tbl_test.loc[1, \"Predict_Double\"]=true_double_predicted_double\n",
    "forest_default_confus_tbl_test"
   ]
  },
  {
   "cell_type": "code",
   "execution_count": 73,
   "id": "e02130c2",
   "metadata": {},
   "outputs": [
    {
     "name": "stdout",
     "output_type": "stream",
     "text": [
      "845.0734264584283\n",
      "17.8815032814299\n",
      "827.1919231769984\n"
     ]
    }
   ],
   "source": [
    "FD1_y_test_df_act_1_pred_2=forest_1_default_y_test_df[forest_1_default_y_test_df.Vote==1].copy()\n",
    "FD1_y_test_df_act_2_pred_1=forest_1_default_y_test_df[forest_1_default_y_test_df.Vote==2].copy()\n",
    "\n",
    "FD1_y_test_df_act_1_pred_2=FD1_y_test_df_act_1_pred_2[FD1_y_test_df_act_1_pred_2.prediction==2].copy()\n",
    "FD1_y_test_df_act_2_pred_1=FD1_y_test_df_act_2_pred_1[FD1_y_test_df_act_2_pred_1.prediction==1].copy()\n",
    "\n",
    "FD1_y_test_df_act_2_pred_1 = pd.merge(FD1_y_test_df_act_2_pred_1, ground_truth_labels_extended, on=['ID'], how='left')\n",
    "FD1_y_test_df_act_1_pred_2 = pd.merge(FD1_y_test_df_act_1_pred_2, ground_truth_labels_extended, on=['ID'], how='left')\n",
    "\n",
    "print (FD1_y_test_df_act_2_pred_1.ExctAcr.sum())\n",
    "print (FD1_y_test_df_act_1_pred_2.ExctAcr.sum())\n",
    "\n",
    "print (FD1_y_test_df_act_2_pred_1.ExctAcr.sum()-FD1_y_test_df_act_1_pred_2.ExctAcr.sum())"
   ]
  },
  {
   "cell_type": "code",
   "execution_count": 25,
   "id": "5d3170af",
   "metadata": {},
   "outputs": [],
   "source": [
    "# parameters = {'n_jobs':[4],\n",
    "#               'criterion': [\"gini\", \"entropy\"], # log_loss\n",
    "#               'max_depth':[1, 2, 4, 6, 8, 10, 12, 14, 16, 18, 20],\n",
    "#               'min_samples_split':[2, 3, 4, 5],\n",
    "#               'max_features': [\"sqrt\", \"log2\", None],\n",
    "#               # 'min_impurity_decreasefloat':[0, 1, 2],\n",
    "#               'class_weight':['balanced', 'balanced_subsample', None],\n",
    "#               'ccp_alpha':[0.0, 1, 2, 3], \n",
    "#               'max_samples':[None, 1, 2, 3, 4, 5]} # , \n",
    "# forest_classifier_grid = GridSearchCV(RandomForestClassifier(random_state=0), \n",
    "#                                       parameters, cv=5, verbose=1,\n",
    "#                                       error_score='raise')\n",
    "\n",
    "# forest_classifier_grid.fit(x_train_df.iloc[:, 1:], y_train_df.Vote.values.ravel())"
   ]
  },
  {
   "cell_type": "code",
   "execution_count": 26,
   "id": "c6b2837c",
   "metadata": {},
   "outputs": [],
   "source": [
    "# RandomForestClassifier.get_params().keys()"
   ]
  },
  {
   "cell_type": "code",
   "execution_count": null,
   "id": "181a4383",
   "metadata": {},
   "outputs": [],
   "source": [
    "(n_estimators=100, \n",
    "criterion='gini', \n",
    "max_depth=None, \n",
    "min_samples_split=2, \n",
    "min_samples_leaf=1, \n",
    "min_weight_fraction_leaf=0.0,\n",
    "max_features='sqrt', \n",
    "max_leaf_nodes=None, \n",
    "min_impurity_decrease=0.0, \n",
    "bootstrap=True, \n",
    "oob_score=False, \n",
    "n_jobs=None, \n",
    "random_state=1,\n",
    "warm_start=False, \n",
    "class_weight=None, \n",
    "ccp_alpha=0.0,\n",
    "max_samples=None)"
   ]
  },
  {
   "cell_type": "code",
   "execution_count": 27,
   "id": "6adab1ec",
   "metadata": {},
   "outputs": [
    {
     "name": "stdout",
     "output_type": "stream",
     "text": [
      "Fitting 5 folds for each of 20736 candidates, totalling 103680 fits\n",
      "{'ccp_alpha': 0.0, 'class_weight': None, 'criterion': 'gini', 'max_depth': 14, 'max_features': 'log2', 'max_samples': None, 'min_samples_split': 4, 'n_jobs': 4}\n",
      "0.9562051727885242\n",
      "CPU times: total: 3h 57min 46s\n",
      "Wall time: 4h 39min 34s\n"
     ]
    }
   ],
   "source": [
    "# %%time\n",
    "# parameters = {'n_jobs':[4],\n",
    "#               'criterion': [\"gini\", \"entropy\"], # log_loss \n",
    "#               'max_depth':[2, 4, 6, 8, 9, 10, 11, 12, 14, 16, 18, 20],\n",
    "#               'min_samples_split':[2, 3, 4, 5],\n",
    "#               'max_features': [\"sqrt\", \"log2\", None],\n",
    "#               'class_weight':['balanced', 'balanced_subsample', None],\n",
    "#               'ccp_alpha':[0.0, 1, 2, 3], \n",
    "#              # 'min_impurity_decreasefloat':[0, 1, 2], # roblem with sqrt stuff?\n",
    "#               'max_samples':[None, 1, 2, 3, 4, 5]\n",
    "#              } # , \n",
    "# forest_grid_1 = GridSearchCV(RandomForestClassifier(random_state=0), \n",
    "#                              parameters, cv=5, verbose=1,\n",
    "#                              error_score='raise')\n",
    "\n",
    "# forest_grid_1.fit(x_train_df.iloc[:, 1:], y_train_df.Vote.values.ravel())\n",
    "\n",
    "# print (forest_grid_1.best_params_)\n",
    "# print (forest_grid_1.best_score_)\n",
    "\n",
    "# import pickle\n",
    "\n",
    "# model_dir = \"C:\\\\Users\\\\kirti\\\\Documents\\\\NASA_data\\\\ML_Models\\\\\"\n",
    "# filename = model_dir + 'forest_grid_1.sav'\n",
    "# pickle.dump(forest_1_default, open(filename, 'wb'))"
   ]
  },
  {
   "cell_type": "code",
   "execution_count": 30,
   "id": "945b2c67",
   "metadata": {},
   "outputs": [
    {
     "data": {
      "text/plain": [
       "7.680000000000001"
      ]
     },
     "execution_count": 30,
     "metadata": {},
     "output_type": "execute_result"
    }
   ],
   "source": [
    "(((103680 *8)/30)/60)/60"
   ]
  },
  {
   "cell_type": "code",
   "execution_count": 27,
   "id": "a11b062a",
   "metadata": {},
   "outputs": [
    {
     "name": "stdout",
     "output_type": "stream",
     "text": [
      "Fitting 5 folds for each of 6 candidates, totalling 30 fits\n",
      "{'ccp_alpha': 0.0, 'class_weight': None, 'criterion': 'gini', 'max_depth': 14, 'max_features': 'log2', 'max_samples': None, 'min_samples_split': 4, 'n_jobs': 4}\n",
      "0.9562051727885242\n",
      "CPU times: total: 4.45 s\n",
      "Wall time: 8.62 s\n"
     ]
    }
   ],
   "source": [
    "%%time\n",
    "parameters = {'n_jobs':[4],\n",
    "              'criterion': [\"gini\"], # log_loss \n",
    "              'max_depth':[10, 11, 12, 13, 14, 15],\n",
    "              'min_samples_split':[4],\n",
    "              'max_features': [\"log2\"],\n",
    "              'class_weight':[None],\n",
    "              'ccp_alpha':[0.0], \n",
    "             # 'min_impurity_decreasefloat':[0, 1, 2], # roblem with sqrt stuff?\n",
    "              'max_samples':[None]\n",
    "             } # , \n",
    "forest_grid_1 = GridSearchCV(RandomForestClassifier(random_state=0), \n",
    "                             parameters, cv=5, verbose=1,\n",
    "                             error_score='raise')\n",
    "\n",
    "forest_grid_1.fit(x_train_df.iloc[:, 1:], y_train_df.Vote.values.ravel())\n",
    "\n",
    "print (forest_grid_1.best_params_)\n",
    "print (forest_grid_1.best_score_)"
   ]
  },
  {
   "cell_type": "code",
   "execution_count": 36,
   "id": "092c1943",
   "metadata": {},
   "outputs": [],
   "source": [
    "import pickle\n",
    "# model_dir = \"/Users/hn/Documents/01_research_data/NASA/ML_Models/\"\n",
    "model_dir = \"C:\\\\Users\\\\kirti\\\\Documents\\\\NASA_data\\\\ML_Models\\\\\"\n",
    "filename = model_dir + 'forest_grid_1.sav'\n",
    "pickle.dump(forest_1_default, open(filename, 'wb'))"
   ]
  },
  {
   "cell_type": "code",
   "execution_count": 34,
   "id": "d6ef1674",
   "metadata": {},
   "outputs": [
    {
     "data": {
      "text/html": [
       "<div>\n",
       "<style scoped>\n",
       "    .dataframe tbody tr th:only-of-type {\n",
       "        vertical-align: middle;\n",
       "    }\n",
       "\n",
       "    .dataframe tbody tr th {\n",
       "        vertical-align: top;\n",
       "    }\n",
       "\n",
       "    .dataframe thead th {\n",
       "        text-align: right;\n",
       "    }\n",
       "</style>\n",
       "<table border=\"1\" class=\"dataframe\">\n",
       "  <thead>\n",
       "    <tr style=\"text-align: right;\">\n",
       "      <th></th>\n",
       "      <th>ID</th>\n",
       "      <th>Vote</th>\n",
       "      <th>prediction</th>\n",
       "    </tr>\n",
       "  </thead>\n",
       "  <tbody>\n",
       "    <tr>\n",
       "      <th>1221</th>\n",
       "      <td>7667_WSDA_SF_2016</td>\n",
       "      <td>1</td>\n",
       "      <td>1</td>\n",
       "    </tr>\n",
       "    <tr>\n",
       "      <th>1334</th>\n",
       "      <td>99748_WSDA_SF_2017</td>\n",
       "      <td>1</td>\n",
       "      <td>1</td>\n",
       "    </tr>\n",
       "  </tbody>\n",
       "</table>\n",
       "</div>"
      ],
      "text/plain": [
       "                      ID  Vote  prediction\n",
       "1221   7667_WSDA_SF_2016     1           1\n",
       "1334  99748_WSDA_SF_2017     1           1"
      ]
     },
     "execution_count": 34,
     "metadata": {},
     "output_type": "execute_result"
    }
   ],
   "source": [
    "forest_grid_1_predictions = forest_grid_1.predict(x_test_df.iloc[:, 1:])\n",
    "forest_grid_1_y_test_df=y_test_df.copy()\n",
    "forest_grid_1_y_test_df[\"prediction\"]=list(forest_grid_1_predictions)\n",
    "forest_grid_1_y_test_df.head(2)"
   ]
  },
  {
   "cell_type": "code",
   "execution_count": 41,
   "id": "2f9f2e12",
   "metadata": {},
   "outputs": [
    {
     "data": {
      "text/html": [
       "<div>\n",
       "<style scoped>\n",
       "    .dataframe tbody tr th:only-of-type {\n",
       "        vertical-align: middle;\n",
       "    }\n",
       "\n",
       "    .dataframe tbody tr th {\n",
       "        vertical-align: top;\n",
       "    }\n",
       "\n",
       "    .dataframe thead th {\n",
       "        text-align: right;\n",
       "    }\n",
       "</style>\n",
       "<table border=\"1\" class=\"dataframe\">\n",
       "  <thead>\n",
       "    <tr style=\"text-align: right;\">\n",
       "      <th></th>\n",
       "      <th>None</th>\n",
       "      <th>Predict_Single</th>\n",
       "      <th>Predict_Double</th>\n",
       "    </tr>\n",
       "  </thead>\n",
       "  <tbody>\n",
       "    <tr>\n",
       "      <th>0</th>\n",
       "      <td>Actual_Single</td>\n",
       "      <td>218</td>\n",
       "      <td>1</td>\n",
       "    </tr>\n",
       "    <tr>\n",
       "      <th>1</th>\n",
       "      <td>Actual_Double</td>\n",
       "      <td>13</td>\n",
       "      <td>37</td>\n",
       "    </tr>\n",
       "  </tbody>\n",
       "</table>\n",
       "</div>"
      ],
      "text/plain": [
       "            None  Predict_Single  Predict_Double\n",
       "0  Actual_Single             218               1\n",
       "1  Actual_Double              13              37"
      ]
     },
     "execution_count": 41,
     "metadata": {},
     "output_type": "execute_result"
    }
   ],
   "source": [
    "true_single_predicted_single=0\n",
    "true_single_predicted_double=0\n",
    "\n",
    "true_double_predicted_single=0\n",
    "true_double_predicted_double=0\n",
    "\n",
    "for index_ in forest_grid_1_y_test_df.index:\n",
    "    curr_vote=list(forest_grid_1_y_test_df[forest_grid_1_y_test_df.index==index_].Vote)[0]\n",
    "    curr_predict=list(forest_grid_1_y_test_df[forest_grid_1_y_test_df.index==index_].prediction)[0]\n",
    "    if curr_vote==curr_predict:\n",
    "        if curr_vote==1: \n",
    "            true_single_predicted_single+=1\n",
    "        else:\n",
    "            true_double_predicted_double+=1\n",
    "    else:\n",
    "        if curr_vote==1:\n",
    "            true_single_predicted_double+=1\n",
    "        else:\n",
    "            true_double_predicted_single+=1\n",
    "            \n",
    "forest_grid_1_confus_tbl_test = pd.DataFrame(columns=['None', 'Predict_Single', 'Predict_Double'], \n",
    "                               index=range(2))\n",
    "forest_grid_1_confus_tbl_test.loc[0, 'None'] = 'Actual_Single'\n",
    "forest_grid_1_confus_tbl_test.loc[1, 'None'] = 'Actual_Double'\n",
    "forest_grid_1_confus_tbl_test['Predict_Single']=0\n",
    "forest_grid_1_confus_tbl_test['Predict_Double']=0\n",
    "\n",
    "forest_grid_1_confus_tbl_test.loc[0, \"Predict_Single\"]=true_single_predicted_single\n",
    "forest_grid_1_confus_tbl_test.loc[0, \"Predict_Double\"]=true_single_predicted_double\n",
    "forest_grid_1_confus_tbl_test.loc[1, \"Predict_Single\"]=true_double_predicted_single\n",
    "forest_grid_1_confus_tbl_test.loc[1, \"Predict_Double\"]=true_double_predicted_double\n",
    "forest_grid_1_confus_tbl_test"
   ]
  },
  {
   "cell_type": "code",
   "execution_count": 74,
   "id": "f5cd9bca",
   "metadata": {},
   "outputs": [
    {
     "name": "stdout",
     "output_type": "stream",
     "text": [
      "1054.5154381093193\n",
      "17.8815032814299\n",
      "1036.6339348278893\n"
     ]
    }
   ],
   "source": [
    "FG1_y_test_df_act_1_pred_2=forest_grid_1_y_test_df[forest_grid_1_y_test_df.Vote==1].copy()\n",
    "FG1_y_test_df_act_2_pred_1=forest_grid_1_y_test_df[forest_grid_1_y_test_df.Vote==2].copy()\n",
    "\n",
    "FG1_y_test_df_act_1_pred_2=FG1_y_test_df_act_1_pred_2[FG1_y_test_df_act_1_pred_2.prediction==2].copy()\n",
    "FG1_y_test_df_act_2_pred_1=FG1_y_test_df_act_2_pred_1[FG1_y_test_df_act_2_pred_1.prediction==1].copy()\n",
    "\n",
    "FG1_y_test_df_act_2_pred_1 = pd.merge(FG1_y_test_df_act_2_pred_1, ground_truth_labels_extended, on=['ID'], how='left')\n",
    "FG1_y_test_df_act_1_pred_2 = pd.merge(FG1_y_test_df_act_1_pred_2, ground_truth_labels_extended, on=['ID'], how='left')\n",
    "\n",
    "print (FG1_y_test_df_act_2_pred_1.ExctAcr.sum())\n",
    "print (FG1_y_test_df_act_1_pred_2.ExctAcr.sum())\n",
    "print (FG1_y_test_df_act_2_pred_1.ExctAcr.sum()-FG1_y_test_df_act_1_pred_2.ExctAcr.sum())"
   ]
  },
  {
   "cell_type": "code",
   "execution_count": null,
   "id": "5a47e7f2",
   "metadata": {},
   "outputs": [],
   "source": []
  },
  {
   "cell_type": "markdown",
   "id": "684b333e",
   "metadata": {},
   "source": [
    "# SG"
   ]
  },
  {
   "cell_type": "code",
   "execution_count": 47,
   "id": "7daed073",
   "metadata": {},
   "outputs": [
    {
     "data": {
      "text/html": [
       "<div>\n",
       "<style scoped>\n",
       "    .dataframe tbody tr th:only-of-type {\n",
       "        vertical-align: middle;\n",
       "    }\n",
       "\n",
       "    .dataframe tbody tr th {\n",
       "        vertical-align: top;\n",
       "    }\n",
       "\n",
       "    .dataframe thead th {\n",
       "        text-align: right;\n",
       "    }\n",
       "</style>\n",
       "<table border=\"1\" class=\"dataframe\">\n",
       "  <thead>\n",
       "    <tr style=\"text-align: right;\">\n",
       "      <th></th>\n",
       "      <th>ID</th>\n",
       "      <th>human_system_start_time</th>\n",
       "      <th>EVI</th>\n",
       "    </tr>\n",
       "  </thead>\n",
       "  <tbody>\n",
       "    <tr>\n",
       "      <th>0</th>\n",
       "      <td>135073_WSDA_SF_2015</td>\n",
       "      <td>2015-01-10</td>\n",
       "      <td>0.054429</td>\n",
       "    </tr>\n",
       "    <tr>\n",
       "      <th>1</th>\n",
       "      <td>135073_WSDA_SF_2015</td>\n",
       "      <td>2015-01-20</td>\n",
       "      <td>0.051731</td>\n",
       "    </tr>\n",
       "  </tbody>\n",
       "</table>\n",
       "</div>"
      ],
      "text/plain": [
       "                    ID human_system_start_time       EVI\n",
       "0  135073_WSDA_SF_2015              2015-01-10  0.054429\n",
       "1  135073_WSDA_SF_2015              2015-01-20  0.051731"
      ]
     },
     "execution_count": 47,
     "metadata": {},
     "output_type": "execute_result"
    }
   ],
   "source": [
    "VI_idx = \"EVI\"\n",
    "data_dir = \"C:\\\\Users\\\\kirti\\\\Documents\\\\NASA_data\\\\VI_TS\\\\05_SG_TS\\\\\"\n",
    "\n",
    "file_names = [\"SG_Walla2015_\" + VI_idx + \"_JFD.csv\", \"SG_AdamBenton2016_\" + VI_idx + \"_JFD.csv\", \n",
    "              \"SG_Grant2017_\" + VI_idx + \"_JFD.csv\", \"SG_FranklinYakima2018_\"+ VI_idx +\"_JFD.csv\"]\n",
    "\n",
    "data=pd.DataFrame()\n",
    "\n",
    "for file in file_names:\n",
    "    curr_file=pd.read_csv(data_dir + file)\n",
    "    curr_file['human_system_start_time'] = pd.to_datetime(curr_file['human_system_start_time'])\n",
    "    \n",
    "    # These data are for 3 years. The middle one is the correct one\n",
    "    all_years = sorted(curr_file.human_system_start_time.dt.year.unique())\n",
    "    if len(all_years)==3 or len(all_years)==2:\n",
    "        proper_year = all_years[1]\n",
    "    elif len(all_years)==1:\n",
    "        proper_year = all_years[0]\n",
    "\n",
    "    curr_file = curr_file[curr_file.human_system_start_time.dt.year==proper_year]\n",
    "    data=pd.concat([data, curr_file])\n",
    "\n",
    "data.reset_index(drop=True, inplace=True)\n",
    "data.head(2)"
   ]
  },
  {
   "cell_type": "code",
   "execution_count": 49,
   "id": "df420a23",
   "metadata": {},
   "outputs": [
    {
     "name": "stdout",
     "output_type": "stream",
     "text": [
      "3539\n",
      "There are [1342] fields in total whose area adds up to [83430.79].\n",
      "There are [1342] fields larger than 10 acres whose area adds up to [83430.79].\n"
     ]
    }
   ],
   "source": [
    "ground_truth = data[data.ID.isin(list(ground_truth_labels.ID.unique()))].copy()\n",
    "\n",
    "print (len(meta_moreThan10Acr.ID.unique()))\n",
    "ground_truth_labels_extended = pd.merge(ground_truth_labels, meta, on=['ID'], how='left')\n",
    "ground_truth_labels = ground_truth_labels_extended[ground_truth_labels_extended.ExctAcr>=10].copy()\n",
    "ground_truth_labels.reset_index(drop=True, inplace=True)\n",
    "\n",
    "print (\"There are [{:.0f}] fields in total whose area adds up to [{:.2f}].\".format(len(ground_truth_labels_extended), \\\n",
    "                                                                     ground_truth_labels_extended.ExctAcr.sum()))\n",
    "\n",
    "\n",
    "print (\"There are [{:.0f}] fields larger than 10 acres whose area adds up to [{:.2f}].\".format(len(ground_truth_labels), \\\n",
    "                                                                    ground_truth_labels.ExctAcr.sum()))\n"
   ]
  },
  {
   "cell_type": "code",
   "execution_count": 50,
   "id": "b9231462",
   "metadata": {},
   "outputs": [],
   "source": [
    "ground_truth = ground_truth[ground_truth.ID.isin((list(meta_moreThan10Acr.ID)))].copy()\n",
    "ground_truth_labels = ground_truth_labels[ground_truth_labels.ID.isin((list(meta_moreThan10Acr.ID)))].copy()\n",
    "\n",
    "ground_truth.reset_index(drop=True, inplace=True)\n",
    "ground_truth_labels.reset_index(drop=True, inplace=True)"
   ]
  },
  {
   "cell_type": "code",
   "execution_count": 51,
   "id": "958b69a6",
   "metadata": {},
   "outputs": [
    {
     "name": "stdout",
     "output_type": "stream",
     "text": [
      "100048_WSDA_SF_2017\n",
      "100048_WSDA_SF_2017\n",
      "____________________________________\n",
      "99909_WSDA_SF_2017\n",
      "99909_WSDA_SF_2017\n",
      "____________________________________\n",
      "True\n"
     ]
    }
   ],
   "source": [
    "ground_truth.sort_values(by=[\"ID\", 'human_system_start_time'], inplace=True)\n",
    "ground_truth_labels.sort_values(by=[\"ID\"], inplace=True)\n",
    "\n",
    "ground_truth.reset_index(drop=True, inplace=True)\n",
    "ground_truth_labels.reset_index(drop=True, inplace=True)\n",
    "\n",
    "assert (len(ground_truth.ID.unique()) == len(ground_truth_labels.ID.unique()))\n",
    "\n",
    "print (list(ground_truth.ID)[0])\n",
    "print (list(ground_truth_labels.ID)[0])\n",
    "print (\"____________________________________\")\n",
    "print (list(ground_truth.ID)[-1])\n",
    "print (list(ground_truth_labels.ID)[-1])\n",
    "print (\"____________________________________\")\n",
    "print (list(ground_truth.ID.unique())==list(ground_truth_labels.ID.unique()))"
   ]
  },
  {
   "cell_type": "markdown",
   "id": "53a4a515",
   "metadata": {},
   "source": [
    "# Widen"
   ]
  },
  {
   "cell_type": "code",
   "execution_count": 53,
   "id": "08d3cca6",
   "metadata": {},
   "outputs": [],
   "source": [
    "EVI_colnames = [VI_idx + \"_\" + str(ii) for ii in range(1, 37) ]\n",
    "columnNames = [\"ID\"] + EVI_colnames\n",
    "ground_truth_wide = pd.DataFrame(columns=columnNames, \n",
    "                                index=range(len(ground_truth.ID.unique())))\n",
    "ground_truth_wide[\"ID\"] = ground_truth.ID.unique()\n",
    "\n",
    "for an_ID in ground_truth.ID.unique():\n",
    "    curr_df = ground_truth[ground_truth.ID==an_ID]\n",
    "    \n",
    "    ground_truth_wide_indx = ground_truth_wide[ground_truth_wide.ID==an_ID].index\n",
    "    ground_truth_wide.loc[ground_truth_wide_indx, \"EVI_1\":\"EVI_36\"] = curr_df.EVI.values[:36]"
   ]
  },
  {
   "cell_type": "code",
   "execution_count": 54,
   "id": "e426591f",
   "metadata": {},
   "outputs": [],
   "source": [
    "ground_truth_labels = ground_truth_labels.set_index('ID')\n",
    "ground_truth_labels = ground_truth_labels.reindex(index=ground_truth_wide['ID'])\n",
    "ground_truth_labels = ground_truth_labels.reset_index()"
   ]
  },
  {
   "cell_type": "code",
   "execution_count": 55,
   "id": "3526b937",
   "metadata": {},
   "outputs": [
    {
     "data": {
      "text/html": [
       "<div>\n",
       "<style scoped>\n",
       "    .dataframe tbody tr th:only-of-type {\n",
       "        vertical-align: middle;\n",
       "    }\n",
       "\n",
       "    .dataframe tbody tr th {\n",
       "        vertical-align: top;\n",
       "    }\n",
       "\n",
       "    .dataframe thead th {\n",
       "        text-align: right;\n",
       "    }\n",
       "</style>\n",
       "<table border=\"1\" class=\"dataframe\">\n",
       "  <thead>\n",
       "    <tr style=\"text-align: right;\">\n",
       "      <th></th>\n",
       "      <th>ID</th>\n",
       "      <th>Vote</th>\n",
       "    </tr>\n",
       "  </thead>\n",
       "  <tbody>\n",
       "    <tr>\n",
       "      <th>0</th>\n",
       "      <td>100048_WSDA_SF_2017</td>\n",
       "      <td>1</td>\n",
       "    </tr>\n",
       "    <tr>\n",
       "      <th>1</th>\n",
       "      <td>100081_WSDA_SF_2017</td>\n",
       "      <td>1</td>\n",
       "    </tr>\n",
       "  </tbody>\n",
       "</table>\n",
       "</div>"
      ],
      "text/plain": [
       "                    ID  Vote\n",
       "0  100048_WSDA_SF_2017     1\n",
       "1  100081_WSDA_SF_2017     1"
      ]
     },
     "execution_count": 55,
     "metadata": {},
     "output_type": "execute_result"
    }
   ],
   "source": [
    "ground_truth_labels=ground_truth_labels[[\"ID\", \"Vote\"]]\n",
    "ground_truth_labels.head(2)"
   ]
  },
  {
   "cell_type": "code",
   "execution_count": 56,
   "id": "f2f81848",
   "metadata": {},
   "outputs": [],
   "source": [
    "x_train_df, x_test_df, y_train_df, y_test_df = train_test_split(ground_truth_wide, \n",
    "                                                                ground_truth_labels, \n",
    "                                                                test_size=0.2, \n",
    "                                                                random_state=0,\n",
    "                                                                shuffle=True,\n",
    "                                                                stratify=ground_truth_labels.Vote.values)"
   ]
  },
  {
   "cell_type": "code",
   "execution_count": 57,
   "id": "64b7fa8b",
   "metadata": {},
   "outputs": [
    {
     "name": "stdout",
     "output_type": "stream",
     "text": [
      "CPU times: total: 375 ms\n",
      "Wall time: 388 ms\n"
     ]
    },
    {
     "data": {
      "text/plain": [
       "RandomForestClassifier(max_features='sqrt', random_state=1)"
      ]
     },
     "execution_count": 57,
     "metadata": {},
     "output_type": "execute_result"
    }
   ],
   "source": [
    "%%time\n",
    "forest_1_default_SG = RandomForestClassifier(n_estimators=100, \n",
    "                                          criterion='gini', max_depth=None, \n",
    "                                          min_samples_split=2, min_samples_leaf=1, \n",
    "                                          min_weight_fraction_leaf=0.0,\n",
    "                                          max_features='sqrt', max_leaf_nodes=None, \n",
    "                                          min_impurity_decrease=0.0, \n",
    "                                          bootstrap=True, oob_score=False, n_jobs=None, \n",
    "                                          random_state=1, verbose=0, \n",
    "                                          warm_start=False, class_weight=None, \n",
    "                                          ccp_alpha=0.0, max_samples=None)\n",
    "\n",
    "forest_1_default_SG.fit(x_train_df.iloc[:, 1:], y_train_df.iloc[:, 1:].values.ravel())"
   ]
  },
  {
   "cell_type": "code",
   "execution_count": 58,
   "id": "137c8793",
   "metadata": {},
   "outputs": [
    {
     "data": {
      "text/html": [
       "<div>\n",
       "<style scoped>\n",
       "    .dataframe tbody tr th:only-of-type {\n",
       "        vertical-align: middle;\n",
       "    }\n",
       "\n",
       "    .dataframe tbody tr th {\n",
       "        vertical-align: top;\n",
       "    }\n",
       "\n",
       "    .dataframe thead th {\n",
       "        text-align: right;\n",
       "    }\n",
       "</style>\n",
       "<table border=\"1\" class=\"dataframe\">\n",
       "  <thead>\n",
       "    <tr style=\"text-align: right;\">\n",
       "      <th></th>\n",
       "      <th>ID</th>\n",
       "      <th>Vote</th>\n",
       "      <th>prediction</th>\n",
       "    </tr>\n",
       "  </thead>\n",
       "  <tbody>\n",
       "    <tr>\n",
       "      <th>1221</th>\n",
       "      <td>7667_WSDA_SF_2016</td>\n",
       "      <td>1</td>\n",
       "      <td>1</td>\n",
       "    </tr>\n",
       "    <tr>\n",
       "      <th>1334</th>\n",
       "      <td>99748_WSDA_SF_2017</td>\n",
       "      <td>1</td>\n",
       "      <td>1</td>\n",
       "    </tr>\n",
       "  </tbody>\n",
       "</table>\n",
       "</div>"
      ],
      "text/plain": [
       "                      ID  Vote  prediction\n",
       "1221   7667_WSDA_SF_2016     1           1\n",
       "1334  99748_WSDA_SF_2017     1           1"
      ]
     },
     "execution_count": 58,
     "metadata": {},
     "output_type": "execute_result"
    }
   ],
   "source": [
    "forest_1_default_SG_predictions = forest_1_default_SG.predict(x_test_df.iloc[:, 1:])\n",
    "forest_1_default_SG_y_test_df=y_test_df.copy()\n",
    "forest_1_default_SG_y_test_df[\"prediction\"]=list(forest_1_default_SG_predictions)\n",
    "forest_1_default_SG_y_test_df.head(2)"
   ]
  },
  {
   "cell_type": "code",
   "execution_count": 59,
   "id": "4f59818e",
   "metadata": {},
   "outputs": [
    {
     "data": {
      "text/html": [
       "<div>\n",
       "<style scoped>\n",
       "    .dataframe tbody tr th:only-of-type {\n",
       "        vertical-align: middle;\n",
       "    }\n",
       "\n",
       "    .dataframe tbody tr th {\n",
       "        vertical-align: top;\n",
       "    }\n",
       "\n",
       "    .dataframe thead th {\n",
       "        text-align: right;\n",
       "    }\n",
       "</style>\n",
       "<table border=\"1\" class=\"dataframe\">\n",
       "  <thead>\n",
       "    <tr style=\"text-align: right;\">\n",
       "      <th></th>\n",
       "      <th>None</th>\n",
       "      <th>Predict_Single</th>\n",
       "      <th>Predict_Double</th>\n",
       "    </tr>\n",
       "  </thead>\n",
       "  <tbody>\n",
       "    <tr>\n",
       "      <th>0</th>\n",
       "      <td>Actual_Single</td>\n",
       "      <td>218</td>\n",
       "      <td>1</td>\n",
       "    </tr>\n",
       "    <tr>\n",
       "      <th>1</th>\n",
       "      <td>Actual_Double</td>\n",
       "      <td>13</td>\n",
       "      <td>37</td>\n",
       "    </tr>\n",
       "  </tbody>\n",
       "</table>\n",
       "</div>"
      ],
      "text/plain": [
       "            None  Predict_Single  Predict_Double\n",
       "0  Actual_Single             218               1\n",
       "1  Actual_Double              13              37"
      ]
     },
     "execution_count": 59,
     "metadata": {},
     "output_type": "execute_result"
    }
   ],
   "source": [
    "true_single_predicted_single=0\n",
    "true_single_predicted_double=0\n",
    "\n",
    "true_double_predicted_single=0\n",
    "true_double_predicted_double=0\n",
    "\n",
    "for index_ in forest_1_default_SG_y_test_df.index:\n",
    "    curr_vote=list(forest_1_default_SG_y_test_df[forest_1_default_SG_y_test_df.index==index_].Vote)[0]\n",
    "    curr_predict=list(forest_1_default_SG_y_test_df[forest_1_default_SG_y_test_df.index==index_].prediction)[0]\n",
    "    if curr_vote==curr_predict:\n",
    "        if curr_vote==1: \n",
    "            true_single_predicted_single+=1\n",
    "        else:\n",
    "            true_double_predicted_double+=1\n",
    "    else:\n",
    "        if curr_vote==1:\n",
    "            true_single_predicted_double+=1\n",
    "        else:\n",
    "            true_double_predicted_single+=1\n",
    "            \n",
    "forest_default_SG_confus_tbl_test = pd.DataFrame(columns=['None', 'Predict_Single', 'Predict_Double'], \n",
    "                               index=range(2))\n",
    "forest_default_SG_confus_tbl_test.loc[0, 'None'] = 'Actual_Single'\n",
    "forest_default_SG_confus_tbl_test.loc[1, 'None'] = 'Actual_Double'\n",
    "forest_default_SG_confus_tbl_test['Predict_Single']=0\n",
    "forest_default_SG_confus_tbl_test['Predict_Double']=0\n",
    "\n",
    "forest_default_SG_confus_tbl_test.loc[0, \"Predict_Single\"]=true_single_predicted_single\n",
    "forest_default_SG_confus_tbl_test.loc[0, \"Predict_Double\"]=true_single_predicted_double\n",
    "forest_default_SG_confus_tbl_test.loc[1, \"Predict_Single\"]=true_double_predicted_single\n",
    "forest_default_SG_confus_tbl_test.loc[1, \"Predict_Double\"]=true_double_predicted_double\n",
    "forest_default_SG_confus_tbl_test"
   ]
  },
  {
   "cell_type": "code",
   "execution_count": 70,
   "id": "9e0f9fbe",
   "metadata": {},
   "outputs": [
    {
     "name": "stdout",
     "output_type": "stream",
     "text": [
      "FD1_yTest_df_act_2_pred_1.ExctAcr.sum():  1101.8806875993102\n",
      "FD1_yTest_df_act_1_pred_2.ExctAcr.sum():  17.8815032814299\n",
      "1083.9991843178805\n"
     ]
    }
   ],
   "source": [
    "FD1_yTest_df_act_1_pred_2=forest_1_default_SG_y_test_df[forest_1_default_SG_y_test_df.Vote==1].copy()\n",
    "FD1_yTest_df_act_2_pred_1=forest_1_default_SG_y_test_df[forest_1_default_SG_y_test_df.Vote==2].copy()\n",
    "\n",
    "FD1_yTest_df_act_1_pred_2=FD1_yTest_df_act_1_pred_2[FD1_yTest_df_act_1_pred_2.prediction==2].copy()\n",
    "FD1_yTest_df_act_2_pred_1=FD1_yTest_df_act_2_pred_1[FD1_yTest_df_act_2_pred_1.prediction==1].copy()\n",
    "\n",
    "FD1_yTest_df_act_2_pred_1 = pd.merge(FD1_yTest_df_act_2_pred_1, ground_truth_labels_extended, on=['ID'], how='left')\n",
    "FD1_yTest_df_act_1_pred_2 = pd.merge(FD1_yTest_df_act_1_pred_2, ground_truth_labels_extended, on=['ID'], how='left')\n",
    "\n",
    "aa=FD1_yTest_df_act_2_pred_1.ExctAcr.sum()\n",
    "bb=FD1_yTest_df_act_1_pred_2.ExctAcr.sum()\n",
    "print (\"FD1_yTest_df_act_2_pred_1.ExctAcr.sum(): \",aa)\n",
    "print (\"FD1_yTest_df_act_1_pred_2.ExctAcr.sum(): \", bb)\n",
    "print (aa-bb)"
   ]
  },
  {
   "cell_type": "code",
   "execution_count": null,
   "id": "a9e4bf1c",
   "metadata": {},
   "outputs": [],
   "source": []
  },
  {
   "cell_type": "code",
   "execution_count": 60,
   "id": "a9eb3f3b",
   "metadata": {},
   "outputs": [
    {
     "name": "stdout",
     "output_type": "stream",
     "text": [
      "Fitting 5 folds for each of 20736 candidates, totalling 103680 fits\n",
      "{'ccp_alpha': 0.0, 'class_weight': 'balanced', 'criterion': 'entropy', 'max_depth': 8, 'max_features': 'log2', 'max_samples': None, 'min_samples_split': 3, 'n_jobs': 4}\n",
      "0.9608693762225604\n",
      "CPU times: total: 3h 48min 31s\n",
      "Wall time: 4h 23min 4s\n"
     ]
    }
   ],
   "source": [
    "%%time\n",
    "parameters = {'n_jobs':[4],\n",
    "              'criterion': [\"gini\", \"entropy\"], # log_loss \n",
    "              'max_depth':[2, 4, 6, 8, 9, 10, 11, 12, 14, 16, 18, 20],\n",
    "              'min_samples_split':[2, 3, 4, 5],\n",
    "              'max_features': [\"sqrt\", \"log2\", None],\n",
    "              'class_weight':['balanced', 'balanced_subsample', None],\n",
    "              'ccp_alpha':[0.0, 1, 2, 3], \n",
    "             # 'min_impurity_decreasefloat':[0, 1, 2], # roblem with sqrt stuff?\n",
    "              'max_samples':[None, 1, 2, 3, 4, 5]\n",
    "             } # , \n",
    "forest_grid_1_SG = GridSearchCV(RandomForestClassifier(random_state=0), \n",
    "                             parameters, cv=5, verbose=1,\n",
    "                             error_score='raise')\n",
    "\n",
    "forest_grid_1_SG.fit(x_train_df.iloc[:, 1:], y_train_df.Vote.values.ravel())\n",
    "\n",
    "print (forest_grid_1_SG.best_params_)\n",
    "print (forest_grid_1_SG.best_score_)\n",
    "\n",
    "import pickle\n",
    "\n",
    "model_dir = \"C:\\\\Users\\\\kirti\\\\Documents\\\\NASA_data\\\\ML_Models\\\\\"\n",
    "filename = model_dir + 'forest_grid_1_SG.sav'\n",
    "pickle.dump(forest_grid_1_SG, open(filename, 'wb'))"
   ]
  },
  {
   "cell_type": "code",
   "execution_count": 61,
   "id": "02a30223",
   "metadata": {},
   "outputs": [
    {
     "data": {
      "text/html": [
       "<div>\n",
       "<style scoped>\n",
       "    .dataframe tbody tr th:only-of-type {\n",
       "        vertical-align: middle;\n",
       "    }\n",
       "\n",
       "    .dataframe tbody tr th {\n",
       "        vertical-align: top;\n",
       "    }\n",
       "\n",
       "    .dataframe thead th {\n",
       "        text-align: right;\n",
       "    }\n",
       "</style>\n",
       "<table border=\"1\" class=\"dataframe\">\n",
       "  <thead>\n",
       "    <tr style=\"text-align: right;\">\n",
       "      <th></th>\n",
       "      <th>ID</th>\n",
       "      <th>Vote</th>\n",
       "      <th>prediction</th>\n",
       "    </tr>\n",
       "  </thead>\n",
       "  <tbody>\n",
       "    <tr>\n",
       "      <th>1221</th>\n",
       "      <td>7667_WSDA_SF_2016</td>\n",
       "      <td>1</td>\n",
       "      <td>1</td>\n",
       "    </tr>\n",
       "    <tr>\n",
       "      <th>1334</th>\n",
       "      <td>99748_WSDA_SF_2017</td>\n",
       "      <td>1</td>\n",
       "      <td>1</td>\n",
       "    </tr>\n",
       "  </tbody>\n",
       "</table>\n",
       "</div>"
      ],
      "text/plain": [
       "                      ID  Vote  prediction\n",
       "1221   7667_WSDA_SF_2016     1           1\n",
       "1334  99748_WSDA_SF_2017     1           1"
      ]
     },
     "execution_count": 61,
     "metadata": {},
     "output_type": "execute_result"
    }
   ],
   "source": [
    "forest_grid_1_SG_predictions = forest_grid_1_SG.predict(x_test_df.iloc[:, 1:])\n",
    "forest_grid_1_SG_y_test_df=y_test_df.copy()\n",
    "forest_grid_1_SG_y_test_df[\"prediction\"]=list(forest_grid_1_SG_predictions)\n",
    "forest_grid_1_SG_y_test_df.head(2)"
   ]
  },
  {
   "cell_type": "code",
   "execution_count": 63,
   "id": "d5671809",
   "metadata": {},
   "outputs": [
    {
     "data": {
      "text/html": [
       "<div>\n",
       "<style scoped>\n",
       "    .dataframe tbody tr th:only-of-type {\n",
       "        vertical-align: middle;\n",
       "    }\n",
       "\n",
       "    .dataframe tbody tr th {\n",
       "        vertical-align: top;\n",
       "    }\n",
       "\n",
       "    .dataframe thead th {\n",
       "        text-align: right;\n",
       "    }\n",
       "</style>\n",
       "<table border=\"1\" class=\"dataframe\">\n",
       "  <thead>\n",
       "    <tr style=\"text-align: right;\">\n",
       "      <th></th>\n",
       "      <th>None</th>\n",
       "      <th>Predict_Single</th>\n",
       "      <th>Predict_Double</th>\n",
       "    </tr>\n",
       "  </thead>\n",
       "  <tbody>\n",
       "    <tr>\n",
       "      <th>0</th>\n",
       "      <td>Actual_Single</td>\n",
       "      <td>212</td>\n",
       "      <td>7</td>\n",
       "    </tr>\n",
       "    <tr>\n",
       "      <th>1</th>\n",
       "      <td>Actual_Double</td>\n",
       "      <td>12</td>\n",
       "      <td>38</td>\n",
       "    </tr>\n",
       "  </tbody>\n",
       "</table>\n",
       "</div>"
      ],
      "text/plain": [
       "            None  Predict_Single  Predict_Double\n",
       "0  Actual_Single             212               7\n",
       "1  Actual_Double              12              38"
      ]
     },
     "execution_count": 63,
     "metadata": {},
     "output_type": "execute_result"
    }
   ],
   "source": [
    "true_single_predicted_single=0\n",
    "true_single_predicted_double=0\n",
    "\n",
    "true_double_predicted_single=0\n",
    "true_double_predicted_double=0\n",
    "\n",
    "for index_ in forest_grid_1_SG_y_test_df.index:\n",
    "    curr_vote=list(forest_grid_1_SG_y_test_df[forest_grid_1_SG_y_test_df.index==index_].Vote)[0]\n",
    "    curr_predict=list(forest_grid_1_SG_y_test_df[forest_grid_1_SG_y_test_df.index==index_].prediction)[0]\n",
    "    if curr_vote==curr_predict:\n",
    "        if curr_vote==1: \n",
    "            true_single_predicted_single+=1\n",
    "        else:\n",
    "            true_double_predicted_double+=1\n",
    "    else:\n",
    "        if curr_vote==1:\n",
    "            true_single_predicted_double+=1\n",
    "        else:\n",
    "            true_double_predicted_single+=1\n",
    "            \n",
    "forest_default_SG_confus_tbl_test = pd.DataFrame(columns=['None', 'Predict_Single', 'Predict_Double'], \n",
    "                               index=range(2))\n",
    "forest_default_SG_confus_tbl_test.loc[0, 'None'] = 'Actual_Single'\n",
    "forest_default_SG_confus_tbl_test.loc[1, 'None'] = 'Actual_Double'\n",
    "forest_default_SG_confus_tbl_test['Predict_Single']=0\n",
    "forest_default_SG_confus_tbl_test['Predict_Double']=0\n",
    "\n",
    "forest_default_SG_confus_tbl_test.loc[0, \"Predict_Single\"]=true_single_predicted_single\n",
    "forest_default_SG_confus_tbl_test.loc[0, \"Predict_Double\"]=true_single_predicted_double\n",
    "forest_default_SG_confus_tbl_test.loc[1, \"Predict_Single\"]=true_double_predicted_single\n",
    "forest_default_SG_confus_tbl_test.loc[1, \"Predict_Double\"]=true_double_predicted_double\n",
    "forest_default_SG_confus_tbl_test"
   ]
  },
  {
   "cell_type": "code",
   "execution_count": 72,
   "id": "ec251dc9",
   "metadata": {},
   "outputs": [
    {
     "name": "stdout",
     "output_type": "stream",
     "text": [
      "1090.27640030951\n",
      "295.9205731086862\n",
      "794.3558272008239\n"
     ]
    }
   ],
   "source": [
    "FG1_yTest_df_act_1_pred_2=forest_grid_1_SG_y_test_df[forest_grid_1_SG_y_test_df.Vote==1].copy()\n",
    "FG1_yTest_df_act_2_pred_1=forest_grid_1_SG_y_test_df[forest_grid_1_SG_y_test_df.Vote==2].copy()\n",
    "\n",
    "FG1_yTest_df_act_1_pred_2=FG1_yTest_df_act_1_pred_2[FG1_yTest_df_act_1_pred_2.prediction==2].copy()\n",
    "FG1_yTest_df_act_2_pred_1=FG1_yTest_df_act_2_pred_1[FG1_yTest_df_act_2_pred_1.prediction==1].copy()\n",
    "\n",
    "FG1_yTest_df_act_2_pred_1 = pd.merge(FG1_yTest_df_act_2_pred_1, ground_truth_labels_extended, on=['ID'], how='left')\n",
    "FG1_yTest_df_act_1_pred_2 = pd.merge(FG1_yTest_df_act_1_pred_2, ground_truth_labels_extended, on=['ID'], how='left')\n",
    "\n",
    "print (FG1_yTest_df_act_2_pred_1.ExctAcr.sum())\n",
    "print (FG1_yTest_df_act_1_pred_2.ExctAcr.sum())\n",
    "print (np.abs(FG1_yTest_df_act_1_pred_2.ExctAcr.sum() - FG1_yTest_df_act_2_pred_1.ExctAcr.sum()))"
   ]
  },
  {
   "cell_type": "code",
   "execution_count": null,
   "id": "b3bfee62",
   "metadata": {},
   "outputs": [],
   "source": []
  },
  {
   "cell_type": "code",
   "execution_count": null,
   "id": "f38bc0b7",
   "metadata": {},
   "outputs": [],
   "source": []
  }
 ],
 "metadata": {
  "kernelspec": {
   "display_name": "Python 3 (ipykernel)",
   "language": "python",
   "name": "python3"
  },
  "language_info": {
   "codemirror_mode": {
    "name": "ipython",
    "version": 3
   },
   "file_extension": ".py",
   "mimetype": "text/x-python",
   "name": "python",
   "nbconvert_exporter": "python",
   "pygments_lexer": "ipython3",
   "version": "3.9.12"
  }
 },
 "nbformat": 4,
 "nbformat_minor": 5
}
