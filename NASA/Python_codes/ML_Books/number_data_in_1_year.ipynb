{
 "cells": [
  {
   "cell_type": "code",
   "execution_count": 4,
   "id": "15b6aec7",
   "metadata": {},
   "outputs": [],
   "source": [
    "import numpy as np\n",
    "import pandas as pd\n",
    "from random import seed\n",
    "from random import random\n",
    "\n",
    "\n",
    "from datetime import date\n",
    "import time\n",
    "import scipy, scipy.signal\n",
    "import os, os.path\n",
    "import shutil\n",
    "import matplotlib\n",
    "import matplotlib.pyplot as plt\n",
    "\n",
    "from pylab import imshow\n",
    "\n",
    "# vgg16 model used for transfer learning on the dogs and cats dataset\n",
    "from matplotlib import pyplot\n",
    "# from keras.utils import to_categorical\n",
    "from tensorflow.keras.utils import to_categorical\n",
    "from keras.models import Sequential\n",
    "from keras.applications.vgg16 import VGG16\n",
    "from keras.models import Model\n",
    "from keras.layers import Dense\n",
    "from keras.layers import Flatten\n",
    "# from keras.optimizers import SGD\n",
    "\n",
    "from keras.layers import Conv2D\n",
    "from keras.layers import MaxPooling2D\n",
    "\n",
    "# from keras.optimizers import gradient_descent_v2\n",
    "# SGD = gradient_descent_v2.SGD(...)\n",
    "\n",
    "from tensorflow.keras.optimizers import SGD\n",
    "from keras.preprocessing.image import ImageDataGenerator\n",
    "\n",
    "import sys\n",
    "sys.path.append('/Users/hn/Documents/00_GitHub/Ag/NASA/Python_codes/')\n",
    "import NASA_core as nc\n",
    "# import NASA_plot_core.py as rcp"
   ]
  },
  {
   "cell_type": "code",
   "execution_count": 5,
   "id": "5321ec43",
   "metadata": {},
   "outputs": [],
   "source": [
    "idx=\"EVI\"\n",
    "data_dir = \"/Users/hn/Documents/01_research_data/NASA/VI_TS/05_SG_TS/\""
   ]
  },
  {
   "cell_type": "code",
   "execution_count": 135,
   "id": "53169262",
   "metadata": {},
   "outputs": [
    {
     "name": "stdout",
     "output_type": "stream",
     "text": [
      "[2014, 2015, 2016]\n"
     ]
    },
    {
     "data": {
      "text/html": [
       "<div>\n",
       "<style scoped>\n",
       "    .dataframe tbody tr th:only-of-type {\n",
       "        vertical-align: middle;\n",
       "    }\n",
       "\n",
       "    .dataframe tbody tr th {\n",
       "        vertical-align: top;\n",
       "    }\n",
       "\n",
       "    .dataframe thead th {\n",
       "        text-align: right;\n",
       "    }\n",
       "</style>\n",
       "<table border=\"1\" class=\"dataframe\">\n",
       "  <thead>\n",
       "    <tr style=\"text-align: right;\">\n",
       "      <th></th>\n",
       "      <th>ID</th>\n",
       "      <th>human_system_start_time</th>\n",
       "      <th>EVI</th>\n",
       "    </tr>\n",
       "  </thead>\n",
       "  <tbody>\n",
       "    <tr>\n",
       "      <th>0</th>\n",
       "      <td>135073_WSDA_SF_2015</td>\n",
       "      <td>2014-01-05</td>\n",
       "      <td>0.173941</td>\n",
       "    </tr>\n",
       "    <tr>\n",
       "      <th>1</th>\n",
       "      <td>135073_WSDA_SF_2015</td>\n",
       "      <td>2014-01-15</td>\n",
       "      <td>0.086129</td>\n",
       "    </tr>\n",
       "  </tbody>\n",
       "</table>\n",
       "</div>"
      ],
      "text/plain": [
       "                    ID human_system_start_time       EVI\n",
       "0  135073_WSDA_SF_2015              2014-01-05  0.173941\n",
       "1  135073_WSDA_SF_2015              2014-01-15  0.086129"
      ]
     },
     "execution_count": 135,
     "metadata": {},
     "output_type": "execute_result"
    }
   ],
   "source": [
    "file_names = [\"SG_Walla2015_EVI_JFD.csv\"]\n",
    "\n",
    "data=pd.DataFrame()\n",
    "\n",
    "for file in file_names:\n",
    "    curr_file=pd.read_csv(data_dir + file)\n",
    "    curr_file['human_system_start_time'] = pd.to_datetime(curr_file['human_system_start_time'])\n",
    "    \n",
    "    # These data are for 3 years. The middle one is the correct one\n",
    "    all_years = sorted(curr_file.human_system_start_time.dt.year.unique())\n",
    "    print (all_years)\n",
    "    if len(all_years)==3 or len(all_years)==2:\n",
    "        proper_year = all_years[1]\n",
    "    elif len(all_years)==1:\n",
    "        proper_year = all_years[0]\n",
    "        \n",
    "    # curr_file = curr_file[curr_file.human_system_start_time.dt.year==proper_year]\n",
    "    data=pd.concat([data, curr_file])\n",
    "\n",
    "data.reset_index(drop=True, inplace=True)\n",
    "data.head(2)"
   ]
  },
  {
   "cell_type": "code",
   "execution_count": 136,
   "id": "eb272dda",
   "metadata": {},
   "outputs": [
    {
     "data": {
      "text/plain": [
       "pandas._libs.tslibs.timestamps.Timestamp"
      ]
     },
     "execution_count": 136,
     "metadata": {},
     "output_type": "execute_result"
    }
   ],
   "source": [
    "type(data.human_system_start_time[0])"
   ]
  },
  {
   "cell_type": "code",
   "execution_count": 137,
   "id": "1e7b5af8",
   "metadata": {},
   "outputs": [],
   "source": [
    "short_field = data[data.ID==\"135073_WSDA_SF_2015\"].copy()# 36 data \n",
    "long_field = data[data.ID==\"139657_WSDA_SF_2015\"].copy() # 37 data "
   ]
  },
  {
   "cell_type": "code",
   "execution_count": 138,
   "id": "4cfd05ec",
   "metadata": {},
   "outputs": [
    {
     "data": {
      "image/png": "[encoded data removed]",
      "text/plain": [
       "<Figure size 720x432 with 1 Axes>"
      ]
     },
     "metadata": {
      "needs_background": "light"
     },
     "output_type": "display_data"
    }
   ],
   "source": [
    "idx = \"EVI\"\n",
    "fig, axs = plt.subplots(1, 1, figsize=(10, 6),\n",
    "                        gridspec_kw={'hspace': 0.2, 'wspace': .1});\n",
    "\n",
    "(ax1) = axs; ax1.grid(True);\n",
    "\n",
    "ax1.scatter(short_field['human_system_start_time'], short_field[idx], \n",
    "            marker='o', s=5, c='r', label=idx);\n",
    "\n",
    "ax1.scatter(long_field['human_system_start_time'], long_field[idx], \n",
    "            marker='o', s=5, c='b', label=idx);\n",
    "\n",
    "\n",
    "plt.subplots_adjust(top=0.85)\n",
    "plt.show()"
   ]
  },
  {
   "cell_type": "code",
   "execution_count": 139,
   "id": "34720a1a",
   "metadata": {},
   "outputs": [
    {
     "data": {
      "text/html": [
       "<div>\n",
       "<style scoped>\n",
       "    .dataframe tbody tr th:only-of-type {\n",
       "        vertical-align: middle;\n",
       "    }\n",
       "\n",
       "    .dataframe tbody tr th {\n",
       "        vertical-align: top;\n",
       "    }\n",
       "\n",
       "    .dataframe thead th {\n",
       "        text-align: right;\n",
       "    }\n",
       "</style>\n",
       "<table border=\"1\" class=\"dataframe\">\n",
       "  <thead>\n",
       "    <tr style=\"text-align: right;\">\n",
       "      <th></th>\n",
       "      <th>ID</th>\n",
       "      <th>human_system_start_time</th>\n",
       "      <th>EVI</th>\n",
       "    </tr>\n",
       "  </thead>\n",
       "  <tbody>\n",
       "    <tr>\n",
       "      <th>0</th>\n",
       "      <td>135073_WSDA_SF_2015</td>\n",
       "      <td>2014-01-05</td>\n",
       "      <td>0.173941</td>\n",
       "    </tr>\n",
       "    <tr>\n",
       "      <th>1</th>\n",
       "      <td>135073_WSDA_SF_2015</td>\n",
       "      <td>2014-01-15</td>\n",
       "      <td>0.086129</td>\n",
       "    </tr>\n",
       "  </tbody>\n",
       "</table>\n",
       "</div>"
      ],
      "text/plain": [
       "                    ID human_system_start_time       EVI\n",
       "0  135073_WSDA_SF_2015              2014-01-05  0.173941\n",
       "1  135073_WSDA_SF_2015              2014-01-15  0.086129"
      ]
     },
     "execution_count": 139,
     "metadata": {},
     "output_type": "execute_result"
    }
   ],
   "source": [
    "short_field.head(2)"
   ]
  },
  {
   "cell_type": "code",
   "execution_count": 140,
   "id": "4f135ad0",
   "metadata": {},
   "outputs": [
    {
     "data": {
      "text/html": [
       "<div>\n",
       "<style scoped>\n",
       "    .dataframe tbody tr th:only-of-type {\n",
       "        vertical-align: middle;\n",
       "    }\n",
       "\n",
       "    .dataframe tbody tr th {\n",
       "        vertical-align: top;\n",
       "    }\n",
       "\n",
       "    .dataframe thead th {\n",
       "        text-align: right;\n",
       "    }\n",
       "</style>\n",
       "<table border=\"1\" class=\"dataframe\">\n",
       "  <thead>\n",
       "    <tr style=\"text-align: right;\">\n",
       "      <th></th>\n",
       "      <th>ID</th>\n",
       "      <th>human_system_start_time</th>\n",
       "      <th>EVI</th>\n",
       "    </tr>\n",
       "  </thead>\n",
       "  <tbody>\n",
       "    <tr>\n",
       "      <th>1650</th>\n",
       "      <td>139657_WSDA_SF_2015</td>\n",
       "      <td>2014-01-01</td>\n",
       "      <td>0.038058</td>\n",
       "    </tr>\n",
       "    <tr>\n",
       "      <th>1651</th>\n",
       "      <td>139657_WSDA_SF_2015</td>\n",
       "      <td>2014-01-11</td>\n",
       "      <td>0.032204</td>\n",
       "    </tr>\n",
       "  </tbody>\n",
       "</table>\n",
       "</div>"
      ],
      "text/plain": [
       "                       ID human_system_start_time       EVI\n",
       "1650  139657_WSDA_SF_2015              2014-01-01  0.038058\n",
       "1651  139657_WSDA_SF_2015              2014-01-11  0.032204"
      ]
     },
     "execution_count": 140,
     "metadata": {},
     "output_type": "execute_result"
    }
   ],
   "source": [
    "long_field.head(2)"
   ]
  },
  {
   "cell_type": "code",
   "execution_count": 141,
   "id": "a4ca8ca6",
   "metadata": {},
   "outputs": [],
   "source": [
    "# Check Number of Data Points in a Year"
   ]
  },
  {
   "cell_type": "code",
   "execution_count": 142,
   "id": "1f043cdd",
   "metadata": {},
   "outputs": [],
   "source": [
    "# for an_ID in data.ID.unique():\n",
    "#     crr_fld=data[data.ID==an_ID]\n",
    "#     SFYr = crr_fld.human_system_start_time.dt.year.unique()[0]\n",
    "#     print (\"ID: \", an_ID,  \" SFYr: \", SFYr, \" shape[0]: \", crr_fld.shape[0])"
   ]
  },
  {
   "cell_type": "code",
   "execution_count": 143,
   "id": "a4c4790f",
   "metadata": {},
   "outputs": [
    {
     "data": {
      "text/plain": [
       "DatetimeIndex(['2014-01-01', '2014-01-11', '2014-01-21', '2014-01-31',\n",
       "               '2014-02-10', '2014-02-20', '2014-03-02', '2014-03-12',\n",
       "               '2014-03-22', '2014-04-01',\n",
       "               ...\n",
       "               '2016-09-17', '2016-09-27', '2016-10-07', '2016-10-17',\n",
       "               '2016-10-27', '2016-11-06', '2016-11-16', '2016-11-26',\n",
       "               '2016-12-06', '2016-12-16'],\n",
       "              dtype='datetime64[ns]', length=109, freq='10D')"
      ]
     },
     "execution_count": 143,
     "metadata": {},
     "output_type": "execute_result"
    }
   ],
   "source": [
    "interval_size = 10\n",
    "pd.date_range(min(long_field.human_system_start_time), \n",
    "              max(long_field.human_system_start_time), \n",
    "              freq=str(interval_size)+'D')"
   ]
  },
  {
   "cell_type": "code",
   "execution_count": 148,
   "id": "50c80e5d",
   "metadata": {},
   "outputs": [],
   "source": [
    "# pd.Period(\"2012-05\", freq=\"D\")\n",
    "# min(long_field.human_system_start_time)\n",
    "\n",
    "# pd.date_range(pd.Timestamp(str(a_year) + \"-01-01\"), \n",
    "#                                     pd.Timestamp(str(a_year) + \"-12-30\"), \n",
    "#                                     freq=str(interval_size)+'D')"
   ]
  },
  {
   "cell_type": "code",
   "execution_count": 160,
   "id": "08f52b92",
   "metadata": {},
   "outputs": [
    {
     "data": {
      "text/plain": [
       "(110, 3)"
      ]
     },
     "execution_count": 160,
     "metadata": {},
     "output_type": "execute_result"
    }
   ],
   "source": [
    "a_df"
   ]
  },
  {
   "cell_type": "code",
   "execution_count": 182,
   "id": "297f77b9",
   "metadata": {},
   "outputs": [],
   "source": [
    "a_df = long_field.copy()\n",
    "V_idks = \"EVI\""
   ]
  },
  {
   "cell_type": "code",
   "execution_count": 183,
   "id": "90c6a9be",
   "metadata": {},
   "outputs": [],
   "source": [
    "no_steps = len(all_years) * 36 # 36 data per year.\n",
    "# no_steps = a_df_coverage_days // interval_size\n",
    "\n",
    "# initialize output dataframe\n",
    "if \"dataset\" in a_df.columns:\n",
    "    regular_cols = ['ID', 'dataset', 'human_system_start_time', V_idks]\n",
    "else:\n",
    "    regular_cols = ['ID', 'human_system_start_time', V_idks]\n",
    "\n",
    "regular_df = pd.DataFrame(data = None, \n",
    "                          index = np.arange(no_steps), \n",
    "                          columns = regular_cols)\n",
    "\n",
    "\n",
    "regular_df['ID'] = a_df.ID.unique()[0]\n",
    "if \"dataset\" in a_df.columns:\n",
    "    regular_df['dataset'] = a_df.dataset.unique()[0]"
   ]
  },
  {
   "cell_type": "code",
   "execution_count": 184,
   "id": "23a089ae",
   "metadata": {},
   "outputs": [
    {
     "name": "stdout",
     "output_type": "stream",
     "text": [
      "36\n",
      "36\n",
      "36\n"
     ]
    }
   ],
   "source": [
    "regular_time_stamps = []\n",
    "for a_year in all_years:\n",
    "    curr_list = list(pd.date_range(pd.Timestamp(str(a_year) + \"-01-01\"), \n",
    "                                                pd.Timestamp(str(a_year) + \"-12-25\"), \n",
    "                                                freq=str(10)+'D'))\n",
    "    regular_time_stamps = regular_time_stamps + curr_list\n",
    "    print (len(curr_list))"
   ]
  },
  {
   "cell_type": "code",
   "execution_count": 185,
   "id": "153606ec",
   "metadata": {},
   "outputs": [],
   "source": [
    "no_steps_per_year = 365//interval_size\n",
    "no_steps = len(all_years) * no_steps_per_year"
   ]
  },
  {
   "cell_type": "code",
   "execution_count": 186,
   "id": "cc63b40f",
   "metadata": {},
   "outputs": [],
   "source": [
    "# initialize output dataframe\n",
    "if \"dataset\" in a_df.columns:\n",
    "    regular_cols = ['ID', 'dataset', 'human_system_start_time', V_idks]\n",
    "else:\n",
    "    regular_cols = ['ID', 'human_system_start_time', V_idks]\n",
    "\n",
    "regular_df = pd.DataFrame(data = None, \n",
    "                          index = np.arange(no_steps), \n",
    "                          columns = regular_cols)"
   ]
  },
  {
   "cell_type": "code",
   "execution_count": null,
   "id": "ace76b50",
   "metadata": {},
   "outputs": [],
   "source": []
  },
  {
   "cell_type": "code",
   "execution_count": 187,
   "id": "80939e9e",
   "metadata": {},
   "outputs": [],
   "source": [
    "regular_df['ID'] = a_df.ID.unique()[0]\n",
    "if \"dataset\" in a_df.columns:\n",
    "    regular_df['dataset'] = a_df.dataset.unique()[0]"
   ]
  },
  {
   "cell_type": "code",
   "execution_count": 188,
   "id": "a40fb6e4",
   "metadata": {},
   "outputs": [],
   "source": [
    "if len(regular_time_stamps) == no_steps+1:\n",
    "    regular_df.human_system_start_time = regular_time_stamps[:-1]\n",
    "elif len(regular_time_stamps) == no_steps:\n",
    "    regular_df.human_system_start_time = regular_time_stamps\n",
    "else:\n",
    "    raise ValueError(f\"There is a mismatch between no. days needed and '{interval_size}-day' interval array!\")"
   ]
  },
  {
   "cell_type": "code",
   "execution_count": 189,
   "id": "67d12bbf",
   "metadata": {},
   "outputs": [
    {
     "data": {
      "text/html": [
       "<div>\n",
       "<style scoped>\n",
       "    .dataframe tbody tr th:only-of-type {\n",
       "        vertical-align: middle;\n",
       "    }\n",
       "\n",
       "    .dataframe tbody tr th {\n",
       "        vertical-align: top;\n",
       "    }\n",
       "\n",
       "    .dataframe thead th {\n",
       "        text-align: right;\n",
       "    }\n",
       "</style>\n",
       "<table border=\"1\" class=\"dataframe\">\n",
       "  <thead>\n",
       "    <tr style=\"text-align: right;\">\n",
       "      <th></th>\n",
       "      <th>ID</th>\n",
       "      <th>human_system_start_time</th>\n",
       "      <th>EVI</th>\n",
       "    </tr>\n",
       "  </thead>\n",
       "  <tbody>\n",
       "    <tr>\n",
       "      <th>0</th>\n",
       "      <td>139657_WSDA_SF_2015</td>\n",
       "      <td>2014-01-01</td>\n",
       "      <td>NaN</td>\n",
       "    </tr>\n",
       "    <tr>\n",
       "      <th>1</th>\n",
       "      <td>139657_WSDA_SF_2015</td>\n",
       "      <td>2014-01-11</td>\n",
       "      <td>NaN</td>\n",
       "    </tr>\n",
       "  </tbody>\n",
       "</table>\n",
       "</div>"
      ],
      "text/plain": [
       "                    ID human_system_start_time  EVI\n",
       "0  139657_WSDA_SF_2015              2014-01-01  NaN\n",
       "1  139657_WSDA_SF_2015              2014-01-11  NaN"
      ]
     },
     "execution_count": 189,
     "metadata": {},
     "output_type": "execute_result"
    }
   ],
   "source": [
    "regular_df.head(2)"
   ]
  },
  {
   "cell_type": "code",
   "execution_count": 190,
   "id": "e7cbc9de",
   "metadata": {},
   "outputs": [],
   "source": [
    "for start_date in regular_df.human_system_start_time:\n",
    "    \"\"\"\n",
    "      The following will crate an array (of length 2)\n",
    "      it goes from a day to 10 days later; end points of the interval_size-day interval.\n",
    "\n",
    "            # Here we add 1 day to the right end point (end_date)\n",
    "      because the way pandas/python slices the dataframe; \n",
    "      does not include the last row of sub-dataframe\n",
    "    \"\"\"\n",
    "    dateRange = pd.date_range(start_date, \n",
    "                              start_date + pd.Timedelta(days=interval_size-1), \n",
    "                              freq = str(1)+'D')\n",
    "    assert (len(dateRange) == interval_size)\n",
    "\n",
    "    curr_time_window = a_df[a_df.human_system_start_time.isin(dateRange)]\n",
    "    if len(curr_time_window)==0:\n",
    "        regular_df.loc[regular_df.human_system_start_time == start_date, V_idks] = -1.5\n",
    "    else:\n",
    "        regular_df.loc[regular_df.human_system_start_time == start_date, V_idks] = max(curr_time_window[V_idks])"
   ]
  },
  {
   "cell_type": "code",
   "execution_count": 191,
   "id": "735cc853",
   "metadata": {},
   "outputs": [
    {
     "data": {
      "text/html": [
       "<div>\n",
       "<style scoped>\n",
       "    .dataframe tbody tr th:only-of-type {\n",
       "        vertical-align: middle;\n",
       "    }\n",
       "\n",
       "    .dataframe tbody tr th {\n",
       "        vertical-align: top;\n",
       "    }\n",
       "\n",
       "    .dataframe thead th {\n",
       "        text-align: right;\n",
       "    }\n",
       "</style>\n",
       "<table border=\"1\" class=\"dataframe\">\n",
       "  <thead>\n",
       "    <tr style=\"text-align: right;\">\n",
       "      <th></th>\n",
       "      <th>ID</th>\n",
       "      <th>human_system_start_time</th>\n",
       "      <th>EVI</th>\n",
       "    </tr>\n",
       "  </thead>\n",
       "  <tbody>\n",
       "    <tr>\n",
       "      <th>0</th>\n",
       "      <td>139657_WSDA_SF_2015</td>\n",
       "      <td>2014-01-01</td>\n",
       "      <td>0.038058</td>\n",
       "    </tr>\n",
       "    <tr>\n",
       "      <th>1</th>\n",
       "      <td>139657_WSDA_SF_2015</td>\n",
       "      <td>2014-01-11</td>\n",
       "      <td>0.032204</td>\n",
       "    </tr>\n",
       "    <tr>\n",
       "      <th>2</th>\n",
       "      <td>139657_WSDA_SF_2015</td>\n",
       "      <td>2014-01-21</td>\n",
       "      <td>0.034155</td>\n",
       "    </tr>\n",
       "    <tr>\n",
       "      <th>3</th>\n",
       "      <td>139657_WSDA_SF_2015</td>\n",
       "      <td>2014-01-31</td>\n",
       "      <td>0.043912</td>\n",
       "    </tr>\n",
       "    <tr>\n",
       "      <th>4</th>\n",
       "      <td>139657_WSDA_SF_2015</td>\n",
       "      <td>2014-02-10</td>\n",
       "      <td>0.064129</td>\n",
       "    </tr>\n",
       "    <tr>\n",
       "      <th>...</th>\n",
       "      <td>...</td>\n",
       "      <td>...</td>\n",
       "      <td>...</td>\n",
       "    </tr>\n",
       "    <tr>\n",
       "      <th>103</th>\n",
       "      <td>139657_WSDA_SF_2015</td>\n",
       "      <td>2016-11-06</td>\n",
       "      <td>0.133308</td>\n",
       "    </tr>\n",
       "    <tr>\n",
       "      <th>104</th>\n",
       "      <td>139657_WSDA_SF_2015</td>\n",
       "      <td>2016-11-16</td>\n",
       "      <td>0.08226</td>\n",
       "    </tr>\n",
       "    <tr>\n",
       "      <th>105</th>\n",
       "      <td>139657_WSDA_SF_2015</td>\n",
       "      <td>2016-11-26</td>\n",
       "      <td>0.039073</td>\n",
       "    </tr>\n",
       "    <tr>\n",
       "      <th>106</th>\n",
       "      <td>139657_WSDA_SF_2015</td>\n",
       "      <td>2016-12-06</td>\n",
       "      <td>0.008226</td>\n",
       "    </tr>\n",
       "    <tr>\n",
       "      <th>107</th>\n",
       "      <td>139657_WSDA_SF_2015</td>\n",
       "      <td>2016-12-16</td>\n",
       "      <td>-0.003085</td>\n",
       "    </tr>\n",
       "  </tbody>\n",
       "</table>\n",
       "<p>108 rows × 3 columns</p>\n",
       "</div>"
      ],
      "text/plain": [
       "                      ID human_system_start_time       EVI\n",
       "0    139657_WSDA_SF_2015              2014-01-01  0.038058\n",
       "1    139657_WSDA_SF_2015              2014-01-11  0.032204\n",
       "2    139657_WSDA_SF_2015              2014-01-21  0.034155\n",
       "3    139657_WSDA_SF_2015              2014-01-31  0.043912\n",
       "4    139657_WSDA_SF_2015              2014-02-10  0.064129\n",
       "..                   ...                     ...       ...\n",
       "103  139657_WSDA_SF_2015              2016-11-06  0.133308\n",
       "104  139657_WSDA_SF_2015              2016-11-16   0.08226\n",
       "105  139657_WSDA_SF_2015              2016-11-26  0.039073\n",
       "106  139657_WSDA_SF_2015              2016-12-06  0.008226\n",
       "107  139657_WSDA_SF_2015              2016-12-16 -0.003085\n",
       "\n",
       "[108 rows x 3 columns]"
      ]
     },
     "execution_count": 191,
     "metadata": {},
     "output_type": "execute_result"
    }
   ],
   "source": [
    "regular_df"
   ]
  },
  {
   "cell_type": "code",
   "execution_count": 193,
   "id": "b0354319",
   "metadata": {},
   "outputs": [
    {
     "data": {
      "image/png": "[encoded data removed]",
      "text/plain": [
       "<Figure size 720x432 with 1 Axes>"
      ]
     },
     "metadata": {
      "needs_background": "light"
     },
     "output_type": "display_data"
    }
   ],
   "source": [
    "idx = \"EVI\"\n",
    "fig, axs = plt.subplots(1, 1, figsize=(10, 6),\n",
    "                        gridspec_kw={'hspace': 0.2, 'wspace': .1});\n",
    "\n",
    "(ax1) = axs; ax1.grid(True);\n",
    "\n",
    "ax1.scatter(a_df['human_system_start_time'], a_df[idx], \n",
    "            marker='o', s=5, c='r', label=idx);\n",
    "\n",
    "ax1.scatter(regular_df['human_system_start_time'], regular_df[idx], \n",
    "            marker='o', s=5, c='b', label=idx);\n",
    "\n",
    "\n",
    "plt.subplots_adjust(top=0.85)\n",
    "plt.show()"
   ]
  },
  {
   "cell_type": "code",
   "execution_count": 194,
   "id": "8dfb865e",
   "metadata": {},
   "outputs": [
    {
     "data": {
      "text/plain": [
       "array([0.038058134487518, 0.032203939007667, 0.0341553375009507,\n",
       "       0.0439123299673691, 0.0641290068257757, 0.0873818865082871,\n",
       "       0.1075092019389673, 0.1290470107011193, 0.1369337831372984,\n",
       "       0.2190829841016562, 0.3726631068248308, 0.5167041984834078,\n",
       "       0.5988743634633394, 0.5902622734870324, 0.4462222908917541,\n",
       "       0.3036420663635528, 0.203482851477502, 0.1402253965891996,\n",
       "       0.1201718699873277, 0.1285360450397829, 0.1301299401050714,\n",
       "       0.1216581623178149, 0.1144722868286251, 0.1131243284962655,\n",
       "       0.1170742364051363, 0.123309144332316, 0.1317346707293848,\n",
       "       0.1264182798619309, 0.1232383829792018, 0.1170485962493411,\n",
       "       0.1011724467851688, 0.0844320044084155, 0.0729886911172525,\n",
       "       0.0752733740514055, 0.0899858113419764, 0.1042133673966879,\n",
       "       0.1080671708921015, 0.1081944782812967, 0.1089376118471389,\n",
       "       0.1130019452197912, 0.1145516375322087, 0.1129370373362044,\n",
       "       0.1139792525314926, 0.1083523705455076, 0.1528386788565236,\n",
       "       0.2346418061733953, 0.3165017363140649, 0.3765968745109328,\n",
       "       0.4394953507617853, 0.4933551150296495, 0.4843074899671,\n",
       "       0.4139601288626482, 0.2975582649185321, 0.1699601635404651,\n",
       "       0.1117137089384225, 0.1296123034570129, 0.1289173632892134,\n",
       "       0.1262768298444516, 0.1263772072990692, 0.1258621666357708,\n",
       "       0.1262780852946509, 0.1257425673586023, 0.1317159610313781,\n",
       "       0.129977229006421, 0.0984585281872517, 0.0718260104680788,\n",
       "       0.0748735415315131, 0.0956521118346538, 0.1253586141905144,\n",
       "       0.1298051615149933, 0.0958594349700138, 0.0695584476010217,\n",
       "       0.0782924397217544, 0.0945516018694651, 0.102694188084869,\n",
       "       0.1148884697971888, 0.1364072384560789, 0.1430010428549997,\n",
       "       0.1438011702953638, 0.1478632599883083, 0.1528214035964729,\n",
       "       0.1767390872147776, 0.2179236313047627, 0.2815808044640937,\n",
       "       0.351509755121141, 0.4074681915917322, 0.4351276602860198,\n",
       "       0.4175035393017317, 0.3787932095250865, 0.366740498675188,\n",
       "       0.3468363149420616, 0.3205053346341953, 0.299943004037836,\n",
       "       0.2479522452917108, 0.2218224944808743, 0.2222280875674435,\n",
       "       0.2227433932116947, 0.2268777355412739, 0.2331865369783092,\n",
       "       0.2252412857511267, 0.2220734396474232, 0.2046850446004012,\n",
       "       0.1746200587192721, 0.1333081524530211, 0.0822597961849611,\n",
       "       0.0390734031878566, 0.0082259796184962, -0.0030847423569359],\n",
       "      dtype=object)"
      ]
     },
     "execution_count": 194,
     "metadata": {},
     "output_type": "execute_result"
    }
   ],
   "source": [
    "regular_df.EVI.unique()"
   ]
  },
  {
   "cell_type": "code",
   "execution_count": 195,
   "id": "a28bd2b4",
   "metadata": {},
   "outputs": [],
   "source": [
    "def regularize_a_field_annual_basis(a_df, V_idks=\"NDVI\", interval_size=10, start_year=2008, end_year=2021):\n",
    "    \"\"\"Returns a dataframe where data points are interval_size-day apart.\n",
    "       This function regularizes the data between the minimum and maximum dates\n",
    "       present in the data. \n",
    "\n",
    "    Arguments\n",
    "    ---------\n",
    "    a_df : dataframe \n",
    "           of a given field for only one satellite\n",
    "\n",
    "    Returns\n",
    "    -------\n",
    "    regularized_df : dataframe\n",
    "    \"\"\"\n",
    "    if not(\"human_system_start_time\" in a_df.columns):\n",
    "        a_df = add_human_start_time_by_system_start_time(a_df)\n",
    "\n",
    "    a_df['human_system_start_time'] = pd.to_datetime(a_df['human_system_start_time'])\n",
    "    a_df.sort_values(by='human_system_start_time', inplace=True)\n",
    "    a_df.reset_index(drop=True, inplace=True)\n",
    "        \n",
    "\n",
    "    assert (len(a_df.ID.unique()) == 1)\n",
    "    # assert (len(a_df.dataset.unique()) == 1)\n",
    "    #\n",
    "    # see how many days there are between the first and last image\n",
    "    #\n",
    "    a_df_coverage_days = (max(a_df.human_system_start_time) - min(a_df.human_system_start_time)).days\n",
    "    assert (a_df_coverage_days >= interval_size)\n",
    "\n",
    "    # see how many data points we need.\n",
    "    all_years = sorted(a_df.human_system_start_time.dt.year.unique())\n",
    "    no_steps_per_year = 365//interval_size\n",
    "    no_steps = len(all_years) * no_steps_per_year\n",
    "\n",
    "    \"\"\"\n",
    "       I am reducing the flexibility of the code we had before!\n",
    "       I want to make it that all fields have the same exact dates\n",
    "       for their time steps. Jan. 1, Jan 10, ...\n",
    "    \"\"\"\n",
    "    regular_time_stamps = []\n",
    "    for a_year in all_years:\n",
    "        regular_time_stamps = regular_time_stamps + list(pd.date_range(pd.Timestamp(str(a_year) + \"-01-01\"), \n",
    "                                                                       pd.Timestamp(str(a_year) + \"-12-25\"), \n",
    "                                                                       freq=str(interval_size)+'D'))\n",
    "\n",
    "    # initialize output dataframe\n",
    "    if \"dataset\" in a_df.columns:\n",
    "        regular_cols = ['ID', 'dataset', 'human_system_start_time', V_idks]\n",
    "    else:\n",
    "        regular_cols = ['ID', 'human_system_start_time', V_idks]\n",
    "\n",
    "    regular_df = pd.DataFrame(data = None, \n",
    "                              index = np.arange(no_steps), \n",
    "                              columns = regular_cols)\n",
    "\n",
    "    regular_df['ID'] = a_df.ID.unique()[0]\n",
    "    if \"dataset\" in a_df.columns:\n",
    "        regular_df['dataset'] = a_df.dataset.unique()[0]\n",
    "\n",
    "    if len(regular_time_stamps) == no_steps+1:\n",
    "        regular_df.human_system_start_time = regular_time_stamps[:-1]\n",
    "    elif len(regular_time_stamps) == no_steps:\n",
    "        regular_df.human_system_start_time = regular_time_stamps\n",
    "    else:\n",
    "        raise ValueError(f\"There is a mismatch between no. days needed and '{interval_size}-day' interval array!\")\n",
    "\n",
    "\n",
    "    # Pick the maximum of every interval_size-days\n",
    "    # for row_or_count in np.arange(len(no_steps)-1):\n",
    "    #     curr_time_window = a_df[a_df.human_system_start_time >= first_year_steps[row_or_count]]\n",
    "    #     curr_time_window = curr_time_window[curr_time_window.doy < first_year_steps[row_or_count+1]]\n",
    "\n",
    "    #     if len(curr_time_window)==0: \n",
    "    #         regular_df.loc[row_or_count, V_idks] = -1.5\n",
    "    #     else:\n",
    "    #         regular_df.loc[row_or_count, V_idks] = max(curr_time_window[V_idks])\n",
    "\n",
    "    #     regular_df.loc[row_or_count, 'image_year'] = curr_year\n",
    "    #     regular_df.loc[row_or_count, 'doy'] = first_year_steps[row_or_count]\n",
    "\n",
    "    for start_date in regular_df.human_system_start_time:\n",
    "        \"\"\"\n",
    "          The following will crate an array (of length 2)\n",
    "          it goes from a day to 10 days later; end points of the interval_size-day interval.\n",
    "\n",
    "                # Here we add 1 day to the right end point (end_date)\n",
    "          because the way pandas/python slices the dataframe; \n",
    "          does not include the last row of sub-dataframe\n",
    "        \"\"\"\n",
    "        dateRange = pd.date_range(start_date, \n",
    "                                  start_date + pd.Timedelta(days=interval_size-1), \n",
    "                                  freq = str(1)+'D')\n",
    "        assert (len(dateRange) == interval_size)\n",
    "\n",
    "        curr_time_window = a_df[a_df.human_system_start_time.isin(dateRange)]\n",
    "        if len(curr_time_window)==0:\n",
    "            regular_df.loc[regular_df.human_system_start_time == start_date, V_idks] = -1.5\n",
    "        else:\n",
    "            regular_df.loc[regular_df.human_system_start_time == start_date, V_idks] = max(curr_time_window[V_idks])\n",
    "    ##### end the damn for-loop\n",
    "    regular_df.reset_index(drop=True, inplace=True)\n",
    "    return (regular_df)\n",
    "\n"
   ]
  },
  {
   "cell_type": "code",
   "execution_count": 196,
   "id": "dfd210d4",
   "metadata": {},
   "outputs": [],
   "source": [
    "func_output = regularize_a_field_annual_basis(a_df, V_idks=\"EVI\", \n",
    "                                              interval_size=10, \n",
    "                                              start_year=2014, \n",
    "                                              end_year=2016)"
   ]
  },
  {
   "cell_type": "code",
   "execution_count": 197,
   "id": "9085423d",
   "metadata": {},
   "outputs": [
    {
     "data": {
      "text/html": [
       "<div>\n",
       "<style scoped>\n",
       "    .dataframe tbody tr th:only-of-type {\n",
       "        vertical-align: middle;\n",
       "    }\n",
       "\n",
       "    .dataframe tbody tr th {\n",
       "        vertical-align: top;\n",
       "    }\n",
       "\n",
       "    .dataframe thead th {\n",
       "        text-align: right;\n",
       "    }\n",
       "</style>\n",
       "<table border=\"1\" class=\"dataframe\">\n",
       "  <thead>\n",
       "    <tr style=\"text-align: right;\">\n",
       "      <th></th>\n",
       "      <th>ID</th>\n",
       "      <th>human_system_start_time</th>\n",
       "      <th>EVI</th>\n",
       "    </tr>\n",
       "  </thead>\n",
       "  <tbody>\n",
       "    <tr>\n",
       "      <th>0</th>\n",
       "      <td>139657_WSDA_SF_2015</td>\n",
       "      <td>2014-01-01</td>\n",
       "      <td>0.038058</td>\n",
       "    </tr>\n",
       "    <tr>\n",
       "      <th>1</th>\n",
       "      <td>139657_WSDA_SF_2015</td>\n",
       "      <td>2014-01-11</td>\n",
       "      <td>0.032204</td>\n",
       "    </tr>\n",
       "  </tbody>\n",
       "</table>\n",
       "</div>"
      ],
      "text/plain": [
       "                    ID human_system_start_time       EVI\n",
       "0  139657_WSDA_SF_2015              2014-01-01  0.038058\n",
       "1  139657_WSDA_SF_2015              2014-01-11  0.032204"
      ]
     },
     "execution_count": 197,
     "metadata": {},
     "output_type": "execute_result"
    }
   ],
   "source": [
    "func_output.head(2)"
   ]
  },
  {
   "cell_type": "code",
   "execution_count": 198,
   "id": "69bcdc60",
   "metadata": {},
   "outputs": [
    {
     "data": {
      "text/html": [
       "<div>\n",
       "<style scoped>\n",
       "    .dataframe tbody tr th:only-of-type {\n",
       "        vertical-align: middle;\n",
       "    }\n",
       "\n",
       "    .dataframe tbody tr th {\n",
       "        vertical-align: top;\n",
       "    }\n",
       "\n",
       "    .dataframe thead th {\n",
       "        text-align: right;\n",
       "    }\n",
       "</style>\n",
       "<table border=\"1\" class=\"dataframe\">\n",
       "  <thead>\n",
       "    <tr style=\"text-align: right;\">\n",
       "      <th></th>\n",
       "      <th>ID</th>\n",
       "      <th>human_system_start_time</th>\n",
       "      <th>EVI</th>\n",
       "    </tr>\n",
       "  </thead>\n",
       "  <tbody>\n",
       "    <tr>\n",
       "      <th>0</th>\n",
       "      <td>139657_WSDA_SF_2015</td>\n",
       "      <td>2014-01-01</td>\n",
       "      <td>0.038058</td>\n",
       "    </tr>\n",
       "    <tr>\n",
       "      <th>1</th>\n",
       "      <td>139657_WSDA_SF_2015</td>\n",
       "      <td>2014-01-11</td>\n",
       "      <td>0.032204</td>\n",
       "    </tr>\n",
       "  </tbody>\n",
       "</table>\n",
       "</div>"
      ],
      "text/plain": [
       "                    ID human_system_start_time       EVI\n",
       "0  139657_WSDA_SF_2015              2014-01-01  0.038058\n",
       "1  139657_WSDA_SF_2015              2014-01-11  0.032204"
      ]
     },
     "execution_count": 198,
     "metadata": {},
     "output_type": "execute_result"
    }
   ],
   "source": [
    "regular_df.head(2)"
   ]
  },
  {
   "cell_type": "code",
   "execution_count": 199,
   "id": "a78e12c0",
   "metadata": {},
   "outputs": [
    {
     "data": {
      "text/plain": [
       "True"
      ]
     },
     "execution_count": 199,
     "metadata": {},
     "output_type": "execute_result"
    }
   ],
   "source": [
    "regular_df.equals(func_output)"
   ]
  },
  {
   "cell_type": "code",
   "execution_count": null,
   "id": "a4357669",
   "metadata": {},
   "outputs": [],
   "source": []
  }
 ],
 "metadata": {
  "kernelspec": {
   "display_name": "Python 3 (ipykernel)",
   "language": "python",
   "name": "python3"
  },
  "language_info": {
   "codemirror_mode": {
    "name": "ipython",
    "version": 3
   },
   "file_extension": ".py",
   "mimetype": "text/x-python",
   "name": "python",
   "nbconvert_exporter": "python",
   "pygments_lexer": "ipython3",
   "version": "3.9.7"
  }
 },
 "nbformat": 4,
 "nbformat_minor": 5
}
