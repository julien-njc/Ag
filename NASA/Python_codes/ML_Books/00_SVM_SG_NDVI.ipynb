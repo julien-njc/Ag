{
 "cells": [
  {
   "cell_type": "code",
   "execution_count": 1,
   "id": "d18b414a",
   "metadata": {},
   "outputs": [],
   "source": [
    "import numpy as np\n",
    "import pandas as pd\n",
    "import scipy, scipy.signal\n",
    "\n",
    "from datetime import date\n",
    "import time\n",
    "\n",
    "import random\n",
    "from random import seed\n",
    "from random import random\n",
    "\n",
    "import os, os.path\n",
    "import shutil\n",
    "\n",
    "from sklearn.model_selection import train_test_split\n",
    "from sklearn.linear_model import LogisticRegression\n",
    "\n",
    "from sklearn.neighbors import KNeighborsClassifier\n",
    "from sklearn.model_selection import GridSearchCV\n",
    "from sklearn.metrics import classification_report\n",
    "\n",
    "import matplotlib\n",
    "import matplotlib.pyplot as plt\n",
    "from pylab import imshow\n",
    "\n",
    "import h5py\n",
    "import sys\n"
   ]
  },
  {
   "cell_type": "code",
   "execution_count": 2,
   "id": "4d7ce1c9",
   "metadata": {},
   "outputs": [],
   "source": [
    "sys.path.append('/Users/hn/Documents/00_GitHub/Ag/NASA/Python_codes/')\n",
    "import NASA_core as nc\n",
    "# import NASA_plot_core as rcp"
   ]
  },
  {
   "cell_type": "code",
   "execution_count": 3,
   "id": "4fdf9757",
   "metadata": {},
   "outputs": [],
   "source": [
    "from tslearn.metrics import dtw as dtw_metric\n",
    "\n",
    "# https://dtaidistance.readthedocs.io/en/latest/usage/dtw.html\n",
    "from dtaidistance import dtw\n",
    "from dtaidistance import dtw_visualisation as dtwvis"
   ]
  },
  {
   "cell_type": "markdown",
   "id": "033e0a8a",
   "metadata": {},
   "source": [
    "# Read Fields Metadata"
   ]
  },
  {
   "cell_type": "code",
   "execution_count": 4,
   "id": "12553de3",
   "metadata": {},
   "outputs": [
    {
     "name": "stdout",
     "output_type": "stream",
     "text": [
      "(6340, 8)\n",
      "(3539, 8)\n"
     ]
    },
    {
     "data": {
      "text/html": [
       "<div>\n",
       "<style scoped>\n",
       "    .dataframe tbody tr th:only-of-type {\n",
       "        vertical-align: middle;\n",
       "    }\n",
       "\n",
       "    .dataframe tbody tr th {\n",
       "        vertical-align: top;\n",
       "    }\n",
       "\n",
       "    .dataframe thead th {\n",
       "        text-align: right;\n",
       "    }\n",
       "</style>\n",
       "<table border=\"1\" class=\"dataframe\">\n",
       "  <thead>\n",
       "    <tr style=\"text-align: right;\">\n",
       "      <th></th>\n",
       "      <th>ID</th>\n",
       "      <th>CropTyp</th>\n",
       "      <th>Irrigtn</th>\n",
       "      <th>DataSrc</th>\n",
       "      <th>Acres</th>\n",
       "      <th>ExctAcr</th>\n",
       "      <th>LstSrvD</th>\n",
       "      <th>county</th>\n",
       "    </tr>\n",
       "  </thead>\n",
       "  <tbody>\n",
       "    <tr>\n",
       "      <th>0</th>\n",
       "      <td>100010_WSDA_SF_2017</td>\n",
       "      <td>alfalfa hay</td>\n",
       "      <td>center pivot</td>\n",
       "      <td>wsda</td>\n",
       "      <td>34</td>\n",
       "      <td>34.310305</td>\n",
       "      <td>2017/09/12</td>\n",
       "      <td>Grant</td>\n",
       "    </tr>\n",
       "    <tr>\n",
       "      <th>1</th>\n",
       "      <td>100204_WSDA_SF_2017</td>\n",
       "      <td>alfalfa hay</td>\n",
       "      <td>center pivot</td>\n",
       "      <td>wsda</td>\n",
       "      <td>62</td>\n",
       "      <td>61.826535</td>\n",
       "      <td>2017/08/09</td>\n",
       "      <td>Grant</td>\n",
       "    </tr>\n",
       "  </tbody>\n",
       "</table>\n",
       "</div>"
      ],
      "text/plain": [
       "                    ID      CropTyp       Irrigtn DataSrc  Acres    ExctAcr  \\\n",
       "0  100010_WSDA_SF_2017  alfalfa hay  center pivot    wsda     34  34.310305   \n",
       "1  100204_WSDA_SF_2017  alfalfa hay  center pivot    wsda     62  61.826535   \n",
       "\n",
       "      LstSrvD county  \n",
       "0  2017/09/12  Grant  \n",
       "1  2017/08/09  Grant  "
      ]
     },
     "execution_count": 4,
     "metadata": {},
     "output_type": "execute_result"
    }
   ],
   "source": [
    "meta_dir = \"/Users/hn/Documents/01_research_data/NASA/parameters/\"\n",
    "meta = pd.read_csv(meta_dir+\"evaluation_set.csv\")\n",
    "meta_moreThan10Acr=meta[meta.ExctAcr>10]\n",
    "print (meta.shape)\n",
    "print (meta_moreThan10Acr.shape)\n",
    "meta.head(2)"
   ]
  },
  {
   "cell_type": "code",
   "execution_count": 5,
   "id": "462298d1",
   "metadata": {},
   "outputs": [
    {
     "data": {
      "text/plain": [
       "6340"
      ]
     },
     "execution_count": 5,
     "metadata": {},
     "output_type": "execute_result"
    }
   ],
   "source": [
    "len(meta.ID.unique())"
   ]
  },
  {
   "cell_type": "markdown",
   "id": "e2a5bb50",
   "metadata": {},
   "source": [
    "# Read Training Set Labels"
   ]
  },
  {
   "cell_type": "code",
   "execution_count": 6,
   "id": "d96d1a0c",
   "metadata": {},
   "outputs": [
    {
     "name": "stdout",
     "output_type": "stream",
     "text": [
      "Unique Votes:  [2 1]\n",
      "1849\n"
     ]
    },
    {
     "data": {
      "text/html": [
       "<div>\n",
       "<style scoped>\n",
       "    .dataframe tbody tr th:only-of-type {\n",
       "        vertical-align: middle;\n",
       "    }\n",
       "\n",
       "    .dataframe tbody tr th {\n",
       "        vertical-align: top;\n",
       "    }\n",
       "\n",
       "    .dataframe thead th {\n",
       "        text-align: right;\n",
       "    }\n",
       "</style>\n",
       "<table border=\"1\" class=\"dataframe\">\n",
       "  <thead>\n",
       "    <tr style=\"text-align: right;\">\n",
       "      <th></th>\n",
       "      <th>ID</th>\n",
       "      <th>Vote</th>\n",
       "    </tr>\n",
       "  </thead>\n",
       "  <tbody>\n",
       "    <tr>\n",
       "      <th>0</th>\n",
       "      <td>99837_WSDA_SF_2017</td>\n",
       "      <td>2</td>\n",
       "    </tr>\n",
       "    <tr>\n",
       "      <th>1</th>\n",
       "      <td>114615_WSDA_SF_2017</td>\n",
       "      <td>1</td>\n",
       "    </tr>\n",
       "  </tbody>\n",
       "</table>\n",
       "</div>"
      ],
      "text/plain": [
       "                    ID  Vote\n",
       "0   99837_WSDA_SF_2017     2\n",
       "1  114615_WSDA_SF_2017     1"
      ]
     },
     "execution_count": 6,
     "metadata": {},
     "output_type": "execute_result"
    }
   ],
   "source": [
    "training_set_dir = \"/Users/hn/Documents/01_research_data/NASA/ML_data/\"\n",
    "ground_truth_labels = pd.read_csv(training_set_dir+\"train_labels.csv\")\n",
    "print (\"Unique Votes: \", ground_truth_labels.Vote.unique())\n",
    "print (len(ground_truth_labels.ID.unique()))\n",
    "ground_truth_labels.head(2)"
   ]
  },
  {
   "cell_type": "markdown",
   "id": "83a81f3e",
   "metadata": {},
   "source": [
    "### Detect how many fields are less than 10 acres and report in the paper"
   ]
  },
  {
   "cell_type": "code",
   "execution_count": 7,
   "id": "71350800",
   "metadata": {},
   "outputs": [
    {
     "name": "stdout",
     "output_type": "stream",
     "text": [
      "1849\n"
     ]
    },
    {
     "data": {
      "text/html": [
       "<div>\n",
       "<style scoped>\n",
       "    .dataframe tbody tr th:only-of-type {\n",
       "        vertical-align: middle;\n",
       "    }\n",
       "\n",
       "    .dataframe tbody tr th {\n",
       "        vertical-align: top;\n",
       "    }\n",
       "\n",
       "    .dataframe thead th {\n",
       "        text-align: right;\n",
       "    }\n",
       "</style>\n",
       "<table border=\"1\" class=\"dataframe\">\n",
       "  <thead>\n",
       "    <tr style=\"text-align: right;\">\n",
       "      <th></th>\n",
       "      <th>ID</th>\n",
       "      <th>CropTyp</th>\n",
       "      <th>Irrigtn</th>\n",
       "      <th>DataSrc</th>\n",
       "      <th>Acres</th>\n",
       "      <th>ExctAcr</th>\n",
       "      <th>LstSrvD</th>\n",
       "      <th>county</th>\n",
       "    </tr>\n",
       "  </thead>\n",
       "  <tbody>\n",
       "    <tr>\n",
       "      <th>0</th>\n",
       "      <td>100010_WSDA_SF_2017</td>\n",
       "      <td>alfalfa hay</td>\n",
       "      <td>center pivot</td>\n",
       "      <td>wsda</td>\n",
       "      <td>34</td>\n",
       "      <td>34.310305</td>\n",
       "      <td>2017/09/12</td>\n",
       "      <td>Grant</td>\n",
       "    </tr>\n",
       "    <tr>\n",
       "      <th>1</th>\n",
       "      <td>100204_WSDA_SF_2017</td>\n",
       "      <td>alfalfa hay</td>\n",
       "      <td>center pivot</td>\n",
       "      <td>wsda</td>\n",
       "      <td>62</td>\n",
       "      <td>61.826535</td>\n",
       "      <td>2017/08/09</td>\n",
       "      <td>Grant</td>\n",
       "    </tr>\n",
       "  </tbody>\n",
       "</table>\n",
       "</div>"
      ],
      "text/plain": [
       "                    ID      CropTyp       Irrigtn DataSrc  Acres    ExctAcr  \\\n",
       "0  100010_WSDA_SF_2017  alfalfa hay  center pivot    wsda     34  34.310305   \n",
       "1  100204_WSDA_SF_2017  alfalfa hay  center pivot    wsda     62  61.826535   \n",
       "\n",
       "      LstSrvD county  \n",
       "0  2017/09/12  Grant  \n",
       "1  2017/08/09  Grant  "
      ]
     },
     "execution_count": 7,
     "metadata": {},
     "output_type": "execute_result"
    }
   ],
   "source": [
    "print (len(meta[meta.ID.isin(list(ground_truth_labels.ID))].ID.unique()))\n",
    "meta.head(2)"
   ]
  },
  {
   "cell_type": "markdown",
   "id": "f90fc675",
   "metadata": {},
   "source": [
    "# Read the Data"
   ]
  },
  {
   "cell_type": "code",
   "execution_count": 8,
   "id": "a6429082",
   "metadata": {},
   "outputs": [],
   "source": [
    "VI_idx = \"NDVI\"\n",
    "data_dir = \"/Users/hn/Documents/01_research_data/NASA/VI_TS/05_SG_TS/\""
   ]
  },
  {
   "cell_type": "code",
   "execution_count": 9,
   "id": "4a837be9",
   "metadata": {},
   "outputs": [
    {
     "data": {
      "text/html": [
       "<div>\n",
       "<style scoped>\n",
       "    .dataframe tbody tr th:only-of-type {\n",
       "        vertical-align: middle;\n",
       "    }\n",
       "\n",
       "    .dataframe tbody tr th {\n",
       "        vertical-align: top;\n",
       "    }\n",
       "\n",
       "    .dataframe thead th {\n",
       "        text-align: right;\n",
       "    }\n",
       "</style>\n",
       "<table border=\"1\" class=\"dataframe\">\n",
       "  <thead>\n",
       "    <tr style=\"text-align: right;\">\n",
       "      <th></th>\n",
       "      <th>ID</th>\n",
       "      <th>human_system_start_time</th>\n",
       "      <th>NDVI</th>\n",
       "    </tr>\n",
       "  </thead>\n",
       "  <tbody>\n",
       "    <tr>\n",
       "      <th>0</th>\n",
       "      <td>135073_WSDA_SF_2015</td>\n",
       "      <td>2015-01-10</td>\n",
       "      <td>0.115126</td>\n",
       "    </tr>\n",
       "    <tr>\n",
       "      <th>1</th>\n",
       "      <td>135073_WSDA_SF_2015</td>\n",
       "      <td>2015-01-20</td>\n",
       "      <td>0.111097</td>\n",
       "    </tr>\n",
       "  </tbody>\n",
       "</table>\n",
       "</div>"
      ],
      "text/plain": [
       "                    ID human_system_start_time      NDVI\n",
       "0  135073_WSDA_SF_2015              2015-01-10  0.115126\n",
       "1  135073_WSDA_SF_2015              2015-01-20  0.111097"
      ]
     },
     "execution_count": 9,
     "metadata": {},
     "output_type": "execute_result"
    }
   ],
   "source": [
    "file_names = [\"SG_Walla2015_\" + VI_idx + \"_JFD.csv\", \"SG_AdamBenton2016_\" + VI_idx + \"_JFD.csv\", \n",
    "              \"SG_Grant2017_\" + VI_idx + \"_JFD.csv\", \"SG_FranklinYakima2018_\"+ VI_idx +\"_JFD.csv\"]\n",
    "\n",
    "data=pd.DataFrame()\n",
    "\n",
    "for file in file_names:\n",
    "    curr_file=pd.read_csv(data_dir + file)\n",
    "    curr_file['human_system_start_time'] = pd.to_datetime(curr_file['human_system_start_time'])\n",
    "    \n",
    "    # These data are for 3 years. The middle one is the correct one\n",
    "    all_years = sorted(curr_file.human_system_start_time.dt.year.unique())\n",
    "    if len(all_years)==3 or len(all_years)==2:\n",
    "        proper_year = all_years[1]\n",
    "    elif len(all_years)==1:\n",
    "        proper_year = all_years[0]\n",
    "\n",
    "    curr_file = curr_file[curr_file.human_system_start_time.dt.year==proper_year]\n",
    "    data=pd.concat([data, curr_file])\n",
    "\n",
    "data.reset_index(drop=True, inplace=True)\n",
    "data.head(2)"
   ]
  },
  {
   "cell_type": "code",
   "execution_count": 10,
   "id": "1f061df0",
   "metadata": {},
   "outputs": [],
   "source": [
    "ground_truth = data[data.ID.isin(list(ground_truth_labels.ID.unique()))].copy()"
   ]
  },
  {
   "cell_type": "code",
   "execution_count": 11,
   "id": "bcc842ea",
   "metadata": {},
   "outputs": [
    {
     "data": {
      "text/plain": [
       "1849"
      ]
     },
     "execution_count": 11,
     "metadata": {},
     "output_type": "execute_result"
    }
   ],
   "source": [
    "len(ground_truth.ID.unique())"
   ]
  },
  {
   "cell_type": "markdown",
   "id": "68a63761",
   "metadata": {},
   "source": [
    "# Toss small fields"
   ]
  },
  {
   "cell_type": "code",
   "execution_count": 12,
   "id": "faf89320",
   "metadata": {},
   "outputs": [
    {
     "data": {
      "text/plain": [
       "3539"
      ]
     },
     "execution_count": 12,
     "metadata": {},
     "output_type": "execute_result"
    }
   ],
   "source": [
    "len(meta_moreThan10Acr.ID.unique())"
   ]
  },
  {
   "cell_type": "code",
   "execution_count": 13,
   "id": "09f2e43c",
   "metadata": {},
   "outputs": [
    {
     "name": "stdout",
     "output_type": "stream",
     "text": [
      "There are [1849] fields in total whose        area adds up to [85573.68].\n",
      "There are [1342] fields larger than 10         acres whose area adds up to [83430.79].\n"
     ]
    }
   ],
   "source": [
    "ground_truth_labels_extended = pd.merge(ground_truth_labels, meta, on=['ID'], how='left')\n",
    "ground_truth_labels = ground_truth_labels_extended[ground_truth_labels_extended.ExctAcr>=10].copy()\n",
    "ground_truth_labels.reset_index(drop=True, inplace=True)\n",
    "\n",
    "print (\"There are [{:.0f}] fields in total whose\\\n",
    "        area adds up to [{:.2f}].\".format(len(ground_truth_labels_extended), \\\n",
    "                                            ground_truth_labels_extended.ExctAcr.sum()))\n",
    "\n",
    "\n",
    "print (\"There are [{:.0f}] fields larger than 10 \\\n",
    "        acres whose area adds up to [{:.2f}].\".format(len(ground_truth_labels), \\\n",
    "                                                      ground_truth_labels.ExctAcr.sum()))"
   ]
  },
  {
   "cell_type": "code",
   "execution_count": 14,
   "id": "ca86a698",
   "metadata": {},
   "outputs": [],
   "source": [
    "ground_truth = ground_truth[ground_truth.ID.isin((list(meta_moreThan10Acr.ID)))].copy()\n",
    "ground_truth_labels = ground_truth_labels[ground_truth_labels.ID.isin((list(meta_moreThan10Acr.ID)))].copy()\n",
    "\n",
    "ground_truth.reset_index(drop=True, inplace=True)\n",
    "ground_truth_labels.reset_index(drop=True, inplace=True)"
   ]
  },
  {
   "cell_type": "code",
   "execution_count": null,
   "id": "5aaf2109",
   "metadata": {},
   "outputs": [],
   "source": []
  },
  {
   "cell_type": "markdown",
   "id": "eb5a5eb1",
   "metadata": {},
   "source": [
    "# Sort the order of time-series and experts' labels identically"
   ]
  },
  {
   "cell_type": "code",
   "execution_count": 15,
   "id": "e159c2d5",
   "metadata": {},
   "outputs": [
    {
     "name": "stdout",
     "output_type": "stream",
     "text": [
      "100048_WSDA_SF_2017\n",
      "100048_WSDA_SF_2017\n",
      "____________________________________\n",
      "99909_WSDA_SF_2017\n",
      "99909_WSDA_SF_2017\n",
      "____________________________________\n",
      "True\n"
     ]
    }
   ],
   "source": [
    "ground_truth.sort_values(by=[\"ID\", 'human_system_start_time'], inplace=True)\n",
    "ground_truth_labels.sort_values(by=[\"ID\"], inplace=True)\n",
    "\n",
    "ground_truth.reset_index(drop=True, inplace=True)\n",
    "ground_truth_labels.reset_index(drop=True, inplace=True)\n",
    "\n",
    "assert (len(ground_truth.ID.unique()) == len(ground_truth_labels.ID.unique()))\n",
    "\n",
    "print (list(ground_truth.ID)[0])\n",
    "print (list(ground_truth_labels.ID)[0])\n",
    "print (\"____________________________________\")\n",
    "print (list(ground_truth.ID)[-1])\n",
    "print (list(ground_truth_labels.ID)[-1])\n",
    "print (\"____________________________________\")\n",
    "print (list(ground_truth.ID.unique())==list(ground_truth_labels.ID.unique()))"
   ]
  },
  {
   "cell_type": "markdown",
   "id": "3b68fa11",
   "metadata": {},
   "source": [
    "# Widen Ground Truth Table"
   ]
  },
  {
   "cell_type": "code",
   "execution_count": 16,
   "id": "971dfdb1",
   "metadata": {},
   "outputs": [],
   "source": [
    "NDVI_colnames = [VI_idx + \"_\" + str(ii) for ii in range(1, 37) ]\n",
    "columnNames = [\"ID\"] + NDVI_colnames\n",
    "ground_truth_wide = pd.DataFrame(columns=columnNames, \n",
    "                                index=range(len(ground_truth.ID.unique())))\n",
    "ground_truth_wide[\"ID\"] = ground_truth.ID.unique()\n",
    "\n",
    "for an_ID in ground_truth.ID.unique():\n",
    "    curr_df = ground_truth[ground_truth.ID==an_ID]\n",
    "    \n",
    "    ground_truth_wide_indx = ground_truth_wide[ground_truth_wide.ID==an_ID].index\n",
    "    ground_truth_wide.loc[ground_truth_wide_indx, \"NDVI_1\":\"NDVI_36\"] = curr_df.NDVI.values[:36]"
   ]
  },
  {
   "cell_type": "code",
   "execution_count": 17,
   "id": "0f671a88",
   "metadata": {},
   "outputs": [
    {
     "data": {
      "text/html": [
       "<div>\n",
       "<style scoped>\n",
       "    .dataframe tbody tr th:only-of-type {\n",
       "        vertical-align: middle;\n",
       "    }\n",
       "\n",
       "    .dataframe tbody tr th {\n",
       "        vertical-align: top;\n",
       "    }\n",
       "\n",
       "    .dataframe thead th {\n",
       "        text-align: right;\n",
       "    }\n",
       "</style>\n",
       "<table border=\"1\" class=\"dataframe\">\n",
       "  <thead>\n",
       "    <tr style=\"text-align: right;\">\n",
       "      <th></th>\n",
       "      <th>ID</th>\n",
       "      <th>NDVI_1</th>\n",
       "      <th>NDVI_2</th>\n",
       "      <th>NDVI_3</th>\n",
       "      <th>NDVI_4</th>\n",
       "      <th>NDVI_5</th>\n",
       "      <th>NDVI_6</th>\n",
       "      <th>NDVI_7</th>\n",
       "      <th>NDVI_8</th>\n",
       "      <th>NDVI_9</th>\n",
       "      <th>...</th>\n",
       "      <th>NDVI_27</th>\n",
       "      <th>NDVI_28</th>\n",
       "      <th>NDVI_29</th>\n",
       "      <th>NDVI_30</th>\n",
       "      <th>NDVI_31</th>\n",
       "      <th>NDVI_32</th>\n",
       "      <th>NDVI_33</th>\n",
       "      <th>NDVI_34</th>\n",
       "      <th>NDVI_35</th>\n",
       "      <th>NDVI_36</th>\n",
       "    </tr>\n",
       "  </thead>\n",
       "  <tbody>\n",
       "    <tr>\n",
       "      <th>0</th>\n",
       "      <td>100048_WSDA_SF_2017</td>\n",
       "      <td>0.0</td>\n",
       "      <td>0.0</td>\n",
       "      <td>0.0</td>\n",
       "      <td>0.0</td>\n",
       "      <td>-0.013408</td>\n",
       "      <td>0.005073</td>\n",
       "      <td>0.046107</td>\n",
       "      <td>0.101812</td>\n",
       "      <td>0.150996</td>\n",
       "      <td>...</td>\n",
       "      <td>0.156784</td>\n",
       "      <td>0.174428</td>\n",
       "      <td>0.167761</td>\n",
       "      <td>0.158558</td>\n",
       "      <td>0.140866</td>\n",
       "      <td>0.124713</td>\n",
       "      <td>0.123858</td>\n",
       "      <td>0.125424</td>\n",
       "      <td>0.131067</td>\n",
       "      <td>0.137853</td>\n",
       "    </tr>\n",
       "    <tr>\n",
       "      <th>1</th>\n",
       "      <td>100081_WSDA_SF_2017</td>\n",
       "      <td>0.008158</td>\n",
       "      <td>-0.009466</td>\n",
       "      <td>-0.005211</td>\n",
       "      <td>0.035498</td>\n",
       "      <td>0.128673</td>\n",
       "      <td>0.256392</td>\n",
       "      <td>0.408233</td>\n",
       "      <td>0.529872</td>\n",
       "      <td>0.643033</td>\n",
       "      <td>...</td>\n",
       "      <td>0.172227</td>\n",
       "      <td>0.189799</td>\n",
       "      <td>0.190025</td>\n",
       "      <td>0.150764</td>\n",
       "      <td>0.089114</td>\n",
       "      <td>0.074236</td>\n",
       "      <td>0.091151</td>\n",
       "      <td>0.123856</td>\n",
       "      <td>0.147966</td>\n",
       "      <td>0.135502</td>\n",
       "    </tr>\n",
       "  </tbody>\n",
       "</table>\n",
       "<p>2 rows × 37 columns</p>\n",
       "</div>"
      ],
      "text/plain": [
       "                    ID    NDVI_1    NDVI_2    NDVI_3    NDVI_4    NDVI_5  \\\n",
       "0  100048_WSDA_SF_2017       0.0       0.0       0.0       0.0 -0.013408   \n",
       "1  100081_WSDA_SF_2017  0.008158 -0.009466 -0.005211  0.035498  0.128673   \n",
       "\n",
       "     NDVI_6    NDVI_7    NDVI_8    NDVI_9  ...   NDVI_27   NDVI_28   NDVI_29  \\\n",
       "0  0.005073  0.046107  0.101812  0.150996  ...  0.156784  0.174428  0.167761   \n",
       "1  0.256392  0.408233  0.529872  0.643033  ...  0.172227  0.189799  0.190025   \n",
       "\n",
       "    NDVI_30   NDVI_31   NDVI_32   NDVI_33   NDVI_34   NDVI_35   NDVI_36  \n",
       "0  0.158558  0.140866  0.124713  0.123858  0.125424  0.131067  0.137853  \n",
       "1  0.150764  0.089114  0.074236  0.091151  0.123856  0.147966  0.135502  \n",
       "\n",
       "[2 rows x 37 columns]"
      ]
     },
     "execution_count": 17,
     "metadata": {},
     "output_type": "execute_result"
    }
   ],
   "source": [
    "ground_truth_wide.head(2)"
   ]
  },
  {
   "cell_type": "code",
   "execution_count": 18,
   "id": "4157d23e",
   "metadata": {},
   "outputs": [
    {
     "data": {
      "text/plain": [
       "1342"
      ]
     },
     "execution_count": 18,
     "metadata": {},
     "output_type": "execute_result"
    }
   ],
   "source": [
    "len(ground_truth_wide.ID.unique())"
   ]
  },
  {
   "cell_type": "markdown",
   "id": "79ee2412",
   "metadata": {},
   "source": [
    "# Split Train and Test Set\n",
    "\n",
    "#### Make sure rows of ```ground_truth_allBands``` and ```ground_truth_labels``` are in the same order"
   ]
  },
  {
   "cell_type": "code",
   "execution_count": 19,
   "id": "a836cbd8",
   "metadata": {},
   "outputs": [
    {
     "data": {
      "text/html": [
       "<div>\n",
       "<style scoped>\n",
       "    .dataframe tbody tr th:only-of-type {\n",
       "        vertical-align: middle;\n",
       "    }\n",
       "\n",
       "    .dataframe tbody tr th {\n",
       "        vertical-align: top;\n",
       "    }\n",
       "\n",
       "    .dataframe thead th {\n",
       "        text-align: right;\n",
       "    }\n",
       "</style>\n",
       "<table border=\"1\" class=\"dataframe\">\n",
       "  <thead>\n",
       "    <tr style=\"text-align: right;\">\n",
       "      <th></th>\n",
       "      <th>ID</th>\n",
       "      <th>Vote</th>\n",
       "      <th>CropTyp</th>\n",
       "      <th>Irrigtn</th>\n",
       "      <th>DataSrc</th>\n",
       "      <th>Acres</th>\n",
       "      <th>ExctAcr</th>\n",
       "      <th>LstSrvD</th>\n",
       "      <th>county</th>\n",
       "    </tr>\n",
       "  </thead>\n",
       "  <tbody>\n",
       "    <tr>\n",
       "      <th>0</th>\n",
       "      <td>100048_WSDA_SF_2017</td>\n",
       "      <td>1</td>\n",
       "      <td>bean, green</td>\n",
       "      <td>rill</td>\n",
       "      <td>wsda</td>\n",
       "      <td>18</td>\n",
       "      <td>18.033240</td>\n",
       "      <td>2017/05/14</td>\n",
       "      <td>Grant</td>\n",
       "    </tr>\n",
       "    <tr>\n",
       "      <th>1</th>\n",
       "      <td>100081_WSDA_SF_2017</td>\n",
       "      <td>1</td>\n",
       "      <td>wheat</td>\n",
       "      <td>rill</td>\n",
       "      <td>wsda</td>\n",
       "      <td>16</td>\n",
       "      <td>15.959744</td>\n",
       "      <td>2017/08/09</td>\n",
       "      <td>Grant</td>\n",
       "    </tr>\n",
       "  </tbody>\n",
       "</table>\n",
       "</div>"
      ],
      "text/plain": [
       "                    ID  Vote      CropTyp Irrigtn DataSrc  Acres    ExctAcr  \\\n",
       "0  100048_WSDA_SF_2017     1  bean, green    rill    wsda     18  18.033240   \n",
       "1  100081_WSDA_SF_2017     1        wheat    rill    wsda     16  15.959744   \n",
       "\n",
       "      LstSrvD county  \n",
       "0  2017/05/14  Grant  \n",
       "1  2017/08/09  Grant  "
      ]
     },
     "execution_count": 19,
     "metadata": {},
     "output_type": "execute_result"
    }
   ],
   "source": [
    "ground_truth_labels.head(2)"
   ]
  },
  {
   "cell_type": "code",
   "execution_count": 20,
   "id": "63171431",
   "metadata": {},
   "outputs": [
    {
     "data": {
      "text/plain": [
       "array(['bean, green', 'wheat', 'onion', 'pea, green', 'corn, field',\n",
       "       'corn, sweet', 'bean, dry', 'yellow mustard', 'potato', 'canola',\n",
       "       'mint', 'grass seed', 'carrot', 'buckwheat', 'bluegrass seed',\n",
       "       'grass hay', 'corn seed', 'pea, dry', 'pea seed', 'barley hay',\n",
       "       'market crops', 'triticale', 'carrot seed', 'wheat fallow',\n",
       "       'barley', 'alfalfa seed', 'oat hay', 'triticale hay'], dtype=object)"
      ]
     },
     "execution_count": 20,
     "metadata": {},
     "output_type": "execute_result"
    }
   ],
   "source": [
    "ground_truth_labels.CropTyp.unique()"
   ]
  },
  {
   "cell_type": "code",
   "execution_count": 21,
   "id": "d78ec7d6",
   "metadata": {},
   "outputs": [
    {
     "data": {
      "text/html": [
       "<div>\n",
       "<style scoped>\n",
       "    .dataframe tbody tr th:only-of-type {\n",
       "        vertical-align: middle;\n",
       "    }\n",
       "\n",
       "    .dataframe tbody tr th {\n",
       "        vertical-align: top;\n",
       "    }\n",
       "\n",
       "    .dataframe thead th {\n",
       "        text-align: right;\n",
       "    }\n",
       "</style>\n",
       "<table border=\"1\" class=\"dataframe\">\n",
       "  <thead>\n",
       "    <tr style=\"text-align: right;\">\n",
       "      <th></th>\n",
       "      <th>ID</th>\n",
       "      <th>human_system_start_time</th>\n",
       "      <th>NDVI</th>\n",
       "    </tr>\n",
       "  </thead>\n",
       "  <tbody>\n",
       "    <tr>\n",
       "      <th>0</th>\n",
       "      <td>100048_WSDA_SF_2017</td>\n",
       "      <td>2017-01-06</td>\n",
       "      <td>0.0</td>\n",
       "    </tr>\n",
       "    <tr>\n",
       "      <th>1</th>\n",
       "      <td>100048_WSDA_SF_2017</td>\n",
       "      <td>2017-01-16</td>\n",
       "      <td>0.0</td>\n",
       "    </tr>\n",
       "  </tbody>\n",
       "</table>\n",
       "</div>"
      ],
      "text/plain": [
       "                    ID human_system_start_time  NDVI\n",
       "0  100048_WSDA_SF_2017              2017-01-06   0.0\n",
       "1  100048_WSDA_SF_2017              2017-01-16   0.0"
      ]
     },
     "execution_count": 21,
     "metadata": {},
     "output_type": "execute_result"
    }
   ],
   "source": [
    "ground_truth.head(2)"
   ]
  },
  {
   "cell_type": "code",
   "execution_count": 22,
   "id": "ec7b7d6d",
   "metadata": {},
   "outputs": [],
   "source": [
    "ground_truth_labels = ground_truth_labels.set_index('ID')\n",
    "ground_truth_labels = ground_truth_labels.reindex(index=ground_truth_wide['ID'])\n",
    "ground_truth_labels = ground_truth_labels.reset_index()"
   ]
  },
  {
   "cell_type": "code",
   "execution_count": 23,
   "id": "c218ac2e",
   "metadata": {},
   "outputs": [
    {
     "name": "stdout",
     "output_type": "stream",
     "text": [
      "10.0708703567\n"
     ]
    },
    {
     "data": {
      "text/html": [
       "<div>\n",
       "<style scoped>\n",
       "    .dataframe tbody tr th:only-of-type {\n",
       "        vertical-align: middle;\n",
       "    }\n",
       "\n",
       "    .dataframe tbody tr th {\n",
       "        vertical-align: top;\n",
       "    }\n",
       "\n",
       "    .dataframe thead th {\n",
       "        text-align: right;\n",
       "    }\n",
       "</style>\n",
       "<table border=\"1\" class=\"dataframe\">\n",
       "  <thead>\n",
       "    <tr style=\"text-align: right;\">\n",
       "      <th></th>\n",
       "      <th>ID</th>\n",
       "      <th>Vote</th>\n",
       "      <th>CropTyp</th>\n",
       "      <th>Irrigtn</th>\n",
       "      <th>DataSrc</th>\n",
       "      <th>Acres</th>\n",
       "      <th>ExctAcr</th>\n",
       "      <th>LstSrvD</th>\n",
       "      <th>county</th>\n",
       "    </tr>\n",
       "  </thead>\n",
       "  <tbody>\n",
       "    <tr>\n",
       "      <th>0</th>\n",
       "      <td>100048_WSDA_SF_2017</td>\n",
       "      <td>1</td>\n",
       "      <td>bean, green</td>\n",
       "      <td>rill</td>\n",
       "      <td>wsda</td>\n",
       "      <td>18</td>\n",
       "      <td>18.033240</td>\n",
       "      <td>2017/05/14</td>\n",
       "      <td>Grant</td>\n",
       "    </tr>\n",
       "    <tr>\n",
       "      <th>1</th>\n",
       "      <td>100081_WSDA_SF_2017</td>\n",
       "      <td>1</td>\n",
       "      <td>wheat</td>\n",
       "      <td>rill</td>\n",
       "      <td>wsda</td>\n",
       "      <td>16</td>\n",
       "      <td>15.959744</td>\n",
       "      <td>2017/08/09</td>\n",
       "      <td>Grant</td>\n",
       "    </tr>\n",
       "  </tbody>\n",
       "</table>\n",
       "</div>"
      ],
      "text/plain": [
       "                    ID  Vote      CropTyp Irrigtn DataSrc  Acres    ExctAcr  \\\n",
       "0  100048_WSDA_SF_2017     1  bean, green    rill    wsda     18  18.033240   \n",
       "1  100081_WSDA_SF_2017     1        wheat    rill    wsda     16  15.959744   \n",
       "\n",
       "      LstSrvD county  \n",
       "0  2017/05/14  Grant  \n",
       "1  2017/08/09  Grant  "
      ]
     },
     "execution_count": 23,
     "metadata": {},
     "output_type": "execute_result"
    }
   ],
   "source": [
    "print (ground_truth_labels.ExctAcr.min())\n",
    "ground_truth_labels.head(2)"
   ]
  },
  {
   "cell_type": "code",
   "execution_count": 24,
   "id": "89aea9ee",
   "metadata": {},
   "outputs": [
    {
     "data": {
      "text/html": [
       "<div>\n",
       "<style scoped>\n",
       "    .dataframe tbody tr th:only-of-type {\n",
       "        vertical-align: middle;\n",
       "    }\n",
       "\n",
       "    .dataframe tbody tr th {\n",
       "        vertical-align: top;\n",
       "    }\n",
       "\n",
       "    .dataframe thead th {\n",
       "        text-align: right;\n",
       "    }\n",
       "</style>\n",
       "<table border=\"1\" class=\"dataframe\">\n",
       "  <thead>\n",
       "    <tr style=\"text-align: right;\">\n",
       "      <th></th>\n",
       "      <th>ID</th>\n",
       "      <th>Vote</th>\n",
       "    </tr>\n",
       "  </thead>\n",
       "  <tbody>\n",
       "    <tr>\n",
       "      <th>0</th>\n",
       "      <td>100048_WSDA_SF_2017</td>\n",
       "      <td>1</td>\n",
       "    </tr>\n",
       "    <tr>\n",
       "      <th>1</th>\n",
       "      <td>100081_WSDA_SF_2017</td>\n",
       "      <td>1</td>\n",
       "    </tr>\n",
       "  </tbody>\n",
       "</table>\n",
       "</div>"
      ],
      "text/plain": [
       "                    ID  Vote\n",
       "0  100048_WSDA_SF_2017     1\n",
       "1  100081_WSDA_SF_2017     1"
      ]
     },
     "execution_count": 24,
     "metadata": {},
     "output_type": "execute_result"
    }
   ],
   "source": [
    "ground_truth_labels=ground_truth_labels[[\"ID\", \"Vote\"]]\n",
    "ground_truth_labels.head(2)"
   ]
  },
  {
   "cell_type": "code",
   "execution_count": 25,
   "id": "abc7c07b",
   "metadata": {},
   "outputs": [],
   "source": [
    "x_train_df, x_test_df, y_train_df, y_test_df = train_test_split(ground_truth_wide, \n",
    "                                                                ground_truth_labels, \n",
    "                                                                test_size=0.2, \n",
    "                                                                random_state=0,\n",
    "                                                                shuffle=True,\n",
    "                                                                stratify=ground_truth_labels.Vote.values)"
   ]
  },
  {
   "cell_type": "code",
   "execution_count": 26,
   "id": "e307268b",
   "metadata": {},
   "outputs": [
    {
     "data": {
      "text/html": [
       "<div>\n",
       "<style scoped>\n",
       "    .dataframe tbody tr th:only-of-type {\n",
       "        vertical-align: middle;\n",
       "    }\n",
       "\n",
       "    .dataframe tbody tr th {\n",
       "        vertical-align: top;\n",
       "    }\n",
       "\n",
       "    .dataframe thead th {\n",
       "        text-align: right;\n",
       "    }\n",
       "</style>\n",
       "<table border=\"1\" class=\"dataframe\">\n",
       "  <thead>\n",
       "    <tr style=\"text-align: right;\">\n",
       "      <th></th>\n",
       "      <th>ID</th>\n",
       "      <th>NDVI_1</th>\n",
       "      <th>NDVI_2</th>\n",
       "      <th>NDVI_3</th>\n",
       "      <th>NDVI_4</th>\n",
       "      <th>NDVI_5</th>\n",
       "      <th>NDVI_6</th>\n",
       "      <th>NDVI_7</th>\n",
       "      <th>NDVI_8</th>\n",
       "      <th>NDVI_9</th>\n",
       "      <th>...</th>\n",
       "      <th>NDVI_27</th>\n",
       "      <th>NDVI_28</th>\n",
       "      <th>NDVI_29</th>\n",
       "      <th>NDVI_30</th>\n",
       "      <th>NDVI_31</th>\n",
       "      <th>NDVI_32</th>\n",
       "      <th>NDVI_33</th>\n",
       "      <th>NDVI_34</th>\n",
       "      <th>NDVI_35</th>\n",
       "      <th>NDVI_36</th>\n",
       "    </tr>\n",
       "  </thead>\n",
       "  <tbody>\n",
       "    <tr>\n",
       "      <th>569</th>\n",
       "      <td>158665_WSDA_SF_2015</td>\n",
       "      <td>0.203413</td>\n",
       "      <td>0.219159</td>\n",
       "      <td>0.218994</td>\n",
       "      <td>0.210915</td>\n",
       "      <td>0.192249</td>\n",
       "      <td>0.180313</td>\n",
       "      <td>0.184777</td>\n",
       "      <td>0.21386</td>\n",
       "      <td>0.239659</td>\n",
       "      <td>...</td>\n",
       "      <td>0.262654</td>\n",
       "      <td>0.269424</td>\n",
       "      <td>0.267503</td>\n",
       "      <td>0.28127</td>\n",
       "      <td>0.271863</td>\n",
       "      <td>0.263389</td>\n",
       "      <td>0.221089</td>\n",
       "      <td>0.133657</td>\n",
       "      <td>0.074433</td>\n",
       "      <td>0.083993</td>\n",
       "    </tr>\n",
       "    <tr>\n",
       "      <th>776</th>\n",
       "      <td>35726_WSDA_SF_2018</td>\n",
       "      <td>0.187108</td>\n",
       "      <td>0.218956</td>\n",
       "      <td>0.289264</td>\n",
       "      <td>0.270174</td>\n",
       "      <td>0.241071</td>\n",
       "      <td>0.206951</td>\n",
       "      <td>0.178382</td>\n",
       "      <td>0.167228</td>\n",
       "      <td>0.162434</td>\n",
       "      <td>...</td>\n",
       "      <td>0.1258</td>\n",
       "      <td>0.158385</td>\n",
       "      <td>0.196187</td>\n",
       "      <td>0.278175</td>\n",
       "      <td>0.390391</td>\n",
       "      <td>0.476268</td>\n",
       "      <td>0.483001</td>\n",
       "      <td>0.503066</td>\n",
       "      <td>0.510819</td>\n",
       "      <td>0.51929</td>\n",
       "    </tr>\n",
       "    <tr>\n",
       "      <th>246</th>\n",
       "      <td>104402_WSDA_SF_2018</td>\n",
       "      <td>0.23135</td>\n",
       "      <td>0.228183</td>\n",
       "      <td>0.299927</td>\n",
       "      <td>0.263479</td>\n",
       "      <td>0.267313</td>\n",
       "      <td>0.312633</td>\n",
       "      <td>0.395471</td>\n",
       "      <td>0.503318</td>\n",
       "      <td>0.613878</td>\n",
       "      <td>...</td>\n",
       "      <td>0.618832</td>\n",
       "      <td>0.55396</td>\n",
       "      <td>0.467238</td>\n",
       "      <td>0.407463</td>\n",
       "      <td>0.338861</td>\n",
       "      <td>0.309563</td>\n",
       "      <td>0.300192</td>\n",
       "      <td>0.296009</td>\n",
       "      <td>0.277937</td>\n",
       "      <td>0.259269</td>\n",
       "    </tr>\n",
       "  </tbody>\n",
       "</table>\n",
       "<p>3 rows × 37 columns</p>\n",
       "</div>"
      ],
      "text/plain": [
       "                      ID    NDVI_1    NDVI_2    NDVI_3    NDVI_4    NDVI_5  \\\n",
       "569  158665_WSDA_SF_2015  0.203413  0.219159  0.218994  0.210915  0.192249   \n",
       "776   35726_WSDA_SF_2018  0.187108  0.218956  0.289264  0.270174  0.241071   \n",
       "246  104402_WSDA_SF_2018   0.23135  0.228183  0.299927  0.263479  0.267313   \n",
       "\n",
       "       NDVI_6    NDVI_7    NDVI_8    NDVI_9  ...   NDVI_27   NDVI_28  \\\n",
       "569  0.180313  0.184777   0.21386  0.239659  ...  0.262654  0.269424   \n",
       "776  0.206951  0.178382  0.167228  0.162434  ...    0.1258  0.158385   \n",
       "246  0.312633  0.395471  0.503318  0.613878  ...  0.618832   0.55396   \n",
       "\n",
       "      NDVI_29   NDVI_30   NDVI_31   NDVI_32   NDVI_33   NDVI_34   NDVI_35  \\\n",
       "569  0.267503   0.28127  0.271863  0.263389  0.221089  0.133657  0.074433   \n",
       "776  0.196187  0.278175  0.390391  0.476268  0.483001  0.503066  0.510819   \n",
       "246  0.467238  0.407463  0.338861  0.309563  0.300192  0.296009  0.277937   \n",
       "\n",
       "      NDVI_36  \n",
       "569  0.083993  \n",
       "776   0.51929  \n",
       "246  0.259269  \n",
       "\n",
       "[3 rows x 37 columns]"
      ]
     },
     "execution_count": 26,
     "metadata": {},
     "output_type": "execute_result"
    }
   ],
   "source": [
    "x_test_df.tail(3)"
   ]
  },
  {
   "cell_type": "code",
   "execution_count": 27,
   "id": "e28022a3",
   "metadata": {},
   "outputs": [
    {
     "data": {
      "text/plain": [
       "(269, 37)"
      ]
     },
     "execution_count": 27,
     "metadata": {},
     "output_type": "execute_result"
    }
   ],
   "source": [
    "x_test_df.shape"
   ]
  },
  {
   "cell_type": "code",
   "execution_count": 28,
   "id": "aefe64c7",
   "metadata": {},
   "outputs": [],
   "source": [
    "## We have done this in SVM regular notebook.\n",
    "\n",
    "# out_name=training_set_dir+\"train80_split_expertLabels_2Bconsistent.csv\"\n",
    "# y_train_df.to_csv(out_name, index = False)\n",
    "\n",
    "# out_name=training_set_dir+\"test20_split_expertLabels_2Bconsistent.csv\"\n",
    "# y_test_df.to_csv(out_name, index = False)"
   ]
  },
  {
   "cell_type": "code",
   "execution_count": null,
   "id": "e74c9fb7",
   "metadata": {},
   "outputs": [],
   "source": []
  },
  {
   "cell_type": "markdown",
   "id": "669e53a8",
   "metadata": {},
   "source": [
    "# Start SVM"
   ]
  },
  {
   "cell_type": "markdown",
   "id": "dbfd1913",
   "metadata": {},
   "source": [
    "# Definitions\n",
    "\n",
    "  - **Precision** Of all instances we predict $\\hat y = 1$, what fraction is actually 1.\n",
    "     \\begin{equation}\\label{eq:precision}\n",
    "        \\text{Precision} = \\frac{TP}{TP + FP}\n",
    "     \\end{equation}\n",
    "\n",
    "  - **Recall** Of all instances that are actually $y = 1$, what fraction we predict 1.\n",
    "     \\begin{equation}\\label{eq:recall}\n",
    "         \\text{Recall} = \\text{TPR} = \\frac{TP}{TP + FN}\n",
    "     \\end{equation}\n",
    "     \n",
    "  - **Specifity** Fraction of all negative instances that are incorrectly predicted positive.\n",
    "     \\begin{equation}\\label{eq:specifity}\n",
    "        \\text{Specifity} = \\text{FPR} = \\frac{FP}{TN + FP}\\\\\n",
    "     \\end{equation}\n",
    "     \n",
    "  - **F-Score** Adjust $\\beta$ for trade off between  precision and recall. For precision oriented task $\\beta = 0.5$.\n",
    "     \\begin{equation}\\label{eq:Fscore}\n",
    "        F_\\beta = \\frac{(1+\\beta^2) TP}{ (1+\\beta^2) TP + \\beta^2 FN + FP}\n",
    "     \\end{equation}\n",
    "\n"
   ]
  },
  {
   "cell_type": "code",
   "execution_count": 29,
   "id": "1b3d07c0",
   "metadata": {},
   "outputs": [],
   "source": [
    "from sklearn.pipeline import make_pipeline\n",
    "from sklearn.svm import SVC"
   ]
  },
  {
   "cell_type": "code",
   "execution_count": 30,
   "id": "f4f7b5e5",
   "metadata": {},
   "outputs": [],
   "source": [
    "def DTW_prune(ts1, ts2):\n",
    "    d,_ = dtw.warping_paths(ts1, ts2, window=10, use_pruning=True);\n",
    "    return d"
   ]
  },
  {
   "cell_type": "code",
   "execution_count": 31,
   "id": "4dd5cb4f",
   "metadata": {},
   "outputs": [
    {
     "name": "stdout",
     "output_type": "stream",
     "text": [
      "Fitting 5 folds for each of 40 candidates, totalling 200 fits\n",
      "{'C': 17, 'kernel': 'rbf'}\n",
      "0.9711236687676592\n"
     ]
    }
   ],
   "source": [
    "parameters = {'C':[5, 10, 13, 14, 15, 16, 17, 20, 40, 80],\n",
    "              'kernel':['linear', 'poly', 'rbf', 'sigmoid'] # 'linear', 'poly', 'rbf', 'sigmoid', 'precomputed'\n",
    "              } # , \n",
    "SVM_classifier_balanced_00 = GridSearchCV(SVC(random_state=0, class_weight='balanced'), \n",
    "                                          parameters, cv=5, verbose=1)\n",
    "\n",
    "SVM_classifier_balanced_00.fit(x_train_df.iloc[:, 1:], y_train_df.Vote.values)\n",
    "\n",
    "print (SVM_classifier_balanced_00.best_params_)\n",
    "print (SVM_classifier_balanced_00.best_score_)"
   ]
  },
  {
   "cell_type": "code",
   "execution_count": 32,
   "id": "913a3201",
   "metadata": {},
   "outputs": [
    {
     "name": "stdout",
     "output_type": "stream",
     "text": [
      "Fitting 5 folds for each of 40 candidates, totalling 200 fits\n",
      "{'C': 80, 'kernel': 'rbf'}\n",
      "0.9673940447728755\n"
     ]
    }
   ],
   "source": [
    "parameters = {'C':[5, 10, 13, 14, 15, 16, 17, 20, 40, 80],\n",
    "              'kernel':['linear', 'poly', 'rbf', 'sigmoid'] # 'linear', 'poly', 'rbf', 'sigmoid', 'precomputed'\n",
    "              } # , \n",
    "SVM_classifier_NoneWeight_00 = GridSearchCV(SVC(random_state=0), \n",
    "                                            parameters, cv=5, verbose=1)\n",
    "\n",
    "SVM_classifier_NoneWeight_00.fit(x_train_df.iloc[:, 1:], y_train_df.Vote.values)\n",
    "\n",
    "print (SVM_classifier_NoneWeight_00.best_params_)\n",
    "print (SVM_classifier_NoneWeight_00.best_score_)"
   ]
  },
  {
   "cell_type": "code",
   "execution_count": 33,
   "id": "347f017d",
   "metadata": {},
   "outputs": [],
   "source": [
    "SVM_classifier_NoneWeight_00_predictions = SVM_classifier_NoneWeight_00.predict(x_test_df.iloc[:, 1:])\n",
    "SVM_classifier_balanced_00_predictions = SVM_classifier_balanced_00.predict(x_test_df.iloc[:, 1:])"
   ]
  },
  {
   "cell_type": "code",
   "execution_count": 34,
   "id": "36c3f711",
   "metadata": {},
   "outputs": [
    {
     "data": {
      "text/html": [
       "<div>\n",
       "<style scoped>\n",
       "    .dataframe tbody tr th:only-of-type {\n",
       "        vertical-align: middle;\n",
       "    }\n",
       "\n",
       "    .dataframe tbody tr th {\n",
       "        vertical-align: top;\n",
       "    }\n",
       "\n",
       "    .dataframe thead th {\n",
       "        text-align: right;\n",
       "    }\n",
       "</style>\n",
       "<table border=\"1\" class=\"dataframe\">\n",
       "  <thead>\n",
       "    <tr style=\"text-align: right;\">\n",
       "      <th></th>\n",
       "      <th>ID</th>\n",
       "      <th>Vote</th>\n",
       "      <th>prediction</th>\n",
       "    </tr>\n",
       "  </thead>\n",
       "  <tbody>\n",
       "    <tr>\n",
       "      <th>1221</th>\n",
       "      <td>7667_WSDA_SF_2016</td>\n",
       "      <td>1</td>\n",
       "      <td>1</td>\n",
       "    </tr>\n",
       "    <tr>\n",
       "      <th>1334</th>\n",
       "      <td>99748_WSDA_SF_2017</td>\n",
       "      <td>1</td>\n",
       "      <td>1</td>\n",
       "    </tr>\n",
       "  </tbody>\n",
       "</table>\n",
       "</div>"
      ],
      "text/plain": [
       "                      ID  Vote  prediction\n",
       "1221   7667_WSDA_SF_2016     1           1\n",
       "1334  99748_WSDA_SF_2017     1           1"
      ]
     },
     "execution_count": 34,
     "metadata": {},
     "output_type": "execute_result"
    }
   ],
   "source": [
    "balanced_y_test_df=y_test_df.copy()\n",
    "None_y_test_df=y_test_df.copy()\n",
    "balanced_y_test_df[\"prediction\"] = list(SVM_classifier_balanced_00_predictions)\n",
    "balanced_y_test_df.head(2)"
   ]
  },
  {
   "cell_type": "code",
   "execution_count": 35,
   "id": "d03fc0e0",
   "metadata": {},
   "outputs": [
    {
     "data": {
      "text/html": [
       "<div>\n",
       "<style scoped>\n",
       "    .dataframe tbody tr th:only-of-type {\n",
       "        vertical-align: middle;\n",
       "    }\n",
       "\n",
       "    .dataframe tbody tr th {\n",
       "        vertical-align: top;\n",
       "    }\n",
       "\n",
       "    .dataframe thead th {\n",
       "        text-align: right;\n",
       "    }\n",
       "</style>\n",
       "<table border=\"1\" class=\"dataframe\">\n",
       "  <thead>\n",
       "    <tr style=\"text-align: right;\">\n",
       "      <th></th>\n",
       "      <th>ID</th>\n",
       "      <th>Vote</th>\n",
       "      <th>prediction</th>\n",
       "    </tr>\n",
       "  </thead>\n",
       "  <tbody>\n",
       "    <tr>\n",
       "      <th>1221</th>\n",
       "      <td>7667_WSDA_SF_2016</td>\n",
       "      <td>1</td>\n",
       "      <td>1</td>\n",
       "    </tr>\n",
       "    <tr>\n",
       "      <th>1334</th>\n",
       "      <td>99748_WSDA_SF_2017</td>\n",
       "      <td>1</td>\n",
       "      <td>1</td>\n",
       "    </tr>\n",
       "  </tbody>\n",
       "</table>\n",
       "</div>"
      ],
      "text/plain": [
       "                      ID  Vote  prediction\n",
       "1221   7667_WSDA_SF_2016     1           1\n",
       "1334  99748_WSDA_SF_2017     1           1"
      ]
     },
     "execution_count": 35,
     "metadata": {},
     "output_type": "execute_result"
    }
   ],
   "source": [
    "None_y_test_df=y_test_df.copy()\n",
    "None_y_test_df=y_test_df.copy()\n",
    "None_y_test_df[\"prediction\"] = list(SVM_classifier_NoneWeight_00_predictions)\n",
    "None_y_test_df.head(2)"
   ]
  },
  {
   "cell_type": "code",
   "execution_count": 36,
   "id": "dbc329ea",
   "metadata": {},
   "outputs": [
    {
     "data": {
      "text/html": [
       "<div>\n",
       "<style scoped>\n",
       "    .dataframe tbody tr th:only-of-type {\n",
       "        vertical-align: middle;\n",
       "    }\n",
       "\n",
       "    .dataframe tbody tr th {\n",
       "        vertical-align: top;\n",
       "    }\n",
       "\n",
       "    .dataframe thead th {\n",
       "        text-align: right;\n",
       "    }\n",
       "</style>\n",
       "<table border=\"1\" class=\"dataframe\">\n",
       "  <thead>\n",
       "    <tr style=\"text-align: right;\">\n",
       "      <th></th>\n",
       "      <th>None</th>\n",
       "      <th>Predict_Single</th>\n",
       "      <th>Predict_Double</th>\n",
       "    </tr>\n",
       "  </thead>\n",
       "  <tbody>\n",
       "    <tr>\n",
       "      <th>0</th>\n",
       "      <td>Actual_Single</td>\n",
       "      <td>213</td>\n",
       "      <td>6</td>\n",
       "    </tr>\n",
       "    <tr>\n",
       "      <th>1</th>\n",
       "      <td>Actual_Double</td>\n",
       "      <td>5</td>\n",
       "      <td>45</td>\n",
       "    </tr>\n",
       "  </tbody>\n",
       "</table>\n",
       "</div>"
      ],
      "text/plain": [
       "            None  Predict_Single  Predict_Double\n",
       "0  Actual_Single             213               6\n",
       "1  Actual_Double               5              45"
      ]
     },
     "execution_count": 36,
     "metadata": {},
     "output_type": "execute_result"
    }
   ],
   "source": [
    "# Balanced Confusion Table\n",
    "\n",
    "true_single_predicted_single=0\n",
    "true_single_predicted_double=0\n",
    "\n",
    "true_double_predicted_single=0\n",
    "true_double_predicted_double=0\n",
    "\n",
    "for index in balanced_y_test_df.index:\n",
    "    curr_vote=list(balanced_y_test_df[balanced_y_test_df.index==index].Vote)[0]\n",
    "    curr_predict=list(balanced_y_test_df[balanced_y_test_df.index==index].prediction)[0]\n",
    "    if curr_vote==curr_predict:\n",
    "        if curr_vote==1: \n",
    "            true_single_predicted_single+=1\n",
    "        else:\n",
    "            true_double_predicted_double+=1\n",
    "    else:\n",
    "        if curr_vote==1:\n",
    "            true_single_predicted_double+=1\n",
    "        else:\n",
    "            true_double_predicted_single+=1\n",
    "            \n",
    "balanced_confus_tbl_test = pd.DataFrame(columns=['None', 'Predict_Single', 'Predict_Double'], \n",
    "                               index=range(2))\n",
    "balanced_confus_tbl_test.loc[0, 'None'] = 'Actual_Single'\n",
    "balanced_confus_tbl_test.loc[1, 'None'] = 'Actual_Double'\n",
    "balanced_confus_tbl_test['Predict_Single']=0\n",
    "balanced_confus_tbl_test['Predict_Double']=0\n",
    "\n",
    "balanced_confus_tbl_test.loc[0, \"Predict_Single\"]=true_single_predicted_single\n",
    "balanced_confus_tbl_test.loc[0, \"Predict_Double\"]=true_single_predicted_double\n",
    "balanced_confus_tbl_test.loc[1, \"Predict_Single\"]=true_double_predicted_single\n",
    "balanced_confus_tbl_test.loc[1, \"Predict_Double\"]=true_double_predicted_double\n",
    "balanced_confus_tbl_test"
   ]
  },
  {
   "cell_type": "code",
   "execution_count": 37,
   "id": "cf441d52",
   "metadata": {},
   "outputs": [
    {
     "data": {
      "text/html": [
       "<div>\n",
       "<style scoped>\n",
       "    .dataframe tbody tr th:only-of-type {\n",
       "        vertical-align: middle;\n",
       "    }\n",
       "\n",
       "    .dataframe tbody tr th {\n",
       "        vertical-align: top;\n",
       "    }\n",
       "\n",
       "    .dataframe thead th {\n",
       "        text-align: right;\n",
       "    }\n",
       "</style>\n",
       "<table border=\"1\" class=\"dataframe\">\n",
       "  <thead>\n",
       "    <tr style=\"text-align: right;\">\n",
       "      <th></th>\n",
       "      <th>None</th>\n",
       "      <th>Predict_Single</th>\n",
       "      <th>Predict_Double</th>\n",
       "    </tr>\n",
       "  </thead>\n",
       "  <tbody>\n",
       "    <tr>\n",
       "      <th>0</th>\n",
       "      <td>Actual_Single</td>\n",
       "      <td>213</td>\n",
       "      <td>6</td>\n",
       "    </tr>\n",
       "    <tr>\n",
       "      <th>1</th>\n",
       "      <td>Actual_Double</td>\n",
       "      <td>7</td>\n",
       "      <td>43</td>\n",
       "    </tr>\n",
       "  </tbody>\n",
       "</table>\n",
       "</div>"
      ],
      "text/plain": [
       "            None  Predict_Single  Predict_Double\n",
       "0  Actual_Single             213               6\n",
       "1  Actual_Double               7              43"
      ]
     },
     "execution_count": 37,
     "metadata": {},
     "output_type": "execute_result"
    }
   ],
   "source": [
    "# None Weight Confusion Table\n",
    "\n",
    "true_single_predicted_single=0\n",
    "true_single_predicted_double=0\n",
    "\n",
    "true_double_predicted_single=0\n",
    "true_double_predicted_double=0\n",
    "\n",
    "for index in None_y_test_df.index:\n",
    "    curr_vote=list(None_y_test_df[None_y_test_df.index==index].Vote)[0]\n",
    "    curr_predict=list(None_y_test_df[None_y_test_df.index==index].prediction)[0]\n",
    "    if curr_vote==curr_predict:\n",
    "        if curr_vote==1: \n",
    "            true_single_predicted_single+=1\n",
    "        else:\n",
    "            true_double_predicted_double+=1\n",
    "    else:\n",
    "        if curr_vote==1:\n",
    "            true_single_predicted_double+=1\n",
    "        else:\n",
    "            true_double_predicted_single+=1\n",
    "            \n",
    "None_confus_tbl_test = pd.DataFrame(columns=['None', 'Predict_Single', 'Predict_Double'], \n",
    "                                    index=range(2))\n",
    "None_confus_tbl_test.loc[0, 'None'] = 'Actual_Single'\n",
    "None_confus_tbl_test.loc[1, 'None'] = 'Actual_Double'\n",
    "None_confus_tbl_test['Predict_Single']=0\n",
    "None_confus_tbl_test['Predict_Double']=0\n",
    "\n",
    "None_confus_tbl_test.loc[0, \"Predict_Single\"]=true_single_predicted_single\n",
    "None_confus_tbl_test.loc[0, \"Predict_Double\"]=true_single_predicted_double\n",
    "None_confus_tbl_test.loc[1, \"Predict_Single\"]=true_double_predicted_single\n",
    "None_confus_tbl_test.loc[1, \"Predict_Double\"]=true_double_predicted_double\n",
    "None_confus_tbl_test"
   ]
  },
  {
   "cell_type": "code",
   "execution_count": 38,
   "id": "021ab99f",
   "metadata": {},
   "outputs": [
    {
     "name": "stdout",
     "output_type": "stream",
     "text": [
      "              precision    recall  f1-score   support\n",
      "\n",
      "           1       0.97      0.97      0.97       219\n",
      "           2       0.88      0.86      0.87        50\n",
      "\n",
      "    accuracy                           0.95       269\n",
      "   macro avg       0.92      0.92      0.92       269\n",
      "weighted avg       0.95      0.95      0.95       269\n",
      "\n"
     ]
    }
   ],
   "source": [
    "print(classification_report(y_test_df.Vote, SVM_classifier_NoneWeight_00_predictions))"
   ]
  },
  {
   "cell_type": "code",
   "execution_count": 39,
   "id": "85d272f3",
   "metadata": {},
   "outputs": [
    {
     "name": "stdout",
     "output_type": "stream",
     "text": [
      "              precision    recall  f1-score   support\n",
      "\n",
      "           1       0.98      0.97      0.97       219\n",
      "           2       0.88      0.90      0.89        50\n",
      "\n",
      "    accuracy                           0.96       269\n",
      "   macro avg       0.93      0.94      0.93       269\n",
      "weighted avg       0.96      0.96      0.96       269\n",
      "\n"
     ]
    }
   ],
   "source": [
    "print(classification_report(y_test_df.Vote, SVM_classifier_balanced_00_predictions))"
   ]
  },
  {
   "cell_type": "code",
   "execution_count": null,
   "id": "d187ed7c",
   "metadata": {},
   "outputs": [],
   "source": []
  },
  {
   "cell_type": "code",
   "execution_count": 40,
   "id": "ca74c6b6",
   "metadata": {},
   "outputs": [
    {
     "name": "stdout",
     "output_type": "stream",
     "text": [
      "/Users/hn/Documents/01_research_data/NASA/ML_Models/SVM_classifier_balanced_SGNDVI_00.sav\n",
      "/Users/hn/Documents/01_research_data/NASA/ML_Models/SVM_classifier_NoneWeight_SGNDVI_00.sav\n"
     ]
    }
   ],
   "source": [
    "import pickle\n",
    "model_dir = \"/Users/hn/Documents/01_research_data/NASA/ML_Models/\"\n",
    "filename = model_dir + \"SVM_classifier_balanced_SG\" + VI_idx + \"_00.sav\"\n",
    "pickle.dump(SVM_classifier_balanced_00, open(filename, 'wb'))\n",
    "print (filename)\n",
    "\n",
    "filename = model_dir + \"SVM_classifier_NoneWeight_SG\"+VI_idx+ \"_00.sav\"\n",
    "pickle.dump(SVM_classifier_NoneWeight_00, open(filename, 'wb'))\n",
    "\n",
    "print (filename)"
   ]
  },
  {
   "cell_type": "code",
   "execution_count": null,
   "id": "00a485b4",
   "metadata": {},
   "outputs": [],
   "source": []
  },
  {
   "cell_type": "code",
   "execution_count": 41,
   "id": "d7688abd",
   "metadata": {},
   "outputs": [],
   "source": [
    "None_y_test_df_act_1_pred_2=None_y_test_df[None_y_test_df.Vote==1].copy()\n",
    "None_y_test_df_act_2_pred_1=None_y_test_df[None_y_test_df.Vote==2].copy()\n",
    "\n",
    "None_y_test_df_act_1_pred_2=None_y_test_df_act_1_pred_2[None_y_test_df_act_1_pred_2.prediction==2].copy()\n",
    "None_y_test_df_act_2_pred_1=None_y_test_df_act_2_pred_1[None_y_test_df_act_2_pred_1.prediction==1].copy()"
   ]
  },
  {
   "cell_type": "code",
   "execution_count": null,
   "id": "2f59d35b",
   "metadata": {},
   "outputs": [],
   "source": []
  },
  {
   "cell_type": "code",
   "execution_count": 42,
   "id": "516d3a59",
   "metadata": {},
   "outputs": [],
   "source": [
    "None_y_test_df_act_2_pred_1 = pd.merge(None_y_test_df_act_2_pred_1, \n",
    "                                       ground_truth_labels_extended, \n",
    "                                       on=['ID'], how='left')\n",
    "\n",
    "None_y_test_df_act_1_pred_2 = pd.merge(None_y_test_df_act_1_pred_2, \n",
    "                                       ground_truth_labels_extended, \n",
    "                                       on=['ID'], how='left')"
   ]
  },
  {
   "cell_type": "code",
   "execution_count": 46,
   "id": "63a6e5c5",
   "metadata": {},
   "outputs": [
    {
     "name": "stdout",
     "output_type": "stream",
     "text": [
      "232.31765383973516\n"
     ]
    }
   ],
   "source": [
    "print (None_y_test_df_act_2_pred_1.ExctAcr.sum()-None_y_test_df_act_1_pred_2.ExctAcr.sum())"
   ]
  },
  {
   "cell_type": "markdown",
   "id": "eb15a3e6",
   "metadata": {},
   "source": [
    "# balanced weight acreage"
   ]
  },
  {
   "cell_type": "code",
   "execution_count": 48,
   "id": "b6675742",
   "metadata": {},
   "outputs": [],
   "source": [
    "balanced_y_test_df_act_1_pred_2=balanced_y_test_df[balanced_y_test_df.Vote==1].copy()\n",
    "balanced_y_test_df_act_2_pred_1=balanced_y_test_df[balanced_y_test_df.Vote==2].copy()\n",
    "                                \n",
    "\n",
    "balanced_y_test_df_act_1_pred_2=balanced_y_test_df_act_1_pred_2[balanced_y_test_df_act_1_pred_2.prediction==2].copy()\n",
    "balanced_y_test_df_act_2_pred_1=balanced_y_test_df_act_2_pred_1[balanced_y_test_df_act_2_pred_1.prediction==1].copy()"
   ]
  },
  {
   "cell_type": "code",
   "execution_count": 49,
   "id": "539962b3",
   "metadata": {},
   "outputs": [],
   "source": [
    "balanced_y_test_df_act_2_pred_1 = pd.merge(balanced_y_test_df_act_2_pred_1, \\\n",
    "                                           ground_truth_labels_extended, on=['ID'], how='left')\n",
    "balanced_y_test_df_act_1_pred_2 = pd.merge(balanced_y_test_df_act_1_pred_2, \\\n",
    "                                           ground_truth_labels_extended, on=['ID'], how='left')"
   ]
  },
  {
   "cell_type": "code",
   "execution_count": 57,
   "id": "f1e31805",
   "metadata": {},
   "outputs": [
    {
     "name": "stdout",
     "output_type": "stream",
     "text": [
      "145.0\n",
      "434.44\n",
      "289.46\n"
     ]
    }
   ],
   "source": [
    "print ((balanced_y_test_df_act_2_pred_1.ExctAcr.sum()-balanced_y_test_df_act_1_pred_2.ExctAcr.sum()).round(1))\n",
    "\n",
    "print (balanced_y_test_df_act_2_pred_1.ExctAcr.sum().round(2))\n",
    "print (balanced_y_test_df_act_1_pred_2.ExctAcr.sum().round(2))"
   ]
  },
  {
   "cell_type": "code",
   "execution_count": 55,
   "id": "95ab0e7b",
   "metadata": {},
   "outputs": [
    {
     "data": {
      "text/html": [
       "<div>\n",
       "<style scoped>\n",
       "    .dataframe tbody tr th:only-of-type {\n",
       "        vertical-align: middle;\n",
       "    }\n",
       "\n",
       "    .dataframe tbody tr th {\n",
       "        vertical-align: top;\n",
       "    }\n",
       "\n",
       "    .dataframe thead th {\n",
       "        text-align: right;\n",
       "    }\n",
       "</style>\n",
       "<table border=\"1\" class=\"dataframe\">\n",
       "  <thead>\n",
       "    <tr style=\"text-align: right;\">\n",
       "      <th></th>\n",
       "      <th>None</th>\n",
       "      <th>Predict_Single</th>\n",
       "      <th>Predict_Double</th>\n",
       "    </tr>\n",
       "  </thead>\n",
       "  <tbody>\n",
       "    <tr>\n",
       "      <th>0</th>\n",
       "      <td>Actual_Single</td>\n",
       "      <td>213</td>\n",
       "      <td>6</td>\n",
       "    </tr>\n",
       "    <tr>\n",
       "      <th>1</th>\n",
       "      <td>Actual_Double</td>\n",
       "      <td>5</td>\n",
       "      <td>45</td>\n",
       "    </tr>\n",
       "  </tbody>\n",
       "</table>\n",
       "</div>"
      ],
      "text/plain": [
       "            None  Predict_Single  Predict_Double\n",
       "0  Actual_Single             213               6\n",
       "1  Actual_Double               5              45"
      ]
     },
     "execution_count": 55,
     "metadata": {},
     "output_type": "execute_result"
    }
   ],
   "source": [
    "balanced_confus_tbl_test"
   ]
  },
  {
   "cell_type": "code",
   "execution_count": 58,
   "id": "6d2ef361",
   "metadata": {},
   "outputs": [
    {
     "name": "stdout",
     "output_type": "stream",
     "text": [
      "591.35\n",
      "359.03\n"
     ]
    }
   ],
   "source": [
    "print (None_y_test_df_act_2_pred_1.ExctAcr.sum().round(2))\n",
    "print (None_y_test_df_act_1_pred_2.ExctAcr.sum().round(2))"
   ]
  },
  {
   "cell_type": "code",
   "execution_count": null,
   "id": "122c1f29",
   "metadata": {},
   "outputs": [],
   "source": []
  }
 ],
 "metadata": {
  "kernelspec": {
   "display_name": "Python 3 (ipykernel)",
   "language": "python",
   "name": "python3"
  },
  "language_info": {
   "codemirror_mode": {
    "name": "ipython",
    "version": 3
   },
   "file_extension": ".py",
   "mimetype": "text/x-python",
   "name": "python",
   "nbconvert_exporter": "python",
   "pygments_lexer": "ipython3",
   "version": "3.9.12"
  }
 },
 "nbformat": 4,
 "nbformat_minor": 5
}
