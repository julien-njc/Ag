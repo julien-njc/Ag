{
 "cells": [
  {
   "cell_type": "code",
   "execution_count": 1,
   "id": "2de769c8",
   "metadata": {},
   "outputs": [],
   "source": [
    "import numpy as np\n",
    "import pandas as pd\n",
    "import scipy, scipy.signal\n",
    "\n",
    "from datetime import date\n",
    "import time\n",
    "\n",
    "from random import seed\n",
    "from random import random\n",
    "\n",
    "import os, os.path\n",
    "import shutil\n",
    "\n",
    "from sklearn.model_selection import train_test_split\n",
    "from sklearn.linear_model import LogisticRegression\n",
    "\n",
    "import matplotlib\n",
    "import matplotlib.pyplot as plt\n",
    "from pylab import imshow\n",
    "\n",
    "import h5py\n",
    "import sys\n",
    "sys.path.append('/Users/hn/Documents/00_GitHub/Ag/NASA/Python_codes/')\n",
    "import NASA_core as nc\n",
    "# import NASA_plot_core.py as rcp"
   ]
  },
  {
   "cell_type": "code",
   "execution_count": 4,
   "id": "027485c4",
   "metadata": {},
   "outputs": [],
   "source": [
    "# Read Training Set Labels"
   ]
  },
  {
   "cell_type": "code",
   "execution_count": 3,
   "id": "b6f06c64",
   "metadata": {},
   "outputs": [
    {
     "name": "stdout",
     "output_type": "stream",
     "text": [
      "Unique Votes:  [2 1]\n",
      "1849\n"
     ]
    },
    {
     "data": {
      "text/html": [
       "<div>\n",
       "<style scoped>\n",
       "    .dataframe tbody tr th:only-of-type {\n",
       "        vertical-align: middle;\n",
       "    }\n",
       "\n",
       "    .dataframe tbody tr th {\n",
       "        vertical-align: top;\n",
       "    }\n",
       "\n",
       "    .dataframe thead th {\n",
       "        text-align: right;\n",
       "    }\n",
       "</style>\n",
       "<table border=\"1\" class=\"dataframe\">\n",
       "  <thead>\n",
       "    <tr style=\"text-align: right;\">\n",
       "      <th></th>\n",
       "      <th>ID</th>\n",
       "      <th>Vote</th>\n",
       "    </tr>\n",
       "  </thead>\n",
       "  <tbody>\n",
       "    <tr>\n",
       "      <th>0</th>\n",
       "      <td>99837_WSDA_SF_2017</td>\n",
       "      <td>2</td>\n",
       "    </tr>\n",
       "    <tr>\n",
       "      <th>1</th>\n",
       "      <td>114615_WSDA_SF_2017</td>\n",
       "      <td>1</td>\n",
       "    </tr>\n",
       "  </tbody>\n",
       "</table>\n",
       "</div>"
      ],
      "text/plain": [
       "                    ID  Vote\n",
       "0   99837_WSDA_SF_2017     2\n",
       "1  114615_WSDA_SF_2017     1"
      ]
     },
     "execution_count": 3,
     "metadata": {},
     "output_type": "execute_result"
    }
   ],
   "source": [
    "training_set_dir = \"/Users/hn/Documents/01_research_data/NASA/ML_data/\"\n",
    "ground_truth_labels = pd.read_csv(training_set_dir+\"train_labels.csv\")\n",
    "print (\"Unique Votes: \", ground_truth_labels.Vote.unique())\n",
    "print (len(ground_truth_labels.ID.unique()))\n",
    "ground_truth_labels.head(2)"
   ]
  },
  {
   "cell_type": "markdown",
   "id": "58f3e363",
   "metadata": {},
   "source": [
    "# Start VI images"
   ]
  },
  {
   "cell_type": "code",
   "execution_count": 6,
   "id": "3f927ca9",
   "metadata": {},
   "outputs": [],
   "source": [
    "VI_idx = \"EVI\"\n",
    "data_dir = \"/Users/hn/Documents/01_research_data/NASA/VI_TS/04_regularized_TS/\""
   ]
  },
  {
   "cell_type": "code",
   "execution_count": 7,
   "id": "66a7ebef",
   "metadata": {},
   "outputs": [
    {
     "data": {
      "text/html": [
       "<div>\n",
       "<style scoped>\n",
       "    .dataframe tbody tr th:only-of-type {\n",
       "        vertical-align: middle;\n",
       "    }\n",
       "\n",
       "    .dataframe tbody tr th {\n",
       "        vertical-align: top;\n",
       "    }\n",
       "\n",
       "    .dataframe thead th {\n",
       "        text-align: right;\n",
       "    }\n",
       "</style>\n",
       "<table border=\"1\" class=\"dataframe\">\n",
       "  <thead>\n",
       "    <tr style=\"text-align: right;\">\n",
       "      <th></th>\n",
       "      <th>ID</th>\n",
       "      <th>human_system_start_time</th>\n",
       "      <th>EVI</th>\n",
       "    </tr>\n",
       "  </thead>\n",
       "  <tbody>\n",
       "    <tr>\n",
       "      <th>0</th>\n",
       "      <td>135073_WSDA_SF_2015</td>\n",
       "      <td>2015-01-10</td>\n",
       "      <td>0.049624</td>\n",
       "    </tr>\n",
       "    <tr>\n",
       "      <th>1</th>\n",
       "      <td>135073_WSDA_SF_2015</td>\n",
       "      <td>2015-01-20</td>\n",
       "      <td>0.026503</td>\n",
       "    </tr>\n",
       "  </tbody>\n",
       "</table>\n",
       "</div>"
      ],
      "text/plain": [
       "                    ID human_system_start_time       EVI\n",
       "0  135073_WSDA_SF_2015              2015-01-10  0.049624\n",
       "1  135073_WSDA_SF_2015              2015-01-20  0.026503"
      ]
     },
     "execution_count": 7,
     "metadata": {},
     "output_type": "execute_result"
    }
   ],
   "source": [
    "file_names = [\"regular_Walla2015_EVI_JFD.csv\", \"regular_AdamBenton2016_EVI_JFD.csv\", \n",
    "              \"regular_Grant2017_EVI_JFD.csv\", \"regular_FranklinYakima2018_EVI_JFD.csv\"]\n",
    "\n",
    "data=pd.DataFrame()\n",
    "\n",
    "for file in file_names:\n",
    "    curr_file=pd.read_csv(data_dir + file)\n",
    "    curr_file['human_system_start_time'] = pd.to_datetime(curr_file['human_system_start_time'])\n",
    "    \n",
    "    # These data are for 3 years. The middle one is the correct one\n",
    "    all_years = sorted(curr_file.human_system_start_time.dt.year.unique())\n",
    "    if len(all_years)==3 or len(all_years)==2:\n",
    "        proper_year = all_years[1]\n",
    "    elif len(all_years)==1:\n",
    "        proper_year = all_years[0]\n",
    "\n",
    "    curr_file = curr_file[curr_file.human_system_start_time.dt.year==proper_year]\n",
    "    data=pd.concat([data, curr_file])\n",
    "\n",
    "data.reset_index(drop=True, inplace=True)\n",
    "data.head(2)"
   ]
  },
  {
   "cell_type": "markdown",
   "id": "ff489dc0",
   "metadata": {},
   "source": [
    "### Pick up the fields whose \"true\" label we know"
   ]
  },
  {
   "cell_type": "code",
   "execution_count": 9,
   "id": "cf9a518c",
   "metadata": {},
   "outputs": [],
   "source": [
    "ID_list = list(ground_truth_labels.ID.unique())\n",
    "ground_truth = data[data.ID.isin(ID_list)].copy()\n",
    "ground_truth.reset_index(drop=True, inplace=True)"
   ]
  },
  {
   "cell_type": "markdown",
   "id": "bb100e7e",
   "metadata": {},
   "source": [
    "# Sort the order of time-series and experts' labels identically"
   ]
  },
  {
   "cell_type": "code",
   "execution_count": 11,
   "id": "2ab0d740",
   "metadata": {},
   "outputs": [
    {
     "name": "stdout",
     "output_type": "stream",
     "text": [
      "100048_WSDA_SF_2017\n",
      "100048_WSDA_SF_2017\n",
      "____________________________________\n",
      "99909_WSDA_SF_2017\n",
      "99909_WSDA_SF_2017\n",
      "____________________________________\n",
      "True\n"
     ]
    }
   ],
   "source": [
    "ground_truth.sort_values(by=[\"ID\", 'human_system_start_time'], inplace=True)\n",
    "ground_truth_labels.sort_values(by=[\"ID\"], inplace=True)\n",
    "\n",
    "ground_truth.reset_index(drop=True, inplace=True)\n",
    "ground_truth_labels.reset_index(drop=True, inplace=True)\n",
    "\n",
    "assert (len(ground_truth.ID.unique()) == len(ground_truth_labels.ID.unique()))\n",
    "\n",
    "print (list(ground_truth.ID)[0])\n",
    "print (list(ground_truth_labels.ID)[0])\n",
    "print (\"____________________________________\")\n",
    "print (list(ground_truth.ID)[-1])\n",
    "print (list(ground_truth_labels.ID)[-1])\n",
    "print (\"____________________________________\")\n",
    "print (list(ground_truth.ID.unique())==list(ground_truth_labels.ID.unique()))"
   ]
  },
  {
   "cell_type": "markdown",
   "id": "69832be3",
   "metadata": {},
   "source": [
    "# Form the Ratios"
   ]
  },
  {
   "cell_type": "code",
   "execution_count": 13,
   "id": "6a250263",
   "metadata": {},
   "outputs": [
    {
     "data": {
      "text/html": [
       "<div>\n",
       "<style scoped>\n",
       "    .dataframe tbody tr th:only-of-type {\n",
       "        vertical-align: middle;\n",
       "    }\n",
       "\n",
       "    .dataframe tbody tr th {\n",
       "        vertical-align: top;\n",
       "    }\n",
       "\n",
       "    .dataframe thead th {\n",
       "        text-align: right;\n",
       "    }\n",
       "</style>\n",
       "<table border=\"1\" class=\"dataframe\">\n",
       "  <thead>\n",
       "    <tr style=\"text-align: right;\">\n",
       "      <th></th>\n",
       "      <th>ID</th>\n",
       "      <th>EVI_range</th>\n",
       "    </tr>\n",
       "  </thead>\n",
       "  <tbody>\n",
       "    <tr>\n",
       "      <th>0</th>\n",
       "      <td>100048_WSDA_SF_2017</td>\n",
       "      <td>0.602470</td>\n",
       "    </tr>\n",
       "    <tr>\n",
       "      <th>1</th>\n",
       "      <td>100081_WSDA_SF_2017</td>\n",
       "      <td>0.721754</td>\n",
       "    </tr>\n",
       "  </tbody>\n",
       "</table>\n",
       "</div>"
      ],
      "text/plain": [
       "                    ID  EVI_range\n",
       "0  100048_WSDA_SF_2017   0.602470\n",
       "1  100081_WSDA_SF_2017   0.721754"
      ]
     },
     "execution_count": 13,
     "metadata": {},
     "output_type": "execute_result"
    }
   ],
   "source": [
    "mins = ground_truth.groupby(\"ID\")[VI_idx].min()\n",
    "maxs = ground_truth.groupby(\"ID\")[VI_idx].max()\n",
    "_ranges = maxs-mins\n",
    "_ranges = pd.DataFrame(_ranges)\n",
    "_ranges.reset_index(inplace=True)\n",
    "\n",
    "mins = pd.DataFrame(mins)\n",
    "mins.reset_index(inplace=True)\n",
    "\n",
    "\n",
    "_ranges.rename(columns = {'EVI':'EVI_range'}, inplace = True)\n",
    "mins.rename(columns = {'EVI':'EVI_min'}, inplace = True)\n",
    "\n",
    "_ranges.head(2)"
   ]
  },
  {
   "cell_type": "code",
   "execution_count": 14,
   "id": "c955edb7",
   "metadata": {},
   "outputs": [
    {
     "data": {
      "text/html": [
       "<div>\n",
       "<style scoped>\n",
       "    .dataframe tbody tr th:only-of-type {\n",
       "        vertical-align: middle;\n",
       "    }\n",
       "\n",
       "    .dataframe tbody tr th {\n",
       "        vertical-align: top;\n",
       "    }\n",
       "\n",
       "    .dataframe thead th {\n",
       "        text-align: right;\n",
       "    }\n",
       "</style>\n",
       "<table border=\"1\" class=\"dataframe\">\n",
       "  <thead>\n",
       "    <tr style=\"text-align: right;\">\n",
       "      <th></th>\n",
       "      <th>ID</th>\n",
       "      <th>human_system_start_time</th>\n",
       "      <th>EVI</th>\n",
       "      <th>EVI_range</th>\n",
       "      <th>EVI_min</th>\n",
       "      <th>EVI_ratio</th>\n",
       "    </tr>\n",
       "  </thead>\n",
       "  <tbody>\n",
       "    <tr>\n",
       "      <th>0</th>\n",
       "      <td>100048_WSDA_SF_2017</td>\n",
       "      <td>2017-01-06</td>\n",
       "      <td>0.0</td>\n",
       "      <td>0.60247</td>\n",
       "      <td>0.0</td>\n",
       "      <td>0.0</td>\n",
       "    </tr>\n",
       "    <tr>\n",
       "      <th>1</th>\n",
       "      <td>100048_WSDA_SF_2017</td>\n",
       "      <td>2017-01-16</td>\n",
       "      <td>0.0</td>\n",
       "      <td>0.60247</td>\n",
       "      <td>0.0</td>\n",
       "      <td>0.0</td>\n",
       "    </tr>\n",
       "  </tbody>\n",
       "</table>\n",
       "</div>"
      ],
      "text/plain": [
       "                    ID human_system_start_time  EVI  EVI_range  EVI_min  \\\n",
       "0  100048_WSDA_SF_2017              2017-01-06  0.0    0.60247      0.0   \n",
       "1  100048_WSDA_SF_2017              2017-01-16  0.0    0.60247      0.0   \n",
       "\n",
       "   EVI_ratio  \n",
       "0        0.0  \n",
       "1        0.0  "
      ]
     },
     "execution_count": 14,
     "metadata": {},
     "output_type": "execute_result"
    }
   ],
   "source": [
    "ground_truth = pd.merge(ground_truth, _ranges, on=['ID'], how='left')\n",
    "ground_truth = pd.merge(ground_truth, mins, on=['ID'], how='left')\n",
    "ground_truth[\"EVI_ratio\"] = (ground_truth[\"EVI\"]-ground_truth[\"EVI_min\"])/ground_truth[\"EVI_range\"]\n",
    "ground_truth.head(2)"
   ]
  },
  {
   "cell_type": "code",
   "execution_count": 17,
   "id": "efdd83c9",
   "metadata": {},
   "outputs": [
    {
     "data": {
      "text/html": [
       "<div>\n",
       "<style scoped>\n",
       "    .dataframe tbody tr th:only-of-type {\n",
       "        vertical-align: middle;\n",
       "    }\n",
       "\n",
       "    .dataframe tbody tr th {\n",
       "        vertical-align: top;\n",
       "    }\n",
       "\n",
       "    .dataframe thead th {\n",
       "        text-align: right;\n",
       "    }\n",
       "</style>\n",
       "<table border=\"1\" class=\"dataframe\">\n",
       "  <thead>\n",
       "    <tr style=\"text-align: right;\">\n",
       "      <th></th>\n",
       "      <th>ID</th>\n",
       "      <th>EVI</th>\n",
       "    </tr>\n",
       "  </thead>\n",
       "  <tbody>\n",
       "    <tr>\n",
       "      <th>0</th>\n",
       "      <td>100048_WSDA_SF_2017</td>\n",
       "      <td>0.0</td>\n",
       "    </tr>\n",
       "    <tr>\n",
       "      <th>1</th>\n",
       "      <td>100048_WSDA_SF_2017</td>\n",
       "      <td>0.0</td>\n",
       "    </tr>\n",
       "  </tbody>\n",
       "</table>\n",
       "</div>"
      ],
      "text/plain": [
       "                    ID  EVI\n",
       "0  100048_WSDA_SF_2017  0.0\n",
       "1  100048_WSDA_SF_2017  0.0"
      ]
     },
     "execution_count": 17,
     "metadata": {},
     "output_type": "execute_result"
    }
   ],
   "source": [
    "ground_truth=ground_truth[[\"ID\", \"EVI_ratio\"]]\n",
    "ground_truth.rename(columns = {'EVI_ratio':'EVI'}, inplace = True)\n",
    "ground_truth.head(2)"
   ]
  },
  {
   "cell_type": "markdown",
   "id": "5cd47b7b",
   "metadata": {},
   "source": [
    "### Widen ground_truth"
   ]
  },
  {
   "cell_type": "code",
   "execution_count": 20,
   "id": "78d16494",
   "metadata": {},
   "outputs": [
    {
     "data": {
      "text/html": [
       "<div>\n",
       "<style scoped>\n",
       "    .dataframe tbody tr th:only-of-type {\n",
       "        vertical-align: middle;\n",
       "    }\n",
       "\n",
       "    .dataframe tbody tr th {\n",
       "        vertical-align: top;\n",
       "    }\n",
       "\n",
       "    .dataframe thead th {\n",
       "        text-align: right;\n",
       "    }\n",
       "</style>\n",
       "<table border=\"1\" class=\"dataframe\">\n",
       "  <thead>\n",
       "    <tr style=\"text-align: right;\">\n",
       "      <th></th>\n",
       "      <th>ID</th>\n",
       "      <th>EVI_1</th>\n",
       "      <th>EVI_2</th>\n",
       "      <th>EVI_3</th>\n",
       "      <th>EVI_4</th>\n",
       "      <th>EVI_5</th>\n",
       "      <th>EVI_6</th>\n",
       "      <th>EVI_7</th>\n",
       "      <th>EVI_8</th>\n",
       "      <th>EVI_9</th>\n",
       "      <th>...</th>\n",
       "      <th>EVI_27</th>\n",
       "      <th>EVI_28</th>\n",
       "      <th>EVI_29</th>\n",
       "      <th>EVI_30</th>\n",
       "      <th>EVI_31</th>\n",
       "      <th>EVI_32</th>\n",
       "      <th>EVI_33</th>\n",
       "      <th>EVI_34</th>\n",
       "      <th>EVI_35</th>\n",
       "      <th>EVI_36</th>\n",
       "    </tr>\n",
       "  </thead>\n",
       "  <tbody>\n",
       "    <tr>\n",
       "      <th>0</th>\n",
       "      <td>100048_WSDA_SF_2017</td>\n",
       "      <td>0.0</td>\n",
       "      <td>0.0</td>\n",
       "      <td>0.0</td>\n",
       "      <td>0.0</td>\n",
       "      <td>0.0</td>\n",
       "      <td>0.0</td>\n",
       "      <td>0.0</td>\n",
       "      <td>0.119885</td>\n",
       "      <td>0.14688</td>\n",
       "      <td>...</td>\n",
       "      <td>0.185084</td>\n",
       "      <td>0.198406</td>\n",
       "      <td>0.219895</td>\n",
       "      <td>0.101537</td>\n",
       "      <td>0.09269</td>\n",
       "      <td>0.083844</td>\n",
       "      <td>0.074997</td>\n",
       "      <td>0.06615</td>\n",
       "      <td>0.074966</td>\n",
       "      <td>0.083782</td>\n",
       "    </tr>\n",
       "    <tr>\n",
       "      <th>1</th>\n",
       "      <td>100081_WSDA_SF_2017</td>\n",
       "      <td>0.020551</td>\n",
       "      <td>0.231434</td>\n",
       "      <td>0.442317</td>\n",
       "      <td>0.6532</td>\n",
       "      <td>0.523936</td>\n",
       "      <td>0.394671</td>\n",
       "      <td>0.27498</td>\n",
       "      <td>0.402745</td>\n",
       "      <td>0.552051</td>\n",
       "      <td>...</td>\n",
       "      <td>0.134003</td>\n",
       "      <td>0.163373</td>\n",
       "      <td>0.220377</td>\n",
       "      <td>0.167899</td>\n",
       "      <td>0.083949</td>\n",
       "      <td>0.0</td>\n",
       "      <td>0.069282</td>\n",
       "      <td>0.138563</td>\n",
       "      <td>0.141695</td>\n",
       "      <td>0.144826</td>\n",
       "    </tr>\n",
       "  </tbody>\n",
       "</table>\n",
       "<p>2 rows × 37 columns</p>\n",
       "</div>"
      ],
      "text/plain": [
       "                    ID     EVI_1     EVI_2     EVI_3   EVI_4     EVI_5  \\\n",
       "0  100048_WSDA_SF_2017       0.0       0.0       0.0     0.0       0.0   \n",
       "1  100081_WSDA_SF_2017  0.020551  0.231434  0.442317  0.6532  0.523936   \n",
       "\n",
       "      EVI_6    EVI_7     EVI_8     EVI_9  ...    EVI_27    EVI_28    EVI_29  \\\n",
       "0       0.0      0.0  0.119885   0.14688  ...  0.185084  0.198406  0.219895   \n",
       "1  0.394671  0.27498  0.402745  0.552051  ...  0.134003  0.163373  0.220377   \n",
       "\n",
       "     EVI_30    EVI_31    EVI_32    EVI_33    EVI_34    EVI_35    EVI_36  \n",
       "0  0.101537   0.09269  0.083844  0.074997   0.06615  0.074966  0.083782  \n",
       "1  0.167899  0.083949       0.0  0.069282  0.138563  0.141695  0.144826  \n",
       "\n",
       "[2 rows x 37 columns]"
      ]
     },
     "execution_count": 20,
     "metadata": {},
     "output_type": "execute_result"
    }
   ],
   "source": [
    "EVI_colnames = [VI_idx + \"_\" + str(ii) for ii in range(1, 37) ]\n",
    "columnNames = [\"ID\"] + EVI_colnames\n",
    "ground_truth_wide = pd.DataFrame(columns=columnNames, \n",
    "                             index=range(len(ground_truth.ID.unique())))\n",
    "ground_truth_wide[\"ID\"] = ground_truth.ID.unique()\n",
    "\n",
    "for an_ID in ground_truth.ID.unique():\n",
    "    curr_df = ground_truth[ground_truth.ID==an_ID]\n",
    "    \n",
    "    ground_truth_wide_indx = ground_truth_wide[ground_truth_wide.ID==an_ID].index\n",
    "    ground_truth_wide.loc[ground_truth_wide_indx, \"EVI_1\":\"EVI_36\"] = curr_df.EVI.values[:36]\n",
    "ground_truth_wide.head(2)"
   ]
  },
  {
   "cell_type": "code",
   "execution_count": 21,
   "id": "6d2ab761",
   "metadata": {},
   "outputs": [
    {
     "data": {
      "text/html": [
       "<div>\n",
       "<style scoped>\n",
       "    .dataframe tbody tr th:only-of-type {\n",
       "        vertical-align: middle;\n",
       "    }\n",
       "\n",
       "    .dataframe tbody tr th {\n",
       "        vertical-align: top;\n",
       "    }\n",
       "\n",
       "    .dataframe thead th {\n",
       "        text-align: right;\n",
       "    }\n",
       "</style>\n",
       "<table border=\"1\" class=\"dataframe\">\n",
       "  <thead>\n",
       "    <tr style=\"text-align: right;\">\n",
       "      <th></th>\n",
       "      <th>ID</th>\n",
       "      <th>EVI_1</th>\n",
       "      <th>EVI_2</th>\n",
       "      <th>EVI_3</th>\n",
       "      <th>EVI_4</th>\n",
       "      <th>EVI_5</th>\n",
       "      <th>EVI_6</th>\n",
       "      <th>EVI_7</th>\n",
       "      <th>EVI_8</th>\n",
       "      <th>EVI_9</th>\n",
       "      <th>...</th>\n",
       "      <th>EVI_27</th>\n",
       "      <th>EVI_28</th>\n",
       "      <th>EVI_29</th>\n",
       "      <th>EVI_30</th>\n",
       "      <th>EVI_31</th>\n",
       "      <th>EVI_32</th>\n",
       "      <th>EVI_33</th>\n",
       "      <th>EVI_34</th>\n",
       "      <th>EVI_35</th>\n",
       "      <th>EVI_36</th>\n",
       "    </tr>\n",
       "  </thead>\n",
       "  <tbody>\n",
       "    <tr>\n",
       "      <th>0</th>\n",
       "      <td>100048_WSDA_SF_2017</td>\n",
       "      <td>0.0</td>\n",
       "      <td>0.0</td>\n",
       "      <td>0.0</td>\n",
       "      <td>0.0</td>\n",
       "      <td>0.0</td>\n",
       "      <td>0.0</td>\n",
       "      <td>0.0</td>\n",
       "      <td>0.119885</td>\n",
       "      <td>0.14688</td>\n",
       "      <td>...</td>\n",
       "      <td>0.185084</td>\n",
       "      <td>0.198406</td>\n",
       "      <td>0.219895</td>\n",
       "      <td>0.101537</td>\n",
       "      <td>0.09269</td>\n",
       "      <td>0.083844</td>\n",
       "      <td>0.074997</td>\n",
       "      <td>0.06615</td>\n",
       "      <td>0.074966</td>\n",
       "      <td>0.083782</td>\n",
       "    </tr>\n",
       "    <tr>\n",
       "      <th>1</th>\n",
       "      <td>100081_WSDA_SF_2017</td>\n",
       "      <td>0.020551</td>\n",
       "      <td>0.231434</td>\n",
       "      <td>0.442317</td>\n",
       "      <td>0.6532</td>\n",
       "      <td>0.523936</td>\n",
       "      <td>0.394671</td>\n",
       "      <td>0.27498</td>\n",
       "      <td>0.402745</td>\n",
       "      <td>0.552051</td>\n",
       "      <td>...</td>\n",
       "      <td>0.134003</td>\n",
       "      <td>0.163373</td>\n",
       "      <td>0.220377</td>\n",
       "      <td>0.167899</td>\n",
       "      <td>0.083949</td>\n",
       "      <td>0.0</td>\n",
       "      <td>0.069282</td>\n",
       "      <td>0.138563</td>\n",
       "      <td>0.141695</td>\n",
       "      <td>0.144826</td>\n",
       "    </tr>\n",
       "  </tbody>\n",
       "</table>\n",
       "<p>2 rows × 37 columns</p>\n",
       "</div>"
      ],
      "text/plain": [
       "                    ID     EVI_1     EVI_2     EVI_3   EVI_4     EVI_5  \\\n",
       "0  100048_WSDA_SF_2017       0.0       0.0       0.0     0.0       0.0   \n",
       "1  100081_WSDA_SF_2017  0.020551  0.231434  0.442317  0.6532  0.523936   \n",
       "\n",
       "      EVI_6    EVI_7     EVI_8     EVI_9  ...    EVI_27    EVI_28    EVI_29  \\\n",
       "0       0.0      0.0  0.119885   0.14688  ...  0.185084  0.198406  0.219895   \n",
       "1  0.394671  0.27498  0.402745  0.552051  ...  0.134003  0.163373  0.220377   \n",
       "\n",
       "     EVI_30    EVI_31    EVI_32    EVI_33    EVI_34    EVI_35    EVI_36  \n",
       "0  0.101537   0.09269  0.083844  0.074997   0.06615  0.074966  0.083782  \n",
       "1  0.167899  0.083949       0.0  0.069282  0.138563  0.141695  0.144826  \n",
       "\n",
       "[2 rows x 37 columns]"
      ]
     },
     "execution_count": 21,
     "metadata": {},
     "output_type": "execute_result"
    }
   ],
   "source": [
    "ground_truth_wide.head(2)"
   ]
  },
  {
   "cell_type": "code",
   "execution_count": 22,
   "id": "bf8ccf8a",
   "metadata": {},
   "outputs": [
    {
     "data": {
      "text/html": [
       "<div>\n",
       "<style scoped>\n",
       "    .dataframe tbody tr th:only-of-type {\n",
       "        vertical-align: middle;\n",
       "    }\n",
       "\n",
       "    .dataframe tbody tr th {\n",
       "        vertical-align: top;\n",
       "    }\n",
       "\n",
       "    .dataframe thead th {\n",
       "        text-align: right;\n",
       "    }\n",
       "</style>\n",
       "<table border=\"1\" class=\"dataframe\">\n",
       "  <thead>\n",
       "    <tr style=\"text-align: right;\">\n",
       "      <th></th>\n",
       "      <th>ID</th>\n",
       "      <th>Vote</th>\n",
       "    </tr>\n",
       "  </thead>\n",
       "  <tbody>\n",
       "    <tr>\n",
       "      <th>0</th>\n",
       "      <td>100048_WSDA_SF_2017</td>\n",
       "      <td>1</td>\n",
       "    </tr>\n",
       "    <tr>\n",
       "      <th>1</th>\n",
       "      <td>100081_WSDA_SF_2017</td>\n",
       "      <td>1</td>\n",
       "    </tr>\n",
       "  </tbody>\n",
       "</table>\n",
       "</div>"
      ],
      "text/plain": [
       "                    ID  Vote\n",
       "0  100048_WSDA_SF_2017     1\n",
       "1  100081_WSDA_SF_2017     1"
      ]
     },
     "execution_count": 22,
     "metadata": {},
     "output_type": "execute_result"
    }
   ],
   "source": [
    "ground_truth_labels.head(2)"
   ]
  },
  {
   "cell_type": "markdown",
   "id": "b6f8e381",
   "metadata": {},
   "source": [
    "### Sort the order of time-series and experts' labels identically"
   ]
  },
  {
   "cell_type": "code",
   "execution_count": 24,
   "id": "56e14808",
   "metadata": {},
   "outputs": [],
   "source": [
    "ground_truth_wide.sort_values(by=[\"ID\"], inplace=True)\n",
    "ground_truth_labels.sort_values(by=[\"ID\"], inplace=True)\n",
    "\n",
    "ground_truth.reset_index(drop=True, inplace=True)\n",
    "ground_truth_labels.reset_index(drop=True, inplace=True)\n",
    "\n",
    "# ground_truth_labels = ground_truth_labels.set_index('ID')\n",
    "# ground_truth_labels = ground_truth_labels.reindex(index=ground_truth_wide['ID'])\n",
    "# ground_truth_labels = ground_truth_labels.reset_index()\n",
    "\n",
    "(ground_truth_labels.ID==ground_truth_wide.ID).sum()"
   ]
  },
  {
   "cell_type": "markdown",
   "id": "43c16fe7",
   "metadata": {},
   "source": [
    "### Split"
   ]
  },
  {
   "cell_type": "code",
   "execution_count": 80,
   "id": "a6a2c627",
   "metadata": {},
   "outputs": [],
   "source": [
    "x_train_df, x_test_df, y_train_df, y_test_df = train_test_split(ground_truth_wide, \n",
    "                                                                ground_truth_labels, \n",
    "                                                                test_size=0.2, \n",
    "                                                                random_state=0,\n",
    "                                                                shuffle=True)"
   ]
  },
  {
   "cell_type": "code",
   "execution_count": 81,
   "id": "4ffff05f",
   "metadata": {},
   "outputs": [
    {
     "name": "stdout",
     "output_type": "stream",
     "text": [
      "True\n",
      "True\n"
     ]
    }
   ],
   "source": [
    "print ((x_train_df.ID==y_train_df.ID).sum()==len(x_train_df.ID.unique()))\n",
    "print ((x_test_df.ID==y_test_df.ID).sum()==len(y_test_df.ID.unique()))"
   ]
  },
  {
   "cell_type": "code",
   "execution_count": 82,
   "id": "1693c35e",
   "metadata": {},
   "outputs": [],
   "source": [
    "# random_state is used for solver == ‘sag’, ‘saga’ or ‘liblinear’\n",
    "logisticRegr = LogisticRegression(max_iter=100000, random_state=0); \n",
    "logisticRegr.fit(x_train_df.iloc[:, 1:], y_train_df.Vote.values);"
   ]
  },
  {
   "cell_type": "code",
   "execution_count": 83,
   "id": "ff3b7f28",
   "metadata": {},
   "outputs": [
    {
     "name": "stdout",
     "output_type": "stream",
     "text": [
      "prediction is [1].\n"
     ]
    },
    {
     "data": {
      "image/png": "[encoded data removed]",
      "text/plain": [
       "<Figure size 1440x288 with 1 Axes>"
      ]
     },
     "metadata": {
      "needs_background": "light"
     },
     "output_type": "display_data"
    }
   ],
   "source": [
    "# Returns a NumPy Array\n",
    "# Predict for One Observation (image)\n",
    "test_index = 0\n",
    "ID = x_test_df.iloc[test_index,].ID\n",
    "prediction = logisticRegr.predict(x_test_df.iloc[test_index, 1:].values.reshape(1,-1))\n",
    "print (\"prediction is {}.\".format(prediction))\n",
    "\n",
    "######################################################\n",
    "plt.figure(figsize=(20,4))\n",
    "plt.subplot(1, 1, 1)\n",
    "\n",
    "proper_index = x_test_df.index[test_index]\n",
    "plt.scatter(range(len(x_test_df.loc[proper_index, \"EVI_1\":\"EVI_36\"])),\n",
    "            x_test_df.loc[proper_index, \"EVI_1\":\"EVI_36\"].values,\n",
    "            marker='o', s=65, c='b', label=VI_idx);\n",
    "plt.ylim([-0.2, 1.1])\n",
    "\n",
    "curr_V = str(y_test_df[y_test_df.ID == ID].Vote.values[0])\n",
    "title = ID + \", prediction is \" + str(prediction) + \", and label is [\" + curr_V + \"].\"\n",
    "plt.title(title , fontsize = 20);"
   ]
  },
  {
   "cell_type": "code",
   "execution_count": 84,
   "id": "6ba0faaf",
   "metadata": {},
   "outputs": [
    {
     "data": {
      "text/html": [
       "<div>\n",
       "<style scoped>\n",
       "    .dataframe tbody tr th:only-of-type {\n",
       "        vertical-align: middle;\n",
       "    }\n",
       "\n",
       "    .dataframe tbody tr th {\n",
       "        vertical-align: top;\n",
       "    }\n",
       "\n",
       "    .dataframe thead th {\n",
       "        text-align: right;\n",
       "    }\n",
       "</style>\n",
       "<table border=\"1\" class=\"dataframe\">\n",
       "  <thead>\n",
       "    <tr style=\"text-align: right;\">\n",
       "      <th></th>\n",
       "      <th>None</th>\n",
       "      <th>Predict_Single</th>\n",
       "      <th>Predict_Double</th>\n",
       "    </tr>\n",
       "  </thead>\n",
       "  <tbody>\n",
       "    <tr>\n",
       "      <th>0</th>\n",
       "      <td>Actual_Single</td>\n",
       "      <td>306</td>\n",
       "      <td>6</td>\n",
       "    </tr>\n",
       "    <tr>\n",
       "      <th>1</th>\n",
       "      <td>Actual_Double</td>\n",
       "      <td>25</td>\n",
       "      <td>33</td>\n",
       "    </tr>\n",
       "  </tbody>\n",
       "</table>\n",
       "</div>"
      ],
      "text/plain": [
       "            None  Predict_Single  Predict_Double\n",
       "0  Actual_Single             306               6\n",
       "1  Actual_Double              25              33"
      ]
     },
     "execution_count": 84,
     "metadata": {},
     "output_type": "execute_result"
    }
   ],
   "source": [
    "confusion_table = pd.DataFrame(columns=['None', 'Predict_Single', 'Predict_Double'], index=range(2))\n",
    "confusion_table.loc[0, 'None'] = 'Actual_Single'\n",
    "confusion_table.loc[1, 'None'] = 'Actual_Double'\n",
    "confusion_table['Predict_Single']=0\n",
    "confusion_table['Predict_Double']=0\n",
    "\n",
    "actual_double_predicted_single=[]\n",
    "\n",
    "for integer_idx in range(len(x_test_df.index)):\n",
    "    ID = x_test_df.iloc[integer_idx,].ID\n",
    "\n",
    "\n",
    "    prediction = logisticRegr.predict(x_test_df.iloc[integer_idx, 1:].values.reshape(1,-1))\n",
    "    prediction = prediction[0]\n",
    "    curr_V = y_test_df[y_test_df.ID == ID].Vote.values[0]\n",
    "    \n",
    "    if prediction==curr_V==1:\n",
    "        confusion_table.loc[0, \"Predict_Single\"]+=1\n",
    "    elif prediction==curr_V==2:\n",
    "        confusion_table.loc[1, \"Predict_Double\"]+=1\n",
    "    \n",
    "    elif prediction!=curr_V:\n",
    "        if prediction==1:\n",
    "            confusion_table.loc[1, \"Predict_Single\"]+=1\n",
    "            actual_double_predicted_single += [ID]\n",
    "        elif prediction==2:\n",
    "            confusion_table.loc[0, \"Predict_Double\"]+=1\n",
    "            \n",
    "\n",
    "confusion_table"
   ]
  },
  {
   "cell_type": "markdown",
   "id": "09e7aa10",
   "metadata": {},
   "source": [
    "### Stratify split"
   ]
  },
  {
   "cell_type": "code",
   "execution_count": 85,
   "id": "21f2202e",
   "metadata": {},
   "outputs": [],
   "source": [
    "A = x_train_df.copy()"
   ]
  },
  {
   "cell_type": "code",
   "execution_count": 86,
   "id": "270c26e0",
   "metadata": {},
   "outputs": [],
   "source": [
    "# split the train and test set randomly\n",
    "x_train_df, x_test_df, y_train_df, y_test_df = train_test_split(ground_truth_wide, \n",
    "                                                                ground_truth_labels, \n",
    "                                                                test_size=0.2, \n",
    "                                                                random_state=0,\n",
    "                                                                shuffle=True,\n",
    "                                                                stratify=ground_truth_labels.Vote.values)"
   ]
  },
  {
   "cell_type": "code",
   "execution_count": 87,
   "id": "f1e3c4e8",
   "metadata": {},
   "outputs": [
    {
     "data": {
      "text/plain": [
       "False"
      ]
     },
     "execution_count": 87,
     "metadata": {},
     "output_type": "execute_result"
    }
   ],
   "source": [
    "sorted(A.ID)==sorted(x_train_df.ID)"
   ]
  },
  {
   "cell_type": "code",
   "execution_count": 88,
   "id": "3404804d",
   "metadata": {},
   "outputs": [],
   "source": [
    "# random_state is used for solver == ‘sag’, ‘saga’ or ‘liblinear’\n",
    "logisticRegr_stratified = LogisticRegression(max_iter=100000, random_state=0); \n",
    "logisticRegr_stratified.fit(x_train_df.iloc[:, 1:], y_train_df.Vote.values);"
   ]
  },
  {
   "cell_type": "code",
   "execution_count": 89,
   "id": "ab353b2f",
   "metadata": {},
   "outputs": [
    {
     "data": {
      "text/html": [
       "<div>\n",
       "<style scoped>\n",
       "    .dataframe tbody tr th:only-of-type {\n",
       "        vertical-align: middle;\n",
       "    }\n",
       "\n",
       "    .dataframe tbody tr th {\n",
       "        vertical-align: top;\n",
       "    }\n",
       "\n",
       "    .dataframe thead th {\n",
       "        text-align: right;\n",
       "    }\n",
       "</style>\n",
       "<table border=\"1\" class=\"dataframe\">\n",
       "  <thead>\n",
       "    <tr style=\"text-align: right;\">\n",
       "      <th></th>\n",
       "      <th>None</th>\n",
       "      <th>Predict_Single</th>\n",
       "      <th>Predict_Double</th>\n",
       "    </tr>\n",
       "  </thead>\n",
       "  <tbody>\n",
       "    <tr>\n",
       "      <th>0</th>\n",
       "      <td>Actual_Single</td>\n",
       "      <td>306</td>\n",
       "      <td>6</td>\n",
       "    </tr>\n",
       "    <tr>\n",
       "      <th>1</th>\n",
       "      <td>Actual_Double</td>\n",
       "      <td>25</td>\n",
       "      <td>33</td>\n",
       "    </tr>\n",
       "  </tbody>\n",
       "</table>\n",
       "</div>"
      ],
      "text/plain": [
       "            None  Predict_Single  Predict_Double\n",
       "0  Actual_Single             306               6\n",
       "1  Actual_Double              25              33"
      ]
     },
     "execution_count": 89,
     "metadata": {},
     "output_type": "execute_result"
    }
   ],
   "source": [
    "confusion_table = pd.DataFrame(columns=['None', 'Predict_Single', 'Predict_Double'], index=range(2))\n",
    "confusion_table.loc[0, 'None'] = 'Actual_Single'\n",
    "confusion_table.loc[1, 'None'] = 'Actual_Double'\n",
    "confusion_table['Predict_Single']=0\n",
    "confusion_table['Predict_Double']=0\n",
    "\n",
    "actual_double_predicted_single=[]\n",
    "\n",
    "for integer_idx in range(len(x_test_df.index)):\n",
    "    ID = x_test_df.iloc[integer_idx,].ID\n",
    "\n",
    "\n",
    "    prediction = logisticRegr_stratified.predict(x_test_df.iloc[integer_idx, 1:].values.reshape(1,-1))\n",
    "    prediction = prediction[0]\n",
    "    curr_V = y_test_df[y_test_df.ID == ID].Vote.values[0]\n",
    "    \n",
    "    if prediction==curr_V==1:\n",
    "        confusion_table.loc[0, \"Predict_Single\"]+=1\n",
    "    elif prediction==curr_V==2:\n",
    "        confusion_table.loc[1, \"Predict_Double\"]+=1\n",
    "    \n",
    "    elif prediction!=curr_V:\n",
    "        if prediction==1:\n",
    "            confusion_table.loc[1, \"Predict_Single\"]+=1\n",
    "            actual_double_predicted_single += [ID]\n",
    "        elif prediction==2:\n",
    "            confusion_table.loc[0, \"Predict_Double\"]+=1\n",
    "            \n",
    "\n",
    "confusion_table"
   ]
  }
 ],
 "metadata": {
  "kernelspec": {
   "display_name": "GEE",
   "language": "python",
   "name": "gee"
  },
  "language_info": {
   "codemirror_mode": {
    "name": "ipython",
    "version": 3
   },
   "file_extension": ".py",
   "mimetype": "text/x-python",
   "name": "python",
   "nbconvert_exporter": "python",
   "pygments_lexer": "ipython3",
   "version": "3.9.7"
  }
 },
 "nbformat": 4,
 "nbformat_minor": 5
}
