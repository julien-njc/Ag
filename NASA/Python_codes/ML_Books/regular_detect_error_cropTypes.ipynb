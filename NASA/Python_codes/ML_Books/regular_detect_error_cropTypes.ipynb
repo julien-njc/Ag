{
 "cells": [
  {
   "cell_type": "code",
   "execution_count": 1,
   "id": "0991e41c",
   "metadata": {},
   "outputs": [],
   "source": [
    "import numpy as np\n",
    "import pandas as pd\n",
    "import scipy, scipy.signal\n",
    "\n",
    "from datetime import date\n",
    "import time\n",
    "\n",
    "import random\n",
    "from random import seed\n",
    "from random import random\n",
    "\n",
    "import os, os.path\n",
    "import shutil\n",
    "\n",
    "from sklearn.model_selection import train_test_split\n",
    "from sklearn.linear_model import LogisticRegression\n",
    "\n",
    "from sklearn.neighbors import KNeighborsClassifier\n",
    "from sklearn.model_selection import GridSearchCV\n",
    "from sklearn.metrics import classification_report\n",
    "\n",
    "import matplotlib\n",
    "import matplotlib.pyplot as plt\n",
    "from pylab import imshow\n",
    "\n",
    "import h5py\n",
    "import pickle\n",
    "import sys\n"
   ]
  },
  {
   "cell_type": "code",
   "execution_count": 2,
   "id": "52d97987",
   "metadata": {},
   "outputs": [],
   "source": [
    "sys.path.append('/Users/hn/Documents/00_GitHub/Ag/NASA/Python_codes/')\n",
    "import NASA_core as nc\n",
    "# import NASA_plot_core.py as rcp"
   ]
  },
  {
   "cell_type": "code",
   "execution_count": 3,
   "id": "56e6c338",
   "metadata": {},
   "outputs": [],
   "source": [
    "from tslearn.metrics import dtw as dtw_metric\n",
    "\n",
    "# https://dtaidistance.readthedocs.io/en/latest/usage/dtw.html\n",
    "from dtaidistance import dtw\n",
    "from dtaidistance import dtw_visualisation as dtwvis"
   ]
  },
  {
   "cell_type": "code",
   "execution_count": 4,
   "id": "479e2573",
   "metadata": {},
   "outputs": [
    {
     "name": "stdout",
     "output_type": "stream",
     "text": [
      "(6340, 8)\n",
      "(3539, 8)\n"
     ]
    },
    {
     "data": {
      "text/html": [
       "<div>\n",
       "<style scoped>\n",
       "    .dataframe tbody tr th:only-of-type {\n",
       "        vertical-align: middle;\n",
       "    }\n",
       "\n",
       "    .dataframe tbody tr th {\n",
       "        vertical-align: top;\n",
       "    }\n",
       "\n",
       "    .dataframe thead th {\n",
       "        text-align: right;\n",
       "    }\n",
       "</style>\n",
       "<table border=\"1\" class=\"dataframe\">\n",
       "  <thead>\n",
       "    <tr style=\"text-align: right;\">\n",
       "      <th></th>\n",
       "      <th>ID</th>\n",
       "      <th>CropTyp</th>\n",
       "      <th>Irrigtn</th>\n",
       "      <th>DataSrc</th>\n",
       "      <th>Acres</th>\n",
       "      <th>ExctAcr</th>\n",
       "      <th>LstSrvD</th>\n",
       "      <th>county</th>\n",
       "    </tr>\n",
       "  </thead>\n",
       "  <tbody>\n",
       "    <tr>\n",
       "      <th>0</th>\n",
       "      <td>100010_WSDA_SF_2017</td>\n",
       "      <td>alfalfa hay</td>\n",
       "      <td>center pivot</td>\n",
       "      <td>wsda</td>\n",
       "      <td>34</td>\n",
       "      <td>34.310305</td>\n",
       "      <td>2017/09/12</td>\n",
       "      <td>Grant</td>\n",
       "    </tr>\n",
       "    <tr>\n",
       "      <th>1</th>\n",
       "      <td>100204_WSDA_SF_2017</td>\n",
       "      <td>alfalfa hay</td>\n",
       "      <td>center pivot</td>\n",
       "      <td>wsda</td>\n",
       "      <td>62</td>\n",
       "      <td>61.826535</td>\n",
       "      <td>2017/08/09</td>\n",
       "      <td>Grant</td>\n",
       "    </tr>\n",
       "  </tbody>\n",
       "</table>\n",
       "</div>"
      ],
      "text/plain": [
       "                    ID      CropTyp       Irrigtn DataSrc  Acres    ExctAcr  \\\n",
       "0  100010_WSDA_SF_2017  alfalfa hay  center pivot    wsda     34  34.310305   \n",
       "1  100204_WSDA_SF_2017  alfalfa hay  center pivot    wsda     62  61.826535   \n",
       "\n",
       "      LstSrvD county  \n",
       "0  2017/09/12  Grant  \n",
       "1  2017/08/09  Grant  "
      ]
     },
     "execution_count": 4,
     "metadata": {},
     "output_type": "execute_result"
    }
   ],
   "source": [
    "meta_dir = \"/Users/hn/Documents/01_research_data/NASA/parameters/\"\n",
    "meta = pd.read_csv(meta_dir+\"evaluation_set.csv\")\n",
    "meta_moreThan10Acr=meta[meta.ExctAcr>10]\n",
    "print (meta.shape)\n",
    "print (meta_moreThan10Acr.shape)\n",
    "meta.head(2)"
   ]
  },
  {
   "cell_type": "code",
   "execution_count": 5,
   "id": "3feba242",
   "metadata": {},
   "outputs": [],
   "source": [
    "# Read Training Set Labels"
   ]
  },
  {
   "cell_type": "code",
   "execution_count": 6,
   "id": "50e61a17",
   "metadata": {},
   "outputs": [
    {
     "name": "stdout",
     "output_type": "stream",
     "text": [
      "Unique Votes:  [2 1]\n",
      "1849\n"
     ]
    },
    {
     "data": {
      "text/html": [
       "<div>\n",
       "<style scoped>\n",
       "    .dataframe tbody tr th:only-of-type {\n",
       "        vertical-align: middle;\n",
       "    }\n",
       "\n",
       "    .dataframe tbody tr th {\n",
       "        vertical-align: top;\n",
       "    }\n",
       "\n",
       "    .dataframe thead th {\n",
       "        text-align: right;\n",
       "    }\n",
       "</style>\n",
       "<table border=\"1\" class=\"dataframe\">\n",
       "  <thead>\n",
       "    <tr style=\"text-align: right;\">\n",
       "      <th></th>\n",
       "      <th>ID</th>\n",
       "      <th>Vote</th>\n",
       "    </tr>\n",
       "  </thead>\n",
       "  <tbody>\n",
       "    <tr>\n",
       "      <th>0</th>\n",
       "      <td>99837_WSDA_SF_2017</td>\n",
       "      <td>2</td>\n",
       "    </tr>\n",
       "    <tr>\n",
       "      <th>1</th>\n",
       "      <td>114615_WSDA_SF_2017</td>\n",
       "      <td>1</td>\n",
       "    </tr>\n",
       "  </tbody>\n",
       "</table>\n",
       "</div>"
      ],
      "text/plain": [
       "                    ID  Vote\n",
       "0   99837_WSDA_SF_2017     2\n",
       "1  114615_WSDA_SF_2017     1"
      ]
     },
     "execution_count": 6,
     "metadata": {},
     "output_type": "execute_result"
    }
   ],
   "source": [
    "training_set_dir = \"/Users/hn/Documents/01_research_data/NASA/ML_data/\"\n",
    "ground_truth_labels = pd.read_csv(training_set_dir+\"train_labels.csv\")\n",
    "print (\"Unique Votes: \", ground_truth_labels.Vote.unique())\n",
    "print (len(ground_truth_labels.ID.unique()))\n",
    "ground_truth_labels.head(2)"
   ]
  },
  {
   "cell_type": "code",
   "execution_count": 8,
   "id": "fb4e2caa",
   "metadata": {},
   "outputs": [],
   "source": [
    "VI_idx=\"EVI\""
   ]
  },
  {
   "cell_type": "markdown",
   "id": "0a41d3da",
   "metadata": {},
   "source": [
    "# Read the Data"
   ]
  },
  {
   "cell_type": "code",
   "execution_count": 9,
   "id": "d5043f0a",
   "metadata": {},
   "outputs": [
    {
     "data": {
      "text/html": [
       "<div>\n",
       "<style scoped>\n",
       "    .dataframe tbody tr th:only-of-type {\n",
       "        vertical-align: middle;\n",
       "    }\n",
       "\n",
       "    .dataframe tbody tr th {\n",
       "        vertical-align: top;\n",
       "    }\n",
       "\n",
       "    .dataframe thead th {\n",
       "        text-align: right;\n",
       "    }\n",
       "</style>\n",
       "<table border=\"1\" class=\"dataframe\">\n",
       "  <thead>\n",
       "    <tr style=\"text-align: right;\">\n",
       "      <th></th>\n",
       "      <th>ID</th>\n",
       "      <th>human_system_start_time</th>\n",
       "      <th>EVI</th>\n",
       "    </tr>\n",
       "  </thead>\n",
       "  <tbody>\n",
       "    <tr>\n",
       "      <th>0</th>\n",
       "      <td>135073_WSDA_SF_2015</td>\n",
       "      <td>2015-01-10</td>\n",
       "      <td>0.054429</td>\n",
       "    </tr>\n",
       "    <tr>\n",
       "      <th>1</th>\n",
       "      <td>135073_WSDA_SF_2015</td>\n",
       "      <td>2015-01-20</td>\n",
       "      <td>0.051731</td>\n",
       "    </tr>\n",
       "  </tbody>\n",
       "</table>\n",
       "</div>"
      ],
      "text/plain": [
       "                    ID human_system_start_time       EVI\n",
       "0  135073_WSDA_SF_2015              2015-01-10  0.054429\n",
       "1  135073_WSDA_SF_2015              2015-01-20  0.051731"
      ]
     },
     "execution_count": 9,
     "metadata": {},
     "output_type": "execute_result"
    }
   ],
   "source": [
    "SG_data_dir = \"/Users/hn/Documents/01_research_data/NASA/VI_TS/05_SG_TS/\"\n",
    "file_names = [\"SG_Walla2015_\" + VI_idx + \"_JFD.csv\", \"SG_AdamBenton2016_\" + VI_idx + \"_JFD.csv\", \n",
    "              \"SG_Grant2017_\" + VI_idx + \"_JFD.csv\", \"SG_FranklinYakima2018_\"+ VI_idx +\"_JFD.csv\"]\n",
    "\n",
    "SG_data_4_plot=pd.DataFrame()\n",
    "\n",
    "for file in file_names:\n",
    "    curr_file=pd.read_csv(SG_data_dir + file)\n",
    "    curr_file['human_system_start_time'] = pd.to_datetime(curr_file['human_system_start_time'])\n",
    "    \n",
    "    # These data are for 3 years. The middle one is the correct one\n",
    "    all_years = sorted(curr_file.human_system_start_time.dt.year.unique())\n",
    "    if len(all_years)==3 or len(all_years)==2:\n",
    "        proper_year = all_years[1]\n",
    "    elif len(all_years)==1:\n",
    "        proper_year = all_years[0]\n",
    "\n",
    "    curr_file = curr_file[curr_file.human_system_start_time.dt.year==proper_year]\n",
    "    SG_data_4_plot=pd.concat([SG_data_4_plot, curr_file])\n",
    "\n",
    "SG_data_4_plot.reset_index(drop=True, inplace=True)\n",
    "SG_data_4_plot.head(2)"
   ]
  },
  {
   "cell_type": "code",
   "execution_count": 13,
   "id": "be206240",
   "metadata": {},
   "outputs": [],
   "source": [
    "landsat_dir = \"/Users/hn/Documents/01_research_data/NASA/VI_TS/data_for_train_individual_counties/\"\n",
    "landsat_fNames = [x for x in os.listdir(landsat_dir) if x.endswith(\".csv\")]\n",
    "\n",
    "landsat_DF = pd.DataFrame()\n",
    "for fName in landsat_fNames:\n",
    "    curr = pd.read_csv(landsat_dir+fName)\n",
    "    curr.dropna(subset=[VI_idx], inplace=True)\n",
    "    landsat_DF=pd.concat([landsat_DF, curr])"
   ]
  },
  {
   "cell_type": "code",
   "execution_count": null,
   "id": "c5fdc7b7",
   "metadata": {},
   "outputs": [],
   "source": []
  },
  {
   "cell_type": "code",
   "execution_count": 14,
   "id": "c5d6e9f0",
   "metadata": {},
   "outputs": [
    {
     "data": {
      "text/html": [
       "<div>\n",
       "<style scoped>\n",
       "    .dataframe tbody tr th:only-of-type {\n",
       "        vertical-align: middle;\n",
       "    }\n",
       "\n",
       "    .dataframe tbody tr th {\n",
       "        vertical-align: top;\n",
       "    }\n",
       "\n",
       "    .dataframe thead th {\n",
       "        text-align: right;\n",
       "    }\n",
       "</style>\n",
       "<table border=\"1\" class=\"dataframe\">\n",
       "  <thead>\n",
       "    <tr style=\"text-align: right;\">\n",
       "      <th></th>\n",
       "      <th>ID</th>\n",
       "      <th>human_system_start_time</th>\n",
       "      <th>EVI</th>\n",
       "    </tr>\n",
       "  </thead>\n",
       "  <tbody>\n",
       "    <tr>\n",
       "      <th>0</th>\n",
       "      <td>135073_WSDA_SF_2015</td>\n",
       "      <td>2015-01-10</td>\n",
       "      <td>0.049624</td>\n",
       "    </tr>\n",
       "    <tr>\n",
       "      <th>1</th>\n",
       "      <td>135073_WSDA_SF_2015</td>\n",
       "      <td>2015-01-20</td>\n",
       "      <td>0.026503</td>\n",
       "    </tr>\n",
       "  </tbody>\n",
       "</table>\n",
       "</div>"
      ],
      "text/plain": [
       "                    ID human_system_start_time       EVI\n",
       "0  135073_WSDA_SF_2015              2015-01-10  0.049624\n",
       "1  135073_WSDA_SF_2015              2015-01-20  0.026503"
      ]
     },
     "execution_count": 14,
     "metadata": {},
     "output_type": "execute_result"
    }
   ],
   "source": [
    "data_dir = \"/Users/hn/Documents/01_research_data/NASA/VI_TS/04_regularized_TS/\"\n",
    "file_names = [\"regular_Walla2015_\" + VI_idx + \"_JFD.csv\", \n",
    "              \"regular_AdamBenton2016_\" + VI_idx + \"_JFD.csv\", \n",
    "              \"regular_Grant2017_\" + VI_idx + \"_JFD.csv\", \n",
    "              \"regular_FranklinYakima2018_\"+ VI_idx +\"_JFD.csv\"]\n",
    "\n",
    "data=pd.DataFrame()\n",
    "\n",
    "for file in file_names:\n",
    "    curr_file=pd.read_csv(data_dir + file)\n",
    "    curr_file['human_system_start_time'] = pd.to_datetime(curr_file['human_system_start_time'])\n",
    "    \n",
    "    # These data are for 3 years. The middle one is the correct one\n",
    "    all_years = sorted(curr_file.human_system_start_time.dt.year.unique())\n",
    "    if len(all_years)==3 or len(all_years)==2:\n",
    "        proper_year = all_years[1]\n",
    "    elif len(all_years)==1:\n",
    "        proper_year = all_years[0]\n",
    "\n",
    "    curr_file = curr_file[curr_file.human_system_start_time.dt.year==proper_year]\n",
    "    data=pd.concat([data, curr_file])\n",
    "\n",
    "data.reset_index(drop=True, inplace=True)\n",
    "data.head(2)"
   ]
  },
  {
   "cell_type": "code",
   "execution_count": 15,
   "id": "37829580",
   "metadata": {},
   "outputs": [],
   "source": [
    "ground_truth = data[data.ID.isin(list(ground_truth_labels.ID.unique()))].copy()"
   ]
  },
  {
   "cell_type": "markdown",
   "id": "53412288",
   "metadata": {},
   "source": [
    "# Toss small fields"
   ]
  },
  {
   "cell_type": "code",
   "execution_count": 16,
   "id": "37c61d2e",
   "metadata": {},
   "outputs": [
    {
     "name": "stdout",
     "output_type": "stream",
     "text": [
      "There are [1849] fields in total whosearea adds up to [85573.68].\n",
      "There are [1342] fields larger than 10 acres whosearea adds up to [83430.79].\n"
     ]
    }
   ],
   "source": [
    "ground_truth_labels_extended = pd.merge(ground_truth_labels, meta, on=['ID'], how='left')\n",
    "ground_truth_labels = ground_truth_labels_extended[ground_truth_labels_extended.ExctAcr>=10].copy()\n",
    "ground_truth_labels.reset_index(drop=True, inplace=True)\n",
    "\n",
    "print (\"There are [{:.0f}] fields in total whose\"\\\n",
    "       \"area adds up to [{:.2f}].\".format(len(ground_truth_labels_extended), \\\n",
    "                                              ground_truth_labels_extended.ExctAcr.sum()))\n",
    "\n",
    "\n",
    "print (\"There are [{:.0f}] fields larger than 10 acres whose\"\\\n",
    "       \"area adds up to [{:.2f}].\".format(len(ground_truth_labels), \\\n",
    "                                            ground_truth_labels.ExctAcr.sum()))\n"
   ]
  },
  {
   "cell_type": "code",
   "execution_count": 17,
   "id": "ddf8f623",
   "metadata": {},
   "outputs": [],
   "source": [
    "ground_truth = ground_truth[ground_truth.ID.isin((list(meta_moreThan10Acr.ID)))].copy()\n",
    "ground_truth_labels = ground_truth_labels[ground_truth_labels.ID.isin((list(meta_moreThan10Acr.ID)))].copy()\n",
    "\n",
    "ground_truth.reset_index(drop=True, inplace=True)\n",
    "ground_truth_labels.reset_index(drop=True, inplace=True)"
   ]
  },
  {
   "cell_type": "markdown",
   "id": "e10a94e0",
   "metadata": {},
   "source": [
    "# Sort the order of time-series and experts' labels identically"
   ]
  },
  {
   "cell_type": "code",
   "execution_count": 18,
   "id": "886abeff",
   "metadata": {},
   "outputs": [
    {
     "name": "stdout",
     "output_type": "stream",
     "text": [
      "100048_WSDA_SF_2017\n",
      "100048_WSDA_SF_2017\n",
      "____________________________________\n",
      "99909_WSDA_SF_2017\n",
      "99909_WSDA_SF_2017\n",
      "____________________________________\n",
      "True\n"
     ]
    }
   ],
   "source": [
    "ground_truth.sort_values(by=[\"ID\", 'human_system_start_time'], inplace=True)\n",
    "ground_truth_labels.sort_values(by=[\"ID\"], inplace=True)\n",
    "\n",
    "ground_truth.reset_index(drop=True, inplace=True)\n",
    "ground_truth_labels.reset_index(drop=True, inplace=True)\n",
    "\n",
    "assert (len(ground_truth.ID.unique()) == len(ground_truth_labels.ID.unique()))\n",
    "\n",
    "print (list(ground_truth.ID)[0])\n",
    "print (list(ground_truth_labels.ID)[0])\n",
    "print (\"____________________________________\")\n",
    "print (list(ground_truth.ID)[-1])\n",
    "print (list(ground_truth_labels.ID)[-1])\n",
    "print (\"____________________________________\")\n",
    "print (list(ground_truth.ID.unique())==list(ground_truth_labels.ID.unique()))"
   ]
  },
  {
   "cell_type": "markdown",
   "id": "b73d1520",
   "metadata": {},
   "source": [
    "# Widen Ground Truth Table"
   ]
  },
  {
   "cell_type": "code",
   "execution_count": 19,
   "id": "3d022a78",
   "metadata": {},
   "outputs": [],
   "source": [
    "EVI_colnames = [VI_idx + \"_\" + str(ii) for ii in range(1, 37) ]\n",
    "columnNames = [\"ID\"] + EVI_colnames\n",
    "ground_truth_wide = pd.DataFrame(columns=columnNames, \n",
    "                                index=range(len(ground_truth.ID.unique())))\n",
    "ground_truth_wide[\"ID\"] = ground_truth.ID.unique()\n",
    "\n",
    "for an_ID in ground_truth.ID.unique():\n",
    "    curr_df = ground_truth[ground_truth.ID==an_ID]\n",
    "    \n",
    "    ground_truth_wide_indx = ground_truth_wide[ground_truth_wide.ID==an_ID].index\n",
    "    ground_truth_wide.loc[ground_truth_wide_indx, \"EVI_1\":\"EVI_36\"] = curr_df.EVI.values[:36]"
   ]
  },
  {
   "cell_type": "markdown",
   "id": "a7d81890",
   "metadata": {},
   "source": [
    "# Split Train and Test Set\n",
    "\n",
    "#### Make sure rows of ```ground_truth_allBands``` and ```ground_truth_labels``` are in the same order"
   ]
  },
  {
   "cell_type": "code",
   "execution_count": 20,
   "id": "1f78c0d6",
   "metadata": {},
   "outputs": [],
   "source": [
    "ground_truth_labels = ground_truth_labels.set_index('ID')\n",
    "ground_truth_labels = ground_truth_labels.reindex(index=ground_truth_wide['ID'])\n",
    "ground_truth_labels = ground_truth_labels.reset_index()"
   ]
  },
  {
   "cell_type": "code",
   "execution_count": 21,
   "id": "a84bd706",
   "metadata": {},
   "outputs": [
    {
     "name": "stdout",
     "output_type": "stream",
     "text": [
      "10.0708703567\n"
     ]
    },
    {
     "data": {
      "text/html": [
       "<div>\n",
       "<style scoped>\n",
       "    .dataframe tbody tr th:only-of-type {\n",
       "        vertical-align: middle;\n",
       "    }\n",
       "\n",
       "    .dataframe tbody tr th {\n",
       "        vertical-align: top;\n",
       "    }\n",
       "\n",
       "    .dataframe thead th {\n",
       "        text-align: right;\n",
       "    }\n",
       "</style>\n",
       "<table border=\"1\" class=\"dataframe\">\n",
       "  <thead>\n",
       "    <tr style=\"text-align: right;\">\n",
       "      <th></th>\n",
       "      <th>ID</th>\n",
       "      <th>Vote</th>\n",
       "      <th>CropTyp</th>\n",
       "      <th>Irrigtn</th>\n",
       "      <th>DataSrc</th>\n",
       "      <th>Acres</th>\n",
       "      <th>ExctAcr</th>\n",
       "      <th>LstSrvD</th>\n",
       "      <th>county</th>\n",
       "    </tr>\n",
       "  </thead>\n",
       "  <tbody>\n",
       "    <tr>\n",
       "      <th>0</th>\n",
       "      <td>100048_WSDA_SF_2017</td>\n",
       "      <td>1</td>\n",
       "      <td>bean, green</td>\n",
       "      <td>rill</td>\n",
       "      <td>wsda</td>\n",
       "      <td>18</td>\n",
       "      <td>18.033240</td>\n",
       "      <td>2017/05/14</td>\n",
       "      <td>Grant</td>\n",
       "    </tr>\n",
       "    <tr>\n",
       "      <th>1</th>\n",
       "      <td>100081_WSDA_SF_2017</td>\n",
       "      <td>1</td>\n",
       "      <td>wheat</td>\n",
       "      <td>rill</td>\n",
       "      <td>wsda</td>\n",
       "      <td>16</td>\n",
       "      <td>15.959744</td>\n",
       "      <td>2017/08/09</td>\n",
       "      <td>Grant</td>\n",
       "    </tr>\n",
       "  </tbody>\n",
       "</table>\n",
       "</div>"
      ],
      "text/plain": [
       "                    ID  Vote      CropTyp Irrigtn DataSrc  Acres    ExctAcr  \\\n",
       "0  100048_WSDA_SF_2017     1  bean, green    rill    wsda     18  18.033240   \n",
       "1  100081_WSDA_SF_2017     1        wheat    rill    wsda     16  15.959744   \n",
       "\n",
       "      LstSrvD county  \n",
       "0  2017/05/14  Grant  \n",
       "1  2017/08/09  Grant  "
      ]
     },
     "execution_count": 21,
     "metadata": {},
     "output_type": "execute_result"
    }
   ],
   "source": [
    "print (ground_truth_labels.ExctAcr.min())\n",
    "ground_truth_labels.head(2)"
   ]
  },
  {
   "cell_type": "code",
   "execution_count": 22,
   "id": "7d13dbc9",
   "metadata": {},
   "outputs": [
    {
     "data": {
      "text/html": [
       "<div>\n",
       "<style scoped>\n",
       "    .dataframe tbody tr th:only-of-type {\n",
       "        vertical-align: middle;\n",
       "    }\n",
       "\n",
       "    .dataframe tbody tr th {\n",
       "        vertical-align: top;\n",
       "    }\n",
       "\n",
       "    .dataframe thead th {\n",
       "        text-align: right;\n",
       "    }\n",
       "</style>\n",
       "<table border=\"1\" class=\"dataframe\">\n",
       "  <thead>\n",
       "    <tr style=\"text-align: right;\">\n",
       "      <th></th>\n",
       "      <th>ID</th>\n",
       "      <th>Vote</th>\n",
       "    </tr>\n",
       "  </thead>\n",
       "  <tbody>\n",
       "    <tr>\n",
       "      <th>0</th>\n",
       "      <td>100048_WSDA_SF_2017</td>\n",
       "      <td>1</td>\n",
       "    </tr>\n",
       "    <tr>\n",
       "      <th>1</th>\n",
       "      <td>100081_WSDA_SF_2017</td>\n",
       "      <td>1</td>\n",
       "    </tr>\n",
       "  </tbody>\n",
       "</table>\n",
       "</div>"
      ],
      "text/plain": [
       "                    ID  Vote\n",
       "0  100048_WSDA_SF_2017     1\n",
       "1  100081_WSDA_SF_2017     1"
      ]
     },
     "execution_count": 22,
     "metadata": {},
     "output_type": "execute_result"
    }
   ],
   "source": [
    "ground_truth_labels=ground_truth_labels[[\"ID\", \"Vote\"]]\n",
    "ground_truth_labels.head(2)"
   ]
  },
  {
   "cell_type": "code",
   "execution_count": 23,
   "id": "cfce7d95",
   "metadata": {},
   "outputs": [],
   "source": [
    "x_train_df, x_test_df, y_train_df, y_test_df = train_test_split(ground_truth_wide, \n",
    "                                                                ground_truth_labels, \n",
    "                                                                test_size=0.2, \n",
    "                                                                random_state=0,\n",
    "                                                                shuffle=True,\n",
    "                                                                stratify=ground_truth_labels.Vote.values)"
   ]
  },
  {
   "cell_type": "code",
   "execution_count": 24,
   "id": "7e955209",
   "metadata": {},
   "outputs": [
    {
     "data": {
      "text/html": [
       "<div>\n",
       "<style scoped>\n",
       "    .dataframe tbody tr th:only-of-type {\n",
       "        vertical-align: middle;\n",
       "    }\n",
       "\n",
       "    .dataframe tbody tr th {\n",
       "        vertical-align: top;\n",
       "    }\n",
       "\n",
       "    .dataframe thead th {\n",
       "        text-align: right;\n",
       "    }\n",
       "</style>\n",
       "<table border=\"1\" class=\"dataframe\">\n",
       "  <thead>\n",
       "    <tr style=\"text-align: right;\">\n",
       "      <th></th>\n",
       "      <th>ID</th>\n",
       "      <th>NDVI</th>\n",
       "      <th>EVI</th>\n",
       "      <th>system_start_time</th>\n",
       "      <th>human_system_start_time</th>\n",
       "    </tr>\n",
       "  </thead>\n",
       "  <tbody>\n",
       "    <tr>\n",
       "      <th>0</th>\n",
       "      <td>57621_WSDA_SF_2016</td>\n",
       "      <td>0.015873</td>\n",
       "      <td>0.031588</td>\n",
       "      <td>1.420137e+12</td>\n",
       "      <td>2015-01-01</td>\n",
       "    </tr>\n",
       "    <tr>\n",
       "      <th>1</th>\n",
       "      <td>55397_WSDA_SF_2016</td>\n",
       "      <td>0.019715</td>\n",
       "      <td>0.044850</td>\n",
       "      <td>1.420137e+12</td>\n",
       "      <td>2015-01-01</td>\n",
       "    </tr>\n",
       "  </tbody>\n",
       "</table>\n",
       "</div>"
      ],
      "text/plain": [
       "                   ID      NDVI       EVI  system_start_time  \\\n",
       "0  57621_WSDA_SF_2016  0.015873  0.031588       1.420137e+12   \n",
       "1  55397_WSDA_SF_2016  0.019715  0.044850       1.420137e+12   \n",
       "\n",
       "  human_system_start_time  \n",
       "0              2015-01-01  \n",
       "1              2015-01-01  "
      ]
     },
     "execution_count": 24,
     "metadata": {},
     "output_type": "execute_result"
    }
   ],
   "source": [
    "landsat_DF = landsat_DF[landsat_DF.ID.isin(list(y_test_df.ID))]\n",
    "landsat_DF = nc.add_human_start_time_by_system_start_time(landsat_DF)\n",
    "landsat_DF.reset_index(drop=True, inplace=True)\n",
    "landsat_DF.head(2)"
   ]
  },
  {
   "cell_type": "markdown",
   "id": "9bf210ff",
   "metadata": {},
   "source": [
    "# Read SVM regular From Disk"
   ]
  },
  {
   "cell_type": "code",
   "execution_count": 25,
   "id": "cec77f5c",
   "metadata": {},
   "outputs": [],
   "source": [
    "model_dir = \"/Users/hn/Documents/01_research_data/NASA/ML_Models/\"\n",
    "\n",
    "filename = model_dir + 'SVM_classifier_balanced_regularEVI_00.sav'\n",
    "SVM_classifier_balanced_00 = pickle.load(open(filename, 'rb'))\n",
    "\n",
    "filename = model_dir + 'SVM_classifier_NoneWeight_regularEVI_00.sav'\n",
    "SVM_classifier_NoneWeight_00 = pickle.load(open(filename, 'rb'))"
   ]
  },
  {
   "cell_type": "markdown",
   "id": "154a93cf",
   "metadata": {},
   "source": [
    "#### Predict SVMs on regular data"
   ]
  },
  {
   "cell_type": "code",
   "execution_count": 26,
   "id": "903d4a06",
   "metadata": {},
   "outputs": [],
   "source": [
    "SVM_classifier_NoneWeight_00_predictions = SVM_classifier_NoneWeight_00.predict(x_test_df.iloc[:, 1:])\n",
    "SVM_classifier_balanced_00_predictions = SVM_classifier_balanced_00.predict(x_test_df.iloc[:, 1:])"
   ]
  },
  {
   "cell_type": "code",
   "execution_count": null,
   "id": "9e09182b",
   "metadata": {},
   "outputs": [],
   "source": []
  },
  {
   "cell_type": "markdown",
   "id": "54b60a70",
   "metadata": {},
   "source": [
    "#### Form Table of Mistakes of SVM"
   ]
  },
  {
   "cell_type": "code",
   "execution_count": 27,
   "id": "9aef4ee5",
   "metadata": {},
   "outputs": [
    {
     "data": {
      "text/html": [
       "<div>\n",
       "<style scoped>\n",
       "    .dataframe tbody tr th:only-of-type {\n",
       "        vertical-align: middle;\n",
       "    }\n",
       "\n",
       "    .dataframe tbody tr th {\n",
       "        vertical-align: top;\n",
       "    }\n",
       "\n",
       "    .dataframe thead th {\n",
       "        text-align: right;\n",
       "    }\n",
       "</style>\n",
       "<table border=\"1\" class=\"dataframe\">\n",
       "  <thead>\n",
       "    <tr style=\"text-align: right;\">\n",
       "      <th></th>\n",
       "      <th>ID</th>\n",
       "      <th>Vote</th>\n",
       "      <th>prediction</th>\n",
       "    </tr>\n",
       "  </thead>\n",
       "  <tbody>\n",
       "    <tr>\n",
       "      <th>1221</th>\n",
       "      <td>7667_WSDA_SF_2016</td>\n",
       "      <td>1</td>\n",
       "      <td>1</td>\n",
       "    </tr>\n",
       "    <tr>\n",
       "      <th>1334</th>\n",
       "      <td>99748_WSDA_SF_2017</td>\n",
       "      <td>1</td>\n",
       "      <td>1</td>\n",
       "    </tr>\n",
       "  </tbody>\n",
       "</table>\n",
       "</div>"
      ],
      "text/plain": [
       "                      ID  Vote  prediction\n",
       "1221   7667_WSDA_SF_2016     1           1\n",
       "1334  99748_WSDA_SF_2017     1           1"
      ]
     },
     "execution_count": 27,
     "metadata": {},
     "output_type": "execute_result"
    }
   ],
   "source": [
    "SVM_balanced_y_test_df=y_test_df.copy()\n",
    "SVM_None_y_test_df=y_test_df.copy()\n",
    "SVM_balanced_y_test_df[\"prediction\"] = list(SVM_classifier_balanced_00_predictions)\n",
    "SVM_balanced_y_test_df.head(2)"
   ]
  },
  {
   "cell_type": "code",
   "execution_count": 28,
   "id": "48bc9320",
   "metadata": {},
   "outputs": [
    {
     "data": {
      "text/html": [
       "<div>\n",
       "<style scoped>\n",
       "    .dataframe tbody tr th:only-of-type {\n",
       "        vertical-align: middle;\n",
       "    }\n",
       "\n",
       "    .dataframe tbody tr th {\n",
       "        vertical-align: top;\n",
       "    }\n",
       "\n",
       "    .dataframe thead th {\n",
       "        text-align: right;\n",
       "    }\n",
       "</style>\n",
       "<table border=\"1\" class=\"dataframe\">\n",
       "  <thead>\n",
       "    <tr style=\"text-align: right;\">\n",
       "      <th></th>\n",
       "      <th>ID</th>\n",
       "      <th>Vote</th>\n",
       "      <th>prediction</th>\n",
       "    </tr>\n",
       "  </thead>\n",
       "  <tbody>\n",
       "    <tr>\n",
       "      <th>1221</th>\n",
       "      <td>7667_WSDA_SF_2016</td>\n",
       "      <td>1</td>\n",
       "      <td>1</td>\n",
       "    </tr>\n",
       "    <tr>\n",
       "      <th>1334</th>\n",
       "      <td>99748_WSDA_SF_2017</td>\n",
       "      <td>1</td>\n",
       "      <td>1</td>\n",
       "    </tr>\n",
       "  </tbody>\n",
       "</table>\n",
       "</div>"
      ],
      "text/plain": [
       "                      ID  Vote  prediction\n",
       "1221   7667_WSDA_SF_2016     1           1\n",
       "1334  99748_WSDA_SF_2017     1           1"
      ]
     },
     "execution_count": 28,
     "metadata": {},
     "output_type": "execute_result"
    }
   ],
   "source": [
    "SVM_None_y_test_df=y_test_df.copy()\n",
    "SVM_None_y_test_df=y_test_df.copy()\n",
    "SVM_None_y_test_df[\"prediction\"] = list(SVM_classifier_NoneWeight_00_predictions)\n",
    "SVM_None_y_test_df.head(2)"
   ]
  },
  {
   "cell_type": "markdown",
   "id": "f8b9d512",
   "metadata": {},
   "source": [
    "#### Write down the test result on the disk"
   ]
  },
  {
   "cell_type": "code",
   "execution_count": 29,
   "id": "bc2c72a8",
   "metadata": {},
   "outputs": [],
   "source": [
    "test_result_dir = \"/Users/hn/Documents/01_research_data/NASA/ML_data/test_results/\"\n",
    "os.makedirs(test_result_dir, exist_ok=True)"
   ]
  },
  {
   "cell_type": "code",
   "execution_count": 30,
   "id": "838612da",
   "metadata": {},
   "outputs": [],
   "source": [
    "out_name=test_result_dir+ \"regular_SVM_balancedWeight_y_test.csv\"\n",
    "SVM_balanced_y_test_df.to_csv(out_name, index = False)"
   ]
  },
  {
   "cell_type": "code",
   "execution_count": 31,
   "id": "a6af419d",
   "metadata": {},
   "outputs": [],
   "source": [
    "out_name=test_result_dir+ \"regular_SVM_NoneWeight_y_test.csv\"\n",
    "SVM_None_y_test_df.to_csv(out_name, index = False)"
   ]
  },
  {
   "cell_type": "code",
   "execution_count": null,
   "id": "55ee7a62",
   "metadata": {},
   "outputs": [],
   "source": []
  },
  {
   "cell_type": "markdown",
   "id": "1310e5f4",
   "metadata": {},
   "source": [
    "#### Print the mistakes crop types and plot them"
   ]
  },
  {
   "cell_type": "code",
   "execution_count": 32,
   "id": "7f7881a0",
   "metadata": {},
   "outputs": [],
   "source": [
    "SVM_None_y_test_df = pd.merge(SVM_None_y_test_df, meta, on=['ID'], how='left')\n",
    "SVM_balanced_y_test_df = pd.merge(SVM_balanced_y_test_df, meta, on=['ID'], how='left')"
   ]
  },
  {
   "cell_type": "code",
   "execution_count": 33,
   "id": "724a9476",
   "metadata": {},
   "outputs": [],
   "source": [
    "# balanced_y_test_df_A2_P1 = balanced_y_test_df[balanced_y_test_df.Vote==2]\n",
    "# balanced_y_test_df_A2_P1 = balanced_y_test_df_A2_P1[balanced_y_test_df_A2_P1.prediction==1]\n",
    "\n",
    "# balanced_y_test_df_A1_P2 = balanced_y_test_df[balanced_y_test_df.Vote==1]\n",
    "# balanced_y_test_df_A1_P2 = balanced_y_test_df_A1_P2[balanced_y_test_df_A1_P2.prediction==2]"
   ]
  },
  {
   "cell_type": "code",
   "execution_count": 34,
   "id": "2b8105c8",
   "metadata": {},
   "outputs": [],
   "source": [
    "SVM_None_y_test_df_A2_P1 = SVM_None_y_test_df[SVM_None_y_test_df.Vote==2]\n",
    "SVM_None_y_test_df_A2_P1 = SVM_None_y_test_df_A2_P1[SVM_None_y_test_df_A2_P1.prediction==1]\n",
    "\n",
    "SVM_None_y_test_df_A1_P2 = SVM_None_y_test_df[SVM_None_y_test_df.Vote==1]\n",
    "SVM_None_y_test_df_A1_P2 = SVM_None_y_test_df_A1_P2[SVM_None_y_test_df_A1_P2.prediction==2]"
   ]
  },
  {
   "cell_type": "code",
   "execution_count": 35,
   "id": "24075557",
   "metadata": {},
   "outputs": [
    {
     "data": {
      "text/html": [
       "<div>\n",
       "<style scoped>\n",
       "    .dataframe tbody tr th:only-of-type {\n",
       "        vertical-align: middle;\n",
       "    }\n",
       "\n",
       "    .dataframe tbody tr th {\n",
       "        vertical-align: top;\n",
       "    }\n",
       "\n",
       "    .dataframe thead th {\n",
       "        text-align: right;\n",
       "    }\n",
       "</style>\n",
       "<table border=\"1\" class=\"dataframe\">\n",
       "  <thead>\n",
       "    <tr style=\"text-align: right;\">\n",
       "      <th></th>\n",
       "      <th>ID</th>\n",
       "      <th>Vote</th>\n",
       "      <th>prediction</th>\n",
       "      <th>CropTyp</th>\n",
       "      <th>Irrigtn</th>\n",
       "      <th>DataSrc</th>\n",
       "      <th>Acres</th>\n",
       "      <th>ExctAcr</th>\n",
       "      <th>LstSrvD</th>\n",
       "      <th>county</th>\n",
       "    </tr>\n",
       "  </thead>\n",
       "  <tbody>\n",
       "    <tr>\n",
       "      <th>20</th>\n",
       "      <td>60678_WSDA_SF_2016</td>\n",
       "      <td>2</td>\n",
       "      <td>1</td>\n",
       "      <td>bean, dry</td>\n",
       "      <td>center pivot</td>\n",
       "      <td>wsda</td>\n",
       "      <td>32</td>\n",
       "      <td>32.322881</td>\n",
       "      <td>2016/08/17 00:00:00</td>\n",
       "      <td>Adams</td>\n",
       "    </tr>\n",
       "    <tr>\n",
       "      <th>74</th>\n",
       "      <td>2660_WSDA_SF_2016</td>\n",
       "      <td>2</td>\n",
       "      <td>1</td>\n",
       "      <td>corn, field</td>\n",
       "      <td>center pivot</td>\n",
       "      <td>wsda</td>\n",
       "      <td>127</td>\n",
       "      <td>127.042075</td>\n",
       "      <td>2016/08/31 00:00:00</td>\n",
       "      <td>Benton</td>\n",
       "    </tr>\n",
       "    <tr>\n",
       "      <th>199</th>\n",
       "      <td>53718_WSDA_SF_2016</td>\n",
       "      <td>2</td>\n",
       "      <td>1</td>\n",
       "      <td>triticale</td>\n",
       "      <td>center pivot</td>\n",
       "      <td>wsda</td>\n",
       "      <td>124</td>\n",
       "      <td>124.224249</td>\n",
       "      <td>2016/08/17 00:00:00</td>\n",
       "      <td>Adams</td>\n",
       "    </tr>\n",
       "    <tr>\n",
       "      <th>206</th>\n",
       "      <td>106509_WSDA_SF_2017</td>\n",
       "      <td>2</td>\n",
       "      <td>1</td>\n",
       "      <td>yellow mustard</td>\n",
       "      <td>center pivot</td>\n",
       "      <td>wsda</td>\n",
       "      <td>135</td>\n",
       "      <td>134.651954</td>\n",
       "      <td>2017/10/17</td>\n",
       "      <td>Grant</td>\n",
       "    </tr>\n",
       "  </tbody>\n",
       "</table>\n",
       "</div>"
      ],
      "text/plain": [
       "                      ID  Vote  prediction         CropTyp       Irrigtn  \\\n",
       "20    60678_WSDA_SF_2016     2           1       bean, dry  center pivot   \n",
       "74     2660_WSDA_SF_2016     2           1     corn, field  center pivot   \n",
       "199   53718_WSDA_SF_2016     2           1       triticale  center pivot   \n",
       "206  106509_WSDA_SF_2017     2           1  yellow mustard  center pivot   \n",
       "\n",
       "    DataSrc  Acres     ExctAcr              LstSrvD  county  \n",
       "20     wsda     32   32.322881  2016/08/17 00:00:00   Adams  \n",
       "74     wsda    127  127.042075  2016/08/31 00:00:00  Benton  \n",
       "199    wsda    124  124.224249  2016/08/17 00:00:00   Adams  \n",
       "206    wsda    135  134.651954           2017/10/17   Grant  "
      ]
     },
     "execution_count": 35,
     "metadata": {},
     "output_type": "execute_result"
    }
   ],
   "source": [
    "SVM_None_y_test_df_A2_P1"
   ]
  },
  {
   "cell_type": "code",
   "execution_count": 36,
   "id": "c894f5e2",
   "metadata": {},
   "outputs": [
    {
     "data": {
      "text/html": [
       "<div>\n",
       "<style scoped>\n",
       "    .dataframe tbody tr th:only-of-type {\n",
       "        vertical-align: middle;\n",
       "    }\n",
       "\n",
       "    .dataframe tbody tr th {\n",
       "        vertical-align: top;\n",
       "    }\n",
       "\n",
       "    .dataframe thead th {\n",
       "        text-align: right;\n",
       "    }\n",
       "</style>\n",
       "<table border=\"1\" class=\"dataframe\">\n",
       "  <thead>\n",
       "    <tr style=\"text-align: right;\">\n",
       "      <th></th>\n",
       "      <th>ID</th>\n",
       "      <th>Vote</th>\n",
       "      <th>prediction</th>\n",
       "      <th>CropTyp</th>\n",
       "      <th>Irrigtn</th>\n",
       "      <th>DataSrc</th>\n",
       "      <th>Acres</th>\n",
       "      <th>ExctAcr</th>\n",
       "      <th>LstSrvD</th>\n",
       "      <th>county</th>\n",
       "    </tr>\n",
       "  </thead>\n",
       "  <tbody>\n",
       "    <tr>\n",
       "      <th>98</th>\n",
       "      <td>34906_WSDA_SF_2018</td>\n",
       "      <td>1</td>\n",
       "      <td>2</td>\n",
       "      <td>corn, field</td>\n",
       "      <td>rill</td>\n",
       "      <td>wsda</td>\n",
       "      <td>34</td>\n",
       "      <td>33.537047</td>\n",
       "      <td>2018/10/01 00:00:00</td>\n",
       "      <td>Yakima</td>\n",
       "    </tr>\n",
       "    <tr>\n",
       "      <th>113</th>\n",
       "      <td>98404_WSDA_SF_2017</td>\n",
       "      <td>1</td>\n",
       "      <td>2</td>\n",
       "      <td>bean, dry</td>\n",
       "      <td>center pivot</td>\n",
       "      <td>wsda</td>\n",
       "      <td>58</td>\n",
       "      <td>57.889176</td>\n",
       "      <td>2017/08/28</td>\n",
       "      <td>Grant</td>\n",
       "    </tr>\n",
       "    <tr>\n",
       "      <th>183</th>\n",
       "      <td>101372_WSDA_SF_2017</td>\n",
       "      <td>1</td>\n",
       "      <td>2</td>\n",
       "      <td>canola</td>\n",
       "      <td>center pivot</td>\n",
       "      <td>wsda</td>\n",
       "      <td>80</td>\n",
       "      <td>80.255504</td>\n",
       "      <td>2017/10/16</td>\n",
       "      <td>Grant</td>\n",
       "    </tr>\n",
       "    <tr>\n",
       "      <th>252</th>\n",
       "      <td>99643_WSDA_SF_2018</td>\n",
       "      <td>1</td>\n",
       "      <td>2</td>\n",
       "      <td>corn, field</td>\n",
       "      <td>center pivot</td>\n",
       "      <td>wsda</td>\n",
       "      <td>37</td>\n",
       "      <td>36.938837</td>\n",
       "      <td>2018/06/06 00:00:00</td>\n",
       "      <td>Franklin</td>\n",
       "    </tr>\n",
       "  </tbody>\n",
       "</table>\n",
       "</div>"
      ],
      "text/plain": [
       "                      ID  Vote  prediction      CropTyp       Irrigtn DataSrc  \\\n",
       "98    34906_WSDA_SF_2018     1           2  corn, field          rill    wsda   \n",
       "113   98404_WSDA_SF_2017     1           2    bean, dry  center pivot    wsda   \n",
       "183  101372_WSDA_SF_2017     1           2       canola  center pivot    wsda   \n",
       "252   99643_WSDA_SF_2018     1           2  corn, field  center pivot    wsda   \n",
       "\n",
       "     Acres    ExctAcr              LstSrvD    county  \n",
       "98      34  33.537047  2018/10/01 00:00:00    Yakima  \n",
       "113     58  57.889176           2017/08/28     Grant  \n",
       "183     80  80.255504           2017/10/16     Grant  \n",
       "252     37  36.938837  2018/06/06 00:00:00  Franklin  "
      ]
     },
     "execution_count": 36,
     "metadata": {},
     "output_type": "execute_result"
    }
   ],
   "source": [
    "SVM_None_y_test_df_A1_P2"
   ]
  },
  {
   "cell_type": "code",
   "execution_count": 37,
   "id": "fe32320d",
   "metadata": {},
   "outputs": [
    {
     "data": {
      "text/plain": [
       "['bean, dry', 'canola', 'corn, field', 'corn, field']"
      ]
     },
     "execution_count": 37,
     "metadata": {},
     "output_type": "execute_result"
    }
   ],
   "source": [
    "sorted(SVM_None_y_test_df_A1_P2.CropTyp)"
   ]
  },
  {
   "cell_type": "code",
   "execution_count": null,
   "id": "cf05c8fb",
   "metadata": {},
   "outputs": [],
   "source": []
  },
  {
   "cell_type": "markdown",
   "id": "6b98e593",
   "metadata": {},
   "source": [
    "#### Plot SVM mistakes"
   ]
  },
  {
   "cell_type": "code",
   "execution_count": 38,
   "id": "15014a8a",
   "metadata": {},
   "outputs": [],
   "source": [
    "size = 15\n",
    "title_FontSize = 8\n",
    "legend_FontSize = 8\n",
    "tick_FontSize = 12\n",
    "label_FontSize = 14\n",
    "\n",
    "params = {'legend.fontsize': 15, # medium, large\n",
    "          # 'figure.figsize': (6, 4),\n",
    "          'axes.labelsize': size,\n",
    "          'axes.titlesize': size*1.2,\n",
    "          'xtick.labelsize': size, #  * 0.75\n",
    "          'ytick.labelsize': size, #  * 0.75\n",
    "          'axes.titlepad': 10}\n",
    "\n",
    "#\n",
    "#  Once set, you cannot change them, unless restart the notebook\n",
    "#\n",
    "plt.rc('font', family = 'Palatino')\n",
    "plt.rcParams['xtick.bottom'] = True\n",
    "plt.rcParams['ytick.left'] = True\n",
    "plt.rcParams['xtick.labelbottom'] = True\n",
    "plt.rcParams['ytick.labelleft'] = True\n",
    "plt.rcParams.update(params)\n",
    "# pylab.rcParams.update(params)\n",
    "# plt.rc('text', usetex=True)\n",
    "\n",
    "def plot_oneColumn_CropTitle(dt, raw_dt, titlee, _label = \"raw\", idx=\"EVI\", _color=\"dodgerblue\"):\n",
    "    \n",
    "    fig, ax = plt.subplots(1, 1, figsize=(15, 4), sharex=False, sharey='col', # sharex=True, sharey=True,\n",
    "                           gridspec_kw={'hspace': 0.35, 'wspace': .05});\n",
    "    ax.grid(True);\n",
    "    ax.plot(dt['human_system_start_time'], dt[idx], linewidth=4, color=_color, label=_label) \n",
    "\n",
    "    ax.scatter(raw_dt['human_system_start_time'], raw_dt[idx], s=20, c=\"r\", label=\"raw\")\n",
    "\n",
    "    ax.set_title(titlee)\n",
    "    ax.set_ylabel(idx) # , labelpad=20); # fontsize = label_FontSize,\n",
    "    ax.tick_params(axis='y', which='major') #, labelsize = tick_FontSize)\n",
    "    ax.tick_params(axis='x', which='major') #, labelsize = tick_FontSize) # \n",
    "    ax.legend(loc=\"upper right\");\n",
    "    plt.yticks(np.arange(0, 1.05, 0.2))\n",
    "    # ax.xaxis.set_major_locator(mdates.YearLocator(1))\n",
    "    ax.set_ylim(-0.1, 1.05)"
   ]
  },
  {
   "cell_type": "code",
   "execution_count": 39,
   "id": "bd95513d",
   "metadata": {},
   "outputs": [],
   "source": [
    "test_result_dir = \"/Users/hn/Documents/01_research_data/NASA/ML_data/test_results/\"\n",
    "os.makedirs(test_result_dir, exist_ok=True)"
   ]
  },
  {
   "cell_type": "code",
   "execution_count": 42,
   "id": "816c18e6",
   "metadata": {},
   "outputs": [],
   "source": [
    "SVM_None_y_test_df_A2_P1.rename(columns={\"prediction\": \"SVM_None_pred_A2P1\"}, inplace=True)\n",
    "SVM_None_y_test_df_A1_P2.rename(columns={\"prediction\": \"SVM_None_pred_A1P2\"}, inplace=True)"
   ]
  },
  {
   "cell_type": "code",
   "execution_count": 43,
   "id": "1dedfd56",
   "metadata": {},
   "outputs": [],
   "source": [
    "for anID in list(SVM_None_y_test_df_A1_P2.ID):\n",
    "    curr_dt = SG_data_4_plot[SG_data_4_plot.ID==anID].copy()\n",
    "    curr_meta = meta[meta.ID==anID].copy()\n",
    "    \n",
    "    curr_year=curr_dt.human_system_start_time.dt.year.unique()[0]\n",
    "    curr_raw = landsat_DF[landsat_DF.ID==anID].copy()\n",
    "    curr_raw=curr_raw[curr_raw.human_system_start_time.dt.year==curr_year]\n",
    "        \n",
    "    curr_vote = SVM_None_y_test_df_A1_P2[SVM_None_y_test_df_A1_P2.ID==anID].Vote.values[0]\n",
    "    curr_pred = SVM_None_y_test_df_A1_P2[SVM_None_y_test_df_A1_P2.ID==anID].SVM_None_pred_A1P2.values[0]\n",
    "    \n",
    "    title_ = list(curr_meta.CropTyp)[0] + \" (\" + str(list(curr_meta.Acres)[0]) + \" acre), \"+\\\n",
    "             \"Experts' vote: \" + str(curr_vote) + \", prediction: \" + str(curr_pred)\n",
    "    \n",
    "    curr_plt = plot_oneColumn_CropTitle(dt=curr_dt, raw_dt=curr_raw, \n",
    "                                        titlee=title_, _label = \"EVI (5-step smoothed)\")\n",
    "\n",
    "    \n",
    "    plot_path = test_result_dir + \"regular_SVM_None_plots_A1_P2/\"\n",
    "    os.makedirs(plot_path, exist_ok=True)\n",
    "    fig_name = plot_path + anID + '.pdf'\n",
    "    plt.savefig(fname = fig_name, dpi=400, bbox_inches='tight')\n",
    "    plt.close('all')\n",
    "    \n",
    "for anID in list(SVM_None_y_test_df_A2_P1.ID):\n",
    "    curr_dt = SG_data_4_plot[SG_data_4_plot.ID==anID].copy()\n",
    "    curr_meta = meta[meta.ID==anID].copy()\n",
    "    \n",
    "    curr_year=curr_dt.human_system_start_time.dt.year.unique()[0]\n",
    "    curr_raw = landsat_DF[landsat_DF.ID==anID].copy()\n",
    "    curr_raw=curr_raw[curr_raw.human_system_start_time.dt.year==curr_year]    \n",
    "    \n",
    "    curr_vote = SVM_None_y_test_df_A2_P1[SVM_None_y_test_df_A2_P1.ID==anID].Vote.values[0]\n",
    "    curr_pred = SVM_None_y_test_df_A2_P1[SVM_None_y_test_df_A2_P1.ID==anID].SVM_None_pred_A2P1.values[0]\n",
    "    \n",
    "    title_ = list(curr_meta.CropTyp)[0] + \" (\" + str(list(curr_meta.Acres)[0]) + \" acre), \"+\\\n",
    "             \"Experts' vote: \" + str(curr_vote) + \", prediction: \" + str(curr_pred)\n",
    "    \n",
    "    curr_plt = plot_oneColumn_CropTitle(dt=curr_dt, raw_dt=curr_raw, titlee=title_, \n",
    "                                        _label = \"EVI (5-step smoothed)\")\n",
    "    \n",
    "    \n",
    "    plot_path = test_result_dir + \"regular_SVM_None_plots_A2_P1/\"\n",
    "    os.makedirs(plot_path, exist_ok=True)\n",
    "    fig_name = plot_path + anID + '.pdf'\n",
    "    plt.savefig(fname = fig_name, dpi=400, bbox_inches='tight')\n",
    "    plt.close('all')"
   ]
  },
  {
   "cell_type": "markdown",
   "id": "b8e695e8",
   "metadata": {},
   "source": [
    "# Random Forest"
   ]
  },
  {
   "cell_type": "code",
   "execution_count": 44,
   "id": "24e86767",
   "metadata": {},
   "outputs": [],
   "source": [
    "filename = model_dir + 'regular_forest_default.sav'\n",
    "regular_forest_default_model = pickle.load(open(filename, 'rb'))"
   ]
  },
  {
   "cell_type": "code",
   "execution_count": 45,
   "id": "6444b40c",
   "metadata": {},
   "outputs": [
    {
     "data": {
      "text/html": [
       "<div>\n",
       "<style scoped>\n",
       "    .dataframe tbody tr th:only-of-type {\n",
       "        vertical-align: middle;\n",
       "    }\n",
       "\n",
       "    .dataframe tbody tr th {\n",
       "        vertical-align: top;\n",
       "    }\n",
       "\n",
       "    .dataframe thead th {\n",
       "        text-align: right;\n",
       "    }\n",
       "</style>\n",
       "<table border=\"1\" class=\"dataframe\">\n",
       "  <thead>\n",
       "    <tr style=\"text-align: right;\">\n",
       "      <th></th>\n",
       "      <th>ID</th>\n",
       "      <th>Vote</th>\n",
       "      <th>prediction</th>\n",
       "    </tr>\n",
       "  </thead>\n",
       "  <tbody>\n",
       "    <tr>\n",
       "      <th>1221</th>\n",
       "      <td>7667_WSDA_SF_2016</td>\n",
       "      <td>1</td>\n",
       "      <td>1</td>\n",
       "    </tr>\n",
       "    <tr>\n",
       "      <th>1334</th>\n",
       "      <td>99748_WSDA_SF_2017</td>\n",
       "      <td>1</td>\n",
       "      <td>1</td>\n",
       "    </tr>\n",
       "  </tbody>\n",
       "</table>\n",
       "</div>"
      ],
      "text/plain": [
       "                      ID  Vote  prediction\n",
       "1221   7667_WSDA_SF_2016     1           1\n",
       "1334  99748_WSDA_SF_2017     1           1"
      ]
     },
     "execution_count": 45,
     "metadata": {},
     "output_type": "execute_result"
    }
   ],
   "source": [
    "regular_forest_default_preds = regular_forest_default_model.predict(x_test_df.iloc[:, 1:])\n",
    "regular_forest_default_y_test_df=y_test_df.copy()\n",
    "regular_forest_default_y_test_df[\"prediction\"]=list(regular_forest_default_preds)\n",
    "regular_forest_default_y_test_df.head(2)"
   ]
  },
  {
   "cell_type": "code",
   "execution_count": 46,
   "id": "61f17f41",
   "metadata": {},
   "outputs": [],
   "source": [
    "out_name=test_result_dir+ \"regular_RF_default_y_test.csv\"\n",
    "regular_forest_default_y_test_df.to_csv(out_name, index = False)"
   ]
  },
  {
   "cell_type": "code",
   "execution_count": 47,
   "id": "78e5e7cd",
   "metadata": {},
   "outputs": [
    {
     "data": {
      "text/html": [
       "<div>\n",
       "<style scoped>\n",
       "    .dataframe tbody tr th:only-of-type {\n",
       "        vertical-align: middle;\n",
       "    }\n",
       "\n",
       "    .dataframe tbody tr th {\n",
       "        vertical-align: top;\n",
       "    }\n",
       "\n",
       "    .dataframe thead th {\n",
       "        text-align: right;\n",
       "    }\n",
       "</style>\n",
       "<table border=\"1\" class=\"dataframe\">\n",
       "  <thead>\n",
       "    <tr style=\"text-align: right;\">\n",
       "      <th></th>\n",
       "      <th>None</th>\n",
       "      <th>Predict_Single</th>\n",
       "      <th>Predict_Double</th>\n",
       "    </tr>\n",
       "  </thead>\n",
       "  <tbody>\n",
       "    <tr>\n",
       "      <th>0</th>\n",
       "      <td>Actual_Single</td>\n",
       "      <td>218</td>\n",
       "      <td>1</td>\n",
       "    </tr>\n",
       "    <tr>\n",
       "      <th>1</th>\n",
       "      <td>Actual_Double</td>\n",
       "      <td>11</td>\n",
       "      <td>39</td>\n",
       "    </tr>\n",
       "  </tbody>\n",
       "</table>\n",
       "</div>"
      ],
      "text/plain": [
       "            None  Predict_Single  Predict_Double\n",
       "0  Actual_Single             218               1\n",
       "1  Actual_Double              11              39"
      ]
     },
     "execution_count": 47,
     "metadata": {},
     "output_type": "execute_result"
    }
   ],
   "source": [
    "true_single_predicted_single=0\n",
    "true_single_predicted_double=0\n",
    "\n",
    "true_double_predicted_single=0\n",
    "true_double_predicted_double=0\n",
    "\n",
    "for index_ in regular_forest_default_y_test_df.index:\n",
    "    curr_vote=list(regular_forest_default_y_test_df[regular_forest_default_y_test_df.index==index_].Vote)[0]\n",
    "    curr_predict=list(regular_forest_default_y_test_df[regular_forest_default_y_test_df.index==index_].prediction)[0]\n",
    "    if curr_vote==curr_predict:\n",
    "        if curr_vote==1: \n",
    "            true_single_predicted_single+=1\n",
    "        else:\n",
    "            true_double_predicted_double+=1\n",
    "    else:\n",
    "        if curr_vote==1:\n",
    "            true_single_predicted_double+=1\n",
    "        else:\n",
    "            true_double_predicted_single+=1\n",
    "            \n",
    "forest_grid_1_confus_tbl_test = pd.DataFrame(columns=['None', 'Predict_Single', 'Predict_Double'], \n",
    "                               index=range(2))\n",
    "forest_grid_1_confus_tbl_test.loc[0, 'None'] = 'Actual_Single'\n",
    "forest_grid_1_confus_tbl_test.loc[1, 'None'] = 'Actual_Double'\n",
    "forest_grid_1_confus_tbl_test['Predict_Single']=0\n",
    "forest_grid_1_confus_tbl_test['Predict_Double']=0\n",
    "\n",
    "forest_grid_1_confus_tbl_test.loc[0, \"Predict_Single\"]=true_single_predicted_single\n",
    "forest_grid_1_confus_tbl_test.loc[0, \"Predict_Double\"]=true_single_predicted_double\n",
    "forest_grid_1_confus_tbl_test.loc[1, \"Predict_Single\"]=true_double_predicted_single\n",
    "forest_grid_1_confus_tbl_test.loc[1, \"Predict_Double\"]=true_double_predicted_double\n",
    "forest_grid_1_confus_tbl_test"
   ]
  },
  {
   "cell_type": "code",
   "execution_count": 48,
   "id": "c45a77ad",
   "metadata": {},
   "outputs": [],
   "source": [
    "teset_set_fromBefore = pd.read_csv(training_set_dir+\"test20_split_expertLabels_2Bconsistent.csv\")"
   ]
  },
  {
   "cell_type": "code",
   "execution_count": 49,
   "id": "750a97c4",
   "metadata": {},
   "outputs": [
    {
     "data": {
      "text/html": [
       "<div>\n",
       "<style scoped>\n",
       "    .dataframe tbody tr th:only-of-type {\n",
       "        vertical-align: middle;\n",
       "    }\n",
       "\n",
       "    .dataframe tbody tr th {\n",
       "        vertical-align: top;\n",
       "    }\n",
       "\n",
       "    .dataframe thead th {\n",
       "        text-align: right;\n",
       "    }\n",
       "</style>\n",
       "<table border=\"1\" class=\"dataframe\">\n",
       "  <thead>\n",
       "    <tr style=\"text-align: right;\">\n",
       "      <th></th>\n",
       "      <th>ID</th>\n",
       "      <th>EVI_1</th>\n",
       "      <th>EVI_2</th>\n",
       "      <th>EVI_3</th>\n",
       "      <th>EVI_4</th>\n",
       "      <th>EVI_5</th>\n",
       "      <th>EVI_6</th>\n",
       "      <th>EVI_7</th>\n",
       "      <th>EVI_8</th>\n",
       "      <th>EVI_9</th>\n",
       "      <th>...</th>\n",
       "      <th>EVI_27</th>\n",
       "      <th>EVI_28</th>\n",
       "      <th>EVI_29</th>\n",
       "      <th>EVI_30</th>\n",
       "      <th>EVI_31</th>\n",
       "      <th>EVI_32</th>\n",
       "      <th>EVI_33</th>\n",
       "      <th>EVI_34</th>\n",
       "      <th>EVI_35</th>\n",
       "      <th>EVI_36</th>\n",
       "    </tr>\n",
       "  </thead>\n",
       "  <tbody>\n",
       "    <tr>\n",
       "      <th>1221</th>\n",
       "      <td>7667_WSDA_SF_2016</td>\n",
       "      <td>0.051639</td>\n",
       "      <td>0.080531</td>\n",
       "      <td>0.095567</td>\n",
       "      <td>0.110602</td>\n",
       "      <td>0.125638</td>\n",
       "      <td>0.140673</td>\n",
       "      <td>0.224918</td>\n",
       "      <td>0.275751</td>\n",
       "      <td>0.326585</td>\n",
       "      <td>...</td>\n",
       "      <td>0.272984</td>\n",
       "      <td>0.302074</td>\n",
       "      <td>0.263391</td>\n",
       "      <td>0.224708</td>\n",
       "      <td>0.229474</td>\n",
       "      <td>0.23424</td>\n",
       "      <td>0.210145</td>\n",
       "      <td>0.186049</td>\n",
       "      <td>0.161954</td>\n",
       "      <td>0.137858</td>\n",
       "    </tr>\n",
       "    <tr>\n",
       "      <th>1334</th>\n",
       "      <td>99748_WSDA_SF_2017</td>\n",
       "      <td>0.028091</td>\n",
       "      <td>0.032607</td>\n",
       "      <td>0.037122</td>\n",
       "      <td>0.041638</td>\n",
       "      <td>0.04685</td>\n",
       "      <td>0.052062</td>\n",
       "      <td>0.119223</td>\n",
       "      <td>0.103029</td>\n",
       "      <td>0.124796</td>\n",
       "      <td>...</td>\n",
       "      <td>0.279474</td>\n",
       "      <td>0.242019</td>\n",
       "      <td>0.21619</td>\n",
       "      <td>0.176909</td>\n",
       "      <td>0.088454</td>\n",
       "      <td>0.0</td>\n",
       "      <td>0.061158</td>\n",
       "      <td>0.122317</td>\n",
       "      <td>0.128664</td>\n",
       "      <td>0.135011</td>\n",
       "    </tr>\n",
       "  </tbody>\n",
       "</table>\n",
       "<p>2 rows × 37 columns</p>\n",
       "</div>"
      ],
      "text/plain": [
       "                      ID     EVI_1     EVI_2     EVI_3     EVI_4     EVI_5  \\\n",
       "1221   7667_WSDA_SF_2016  0.051639  0.080531  0.095567  0.110602  0.125638   \n",
       "1334  99748_WSDA_SF_2017  0.028091  0.032607  0.037122  0.041638   0.04685   \n",
       "\n",
       "         EVI_6     EVI_7     EVI_8     EVI_9  ...    EVI_27    EVI_28  \\\n",
       "1221  0.140673  0.224918  0.275751  0.326585  ...  0.272984  0.302074   \n",
       "1334  0.052062  0.119223  0.103029  0.124796  ...  0.279474  0.242019   \n",
       "\n",
       "        EVI_29    EVI_30    EVI_31   EVI_32    EVI_33    EVI_34    EVI_35  \\\n",
       "1221  0.263391  0.224708  0.229474  0.23424  0.210145  0.186049  0.161954   \n",
       "1334   0.21619  0.176909  0.088454      0.0  0.061158  0.122317  0.128664   \n",
       "\n",
       "        EVI_36  \n",
       "1221  0.137858  \n",
       "1334  0.135011  \n",
       "\n",
       "[2 rows x 37 columns]"
      ]
     },
     "execution_count": 49,
     "metadata": {},
     "output_type": "execute_result"
    }
   ],
   "source": [
    "x_test_df.head(2)"
   ]
  },
  {
   "cell_type": "code",
   "execution_count": 50,
   "id": "7c1c17aa",
   "metadata": {},
   "outputs": [],
   "source": [
    "regular_forest_default_y_test_df = pd.merge(regular_forest_default_y_test_df, meta, on=['ID'], how='left')"
   ]
  },
  {
   "cell_type": "code",
   "execution_count": 51,
   "id": "3eb4959e",
   "metadata": {},
   "outputs": [],
   "source": [
    "forest_default_yTest_A1P2 = regular_forest_default_y_test_df[regular_forest_default_y_test_df.Vote==1]\n",
    "forest_default_yTest_A1P2 = forest_default_yTest_A1P2[forest_default_yTest_A1P2.prediction==2]\n",
    "\n",
    "forest_default_yTest_A2P1 = regular_forest_default_y_test_df[regular_forest_default_y_test_df.Vote==2]\n",
    "forest_default_yTest_A2P1 = forest_default_yTest_A2P1[forest_default_yTest_A2P1.prediction==1]"
   ]
  },
  {
   "cell_type": "code",
   "execution_count": 52,
   "id": "9421a8de",
   "metadata": {},
   "outputs": [
    {
     "data": {
      "text/plain": [
       "CropTyp\n",
       "barley            1\n",
       "bean, dry         1\n",
       "buckwheat         3\n",
       "corn, field       2\n",
       "triticale         1\n",
       "wheat             1\n",
       "yellow mustard    2\n",
       "Name: CropTyp, dtype: int64"
      ]
     },
     "execution_count": 52,
     "metadata": {},
     "output_type": "execute_result"
    }
   ],
   "source": [
    "forest_default_yTest_A2P1.groupby(['CropTyp'])['CropTyp'].count()"
   ]
  },
  {
   "cell_type": "code",
   "execution_count": 53,
   "id": "0993a51d",
   "metadata": {},
   "outputs": [
    {
     "data": {
      "text/plain": [
       "CropTyp\n",
       "market crops    1\n",
       "Name: CropTyp, dtype: int64"
      ]
     },
     "execution_count": 53,
     "metadata": {},
     "output_type": "execute_result"
    }
   ],
   "source": [
    "forest_default_yTest_A1P2.groupby(['CropTyp'])['CropTyp'].count()"
   ]
  },
  {
   "cell_type": "code",
   "execution_count": 55,
   "id": "45a69d6f",
   "metadata": {},
   "outputs": [],
   "source": [
    "forest_default_yTest_A2P1.rename(columns={\"prediction\": \"RF_default_pred_A2P1\"}, inplace=True)\n",
    "forest_default_yTest_A1P2.rename(columns={\"prediction\": \"RF_default_pred_A1P2\"}, inplace=True)"
   ]
  },
  {
   "cell_type": "code",
   "execution_count": 56,
   "id": "3574f534",
   "metadata": {},
   "outputs": [],
   "source": [
    "for anID in list(forest_default_yTest_A1P2.ID):\n",
    "    curr_dt = SG_data_4_plot[SG_data_4_plot.ID==anID].copy()\n",
    "    curr_meta = meta[meta.ID==anID].copy()\n",
    "    \n",
    "    curr_year=curr_dt.human_system_start_time.dt.year.unique()[0]\n",
    "    curr_raw = landsat_DF[landsat_DF.ID==anID].copy()\n",
    "    curr_raw=curr_raw[curr_raw.human_system_start_time.dt.year==curr_year]\n",
    "    \n",
    "\n",
    "    curr_vote = forest_default_yTest_A1P2[forest_default_yTest_A1P2.ID==anID].Vote.values[0]\n",
    "    curr_pred = forest_default_yTest_A1P2[forest_default_yTest_A1P2.ID==anID].RF_default_pred_A1P2.values[0]    \n",
    "    title_ = list(curr_meta.CropTyp)[0] + \" (\" + str(list(curr_meta.Acres)[0]) + \" acre), \"+\\\n",
    "             \"Experts' vote: \" + str(curr_vote) + \", prediction: \" + str(curr_pred)\n",
    "    curr_plt = plot_oneColumn_CropTitle(dt=curr_dt, raw_dt=curr_raw, titlee=title_, _label = \"EVI (5-step smoothed)\")\n",
    "    \n",
    "    plot_path = test_result_dir + \"regular_RF_plots_A1_P2/\"\n",
    "    os.makedirs(plot_path, exist_ok=True)\n",
    "    fig_name = plot_path + anID + '.pdf'\n",
    "    plt.savefig(fname = fig_name, dpi=400, bbox_inches='tight')\n",
    "    plt.close('all')\n",
    "    \n",
    "    \n",
    "for anID in list(forest_default_yTest_A2P1.ID):\n",
    "    curr_dt = SG_data_4_plot[SG_data_4_plot.ID==anID].copy()\n",
    "    curr_meta = meta[meta.ID==anID].copy()\n",
    "    \n",
    "    curr_year=curr_dt.human_system_start_time.dt.year.unique()[0]\n",
    "    curr_raw = landsat_DF[landsat_DF.ID==anID].copy()\n",
    "    curr_raw=curr_raw[curr_raw.human_system_start_time.dt.year==curr_year]\n",
    "    \n",
    "    curr_vote = forest_default_yTest_A2P1[forest_default_yTest_A2P1.ID==anID].Vote.values[0]\n",
    "    curr_pred = forest_default_yTest_A2P1[forest_default_yTest_A2P1.ID==anID].RF_default_pred_A2P1.values[0]    \n",
    "    title_ = list(curr_meta.CropTyp)[0] + \" (\" + str(list(curr_meta.Acres)[0]) + \" acre), \"+\\\n",
    "             \"Experts' vote: \" + str(curr_vote) + \", prediction: \" + str(curr_pred)\n",
    "\n",
    "    curr_plt = plot_oneColumn_CropTitle(dt=curr_dt, raw_dt=curr_raw, titlee=title_, _label = \"EVI (5-step smoothed)\")\n",
    "    \n",
    "    plot_path = test_result_dir + \"regular_RF_plots_A2_P1/\"\n",
    "    os.makedirs(plot_path, exist_ok=True)\n",
    "    fig_name = plot_path + anID + '.pdf'\n",
    "    plt.savefig(fname = fig_name, dpi=400, bbox_inches='tight')\n",
    "    plt.close('all')"
   ]
  },
  {
   "cell_type": "markdown",
   "id": "fd59a2a6",
   "metadata": {},
   "source": [
    "# Neural Nets. Deep Learning. Transfer Learning\n",
    "\n",
    "### Need to complete this\n",
    "Choose a probability threshold... etc. "
   ]
  },
  {
   "cell_type": "code",
   "execution_count": 93,
   "id": "1d140352",
   "metadata": {},
   "outputs": [],
   "source": [
    "from tensorflow.keras.utils import to_categorical\n",
    "from keras.models import Sequential\n",
    "from keras.applications.vgg16 import VGG16\n",
    "from keras.models import Model\n",
    "from keras.layers import Dense\n",
    "from keras.layers import Flatten\n",
    "import tensorflow as tf\n",
    "from keras.models import load_model\n",
    "\n",
    "from tensorflow.keras.utils import load_img\n",
    "from tensorflow.keras.utils import img_to_array\n",
    "from keras.models import load_model"
   ]
  },
  {
   "cell_type": "code",
   "execution_count": null,
   "id": "cba994a1",
   "metadata": {},
   "outputs": [],
   "source": [
    "# model_dir = \"/Users/hn/Documents/01_research_data/NASA/ML_Models/\"\n",
    "# model = load_model(model_dir + '01_TL_SingleDoubleEVI_regular_train80.h5')"
   ]
  },
  {
   "cell_type": "code",
   "execution_count": null,
   "id": "6d4f0878",
   "metadata": {},
   "outputs": [],
   "source": [
    "# training_set_dir = \"/Users/hn/Documents/01_research_data/NASA/ML_data/\"\n",
    "# ground_truth_labels = pd.read_csv(training_set_dir+\"train_labels.csv\")"
   ]
  },
  {
   "cell_type": "code",
   "execution_count": null,
   "id": "828b2966",
   "metadata": {},
   "outputs": [],
   "source": [
    "# expert_test_dir = \"/Users/hn/Documents/01_research_data/NASA/ML_data/regular_train_images_\" + VI_idx + \"/test20/\"\n",
    "\n",
    "# test_filenames = os.listdir(expert_test_dir)\n",
    "# expert_test_df = pd.DataFrame({\n",
    "#                                'filename': test_filenames\n",
    "#                                     })\n",
    "# nb_samples = expert_test_df.shape[0]\n",
    "\n",
    "# expert_test_df[\"human_predict\"] = expert_test_df.filename.str.split(\"_\", expand=True)[0]\n",
    "# expert_test_df[\"prob_single\"]=-1.0\n",
    "# print (expert_test_df.shape)\n",
    "# expert_test_df.head(2)"
   ]
  },
  {
   "cell_type": "code",
   "execution_count": null,
   "id": "47c04ddb",
   "metadata": {},
   "outputs": [],
   "source": [
    "# def load_image(filename):\n",
    "#     # load the image\n",
    "#     img = load_img(filename, target_size=(224, 224))\n",
    "#     # convert to array\n",
    "#     img = img_to_array(img)\n",
    "#     # reshape into a single sample with 3 channels\n",
    "#     img = img.reshape(1, 224, 224, 3)\n",
    "#     # center pixel data\n",
    "#     img = img.astype('float32')\n",
    "#     img = img - [123.68, 116.779, 103.939]\n",
    "#     return img\n",
    "\n",
    "# # load an image and predict the class\n",
    "# def run_example():\n",
    "#     # load the image\n",
    "#     test_dir = experts_test_dir = \"/Users/hn/Documents/01_research_data/NASA/ML_data/\" + \\\n",
    "#                                   \"regular_train_images_\" + VI_idx + \"/test20/\"\n",
    "    \n",
    "#     img = load_image(test_dir+'double_1624_WSDA_SF_2016.jpg')\n",
    "#     # load model\n",
    "#     model_dir = \"/Users/hn/Documents/01_research_data/NASA/ML_Models/\"\n",
    "#     model = load_model(model_dir + '01_TL_SingleDoubleEVI_regular_train80.h5')\n",
    "#     result = model.predict(img)\n",
    "#     print(\"result[0]: \", result[0])\n",
    "\n",
    "# # entry point, run the example\n",
    "# run_example()"
   ]
  },
  {
   "cell_type": "code",
   "execution_count": null,
   "id": "90603824",
   "metadata": {},
   "outputs": [],
   "source": []
  },
  {
   "cell_type": "markdown",
   "id": "16a3889a",
   "metadata": {},
   "source": [
    "# KNN"
   ]
  },
  {
   "cell_type": "code",
   "execution_count": 57,
   "id": "f2b138a5",
   "metadata": {},
   "outputs": [],
   "source": [
    "def DTW_prune(ts1, ts2):\n",
    "    d,_ = dtw.warping_paths(ts1, ts2, window=10, use_pruning=True);\n",
    "    return d"
   ]
  },
  {
   "cell_type": "code",
   "execution_count": 58,
   "id": "f3fd1cf8",
   "metadata": {},
   "outputs": [],
   "source": [
    "filename = model_dir + \"00_KNN_regular_EVI_DTW_prune_distanceWeight_12NNisBest.sav\"\n",
    "distanceWeight_KNN = pickle.load(open(filename, 'rb'))"
   ]
  },
  {
   "cell_type": "code",
   "execution_count": 59,
   "id": "e62502bb",
   "metadata": {},
   "outputs": [],
   "source": [
    "filename = model_dir + \"00_KNN_regular_EVI_DTW_prune_uniformWeight_11NNisBest.sav\"\n",
    "uniform_KNN = pickle.load(open(filename, 'rb'))"
   ]
  },
  {
   "cell_type": "code",
   "execution_count": 60,
   "id": "d0193138",
   "metadata": {},
   "outputs": [
    {
     "name": "stdout",
     "output_type": "stream",
     "text": [
      "CPU times: user 11min 7s, sys: 2.5 s, total: 11min 10s\n",
      "Wall time: 11min 10s\n"
     ]
    }
   ],
   "source": [
    "%%time\n",
    "KNN_DTW_test_predictions_uniform = uniform_KNN.predict(x_test_df.iloc[:, 1:])\n",
    "KNN_DTW_test_predictions_distanceWeight = distanceWeight_KNN.predict(x_test_df.iloc[:, 1:])"
   ]
  },
  {
   "cell_type": "code",
   "execution_count": 61,
   "id": "7055d70a",
   "metadata": {},
   "outputs": [
    {
     "data": {
      "text/html": [
       "<div>\n",
       "<style scoped>\n",
       "    .dataframe tbody tr th:only-of-type {\n",
       "        vertical-align: middle;\n",
       "    }\n",
       "\n",
       "    .dataframe tbody tr th {\n",
       "        vertical-align: top;\n",
       "    }\n",
       "\n",
       "    .dataframe thead th {\n",
       "        text-align: right;\n",
       "    }\n",
       "</style>\n",
       "<table border=\"1\" class=\"dataframe\">\n",
       "  <thead>\n",
       "    <tr style=\"text-align: right;\">\n",
       "      <th></th>\n",
       "      <th>ID</th>\n",
       "      <th>Vote</th>\n",
       "      <th>KNN_pred_uniform</th>\n",
       "      <th>KNN_pred_distance</th>\n",
       "    </tr>\n",
       "  </thead>\n",
       "  <tbody>\n",
       "    <tr>\n",
       "      <th>1221</th>\n",
       "      <td>7667_WSDA_SF_2016</td>\n",
       "      <td>1</td>\n",
       "      <td>1</td>\n",
       "      <td>1</td>\n",
       "    </tr>\n",
       "    <tr>\n",
       "      <th>1334</th>\n",
       "      <td>99748_WSDA_SF_2017</td>\n",
       "      <td>1</td>\n",
       "      <td>1</td>\n",
       "      <td>1</td>\n",
       "    </tr>\n",
       "  </tbody>\n",
       "</table>\n",
       "</div>"
      ],
      "text/plain": [
       "                      ID  Vote  KNN_pred_uniform  KNN_pred_distance\n",
       "1221   7667_WSDA_SF_2016     1                 1                  1\n",
       "1334  99748_WSDA_SF_2017     1                 1                  1"
      ]
     },
     "execution_count": 61,
     "metadata": {},
     "output_type": "execute_result"
    }
   ],
   "source": [
    "KNN_y_test=y_test_df.copy()\n",
    "KNN_y_test[\"KNN_pred_uniform\"] = list(KNN_DTW_test_predictions_uniform)\n",
    "KNN_y_test[\"KNN_pred_distance\"] = list(KNN_DTW_test_predictions_distanceWeight)\n",
    "KNN_y_test.head(2)"
   ]
  },
  {
   "cell_type": "code",
   "execution_count": 62,
   "id": "6506026b",
   "metadata": {},
   "outputs": [],
   "source": [
    "KNN_y_test = pd.merge(KNN_y_test, meta, on=['ID'], how='left')"
   ]
  },
  {
   "cell_type": "code",
   "execution_count": 63,
   "id": "a3da1b00",
   "metadata": {},
   "outputs": [
    {
     "name": "stdout",
     "output_type": "stream",
     "text": [
      "240.22581581805161\n",
      "482.93655922516064\n"
     ]
    },
    {
     "data": {
      "text/plain": [
       "242.71074340710902"
      ]
     },
     "execution_count": 63,
     "metadata": {},
     "output_type": "execute_result"
    }
   ],
   "source": [
    "KNN_y_test_dist_A1P2=KNN_y_test[KNN_y_test.Vote==1]\n",
    "KNN_y_test_dist_A1P2=KNN_y_test_dist_A1P2[KNN_y_test_dist_A1P2.KNN_pred_distance==2]\n",
    "\n",
    "KNN_y_test_dist_A2P1=KNN_y_test[KNN_y_test.Vote==2]\n",
    "KNN_y_test_dist_A2P1=KNN_y_test_dist_A2P1[KNN_y_test_dist_A2P1.KNN_pred_distance==1]\n",
    "\n",
    "print (KNN_y_test_dist_A2P1.ExctAcr.sum())\n",
    "print (KNN_y_test_dist_A1P2.ExctAcr.sum())\n",
    "abs(KNN_y_test_dist_A2P1.ExctAcr.sum()-KNN_y_test_dist_A1P2.ExctAcr.sum())"
   ]
  },
  {
   "cell_type": "code",
   "execution_count": 64,
   "id": "a300c2f7",
   "metadata": {},
   "outputs": [
    {
     "name": "stdout",
     "output_type": "stream",
     "text": [
      "391.6405721820946\n",
      "469.92146576602454\n"
     ]
    },
    {
     "data": {
      "text/plain": [
       "78.28089358392992"
      ]
     },
     "execution_count": 64,
     "metadata": {},
     "output_type": "execute_result"
    }
   ],
   "source": [
    "KNN_y_test_uniform_A1P2=KNN_y_test[KNN_y_test.Vote==1]\n",
    "KNN_y_test_uniform_A1P2=KNN_y_test_uniform_A1P2[KNN_y_test_uniform_A1P2.KNN_pred_uniform==2]\n",
    "\n",
    "KNN_y_test_uniform_A2P1=KNN_y_test[KNN_y_test.Vote==2]\n",
    "KNN_y_test_uniform_A2P1=KNN_y_test_uniform_A2P1[KNN_y_test_uniform_A2P1.KNN_pred_uniform==1]\n",
    "\n",
    "\n",
    "print (KNN_y_test_uniform_A2P1.ExctAcr.sum())\n",
    "print (KNN_y_test_uniform_A1P2.ExctAcr.sum())\n",
    "\n",
    "abs(KNN_y_test_uniform_A2P1.ExctAcr.sum()-KNN_y_test_uniform_A1P2.ExctAcr.sum())"
   ]
  },
  {
   "cell_type": "markdown",
   "id": "09c0b734",
   "metadata": {},
   "source": [
    "# Confusion Tables"
   ]
  },
  {
   "cell_type": "code",
   "execution_count": 65,
   "id": "62ea85a0",
   "metadata": {},
   "outputs": [
    {
     "data": {
      "text/html": [
       "<div>\n",
       "<style scoped>\n",
       "    .dataframe tbody tr th:only-of-type {\n",
       "        vertical-align: middle;\n",
       "    }\n",
       "\n",
       "    .dataframe tbody tr th {\n",
       "        vertical-align: top;\n",
       "    }\n",
       "\n",
       "    .dataframe thead th {\n",
       "        text-align: right;\n",
       "    }\n",
       "</style>\n",
       "<table border=\"1\" class=\"dataframe\">\n",
       "  <thead>\n",
       "    <tr style=\"text-align: right;\">\n",
       "      <th></th>\n",
       "      <th>ID</th>\n",
       "      <th>Vote</th>\n",
       "      <th>KNN_pred_uniform</th>\n",
       "      <th>KNN_pred_distance</th>\n",
       "      <th>CropTyp</th>\n",
       "      <th>Irrigtn</th>\n",
       "      <th>DataSrc</th>\n",
       "      <th>Acres</th>\n",
       "      <th>ExctAcr</th>\n",
       "      <th>LstSrvD</th>\n",
       "      <th>county</th>\n",
       "    </tr>\n",
       "  </thead>\n",
       "  <tbody>\n",
       "    <tr>\n",
       "      <th>0</th>\n",
       "      <td>7667_WSDA_SF_2016</td>\n",
       "      <td>1</td>\n",
       "      <td>1</td>\n",
       "      <td>1</td>\n",
       "      <td>wheat</td>\n",
       "      <td>center pivot</td>\n",
       "      <td>producer</td>\n",
       "      <td>35</td>\n",
       "      <td>35.232575</td>\n",
       "      <td>2016/09/21 00:00:00</td>\n",
       "      <td>Benton</td>\n",
       "    </tr>\n",
       "    <tr>\n",
       "      <th>1</th>\n",
       "      <td>99748_WSDA_SF_2017</td>\n",
       "      <td>1</td>\n",
       "      <td>1</td>\n",
       "      <td>1</td>\n",
       "      <td>corn, field</td>\n",
       "      <td>center pivot</td>\n",
       "      <td>wsda</td>\n",
       "      <td>50</td>\n",
       "      <td>50.269316</td>\n",
       "      <td>2017/08/09</td>\n",
       "      <td>Grant</td>\n",
       "    </tr>\n",
       "  </tbody>\n",
       "</table>\n",
       "</div>"
      ],
      "text/plain": [
       "                   ID  Vote  KNN_pred_uniform  KNN_pred_distance      CropTyp  \\\n",
       "0   7667_WSDA_SF_2016     1                 1                  1        wheat   \n",
       "1  99748_WSDA_SF_2017     1                 1                  1  corn, field   \n",
       "\n",
       "        Irrigtn   DataSrc  Acres    ExctAcr              LstSrvD  county  \n",
       "0  center pivot  producer     35  35.232575  2016/09/21 00:00:00  Benton  \n",
       "1  center pivot      wsda     50  50.269316           2017/08/09   Grant  "
      ]
     },
     "execution_count": 65,
     "metadata": {},
     "output_type": "execute_result"
    }
   ],
   "source": [
    "KNN_y_test.head(2)"
   ]
  },
  {
   "cell_type": "code",
   "execution_count": 66,
   "id": "e37c41ac",
   "metadata": {},
   "outputs": [
    {
     "data": {
      "text/html": [
       "<div>\n",
       "<style scoped>\n",
       "    .dataframe tbody tr th:only-of-type {\n",
       "        vertical-align: middle;\n",
       "    }\n",
       "\n",
       "    .dataframe tbody tr th {\n",
       "        vertical-align: top;\n",
       "    }\n",
       "\n",
       "    .dataframe thead th {\n",
       "        text-align: right;\n",
       "    }\n",
       "</style>\n",
       "<table border=\"1\" class=\"dataframe\">\n",
       "  <thead>\n",
       "    <tr style=\"text-align: right;\">\n",
       "      <th></th>\n",
       "      <th>None</th>\n",
       "      <th>Predict_Single</th>\n",
       "      <th>Predict_Double</th>\n",
       "    </tr>\n",
       "  </thead>\n",
       "  <tbody>\n",
       "    <tr>\n",
       "      <th>0</th>\n",
       "      <td>Actual_Single</td>\n",
       "      <td>213</td>\n",
       "      <td>6</td>\n",
       "    </tr>\n",
       "    <tr>\n",
       "      <th>1</th>\n",
       "      <td>Actual_Double</td>\n",
       "      <td>4</td>\n",
       "      <td>46</td>\n",
       "    </tr>\n",
       "  </tbody>\n",
       "</table>\n",
       "</div>"
      ],
      "text/plain": [
       "            None  Predict_Single  Predict_Double\n",
       "0  Actual_Single             213               6\n",
       "1  Actual_Double               4              46"
      ]
     },
     "execution_count": 66,
     "metadata": {},
     "output_type": "execute_result"
    }
   ],
   "source": [
    "# y_test_df_copy=y_test_df.copy()\n",
    "# y_test_df_copy[\"weightDist_predictions\"] = list(KNN_DTW_prune_weightsDistance_predictions)\n",
    "# y_test_df_copy.head(2)\n",
    "\n",
    "####\n",
    "####   Uniform weights\n",
    "####\n",
    "\n",
    "true_single_predicted_single=0\n",
    "true_single_predicted_double=0\n",
    "\n",
    "true_double_predicted_single=0\n",
    "true_double_predicted_double=0\n",
    "\n",
    "actual_double_predicted_single_IDs=[]\n",
    "actual_single_predicted_double_IDs=[]\n",
    "\n",
    "for index in KNN_y_test.index:\n",
    "    curr_vote=list(KNN_y_test[KNN_y_test.index==index].Vote)[0]\n",
    "    curr_predict=list(KNN_y_test[KNN_y_test.index==index].KNN_pred_uniform)[0]\n",
    "    if curr_vote==curr_predict:\n",
    "        if curr_vote==1:\n",
    "            true_single_predicted_single+=1\n",
    "        else:\n",
    "            true_double_predicted_double+=1\n",
    "    else:\n",
    "        if curr_vote==1:\n",
    "            true_single_predicted_double+=1\n",
    "            actual_single_predicted_double_IDs+=list(KNN_y_test[KNN_y_test.index==index].ID)\n",
    "        else:\n",
    "            true_double_predicted_single+=1\n",
    "            actual_double_predicted_single_IDs += list(KNN_y_test[KNN_y_test.index==index].ID)\n",
    "\n",
    "confus_tbl_test = pd.DataFrame(columns=['None', 'Predict_Single', 'Predict_Double'], \n",
    "                               index=range(2))\n",
    "confus_tbl_test.loc[0, 'None'] = 'Actual_Single'\n",
    "confus_tbl_test.loc[1, 'None'] = 'Actual_Double'\n",
    "confus_tbl_test['Predict_Single']=0\n",
    "confus_tbl_test['Predict_Double']=0\n",
    "\n",
    "confus_tbl_test.loc[0, \"Predict_Single\"]=true_single_predicted_single\n",
    "confus_tbl_test.loc[0, \"Predict_Double\"]=true_single_predicted_double\n",
    "confus_tbl_test.loc[1, \"Predict_Single\"]=true_double_predicted_single\n",
    "confus_tbl_test.loc[1, \"Predict_Double\"]=true_double_predicted_double\n",
    "confus_tbl_test"
   ]
  },
  {
   "cell_type": "code",
   "execution_count": 67,
   "id": "6aa6f49c",
   "metadata": {},
   "outputs": [
    {
     "data": {
      "text/html": [
       "<div>\n",
       "<style scoped>\n",
       "    .dataframe tbody tr th:only-of-type {\n",
       "        vertical-align: middle;\n",
       "    }\n",
       "\n",
       "    .dataframe tbody tr th {\n",
       "        vertical-align: top;\n",
       "    }\n",
       "\n",
       "    .dataframe thead th {\n",
       "        text-align: right;\n",
       "    }\n",
       "</style>\n",
       "<table border=\"1\" class=\"dataframe\">\n",
       "  <thead>\n",
       "    <tr style=\"text-align: right;\">\n",
       "      <th></th>\n",
       "      <th>None</th>\n",
       "      <th>Predict_Single</th>\n",
       "      <th>Predict_Double</th>\n",
       "    </tr>\n",
       "  </thead>\n",
       "  <tbody>\n",
       "    <tr>\n",
       "      <th>0</th>\n",
       "      <td>Actual_Single</td>\n",
       "      <td>212</td>\n",
       "      <td>7</td>\n",
       "    </tr>\n",
       "    <tr>\n",
       "      <th>1</th>\n",
       "      <td>Actual_Double</td>\n",
       "      <td>3</td>\n",
       "      <td>47</td>\n",
       "    </tr>\n",
       "  </tbody>\n",
       "</table>\n",
       "</div>"
      ],
      "text/plain": [
       "            None  Predict_Single  Predict_Double\n",
       "0  Actual_Single             212               7\n",
       "1  Actual_Double               3              47"
      ]
     },
     "execution_count": 67,
     "metadata": {},
     "output_type": "execute_result"
    }
   ],
   "source": [
    "# y_test_df_copy=y_test_df.copy()\n",
    "# y_test_df_copy[\"weightDist_predictions\"] = list(KNN_DTW_prune_weightsDistance_predictions)\n",
    "# y_test_df_copy.head(2)\n",
    "\n",
    "####\n",
    "####   Uniform weights\n",
    "####\n",
    "\n",
    "true_single_predicted_single=0\n",
    "true_single_predicted_double=0\n",
    "\n",
    "true_double_predicted_single=0\n",
    "true_double_predicted_double=0\n",
    "\n",
    "actual_double_predicted_single_IDs=[]\n",
    "actual_single_predicted_double_IDs=[]\n",
    "\n",
    "for index in KNN_y_test.index:\n",
    "    curr_vote=list(KNN_y_test[KNN_y_test.index==index].Vote)[0]\n",
    "    curr_predict=list(KNN_y_test[KNN_y_test.index==index].KNN_pred_distance)[0]\n",
    "    if curr_vote==curr_predict:\n",
    "        if curr_vote==1:\n",
    "            true_single_predicted_single+=1\n",
    "        else:\n",
    "            true_double_predicted_double+=1\n",
    "    else:\n",
    "        if curr_vote==1:\n",
    "            true_single_predicted_double+=1\n",
    "            actual_single_predicted_double_IDs+=list(KNN_y_test[KNN_y_test.index==index].ID)\n",
    "        else:\n",
    "            true_double_predicted_single+=1\n",
    "            actual_double_predicted_single_IDs += list(KNN_y_test[KNN_y_test.index==index].ID)\n",
    "\n",
    "confus_tbl_test = pd.DataFrame(columns=['None', 'Predict_Single', 'Predict_Double'], \n",
    "                               index=range(2))\n",
    "confus_tbl_test.loc[0, 'None'] = 'Actual_Single'\n",
    "confus_tbl_test.loc[1, 'None'] = 'Actual_Double'\n",
    "confus_tbl_test['Predict_Single']=0\n",
    "confus_tbl_test['Predict_Double']=0\n",
    "\n",
    "confus_tbl_test.loc[0, \"Predict_Single\"]=true_single_predicted_single\n",
    "confus_tbl_test.loc[0, \"Predict_Double\"]=true_single_predicted_double\n",
    "confus_tbl_test.loc[1, \"Predict_Single\"]=true_double_predicted_single\n",
    "confus_tbl_test.loc[1, \"Predict_Double\"]=true_double_predicted_double\n",
    "confus_tbl_test"
   ]
  },
  {
   "cell_type": "code",
   "execution_count": 68,
   "id": "5c6941d4",
   "metadata": {},
   "outputs": [],
   "source": [
    "out_name=test_result_dir+ \"regular_KNN_y_test.csv\"\n",
    "KNN_y_test.to_csv(out_name, index = False)"
   ]
  },
  {
   "cell_type": "code",
   "execution_count": null,
   "id": "1d1be1f8",
   "metadata": {},
   "outputs": [],
   "source": []
  },
  {
   "cell_type": "code",
   "execution_count": 72,
   "id": "def92f02",
   "metadata": {},
   "outputs": [],
   "source": [
    "for anID in list(KNN_y_test_uniform_A1P2.ID):\n",
    "    curr_dt = SG_data_4_plot[SG_data_4_plot.ID==anID].copy()\n",
    "    curr_meta = meta[meta.ID==anID].copy()\n",
    "    \n",
    "    curr_year=curr_dt.human_system_start_time.dt.year.unique()[0]\n",
    "    curr_raw = landsat_DF[landsat_DF.ID==anID].copy()\n",
    "    curr_raw=curr_raw[curr_raw.human_system_start_time.dt.year==curr_year]\n",
    "    \n",
    "    curr_vote = KNN_y_test_uniform_A1P2[KNN_y_test_uniform_A1P2.ID==anID].Vote.values[0]\n",
    "    curr_pred = KNN_y_test_uniform_A1P2[KNN_y_test_uniform_A1P2.ID==anID].KNN_pred_uniform.values[0]    \n",
    "    title_ = list(curr_meta.CropTyp)[0] + \" (\" + str(list(curr_meta.Acres)[0]) + \" acre), \"+\\\n",
    "             \"Experts' vote: \" + str(curr_vote) + \", prediction: \" + str(curr_pred)\n",
    "    \n",
    "    curr_plt = plot_oneColumn_CropTitle(dt=curr_dt, raw_dt=curr_raw, titlee=title_, \n",
    "                                        _label = \"EVI (5-step smoothed)\")\n",
    "\n",
    "    plot_path = test_result_dir + \"regular_KNN_plots_A1_P2/\"\n",
    "    os.makedirs(plot_path, exist_ok=True)\n",
    "    fig_name = plot_path + anID + '.pdf'\n",
    "    plt.savefig(fname = fig_name, dpi=400, bbox_inches='tight')\n",
    "    plt.close('all')\n",
    "    \n",
    "for anID in list(KNN_y_test_uniform_A2P1.ID):\n",
    "    curr_dt = SG_data_4_plot[SG_data_4_plot.ID==anID].copy()\n",
    "    curr_meta = meta[meta.ID==anID].copy()\n",
    "    \n",
    "    curr_year=curr_dt.human_system_start_time.dt.year.unique()[0]\n",
    "    curr_raw = landsat_DF[landsat_DF.ID==anID].copy()\n",
    "    curr_raw=curr_raw[curr_raw.human_system_start_time.dt.year==curr_year]\n",
    "    \n",
    "    curr_vote = KNN_y_test_uniform_A2P1[KNN_y_test_uniform_A2P1.ID==anID].Vote.values[0]\n",
    "    curr_pred = KNN_y_test_uniform_A2P1[KNN_y_test_uniform_A2P1.ID==anID].KNN_pred_uniform.values[0]    \n",
    "    title_ = list(curr_meta.CropTyp)[0] + \" (\" + str(list(curr_meta.Acres)[0]) + \" acre), \"+\\\n",
    "             \"Experts' vote: \" + str(curr_vote) + \", prediction: \" + str(curr_pred)\n",
    "    \n",
    "    curr_plt = plot_oneColumn_CropTitle(dt=curr_dt, raw_dt=curr_raw, titlee=title_, \n",
    "                                        _label = \"EVI (5-step smoothed)\")\n",
    "    \n",
    "    plot_path = test_result_dir + \"regular_KNN_plots_A2_P1/\"\n",
    "    os.makedirs(plot_path, exist_ok=True)\n",
    "    fig_name = plot_path + anID + '.pdf'\n",
    "    plt.savefig(fname = fig_name, dpi=400, bbox_inches='tight')\n",
    "    plt.close('all')\n"
   ]
  },
  {
   "cell_type": "code",
   "execution_count": 73,
   "id": "fe30a963",
   "metadata": {},
   "outputs": [
    {
     "data": {
      "text/plain": [
       "CropTyp\n",
       "barley            1\n",
       "bean, dry         1\n",
       "buckwheat         1\n",
       "yellow mustard    1\n",
       "Name: CropTyp, dtype: int64"
      ]
     },
     "execution_count": 73,
     "metadata": {},
     "output_type": "execute_result"
    }
   ],
   "source": [
    "KNN_y_test_uniform_A2P1.groupby(['CropTyp'])['CropTyp'].count()"
   ]
  },
  {
   "cell_type": "code",
   "execution_count": 74,
   "id": "c51074b0",
   "metadata": {},
   "outputs": [
    {
     "data": {
      "text/plain": [
       "CropTyp\n",
       "bluegrass seed    1\n",
       "canola            1\n",
       "corn, field       1\n",
       "corn, sweet       1\n",
       "grass hay         1\n",
       "wheat             1\n",
       "Name: CropTyp, dtype: int64"
      ]
     },
     "execution_count": 74,
     "metadata": {},
     "output_type": "execute_result"
    }
   ],
   "source": [
    "KNN_y_test_uniform_A1P2.groupby(['CropTyp'])['CropTyp'].count()"
   ]
  },
  {
   "cell_type": "code",
   "execution_count": null,
   "id": "83485111",
   "metadata": {},
   "outputs": [],
   "source": []
  },
  {
   "cell_type": "code",
   "execution_count": null,
   "id": "38dae98f",
   "metadata": {},
   "outputs": [],
   "source": []
  },
  {
   "cell_type": "markdown",
   "id": "6b79c552",
   "metadata": {},
   "source": [
    "# Are mistakes in Common?"
   ]
  },
  {
   "cell_type": "code",
   "execution_count": 75,
   "id": "ae44b3b7",
   "metadata": {},
   "outputs": [],
   "source": [
    "common_mistakes = y_test_df.copy()"
   ]
  },
  {
   "cell_type": "code",
   "execution_count": 76,
   "id": "c0d39642",
   "metadata": {},
   "outputs": [],
   "source": [
    "SVM_None_y_test_df_A2_P1.rename(columns={\"prediction\": \"SVM_None_pred_A2P1\"}, inplace=True)\n",
    "SVM_None_y_test_df_A1_P2.rename(columns={\"prediction\": \"SVM_None_pred_A1P2\"}, inplace=True)"
   ]
  },
  {
   "cell_type": "code",
   "execution_count": 77,
   "id": "1c4f0268",
   "metadata": {},
   "outputs": [],
   "source": [
    "common_mistakes=pd.merge(common_mistakes, SVM_None_y_test_df_A2_P1[[\"ID\",\"SVM_None_pred_A2P1\"]],on=['ID'],how='left')\n",
    "common_mistakes=pd.merge(common_mistakes, SVM_None_y_test_df_A1_P2[[\"ID\",\"SVM_None_pred_A1P2\"]],on=['ID'],how='left')"
   ]
  },
  {
   "cell_type": "code",
   "execution_count": 78,
   "id": "d88682ec",
   "metadata": {},
   "outputs": [],
   "source": [
    "forest_default_yTest_A2P1.rename(columns={\"prediction\": \"RF_default_pred_A2P1\"}, inplace=True)\n",
    "forest_default_yTest_A1P2.rename(columns={\"prediction\": \"RF_default_pred_A1P2\"}, inplace=True)"
   ]
  },
  {
   "cell_type": "code",
   "execution_count": 79,
   "id": "d44a2a7f",
   "metadata": {},
   "outputs": [],
   "source": [
    "common_mistakes=pd.merge(common_mistakes,\\\n",
    "                        forest_default_yTest_A2P1[[\"ID\",\"RF_default_pred_A2P1\"]],on=['ID'],how='left')\n",
    "common_mistakes=pd.merge(common_mistakes,\\\n",
    "                         forest_default_yTest_A1P2[[\"ID\",\"RF_default_pred_A1P2\"]],on=['ID'],how='left')"
   ]
  },
  {
   "cell_type": "code",
   "execution_count": 80,
   "id": "52f2017f",
   "metadata": {},
   "outputs": [],
   "source": [
    "KNN_y_test_uniform_A2P1.rename(columns={\"KNN_pred_uniform\": \"KNN_uniform_pred_A2P1\"}, inplace=True)\n",
    "KNN_y_test_uniform_A1P2.rename(columns={\"KNN_pred_uniform\": \"KNN_uniform_pred_A1P2\"}, inplace=True)"
   ]
  },
  {
   "cell_type": "code",
   "execution_count": 81,
   "id": "2b8328bb",
   "metadata": {},
   "outputs": [],
   "source": [
    "common_mistakes=pd.merge(common_mistakes,\\\n",
    "                         KNN_y_test_uniform_A2P1[[\"ID\",\"KNN_uniform_pred_A2P1\"]],on=['ID'],how='left')\n",
    "\n",
    "common_mistakes=pd.merge(common_mistakes,\\\n",
    "                         KNN_y_test_uniform_A1P2[[\"ID\",\"KNN_uniform_pred_A1P2\"]], on=['ID'],how='left')"
   ]
  },
  {
   "cell_type": "code",
   "execution_count": 83,
   "id": "336ebe53",
   "metadata": {},
   "outputs": [],
   "source": [
    "common_mistakes_clean=pd.DataFrame() # = common_mistakes.copy() # common_mistakes.dropna(thresh=4)\n",
    "\n",
    "# vote_columns =['SVM_None_pred_A2P1', 'SVM_None_pred_A1P2',\n",
    "#                'RF_default_pred_A2P1', 'RF_default_pred_A1P2', \n",
    "#                'KNN_uniform_pred_A2P1', 'KNN_uniform_pred_A1P2']\n",
    "# for indeks_ in common_mistakes.index:\n",
    "#     curr_row = common_mistakes[common_mistakes.index==indeks_].copy()\n",
    "#     if list(curr_row.isnull().sum(axis=1))[0]<5:\n",
    "#         common_mistakes_clean = pd.concat([common_mistakes_clean, curr_row])"
   ]
  },
  {
   "cell_type": "code",
   "execution_count": 91,
   "id": "78bbe37d",
   "metadata": {},
   "outputs": [
    {
     "data": {
      "text/html": [
       "<div>\n",
       "<style scoped>\n",
       "    .dataframe tbody tr th:only-of-type {\n",
       "        vertical-align: middle;\n",
       "    }\n",
       "\n",
       "    .dataframe tbody tr th {\n",
       "        vertical-align: top;\n",
       "    }\n",
       "\n",
       "    .dataframe thead th {\n",
       "        text-align: right;\n",
       "    }\n",
       "</style>\n",
       "<table border=\"1\" class=\"dataframe\">\n",
       "  <thead>\n",
       "    <tr style=\"text-align: right;\">\n",
       "      <th></th>\n",
       "      <th>ID</th>\n",
       "      <th>Vote</th>\n",
       "      <th>SVM_None_pred_A2P1</th>\n",
       "      <th>SVM_None_pred_A1P2</th>\n",
       "      <th>RF_default_pred_A2P1</th>\n",
       "      <th>RF_default_pred_A1P2</th>\n",
       "      <th>KNN_uniform_pred_A2P1</th>\n",
       "      <th>KNN_uniform_pred_A1P2</th>\n",
       "    </tr>\n",
       "  </thead>\n",
       "  <tbody>\n",
       "    <tr>\n",
       "      <th>20</th>\n",
       "      <td>60678_WSDA_SF_2016</td>\n",
       "      <td>2</td>\n",
       "      <td>1.0</td>\n",
       "      <td>NaN</td>\n",
       "      <td>1.0</td>\n",
       "      <td>NaN</td>\n",
       "      <td>1.0</td>\n",
       "      <td>NaN</td>\n",
       "    </tr>\n",
       "    <tr>\n",
       "      <th>74</th>\n",
       "      <td>2660_WSDA_SF_2016</td>\n",
       "      <td>2</td>\n",
       "      <td>1.0</td>\n",
       "      <td>NaN</td>\n",
       "      <td>1.0</td>\n",
       "      <td>NaN</td>\n",
       "      <td>NaN</td>\n",
       "      <td>NaN</td>\n",
       "    </tr>\n",
       "    <tr>\n",
       "      <th>183</th>\n",
       "      <td>101372_WSDA_SF_2017</td>\n",
       "      <td>1</td>\n",
       "      <td>NaN</td>\n",
       "      <td>2.0</td>\n",
       "      <td>NaN</td>\n",
       "      <td>NaN</td>\n",
       "      <td>NaN</td>\n",
       "      <td>2.0</td>\n",
       "    </tr>\n",
       "    <tr>\n",
       "      <th>188</th>\n",
       "      <td>99837_WSDA_SF_2017</td>\n",
       "      <td>2</td>\n",
       "      <td>NaN</td>\n",
       "      <td>NaN</td>\n",
       "      <td>1.0</td>\n",
       "      <td>NaN</td>\n",
       "      <td>1.0</td>\n",
       "      <td>NaN</td>\n",
       "    </tr>\n",
       "    <tr>\n",
       "      <th>199</th>\n",
       "      <td>53718_WSDA_SF_2016</td>\n",
       "      <td>2</td>\n",
       "      <td>1.0</td>\n",
       "      <td>NaN</td>\n",
       "      <td>1.0</td>\n",
       "      <td>NaN</td>\n",
       "      <td>NaN</td>\n",
       "      <td>NaN</td>\n",
       "    </tr>\n",
       "    <tr>\n",
       "      <th>206</th>\n",
       "      <td>106509_WSDA_SF_2017</td>\n",
       "      <td>2</td>\n",
       "      <td>1.0</td>\n",
       "      <td>NaN</td>\n",
       "      <td>1.0</td>\n",
       "      <td>NaN</td>\n",
       "      <td>1.0</td>\n",
       "      <td>NaN</td>\n",
       "    </tr>\n",
       "    <tr>\n",
       "      <th>252</th>\n",
       "      <td>99643_WSDA_SF_2018</td>\n",
       "      <td>1</td>\n",
       "      <td>NaN</td>\n",
       "      <td>2.0</td>\n",
       "      <td>NaN</td>\n",
       "      <td>NaN</td>\n",
       "      <td>NaN</td>\n",
       "      <td>2.0</td>\n",
       "    </tr>\n",
       "  </tbody>\n",
       "</table>\n",
       "</div>"
      ],
      "text/plain": [
       "                      ID  Vote  SVM_None_pred_A2P1  SVM_None_pred_A1P2  \\\n",
       "20    60678_WSDA_SF_2016     2                 1.0                 NaN   \n",
       "74     2660_WSDA_SF_2016     2                 1.0                 NaN   \n",
       "183  101372_WSDA_SF_2017     1                 NaN                 2.0   \n",
       "188   99837_WSDA_SF_2017     2                 NaN                 NaN   \n",
       "199   53718_WSDA_SF_2016     2                 1.0                 NaN   \n",
       "206  106509_WSDA_SF_2017     2                 1.0                 NaN   \n",
       "252   99643_WSDA_SF_2018     1                 NaN                 2.0   \n",
       "\n",
       "     RF_default_pred_A2P1  RF_default_pred_A1P2  KNN_uniform_pred_A2P1  \\\n",
       "20                    1.0                   NaN                    1.0   \n",
       "74                    1.0                   NaN                    NaN   \n",
       "183                   NaN                   NaN                    NaN   \n",
       "188                   1.0                   NaN                    1.0   \n",
       "199                   1.0                   NaN                    NaN   \n",
       "206                   1.0                   NaN                    1.0   \n",
       "252                   NaN                   NaN                    NaN   \n",
       "\n",
       "     KNN_uniform_pred_A1P2  \n",
       "20                     NaN  \n",
       "74                     NaN  \n",
       "183                    2.0  \n",
       "188                    NaN  \n",
       "199                    NaN  \n",
       "206                    NaN  \n",
       "252                    2.0  "
      ]
     },
     "execution_count": 91,
     "metadata": {},
     "output_type": "execute_result"
    }
   ],
   "source": [
    "common_mistakes_clean=common_mistakes.dropna(thresh=4)\n",
    "common_mistakes_clean"
   ]
  },
  {
   "cell_type": "code",
   "execution_count": 92,
   "id": "275e59e3",
   "metadata": {},
   "outputs": [
    {
     "data": {
      "text/html": [
       "<div>\n",
       "<style scoped>\n",
       "    .dataframe tbody tr th:only-of-type {\n",
       "        vertical-align: middle;\n",
       "    }\n",
       "\n",
       "    .dataframe tbody tr th {\n",
       "        vertical-align: top;\n",
       "    }\n",
       "\n",
       "    .dataframe thead th {\n",
       "        text-align: right;\n",
       "    }\n",
       "</style>\n",
       "<table border=\"1\" class=\"dataframe\">\n",
       "  <thead>\n",
       "    <tr style=\"text-align: right;\">\n",
       "      <th></th>\n",
       "      <th>ID</th>\n",
       "      <th>Vote</th>\n",
       "      <th>SVM_None_pred_A2P1</th>\n",
       "      <th>SVM_None_pred_A1P2</th>\n",
       "      <th>RF_default_pred_A2P1</th>\n",
       "      <th>RF_default_pred_A1P2</th>\n",
       "      <th>KNN_uniform_pred_A2P1</th>\n",
       "      <th>KNN_uniform_pred_A1P2</th>\n",
       "      <th>CropTyp</th>\n",
       "      <th>Irrigtn</th>\n",
       "      <th>DataSrc</th>\n",
       "      <th>Acres</th>\n",
       "      <th>ExctAcr</th>\n",
       "      <th>LstSrvD</th>\n",
       "      <th>county</th>\n",
       "    </tr>\n",
       "  </thead>\n",
       "  <tbody>\n",
       "    <tr>\n",
       "      <th>0</th>\n",
       "      <td>60678_WSDA_SF_2016</td>\n",
       "      <td>2</td>\n",
       "      <td>1.0</td>\n",
       "      <td>NaN</td>\n",
       "      <td>1.0</td>\n",
       "      <td>NaN</td>\n",
       "      <td>1.0</td>\n",
       "      <td>NaN</td>\n",
       "      <td>bean, dry</td>\n",
       "      <td>center pivot</td>\n",
       "      <td>wsda</td>\n",
       "      <td>32</td>\n",
       "      <td>32.322881</td>\n",
       "      <td>2016/08/17 00:00:00</td>\n",
       "      <td>Adams</td>\n",
       "    </tr>\n",
       "    <tr>\n",
       "      <th>1</th>\n",
       "      <td>2660_WSDA_SF_2016</td>\n",
       "      <td>2</td>\n",
       "      <td>1.0</td>\n",
       "      <td>NaN</td>\n",
       "      <td>1.0</td>\n",
       "      <td>NaN</td>\n",
       "      <td>NaN</td>\n",
       "      <td>NaN</td>\n",
       "      <td>corn, field</td>\n",
       "      <td>center pivot</td>\n",
       "      <td>wsda</td>\n",
       "      <td>127</td>\n",
       "      <td>127.042075</td>\n",
       "      <td>2016/08/31 00:00:00</td>\n",
       "      <td>Benton</td>\n",
       "    </tr>\n",
       "    <tr>\n",
       "      <th>2</th>\n",
       "      <td>101372_WSDA_SF_2017</td>\n",
       "      <td>1</td>\n",
       "      <td>NaN</td>\n",
       "      <td>2.0</td>\n",
       "      <td>NaN</td>\n",
       "      <td>NaN</td>\n",
       "      <td>NaN</td>\n",
       "      <td>2.0</td>\n",
       "      <td>canola</td>\n",
       "      <td>center pivot</td>\n",
       "      <td>wsda</td>\n",
       "      <td>80</td>\n",
       "      <td>80.255504</td>\n",
       "      <td>2017/10/16</td>\n",
       "      <td>Grant</td>\n",
       "    </tr>\n",
       "    <tr>\n",
       "      <th>3</th>\n",
       "      <td>99837_WSDA_SF_2017</td>\n",
       "      <td>2</td>\n",
       "      <td>NaN</td>\n",
       "      <td>NaN</td>\n",
       "      <td>1.0</td>\n",
       "      <td>NaN</td>\n",
       "      <td>1.0</td>\n",
       "      <td>NaN</td>\n",
       "      <td>barley</td>\n",
       "      <td>center pivot</td>\n",
       "      <td>wsda</td>\n",
       "      <td>73</td>\n",
       "      <td>73.250981</td>\n",
       "      <td>2017/10/10</td>\n",
       "      <td>Grant</td>\n",
       "    </tr>\n",
       "    <tr>\n",
       "      <th>4</th>\n",
       "      <td>53718_WSDA_SF_2016</td>\n",
       "      <td>2</td>\n",
       "      <td>1.0</td>\n",
       "      <td>NaN</td>\n",
       "      <td>1.0</td>\n",
       "      <td>NaN</td>\n",
       "      <td>NaN</td>\n",
       "      <td>NaN</td>\n",
       "      <td>triticale</td>\n",
       "      <td>center pivot</td>\n",
       "      <td>wsda</td>\n",
       "      <td>124</td>\n",
       "      <td>124.224249</td>\n",
       "      <td>2016/08/17 00:00:00</td>\n",
       "      <td>Adams</td>\n",
       "    </tr>\n",
       "    <tr>\n",
       "      <th>5</th>\n",
       "      <td>106509_WSDA_SF_2017</td>\n",
       "      <td>2</td>\n",
       "      <td>1.0</td>\n",
       "      <td>NaN</td>\n",
       "      <td>1.0</td>\n",
       "      <td>NaN</td>\n",
       "      <td>1.0</td>\n",
       "      <td>NaN</td>\n",
       "      <td>yellow mustard</td>\n",
       "      <td>center pivot</td>\n",
       "      <td>wsda</td>\n",
       "      <td>135</td>\n",
       "      <td>134.651954</td>\n",
       "      <td>2017/10/17</td>\n",
       "      <td>Grant</td>\n",
       "    </tr>\n",
       "    <tr>\n",
       "      <th>6</th>\n",
       "      <td>99643_WSDA_SF_2018</td>\n",
       "      <td>1</td>\n",
       "      <td>NaN</td>\n",
       "      <td>2.0</td>\n",
       "      <td>NaN</td>\n",
       "      <td>NaN</td>\n",
       "      <td>NaN</td>\n",
       "      <td>2.0</td>\n",
       "      <td>corn, field</td>\n",
       "      <td>center pivot</td>\n",
       "      <td>wsda</td>\n",
       "      <td>37</td>\n",
       "      <td>36.938837</td>\n",
       "      <td>2018/06/06 00:00:00</td>\n",
       "      <td>Franklin</td>\n",
       "    </tr>\n",
       "  </tbody>\n",
       "</table>\n",
       "</div>"
      ],
      "text/plain": [
       "                    ID  Vote  SVM_None_pred_A2P1  SVM_None_pred_A1P2  \\\n",
       "0   60678_WSDA_SF_2016     2                 1.0                 NaN   \n",
       "1    2660_WSDA_SF_2016     2                 1.0                 NaN   \n",
       "2  101372_WSDA_SF_2017     1                 NaN                 2.0   \n",
       "3   99837_WSDA_SF_2017     2                 NaN                 NaN   \n",
       "4   53718_WSDA_SF_2016     2                 1.0                 NaN   \n",
       "5  106509_WSDA_SF_2017     2                 1.0                 NaN   \n",
       "6   99643_WSDA_SF_2018     1                 NaN                 2.0   \n",
       "\n",
       "   RF_default_pred_A2P1  RF_default_pred_A1P2  KNN_uniform_pred_A2P1  \\\n",
       "0                   1.0                   NaN                    1.0   \n",
       "1                   1.0                   NaN                    NaN   \n",
       "2                   NaN                   NaN                    NaN   \n",
       "3                   1.0                   NaN                    1.0   \n",
       "4                   1.0                   NaN                    NaN   \n",
       "5                   1.0                   NaN                    1.0   \n",
       "6                   NaN                   NaN                    NaN   \n",
       "\n",
       "   KNN_uniform_pred_A1P2         CropTyp       Irrigtn DataSrc  Acres  \\\n",
       "0                    NaN       bean, dry  center pivot    wsda     32   \n",
       "1                    NaN     corn, field  center pivot    wsda    127   \n",
       "2                    2.0          canola  center pivot    wsda     80   \n",
       "3                    NaN          barley  center pivot    wsda     73   \n",
       "4                    NaN       triticale  center pivot    wsda    124   \n",
       "5                    NaN  yellow mustard  center pivot    wsda    135   \n",
       "6                    2.0     corn, field  center pivot    wsda     37   \n",
       "\n",
       "      ExctAcr              LstSrvD    county  \n",
       "0   32.322881  2016/08/17 00:00:00     Adams  \n",
       "1  127.042075  2016/08/31 00:00:00    Benton  \n",
       "2   80.255504           2017/10/16     Grant  \n",
       "3   73.250981           2017/10/10     Grant  \n",
       "4  124.224249  2016/08/17 00:00:00     Adams  \n",
       "5  134.651954           2017/10/17     Grant  \n",
       "6   36.938837  2018/06/06 00:00:00  Franklin  "
      ]
     },
     "execution_count": 92,
     "metadata": {},
     "output_type": "execute_result"
    }
   ],
   "source": [
    "common_mistakes_clean=pd.merge(common_mistakes_clean, meta, on=['ID'], how='left')\n",
    "common_mistakes_clean"
   ]
  },
  {
   "cell_type": "code",
   "execution_count": null,
   "id": "4569e09a",
   "metadata": {},
   "outputs": [],
   "source": []
  },
  {
   "cell_type": "code",
   "execution_count": 87,
   "id": "2aec9088",
   "metadata": {},
   "outputs": [
    {
     "data": {
      "text/plain": [
       "ID                       106509_WSDA_SF_2017\n",
       "Vote                                       2\n",
       "SVM_None_pred_A2P1                       1.0\n",
       "SVM_None_pred_A1P2                       NaN\n",
       "RF_default_pred_A2P1                     1.0\n",
       "RF_default_pred_A1P2                     NaN\n",
       "KNN_uniform_pred_A2P1                    1.0\n",
       "KNN_uniform_pred_A1P2                    NaN\n",
       "CropTyp                       yellow mustard\n",
       "Irrigtn                         center pivot\n",
       "DataSrc                                 wsda\n",
       "Acres                                    135\n",
       "ExctAcr                           134.651954\n",
       "LstSrvD                           2017/10/17\n",
       "county                                 Grant\n",
       "Name: 5, dtype: object"
      ]
     },
     "execution_count": 87,
     "metadata": {},
     "output_type": "execute_result"
    }
   ],
   "source": [
    "common_mistakes_clean.iloc[5]"
   ]
  },
  {
   "cell_type": "code",
   "execution_count": 88,
   "id": "98f79b82",
   "metadata": {},
   "outputs": [],
   "source": [
    "vote_columns =['SVM_None_pred_A2P1', 'SVM_None_pred_A1P2',\n",
    "               'RF_default_pred_A2P1', 'RF_default_pred_A1P2', \n",
    "               'KNN_uniform_pred_A2P1', 'KNN_uniform_pred_A1P2']\n",
    "\n",
    "vote_colMethod =['SVM', 'SVM', 'RF', 'RF', 'kNN', 'kNN']\n",
    "               \n",
    "for anID in list(common_mistakes_clean.ID):\n",
    "    curr_dt = SG_data_4_plot[SG_data_4_plot.ID==anID].copy()\n",
    "    curr_meta = meta[meta.ID==anID].copy()\n",
    "    \n",
    "    curr_year=curr_dt.human_system_start_time.dt.year.unique()[0]\n",
    "    curr_raw = landsat_DF[landsat_DF.ID==anID].copy()\n",
    "    curr_raw=curr_raw[curr_raw.human_system_start_time.dt.year==curr_year]    \n",
    "    \n",
    "    curr_mistake = common_mistakes_clean[common_mistakes_clean.ID==anID]\n",
    "    curr_vote=list(curr_mistake.Vote)[0]\n",
    "    v = (curr_mistake[vote_columns].notna().iloc[0])*1\n",
    "    mistakeMethods=[vote_colMethod[i] for i in np.where(v.values == 1)[0]]\n",
    "\n",
    "    title_ = list(curr_meta.CropTyp)[0] + \" (\" + str(list(curr_meta.Acres)[0]) + \\\n",
    "             \" acre), Expert Vote: \" + str(curr_vote) + \", mistakes: \" + str(mistakeMethods)\n",
    "    \n",
    "    curr_plt = plot_oneColumn_CropTitle(dt=curr_dt, raw_dt=curr_raw, titlee=title_, \n",
    "                                        _label = \"EVI (5-step smoothed)\")\n",
    "    \n",
    "    if curr_vote==2:\n",
    "        plot_path = test_result_dir + \"commonMistakes/regular/A2P1/\"\n",
    "    else:\n",
    "        plot_path = test_result_dir + \"commonMistakes/regular/A1P2/\"\n",
    "        \n",
    "    os.makedirs(plot_path, exist_ok=True)\n",
    "    fig_name = plot_path + anID + '.pdf'\n",
    "    plt.savefig(fname = fig_name, dpi=400, bbox_inches='tight')\n",
    "    plt.close('all')"
   ]
  },
  {
   "cell_type": "code",
   "execution_count": null,
   "id": "aaecca8c",
   "metadata": {},
   "outputs": [],
   "source": []
  }
 ],
 "metadata": {
  "kernelspec": {
   "display_name": "Python 3 (ipykernel)",
   "language": "python",
   "name": "python3"
  },
  "language_info": {
   "codemirror_mode": {
    "name": "ipython",
    "version": 3
   },
   "file_extension": ".py",
   "mimetype": "text/x-python",
   "name": "python",
   "nbconvert_exporter": "python",
   "pygments_lexer": "ipython3",
   "version": "3.9.12"
  }
 },
 "nbformat": 4,
 "nbformat_minor": 5
}
