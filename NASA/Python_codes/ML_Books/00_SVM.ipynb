{
 "cells": [
  {
   "cell_type": "code",
   "execution_count": 1,
   "id": "d18b414a",
   "metadata": {},
   "outputs": [],
   "source": [
    "import numpy as np\n",
    "import pandas as pd\n",
    "import scipy, scipy.signal\n",
    "\n",
    "from datetime import date\n",
    "import time\n",
    "\n",
    "import random\n",
    "from random import seed\n",
    "from random import random\n",
    "\n",
    "import os, os.path\n",
    "import shutil\n",
    "\n",
    "from sklearn.model_selection import train_test_split\n",
    "from sklearn.linear_model import LogisticRegression\n",
    "\n",
    "from sklearn.neighbors import KNeighborsClassifier\n",
    "from sklearn.model_selection import GridSearchCV\n",
    "from sklearn.metrics import classification_report\n",
    "\n",
    "import matplotlib\n",
    "import matplotlib.pyplot as plt\n",
    "from pylab import imshow\n",
    "\n",
    "import h5py\n",
    "import sys\n",
    "sys.path.append('/Users/hn/Documents/00_GitHub/Ag/NASA/Python_codes/')\n",
    "import NASA_core as nc\n",
    "# import NASA_plot_core.py as rcp"
   ]
  },
  {
   "cell_type": "code",
   "execution_count": 2,
   "id": "4fdf9757",
   "metadata": {},
   "outputs": [],
   "source": [
    "from tslearn.metrics import dtw as dtw_metric\n",
    "\n",
    "# https://dtaidistance.readthedocs.io/en/latest/usage/dtw.html\n",
    "from dtaidistance import dtw\n",
    "from dtaidistance import dtw_visualisation as dtwvis"
   ]
  },
  {
   "cell_type": "code",
   "execution_count": 124,
   "id": "0b89418e",
   "metadata": {},
   "outputs": [
    {
     "data": {
      "text/plain": [
       "0"
      ]
     },
     "execution_count": 124,
     "metadata": {},
     "output_type": "execute_result"
    }
   ],
   "source": []
  },
  {
   "cell_type": "markdown",
   "id": "033e0a8a",
   "metadata": {},
   "source": [
    "# Read Fields Metadata"
   ]
  },
  {
   "cell_type": "code",
   "execution_count": 85,
   "id": "12553de3",
   "metadata": {},
   "outputs": [
    {
     "name": "stdout",
     "output_type": "stream",
     "text": [
      "(6340, 8)\n",
      "(3613, 8)\n"
     ]
    },
    {
     "data": {
      "text/html": [
       "<div>\n",
       "<style scoped>\n",
       "    .dataframe tbody tr th:only-of-type {\n",
       "        vertical-align: middle;\n",
       "    }\n",
       "\n",
       "    .dataframe tbody tr th {\n",
       "        vertical-align: top;\n",
       "    }\n",
       "\n",
       "    .dataframe thead th {\n",
       "        text-align: right;\n",
       "    }\n",
       "</style>\n",
       "<table border=\"1\" class=\"dataframe\">\n",
       "  <thead>\n",
       "    <tr style=\"text-align: right;\">\n",
       "      <th></th>\n",
       "      <th>ID</th>\n",
       "      <th>CropTyp</th>\n",
       "      <th>Irrigtn</th>\n",
       "      <th>DataSrc</th>\n",
       "      <th>Acres</th>\n",
       "      <th>ExctAcr</th>\n",
       "      <th>LstSrvD</th>\n",
       "      <th>county</th>\n",
       "    </tr>\n",
       "  </thead>\n",
       "  <tbody>\n",
       "    <tr>\n",
       "      <th>0</th>\n",
       "      <td>100010_WSDA_SF_2017</td>\n",
       "      <td>alfalfa hay</td>\n",
       "      <td>center pivot</td>\n",
       "      <td>wsda</td>\n",
       "      <td>34</td>\n",
       "      <td>34.310305</td>\n",
       "      <td>2017/09/12</td>\n",
       "      <td>Grant</td>\n",
       "    </tr>\n",
       "    <tr>\n",
       "      <th>1</th>\n",
       "      <td>100204_WSDA_SF_2017</td>\n",
       "      <td>alfalfa hay</td>\n",
       "      <td>center pivot</td>\n",
       "      <td>wsda</td>\n",
       "      <td>62</td>\n",
       "      <td>61.826535</td>\n",
       "      <td>2017/08/09</td>\n",
       "      <td>Grant</td>\n",
       "    </tr>\n",
       "  </tbody>\n",
       "</table>\n",
       "</div>"
      ],
      "text/plain": [
       "                    ID      CropTyp       Irrigtn DataSrc  Acres    ExctAcr  \\\n",
       "0  100010_WSDA_SF_2017  alfalfa hay  center pivot    wsda     34  34.310305   \n",
       "1  100204_WSDA_SF_2017  alfalfa hay  center pivot    wsda     62  61.826535   \n",
       "\n",
       "      LstSrvD county  \n",
       "0  2017/09/12  Grant  \n",
       "1  2017/08/09  Grant  "
      ]
     },
     "execution_count": 85,
     "metadata": {},
     "output_type": "execute_result"
    }
   ],
   "source": [
    "meta_dir = \"/Users/hn/Documents/01_research_data/NASA/parameters/\"\n",
    "meta = pd.read_csv(meta_dir+\"evaluation_set.csv\")\n",
    "meta_moreThan10Acr=meta[meta.Acres>=10]\n",
    "print (meta.shape)\n",
    "print (meta_moreThan10Acr.shape)\n",
    "meta.head(2)"
   ]
  },
  {
   "cell_type": "code",
   "execution_count": null,
   "id": "462298d1",
   "metadata": {},
   "outputs": [],
   "source": []
  },
  {
   "cell_type": "markdown",
   "id": "e2a5bb50",
   "metadata": {},
   "source": [
    "# Read Training Set Labels"
   ]
  },
  {
   "cell_type": "code",
   "execution_count": 86,
   "id": "d96d1a0c",
   "metadata": {},
   "outputs": [
    {
     "name": "stdout",
     "output_type": "stream",
     "text": [
      "Unique Votes:  [2 1]\n",
      "1849\n"
     ]
    },
    {
     "data": {
      "text/html": [
       "<div>\n",
       "<style scoped>\n",
       "    .dataframe tbody tr th:only-of-type {\n",
       "        vertical-align: middle;\n",
       "    }\n",
       "\n",
       "    .dataframe tbody tr th {\n",
       "        vertical-align: top;\n",
       "    }\n",
       "\n",
       "    .dataframe thead th {\n",
       "        text-align: right;\n",
       "    }\n",
       "</style>\n",
       "<table border=\"1\" class=\"dataframe\">\n",
       "  <thead>\n",
       "    <tr style=\"text-align: right;\">\n",
       "      <th></th>\n",
       "      <th>ID</th>\n",
       "      <th>Vote</th>\n",
       "    </tr>\n",
       "  </thead>\n",
       "  <tbody>\n",
       "    <tr>\n",
       "      <th>0</th>\n",
       "      <td>99837_WSDA_SF_2017</td>\n",
       "      <td>2</td>\n",
       "    </tr>\n",
       "    <tr>\n",
       "      <th>1</th>\n",
       "      <td>114615_WSDA_SF_2017</td>\n",
       "      <td>1</td>\n",
       "    </tr>\n",
       "  </tbody>\n",
       "</table>\n",
       "</div>"
      ],
      "text/plain": [
       "                    ID  Vote\n",
       "0   99837_WSDA_SF_2017     2\n",
       "1  114615_WSDA_SF_2017     1"
      ]
     },
     "execution_count": 86,
     "metadata": {},
     "output_type": "execute_result"
    }
   ],
   "source": [
    "training_set_dir = \"/Users/hn/Documents/01_research_data/NASA/ML_data/\"\n",
    "ground_truth_labels = pd.read_csv(training_set_dir+\"train_labels.csv\")\n",
    "print (\"Unique Votes: \", ground_truth_labels.Vote.unique())\n",
    "print (len(ground_truth_labels.ID.unique()))\n",
    "ground_truth_labels.head(2)"
   ]
  },
  {
   "cell_type": "markdown",
   "id": "f90fc675",
   "metadata": {},
   "source": [
    "# Read the Data"
   ]
  },
  {
   "cell_type": "code",
   "execution_count": 87,
   "id": "a6429082",
   "metadata": {},
   "outputs": [],
   "source": [
    "VI_idx = \"EVI\"\n",
    "data_dir = \"/Users/hn/Documents/01_research_data/NASA/VI_TS/04_regularized_TS/\""
   ]
  },
  {
   "cell_type": "code",
   "execution_count": 88,
   "id": "4a837be9",
   "metadata": {},
   "outputs": [
    {
     "data": {
      "text/html": [
       "<div>\n",
       "<style scoped>\n",
       "    .dataframe tbody tr th:only-of-type {\n",
       "        vertical-align: middle;\n",
       "    }\n",
       "\n",
       "    .dataframe tbody tr th {\n",
       "        vertical-align: top;\n",
       "    }\n",
       "\n",
       "    .dataframe thead th {\n",
       "        text-align: right;\n",
       "    }\n",
       "</style>\n",
       "<table border=\"1\" class=\"dataframe\">\n",
       "  <thead>\n",
       "    <tr style=\"text-align: right;\">\n",
       "      <th></th>\n",
       "      <th>ID</th>\n",
       "      <th>human_system_start_time</th>\n",
       "      <th>EVI</th>\n",
       "    </tr>\n",
       "  </thead>\n",
       "  <tbody>\n",
       "    <tr>\n",
       "      <th>0</th>\n",
       "      <td>135073_WSDA_SF_2015</td>\n",
       "      <td>2015-01-10</td>\n",
       "      <td>0.049624</td>\n",
       "    </tr>\n",
       "    <tr>\n",
       "      <th>1</th>\n",
       "      <td>135073_WSDA_SF_2015</td>\n",
       "      <td>2015-01-20</td>\n",
       "      <td>0.026503</td>\n",
       "    </tr>\n",
       "  </tbody>\n",
       "</table>\n",
       "</div>"
      ],
      "text/plain": [
       "                    ID human_system_start_time       EVI\n",
       "0  135073_WSDA_SF_2015              2015-01-10  0.049624\n",
       "1  135073_WSDA_SF_2015              2015-01-20  0.026503"
      ]
     },
     "execution_count": 88,
     "metadata": {},
     "output_type": "execute_result"
    }
   ],
   "source": [
    "file_names = [\"regular_Walla2015_EVI_JFD.csv\", \"regular_AdamBenton2016_EVI_JFD.csv\", \n",
    "              \"regular_Grant2017_EVI_JFD.csv\", \"regular_FranklinYakima2018_EVI_JFD.csv\"]\n",
    "\n",
    "data=pd.DataFrame()\n",
    "\n",
    "for file in file_names:\n",
    "    curr_file=pd.read_csv(data_dir + file)\n",
    "    curr_file['human_system_start_time'] = pd.to_datetime(curr_file['human_system_start_time'])\n",
    "    \n",
    "    # These data are for 3 years. The middle one is the correct one\n",
    "    all_years = sorted(curr_file.human_system_start_time.dt.year.unique())\n",
    "    if len(all_years)==3 or len(all_years)==2:\n",
    "        proper_year = all_years[1]\n",
    "    elif len(all_years)==1:\n",
    "        proper_year = all_years[0]\n",
    "\n",
    "    curr_file = curr_file[curr_file.human_system_start_time.dt.year==proper_year]\n",
    "    data=pd.concat([data, curr_file])\n",
    "\n",
    "data.reset_index(drop=True, inplace=True)\n",
    "data.head(2)"
   ]
  },
  {
   "cell_type": "code",
   "execution_count": 89,
   "id": "1f061df0",
   "metadata": {},
   "outputs": [],
   "source": [
    "ground_truth = data[data.ID.isin(list(ground_truth_labels.ID.unique()))].copy()"
   ]
  },
  {
   "cell_type": "markdown",
   "id": "68a63761",
   "metadata": {},
   "source": [
    "# Toss small fields"
   ]
  },
  {
   "cell_type": "code",
   "execution_count": 93,
   "id": "ca86a698",
   "metadata": {},
   "outputs": [],
   "source": [
    "ground_truth = ground_truth[ground_truth.ID.isin((list(meta_moreThan10Acr.ID)))].copy()\n",
    "ground_truth_labels = ground_truth_labels[ground_truth_labels.ID.isin((list(meta_moreThan10Acr.ID)))].copy()\n",
    "\n",
    "\n",
    "ground_truth.reset_index(drop=True, inplace=True)\n",
    "ground_truth_labels.reset_index(drop=True, inplace=True)"
   ]
  },
  {
   "cell_type": "markdown",
   "id": "eb5a5eb1",
   "metadata": {},
   "source": [
    "# Sort the order of time-series and experts' labels identically"
   ]
  },
  {
   "cell_type": "code",
   "execution_count": 94,
   "id": "e159c2d5",
   "metadata": {},
   "outputs": [
    {
     "name": "stdout",
     "output_type": "stream",
     "text": [
      "100048_WSDA_SF_2017\n",
      "100048_WSDA_SF_2017\n",
      "____________________________________\n",
      "99909_WSDA_SF_2017\n",
      "99909_WSDA_SF_2017\n",
      "____________________________________\n",
      "True\n"
     ]
    }
   ],
   "source": [
    "ground_truth.sort_values(by=[\"ID\", 'human_system_start_time'], inplace=True)\n",
    "ground_truth_labels.sort_values(by=[\"ID\"], inplace=True)\n",
    "\n",
    "ground_truth.reset_index(drop=True, inplace=True)\n",
    "ground_truth_labels.reset_index(drop=True, inplace=True)\n",
    "\n",
    "assert (len(ground_truth.ID.unique()) == len(ground_truth_labels.ID.unique()))\n",
    "\n",
    "print (list(ground_truth.ID)[0])\n",
    "print (list(ground_truth_labels.ID)[0])\n",
    "print (\"____________________________________\")\n",
    "print (list(ground_truth.ID)[-1])\n",
    "print (list(ground_truth_labels.ID)[-1])\n",
    "print (\"____________________________________\")\n",
    "print (list(ground_truth.ID.unique())==list(ground_truth_labels.ID.unique()))"
   ]
  },
  {
   "cell_type": "code",
   "execution_count": 95,
   "id": "f3a627f2",
   "metadata": {},
   "outputs": [
    {
     "data": {
      "text/html": [
       "<div>\n",
       "<style scoped>\n",
       "    .dataframe tbody tr th:only-of-type {\n",
       "        vertical-align: middle;\n",
       "    }\n",
       "\n",
       "    .dataframe tbody tr th {\n",
       "        vertical-align: top;\n",
       "    }\n",
       "\n",
       "    .dataframe thead th {\n",
       "        text-align: right;\n",
       "    }\n",
       "</style>\n",
       "<table border=\"1\" class=\"dataframe\">\n",
       "  <thead>\n",
       "    <tr style=\"text-align: right;\">\n",
       "      <th></th>\n",
       "      <th>ID</th>\n",
       "      <th>EVI_range</th>\n",
       "    </tr>\n",
       "  </thead>\n",
       "  <tbody>\n",
       "    <tr>\n",
       "      <th>0</th>\n",
       "      <td>100048_WSDA_SF_2017</td>\n",
       "      <td>0.602470</td>\n",
       "    </tr>\n",
       "    <tr>\n",
       "      <th>1</th>\n",
       "      <td>100081_WSDA_SF_2017</td>\n",
       "      <td>0.721754</td>\n",
       "    </tr>\n",
       "  </tbody>\n",
       "</table>\n",
       "</div>"
      ],
      "text/plain": [
       "                    ID  EVI_range\n",
       "0  100048_WSDA_SF_2017   0.602470\n",
       "1  100081_WSDA_SF_2017   0.721754"
      ]
     },
     "execution_count": 95,
     "metadata": {},
     "output_type": "execute_result"
    }
   ],
   "source": [
    "mins = ground_truth.groupby(\"ID\")[VI_idx].min()\n",
    "maxs = ground_truth.groupby(\"ID\")[VI_idx].max()\n",
    "_ranges = maxs-mins\n",
    "_ranges = pd.DataFrame(_ranges)\n",
    "_ranges.reset_index(inplace=True)\n",
    "\n",
    "mins = pd.DataFrame(mins)\n",
    "mins.reset_index(inplace=True)\n",
    "\n",
    "\n",
    "_ranges.rename(columns = {'EVI':'EVI_range'}, inplace = True)\n",
    "mins.rename(columns = {'EVI':'EVI_min'}, inplace = True)\n",
    "\n",
    "_ranges.head(2)"
   ]
  },
  {
   "cell_type": "code",
   "execution_count": 96,
   "id": "37149eb1",
   "metadata": {},
   "outputs": [
    {
     "data": {
      "text/html": [
       "<div>\n",
       "<style scoped>\n",
       "    .dataframe tbody tr th:only-of-type {\n",
       "        vertical-align: middle;\n",
       "    }\n",
       "\n",
       "    .dataframe tbody tr th {\n",
       "        vertical-align: top;\n",
       "    }\n",
       "\n",
       "    .dataframe thead th {\n",
       "        text-align: right;\n",
       "    }\n",
       "</style>\n",
       "<table border=\"1\" class=\"dataframe\">\n",
       "  <thead>\n",
       "    <tr style=\"text-align: right;\">\n",
       "      <th></th>\n",
       "      <th>ID</th>\n",
       "      <th>human_system_start_time</th>\n",
       "      <th>EVI</th>\n",
       "      <th>EVI_range</th>\n",
       "      <th>EVI_min</th>\n",
       "      <th>EVI_ratio</th>\n",
       "    </tr>\n",
       "  </thead>\n",
       "  <tbody>\n",
       "    <tr>\n",
       "      <th>0</th>\n",
       "      <td>100048_WSDA_SF_2017</td>\n",
       "      <td>2017-01-06</td>\n",
       "      <td>0.0</td>\n",
       "      <td>0.60247</td>\n",
       "      <td>0.0</td>\n",
       "      <td>0.0</td>\n",
       "    </tr>\n",
       "    <tr>\n",
       "      <th>1</th>\n",
       "      <td>100048_WSDA_SF_2017</td>\n",
       "      <td>2017-01-16</td>\n",
       "      <td>0.0</td>\n",
       "      <td>0.60247</td>\n",
       "      <td>0.0</td>\n",
       "      <td>0.0</td>\n",
       "    </tr>\n",
       "  </tbody>\n",
       "</table>\n",
       "</div>"
      ],
      "text/plain": [
       "                    ID human_system_start_time  EVI  EVI_range  EVI_min  \\\n",
       "0  100048_WSDA_SF_2017              2017-01-06  0.0    0.60247      0.0   \n",
       "1  100048_WSDA_SF_2017              2017-01-16  0.0    0.60247      0.0   \n",
       "\n",
       "   EVI_ratio  \n",
       "0        0.0  \n",
       "1        0.0  "
      ]
     },
     "execution_count": 96,
     "metadata": {},
     "output_type": "execute_result"
    }
   ],
   "source": [
    "ground_truth = pd.merge(ground_truth, _ranges, on=['ID'], how='left')\n",
    "ground_truth = pd.merge(ground_truth, mins, on=['ID'], how='left')\n",
    "ground_truth[\"EVI_ratio\"] = (ground_truth[\"EVI\"]-ground_truth[\"EVI_min\"])/ground_truth[\"EVI_range\"]\n",
    "ground_truth.head(2)"
   ]
  },
  {
   "cell_type": "code",
   "execution_count": 97,
   "id": "6e6ae7c5",
   "metadata": {},
   "outputs": [
    {
     "data": {
      "image/png": "[encoded data removed]",
      "text/plain": [
       "<Figure size 1440x288 with 1 Axes>"
      ]
     },
     "metadata": {
      "needs_background": "light"
     },
     "output_type": "display_data"
    }
   ],
   "source": [
    "ID_1=ground_truth.ID.unique()[0]\n",
    "ID_2=ground_truth.ID.unique()[12]\n",
    "\n",
    "# _minimum = ground_truth[ground_truth.ID==ID_1].EVI.values.min()\n",
    "# _range = ground_truth[ground_truth.ID==ID_1].EVI.values.max()-_minimum\n",
    "# y_1 = (ground_truth[ground_truth.ID==ID_1].EVI.values-_minimum)/_range\n",
    "# _minimum = ground_truth[ground_truth.ID==ID_2].EVI.values.min()\n",
    "# _range = ground_truth[ground_truth.ID==ID_2].EVI.values.max()-_minimum\n",
    "# y_2 = (ground_truth[ground_truth.ID==ID_2].EVI.values-_minimum)/_range\n",
    "\n",
    "dtw_score = dtw_metric(ground_truth[ground_truth.ID==ID_1].EVI.values, \n",
    "                ground_truth[ground_truth.ID==ID_2].EVI.values)\n",
    "\n",
    "dtw_score_ratios = dtw_metric(ground_truth[ground_truth.ID==ID_1].EVI_ratio.values, \n",
    "                       ground_truth[ground_truth.ID==ID_2].EVI_ratio.values)\n",
    "\n",
    "# print (\"dtw score is {:.2f}.\".format(dtw_score))\n",
    "plt.figure(figsize=(20,4))\n",
    "plt.subplot(1, 1, 1)\n",
    "\n",
    "# plot EVIs\n",
    "plt.plot(range(len(ground_truth[ground_truth.ID==ID_1].human_system_start_time.values)),\n",
    "         ground_truth[ground_truth.ID==ID_1].EVI.values,\n",
    "        c='k', linewidth=5);\n",
    "\n",
    "plt.plot(range(len(ground_truth[ground_truth.ID==ID_2].human_system_start_time.values)),\n",
    "         ground_truth[ground_truth.ID==ID_2].EVI.values,\n",
    "        c='red', linewidth=5);\n",
    "\n",
    "# plot ratios\n",
    "plt.plot(range(len(ground_truth[ground_truth.ID==ID_1].human_system_start_time.values)), \n",
    "         ground_truth[ground_truth.ID==ID_1].EVI_ratio.values,\n",
    "         \".-.\", c='k', linewidth=2, label=\"ratios\");\n",
    "\n",
    "plt.plot(range(len(ground_truth[ground_truth.ID==ID_2].human_system_start_time.values)), \n",
    "         ground_truth[ground_truth.ID==ID_2].EVI_ratio.values,\n",
    "         \".-.\", c='red', linewidth=2, label=\"ratios\");\n",
    "\n",
    "title = \"dtw score for EVI is [{:.2f}] and for ratios is [{:.2f}].\".format(dtw_score, dtw_score_ratios)\n",
    "plt.ylim([-0.2, 1.05]);\n",
    "plt.title(title , fontsize = 20);"
   ]
  },
  {
   "cell_type": "code",
   "execution_count": 98,
   "id": "5d75afe8",
   "metadata": {},
   "outputs": [
    {
     "data": {
      "image/png": "[encoded data removed]",
      "text/plain": [
       "<Figure size 432x288 with 2 Axes>"
      ]
     },
     "metadata": {
      "needs_background": "light"
     },
     "output_type": "display_data"
    }
   ],
   "source": [
    "s1=ground_truth[ground_truth.ID==ID_1].EVI_ratio.values\n",
    "s2=ground_truth[ground_truth.ID==ID_2].EVI_ratio.values\n",
    "path = dtw.warping_path(s1, s2)\n",
    "dtwvis.plot_warping(s1, s2, path)\n",
    "distance = dtw.distance(s1, s2)"
   ]
  },
  {
   "cell_type": "code",
   "execution_count": 99,
   "id": "14002391",
   "metadata": {},
   "outputs": [],
   "source": [
    "# d, paths = dtw.warping_paths(s1, s2, window=10, use_pruning=True);\n",
    "# best_path = dtw.best_path(paths);\n",
    "# dtwvis.plot_warpingpaths(s1, s2, paths, best_path);"
   ]
  },
  {
   "cell_type": "markdown",
   "id": "3b68fa11",
   "metadata": {},
   "source": [
    "# Widen Ground Truth Table"
   ]
  },
  {
   "cell_type": "code",
   "execution_count": 100,
   "id": "971dfdb1",
   "metadata": {},
   "outputs": [],
   "source": [
    "EVI_colnames = [VI_idx + \"_\" + str(ii) for ii in range(1, 37) ]\n",
    "columnNames = [\"ID\"] + EVI_colnames\n",
    "ground_truth_wide = pd.DataFrame(columns=columnNames, \n",
    "                             index=range(len(ground_truth.ID.unique())))\n",
    "ground_truth_wide[\"ID\"] = ground_truth.ID.unique()\n",
    "\n",
    "for an_ID in ground_truth.ID.unique():\n",
    "    curr_df = ground_truth[ground_truth.ID==an_ID]\n",
    "    \n",
    "    ground_truth_wide_indx = ground_truth_wide[ground_truth_wide.ID==an_ID].index\n",
    "    ground_truth_wide.loc[ground_truth_wide_indx, \"EVI_1\":\"EVI_36\"] = curr_df.EVI.values[:36]"
   ]
  },
  {
   "cell_type": "code",
   "execution_count": 101,
   "id": "0f671a88",
   "metadata": {},
   "outputs": [
    {
     "data": {
      "text/html": [
       "<div>\n",
       "<style scoped>\n",
       "    .dataframe tbody tr th:only-of-type {\n",
       "        vertical-align: middle;\n",
       "    }\n",
       "\n",
       "    .dataframe tbody tr th {\n",
       "        vertical-align: top;\n",
       "    }\n",
       "\n",
       "    .dataframe thead th {\n",
       "        text-align: right;\n",
       "    }\n",
       "</style>\n",
       "<table border=\"1\" class=\"dataframe\">\n",
       "  <thead>\n",
       "    <tr style=\"text-align: right;\">\n",
       "      <th></th>\n",
       "      <th>ID</th>\n",
       "      <th>EVI_1</th>\n",
       "      <th>EVI_2</th>\n",
       "      <th>EVI_3</th>\n",
       "      <th>EVI_4</th>\n",
       "      <th>EVI_5</th>\n",
       "      <th>EVI_6</th>\n",
       "      <th>EVI_7</th>\n",
       "      <th>EVI_8</th>\n",
       "      <th>EVI_9</th>\n",
       "      <th>...</th>\n",
       "      <th>EVI_27</th>\n",
       "      <th>EVI_28</th>\n",
       "      <th>EVI_29</th>\n",
       "      <th>EVI_30</th>\n",
       "      <th>EVI_31</th>\n",
       "      <th>EVI_32</th>\n",
       "      <th>EVI_33</th>\n",
       "      <th>EVI_34</th>\n",
       "      <th>EVI_35</th>\n",
       "      <th>EVI_36</th>\n",
       "    </tr>\n",
       "  </thead>\n",
       "  <tbody>\n",
       "    <tr>\n",
       "      <th>0</th>\n",
       "      <td>100048_WSDA_SF_2017</td>\n",
       "      <td>0.0</td>\n",
       "      <td>0.0</td>\n",
       "      <td>0.0</td>\n",
       "      <td>0.0</td>\n",
       "      <td>0.0</td>\n",
       "      <td>0.0</td>\n",
       "      <td>0.0</td>\n",
       "      <td>0.072227</td>\n",
       "      <td>0.088491</td>\n",
       "      <td>...</td>\n",
       "      <td>0.111507</td>\n",
       "      <td>0.119534</td>\n",
       "      <td>0.13248</td>\n",
       "      <td>0.061173</td>\n",
       "      <td>0.055843</td>\n",
       "      <td>0.050513</td>\n",
       "      <td>0.045183</td>\n",
       "      <td>0.039854</td>\n",
       "      <td>0.045165</td>\n",
       "      <td>0.050476</td>\n",
       "    </tr>\n",
       "    <tr>\n",
       "      <th>1</th>\n",
       "      <td>100081_WSDA_SF_2017</td>\n",
       "      <td>0.014832</td>\n",
       "      <td>0.167038</td>\n",
       "      <td>0.319244</td>\n",
       "      <td>0.47145</td>\n",
       "      <td>0.378153</td>\n",
       "      <td>0.284855</td>\n",
       "      <td>0.198468</td>\n",
       "      <td>0.290683</td>\n",
       "      <td>0.398445</td>\n",
       "      <td>...</td>\n",
       "      <td>0.096717</td>\n",
       "      <td>0.117915</td>\n",
       "      <td>0.159058</td>\n",
       "      <td>0.121182</td>\n",
       "      <td>0.060591</td>\n",
       "      <td>0.0</td>\n",
       "      <td>0.050004</td>\n",
       "      <td>0.100009</td>\n",
       "      <td>0.102269</td>\n",
       "      <td>0.104529</td>\n",
       "    </tr>\n",
       "  </tbody>\n",
       "</table>\n",
       "<p>2 rows × 37 columns</p>\n",
       "</div>"
      ],
      "text/plain": [
       "                    ID     EVI_1     EVI_2     EVI_3    EVI_4     EVI_5  \\\n",
       "0  100048_WSDA_SF_2017       0.0       0.0       0.0      0.0       0.0   \n",
       "1  100081_WSDA_SF_2017  0.014832  0.167038  0.319244  0.47145  0.378153   \n",
       "\n",
       "      EVI_6     EVI_7     EVI_8     EVI_9  ...    EVI_27    EVI_28    EVI_29  \\\n",
       "0       0.0       0.0  0.072227  0.088491  ...  0.111507  0.119534   0.13248   \n",
       "1  0.284855  0.198468  0.290683  0.398445  ...  0.096717  0.117915  0.159058   \n",
       "\n",
       "     EVI_30    EVI_31    EVI_32    EVI_33    EVI_34    EVI_35    EVI_36  \n",
       "0  0.061173  0.055843  0.050513  0.045183  0.039854  0.045165  0.050476  \n",
       "1  0.121182  0.060591       0.0  0.050004  0.100009  0.102269  0.104529  \n",
       "\n",
       "[2 rows x 37 columns]"
      ]
     },
     "execution_count": 101,
     "metadata": {},
     "output_type": "execute_result"
    }
   ],
   "source": [
    "ground_truth_wide.head(2)"
   ]
  },
  {
   "cell_type": "markdown",
   "id": "79ee2412",
   "metadata": {},
   "source": [
    "# Split Train and Test Set\n",
    "\n",
    "#### Make sure rows of ```ground_truth_allBands``` and ```ground_truth_labels``` are in the same order"
   ]
  },
  {
   "cell_type": "code",
   "execution_count": 102,
   "id": "a836cbd8",
   "metadata": {},
   "outputs": [
    {
     "data": {
      "text/html": [
       "<div>\n",
       "<style scoped>\n",
       "    .dataframe tbody tr th:only-of-type {\n",
       "        vertical-align: middle;\n",
       "    }\n",
       "\n",
       "    .dataframe tbody tr th {\n",
       "        vertical-align: top;\n",
       "    }\n",
       "\n",
       "    .dataframe thead th {\n",
       "        text-align: right;\n",
       "    }\n",
       "</style>\n",
       "<table border=\"1\" class=\"dataframe\">\n",
       "  <thead>\n",
       "    <tr style=\"text-align: right;\">\n",
       "      <th></th>\n",
       "      <th>ID</th>\n",
       "      <th>Vote</th>\n",
       "    </tr>\n",
       "  </thead>\n",
       "  <tbody>\n",
       "    <tr>\n",
       "      <th>0</th>\n",
       "      <td>100048_WSDA_SF_2017</td>\n",
       "      <td>1</td>\n",
       "    </tr>\n",
       "    <tr>\n",
       "      <th>1</th>\n",
       "      <td>100081_WSDA_SF_2017</td>\n",
       "      <td>1</td>\n",
       "    </tr>\n",
       "  </tbody>\n",
       "</table>\n",
       "</div>"
      ],
      "text/plain": [
       "                    ID  Vote\n",
       "0  100048_WSDA_SF_2017     1\n",
       "1  100081_WSDA_SF_2017     1"
      ]
     },
     "execution_count": 102,
     "metadata": {},
     "output_type": "execute_result"
    }
   ],
   "source": [
    "ground_truth_labels.head(2)"
   ]
  },
  {
   "cell_type": "code",
   "execution_count": 103,
   "id": "d78ec7d6",
   "metadata": {},
   "outputs": [
    {
     "data": {
      "text/html": [
       "<div>\n",
       "<style scoped>\n",
       "    .dataframe tbody tr th:only-of-type {\n",
       "        vertical-align: middle;\n",
       "    }\n",
       "\n",
       "    .dataframe tbody tr th {\n",
       "        vertical-align: top;\n",
       "    }\n",
       "\n",
       "    .dataframe thead th {\n",
       "        text-align: right;\n",
       "    }\n",
       "</style>\n",
       "<table border=\"1\" class=\"dataframe\">\n",
       "  <thead>\n",
       "    <tr style=\"text-align: right;\">\n",
       "      <th></th>\n",
       "      <th>ID</th>\n",
       "      <th>human_system_start_time</th>\n",
       "      <th>EVI</th>\n",
       "      <th>EVI_range</th>\n",
       "      <th>EVI_min</th>\n",
       "      <th>EVI_ratio</th>\n",
       "    </tr>\n",
       "  </thead>\n",
       "  <tbody>\n",
       "    <tr>\n",
       "      <th>0</th>\n",
       "      <td>100048_WSDA_SF_2017</td>\n",
       "      <td>2017-01-06</td>\n",
       "      <td>0.0</td>\n",
       "      <td>0.60247</td>\n",
       "      <td>0.0</td>\n",
       "      <td>0.0</td>\n",
       "    </tr>\n",
       "    <tr>\n",
       "      <th>1</th>\n",
       "      <td>100048_WSDA_SF_2017</td>\n",
       "      <td>2017-01-16</td>\n",
       "      <td>0.0</td>\n",
       "      <td>0.60247</td>\n",
       "      <td>0.0</td>\n",
       "      <td>0.0</td>\n",
       "    </tr>\n",
       "  </tbody>\n",
       "</table>\n",
       "</div>"
      ],
      "text/plain": [
       "                    ID human_system_start_time  EVI  EVI_range  EVI_min  \\\n",
       "0  100048_WSDA_SF_2017              2017-01-06  0.0    0.60247      0.0   \n",
       "1  100048_WSDA_SF_2017              2017-01-16  0.0    0.60247      0.0   \n",
       "\n",
       "   EVI_ratio  \n",
       "0        0.0  \n",
       "1        0.0  "
      ]
     },
     "execution_count": 103,
     "metadata": {},
     "output_type": "execute_result"
    }
   ],
   "source": [
    "ground_truth.head(2)"
   ]
  },
  {
   "cell_type": "code",
   "execution_count": 104,
   "id": "ec7b7d6d",
   "metadata": {},
   "outputs": [],
   "source": [
    "ground_truth_labels = ground_truth_labels.set_index('ID')\n",
    "ground_truth_labels = ground_truth_labels.reindex(index=ground_truth_wide['ID'])\n",
    "ground_truth_labels = ground_truth_labels.reset_index()"
   ]
  },
  {
   "cell_type": "code",
   "execution_count": 105,
   "id": "c218ac2e",
   "metadata": {},
   "outputs": [
    {
     "data": {
      "text/html": [
       "<div>\n",
       "<style scoped>\n",
       "    .dataframe tbody tr th:only-of-type {\n",
       "        vertical-align: middle;\n",
       "    }\n",
       "\n",
       "    .dataframe tbody tr th {\n",
       "        vertical-align: top;\n",
       "    }\n",
       "\n",
       "    .dataframe thead th {\n",
       "        text-align: right;\n",
       "    }\n",
       "</style>\n",
       "<table border=\"1\" class=\"dataframe\">\n",
       "  <thead>\n",
       "    <tr style=\"text-align: right;\">\n",
       "      <th></th>\n",
       "      <th>ID</th>\n",
       "      <th>Vote</th>\n",
       "    </tr>\n",
       "  </thead>\n",
       "  <tbody>\n",
       "    <tr>\n",
       "      <th>0</th>\n",
       "      <td>100048_WSDA_SF_2017</td>\n",
       "      <td>1</td>\n",
       "    </tr>\n",
       "    <tr>\n",
       "      <th>1</th>\n",
       "      <td>100081_WSDA_SF_2017</td>\n",
       "      <td>1</td>\n",
       "    </tr>\n",
       "  </tbody>\n",
       "</table>\n",
       "</div>"
      ],
      "text/plain": [
       "                    ID  Vote\n",
       "0  100048_WSDA_SF_2017     1\n",
       "1  100081_WSDA_SF_2017     1"
      ]
     },
     "execution_count": 105,
     "metadata": {},
     "output_type": "execute_result"
    }
   ],
   "source": [
    "ground_truth_labels.head(2)"
   ]
  },
  {
   "cell_type": "code",
   "execution_count": 107,
   "id": "abc7c07b",
   "metadata": {},
   "outputs": [],
   "source": [
    "x_train_df, x_test_df, y_train_df, y_test_df = train_test_split(ground_truth_wide, \n",
    "                                                                ground_truth_labels, \n",
    "                                                                test_size=0.2, \n",
    "                                                                random_state=0,\n",
    "                                                                shuffle=True,\n",
    "                                                                stratify=ground_truth_labels.Vote.values)"
   ]
  },
  {
   "cell_type": "code",
   "execution_count": 108,
   "id": "e307268b",
   "metadata": {},
   "outputs": [
    {
     "data": {
      "text/plain": [
       "(1086, 37)"
      ]
     },
     "execution_count": 108,
     "metadata": {},
     "output_type": "execute_result"
    }
   ],
   "source": [
    "x_train_df.shape"
   ]
  },
  {
   "cell_type": "markdown",
   "id": "669e53a8",
   "metadata": {},
   "source": [
    "# Start SVM"
   ]
  },
  {
   "cell_type": "markdown",
   "id": "dbfd1913",
   "metadata": {},
   "source": [
    "# Definitions\n",
    "\n",
    "  - **Precision** Of all instances we predict $\\hat y = 1$, what fraction is actually 1.\n",
    "     \\begin{equation}\\label{eq:precision}\n",
    "        \\text{Precision} = \\frac{TP}{TP + FP}\n",
    "     \\end{equation}\n",
    "\n",
    "  - **Recall** Of all instances that are actually $y = 1$, what fraction we predict 1.\n",
    "     \\begin{equation}\\label{eq:recall}\n",
    "         \\text{Recall} = \\text{TPR} = \\frac{TP}{TP + FN}\n",
    "     \\end{equation}\n",
    "     \n",
    "  - **Specifity** Fraction of all negative instances that are incorrectly predicted positive.\n",
    "     \\begin{equation}\\label{eq:specifity}\n",
    "        \\text{Specifity} = \\text{FPR} = \\frac{FP}{TN + FP}\\\\\n",
    "     \\end{equation}\n",
    "     \n",
    "  - **F-Score** Adjust $\\beta$ for trade off between  precision and recall. For precision oriented task $\\beta = 0.5$.\n",
    "     \\begin{equation}\\label{eq:Fscore}\n",
    "        F_\\beta = \\frac{(1+\\beta^2) TP}{ (1+\\beta^2) TP + \\beta^2 FN + FP}\n",
    "     \\end{equation}\n",
    "\n"
   ]
  },
  {
   "cell_type": "code",
   "execution_count": 109,
   "id": "1b3d07c0",
   "metadata": {},
   "outputs": [],
   "source": [
    "from sklearn.pipeline import make_pipeline\n",
    "from sklearn.svm import SVC"
   ]
  },
  {
   "cell_type": "code",
   "execution_count": 110,
   "id": "f4f7b5e5",
   "metadata": {},
   "outputs": [],
   "source": [
    "def DTW_prune(ts1, ts2):\n",
    "    d,_ = dtw.warping_paths(ts1, ts2, window=10, use_pruning=True);\n",
    "    return d"
   ]
  },
  {
   "cell_type": "code",
   "execution_count": 111,
   "id": "4dd5cb4f",
   "metadata": {},
   "outputs": [
    {
     "name": "stdout",
     "output_type": "stream",
     "text": [
      "Fitting 5 folds for each of 40 candidates, totalling 200 fits\n",
      "{'C': 5, 'kernel': 'rbf'}\n",
      "0.9696317591848814\n"
     ]
    }
   ],
   "source": [
    "parameters = {'C':[5, 10, 13, 14, 15, 16, 17, 20, 40, 80],\n",
    "              'kernel':['linear', 'poly', 'rbf', 'sigmoid'] # 'linear', 'poly', 'rbf', 'sigmoid', 'precomputed'\n",
    "              } # , \n",
    "SVM_classifier_balanced_00 = GridSearchCV(SVC(random_state=0, class_weight='balanced'), \n",
    "                                          parameters, cv=5, verbose=1)\n",
    "\n",
    "SVM_classifier_balanced_00.fit(x_train_df.iloc[:, 1:], y_train_df.Vote.values)\n",
    "\n",
    "print (SVM_classifier_balanced_00.best_params_)\n",
    "print (SVM_classifier_balanced_00.best_score_)"
   ]
  },
  {
   "cell_type": "code",
   "execution_count": null,
   "id": "67e39472",
   "metadata": {},
   "outputs": [],
   "source": []
  },
  {
   "cell_type": "code",
   "execution_count": 112,
   "id": "913a3201",
   "metadata": {},
   "outputs": [
    {
     "name": "stdout",
     "output_type": "stream",
     "text": [
      "Fitting 5 folds for each of 40 candidates, totalling 200 fits\n",
      "{'C': 10, 'kernel': 'rbf'}\n",
      "0.9723967361434067\n"
     ]
    }
   ],
   "source": [
    "parameters = {'C':[5, 10, 13, 14, 15, 16, 17, 20, 40, 80],\n",
    "              'kernel':['linear', 'poly', 'rbf', 'sigmoid'] # 'linear', 'poly', 'rbf', 'sigmoid', 'precomputed'\n",
    "              } # , \n",
    "SVM_classifier_NoneWeight_00 = GridSearchCV(SVC(random_state=0), \n",
    "                                 parameters, cv=5, verbose=1)\n",
    "\n",
    "SVM_classifier_NoneWeight_00.fit(x_train_df.iloc[:, 1:], y_train_df.Vote.values)\n",
    "\n",
    "print (SVM_classifier_NoneWeight_00.best_params_)\n",
    "print (SVM_classifier_NoneWeight_00.best_score_)"
   ]
  },
  {
   "cell_type": "code",
   "execution_count": 113,
   "id": "347f017d",
   "metadata": {},
   "outputs": [],
   "source": [
    "SVM_classifier_NoneWeight_00_predictions = SVM_classifier_NoneWeight_00.predict(x_test_df.iloc[:, 1:])\n",
    "SVM_classifier_balanced_00_predictions = SVM_classifier_balanced_00.predict(x_test_df.iloc[:, 1:])"
   ]
  },
  {
   "cell_type": "code",
   "execution_count": 114,
   "id": "36c3f711",
   "metadata": {},
   "outputs": [
    {
     "data": {
      "text/html": [
       "<div>\n",
       "<style scoped>\n",
       "    .dataframe tbody tr th:only-of-type {\n",
       "        vertical-align: middle;\n",
       "    }\n",
       "\n",
       "    .dataframe tbody tr th {\n",
       "        vertical-align: top;\n",
       "    }\n",
       "\n",
       "    .dataframe thead th {\n",
       "        text-align: right;\n",
       "    }\n",
       "</style>\n",
       "<table border=\"1\" class=\"dataframe\">\n",
       "  <thead>\n",
       "    <tr style=\"text-align: right;\">\n",
       "      <th></th>\n",
       "      <th>ID</th>\n",
       "      <th>Vote</th>\n",
       "      <th>prediction</th>\n",
       "    </tr>\n",
       "  </thead>\n",
       "  <tbody>\n",
       "    <tr>\n",
       "      <th>1321</th>\n",
       "      <td>98828_WSDA_SF_2017</td>\n",
       "      <td>1</td>\n",
       "      <td>1</td>\n",
       "    </tr>\n",
       "    <tr>\n",
       "      <th>299</th>\n",
       "      <td>105536_WSDA_SF_2018</td>\n",
       "      <td>1</td>\n",
       "      <td>1</td>\n",
       "    </tr>\n",
       "  </tbody>\n",
       "</table>\n",
       "</div>"
      ],
      "text/plain": [
       "                       ID  Vote  prediction\n",
       "1321   98828_WSDA_SF_2017     1           1\n",
       "299   105536_WSDA_SF_2018     1           1"
      ]
     },
     "execution_count": 114,
     "metadata": {},
     "output_type": "execute_result"
    }
   ],
   "source": [
    "balanced_y_test_df=y_test_df.copy()\n",
    "None_y_test_df=y_test_df.copy()\n",
    "balanced_y_test_df[\"prediction\"] = list(SVM_classifier_balanced_00_predictions)\n",
    "balanced_y_test_df.head(2)"
   ]
  },
  {
   "cell_type": "code",
   "execution_count": 115,
   "id": "d03fc0e0",
   "metadata": {},
   "outputs": [
    {
     "data": {
      "text/html": [
       "<div>\n",
       "<style scoped>\n",
       "    .dataframe tbody tr th:only-of-type {\n",
       "        vertical-align: middle;\n",
       "    }\n",
       "\n",
       "    .dataframe tbody tr th {\n",
       "        vertical-align: top;\n",
       "    }\n",
       "\n",
       "    .dataframe thead th {\n",
       "        text-align: right;\n",
       "    }\n",
       "</style>\n",
       "<table border=\"1\" class=\"dataframe\">\n",
       "  <thead>\n",
       "    <tr style=\"text-align: right;\">\n",
       "      <th></th>\n",
       "      <th>ID</th>\n",
       "      <th>Vote</th>\n",
       "      <th>prediction</th>\n",
       "    </tr>\n",
       "  </thead>\n",
       "  <tbody>\n",
       "    <tr>\n",
       "      <th>1321</th>\n",
       "      <td>98828_WSDA_SF_2017</td>\n",
       "      <td>1</td>\n",
       "      <td>1</td>\n",
       "    </tr>\n",
       "    <tr>\n",
       "      <th>299</th>\n",
       "      <td>105536_WSDA_SF_2018</td>\n",
       "      <td>1</td>\n",
       "      <td>1</td>\n",
       "    </tr>\n",
       "  </tbody>\n",
       "</table>\n",
       "</div>"
      ],
      "text/plain": [
       "                       ID  Vote  prediction\n",
       "1321   98828_WSDA_SF_2017     1           1\n",
       "299   105536_WSDA_SF_2018     1           1"
      ]
     },
     "execution_count": 115,
     "metadata": {},
     "output_type": "execute_result"
    }
   ],
   "source": [
    "None_y_test_df=y_test_df.copy()\n",
    "None_y_test_df=y_test_df.copy()\n",
    "None_y_test_df[\"prediction\"] = list(SVM_classifier_NoneWeight_00_predictions)\n",
    "None_y_test_df.head(2)"
   ]
  },
  {
   "cell_type": "code",
   "execution_count": 116,
   "id": "dbc329ea",
   "metadata": {},
   "outputs": [
    {
     "data": {
      "text/html": [
       "<div>\n",
       "<style scoped>\n",
       "    .dataframe tbody tr th:only-of-type {\n",
       "        vertical-align: middle;\n",
       "    }\n",
       "\n",
       "    .dataframe tbody tr th {\n",
       "        vertical-align: top;\n",
       "    }\n",
       "\n",
       "    .dataframe thead th {\n",
       "        text-align: right;\n",
       "    }\n",
       "</style>\n",
       "<table border=\"1\" class=\"dataframe\">\n",
       "  <thead>\n",
       "    <tr style=\"text-align: right;\">\n",
       "      <th></th>\n",
       "      <th>None</th>\n",
       "      <th>Predict_Single</th>\n",
       "      <th>Predict_Double</th>\n",
       "    </tr>\n",
       "  </thead>\n",
       "  <tbody>\n",
       "    <tr>\n",
       "      <th>0</th>\n",
       "      <td>Actual_Single</td>\n",
       "      <td>218</td>\n",
       "      <td>4</td>\n",
       "    </tr>\n",
       "    <tr>\n",
       "      <th>1</th>\n",
       "      <td>Actual_Double</td>\n",
       "      <td>5</td>\n",
       "      <td>45</td>\n",
       "    </tr>\n",
       "  </tbody>\n",
       "</table>\n",
       "</div>"
      ],
      "text/plain": [
       "            None  Predict_Single  Predict_Double\n",
       "0  Actual_Single             218               4\n",
       "1  Actual_Double               5              45"
      ]
     },
     "execution_count": 116,
     "metadata": {},
     "output_type": "execute_result"
    }
   ],
   "source": [
    "# Balanced Confusion Table\n",
    "\n",
    "true_single_predicted_single=0\n",
    "true_single_predicted_double=0\n",
    "\n",
    "true_double_predicted_single=0\n",
    "true_double_predicted_double=0\n",
    "\n",
    "for index in balanced_y_test_df.index:\n",
    "    curr_vote=list(balanced_y_test_df[balanced_y_test_df.index==index].Vote)[0]\n",
    "    curr_predict=list(balanced_y_test_df[balanced_y_test_df.index==index].prediction)[0]\n",
    "    if curr_vote==curr_predict:\n",
    "        if curr_vote==1: \n",
    "            true_single_predicted_single+=1\n",
    "        else:\n",
    "            true_double_predicted_double+=1\n",
    "    else:\n",
    "        if curr_vote==1:\n",
    "            true_single_predicted_double+=1\n",
    "        else:\n",
    "            true_double_predicted_single+=1\n",
    "            \n",
    "balanced_confus_tbl_test = pd.DataFrame(columns=['None', 'Predict_Single', 'Predict_Double'], \n",
    "                               index=range(2))\n",
    "balanced_confus_tbl_test.loc[0, 'None'] = 'Actual_Single'\n",
    "balanced_confus_tbl_test.loc[1, 'None'] = 'Actual_Double'\n",
    "balanced_confus_tbl_test['Predict_Single']=0\n",
    "balanced_confus_tbl_test['Predict_Double']=0\n",
    "\n",
    "balanced_confus_tbl_test.loc[0, \"Predict_Single\"]=true_single_predicted_single\n",
    "balanced_confus_tbl_test.loc[0, \"Predict_Double\"]=true_single_predicted_double\n",
    "balanced_confus_tbl_test.loc[1, \"Predict_Single\"]=true_double_predicted_single\n",
    "balanced_confus_tbl_test.loc[1, \"Predict_Double\"]=true_double_predicted_double\n",
    "balanced_confus_tbl_test"
   ]
  },
  {
   "cell_type": "code",
   "execution_count": 117,
   "id": "cf441d52",
   "metadata": {},
   "outputs": [
    {
     "data": {
      "text/html": [
       "<div>\n",
       "<style scoped>\n",
       "    .dataframe tbody tr th:only-of-type {\n",
       "        vertical-align: middle;\n",
       "    }\n",
       "\n",
       "    .dataframe tbody tr th {\n",
       "        vertical-align: top;\n",
       "    }\n",
       "\n",
       "    .dataframe thead th {\n",
       "        text-align: right;\n",
       "    }\n",
       "</style>\n",
       "<table border=\"1\" class=\"dataframe\">\n",
       "  <thead>\n",
       "    <tr style=\"text-align: right;\">\n",
       "      <th></th>\n",
       "      <th>None</th>\n",
       "      <th>Predict_Single</th>\n",
       "      <th>Predict_Double</th>\n",
       "    </tr>\n",
       "  </thead>\n",
       "  <tbody>\n",
       "    <tr>\n",
       "      <th>0</th>\n",
       "      <td>Actual_Single</td>\n",
       "      <td>218</td>\n",
       "      <td>4</td>\n",
       "    </tr>\n",
       "    <tr>\n",
       "      <th>1</th>\n",
       "      <td>Actual_Double</td>\n",
       "      <td>6</td>\n",
       "      <td>44</td>\n",
       "    </tr>\n",
       "  </tbody>\n",
       "</table>\n",
       "</div>"
      ],
      "text/plain": [
       "            None  Predict_Single  Predict_Double\n",
       "0  Actual_Single             218               4\n",
       "1  Actual_Double               6              44"
      ]
     },
     "execution_count": 117,
     "metadata": {},
     "output_type": "execute_result"
    }
   ],
   "source": [
    "# None Weight Confusion Table\n",
    "\n",
    "true_single_predicted_single=0\n",
    "true_single_predicted_double=0\n",
    "\n",
    "true_double_predicted_single=0\n",
    "true_double_predicted_double=0\n",
    "\n",
    "for index in None_y_test_df.index:\n",
    "    curr_vote=list(None_y_test_df[None_y_test_df.index==index].Vote)[0]\n",
    "    curr_predict=list(None_y_test_df[None_y_test_df.index==index].prediction)[0]\n",
    "    if curr_vote==curr_predict:\n",
    "        if curr_vote==1: \n",
    "            true_single_predicted_single+=1\n",
    "        else:\n",
    "            true_double_predicted_double+=1\n",
    "    else:\n",
    "        if curr_vote==1:\n",
    "            true_single_predicted_double+=1\n",
    "        else:\n",
    "            true_double_predicted_single+=1\n",
    "            \n",
    "None_confus_tbl_test = pd.DataFrame(columns=['None', 'Predict_Single', 'Predict_Double'], \n",
    "                               index=range(2))\n",
    "None_confus_tbl_test.loc[0, 'None'] = 'Actual_Single'\n",
    "None_confus_tbl_test.loc[1, 'None'] = 'Actual_Double'\n",
    "None_confus_tbl_test['Predict_Single']=0\n",
    "None_confus_tbl_test['Predict_Double']=0\n",
    "\n",
    "None_confus_tbl_test.loc[0, \"Predict_Single\"]=true_single_predicted_single\n",
    "None_confus_tbl_test.loc[0, \"Predict_Double\"]=true_single_predicted_double\n",
    "None_confus_tbl_test.loc[1, \"Predict_Single\"]=true_double_predicted_single\n",
    "None_confus_tbl_test.loc[1, \"Predict_Double\"]=true_double_predicted_double\n",
    "None_confus_tbl_test"
   ]
  },
  {
   "cell_type": "code",
   "execution_count": 118,
   "id": "021ab99f",
   "metadata": {},
   "outputs": [
    {
     "name": "stdout",
     "output_type": "stream",
     "text": [
      "              precision    recall  f1-score   support\n",
      "\n",
      "           1       0.97      0.98      0.98       222\n",
      "           2       0.92      0.88      0.90        50\n",
      "\n",
      "    accuracy                           0.96       272\n",
      "   macro avg       0.94      0.93      0.94       272\n",
      "weighted avg       0.96      0.96      0.96       272\n",
      "\n"
     ]
    }
   ],
   "source": [
    "print(classification_report(y_test_df.Vote, SVM_classifier_NoneWeight_00_predictions))"
   ]
  },
  {
   "cell_type": "code",
   "execution_count": 119,
   "id": "85d272f3",
   "metadata": {},
   "outputs": [
    {
     "name": "stdout",
     "output_type": "stream",
     "text": [
      "              precision    recall  f1-score   support\n",
      "\n",
      "           1       0.98      0.98      0.98       222\n",
      "           2       0.92      0.90      0.91        50\n",
      "\n",
      "    accuracy                           0.97       272\n",
      "   macro avg       0.95      0.94      0.94       272\n",
      "weighted avg       0.97      0.97      0.97       272\n",
      "\n"
     ]
    }
   ],
   "source": [
    "print(classification_report(y_test_df.Vote, SVM_classifier_balanced_00_predictions))"
   ]
  },
  {
   "cell_type": "code",
   "execution_count": null,
   "id": "d187ed7c",
   "metadata": {},
   "outputs": [],
   "source": []
  },
  {
   "cell_type": "code",
   "execution_count": 120,
   "id": "ca74c6b6",
   "metadata": {},
   "outputs": [],
   "source": [
    "import pickle\n",
    "model_dir = \"/Users/hn/Documents/01_research_data/NASA/ML_Models/\"\n",
    "filename = model_dir + 'SVM_classifier_balanced_00.sav'\n",
    "pickle.dump(SVM_classifier_balanced_00, open(filename, 'wb'))"
   ]
  },
  {
   "cell_type": "code",
   "execution_count": 121,
   "id": "00a485b4",
   "metadata": {},
   "outputs": [],
   "source": [
    "filename = model_dir + 'SVM_classifier_NoneWeight_00.sav'\n",
    "pickle.dump(SVM_classifier_NoneWeight_00, open(filename, 'wb'))"
   ]
  },
  {
   "cell_type": "code",
   "execution_count": null,
   "id": "d7688abd",
   "metadata": {},
   "outputs": [],
   "source": []
  }
 ],
 "metadata": {
  "kernelspec": {
   "display_name": "Python 3 (ipykernel)",
   "language": "python",
   "name": "python3"
  },
  "language_info": {
   "codemirror_mode": {
    "name": "ipython",
    "version": 3
   },
   "file_extension": ".py",
   "mimetype": "text/x-python",
   "name": "python",
   "nbconvert_exporter": "python",
   "pygments_lexer": "ipython3",
   "version": "3.9.7"
  }
 },
 "nbformat": 4,
 "nbformat_minor": 5
}
