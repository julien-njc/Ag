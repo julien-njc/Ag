{
 "cells": [
  {
   "cell_type": "code",
   "execution_count": 1,
   "id": "e4ee876f",
   "metadata": {},
   "outputs": [],
   "source": [
    "import numpy as np\n",
    "import pandas as pd\n",
    "import scipy, scipy.signal\n",
    "\n",
    "from datetime import date\n",
    "import time\n",
    "\n",
    "from random import seed\n",
    "from random import random\n",
    "\n",
    "import os, os.path\n",
    "import shutil\n",
    "\n",
    "from sklearn.model_selection import train_test_split\n",
    "from sklearn.linear_model import LogisticRegression\n",
    "\n",
    "import matplotlib\n",
    "import matplotlib.pyplot as plt\n",
    "from pylab import imshow\n",
    "\n",
    "import h5py\n",
    "import sys\n",
    "sys.path.append('/Users/hn/Documents/00_GitHub/Ag/NASA/Python_codes/')\n",
    "import NASA_core as nc\n",
    "\n",
    "import matplotlib.dates as mdates\n",
    "from matplotlib.dates import MonthLocator, DateFormatter\n",
    "# import NASA_plot_core.py as rcp"
   ]
  },
  {
   "cell_type": "code",
   "execution_count": 23,
   "id": "31d67176",
   "metadata": {},
   "outputs": [],
   "source": [
    "from tslearn.metrics import dtw"
   ]
  },
  {
   "cell_type": "markdown",
   "id": "e2a5bb50",
   "metadata": {},
   "source": [
    "# Read Training Set Labels"
   ]
  },
  {
   "cell_type": "code",
   "execution_count": 2,
   "id": "d96d1a0c",
   "metadata": {},
   "outputs": [
    {
     "name": "stdout",
     "output_type": "stream",
     "text": [
      "Unique Votes:  [2 1]\n",
      "1849\n"
     ]
    },
    {
     "data": {
      "text/html": [
       "<div>\n",
       "<style scoped>\n",
       "    .dataframe tbody tr th:only-of-type {\n",
       "        vertical-align: middle;\n",
       "    }\n",
       "\n",
       "    .dataframe tbody tr th {\n",
       "        vertical-align: top;\n",
       "    }\n",
       "\n",
       "    .dataframe thead th {\n",
       "        text-align: right;\n",
       "    }\n",
       "</style>\n",
       "<table border=\"1\" class=\"dataframe\">\n",
       "  <thead>\n",
       "    <tr style=\"text-align: right;\">\n",
       "      <th></th>\n",
       "      <th>ID</th>\n",
       "      <th>Vote</th>\n",
       "    </tr>\n",
       "  </thead>\n",
       "  <tbody>\n",
       "    <tr>\n",
       "      <th>0</th>\n",
       "      <td>99837_WSDA_SF_2017</td>\n",
       "      <td>2</td>\n",
       "    </tr>\n",
       "    <tr>\n",
       "      <th>1</th>\n",
       "      <td>114615_WSDA_SF_2017</td>\n",
       "      <td>1</td>\n",
       "    </tr>\n",
       "  </tbody>\n",
       "</table>\n",
       "</div>"
      ],
      "text/plain": [
       "                    ID  Vote\n",
       "0   99837_WSDA_SF_2017     2\n",
       "1  114615_WSDA_SF_2017     1"
      ]
     },
     "execution_count": 2,
     "metadata": {},
     "output_type": "execute_result"
    }
   ],
   "source": [
    "training_set_dir = \"/Users/hn/Documents/01_research_data/NASA/ML_data/\"\n",
    "ground_truth_labels = pd.read_csv(training_set_dir+\"train_labels.csv\")\n",
    "print (\"Unique Votes: \", ground_truth_labels.Vote.unique())\n",
    "print (len(ground_truth_labels.ID.unique()))\n",
    "ground_truth_labels.head(2)"
   ]
  },
  {
   "cell_type": "markdown",
   "id": "f90fc675",
   "metadata": {},
   "source": [
    "# Start VI images"
   ]
  },
  {
   "cell_type": "code",
   "execution_count": 3,
   "id": "6ff19cb2",
   "metadata": {},
   "outputs": [],
   "source": [
    "# interval_size=10\n",
    "# no_data = 365//10"
   ]
  },
  {
   "cell_type": "code",
   "execution_count": 4,
   "id": "a6429082",
   "metadata": {},
   "outputs": [],
   "source": [
    "VI_idx = \"EVI\"\n",
    "data_dir = \"/Users/hn/Documents/01_research_data/NASA/VI_TS/04_regularized_TS/\""
   ]
  },
  {
   "cell_type": "code",
   "execution_count": 5,
   "id": "4a837be9",
   "metadata": {
    "scrolled": true
   },
   "outputs": [
    {
     "data": {
      "text/html": [
       "<div>\n",
       "<style scoped>\n",
       "    .dataframe tbody tr th:only-of-type {\n",
       "        vertical-align: middle;\n",
       "    }\n",
       "\n",
       "    .dataframe tbody tr th {\n",
       "        vertical-align: top;\n",
       "    }\n",
       "\n",
       "    .dataframe thead th {\n",
       "        text-align: right;\n",
       "    }\n",
       "</style>\n",
       "<table border=\"1\" class=\"dataframe\">\n",
       "  <thead>\n",
       "    <tr style=\"text-align: right;\">\n",
       "      <th></th>\n",
       "      <th>ID</th>\n",
       "      <th>human_system_start_time</th>\n",
       "      <th>EVI</th>\n",
       "    </tr>\n",
       "  </thead>\n",
       "  <tbody>\n",
       "    <tr>\n",
       "      <th>0</th>\n",
       "      <td>135073_WSDA_SF_2015</td>\n",
       "      <td>2015-01-10</td>\n",
       "      <td>0.049624</td>\n",
       "    </tr>\n",
       "    <tr>\n",
       "      <th>1</th>\n",
       "      <td>135073_WSDA_SF_2015</td>\n",
       "      <td>2015-01-20</td>\n",
       "      <td>0.026503</td>\n",
       "    </tr>\n",
       "  </tbody>\n",
       "</table>\n",
       "</div>"
      ],
      "text/plain": [
       "                    ID human_system_start_time       EVI\n",
       "0  135073_WSDA_SF_2015              2015-01-10  0.049624\n",
       "1  135073_WSDA_SF_2015              2015-01-20  0.026503"
      ]
     },
     "execution_count": 5,
     "metadata": {},
     "output_type": "execute_result"
    }
   ],
   "source": [
    "file_names = [\"regular_Walla2015_EVI_JFD.csv\", \"regular_AdamBenton2016_EVI_JFD.csv\", \n",
    "              \"regular_Grant2017_EVI_JFD.csv\", \"regular_FranklinYakima2018_EVI_JFD.csv\"]\n",
    "\n",
    "data=pd.DataFrame()\n",
    "\n",
    "for file in file_names:\n",
    "    curr_file=pd.read_csv(data_dir + file)\n",
    "    curr_file['human_system_start_time'] = pd.to_datetime(curr_file['human_system_start_time'])\n",
    "    \n",
    "    # These data are for 3 years. The middle one is the correct one\n",
    "    all_years = sorted(curr_file.human_system_start_time.dt.year.unique())\n",
    "    if len(all_years)==3 or len(all_years)==2:\n",
    "        proper_year = all_years[1]\n",
    "    elif len(all_years)==1:\n",
    "        proper_year = all_years[0]\n",
    "\n",
    "    curr_file = curr_file[curr_file.human_system_start_time.dt.year==proper_year]\n",
    "    data=pd.concat([data, curr_file])\n",
    "\n",
    "data.reset_index(drop=True, inplace=True)\n",
    "data.head(2)"
   ]
  },
  {
   "cell_type": "markdown",
   "id": "ae17b1f9",
   "metadata": {},
   "source": [
    "### Pick up the fields whose \"true\" label we know"
   ]
  },
  {
   "cell_type": "code",
   "execution_count": 6,
   "id": "1f061df0",
   "metadata": {},
   "outputs": [],
   "source": [
    "ID_list = list(ground_truth_labels.ID.unique())\n",
    "ground_truth = data[data.ID.isin(ID_list)].copy()\n",
    "ground_truth.reset_index(drop=True, inplace=True)"
   ]
  },
  {
   "cell_type": "code",
   "execution_count": 7,
   "id": "741eac9b",
   "metadata": {},
   "outputs": [
    {
     "data": {
      "text/plain": [
       "(67255, 3)"
      ]
     },
     "execution_count": 7,
     "metadata": {},
     "output_type": "execute_result"
    }
   ],
   "source": [
    "ground_truth.shape # 67255"
   ]
  },
  {
   "cell_type": "markdown",
   "id": "eb5a5eb1",
   "metadata": {},
   "source": [
    "# Sort the order of time-series and experts' labels identically"
   ]
  },
  {
   "cell_type": "code",
   "execution_count": 24,
   "id": "e159c2d5",
   "metadata": {},
   "outputs": [
    {
     "name": "stdout",
     "output_type": "stream",
     "text": [
      "100048_WSDA_SF_2017\n",
      "100048_WSDA_SF_2017\n",
      "____________________________________\n",
      "99909_WSDA_SF_2017\n",
      "99909_WSDA_SF_2017\n",
      "____________________________________\n",
      "True\n"
     ]
    }
   ],
   "source": [
    "ground_truth.sort_values(by=[\"ID\", 'human_system_start_time'], inplace=True)\n",
    "ground_truth_labels.sort_values(by=[\"ID\"], inplace=True)\n",
    "\n",
    "ground_truth.reset_index(drop=True, inplace=True)\n",
    "ground_truth_labels.reset_index(drop=True, inplace=True)\n",
    "\n",
    "assert (len(ground_truth.ID.unique()) == len(ground_truth_labels.ID.unique()))\n",
    "\n",
    "print (list(ground_truth.ID)[0])\n",
    "print (list(ground_truth_labels.ID)[0])\n",
    "print (\"____________________________________\")\n",
    "print (list(ground_truth.ID)[-1])\n",
    "print (list(ground_truth_labels.ID)[-1])\n",
    "print (\"____________________________________\")\n",
    "print (list(ground_truth.ID.unique())==list(ground_truth_labels.ID.unique()))"
   ]
  },
  {
   "cell_type": "markdown",
   "id": "bc038fa9",
   "metadata": {},
   "source": [
    "### Convert VI table to wide format"
   ]
  },
  {
   "cell_type": "code",
   "execution_count": 11,
   "id": "e6108bb9",
   "metadata": {},
   "outputs": [],
   "source": [
    "EVI_colnames = [VI_idx + \"_\" + str(ii) for ii in range(1, 37) ]\n",
    "columnNames = [\"ID\"] + EVI_colnames\n",
    "ground_truth_wide = pd.DataFrame(columns=columnNames, \n",
    "                             index=range(len(ground_truth.ID.unique())))\n",
    "ground_truth_wide[\"ID\"] = ground_truth.ID.unique()"
   ]
  },
  {
   "cell_type": "code",
   "execution_count": 12,
   "id": "bcad3e3d",
   "metadata": {},
   "outputs": [
    {
     "data": {
      "text/html": [
       "<div>\n",
       "<style scoped>\n",
       "    .dataframe tbody tr th:only-of-type {\n",
       "        vertical-align: middle;\n",
       "    }\n",
       "\n",
       "    .dataframe tbody tr th {\n",
       "        vertical-align: top;\n",
       "    }\n",
       "\n",
       "    .dataframe thead th {\n",
       "        text-align: right;\n",
       "    }\n",
       "</style>\n",
       "<table border=\"1\" class=\"dataframe\">\n",
       "  <thead>\n",
       "    <tr style=\"text-align: right;\">\n",
       "      <th></th>\n",
       "      <th>ID</th>\n",
       "      <th>EVI_1</th>\n",
       "      <th>EVI_2</th>\n",
       "      <th>EVI_3</th>\n",
       "      <th>EVI_4</th>\n",
       "      <th>EVI_5</th>\n",
       "      <th>EVI_6</th>\n",
       "      <th>EVI_7</th>\n",
       "      <th>EVI_8</th>\n",
       "      <th>EVI_9</th>\n",
       "      <th>...</th>\n",
       "      <th>EVI_27</th>\n",
       "      <th>EVI_28</th>\n",
       "      <th>EVI_29</th>\n",
       "      <th>EVI_30</th>\n",
       "      <th>EVI_31</th>\n",
       "      <th>EVI_32</th>\n",
       "      <th>EVI_33</th>\n",
       "      <th>EVI_34</th>\n",
       "      <th>EVI_35</th>\n",
       "      <th>EVI_36</th>\n",
       "    </tr>\n",
       "  </thead>\n",
       "  <tbody>\n",
       "    <tr>\n",
       "      <th>0</th>\n",
       "      <td>100048_WSDA_SF_2017</td>\n",
       "      <td>0.0</td>\n",
       "      <td>0.0</td>\n",
       "      <td>0.0</td>\n",
       "      <td>0.0</td>\n",
       "      <td>0.0</td>\n",
       "      <td>0.0</td>\n",
       "      <td>0.0</td>\n",
       "      <td>0.072227</td>\n",
       "      <td>0.088491</td>\n",
       "      <td>...</td>\n",
       "      <td>0.111507</td>\n",
       "      <td>0.119534</td>\n",
       "      <td>0.13248</td>\n",
       "      <td>0.061173</td>\n",
       "      <td>0.055843</td>\n",
       "      <td>0.050513</td>\n",
       "      <td>0.045183</td>\n",
       "      <td>0.039854</td>\n",
       "      <td>0.045165</td>\n",
       "      <td>0.050476</td>\n",
       "    </tr>\n",
       "    <tr>\n",
       "      <th>1</th>\n",
       "      <td>100081_WSDA_SF_2017</td>\n",
       "      <td>0.014832</td>\n",
       "      <td>0.167038</td>\n",
       "      <td>0.319244</td>\n",
       "      <td>0.47145</td>\n",
       "      <td>0.378153</td>\n",
       "      <td>0.284855</td>\n",
       "      <td>0.198468</td>\n",
       "      <td>0.290683</td>\n",
       "      <td>0.398445</td>\n",
       "      <td>...</td>\n",
       "      <td>0.096717</td>\n",
       "      <td>0.117915</td>\n",
       "      <td>0.159058</td>\n",
       "      <td>0.121182</td>\n",
       "      <td>0.060591</td>\n",
       "      <td>0.0</td>\n",
       "      <td>0.050004</td>\n",
       "      <td>0.100009</td>\n",
       "      <td>0.102269</td>\n",
       "      <td>0.104529</td>\n",
       "    </tr>\n",
       "  </tbody>\n",
       "</table>\n",
       "<p>2 rows × 37 columns</p>\n",
       "</div>"
      ],
      "text/plain": [
       "                    ID     EVI_1     EVI_2     EVI_3    EVI_4     EVI_5  \\\n",
       "0  100048_WSDA_SF_2017       0.0       0.0       0.0      0.0       0.0   \n",
       "1  100081_WSDA_SF_2017  0.014832  0.167038  0.319244  0.47145  0.378153   \n",
       "\n",
       "      EVI_6     EVI_7     EVI_8     EVI_9  ...    EVI_27    EVI_28    EVI_29  \\\n",
       "0       0.0       0.0  0.072227  0.088491  ...  0.111507  0.119534   0.13248   \n",
       "1  0.284855  0.198468  0.290683  0.398445  ...  0.096717  0.117915  0.159058   \n",
       "\n",
       "     EVI_30    EVI_31    EVI_32    EVI_33    EVI_34    EVI_35    EVI_36  \n",
       "0  0.061173  0.055843  0.050513  0.045183  0.039854  0.045165  0.050476  \n",
       "1  0.121182  0.060591       0.0  0.050004  0.100009  0.102269  0.104529  \n",
       "\n",
       "[2 rows x 37 columns]"
      ]
     },
     "execution_count": 12,
     "metadata": {},
     "output_type": "execute_result"
    }
   ],
   "source": [
    "for an_ID in ground_truth.ID.unique():\n",
    "    curr_df = ground_truth[ground_truth.ID==an_ID]\n",
    "    \n",
    "    ground_truth_wide_indx = ground_truth_wide[ground_truth_wide.ID==an_ID].index\n",
    "    ground_truth_wide.loc[ground_truth_wide_indx, \"EVI_1\":\"EVI_36\"] = curr_df.EVI.values[:36]\n",
    "ground_truth_wide.head(2)"
   ]
  },
  {
   "cell_type": "code",
   "execution_count": 13,
   "id": "5a5b535d",
   "metadata": {},
   "outputs": [
    {
     "data": {
      "text/html": [
       "<div>\n",
       "<style scoped>\n",
       "    .dataframe tbody tr th:only-of-type {\n",
       "        vertical-align: middle;\n",
       "    }\n",
       "\n",
       "    .dataframe tbody tr th {\n",
       "        vertical-align: top;\n",
       "    }\n",
       "\n",
       "    .dataframe thead th {\n",
       "        text-align: right;\n",
       "    }\n",
       "</style>\n",
       "<table border=\"1\" class=\"dataframe\">\n",
       "  <thead>\n",
       "    <tr style=\"text-align: right;\">\n",
       "      <th></th>\n",
       "      <th>ID</th>\n",
       "      <th>human_system_start_time</th>\n",
       "      <th>EVI</th>\n",
       "    </tr>\n",
       "  </thead>\n",
       "  <tbody>\n",
       "    <tr>\n",
       "      <th>0</th>\n",
       "      <td>100048_WSDA_SF_2017</td>\n",
       "      <td>2017-01-06</td>\n",
       "      <td>0.0</td>\n",
       "    </tr>\n",
       "    <tr>\n",
       "      <th>1</th>\n",
       "      <td>100048_WSDA_SF_2017</td>\n",
       "      <td>2017-01-16</td>\n",
       "      <td>0.0</td>\n",
       "    </tr>\n",
       "  </tbody>\n",
       "</table>\n",
       "</div>"
      ],
      "text/plain": [
       "                    ID human_system_start_time  EVI\n",
       "0  100048_WSDA_SF_2017              2017-01-06  0.0\n",
       "1  100048_WSDA_SF_2017              2017-01-16  0.0"
      ]
     },
     "execution_count": 13,
     "metadata": {},
     "output_type": "execute_result"
    }
   ],
   "source": [
    "ground_truth.head(2)"
   ]
  },
  {
   "cell_type": "code",
   "execution_count": 14,
   "id": "51919832",
   "metadata": {},
   "outputs": [
    {
     "data": {
      "text/html": [
       "<div>\n",
       "<style scoped>\n",
       "    .dataframe tbody tr th:only-of-type {\n",
       "        vertical-align: middle;\n",
       "    }\n",
       "\n",
       "    .dataframe tbody tr th {\n",
       "        vertical-align: top;\n",
       "    }\n",
       "\n",
       "    .dataframe thead th {\n",
       "        text-align: right;\n",
       "    }\n",
       "</style>\n",
       "<table border=\"1\" class=\"dataframe\">\n",
       "  <thead>\n",
       "    <tr style=\"text-align: right;\">\n",
       "      <th></th>\n",
       "      <th>ID</th>\n",
       "      <th>Vote</th>\n",
       "    </tr>\n",
       "  </thead>\n",
       "  <tbody>\n",
       "    <tr>\n",
       "      <th>0</th>\n",
       "      <td>100048_WSDA_SF_2017</td>\n",
       "      <td>1</td>\n",
       "    </tr>\n",
       "    <tr>\n",
       "      <th>1</th>\n",
       "      <td>100081_WSDA_SF_2017</td>\n",
       "      <td>1</td>\n",
       "    </tr>\n",
       "  </tbody>\n",
       "</table>\n",
       "</div>"
      ],
      "text/plain": [
       "                    ID  Vote\n",
       "0  100048_WSDA_SF_2017     1\n",
       "1  100081_WSDA_SF_2017     1"
      ]
     },
     "execution_count": 14,
     "metadata": {},
     "output_type": "execute_result"
    }
   ],
   "source": [
    "ground_truth_labels.head(2)"
   ]
  },
  {
   "cell_type": "markdown",
   "id": "c4be0c3d",
   "metadata": {},
   "source": [
    "# Check if we did the right things:"
   ]
  },
  {
   "cell_type": "code",
   "execution_count": 15,
   "id": "fbafa5e9",
   "metadata": {},
   "outputs": [
    {
     "data": {
      "text/plain": [
       "1849"
      ]
     },
     "execution_count": 15,
     "metadata": {},
     "output_type": "execute_result"
    }
   ],
   "source": [
    "(ground_truth_wide.ID==ground_truth_labels.ID).sum()"
   ]
  },
  {
   "cell_type": "code",
   "execution_count": 16,
   "id": "761321f9",
   "metadata": {},
   "outputs": [
    {
     "data": {
      "image/png": "[encoded data removed]",
      "text/plain": [
       "<Figure size 1440x288 with 1 Axes>"
      ]
     },
     "metadata": {
      "needs_background": "light"
     },
     "output_type": "display_data"
    }
   ],
   "source": [
    "plt.figure(figsize=(20,4))\n",
    "plt.subplot(1, 1, 1)\n",
    "\n",
    "field_number = 120\n",
    "ID = ground_truth.ID.unique()[field_number]\n",
    "plt.scatter(ground_truth[ground_truth.ID==ID][\"human_system_start_time\"].values[:36],\n",
    "            ground_truth[ground_truth.ID==ID][VI_idx].values[:36],\n",
    "            marker='o', s=65, c='b', label=VI_idx);\n",
    "\n",
    "plt.scatter(ground_truth[ground_truth.ID==ID][\"human_system_start_time\"].values[:36],\n",
    "            ground_truth_wide[ground_truth_wide.ID==ID].values[0][1:],\n",
    "            marker='o', s=25, c='r', label=VI_idx);\n",
    "plt.ylim([-0.2, 1])\n",
    "\n",
    "vote = str(ground_truth_labels[ground_truth_labels.ID==ground_truth.ID.unique()[field_number]]['Vote'].values[0])\n",
    "title = ground_truth.ID.unique()[field_number] + \", \" + \"Vote: \" + vote\n",
    "plt.title(title , fontsize = 20);"
   ]
  },
  {
   "cell_type": "code",
   "execution_count": 17,
   "id": "5c344a6a",
   "metadata": {},
   "outputs": [
    {
     "data": {
      "text/plain": [
       "True"
      ]
     },
     "execution_count": 17,
     "metadata": {},
     "output_type": "execute_result"
    }
   ],
   "source": [
    "len(ground_truth_wide.ID.unique())==len(ground_truth_labels.ID.unique())"
   ]
  },
  {
   "cell_type": "code",
   "execution_count": 18,
   "id": "72f62945",
   "metadata": {},
   "outputs": [],
   "source": [
    "ground_truth.sort_values(by=[\"ID\", 'human_system_start_time'], inplace=True)\n",
    "ground_truth_labels.sort_values(by=[\"ID\"], inplace=True)\n",
    "\n",
    "ground_truth.reset_index(drop=True, inplace=True)\n",
    "ground_truth_labels.reset_index(drop=True, inplace=True)"
   ]
  },
  {
   "cell_type": "code",
   "execution_count": 19,
   "id": "8a6529cc",
   "metadata": {},
   "outputs": [
    {
     "data": {
      "text/html": [
       "<div>\n",
       "<style scoped>\n",
       "    .dataframe tbody tr th:only-of-type {\n",
       "        vertical-align: middle;\n",
       "    }\n",
       "\n",
       "    .dataframe tbody tr th {\n",
       "        vertical-align: top;\n",
       "    }\n",
       "\n",
       "    .dataframe thead th {\n",
       "        text-align: right;\n",
       "    }\n",
       "</style>\n",
       "<table border=\"1\" class=\"dataframe\">\n",
       "  <thead>\n",
       "    <tr style=\"text-align: right;\">\n",
       "      <th></th>\n",
       "      <th>ID</th>\n",
       "      <th>EVI_1</th>\n",
       "      <th>EVI_2</th>\n",
       "      <th>EVI_3</th>\n",
       "      <th>EVI_4</th>\n",
       "      <th>EVI_5</th>\n",
       "      <th>EVI_6</th>\n",
       "      <th>EVI_7</th>\n",
       "      <th>EVI_8</th>\n",
       "      <th>EVI_9</th>\n",
       "      <th>...</th>\n",
       "      <th>EVI_27</th>\n",
       "      <th>EVI_28</th>\n",
       "      <th>EVI_29</th>\n",
       "      <th>EVI_30</th>\n",
       "      <th>EVI_31</th>\n",
       "      <th>EVI_32</th>\n",
       "      <th>EVI_33</th>\n",
       "      <th>EVI_34</th>\n",
       "      <th>EVI_35</th>\n",
       "      <th>EVI_36</th>\n",
       "    </tr>\n",
       "  </thead>\n",
       "  <tbody>\n",
       "    <tr>\n",
       "      <th>0</th>\n",
       "      <td>100048_WSDA_SF_2017</td>\n",
       "      <td>0.0</td>\n",
       "      <td>0.0</td>\n",
       "      <td>0.0</td>\n",
       "      <td>0.0</td>\n",
       "      <td>0.0</td>\n",
       "      <td>0.0</td>\n",
       "      <td>0.0</td>\n",
       "      <td>0.072227</td>\n",
       "      <td>0.088491</td>\n",
       "      <td>...</td>\n",
       "      <td>0.111507</td>\n",
       "      <td>0.119534</td>\n",
       "      <td>0.13248</td>\n",
       "      <td>0.061173</td>\n",
       "      <td>0.055843</td>\n",
       "      <td>0.050513</td>\n",
       "      <td>0.045183</td>\n",
       "      <td>0.039854</td>\n",
       "      <td>0.045165</td>\n",
       "      <td>0.050476</td>\n",
       "    </tr>\n",
       "    <tr>\n",
       "      <th>1</th>\n",
       "      <td>100081_WSDA_SF_2017</td>\n",
       "      <td>0.014832</td>\n",
       "      <td>0.167038</td>\n",
       "      <td>0.319244</td>\n",
       "      <td>0.47145</td>\n",
       "      <td>0.378153</td>\n",
       "      <td>0.284855</td>\n",
       "      <td>0.198468</td>\n",
       "      <td>0.290683</td>\n",
       "      <td>0.398445</td>\n",
       "      <td>...</td>\n",
       "      <td>0.096717</td>\n",
       "      <td>0.117915</td>\n",
       "      <td>0.159058</td>\n",
       "      <td>0.121182</td>\n",
       "      <td>0.060591</td>\n",
       "      <td>0.0</td>\n",
       "      <td>0.050004</td>\n",
       "      <td>0.100009</td>\n",
       "      <td>0.102269</td>\n",
       "      <td>0.104529</td>\n",
       "    </tr>\n",
       "  </tbody>\n",
       "</table>\n",
       "<p>2 rows × 37 columns</p>\n",
       "</div>"
      ],
      "text/plain": [
       "                    ID     EVI_1     EVI_2     EVI_3    EVI_4     EVI_5  \\\n",
       "0  100048_WSDA_SF_2017       0.0       0.0       0.0      0.0       0.0   \n",
       "1  100081_WSDA_SF_2017  0.014832  0.167038  0.319244  0.47145  0.378153   \n",
       "\n",
       "      EVI_6     EVI_7     EVI_8     EVI_9  ...    EVI_27    EVI_28    EVI_29  \\\n",
       "0       0.0       0.0  0.072227  0.088491  ...  0.111507  0.119534   0.13248   \n",
       "1  0.284855  0.198468  0.290683  0.398445  ...  0.096717  0.117915  0.159058   \n",
       "\n",
       "     EVI_30    EVI_31    EVI_32    EVI_33    EVI_34    EVI_35    EVI_36  \n",
       "0  0.061173  0.055843  0.050513  0.045183  0.039854  0.045165  0.050476  \n",
       "1  0.121182  0.060591       0.0  0.050004  0.100009  0.102269  0.104529  \n",
       "\n",
       "[2 rows x 37 columns]"
      ]
     },
     "execution_count": 19,
     "metadata": {},
     "output_type": "execute_result"
    }
   ],
   "source": [
    "ground_truth_wide.head(2)"
   ]
  },
  {
   "cell_type": "code",
   "execution_count": 20,
   "id": "35282953",
   "metadata": {},
   "outputs": [
    {
     "data": {
      "text/html": [
       "<div>\n",
       "<style scoped>\n",
       "    .dataframe tbody tr th:only-of-type {\n",
       "        vertical-align: middle;\n",
       "    }\n",
       "\n",
       "    .dataframe tbody tr th {\n",
       "        vertical-align: top;\n",
       "    }\n",
       "\n",
       "    .dataframe thead th {\n",
       "        text-align: right;\n",
       "    }\n",
       "</style>\n",
       "<table border=\"1\" class=\"dataframe\">\n",
       "  <thead>\n",
       "    <tr style=\"text-align: right;\">\n",
       "      <th></th>\n",
       "      <th>ID</th>\n",
       "      <th>Vote</th>\n",
       "    </tr>\n",
       "  </thead>\n",
       "  <tbody>\n",
       "    <tr>\n",
       "      <th>0</th>\n",
       "      <td>100048_WSDA_SF_2017</td>\n",
       "      <td>1</td>\n",
       "    </tr>\n",
       "    <tr>\n",
       "      <th>1</th>\n",
       "      <td>100081_WSDA_SF_2017</td>\n",
       "      <td>1</td>\n",
       "    </tr>\n",
       "  </tbody>\n",
       "</table>\n",
       "</div>"
      ],
      "text/plain": [
       "                    ID  Vote\n",
       "0  100048_WSDA_SF_2017     1\n",
       "1  100081_WSDA_SF_2017     1"
      ]
     },
     "execution_count": 20,
     "metadata": {},
     "output_type": "execute_result"
    }
   ],
   "source": [
    "ground_truth_labels.head(2)"
   ]
  },
  {
   "cell_type": "markdown",
   "id": "dc99bd79",
   "metadata": {},
   "source": [
    "# Split Train and Test Set\n",
    "\n",
    "#### Make sure rows of ```ground_truth_allBands``` and ```ground_truth_labels``` are in the same order"
   ]
  },
  {
   "cell_type": "code",
   "execution_count": 21,
   "id": "9d6e67d8",
   "metadata": {},
   "outputs": [],
   "source": [
    "ground_truth_labels = ground_truth_labels.set_index('ID')\n",
    "ground_truth_labels = ground_truth_labels.reindex(index=ground_truth_wide['ID'])\n",
    "ground_truth_labels = ground_truth_labels.reset_index()"
   ]
  },
  {
   "cell_type": "code",
   "execution_count": 22,
   "id": "c1d8d5a2",
   "metadata": {},
   "outputs": [
    {
     "name": "stdout",
     "output_type": "stream",
     "text": [
      "number of fields in the training set is [1849].\n"
     ]
    }
   ],
   "source": [
    "print (\"number of fields in the training set is [{}].\".format(len(ground_truth_wide.ID)))"
   ]
  },
  {
   "cell_type": "code",
   "execution_count": null,
   "id": "3652aa57",
   "metadata": {},
   "outputs": [],
   "source": [
    "# split the train and test set randomly\n",
    "# split the train and test set randomly\n",
    "x_train_df, x_test_df, y_train_df, y_test_df = train_test_split(ground_truth_allBands, \n",
    "                                                                ground_truth_labels, \n",
    "                                                                test_size=0.2, \n",
    "                                                                random_state=0,\n",
    "                                                                shuffle=True,\n",
    "                                                                stratify=ground_truth_labels.Vote.values)"
   ]
  },
  {
   "cell_type": "code",
   "execution_count": null,
   "id": "183ea1d6",
   "metadata": {},
   "outputs": [],
   "source": []
  },
  {
   "cell_type": "markdown",
   "id": "b2030566",
   "metadata": {},
   "source": [
    "# To-Do \n",
    "   - if we are feeding the right format of dataframe into logistic regression i.e. each row should be an example or each column\n",
    "   - if we want to scale the columns, how should we do it? (EVI's of a field or EVI_1 of all fields, ...)"
   ]
  },
  {
   "cell_type": "code",
   "execution_count": null,
   "id": "e5318d66",
   "metadata": {},
   "outputs": [],
   "source": [
    "# Make an instance of the Model\n",
    "# all parameters not specified are set to their defaults\n",
    "\n",
    "# random_state is used for solver == ‘sag’, ‘saga’ or ‘liblinear’\n",
    "logisticRegr = LogisticRegression(max_iter=100000, random_state=0); \n",
    "logisticRegr.fit(x_train_df.iloc[:, 1:], y_train_df.Vote.values);"
   ]
  },
  {
   "cell_type": "code",
   "execution_count": null,
   "id": "8ba5817d",
   "metadata": {},
   "outputs": [],
   "source": [
    "# for a_col in x_train_df.columns:\n",
    "#     print (a_col)\n",
    "#     print (x_train_df[a_col].min())\n",
    "#     print (x_train_df[a_col].max())\n",
    "#     print (\"______________________________________\")"
   ]
  },
  {
   "cell_type": "code",
   "execution_count": null,
   "id": "997bbb37",
   "metadata": {},
   "outputs": [],
   "source": [
    "# Returns a NumPy Array\n",
    "# Predict for One Observation (image)\n",
    "test_index = 0\n",
    "ID = x_test_df.iloc[test_index,].ID\n",
    "prediction = logisticRegr.predict(x_test_df.iloc[test_index, 1:].values.reshape(1,-1))\n",
    "print (\"prediction is {}.\".format(prediction))\n",
    "\n",
    "######################################################\n",
    "plt.figure(figsize=(20,4))\n",
    "plt.subplot(1, 1, 1)\n",
    "\n",
    "proper_index = x_test_df.index[test_index]\n",
    "plt.scatter(range(len(x_test_df.loc[proper_index, \"EVI_1\":\"EVI_36\"])),\n",
    "            x_test_df.loc[proper_index, \"EVI_1\":\"EVI_36\"].values,\n",
    "            marker='o', s=65, c='b', label=VI_idx);\n",
    "plt.ylim([-0.2, 1])\n",
    "\n",
    "curr_V = str(y_test_df[y_test_df.ID == ID].Vote.values[0])\n",
    "title = ID + \", prediction is \" + str(prediction) + \", and label is [\" + curr_V + \"].\"\n",
    "plt.title(title , fontsize = 20);"
   ]
  },
  {
   "cell_type": "code",
   "execution_count": null,
   "id": "b892cfc3",
   "metadata": {},
   "outputs": [],
   "source": []
  },
  {
   "cell_type": "code",
   "execution_count": null,
   "id": "a26ff540",
   "metadata": {},
   "outputs": [],
   "source": [
    "# plt.scatter(range(len(x_test_df.iloc[test_index, 1:])),\n",
    "#             x_test_df.iloc[test_index, 1:].values,\n",
    "#             marker='o', s=65, c='b', label=VI_idx);\n",
    "# plt.ylim([-0.2, 1])"
   ]
  },
  {
   "cell_type": "code",
   "execution_count": null,
   "id": "034cd271",
   "metadata": {},
   "outputs": [],
   "source": [
    "confusion_table = pd.DataFrame(columns=['None', 'Predict_Single', 'Predict_Double'], index=range(2))\n",
    "confusion_table.loc[0, 'None'] = 'Actual_Single'\n",
    "confusion_table.loc[1, 'None'] = 'Actual_Double'\n",
    "confusion_table['Predict_Single']=0\n",
    "confusion_table['Predict_Double']=0\n",
    "\n",
    "actual_double_predicted_single=[]\n",
    "\n",
    "for integer_idx in range(len(x_test_df.index)):\n",
    "    ID = x_test_df.iloc[integer_idx,].ID\n",
    "\n",
    "\n",
    "    prediction = logisticRegr.predict(x_test_df.iloc[integer_idx, 1:].values.reshape(1,-1))\n",
    "    prediction = prediction[0]\n",
    "    curr_V = y_test_df[y_test_df.ID == ID].Vote.values[0]\n",
    "    \n",
    "    if prediction==curr_V==1:\n",
    "        confusion_table.loc[0, \"Predict_Single\"]+=1\n",
    "    elif prediction==curr_V==2:\n",
    "        confusion_table.loc[1, \"Predict_Double\"]+=1\n",
    "    \n",
    "    elif prediction!=curr_V:\n",
    "        if prediction==1:\n",
    "            confusion_table.loc[1, \"Predict_Single\"]+=1\n",
    "            actual_double_predicted_single += [ID]\n",
    "        elif prediction==2:\n",
    "            confusion_table.loc[0, \"Predict_Double\"]+=1\n",
    "            \n",
    "\n",
    "confusion_table"
   ]
  },
  {
   "cell_type": "code",
   "execution_count": null,
   "id": "79ce76b0",
   "metadata": {},
   "outputs": [],
   "source": [
    "confusion_table"
   ]
  },
  {
   "cell_type": "code",
   "execution_count": null,
   "id": "c952c6c5",
   "metadata": {},
   "outputs": [],
   "source": []
  },
  {
   "cell_type": "markdown",
   "id": "7e691689",
   "metadata": {},
   "source": [
    "# Read Raw data so we can plot them"
   ]
  },
  {
   "cell_type": "code",
   "execution_count": null,
   "id": "3908ea54",
   "metadata": {},
   "outputs": [],
   "source": [
    "raw_dir = \"/Users/hn/Documents/01_research_data/NASA/VI_TS/data_for_train_individual_counties/\"\n",
    "\n",
    "raw_names = [\"L7_T1C2L2_Scaled_AdamBenton2016_2015-01-01_2017-10-14.csv\", \n",
    "             \"L7_T1C2L2_Scaled_FranklinYakima2018_2017-01-01_2019-10-14.csv\", \n",
    "             \"L7_T1C2L2_Scaled_Grant2017_2016-01-01_2018-10-14.csv\", \n",
    "             \"L7_T1C2L2_Scaled_Walla2015_2014-01-01_2016-12-31.csv\",\n",
    "             \"L8_T1C2L2_Scaled_AdamBenton2016_2015-01-01_2017-10-14.csv\",\n",
    "             \"L8_T1C2L2_Scaled_FranklinYakima2018_2017-01-01_2019-10-14.csv\",\n",
    "             \"L8_T1C2L2_Scaled_Grant2017_2016-01-01_2018-10-14.csv\",\n",
    "             \"L8_T1C2L2_Scaled_Walla2015_2014-01-01_2016-12-31.csv\"]\n",
    "\n",
    "raw_data=pd.DataFrame()\n",
    "\n",
    "for file in raw_names:\n",
    "    curr_file=pd.read_csv(raw_dir + file)\n",
    "    curr_file=curr_file[[\"ID\", VI_idx, \"system_start_time\"]]\n",
    "    curr_file = curr_file[curr_file[VI_idx].notna()]\n",
    "    curr_file=nc.add_human_start_time_by_system_start_time(curr_file)\n",
    "    curr_file=curr_file[[\"ID\", VI_idx, \"human_system_start_time\"]]\n",
    "    # curr_file['human_system_start_time'] = pd.to_datetime(curr_file['human_system_start_time'])\n",
    "    \n",
    "    # These data are for 3 years. The middle one is the correct one\n",
    "    all_years = sorted(curr_file.human_system_start_time.dt.year.unique())\n",
    "    if len(all_years)==3 or len(all_years)==2:\n",
    "        proper_year = all_years[1]\n",
    "    elif len(all_years)==1:\n",
    "        proper_year = all_years[0]\n",
    "\n",
    "    curr_file = curr_file[curr_file.human_system_start_time.dt.year==proper_year]\n",
    "    raw_data=pd.concat([raw_data, curr_file])\n",
    "\n",
    "raw_data.reset_index(drop=True, inplace=True)\n",
    "raw_data.head(2)\n",
    "\n"
   ]
  },
  {
   "cell_type": "code",
   "execution_count": null,
   "id": "cc7c8816",
   "metadata": {},
   "outputs": [],
   "source": []
  },
  {
   "cell_type": "code",
   "execution_count": null,
   "id": "f152e379",
   "metadata": {},
   "outputs": [],
   "source": [
    "multiple_test_size = len(actual_double_predicted_single)\n",
    "n_cols = 1\n",
    "n_rows = multiple_test_size\n",
    "\n",
    "fig, axes = plt.subplots(n_rows, 1, figsize=(18, 40), sharey='row',\n",
    "                        gridspec_kw={'hspace': 0.5, 'wspace': .5});\n",
    "\n",
    "actual_double_predicted_single = sorted(actual_double_predicted_single)\n",
    "for index in range(len(actual_double_predicted_single)):\n",
    "    ID = actual_double_predicted_single[index]\n",
    "    prediction = logisticRegr.predict(x_test_df[x_test_df.ID == ID].values[0][1:].reshape(1,-1))\n",
    "    \n",
    "    xx = ground_truth[ground_truth.ID==ID][\"human_system_start_time\"].values[:36]\n",
    "    yy = ground_truth[ground_truth.ID==ID][\"EVI\"].values[:36]\n",
    "    axes[index].plot(xx, yy, c='k', linewidth=3);\n",
    "    \n",
    "    raw_xx = raw_data[raw_data.ID==ID][\"human_system_start_time\"]\n",
    "    raw_yy = raw_data[raw_data.ID==ID][\"EVI\"]\n",
    "    axes[index].scatter(raw_xx, raw_yy, marker='o', s=65, c='dodgerblue', label=VI_idx);\n",
    "\n",
    "    axes[index].set_ylim([-0.2, 1])\n",
    "    axes[index].grid(True); \n",
    "    \n",
    "    curr_V = str(y_test_df[y_test_df.ID == ID].Vote.values[0])\n",
    "    title = ID + \", prediction is \" + str(prediction) + \", and label is [\" + curr_V + \"].\"\n",
    "    # axes[index].legend(loc=\"best\")\n",
    "    axes[index].set_title(title);\n",
    "    axes[index].xaxis.set_major_locator(mdates.MonthLocator())\n",
    "    axes[index].xaxis.set_major_formatter(DateFormatter('%b'))\n",
    "\n",
    "# plt.tight_layout()\n",
    "\n",
    "plot_path = \"/Users/hn/Desktop/\"\n",
    "os.makedirs(plot_path, exist_ok=True)\n",
    "fig_name = plot_path + \"test_set_ActualDouble_PredictedOne_Morebands.png\"\n",
    "plt.savefig(fname = fig_name, dpi=100, bbox_inches='tight', facecolor=\"w\")"
   ]
  },
  {
   "cell_type": "code",
   "execution_count": null,
   "id": "13f7c19f",
   "metadata": {},
   "outputs": [],
   "source": []
  },
  {
   "cell_type": "code",
   "execution_count": null,
   "id": "73823575",
   "metadata": {},
   "outputs": [],
   "source": [
    "import numpy as np\n",
    "import matplotlib.pyplot as plt\n",
    "from sklearn.naive_bayes import GaussianNB\n",
    "from sklearn.svm import SVC\n",
    "from sklearn.datasets import load_digits\n",
    "from sklearn.model_selection import learning_curve\n",
    "from sklearn.model_selection import ShuffleSplit\n",
    "\n",
    "\n",
    "def plot_learning_curve(\n",
    "    estimator,\n",
    "    title,\n",
    "    X,\n",
    "    y,\n",
    "    axes=None,\n",
    "    ylim=None,\n",
    "    cv=None,\n",
    "    n_jobs=None,\n",
    "    train_sizes=np.linspace(0.1, 1.0, 5),\n",
    "):\n",
    "    \"\"\"\n",
    "    Generate 3 plots: the test and training learning curve, the training\n",
    "    samples vs fit times curve, the fit times vs score curve.\n",
    "\n",
    "    Parameters\n",
    "    ----------\n",
    "    estimator : estimator instance\n",
    "        An estimator instance implementing `fit` and `predict` methods which\n",
    "        will be cloned for each validation.\n",
    "\n",
    "    title : str\n",
    "        Title for the chart.\n",
    "\n",
    "    X : array-like of shape (n_samples, n_features)\n",
    "        Training vector, where ``n_samples`` is the number of samples and\n",
    "        ``n_features`` is the number of features.\n",
    "\n",
    "    y : array-like of shape (n_samples) or (n_samples, n_features)\n",
    "        Target relative to ``X`` for classification or regression;\n",
    "        None for unsupervised learning.\n",
    "\n",
    "    axes : array-like of shape (3,), default=None\n",
    "        Axes to use for plotting the curves.\n",
    "\n",
    "    ylim : tuple of shape (2,), default=None\n",
    "        Defines minimum and maximum y-values plotted, e.g. (ymin, ymax).\n",
    "\n",
    "    cv : int, cross-validation generator or an iterable, default=None\n",
    "        Determines the cross-validation splitting strategy.\n",
    "        Possible inputs for cv are:\n",
    "\n",
    "          - None, to use the default 5-fold cross-validation,\n",
    "          - integer, to specify the number of folds.\n",
    "          - :term:`CV splitter`,\n",
    "          - An iterable yielding (train, test) splits as arrays of indices.\n",
    "\n",
    "        For integer/None inputs, if ``y`` is binary or multiclass,\n",
    "        :class:`StratifiedKFold` used. If the estimator is not a classifier\n",
    "        or if ``y`` is neither binary nor multiclass, :class:`KFold` is used.\n",
    "\n",
    "        Refer :ref:`User Guide <cross_validation>` for the various\n",
    "        cross-validators that can be used here.\n",
    "\n",
    "    n_jobs : int or None, default=None\n",
    "        Number of jobs to run in parallel.\n",
    "        ``None`` means 1 unless in a :obj:`joblib.parallel_backend` context.\n",
    "        ``-1`` means using all processors. See :term:`Glossary <n_jobs>`\n",
    "        for more details.\n",
    "\n",
    "    train_sizes : array-like of shape (n_ticks,)\n",
    "        Relative or absolute numbers of training examples that will be used to\n",
    "        generate the learning curve. If the ``dtype`` is float, it is regarded\n",
    "        as a fraction of the maximum size of the training set (that is\n",
    "        determined by the selected validation method), i.e. it has to be within\n",
    "        (0, 1]. Otherwise it is interpreted as absolute sizes of the training\n",
    "        sets. Note that for classification the number of samples usually have\n",
    "        to be big enough to contain at least one sample from each class.\n",
    "        (default: np.linspace(0.1, 1.0, 5))\n",
    "    \"\"\"\n",
    "    if axes is None:\n",
    "        _, axes = plt.subplots(1, 3, figsize=(20, 5))\n",
    "\n",
    "    axes[0].set_title(title)\n",
    "    if ylim is not None:\n",
    "        axes[0].set_ylim(*ylim)\n",
    "    axes[0].set_xlabel(\"Training examples\")\n",
    "    axes[0].set_ylabel(\"Score\")\n",
    "\n",
    "    train_sizes, train_scores, test_scores, fit_times, _ = learning_curve(\n",
    "        estimator,\n",
    "        X,\n",
    "        y,\n",
    "        cv=cv,\n",
    "        n_jobs=n_jobs,\n",
    "        train_sizes=train_sizes,\n",
    "        return_times=True,\n",
    "    )\n",
    "    train_scores_mean = np.mean(train_scores, axis=1)\n",
    "    train_scores_std = np.std(train_scores, axis=1)\n",
    "    test_scores_mean = np.mean(test_scores, axis=1)\n",
    "    test_scores_std = np.std(test_scores, axis=1)\n",
    "    fit_times_mean = np.mean(fit_times, axis=1)\n",
    "    fit_times_std = np.std(fit_times, axis=1)\n",
    "\n",
    "    # Plot learning curve\n",
    "    axes[0].grid()\n",
    "    axes[0].fill_between(\n",
    "        train_sizes,\n",
    "        train_scores_mean - train_scores_std,\n",
    "        train_scores_mean + train_scores_std,\n",
    "        alpha=0.1,\n",
    "        color=\"r\",\n",
    "    )\n",
    "    axes[0].fill_between(\n",
    "        train_sizes,\n",
    "        test_scores_mean - test_scores_std,\n",
    "        test_scores_mean + test_scores_std,\n",
    "        alpha=0.1,\n",
    "        color=\"g\",\n",
    "    )\n",
    "    axes[0].plot(\n",
    "        train_sizes, train_scores_mean, \"o-\", color=\"r\", label=\"Training score\"\n",
    "    )\n",
    "    axes[0].plot(\n",
    "        train_sizes, test_scores_mean, \"o-\", color=\"g\", label=\"Cross-validation score\"\n",
    "    )\n",
    "    axes[0].legend(loc=\"best\")\n",
    "\n",
    "    # Plot n_samples vs fit_times\n",
    "    axes[1].grid()\n",
    "    axes[1].plot(train_sizes, fit_times_mean, \"o-\")\n",
    "    axes[1].fill_between(\n",
    "        train_sizes,\n",
    "        fit_times_mean - fit_times_std,\n",
    "        fit_times_mean + fit_times_std,\n",
    "        alpha=0.1,\n",
    "    )\n",
    "    axes[1].set_xlabel(\"Training examples\")\n",
    "    axes[1].set_ylabel(\"fit_times\")\n",
    "    axes[1].set_title(\"Scalability of the model\")\n",
    "\n",
    "    # Plot fit_time vs score\n",
    "    fit_time_argsort = fit_times_mean.argsort()\n",
    "    fit_time_sorted = fit_times_mean[fit_time_argsort]\n",
    "    test_scores_mean_sorted = test_scores_mean[fit_time_argsort]\n",
    "    test_scores_std_sorted = test_scores_std[fit_time_argsort]\n",
    "    axes[2].grid()\n",
    "    axes[2].plot(fit_time_sorted, test_scores_mean_sorted, \"o-\")\n",
    "    axes[2].fill_between(\n",
    "        fit_time_sorted,\n",
    "        test_scores_mean_sorted - test_scores_std_sorted,\n",
    "        test_scores_mean_sorted + test_scores_std_sorted,\n",
    "        alpha=0.1,\n",
    "    )\n",
    "    axes[2].set_xlabel(\"fit_times\")\n",
    "    axes[2].set_ylabel(\"Score\")\n",
    "    axes[2].set_title(\"Performance of the model\")\n",
    "\n",
    "    return plt\n",
    "\n",
    "\n",
    "fig, axes = plt.subplots(3, 2, figsize=(10, 15))\n",
    "\n",
    "X, y = load_digits(return_X_y=True)\n",
    "\n",
    "title = \"Learning Curves (Naive Bayes)\"\n",
    "# Cross validation with 50 iterations to get smoother mean test and train\n",
    "# score curves, each time with 20% data randomly selected as a validation set.\n",
    "cv = ShuffleSplit(n_splits=50, test_size=0.2, random_state=0)\n",
    "\n",
    "estimator = GaussianNB()\n",
    "plot_learning_curve(\n",
    "    estimator, title, X, y, axes=axes[:, 0], ylim=(0.7, 1.01), cv=cv, n_jobs=4\n",
    ")\n",
    "\n",
    "title = r\"Learning Curves\"\n",
    "# SVC is more expensive so we do a lower number of CV iterations:\n",
    "cv = ShuffleSplit(n_splits=10, test_size=0.1, random_state=0)\n",
    "estimator = SVC(gamma=0.001)\n",
    "plot_learning_curve(estimator, title, \n",
    "                    X=ground_truth_wide.loc[:, \"EVI_1\":], \n",
    "                    y=ground_truth_labels.Vote.values, \n",
    "                    axes=axes[:, 1], ylim=(0.7, 1.01), cv=cv, n_jobs=4)\n",
    "\n",
    "plt.show()"
   ]
  },
  {
   "cell_type": "code",
   "execution_count": null,
   "id": "c594f051",
   "metadata": {},
   "outputs": [],
   "source": []
  }
 ],
 "metadata": {
  "kernelspec": {
   "display_name": "Python 3 (ipykernel)",
   "language": "python",
   "name": "python3"
  },
  "language_info": {
   "codemirror_mode": {
    "name": "ipython",
    "version": 3
   },
   "file_extension": ".py",
   "mimetype": "text/x-python",
   "name": "python",
   "nbconvert_exporter": "python",
   "pygments_lexer": "ipython3",
   "version": "3.9.7"
  }
 },
 "nbformat": 4,
 "nbformat_minor": 5
}
