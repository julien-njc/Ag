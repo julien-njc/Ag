{
 "cells": [
  {
   "cell_type": "code",
   "execution_count": 1,
   "id": "6b87af3b",
   "metadata": {},
   "outputs": [],
   "source": [
    "import datetime\n",
    "from datetime import date\n",
    "import datetime\n",
    "import time\n",
    "\n",
    "import sys\n",
    "import os, os.path\n",
    "from os import listdir\n",
    "from os.path import isfile, join\n",
    "import numpy as np\n",
    "import re # regular expression\n",
    "\n",
    "import matplotlib.pyplot as plt\n",
    "import matplotlib.dates as mdates\n",
    "import seaborn as sb\n",
    "\n",
    "import rasterio \n",
    "from rasterio.mask import mask\n",
    "from rasterio.plot import show\n",
    "\n",
    "# import glob # did NOT installed. need it here?\n",
    "import shapefile # did NOT installed\n",
    "\n",
    "\n",
    "import rioxarray as rxr\n",
    "import xarray as xr\n",
    "import fiona\n",
    "# import geopandas as gpd\n",
    "import earthpy as et # need it here?\n",
    "import earthpy.plot as ep # need it here?"
   ]
  },
  {
   "cell_type": "code",
   "execution_count": 2,
   "id": "8535710f",
   "metadata": {},
   "outputs": [],
   "source": [
    "sys.path.append('/Users/hn/Documents/00_GitHub/Ag/NASA/Python_codes/')\n",
    "import NASA_core as nc\n",
    "import NASA_plot_core as ncp\n"
   ]
  },
  {
   "cell_type": "code",
   "execution_count": 3,
   "id": "7c1377d5",
   "metadata": {},
   "outputs": [],
   "source": [
    "TOA_or_corrected=\"corrected\""
   ]
  },
  {
   "cell_type": "code",
   "execution_count": 4,
   "id": "5e1e71d2",
   "metadata": {},
   "outputs": [],
   "source": [
    "param_dir = \"/Users/hn/Documents/01_research_data/NASA/data_part_of_shapefile/\"\n",
    "SF_dir = \"/Users/hn/Documents/01_research_data/NASA/shapefiles/00000_train_SF_NASSout_Irr_CorrectYr/\"\n",
    "\n",
    "raster_dir_main = \"/Users/hn/Documents/01_research_data/NASA/snapshots/01_raster_GEE/\"\n",
    "plot_path = \"/Users/hn/Documents/01_research_data/NASA/for_paper/plots/badFarmers/\"\n",
    "os.makedirs(plot_path, exist_ok=True)"
   ]
  },
  {
   "cell_type": "code",
   "execution_count": 5,
   "id": "2987dd79",
   "metadata": {},
   "outputs": [],
   "source": [
    "def generateNames(county):\n",
    "    TOA_or_corrected = 'corrected'\n",
    "\n",
    "    if county == \"Monterey2014\":\n",
    "        raster_dir = raster_dir_main + \"snapshot_Monterey/\"\n",
    "    elif county == \"AdamBenton2016\":\n",
    "        raster_dir = raster_dir_main + \"snapshot_AdamBenton2016/\"\n",
    "\n",
    "    elif county == \"FranklinYakima2018\":\n",
    "        raster_dir = raster_dir_main + \"snapshot_FranklinYakima2018/\"\n",
    "\n",
    "    elif county == \"Grant2017\":\n",
    "        raster_dir = raster_dir_main + \"snapshot_Grant2017/\"\n",
    "\n",
    "    elif county == \"Walla2015\":\n",
    "        raster_dir = raster_dir_main + \"snapshot_Walla2015/\"\n",
    "        \n",
    "    if TOA_or_corrected == \"TOA\":\n",
    "        Tiff_files = [x for x in os.listdir(raster_dir) if x.endswith(\".tif\")]\n",
    "        raster_files = [s for s in Tiff_files if \"TOA\" in s]\n",
    "        raster_files = np.sort(raster_files)\n",
    "    else:\n",
    "        Tiff_files = [x for x in os.listdir(raster_dir) if x.endswith(\".tif\")]\n",
    "        raster_files = [s for s in Tiff_files if \"L2C2\" in s]\n",
    "        raster_files = np.sort(raster_files)\n",
    "\n",
    "    SF_Name = \"badFarmers/badFarmers.shp\"\n",
    "    SF = shapefile.Reader(SF_dir + SF_Name)\n",
    "    Fiona_SF = fiona.open(SF_dir + SF_Name)\n",
    "    SF_CRS = Fiona_SF.crs['init'].lower()\n",
    "\n",
    "    return (SF_Name, SF, Fiona_SF, SF_CRS, raster_dir, raster_files)\n",
    "\n",
    "\n",
    "def detect_countyName(year):\n",
    "    if year==\"2015\":\n",
    "        county=\"Walla2015\"\n",
    "    elif year==\"2016\":\n",
    "        county=\"AdamBenton2016\"\n",
    "    elif year==\"2017\":\n",
    "        county=\"Grant2017\"\n",
    "    elif year==\"2018\":\n",
    "        county=\"FranklinYakima2018\"\n",
    "    return county\n",
    "    "
   ]
  },
  {
   "cell_type": "code",
   "execution_count": 8,
   "id": "286929f7",
   "metadata": {},
   "outputs": [],
   "source": [
    "SF_Name = \"badFarmers/badFarmers.shp\"\n",
    "SF = shapefile.Reader(SF_dir + SF_Name)\n",
    "Fiona_SF = fiona.open(SF_dir + SF_Name)\n",
    "SF_CRS = Fiona_SF.crs['init'].lower()"
   ]
  },
  {
   "cell_type": "code",
   "execution_count": null,
   "id": "6ab3512d",
   "metadata": {},
   "outputs": [],
   "source": [
    "field_IDs = [\"162687_WSDA_SF_2015\",\n",
    "             \"57593_WSDA_SF_2016\",\n",
    "             \"60617_WSDA_SF_2016\",\n",
    "             # \"35065_WSDA_SF_2018\", \n",
    "             \"39244_WSDA_SF_2018\", # ? \n",
    "             # \"40865_WSDA_SF_2018\",\n",
    "             \"46239_WSDA_SF_2018\"]"
   ]
  },
  {
   "cell_type": "code",
   "execution_count": 74,
   "id": "fd788984",
   "metadata": {},
   "outputs": [],
   "source": [
    "field_IDs_dict = {\"57593_WSDA_SF_2016\": [\"2016-05-10\", \"2016-07-13\", \"2016-08-14\", \"2016-09-15\"],\n",
    "                  \"162687_WSDA_SF_2015\":[\"2015-05-01\", \"2015-08-21\", \"2015-09-29\", \"2015-11-16\"],\n",
    "                  \"60617_WSDA_SF_2016\":[\"2016-05-10\", \"2016-06-27\", \"2016-09-15\", \"2016-10-01\"],\n",
    "                  \"39244_WSDA_SF_2018\":[\"2018-07-10\", \"2018-07-26\", \"2018-09-28\", \"2018-10-30\"],\n",
    "                  \"46239_WSDA_SF_2018\":[\"2018-04-30\", \"2018-06-24\", \"2018-09-28\", \"2018-11-08\"]\n",
    "                 }\n",
    "\n",
    "fields_from_keys=sorted(list(field_IDs_dict.keys()))"
   ]
  },
  {
   "cell_type": "code",
   "execution_count": 90,
   "id": "483d7970",
   "metadata": {},
   "outputs": [],
   "source": [
    "import matplotlib\n",
    "matplotlib.rcParams['figure.figsize'] = [20, 5]"
   ]
  },
  {
   "cell_type": "code",
   "execution_count": 101,
   "id": "208cf6b5",
   "metadata": {},
   "outputs": [],
   "source": [
    "from matplotlib import pyplot"
   ]
  },
  {
   "cell_type": "code",
   "execution_count": 108,
   "id": "b20e2149",
   "metadata": {},
   "outputs": [],
   "source": [
    "size = 20\n",
    "title_FontSize = 10\n",
    "legend_FontSize = 8\n",
    "tick_FontSize = 12\n",
    "label_FontSize = 14\n",
    "\n",
    "params = {'legend.fontsize': 'medium',\n",
    "          'figure.figsize': (20, 5),\n",
    "          'axes.labelsize': size,\n",
    "          'axes.titlesize': size,\n",
    "          'xtick.labelsize': size * 0.75,\n",
    "          'ytick.labelsize': size * 0.75,\n",
    "          'axes.titlepad': 10}\n",
    "\n",
    "#\n",
    "#  Once set, you cannot change them, unless restart the notebook\n",
    "#\n",
    "plt.rc('font', family = 'Palatino')\n",
    "plt.rcParams['xtick.bottom'] = True\n",
    "plt.rcParams['ytick.left'] = True\n",
    "plt.rcParams['xtick.labelbottom'] = True\n",
    "plt.rcParams['ytick.labelleft'] = True\n",
    "plt.rcParams.update(params)"
   ]
  },
  {
   "cell_type": "code",
   "execution_count": 109,
   "id": "29e96b76",
   "metadata": {},
   "outputs": [
    {
     "name": "stdout",
     "output_type": "stream",
     "text": [
      "20 5\n",
      "20 5\n",
      "20 5\n",
      "20 5\n",
      "20 5\n",
      "CPU times: user 3.44 s, sys: 348 ms, total: 3.79 s\n",
      "Wall time: 8.56 s\n"
     ]
    }
   ],
   "source": [
    "%%time\n",
    "for ii in range(len(SF)):\n",
    "    curr_ID=SF.records()[ii]['ID']\n",
    "    curr_county_name = detect_countyName(curr_ID.split(\"_\")[-1])\n",
    "    SF_Name, SF, Fiona_SF, SF_CRS, raster_dir, raster_files = generateNames(curr_county_name)\n",
    "\n",
    "    curr_poly = SF.shapeRecords()[ii].shape.__geo_interface__\n",
    "    curr_crop = SF.records()[ii]['CropTyp']\n",
    "    curr_crop = curr_crop.replace(\" \", \"_\")\n",
    "\n",
    "    curr_ctr_lat = SF.records()[ii]['ctr_lat']\n",
    "    curr_ctr_long = SF.records()[ii]['ctr_long']\n",
    "    curr_surv = SF.records()[ii]['LstSrvD']\n",
    "\n",
    "    n_columns = 4\n",
    "    n_rows = 1\n",
    "\n",
    "    subplot_size = 5\n",
    "    plot_width = n_columns*subplot_size\n",
    "    plot_length = n_rows*5\n",
    "    print (plot_width, plot_length)\n",
    "    # fig, axes = plt.subplots(nrows=n_rows, ncols=n_columns, figsize=(plot_width, plot_length))\n",
    "    fig, axes = pyplot.subplots(n_rows, n_columns, figsize=(plot_width, plot_length))\n",
    "    # fig.set_size_inches(plot_width, plot_length)\n",
    "\n",
    "    for count, file in enumerate(raster_files):\n",
    "        curr_raster_file = raster_dir + file;\n",
    "        curr_rasterio_im = rasterio.open(curr_raster_file);\n",
    "\n",
    "        out_img, out_transform = mask(dataset = curr_rasterio_im, \n",
    "                                      shapes = [curr_poly], \n",
    "                                      crop = True)\n",
    "\n",
    "        curr_time = int(file.split(\"_\")[0]) / 1000\n",
    "        # convert epoch time to human time\n",
    "        curr_time = time.strftime('%Y-%m-%d', time.localtime(curr_time))\n",
    "\n",
    "        if curr_time in field_IDs_dict[curr_ID]:        \n",
    "            col_idx = field_IDs_dict[curr_ID].index(curr_time)\n",
    "            curr_ax = axes[col_idx]\n",
    "            curr_ax.axis(\"off\")\n",
    "\n",
    "            # show(out_img, ax=curr_ax, title=curr_time)\n",
    "            show(out_img, ax=curr_ax)\n",
    "            curr_ax.set_title(curr_time, fontsize=20)\n",
    "\n",
    "    # Title of the figure\n",
    "    curr_crop_name = curr_crop.lower().replace(\" \", \"_\").replace(\",\", \"\").replace(\"/\", \"_\")\n",
    "    # fig.set_size_inches(plot_width, plot_length)\n",
    "    figure_title = curr_crop_name + \" [\" + \\\n",
    "                   curr_ID + \": \" + str(curr_ctr_lat) + \", \" + str(curr_ctr_long) + \\\n",
    "                   \"]\" + \", [\" + curr_surv + \"]\"\n",
    "\n",
    "    short_ID = curr_ID.split(\"_\")[0] + \"_\" + curr_ID.split(\"_\")[-1]\n",
    "    fig_name = plot_path + short_ID + \"_badFarmer\"  +'.pdf'\n",
    "\n",
    "    plt.savefig(fname=fig_name, dpi=400, bbox_inches='tight')\n",
    "    plt.close('all')"
   ]
  },
  {
   "cell_type": "code",
   "execution_count": null,
   "id": "d6e8b179",
   "metadata": {},
   "outputs": [],
   "source": []
  },
  {
   "cell_type": "code",
   "execution_count": null,
   "id": "eff35cde",
   "metadata": {},
   "outputs": [],
   "source": []
  },
  {
   "cell_type": "code",
   "execution_count": null,
   "id": "17576439",
   "metadata": {},
   "outputs": [],
   "source": []
  },
  {
   "cell_type": "code",
   "execution_count": null,
   "id": "2571a095",
   "metadata": {},
   "outputs": [],
   "source": []
  }
 ],
 "metadata": {
  "kernelspec": {
   "display_name": "Python 3 (ipykernel)",
   "language": "python",
   "name": "python3"
  },
  "language_info": {
   "codemirror_mode": {
    "name": "ipython",
    "version": 3
   },
   "file_extension": ".py",
   "mimetype": "text/x-python",
   "name": "python",
   "nbconvert_exporter": "python",
   "pygments_lexer": "ipython3",
   "version": "3.9.7"
  }
 },
 "nbformat": 4,
 "nbformat_minor": 5
}
