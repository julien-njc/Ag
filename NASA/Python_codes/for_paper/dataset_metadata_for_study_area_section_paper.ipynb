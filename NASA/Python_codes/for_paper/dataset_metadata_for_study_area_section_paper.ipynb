{
 "cells": [
  {
   "cell_type": "code",
   "execution_count": 3,
   "id": "e2dc24d4",
   "metadata": {},
   "outputs": [],
   "source": [
    "import pandas as pd\n",
    "import os"
   ]
  },
  {
   "cell_type": "code",
   "execution_count": 2,
   "id": "de370861",
   "metadata": {},
   "outputs": [],
   "source": [
    "data_dir = \"/Users/hn/Documents/01_research_data/NASA/data_part_of_shapefile/\""
   ]
  },
  {
   "cell_type": "code",
   "execution_count": 4,
   "id": "d26c7fa9",
   "metadata": {},
   "outputs": [],
   "source": [
    "csv_files = [x for x in os.listdir(data_dir) if x.endswith(\".csv\")]"
   ]
  },
  {
   "cell_type": "code",
   "execution_count": 6,
   "id": "dd29c209",
   "metadata": {},
   "outputs": [],
   "source": [
    "all_data=pd.DataFrame()\n",
    "for a_file in csv_files:\n",
    "    curr_file = pd.read_csv(data_dir+a_file)\n",
    "    all_data=pd.concat([all_data, curr_file])"
   ]
  },
  {
   "cell_type": "code",
   "execution_count": 7,
   "id": "e178ed18",
   "metadata": {},
   "outputs": [
    {
     "data": {
      "text/html": [
       "<div>\n",
       "<style scoped>\n",
       "    .dataframe tbody tr th:only-of-type {\n",
       "        vertical-align: middle;\n",
       "    }\n",
       "\n",
       "    .dataframe tbody tr th {\n",
       "        vertical-align: top;\n",
       "    }\n",
       "\n",
       "    .dataframe thead th {\n",
       "        text-align: right;\n",
       "    }\n",
       "</style>\n",
       "<table border=\"1\" class=\"dataframe\">\n",
       "  <thead>\n",
       "    <tr style=\"text-align: right;\">\n",
       "      <th></th>\n",
       "      <th>ID</th>\n",
       "      <th>CropTyp</th>\n",
       "      <th>Acres</th>\n",
       "      <th>Irrigtn</th>\n",
       "      <th>IntlSrD</th>\n",
       "      <th>LstSrvD</th>\n",
       "      <th>DataSrc</th>\n",
       "      <th>Notes</th>\n",
       "      <th>TRS</th>\n",
       "      <th>county</th>\n",
       "      <th>...</th>\n",
       "      <th>ExctAcr</th>\n",
       "      <th>CropGrp</th>\n",
       "      <th>Shp_Lng</th>\n",
       "      <th>Shap_Ar</th>\n",
       "      <th>LstModDat</th>\n",
       "      <th>DWRLegend</th>\n",
       "      <th>Shape_STAr</th>\n",
       "      <th>Shape_STLe</th>\n",
       "      <th>majority</th>\n",
       "      <th>Category</th>\n",
       "    </tr>\n",
       "  </thead>\n",
       "  <tbody>\n",
       "    <tr>\n",
       "      <th>0</th>\n",
       "      <td>55985_WSDA_SF_2018</td>\n",
       "      <td>pasture</td>\n",
       "      <td>20.0</td>\n",
       "      <td>center pivot</td>\n",
       "      <td>2005/08/15 00:00:00</td>\n",
       "      <td>2018/06/05 00:00:00</td>\n",
       "      <td>wsda</td>\n",
       "      <td>cattle</td>\n",
       "      <td>T14R32E32</td>\n",
       "      <td>Franklin</td>\n",
       "      <td>...</td>\n",
       "      <td>19.992584</td>\n",
       "      <td>Pasture</td>\n",
       "      <td>1022.455143</td>\n",
       "      <td>80907.115931</td>\n",
       "      <td>NaN</td>\n",
       "      <td>NaN</td>\n",
       "      <td>NaN</td>\n",
       "      <td>NaN</td>\n",
       "      <td>NaN</td>\n",
       "      <td>NaN</td>\n",
       "    </tr>\n",
       "    <tr>\n",
       "      <th>1</th>\n",
       "      <td>57012_WSDA_SF_2018</td>\n",
       "      <td>potato</td>\n",
       "      <td>96.0</td>\n",
       "      <td>center pivot</td>\n",
       "      <td>2005/08/15 00:00:00</td>\n",
       "      <td>2018/06/06 00:00:00</td>\n",
       "      <td>wsda</td>\n",
       "      <td>NaN</td>\n",
       "      <td>T14R29E17</td>\n",
       "      <td>Franklin</td>\n",
       "      <td>...</td>\n",
       "      <td>96.016334</td>\n",
       "      <td>Vegetable</td>\n",
       "      <td>2355.760746</td>\n",
       "      <td>388564.318662</td>\n",
       "      <td>NaN</td>\n",
       "      <td>NaN</td>\n",
       "      <td>NaN</td>\n",
       "      <td>NaN</td>\n",
       "      <td>NaN</td>\n",
       "      <td>NaN</td>\n",
       "    </tr>\n",
       "  </tbody>\n",
       "</table>\n",
       "<p>2 rows × 21 columns</p>\n",
       "</div>"
      ],
      "text/plain": [
       "                   ID  CropTyp  Acres       Irrigtn              IntlSrD  \\\n",
       "0  55985_WSDA_SF_2018  pasture   20.0  center pivot  2005/08/15 00:00:00   \n",
       "1  57012_WSDA_SF_2018   potato   96.0  center pivot  2005/08/15 00:00:00   \n",
       "\n",
       "               LstSrvD DataSrc   Notes        TRS    county  ...    ExctAcr  \\\n",
       "0  2018/06/05 00:00:00    wsda  cattle  T14R32E32  Franklin  ...  19.992584   \n",
       "1  2018/06/06 00:00:00    wsda     NaN  T14R29E17  Franklin  ...  96.016334   \n",
       "\n",
       "     CropGrp      Shp_Lng        Shap_Ar  LstModDat DWRLegend Shape_STAr  \\\n",
       "0    Pasture  1022.455143   80907.115931        NaN       NaN        NaN   \n",
       "1  Vegetable  2355.760746  388564.318662        NaN       NaN        NaN   \n",
       "\n",
       "   Shape_STLe  majority  Category  \n",
       "0         NaN       NaN       NaN  \n",
       "1         NaN       NaN       NaN  \n",
       "\n",
       "[2 rows x 21 columns]"
      ]
     },
     "execution_count": 7,
     "metadata": {},
     "output_type": "execute_result"
    }
   ],
   "source": [
    "all_data.head(2)"
   ]
  },
  {
   "cell_type": "code",
   "execution_count": 9,
   "id": "28a51011",
   "metadata": {},
   "outputs": [],
   "source": [
    "all_data.dropna(subset=['county'], inplace=True) "
   ]
  },
  {
   "cell_type": "code",
   "execution_count": 13,
   "id": "c2725915",
   "metadata": {},
   "outputs": [
    {
     "data": {
      "text/plain": [
       "116"
      ]
     },
     "execution_count": 13,
     "metadata": {},
     "output_type": "execute_result"
    }
   ],
   "source": [
    "len(all_data.CropTyp.unique())"
   ]
  },
  {
   "cell_type": "code",
   "execution_count": 15,
   "id": "ea5d001c",
   "metadata": {},
   "outputs": [
    {
     "data": {
      "text/plain": [
       "['alfalfa hay',\n",
       " 'alfalfa seed',\n",
       " 'alfalfa/grass hay',\n",
       " 'alkali bee bed',\n",
       " 'apple',\n",
       " 'apricot',\n",
       " 'asparagus',\n",
       " 'barley',\n",
       " 'barley hay',\n",
       " 'bean seed',\n",
       " 'bean, dry',\n",
       " 'bean, green',\n",
       " 'beet seed',\n",
       " 'blueberry',\n",
       " 'bluegrass seed',\n",
       " 'buckwheat',\n",
       " 'cabbage',\n",
       " 'caneberry',\n",
       " 'canola',\n",
       " 'cantaloupe',\n",
       " 'carrot',\n",
       " 'carrot seed',\n",
       " 'cherry',\n",
       " 'chestnut',\n",
       " 'chickpea',\n",
       " 'christmas tree',\n",
       " 'cilantro seed',\n",
       " 'clover seed',\n",
       " 'clover/grass hay',\n",
       " 'corn seed',\n",
       " 'corn, field',\n",
       " 'corn, sweet',\n",
       " 'crp/conservation',\n",
       " 'cucumber',\n",
       " 'developed',\n",
       " 'dill',\n",
       " 'driving range',\n",
       " 'fallow',\n",
       " 'fallow, idle',\n",
       " 'fallow, tilled',\n",
       " 'fescue seed',\n",
       " 'filbert',\n",
       " 'golf course',\n",
       " 'grape, juice',\n",
       " 'grape, table',\n",
       " 'grape, unknown',\n",
       " 'grape, wine',\n",
       " 'grass hay',\n",
       " 'grass seed',\n",
       " 'grass seed, other',\n",
       " 'green manure',\n",
       " 'hops',\n",
       " 'kale',\n",
       " 'legume cover',\n",
       " 'lentil',\n",
       " 'marijuana',\n",
       " 'market crops',\n",
       " 'medicinal herb',\n",
       " 'melon, unknown',\n",
       " 'mint',\n",
       " 'mustard',\n",
       " 'mustard seed',\n",
       " 'nectarine/peach',\n",
       " 'nursery, caneberry',\n",
       " 'nursery, greenhouse',\n",
       " 'nursery, lavender',\n",
       " 'nursery, orchard/vineyard',\n",
       " 'nursery, ornamental',\n",
       " 'nursery, silviculture',\n",
       " 'oat',\n",
       " 'oat hay',\n",
       " 'onion',\n",
       " 'onion seed',\n",
       " 'orchard, unknown',\n",
       " 'pasture',\n",
       " 'pea seed',\n",
       " 'pea, dry',\n",
       " 'pea, green',\n",
       " 'pear',\n",
       " 'pepper',\n",
       " 'plum',\n",
       " 'poplar',\n",
       " 'potato',\n",
       " 'pumpkin',\n",
       " 'radish seed',\n",
       " 'reclamation seed',\n",
       " 'research station',\n",
       " 'rhubarb',\n",
       " 'rye',\n",
       " 'ryegrass seed',\n",
       " 'silviculture',\n",
       " 'sod farm',\n",
       " 'sorghum',\n",
       " 'soybean',\n",
       " 'spinach',\n",
       " 'squash',\n",
       " 'strawberry',\n",
       " 'sudangrass',\n",
       " 'sugar beet',\n",
       " 'sugar beet seed',\n",
       " 'sunflower',\n",
       " 'sunflower seed',\n",
       " 'timothy',\n",
       " 'tobacco',\n",
       " 'tomato',\n",
       " 'triticale',\n",
       " 'triticale hay',\n",
       " 'unknown',\n",
       " 'vegetable, unknown',\n",
       " 'walnut',\n",
       " 'watermelon',\n",
       " 'wheat',\n",
       " 'wheat fallow',\n",
       " 'wildlife feed',\n",
       " 'yarrow seed',\n",
       " 'yellow mustard']"
      ]
     },
     "execution_count": 15,
     "metadata": {},
     "output_type": "execute_result"
    }
   ],
   "source": [
    "sorted(all_data.CropTyp.unique())"
   ]
  },
  {
   "cell_type": "code",
   "execution_count": 16,
   "id": "56bbbb46",
   "metadata": {},
   "outputs": [
    {
     "data": {
      "text/plain": [
       "3515901.2143262145"
      ]
     },
     "execution_count": 16,
     "metadata": {},
     "output_type": "execute_result"
    }
   ],
   "source": [
    "all_data.ExctAcr.sum()"
   ]
  },
  {
   "cell_type": "code",
   "execution_count": 18,
   "id": "72b4be1b",
   "metadata": {},
   "outputs": [
    {
     "data": {
      "text/plain": [
       "['Adams', 'Benton', 'Franklin', 'Grant', 'Walla Walla', 'Yakima']"
      ]
     },
     "execution_count": 18,
     "metadata": {},
     "output_type": "execute_result"
    }
   ],
   "source": [
    "sorted(all_data.county.unique())"
   ]
  },
  {
   "cell_type": "code",
   "execution_count": null,
   "id": "d951d44f",
   "metadata": {},
   "outputs": [],
   "source": []
  }
 ],
 "metadata": {
  "kernelspec": {
   "display_name": "Python 3 (ipykernel)",
   "language": "python",
   "name": "python3"
  },
  "language_info": {
   "codemirror_mode": {
    "name": "ipython",
    "version": 3
   },
   "file_extension": ".py",
   "mimetype": "text/x-python",
   "name": "python",
   "nbconvert_exporter": "python",
   "pygments_lexer": "ipython3",
   "version": "3.9.12"
  }
 },
 "nbformat": 4,
 "nbformat_minor": 5
}
