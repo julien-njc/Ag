{
 "cells": [
  {
   "cell_type": "code",
   "execution_count": 1,
   "id": "905b7c48",
   "metadata": {},
   "outputs": [],
   "source": [
    "import numpy as np\n",
    "import pandas as pd\n",
    "import scipy, scipy.signal\n",
    "\n",
    "from datetime import date\n",
    "import time\n",
    "\n",
    "import random\n",
    "from random import seed\n",
    "from random import random\n",
    "\n",
    "import os, os.path\n",
    "import shutil\n",
    "\n",
    "from sklearn.model_selection import train_test_split\n",
    "from sklearn.linear_model import LogisticRegression\n",
    "\n",
    "from sklearn.neighbors import KNeighborsClassifier\n",
    "from sklearn.model_selection import GridSearchCV\n",
    "from sklearn.metrics import classification_report\n",
    "\n",
    "import matplotlib\n",
    "import matplotlib.pyplot as plt\n",
    "from matplotlib import pyplot\n",
    "from pylab import imshow\n",
    "from matplotlib.image import imread\n",
    "\n",
    "\n",
    "import h5py\n",
    "import pickle\n",
    "import sys\n"
   ]
  },
  {
   "cell_type": "code",
   "execution_count": 2,
   "id": "bef7b388",
   "metadata": {},
   "outputs": [],
   "source": [
    "sys.path.append('/Users/hn/Documents/00_GitHub/Ag/NASA/Python_codes/')\n",
    "import NASA_core as nc\n",
    "# import NASA_plot_core as rcp"
   ]
  },
  {
   "cell_type": "code",
   "execution_count": null,
   "id": "085feb28",
   "metadata": {},
   "outputs": [],
   "source": []
  },
  {
   "cell_type": "code",
   "execution_count": 34,
   "id": "d8dbe73b",
   "metadata": {},
   "outputs": [],
   "source": [
    "meta_dir = \"/Users/hn/Documents/01_research_data/NASA/parameters/\"\n",
    "meta = pd.read_csv(meta_dir+\"evaluation_set.csv\")\n",
    "\n",
    "training_set_dir = \"/Users/hn/Documents/01_research_data/NASA/ML_data/\"\n",
    "ground_truth_labels = pd.read_csv(training_set_dir+\"train_labels.csv\")\n"
   ]
  },
  {
   "cell_type": "markdown",
   "id": "e23edc2e",
   "metadata": {},
   "source": [
    "# Read SG data"
   ]
  },
  {
   "cell_type": "code",
   "execution_count": 4,
   "id": "2b458d9b",
   "metadata": {},
   "outputs": [],
   "source": [
    "VI_idx = \"EVI\""
   ]
  },
  {
   "cell_type": "code",
   "execution_count": 10,
   "id": "d7569db1",
   "metadata": {},
   "outputs": [
    {
     "data": {
      "text/html": [
       "<div>\n",
       "<style scoped>\n",
       "    .dataframe tbody tr th:only-of-type {\n",
       "        vertical-align: middle;\n",
       "    }\n",
       "\n",
       "    .dataframe tbody tr th {\n",
       "        vertical-align: top;\n",
       "    }\n",
       "\n",
       "    .dataframe thead th {\n",
       "        text-align: right;\n",
       "    }\n",
       "</style>\n",
       "<table border=\"1\" class=\"dataframe\">\n",
       "  <thead>\n",
       "    <tr style=\"text-align: right;\">\n",
       "      <th></th>\n",
       "      <th>ID</th>\n",
       "      <th>human_system_start_time</th>\n",
       "      <th>EVI</th>\n",
       "    </tr>\n",
       "  </thead>\n",
       "  <tbody>\n",
       "    <tr>\n",
       "      <th>0</th>\n",
       "      <td>135073_WSDA_SF_2015</td>\n",
       "      <td>2015-01-10</td>\n",
       "      <td>0.054429</td>\n",
       "    </tr>\n",
       "    <tr>\n",
       "      <th>1</th>\n",
       "      <td>135073_WSDA_SF_2015</td>\n",
       "      <td>2015-01-20</td>\n",
       "      <td>0.051731</td>\n",
       "    </tr>\n",
       "  </tbody>\n",
       "</table>\n",
       "</div>"
      ],
      "text/plain": [
       "                    ID human_system_start_time       EVI\n",
       "0  135073_WSDA_SF_2015              2015-01-10  0.054429\n",
       "1  135073_WSDA_SF_2015              2015-01-20  0.051731"
      ]
     },
     "execution_count": 10,
     "metadata": {},
     "output_type": "execute_result"
    }
   ],
   "source": [
    "SG_dir = \"/Users/hn/Documents/01_research_data/NASA/VI_TS/05_SG_TS/\"\n",
    "file_names = [\"SG_Walla2015_\" + VI_idx + \"_JFD.csv\", \"SG_AdamBenton2016_\" + VI_idx + \"_JFD.csv\", \n",
    "              \"SG_Grant2017_\" + VI_idx + \"_JFD.csv\", \"SG_FranklinYakima2018_\"+ VI_idx +\"_JFD.csv\"]\n",
    "\n",
    "SG_data=pd.DataFrame()\n",
    "\n",
    "for file in file_names:\n",
    "    curr_file=pd.read_csv(SG_dir + file)\n",
    "    curr_file['human_system_start_time'] = pd.to_datetime(curr_file['human_system_start_time'])\n",
    "    \n",
    "    # These data are for 3 years. The middle one is the correct one\n",
    "    all_years = sorted(curr_file.human_system_start_time.dt.year.unique())\n",
    "    if len(all_years)==3 or len(all_years)==2:\n",
    "        proper_year = all_years[1]\n",
    "    elif len(all_years)==1:\n",
    "        proper_year = all_years[0]\n",
    "\n",
    "    curr_file = curr_file[curr_file.human_system_start_time.dt.year==proper_year]\n",
    "    SG_data=pd.concat([SG_data, curr_file])\n",
    "\n",
    "SG_data.reset_index(drop=True, inplace=True)\n",
    "SG_data.head(2)"
   ]
  },
  {
   "cell_type": "markdown",
   "id": "f7242456",
   "metadata": {},
   "source": [
    "# Read Raw Data"
   ]
  },
  {
   "cell_type": "code",
   "execution_count": 6,
   "id": "c3db074b",
   "metadata": {},
   "outputs": [],
   "source": [
    "landsat_dir = \"/Users/hn/Documents/01_research_data/NASA/VI_TS/data_for_train_individual_counties/\"\n",
    "\n",
    "landsat_fNames = [x for x in os.listdir(landsat_dir) if x.endswith(\".csv\")]\n",
    "\n",
    "landsat_DF = pd.DataFrame()\n",
    "for fName in landsat_fNames:\n",
    "    curr = pd.read_csv(landsat_dir+fName)\n",
    "    curr.dropna(subset=[VI_idx], inplace=True)\n",
    "    landsat_DF=pd.concat([landsat_DF, curr])"
   ]
  },
  {
   "cell_type": "markdown",
   "id": "796cad07",
   "metadata": {},
   "source": [
    "# Read Regular data"
   ]
  },
  {
   "cell_type": "code",
   "execution_count": 8,
   "id": "edabca66",
   "metadata": {},
   "outputs": [
    {
     "data": {
      "text/html": [
       "<div>\n",
       "<style scoped>\n",
       "    .dataframe tbody tr th:only-of-type {\n",
       "        vertical-align: middle;\n",
       "    }\n",
       "\n",
       "    .dataframe tbody tr th {\n",
       "        vertical-align: top;\n",
       "    }\n",
       "\n",
       "    .dataframe thead th {\n",
       "        text-align: right;\n",
       "    }\n",
       "</style>\n",
       "<table border=\"1\" class=\"dataframe\">\n",
       "  <thead>\n",
       "    <tr style=\"text-align: right;\">\n",
       "      <th></th>\n",
       "      <th>ID</th>\n",
       "      <th>human_system_start_time</th>\n",
       "      <th>EVI</th>\n",
       "    </tr>\n",
       "  </thead>\n",
       "  <tbody>\n",
       "    <tr>\n",
       "      <th>0</th>\n",
       "      <td>135073_WSDA_SF_2015</td>\n",
       "      <td>2015-01-10</td>\n",
       "      <td>0.049624</td>\n",
       "    </tr>\n",
       "    <tr>\n",
       "      <th>1</th>\n",
       "      <td>135073_WSDA_SF_2015</td>\n",
       "      <td>2015-01-20</td>\n",
       "      <td>0.026503</td>\n",
       "    </tr>\n",
       "  </tbody>\n",
       "</table>\n",
       "</div>"
      ],
      "text/plain": [
       "                    ID human_system_start_time       EVI\n",
       "0  135073_WSDA_SF_2015              2015-01-10  0.049624\n",
       "1  135073_WSDA_SF_2015              2015-01-20  0.026503"
      ]
     },
     "execution_count": 8,
     "metadata": {},
     "output_type": "execute_result"
    }
   ],
   "source": [
    "regular_dir = \"/Users/hn/Documents/01_research_data/NASA/VI_TS/04_regularized_TS/\"\n",
    "file_names = [\"regular_Walla2015_\" + VI_idx + \"_JFD.csv\", \n",
    "              \"regular_AdamBenton2016_\" + VI_idx + \"_JFD.csv\", \n",
    "              \"regular_Grant2017_\" + VI_idx + \"_JFD.csv\", \n",
    "              \"regular_FranklinYakima2018_\"+ VI_idx +\"_JFD.csv\"]\n",
    "\n",
    "regular_data=pd.DataFrame()\n",
    "\n",
    "for file in file_names:\n",
    "    curr_file=pd.read_csv(regular_dir + file)\n",
    "    curr_file['human_system_start_time'] = pd.to_datetime(curr_file['human_system_start_time'])\n",
    "    \n",
    "    # These data are for 3 years. The middle one is the correct one\n",
    "    all_years = sorted(curr_file.human_system_start_time.dt.year.unique())\n",
    "    if len(all_years)==3 or len(all_years)==2:\n",
    "        proper_year = all_years[1]\n",
    "    elif len(all_years)==1:\n",
    "        proper_year = all_years[0]\n",
    "\n",
    "    curr_file = curr_file[curr_file.human_system_start_time.dt.year==proper_year]\n",
    "    regular_data=pd.concat([regular_data, curr_file])\n",
    "\n",
    "regular_data.reset_index(drop=True, inplace=True)\n",
    "regular_data.head(2)"
   ]
  },
  {
   "cell_type": "code",
   "execution_count": null,
   "id": "015bbf4b",
   "metadata": {},
   "outputs": [],
   "source": []
  },
  {
   "cell_type": "code",
   "execution_count": 58,
   "id": "c621216a",
   "metadata": {},
   "outputs": [],
   "source": [
    "def plot_45step(SG_dt, regular_dt, raw_dt, titlee, idx=\"EVI\"):\n",
    "    \n",
    "    fig, ax = plt.subplots(1, 1, figsize=(15, 4), sharex=False, sharey='col', # sharex=True, sharey=True,\n",
    "                           gridspec_kw={'hspace': 0.35, 'wspace': .05});\n",
    "    ax.grid(True);\n",
    "    ax.plot(SG_dt['human_system_start_time'], SG_dt[idx], linewidth=4, \\\n",
    "            color=\"dodgerblue\", label=\"5-step smooth\",\n",
    "           linestyle=\"solid\") \n",
    "\n",
    "    ax.plot(regular_dt['human_system_start_time'], regular_dt[idx], linewidth=4, \\\n",
    "            color=\"#2ca02c\", label=\"4-step smooth\",\n",
    "            linestyle=\"dotted\") \n",
    "\n",
    "    ax.scatter(raw_dt['human_system_start_time'], raw_dt[idx], s=20, c=\"r\", label=\"raw\")\n",
    "\n",
    "    ax.set_title(titlee)\n",
    "    ax.set_ylabel(idx) # , labelpad=20); # fontsize = label_FontSize,\n",
    "    ax.tick_params(axis='y', which='major') #, labelsize = tick_FontSize)\n",
    "    ax.tick_params(axis='x', which='major') #, labelsize = tick_FontSize) # \n",
    "    ax.legend(loc=\"upper right\");\n",
    "    plt.yticks(np.arange(0, 1.05, 0.2))\n",
    "    # ax.xaxis.set_major_locator(mdates.YearLocator(1))\n",
    "    ax.set_ylim(-0.1, 1.05)"
   ]
  },
  {
   "cell_type": "code",
   "execution_count": 36,
   "id": "c94ca0b0",
   "metadata": {},
   "outputs": [],
   "source": [
    "an_ID = \"106509_WSDA_SF_2017\"\n",
    "a_meta = meta[meta.ID==an_ID]\n",
    "\n",
    "a_SG = SG_data[SG_data.ID==an_ID].copy()\n",
    "a_regular = regular_data[regular_data.ID==an_ID].copy()\n",
    "\n",
    "a_landsat = landsat_DF[landsat_DF.ID==an_ID].copy()\n",
    "a_landsat = nc.add_human_start_time_by_system_start_time(a_landsat)\n",
    "a_landsat.dropna(subset=[VI_idx], inplace=True)"
   ]
  },
  {
   "cell_type": "code",
   "execution_count": 59,
   "id": "39a664a5",
   "metadata": {},
   "outputs": [],
   "source": [
    "curr_year=a_SG.human_system_start_time.dt.year.unique()[0]\n",
    "\n",
    "a_landsat=a_landsat[a_landsat.human_system_start_time.dt.year==curr_year]\n",
    "\n",
    "curr_vote = ground_truth_labels[ground_truth_labels.ID==an_ID]\n",
    "curr_vote = list(curr_vote.Vote)[0]\n",
    "\n",
    "title_ = list(a_meta.CropTyp)[0] + \" (\" + \\\n",
    "         str(list(a_meta.Acres)[0]) + \" acre), \"+ \\\n",
    "         \"Experts' vote: \" + str(curr_vote)\n",
    "\n",
    "curr_plt = plot_45step(SG_dt=a_SG, regular_dt=a_regular, raw_dt=a_landsat, titlee=title_, idx=\"EVI\")\n",
    "\n",
    "\n",
    "test_result_dir = \"/Users/hn/Documents/01_research_data/NASA/ML_data/test_results/\"\n",
    "os.makedirs(test_result_dir, exist_ok=True)\n",
    "\n",
    "plot_path = test_result_dir \n",
    "os.makedirs(plot_path, exist_ok=True)\n",
    "fig_name = plot_path + an_ID + '45_smooth.pdf'\n",
    "plt.savefig(fname = fig_name, dpi=400, bbox_inches='tight')\n",
    "plt.close('all')"
   ]
  },
  {
   "cell_type": "code",
   "execution_count": null,
   "id": "ac02f5ec",
   "metadata": {},
   "outputs": [],
   "source": []
  },
  {
   "cell_type": "code",
   "execution_count": null,
   "id": "64049714",
   "metadata": {},
   "outputs": [],
   "source": []
  },
  {
   "cell_type": "code",
   "execution_count": null,
   "id": "78eb8b15",
   "metadata": {},
   "outputs": [],
   "source": []
  }
 ],
 "metadata": {
  "kernelspec": {
   "display_name": "Python 3 (ipykernel)",
   "language": "python",
   "name": "python3"
  },
  "language_info": {
   "codemirror_mode": {
    "name": "ipython",
    "version": 3
   },
   "file_extension": ".py",
   "mimetype": "text/x-python",
   "name": "python",
   "nbconvert_exporter": "python",
   "pygments_lexer": "ipython3",
   "version": "3.9.12"
  }
 },
 "nbformat": 4,
 "nbformat_minor": 5
}
