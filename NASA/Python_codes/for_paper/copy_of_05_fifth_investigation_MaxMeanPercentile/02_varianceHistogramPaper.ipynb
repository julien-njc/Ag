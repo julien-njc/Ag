{
 "cells": [
  {
   "cell_type": "code",
   "execution_count": 1,
   "id": "54a6f5d3",
   "metadata": {},
   "outputs": [],
   "source": [
    "import pandas as pd\n",
    "import numpy as np\n",
    "import datetime\n",
    "from datetime import date\n",
    "import datetime\n",
    "import time\n",
    "\n",
    "import os, os.path\n",
    "from os import listdir\n",
    "from os.path import isfile, join\n",
    "\n",
    "import re\n",
    "# from pprint import pprint\n",
    "import matplotlib.pyplot as plt\n",
    "import matplotlib.dates as mdates\n",
    "\n",
    "import sys\n",
    "\n",
    "# search path for modules\n",
    "# look @ https://stackoverflow.com/questions/67631/how-to-import-a-module-given-the-full-path\n",
    "sys.path.append('/Users/hn/Documents/00_GitHub/Ag/NASA/Python_codes/')\n",
    "import NASA_core as nc\n",
    "import NASA_plot_core as npc"
   ]
  },
  {
   "cell_type": "markdown",
   "id": "3f4e21e9",
   "metadata": {},
   "source": [
    "### Set up directories"
   ]
  },
  {
   "cell_type": "code",
   "execution_count": 2,
   "id": "e284ee08",
   "metadata": {},
   "outputs": [],
   "source": [
    "data_dir = \"/Users/hn/Documents/01_research_data/NASA/VI_TS/05_fifth_investigation/\"\n",
    "param_dir = \"/Users/hn/Documents/00_GitHub/Ag/NASA/parameters/\"\n",
    "\n",
    "plot_dir = \"/Users/hn/Documents/01_research_data/NASA/for_paper/plots/raw_statsPlots/\"\n",
    "os.makedirs(plot_dir, exist_ok=True)"
   ]
  },
  {
   "cell_type": "code",
   "execution_count": null,
   "id": "e8709856",
   "metadata": {},
   "outputs": [],
   "source": [
    "irrigatedAnnuals = pd.read_csv(param_dir + \"irrigatedAnnuals.csv\")"
   ]
  },
  {
   "cell_type": "code",
   "execution_count": null,
   "id": "ea632c5c",
   "metadata": {},
   "outputs": [],
   "source": [
    "file_names = [x for x in os.listdir(data_dir) if x.endswith(\".csv\")]\n",
    "file_names = [x for x in file_names if \"variance\" in x]\n",
    "np.sort(file_names).tolist()"
   ]
  },
  {
   "cell_type": "code",
   "execution_count": 5,
   "id": "e503da9a",
   "metadata": {},
   "outputs": [],
   "source": [
    "file_names_correct = [x for x in file_names if \"correctYear\" in x]\n",
    "file_names_wrong = [x for x in file_names if \"WrongYear\" in x]"
   ]
  },
  {
   "cell_type": "code",
   "execution_count": 6,
   "id": "b7eb7b1f",
   "metadata": {},
   "outputs": [
    {
     "data": {
      "text/plain": [
       "['Eastern_WA_2017_07_variance_correctYear.csv',\n",
       " 'Eastern_WA_2017_08_variance_correctYear.csv',\n",
       " 'Eastern_WA_2018_07_variance_correctYear.csv',\n",
       " 'Eastern_WA_2018_08_variance_correctYear.csv']"
      ]
     },
     "execution_count": 6,
     "metadata": {},
     "output_type": "execute_result"
    }
   ],
   "source": [
    "np.sort(file_names_correct).tolist()"
   ]
  },
  {
   "cell_type": "code",
   "execution_count": 7,
   "id": "fb6ddb2d",
   "metadata": {},
   "outputs": [
    {
     "data": {
      "text/plain": [
       "(72140, 8)"
      ]
     },
     "execution_count": 7,
     "metadata": {},
     "output_type": "execute_result"
    }
   ],
   "source": [
    "July_2017 = pd.read_csv(data_dir + \"Eastern_WA_2017_07_variance_correctYear.csv\")\n",
    "Aug_2017  = pd.read_csv(data_dir + \"Eastern_WA_2017_08_variance_correctYear.csv\")\n",
    "July_2018 = pd.read_csv(data_dir + \"Eastern_WA_2018_07_variance_correctYear.csv\")\n",
    "Aug_2018  = pd.read_csv(data_dir + \"Eastern_WA_2018_08_variance_correctYear.csv\")\n",
    "July_2017.shape"
   ]
  },
  {
   "cell_type": "code",
   "execution_count": 8,
   "id": "7253f832",
   "metadata": {},
   "outputs": [
    {
     "data": {
      "text/plain": [
       "(72128, 8)"
      ]
     },
     "execution_count": 8,
     "metadata": {},
     "output_type": "execute_result"
    }
   ],
   "source": [
    "July_2017 = July_2017[July_2017['NDVI_max'].notna()]\n",
    "Aug_2017  = Aug_2017[Aug_2017['NDVI_max'].notna()]\n",
    "July_2018 = July_2018[July_2018['NDVI_max'].notna()]\n",
    "Aug_2018  = Aug_2018[Aug_2018['NDVI_max'].notna()]\n",
    "July_2017.shape"
   ]
  },
  {
   "cell_type": "code",
   "execution_count": 9,
   "id": "71fe0020",
   "metadata": {},
   "outputs": [
    {
     "data": {
      "text/html": [
       "<div>\n",
       "<style scoped>\n",
       "    .dataframe tbody tr th:only-of-type {\n",
       "        vertical-align: middle;\n",
       "    }\n",
       "\n",
       "    .dataframe tbody tr th {\n",
       "        vertical-align: top;\n",
       "    }\n",
       "\n",
       "    .dataframe thead th {\n",
       "        text-align: right;\n",
       "    }\n",
       "</style>\n",
       "<table border=\"1\" class=\"dataframe\">\n",
       "  <thead>\n",
       "    <tr style=\"text-align: right;\">\n",
       "      <th></th>\n",
       "      <th>ID</th>\n",
       "      <th>county</th>\n",
       "      <th>CropTyp</th>\n",
       "      <th>DataSrc</th>\n",
       "      <th>ExctAcr</th>\n",
       "      <th>Irrigtn</th>\n",
       "      <th>LstSrvD</th>\n",
       "      <th>NDVI_max</th>\n",
       "    </tr>\n",
       "  </thead>\n",
       "  <tbody>\n",
       "    <tr>\n",
       "      <th>0</th>\n",
       "      <td>102149_WSDA_SF_2018</td>\n",
       "      <td>Franklin</td>\n",
       "      <td>grass seed</td>\n",
       "      <td>nass</td>\n",
       "      <td>127.017458</td>\n",
       "      <td>center pivot</td>\n",
       "      <td>2018/01/01 00:00:00</td>\n",
       "      <td>0.066772</td>\n",
       "    </tr>\n",
       "    <tr>\n",
       "      <th>1</th>\n",
       "      <td>34269_WSDA_SF_2018</td>\n",
       "      <td>Yakima</td>\n",
       "      <td>pear</td>\n",
       "      <td>wsda</td>\n",
       "      <td>4.648426</td>\n",
       "      <td>micro-sprinkler</td>\n",
       "      <td>2018/02/26 00:00:00</td>\n",
       "      <td>0.116667</td>\n",
       "    </tr>\n",
       "  </tbody>\n",
       "</table>\n",
       "</div>"
      ],
      "text/plain": [
       "                    ID    county     CropTyp DataSrc     ExctAcr  \\\n",
       "0  102149_WSDA_SF_2018  Franklin  grass seed    nass  127.017458   \n",
       "1   34269_WSDA_SF_2018    Yakima        pear    wsda    4.648426   \n",
       "\n",
       "           Irrigtn              LstSrvD  NDVI_max  \n",
       "0     center pivot  2018/01/01 00:00:00  0.066772  \n",
       "1  micro-sprinkler  2018/02/26 00:00:00  0.116667  "
      ]
     },
     "execution_count": 9,
     "metadata": {},
     "output_type": "execute_result"
    }
   ],
   "source": [
    "Aug_2018.head(2)"
   ]
  },
  {
   "cell_type": "markdown",
   "id": "2bef300b",
   "metadata": {},
   "source": [
    "### Set the plotting style"
   ]
  },
  {
   "cell_type": "code",
   "execution_count": 10,
   "id": "ae051638",
   "metadata": {},
   "outputs": [],
   "source": [
    "size = 15\n",
    "title_FontSize = 6\n",
    "legend_FontSize = 4\n",
    "tick_FontSize = 8\n",
    "label_FontSize = 10\n",
    "\n",
    "params = {'legend.fontsize': 'medium',\n",
    "          'figure.figsize': (6, 4),\n",
    "          'axes.labelsize': size,\n",
    "          'axes.titlesize': size,\n",
    "          'xtick.labelsize': size * 0.75,\n",
    "          'ytick.labelsize': size * 0.75,\n",
    "          'axes.titlepad': 10}\n",
    "\n",
    "#\n",
    "#  Once set, you cannot change them, unless restart the notebook\n",
    "#\n",
    "plt.rc('font', family = 'Palatino')\n",
    "plt.rcParams['xtick.bottom'] = True\n",
    "plt.rcParams['ytick.left'] = True\n",
    "plt.rcParams['xtick.labelbottom'] = True\n",
    "plt.rcParams['ytick.labelleft'] = True\n",
    "plt.rcParams.update(params)\n",
    "# pylab.rcParams.update(params)\n",
    "# plt.rc('text', usetex=True)"
   ]
  },
  {
   "cell_type": "code",
   "execution_count": 11,
   "id": "c6cd0983",
   "metadata": {},
   "outputs": [
    {
     "data": {
      "image/png": "[encoded data removed]",
      "text/plain": [
       "<Figure size 360x720 with 4 Axes>"
      ]
     },
     "metadata": {
      "needs_background": "light"
     },
     "output_type": "display_data"
    }
   ],
   "source": [
    "fig, axs = plt.subplots(4, 1, figsize=(5, 10),\n",
    "                       sharex='col', sharey='row',\n",
    "                       # sharex=True, sharey=True,\n",
    "                       gridspec_kw={'hspace': 0.35, 'wspace': .05});\n",
    "\n",
    "(ax1, ax2, ax3, ax4) = axs;\n",
    "ax1.grid(True); ax2.grid(True)\n",
    "ax3.grid(True); ax4.grid(True)\n",
    "\n",
    "################\n",
    "################  July 2017\n",
    "################\n",
    "_ = ax1.hist(July_2017['NDVI_max'], bins='auto');\n",
    "ax1.set_title(\"July 2017\");\n",
    "ax1.set_ylabel(\"frequency\")\n",
    "\n",
    "################\n",
    "################  August 2017\n",
    "################\n",
    "_ = ax2.hist(Aug_2017['NDVI_max'], bins='auto');\n",
    "ax2.set_title(\"August 2017\");\n",
    "ax2.set_ylabel(\"frequency\")\n",
    "\n",
    "################\n",
    "################  July 2018\n",
    "################\n",
    "_ = ax3.hist(July_2018['NDVI_max'], bins='auto');\n",
    "ax3.set_title(\"July 2018\");\n",
    "ax3.set_ylabel(\"frequency\")\n",
    "\n",
    "################\n",
    "################  August 2018\n",
    "################\n",
    "_ = ax4.hist(Aug_2018['NDVI_max'], bins='auto');\n",
    "ax4.set_title(\"August 2018\");\n",
    "ax4.set_ylabel(\"frequency\")\n",
    "ax4.set_xlabel(\"standard deviation\")\n",
    "\n",
    "################\n",
    "################  Save\n",
    "################\n",
    "\n",
    "file_name = plot_dir + \"varianceHistogram_CorrectYear_NDVI.pdf\"\n",
    "plt.savefig(fname = file_name, dpi=400, bbox_inches='tight', transparent=False);\n"
   ]
  },
  {
   "cell_type": "code",
   "execution_count": 12,
   "id": "56d3c3b9",
   "metadata": {},
   "outputs": [],
   "source": [
    "# Filter irrigated annuals"
   ]
  },
  {
   "cell_type": "code",
   "execution_count": 13,
   "id": "513c10b7",
   "metadata": {},
   "outputs": [
    {
     "data": {
      "text/plain": [
       "(12338, 8)"
      ]
     },
     "execution_count": 13,
     "metadata": {},
     "output_type": "execute_result"
    }
   ],
   "source": [
    "July_2017 = July_2017[July_2017.CropTyp.isin(irrigatedAnnuals.CropTyp)]\n",
    "Aug_2017  = Aug_2017[Aug_2017.CropTyp.isin(irrigatedAnnuals.CropTyp)]\n",
    "July_2018 = July_2018[July_2018.CropTyp.isin(irrigatedAnnuals.CropTyp)]\n",
    "Aug_2018  = Aug_2018[Aug_2018.CropTyp.isin(irrigatedAnnuals.CropTyp)]\n",
    "\n",
    "July_2017=nc.filter_out_nonIrrigated(July_2017)\n",
    "Aug_2017=nc.filter_out_nonIrrigated(Aug_2017)\n",
    "July_2018=nc.filter_out_nonIrrigated(July_2018)\n",
    "Aug_2018=nc.filter_out_nonIrrigated(Aug_2018)\n",
    "July_2017.shape"
   ]
  },
  {
   "cell_type": "code",
   "execution_count": 14,
   "id": "08d6b7fd",
   "metadata": {},
   "outputs": [
    {
     "data": {
      "image/png": "[encoded data removed]",
      "text/plain": [
       "<Figure size 360x720 with 4 Axes>"
      ]
     },
     "metadata": {
      "needs_background": "light"
     },
     "output_type": "display_data"
    }
   ],
   "source": [
    "fig, axs = plt.subplots(4, 1, figsize=(5, 10),\n",
    "                       sharex='col', sharey='row',\n",
    "                       # sharex=True, sharey=True,\n",
    "                       gridspec_kw={'hspace': 0.35, 'wspace': .05});\n",
    "\n",
    "(ax1, ax2, ax3, ax4) = axs;\n",
    "ax1.grid(True); ax2.grid(True)\n",
    "ax3.grid(True); ax4.grid(True)\n",
    "\n",
    "################\n",
    "################  July 2017\n",
    "################\n",
    "_ = ax1.hist(July_2017['NDVI_max'], bins='auto');\n",
    "ax1.set_title(\"July 2017\");\n",
    "ax1.set_ylabel(\"frequency\")\n",
    "\n",
    "################\n",
    "################  August 2017\n",
    "################\n",
    "\n",
    "_ = ax2.hist(Aug_2017['NDVI_max'], bins='auto');\n",
    "ax2.set_title(\"August 2017\");\n",
    "ax2.set_ylabel(\"frequency\")\n",
    "\n",
    "################\n",
    "################  July 2018\n",
    "################\n",
    "_ = ax3.hist(July_2018['NDVI_max'], bins='auto');\n",
    "ax3.set_title(\"July 2018\");\n",
    "ax3.set_ylabel(\"frequency\")\n",
    "\n",
    "################\n",
    "################  August 2018\n",
    "################\n",
    "_ = ax4.hist(Aug_2018['NDVI_max'], bins='auto');\n",
    "ax4.set_title(\"August 2018\");\n",
    "ax4.set_ylabel(\"frequency\")\n",
    "ax4.set_xlabel(\"standard deviation\")\n",
    "\n",
    "################\n",
    "################  Save\n",
    "################\n",
    "\n",
    "file_name = plot_dir + \"varianceHistogram_CorrectYear_NDVI_IrrAnnuals.pdf\"\n",
    "plt.savefig(fname = file_name, dpi=400, bbox_inches='tight', transparent=False);\n"
   ]
  },
  {
   "cell_type": "markdown",
   "id": "f710137f",
   "metadata": {},
   "source": [
    "# Wrong Year"
   ]
  },
  {
   "cell_type": "code",
   "execution_count": 15,
   "id": "27d8adcb",
   "metadata": {},
   "outputs": [
    {
     "name": "stdout",
     "output_type": "stream",
     "text": [
      "(174387, 8)\n",
      "(174387, 8)\n",
      "(178281, 8)\n",
      "(178281, 8)\n"
     ]
    },
    {
     "data": {
      "image/png": "[encoded data removed]",
      "text/plain": [
       "<Figure size 360x720 with 4 Axes>"
      ]
     },
     "metadata": {
      "needs_background": "light"
     },
     "output_type": "display_data"
    }
   ],
   "source": [
    "July_2017 = pd.read_csv(data_dir + \"Eastern_WA_2017_07_variance_WrongYear.csv\")\n",
    "Aug_2017  = pd.read_csv(data_dir + \"Eastern_WA_2017_08_variance_WrongYear.csv\")\n",
    "July_2018 = pd.read_csv(data_dir + \"Eastern_WA_2018_07_variance_WrongYear.csv\")\n",
    "Aug_2018  = pd.read_csv(data_dir + \"Eastern_WA_2018_08_variance_WrongYear.csv\")\n",
    "print (July_2017.shape)\n",
    "print (Aug_2017.shape)\n",
    "print (July_2018.shape)\n",
    "print (Aug_2018.shape)\n",
    "\n",
    "fig, axs = plt.subplots(4, 1, figsize=(5, 10),\n",
    "                       sharex='col', sharey='row',\n",
    "                       # sharex=True, sharey=True,\n",
    "                       gridspec_kw={'hspace': 0.35, 'wspace': .05});\n",
    "\n",
    "(ax1, ax2, ax3, ax4) = axs;\n",
    "ax1.grid(True); ax2.grid(True)\n",
    "ax3.grid(True); ax4.grid(True)\n",
    "\n",
    "################\n",
    "################  July 2017\n",
    "################\n",
    "_ = ax1.hist(July_2017['NDVI_max'], bins='auto');\n",
    "ax1.set_title(\"July 2017\");\n",
    "ax1.set_ylabel(\"frequency\")\n",
    "\n",
    "################\n",
    "################  August 2017\n",
    "################\n",
    "_ = ax2.hist(Aug_2017['NDVI_max'], bins='auto');\n",
    "ax2.set_title(\"August 2017\");\n",
    "ax2.set_ylabel(\"frequency\")\n",
    "\n",
    "################\n",
    "################  July 2018\n",
    "################\n",
    "_ = ax3.hist(July_2018['NDVI_max'], bins='auto');\n",
    "ax3.set_title(\"July 2018\");\n",
    "ax3.set_ylabel(\"frequency\")\n",
    "\n",
    "################\n",
    "################  August 2018\n",
    "################\n",
    "_ = ax4.hist(Aug_2018['NDVI_max'], bins='auto');\n",
    "ax4.set_title(\"August 2018\");\n",
    "ax4.set_ylabel(\"frequency\")\n",
    "ax4.set_xlabel(\"standard deviation\")\n",
    "\n",
    "################\n",
    "################  Save\n",
    "################\n",
    "\n",
    "file_name = plot_dir + \"varianceHistogram_WrongYear_NDVI.pdf\"\n",
    "plt.savefig(fname = file_name, dpi=400, bbox_inches='tight', transparent=False);\n"
   ]
  },
  {
   "cell_type": "code",
   "execution_count": 16,
   "id": "b0aabd22",
   "metadata": {},
   "outputs": [
    {
     "name": "stdout",
     "output_type": "stream",
     "text": [
      "127\n"
     ]
    },
    {
     "data": {
      "text/plain": [
       "array(['developed', 'apple', 'grape, wine', 'grass hay', 'fallow',\n",
       "       'alfalfa hay', 'pear', 'cherry', 'pasture', 'fallow, idle',\n",
       "       'blueberry', 'crp/conservation', 'onion', 'bluegrass seed',\n",
       "       'unknown', 'corn, field', 'market crops', 'grape, unknown',\n",
       "       'orchard, unknown', 'nursery, ornamental', 'grape, juice',\n",
       "       'nectarine/peach', 'plum', 'hops', 'research station',\n",
       "       'alfalfa/grass hay', 'nursery, orchard/vineyard', 'apricot',\n",
       "       'sudangrass', 'corn, sweet', 'golf course', 'nursery, lavender',\n",
       "       'oat hay', 'wheat', 'mint', 'timothy', 'wildlife feed', 'walnut',\n",
       "       'driving range', 'pumpkin', 'bean, dry', 'dill', 'pepper',\n",
       "       'potato', 'squash', 'tomato', 'asparagus', 'caneberry',\n",
       "       'barley hay', 'bean, green', 'carrot seed', 'barley', 'corn seed',\n",
       "       'clover seed', 'oat', 'cucumber', 'watermelon', 'alfalfa seed',\n",
       "       'triticale', 'fescue seed', 'christmas tree', 'tobacco',\n",
       "       'wheat fallow', 'soybean', 'legume cover', 'carrot', 'filbert',\n",
       "       'marijuana', 'strawberry', 'nursery, greenhouse', 'fallow, tilled',\n",
       "       'triticale hay', 'green manure', 'sunflower', 'clover/grass hay',\n",
       "       'canola', 'grass seed', 'sod farm', 'pea, green', 'silviculture',\n",
       "       'buckwheat', 'cabbage', 'poplar', 'rhubarb', 'pea seed',\n",
       "       'sunflower seed', 'mustard', 'cantaloupe', 'reclamation seed',\n",
       "       'nursery, caneberry', 'yarrow seed', 'yellow mustard', 'bean seed',\n",
       "       'vegetable, unknown', 'chestnut', 'grape, table', 'clover hay',\n",
       "       'ryegrass seed', 'medicinal herb', 'lentil', 'pea, dry',\n",
       "       'beet seed', 'sugar beet', 'bean, garbanzo', 'potato seed',\n",
       "       'rye hay', 'cilantro seed', 'kale', 'melon, unknown',\n",
       "       'sugar beet seed', 'radish seed', 'sorghum', 'onion seed',\n",
       "       'spinach', 'rye', 'corn, unknown', 'swiss chard seed',\n",
       "       'mustard seed', 'seed, other', 'hay/silage, unknown',\n",
       "       'nursery, silviculture', 'hemp', 'camelina', 'bromegrass seed',\n",
       "       'alkali bee bed', 'garlic', 'safflower seed'], dtype=object)"
      ]
     },
     "execution_count": 16,
     "metadata": {},
     "output_type": "execute_result"
    }
   ],
   "source": [
    "print (len(Aug_2018.CropTyp.unique()))\n",
    "Aug_2018.CropTyp.unique()"
   ]
  },
  {
   "cell_type": "code",
   "execution_count": 17,
   "id": "4257f3a5",
   "metadata": {},
   "outputs": [
    {
     "name": "stdout",
     "output_type": "stream",
     "text": [
      "89\n"
     ]
    },
    {
     "data": {
      "text/plain": [
       "array(['allium', 'artichoke', 'barley', 'barley hay', 'bean seed',\n",
       "       'bean, dry', 'bean, garbanzo', 'bean, green', 'beet', 'beet seed',\n",
       "       'broccoli', 'broccoli seed', 'brussels sprouts',\n",
       "       'brussels sprouts seed', 'buckwheat', 'cabbage', 'cabbage seed',\n",
       "       'camelina', 'canola', 'cantaloupe', 'carrot', 'carrot seed',\n",
       "       'cauliflower', 'cereal grain, unknown', 'cilantro seed',\n",
       "       'corn seed', 'corn, field', 'corn, sweet', 'corn, unknown',\n",
       "       'cucumber', 'flax seed', 'garlic', 'hemp', 'herb, medicinal',\n",
       "       'herb, unknown', 'kale', 'lentil', 'lettuce', 'medicinal herb',\n",
       "       'melon, unknown', 'mustard', 'mustard seed', 'oat', 'oat hay',\n",
       "       'onion', 'onion seed', 'parsley', 'pea seed', 'pea, dry',\n",
       "       'pea, green', 'pea/vetch', 'pepper', 'potato', 'potato seed',\n",
       "       'pumpkin', 'quinoa', 'radish', 'radish seed', 'rye', 'rye hay',\n",
       "       'ryegrass seed', 'safflower seed', 'seed, other', 'seed, unknown',\n",
       "       'sorghum', 'soybean', 'spinach', 'spinach seed', 'squash',\n",
       "       'sudangrass', 'sugar beet', 'sugar beet seed', 'sunflower',\n",
       "       'sunflower seed', 'swiss chard seed', 'tarragon', 'tomato',\n",
       "       'triticale', 'triticale hay', 'vegetable, unknown', 'watermelon',\n",
       "       'wheat', 'wheat fallow', 'alfalfa hay', 'alfalfa/grass hay',\n",
       "       'clover hay', 'clover/grass hay', 'grass hay',\n",
       "       'hay/silage, unknown'], dtype=object)"
      ]
     },
     "execution_count": 17,
     "metadata": {},
     "output_type": "execute_result"
    }
   ],
   "source": [
    "print (len(irrigatedAnnuals.CropTyp.unique()))\n",
    "irrigatedAnnuals.CropTyp.unique()"
   ]
  },
  {
   "cell_type": "markdown",
   "id": "3ae856cf",
   "metadata": {},
   "source": [
    "# Filter Irrigated Annuals"
   ]
  },
  {
   "cell_type": "code",
   "execution_count": 18,
   "id": "b0321071",
   "metadata": {},
   "outputs": [
    {
     "name": "stdout",
     "output_type": "stream",
     "text": [
      "93459\n"
     ]
    },
    {
     "data": {
      "text/plain": [
       "26823"
      ]
     },
     "execution_count": 18,
     "metadata": {},
     "output_type": "execute_result"
    }
   ],
   "source": [
    "July_2017 = July_2017[July_2017.CropTyp.isin(irrigatedAnnuals.CropTyp)]\n",
    "Aug_2017  = Aug_2017[Aug_2017.CropTyp.isin(irrigatedAnnuals.CropTyp)]\n",
    "July_2018 = July_2018[July_2018.CropTyp.isin(irrigatedAnnuals.CropTyp)]\n",
    "Aug_2018  = Aug_2018[Aug_2018.CropTyp.isin(irrigatedAnnuals.CropTyp)]\n",
    "\n",
    "print (len(Aug_2018.ID.unique()))\n",
    "July_2017=nc.filter_out_nonIrrigated(July_2017)\n",
    "Aug_2017=nc.filter_out_nonIrrigated(Aug_2017)\n",
    "July_2018=nc.filter_out_nonIrrigated(July_2018)\n",
    "Aug_2018=nc.filter_out_nonIrrigated(Aug_2018)\n",
    "len(Aug_2018.ID.unique())"
   ]
  },
  {
   "cell_type": "code",
   "execution_count": null,
   "id": "390dbacd",
   "metadata": {},
   "outputs": [],
   "source": []
  },
  {
   "cell_type": "code",
   "execution_count": 19,
   "id": "93b940d0",
   "metadata": {},
   "outputs": [
    {
     "data": {
      "image/png": "[encoded data removed]",
      "text/plain": [
       "<Figure size 360x720 with 4 Axes>"
      ]
     },
     "metadata": {
      "needs_background": "light"
     },
     "output_type": "display_data"
    }
   ],
   "source": [
    "fig, axs = plt.subplots(4, 1, figsize=(5, 10),\n",
    "                       sharex='col', sharey='row',\n",
    "                       # sharex=True, sharey=True,\n",
    "                       gridspec_kw={'hspace': 0.35, 'wspace': .05});\n",
    "\n",
    "(ax1, ax2, ax3, ax4) = axs;\n",
    "ax1.grid(True); ax2.grid(True)\n",
    "ax3.grid(True); ax4.grid(True)\n",
    "\n",
    "################\n",
    "################  July 2017\n",
    "################\n",
    "_ = ax1.hist(July_2017['NDVI_max'], bins='auto');\n",
    "ax1.set_title(\"July 2017\");\n",
    "ax1.set_ylabel(\"frequency\")\n",
    "\n",
    "################\n",
    "################  August 2017\n",
    "################\n",
    "_ = ax2.hist(Aug_2017['NDVI_max'], bins='auto');\n",
    "ax2.set_title(\"August 2017\");\n",
    "ax2.set_ylabel(\"frequency\")\n",
    "\n",
    "################\n",
    "################  July 2018\n",
    "################\n",
    "_ = ax3.hist(July_2018['NDVI_max'], bins='auto');\n",
    "ax3.set_title(\"July 2018\");\n",
    "ax3.set_ylabel(\"frequency\")\n",
    "\n",
    "################\n",
    "################  August 2018\n",
    "################\n",
    "_ = ax4.hist(Aug_2018['NDVI_max'], bins='auto');\n",
    "ax4.set_title(\"August 2018\");\n",
    "ax4.set_ylabel(\"frequency\")\n",
    "ax4.set_xlabel(\"standard deviation\")\n",
    "\n",
    "################\n",
    "################  Save\n",
    "################\n",
    "\n",
    "file_name = plot_dir + \"varianceHistogram_WrongYear_IrrAnnuals.pdf\"\n",
    "plt.savefig(fname = file_name, dpi=400, bbox_inches='tight', transparent=False);\n"
   ]
  },
  {
   "cell_type": "code",
   "execution_count": null,
   "id": "fc2e301c",
   "metadata": {},
   "outputs": [],
   "source": []
  },
  {
   "cell_type": "code",
   "execution_count": null,
   "id": "ddd53e0c",
   "metadata": {},
   "outputs": [],
   "source": []
  },
  {
   "cell_type": "code",
   "execution_count": null,
   "id": "89e939f3",
   "metadata": {},
   "outputs": [],
   "source": []
  },
  {
   "cell_type": "code",
   "execution_count": null,
   "id": "c751bd45",
   "metadata": {},
   "outputs": [],
   "source": []
  },
  {
   "cell_type": "code",
   "execution_count": null,
   "id": "ef9afde8",
   "metadata": {},
   "outputs": [],
   "source": []
  },
  {
   "cell_type": "code",
   "execution_count": null,
   "id": "d8d1aa37",
   "metadata": {},
   "outputs": [],
   "source": []
  }
 ],
 "metadata": {
  "kernelspec": {
   "display_name": "Python 3 (ipykernel)",
   "language": "python",
   "name": "python3"
  },
  "language_info": {
   "codemirror_mode": {
    "name": "ipython",
    "version": 3
   },
   "file_extension": ".py",
   "mimetype": "text/x-python",
   "name": "python",
   "nbconvert_exporter": "python",
   "pygments_lexer": "ipython3",
   "version": "3.9.7"
  }
 },
 "nbformat": 4,
 "nbformat_minor": 5
}
