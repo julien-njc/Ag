{
 "cells": [
  {
   "cell_type": "code",
   "execution_count": 1,
   "id": "3c3aa980",
   "metadata": {},
   "outputs": [],
   "source": [
    "import numpy as np\n",
    "import pandas as pd\n",
    "\n",
    "from sklearn.neighbors import KNeighborsClassifier\n",
    "\n",
    "import matplotlib\n",
    "import matplotlib.pyplot as plt\n",
    "from pylab import imshow\n",
    "\n",
    "import h5py\n",
    "import sys\n",
    "import os, os.path\n",
    "import pickle\n",
    "\n",
    "from sklearn.svm import SVC\n",
    "from sklearn.ensemble import RandomForestClassifier\n",
    "from tslearn.metrics import dtw as dtw_metric\n",
    "# https://dtaidistance.readthedocs.io/en/latest/usage/dtw.html\n",
    "from dtaidistance import dtw\n",
    "from dtaidistance import dtw_visualisation as dtwvis\n",
    "\n",
    "\n",
    "from tensorflow.keras.utils import to_categorical\n",
    "from keras.models import Sequential\n",
    "from keras.applications.vgg16 import VGG16\n",
    "from keras.models import Model\n",
    "from keras.layers import Dense\n",
    "from keras.layers import Flatten\n",
    "import tensorflow as tf\n",
    "from keras.layers import Conv2D\n",
    "from keras.layers import MaxPooling2D\n",
    "\n",
    "\n",
    "sys.path.append('/Users/hn/Documents/00_GitHub/Ag/NASA/Python_codes/')\n",
    "import NASA_core as nc\n",
    "import NASA_plot_core as rcp"
   ]
  },
  {
   "cell_type": "code",
   "execution_count": 2,
   "id": "3d3b8850",
   "metadata": {},
   "outputs": [],
   "source": [
    "def DTW_prune(ts1, ts2):\n",
    "    d,_ = dtw.warping_paths(ts1, ts2, window=10, use_pruning=True);\n",
    "    return d"
   ]
  },
  {
   "cell_type": "markdown",
   "id": "9147528f",
   "metadata": {},
   "source": [
    "### Read Meta"
   ]
  },
  {
   "cell_type": "code",
   "execution_count": 3,
   "id": "5f515b97",
   "metadata": {},
   "outputs": [
    {
     "name": "stdout",
     "output_type": "stream",
     "text": [
      "(6340, 8)\n",
      "(3539, 8)\n"
     ]
    },
    {
     "data": {
      "text/html": [
       "<div>\n",
       "<style scoped>\n",
       "    .dataframe tbody tr th:only-of-type {\n",
       "        vertical-align: middle;\n",
       "    }\n",
       "\n",
       "    .dataframe tbody tr th {\n",
       "        vertical-align: top;\n",
       "    }\n",
       "\n",
       "    .dataframe thead th {\n",
       "        text-align: right;\n",
       "    }\n",
       "</style>\n",
       "<table border=\"1\" class=\"dataframe\">\n",
       "  <thead>\n",
       "    <tr style=\"text-align: right;\">\n",
       "      <th></th>\n",
       "      <th>ID</th>\n",
       "      <th>CropTyp</th>\n",
       "      <th>Irrigtn</th>\n",
       "      <th>DataSrc</th>\n",
       "      <th>Acres</th>\n",
       "      <th>ExctAcr</th>\n",
       "      <th>LstSrvD</th>\n",
       "      <th>county</th>\n",
       "    </tr>\n",
       "  </thead>\n",
       "  <tbody>\n",
       "    <tr>\n",
       "      <th>0</th>\n",
       "      <td>100010_WSDA_SF_2017</td>\n",
       "      <td>alfalfa hay</td>\n",
       "      <td>center pivot</td>\n",
       "      <td>wsda</td>\n",
       "      <td>34</td>\n",
       "      <td>34.310305</td>\n",
       "      <td>2017/09/12</td>\n",
       "      <td>Grant</td>\n",
       "    </tr>\n",
       "    <tr>\n",
       "      <th>1</th>\n",
       "      <td>100204_WSDA_SF_2017</td>\n",
       "      <td>alfalfa hay</td>\n",
       "      <td>center pivot</td>\n",
       "      <td>wsda</td>\n",
       "      <td>62</td>\n",
       "      <td>61.826535</td>\n",
       "      <td>2017/08/09</td>\n",
       "      <td>Grant</td>\n",
       "    </tr>\n",
       "  </tbody>\n",
       "</table>\n",
       "</div>"
      ],
      "text/plain": [
       "                    ID      CropTyp       Irrigtn DataSrc  Acres    ExctAcr  \\\n",
       "0  100010_WSDA_SF_2017  alfalfa hay  center pivot    wsda     34  34.310305   \n",
       "1  100204_WSDA_SF_2017  alfalfa hay  center pivot    wsda     62  61.826535   \n",
       "\n",
       "      LstSrvD county  \n",
       "0  2017/09/12  Grant  \n",
       "1  2017/08/09  Grant  "
      ]
     },
     "execution_count": 3,
     "metadata": {},
     "output_type": "execute_result"
    }
   ],
   "source": [
    "meta_dir = \"/Users/hn/Documents/01_research_data/NASA/parameters/\"\n",
    "meta = pd.read_csv(meta_dir+\"evaluation_set.csv\")\n",
    "meta_moreThan10Acr=meta[meta.ExctAcr>10]\n",
    "print (meta.shape)\n",
    "print (meta_moreThan10Acr.shape)\n",
    "meta.head(2)"
   ]
  },
  {
   "cell_type": "code",
   "execution_count": 4,
   "id": "80889fe8",
   "metadata": {},
   "outputs": [],
   "source": [
    "non_expert_vote_dir = \"/Users/hn/Documents/01_research_data/NASA/ML_data/badData/\"\n",
    "\n",
    "out_name = non_expert_vote_dir + \"nonExpert_votes.csv\"\n",
    "nonExpert_V= pd.read_csv(out_name)\n",
    "\n",
    "out_name = non_expert_vote_dir + \"limitCrops_nonExpert_votes.csv\"\n",
    "limitCrops_nonExpert_V = pd.read_csv(out_name)"
   ]
  },
  {
   "cell_type": "code",
   "execution_count": 5,
   "id": "989a1d6d",
   "metadata": {},
   "outputs": [
    {
     "data": {
      "text/html": [
       "<div>\n",
       "<style scoped>\n",
       "    .dataframe tbody tr th:only-of-type {\n",
       "        vertical-align: middle;\n",
       "    }\n",
       "\n",
       "    .dataframe tbody tr th {\n",
       "        vertical-align: top;\n",
       "    }\n",
       "\n",
       "    .dataframe thead th {\n",
       "        text-align: right;\n",
       "    }\n",
       "</style>\n",
       "<table border=\"1\" class=\"dataframe\">\n",
       "  <thead>\n",
       "    <tr style=\"text-align: right;\">\n",
       "      <th></th>\n",
       "      <th>Form</th>\n",
       "      <th>Question</th>\n",
       "      <th>ID</th>\n",
       "      <th>Hossein</th>\n",
       "      <th>Supriya</th>\n",
       "      <th>Kirti</th>\n",
       "      <th>Mike</th>\n",
       "      <th>Min</th>\n",
       "      <th>Vote</th>\n",
       "      <th>NDVI_TS_Name</th>\n",
       "      <th>CropTyp</th>\n",
       "      <th>Irrigtn</th>\n",
       "      <th>DataSrc</th>\n",
       "      <th>Acres</th>\n",
       "      <th>LstSrvD</th>\n",
       "      <th>county</th>\n",
       "    </tr>\n",
       "  </thead>\n",
       "  <tbody>\n",
       "    <tr>\n",
       "      <th>0</th>\n",
       "      <td>31</td>\n",
       "      <td>3</td>\n",
       "      <td>53189_WSDA_SF_2016</td>\n",
       "      <td>Single Crop</td>\n",
       "      <td>Single Crop</td>\n",
       "      <td>Single Crop</td>\n",
       "      <td>none</td>\n",
       "      <td>none</td>\n",
       "      <td>single</td>\n",
       "      <td>AdamBenton2016_53189_WSDA_SF_2016.png</td>\n",
       "      <td>barley</td>\n",
       "      <td>center pivot</td>\n",
       "      <td>wsda</td>\n",
       "      <td>132</td>\n",
       "      <td>2016/09/20 00:00:00</td>\n",
       "      <td>Adams</td>\n",
       "    </tr>\n",
       "    <tr>\n",
       "      <th>1</th>\n",
       "      <td>31</td>\n",
       "      <td>4</td>\n",
       "      <td>101534_WSDA_SF_2018</td>\n",
       "      <td>Single Crop</td>\n",
       "      <td>Double Crop</td>\n",
       "      <td>Single Crop</td>\n",
       "      <td>none</td>\n",
       "      <td>none</td>\n",
       "      <td>single</td>\n",
       "      <td>FranklinYakima2018_101534_WSDA_SF_2018.png</td>\n",
       "      <td>barley</td>\n",
       "      <td>center pivot</td>\n",
       "      <td>wsda</td>\n",
       "      <td>3</td>\n",
       "      <td>2018/08/14 00:00:00</td>\n",
       "      <td>Franklin</td>\n",
       "    </tr>\n",
       "  </tbody>\n",
       "</table>\n",
       "</div>"
      ],
      "text/plain": [
       "   Form  Question                   ID      Hossein      Supriya        Kirti  \\\n",
       "0    31         3   53189_WSDA_SF_2016  Single Crop  Single Crop  Single Crop   \n",
       "1    31         4  101534_WSDA_SF_2018  Single Crop  Double Crop  Single Crop   \n",
       "\n",
       "   Mike   Min    Vote                                NDVI_TS_Name CropTyp  \\\n",
       "0  none  none  single       AdamBenton2016_53189_WSDA_SF_2016.png  barley   \n",
       "1  none  none  single  FranklinYakima2018_101534_WSDA_SF_2018.png  barley   \n",
       "\n",
       "        Irrigtn DataSrc  Acres              LstSrvD    county  \n",
       "0  center pivot    wsda    132  2016/09/20 00:00:00     Adams  \n",
       "1  center pivot    wsda      3  2018/08/14 00:00:00  Franklin  "
      ]
     },
     "execution_count": 5,
     "metadata": {},
     "output_type": "execute_result"
    }
   ],
   "source": [
    "limitCrops_nonExpert_V.head(2)"
   ]
  },
  {
   "cell_type": "code",
   "execution_count": 6,
   "id": "f68ae937",
   "metadata": {},
   "outputs": [],
   "source": [
    "bad_columns = ['NDVI_TS_Name', 'Acres', 'LstSrvD', 'Form', 'Question']\n",
    "\n",
    "nonExpert_V.drop(bad_columns, axis='columns', inplace=True)\n",
    "limitCrops_nonExpert_V.drop(bad_columns, axis='columns', inplace=True)"
   ]
  },
  {
   "cell_type": "code",
   "execution_count": 7,
   "id": "b7d40252",
   "metadata": {},
   "outputs": [
    {
     "data": {
      "text/html": [
       "<div>\n",
       "<style scoped>\n",
       "    .dataframe tbody tr th:only-of-type {\n",
       "        vertical-align: middle;\n",
       "    }\n",
       "\n",
       "    .dataframe tbody tr th {\n",
       "        vertical-align: top;\n",
       "    }\n",
       "\n",
       "    .dataframe thead th {\n",
       "        text-align: right;\n",
       "    }\n",
       "</style>\n",
       "<table border=\"1\" class=\"dataframe\">\n",
       "  <thead>\n",
       "    <tr style=\"text-align: right;\">\n",
       "      <th></th>\n",
       "      <th>ID</th>\n",
       "      <th>Hossein</th>\n",
       "      <th>Supriya</th>\n",
       "      <th>Kirti</th>\n",
       "      <th>Mike</th>\n",
       "      <th>Min</th>\n",
       "      <th>Vote</th>\n",
       "      <th>CropTyp</th>\n",
       "      <th>Irrigtn</th>\n",
       "      <th>DataSrc</th>\n",
       "      <th>county</th>\n",
       "    </tr>\n",
       "  </thead>\n",
       "  <tbody>\n",
       "    <tr>\n",
       "      <th>0</th>\n",
       "      <td>53189_WSDA_SF_2016</td>\n",
       "      <td>Single Crop</td>\n",
       "      <td>Single Crop</td>\n",
       "      <td>Single Crop</td>\n",
       "      <td>none</td>\n",
       "      <td>none</td>\n",
       "      <td>single</td>\n",
       "      <td>barley</td>\n",
       "      <td>center pivot</td>\n",
       "      <td>wsda</td>\n",
       "      <td>Adams</td>\n",
       "    </tr>\n",
       "    <tr>\n",
       "      <th>1</th>\n",
       "      <td>101534_WSDA_SF_2018</td>\n",
       "      <td>Single Crop</td>\n",
       "      <td>Double Crop</td>\n",
       "      <td>Single Crop</td>\n",
       "      <td>none</td>\n",
       "      <td>none</td>\n",
       "      <td>single</td>\n",
       "      <td>barley</td>\n",
       "      <td>center pivot</td>\n",
       "      <td>wsda</td>\n",
       "      <td>Franklin</td>\n",
       "    </tr>\n",
       "  </tbody>\n",
       "</table>\n",
       "</div>"
      ],
      "text/plain": [
       "                    ID      Hossein      Supriya        Kirti  Mike   Min  \\\n",
       "0   53189_WSDA_SF_2016  Single Crop  Single Crop  Single Crop  none  none   \n",
       "1  101534_WSDA_SF_2018  Single Crop  Double Crop  Single Crop  none  none   \n",
       "\n",
       "     Vote CropTyp       Irrigtn DataSrc    county  \n",
       "0  single  barley  center pivot    wsda     Adams  \n",
       "1  single  barley  center pivot    wsda  Franklin  "
      ]
     },
     "execution_count": 7,
     "metadata": {},
     "output_type": "execute_result"
    }
   ],
   "source": [
    "limitCrops_nonExpert_V.head(2)"
   ]
  },
  {
   "cell_type": "code",
   "execution_count": 8,
   "id": "901a6e81",
   "metadata": {},
   "outputs": [],
   "source": [
    "nonExpert_V=pd.merge(nonExpert_V, \n",
    "                     meta[[\"ID\", \"ExctAcr\"]],\n",
    "                     on=['ID'], how='left')\n",
    "\n",
    "\n",
    "limitCrops_nonExpert_V=pd.merge(limitCrops_nonExpert_V, \n",
    "                                meta[[\"ID\", \"ExctAcr\"]],\n",
    "                                on=['ID'], how='left')"
   ]
  },
  {
   "cell_type": "code",
   "execution_count": 9,
   "id": "6911520b",
   "metadata": {},
   "outputs": [
    {
     "name": "stdout",
     "output_type": "stream",
     "text": [
      "5036\n",
      "2401\n"
     ]
    }
   ],
   "source": [
    "print (len(nonExpert_V.ID.unique()))\n",
    "print (len(nonExpert_V[nonExpert_V.ExctAcr<10].ID.unique()))"
   ]
  },
  {
   "cell_type": "markdown",
   "id": "b5d55e6c",
   "metadata": {},
   "source": [
    "# Toss small fields"
   ]
  },
  {
   "cell_type": "code",
   "execution_count": 10,
   "id": "a1f1bb1b",
   "metadata": {},
   "outputs": [],
   "source": [
    "nonExpert_V=nonExpert_V[nonExpert_V.ExctAcr>10]\n",
    "limitCrops_nonExpert_V=limitCrops_nonExpert_V[limitCrops_nonExpert_V.ExctAcr>10]"
   ]
  },
  {
   "cell_type": "markdown",
   "id": "7c63fede",
   "metadata": {},
   "source": [
    "### Drop unknown field"
   ]
  },
  {
   "cell_type": "code",
   "execution_count": 16,
   "id": "e0d34427",
   "metadata": {},
   "outputs": [],
   "source": [
    "nonExpert_V=nonExpert_V[nonExpert_V.CropTyp!=\"unknown\"].copy()\n",
    "limitCrops_nonExpert_V=limitCrops_nonExpert_V[limitCrops_nonExpert_V.CropTyp!=\"unknown\"].copy()"
   ]
  },
  {
   "cell_type": "markdown",
   "id": "bbc7ca44",
   "metadata": {},
   "source": [
    "# Write the non-expert set to the disk"
   ]
  },
  {
   "cell_type": "code",
   "execution_count": 58,
   "id": "6f2b7bf4",
   "metadata": {},
   "outputs": [],
   "source": [
    "out_name = meta_dir + \"nonExpert_2605_votes.csv\"\n",
    "nonExpert_V.to_csv(out_name, index = False)"
   ]
  },
  {
   "cell_type": "markdown",
   "id": "96bdd7ea",
   "metadata": {},
   "source": [
    "# Read SG files"
   ]
  },
  {
   "cell_type": "code",
   "execution_count": 17,
   "id": "e02e2f1e",
   "metadata": {},
   "outputs": [],
   "source": [
    "VI_idx = \"EVI\"\n",
    "data_dir = \"/Users/hn/Documents/01_research_data/NASA/VI_TS/05_SG_TS/\""
   ]
  },
  {
   "cell_type": "code",
   "execution_count": 18,
   "id": "72c072aa",
   "metadata": {},
   "outputs": [
    {
     "data": {
      "text/html": [
       "<div>\n",
       "<style scoped>\n",
       "    .dataframe tbody tr th:only-of-type {\n",
       "        vertical-align: middle;\n",
       "    }\n",
       "\n",
       "    .dataframe tbody tr th {\n",
       "        vertical-align: top;\n",
       "    }\n",
       "\n",
       "    .dataframe thead th {\n",
       "        text-align: right;\n",
       "    }\n",
       "</style>\n",
       "<table border=\"1\" class=\"dataframe\">\n",
       "  <thead>\n",
       "    <tr style=\"text-align: right;\">\n",
       "      <th></th>\n",
       "      <th>ID</th>\n",
       "      <th>human_system_start_time</th>\n",
       "      <th>EVI</th>\n",
       "    </tr>\n",
       "  </thead>\n",
       "  <tbody>\n",
       "    <tr>\n",
       "      <th>0</th>\n",
       "      <td>144551_WSDA_SF_2015</td>\n",
       "      <td>2015-01-10</td>\n",
       "      <td>0.051819</td>\n",
       "    </tr>\n",
       "    <tr>\n",
       "      <th>1</th>\n",
       "      <td>144551_WSDA_SF_2015</td>\n",
       "      <td>2015-01-20</td>\n",
       "      <td>0.054279</td>\n",
       "    </tr>\n",
       "  </tbody>\n",
       "</table>\n",
       "</div>"
      ],
      "text/plain": [
       "                    ID human_system_start_time       EVI\n",
       "0  144551_WSDA_SF_2015              2015-01-10  0.051819\n",
       "1  144551_WSDA_SF_2015              2015-01-20  0.054279"
      ]
     },
     "execution_count": 18,
     "metadata": {},
     "output_type": "execute_result"
    }
   ],
   "source": [
    "file_names = [\"SG_Walla2015_\" + VI_idx + \"_JFD.csv\", \"SG_AdamBenton2016_\" + VI_idx + \"_JFD.csv\", \n",
    "              \"SG_Grant2017_\" + VI_idx + \"_JFD.csv\", \"SG_FranklinYakima2018_\"+ VI_idx +\"_JFD.csv\"]\n",
    "\n",
    "data=pd.DataFrame()\n",
    "\n",
    "for file in file_names:\n",
    "    curr_file=pd.read_csv(data_dir + file)\n",
    "    curr_file['human_system_start_time'] = pd.to_datetime(curr_file['human_system_start_time'])\n",
    "    \n",
    "    # These data are for 3 years. The middle one is the correct one\n",
    "    all_years = sorted(curr_file.human_system_start_time.dt.year.unique())\n",
    "    if len(all_years)==3 or len(all_years)==2:\n",
    "        proper_year = all_years[1]\n",
    "    elif len(all_years)==1:\n",
    "        proper_year = all_years[0]\n",
    "\n",
    "    curr_file = curr_file[curr_file.human_system_start_time.dt.year==proper_year]\n",
    "    data=pd.concat([data, curr_file])\n",
    "\n",
    "data.reset_index(drop=True, inplace=True)\n",
    "data=data[data.ID.isin(list(nonExpert_V.ID.unique()))]\n",
    "data.reset_index(drop=True, inplace=True)\n",
    "\n",
    "data.head(2)"
   ]
  },
  {
   "cell_type": "markdown",
   "id": "a3e97cb9",
   "metadata": {},
   "source": [
    "# Sort the order of time-series and labels identically"
   ]
  },
  {
   "cell_type": "code",
   "execution_count": 19,
   "id": "0a333407",
   "metadata": {},
   "outputs": [],
   "source": [
    "data.sort_values(by=[\"ID\", 'human_system_start_time'], inplace=True)\n",
    "nonExpert_V.sort_values(by=[\"ID\"], inplace=True)\n",
    "\n",
    "data.reset_index(drop=True, inplace=True)\n",
    "nonExpert_V.reset_index(drop=True, inplace=True)\n",
    "\n",
    "assert (len(data.ID.unique()) == len(nonExpert_V.ID.unique()))\n"
   ]
  },
  {
   "cell_type": "markdown",
   "id": "86f5bb07",
   "metadata": {},
   "source": [
    "# Widen"
   ]
  },
  {
   "cell_type": "code",
   "execution_count": 20,
   "id": "8698a8f0",
   "metadata": {},
   "outputs": [],
   "source": [
    "EVI_colnames = [VI_idx + \"_\" + str(ii) for ii in range(1, 37) ]\n",
    "columnNames = [\"ID\"] + EVI_colnames\n",
    "data_wide = pd.DataFrame(columns=columnNames, \n",
    "                                index=range(len(data.ID.unique())))\n",
    "data_wide[\"ID\"] = data.ID.unique()\n",
    "\n",
    "for an_ID in data.ID.unique():\n",
    "    curr_df = data[data.ID==an_ID]\n",
    "    \n",
    "    data_wide_indx = data_wide[data_wide.ID==an_ID].index\n",
    "    data_wide.loc[data_wide_indx, \"EVI_1\":\"EVI_36\"] = curr_df.EVI.values[:36]"
   ]
  },
  {
   "cell_type": "code",
   "execution_count": 21,
   "id": "bc5b074f",
   "metadata": {},
   "outputs": [
    {
     "data": {
      "text/html": [
       "<div>\n",
       "<style scoped>\n",
       "    .dataframe tbody tr th:only-of-type {\n",
       "        vertical-align: middle;\n",
       "    }\n",
       "\n",
       "    .dataframe tbody tr th {\n",
       "        vertical-align: top;\n",
       "    }\n",
       "\n",
       "    .dataframe thead th {\n",
       "        text-align: right;\n",
       "    }\n",
       "</style>\n",
       "<table border=\"1\" class=\"dataframe\">\n",
       "  <thead>\n",
       "    <tr style=\"text-align: right;\">\n",
       "      <th></th>\n",
       "      <th>ID</th>\n",
       "      <th>EVI_1</th>\n",
       "      <th>EVI_2</th>\n",
       "      <th>EVI_3</th>\n",
       "      <th>EVI_4</th>\n",
       "      <th>EVI_5</th>\n",
       "      <th>EVI_6</th>\n",
       "      <th>EVI_7</th>\n",
       "      <th>EVI_8</th>\n",
       "      <th>EVI_9</th>\n",
       "      <th>...</th>\n",
       "      <th>EVI_27</th>\n",
       "      <th>EVI_28</th>\n",
       "      <th>EVI_29</th>\n",
       "      <th>EVI_30</th>\n",
       "      <th>EVI_31</th>\n",
       "      <th>EVI_32</th>\n",
       "      <th>EVI_33</th>\n",
       "      <th>EVI_34</th>\n",
       "      <th>EVI_35</th>\n",
       "      <th>EVI_36</th>\n",
       "    </tr>\n",
       "  </thead>\n",
       "  <tbody>\n",
       "    <tr>\n",
       "      <th>0</th>\n",
       "      <td>100041_WSDA_SF_2017</td>\n",
       "      <td>0.190623</td>\n",
       "      <td>0.136657</td>\n",
       "      <td>0.128576</td>\n",
       "      <td>0.187575</td>\n",
       "      <td>0.194632</td>\n",
       "      <td>0.211836</td>\n",
       "      <td>0.251309</td>\n",
       "      <td>0.293089</td>\n",
       "      <td>0.333297</td>\n",
       "      <td>...</td>\n",
       "      <td>0.327493</td>\n",
       "      <td>0.342592</td>\n",
       "      <td>0.333237</td>\n",
       "      <td>0.271697</td>\n",
       "      <td>0.173352</td>\n",
       "      <td>0.108954</td>\n",
       "      <td>0.096683</td>\n",
       "      <td>0.141439</td>\n",
       "      <td>0.187477</td>\n",
       "      <td>0.199279</td>\n",
       "    </tr>\n",
       "    <tr>\n",
       "      <th>1</th>\n",
       "      <td>100048_WSDA_SF_2017</td>\n",
       "      <td>0.0</td>\n",
       "      <td>0.0</td>\n",
       "      <td>0.0</td>\n",
       "      <td>0.0</td>\n",
       "      <td>-0.006879</td>\n",
       "      <td>0.00189</td>\n",
       "      <td>0.022394</td>\n",
       "      <td>0.058236</td>\n",
       "      <td>0.084847</td>\n",
       "      <td>...</td>\n",
       "      <td>0.117901</td>\n",
       "      <td>0.118943</td>\n",
       "      <td>0.10218</td>\n",
       "      <td>0.083567</td>\n",
       "      <td>0.060726</td>\n",
       "      <td>0.043216</td>\n",
       "      <td>0.044677</td>\n",
       "      <td>0.043529</td>\n",
       "      <td>0.044976</td>\n",
       "      <td>0.047556</td>\n",
       "    </tr>\n",
       "  </tbody>\n",
       "</table>\n",
       "<p>2 rows × 37 columns</p>\n",
       "</div>"
      ],
      "text/plain": [
       "                    ID     EVI_1     EVI_2     EVI_3     EVI_4     EVI_5  \\\n",
       "0  100041_WSDA_SF_2017  0.190623  0.136657  0.128576  0.187575  0.194632   \n",
       "1  100048_WSDA_SF_2017       0.0       0.0       0.0       0.0 -0.006879   \n",
       "\n",
       "      EVI_6     EVI_7     EVI_8     EVI_9  ...    EVI_27    EVI_28    EVI_29  \\\n",
       "0  0.211836  0.251309  0.293089  0.333297  ...  0.327493  0.342592  0.333237   \n",
       "1   0.00189  0.022394  0.058236  0.084847  ...  0.117901  0.118943   0.10218   \n",
       "\n",
       "     EVI_30    EVI_31    EVI_32    EVI_33    EVI_34    EVI_35    EVI_36  \n",
       "0  0.271697  0.173352  0.108954  0.096683  0.141439  0.187477  0.199279  \n",
       "1  0.083567  0.060726  0.043216  0.044677  0.043529  0.044976  0.047556  \n",
       "\n",
       "[2 rows x 37 columns]"
      ]
     },
     "execution_count": 21,
     "metadata": {},
     "output_type": "execute_result"
    }
   ],
   "source": [
    "data_wide.head(2)"
   ]
  },
  {
   "cell_type": "code",
   "execution_count": 22,
   "id": "72a1fdc0",
   "metadata": {},
   "outputs": [
    {
     "data": {
      "text/html": [
       "<div>\n",
       "<style scoped>\n",
       "    .dataframe tbody tr th:only-of-type {\n",
       "        vertical-align: middle;\n",
       "    }\n",
       "\n",
       "    .dataframe tbody tr th {\n",
       "        vertical-align: top;\n",
       "    }\n",
       "\n",
       "    .dataframe thead th {\n",
       "        text-align: right;\n",
       "    }\n",
       "</style>\n",
       "<table border=\"1\" class=\"dataframe\">\n",
       "  <thead>\n",
       "    <tr style=\"text-align: right;\">\n",
       "      <th></th>\n",
       "      <th>ID</th>\n",
       "      <th>Hossein</th>\n",
       "      <th>Supriya</th>\n",
       "      <th>Kirti</th>\n",
       "      <th>Mike</th>\n",
       "      <th>Min</th>\n",
       "      <th>Vote</th>\n",
       "      <th>CropTyp</th>\n",
       "      <th>Irrigtn</th>\n",
       "      <th>DataSrc</th>\n",
       "      <th>county</th>\n",
       "      <th>ExctAcr</th>\n",
       "    </tr>\n",
       "  </thead>\n",
       "  <tbody>\n",
       "    <tr>\n",
       "      <th>0</th>\n",
       "      <td>100041_WSDA_SF_2017</td>\n",
       "      <td>Single Crop</td>\n",
       "      <td>Single Crop</td>\n",
       "      <td>Single Crop</td>\n",
       "      <td>Single Crop</td>\n",
       "      <td>Unsure</td>\n",
       "      <td>single</td>\n",
       "      <td>grape, wine</td>\n",
       "      <td>drip</td>\n",
       "      <td>wsda</td>\n",
       "      <td>Grant</td>\n",
       "      <td>23.441439</td>\n",
       "    </tr>\n",
       "    <tr>\n",
       "      <th>1</th>\n",
       "      <td>100048_WSDA_SF_2017</td>\n",
       "      <td>Single Crop</td>\n",
       "      <td>Single Crop</td>\n",
       "      <td>Single Crop</td>\n",
       "      <td>Unsure</td>\n",
       "      <td>none</td>\n",
       "      <td>single</td>\n",
       "      <td>bean, green</td>\n",
       "      <td>rill</td>\n",
       "      <td>wsda</td>\n",
       "      <td>Grant</td>\n",
       "      <td>18.033240</td>\n",
       "    </tr>\n",
       "  </tbody>\n",
       "</table>\n",
       "</div>"
      ],
      "text/plain": [
       "                    ID      Hossein      Supriya        Kirti         Mike  \\\n",
       "0  100041_WSDA_SF_2017  Single Crop  Single Crop  Single Crop  Single Crop   \n",
       "1  100048_WSDA_SF_2017  Single Crop  Single Crop  Single Crop       Unsure   \n",
       "\n",
       "      Min    Vote      CropTyp Irrigtn DataSrc county    ExctAcr  \n",
       "0  Unsure  single  grape, wine    drip    wsda  Grant  23.441439  \n",
       "1    none  single  bean, green    rill    wsda  Grant  18.033240  "
      ]
     },
     "execution_count": 22,
     "metadata": {},
     "output_type": "execute_result"
    }
   ],
   "source": [
    "nonExpert_V.head(2)"
   ]
  },
  {
   "cell_type": "code",
   "execution_count": 23,
   "id": "96c143cf",
   "metadata": {},
   "outputs": [],
   "source": [
    "nonExpert_V_clean=nonExpert_V[[\"ID\", \"Vote\", \"CropTyp\", \"Irrigtn\", \"county\", \"ExctAcr\"]].copy()\n",
    "nonExpert_V_clean.replace(\"double\", 2, inplace=True)\n",
    "nonExpert_V_clean.replace(\"single\", 1, inplace=True)"
   ]
  },
  {
   "cell_type": "code",
   "execution_count": 24,
   "id": "eba8c143",
   "metadata": {},
   "outputs": [
    {
     "name": "stdout",
     "output_type": "stream",
     "text": [
      "['alfalfa hay', 'apple', 'apricot', 'asparagus', 'barley', 'barley hay', 'bean, dry', 'bean, green', 'blueberry', 'bluegrass seed', 'buckwheat', 'canola', 'carrot', 'carrot seed', 'cherry', 'corn seed', 'corn, field', 'corn, sweet', 'fallow', 'fallow, idle', 'fallow, tilled', 'fescue seed', 'grape, juice', 'grape, wine', 'grass hay', 'grass seed', 'hops', 'market crops', 'medicinal herb', 'mint', 'mustard', 'nectarine/peach', 'oat hay', 'onion', 'onion seed', 'orchard, unknown', 'pasture', 'pea seed', 'pea, dry', 'pea, green', 'pear', 'pepper', 'plum', 'poplar', 'potato', 'pumpkin', 'ryegrass seed', 'sod farm', 'squash', 'sudangrass', 'sugar beet', 'sugar beet seed', 'sunflower', 'sunflower seed', 'timothy', 'triticale', 'triticale hay', 'watermelon', 'wheat', 'wheat fallow', 'wildlife feed', 'yellow mustard']\n"
     ]
    }
   ],
   "source": [
    "print (sorted(nonExpert_V_clean.CropTyp.unique()))"
   ]
  },
  {
   "cell_type": "code",
   "execution_count": 25,
   "id": "c1f128c0",
   "metadata": {},
   "outputs": [
    {
     "data": {
      "text/plain": [
       "2605"
      ]
     },
     "execution_count": 25,
     "metadata": {},
     "output_type": "execute_result"
    }
   ],
   "source": [
    "len(nonExpert_V_clean.ID.unique())"
   ]
  },
  {
   "cell_type": "markdown",
   "id": "d822bdea",
   "metadata": {},
   "source": [
    "# SVM"
   ]
  },
  {
   "cell_type": "code",
   "execution_count": 26,
   "id": "7ab3b1f2",
   "metadata": {},
   "outputs": [],
   "source": [
    "model_dir = \"/Users/hn/Documents/01_research_data/NASA/ML_Models/\"\n",
    "filename = model_dir + 'SVM_classifier_balanced_SGEVI_00.sav'\n",
    "SVM_classifier_balanced_00 = pickle.load(open(filename, 'rb'))"
   ]
  },
  {
   "cell_type": "code",
   "execution_count": 27,
   "id": "24a16827",
   "metadata": {},
   "outputs": [],
   "source": [
    "SVM_classifier_balanced_00_predictions = SVM_classifier_balanced_00.predict(data_wide.iloc[:, 1:])"
   ]
  },
  {
   "cell_type": "code",
   "execution_count": 37,
   "id": "2a34030a",
   "metadata": {},
   "outputs": [],
   "source": [
    "#### add SVM result to vote table\n",
    "nonExpert_V_clean[\"SVM_balanced_pred\"]=SVM_classifier_balanced_00_predictions"
   ]
  },
  {
   "cell_type": "code",
   "execution_count": 38,
   "id": "646607a3",
   "metadata": {},
   "outputs": [
    {
     "data": {
      "text/html": [
       "<div>\n",
       "<style scoped>\n",
       "    .dataframe tbody tr th:only-of-type {\n",
       "        vertical-align: middle;\n",
       "    }\n",
       "\n",
       "    .dataframe tbody tr th {\n",
       "        vertical-align: top;\n",
       "    }\n",
       "\n",
       "    .dataframe thead th {\n",
       "        text-align: right;\n",
       "    }\n",
       "</style>\n",
       "<table border=\"1\" class=\"dataframe\">\n",
       "  <thead>\n",
       "    <tr style=\"text-align: right;\">\n",
       "      <th></th>\n",
       "      <th>ID</th>\n",
       "      <th>Vote</th>\n",
       "      <th>CropTyp</th>\n",
       "      <th>Irrigtn</th>\n",
       "      <th>county</th>\n",
       "      <th>ExctAcr</th>\n",
       "      <th>SVM_balanced_pred</th>\n",
       "    </tr>\n",
       "  </thead>\n",
       "  <tbody>\n",
       "    <tr>\n",
       "      <th>0</th>\n",
       "      <td>100041_WSDA_SF_2017</td>\n",
       "      <td>1</td>\n",
       "      <td>grape, wine</td>\n",
       "      <td>drip</td>\n",
       "      <td>Grant</td>\n",
       "      <td>23.441439</td>\n",
       "      <td>1</td>\n",
       "    </tr>\n",
       "    <tr>\n",
       "      <th>1</th>\n",
       "      <td>100048_WSDA_SF_2017</td>\n",
       "      <td>1</td>\n",
       "      <td>bean, green</td>\n",
       "      <td>rill</td>\n",
       "      <td>Grant</td>\n",
       "      <td>18.033240</td>\n",
       "      <td>1</td>\n",
       "    </tr>\n",
       "  </tbody>\n",
       "</table>\n",
       "</div>"
      ],
      "text/plain": [
       "                    ID  Vote      CropTyp Irrigtn county    ExctAcr  \\\n",
       "0  100041_WSDA_SF_2017     1  grape, wine    drip  Grant  23.441439   \n",
       "1  100048_WSDA_SF_2017     1  bean, green    rill  Grant  18.033240   \n",
       "\n",
       "   SVM_balanced_pred  \n",
       "0                  1  \n",
       "1                  1  "
      ]
     },
     "execution_count": 38,
     "metadata": {},
     "output_type": "execute_result"
    }
   ],
   "source": [
    "nonExpert_V_clean.head(2)"
   ]
  },
  {
   "cell_type": "markdown",
   "id": "a8c96270",
   "metadata": {},
   "source": [
    "# kNN\n",
    "Winner is **uniform** weight."
   ]
  },
  {
   "cell_type": "code",
   "execution_count": 30,
   "id": "fe1e724f",
   "metadata": {},
   "outputs": [],
   "source": [
    "def DTW_prune(ts1, ts2):\n",
    "    d,_ = dtw.warping_paths(ts1, ts2, window=10, use_pruning=True);\n",
    "    return d"
   ]
  },
  {
   "cell_type": "code",
   "execution_count": 31,
   "id": "79cd5248",
   "metadata": {},
   "outputs": [],
   "source": [
    "filename = model_dir + \"00_KNN_SG_EVI_DTW_prune_uniformWeight_9NNisBest.sav\"\n",
    "uniform_KNN = pickle.load(open(filename, 'rb'))"
   ]
  },
  {
   "cell_type": "code",
   "execution_count": 32,
   "id": "70318e0f",
   "metadata": {},
   "outputs": [
    {
     "name": "stdout",
     "output_type": "stream",
     "text": [
      "CPU times: user 55min 17s, sys: 14.8 s, total: 55min 32s\n",
      "Wall time: 56min 4s\n"
     ]
    }
   ],
   "source": [
    "%%time\n",
    "KNN_DTW_test_predictions_uniform = uniform_KNN.predict(data_wide.iloc[:, 1:])"
   ]
  },
  {
   "cell_type": "code",
   "execution_count": 51,
   "id": "85647207",
   "metadata": {},
   "outputs": [
    {
     "data": {
      "text/html": [
       "<div>\n",
       "<style scoped>\n",
       "    .dataframe tbody tr th:only-of-type {\n",
       "        vertical-align: middle;\n",
       "    }\n",
       "\n",
       "    .dataframe tbody tr th {\n",
       "        vertical-align: top;\n",
       "    }\n",
       "\n",
       "    .dataframe thead th {\n",
       "        text-align: right;\n",
       "    }\n",
       "</style>\n",
       "<table border=\"1\" class=\"dataframe\">\n",
       "  <thead>\n",
       "    <tr style=\"text-align: right;\">\n",
       "      <th></th>\n",
       "      <th>ID</th>\n",
       "      <th>Vote</th>\n",
       "      <th>CropTyp</th>\n",
       "      <th>Irrigtn</th>\n",
       "      <th>county</th>\n",
       "      <th>ExctAcr</th>\n",
       "      <th>SVM_balanced_pred</th>\n",
       "      <th>knn_uniform_pred</th>\n",
       "    </tr>\n",
       "  </thead>\n",
       "  <tbody>\n",
       "    <tr>\n",
       "      <th>0</th>\n",
       "      <td>100041_WSDA_SF_2017</td>\n",
       "      <td>1</td>\n",
       "      <td>grape, wine</td>\n",
       "      <td>drip</td>\n",
       "      <td>Grant</td>\n",
       "      <td>23.441439</td>\n",
       "      <td>1</td>\n",
       "      <td>1</td>\n",
       "    </tr>\n",
       "    <tr>\n",
       "      <th>1</th>\n",
       "      <td>100048_WSDA_SF_2017</td>\n",
       "      <td>1</td>\n",
       "      <td>bean, green</td>\n",
       "      <td>rill</td>\n",
       "      <td>Grant</td>\n",
       "      <td>18.033240</td>\n",
       "      <td>1</td>\n",
       "      <td>1</td>\n",
       "    </tr>\n",
       "  </tbody>\n",
       "</table>\n",
       "</div>"
      ],
      "text/plain": [
       "                    ID  Vote      CropTyp Irrigtn county    ExctAcr  \\\n",
       "0  100041_WSDA_SF_2017     1  grape, wine    drip  Grant  23.441439   \n",
       "1  100048_WSDA_SF_2017     1  bean, green    rill  Grant  18.033240   \n",
       "\n",
       "   SVM_balanced_pred  knn_uniform_pred  \n",
       "0                  1                 1  \n",
       "1                  1                 1  "
      ]
     },
     "execution_count": 51,
     "metadata": {},
     "output_type": "execute_result"
    }
   ],
   "source": [
    "nonExpert_V_clean[\"knn_uniform_pred\"]=KNN_DTW_test_predictions_uniform\n",
    "nonExpert_V_clean.head(2)"
   ]
  },
  {
   "cell_type": "code",
   "execution_count": 53,
   "id": "39b754a4",
   "metadata": {},
   "outputs": [
    {
     "data": {
      "text/plain": [
       "2522"
      ]
     },
     "execution_count": 53,
     "metadata": {},
     "output_type": "execute_result"
    }
   ],
   "source": [
    "sum(nonExpert_V_clean.SVM_balanced_pred==nonExpert_V_clean.knn_uniform_pred)"
   ]
  },
  {
   "cell_type": "markdown",
   "id": "83a29566",
   "metadata": {},
   "source": [
    "# RF"
   ]
  },
  {
   "cell_type": "code",
   "execution_count": 43,
   "id": "ea42e1fd",
   "metadata": {},
   "outputs": [
    {
     "name": "stdout",
     "output_type": "stream",
     "text": [
      "CPU times: user 52.9 ms, sys: 30.4 ms, total: 83.3 ms\n",
      "Wall time: 102 ms\n"
     ]
    }
   ],
   "source": [
    "%%time\n",
    "filename = model_dir + 'SG_forest_grid_1.sav'\n",
    "forest_grid_1_SG = pickle.load(open(filename, 'rb'))\n",
    "RF_grid_1_predictions = forest_grid_1_SG.predict(data_wide.iloc[:, 1:])"
   ]
  },
  {
   "cell_type": "code",
   "execution_count": 55,
   "id": "b8d05b84",
   "metadata": {},
   "outputs": [
    {
     "data": {
      "text/html": [
       "<div>\n",
       "<style scoped>\n",
       "    .dataframe tbody tr th:only-of-type {\n",
       "        vertical-align: middle;\n",
       "    }\n",
       "\n",
       "    .dataframe tbody tr th {\n",
       "        vertical-align: top;\n",
       "    }\n",
       "\n",
       "    .dataframe thead th {\n",
       "        text-align: right;\n",
       "    }\n",
       "</style>\n",
       "<table border=\"1\" class=\"dataframe\">\n",
       "  <thead>\n",
       "    <tr style=\"text-align: right;\">\n",
       "      <th></th>\n",
       "      <th>ID</th>\n",
       "      <th>Vote</th>\n",
       "      <th>CropTyp</th>\n",
       "      <th>Irrigtn</th>\n",
       "      <th>county</th>\n",
       "      <th>ExctAcr</th>\n",
       "      <th>SVM_balanced_pred</th>\n",
       "      <th>knn_uniform_pred</th>\n",
       "      <th>RF_G1_pred</th>\n",
       "    </tr>\n",
       "  </thead>\n",
       "  <tbody>\n",
       "    <tr>\n",
       "      <th>0</th>\n",
       "      <td>100041_WSDA_SF_2017</td>\n",
       "      <td>1</td>\n",
       "      <td>grape, wine</td>\n",
       "      <td>drip</td>\n",
       "      <td>Grant</td>\n",
       "      <td>23.441439</td>\n",
       "      <td>1</td>\n",
       "      <td>1</td>\n",
       "      <td>1</td>\n",
       "    </tr>\n",
       "    <tr>\n",
       "      <th>1</th>\n",
       "      <td>100048_WSDA_SF_2017</td>\n",
       "      <td>1</td>\n",
       "      <td>bean, green</td>\n",
       "      <td>rill</td>\n",
       "      <td>Grant</td>\n",
       "      <td>18.033240</td>\n",
       "      <td>1</td>\n",
       "      <td>1</td>\n",
       "      <td>1</td>\n",
       "    </tr>\n",
       "  </tbody>\n",
       "</table>\n",
       "</div>"
      ],
      "text/plain": [
       "                    ID  Vote      CropTyp Irrigtn county    ExctAcr  \\\n",
       "0  100041_WSDA_SF_2017     1  grape, wine    drip  Grant  23.441439   \n",
       "1  100048_WSDA_SF_2017     1  bean, green    rill  Grant  18.033240   \n",
       "\n",
       "   SVM_balanced_pred  knn_uniform_pred  RF_G1_pred  \n",
       "0                  1                 1           1  \n",
       "1                  1                 1           1  "
      ]
     },
     "execution_count": 55,
     "metadata": {},
     "output_type": "execute_result"
    }
   ],
   "source": [
    "nonExpert_V_clean[\"RF_G1_pred\"]=RF_grid_1_predictions\n",
    "nonExpert_V_clean.head(2)"
   ]
  },
  {
   "cell_type": "code",
   "execution_count": 56,
   "id": "83e82767",
   "metadata": {},
   "outputs": [
    {
     "data": {
      "text/plain": [
       "2544"
      ]
     },
     "execution_count": 56,
     "metadata": {},
     "output_type": "execute_result"
    }
   ],
   "source": [
    "sum(nonExpert_V_clean.SVM_balanced_pred==nonExpert_V_clean.RF_G1_pred)"
   ]
  },
  {
   "cell_type": "markdown",
   "id": "3e804c7e",
   "metadata": {},
   "source": [
    "# DL\n",
    "\n",
    "We are going with **prob_point7**."
   ]
  },
  {
   "cell_type": "code",
   "execution_count": 87,
   "id": "48e88f4b",
   "metadata": {},
   "outputs": [],
   "source": [
    "from keras.models import load_model\n",
    "from tensorflow.keras.utils import load_img\n",
    "from tensorflow.keras.utils import img_to_array\n",
    "\n",
    "def load_image(filename):\n",
    "    # load the image\n",
    "    img = load_img(filename, target_size=(224, 224))\n",
    "    # convert to array\n",
    "    img = img_to_array(img)\n",
    "    # reshape into a single sample with 3 channels\n",
    "    img = img.reshape(1, 224, 224, 3)\n",
    "    # center pixel data\n",
    "    img = img.astype('float32')\n",
    "    img = img - [123.68, 116.779, 103.939]\n",
    "    return img"
   ]
  },
  {
   "cell_type": "code",
   "execution_count": 80,
   "id": "cea90be7",
   "metadata": {},
   "outputs": [],
   "source": [
    "model_dir = \"/Users/hn/Documents/01_research_data/NASA/ML_Models/\"\n",
    "DL_model = load_model(model_dir+'01_TL_SingleDoubleEVI_SG_train80.h5')"
   ]
  },
  {
   "cell_type": "code",
   "execution_count": null,
   "id": "08cb3ac9",
   "metadata": {},
   "outputs": [],
   "source": []
  },
  {
   "cell_type": "code",
   "execution_count": null,
   "id": "2084b36a",
   "metadata": {},
   "outputs": [],
   "source": [
    "### We did this once. We can read from now on. \n",
    "\n",
    "# SG_nonExpert_V_EVI_plot_dir = \"/Users/hn/Documents/01_research_data/NASA/ML_data/SG_nonExpert_V_EVI/\"\n",
    "\n",
    "# nonExpert_df_filenames = os.listdir(SG_nonExpert_V_EVI_plot_dir)\n",
    "# nonExpert_df = pd.DataFrame({'filename': nonExpert_df_filenames})\n",
    "# nb_samples = nonExpert_df.shape[0]\n",
    "\n",
    "# nonExpert_df[\"human_predict\"] = nonExpert_df.filename.str.split(\"_\", expand=True)[0]\n",
    "# nonExpert_df[\"prob_single\"]=-1.0\n",
    "# print (nonExpert_df.shape)\n",
    "# nonExpert_df.head(2)\n",
    "\n",
    "\n",
    "# for idx in nonExpert_df.index:\n",
    "#     img = load_image(SG_nonExpert_V_EVI_plot_dir + nonExpert_df.loc[idx, 'filename']);\n",
    "#     nonExpert_df.loc[idx, 'prob_single'] = DL_model.predict(img, verbose=False)[0][0];\n",
    "\n",
    "# for prob in [0.3, 0.4, 0.5, 0.6, 0.7]:\n",
    "#     colName = \"prob_point\"+str(prob)[2:]\n",
    "#     nonExpert_df.loc[nonExpert_df.prob_single<prob, colName] = 'double'\n",
    "#     nonExpert_df.loc[nonExpert_df.prob_single>=prob, colName] = 'single'\n",
    "\n",
    "# nonExpert_df.rename(columns={\"filename\": \"ID\"}, inplace=True)\n",
    "# nonExpert_df.rename(columns={\"human_predict\": \"Vote\"}, inplace=True) \n",
    "# ID = [x[0] for x in nonExpert_df.ID.str.split(\".\")]\n",
    "# nonExpert_df.ID=ID\n",
    "\n",
    "# ID = [\"_\".join(x[1:]) for x in nonExpert_df.ID.str.split(\"_\")]\n",
    "# nonExpert_df.ID=ID\n",
    "\n",
    "# nonExpert_df.replace(\"double\", 2, inplace=True)\n",
    "# nonExpert_df.replace(\"single\", 1, inplace=True)\n",
    "\n",
    "# nonExpert_df.head(2)\n",
    "\n",
    "# out_dir = \"/Users/hn/Documents/01_research_data/NASA/ML_data/SG_nonExpert_2605_V_EVI_result/\"\n",
    "# os.makedirs(out_dir, exist_ok=True)\n",
    "# out_name = out_dir + \"01_TL_nonExpert_2605_predictions_\" + VI_idx + \"_SG.csv\"\n",
    "# nonExpert_df.to_csv(out_name, index = False)"
   ]
  },
  {
   "cell_type": "code",
   "execution_count": 111,
   "id": "91babadb",
   "metadata": {},
   "outputs": [
    {
     "data": {
      "text/html": [
       "<div>\n",
       "<style scoped>\n",
       "    .dataframe tbody tr th:only-of-type {\n",
       "        vertical-align: middle;\n",
       "    }\n",
       "\n",
       "    .dataframe tbody tr th {\n",
       "        vertical-align: top;\n",
       "    }\n",
       "\n",
       "    .dataframe thead th {\n",
       "        text-align: right;\n",
       "    }\n",
       "</style>\n",
       "<table border=\"1\" class=\"dataframe\">\n",
       "  <thead>\n",
       "    <tr style=\"text-align: right;\">\n",
       "      <th></th>\n",
       "      <th>ID</th>\n",
       "      <th>Vote</th>\n",
       "      <th>prob_single</th>\n",
       "      <th>prob_point3</th>\n",
       "      <th>prob_point4</th>\n",
       "      <th>prob_point5</th>\n",
       "      <th>prob_point6</th>\n",
       "      <th>prob_point7</th>\n",
       "    </tr>\n",
       "  </thead>\n",
       "  <tbody>\n",
       "    <tr>\n",
       "      <th>0</th>\n",
       "      <td>108316_WSDA_SF_2017</td>\n",
       "      <td>2</td>\n",
       "      <td>0.999967</td>\n",
       "      <td>1</td>\n",
       "      <td>1</td>\n",
       "      <td>1</td>\n",
       "      <td>1</td>\n",
       "      <td>1</td>\n",
       "    </tr>\n",
       "    <tr>\n",
       "      <th>1</th>\n",
       "      <td>59032_WSDA_SF_2016</td>\n",
       "      <td>2</td>\n",
       "      <td>1.000000</td>\n",
       "      <td>1</td>\n",
       "      <td>1</td>\n",
       "      <td>1</td>\n",
       "      <td>1</td>\n",
       "      <td>1</td>\n",
       "    </tr>\n",
       "  </tbody>\n",
       "</table>\n",
       "</div>"
      ],
      "text/plain": [
       "                    ID  Vote  prob_single  prob_point3  prob_point4  \\\n",
       "0  108316_WSDA_SF_2017     2     0.999967            1            1   \n",
       "1   59032_WSDA_SF_2016     2     1.000000            1            1   \n",
       "\n",
       "   prob_point5  prob_point6  prob_point7  \n",
       "0            1            1            1  \n",
       "1            1            1            1  "
      ]
     },
     "execution_count": 111,
     "metadata": {},
     "output_type": "execute_result"
    }
   ],
   "source": [
    "out_dir = \"/Users/hn/Documents/01_research_data/NASA/ML_data/SG_nonExpert_2605_V_EVI_result/\"\n",
    "out_name = out_dir + \"01_TL_nonExpert_2605_predictions_\" + VI_idx + \"_SG.csv\"\n",
    "nonExpert_df=pd.read_csv(out_name)\n",
    "nonExpert_df.head(2)"
   ]
  },
  {
   "cell_type": "code",
   "execution_count": 113,
   "id": "10314920",
   "metadata": {},
   "outputs": [],
   "source": [
    "nonExpert_V_clean=pd.merge(nonExpert_V_clean, nonExpert_df[[\"ID\", \"prob_point7\"]],\n",
    "                           on=['ID'], how='left')"
   ]
  },
  {
   "cell_type": "code",
   "execution_count": 116,
   "id": "3dd64b7b",
   "metadata": {},
   "outputs": [
    {
     "data": {
      "text/html": [
       "<div>\n",
       "<style scoped>\n",
       "    .dataframe tbody tr th:only-of-type {\n",
       "        vertical-align: middle;\n",
       "    }\n",
       "\n",
       "    .dataframe tbody tr th {\n",
       "        vertical-align: top;\n",
       "    }\n",
       "\n",
       "    .dataframe thead th {\n",
       "        text-align: right;\n",
       "    }\n",
       "</style>\n",
       "<table border=\"1\" class=\"dataframe\">\n",
       "  <thead>\n",
       "    <tr style=\"text-align: right;\">\n",
       "      <th></th>\n",
       "      <th>ID</th>\n",
       "      <th>Vote</th>\n",
       "      <th>CropTyp</th>\n",
       "      <th>Irrigtn</th>\n",
       "      <th>county</th>\n",
       "      <th>ExctAcr</th>\n",
       "      <th>SVM_balanced_pred</th>\n",
       "      <th>knn_uniform_pred</th>\n",
       "      <th>RF_G1_pred</th>\n",
       "      <th>DL_pred</th>\n",
       "    </tr>\n",
       "  </thead>\n",
       "  <tbody>\n",
       "    <tr>\n",
       "      <th>0</th>\n",
       "      <td>100041_WSDA_SF_2017</td>\n",
       "      <td>1</td>\n",
       "      <td>grape, wine</td>\n",
       "      <td>drip</td>\n",
       "      <td>Grant</td>\n",
       "      <td>23.441439</td>\n",
       "      <td>1</td>\n",
       "      <td>1</td>\n",
       "      <td>1</td>\n",
       "      <td>1</td>\n",
       "    </tr>\n",
       "    <tr>\n",
       "      <th>1</th>\n",
       "      <td>100048_WSDA_SF_2017</td>\n",
       "      <td>1</td>\n",
       "      <td>bean, green</td>\n",
       "      <td>rill</td>\n",
       "      <td>Grant</td>\n",
       "      <td>18.033240</td>\n",
       "      <td>1</td>\n",
       "      <td>1</td>\n",
       "      <td>1</td>\n",
       "      <td>1</td>\n",
       "    </tr>\n",
       "  </tbody>\n",
       "</table>\n",
       "</div>"
      ],
      "text/plain": [
       "                    ID  Vote      CropTyp Irrigtn county    ExctAcr  \\\n",
       "0  100041_WSDA_SF_2017     1  grape, wine    drip  Grant  23.441439   \n",
       "1  100048_WSDA_SF_2017     1  bean, green    rill  Grant  18.033240   \n",
       "\n",
       "   SVM_balanced_pred  knn_uniform_pred  RF_G1_pred  DL_pred  \n",
       "0                  1                 1           1        1  \n",
       "1                  1                 1           1        1  "
      ]
     },
     "execution_count": 116,
     "metadata": {},
     "output_type": "execute_result"
    }
   ],
   "source": [
    "nonExpert_V_clean.rename(columns={\"prob_point7\": \"DL_pred\"}, inplace=True)\n",
    "nonExpert_V_clean.head(2)"
   ]
  },
  {
   "cell_type": "code",
   "execution_count": 117,
   "id": "df04a04a",
   "metadata": {},
   "outputs": [
    {
     "data": {
      "text/plain": [
       "(2605, 10)"
      ]
     },
     "execution_count": 117,
     "metadata": {},
     "output_type": "execute_result"
    }
   ],
   "source": [
    "nonExpert_V_clean.shape"
   ]
  },
  {
   "cell_type": "code",
   "execution_count": 142,
   "id": "c642ca55",
   "metadata": {},
   "outputs": [
    {
     "name": "stdout",
     "output_type": "stream",
     "text": [
      "There are [2308] fields under SVM A1P1.\n",
      "Area is [92598.49] under SVM A1P1.\n",
      "=======================================================\n",
      "There are [172] fields under SVM A1P1.\n",
      "Area is [11712.18] under SVM A1P1.\n",
      "=======================================================\n",
      "There are [65] fields under SVM A2P1.\n",
      "Area is [4575.99] under SVM A2P1.\n",
      "=======================================================\n",
      "There are [60] fields under SVM A1P2.\n",
      "Area is [2489.52] under SVM A1P2.\n",
      "=======================================================\n"
     ]
    }
   ],
   "source": [
    "SVM_A1P1=nonExpert_V_clean.copy()\n",
    "SVM_A1P1=SVM_A1P1[SVM_A1P1.Vote==1]\n",
    "SVM_A1P1=SVM_A1P1[SVM_A1P1.SVM_balanced_pred==1]\n",
    "print (\"There are [{0}] fields under SVM A1P1.\".format(SVM_A1P1.shape[0]))\n",
    "print (\"Area is [{0:.2f}] under SVM A1P1.\".format(SVM_A1P1.ExctAcr.sum()))\n",
    "\n",
    "print (\"=======================================================\")\n",
    "SVM_A2P2=nonExpert_V_clean.copy()\n",
    "SVM_A2P2=SVM_A2P2[SVM_A2P2.Vote==2]\n",
    "SVM_A2P2=SVM_A2P2[SVM_A2P2.SVM_balanced_pred==2]\n",
    "print (\"There are [{0}] fields under SVM A1P1.\".format(SVM_A2P2.shape[0]))\n",
    "print (\"Area is [{0:.2f}] under SVM A1P1.\".format(SVM_A2P2.ExctAcr.sum()))\n",
    "print (\"=======================================================\")\n",
    "\n",
    "\n",
    "SVM_A2P1=nonExpert_V_clean.copy()\n",
    "SVM_A2P1=SVM_A2P1[SVM_A2P1.Vote==2]\n",
    "SVM_A2P1=SVM_A2P1[SVM_A2P1.SVM_balanced_pred==1]\n",
    "print (\"There are [{0}] fields under SVM A2P1.\".format(SVM_A2P1.shape[0]))\n",
    "print (\"Area is [{0:.2f}] under SVM A2P1.\".format(SVM_A2P1.ExctAcr.sum()))\n",
    "\n",
    "print (\"=======================================================\")\n",
    "SVM_A1P2=nonExpert_V_clean.copy()\n",
    "SVM_A1P2=SVM_A1P2[SVM_A1P2.Vote==1]\n",
    "SVM_A1P2=SVM_A1P2[SVM_A1P2.SVM_balanced_pred==2]\n",
    "print (\"There are [{0}] fields under SVM A1P2.\".format(SVM_A1P2.shape[0]))\n",
    "print (\"Area is [{0:.2f}] under SVM A1P2.\".format(SVM_A1P2.ExctAcr.sum()))\n",
    "print (\"=======================================================\")"
   ]
  },
  {
   "cell_type": "code",
   "execution_count": 143,
   "id": "e5ee0bf7",
   "metadata": {},
   "outputs": [
    {
     "name": "stdout",
     "output_type": "stream",
     "text": [
      "There are [2320] fields under RF A1P1.\n",
      "Area is [93446.38] under RF A1P1.\n",
      "=======================================================\n",
      "There are [165] fields under RF A1P1.\n",
      "Area is [11091.41] under RF A1P1.\n",
      "=======================================================\n",
      "There are [72] fields under RF A2P1.\n",
      "Area is [5196.76] under RF A2P1.\n",
      "=======================================================\n",
      "There are [48] fields under RF A1P2.\n",
      "Area is [1641.63] under RF A1P2.\n",
      "=======================================================\n"
     ]
    }
   ],
   "source": [
    "RF_A1P1=nonExpert_V_clean.copy()\n",
    "RF_A1P1=RF_A1P1[RF_A1P1.Vote==1]\n",
    "RF_A1P1=RF_A1P1[RF_A1P1.RF_G1_pred==1]\n",
    "print (\"There are [{0}] fields under RF A1P1.\".format(RF_A1P1.shape[0]))\n",
    "print (\"Area is [{0:.2f}] under RF A1P1.\".format(RF_A1P1.ExctAcr.sum()))\n",
    "\n",
    "print (\"=======================================================\")\n",
    "RF_A2P2=nonExpert_V_clean.copy()\n",
    "RF_A2P2=RF_A2P2[RF_A2P2.Vote==2]\n",
    "RF_A2P2=RF_A2P2[RF_A2P2.RF_G1_pred==2]\n",
    "print (\"There are [{0}] fields under RF A1P1.\".format(RF_A2P2.shape[0]))\n",
    "print (\"Area is [{0:.2f}] under RF A1P1.\".format(RF_A2P2.ExctAcr.sum()))\n",
    "print (\"=======================================================\")\n",
    "\n",
    "\n",
    "RF_A2P1=nonExpert_V_clean.copy()\n",
    "RF_A2P1=RF_A2P1[RF_A2P1.Vote==2]\n",
    "RF_A2P1=RF_A2P1[RF_A2P1.RF_G1_pred==1]\n",
    "print (\"There are [{0}] fields under RF A2P1.\".format(RF_A2P1.shape[0]))\n",
    "print (\"Area is [{0:.2f}] under RF A2P1.\".format(RF_A2P1.ExctAcr.sum()))\n",
    "\n",
    "print (\"=======================================================\")\n",
    "RF_A1P2=nonExpert_V_clean.copy()\n",
    "RF_A1P2=RF_A1P2[RF_A1P2.Vote==1]\n",
    "RF_A1P2=RF_A1P2[RF_A1P2.RF_G1_pred==2]\n",
    "print (\"There are [{0}] fields under RF A1P2.\".format(RF_A1P2.shape[0]))\n",
    "print (\"Area is [{0:.2f}] under RF A1P2.\".format(RF_A1P2.ExctAcr.sum()))\n",
    "print (\"=======================================================\")"
   ]
  },
  {
   "cell_type": "code",
   "execution_count": 145,
   "id": "067489e1",
   "metadata": {},
   "outputs": [
    {
     "name": "stdout",
     "output_type": "stream",
     "text": [
      "There are [2350] fields under knn A1P1.\n",
      "Area is [93952.77] under knn A1P1.\n",
      "=======================================================\n",
      "There are [169] fields under knn A1P1.\n",
      "Area is [11516.36] under knn A1P1.\n",
      "=======================================================\n",
      "There are [68] fields under knn A2P1.\n",
      "Area is [4771.80] under knn A2P1.\n",
      "=======================================================\n",
      "There are [18] fields under knn A1P2.\n",
      "Area is [1135.24] under knn A1P2.\n",
      "=======================================================\n"
     ]
    }
   ],
   "source": [
    "knn_A1P1=nonExpert_V_clean.copy()\n",
    "knn_A1P1=knn_A1P1[knn_A1P1.Vote==1]\n",
    "knn_A1P1=knn_A1P1[knn_A1P1.knn_uniform_pred==1]\n",
    "print (\"There are [{0}] fields under knn A1P1.\".format(knn_A1P1.shape[0]))\n",
    "print (\"Area is [{0:.2f}] under knn A1P1.\".format(knn_A1P1.ExctAcr.sum()))\n",
    "\n",
    "print (\"=======================================================\")\n",
    "knn_A2P2=nonExpert_V_clean.copy()\n",
    "knn_A2P2=knn_A2P2[knn_A2P2.Vote==2]\n",
    "knn_A2P2=knn_A2P2[knn_A2P2.knn_uniform_pred==2]\n",
    "print (\"There are [{0}] fields under knn A1P1.\".format(knn_A2P2.shape[0]))\n",
    "print (\"Area is [{0:.2f}] under knn A1P1.\".format(knn_A2P2.ExctAcr.sum()))\n",
    "print (\"=======================================================\")\n",
    "\n",
    "\n",
    "knn_A2P1=nonExpert_V_clean.copy()\n",
    "knn_A2P1=knn_A2P1[knn_A2P1.Vote==2]\n",
    "knn_A2P1=knn_A2P1[knn_A2P1.knn_uniform_pred==1]\n",
    "print (\"There are [{0}] fields under knn A2P1.\".format(knn_A2P1.shape[0]))\n",
    "print (\"Area is [{0:.2f}] under knn A2P1.\".format(knn_A2P1.ExctAcr.sum()))\n",
    "\n",
    "print (\"=======================================================\")\n",
    "knn_A1P2=nonExpert_V_clean.copy()\n",
    "knn_A1P2=knn_A1P2[knn_A1P2.Vote==1]\n",
    "knn_A1P2=knn_A1P2[knn_A1P2.knn_uniform_pred==2]\n",
    "print (\"There are [{0}] fields under knn A1P2.\".format(knn_A1P2.shape[0]))\n",
    "print (\"Area is [{0:.2f}] under knn A1P2.\".format(knn_A1P2.ExctAcr.sum()))\n",
    "print (\"=======================================================\")"
   ]
  },
  {
   "cell_type": "code",
   "execution_count": 147,
   "id": "c7394eb6",
   "metadata": {},
   "outputs": [
    {
     "name": "stdout",
     "output_type": "stream",
     "text": [
      "There are [2347] fields under DL A1P1.\n",
      "Area is [93871.40] under DL A1P1.\n",
      "=======================================================\n",
      "There are [171] fields under DL A1P1.\n",
      "Area is [11727.89] under DL A1P1.\n",
      "=======================================================\n",
      "There are [66] fields under DL A2P1.\n",
      "Area is [4560.28] under DL A2P1.\n",
      "=======================================================\n",
      "There are [21] fields under DL A1P2.\n",
      "Area is [1216.61] under DL A1P2.\n",
      "=======================================================\n"
     ]
    }
   ],
   "source": [
    "DL_A1P1=nonExpert_V_clean.copy()\n",
    "DL_A1P1=DL_A1P1[DL_A1P1.Vote==1]\n",
    "DL_A1P1=DL_A1P1[DL_A1P1.DL_pred==1]\n",
    "print (\"There are [{0}] fields under DL A1P1.\".format(DL_A1P1.shape[0]))\n",
    "print (\"Area is [{0:.2f}] under DL A1P1.\".format(DL_A1P1.ExctAcr.sum()))\n",
    "\n",
    "print (\"=======================================================\")\n",
    "DL_A2P2=nonExpert_V_clean.copy()\n",
    "DL_A2P2=DL_A2P2[DL_A2P2.Vote==2]\n",
    "DL_A2P2=DL_A2P2[DL_A2P2.DL_pred==2]\n",
    "print (\"There are [{0}] fields under DL A1P1.\".format(DL_A2P2.shape[0]))\n",
    "print (\"Area is [{0:.2f}] under DL A1P1.\".format(DL_A2P2.ExctAcr.sum()))\n",
    "print (\"=======================================================\")\n",
    "\n",
    "\n",
    "DL_A2P1=nonExpert_V_clean.copy()\n",
    "DL_A2P1=DL_A2P1[DL_A2P1.Vote==2]\n",
    "DL_A2P1=DL_A2P1[DL_A2P1.DL_pred==1]\n",
    "print (\"There are [{0}] fields under DL A2P1.\".format(DL_A2P1.shape[0]))\n",
    "print (\"Area is [{0:.2f}] under DL A2P1.\".format(DL_A2P1.ExctAcr.sum()))\n",
    "\n",
    "print (\"=======================================================\")\n",
    "DL_A1P2=nonExpert_V_clean.copy()\n",
    "DL_A1P2=DL_A1P2[DL_A1P2.Vote==1]\n",
    "DL_A1P2=DL_A1P2[DL_A1P2.DL_pred==2]\n",
    "print (\"There are [{0}] fields under DL A1P2.\".format(DL_A1P2.shape[0]))\n",
    "print (\"Area is [{0:.2f}] under DL A1P2.\".format(DL_A1P2.ExctAcr.sum()))\n",
    "print (\"=======================================================\")"
   ]
  },
  {
   "cell_type": "code",
   "execution_count": 149,
   "id": "32f9284d",
   "metadata": {},
   "outputs": [
    {
     "data": {
      "text/plain": [
       "111376.17647069224"
      ]
     },
     "execution_count": 149,
     "metadata": {},
     "output_type": "execute_result"
    }
   ],
   "source": [
    "nonExpert_V_clean.ExctAcr.sum()"
   ]
  },
  {
   "cell_type": "code",
   "execution_count": 155,
   "id": "7fc1877f",
   "metadata": {},
   "outputs": [
    {
     "data": {
      "text/plain": [
       "3.0024421778480104"
      ]
     },
     "execution_count": 155,
     "metadata": {},
     "output_type": "execute_result"
    }
   ],
   "source": [
    "(3344/111376)*100"
   ]
  },
  {
   "cell_type": "code",
   "execution_count": null,
   "id": "f48b2b5d",
   "metadata": {},
   "outputs": [],
   "source": []
  }
 ],
 "metadata": {
  "kernelspec": {
   "display_name": "Python 3 (ipykernel)",
   "language": "python",
   "name": "python3"
  },
  "language_info": {
   "codemirror_mode": {
    "name": "ipython",
    "version": 3
   },
   "file_extension": ".py",
   "mimetype": "text/x-python",
   "name": "python",
   "nbconvert_exporter": "python",
   "pygments_lexer": "ipython3",
   "version": "3.9.12"
  }
 },
 "nbformat": 4,
 "nbformat_minor": 5
}
