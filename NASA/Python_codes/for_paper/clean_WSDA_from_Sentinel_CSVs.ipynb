{
 "cells": [
  {
   "cell_type": "code",
   "execution_count": 1,
   "id": "e32dfec9",
   "metadata": {},
   "outputs": [],
   "source": [
    "import pandas as pd\n",
    "import numpy as np\n",
    "import datetime\n",
    "from datetime import date\n",
    "import datetime\n",
    "import time\n",
    "\n",
    "import os, os.path\n",
    "from os import listdir\n",
    "from os.path import isfile, join\n",
    "\n",
    "import re\n",
    "# from pprint import pprint\n",
    "import matplotlib.pyplot as plt\n",
    "import matplotlib.dates as mdates\n",
    "\n",
    "import sys\n",
    "\n",
    "# search path for modules\n",
    "# look @ https://stackoverflow.com/questions/67631/how-to-import-a-module-given-the-full-path\n",
    "sys.path.append('/Users/hn/Documents/00_GitHub/Ag/NASA/Python_codes/')\n",
    "import NASA_core as nc\n",
    "import NASA_plot_core as npc"
   ]
  },
  {
   "cell_type": "code",
   "execution_count": 26,
   "id": "bef3967b",
   "metadata": {},
   "outputs": [
    {
     "data": {
      "text/plain": [
       "['Eastern_WA_2015_70cloud_selectors.csv',\n",
       " 'Eastern_WA_2016_70cloud_selectors.csv',\n",
       " 'Eastern_WA_2017_70cloud_selectors.csv',\n",
       " 'Eastern_WA_2018_70cloud_selectors.csv']"
      ]
     },
     "execution_count": 26,
     "metadata": {},
     "output_type": "execute_result"
    }
   ],
   "source": [
    "sentinel_dir = \"/Users/hn/Documents/01_research_data/remote_sensing/01_NDVI_TS/\"+\\\n",
    "               \"70_Cloud/00_Eastern_WA_withYear/2Years/\"\n",
    "\n",
    "sentinel_fNames=[x for x in os.listdir(sentinel_dir) if x.startswith(\"Eastern_WA\")]\n",
    "sentinel_fNames=sorted(sentinel_fNames)\n",
    "sentinel_fNames"
   ]
  },
  {
   "cell_type": "code",
   "execution_count": 27,
   "id": "f83178a2",
   "metadata": {},
   "outputs": [],
   "source": [
    "for fName in sentinel_fNames:\n",
    "    curr = pd.read_csv(sentinel_dir+fName)\n",
    "    curr=curr[[\"ID\", \"EVI\", \"NDVI\", \"system_start_time\"]]\n",
    "    out_name = sentinel_dir + \"clean_\" + fName\n",
    "    curr.to_csv(out_name, index = False)"
   ]
  },
  {
   "cell_type": "code",
   "execution_count": null,
   "id": "58f6d179",
   "metadata": {},
   "outputs": [],
   "source": []
  },
  {
   "cell_type": "code",
   "execution_count": 20,
   "id": "75ab33c1",
   "metadata": {},
   "outputs": [
    {
     "data": {
      "text/html": [
       "<div>\n",
       "<style scoped>\n",
       "    .dataframe tbody tr th:only-of-type {\n",
       "        vertical-align: middle;\n",
       "    }\n",
       "\n",
       "    .dataframe tbody tr th {\n",
       "        vertical-align: top;\n",
       "    }\n",
       "\n",
       "    .dataframe thead th {\n",
       "        text-align: right;\n",
       "    }\n",
       "</style>\n",
       "<table border=\"1\" class=\"dataframe\">\n",
       "  <thead>\n",
       "    <tr style=\"text-align: right;\">\n",
       "      <th></th>\n",
       "      <th>ID</th>\n",
       "      <th>Acres</th>\n",
       "      <th>BSI</th>\n",
       "      <th>county</th>\n",
       "      <th>CropGrp</th>\n",
       "      <th>CropTyp</th>\n",
       "      <th>DataSrc</th>\n",
       "      <th>doy</th>\n",
       "      <th>EVI</th>\n",
       "      <th>ExctAcr</th>\n",
       "      <th>...</th>\n",
       "      <th>NDWI</th>\n",
       "      <th>Notes</th>\n",
       "      <th>PSRI</th>\n",
       "      <th>RtCrpTy</th>\n",
       "      <th>Shap_Ar</th>\n",
       "      <th>Shp_Lng</th>\n",
       "      <th>system_start_time</th>\n",
       "      <th>TRS</th>\n",
       "      <th>image_year</th>\n",
       "      <th>B8</th>\n",
       "    </tr>\n",
       "  </thead>\n",
       "  <tbody>\n",
       "    <tr>\n",
       "      <th>0</th>\n",
       "      <td>105081_WSDA_SF_2017</td>\n",
       "      <td>49.0</td>\n",
       "      <td>NaN</td>\n",
       "      <td>Grant</td>\n",
       "      <td>Cereal Grain</td>\n",
       "      <td>buckwheat</td>\n",
       "      <td>wsda</td>\n",
       "      <td>NaN</td>\n",
       "      <td>NaN</td>\n",
       "      <td>49.106159</td>\n",
       "      <td>...</td>\n",
       "      <td>NaN</td>\n",
       "      <td>9/6/2011 new lateral move cp</td>\n",
       "      <td>NaN</td>\n",
       "      <td>Timothy</td>\n",
       "      <td>198725.57636</td>\n",
       "      <td>1873.048697</td>\n",
       "      <td>NaN</td>\n",
       "      <td>T19R24E25</td>\n",
       "      <td>NaN</td>\n",
       "      <td>NaN</td>\n",
       "    </tr>\n",
       "    <tr>\n",
       "      <th>1</th>\n",
       "      <td>105081_WSDA_SF_2017</td>\n",
       "      <td>49.0</td>\n",
       "      <td>-0.349168</td>\n",
       "      <td>Grant</td>\n",
       "      <td>Cereal Grain</td>\n",
       "      <td>buckwheat</td>\n",
       "      <td>wsda</td>\n",
       "      <td>215.0</td>\n",
       "      <td>0.743564</td>\n",
       "      <td>49.106159</td>\n",
       "      <td>...</td>\n",
       "      <td>-0.565784</td>\n",
       "      <td>9/6/2011 new lateral move cp</td>\n",
       "      <td>-0.094703</td>\n",
       "      <td>Timothy</td>\n",
       "      <td>198725.57636</td>\n",
       "      <td>1873.048697</td>\n",
       "      <td>1.470250e+12</td>\n",
       "      <td>T19R24E25</td>\n",
       "      <td>2016.0</td>\n",
       "      <td>0.384654</td>\n",
       "    </tr>\n",
       "  </tbody>\n",
       "</table>\n",
       "<p>2 rows × 25 columns</p>\n",
       "</div>"
      ],
      "text/plain": [
       "                    ID  Acres       BSI county       CropGrp    CropTyp  \\\n",
       "0  105081_WSDA_SF_2017   49.0       NaN  Grant  Cereal Grain  buckwheat   \n",
       "1  105081_WSDA_SF_2017   49.0 -0.349168  Grant  Cereal Grain  buckwheat   \n",
       "\n",
       "  DataSrc    doy       EVI    ExctAcr  ...      NDWI  \\\n",
       "0    wsda    NaN       NaN  49.106159  ...       NaN   \n",
       "1    wsda  215.0  0.743564  49.106159  ... -0.565784   \n",
       "\n",
       "                          Notes      PSRI  RtCrpTy       Shap_Ar      Shp_Lng  \\\n",
       "0  9/6/2011 new lateral move cp       NaN  Timothy  198725.57636  1873.048697   \n",
       "1  9/6/2011 new lateral move cp -0.094703  Timothy  198725.57636  1873.048697   \n",
       "\n",
       "  system_start_time        TRS image_year        B8  \n",
       "0               NaN  T19R24E25        NaN       NaN  \n",
       "1      1.470250e+12  T19R24E25     2016.0  0.384654  \n",
       "\n",
       "[2 rows x 25 columns]"
      ]
     },
     "execution_count": 20,
     "metadata": {},
     "output_type": "execute_result"
    }
   ],
   "source": [
    "A = pd.read_csv(sentinel_dir + \"buckwheat_challenge_sentinel_DF.csv\")\n",
    "A.head(2)"
   ]
  },
  {
   "cell_type": "code",
   "execution_count": 24,
   "id": "1c0225d5",
   "metadata": {},
   "outputs": [
    {
     "data": {
      "text/plain": [
       "['Eastern_WA_2015_70cloud_selectors.csv',\n",
       " 'Eastern_WA_2016_70cloud_selectors.csv',\n",
       " 'Eastern_WA_2017_70cloud_selectors.csv',\n",
       " 'Eastern_WA_2018_70cloud_selectors.csv']"
      ]
     },
     "execution_count": 24,
     "metadata": {},
     "output_type": "execute_result"
    }
   ],
   "source": []
  },
  {
   "cell_type": "code",
   "execution_count": null,
   "id": "2a7b7c3d",
   "metadata": {},
   "outputs": [],
   "source": []
  },
  {
   "cell_type": "code",
   "execution_count": null,
   "id": "d79ec785",
   "metadata": {},
   "outputs": [],
   "source": []
  }
 ],
 "metadata": {
  "kernelspec": {
   "display_name": "Python 3 (ipykernel)",
   "language": "python",
   "name": "python3"
  },
  "language_info": {
   "codemirror_mode": {
    "name": "ipython",
    "version": 3
   },
   "file_extension": ".py",
   "mimetype": "text/x-python",
   "name": "python",
   "nbconvert_exporter": "python",
   "pygments_lexer": "ipython3",
   "version": "3.9.7"
  }
 },
 "nbformat": 4,
 "nbformat_minor": 5
}
