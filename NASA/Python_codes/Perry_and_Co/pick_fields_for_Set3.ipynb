{
 "cells": [
  {
   "cell_type": "code",
   "execution_count": 1,
   "id": "0ee01fcc",
   "metadata": {},
   "outputs": [],
   "source": [
    "import pandas as pd"
   ]
  },
  {
   "cell_type": "code",
   "execution_count": 57,
   "id": "da46d33c",
   "metadata": {},
   "outputs": [],
   "source": [
    "param_in_data_dir = \"/Users/hn/Documents/01_research_data/NASA/parameters/\""
   ]
  },
  {
   "cell_type": "markdown",
   "id": "1f5eb2ac",
   "metadata": {},
   "source": [
    "## Read all the ~6000 fields chosen previously"
   ]
  },
  {
   "cell_type": "code",
   "execution_count": 58,
   "id": "c63513fa",
   "metadata": {
    "scrolled": true
   },
   "outputs": [
    {
     "name": "stdout",
     "output_type": "stream",
     "text": [
      "(6340, 14)\n"
     ]
    },
    {
     "data": {
      "text/html": [
       "<div>\n",
       "<style scoped>\n",
       "    .dataframe tbody tr th:only-of-type {\n",
       "        vertical-align: middle;\n",
       "    }\n",
       "\n",
       "    .dataframe tbody tr th {\n",
       "        vertical-align: top;\n",
       "    }\n",
       "\n",
       "    .dataframe thead th {\n",
       "        text-align: right;\n",
       "    }\n",
       "</style>\n",
       "<table border=\"1\" class=\"dataframe\">\n",
       "  <thead>\n",
       "    <tr style=\"text-align: right;\">\n",
       "      <th></th>\n",
       "      <th>ID</th>\n",
       "      <th>NDVI_TS_Name</th>\n",
       "      <th>corrected_RGB</th>\n",
       "      <th>TOA_RGB</th>\n",
       "      <th>latitude</th>\n",
       "      <th>longitude</th>\n",
       "      <th>Question Text</th>\n",
       "      <th>CropTyp</th>\n",
       "      <th>Irrigtn</th>\n",
       "      <th>DataSrc</th>\n",
       "      <th>Acres</th>\n",
       "      <th>ExctAcr</th>\n",
       "      <th>LstSrvD</th>\n",
       "      <th>county</th>\n",
       "    </tr>\n",
       "  </thead>\n",
       "  <tbody>\n",
       "    <tr>\n",
       "      <th>0</th>\n",
       "      <td>104119_WSDA_SF_2016</td>\n",
       "      <td>AdamBenton2016_104119_WSDA_SF_2016.png</td>\n",
       "      <td>104119_WSDA_SF_2016_46.83273927_-118.91209151_...</td>\n",
       "      <td>104119_WSDA_SF_2016_46.83273927_-118.91209151_...</td>\n",
       "      <td>46.832739</td>\n",
       "      <td>-118.912092</td>\n",
       "      <td>How would you label this field?</td>\n",
       "      <td>alfalfa hay</td>\n",
       "      <td>center pivot</td>\n",
       "      <td>wsda</td>\n",
       "      <td>26</td>\n",
       "      <td>26.413875</td>\n",
       "      <td>2016/08/17 00:00:00</td>\n",
       "      <td>Adams</td>\n",
       "    </tr>\n",
       "  </tbody>\n",
       "</table>\n",
       "</div>"
      ],
      "text/plain": [
       "                    ID                            NDVI_TS_Name  \\\n",
       "0  104119_WSDA_SF_2016  AdamBenton2016_104119_WSDA_SF_2016.png   \n",
       "\n",
       "                                       corrected_RGB  \\\n",
       "0  104119_WSDA_SF_2016_46.83273927_-118.91209151_...   \n",
       "\n",
       "                                             TOA_RGB   latitude   longitude  \\\n",
       "0  104119_WSDA_SF_2016_46.83273927_-118.91209151_...  46.832739 -118.912092   \n",
       "\n",
       "                     Question Text      CropTyp       Irrigtn DataSrc  Acres  \\\n",
       "0  How would you label this field?  alfalfa hay  center pivot    wsda     26   \n",
       "\n",
       "     ExctAcr              LstSrvD county  \n",
       "0  26.413875  2016/08/17 00:00:00  Adams  "
      ]
     },
     "execution_count": 58,
     "metadata": {},
     "output_type": "execute_result"
    }
   ],
   "source": [
    "evaluation_set = pd.read_csv(param_in_data_dir + \"Eshwar_Extensive.csv\")\n",
    "evaluation_set.drop(labels=['Text box Text', 'Question_overall'], axis='columns', inplace=True)\n",
    "print (evaluation_set.shape)\n",
    "evaluation_set.head(1)"
   ]
  },
  {
   "cell_type": "code",
   "execution_count": 59,
   "id": "385af8a0",
   "metadata": {},
   "outputs": [],
   "source": [
    "# (sorted(evaluation_set.CropTyp.unique()))"
   ]
  },
  {
   "cell_type": "code",
   "execution_count": 60,
   "id": "28e34ca4",
   "metadata": {},
   "outputs": [
    {
     "data": {
      "text/plain": [
       "25"
      ]
     },
     "execution_count": 60,
     "metadata": {},
     "output_type": "execute_result"
    }
   ],
   "source": [
    "wanted_crops = ['alfalfa seed',\n",
    "                'barley', 'barley hay', 'bean, dry', 'bean, green', 'bluegrass seed', 'buckwheat', \n",
    "                'canola', 'carrot', 'corn seed', 'corn, field', 'corn, sweet', \n",
    "                'grass hay', 'grass seed',\n",
    "                'market crops', 'mint',\n",
    "                'oat hay', 'onion',\n",
    "                'pea seed', 'pea, dry', 'pea, green', 'potato', \n",
    "                'triticale',\n",
    "                'wheat',\n",
    "                'yellow mustard']\n",
    "wanted_crops = sorted(wanted_crops)\n",
    "len(wanted_crops)"
   ]
  },
  {
   "cell_type": "code",
   "execution_count": 62,
   "id": "cebd55b0",
   "metadata": {},
   "outputs": [
    {
     "name": "stdout",
     "output_type": "stream",
     "text": [
      "(6340, 14)\n",
      "(1925, 14)\n"
     ]
    }
   ],
   "source": [
    "print (evaluation_set.shape)\n",
    "evaluation_set = evaluation_set[evaluation_set.CropTyp.isin(wanted_crops)]\n",
    "print (evaluation_set.shape)"
   ]
  },
  {
   "cell_type": "markdown",
   "id": "71d37a63",
   "metadata": {},
   "source": [
    "## Read the first set; 294 fields labeled in the first set"
   ]
  },
  {
   "cell_type": "code",
   "execution_count": 63,
   "id": "b37a7cde",
   "metadata": {},
   "outputs": [],
   "source": [
    "perry_dir = \"/Users/hn/Documents/01_research_data/NASA/Perry_and_Co/\"\n",
    "set1_fields = pd.read_csv(perry_dir + \"set_1_experts_stats_extended_sortOpinionCrop.csv\")"
   ]
  },
  {
   "cell_type": "code",
   "execution_count": 64,
   "id": "f031b303",
   "metadata": {},
   "outputs": [
    {
     "data": {
      "text/html": [
       "<div>\n",
       "<style scoped>\n",
       "    .dataframe tbody tr th:only-of-type {\n",
       "        vertical-align: middle;\n",
       "    }\n",
       "\n",
       "    .dataframe tbody tr th {\n",
       "        vertical-align: top;\n",
       "    }\n",
       "\n",
       "    .dataframe thead th {\n",
       "        text-align: right;\n",
       "    }\n",
       "</style>\n",
       "<table border=\"1\" class=\"dataframe\">\n",
       "  <thead>\n",
       "    <tr style=\"text-align: right;\">\n",
       "      <th></th>\n",
       "      <th>ID</th>\n",
       "      <th>NDVI_TS_Name</th>\n",
       "      <th>corrected_RGB</th>\n",
       "      <th>TOA_RGB</th>\n",
       "      <th>latitude</th>\n",
       "      <th>longitude</th>\n",
       "      <th>Question Text</th>\n",
       "      <th>CropTyp</th>\n",
       "      <th>Irrigtn</th>\n",
       "      <th>DataSrc</th>\n",
       "      <th>Acres</th>\n",
       "      <th>ExctAcr</th>\n",
       "      <th>LstSrvD</th>\n",
       "      <th>county</th>\n",
       "    </tr>\n",
       "  </thead>\n",
       "  <tbody>\n",
       "    <tr>\n",
       "      <th>0</th>\n",
       "      <td>148920_WSDA_SF_2015</td>\n",
       "      <td>Walla2015_148920_WSDA_SF_2015.png</td>\n",
       "      <td>148920_WSDA_SF_2015_46.03609783_-118.72012153_...</td>\n",
       "      <td>148920_WSDA_SF_2015_46.03609783_-118.72012153_...</td>\n",
       "      <td>46.036098</td>\n",
       "      <td>-118.720122</td>\n",
       "      <td>How would you label this field?</td>\n",
       "      <td>alfalfa seed</td>\n",
       "      <td>sprinkler</td>\n",
       "      <td>wsda</td>\n",
       "      <td>2</td>\n",
       "      <td>2.197327</td>\n",
       "      <td>2015/06/04 00:00:00</td>\n",
       "      <td>Walla Walla</td>\n",
       "    </tr>\n",
       "    <tr>\n",
       "      <th>1</th>\n",
       "      <td>152722_WSDA_SF_2015</td>\n",
       "      <td>Walla2015_152722_WSDA_SF_2015.png</td>\n",
       "      <td>152722_WSDA_SF_2015_46.03008259_-118.69196771_...</td>\n",
       "      <td>152722_WSDA_SF_2015_46.03008259_-118.69196771_...</td>\n",
       "      <td>46.030083</td>\n",
       "      <td>-118.691968</td>\n",
       "      <td>How would you label this field?</td>\n",
       "      <td>alfalfa seed</td>\n",
       "      <td>sprinkler</td>\n",
       "      <td>wsda</td>\n",
       "      <td>33</td>\n",
       "      <td>33.308379</td>\n",
       "      <td>2015/06/04 00:00:00</td>\n",
       "      <td>Walla Walla</td>\n",
       "    </tr>\n",
       "  </tbody>\n",
       "</table>\n",
       "</div>"
      ],
      "text/plain": [
       "                    ID                       NDVI_TS_Name  \\\n",
       "0  148920_WSDA_SF_2015  Walla2015_148920_WSDA_SF_2015.png   \n",
       "1  152722_WSDA_SF_2015  Walla2015_152722_WSDA_SF_2015.png   \n",
       "\n",
       "                                       corrected_RGB  \\\n",
       "0  148920_WSDA_SF_2015_46.03609783_-118.72012153_...   \n",
       "1  152722_WSDA_SF_2015_46.03008259_-118.69196771_...   \n",
       "\n",
       "                                             TOA_RGB   latitude   longitude  \\\n",
       "0  148920_WSDA_SF_2015_46.03609783_-118.72012153_...  46.036098 -118.720122   \n",
       "1  152722_WSDA_SF_2015_46.03008259_-118.69196771_...  46.030083 -118.691968   \n",
       "\n",
       "                     Question Text       CropTyp    Irrigtn DataSrc  Acres  \\\n",
       "0  How would you label this field?  alfalfa seed  sprinkler    wsda      2   \n",
       "1  How would you label this field?  alfalfa seed  sprinkler    wsda     33   \n",
       "\n",
       "     ExctAcr              LstSrvD       county  \n",
       "0   2.197327  2015/06/04 00:00:00  Walla Walla  \n",
       "1  33.308379  2015/06/04 00:00:00  Walla Walla  "
      ]
     },
     "execution_count": 64,
     "metadata": {},
     "output_type": "execute_result"
    }
   ],
   "source": [
    "hand_picked_set2 = pd.read_csv(param_in_data_dir + \"threeHundred_IDs_Set2_Perry.csv\")\n",
    "hand_picked_set2.dropna(inplace=True)\n",
    "\n",
    "hand_picked_set2 = evaluation_set[evaluation_set.ID.isin(list(hand_picked_set2.ID))].copy()\n",
    "hand_picked_set2.reset_index(drop=True, inplace=True)\n",
    "hand_picked_set2.head(2)"
   ]
  },
  {
   "cell_type": "code",
   "execution_count": 65,
   "id": "b75e1c0e",
   "metadata": {},
   "outputs": [
    {
     "data": {
      "text/plain": [
       "(322, 14)"
      ]
     },
     "execution_count": 65,
     "metadata": {},
     "output_type": "execute_result"
    }
   ],
   "source": [
    "hand_picked_set2.shape"
   ]
  },
  {
   "cell_type": "code",
   "execution_count": 66,
   "id": "d21a66ba",
   "metadata": {},
   "outputs": [
    {
     "data": {
      "text/plain": [
       "(294, 21)"
      ]
     },
     "execution_count": 66,
     "metadata": {},
     "output_type": "execute_result"
    }
   ],
   "source": [
    "set1_fields.shape"
   ]
  },
  {
   "cell_type": "code",
   "execution_count": 67,
   "id": "47097ba1",
   "metadata": {},
   "outputs": [
    {
     "data": {
      "text/plain": [
       "['triticale hay', 'carrot seed', 'wheat fallow']"
      ]
     },
     "execution_count": 67,
     "metadata": {},
     "output_type": "execute_result"
    }
   ],
   "source": [
    "# sorted(set1_fields.CropTyp.unique())\n",
    "[x for x in set1_fields.CropTyp.unique() if not(x in wanted_crops)]"
   ]
  },
  {
   "cell_type": "markdown",
   "id": "1c7cf3a5",
   "metadata": {},
   "source": [
    "# Find out CropType of repeated fields!"
   ]
  },
  {
   "cell_type": "code",
   "execution_count": 79,
   "id": "1cf9781f",
   "metadata": {},
   "outputs": [
    {
     "data": {
      "text/plain": [
       "array(['alfalfa seed', 'barley', 'barley hay', 'bean, dry', 'bean, green',\n",
       "       'bluegrass seed', 'buckwheat', 'canola', 'carrot', 'corn seed',\n",
       "       'corn, sweet', 'grass hay', 'grass seed', 'market crops', 'mint',\n",
       "       'oat hay', 'onion', 'pea, dry', 'pea, green', 'triticale',\n",
       "       'yellow mustard'], dtype=object)"
      ]
     },
     "execution_count": 79,
     "metadata": {},
     "output_type": "execute_result"
    }
   ],
   "source": [
    "repeated_crops = hand_picked_set2[hand_picked_set2.ID.isin(list(set1_fields.ID))].copy()\n",
    "repeated_crops.CropTyp.unique()"
   ]
  },
  {
   "cell_type": "code",
   "execution_count": 92,
   "id": "86ec2b62",
   "metadata": {},
   "outputs": [
    {
     "data": {
      "text/plain": [
       "(141, 14)"
      ]
     },
     "execution_count": 92,
     "metadata": {},
     "output_type": "execute_result"
    }
   ],
   "source": [
    "repeated_crops.drop(labels=['NDVI_TS_Name', 'corrected_RGB', 'TOA_RGB',\n",
    "                            'latitude', 'longitude', 'Question Text',\n",
    "                            'Irrigtn', 'DataSrc', 'Acres',\n",
    "                            'ExctAcr', 'LstSrvD', 'county'], \n",
    "                         axis='columns', inplace=True)\n",
    "print (repeated_crops.shape)"
   ]
  },
  {
   "cell_type": "code",
   "execution_count": 111,
   "id": "6a2ceaf2",
   "metadata": {},
   "outputs": [
    {
     "data": {
      "text/html": [
       "<div>\n",
       "<style scoped>\n",
       "    .dataframe tbody tr th:only-of-type {\n",
       "        vertical-align: middle;\n",
       "    }\n",
       "\n",
       "    .dataframe tbody tr th {\n",
       "        vertical-align: top;\n",
       "    }\n",
       "\n",
       "    .dataframe thead th {\n",
       "        text-align: right;\n",
       "    }\n",
       "</style>\n",
       "<table border=\"1\" class=\"dataframe\">\n",
       "  <thead>\n",
       "    <tr style=\"text-align: right;\">\n",
       "      <th></th>\n",
       "      <th>ID</th>\n",
       "      <th>CropTyp</th>\n",
       "    </tr>\n",
       "  </thead>\n",
       "  <tbody>\n",
       "    <tr>\n",
       "      <th>0</th>\n",
       "      <td>148920_WSDA_SF_2015</td>\n",
       "      <td>alfalfa seed</td>\n",
       "    </tr>\n",
       "    <tr>\n",
       "      <th>1</th>\n",
       "      <td>152722_WSDA_SF_2015</td>\n",
       "      <td>alfalfa seed</td>\n",
       "    </tr>\n",
       "  </tbody>\n",
       "</table>\n",
       "</div>"
      ],
      "text/plain": [
       "                    ID       CropTyp\n",
       "0  148920_WSDA_SF_2015  alfalfa seed\n",
       "1  152722_WSDA_SF_2015  alfalfa seed"
      ]
     },
     "execution_count": 111,
     "metadata": {},
     "output_type": "execute_result"
    }
   ],
   "source": [
    "repeated_crops.head(2)"
   ]
  },
  {
   "cell_type": "markdown",
   "id": "d0a9f02e",
   "metadata": {},
   "source": [
    "# Toss out the first and second sets!!!!"
   ]
  },
  {
   "cell_type": "code",
   "execution_count": 86,
   "id": "672dd3a8",
   "metadata": {},
   "outputs": [
    {
     "name": "stdout",
     "output_type": "stream",
     "text": [
      "(1925, 14)\n",
      "(786, 14)\n",
      "(631, 14)\n"
     ]
    }
   ],
   "source": [
    "set3_potentials = evaluation_set.copy()\n",
    "print (set3_potentials.shape)\n",
    "set3_potentials = set3_potentials[set3_potentials.CropTyp.isin(list(repeated_crops.CropTyp.unique()))]\n",
    "set3_potentials = set3_potentials[~set3_potentials.ID.isin(list(set1_fields.ID))].copy()\n",
    "print (set3_potentials.shape)\n",
    "\n",
    "set3_potentials = set3_potentials[~set3_potentials.ID.isin(list(hand_picked_set2.ID))].copy()\n",
    "\n",
    "print (set3_potentials.shape)\n",
    "\n",
    "set3_potentials.sort_values(by=['CropTyp', 'county', \"ID\"], inplace=True)"
   ]
  },
  {
   "cell_type": "code",
   "execution_count": 87,
   "id": "6fc630e8",
   "metadata": {},
   "outputs": [],
   "source": [
    "set3_dir = \"/Users/hn/Documents/01_research_data/NASA/Perry_and_Co/set3/\"\n",
    "out_name = set3_dir + \"00_set3_all_potentials.csv\"\n",
    "set3_potentials.to_csv(out_name, index = False)"
   ]
  },
  {
   "cell_type": "code",
   "execution_count": 88,
   "id": "670cf877",
   "metadata": {},
   "outputs": [
    {
     "data": {
      "text/html": [
       "<div>\n",
       "<style scoped>\n",
       "    .dataframe tbody tr th:only-of-type {\n",
       "        vertical-align: middle;\n",
       "    }\n",
       "\n",
       "    .dataframe tbody tr th {\n",
       "        vertical-align: top;\n",
       "    }\n",
       "\n",
       "    .dataframe thead th {\n",
       "        text-align: right;\n",
       "    }\n",
       "</style>\n",
       "<table border=\"1\" class=\"dataframe\">\n",
       "  <thead>\n",
       "    <tr style=\"text-align: right;\">\n",
       "      <th></th>\n",
       "      <th>ID</th>\n",
       "      <th>NDVI_TS_Name</th>\n",
       "      <th>corrected_RGB</th>\n",
       "      <th>TOA_RGB</th>\n",
       "      <th>latitude</th>\n",
       "      <th>longitude</th>\n",
       "      <th>Question Text</th>\n",
       "      <th>CropTyp</th>\n",
       "      <th>Irrigtn</th>\n",
       "      <th>DataSrc</th>\n",
       "      <th>Acres</th>\n",
       "      <th>ExctAcr</th>\n",
       "      <th>LstSrvD</th>\n",
       "      <th>county</th>\n",
       "    </tr>\n",
       "  </thead>\n",
       "  <tbody>\n",
       "    <tr>\n",
       "      <th>495</th>\n",
       "      <td>160565_WSDA_SF_2015</td>\n",
       "      <td>Walla2015_160565_WSDA_SF_2015.png</td>\n",
       "      <td>160565_WSDA_SF_2015_46.02407437_-118.62400002_...</td>\n",
       "      <td>160565_WSDA_SF_2015_46.02407437_-118.62400002_...</td>\n",
       "      <td>46.024074</td>\n",
       "      <td>-118.624000</td>\n",
       "      <td>How would you label this field?</td>\n",
       "      <td>alfalfa seed</td>\n",
       "      <td>center pivot</td>\n",
       "      <td>wsda</td>\n",
       "      <td>54</td>\n",
       "      <td>53.999581</td>\n",
       "      <td>2015/06/16 00:00:00</td>\n",
       "      <td>Walla Walla</td>\n",
       "    </tr>\n",
       "    <tr>\n",
       "      <th>497</th>\n",
       "      <td>160915_WSDA_SF_2015</td>\n",
       "      <td>Walla2015_160915_WSDA_SF_2015.png</td>\n",
       "      <td>160915_WSDA_SF_2015_46.01757824_-118.59877151_...</td>\n",
       "      <td>160915_WSDA_SF_2015_46.01757824_-118.59877151_...</td>\n",
       "      <td>46.017578</td>\n",
       "      <td>-118.598772</td>\n",
       "      <td>How would you label this field?</td>\n",
       "      <td>alfalfa seed</td>\n",
       "      <td>sprinkler</td>\n",
       "      <td>wsda</td>\n",
       "      <td>21</td>\n",
       "      <td>20.672131</td>\n",
       "      <td>2015/06/16 00:00:00</td>\n",
       "      <td>Walla Walla</td>\n",
       "    </tr>\n",
       "  </tbody>\n",
       "</table>\n",
       "</div>"
      ],
      "text/plain": [
       "                      ID                       NDVI_TS_Name  \\\n",
       "495  160565_WSDA_SF_2015  Walla2015_160565_WSDA_SF_2015.png   \n",
       "497  160915_WSDA_SF_2015  Walla2015_160915_WSDA_SF_2015.png   \n",
       "\n",
       "                                         corrected_RGB  \\\n",
       "495  160565_WSDA_SF_2015_46.02407437_-118.62400002_...   \n",
       "497  160915_WSDA_SF_2015_46.01757824_-118.59877151_...   \n",
       "\n",
       "                                               TOA_RGB   latitude   longitude  \\\n",
       "495  160565_WSDA_SF_2015_46.02407437_-118.62400002_...  46.024074 -118.624000   \n",
       "497  160915_WSDA_SF_2015_46.01757824_-118.59877151_...  46.017578 -118.598772   \n",
       "\n",
       "                       Question Text       CropTyp       Irrigtn DataSrc  \\\n",
       "495  How would you label this field?  alfalfa seed  center pivot    wsda   \n",
       "497  How would you label this field?  alfalfa seed     sprinkler    wsda   \n",
       "\n",
       "     Acres    ExctAcr              LstSrvD       county  \n",
       "495     54  53.999581  2015/06/16 00:00:00  Walla Walla  \n",
       "497     21  20.672131  2015/06/16 00:00:00  Walla Walla  "
      ]
     },
     "execution_count": 88,
     "metadata": {},
     "output_type": "execute_result"
    }
   ],
   "source": [
    "set3_potentials.head(2)"
   ]
  },
  {
   "cell_type": "code",
   "execution_count": null,
   "id": "61f6e35a",
   "metadata": {},
   "outputs": [],
   "source": []
  },
  {
   "cell_type": "markdown",
   "id": "6eb2ffc9",
   "metadata": {},
   "source": [
    "# Manually Picked\n",
    "\n",
    "I manually picked some fields from ```00_set3_all_potentials```.\n",
    "There were not enough of ```oat hay``` and ```yellow mustard```.\n",
    "So, I replaced them with ```onion``` and ```pea, green```"
   ]
  },
  {
   "cell_type": "code",
   "execution_count": 124,
   "id": "15b329f4",
   "metadata": {},
   "outputs": [],
   "source": [
    "manual_picks = pd.read_csv(set3_dir + \"01_Manually_Picked_IDs.csv\")\n",
    "manual_picks.drop(labels=['row', 'Crop'], axis='columns', inplace=True)"
   ]
  },
  {
   "cell_type": "code",
   "execution_count": 125,
   "id": "117822b8",
   "metadata": {},
   "outputs": [
    {
     "name": "stdout",
     "output_type": "stream",
     "text": [
      "(142, 1)\n",
      "142\n"
     ]
    },
    {
     "data": {
      "text/html": [
       "<div>\n",
       "<style scoped>\n",
       "    .dataframe tbody tr th:only-of-type {\n",
       "        vertical-align: middle;\n",
       "    }\n",
       "\n",
       "    .dataframe tbody tr th {\n",
       "        vertical-align: top;\n",
       "    }\n",
       "\n",
       "    .dataframe thead th {\n",
       "        text-align: right;\n",
       "    }\n",
       "</style>\n",
       "<table border=\"1\" class=\"dataframe\">\n",
       "  <thead>\n",
       "    <tr style=\"text-align: right;\">\n",
       "      <th></th>\n",
       "      <th>ID</th>\n",
       "    </tr>\n",
       "  </thead>\n",
       "  <tbody>\n",
       "    <tr>\n",
       "      <th>0</th>\n",
       "      <td>161245_WSDA_SF_2015</td>\n",
       "    </tr>\n",
       "    <tr>\n",
       "      <th>1</th>\n",
       "      <td>169545_WSDA_SF_2015</td>\n",
       "    </tr>\n",
       "  </tbody>\n",
       "</table>\n",
       "</div>"
      ],
      "text/plain": [
       "                    ID\n",
       "0  161245_WSDA_SF_2015\n",
       "1  169545_WSDA_SF_2015"
      ]
     },
     "execution_count": 125,
     "metadata": {},
     "output_type": "execute_result"
    }
   ],
   "source": [
    "print (manual_picks.shape)\n",
    "print (len(manual_picks.ID.unique()))\n",
    "manual_picks.head(2)"
   ]
  },
  {
   "cell_type": "code",
   "execution_count": 126,
   "id": "3c10fd85",
   "metadata": {},
   "outputs": [
    {
     "data": {
      "text/html": [
       "<div>\n",
       "<style scoped>\n",
       "    .dataframe tbody tr th:only-of-type {\n",
       "        vertical-align: middle;\n",
       "    }\n",
       "\n",
       "    .dataframe tbody tr th {\n",
       "        vertical-align: top;\n",
       "    }\n",
       "\n",
       "    .dataframe thead th {\n",
       "        text-align: right;\n",
       "    }\n",
       "</style>\n",
       "<table border=\"1\" class=\"dataframe\">\n",
       "  <thead>\n",
       "    <tr style=\"text-align: right;\">\n",
       "      <th></th>\n",
       "      <th>ID</th>\n",
       "      <th>NDVI_TS_Name</th>\n",
       "      <th>corrected_RGB</th>\n",
       "      <th>TOA_RGB</th>\n",
       "      <th>latitude</th>\n",
       "      <th>longitude</th>\n",
       "      <th>Question Text</th>\n",
       "      <th>CropTyp</th>\n",
       "      <th>Irrigtn</th>\n",
       "      <th>DataSrc</th>\n",
       "      <th>Acres</th>\n",
       "      <th>ExctAcr</th>\n",
       "      <th>LstSrvD</th>\n",
       "      <th>county</th>\n",
       "    </tr>\n",
       "  </thead>\n",
       "  <tbody>\n",
       "    <tr>\n",
       "      <th>0</th>\n",
       "      <td>161245_WSDA_SF_2015</td>\n",
       "      <td>Walla2015_161245_WSDA_SF_2015.png</td>\n",
       "      <td>161245_WSDA_SF_2015_46.02743904_-118.6990808_c...</td>\n",
       "      <td>161245_WSDA_SF_2015_46.02743904_-118.6990808_T...</td>\n",
       "      <td>46.027439</td>\n",
       "      <td>-118.699081</td>\n",
       "      <td>How would you label this field?</td>\n",
       "      <td>alfalfa seed</td>\n",
       "      <td>sprinkler</td>\n",
       "      <td>wsda</td>\n",
       "      <td>10</td>\n",
       "      <td>10.401307</td>\n",
       "      <td>2015/06/04 00:00:00</td>\n",
       "      <td>Walla Walla</td>\n",
       "    </tr>\n",
       "    <tr>\n",
       "      <th>1</th>\n",
       "      <td>169545_WSDA_SF_2015</td>\n",
       "      <td>Walla2015_169545_WSDA_SF_2015.png</td>\n",
       "      <td>169545_WSDA_SF_2015_46.016413_-118.54690439_co...</td>\n",
       "      <td>169545_WSDA_SF_2015_46.016413_-118.54690439_TO...</td>\n",
       "      <td>46.016413</td>\n",
       "      <td>-118.546904</td>\n",
       "      <td>How would you label this field?</td>\n",
       "      <td>alfalfa seed</td>\n",
       "      <td>sprinkler</td>\n",
       "      <td>wsda</td>\n",
       "      <td>80</td>\n",
       "      <td>79.567760</td>\n",
       "      <td>2015/06/17 00:00:00</td>\n",
       "      <td>Walla Walla</td>\n",
       "    </tr>\n",
       "  </tbody>\n",
       "</table>\n",
       "</div>"
      ],
      "text/plain": [
       "                    ID                       NDVI_TS_Name  \\\n",
       "0  161245_WSDA_SF_2015  Walla2015_161245_WSDA_SF_2015.png   \n",
       "1  169545_WSDA_SF_2015  Walla2015_169545_WSDA_SF_2015.png   \n",
       "\n",
       "                                       corrected_RGB  \\\n",
       "0  161245_WSDA_SF_2015_46.02743904_-118.6990808_c...   \n",
       "1  169545_WSDA_SF_2015_46.016413_-118.54690439_co...   \n",
       "\n",
       "                                             TOA_RGB   latitude   longitude  \\\n",
       "0  161245_WSDA_SF_2015_46.02743904_-118.6990808_T...  46.027439 -118.699081   \n",
       "1  169545_WSDA_SF_2015_46.016413_-118.54690439_TO...  46.016413 -118.546904   \n",
       "\n",
       "                     Question Text       CropTyp    Irrigtn DataSrc  Acres  \\\n",
       "0  How would you label this field?  alfalfa seed  sprinkler    wsda     10   \n",
       "1  How would you label this field?  alfalfa seed  sprinkler    wsda     80   \n",
       "\n",
       "     ExctAcr              LstSrvD       county  \n",
       "0  10.401307  2015/06/04 00:00:00  Walla Walla  \n",
       "1  79.567760  2015/06/17 00:00:00  Walla Walla  "
      ]
     },
     "execution_count": 126,
     "metadata": {},
     "output_type": "execute_result"
    }
   ],
   "source": [
    "manual_picks = pd.merge(manual_picks, set3_potentials, on=['ID'], how='left')\n",
    "manual_picks.head(2)"
   ]
  },
  {
   "cell_type": "code",
   "execution_count": 127,
   "id": "902cea1a",
   "metadata": {},
   "outputs": [],
   "source": [
    "# manual_picks.groupby(['CropTyp']).count()\n",
    "# repeated_crops.groupby(['CropTyp']).count()"
   ]
  },
  {
   "cell_type": "code",
   "execution_count": 128,
   "id": "ad7a978e",
   "metadata": {},
   "outputs": [],
   "source": [
    "out_name = set3_dir + \"manual_picks_full_columns.csv\"\n",
    "manual_picks.to_csv(out_name, index = False)"
   ]
  },
  {
   "cell_type": "code",
   "execution_count": 139,
   "id": "f9487284",
   "metadata": {},
   "outputs": [],
   "source": [
    "no_questions = 50\n",
    "\n",
    "writer_limited = pd.ExcelWriter(set3_dir + 'set_3_handPicked.xlsx', engine='xlsxwriter') \n",
    "\n",
    "if manual_picks.shape[0] % no_questions != 0:\n",
    "    no_dfs = manual_picks.shape[0] // no_questions + 1\n",
    "else:\n",
    "    no_dfs = manual_picks.shape[0] // no_questions\n",
    "\n",
    "for ii in range(no_dfs):\n",
    "    curr_sheet = manual_picks.loc[(ii*no_questions): ((ii+1) * no_questions) - 1, ]\n",
    "    curr_sheet.reset_index(drop=True, inplace=True)\n",
    "    curr_sheet.to_excel(writer_limited, sheet_name= \"set_3_form_\" + str(ii+1), index=False)\n",
    "\n",
    "writer_limited.save()"
   ]
  },
  {
   "cell_type": "code",
   "execution_count": 137,
   "id": "530bef27",
   "metadata": {},
   "outputs": [
    {
     "data": {
      "text/html": [
       "<div>\n",
       "<style scoped>\n",
       "    .dataframe tbody tr th:only-of-type {\n",
       "        vertical-align: middle;\n",
       "    }\n",
       "\n",
       "    .dataframe tbody tr th {\n",
       "        vertical-align: top;\n",
       "    }\n",
       "\n",
       "    .dataframe thead th {\n",
       "        text-align: right;\n",
       "    }\n",
       "</style>\n",
       "<table border=\"1\" class=\"dataframe\">\n",
       "  <thead>\n",
       "    <tr style=\"text-align: right;\">\n",
       "      <th></th>\n",
       "      <th>ID</th>\n",
       "      <th>NDVI_TS_Name</th>\n",
       "      <th>corrected_RGB</th>\n",
       "      <th>TOA_RGB</th>\n",
       "      <th>latitude</th>\n",
       "      <th>longitude</th>\n",
       "      <th>Question Text</th>\n",
       "      <th>CropTyp</th>\n",
       "      <th>Irrigtn</th>\n",
       "      <th>DataSrc</th>\n",
       "      <th>Acres</th>\n",
       "      <th>ExctAcr</th>\n",
       "      <th>LstSrvD</th>\n",
       "      <th>county</th>\n",
       "    </tr>\n",
       "  </thead>\n",
       "  <tbody>\n",
       "    <tr>\n",
       "      <th>0</th>\n",
       "      <td>161245_WSDA_SF_2015</td>\n",
       "      <td>Walla2015_161245_WSDA_SF_2015.png</td>\n",
       "      <td>161245_WSDA_SF_2015_46.02743904_-118.6990808_c...</td>\n",
       "      <td>161245_WSDA_SF_2015_46.02743904_-118.6990808_T...</td>\n",
       "      <td>46.027439</td>\n",
       "      <td>-118.699081</td>\n",
       "      <td>How would you label this field?</td>\n",
       "      <td>alfalfa seed</td>\n",
       "      <td>sprinkler</td>\n",
       "      <td>wsda</td>\n",
       "      <td>10</td>\n",
       "      <td>10.401307</td>\n",
       "      <td>2015/06/04 00:00:00</td>\n",
       "      <td>Walla Walla</td>\n",
       "    </tr>\n",
       "    <tr>\n",
       "      <th>1</th>\n",
       "      <td>169545_WSDA_SF_2015</td>\n",
       "      <td>Walla2015_169545_WSDA_SF_2015.png</td>\n",
       "      <td>169545_WSDA_SF_2015_46.016413_-118.54690439_co...</td>\n",
       "      <td>169545_WSDA_SF_2015_46.016413_-118.54690439_TO...</td>\n",
       "      <td>46.016413</td>\n",
       "      <td>-118.546904</td>\n",
       "      <td>How would you label this field?</td>\n",
       "      <td>alfalfa seed</td>\n",
       "      <td>sprinkler</td>\n",
       "      <td>wsda</td>\n",
       "      <td>80</td>\n",
       "      <td>79.567760</td>\n",
       "      <td>2015/06/17 00:00:00</td>\n",
       "      <td>Walla Walla</td>\n",
       "    </tr>\n",
       "  </tbody>\n",
       "</table>\n",
       "</div>"
      ],
      "text/plain": [
       "                    ID                       NDVI_TS_Name  \\\n",
       "0  161245_WSDA_SF_2015  Walla2015_161245_WSDA_SF_2015.png   \n",
       "1  169545_WSDA_SF_2015  Walla2015_169545_WSDA_SF_2015.png   \n",
       "\n",
       "                                       corrected_RGB  \\\n",
       "0  161245_WSDA_SF_2015_46.02743904_-118.6990808_c...   \n",
       "1  169545_WSDA_SF_2015_46.016413_-118.54690439_co...   \n",
       "\n",
       "                                             TOA_RGB   latitude   longitude  \\\n",
       "0  161245_WSDA_SF_2015_46.02743904_-118.6990808_T...  46.027439 -118.699081   \n",
       "1  169545_WSDA_SF_2015_46.016413_-118.54690439_TO...  46.016413 -118.546904   \n",
       "\n",
       "                     Question Text       CropTyp    Irrigtn DataSrc  Acres  \\\n",
       "0  How would you label this field?  alfalfa seed  sprinkler    wsda     10   \n",
       "1  How would you label this field?  alfalfa seed  sprinkler    wsda     80   \n",
       "\n",
       "     ExctAcr              LstSrvD       county  \n",
       "0  10.401307  2015/06/04 00:00:00  Walla Walla  \n",
       "1  79.567760  2015/06/17 00:00:00  Walla Walla  "
      ]
     },
     "execution_count": 137,
     "metadata": {},
     "output_type": "execute_result"
    }
   ],
   "source": [
    "manual_picks.head(2)"
   ]
  },
  {
   "cell_type": "code",
   "execution_count": 138,
   "id": "23ac318a",
   "metadata": {},
   "outputs": [
    {
     "data": {
      "text/plain": [
       "Index(['ID', 'NDVI_TS_Name', 'corrected_RGB', 'TOA_RGB', 'latitude',\n",
       "       'longitude', 'Question Text', 'CropTyp', 'Irrigtn', 'DataSrc', 'Acres',\n",
       "       'ExctAcr', 'LstSrvD', 'county'],\n",
       "      dtype='object')"
      ]
     },
     "execution_count": 138,
     "metadata": {},
     "output_type": "execute_result"
    }
   ],
   "source": [
    "manual_picks.columns"
   ]
  },
  {
   "cell_type": "code",
   "execution_count": 135,
   "id": "5c6065d2",
   "metadata": {},
   "outputs": [
    {
     "data": {
      "text/plain": [
       "Index(['ID', 'NDVI_TS_Name', 'corrected_RGB', 'TOA_RGB', 'latitude',\n",
       "       'longitude', 'Question Text', 'CropTyp', 'Irrigtn', 'DataSrc', 'Acres',\n",
       "       'ExctAcr', 'LstSrvD', 'county'],\n",
       "      dtype='object')"
      ]
     },
     "execution_count": 135,
     "metadata": {},
     "output_type": "execute_result"
    }
   ],
   "source": [
    "evaluation_set.columns"
   ]
  },
  {
   "cell_type": "markdown",
   "id": "708d8955",
   "metadata": {},
   "source": [
    "# Check the google sheet \n",
    "```File List - Perry and Co.``` renamed to ```FileList-PerryandCo```"
   ]
  },
  {
   "cell_type": "code",
   "execution_count": 141,
   "id": "f264b129",
   "metadata": {},
   "outputs": [
    {
     "name": "stdout",
     "output_type": "stream",
     "text": [
      "['extended_1', 'extended_2', 'extended_3', 'extended_4', 'extended_5', 'extended_6', 'set_2_form_1', 'set_2_form_2', 'set_2_form_3', 'set_2_form_4', 'set_2_form_5', 'set_2_form_6', 'set_2_form_7', 'set_3_form_1', 'set_3_form_2', 'set_3_form_3']\n"
     ]
    }
   ],
   "source": [
    "FileList = pd.ExcelFile(set3_dir + \"FileList-PerryandCo.xlsx\")\n",
    "FileList_sheet_names = FileList.sheet_names  # see all sheet names\n",
    "print (FileList_sheet_names)"
   ]
  },
  {
   "cell_type": "code",
   "execution_count": 146,
   "id": "a0f71739",
   "metadata": {},
   "outputs": [],
   "source": [
    "extended = pd.DataFrame()\n",
    "set_2 = pd.DataFrame()\n",
    "set_3 = pd.DataFrame()\n",
    "\n",
    "for a_sheet in FileList_sheet_names:\n",
    "    # read a damn sheet\n",
    "    sheetdata = FileList.parse(a_sheet)\n",
    "    \n",
    "    if \"set_3\" in a_sheet:\n",
    "        set_3 = pd.concat([set_3, sheetdata])\n",
    "    elif \"set_2\" in a_sheet:\n",
    "        set_2 = pd.concat([set_2, sheetdata])\n",
    "    elif \"extended\" in a_sheet:\n",
    "        extended = pd.concat([extended, sheetdata])"
   ]
  },
  {
   "cell_type": "code",
   "execution_count": 159,
   "id": "b6a4eaab",
   "metadata": {},
   "outputs": [
    {
     "data": {
      "text/plain": [
       "(0, 14)"
      ]
     },
     "execution_count": 159,
     "metadata": {},
     "output_type": "execute_result"
    }
   ],
   "source": [
    "A = set_3[set_3.ID.isin(list(set_2.ID))]\n",
    "A.shape"
   ]
  },
  {
   "cell_type": "code",
   "execution_count": null,
   "id": "a819e042",
   "metadata": {},
   "outputs": [],
   "source": []
  },
  {
   "cell_type": "code",
   "execution_count": null,
   "id": "bedd174d",
   "metadata": {},
   "outputs": [],
   "source": []
  },
  {
   "cell_type": "code",
   "execution_count": null,
   "id": "c994577c",
   "metadata": {},
   "outputs": [],
   "source": []
  },
  {
   "cell_type": "code",
   "execution_count": null,
   "id": "3de7fdc0",
   "metadata": {},
   "outputs": [],
   "source": []
  }
 ],
 "metadata": {
  "kernelspec": {
   "display_name": "Python 3 (ipykernel)",
   "language": "python",
   "name": "python3"
  },
  "language_info": {
   "codemirror_mode": {
    "name": "ipython",
    "version": 3
   },
   "file_extension": ".py",
   "mimetype": "text/x-python",
   "name": "python",
   "nbconvert_exporter": "python",
   "pygments_lexer": "ipython3",
   "version": "3.9.12"
  }
 },
 "nbformat": 4,
 "nbformat_minor": 5
}
