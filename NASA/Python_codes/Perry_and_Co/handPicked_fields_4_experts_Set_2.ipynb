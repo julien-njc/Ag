{
 "cells": [
  {
   "cell_type": "markdown",
   "id": "39e80500",
   "metadata": {},
   "source": [
    "# Fields for Experts \n",
    "\n",
    "Initially, we chose 250 fields manually for experts. Here I will make more sents by code."
   ]
  },
  {
   "cell_type": "code",
   "execution_count": 19,
   "id": "d32c418d",
   "metadata": {},
   "outputs": [],
   "source": [
    "import pandas as pd"
   ]
  },
  {
   "cell_type": "code",
   "execution_count": 20,
   "id": "472e6479",
   "metadata": {},
   "outputs": [],
   "source": [
    "param_in_data_dir = \"/Users/hn/Documents/01_research_data/NASA/parameters/\""
   ]
  },
  {
   "cell_type": "markdown",
   "id": "00671c44",
   "metadata": {},
   "source": [
    "## Read all the ~6000 fields chosen previously"
   ]
  },
  {
   "cell_type": "code",
   "execution_count": 21,
   "id": "569c412f",
   "metadata": {},
   "outputs": [
    {
     "data": {
      "text/html": [
       "<div>\n",
       "<style scoped>\n",
       "    .dataframe tbody tr th:only-of-type {\n",
       "        vertical-align: middle;\n",
       "    }\n",
       "\n",
       "    .dataframe tbody tr th {\n",
       "        vertical-align: top;\n",
       "    }\n",
       "\n",
       "    .dataframe thead th {\n",
       "        text-align: right;\n",
       "    }\n",
       "</style>\n",
       "<table border=\"1\" class=\"dataframe\">\n",
       "  <thead>\n",
       "    <tr style=\"text-align: right;\">\n",
       "      <th></th>\n",
       "      <th>ID</th>\n",
       "      <th>NDVI_TS_Name</th>\n",
       "      <th>corrected_RGB</th>\n",
       "      <th>TOA_RGB</th>\n",
       "      <th>latitude</th>\n",
       "      <th>longitude</th>\n",
       "      <th>Question Text</th>\n",
       "      <th>CropTyp</th>\n",
       "      <th>Irrigtn</th>\n",
       "      <th>DataSrc</th>\n",
       "      <th>Acres</th>\n",
       "      <th>ExctAcr</th>\n",
       "      <th>LstSrvD</th>\n",
       "      <th>county</th>\n",
       "    </tr>\n",
       "  </thead>\n",
       "  <tbody>\n",
       "    <tr>\n",
       "      <th>0</th>\n",
       "      <td>104119_WSDA_SF_2016</td>\n",
       "      <td>AdamBenton2016_104119_WSDA_SF_2016.png</td>\n",
       "      <td>104119_WSDA_SF_2016_46.83273927_-118.91209151_...</td>\n",
       "      <td>104119_WSDA_SF_2016_46.83273927_-118.91209151_...</td>\n",
       "      <td>46.832739</td>\n",
       "      <td>-118.912092</td>\n",
       "      <td>How would you label this field?</td>\n",
       "      <td>alfalfa hay</td>\n",
       "      <td>center pivot</td>\n",
       "      <td>wsda</td>\n",
       "      <td>26</td>\n",
       "      <td>26.413875</td>\n",
       "      <td>2016/08/17 00:00:00</td>\n",
       "      <td>Adams</td>\n",
       "    </tr>\n",
       "  </tbody>\n",
       "</table>\n",
       "</div>"
      ],
      "text/plain": [
       "                    ID                            NDVI_TS_Name  \\\n",
       "0  104119_WSDA_SF_2016  AdamBenton2016_104119_WSDA_SF_2016.png   \n",
       "\n",
       "                                       corrected_RGB  \\\n",
       "0  104119_WSDA_SF_2016_46.83273927_-118.91209151_...   \n",
       "\n",
       "                                             TOA_RGB   latitude   longitude  \\\n",
       "0  104119_WSDA_SF_2016_46.83273927_-118.91209151_...  46.832739 -118.912092   \n",
       "\n",
       "                     Question Text      CropTyp       Irrigtn DataSrc  Acres  \\\n",
       "0  How would you label this field?  alfalfa hay  center pivot    wsda     26   \n",
       "\n",
       "     ExctAcr              LstSrvD county  \n",
       "0  26.413875  2016/08/17 00:00:00  Adams  "
      ]
     },
     "execution_count": 21,
     "metadata": {},
     "output_type": "execute_result"
    }
   ],
   "source": [
    "evaluation_set = pd.read_csv(param_in_data_dir + \"Eshwar_Extensive.csv\")\n",
    "evaluation_set.drop(labels=['Text box Text', 'Question_overall'], axis='columns', inplace=True)\n",
    "evaluation_set.head(1)"
   ]
  },
  {
   "cell_type": "markdown",
   "id": "eacd86e6",
   "metadata": {},
   "source": [
    "# Read hand-picked fields"
   ]
  },
  {
   "cell_type": "code",
   "execution_count": 22,
   "id": "62282c8a",
   "metadata": {},
   "outputs": [
    {
     "data": {
      "text/html": [
       "<div>\n",
       "<style scoped>\n",
       "    .dataframe tbody tr th:only-of-type {\n",
       "        vertical-align: middle;\n",
       "    }\n",
       "\n",
       "    .dataframe tbody tr th {\n",
       "        vertical-align: top;\n",
       "    }\n",
       "\n",
       "    .dataframe thead th {\n",
       "        text-align: right;\n",
       "    }\n",
       "</style>\n",
       "<table border=\"1\" class=\"dataframe\">\n",
       "  <thead>\n",
       "    <tr style=\"text-align: right;\">\n",
       "      <th></th>\n",
       "      <th>ID</th>\n",
       "    </tr>\n",
       "  </thead>\n",
       "  <tbody>\n",
       "    <tr>\n",
       "      <th>0</th>\n",
       "      <td>52701_WSDA_SF_2016</td>\n",
       "    </tr>\n",
       "    <tr>\n",
       "      <th>1</th>\n",
       "      <td>53739_WSDA_SF_2016</td>\n",
       "    </tr>\n",
       "  </tbody>\n",
       "</table>\n",
       "</div>"
      ],
      "text/plain": [
       "                   ID\n",
       "0  52701_WSDA_SF_2016\n",
       "1  53739_WSDA_SF_2016"
      ]
     },
     "execution_count": 22,
     "metadata": {},
     "output_type": "execute_result"
    }
   ],
   "source": [
    "hand_picked = pd.read_csv(param_in_data_dir + \"threeHundred_IDs_Set2_Perry.csv\")\n",
    "hand_picked.dropna(inplace=True)\n",
    "hand_picked.head(2)"
   ]
  },
  {
   "cell_type": "code",
   "execution_count": 23,
   "id": "7ae362a9",
   "metadata": {},
   "outputs": [],
   "source": [
    "evaluation_set = evaluation_set[evaluation_set.ID.isin(list(hand_picked.ID.unique()))].copy()"
   ]
  },
  {
   "cell_type": "code",
   "execution_count": 24,
   "id": "443ac783",
   "metadata": {},
   "outputs": [],
   "source": [
    "evaluation_set.sort_values(by=['CropTyp', 'county', \"ID\"], inplace=True)\n",
    "evaluation_set.reset_index(drop=True, inplace=True)"
   ]
  },
  {
   "cell_type": "markdown",
   "id": "a90c46ee",
   "metadata": {},
   "source": [
    "### Write the sets in excel format"
   ]
  },
  {
   "cell_type": "code",
   "execution_count": 25,
   "id": "09361a84",
   "metadata": {},
   "outputs": [],
   "source": [
    "perry_dir = \"/Users/hn/Documents/01_research_data/NASA/Perry_and_Co/\"\n",
    "out_name = \"set2_hand_picked_extended.csv\"\n",
    "evaluation_set.to_csv( perry_dir + out_name, index = False)"
   ]
  },
  {
   "cell_type": "code",
   "execution_count": 26,
   "id": "e3942fbe",
   "metadata": {},
   "outputs": [],
   "source": [
    "no_questions = 50\n",
    "\n",
    "writer_limited = pd.ExcelWriter(perry_dir + 'set_2_handPicked.xlsx', engine='xlsxwriter') \n",
    "\n",
    "if evaluation_set.shape[0] % no_questions != 0:\n",
    "    no_dfs = evaluation_set.shape[0] // no_questions + 1\n",
    "else:\n",
    "    no_dfs = evaluation_set.shape[0] // no_questions\n",
    "\n",
    "for ii in range(no_dfs):\n",
    "    curr_sheet = evaluation_set.loc[(ii*no_questions): ((ii+1) * no_questions) - 1, ]\n",
    "    curr_sheet.reset_index(drop=True, inplace=True)\n",
    "    curr_sheet.to_excel(writer_limited, sheet_name= \"set_2_form_\" + str(ii+1), index=False)\n",
    "\n",
    "writer_limited.save()"
   ]
  },
  {
   "cell_type": "code",
   "execution_count": 27,
   "id": "c9464a28",
   "metadata": {},
   "outputs": [
    {
     "data": {
      "text/plain": [
       "24"
      ]
     },
     "execution_count": 27,
     "metadata": {},
     "output_type": "execute_result"
    }
   ],
   "source": [
    "len(evaluation_set.CropTyp.unique())"
   ]
  },
  {
   "cell_type": "code",
   "execution_count": null,
   "id": "41fc4d01",
   "metadata": {},
   "outputs": [],
   "source": []
  },
  {
   "cell_type": "code",
   "execution_count": null,
   "id": "ceee4328",
   "metadata": {},
   "outputs": [],
   "source": []
  }
 ],
 "metadata": {
  "kernelspec": {
   "display_name": "Python 3 (ipykernel)",
   "language": "python",
   "name": "python3"
  },
  "language_info": {
   "codemirror_mode": {
    "name": "ipython",
    "version": 3
   },
   "file_extension": ".py",
   "mimetype": "text/x-python",
   "name": "python",
   "nbconvert_exporter": "python",
   "pygments_lexer": "ipython3",
   "version": "3.9.7"
  }
 },
 "nbformat": 4,
 "nbformat_minor": 5
}
