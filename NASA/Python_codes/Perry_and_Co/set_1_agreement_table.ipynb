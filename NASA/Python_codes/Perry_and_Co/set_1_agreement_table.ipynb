{
 "cells": [
  {
   "cell_type": "markdown",
   "id": "15827217",
   "metadata": {},
   "source": [
    "Here we want to find the fields that they agreed on, and therefore, were not discussed in the damn\n",
    "meeting! \n",
    "\n",
    "We relabel everything that has mustard as double-crop."
   ]
  },
  {
   "cell_type": "code",
   "execution_count": 1,
   "id": "baf346a7",
   "metadata": {},
   "outputs": [],
   "source": [
    "import pandas as pd\n",
    "import csv\n",
    "\n",
    "import os, os.path\n",
    "import sys\n",
    "import shutil # to move files from one directory to another"
   ]
  },
  {
   "cell_type": "code",
   "execution_count": 2,
   "id": "f4883cb0",
   "metadata": {},
   "outputs": [],
   "source": [
    "perry_dir = \"/Users/hn/Documents/01_research_data/NASA/Perry_and_Co/\"\n",
    "plots_dir = \"/Users/hn/Documents/01_research_data/NASA/snapshots/TS/06_snapshot_flat_PNG/\""
   ]
  },
  {
   "cell_type": "code",
   "execution_count": 3,
   "id": "cd7d346b",
   "metadata": {},
   "outputs": [],
   "source": [
    "choices_set_1_xl = pd.ExcelFile(perry_dir + \"set1_PerryandCo.xlsx\")\n",
    "choices_set_1_sheet_names = choices_set_1_xl.sheet_names  # see all sheet names\n",
    "\n",
    "response_set_1_xl = pd.ExcelFile(perry_dir + \"Perry_and_Co_Responses_set_1.xlsx\")\n",
    "response_set_1_sheet_names = response_set_1_xl.sheet_names  # see all sheet names"
   ]
  },
  {
   "cell_type": "code",
   "execution_count": 4,
   "id": "bf38c2c8",
   "metadata": {},
   "outputs": [
    {
     "name": "stdout",
     "output_type": "stream",
     "text": [
      "['extended_1', 'extended_2', 'extended_3', 'extended_4', 'extended_5', 'extended_6']\n",
      "['S1 - F6', 'S1 - F5', 'S1 - F4', 'S1 - F3', 'S1 - F2', 'S1 - F1']\n"
     ]
    }
   ],
   "source": [
    "print (choices_set_1_sheet_names)\n",
    "print (response_set_1_sheet_names)"
   ]
  },
  {
   "cell_type": "code",
   "execution_count": 5,
   "id": "4668143c",
   "metadata": {},
   "outputs": [],
   "source": [
    "a_choice_sheet = choices_set_1_xl.parse(choices_set_1_sheet_names[3])\n",
    "sample_response = response_set_1_xl.parse(response_set_1_sheet_names[3])"
   ]
  },
  {
   "cell_type": "code",
   "execution_count": 6,
   "id": "92117ae1",
   "metadata": {},
   "outputs": [
    {
     "name": "stdout",
     "output_type": "stream",
     "text": [
      "['Question_in_set', 'Question_overall', 'ID', 'NDVI_TS_Name', 'corrected_RGB', 'TOA_RGB', 'latitude', 'longitude', 'CropTyp', 'Irrigtn', 'DataSrc', 'Acres', 'ExctAcr', 'LstSrvD', 'county']\n"
     ]
    }
   ],
   "source": [
    "print (list(a_choice_sheet.columns))"
   ]
  },
  {
   "cell_type": "markdown",
   "id": "2c86c64b",
   "metadata": {},
   "source": [
    "## Count number of questions"
   ]
  },
  {
   "cell_type": "code",
   "execution_count": 7,
   "id": "7e951785",
   "metadata": {},
   "outputs": [
    {
     "name": "stdout",
     "output_type": "stream",
     "text": [
      "There are [294] questions.\n"
     ]
    }
   ],
   "source": [
    "question_count = 0\n",
    "\n",
    "for a_choice_sheet in choices_set_1_sheet_names:\n",
    "    \n",
    "    # read a damn sheet\n",
    "    a_choice_sheet = choices_set_1_xl.parse(a_choice_sheet)\n",
    "\n",
    "    # add them to the damn list\n",
    "    question_count += a_choice_sheet.shape[0]\n",
    "\n",
    "print('There are [{ques_count}] questions.'.format(ques_count=question_count))"
   ]
  },
  {
   "cell_type": "markdown",
   "id": "e845881d",
   "metadata": {},
   "source": [
    "# Disagreements start here:"
   ]
  },
  {
   "cell_type": "code",
   "execution_count": 8,
   "id": "b422d15b",
   "metadata": {},
   "outputs": [
    {
     "data": {
      "text/html": [
       "<div>\n",
       "<style scoped>\n",
       "    .dataframe tbody tr th:only-of-type {\n",
       "        vertical-align: middle;\n",
       "    }\n",
       "\n",
       "    .dataframe tbody tr th {\n",
       "        vertical-align: top;\n",
       "    }\n",
       "\n",
       "    .dataframe thead th {\n",
       "        text-align: right;\n",
       "    }\n",
       "</style>\n",
       "<table border=\"1\" class=\"dataframe\">\n",
       "  <thead>\n",
       "    <tr style=\"text-align: right;\">\n",
       "      <th></th>\n",
       "      <th>Disagreement_form</th>\n",
       "      <th>disagreement_Question</th>\n",
       "      <th>opinion_count</th>\n",
       "      <th>ID</th>\n",
       "      <th>PerrysVote</th>\n",
       "      <th>AndrewsVote</th>\n",
       "      <th>TimsVote</th>\n",
       "      <th>NDVI_TS_Name</th>\n",
       "      <th>CropTyp</th>\n",
       "    </tr>\n",
       "  </thead>\n",
       "  <tbody>\n",
       "    <tr>\n",
       "      <th>0</th>\n",
       "      <td>6</td>\n",
       "      <td>8</td>\n",
       "      <td>3</td>\n",
       "      <td>107177_WSDA_SF_2018</td>\n",
       "      <td>Double Crop</td>\n",
       "      <td>Either double or mustard crop</td>\n",
       "      <td>Single Crop</td>\n",
       "      <td>FranklinYakima2018_107177_WSDA_SF_2018.png</td>\n",
       "      <td>grass seed</td>\n",
       "    </tr>\n",
       "  </tbody>\n",
       "</table>\n",
       "</div>"
      ],
      "text/plain": [
       "  Disagreement_form disagreement_Question opinion_count                   ID  \\\n",
       "0                 6                     8             3  107177_WSDA_SF_2018   \n",
       "\n",
       "    PerrysVote                    AndrewsVote     TimsVote  \\\n",
       "0  Double Crop  Either double or mustard crop  Single Crop   \n",
       "\n",
       "                                 NDVI_TS_Name     CropTyp  \n",
       "0  FranklinYakima2018_107177_WSDA_SF_2018.png  grass seed  "
      ]
     },
     "execution_count": 8,
     "metadata": {},
     "output_type": "execute_result"
    }
   ],
   "source": [
    "## Define the damn output dataframe\n",
    "unwanted_opinions = [\"kirtir@wsu.edu\"]\n",
    "\n",
    "output_df = pd.DataFrame(columns=['Disagreement_form', 'disagreement_Question', \\\n",
    "                                  'opinion_count', 'ID', \"PerrysVote\", \"AndrewsVote\", \"TimsVote\"], \n",
    "                         index=range(question_count))\n",
    "output_df.head(1)\n",
    "curr_row = 0\n",
    "\n",
    "extended_choices = pd.DataFrame()\n",
    "\n",
    "###### populate the output datafrme\n",
    "\n",
    "for response_sheet_name in response_set_1_sheet_names:\n",
    "    \n",
    "    # pick up the numeric part of the sheet names from google Disagreement_forms sheets\n",
    "    # this is the Disagreement_form number as well.\n",
    "    sheet_numeric_part = [s for s in response_sheet_name.split()[-1] if s.isdigit()]\n",
    "    sheet_numeric_part = \"\".join(sheet_numeric_part)\n",
    "    \n",
    "    # Disagreement_form sheet names of choices excel sheets\n",
    "    choice_sheet_name = \"extended_\" + sheet_numeric_part\n",
    "    \n",
    "    a_choice_sheet = choices_set_1_xl.parse(choice_sheet_name)\n",
    "    a_response_sheet = response_set_1_xl.parse(response_sheet_name)\n",
    "    \n",
    "    extended_choices = pd.concat([extended_choices, a_choice_sheet])\n",
    "    #\n",
    "    # drop unwanted opinions, i.e. keep experts opinions\n",
    "    #\n",
    "    a_response_sheet = a_response_sheet[~(a_response_sheet[\"Email Address\"].isin(unwanted_opinions))].copy()\n",
    "    \n",
    "    for a_col_name in a_response_sheet.columns:\n",
    "        if \"QUESTION\" in a_col_name:\n",
    "            question_number = a_col_name.split()[1]\n",
    "            \n",
    "            output_df.loc[curr_row, \"Disagreement_form\"] = sheet_numeric_part\n",
    "            output_df.loc[curr_row, \"disagreement_Question\"] = question_number\n",
    "            output_df.loc[curr_row, \"opinion_count\"] = len(a_response_sheet[a_col_name].unique())\n",
    "            output_df.loc[curr_row, \"ID\"] = a_choice_sheet.loc[int(question_number)-1, \"ID\"]\n",
    "            \n",
    "             \n",
    "            output_df.loc[curr_row, \"PerrysVote\"] = a_response_sheet[a_response_sheet[\"Email Address\"] == \\\n",
    "                                                                 \"pbeale@agr.wa.gov\"][a_col_name].values[0]\n",
    "            \n",
    "            output_df.loc[curr_row, \"AndrewsVote\"] = a_response_sheet[a_response_sheet[\"Email Address\"] == \\\n",
    "                                                                 \"andrew.mcguire@wsu.edu\"][a_col_name].values[0]\n",
    "            \n",
    "            output_df.loc[curr_row, \"TimsVote\"] = a_response_sheet[a_response_sheet[\"Email Address\"] == \\\n",
    "                                                                 \"twaters@wsu.edu\"][a_col_name].values[0]\n",
    "            \n",
    "            curr_row += 1\n",
    "\n",
    "extended_output = pd.merge(output_df, extended_choices, on=['ID'], how='left')\n",
    "extended_output.head(2)\n",
    "\n",
    "disagreement_table = extended_output[extended_output.opinion_count != 1].copy()\n",
    "# disagreement_table = disagreement_table[disagreement_table.CropTyp != \"grass hay\"].copy()\n",
    "disagreement_table.reset_index(inplace=True, drop=True)\n",
    "\n",
    "disagreement_table.drop(labels=['TOA_RGB', 'latitude', 'longitude', 'Irrigtn', 'DataSrc', 'Acres',\n",
    "                                'ExctAcr', 'LstSrvD', 'county', 'Question_in_set', 'Question_overall',\n",
    "                                'corrected_RGB'], \n",
    "                         axis='columns', inplace=True)\n",
    "\n",
    "\n",
    "disagreement_table.head(1)"
   ]
  },
  {
   "cell_type": "code",
   "execution_count": 9,
   "id": "42ad4b77",
   "metadata": {},
   "outputs": [
    {
     "name": "stdout",
     "output_type": "stream",
     "text": [
      "(294, 21)\n"
     ]
    },
    {
     "data": {
      "text/html": [
       "<div>\n",
       "<style scoped>\n",
       "    .dataframe tbody tr th:only-of-type {\n",
       "        vertical-align: middle;\n",
       "    }\n",
       "\n",
       "    .dataframe tbody tr th {\n",
       "        vertical-align: top;\n",
       "    }\n",
       "\n",
       "    .dataframe thead th {\n",
       "        text-align: right;\n",
       "    }\n",
       "</style>\n",
       "<table border=\"1\" class=\"dataframe\">\n",
       "  <thead>\n",
       "    <tr style=\"text-align: right;\">\n",
       "      <th></th>\n",
       "      <th>Disagreement_form</th>\n",
       "      <th>disagreement_Question</th>\n",
       "      <th>opinion_count</th>\n",
       "      <th>ID</th>\n",
       "      <th>PerrysVote</th>\n",
       "      <th>AndrewsVote</th>\n",
       "      <th>TimsVote</th>\n",
       "      <th>Question_in_set</th>\n",
       "      <th>Question_overall</th>\n",
       "      <th>NDVI_TS_Name</th>\n",
       "      <th>...</th>\n",
       "      <th>TOA_RGB</th>\n",
       "      <th>latitude</th>\n",
       "      <th>longitude</th>\n",
       "      <th>CropTyp</th>\n",
       "      <th>Irrigtn</th>\n",
       "      <th>DataSrc</th>\n",
       "      <th>Acres</th>\n",
       "      <th>ExctAcr</th>\n",
       "      <th>LstSrvD</th>\n",
       "      <th>county</th>\n",
       "    </tr>\n",
       "  </thead>\n",
       "  <tbody>\n",
       "    <tr>\n",
       "      <th>0</th>\n",
       "      <td>6</td>\n",
       "      <td>1</td>\n",
       "      <td>1</td>\n",
       "      <td>157415_WSDA_SF_2015</td>\n",
       "      <td>Single Crop</td>\n",
       "      <td>Single Crop</td>\n",
       "      <td>Single Crop</td>\n",
       "      <td>1</td>\n",
       "      <td>251</td>\n",
       "      <td>Walla2015_157415_WSDA_SF_2015.png</td>\n",
       "      <td>...</td>\n",
       "      <td>157415_WSDA_SF_2015_46.03408928_-118.6901155_T...</td>\n",
       "      <td>46.034089</td>\n",
       "      <td>-118.690116</td>\n",
       "      <td>alfalfa seed</td>\n",
       "      <td>sprinkler</td>\n",
       "      <td>wsda</td>\n",
       "      <td>28</td>\n",
       "      <td>27.675520</td>\n",
       "      <td>2015/06/04 00:00:00</td>\n",
       "      <td>Walla Walla</td>\n",
       "    </tr>\n",
       "    <tr>\n",
       "      <th>1</th>\n",
       "      <td>6</td>\n",
       "      <td>2</td>\n",
       "      <td>1</td>\n",
       "      <td>155601_WSDA_SF_2015</td>\n",
       "      <td>Single Crop</td>\n",
       "      <td>Single Crop</td>\n",
       "      <td>Single Crop</td>\n",
       "      <td>2</td>\n",
       "      <td>252</td>\n",
       "      <td>Walla2015_155601_WSDA_SF_2015.png</td>\n",
       "      <td>...</td>\n",
       "      <td>155601_WSDA_SF_2015_46.0291209_-118.73977856_T...</td>\n",
       "      <td>46.029121</td>\n",
       "      <td>-118.739779</td>\n",
       "      <td>alfalfa seed</td>\n",
       "      <td>sprinkler</td>\n",
       "      <td>wsda</td>\n",
       "      <td>111</td>\n",
       "      <td>110.768754</td>\n",
       "      <td>2015/06/04 00:00:00</td>\n",
       "      <td>Walla Walla</td>\n",
       "    </tr>\n",
       "  </tbody>\n",
       "</table>\n",
       "<p>2 rows × 21 columns</p>\n",
       "</div>"
      ],
      "text/plain": [
       "  Disagreement_form disagreement_Question opinion_count                   ID  \\\n",
       "0                 6                     1             1  157415_WSDA_SF_2015   \n",
       "1                 6                     2             1  155601_WSDA_SF_2015   \n",
       "\n",
       "    PerrysVote  AndrewsVote     TimsVote  Question_in_set  Question_overall  \\\n",
       "0  Single Crop  Single Crop  Single Crop                1               251   \n",
       "1  Single Crop  Single Crop  Single Crop                2               252   \n",
       "\n",
       "                        NDVI_TS_Name  ...  \\\n",
       "0  Walla2015_157415_WSDA_SF_2015.png  ...   \n",
       "1  Walla2015_155601_WSDA_SF_2015.png  ...   \n",
       "\n",
       "                                             TOA_RGB   latitude   longitude  \\\n",
       "0  157415_WSDA_SF_2015_46.03408928_-118.6901155_T...  46.034089 -118.690116   \n",
       "1  155601_WSDA_SF_2015_46.0291209_-118.73977856_T...  46.029121 -118.739779   \n",
       "\n",
       "        CropTyp    Irrigtn DataSrc Acres     ExctAcr              LstSrvD  \\\n",
       "0  alfalfa seed  sprinkler    wsda    28   27.675520  2015/06/04 00:00:00   \n",
       "1  alfalfa seed  sprinkler    wsda   111  110.768754  2015/06/04 00:00:00   \n",
       "\n",
       "        county  \n",
       "0  Walla Walla  \n",
       "1  Walla Walla  \n",
       "\n",
       "[2 rows x 21 columns]"
      ]
     },
     "execution_count": 9,
     "metadata": {},
     "output_type": "execute_result"
    }
   ],
   "source": [
    "print (extended_output.shape)\n",
    "extended_output.head(2)"
   ]
  },
  {
   "cell_type": "code",
   "execution_count": 10,
   "id": "86cb3c93",
   "metadata": {},
   "outputs": [
    {
     "data": {
      "text/html": [
       "<div>\n",
       "<style scoped>\n",
       "    .dataframe tbody tr th:only-of-type {\n",
       "        vertical-align: middle;\n",
       "    }\n",
       "\n",
       "    .dataframe tbody tr th {\n",
       "        vertical-align: top;\n",
       "    }\n",
       "\n",
       "    .dataframe thead th {\n",
       "        text-align: right;\n",
       "    }\n",
       "</style>\n",
       "<table border=\"1\" class=\"dataframe\">\n",
       "  <thead>\n",
       "    <tr style=\"text-align: right;\">\n",
       "      <th></th>\n",
       "      <th>opinion_count</th>\n",
       "      <th>ID</th>\n",
       "      <th>PerrysVote</th>\n",
       "      <th>AndrewsVote</th>\n",
       "      <th>TimsVote</th>\n",
       "      <th>CropTyp</th>\n",
       "    </tr>\n",
       "  </thead>\n",
       "  <tbody>\n",
       "    <tr>\n",
       "      <th>0</th>\n",
       "      <td>1</td>\n",
       "      <td>157415_WSDA_SF_2015</td>\n",
       "      <td>Single Crop</td>\n",
       "      <td>Single Crop</td>\n",
       "      <td>Single Crop</td>\n",
       "      <td>alfalfa seed</td>\n",
       "    </tr>\n",
       "    <tr>\n",
       "      <th>1</th>\n",
       "      <td>1</td>\n",
       "      <td>155601_WSDA_SF_2015</td>\n",
       "      <td>Single Crop</td>\n",
       "      <td>Single Crop</td>\n",
       "      <td>Single Crop</td>\n",
       "      <td>alfalfa seed</td>\n",
       "    </tr>\n",
       "  </tbody>\n",
       "</table>\n",
       "</div>"
      ],
      "text/plain": [
       "  opinion_count                   ID   PerrysVote  AndrewsVote     TimsVote  \\\n",
       "0             1  157415_WSDA_SF_2015  Single Crop  Single Crop  Single Crop   \n",
       "1             1  155601_WSDA_SF_2015  Single Crop  Single Crop  Single Crop   \n",
       "\n",
       "        CropTyp  \n",
       "0  alfalfa seed  \n",
       "1  alfalfa seed  "
      ]
     },
     "execution_count": 10,
     "metadata": {},
     "output_type": "execute_result"
    }
   ],
   "source": [
    "drop_cols = ['Disagreement_form', 'disagreement_Question', 'NDVI_TS_Name', 'corrected_RGB', \n",
    "             'TOA_RGB', 'latitude', 'longitude', 'Irrigtn', 'DataSrc', 'Acres',\n",
    "             'ExctAcr', 'LstSrvD', 'county', 'Question_in_set', 'Question_overall']\n",
    "extended_output.drop(labels=drop_cols, axis=1, inplace=True)\n",
    "extended_output.head(2)"
   ]
  },
  {
   "cell_type": "code",
   "execution_count": 11,
   "id": "be862c25",
   "metadata": {},
   "outputs": [
    {
     "name": "stdout",
     "output_type": "stream",
     "text": [
      "(174, 6)\n",
      "(174, 9)\n",
      "(174, 9)\n"
     ]
    }
   ],
   "source": [
    "pre_meeting_agreements = extended_output[extended_output.opinion_count==1].copy()\n",
    "print (pre_meeting_agreements.shape)\n",
    "double_place=['Mustard Crop', 'Either double or mustard crop']\n",
    "#\n",
    "# Correct Perry's vote so that mustard shit is labeled as double-cropped\n",
    "#\n",
    "\n",
    "pre_meeting_agreements['PerryVCorrected']=pre_meeting_agreements['PerrysVote']\n",
    "idx = pre_meeting_agreements[pre_meeting_agreements.PerryVCorrected.isin(double_place)].index\n",
    "pre_meeting_agreements.loc[idx, \"PerryVCorrected\"] = 'Double Crop'\n",
    "pre_meeting_agreements.head(2)\n",
    "\n",
    "#\n",
    "# Correct Andrew's vote so that mustard shit is labeled as double-cropped\n",
    "#\n",
    "pre_meeting_agreements['AndrewVCorrected']=pre_meeting_agreements['AndrewsVote']\n",
    "idx = pre_meeting_agreements[pre_meeting_agreements.AndrewVCorrected.isin(double_place)].index\n",
    "pre_meeting_agreements.loc[idx, \"AndrewVCorrected\"] = 'Double Crop'\n",
    "pre_meeting_agreements.head(2)\n",
    "\n",
    "#\n",
    "# Correct Tim's vote so that mustard shit is labeled as double-cropped\n",
    "#\n",
    "\n",
    "pre_meeting_agreements['TimsVCorrected']=pre_meeting_agreements['TimsVote']\n",
    "idx = pre_meeting_agreements[pre_meeting_agreements.TimsVCorrected.isin(double_place)].index\n",
    "pre_meeting_agreements.loc[idx, \"TimsVCorrected\"] = 'Double Crop'\n",
    "print (pre_meeting_agreements.shape)\n",
    "pre_meeting_agreements.head(2)\n",
    "\n",
    "\n",
    "\n",
    "pre_meeting_agreements = pre_meeting_agreements[pre_meeting_agreements.PerryVCorrected==\n",
    "                                                pre_meeting_agreements.AndrewVCorrected].copy()\n",
    "\n",
    "pre_meeting_agreements = pre_meeting_agreements[pre_meeting_agreements.PerryVCorrected==\n",
    "                                                pre_meeting_agreements.TimsVCorrected]\n",
    "\n",
    "print (pre_meeting_agreements.shape)\n",
    "\n",
    "# create Vote column in pre_meeting_agreements\n",
    "pre_meeting_agreements['Vote'] = 1\n",
    "pre_meeting_agreements.head(2)\n",
    "\n",
    "# Change Vote to 2 for double cropped fields\n",
    "double_index = pre_meeting_agreements[pre_meeting_agreements.PerryVCorrected==\"Double Crop\"].index\n",
    "pre_meeting_agreements.loc[double_index, 'Vote']=2\n",
    "pre_meeting_agreements = pre_meeting_agreements[[\"ID\", \n",
    "                                                 \"PerrysVote\", \"AndrewsVote\", \"TimsVote\", \n",
    "                                                 \"PerryVCorrected\", \"AndrewVCorrected\", \"TimsVCorrected\",\n",
    "                                                 \"Vote\"]]\n",
    "\n",
    "out_folder = \"/Users/hn/Documents/01_research_data/NASA/ML_data/\"\n",
    "out_name = out_folder + \"set1_premeeting_consensus.csv\"\n",
    "pre_meeting_agreements.to_csv(out_name, index = False)"
   ]
  },
  {
   "cell_type": "code",
   "execution_count": null,
   "id": "a5f20b54",
   "metadata": {},
   "outputs": [],
   "source": []
  },
  {
   "cell_type": "code",
   "execution_count": 12,
   "id": "2695e3db",
   "metadata": {},
   "outputs": [
    {
     "name": "stdout",
     "output_type": "stream",
     "text": [
      "(120, 6)\n"
     ]
    },
    {
     "data": {
      "text/html": [
       "<div>\n",
       "<style scoped>\n",
       "    .dataframe tbody tr th:only-of-type {\n",
       "        vertical-align: middle;\n",
       "    }\n",
       "\n",
       "    .dataframe tbody tr th {\n",
       "        vertical-align: top;\n",
       "    }\n",
       "\n",
       "    .dataframe thead th {\n",
       "        text-align: right;\n",
       "    }\n",
       "</style>\n",
       "<table border=\"1\" class=\"dataframe\">\n",
       "  <thead>\n",
       "    <tr style=\"text-align: right;\">\n",
       "      <th></th>\n",
       "      <th>opinion_count</th>\n",
       "      <th>ID</th>\n",
       "      <th>PerrysVote</th>\n",
       "      <th>AndrewsVote</th>\n",
       "      <th>TimsVote</th>\n",
       "      <th>CropTyp</th>\n",
       "    </tr>\n",
       "  </thead>\n",
       "  <tbody>\n",
       "    <tr>\n",
       "      <th>0</th>\n",
       "      <td>3</td>\n",
       "      <td>107177_WSDA_SF_2018</td>\n",
       "      <td>Double Crop</td>\n",
       "      <td>Either double or mustard crop</td>\n",
       "      <td>Single Crop</td>\n",
       "      <td>grass seed</td>\n",
       "    </tr>\n",
       "    <tr>\n",
       "      <th>1</th>\n",
       "      <td>2</td>\n",
       "      <td>106626_WSDA_SF_2018</td>\n",
       "      <td>Either double or mustard crop</td>\n",
       "      <td>Single Crop</td>\n",
       "      <td>Single Crop</td>\n",
       "      <td>grass seed</td>\n",
       "    </tr>\n",
       "  </tbody>\n",
       "</table>\n",
       "</div>"
      ],
      "text/plain": [
       "  opinion_count                   ID                     PerrysVote  \\\n",
       "0             3  107177_WSDA_SF_2018                    Double Crop   \n",
       "1             2  106626_WSDA_SF_2018  Either double or mustard crop   \n",
       "\n",
       "                     AndrewsVote     TimsVote     CropTyp  \n",
       "0  Either double or mustard crop  Single Crop  grass seed  \n",
       "1                    Single Crop  Single Crop  grass seed  "
      ]
     },
     "execution_count": 12,
     "metadata": {},
     "output_type": "execute_result"
    }
   ],
   "source": [
    "# pre_meeting_agreements = pre_meeting_agreements[pre_meeting_agreements.CropTyp != \"grass hay\"].copy()\n",
    "drop_cols = ['Disagreement_form', 'disagreement_Question', 'NDVI_TS_Name']\n",
    "disagreement_table.drop(labels=drop_cols, axis=1, inplace=True)\n",
    "print (disagreement_table.shape)\n",
    "disagreement_table.head(2)"
   ]
  },
  {
   "cell_type": "code",
   "execution_count": 13,
   "id": "a46b528f",
   "metadata": {},
   "outputs": [
    {
     "data": {
      "text/plain": [
       "294"
      ]
     },
     "execution_count": 13,
     "metadata": {},
     "output_type": "execute_result"
    }
   ],
   "source": [
    "174+120"
   ]
  },
  {
   "cell_type": "markdown",
   "id": "ee04303b",
   "metadata": {},
   "source": [
    "# Read Experts Consensus after the meeting"
   ]
  },
  {
   "cell_type": "code",
   "execution_count": 14,
   "id": "93e53e5a",
   "metadata": {},
   "outputs": [
    {
     "data": {
      "text/html": [
       "<div>\n",
       "<style scoped>\n",
       "    .dataframe tbody tr th:only-of-type {\n",
       "        vertical-align: middle;\n",
       "    }\n",
       "\n",
       "    .dataframe tbody tr th {\n",
       "        vertical-align: top;\n",
       "    }\n",
       "\n",
       "    .dataframe thead th {\n",
       "        text-align: right;\n",
       "    }\n",
       "</style>\n",
       "<table border=\"1\" class=\"dataframe\">\n",
       "  <thead>\n",
       "    <tr style=\"text-align: right;\">\n",
       "      <th></th>\n",
       "      <th>ID</th>\n",
       "      <th>Vote</th>\n",
       "    </tr>\n",
       "  </thead>\n",
       "  <tbody>\n",
       "    <tr>\n",
       "      <th>0</th>\n",
       "      <td>160546_WSDA_SF_2015</td>\n",
       "      <td>1</td>\n",
       "    </tr>\n",
       "    <tr>\n",
       "      <th>1</th>\n",
       "      <td>99837_WSDA_SF_2017</td>\n",
       "      <td>2</td>\n",
       "    </tr>\n",
       "  </tbody>\n",
       "</table>\n",
       "</div>"
      ],
      "text/plain": [
       "                    ID Vote\n",
       "0  160546_WSDA_SF_2015    1\n",
       "1   99837_WSDA_SF_2017    2"
      ]
     },
     "execution_count": 14,
     "metadata": {},
     "output_type": "execute_result"
    }
   ],
   "source": [
    "import pandas as pd\n",
    "expert_label_dir = \"/Users/hn/Documents/01_research_data/NASA/Perry_and_Co/\"\n",
    "file_name =  \"Expert_label_Consensus_Set1_Meeting.xlsx\"\n",
    "Labels_xls = pd.ExcelFile(expert_label_dir + file_name)\n",
    "sheet_names = Labels_xls.sheet_names  # see all sheet names\n",
    "Expert_label_Consensus = Labels_xls.parse(\"Expert_label_Consensus\")\n",
    "needed_cols = [\"ID\", \"Vote\"]\n",
    "Expert_label_Consensus = Expert_label_Consensus[needed_cols]\n",
    "Expert_label_Consensus.head(2)"
   ]
  },
  {
   "cell_type": "markdown",
   "id": "fc2fc711",
   "metadata": {},
   "source": [
    "# Some of the fucking fields in the meeting had consensus, but we needed to discuss them!!!\n",
    "\n",
    "Toss them out of Expert_label_Consensus and save the new and true Expert_label_Consensus!"
   ]
  },
  {
   "cell_type": "code",
   "execution_count": 19,
   "id": "6153d5f7",
   "metadata": {},
   "outputs": [],
   "source": [
    "disagreement_IDs = list(disagreement_table.ID.unique())\n",
    "Expert_label_Consensus = Expert_label_Consensus[Expert_label_Consensus.ID.isin(disagreement_IDs)]"
   ]
  },
  {
   "cell_type": "code",
   "execution_count": 24,
   "id": "2b83e107",
   "metadata": {},
   "outputs": [
    {
     "name": "stdout",
     "output_type": "stream",
     "text": [
      "[2 1]\n"
     ]
    }
   ],
   "source": [
    "Expert_label_Consensus.Vote.unique()\n",
    "\n",
    "Expert_label_Consensus = Expert_label_Consensus[Expert_label_Consensus.Vote.isin([1, 2])]\n",
    "Expert_label_Consensus.Vote = Expert_label_Consensus.Vote.astype(int)\n",
    "print (Expert_label_Consensus.Vote.unique())"
   ]
  },
  {
   "cell_type": "code",
   "execution_count": 25,
   "id": "1593dcf1",
   "metadata": {},
   "outputs": [
    {
     "data": {
      "text/plain": [
       "(111, 2)"
      ]
     },
     "execution_count": 25,
     "metadata": {},
     "output_type": "execute_result"
    }
   ],
   "source": [
    "Expert_label_Consensus.shape"
   ]
  },
  {
   "cell_type": "code",
   "execution_count": 26,
   "id": "40a15cb3",
   "metadata": {},
   "outputs": [],
   "source": [
    "out_folder = \"/Users/hn/Documents/01_research_data/NASA/ML_data/\"\n",
    "out_name = out_folder + \"set1_postmeeting_consensus.csv\"\n",
    "Expert_label_Consensus.to_csv(out_name, index = False)"
   ]
  },
  {
   "cell_type": "code",
   "execution_count": null,
   "id": "6469ae94",
   "metadata": {},
   "outputs": [],
   "source": []
  }
 ],
 "metadata": {
  "kernelspec": {
   "display_name": "Python 3 (ipykernel)",
   "language": "python",
   "name": "python3"
  },
  "language_info": {
   "codemirror_mode": {
    "name": "ipython",
    "version": 3
   },
   "file_extension": ".py",
   "mimetype": "text/x-python",
   "name": "python",
   "nbconvert_exporter": "python",
   "pygments_lexer": "ipython3",
   "version": "3.9.7"
  }
 },
 "nbformat": 4,
 "nbformat_minor": 5
}
