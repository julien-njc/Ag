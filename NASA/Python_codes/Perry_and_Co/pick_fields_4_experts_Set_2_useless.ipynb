{
 "cells": [
  {
   "cell_type": "markdown",
   "id": "39e80500",
   "metadata": {},
   "source": [
    "# Fields for Experts \n",
    "\n",
    "Initially, we chose 250 fields manually for experts. Here I will make more sents by code."
   ]
  },
  {
   "cell_type": "code",
   "execution_count": 1,
   "id": "d32c418d",
   "metadata": {},
   "outputs": [],
   "source": [
    "import pandas as pd"
   ]
  },
  {
   "cell_type": "code",
   "execution_count": null,
   "id": "0b74390c",
   "metadata": {},
   "outputs": [],
   "source": []
  },
  {
   "cell_type": "code",
   "execution_count": 2,
   "id": "472e6479",
   "metadata": {},
   "outputs": [],
   "source": [
    "param_in_data_dir = \"/Users/hn/Documents/01_research_data/NASA/parameters/\""
   ]
  },
  {
   "cell_type": "markdown",
   "id": "00671c44",
   "metadata": {},
   "source": [
    "## Read all the ~6000 fields chosen previously"
   ]
  },
  {
   "cell_type": "code",
   "execution_count": 3,
   "id": "569c412f",
   "metadata": {},
   "outputs": [
    {
     "data": {
      "text/html": [
       "<div>\n",
       "<style scoped>\n",
       "    .dataframe tbody tr th:only-of-type {\n",
       "        vertical-align: middle;\n",
       "    }\n",
       "\n",
       "    .dataframe tbody tr th {\n",
       "        vertical-align: top;\n",
       "    }\n",
       "\n",
       "    .dataframe thead th {\n",
       "        text-align: right;\n",
       "    }\n",
       "</style>\n",
       "<table border=\"1\" class=\"dataframe\">\n",
       "  <thead>\n",
       "    <tr style=\"text-align: right;\">\n",
       "      <th></th>\n",
       "      <th>Question_overall</th>\n",
       "      <th>ID</th>\n",
       "      <th>NDVI_TS_Name</th>\n",
       "      <th>corrected_RGB</th>\n",
       "      <th>TOA_RGB</th>\n",
       "      <th>latitude</th>\n",
       "      <th>longitude</th>\n",
       "      <th>Question Text</th>\n",
       "      <th>CropTyp</th>\n",
       "      <th>Irrigtn</th>\n",
       "      <th>DataSrc</th>\n",
       "      <th>Acres</th>\n",
       "      <th>ExctAcr</th>\n",
       "      <th>LstSrvD</th>\n",
       "      <th>county</th>\n",
       "    </tr>\n",
       "  </thead>\n",
       "  <tbody>\n",
       "    <tr>\n",
       "      <th>0</th>\n",
       "      <td>1</td>\n",
       "      <td>104119_WSDA_SF_2016</td>\n",
       "      <td>AdamBenton2016_104119_WSDA_SF_2016.png</td>\n",
       "      <td>104119_WSDA_SF_2016_46.83273927_-118.91209151_...</td>\n",
       "      <td>104119_WSDA_SF_2016_46.83273927_-118.91209151_...</td>\n",
       "      <td>46.832739</td>\n",
       "      <td>-118.912092</td>\n",
       "      <td>How would you label this field?</td>\n",
       "      <td>alfalfa hay</td>\n",
       "      <td>center pivot</td>\n",
       "      <td>wsda</td>\n",
       "      <td>26</td>\n",
       "      <td>26.413875</td>\n",
       "      <td>2016/08/17 00:00:00</td>\n",
       "      <td>Adams</td>\n",
       "    </tr>\n",
       "  </tbody>\n",
       "</table>\n",
       "</div>"
      ],
      "text/plain": [
       "   Question_overall                   ID  \\\n",
       "0                 1  104119_WSDA_SF_2016   \n",
       "\n",
       "                             NDVI_TS_Name  \\\n",
       "0  AdamBenton2016_104119_WSDA_SF_2016.png   \n",
       "\n",
       "                                       corrected_RGB  \\\n",
       "0  104119_WSDA_SF_2016_46.83273927_-118.91209151_...   \n",
       "\n",
       "                                             TOA_RGB   latitude   longitude  \\\n",
       "0  104119_WSDA_SF_2016_46.83273927_-118.91209151_...  46.832739 -118.912092   \n",
       "\n",
       "                     Question Text      CropTyp       Irrigtn DataSrc  Acres  \\\n",
       "0  How would you label this field?  alfalfa hay  center pivot    wsda     26   \n",
       "\n",
       "     ExctAcr              LstSrvD county  \n",
       "0  26.413875  2016/08/17 00:00:00  Adams  "
      ]
     },
     "execution_count": 3,
     "metadata": {},
     "output_type": "execute_result"
    }
   ],
   "source": [
    "evaluation_set = pd.read_csv(param_in_data_dir + \"Eshwar_Extensive.csv\")\n",
    "evaluation_set.drop(labels=['Text box Text', 'Question_overall'], axis='columns', inplace=True)\n",
    "evaluation_set.head(1)"
   ]
  },
  {
   "cell_type": "code",
   "execution_count": 4,
   "id": "2ec992d1",
   "metadata": {},
   "outputs": [
    {
     "data": {
      "text/plain": [
       "25"
      ]
     },
     "execution_count": 4,
     "metadata": {},
     "output_type": "execute_result"
    }
   ],
   "source": [
    "wanted_crops = ['bean, dry', 'bean, green', 'buckwheat', 'canola', 'carrot',\n",
    "                'triticale', 'market crops', 'grass hay', 'mint', 'onion', \n",
    "                'barley', 'barley hay', 'oat hay', 'yellow mustard', 'corn seed', \n",
    "                'corn, field', 'corn, sweet', 'wheat', 'potato', 'alfalfa seed', 'grass seed',\n",
    "                'bluegrass seed', 'pea seed', 'pea, dry', 'pea, green']\n",
    "wanted_crops = sorted(wanted_crops)\n",
    "len(wanted_crops)"
   ]
  },
  {
   "cell_type": "code",
   "execution_count": 5,
   "id": "5842a89f",
   "metadata": {},
   "outputs": [],
   "source": [
    "# Pick up the crops that Kirti wanted\n",
    "evaluation_set = evaluation_set[evaluation_set.CropTyp.isin(wanted_crops)]"
   ]
  },
  {
   "cell_type": "markdown",
   "id": "0de1967d",
   "metadata": {},
   "source": [
    "## Read the first set; 295 fields labeled in the first set"
   ]
  },
  {
   "cell_type": "code",
   "execution_count": 6,
   "id": "8c75c58d",
   "metadata": {},
   "outputs": [],
   "source": [
    "perry_dir = \"/Users/hn/Documents/01_research_data/NASA/Perry_and_Co/\""
   ]
  },
  {
   "cell_type": "code",
   "execution_count": 7,
   "id": "0b378c93",
   "metadata": {},
   "outputs": [],
   "source": [
    "csv_fields = pd.read_csv(perry_dir + \"set_1_experts_stats_extended_sortOpinionCrop.csv\")"
   ]
  },
  {
   "cell_type": "raw",
   "id": "90e96952",
   "metadata": {},
   "source": [
    "choices_set_1_exel = pd.ExcelFile(perry_dir + \"set1_PerryandCo.xlsx\")\n",
    "choices_set_1_sheet_names = choices_set_1_exel.sheet_names\n",
    "all_choices_exel = pd.DataFrame()\n",
    "\n",
    "for a_choice_sheet in choices_set_1_sheet_names:\n",
    "    # read a damn sheet\n",
    "    a_choice_sheet = choices_set_1_exel.parse(a_choice_sheet)\n",
    "    all_choices_exel = pd.concat([all_choices_exel, a_choice_sheet])\n",
    "\n",
    "all_choices_exel.shape\n",
    "# print('There are [{ques_count}] questions.'.format(ques_count=question_count))\n",
    "# sorted(csv_fields.ID) == sorted(all_choices_exel.ID)"
   ]
  },
  {
   "cell_type": "code",
   "execution_count": 8,
   "id": "66f05705",
   "metadata": {},
   "outputs": [
    {
     "name": "stdout",
     "output_type": "stream",
     "text": [
      "There are [51] crops of type [alfalfa seed].\n",
      "There are [17] crops of type [barley].\n",
      "There are [42] crops of type [barley hay].\n",
      "There are [79] crops of type [bean, dry].\n",
      "There are [48] crops of type [bean, green].\n",
      "There are [50] crops of type [bluegrass seed].\n",
      "There are [50] crops of type [buckwheat].\n",
      "There are [27] crops of type [canola].\n",
      "There are [50] crops of type [carrot].\n",
      "There are [50] crops of type [corn seed].\n",
      "There are [415] crops of type [corn, field].\n",
      "There are [89] crops of type [corn, sweet].\n",
      "There are [132] crops of type [grass hay].\n",
      "There are [43] crops of type [grass seed].\n",
      "There are [50] crops of type [market crops].\n",
      "There are [50] crops of type [mint].\n",
      "There are [18] crops of type [oat hay].\n",
      "There are [56] crops of type [onion].\n",
      "There are [2] crops of type [pea seed].\n",
      "There are [32] crops of type [pea, dry].\n",
      "There are [50] crops of type [pea, green].\n",
      "There are [215] crops of type [potato].\n",
      "There are [22] crops of type [triticale].\n",
      "There are [258] crops of type [wheat].\n",
      "There are [29] crops of type [yellow mustard].\n"
     ]
    }
   ],
   "source": [
    "for a_crop in wanted_crops:\n",
    "    a_df = evaluation_set[evaluation_set.CropTyp == a_crop]\n",
    "    print('There are [{field_count}] crops of type [{curr_crop}].'.format(field_count=a_df.shape[0], \n",
    "                                                                          curr_crop=a_crop))"
   ]
  },
  {
   "cell_type": "code",
   "execution_count": 10,
   "id": "638b96a3",
   "metadata": {},
   "outputs": [
    {
     "data": {
      "text/html": [
       "<div>\n",
       "<style scoped>\n",
       "    .dataframe tbody tr th:only-of-type {\n",
       "        vertical-align: middle;\n",
       "    }\n",
       "\n",
       "    .dataframe tbody tr th {\n",
       "        vertical-align: top;\n",
       "    }\n",
       "\n",
       "    .dataframe thead th {\n",
       "        text-align: right;\n",
       "    }\n",
       "</style>\n",
       "<table border=\"1\" class=\"dataframe\">\n",
       "  <thead>\n",
       "    <tr style=\"text-align: right;\">\n",
       "      <th></th>\n",
       "      <th>Question_overall</th>\n",
       "      <th>ID</th>\n",
       "      <th>NDVI_TS_Name</th>\n",
       "      <th>corrected_RGB</th>\n",
       "      <th>TOA_RGB</th>\n",
       "      <th>latitude</th>\n",
       "      <th>longitude</th>\n",
       "      <th>Question Text</th>\n",
       "      <th>CropTyp</th>\n",
       "      <th>Irrigtn</th>\n",
       "      <th>DataSrc</th>\n",
       "      <th>Acres</th>\n",
       "      <th>ExctAcr</th>\n",
       "      <th>LstSrvD</th>\n",
       "      <th>county</th>\n",
       "    </tr>\n",
       "  </thead>\n",
       "  <tbody>\n",
       "    <tr>\n",
       "      <th>483</th>\n",
       "      <td>484</td>\n",
       "      <td>52638_WSDA_SF_2016</td>\n",
       "      <td>AdamBenton2016_52638_WSDA_SF_2016.png</td>\n",
       "      <td>52638_WSDA_SF_2016_46.99338282_-118.97934807_c...</td>\n",
       "      <td>52638_WSDA_SF_2016_46.99338282_-118.97934807_T...</td>\n",
       "      <td>46.993383</td>\n",
       "      <td>-118.979348</td>\n",
       "      <td>How would you label this field?</td>\n",
       "      <td>alfalfa seed</td>\n",
       "      <td>rill</td>\n",
       "      <td>wsda</td>\n",
       "      <td>37</td>\n",
       "      <td>37.102631</td>\n",
       "      <td>2016/08/24 00:00:00</td>\n",
       "      <td>Adams</td>\n",
       "    </tr>\n",
       "    <tr>\n",
       "      <th>484</th>\n",
       "      <td>485</td>\n",
       "      <td>148920_WSDA_SF_2015</td>\n",
       "      <td>Walla2015_148920_WSDA_SF_2015.png</td>\n",
       "      <td>148920_WSDA_SF_2015_46.03609783_-118.72012153_...</td>\n",
       "      <td>148920_WSDA_SF_2015_46.03609783_-118.72012153_...</td>\n",
       "      <td>46.036098</td>\n",
       "      <td>-118.720122</td>\n",
       "      <td>How would you label this field?</td>\n",
       "      <td>alfalfa seed</td>\n",
       "      <td>sprinkler</td>\n",
       "      <td>wsda</td>\n",
       "      <td>2</td>\n",
       "      <td>2.197327</td>\n",
       "      <td>2015/06/04 00:00:00</td>\n",
       "      <td>Walla Walla</td>\n",
       "    </tr>\n",
       "  </tbody>\n",
       "</table>\n",
       "</div>"
      ],
      "text/plain": [
       "     Question_overall                   ID  \\\n",
       "483               484   52638_WSDA_SF_2016   \n",
       "484               485  148920_WSDA_SF_2015   \n",
       "\n",
       "                              NDVI_TS_Name  \\\n",
       "483  AdamBenton2016_52638_WSDA_SF_2016.png   \n",
       "484      Walla2015_148920_WSDA_SF_2015.png   \n",
       "\n",
       "                                         corrected_RGB  \\\n",
       "483  52638_WSDA_SF_2016_46.99338282_-118.97934807_c...   \n",
       "484  148920_WSDA_SF_2015_46.03609783_-118.72012153_...   \n",
       "\n",
       "                                               TOA_RGB   latitude   longitude  \\\n",
       "483  52638_WSDA_SF_2016_46.99338282_-118.97934807_T...  46.993383 -118.979348   \n",
       "484  148920_WSDA_SF_2015_46.03609783_-118.72012153_...  46.036098 -118.720122   \n",
       "\n",
       "                       Question Text       CropTyp    Irrigtn DataSrc  Acres  \\\n",
       "483  How would you label this field?  alfalfa seed       rill    wsda     37   \n",
       "484  How would you label this field?  alfalfa seed  sprinkler    wsda      2   \n",
       "\n",
       "       ExctAcr              LstSrvD       county  \n",
       "483  37.102631  2016/08/24 00:00:00        Adams  \n",
       "484   2.197327  2015/06/04 00:00:00  Walla Walla  "
      ]
     },
     "execution_count": 10,
     "metadata": {},
     "output_type": "execute_result"
    }
   ],
   "source": [
    "evaluation_set.head(2)"
   ]
  },
  {
   "cell_type": "code",
   "execution_count": 9,
   "id": "02358e10",
   "metadata": {},
   "outputs": [],
   "source": [
    "min_no_fields = 10\n",
    "\n",
    "for set_count in range(2, 5):\n",
    "    curr_set = pd.DataFrame()\n",
    "    for a_crop in wanted_crops:\n",
    "        a_df = evaluation_set[evaluation_set.CropTyp == a_crop].copy()\n",
    "        row = min(min_no_fields, a_df.shape[0])\n",
    "        a_df = a_df.iloc[0:row, ].copy()\n",
    "        curr_set = pd.concat([curr_set, a_df])\n",
    "    \n",
    "    out_name = perry_dir + \"set_\" + str(set_count) + \".csv\"\n",
    "    curr_set.to_csv(out_name, index = False)\n",
    "    \n",
    "    # Get rid of fields that are already chosen\n",
    "    evaluation_set = evaluation_set[~(evaluation_set.ID.isin(list(curr_set.ID)))].copy()"
   ]
  },
  {
   "cell_type": "code",
   "execution_count": null,
   "id": "44cb86cd",
   "metadata": {},
   "outputs": [],
   "source": [
    "# set_2 = pd.read_csv(perry_dir + \"set_2.csv\")\n",
    "# set_3 = pd.read_csv(perry_dir + \"set_3.csv\")\n",
    "# set_4 = pd.read_csv(perry_dir + \"set_4.csv\")"
   ]
  },
  {
   "cell_type": "code",
   "execution_count": 12,
   "id": "443ac783",
   "metadata": {},
   "outputs": [],
   "source": [
    "del(curr_set, set_count)"
   ]
  },
  {
   "cell_type": "markdown",
   "id": "a90c46ee",
   "metadata": {},
   "source": [
    "### Write the sets in excel format"
   ]
  },
  {
   "cell_type": "code",
   "execution_count": 16,
   "id": "e3942fbe",
   "metadata": {},
   "outputs": [],
   "source": [
    "no_questions = 50\n",
    "\n",
    "writer_limited = pd.ExcelWriter(perry_dir + 'set_2_to_4.xlsx', engine='xlsxwriter') \n",
    "\n",
    "for set_count in range(2, 5):\n",
    "    curr_set = pd.read_csv(perry_dir + \"set_\" + str(set_count) + \".csv\")\n",
    "    curr_set.sort_values(by=['CropTyp', 'county', \"ID\"], inplace=True)\n",
    "\n",
    "    if curr_set.shape[0] % no_questions != 0:\n",
    "        no_dfs = curr_set.shape[0] // no_questions + 1\n",
    "    else:\n",
    "        no_dfs = curr_set.shape[0] // no_questions\n",
    "\n",
    "    for ii in range(no_dfs):\n",
    "        curr_sheet = curr_set.loc[(ii*no_questions): ((ii+1) * no_questions) - 1, ]\n",
    "        curr_sheet.reset_index(drop=True, inplace=True)\n",
    "        curr_sheet.to_excel(writer_limited, sheet_name= \"set_\" + str(set_count) + \"_form_\" + str(ii+1), index=False)\n",
    "\n",
    "writer_limited.save()"
   ]
  },
  {
   "cell_type": "code",
   "execution_count": 30,
   "id": "c9464a28",
   "metadata": {},
   "outputs": [
    {
     "data": {
      "text/plain": [
       "19"
      ]
     },
     "execution_count": 30,
     "metadata": {},
     "output_type": "execute_result"
    }
   ],
   "source": [
    "len(evaluation_set.CropTyp.unique())"
   ]
  },
  {
   "cell_type": "code",
   "execution_count": null,
   "id": "41fc4d01",
   "metadata": {},
   "outputs": [],
   "source": []
  },
  {
   "cell_type": "code",
   "execution_count": null,
   "id": "ceee4328",
   "metadata": {},
   "outputs": [],
   "source": []
  }
 ],
 "metadata": {
  "kernelspec": {
   "display_name": "Python 3 (ipykernel)",
   "language": "python",
   "name": "python3"
  },
  "language_info": {
   "codemirror_mode": {
    "name": "ipython",
    "version": 3
   },
   "file_extension": ".py",
   "mimetype": "text/x-python",
   "name": "python",
   "nbconvert_exporter": "python",
   "pygments_lexer": "ipython3",
   "version": "3.9.7"
  }
 },
 "nbformat": 4,
 "nbformat_minor": 5
}
