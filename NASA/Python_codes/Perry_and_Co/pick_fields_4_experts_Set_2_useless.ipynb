{
 "cells": [
  {
   "cell_type": "markdown",
   "id": "39e80500",
   "metadata": {},
   "source": [
    "# Fields for Experts \n",
    "\n",
    "Initially, we chose 250 fields manually for experts. Here I will make more sets by code."
   ]
  },
  {
   "cell_type": "code",
   "execution_count": 30,
   "id": "d32c418d",
   "metadata": {},
   "outputs": [],
   "source": [
    "import pandas as pd"
   ]
  },
  {
   "cell_type": "code",
   "execution_count": 31,
   "id": "472e6479",
   "metadata": {},
   "outputs": [],
   "source": [
    "param_in_data_dir = \"/Users/hn/Documents/01_research_data/NASA/parameters/\""
   ]
  },
  {
   "cell_type": "markdown",
   "id": "00671c44",
   "metadata": {},
   "source": [
    "## Read all the ~6000 fields chosen previously"
   ]
  },
  {
   "cell_type": "code",
   "execution_count": 58,
   "id": "569c412f",
   "metadata": {},
   "outputs": [
    {
     "name": "stdout",
     "output_type": "stream",
     "text": [
      "(6340, 14)\n"
     ]
    },
    {
     "data": {
      "text/html": [
       "<div>\n",
       "<style scoped>\n",
       "    .dataframe tbody tr th:only-of-type {\n",
       "        vertical-align: middle;\n",
       "    }\n",
       "\n",
       "    .dataframe tbody tr th {\n",
       "        vertical-align: top;\n",
       "    }\n",
       "\n",
       "    .dataframe thead th {\n",
       "        text-align: right;\n",
       "    }\n",
       "</style>\n",
       "<table border=\"1\" class=\"dataframe\">\n",
       "  <thead>\n",
       "    <tr style=\"text-align: right;\">\n",
       "      <th></th>\n",
       "      <th>ID</th>\n",
       "      <th>NDVI_TS_Name</th>\n",
       "      <th>corrected_RGB</th>\n",
       "      <th>TOA_RGB</th>\n",
       "      <th>latitude</th>\n",
       "      <th>longitude</th>\n",
       "      <th>Question Text</th>\n",
       "      <th>CropTyp</th>\n",
       "      <th>Irrigtn</th>\n",
       "      <th>DataSrc</th>\n",
       "      <th>Acres</th>\n",
       "      <th>ExctAcr</th>\n",
       "      <th>LstSrvD</th>\n",
       "      <th>county</th>\n",
       "    </tr>\n",
       "  </thead>\n",
       "  <tbody>\n",
       "    <tr>\n",
       "      <th>0</th>\n",
       "      <td>104119_WSDA_SF_2016</td>\n",
       "      <td>AdamBenton2016_104119_WSDA_SF_2016.png</td>\n",
       "      <td>104119_WSDA_SF_2016_46.83273927_-118.91209151_...</td>\n",
       "      <td>104119_WSDA_SF_2016_46.83273927_-118.91209151_...</td>\n",
       "      <td>46.832739</td>\n",
       "      <td>-118.912092</td>\n",
       "      <td>How would you label this field?</td>\n",
       "      <td>alfalfa hay</td>\n",
       "      <td>center pivot</td>\n",
       "      <td>wsda</td>\n",
       "      <td>26</td>\n",
       "      <td>26.413875</td>\n",
       "      <td>2016/08/17 00:00:00</td>\n",
       "      <td>Adams</td>\n",
       "    </tr>\n",
       "  </tbody>\n",
       "</table>\n",
       "</div>"
      ],
      "text/plain": [
       "                    ID                            NDVI_TS_Name  \\\n",
       "0  104119_WSDA_SF_2016  AdamBenton2016_104119_WSDA_SF_2016.png   \n",
       "\n",
       "                                       corrected_RGB  \\\n",
       "0  104119_WSDA_SF_2016_46.83273927_-118.91209151_...   \n",
       "\n",
       "                                             TOA_RGB   latitude   longitude  \\\n",
       "0  104119_WSDA_SF_2016_46.83273927_-118.91209151_...  46.832739 -118.912092   \n",
       "\n",
       "                     Question Text      CropTyp       Irrigtn DataSrc  Acres  \\\n",
       "0  How would you label this field?  alfalfa hay  center pivot    wsda     26   \n",
       "\n",
       "     ExctAcr              LstSrvD county  \n",
       "0  26.413875  2016/08/17 00:00:00  Adams  "
      ]
     },
     "execution_count": 58,
     "metadata": {},
     "output_type": "execute_result"
    }
   ],
   "source": [
    "evaluation_set = pd.read_csv(param_in_data_dir + \"Eshwar_Extensive.csv\")\n",
    "evaluation_set.drop(labels=['Text box Text', 'Question_overall'], axis='columns', inplace=True)\n",
    "print (evaluation_set.shape)\n",
    "evaluation_set.head(1)"
   ]
  },
  {
   "cell_type": "code",
   "execution_count": 59,
   "id": "f532caeb",
   "metadata": {},
   "outputs": [],
   "source": [
    "# E = pd.read_csv(\"/Users/hn/Documents/01_research_data/NASA/parameters/evaluation_set.csv\")"
   ]
  },
  {
   "cell_type": "code",
   "execution_count": 33,
   "id": "65cd0a7b",
   "metadata": {},
   "outputs": [
    {
     "data": {
      "text/plain": [
       "['alfalfa hay',\n",
       " 'alfalfa seed',\n",
       " 'alfalfa/grass hay',\n",
       " 'alkali bee bed',\n",
       " 'apple',\n",
       " 'apricot',\n",
       " 'asparagus',\n",
       " 'barley',\n",
       " 'barley hay',\n",
       " 'bean, dry',\n",
       " 'bean, green',\n",
       " 'blueberry',\n",
       " 'bluegrass seed',\n",
       " 'buckwheat',\n",
       " 'caneberry',\n",
       " 'canola',\n",
       " 'carrot',\n",
       " 'carrot seed',\n",
       " 'cherry',\n",
       " 'corn seed',\n",
       " 'corn, field',\n",
       " 'corn, sweet',\n",
       " 'fallow',\n",
       " 'fallow, idle',\n",
       " 'fallow, tilled',\n",
       " 'fescue seed',\n",
       " 'grape, juice',\n",
       " 'grape, wine',\n",
       " 'grass hay',\n",
       " 'grass seed',\n",
       " 'hops',\n",
       " 'market crops',\n",
       " 'medicinal herb',\n",
       " 'mint',\n",
       " 'mustard',\n",
       " 'nectarine/peach',\n",
       " 'oat hay',\n",
       " 'onion',\n",
       " 'onion seed',\n",
       " 'orchard, unknown',\n",
       " 'pasture',\n",
       " 'pea seed',\n",
       " 'pea, dry',\n",
       " 'pea, green',\n",
       " 'pear',\n",
       " 'pepper',\n",
       " 'plum',\n",
       " 'poplar',\n",
       " 'potato',\n",
       " 'pumpkin',\n",
       " 'ryegrass seed',\n",
       " 'sod farm',\n",
       " 'squash',\n",
       " 'sudangrass',\n",
       " 'sugar beet',\n",
       " 'sugar beet seed',\n",
       " 'sunflower',\n",
       " 'sunflower seed',\n",
       " 'timothy',\n",
       " 'triticale',\n",
       " 'triticale hay',\n",
       " 'unknown',\n",
       " 'walnut',\n",
       " 'watermelon',\n",
       " 'wheat',\n",
       " 'wheat fallow',\n",
       " 'wildlife feed',\n",
       " 'yellow mustard']"
      ]
     },
     "execution_count": 33,
     "metadata": {},
     "output_type": "execute_result"
    }
   ],
   "source": [
    "sorted(evaluation_set.CropTyp.unique())"
   ]
  },
  {
   "cell_type": "code",
   "execution_count": 34,
   "id": "2ec992d1",
   "metadata": {},
   "outputs": [
    {
     "data": {
      "text/plain": [
       "25"
      ]
     },
     "execution_count": 34,
     "metadata": {},
     "output_type": "execute_result"
    }
   ],
   "source": [
    "wanted_crops = ['bean, dry', 'bean, green', 'buckwheat', 'canola', 'carrot',\n",
    "                'triticale', 'market crops', 'grass hay', 'mint', 'onion', \n",
    "                'barley', 'barley hay', 'oat hay', 'yellow mustard', 'corn seed', \n",
    "                'corn, field', 'corn, sweet', 'wheat', 'potato', 'alfalfa seed', 'grass seed',\n",
    "                'bluegrass seed', 'pea seed', 'pea, dry', 'pea, green']\n",
    "wanted_crops = sorted(wanted_crops)\n",
    "len(wanted_crops)"
   ]
  },
  {
   "cell_type": "code",
   "execution_count": 35,
   "id": "5842a89f",
   "metadata": {},
   "outputs": [
    {
     "data": {
      "text/plain": [
       "(1925, 14)"
      ]
     },
     "execution_count": 35,
     "metadata": {},
     "output_type": "execute_result"
    }
   ],
   "source": [
    "# Pick up the crops that Kirti wanted\n",
    "evaluation_set = evaluation_set[evaluation_set.CropTyp.isin(wanted_crops)]\n",
    "evaluation_set.shape"
   ]
  },
  {
   "cell_type": "markdown",
   "id": "0de1967d",
   "metadata": {},
   "source": [
    "## Read the first set; 294 fields labeled in the first set"
   ]
  },
  {
   "cell_type": "code",
   "execution_count": 36,
   "id": "8c75c58d",
   "metadata": {},
   "outputs": [],
   "source": [
    "perry_dir = \"/Users/hn/Documents/01_research_data/NASA/Perry_and_Co/\"\n",
    "set1_fields = pd.read_csv(perry_dir + \"set_1_experts_stats_extended_sortOpinionCrop.csv\")"
   ]
  },
  {
   "cell_type": "raw",
   "id": "90e96952",
   "metadata": {},
   "source": [
    "choices_set_1_exel = pd.ExcelFile(perry_dir + \"set1_PerryandCo.xlsx\")\n",
    "choices_set_1_sheet_names = choices_set_1_exel.sheet_names\n",
    "all_choices_exel = pd.DataFrame()\n",
    "\n",
    "for a_choice_sheet in choices_set_1_sheet_names:\n",
    "    # read a damn sheet\n",
    "    a_choice_sheet = choices_set_1_exel.parse(a_choice_sheet)\n",
    "    all_choices_exel = pd.concat([all_choices_exel, a_choice_sheet])\n",
    "\n",
    "all_choices_exel.shape\n",
    "# print('There are [{ques_count}] questions.'.format(ques_count=question_count))\n",
    "# sorted(set1_fields.ID) == sorted(all_choices_exel.ID)"
   ]
  },
  {
   "cell_type": "code",
   "execution_count": 37,
   "id": "66f05705",
   "metadata": {},
   "outputs": [
    {
     "name": "stdout",
     "output_type": "stream",
     "text": [
      "There are [51] crops of type [alfalfa seed].\n",
      "There are [17] crops of type [barley].\n",
      "There are [42] crops of type [barley hay].\n",
      "There are [79] crops of type [bean, dry].\n",
      "There are [48] crops of type [bean, green].\n",
      "There are [50] crops of type [bluegrass seed].\n",
      "There are [50] crops of type [buckwheat].\n",
      "There are [27] crops of type [canola].\n",
      "There are [50] crops of type [carrot].\n",
      "There are [50] crops of type [corn seed].\n",
      "There are [415] crops of type [corn, field].\n",
      "There are [89] crops of type [corn, sweet].\n",
      "There are [132] crops of type [grass hay].\n",
      "There are [43] crops of type [grass seed].\n",
      "There are [50] crops of type [market crops].\n",
      "There are [50] crops of type [mint].\n",
      "There are [18] crops of type [oat hay].\n",
      "There are [56] crops of type [onion].\n",
      "There are [2] crops of type [pea seed].\n",
      "There are [32] crops of type [pea, dry].\n",
      "There are [50] crops of type [pea, green].\n",
      "There are [215] crops of type [potato].\n",
      "There are [22] crops of type [triticale].\n",
      "There are [258] crops of type [wheat].\n",
      "There are [29] crops of type [yellow mustard].\n"
     ]
    }
   ],
   "source": [
    "for a_crop in wanted_crops:\n",
    "    a_df = evaluation_set[evaluation_set.CropTyp == a_crop]\n",
    "    print('There are [{field_count}] crops of type [{curr_crop}].'.format(field_count=a_df.shape[0], \n",
    "                                                                          curr_crop=a_crop))"
   ]
  },
  {
   "cell_type": "code",
   "execution_count": 38,
   "id": "b15f92fe",
   "metadata": {},
   "outputs": [
    {
     "name": "stdout",
     "output_type": "stream",
     "text": [
      "1925\n",
      "1925\n",
      "294\n",
      "294\n"
     ]
    }
   ],
   "source": [
    "print(len(evaluation_set.ID))\n",
    "print(len(evaluation_set.ID.unique()))\n",
    "\n",
    "print(len(set1_fields.ID))\n",
    "print(len(set1_fields.ID.unique()))"
   ]
  },
  {
   "cell_type": "code",
   "execution_count": 44,
   "id": "103b5987",
   "metadata": {},
   "outputs": [
    {
     "name": "stdout",
     "output_type": "stream",
     "text": [
      "(1640, 14)\n",
      "(285, 14)\n"
     ]
    }
   ],
   "source": [
    "print (evaluation_set[~(evaluation_set.ID.isin(list(set1_fields.ID)))].shape)\n",
    "print (evaluation_set[(evaluation_set.ID.isin(list(set1_fields.ID)))].shape)"
   ]
  },
  {
   "cell_type": "code",
   "execution_count": 45,
   "id": "ed0945e5",
   "metadata": {},
   "outputs": [
    {
     "data": {
      "text/plain": [
       "1925"
      ]
     },
     "execution_count": 45,
     "metadata": {},
     "output_type": "execute_result"
    }
   ],
   "source": [
    "1640+285"
   ]
  },
  {
   "cell_type": "code",
   "execution_count": 47,
   "id": "20b6d563",
   "metadata": {},
   "outputs": [
    {
     "name": "stdout",
     "output_type": "stream",
     "text": [
      "294\n",
      "294\n"
     ]
    }
   ],
   "source": [
    "print (len(set1_fields.ID))\n",
    "print (len(set1_fields.ID.unique()))"
   ]
  },
  {
   "cell_type": "code",
   "execution_count": 27,
   "id": "638b96a3",
   "metadata": {},
   "outputs": [
    {
     "name": "stdout",
     "output_type": "stream",
     "text": [
      "(1925, 14)\n"
     ]
    },
    {
     "data": {
      "text/plain": [
       "(1640, 14)"
      ]
     },
     "execution_count": 27,
     "metadata": {},
     "output_type": "execute_result"
    }
   ],
   "source": [
    "print (evaluation_set.shape)\n",
    "evaluation_set = evaluation_set[~(evaluation_set.ID.isin(list(set1_fields.ID)))]\n",
    "evaluation_set.shape"
   ]
  },
  {
   "cell_type": "code",
   "execution_count": 16,
   "id": "c2d4eddd",
   "metadata": {},
   "outputs": [
    {
     "data": {
      "text/plain": [
       "294"
      ]
     },
     "execution_count": 16,
     "metadata": {},
     "output_type": "execute_result"
    }
   ],
   "source": [
    "len(set1_fields.ID.unique())"
   ]
  },
  {
   "cell_type": "code",
   "execution_count": 28,
   "id": "dec0a303",
   "metadata": {},
   "outputs": [
    {
     "data": {
      "text/plain": [
       "1631"
      ]
     },
     "execution_count": 28,
     "metadata": {},
     "output_type": "execute_result"
    }
   ],
   "source": [
    "1925-294"
   ]
  },
  {
   "cell_type": "code",
   "execution_count": 17,
   "id": "d110451b",
   "metadata": {},
   "outputs": [
    {
     "data": {
      "text/plain": [
       "285"
      ]
     },
     "execution_count": 17,
     "metadata": {},
     "output_type": "execute_result"
    }
   ],
   "source": [
    "1925-1640"
   ]
  },
  {
   "cell_type": "code",
   "execution_count": 78,
   "id": "02358e10",
   "metadata": {},
   "outputs": [],
   "source": [
    "min_no_fields = 10\n",
    "\n",
    "for set_count in range(2, 5):\n",
    "    curr_set = pd.DataFrame()\n",
    "    for a_crop in wanted_crops:\n",
    "        a_df = evaluation_set[evaluation_set.CropTyp == a_crop].copy()\n",
    "        row = min(min_no_fields, a_df.shape[0])\n",
    "        a_df = a_df.iloc[0:row, ].copy()\n",
    "        curr_set = pd.concat([curr_set, a_df])\n",
    "    \n",
    "    out_name = perry_dir + \"Newset\" + str(set_count) + \".csv\"\n",
    "    curr_set.to_csv(out_name, index = False)"
   ]
  },
  {
   "cell_type": "code",
   "execution_count": null,
   "id": "44cb86cd",
   "metadata": {},
   "outputs": [],
   "source": [
    "# set_2 = pd.read_csv(perry_dir + \"set_2.csv\")\n",
    "# set_3 = pd.read_csv(perry_dir + \"set_3.csv\")\n",
    "# set_4 = pd.read_csv(perry_dir + \"set_4.csv\")"
   ]
  },
  {
   "cell_type": "code",
   "execution_count": 12,
   "id": "443ac783",
   "metadata": {},
   "outputs": [],
   "source": [
    "del(curr_set, set_count)"
   ]
  },
  {
   "cell_type": "markdown",
   "id": "a90c46ee",
   "metadata": {},
   "source": [
    "### Write the sets in excel format"
   ]
  },
  {
   "cell_type": "code",
   "execution_count": 16,
   "id": "e3942fbe",
   "metadata": {},
   "outputs": [],
   "source": [
    "no_questions = 50\n",
    "\n",
    "writer_limited = pd.ExcelWriter(perry_dir + 'set_2_to_4.xlsx', engine='xlsxwriter') \n",
    "\n",
    "for set_count in range(2, 5):\n",
    "    curr_set = pd.read_csv(perry_dir + \"set_\" + str(set_count) + \".csv\")\n",
    "    curr_set.sort_values(by=['CropTyp', 'county', \"ID\"], inplace=True)\n",
    "\n",
    "    if curr_set.shape[0] % no_questions != 0:\n",
    "        no_dfs = curr_set.shape[0] // no_questions + 1\n",
    "    else:\n",
    "        no_dfs = curr_set.shape[0] // no_questions\n",
    "\n",
    "    for ii in range(no_dfs):\n",
    "        curr_sheet = curr_set.loc[(ii*no_questions): ((ii+1) * no_questions) - 1, ]\n",
    "        curr_sheet.reset_index(drop=True, inplace=True)\n",
    "        curr_sheet.to_excel(writer_limited, sheet_name= \"set_\" + str(set_count) + \"_form_\" + str(ii+1), index=False)\n",
    "\n",
    "writer_limited.save()"
   ]
  },
  {
   "cell_type": "code",
   "execution_count": 30,
   "id": "c9464a28",
   "metadata": {},
   "outputs": [
    {
     "data": {
      "text/plain": [
       "19"
      ]
     },
     "execution_count": 30,
     "metadata": {},
     "output_type": "execute_result"
    }
   ],
   "source": [
    "len(evaluation_set.CropTyp.unique())"
   ]
  },
  {
   "cell_type": "code",
   "execution_count": null,
   "id": "41fc4d01",
   "metadata": {},
   "outputs": [],
   "source": []
  },
  {
   "cell_type": "code",
   "execution_count": null,
   "id": "ceee4328",
   "metadata": {},
   "outputs": [],
   "source": []
  }
 ],
 "metadata": {
  "kernelspec": {
   "display_name": "Python 3 (ipykernel)",
   "language": "python",
   "name": "python3"
  },
  "language_info": {
   "codemirror_mode": {
    "name": "ipython",
    "version": 3
   },
   "file_extension": ".py",
   "mimetype": "text/x-python",
   "name": "python",
   "nbconvert_exporter": "python",
   "pygments_lexer": "ipython3",
   "version": "3.9.12"
  }
 },
 "nbformat": 4,
 "nbformat_minor": 5
}
