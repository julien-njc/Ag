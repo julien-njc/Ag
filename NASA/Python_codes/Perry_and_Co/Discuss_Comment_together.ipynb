{
 "cells": [
  {
   "cell_type": "code",
   "execution_count": 1,
   "id": "d2278586",
   "metadata": {},
   "outputs": [],
   "source": [
    "import pandas as pd\n",
    "import csv\n",
    "\n",
    "import os, os.path\n",
    "import sys\n",
    "\n",
    "# to move files from one directory to another\n",
    "import shutil"
   ]
  },
  {
   "cell_type": "code",
   "execution_count": 2,
   "id": "f4883cb0",
   "metadata": {},
   "outputs": [],
   "source": [
    "perry_dir = \"/Users/hn/Documents/01_research_data/NASA/Perry_and_Co/\"\n",
    "plots_dir = \"/Users/hn/Documents/01_research_data/NASA/snapshots/TS/06_snapshot_flat_PNG/\""
   ]
  },
  {
   "cell_type": "code",
   "execution_count": 3,
   "id": "e0800dce",
   "metadata": {},
   "outputs": [],
   "source": [
    "# choices_set_1 = pd.read_excel(io=param_dir + \"set1_PerryandCo.xlsx\", sheet_name=0)\n",
    "# response_set_1 = pd.read_excel(io=param_dir + \"Perry_and_Co_Responses_set_1.xlsx\", sheet_name=0)"
   ]
  },
  {
   "cell_type": "code",
   "execution_count": 4,
   "id": "cd7d346b",
   "metadata": {},
   "outputs": [],
   "source": [
    "choices_set_1_xl = pd.ExcelFile(perry_dir + \"set1_PerryandCo.xlsx\")\n",
    "choises_set_1_sheet_names = choices_set_1_xl.sheet_names  # see all sheet names\n",
    "\n",
    "response_set_1_xl = pd.ExcelFile(perry_dir + \"Perry_and_Co_Responses_set_1.xlsx\")\n",
    "response_set_1_sheet_names = response_set_1_xl.sheet_names  # see all sheet names\n"
   ]
  },
  {
   "cell_type": "code",
   "execution_count": 5,
   "id": "bf38c2c8",
   "metadata": {},
   "outputs": [
    {
     "name": "stdout",
     "output_type": "stream",
     "text": [
      "['extended_1', 'extended_2', 'extended_3', 'extended_4', 'extended_5', 'extended_6']\n",
      "['S1 - F6', 'S1 - F5', 'S1 - F4', 'S1 - F3', 'S1 - F2', 'S1 - F1']\n"
     ]
    }
   ],
   "source": [
    "print (choises_set_1_sheet_names)\n",
    "print (response_set_1_sheet_names)"
   ]
  },
  {
   "cell_type": "code",
   "execution_count": 6,
   "id": "4668143c",
   "metadata": {},
   "outputs": [],
   "source": [
    "a_choice_sheet = choices_set_1_xl.parse(choises_set_1_sheet_names[5])\n",
    "sample_response = response_set_1_xl.parse(response_set_1_sheet_names[5])"
   ]
  },
  {
   "cell_type": "code",
   "execution_count": 7,
   "id": "92117ae1",
   "metadata": {},
   "outputs": [
    {
     "name": "stdout",
     "output_type": "stream",
     "text": [
      "['Question_in_set', 'Question_overall', 'ID', 'NDVI_TS_Name', 'corrected_RGB', 'TOA_RGB', 'latitude', 'longitude', 'CropTyp', 'Irrigtn', 'DataSrc', 'Acres', 'ExctAcr', 'LstSrvD', 'county']\n"
     ]
    }
   ],
   "source": [
    "print (list(a_choice_sheet.columns))"
   ]
  },
  {
   "cell_type": "markdown",
   "id": "2c86c64b",
   "metadata": {},
   "source": [
    "## Count number of questions"
   ]
  },
  {
   "cell_type": "code",
   "execution_count": 8,
   "id": "7e951785",
   "metadata": {},
   "outputs": [
    {
     "name": "stdout",
     "output_type": "stream",
     "text": [
      "There are [294] questions.\n"
     ]
    }
   ],
   "source": [
    "question_count = 0\n",
    "\n",
    "for a_choice_sheet in choises_set_1_sheet_names:\n",
    "    \n",
    "    # read a damn sheet\n",
    "    a_choice_sheet = choices_set_1_xl.parse(a_choice_sheet)\n",
    "\n",
    "    # add them to the damn list\n",
    "    question_count += a_choice_sheet.shape[0]\n",
    "\n",
    "print('There are [{ques_count}] questions.'.format(ques_count=question_count))"
   ]
  },
  {
   "cell_type": "code",
   "execution_count": 9,
   "id": "4b5690a1",
   "metadata": {},
   "outputs": [],
   "source": [
    "# unwanted_opinions = [\"kirtir@wsu.edu\"]"
   ]
  },
  {
   "cell_type": "code",
   "execution_count": 10,
   "id": "c177c5fe",
   "metadata": {},
   "outputs": [
    {
     "data": {
      "text/html": [
       "<div>\n",
       "<style scoped>\n",
       "    .dataframe tbody tr th:only-of-type {\n",
       "        vertical-align: middle;\n",
       "    }\n",
       "\n",
       "    .dataframe tbody tr th {\n",
       "        vertical-align: top;\n",
       "    }\n",
       "\n",
       "    .dataframe thead th {\n",
       "        text-align: right;\n",
       "    }\n",
       "</style>\n",
       "<table border=\"1\" class=\"dataframe\">\n",
       "  <thead>\n",
       "    <tr style=\"text-align: right;\">\n",
       "      <th></th>\n",
       "      <th>Timestamp</th>\n",
       "      <th>Email Address</th>\n",
       "      <th>QUESTION 1 : How would  you classify? \\n Ignore any late-fall/winter signatures such as fall planting of a crop, winter cover crops, or volunteers/weeds. \\n http://www.google.com/maps/place/45.99256829,-119.34481065/@45.99256829,-119.34481065,16z/data=!3m1!1e3 [Choose one option: ]</th>\n",
       "      <th>Discuss as a full group?</th>\n",
       "      <th>Comments</th>\n",
       "      <th>QUESTION 2 : How would  you classify? \\n Ignore any late-fall/winter signatures such as fall planting of a crop, winter cover crops, or volunteers/weeds. \\n http://www.google.com/maps/place/46.07535056,-119.65017789/@46.07535056,-119.65017789,16z/data=!3m1!1e3 [Choose one option: ]</th>\n",
       "      <th>Discuss as a full group?.1</th>\n",
       "      <th>Comments.1</th>\n",
       "      <th>QUESTION 3 : How would  you classify? \\n Ignore any late-fall/winter signatures such as fall planting of a crop, winter cover crops, or volunteers/weeds. \\n http://www.google.com/maps/place/45.96712978,-119.37401358/@45.96712978,-119.37401358,16z/data=!3m1!1e3 [Choose one option: ]</th>\n",
       "      <th>Discuss as a full group?.2</th>\n",
       "      <th>...</th>\n",
       "      <th>Comments.46</th>\n",
       "      <th>QUESTION 48 : How would  you classify? \\n Ignore any late-fall/winter signatures such as fall planting of a crop, winter cover crops, or volunteers/weeds. \\n http://www.google.com/maps/place/47.24441649,-119.80872437/@47.24441649,-119.80872437,16z/data=!3m1!1e3 [Choose one option: ]</th>\n",
       "      <th>Discuss as a full group?.47</th>\n",
       "      <th>Comments.47</th>\n",
       "      <th>QUESTION 49 : How would  you classify? \\n Ignore any late-fall/winter signatures such as fall planting of a crop, winter cover crops, or volunteers/weeds. \\n http://www.google.com/maps/place/46.29637591,-118.8213993/@46.29637591,-118.8213993,16z/data=!3m1!1e3 [Choose one option: ]</th>\n",
       "      <th>Discuss as a full group?.48</th>\n",
       "      <th>Comments.48</th>\n",
       "      <th>QUESTION 50 : How would  you classify? \\n Ignore any late-fall/winter signatures such as fall planting of a crop, winter cover crops, or volunteers/weeds. \\n http://www.google.com/maps/place/46.39197279,-119.23327008/@46.39197279,-119.23327008,16z/data=!3m1!1e3 [Choose one option: ]</th>\n",
       "      <th>Discuss as a full group?.49</th>\n",
       "      <th>Comments.49</th>\n",
       "    </tr>\n",
       "  </thead>\n",
       "  <tbody>\n",
       "    <tr>\n",
       "      <th>0</th>\n",
       "      <td>2022-02-02 06:36:57.993</td>\n",
       "      <td>kirtir@wsu.edu</td>\n",
       "      <td>Single Crop</td>\n",
       "      <td>Check for Yes</td>\n",
       "      <td>Weeds or volunteers  with herbicide given timi...</td>\n",
       "      <td>Single Crop</td>\n",
       "      <td>NaN</td>\n",
       "      <td>NaN</td>\n",
       "      <td>Single Crop</td>\n",
       "      <td>Check for Yes</td>\n",
       "      <td>...</td>\n",
       "      <td>NaN</td>\n",
       "      <td>Unsure</td>\n",
       "      <td>Check for Yes</td>\n",
       "      <td>NaN</td>\n",
       "      <td>Unsure</td>\n",
       "      <td>Check for Yes</td>\n",
       "      <td>NaN</td>\n",
       "      <td>Single Crop</td>\n",
       "      <td>NaN</td>\n",
       "      <td>NaN</td>\n",
       "    </tr>\n",
       "  </tbody>\n",
       "</table>\n",
       "<p>1 rows × 152 columns</p>\n",
       "</div>"
      ],
      "text/plain": [
       "                Timestamp   Email Address  \\\n",
       "0 2022-02-02 06:36:57.993  kirtir@wsu.edu   \n",
       "\n",
       "  QUESTION 1 : How would  you classify? \\n Ignore any late-fall/winter signatures such as fall planting of a crop, winter cover crops, or volunteers/weeds. \\n http://www.google.com/maps/place/45.99256829,-119.34481065/@45.99256829,-119.34481065,16z/data=!3m1!1e3 [Choose one option: ]  \\\n",
       "0                                        Single Crop                                                                                                                                                                                                                                           \n",
       "\n",
       "  Discuss as a full group?                                           Comments  \\\n",
       "0            Check for Yes  Weeds or volunteers  with herbicide given timi...   \n",
       "\n",
       "  QUESTION 2 : How would  you classify? \\n Ignore any late-fall/winter signatures such as fall planting of a crop, winter cover crops, or volunteers/weeds. \\n http://www.google.com/maps/place/46.07535056,-119.65017789/@46.07535056,-119.65017789,16z/data=!3m1!1e3 [Choose one option: ]  \\\n",
       "0                                        Single Crop                                                                                                                                                                                                                                           \n",
       "\n",
       "   Discuss as a full group?.1  Comments.1  \\\n",
       "0                         NaN         NaN   \n",
       "\n",
       "  QUESTION 3 : How would  you classify? \\n Ignore any late-fall/winter signatures such as fall planting of a crop, winter cover crops, or volunteers/weeds. \\n http://www.google.com/maps/place/45.96712978,-119.37401358/@45.96712978,-119.37401358,16z/data=!3m1!1e3 [Choose one option: ]  \\\n",
       "0                                        Single Crop                                                                                                                                                                                                                                           \n",
       "\n",
       "  Discuss as a full group?.2  ...  Comments.46  \\\n",
       "0              Check for Yes  ...          NaN   \n",
       "\n",
       "  QUESTION 48 : How would  you classify? \\n Ignore any late-fall/winter signatures such as fall planting of a crop, winter cover crops, or volunteers/weeds. \\n http://www.google.com/maps/place/47.24441649,-119.80872437/@47.24441649,-119.80872437,16z/data=!3m1!1e3 [Choose one option: ]  \\\n",
       "0                                             Unsure                                                                                                                                                                                                                                            \n",
       "\n",
       "  Discuss as a full group?.47  Comments.47  \\\n",
       "0               Check for Yes          NaN   \n",
       "\n",
       "  QUESTION 49 : How would  you classify? \\n Ignore any late-fall/winter signatures such as fall planting of a crop, winter cover crops, or volunteers/weeds. \\n http://www.google.com/maps/place/46.29637591,-118.8213993/@46.29637591,-118.8213993,16z/data=!3m1!1e3 [Choose one option: ]  \\\n",
       "0                                             Unsure                                                                                                                                                                                                                                          \n",
       "\n",
       "  Discuss as a full group?.48  Comments.48  \\\n",
       "0               Check for Yes          NaN   \n",
       "\n",
       "  QUESTION 50 : How would  you classify? \\n Ignore any late-fall/winter signatures such as fall planting of a crop, winter cover crops, or volunteers/weeds. \\n http://www.google.com/maps/place/46.39197279,-119.23327008/@46.39197279,-119.23327008,16z/data=!3m1!1e3 [Choose one option: ]  \\\n",
       "0                                        Single Crop                                                                                                                                                                                                                                            \n",
       "\n",
       "   Discuss as a full group?.49  Comments.49  \n",
       "0                          NaN          NaN  \n",
       "\n",
       "[1 rows x 152 columns]"
      ]
     },
     "execution_count": 10,
     "metadata": {},
     "output_type": "execute_result"
    }
   ],
   "source": [
    "sample_response.head(1)"
   ]
  },
  {
   "cell_type": "markdown",
   "id": "3e372982",
   "metadata": {},
   "source": [
    "### Discussion Table"
   ]
  },
  {
   "cell_type": "code",
   "execution_count": null,
   "id": "57b4e8de",
   "metadata": {},
   "outputs": [],
   "source": []
  },
  {
   "cell_type": "code",
   "execution_count": 11,
   "id": "2eec694c",
   "metadata": {},
   "outputs": [
    {
     "data": {
      "text/plain": [
       "(32, 21)"
      ]
     },
     "execution_count": 11,
     "metadata": {},
     "output_type": "execute_result"
    }
   ],
   "source": [
    "## Define the damn output dataframe\n",
    "\n",
    "discuss_table = pd.DataFrame(columns=['Discuss_Form', 'Discuss_Question', 'ID', \"Perry\", \"Andrew\", \"Tim\", \"Kirti\"], \n",
    "                         index=range(question_count))\n",
    "discuss_table.head(1)\n",
    "curr_row = 0\n",
    "\n",
    "extended_choices_discuss = pd.DataFrame()\n",
    "\n",
    "###### populate the output datafrme\n",
    "\n",
    "for response_sheet_name in response_set_1_sheet_names:\n",
    "    \n",
    "    # pick up the numeric part of the sheet names from google forms sheets\n",
    "    # this is the form number as well.\n",
    "    sheet_numeric_part = [s for s in response_sheet_name.split()[-1] if s.isdigit()]\n",
    "    sheet_numeric_part = \"\".join(sheet_numeric_part)\n",
    "    \n",
    "    # form sheet names of choices excel sheets\n",
    "    choise_sheet_name = \"extended_\" + sheet_numeric_part\n",
    "    \n",
    "    a_choice_sheet = choices_set_1_xl.parse(choise_sheet_name)\n",
    "    a_response_sheet = response_set_1_xl.parse(response_sheet_name)\n",
    "    \n",
    "    no_people_in_sheet = a_response_sheet.shape[0]\n",
    "    \n",
    "    extended_choices_discuss = pd.concat([extended_choices_discuss, a_choice_sheet])\n",
    "    #\n",
    "    # drop unwanted opinions, i.e. keep experts opinions\n",
    "    #\n",
    "    # a_response_sheet = a_response_sheet[~(a_response_sheet[\"Email Address\"].isin(unwanted_opinions))].copy()\n",
    "    \n",
    "    for a_col_name in a_response_sheet.columns:\n",
    "        if (\"Discuss\" in a_col_name) and (a_response_sheet[a_col_name].isna().sum()<no_people_in_sheet):\n",
    "            if a_col_name.split(\".\")[-1].isdigit():\n",
    "                question_number = str(int(a_col_name.split(\".\")[-1])+1)\n",
    "            else:\n",
    "                question_number = \"1\"\n",
    "            \n",
    "            discuss_table.loc[curr_row, \"Discuss_Form\"] = sheet_numeric_part\n",
    "            discuss_table.loc[curr_row, \"Discuss_Question\"] = question_number\n",
    "#            discuss_table.loc[curr_row, \"opinion_count\"] = len(a_response_sheet[a_col_name].unique())\n",
    "            discuss_table.loc[curr_row, \"ID\"] = a_choice_sheet.loc[int(question_number)-1, \"ID\"]\n",
    "            \n",
    "            discuss_table.loc[curr_row, \"Perry\"] = a_response_sheet[a_response_sheet[\"Email Address\"] == \\\n",
    "                                                                 \"pbeale@agr.wa.gov\"][a_col_name].values[0]\n",
    "            \n",
    "            discuss_table.loc[curr_row, \"Andrew\"] = a_response_sheet[a_response_sheet[\"Email Address\"] == \\\n",
    "                                                                 \"andrew.mcguire@wsu.edu\"][a_col_name].values[0]\n",
    "            \n",
    "            discuss_table.loc[curr_row, \"Tim\"] = a_response_sheet[a_response_sheet[\"Email Address\"] == \\\n",
    "                                                                 \"twaters@wsu.edu\"][a_col_name].values[0]\n",
    "            \n",
    "            if \"kirtir@wsu.edu\" in list(a_response_sheet[\"Email Address\"]):\n",
    "                discuss_table.loc[curr_row, \"Kirti\"] = a_response_sheet[a_response_sheet[\"Email Address\"] == \\\n",
    "                                                                 \"kirtir@wsu.edu\"][a_col_name].values[0]\n",
    "            \n",
    "            curr_row += 1\n",
    "            \n",
    "# drop rows where all row is NaNs\n",
    "discuss_table = discuss_table.dropna(axis=0, how='all')\n",
    "\n",
    "### Replace NaN with \"No\"\n",
    "discuss_table = discuss_table.fillna(\"No\")\n",
    "discuss_table_extended = pd.merge(discuss_table, extended_choices_discuss, on=['ID'], how='left')\n",
    "discuss_table_extended.shape"
   ]
  },
  {
   "cell_type": "code",
   "execution_count": null,
   "id": "268e817e",
   "metadata": {},
   "outputs": [],
   "source": []
  },
  {
   "cell_type": "markdown",
   "id": "0a9b839f",
   "metadata": {},
   "source": [
    "### Comments"
   ]
  },
  {
   "cell_type": "code",
   "execution_count": 12,
   "id": "8008a738",
   "metadata": {},
   "outputs": [
    {
     "data": {
      "text/plain": [
       "(34, 21)"
      ]
     },
     "execution_count": 12,
     "metadata": {},
     "output_type": "execute_result"
    }
   ],
   "source": [
    "## Define the damn output dataframe\n",
    "\n",
    "comment_table = pd.DataFrame(columns=['Comment_Form', 'Comment_Question', 'ID', \n",
    "                                      \"PerryComment\", \"AndrewComment\", \"TimComment\", \"KirtiComment\"], \n",
    "                         index=range(question_count))\n",
    "comment_table.head(1)\n",
    "curr_row = 0\n",
    "\n",
    "extended_choices_comment = pd.DataFrame()\n",
    "\n",
    "###### populate the output datafrme\n",
    "\n",
    "for response_sheet_name in response_set_1_sheet_names:\n",
    "    \n",
    "    # pick up the numeric part of the sheet names from google forms sheets\n",
    "    # this is the form number as well.\n",
    "    sheet_numeric_part = [s for s in response_sheet_name.split()[-1] if s.isdigit()]\n",
    "    sheet_numeric_part = \"\".join(sheet_numeric_part)\n",
    "    \n",
    "    # form sheet names of choices excel sheets\n",
    "    choise_sheet_name = \"extended_\" + sheet_numeric_part\n",
    "    \n",
    "    a_choice_sheet = choices_set_1_xl.parse(choise_sheet_name)\n",
    "    a_response_sheet = response_set_1_xl.parse(response_sheet_name)\n",
    "    \n",
    "    no_people_in_sheet = a_response_sheet.shape[0]\n",
    "    \n",
    "    extended_choices_comment = pd.concat([extended_choices_comment, a_choice_sheet])\n",
    "    #\n",
    "    # drop unwanted opinions, i.e. keep experts opinions\n",
    "    #\n",
    "    # a_response_sheet = a_response_sheet[~(a_response_sheet[\"Email Address\"].isin(unwanted_opinions))].copy()\n",
    "    \n",
    "    for a_col_name in a_response_sheet.columns:\n",
    "        if (\"Comment\" in a_col_name) and (a_response_sheet[a_col_name].isna().sum()<no_people_in_sheet):\n",
    "            if a_col_name.split(\".\")[-1].isdigit():\n",
    "                question_number = str(int(a_col_name.split(\".\")[-1])+1)\n",
    "            else:\n",
    "                question_number = \"1\"\n",
    "            \n",
    "            comment_table.loc[curr_row, \"Comment_Form\"] = sheet_numeric_part\n",
    "            comment_table.loc[curr_row, \"Comment_Question\"] = question_number\n",
    "\n",
    "            \n",
    "            comment_table.loc[curr_row, \"ID\"] = a_choice_sheet.loc[int(question_number)-1, \"ID\"]\n",
    "            \n",
    "            comment_table.loc[curr_row, \"PerryComment\"] = a_response_sheet[a_response_sheet[\"Email Address\"] == \\\n",
    "                                                                 \"pbeale@agr.wa.gov\"][a_col_name].values[0]\n",
    "            \n",
    "            comment_table.loc[curr_row, \"AndrewComment\"] = a_response_sheet[a_response_sheet[\"Email Address\"] == \\\n",
    "                                                                 \"andrew.mcguire@wsu.edu\"][a_col_name].values[0]\n",
    "            \n",
    "            comment_table.loc[curr_row, \"TimComment\"] = a_response_sheet[a_response_sheet[\"Email Address\"] == \\\n",
    "                                                                 \"twaters@wsu.edu\"][a_col_name].values[0]\n",
    "            \n",
    "            if \"kirtir@wsu.edu\" in list(a_response_sheet[\"Email Address\"]):\n",
    "                comment_table.loc[curr_row, \"KirtiComment\"] = a_response_sheet[a_response_sheet[\"Email Address\"] == \\\n",
    "                                                                 \"kirtir@wsu.edu\"][a_col_name].values[0]\n",
    "            \n",
    "            curr_row += 1\n",
    "            \n",
    "# drop rows where all row is NaNs\n",
    "comment_table = comment_table.dropna(axis=0, how='all')\n",
    "\n",
    "### Replace NaN with \"No\"\n",
    "comment_table = comment_table.fillna(\"No\")\n",
    "\n",
    "comment_table_extended = pd.merge(comment_table, extended_choices_comment, on=['ID'], how='left')\n",
    "comment_table_extended.shape"
   ]
  },
  {
   "cell_type": "code",
   "execution_count": 13,
   "id": "9241e066",
   "metadata": {},
   "outputs": [
    {
     "data": {
      "text/plain": [
       "(50, 41)"
      ]
     },
     "execution_count": 13,
     "metadata": {},
     "output_type": "execute_result"
    }
   ],
   "source": [
    "output_together = pd.merge(discuss_table_extended, comment_table_extended, on=['ID'], how='outer')\n",
    "output_together = output_together.fillna(\"No\")\n",
    "output_together.shape"
   ]
  },
  {
   "cell_type": "code",
   "execution_count": 14,
   "id": "d67ae370",
   "metadata": {},
   "outputs": [
    {
     "data": {
      "text/html": [
       "<div>\n",
       "<style scoped>\n",
       "    .dataframe tbody tr th:only-of-type {\n",
       "        vertical-align: middle;\n",
       "    }\n",
       "\n",
       "    .dataframe tbody tr th {\n",
       "        vertical-align: top;\n",
       "    }\n",
       "\n",
       "    .dataframe thead th {\n",
       "        text-align: right;\n",
       "    }\n",
       "</style>\n",
       "<table border=\"1\" class=\"dataframe\">\n",
       "  <thead>\n",
       "    <tr style=\"text-align: right;\">\n",
       "      <th></th>\n",
       "      <th>Discuss_Form</th>\n",
       "      <th>Discuss_Question</th>\n",
       "      <th>ID</th>\n",
       "      <th>Perry</th>\n",
       "      <th>Andrew</th>\n",
       "      <th>Tim</th>\n",
       "      <th>Kirti</th>\n",
       "      <th>Question_in_set_x</th>\n",
       "      <th>Question_overall_x</th>\n",
       "      <th>NDVI_TS_Name_x</th>\n",
       "      <th>...</th>\n",
       "      <th>TOA_RGB_y</th>\n",
       "      <th>latitude_y</th>\n",
       "      <th>longitude_y</th>\n",
       "      <th>CropTyp_y</th>\n",
       "      <th>Irrigtn_y</th>\n",
       "      <th>DataSrc_y</th>\n",
       "      <th>Acres_y</th>\n",
       "      <th>ExctAcr_y</th>\n",
       "      <th>LstSrvD_y</th>\n",
       "      <th>county_y</th>\n",
       "    </tr>\n",
       "  </thead>\n",
       "  <tbody>\n",
       "    <tr>\n",
       "      <th>48</th>\n",
       "      <td>No</td>\n",
       "      <td>No</td>\n",
       "      <td>108842_WSDA_SF_2017</td>\n",
       "      <td>No</td>\n",
       "      <td>No</td>\n",
       "      <td>No</td>\n",
       "      <td>No</td>\n",
       "      <td>No</td>\n",
       "      <td>No</td>\n",
       "      <td>No</td>\n",
       "      <td>...</td>\n",
       "      <td>108842_WSDA_SF_2017_47.090746_-119.81387885_TO...</td>\n",
       "      <td>47.090746</td>\n",
       "      <td>-119.813879</td>\n",
       "      <td>wheat</td>\n",
       "      <td>center pivot</td>\n",
       "      <td>wsda</td>\n",
       "      <td>32.0</td>\n",
       "      <td>32.301584</td>\n",
       "      <td>2017/10/16</td>\n",
       "      <td>Grant</td>\n",
       "    </tr>\n",
       "    <tr>\n",
       "      <th>49</th>\n",
       "      <td>No</td>\n",
       "      <td>No</td>\n",
       "      <td>109375_WSDA_SF_2017</td>\n",
       "      <td>No</td>\n",
       "      <td>No</td>\n",
       "      <td>No</td>\n",
       "      <td>No</td>\n",
       "      <td>No</td>\n",
       "      <td>No</td>\n",
       "      <td>No</td>\n",
       "      <td>...</td>\n",
       "      <td>109375_WSDA_SF_2017_47.13175543_-119.62366484_...</td>\n",
       "      <td>47.131755</td>\n",
       "      <td>-119.623665</td>\n",
       "      <td>wheat fallow</td>\n",
       "      <td>center pivot</td>\n",
       "      <td>wsda</td>\n",
       "      <td>49.0</td>\n",
       "      <td>48.55717</td>\n",
       "      <td>2017/08/28</td>\n",
       "      <td>Grant</td>\n",
       "    </tr>\n",
       "  </tbody>\n",
       "</table>\n",
       "<p>2 rows × 41 columns</p>\n",
       "</div>"
      ],
      "text/plain": [
       "   Discuss_Form Discuss_Question                   ID Perry Andrew Tim Kirti  \\\n",
       "48           No               No  108842_WSDA_SF_2017    No     No  No    No   \n",
       "49           No               No  109375_WSDA_SF_2017    No     No  No    No   \n",
       "\n",
       "   Question_in_set_x Question_overall_x NDVI_TS_Name_x  ...  \\\n",
       "48                No                 No             No  ...   \n",
       "49                No                 No             No  ...   \n",
       "\n",
       "                                            TOA_RGB_y latitude_y longitude_y  \\\n",
       "48  108842_WSDA_SF_2017_47.090746_-119.81387885_TO...  47.090746 -119.813879   \n",
       "49  109375_WSDA_SF_2017_47.13175543_-119.62366484_...  47.131755 -119.623665   \n",
       "\n",
       "       CropTyp_y     Irrigtn_y DataSrc_y Acres_y  ExctAcr_y   LstSrvD_y  \\\n",
       "48         wheat  center pivot      wsda    32.0  32.301584  2017/10/16   \n",
       "49  wheat fallow  center pivot      wsda    49.0   48.55717  2017/08/28   \n",
       "\n",
       "   county_y  \n",
       "48    Grant  \n",
       "49    Grant  \n",
       "\n",
       "[2 rows x 41 columns]"
      ]
     },
     "execution_count": 14,
     "metadata": {},
     "output_type": "execute_result"
    }
   ],
   "source": [
    "output_together.tail(2)"
   ]
  },
  {
   "cell_type": "code",
   "execution_count": null,
   "id": "5f8b3e3d",
   "metadata": {},
   "outputs": [],
   "source": []
  },
  {
   "cell_type": "code",
   "execution_count": 15,
   "id": "b09311b7",
   "metadata": {},
   "outputs": [
    {
     "name": "stdout",
     "output_type": "stream",
     "text": [
      "16\n",
      "16\n"
     ]
    }
   ],
   "source": [
    "print (comment_table.ID.isin(discuss_table.ID).sum())\n",
    "print (discuss_table.ID.isin(comment_table.ID).sum())"
   ]
  },
  {
   "cell_type": "markdown",
   "id": "affa52f9",
   "metadata": {},
   "source": [
    "## Fix the Form and Question numbers"
   ]
  },
  {
   "cell_type": "code",
   "execution_count": 16,
   "id": "7c98f310",
   "metadata": {},
   "outputs": [],
   "source": [
    "for row in range(output_together.shape[0]):\n",
    "    if output_together.loc[row, \"Discuss_Form\"]==\"No\":\n",
    "        output_together.loc[row, \"Discuss_Form\"] = output_together.loc[row, \"Comment_Form\"]\n",
    "        output_together.loc[row, \"Discuss_Question\"] = output_together.loc[row, \"Comment_Question\"]\n",
    "        output_together.loc[row, \"NDVI_TS_Name_x\"] = output_together.loc[row, \"NDVI_TS_Name_y\"]\n",
    "        output_together.loc[row, \"CropTyp_x\"] = output_together.loc[row, \"CropTyp_y\"]"
   ]
  },
  {
   "cell_type": "code",
   "execution_count": null,
   "id": "86cb3c93",
   "metadata": {},
   "outputs": [],
   "source": []
  },
  {
   "cell_type": "markdown",
   "id": "887a60e1",
   "metadata": {},
   "source": [
    "### Create a long PDF of fields where discussion is requested"
   ]
  },
  {
   "cell_type": "code",
   "execution_count": 17,
   "id": "2724e81e",
   "metadata": {},
   "outputs": [
    {
     "data": {
      "text/plain": [
       "'/Users/hn/Documents/00_GitHub/Ag/NASA/Python_codes/Perry_and_Co'"
      ]
     },
     "execution_count": 17,
     "metadata": {},
     "output_type": "execute_result"
    }
   ],
   "source": [
    "import subprocess\n",
    "os.getcwd()"
   ]
  },
  {
   "cell_type": "code",
   "execution_count": 18,
   "id": "1b07cc0d",
   "metadata": {},
   "outputs": [],
   "source": [
    "output_together.sort_values(by=['CropTyp_x'],\n",
    "                           ascending = [True],\n",
    "                           inplace=True)\n",
    "output_together.reset_index(inplace=True, drop=True)\n",
    "\n",
    "\n",
    "os.chdir('/Users/hn/Documents/01_research_data/NASA/Perry_and_Co/set_1_PDFs/')\n",
    "\n",
    "with open(\"set_1_Discussion_and_Comments.tex\",\"w\") as file:\n",
    "    file.write(\"\\\\documentclass{article}\\n\")\n",
    "\n",
    "    file.write(\"\\\\usepackage[osf,sc]{mathpazo}\\n\")\n",
    "    file.write(\"\\\\usepackage{color}\\n\")\n",
    "\n",
    "    file.write(\"\\\\usepackage{mathtools,hyperref}\\n\")\n",
    "    file.write(\"\\\\hypersetup{\\n\")\n",
    "    file.write(\"      colorlinks=true,\\n\")\n",
    "    file.write(\"      linkcolor=cyan,\\n\")\n",
    "    file.write(\"      filecolor=cyan,\\n\")\n",
    "    file.write(\"      urlcolor=mgreen,\\n\")\n",
    "    file.write(\"      citecolor=cyan}\\n\")\n",
    "\n",
    "    file.write(\"\\\\usepackage[margin=1in]{geometry}\\n\")\n",
    "    file.write(\"\\\\usepackage[T1]{fontenc}\\n\")\n",
    "    \n",
    "    file.write(\"\\\\usepackage{caption}\\n\")\n",
    "    file.write(\"\\\\captionsetup{justification= raggedright, singlelinecheck = false}\\n\")\n",
    "\n",
    "    file.write(\"\\\\title{\\\\bf Set 1 - Discussion and Comments}\\n\")\n",
    "    file.write(\"\\\\author{}\\n\")\n",
    "    file.write(\"\\\\date{}\\n\")\n",
    "\n",
    "\n",
    "    file.write(\"\\\\begin{document}\\n\")\n",
    "    file.write(\"\\\\maketitle\\n\")\n",
    "\n",
    "    file.write(\"\\\\section{Discussion and Comments}\\n\")\n",
    "    \n",
    "    file.write(\"\\n\")\n",
    "    file.write(\"\\n\")\n",
    "    \n",
    "    for a_row in range(output_together.shape[0]):\n",
    "        curr_row = output_together.loc[a_row]\n",
    "        TS_file_name = curr_row[\"NDVI_TS_Name_x\"]\n",
    "        file.write(\"\\\\begin{figure*}[ht]\\n\")\n",
    "        file.write(\"\\\\centering\\n\")\n",
    "        file.write(\"\\\\includegraphics[width=1\\\\textwidth]{/Users/hn/Documents/\" + \\\n",
    "                     \"01_research_data/NASA/snapshots/TS/06_snapshot_flat_PNG/\" + \\\n",
    "                         TS_file_name + \"}\\n\")\n",
    "        file.write(\"\\\\caption[]{\" + \\\n",
    "                   \"\\\\textbf{\\\\color{red}{\" + curr_row[\"CropTyp_x\"] + \"}}\" + \\\n",
    "                   \", ID: \" + curr_row[\"ID\"].replace(\"_\", \"\\_\") + \\\n",
    "                   \", Form: \" + curr_row[\"Discuss_Form\"] + \\\n",
    "                   \", Question: \" + curr_row[\"Discuss_Question\"] + \".\" + \\\n",
    "                   \"}\\n\")\n",
    "        file.write(\"\\\\label{fig:figure\" + str(a_row) + \"}\\n\")\n",
    "        file.write(\"\\\\end{figure*}\\n\")\n",
    "        file.write(\"\\n\")\n",
    "        \n",
    "        \n",
    "        file.write(\"\\\\noindent \\\\textbf{Discuss?}\" + \"\\\\\\\\\\n\")\n",
    "        file.write(\"\\\\noindent Perry: ~~~~\" + str(curr_row[\"Perry\"]) + \"\\\\\\\\\\n\")\n",
    "        file.write(\"Andrew: \" + str(curr_row[\"Andrew\"]) + \"\\\\\\\\\\n\")\n",
    "        file.write(\"Tim :~~~~~~~\" + str(curr_row[\"Tim\"]) +  \"\\\\\\\\\\n\")\n",
    "        file.write(\"Kirti: ~~~~~~\" + str(curr_row[\"Kirti\"]) + \"\\\\\\\\\\n\")\n",
    "        \n",
    "        file.write(\"\\n\")\n",
    "        file.write(\"\\n\")\n",
    "        file.write(\"\\\\noindent \\\\textbf{Comments}\" + \"\\\\\\\\\\n\")\n",
    "        file.write(\"\\\\noindent Perry: ~~~~\" + str(curr_row[\"PerryComment\"]) + \"\\\\\\\\\\n\")\n",
    "        file.write(\"Andrew: \" + str(curr_row[\"AndrewComment\"]) + \"\\\\\\\\\\n\")\n",
    "        file.write(\"Tim: ~~~~~~~\" + str(curr_row[\"TimComment\"]) +  \"\\\\\\\\\\n\")\n",
    "        file.write(\"Kirti:  ~~~~~~\" + str(curr_row[\"KirtiComment\"]) + \"\\\\\\\\\\n\")\n",
    "                \n",
    "        file.write(\"\\\\clearpage\\n\")\n",
    "        \n",
    "        file.write(\"\\n\")\n",
    "        file.write(\"\\n\")\n",
    "        file.write(\"\\n\")\n",
    "        \n",
    "\n",
    "    file.write(\"\\\\end{document}\\n\")"
   ]
  },
  {
   "cell_type": "code",
   "execution_count": null,
   "id": "9de69efb",
   "metadata": {},
   "outputs": [],
   "source": []
  },
  {
   "cell_type": "code",
   "execution_count": null,
   "id": "11f07378",
   "metadata": {},
   "outputs": [],
   "source": []
  },
  {
   "cell_type": "code",
   "execution_count": null,
   "id": "c35d7965",
   "metadata": {},
   "outputs": [],
   "source": []
  },
  {
   "cell_type": "code",
   "execution_count": null,
   "id": "afaf61a7",
   "metadata": {},
   "outputs": [],
   "source": []
  }
 ],
 "metadata": {
  "kernelspec": {
   "display_name": "Python 3 (ipykernel)",
   "language": "python",
   "name": "python3"
  },
  "language_info": {
   "codemirror_mode": {
    "name": "ipython",
    "version": 3
   },
   "file_extension": ".py",
   "mimetype": "text/x-python",
   "name": "python",
   "nbconvert_exporter": "python",
   "pygments_lexer": "ipython3",
   "version": "3.9.7"
  }
 },
 "nbformat": 4,
 "nbformat_minor": 5
}
