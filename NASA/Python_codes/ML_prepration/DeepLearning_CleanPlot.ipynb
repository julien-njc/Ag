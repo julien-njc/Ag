{
 "cells": [
  {
   "cell_type": "code",
   "execution_count": 68,
   "id": "f10717cb",
   "metadata": {},
   "outputs": [],
   "source": [
    "import numpy as np\n",
    "import pandas as pd\n",
    "from datetime import date\n",
    "import time\n",
    "import scipy\n",
    "import scipy.signal\n",
    "import os, os.path\n",
    "import matplotlib\n",
    "import matplotlib.pyplot as plt\n",
    "\n",
    "\n",
    "import sys\n",
    "sys.path.append('/Users/hn/Documents/00_GitHub/Ag/NASA/Python_codes/')\n",
    "import NASA_core as nc\n",
    "# import NASA_plot_core.py as rcp"
   ]
  },
  {
   "cell_type": "markdown",
   "id": "273a0f94",
   "metadata": {},
   "source": [
    "# Set up Directories"
   ]
  },
  {
   "cell_type": "code",
   "execution_count": 69,
   "id": "f69f4f66",
   "metadata": {},
   "outputs": [],
   "source": [
    "data_dir = \"/Users/hn/Documents/01_research_data/NASA/VI_TS/05_SG_TS/\"\n",
    "ML_data_dir = \"/Users/hn/Documents/01_research_data/NASA/ML_data/\""
   ]
  },
  {
   "cell_type": "markdown",
   "id": "43f64c41",
   "metadata": {},
   "source": [
    "# Set other parameters"
   ]
  },
  {
   "cell_type": "code",
   "execution_count": 70,
   "id": "252939dc",
   "metadata": {},
   "outputs": [],
   "source": [
    "idx=\"EVI\""
   ]
  },
  {
   "cell_type": "markdown",
   "id": "60a7f1f5",
   "metadata": {},
   "source": [
    "# Read Train Labels and IDs"
   ]
  },
  {
   "cell_type": "code",
   "execution_count": 72,
   "id": "36045a40",
   "metadata": {},
   "outputs": [
    {
     "data": {
      "text/html": [
       "<div>\n",
       "<style scoped>\n",
       "    .dataframe tbody tr th:only-of-type {\n",
       "        vertical-align: middle;\n",
       "    }\n",
       "\n",
       "    .dataframe tbody tr th {\n",
       "        vertical-align: top;\n",
       "    }\n",
       "\n",
       "    .dataframe thead th {\n",
       "        text-align: right;\n",
       "    }\n",
       "</style>\n",
       "<table border=\"1\" class=\"dataframe\">\n",
       "  <thead>\n",
       "    <tr style=\"text-align: right;\">\n",
       "      <th></th>\n",
       "      <th>ID</th>\n",
       "      <th>Vote</th>\n",
       "    </tr>\n",
       "  </thead>\n",
       "  <tbody>\n",
       "    <tr>\n",
       "      <th>0</th>\n",
       "      <td>99837_WSDA_SF_2017</td>\n",
       "      <td>2</td>\n",
       "    </tr>\n",
       "    <tr>\n",
       "      <th>1</th>\n",
       "      <td>114615_WSDA_SF_2017</td>\n",
       "      <td>1</td>\n",
       "    </tr>\n",
       "  </tbody>\n",
       "</table>\n",
       "</div>"
      ],
      "text/plain": [
       "                    ID  Vote\n",
       "0   99837_WSDA_SF_2017     2\n",
       "1  114615_WSDA_SF_2017     1"
      ]
     },
     "execution_count": 72,
     "metadata": {},
     "output_type": "execute_result"
    }
   ],
   "source": [
    "train_labels = pd.read_csv(ML_data_dir + \"train_labels.csv\")\n",
    "train_labels.head(2)"
   ]
  },
  {
   "cell_type": "markdown",
   "id": "16ad0884",
   "metadata": {},
   "source": [
    "# Read TS files"
   ]
  },
  {
   "cell_type": "code",
   "execution_count": 74,
   "id": "9e4f3d88",
   "metadata": {},
   "outputs": [
    {
     "data": {
      "text/html": [
       "<div>\n",
       "<style scoped>\n",
       "    .dataframe tbody tr th:only-of-type {\n",
       "        vertical-align: middle;\n",
       "    }\n",
       "\n",
       "    .dataframe tbody tr th {\n",
       "        vertical-align: top;\n",
       "    }\n",
       "\n",
       "    .dataframe thead th {\n",
       "        text-align: right;\n",
       "    }\n",
       "</style>\n",
       "<table border=\"1\" class=\"dataframe\">\n",
       "  <thead>\n",
       "    <tr style=\"text-align: right;\">\n",
       "      <th></th>\n",
       "      <th>ID</th>\n",
       "      <th>human_system_start_time</th>\n",
       "      <th>EVI</th>\n",
       "    </tr>\n",
       "  </thead>\n",
       "  <tbody>\n",
       "    <tr>\n",
       "      <th>0</th>\n",
       "      <td>135073_WSDA_SF_2015</td>\n",
       "      <td>2015-01-10</td>\n",
       "      <td>0.054429</td>\n",
       "    </tr>\n",
       "    <tr>\n",
       "      <th>1</th>\n",
       "      <td>135073_WSDA_SF_2015</td>\n",
       "      <td>2015-01-20</td>\n",
       "      <td>0.051731</td>\n",
       "    </tr>\n",
       "  </tbody>\n",
       "</table>\n",
       "</div>"
      ],
      "text/plain": [
       "                    ID human_system_start_time       EVI\n",
       "0  135073_WSDA_SF_2015              2015-01-10  0.054429\n",
       "1  135073_WSDA_SF_2015              2015-01-20  0.051731"
      ]
     },
     "execution_count": 74,
     "metadata": {},
     "output_type": "execute_result"
    }
   ],
   "source": [
    "file_names = [\"SG_Walla2015_EVI_JFD.csv\", \"SG_AdamBenton2016_EVI_JFD.csv\", \n",
    "              \"SG_Grant2017_EVI_JFD.csv\", \"SG_FranklinYakima2018_EVI_JFD.csv\"]\n",
    "\n",
    "data=pd.DataFrame()\n",
    "\n",
    "for file in file_names:\n",
    "    curr_file=pd.read_csv(data_dir + file)\n",
    "    curr_file['human_system_start_time'] = pd.to_datetime(curr_file['human_system_start_time'])\n",
    "    \n",
    "    # These data are for 3 years. The middle one is the correct one\n",
    "    all_years = sorted(curr_file.human_system_start_time.dt.year.unique())\n",
    "    if len(all_years)==3 or len(all_years)==2:\n",
    "        proper_year = all_years[1]\n",
    "    elif len(all_years)==1:\n",
    "        proper_year = all_years[0]\n",
    "\n",
    "    curr_file = curr_file[curr_file.human_system_start_time.dt.year==proper_year]\n",
    "    data=pd.concat([data, curr_file])\n",
    "\n",
    "data.reset_index(drop=True, inplace=True)\n",
    "data.loc[data[idx]<0, idx]=0\n",
    "data.head(2)"
   ]
  },
  {
   "cell_type": "markdown",
   "id": "caed5d24",
   "metadata": {},
   "source": [
    "# Filter the train fields TS"
   ]
  },
  {
   "cell_type": "code",
   "execution_count": 75,
   "id": "b16128b6",
   "metadata": {},
   "outputs": [],
   "source": [
    "trainIDs = list(train_labels.ID.unique())\n",
    "data = data[data.ID.isin(trainIDs)]\n",
    "data.reset_index(drop=True, inplace=True)"
   ]
  },
  {
   "cell_type": "code",
   "execution_count": 76,
   "id": "ac5409a3",
   "metadata": {},
   "outputs": [],
   "source": [
    "for curr_ID in data.ID.unique():\n",
    "    crr_fld=data[data.ID==curr_ID].copy()\n",
    "    crr_fld.reset_index(drop=True, inplace=True)\n",
    "    # crr_fld['human_system_start_time'] = pd.to_datetime(crr_fld['human_system_start_time'])\n",
    "    SFYr = crr_fld.human_system_start_time.dt.year.unique()[0]\n",
    "    fig, ax = plt.subplots();\n",
    "    fig.set_size_inches(10, 2.5)\n",
    "    ax.grid(False);\n",
    "    ax.plot(crr_fld['human_system_start_time'], crr_fld[idx], \n",
    "            c ='dodgerblue', linewidth=5)\n",
    "\n",
    "    ax.axis(\"off\")\n",
    "    # ax.set_xlabel('time'); # , labelpad = 15\n",
    "    # ax.set_ylabel(idx, fontsize=12); # , labelpad = 15\n",
    "    # ax.tick_params(axis = 'y', which = 'major');\n",
    "    # ax = plt.gca()\n",
    "    # ax.axes.xaxis.set_visible(False)\n",
    "    # ax.axes.yaxis.set_visible(False)\n",
    "\n",
    "    left = crr_fld['human_system_start_time'][0]\n",
    "    right = crr_fld['human_system_start_time'].values[-1]\n",
    "    ax.set_xlim([left, right]); # the following line alsow orks\n",
    "    ax.set_ylim([-0.005, 1]); # the following line alsow orks\n",
    "\n",
    "\n",
    "    crop_count = str(train_labels[train_labels.ID==curr_ID][\"Vote\"].values[0])\n",
    "\n",
    "    plot_path = \"/Users/hn/Documents/01_research_data/NASA/ML_data/images/\"\n",
    "    os.makedirs(plot_path, exist_ok=True)\n",
    "    fig_name = plot_path + crop_count + \"_\" + curr_ID +'.jpg'\n",
    "    plt.savefig(fname = fig_name, dpi=100, bbox_inches='tight', facecolor=\"w\")\n",
    "    plt.close('all')\n",
    "    # ax.legend(loc = \"upper left\");\n"
   ]
  },
  {
   "cell_type": "code",
   "execution_count": null,
   "id": "d5dd3d94",
   "metadata": {},
   "outputs": [],
   "source": []
  }
 ],
 "metadata": {
  "kernelspec": {
   "display_name": "Python 3 (ipykernel)",
   "language": "python",
   "name": "python3"
  },
  "language_info": {
   "codemirror_mode": {
    "name": "ipython",
    "version": 3
   },
   "file_extension": ".py",
   "mimetype": "text/x-python",
   "name": "python",
   "nbconvert_exporter": "python",
   "pygments_lexer": "ipython3",
   "version": "3.9.7"
  }
 },
 "nbformat": 4,
 "nbformat_minor": 5
}
