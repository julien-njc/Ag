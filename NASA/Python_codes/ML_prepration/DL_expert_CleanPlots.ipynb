{
 "cells": [
  {
   "cell_type": "code",
   "execution_count": 2,
   "id": "f10717cb",
   "metadata": {},
   "outputs": [],
   "source": [
    "import numpy as np\n",
    "import pandas as pd\n",
    "from datetime import date\n",
    "import time\n",
    "import scipy\n",
    "import scipy.signal\n",
    "import os, os.path\n",
    "import matplotlib\n",
    "import matplotlib.pyplot as plt\n",
    "\n",
    "import sys\n",
    "sys.path.append('/Users/hn/Documents/00_GitHub/Ag/NASA/Python_codes/')\n",
    "import NASA_core as nc\n",
    "# import NASA_plot_core as rcp"
   ]
  },
  {
   "cell_type": "markdown",
   "id": "273a0f94",
   "metadata": {},
   "source": [
    "# Set up Directories"
   ]
  },
  {
   "cell_type": "code",
   "execution_count": 3,
   "id": "f69f4f66",
   "metadata": {},
   "outputs": [],
   "source": [
    "data_dir = \"/Users/hn/Documents/01_research_data/NASA/VI_TS/05_SG_TS/\"\n",
    "ML_data_dir = \"/Users/hn/Documents/01_research_data/NASA/ML_data/\""
   ]
  },
  {
   "cell_type": "markdown",
   "id": "60a7f1f5",
   "metadata": {},
   "source": [
    "# Read Train Labels and IDs"
   ]
  },
  {
   "cell_type": "code",
   "execution_count": 4,
   "id": "36045a40",
   "metadata": {},
   "outputs": [
    {
     "data": {
      "text/html": [
       "<div>\n",
       "<style scoped>\n",
       "    .dataframe tbody tr th:only-of-type {\n",
       "        vertical-align: middle;\n",
       "    }\n",
       "\n",
       "    .dataframe tbody tr th {\n",
       "        vertical-align: top;\n",
       "    }\n",
       "\n",
       "    .dataframe thead th {\n",
       "        text-align: right;\n",
       "    }\n",
       "</style>\n",
       "<table border=\"1\" class=\"dataframe\">\n",
       "  <thead>\n",
       "    <tr style=\"text-align: right;\">\n",
       "      <th></th>\n",
       "      <th>ID</th>\n",
       "      <th>Vote</th>\n",
       "    </tr>\n",
       "  </thead>\n",
       "  <tbody>\n",
       "    <tr>\n",
       "      <th>0</th>\n",
       "      <td>99837_WSDA_SF_2017</td>\n",
       "      <td>2</td>\n",
       "    </tr>\n",
       "    <tr>\n",
       "      <th>1</th>\n",
       "      <td>114615_WSDA_SF_2017</td>\n",
       "      <td>1</td>\n",
       "    </tr>\n",
       "  </tbody>\n",
       "</table>\n",
       "</div>"
      ],
      "text/plain": [
       "                    ID  Vote\n",
       "0   99837_WSDA_SF_2017     2\n",
       "1  114615_WSDA_SF_2017     1"
      ]
     },
     "execution_count": 4,
     "metadata": {},
     "output_type": "execute_result"
    }
   ],
   "source": [
    "train_labels = pd.read_csv(ML_data_dir + \"train_labels.csv\")\n",
    "train_labels.head(2)"
   ]
  },
  {
   "cell_type": "code",
   "execution_count": 5,
   "id": "9839fe6d",
   "metadata": {},
   "outputs": [
    {
     "data": {
      "text/plain": [
       "(1849, 2)"
      ]
     },
     "execution_count": 5,
     "metadata": {},
     "output_type": "execute_result"
    }
   ],
   "source": [
    "train_labels.shape"
   ]
  },
  {
   "cell_type": "markdown",
   "id": "a4773df0",
   "metadata": {},
   "source": [
    "# Toss small fields."
   ]
  },
  {
   "cell_type": "code",
   "execution_count": 6,
   "id": "cca58cf4",
   "metadata": {},
   "outputs": [
    {
     "name": "stdout",
     "output_type": "stream",
     "text": [
      "(3539, 8)\n",
      "1849\n"
     ]
    },
    {
     "data": {
      "text/html": [
       "<div>\n",
       "<style scoped>\n",
       "    .dataframe tbody tr th:only-of-type {\n",
       "        vertical-align: middle;\n",
       "    }\n",
       "\n",
       "    .dataframe tbody tr th {\n",
       "        vertical-align: top;\n",
       "    }\n",
       "\n",
       "    .dataframe thead th {\n",
       "        text-align: right;\n",
       "    }\n",
       "</style>\n",
       "<table border=\"1\" class=\"dataframe\">\n",
       "  <thead>\n",
       "    <tr style=\"text-align: right;\">\n",
       "      <th></th>\n",
       "      <th>ID</th>\n",
       "      <th>CropTyp</th>\n",
       "      <th>Irrigtn</th>\n",
       "      <th>DataSrc</th>\n",
       "      <th>Acres</th>\n",
       "      <th>ExctAcr</th>\n",
       "      <th>LstSrvD</th>\n",
       "      <th>county</th>\n",
       "    </tr>\n",
       "  </thead>\n",
       "  <tbody>\n",
       "    <tr>\n",
       "      <th>0</th>\n",
       "      <td>100010_WSDA_SF_2017</td>\n",
       "      <td>alfalfa hay</td>\n",
       "      <td>center pivot</td>\n",
       "      <td>wsda</td>\n",
       "      <td>34</td>\n",
       "      <td>34.310305</td>\n",
       "      <td>2017/09/12</td>\n",
       "      <td>Grant</td>\n",
       "    </tr>\n",
       "    <tr>\n",
       "      <th>1</th>\n",
       "      <td>100204_WSDA_SF_2017</td>\n",
       "      <td>alfalfa hay</td>\n",
       "      <td>center pivot</td>\n",
       "      <td>wsda</td>\n",
       "      <td>62</td>\n",
       "      <td>61.826535</td>\n",
       "      <td>2017/08/09</td>\n",
       "      <td>Grant</td>\n",
       "    </tr>\n",
       "  </tbody>\n",
       "</table>\n",
       "</div>"
      ],
      "text/plain": [
       "                    ID      CropTyp       Irrigtn DataSrc  Acres    ExctAcr  \\\n",
       "0  100010_WSDA_SF_2017  alfalfa hay  center pivot    wsda     34  34.310305   \n",
       "1  100204_WSDA_SF_2017  alfalfa hay  center pivot    wsda     62  61.826535   \n",
       "\n",
       "      LstSrvD county  \n",
       "0  2017/09/12  Grant  \n",
       "1  2017/08/09  Grant  "
      ]
     },
     "execution_count": 6,
     "metadata": {},
     "output_type": "execute_result"
    }
   ],
   "source": [
    "meta_dir = \"/Users/hn/Documents/01_research_data/NASA/parameters/\"\n",
    "meta = pd.read_csv(meta_dir+\"evaluation_set.csv\")\n",
    "meta=meta[meta.ExctAcr>10]\n",
    "print (meta.shape)\n",
    "print (len(train_labels.ID.unique()))\n",
    "meta.head(2)"
   ]
  },
  {
   "cell_type": "code",
   "execution_count": 7,
   "id": "aa28c8be",
   "metadata": {},
   "outputs": [
    {
     "data": {
      "text/plain": [
       "(1342, 2)"
      ]
     },
     "execution_count": 7,
     "metadata": {},
     "output_type": "execute_result"
    }
   ],
   "source": [
    "train_labels=train_labels[train_labels.ID.isin(list(meta.ID.unique()))].copy()\n",
    "train_labels.shape"
   ]
  },
  {
   "cell_type": "markdown",
   "id": "16ad0884",
   "metadata": {},
   "source": [
    "# Read TS files"
   ]
  },
  {
   "cell_type": "code",
   "execution_count": 8,
   "id": "9e4f3d88",
   "metadata": {},
   "outputs": [
    {
     "data": {
      "text/html": [
       "<div>\n",
       "<style scoped>\n",
       "    .dataframe tbody tr th:only-of-type {\n",
       "        vertical-align: middle;\n",
       "    }\n",
       "\n",
       "    .dataframe tbody tr th {\n",
       "        vertical-align: top;\n",
       "    }\n",
       "\n",
       "    .dataframe thead th {\n",
       "        text-align: right;\n",
       "    }\n",
       "</style>\n",
       "<table border=\"1\" class=\"dataframe\">\n",
       "  <thead>\n",
       "    <tr style=\"text-align: right;\">\n",
       "      <th></th>\n",
       "      <th>ID</th>\n",
       "      <th>human_system_start_time</th>\n",
       "      <th>EVI</th>\n",
       "    </tr>\n",
       "  </thead>\n",
       "  <tbody>\n",
       "    <tr>\n",
       "      <th>0</th>\n",
       "      <td>135073_WSDA_SF_2015</td>\n",
       "      <td>2015-01-10</td>\n",
       "      <td>0.054429</td>\n",
       "    </tr>\n",
       "    <tr>\n",
       "      <th>1</th>\n",
       "      <td>135073_WSDA_SF_2015</td>\n",
       "      <td>2015-01-20</td>\n",
       "      <td>0.051731</td>\n",
       "    </tr>\n",
       "  </tbody>\n",
       "</table>\n",
       "</div>"
      ],
      "text/plain": [
       "                    ID human_system_start_time       EVI\n",
       "0  135073_WSDA_SF_2015              2015-01-10  0.054429\n",
       "1  135073_WSDA_SF_2015              2015-01-20  0.051731"
      ]
     },
     "execution_count": 8,
     "metadata": {},
     "output_type": "execute_result"
    }
   ],
   "source": [
    "VI_idx=\"EVI\"\n",
    "file_names = [\"SG_Walla2015_\"+VI_idx+\"_JFD.csv\", \"SG_AdamBenton2016_\"+VI_idx+\"_JFD.csv\", \n",
    "              \"SG_Grant2017_\"+VI_idx+\"_JFD.csv\", \"SG_FranklinYakima2018_\"+VI_idx+\"_JFD.csv\"]\n",
    "\n",
    "data=pd.DataFrame()\n",
    "\n",
    "for file in file_names:\n",
    "    curr_file=pd.read_csv(data_dir + file)\n",
    "    curr_file['human_system_start_time'] = pd.to_datetime(curr_file['human_system_start_time'])\n",
    "    \n",
    "    # These data are for 3 years. The middle one is the correct one\n",
    "    all_years = sorted(curr_file.human_system_start_time.dt.year.unique())\n",
    "    if len(all_years)==3 or len(all_years)==2:\n",
    "        proper_year = all_years[1]\n",
    "    elif len(all_years)==1:\n",
    "        proper_year = all_years[0]\n",
    "\n",
    "    curr_file = curr_file[curr_file.human_system_start_time.dt.year==proper_year]\n",
    "    data=pd.concat([data, curr_file])\n",
    "\n",
    "data.reset_index(drop=True, inplace=True)\n",
    "data.loc[data[VI_idx]<0, VI_idx]=0\n",
    "data.head(2)"
   ]
  },
  {
   "cell_type": "markdown",
   "id": "caed5d24",
   "metadata": {},
   "source": [
    "# Filter the train fields TS"
   ]
  },
  {
   "cell_type": "code",
   "execution_count": 22,
   "id": "b16128b6",
   "metadata": {},
   "outputs": [
    {
     "name": "stdout",
     "output_type": "stream",
     "text": [
      "1342\n"
     ]
    },
    {
     "data": {
      "text/plain": [
       "1342"
      ]
     },
     "execution_count": 22,
     "metadata": {},
     "output_type": "execute_result"
    }
   ],
   "source": [
    "trainIDs = list(train_labels.ID.unique())\n",
    "data = data[data.ID.isin(trainIDs)]\n",
    "data.reset_index(drop=True, inplace=True)\n",
    "\n",
    "print (len(data.ID.unique()))\n",
    "len(trainIDs)"
   ]
  },
  {
   "cell_type": "code",
   "execution_count": 13,
   "id": "ac5409a3",
   "metadata": {},
   "outputs": [
    {
     "name": "stdout",
     "output_type": "stream",
     "text": [
      "/Users/hn/Documents/01_research_data/NASA/ML_data/SG_train_images_EVI/\n"
     ]
    }
   ],
   "source": [
    "for curr_ID in data.ID.unique():\n",
    "    crr_fld=data[data.ID==curr_ID].copy()\n",
    "    crr_fld.reset_index(drop=True, inplace=True)\n",
    "    # crr_fld['human_system_start_time'] = pd.to_datetime(crr_fld['human_system_start_time'])\n",
    "    SFYr = crr_fld.human_system_start_time.dt.year.unique()[0]\n",
    "    fig, ax = plt.subplots();\n",
    "    fig.set_size_inches(10, 2.5)\n",
    "    ax.grid(False);\n",
    "    ax.plot(crr_fld['human_system_start_time'], crr_fld[VI_idx], \n",
    "            c ='dodgerblue', linewidth=5)\n",
    "\n",
    "    ax.axis(\"off\")\n",
    "    # ax.set_xlabel('time'); # , labelpad = 15\n",
    "    # ax.set_ylabel(VI_idx, fontsize=12); # , labelpad = 15\n",
    "    # ax.tick_params(axis = 'y', which = 'major');\n",
    "    # ax = plt.gca()\n",
    "    # ax.axes.xaxis.set_visible(False)\n",
    "    # ax.axes.yaxis.set_visible(False)\n",
    "\n",
    "    left = crr_fld['human_system_start_time'][0]\n",
    "    right = crr_fld['human_system_start_time'].values[-1]\n",
    "    ax.set_xlim([left, right]); # the following line alsow orks\n",
    "    ax.set_ylim([-0.005, 1]); # the following line alsow orks\n",
    "\n",
    "\n",
    "    crop_count = train_labels[train_labels.ID==curr_ID][\"Vote\"].values[0]\n",
    "    if crop_count==1:\n",
    "        crop_count_letter=\"single\"\n",
    "    else:\n",
    "        crop_count_letter=\"double\"\n",
    "    \n",
    "    # train_images is the same as expert labels!\n",
    "    plot_path = \"/Users/hn/Documents/01_research_data/NASA/ML_data/SG_train_images_\" + VI_idx + \"/\"\n",
    "    os.makedirs(plot_path, exist_ok=True)\n",
    "    fig_name = plot_path + crop_count_letter + \"_\" + curr_ID +'.jpg'\n",
    "    plt.savefig(fname = fig_name, dpi=200, bbox_inches='tight', facecolor=\"w\")\n",
    "    plt.close('all')\n",
    "print (plot_path)"
   ]
  },
  {
   "cell_type": "markdown",
   "id": "d60e2aa6",
   "metadata": {},
   "source": [
    "### Sample EVI plots for Paper:"
   ]
  },
  {
   "cell_type": "code",
   "execution_count": 14,
   "id": "783c48ba",
   "metadata": {},
   "outputs": [
    {
     "name": "stdout",
     "output_type": "stream",
     "text": [
      "/Users/hn/Documents/01_research_data/NASA/for_paper/plots/SG_EVI_CleanDP_samples/\n"
     ]
    }
   ],
   "source": [
    "samples_for_paper_dir=\"/Users/hn/Documents/01_research_data/NASA/for_paper/plots/SG_\"+VI_idx+\"_CleanDP_samples/\"\n",
    "\n",
    "sample_IDs=[\"489_WSDA_SF_2016\", \"1746_WSDA_SF_2016\", \"8856_WSDA_SF_2016\", \"150461_WSDA_SF_2017\"]\n",
    "\n",
    "for curr_ID in sample_IDs:\n",
    "    crr_fld=data[data.ID==curr_ID].copy()\n",
    "    crr_fld.reset_index(drop=True, inplace=True)\n",
    "    SFYr = crr_fld.human_system_start_time.dt.year.unique()[0]\n",
    "    fig, ax = plt.subplots();\n",
    "    fig.set_size_inches(10, 2.5)\n",
    "    ax.grid(False);\n",
    "    ax.plot(crr_fld['human_system_start_time'], crr_fld[VI_idx], \n",
    "            c ='dodgerblue', linewidth=5)\n",
    "\n",
    "    ax.axis(\"off\")\n",
    "\n",
    "    left = crr_fld['human_system_start_time'][0]\n",
    "    right = crr_fld['human_system_start_time'].values[-1]\n",
    "    ax.set_xlim([left, right]); # the following line alsow orks\n",
    "    ax.set_ylim([-0.005, 1]); # the following line alsow orks\n",
    "\n",
    "\n",
    "    crop_count = train_labels[train_labels.ID==curr_ID][\"Vote\"].values[0]\n",
    "    if crop_count==1:\n",
    "        crop_count_letter=\"single\"\n",
    "    else:\n",
    "        crop_count_letter=\"double\"\n",
    "    \n",
    "    # train_images is the same as expert labels!\n",
    "    plot_path = samples_for_paper_dir\n",
    "    os.makedirs(plot_path, exist_ok=True)\n",
    "    fig_name = plot_path + crop_count_letter + \"_\" + curr_ID +'.pdf'\n",
    "    plt.savefig(fname = fig_name, dpi=400, bbox_inches='tight', facecolor=\"w\")\n",
    "    plt.close('all')\n",
    "print (plot_path)"
   ]
  },
  {
   "cell_type": "markdown",
   "id": "d915348b",
   "metadata": {},
   "source": [
    "# NDVI"
   ]
  },
  {
   "cell_type": "code",
   "execution_count": 24,
   "id": "f90cd3b6",
   "metadata": {},
   "outputs": [
    {
     "data": {
      "text/html": [
       "<div>\n",
       "<style scoped>\n",
       "    .dataframe tbody tr th:only-of-type {\n",
       "        vertical-align: middle;\n",
       "    }\n",
       "\n",
       "    .dataframe tbody tr th {\n",
       "        vertical-align: top;\n",
       "    }\n",
       "\n",
       "    .dataframe thead th {\n",
       "        text-align: right;\n",
       "    }\n",
       "</style>\n",
       "<table border=\"1\" class=\"dataframe\">\n",
       "  <thead>\n",
       "    <tr style=\"text-align: right;\">\n",
       "      <th></th>\n",
       "      <th>ID</th>\n",
       "      <th>human_system_start_time</th>\n",
       "      <th>NDVI</th>\n",
       "    </tr>\n",
       "  </thead>\n",
       "  <tbody>\n",
       "    <tr>\n",
       "      <th>0</th>\n",
       "      <td>135073_WSDA_SF_2015</td>\n",
       "      <td>2015-01-10</td>\n",
       "      <td>0.115126</td>\n",
       "    </tr>\n",
       "    <tr>\n",
       "      <th>1</th>\n",
       "      <td>135073_WSDA_SF_2015</td>\n",
       "      <td>2015-01-20</td>\n",
       "      <td>0.111097</td>\n",
       "    </tr>\n",
       "  </tbody>\n",
       "</table>\n",
       "</div>"
      ],
      "text/plain": [
       "                    ID human_system_start_time      NDVI\n",
       "0  135073_WSDA_SF_2015              2015-01-10  0.115126\n",
       "1  135073_WSDA_SF_2015              2015-01-20  0.111097"
      ]
     },
     "execution_count": 24,
     "metadata": {},
     "output_type": "execute_result"
    }
   ],
   "source": [
    "VI_idx=\"NDVI\"\n",
    "file_names = [\"SG_Walla2015_\" + VI_idx + \"_JFD.csv\", \"SG_AdamBenton2016_\" + VI_idx + \"_JFD.csv\", \n",
    "              \"SG_Grant2017_\" + VI_idx + \"_JFD.csv\", \"SG_FranklinYakima2018_\"+ VI_idx +\"_JFD.csv\"]\n",
    "\n",
    "data=pd.DataFrame()\n",
    "\n",
    "for file in file_names:\n",
    "    curr_file=pd.read_csv(data_dir + file)\n",
    "    curr_file['human_system_start_time'] = pd.to_datetime(curr_file['human_system_start_time'])\n",
    "    \n",
    "    # These data are for 3 years. The middle one is the correct one\n",
    "    all_years = sorted(curr_file.human_system_start_time.dt.year.unique())\n",
    "    if len(all_years)==3 or len(all_years)==2:\n",
    "        proper_year = all_years[1]\n",
    "    elif len(all_years)==1:\n",
    "        proper_year = all_years[0]\n",
    "\n",
    "    curr_file = curr_file[curr_file.human_system_start_time.dt.year==proper_year]\n",
    "    data=pd.concat([data, curr_file])\n",
    "\n",
    "data.reset_index(drop=True, inplace=True)\n",
    "data.loc[data[VI_idx]<0, VI_idx]=0\n",
    "data.head(2)"
   ]
  },
  {
   "cell_type": "code",
   "execution_count": 25,
   "id": "9cf4d7e6",
   "metadata": {},
   "outputs": [
    {
     "name": "stdout",
     "output_type": "stream",
     "text": [
      "1342\n"
     ]
    },
    {
     "data": {
      "text/plain": [
       "1342"
      ]
     },
     "execution_count": 25,
     "metadata": {},
     "output_type": "execute_result"
    }
   ],
   "source": [
    "trainIDs = list(train_labels.ID.unique())\n",
    "data = data[data.ID.isin(trainIDs)]\n",
    "data.reset_index(drop=True, inplace=True)\n",
    "print (len(data.ID.unique()))\n",
    "len(trainIDs)"
   ]
  },
  {
   "cell_type": "code",
   "execution_count": 26,
   "id": "2dd484d4",
   "metadata": {},
   "outputs": [
    {
     "data": {
      "text/plain": [
       "'/Users/hn/Documents/01_research_data/NASA/ML_data/SG_train_images_NDVI/'"
      ]
     },
     "execution_count": 26,
     "metadata": {},
     "output_type": "execute_result"
    }
   ],
   "source": [
    "for curr_ID in data.ID.unique():\n",
    "    crr_fld=data[data.ID==curr_ID].copy()\n",
    "    crr_fld.reset_index(drop=True, inplace=True)\n",
    "    # crr_fld['human_system_start_time'] = pd.to_datetime(crr_fld['human_system_start_time'])\n",
    "    SFYr = crr_fld.human_system_start_time.dt.year.unique()[0]\n",
    "    fig, ax = plt.subplots();\n",
    "    fig.set_size_inches(10, 2.5)\n",
    "    ax.grid(False);\n",
    "    ax.plot(crr_fld['human_system_start_time'], crr_fld[VI_idx], \n",
    "            c ='dodgerblue', linewidth=5)\n",
    "\n",
    "    ax.axis(\"off\")\n",
    "    left = crr_fld['human_system_start_time'][0]\n",
    "    right = crr_fld['human_system_start_time'].values[-1]\n",
    "    ax.set_xlim([left, right]); # the following line alsow orks\n",
    "    ax.set_ylim([-0.005, 1]); # the following line alsow orks\n",
    "\n",
    "    crop_count = train_labels[train_labels.ID==curr_ID][\"Vote\"].values[0]\n",
    "    if crop_count==1:\n",
    "        crop_count_letter=\"single\"\n",
    "    else:\n",
    "        crop_count_letter=\"double\"\n",
    "    \n",
    "    # train_images is the same as expert labels!\n",
    "    plot_path = \"/Users/hn/Documents/01_research_data/NASA/ML_data/SG_train_images_\" + VI_idx + \"/\"\n",
    "    os.makedirs(plot_path, exist_ok=True)\n",
    "    fig_name = plot_path + crop_count_letter + \"_\" + curr_ID +'.jpg'\n",
    "    plt.savefig(fname = fig_name, dpi=200, bbox_inches='tight', facecolor=\"w\")\n",
    "    plt.close('all')\n",
    "    \n",
    "plot_path"
   ]
  },
  {
   "cell_type": "markdown",
   "id": "44044a2e",
   "metadata": {},
   "source": [
    "# Regular EVI"
   ]
  },
  {
   "cell_type": "code",
   "execution_count": 27,
   "id": "1feec673",
   "metadata": {},
   "outputs": [],
   "source": [
    "data_dir = \"/Users/hn/Documents/01_research_data/NASA/VI_TS/04_regularized_TS/\""
   ]
  },
  {
   "cell_type": "code",
   "execution_count": 28,
   "id": "89f0b27e",
   "metadata": {},
   "outputs": [
    {
     "data": {
      "text/html": [
       "<div>\n",
       "<style scoped>\n",
       "    .dataframe tbody tr th:only-of-type {\n",
       "        vertical-align: middle;\n",
       "    }\n",
       "\n",
       "    .dataframe tbody tr th {\n",
       "        vertical-align: top;\n",
       "    }\n",
       "\n",
       "    .dataframe thead th {\n",
       "        text-align: right;\n",
       "    }\n",
       "</style>\n",
       "<table border=\"1\" class=\"dataframe\">\n",
       "  <thead>\n",
       "    <tr style=\"text-align: right;\">\n",
       "      <th></th>\n",
       "      <th>ID</th>\n",
       "      <th>human_system_start_time</th>\n",
       "      <th>EVI</th>\n",
       "    </tr>\n",
       "  </thead>\n",
       "  <tbody>\n",
       "    <tr>\n",
       "      <th>0</th>\n",
       "      <td>135073_WSDA_SF_2015</td>\n",
       "      <td>2015-01-10</td>\n",
       "      <td>0.049624</td>\n",
       "    </tr>\n",
       "    <tr>\n",
       "      <th>1</th>\n",
       "      <td>135073_WSDA_SF_2015</td>\n",
       "      <td>2015-01-20</td>\n",
       "      <td>0.026503</td>\n",
       "    </tr>\n",
       "  </tbody>\n",
       "</table>\n",
       "</div>"
      ],
      "text/plain": [
       "                    ID human_system_start_time       EVI\n",
       "0  135073_WSDA_SF_2015              2015-01-10  0.049624\n",
       "1  135073_WSDA_SF_2015              2015-01-20  0.026503"
      ]
     },
     "execution_count": 28,
     "metadata": {},
     "output_type": "execute_result"
    }
   ],
   "source": [
    "VI_idx = \"EVI\"\n",
    "file_names = [\"regular_Walla2015_\"+VI_idx +\"_JFD.csv\", \"regular_AdamBenton2016_\"+VI_idx +\"_JFD.csv\", \n",
    "              \"regular_Grant2017_\"+VI_idx +\"_JFD.csv\", \"regular_FranklinYakima2018_\"+VI_idx +\"_JFD.csv\"]\n",
    "\n",
    "data=pd.DataFrame()\n",
    "\n",
    "for file in file_names:\n",
    "    curr_file=pd.read_csv(data_dir + file)\n",
    "    curr_file['human_system_start_time'] = pd.to_datetime(curr_file['human_system_start_time'])\n",
    "    \n",
    "    # These data are for 3 years. The middle one is the correct one\n",
    "    all_years = sorted(curr_file.human_system_start_time.dt.year.unique())\n",
    "    if len(all_years)==3 or len(all_years)==2:\n",
    "        proper_year = all_years[1]\n",
    "    elif len(all_years)==1:\n",
    "        proper_year = all_years[0]\n",
    "\n",
    "    curr_file = curr_file[curr_file.human_system_start_time.dt.year==proper_year]\n",
    "    data=pd.concat([data, curr_file])\n",
    "\n",
    "data.reset_index(drop=True, inplace=True)\n",
    "data.loc[data[VI_idx]<0, VI_idx]=0\n",
    "data.head(2)"
   ]
  },
  {
   "cell_type": "code",
   "execution_count": 29,
   "id": "f3809b03",
   "metadata": {},
   "outputs": [
    {
     "name": "stdout",
     "output_type": "stream",
     "text": [
      "1342\n"
     ]
    },
    {
     "data": {
      "text/plain": [
       "1342"
      ]
     },
     "execution_count": 29,
     "metadata": {},
     "output_type": "execute_result"
    }
   ],
   "source": [
    "trainIDs = list(train_labels.ID.unique())\n",
    "data = data[data.ID.isin(trainIDs)]\n",
    "data.reset_index(drop=True, inplace=True)\n",
    "print (len(data.ID.unique()))\n",
    "len(trainIDs)"
   ]
  },
  {
   "cell_type": "code",
   "execution_count": 30,
   "id": "06e12a86",
   "metadata": {},
   "outputs": [
    {
     "name": "stdout",
     "output_type": "stream",
     "text": [
      "/Users/hn/Documents/01_research_data/NASA/ML_data/regular_train_images_EVI/\n"
     ]
    }
   ],
   "source": [
    "for curr_ID in data.ID.unique():\n",
    "    crr_fld=data[data.ID==curr_ID].copy()\n",
    "    crr_fld.reset_index(drop=True, inplace=True)\n",
    "    # crr_fld['human_system_start_time'] = pd.to_datetime(crr_fld['human_system_start_time'])\n",
    "    SFYr = crr_fld.human_system_start_time.dt.year.unique()[0]\n",
    "    fig, ax = plt.subplots();\n",
    "    fig.set_size_inches(10, 2.5)\n",
    "    ax.grid(False);\n",
    "    ax.plot(crr_fld['human_system_start_time'], crr_fld[VI_idx], \n",
    "            c ='dodgerblue', linewidth=5)\n",
    "\n",
    "    ax.axis(\"off\")\n",
    "\n",
    "    left = crr_fld['human_system_start_time'][0]\n",
    "    right = crr_fld['human_system_start_time'].values[-1]\n",
    "    ax.set_xlim([left, right]); # the following line alsow orks\n",
    "    ax.set_ylim([-0.005, 1]); # the following line alsow orks\n",
    "\n",
    "\n",
    "    crop_count = train_labels[train_labels.ID==curr_ID][\"Vote\"].values[0]\n",
    "    if crop_count==1:\n",
    "        crop_count_letter=\"single\"\n",
    "    else:\n",
    "        crop_count_letter=\"double\"\n",
    "    \n",
    "    # train_images is the same as expert labels!\n",
    "    plot_path = \"/Users/hn/Documents/01_research_data/NASA/ML_data/regular_train_images_\" + VI_idx + \"/\"\n",
    "    os.makedirs(plot_path, exist_ok=True)\n",
    "    fig_name = plot_path + crop_count_letter + \"_\" + curr_ID +'.jpg'\n",
    "    plt.savefig(fname = fig_name, dpi=200, bbox_inches='tight', facecolor=\"w\")\n",
    "    plt.close('all')\n",
    "    # ax.legend(loc = \"upper left\");\n",
    "print (plot_path)"
   ]
  },
  {
   "cell_type": "markdown",
   "id": "d9e0ecca",
   "metadata": {},
   "source": [
    "# Regular NDVI"
   ]
  },
  {
   "cell_type": "code",
   "execution_count": 31,
   "id": "31c20c51",
   "metadata": {},
   "outputs": [
    {
     "data": {
      "text/html": [
       "<div>\n",
       "<style scoped>\n",
       "    .dataframe tbody tr th:only-of-type {\n",
       "        vertical-align: middle;\n",
       "    }\n",
       "\n",
       "    .dataframe tbody tr th {\n",
       "        vertical-align: top;\n",
       "    }\n",
       "\n",
       "    .dataframe thead th {\n",
       "        text-align: right;\n",
       "    }\n",
       "</style>\n",
       "<table border=\"1\" class=\"dataframe\">\n",
       "  <thead>\n",
       "    <tr style=\"text-align: right;\">\n",
       "      <th></th>\n",
       "      <th>ID</th>\n",
       "      <th>human_system_start_time</th>\n",
       "      <th>NDVI</th>\n",
       "    </tr>\n",
       "  </thead>\n",
       "  <tbody>\n",
       "    <tr>\n",
       "      <th>0</th>\n",
       "      <td>135073_WSDA_SF_2015</td>\n",
       "      <td>2015-01-10</td>\n",
       "      <td>0.163569</td>\n",
       "    </tr>\n",
       "    <tr>\n",
       "      <th>1</th>\n",
       "      <td>135073_WSDA_SF_2015</td>\n",
       "      <td>2015-01-20</td>\n",
       "      <td>0.028382</td>\n",
       "    </tr>\n",
       "  </tbody>\n",
       "</table>\n",
       "</div>"
      ],
      "text/plain": [
       "                    ID human_system_start_time      NDVI\n",
       "0  135073_WSDA_SF_2015              2015-01-10  0.163569\n",
       "1  135073_WSDA_SF_2015              2015-01-20  0.028382"
      ]
     },
     "execution_count": 31,
     "metadata": {},
     "output_type": "execute_result"
    }
   ],
   "source": [
    "VI_idx=\"NDVI\"\n",
    "file_names = [\"regular_Walla2015_\"+VI_idx+\"_JFD.csv\", \"regular_AdamBenton2016_\"+VI_idx+\"_JFD.csv\", \n",
    "              \"regular_Grant2017_\"+VI_idx+\"_JFD.csv\", \"regular_FranklinYakima2018_\"+VI_idx+\"_JFD.csv\"]\n",
    "\n",
    "data=pd.DataFrame()\n",
    "\n",
    "for file in file_names:\n",
    "    curr_file=pd.read_csv(data_dir + file)\n",
    "    curr_file['human_system_start_time'] = pd.to_datetime(curr_file['human_system_start_time'])\n",
    "    \n",
    "    # These data are for 3 years. The middle one is the correct one\n",
    "    all_years = sorted(curr_file.human_system_start_time.dt.year.unique())\n",
    "    if len(all_years)==3 or len(all_years)==2:\n",
    "        proper_year = all_years[1]\n",
    "    elif len(all_years)==1:\n",
    "        proper_year = all_years[0]\n",
    "\n",
    "    curr_file = curr_file[curr_file.human_system_start_time.dt.year==proper_year]\n",
    "    data=pd.concat([data, curr_file])\n",
    "\n",
    "data.reset_index(drop=True, inplace=True)\n",
    "data.loc[data[VI_idx]<0, VI_idx]=0\n",
    "data.head(2)"
   ]
  },
  {
   "cell_type": "code",
   "execution_count": 32,
   "id": "47cc31a7",
   "metadata": {},
   "outputs": [
    {
     "data": {
      "text/plain": [
       "1342"
      ]
     },
     "execution_count": 32,
     "metadata": {},
     "output_type": "execute_result"
    }
   ],
   "source": [
    "trainIDs = list(train_labels.ID.unique())\n",
    "data = data[data.ID.isin(trainIDs)]\n",
    "data.reset_index(drop=True, inplace=True)\n",
    "len(trainIDs)"
   ]
  },
  {
   "cell_type": "code",
   "execution_count": 33,
   "id": "b2df8a43",
   "metadata": {},
   "outputs": [
    {
     "data": {
      "text/plain": [
       "'/Users/hn/Documents/01_research_data/NASA/ML_data/regular_train_images_NDVI/'"
      ]
     },
     "execution_count": 33,
     "metadata": {},
     "output_type": "execute_result"
    }
   ],
   "source": [
    "for curr_ID in data.ID.unique():\n",
    "    crr_fld=data[data.ID==curr_ID].copy()\n",
    "    crr_fld.reset_index(drop=True, inplace=True)\n",
    "    # crr_fld['human_system_start_time'] = pd.to_datetime(crr_fld['human_system_start_time'])\n",
    "    SFYr = crr_fld.human_system_start_time.dt.year.unique()[0]\n",
    "    fig, ax = plt.subplots();\n",
    "    fig.set_size_inches(10, 2.5)\n",
    "    ax.grid(False);\n",
    "    ax.plot(crr_fld['human_system_start_time'], crr_fld[VI_idx], \n",
    "            c ='dodgerblue', linewidth=5)\n",
    "\n",
    "    ax.axis(\"off\")\n",
    "    left = crr_fld['human_system_start_time'][0]\n",
    "    right = crr_fld['human_system_start_time'].values[-1]\n",
    "    ax.set_xlim([left, right]); # the following line alsow orks\n",
    "    ax.set_ylim([-0.005, 1]); # the following line alsow orks\n",
    "\n",
    "    crop_count = train_labels[train_labels.ID==curr_ID][\"Vote\"].values[0]\n",
    "    if crop_count==1:\n",
    "        crop_count_letter=\"single\"\n",
    "    else:\n",
    "        crop_count_letter=\"double\"\n",
    "    \n",
    "    # train_images is the same as expert labels!\n",
    "    plot_path = \"/Users/hn/Documents/01_research_data/NASA/ML_data/regular_train_images_\" + VI_idx + \"/\"\n",
    "    os.makedirs(plot_path, exist_ok=True)\n",
    "    fig_name = plot_path + crop_count_letter + \"_\" + curr_ID +'.jpg'\n",
    "    plt.savefig(fname = fig_name, dpi=200, bbox_inches='tight', facecolor=\"w\")\n",
    "    plt.close('all')\n",
    "\n",
    "print(plot_path)"
   ]
  },
  {
   "cell_type": "code",
   "execution_count": null,
   "id": "b8a774e8",
   "metadata": {},
   "outputs": [],
   "source": []
  }
 ],
 "metadata": {
  "kernelspec": {
   "display_name": "Python 3 (ipykernel)",
   "language": "python",
   "name": "python3"
  },
  "language_info": {
   "codemirror_mode": {
    "name": "ipython",
    "version": 3
   },
   "file_extension": ".py",
   "mimetype": "text/x-python",
   "name": "python",
   "nbconvert_exporter": "python",
   "pygments_lexer": "ipython3",
   "version": "3.9.12"
  }
 },
 "nbformat": 4,
 "nbformat_minor": 5
}
