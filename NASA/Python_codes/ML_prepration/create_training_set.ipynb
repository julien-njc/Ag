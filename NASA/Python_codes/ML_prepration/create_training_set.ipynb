{
 "cells": [
  {
   "cell_type": "code",
   "execution_count": 1,
   "metadata": {},
   "outputs": [],
   "source": [
    "# import warnings\n",
    "# warnings.filterwarnings(\"ignore\")\n",
    "\n",
    "import csv\n",
    "import numpy as np\n",
    "import pandas as pd\n",
    "import scipy\n",
    "\n",
    "import os, os.path\n",
    "import sys\n",
    "\n",
    "# to move files from one directory to another\n",
    "import shutil"
   ]
  },
  {
   "cell_type": "code",
   "execution_count": 2,
   "metadata": {},
   "outputs": [],
   "source": [
    "sys.path.append('/Users/hn/Documents/00_GitHub/Ag/NASA/Python_codes/')\n",
    "import NASA_core as nc"
   ]
  },
  {
   "cell_type": "code",
   "execution_count": 3,
   "metadata": {},
   "outputs": [],
   "source": [
    "data_dir = \"/Users/hn/Documents/01_research_data/NASA/data_part_of_shapefile/\"\n",
    "output_dir = \"/Users/hn/Documents/01_research_data/NASA/\"\n",
    "param_dir = output_dir + \"/parameters/\"\n",
    "\n",
    "# double_crop_potens = pd.read_csv(param_dir + \"double_crop_potential_plants.csv\")"
   ]
  },
  {
   "cell_type": "code",
   "execution_count": null,
   "metadata": {},
   "outputs": [],
   "source": []
  },
  {
   "cell_type": "code",
   "execution_count": 4,
   "metadata": {},
   "outputs": [],
   "source": [
    "f_names = [\"AdamBenton2016.csv\",\n",
    "           \"FranklinYakima2018.csv\",\n",
    "           \"Grant2017.csv\",\n",
    "           \"Walla2015.csv\"]"
   ]
  },
  {
   "cell_type": "markdown",
   "metadata": {},
   "source": [
    "# List of unwanted fields"
   ]
  },
  {
   "cell_type": "code",
   "execution_count": 5,
   "metadata": {},
   "outputs": [],
   "source": [
    "unwanted_crop = [\"christmas tree\", \"conifer seed\", \n",
    "                 \"crp/conservation\", \"dahlia\", \"dandelion\", \"developed\", \n",
    "                 \"driving range\", \"flowers, nursery and christmas tree farms\",\n",
    "                 \"golf course\", \"greenhouse\", \"iris\", \"miscellaneous deciduous\", \n",
    "                 \"nursery, caneberry\", \"nursery, greenhouse\", \"nursery, holly\",\n",
    "                 \"nursery, lavender\", \"nursery, lilac\", \"nursery, orchard/vineyard\",\n",
    "                 \"nursery, ornamental\", \"nursery, silvaculture\", \"nursery, silviculture\",\n",
    "                 \"peony\", \"reclamation seed\",\n",
    "                 \"research station\", \"shellfish\", \n",
    "                 \"silvaculture\", \"silviculture\", \"tulip\"]"
   ]
  },
  {
   "cell_type": "markdown",
   "metadata": {},
   "source": [
    "# Read Files"
   ]
  },
  {
   "cell_type": "code",
   "execution_count": 6,
   "metadata": {},
   "outputs": [],
   "source": [
    "all_fields = pd.DataFrame(data=None, index=None)\n",
    "all_fields_correct_year = pd.DataFrame(data=None, index=None)\n",
    "for file in f_names:\n",
    "    curr_table = pd.read_csv(data_dir + file, low_memory=False)\n",
    "    all_fields = pd.concat([all_fields, curr_table]).reset_index(drop=True)\n",
    "    \n",
    "    # pick proper year here. currently it is in the function \n",
    "    # generate_training_set_important_counties(.)\n",
    "    # or you want to keep it in the function?\n",
    "    curr_table = nc.filter_by_lastSurvey(curr_table, file[-8:-4])\n",
    "    all_fields_correct_year = pd.concat([all_fields_correct_year, curr_table]).reset_index(drop=True)\n",
    "    \n",
    "\n",
    "all_fields['CropTyp'] = all_fields['CropTyp'].str.lower()\n",
    "all_fields.drop_duplicates(inplace=True) # sanity check\n",
    "\n",
    "\n",
    "all_fields_correct_year['CropTyp'] = all_fields_correct_year['CropTyp'].str.lower()\n",
    "all_fields_correct_year.drop_duplicates(inplace=True) # sanity check"
   ]
  },
  {
   "cell_type": "code",
   "execution_count": 7,
   "metadata": {},
   "outputs": [
    {
     "name": "stdout",
     "output_type": "stream",
     "text": [
      "all_fields.shape is:  (77530, 15)\n",
      "all_fields_correct_year.shape is:  (64846, 15)\n",
      "No. unique crops in all_fields is: 116\n",
      "No. unique crops in all_fields_correct_year is: 116\n"
     ]
    }
   ],
   "source": [
    "print (\"all_fields.shape is: \", all_fields.shape) \n",
    "print (\"all_fields_correct_year.shape is: \", all_fields_correct_year.shape) \n",
    "\n",
    "print (\"No. unique crops in all_fields is:\", len(all_fields.CropTyp.unique()))\n",
    "print (\"No. unique crops in all_fields_correct_year is:\", len(all_fields.CropTyp.unique()))"
   ]
  },
  {
   "cell_type": "markdown",
   "metadata": {},
   "source": [
    "# Filters \n",
    "  - NASS, last survey date, Irrigated fields, and unwanted locations such as research station."
   ]
  },
  {
   "cell_type": "markdown",
   "metadata": {},
   "source": [
    "# Filter Irrigated Fields"
   ]
  },
  {
   "cell_type": "code",
   "execution_count": 8,
   "metadata": {},
   "outputs": [
    {
     "name": "stdout",
     "output_type": "stream",
     "text": [
      "all_fields.shape: (77530, 15)\n",
      "all_fields_irr.shape: (53582, 15)\n",
      "\n",
      "all_fields_correct_year.shape: (64846, 15)\n",
      "all_fields_correct_year_irr.shape (44850, 15)\n"
     ]
    }
   ],
   "source": [
    "# pick up irrigated\n",
    "all_fields_irr = nc.filter_out_nonIrrigated(all_fields)\n",
    "all_fields_correct_year_irr = nc.filter_out_nonIrrigated(all_fields_correct_year)\n",
    "\n",
    "\n",
    "print (\"all_fields.shape:\", all_fields.shape)\n",
    "print (\"all_fields_irr.shape:\", all_fields_irr.shape)\n",
    "print (\"\")\n",
    "print (\"all_fields_correct_year.shape:\", all_fields_correct_year.shape)\n",
    "print (\"all_fields_correct_year_irr.shape\", all_fields_correct_year_irr.shape)"
   ]
  },
  {
   "cell_type": "code",
   "execution_count": 9,
   "metadata": {},
   "outputs": [],
   "source": [
    "del(all_fields, all_fields_correct_year)\n"
   ]
  },
  {
   "cell_type": "markdown",
   "metadata": {},
   "source": [
    "# Toss unwanted crops: xmass-tree and such"
   ]
  },
  {
   "cell_type": "code",
   "execution_count": 10,
   "metadata": {},
   "outputs": [
    {
     "name": "stdout",
     "output_type": "stream",
     "text": [
      "After tossing unwanted crops, # unique crops in all_fields is [101].\n",
      "After tossing unwanted crops, # unique crops in all_fields_correct_year is [95].\n"
     ]
    }
   ],
   "source": [
    "# toss anything with \"nursery\" in crop-type\n",
    "all_fields_irr = all_fields_irr[~(all_fields_irr['CropTyp'].str.contains('nursery'))]\n",
    "all_fields_correct_year_irr = \\\n",
    "                  all_fields_correct_year_irr[~(all_fields_correct_year_irr['CropTyp'].str.contains('nursery'))]\n",
    "\n",
    "\n",
    "# toss unwanted crops\n",
    "all_fields_irr = all_fields_irr[~(all_fields_irr.CropTyp.isin(unwanted_crop))]\n",
    "all_fields_correct_year_irr = all_fields_correct_year_irr[~(all_fields_correct_year_irr.CropTyp.isin(unwanted_crop))]\n",
    "\n",
    "\n",
    "LL = len(all_fields_irr.CropTyp.unique())\n",
    "print (\"After tossing unwanted crops, # unique crops in all_fields is [%(ncrops)d].\" % {\"ncrops\": LL}) \n",
    "\n",
    "LL = len(all_fields_correct_year_irr.CropTyp.unique())\n",
    "print (\"After tossing unwanted crops, # unique crops in all_fields_correct_year is [%(ncrops)d].\" % {\"ncrops\": LL}) "
   ]
  },
  {
   "cell_type": "markdown",
   "metadata": {},
   "source": [
    "# Detec crop-types with less than 10 fields!\n",
    "\n",
    "- No filter for ```NASS``` or ```last-survey-date```: checkpoint\n",
    "\n",
    "Except we have filtered correct year in ```all_fields_correct_year``` which we are not using for the purpose of low-frequency crop-types!"
   ]
  },
  {
   "cell_type": "code",
   "execution_count": 11,
   "metadata": {},
   "outputs": [
    {
     "name": "stdout",
     "output_type": "stream",
     "text": [
      "['2011/05/24 00:00:00' '2012/05/07 00:00:00' '2012/05/09 00:00:00'\n",
      " '2012/05/22 00:00:00' '2012/10/03 00:00:00' '2012/12/31 00:00:00'\n",
      " '2013/07/04 00:00:00' '2013/07/31 00:00:00' '2013/09/05 00:00:00']\n",
      "\n",
      "['wsda' 'nass' 'producer' 'conservation district']\n"
     ]
    }
   ],
   "source": [
    "print (np.sort(all_fields_irr.LstSrvD.unique())[1:10])\n",
    "print (\"\")\n",
    "print (all_fields_irr.DataSrc.unique())"
   ]
  },
  {
   "cell_type": "markdown",
   "metadata": {},
   "source": [
    "# Toss crop types with less than 10 fields growing them.\n",
    "\n",
    "These fields are found by looking into ```all_fields```. We count number of these fields\n",
    "before filtering by ```last-survey-date```!"
   ]
  },
  {
   "cell_type": "code",
   "execution_count": 12,
   "metadata": {},
   "outputs": [],
   "source": [
    "all_fields_irr_narrow = all_fields_irr[[\"ID\", \"CropTyp\"]].copy()\n",
    "all_fields_irr_narrow = all_fields_irr_narrow.groupby(['CropTyp']).count()\n",
    "all_fields_irr_narrow = all_fields_irr_narrow[all_fields_irr_narrow.ID <= 10].copy()\n",
    "all_fields_irr_narrow.reset_index(inplace=True)\n",
    "\n",
    "out_name = output_dir + \"cropTypes_lessThan10_6counties_irr.csv\"\n",
    "# all_fields_irr_narrow.to_csv(out_name, index = False)\n",
    "\n",
    "all_fields_irr_narrow.head(2)\n",
    "\n",
    "not_important_crops = all_fields_irr_narrow.CropTyp.unique()"
   ]
  },
  {
   "cell_type": "code",
   "execution_count": 13,
   "metadata": {},
   "outputs": [],
   "source": [
    "# del(all_fields_irr_narrow, all_fields_irr)"
   ]
  },
  {
   "cell_type": "code",
   "execution_count": 14,
   "metadata": {},
   "outputs": [
    {
     "name": "stdout",
     "output_type": "stream",
     "text": [
      "Before tossing low-count-fields, # unique crops is [95].\n",
      "After tossing low-count-fields, # unique crops is [68].\n"
     ]
    }
   ],
   "source": [
    "LL = len(all_fields_correct_year_irr.CropTyp.unique())\n",
    "print (\"Before tossing low-count-fields, # unique crops is [%(ncrops)d].\" % {\"ncrops\": LL}) \n",
    "\n",
    "all_fields_correct_year_irr = \\\n",
    "                     all_fields_correct_year_irr[~(all_fields_correct_year_irr.CropTyp.isin(not_important_crops))]\n",
    "\n",
    "LL = len(all_fields_correct_year_irr.CropTyp.unique())\n",
    "print (\"After tossing low-count-fields, # unique crops is [%(ncrops)d].\" % {\"ncrops\": LL}) "
   ]
  },
  {
   "cell_type": "code",
   "execution_count": 38,
   "metadata": {},
   "outputs": [],
   "source": [
    "# ryegrass_seed = all_fields_correct_year_irr[all_fields_correct_year_irr.CropTyp == \"ryegrass seed\"]\n",
    "\n",
    "# print (ryegrass_seed.shape)\n",
    "\n",
    "# pepper = all_fields_correct_year_irr[all_fields_correct_year_irr.CropTyp == \"pepper\"]\n",
    "# print (pepper.shape)"
   ]
  },
  {
   "cell_type": "code",
   "execution_count": null,
   "metadata": {},
   "outputs": [],
   "source": []
  },
  {
   "cell_type": "code",
   "execution_count": null,
   "metadata": {},
   "outputs": [],
   "source": []
  },
  {
   "cell_type": "code",
   "execution_count": null,
   "metadata": {},
   "outputs": [],
   "source": []
  },
  {
   "cell_type": "markdown",
   "metadata": {},
   "source": [
    "# TOSS NASS"
   ]
  },
  {
   "cell_type": "code",
   "execution_count": 23,
   "metadata": {},
   "outputs": [
    {
     "name": "stdout",
     "output_type": "stream",
     "text": [
      "(44061, 15)\n",
      "(36491, 15)\n"
     ]
    }
   ],
   "source": [
    "print (all_fields_correct_year_irr.shape)\n",
    "\n",
    "all_fields_correct_year_irr_noNass = nc.filter_out_NASS(all_fields_correct_year_irr)\n",
    "\n",
    "print (all_fields_correct_year_irr_noNass.shape)"
   ]
  },
  {
   "cell_type": "code",
   "execution_count": 24,
   "metadata": {},
   "outputs": [],
   "source": [
    "del(all_fields_correct_year_irr)"
   ]
  },
  {
   "cell_type": "code",
   "execution_count": 25,
   "metadata": {},
   "outputs": [],
   "source": [
    "# print (\"No. unique crop type is [%(ncrops)d].\" % {\"ncrops\":len(all_fields.CropTyp.unique())}) \n",
    "# print (\"\")\n",
    "# print (np.sort(all_fields.CropTyp.unique()))"
   ]
  },
  {
   "cell_type": "code",
   "execution_count": 26,
   "metadata": {},
   "outputs": [
    {
     "name": "stdout",
     "output_type": "stream",
     "text": [
      "LL\t all_fields_correct_year_irr_noNass\t all_fields_irr\t all_fields_irr_narrow\t csv\t curr_table\t data_dir\t f_names\t file\t \n",
      "nc\t not_important_crops\t np\t os\t out_name\t output_dir\t param_dir\t pd\t pepper\t \n",
      "ryegrass_seed\t scipy\t shutil\t sys\t unwanted_crop\t \n"
     ]
    }
   ],
   "source": [
    "%who"
   ]
  },
  {
   "cell_type": "markdown",
   "metadata": {},
   "source": [
    "# Choose 10% of the fields, randomly"
   ]
  },
  {
   "cell_type": "code",
   "execution_count": 27,
   "metadata": {},
   "outputs": [],
   "source": [
    "# number_of_fields_to_pick = all_fields_correct_year_irr_noNass.shape[0] // 10\n",
    "number_of_fields_to_pick = all_fields_irr.shape[0] // 10\n",
    "min_count = 50\n",
    "unique_crops = all_fields_correct_year_irr_noNass.CropTyp.unique()\n",
    "all_fields_correct_year_irr_noNass.reset_index(inplace=True, drop=True)"
   ]
  },
  {
   "cell_type": "code",
   "execution_count": 28,
   "metadata": {},
   "outputs": [
    {
     "data": {
      "text/plain": [
       "5261"
      ]
     },
     "execution_count": 28,
     "metadata": {},
     "output_type": "execute_result"
    }
   ],
   "source": [
    "number_of_fields_to_pick"
   ]
  },
  {
   "cell_type": "code",
   "execution_count": 29,
   "metadata": {},
   "outputs": [],
   "source": [
    "import random\n",
    "random.seed(10)\n",
    "np.random.seed(10)\n",
    "\n",
    "unique_fields = all_fields_correct_year_irr_noNass.ID.unique()\n",
    "unique_crops = all_fields_correct_year_irr_noNass.CropTyp.unique()\n",
    "randomly_chosen_fields = list(np.random.choice(unique_fields, number_of_fields_to_pick, replace=False))\n",
    "\n",
    "randomly_chosen_dt = all_fields_correct_year_irr_noNass[\\\n",
    "                                all_fields_correct_year_irr_noNass.ID.isin(randomly_chosen_fields)].copy()\n",
    "\n",
    "not_chosen_dt = all_fields_correct_year_irr_noNass[\\\n",
    "                                ~(all_fields_correct_year_irr_noNass.ID.isin(randomly_chosen_fields))].copy()"
   ]
  },
  {
   "cell_type": "code",
   "execution_count": 39,
   "metadata": {},
   "outputs": [],
   "source": [
    "# not_chosen_pepper = not_chosen_dt[not_chosen_dt.CropTyp == \"pepper\"]\n",
    "# print (not_chosen_pepper.shape)\n",
    "\n",
    "# chosen_peppers = randomly_chosen_dt[randomly_chosen_dt.CropTyp == \"pepper\"]\n",
    "# print (chosen_peppers.shape)"
   ]
  },
  {
   "cell_type": "code",
   "execution_count": null,
   "metadata": {},
   "outputs": [],
   "source": []
  },
  {
   "cell_type": "code",
   "execution_count": null,
   "metadata": {},
   "outputs": [],
   "source": []
  },
  {
   "cell_type": "markdown",
   "metadata": {},
   "source": [
    "# Go through crops and make sure 50 of each is chosen!!!"
   ]
  },
  {
   "cell_type": "code",
   "execution_count": 25,
   "metadata": {},
   "outputs": [
    {
     "name": "stdout",
     "output_type": "stream",
     "text": [
      "curr_chose_size [16].\n",
      "need_more_count [34].\n",
      "not_chosen_dt_a_crop.shape[0] [92].\n",
      "need_more_count [34].\n",
      "\n",
      "curr_chose_size [7].\n",
      "need_more_count [43].\n",
      "not_chosen_dt_a_crop.shape[0] [20].\n",
      "need_more_count [20].\n",
      "\n",
      "curr_chose_size [15].\n",
      "need_more_count [35].\n",
      "not_chosen_dt_a_crop.shape[0] [56].\n",
      "need_more_count [35].\n",
      "\n",
      "curr_chose_size [46].\n",
      "need_more_count [4].\n",
      "not_chosen_dt_a_crop.shape[0] [252].\n",
      "need_more_count [4].\n",
      "\n",
      "curr_chose_size [37].\n",
      "need_more_count [13].\n",
      "not_chosen_dt_a_crop.shape[0] [177].\n",
      "need_more_count [13].\n",
      "\n",
      "curr_chose_size [8].\n",
      "need_more_count [42].\n",
      "not_chosen_dt_a_crop.shape[0] [39].\n",
      "need_more_count [39].\n",
      "\n",
      "curr_chose_size [5].\n",
      "need_more_count [45].\n",
      "not_chosen_dt_a_crop.shape[0] [14].\n",
      "need_more_count [14].\n",
      "\n",
      "curr_chose_size [4].\n",
      "need_more_count [46].\n",
      "not_chosen_dt_a_crop.shape[0] [25].\n",
      "need_more_count [25].\n",
      "\n",
      "curr_chose_size [4].\n",
      "need_more_count [46].\n",
      "not_chosen_dt_a_crop.shape[0] [20].\n",
      "need_more_count [20].\n",
      "\n",
      "curr_chose_size [19].\n",
      "need_more_count [31].\n",
      "not_chosen_dt_a_crop.shape[0] [85].\n",
      "need_more_count [31].\n",
      "\n",
      "curr_chose_size [14].\n",
      "need_more_count [36].\n",
      "not_chosen_dt_a_crop.shape[0] [94].\n",
      "need_more_count [36].\n",
      "\n",
      "curr_chose_size [3].\n",
      "need_more_count [47].\n",
      "not_chosen_dt_a_crop.shape[0] [14].\n",
      "need_more_count [14].\n",
      "\n",
      "curr_chose_size [22].\n",
      "need_more_count [28].\n",
      "not_chosen_dt_a_crop.shape[0] [109].\n",
      "need_more_count [28].\n",
      "\n",
      "curr_chose_size [6].\n",
      "need_more_count [44].\n",
      "not_chosen_dt_a_crop.shape[0] [24].\n",
      "need_more_count [24].\n",
      "\n",
      "curr_chose_size [6].\n",
      "need_more_count [44].\n",
      "not_chosen_dt_a_crop.shape[0] [16].\n",
      "need_more_count [16].\n",
      "\n",
      "curr_chose_size [1].\n",
      "need_more_count [49].\n",
      "not_chosen_dt_a_crop.shape[0] [41].\n",
      "need_more_count [41].\n",
      "\n",
      "curr_chose_size [35].\n",
      "need_more_count [15].\n",
      "not_chosen_dt_a_crop.shape[0] [210].\n",
      "need_more_count [15].\n",
      "\n",
      "curr_chose_size [5].\n",
      "need_more_count [45].\n",
      "not_chosen_dt_a_crop.shape[0] [40].\n",
      "need_more_count [40].\n",
      "\n",
      "curr_chose_size [5].\n",
      "need_more_count [45].\n",
      "not_chosen_dt_a_crop.shape[0] [21].\n",
      "need_more_count [21].\n",
      "\n",
      "curr_chose_size [3].\n",
      "need_more_count [47].\n",
      "not_chosen_dt_a_crop.shape[0] [16].\n",
      "need_more_count [16].\n",
      "\n",
      "curr_chose_size [5].\n",
      "need_more_count [45].\n",
      "not_chosen_dt_a_crop.shape[0] [29].\n",
      "need_more_count [29].\n",
      "\n",
      "curr_chose_size [1].\n",
      "need_more_count [49].\n",
      "not_chosen_dt_a_crop.shape[0] [4].\n",
      "need_more_count [4].\n",
      "\n",
      "curr_chose_size [18].\n",
      "need_more_count [32].\n",
      "not_chosen_dt_a_crop.shape[0] [165].\n",
      "need_more_count [32].\n",
      "\n",
      "curr_chose_size [30].\n",
      "need_more_count [20].\n",
      "not_chosen_dt_a_crop.shape[0] [191].\n",
      "need_more_count [20].\n",
      "\n",
      "curr_chose_size [20].\n",
      "need_more_count [30].\n",
      "not_chosen_dt_a_crop.shape[0] [112].\n",
      "need_more_count [30].\n",
      "\n",
      "curr_chose_size [7].\n",
      "need_more_count [43].\n",
      "not_chosen_dt_a_crop.shape[0] [40].\n",
      "need_more_count [40].\n",
      "\n",
      "curr_chose_size [2].\n",
      "need_more_count [48].\n",
      "not_chosen_dt_a_crop.shape[0] [6].\n",
      "need_more_count [6].\n",
      "\n",
      "curr_chose_size [0].\n",
      "need_more_count [50].\n",
      "not_chosen_dt_a_crop.shape[0] [18].\n",
      "need_more_count [18].\n",
      "\n",
      "curr_chose_size [3].\n",
      "need_more_count [47].\n",
      "not_chosen_dt_a_crop.shape[0] [8].\n",
      "need_more_count [8].\n",
      "\n",
      "curr_chose_size [20].\n",
      "need_more_count [30].\n",
      "not_chosen_dt_a_crop.shape[0] [163].\n",
      "need_more_count [30].\n",
      "\n",
      "curr_chose_size [12].\n",
      "need_more_count [38].\n",
      "not_chosen_dt_a_crop.shape[0] [97].\n",
      "need_more_count [38].\n",
      "\n",
      "curr_chose_size [3].\n",
      "need_more_count [47].\n",
      "not_chosen_dt_a_crop.shape[0] [23].\n",
      "need_more_count [23].\n",
      "\n",
      "curr_chose_size [8].\n",
      "need_more_count [42].\n",
      "not_chosen_dt_a_crop.shape[0] [40].\n",
      "need_more_count [40].\n",
      "\n",
      "curr_chose_size [2].\n",
      "need_more_count [48].\n",
      "not_chosen_dt_a_crop.shape[0] [19].\n",
      "need_more_count [19].\n",
      "\n",
      "curr_chose_size [6].\n",
      "need_more_count [44].\n",
      "not_chosen_dt_a_crop.shape[0] [48].\n",
      "need_more_count [44].\n",
      "\n",
      "curr_chose_size [1].\n",
      "need_more_count [49].\n",
      "not_chosen_dt_a_crop.shape[0] [13].\n",
      "need_more_count [13].\n",
      "\n",
      "curr_chose_size [3].\n",
      "need_more_count [47].\n",
      "not_chosen_dt_a_crop.shape[0] [7].\n",
      "need_more_count [7].\n",
      "\n",
      "curr_chose_size [7].\n",
      "need_more_count [43].\n",
      "not_chosen_dt_a_crop.shape[0] [36].\n",
      "need_more_count [36].\n",
      "\n",
      "curr_chose_size [18].\n",
      "need_more_count [32].\n",
      "not_chosen_dt_a_crop.shape[0] [76].\n",
      "need_more_count [32].\n",
      "\n",
      "curr_chose_size [2].\n",
      "need_more_count [48].\n",
      "not_chosen_dt_a_crop.shape[0] [11].\n",
      "need_more_count [11].\n",
      "\n",
      "curr_chose_size [0].\n",
      "need_more_count [50].\n",
      "not_chosen_dt_a_crop.shape[0] [2].\n",
      "need_more_count [2].\n",
      "\n",
      "curr_chose_size [2].\n",
      "need_more_count [48].\n",
      "not_chosen_dt_a_crop.shape[0] [11].\n",
      "need_more_count [11].\n",
      "\n",
      "curr_chose_size [1].\n",
      "need_more_count [49].\n",
      "not_chosen_dt_a_crop.shape[0] [11].\n",
      "need_more_count [11].\n",
      "\n",
      "curr_chose_size [1].\n",
      "need_more_count [49].\n",
      "not_chosen_dt_a_crop.shape[0] [16].\n",
      "need_more_count [16].\n",
      "\n",
      "curr_chose_size [0].\n",
      "need_more_count [50].\n",
      "not_chosen_dt_a_crop.shape[0] [9].\n",
      "need_more_count [9].\n",
      "\n",
      "curr_chose_size [0].\n",
      "need_more_count [50].\n",
      "not_chosen_dt_a_crop.shape[0] [20].\n",
      "need_more_count [20].\n",
      "\n",
      "curr_chose_size [7].\n",
      "need_more_count [43].\n",
      "not_chosen_dt_a_crop.shape[0] [25].\n",
      "need_more_count [25].\n",
      "\n",
      "curr_chose_size [4].\n",
      "need_more_count [46].\n",
      "not_chosen_dt_a_crop.shape[0] [19].\n",
      "need_more_count [19].\n",
      "\n"
     ]
    }
   ],
   "source": [
    "for a_crop in unique_crops:\n",
    "    curr_chose_size = randomly_chosen_dt[randomly_chosen_dt.CropTyp == a_crop].shape[0]\n",
    "    if (curr_chose_size < min_count):\n",
    "        not_chosen_dt_a_crop = not_chosen_dt[not_chosen_dt.CropTyp == a_crop]\n",
    "        \"\"\"\n",
    "          we need extra fields to reach min_count. But we may have less than what we need.\n",
    "          So, we settle with whatever we have!\n",
    "        \"\"\"\n",
    "        need_more_count = min_count - curr_chose_size\n",
    "        # print (\"curr_chose_size [%(curr_chose_size)d].\" % {\"curr_chose_size\": curr_chose_size}) \n",
    "        # print (\"need_more_count [%(need_more_count)d].\" % {\"need_more_count\": need_more_count}) \n",
    "        # print (\"not_chosen_dt_a_crop.shape[0] [%(AA)d].\" % {\"AA\": not_chosen_dt_a_crop.shape[0]}) \n",
    "\n",
    "        need_more_count = min(need_more_count, not_chosen_dt_a_crop.shape[0])\n",
    "        # print (\"need_more_count [%(need_more_count)d].\" % {\"need_more_count\": need_more_count}) \n",
    "        # print()\n",
    "        \n",
    "        \n",
    "        additional_rand_choice = list(np.random.choice(not_chosen_dt_a_crop.ID.unique(), \n",
    "                                                       need_more_count, replace=False))\n",
    "\n",
    "        additional_dt = not_chosen_dt_a_crop[not_chosen_dt_a_crop.ID.isin(additional_rand_choice)].copy()\n",
    "        randomly_chosen_dt = pd.concat([randomly_chosen_dt, additional_dt]).reset_index(drop=True)\n",
    "        \n",
    "randomly_chosen_dt.sort_values(by=['CropTyp', 'ID'], inplace=True)\n",
    "\n",
    "needed_columns = ['ID', 'CropTyp', 'Irrigtn', 'DataSrc', \n",
    "                  'Acres', 'ExctAcr', 'LstSrvD','county']\n",
    "   \n",
    "randomly_chosen_dt = randomly_chosen_dt[needed_columns]"
   ]
  },
  {
   "cell_type": "code",
   "execution_count": 26,
   "metadata": {},
   "outputs": [
    {
     "name": "stdout",
     "output_type": "stream",
     "text": [
      "(6340, 8)\n"
     ]
    },
    {
     "data": {
      "text/html": [
       "<div>\n",
       "<style scoped>\n",
       "    .dataframe tbody tr th:only-of-type {\n",
       "        vertical-align: middle;\n",
       "    }\n",
       "\n",
       "    .dataframe tbody tr th {\n",
       "        vertical-align: top;\n",
       "    }\n",
       "\n",
       "    .dataframe thead th {\n",
       "        text-align: right;\n",
       "    }\n",
       "</style>\n",
       "<table border=\"1\" class=\"dataframe\">\n",
       "  <thead>\n",
       "    <tr style=\"text-align: right;\">\n",
       "      <th></th>\n",
       "      <th>ID</th>\n",
       "      <th>CropTyp</th>\n",
       "      <th>Irrigtn</th>\n",
       "      <th>DataSrc</th>\n",
       "      <th>Acres</th>\n",
       "      <th>ExctAcr</th>\n",
       "      <th>LstSrvD</th>\n",
       "      <th>county</th>\n",
       "    </tr>\n",
       "  </thead>\n",
       "  <tbody>\n",
       "    <tr>\n",
       "      <th>3691</th>\n",
       "      <td>100010_WSDA_SF_2017</td>\n",
       "      <td>alfalfa hay</td>\n",
       "      <td>center pivot</td>\n",
       "      <td>wsda</td>\n",
       "      <td>34</td>\n",
       "      <td>34.310305</td>\n",
       "      <td>2017/09/12</td>\n",
       "      <td>Grant</td>\n",
       "    </tr>\n",
       "    <tr>\n",
       "      <th>3710</th>\n",
       "      <td>100204_WSDA_SF_2017</td>\n",
       "      <td>alfalfa hay</td>\n",
       "      <td>center pivot</td>\n",
       "      <td>wsda</td>\n",
       "      <td>62</td>\n",
       "      <td>61.826535</td>\n",
       "      <td>2017/08/09</td>\n",
       "      <td>Grant</td>\n",
       "    </tr>\n",
       "  </tbody>\n",
       "</table>\n",
       "</div>"
      ],
      "text/plain": [
       "                       ID      CropTyp       Irrigtn DataSrc  Acres  \\\n",
       "3691  100010_WSDA_SF_2017  alfalfa hay  center pivot    wsda     34   \n",
       "3710  100204_WSDA_SF_2017  alfalfa hay  center pivot    wsda     62   \n",
       "\n",
       "        ExctAcr     LstSrvD county  \n",
       "3691  34.310305  2017/09/12  Grant  \n",
       "3710  61.826535  2017/08/09  Grant  "
      ]
     },
     "execution_count": 26,
     "metadata": {},
     "output_type": "execute_result"
    }
   ],
   "source": [
    "print (randomly_chosen_dt.shape)\n",
    "randomly_chosen_dt.head(2)"
   ]
  },
  {
   "cell_type": "code",
   "execution_count": null,
   "metadata": {},
   "outputs": [],
   "source": [
    "randomly_chosen_dt.sort_values(by=['CropTyp', 'ID', 'county'], inplace=True)\n",
    "\n",
    "out_name = output_dir + \"evaluation_set.csv\"\n",
    "randomly_chosen_dt.to_csv(out_name, index = False)"
   ]
  },
  {
   "cell_type": "code",
   "execution_count": null,
   "metadata": {},
   "outputs": [],
   "source": []
  },
  {
   "cell_type": "code",
   "execution_count": null,
   "metadata": {},
   "outputs": [],
   "source": []
  },
  {
   "cell_type": "code",
   "execution_count": null,
   "metadata": {},
   "outputs": [],
   "source": []
  },
  {
   "cell_type": "code",
   "execution_count": null,
   "metadata": {},
   "outputs": [],
   "source": []
  },
  {
   "cell_type": "markdown",
   "metadata": {},
   "source": [
    "# Move the randomly chosen plots to new directory for labeling"
   ]
  },
  {
   "cell_type": "code",
   "execution_count": null,
   "metadata": {},
   "outputs": [],
   "source": [
    "file_prefix =  \"training_set_\"\n",
    "file_post_fix = \"_NASSOut_JustIrr_PereOut_LastSurveyFiltered_10Perc.csv\"\n",
    "\n",
    "dir_base = \"/Users/hn/Documents/01_research_data/remote_sensing/01_NDVI_TS/70_Cloud/00_Eastern_WA_withYear/2Years/\"\n",
    "file_directory = dir_base + \"ground_truth_tables/\"\n",
    "\n",
    "plot_directory_base = dir_base + \"confusions_plots/plots/plots_fine_granularity/ALLYCF_plots_fine_gran/\"\n",
    "plot_directory_postfix = \"_regular_irrigated_only_EVI_SOS3_EOS3/\"\n",
    "\n"
   ]
  },
  {
   "cell_type": "code",
   "execution_count": null,
   "metadata": {},
   "outputs": [],
   "source": [
    "years = [2018] # \n",
    "for year in years:\n",
    "    an_f_name = file_prefix + str(year) + file_post_fix    \n",
    "    ground_truth_table = pd.read_csv(file_directory + an_f_name, low_memory=False)\n",
    "    curr_plot_dir_base = plot_directory_base + str(year) + plot_directory_postfix\n",
    "    \n",
    "    for ii in np.arange(len(ground_truth_table.index)):\n",
    "        crop_type = ground_truth_table.CropTyp[ii]\n",
    "        crop_type = crop_type.replace(\", \", \"_\")\n",
    "        crop_type = crop_type.replace(\" \", \"_\")\n",
    "\n",
    "        curr_plot_dir = curr_plot_dir_base + crop_type + \"/\"\n",
    "        \n",
    "        trainint_path = curr_plot_dir + \"ground_truth/\"\n",
    "        os.makedirs(trainint_path, exist_ok=True)\n",
    "        \n",
    "        curr_file_to_move = ground_truth_table.county[ii].replace(\" \", \"_\") + \"_\" + \\\n",
    "                              crop_type + \"_SF_year_\" + str(year) + \"_\" + ground_truth_table.ID[ii] + \".png\"\n",
    "\n",
    "        try:\n",
    "            shutil.move(curr_plot_dir + curr_file_to_move, trainint_path + curr_file_to_move)\n",
    "        except:\n",
    "            print (\"no such a file\")\n",
    "            print (curr_plot_dir + curr_file_to_move)\n"
   ]
  },
  {
   "cell_type": "code",
   "execution_count": null,
   "metadata": {},
   "outputs": [],
   "source": [
    "ground_truth_table.county[ii].replace(\" \", \"_\")"
   ]
  }
 ],
 "metadata": {
  "kernelspec": {
   "display_name": "Python 3 (ipykernel)",
   "language": "python",
   "name": "python3"
  },
  "language_info": {
   "codemirror_mode": {
    "name": "ipython",
    "version": 3
   },
   "file_extension": ".py",
   "mimetype": "text/x-python",
   "name": "python",
   "nbconvert_exporter": "python",
   "pygments_lexer": "ipython3",
   "version": "3.9.7"
  }
 },
 "nbformat": 4,
 "nbformat_minor": 2
}
