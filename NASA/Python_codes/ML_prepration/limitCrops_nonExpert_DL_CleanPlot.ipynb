{
 "cells": [
  {
   "cell_type": "code",
   "execution_count": 2,
   "id": "f10717cb",
   "metadata": {},
   "outputs": [],
   "source": [
    "import numpy as np\n",
    "import pandas as pd\n",
    "from datetime import date\n",
    "import time\n",
    "import scipy\n",
    "import scipy.signal\n",
    "import os, os.path\n",
    "import matplotlib\n",
    "import matplotlib.pyplot as plt\n",
    "\n",
    "import sys\n",
    "sys.path.append('/Users/hn/Documents/00_GitHub/Ag/NASA/Python_codes/')\n",
    "sys.path.append(\"C:\\\\Users\\\\kirti\\\\Documents\\\\NASA_Codes\\\\Python_codes\\\\\")\n",
    "\n",
    "import NASA_core as nc\n",
    "# import NASA_plot_core.py as rcp"
   ]
  },
  {
   "cell_type": "code",
   "execution_count": null,
   "id": "ece06b8c",
   "metadata": {},
   "outputs": [],
   "source": []
  },
  {
   "cell_type": "markdown",
   "id": "273a0f94",
   "metadata": {},
   "source": [
    "# Set up Directories"
   ]
  },
  {
   "cell_type": "code",
   "execution_count": 3,
   "id": "f69f4f66",
   "metadata": {},
   "outputs": [],
   "source": [
    "data_dir = \"/Users/hn/Documents/01_research_data/NASA/VI_TS/05_SG_TS/\"\n",
    "ML_data_dir = \"/Users/hn/Documents/01_research_data/NASA/ML_data/\"\n",
    "\n",
    "ML_data_dir = \"C:\\\\Users\\\\kirti\\\\Documents\\\\NASA_data\\\\ML_data\\\\\""
   ]
  },
  {
   "cell_type": "markdown",
   "id": "43f64c41",
   "metadata": {},
   "source": [
    "# Set other parameters"
   ]
  },
  {
   "cell_type": "code",
   "execution_count": 4,
   "id": "252939dc",
   "metadata": {},
   "outputs": [],
   "source": [
    "idx=\"EVI\""
   ]
  },
  {
   "cell_type": "markdown",
   "id": "60a7f1f5",
   "metadata": {},
   "source": [
    "# Read Train Labels and IDs"
   ]
  },
  {
   "cell_type": "code",
   "execution_count": 5,
   "id": "36045a40",
   "metadata": {},
   "outputs": [
    {
     "ename": "FileNotFoundError",
     "evalue": "[Errno 2] No such file or directory: 'C:\\\\Users\\\\kirti\\\\Documents\\\\NASA_data\\\\ML_data\\\\limitCrops_nonExpert_votes.csv'",
     "output_type": "error",
     "traceback": [
      "\u001b[1;31m---------------------------------------------------------------------------\u001b[0m",
      "\u001b[1;31mFileNotFoundError\u001b[0m                         Traceback (most recent call last)",
      "Input \u001b[1;32mIn [5]\u001b[0m, in \u001b[0;36m<cell line: 1>\u001b[1;34m()\u001b[0m\n\u001b[1;32m----> 1\u001b[0m limitCrops_nonExpert_votes \u001b[38;5;241m=\u001b[39m \u001b[43mpd\u001b[49m\u001b[38;5;241;43m.\u001b[39;49m\u001b[43mread_csv\u001b[49m\u001b[43m(\u001b[49m\u001b[43mML_data_dir\u001b[49m\u001b[43m \u001b[49m\u001b[38;5;241;43m+\u001b[39;49m\u001b[43m \u001b[49m\u001b[38;5;124;43m\"\u001b[39;49m\u001b[38;5;124;43mlimitCrops_nonExpert_votes.csv\u001b[39;49m\u001b[38;5;124;43m\"\u001b[39;49m\u001b[43m)\u001b[49m\n\u001b[0;32m      2\u001b[0m \u001b[38;5;28mprint\u001b[39m (limitCrops_nonExpert_votes\u001b[38;5;241m.\u001b[39mshape)\n\u001b[0;32m      3\u001b[0m limitCrops_nonExpert_votes\u001b[38;5;241m.\u001b[39mhead(\u001b[38;5;241m2\u001b[39m)\n",
      "File \u001b[1;32m~\\anaconda3\\lib\\site-packages\\pandas\\util\\_decorators.py:311\u001b[0m, in \u001b[0;36mdeprecate_nonkeyword_arguments.<locals>.decorate.<locals>.wrapper\u001b[1;34m(*args, **kwargs)\u001b[0m\n\u001b[0;32m    305\u001b[0m \u001b[38;5;28;01mif\u001b[39;00m \u001b[38;5;28mlen\u001b[39m(args) \u001b[38;5;241m>\u001b[39m num_allow_args:\n\u001b[0;32m    306\u001b[0m     warnings\u001b[38;5;241m.\u001b[39mwarn(\n\u001b[0;32m    307\u001b[0m         msg\u001b[38;5;241m.\u001b[39mformat(arguments\u001b[38;5;241m=\u001b[39marguments),\n\u001b[0;32m    308\u001b[0m         \u001b[38;5;167;01mFutureWarning\u001b[39;00m,\n\u001b[0;32m    309\u001b[0m         stacklevel\u001b[38;5;241m=\u001b[39mstacklevel,\n\u001b[0;32m    310\u001b[0m     )\n\u001b[1;32m--> 311\u001b[0m \u001b[38;5;28;01mreturn\u001b[39;00m func(\u001b[38;5;241m*\u001b[39margs, \u001b[38;5;241m*\u001b[39m\u001b[38;5;241m*\u001b[39mkwargs)\n",
      "File \u001b[1;32m~\\anaconda3\\lib\\site-packages\\pandas\\io\\parsers\\readers.py:680\u001b[0m, in \u001b[0;36mread_csv\u001b[1;34m(filepath_or_buffer, sep, delimiter, header, names, index_col, usecols, squeeze, prefix, mangle_dupe_cols, dtype, engine, converters, true_values, false_values, skipinitialspace, skiprows, skipfooter, nrows, na_values, keep_default_na, na_filter, verbose, skip_blank_lines, parse_dates, infer_datetime_format, keep_date_col, date_parser, dayfirst, cache_dates, iterator, chunksize, compression, thousands, decimal, lineterminator, quotechar, quoting, doublequote, escapechar, comment, encoding, encoding_errors, dialect, error_bad_lines, warn_bad_lines, on_bad_lines, delim_whitespace, low_memory, memory_map, float_precision, storage_options)\u001b[0m\n\u001b[0;32m    665\u001b[0m kwds_defaults \u001b[38;5;241m=\u001b[39m _refine_defaults_read(\n\u001b[0;32m    666\u001b[0m     dialect,\n\u001b[0;32m    667\u001b[0m     delimiter,\n\u001b[1;32m   (...)\u001b[0m\n\u001b[0;32m    676\u001b[0m     defaults\u001b[38;5;241m=\u001b[39m{\u001b[38;5;124m\"\u001b[39m\u001b[38;5;124mdelimiter\u001b[39m\u001b[38;5;124m\"\u001b[39m: \u001b[38;5;124m\"\u001b[39m\u001b[38;5;124m,\u001b[39m\u001b[38;5;124m\"\u001b[39m},\n\u001b[0;32m    677\u001b[0m )\n\u001b[0;32m    678\u001b[0m kwds\u001b[38;5;241m.\u001b[39mupdate(kwds_defaults)\n\u001b[1;32m--> 680\u001b[0m \u001b[38;5;28;01mreturn\u001b[39;00m \u001b[43m_read\u001b[49m\u001b[43m(\u001b[49m\u001b[43mfilepath_or_buffer\u001b[49m\u001b[43m,\u001b[49m\u001b[43m \u001b[49m\u001b[43mkwds\u001b[49m\u001b[43m)\u001b[49m\n",
      "File \u001b[1;32m~\\anaconda3\\lib\\site-packages\\pandas\\io\\parsers\\readers.py:575\u001b[0m, in \u001b[0;36m_read\u001b[1;34m(filepath_or_buffer, kwds)\u001b[0m\n\u001b[0;32m    572\u001b[0m _validate_names(kwds\u001b[38;5;241m.\u001b[39mget(\u001b[38;5;124m\"\u001b[39m\u001b[38;5;124mnames\u001b[39m\u001b[38;5;124m\"\u001b[39m, \u001b[38;5;28;01mNone\u001b[39;00m))\n\u001b[0;32m    574\u001b[0m \u001b[38;5;66;03m# Create the parser.\u001b[39;00m\n\u001b[1;32m--> 575\u001b[0m parser \u001b[38;5;241m=\u001b[39m TextFileReader(filepath_or_buffer, \u001b[38;5;241m*\u001b[39m\u001b[38;5;241m*\u001b[39mkwds)\n\u001b[0;32m    577\u001b[0m \u001b[38;5;28;01mif\u001b[39;00m chunksize \u001b[38;5;129;01mor\u001b[39;00m iterator:\n\u001b[0;32m    578\u001b[0m     \u001b[38;5;28;01mreturn\u001b[39;00m parser\n",
      "File \u001b[1;32m~\\anaconda3\\lib\\site-packages\\pandas\\io\\parsers\\readers.py:933\u001b[0m, in \u001b[0;36mTextFileReader.__init__\u001b[1;34m(self, f, engine, **kwds)\u001b[0m\n\u001b[0;32m    930\u001b[0m     \u001b[38;5;28mself\u001b[39m\u001b[38;5;241m.\u001b[39moptions[\u001b[38;5;124m\"\u001b[39m\u001b[38;5;124mhas_index_names\u001b[39m\u001b[38;5;124m\"\u001b[39m] \u001b[38;5;241m=\u001b[39m kwds[\u001b[38;5;124m\"\u001b[39m\u001b[38;5;124mhas_index_names\u001b[39m\u001b[38;5;124m\"\u001b[39m]\n\u001b[0;32m    932\u001b[0m \u001b[38;5;28mself\u001b[39m\u001b[38;5;241m.\u001b[39mhandles: IOHandles \u001b[38;5;241m|\u001b[39m \u001b[38;5;28;01mNone\u001b[39;00m \u001b[38;5;241m=\u001b[39m \u001b[38;5;28;01mNone\u001b[39;00m\n\u001b[1;32m--> 933\u001b[0m \u001b[38;5;28mself\u001b[39m\u001b[38;5;241m.\u001b[39m_engine \u001b[38;5;241m=\u001b[39m \u001b[38;5;28;43mself\u001b[39;49m\u001b[38;5;241;43m.\u001b[39;49m\u001b[43m_make_engine\u001b[49m\u001b[43m(\u001b[49m\u001b[43mf\u001b[49m\u001b[43m,\u001b[49m\u001b[43m \u001b[49m\u001b[38;5;28;43mself\u001b[39;49m\u001b[38;5;241;43m.\u001b[39;49m\u001b[43mengine\u001b[49m\u001b[43m)\u001b[49m\n",
      "File \u001b[1;32m~\\anaconda3\\lib\\site-packages\\pandas\\io\\parsers\\readers.py:1217\u001b[0m, in \u001b[0;36mTextFileReader._make_engine\u001b[1;34m(self, f, engine)\u001b[0m\n\u001b[0;32m   1213\u001b[0m     mode \u001b[38;5;241m=\u001b[39m \u001b[38;5;124m\"\u001b[39m\u001b[38;5;124mrb\u001b[39m\u001b[38;5;124m\"\u001b[39m\n\u001b[0;32m   1214\u001b[0m \u001b[38;5;66;03m# error: No overload variant of \"get_handle\" matches argument types\u001b[39;00m\n\u001b[0;32m   1215\u001b[0m \u001b[38;5;66;03m# \"Union[str, PathLike[str], ReadCsvBuffer[bytes], ReadCsvBuffer[str]]\"\u001b[39;00m\n\u001b[0;32m   1216\u001b[0m \u001b[38;5;66;03m# , \"str\", \"bool\", \"Any\", \"Any\", \"Any\", \"Any\", \"Any\"\u001b[39;00m\n\u001b[1;32m-> 1217\u001b[0m \u001b[38;5;28mself\u001b[39m\u001b[38;5;241m.\u001b[39mhandles \u001b[38;5;241m=\u001b[39m \u001b[43mget_handle\u001b[49m\u001b[43m(\u001b[49m\u001b[43m  \u001b[49m\u001b[38;5;66;43;03m# type: ignore[call-overload]\u001b[39;49;00m\n\u001b[0;32m   1218\u001b[0m \u001b[43m    \u001b[49m\u001b[43mf\u001b[49m\u001b[43m,\u001b[49m\n\u001b[0;32m   1219\u001b[0m \u001b[43m    \u001b[49m\u001b[43mmode\u001b[49m\u001b[43m,\u001b[49m\n\u001b[0;32m   1220\u001b[0m \u001b[43m    \u001b[49m\u001b[43mencoding\u001b[49m\u001b[38;5;241;43m=\u001b[39;49m\u001b[38;5;28;43mself\u001b[39;49m\u001b[38;5;241;43m.\u001b[39;49m\u001b[43moptions\u001b[49m\u001b[38;5;241;43m.\u001b[39;49m\u001b[43mget\u001b[49m\u001b[43m(\u001b[49m\u001b[38;5;124;43m\"\u001b[39;49m\u001b[38;5;124;43mencoding\u001b[39;49m\u001b[38;5;124;43m\"\u001b[39;49m\u001b[43m,\u001b[49m\u001b[43m \u001b[49m\u001b[38;5;28;43;01mNone\u001b[39;49;00m\u001b[43m)\u001b[49m\u001b[43m,\u001b[49m\n\u001b[0;32m   1221\u001b[0m \u001b[43m    \u001b[49m\u001b[43mcompression\u001b[49m\u001b[38;5;241;43m=\u001b[39;49m\u001b[38;5;28;43mself\u001b[39;49m\u001b[38;5;241;43m.\u001b[39;49m\u001b[43moptions\u001b[49m\u001b[38;5;241;43m.\u001b[39;49m\u001b[43mget\u001b[49m\u001b[43m(\u001b[49m\u001b[38;5;124;43m\"\u001b[39;49m\u001b[38;5;124;43mcompression\u001b[39;49m\u001b[38;5;124;43m\"\u001b[39;49m\u001b[43m,\u001b[49m\u001b[43m \u001b[49m\u001b[38;5;28;43;01mNone\u001b[39;49;00m\u001b[43m)\u001b[49m\u001b[43m,\u001b[49m\n\u001b[0;32m   1222\u001b[0m \u001b[43m    \u001b[49m\u001b[43mmemory_map\u001b[49m\u001b[38;5;241;43m=\u001b[39;49m\u001b[38;5;28;43mself\u001b[39;49m\u001b[38;5;241;43m.\u001b[39;49m\u001b[43moptions\u001b[49m\u001b[38;5;241;43m.\u001b[39;49m\u001b[43mget\u001b[49m\u001b[43m(\u001b[49m\u001b[38;5;124;43m\"\u001b[39;49m\u001b[38;5;124;43mmemory_map\u001b[39;49m\u001b[38;5;124;43m\"\u001b[39;49m\u001b[43m,\u001b[49m\u001b[43m \u001b[49m\u001b[38;5;28;43;01mFalse\u001b[39;49;00m\u001b[43m)\u001b[49m\u001b[43m,\u001b[49m\n\u001b[0;32m   1223\u001b[0m \u001b[43m    \u001b[49m\u001b[43mis_text\u001b[49m\u001b[38;5;241;43m=\u001b[39;49m\u001b[43mis_text\u001b[49m\u001b[43m,\u001b[49m\n\u001b[0;32m   1224\u001b[0m \u001b[43m    \u001b[49m\u001b[43merrors\u001b[49m\u001b[38;5;241;43m=\u001b[39;49m\u001b[38;5;28;43mself\u001b[39;49m\u001b[38;5;241;43m.\u001b[39;49m\u001b[43moptions\u001b[49m\u001b[38;5;241;43m.\u001b[39;49m\u001b[43mget\u001b[49m\u001b[43m(\u001b[49m\u001b[38;5;124;43m\"\u001b[39;49m\u001b[38;5;124;43mencoding_errors\u001b[39;49m\u001b[38;5;124;43m\"\u001b[39;49m\u001b[43m,\u001b[49m\u001b[43m \u001b[49m\u001b[38;5;124;43m\"\u001b[39;49m\u001b[38;5;124;43mstrict\u001b[39;49m\u001b[38;5;124;43m\"\u001b[39;49m\u001b[43m)\u001b[49m\u001b[43m,\u001b[49m\n\u001b[0;32m   1225\u001b[0m \u001b[43m    \u001b[49m\u001b[43mstorage_options\u001b[49m\u001b[38;5;241;43m=\u001b[39;49m\u001b[38;5;28;43mself\u001b[39;49m\u001b[38;5;241;43m.\u001b[39;49m\u001b[43moptions\u001b[49m\u001b[38;5;241;43m.\u001b[39;49m\u001b[43mget\u001b[49m\u001b[43m(\u001b[49m\u001b[38;5;124;43m\"\u001b[39;49m\u001b[38;5;124;43mstorage_options\u001b[39;49m\u001b[38;5;124;43m\"\u001b[39;49m\u001b[43m,\u001b[49m\u001b[43m \u001b[49m\u001b[38;5;28;43;01mNone\u001b[39;49;00m\u001b[43m)\u001b[49m\u001b[43m,\u001b[49m\n\u001b[0;32m   1226\u001b[0m \u001b[43m\u001b[49m\u001b[43m)\u001b[49m\n\u001b[0;32m   1227\u001b[0m \u001b[38;5;28;01massert\u001b[39;00m \u001b[38;5;28mself\u001b[39m\u001b[38;5;241m.\u001b[39mhandles \u001b[38;5;129;01mis\u001b[39;00m \u001b[38;5;129;01mnot\u001b[39;00m \u001b[38;5;28;01mNone\u001b[39;00m\n\u001b[0;32m   1228\u001b[0m f \u001b[38;5;241m=\u001b[39m \u001b[38;5;28mself\u001b[39m\u001b[38;5;241m.\u001b[39mhandles\u001b[38;5;241m.\u001b[39mhandle\n",
      "File \u001b[1;32m~\\anaconda3\\lib\\site-packages\\pandas\\io\\common.py:789\u001b[0m, in \u001b[0;36mget_handle\u001b[1;34m(path_or_buf, mode, encoding, compression, memory_map, is_text, errors, storage_options)\u001b[0m\n\u001b[0;32m    784\u001b[0m \u001b[38;5;28;01melif\u001b[39;00m \u001b[38;5;28misinstance\u001b[39m(handle, \u001b[38;5;28mstr\u001b[39m):\n\u001b[0;32m    785\u001b[0m     \u001b[38;5;66;03m# Check whether the filename is to be opened in binary mode.\u001b[39;00m\n\u001b[0;32m    786\u001b[0m     \u001b[38;5;66;03m# Binary mode does not support 'encoding' and 'newline'.\u001b[39;00m\n\u001b[0;32m    787\u001b[0m     \u001b[38;5;28;01mif\u001b[39;00m ioargs\u001b[38;5;241m.\u001b[39mencoding \u001b[38;5;129;01mand\u001b[39;00m \u001b[38;5;124m\"\u001b[39m\u001b[38;5;124mb\u001b[39m\u001b[38;5;124m\"\u001b[39m \u001b[38;5;129;01mnot\u001b[39;00m \u001b[38;5;129;01min\u001b[39;00m ioargs\u001b[38;5;241m.\u001b[39mmode:\n\u001b[0;32m    788\u001b[0m         \u001b[38;5;66;03m# Encoding\u001b[39;00m\n\u001b[1;32m--> 789\u001b[0m         handle \u001b[38;5;241m=\u001b[39m \u001b[38;5;28;43mopen\u001b[39;49m\u001b[43m(\u001b[49m\n\u001b[0;32m    790\u001b[0m \u001b[43m            \u001b[49m\u001b[43mhandle\u001b[49m\u001b[43m,\u001b[49m\n\u001b[0;32m    791\u001b[0m \u001b[43m            \u001b[49m\u001b[43mioargs\u001b[49m\u001b[38;5;241;43m.\u001b[39;49m\u001b[43mmode\u001b[49m\u001b[43m,\u001b[49m\n\u001b[0;32m    792\u001b[0m \u001b[43m            \u001b[49m\u001b[43mencoding\u001b[49m\u001b[38;5;241;43m=\u001b[39;49m\u001b[43mioargs\u001b[49m\u001b[38;5;241;43m.\u001b[39;49m\u001b[43mencoding\u001b[49m\u001b[43m,\u001b[49m\n\u001b[0;32m    793\u001b[0m \u001b[43m            \u001b[49m\u001b[43merrors\u001b[49m\u001b[38;5;241;43m=\u001b[39;49m\u001b[43merrors\u001b[49m\u001b[43m,\u001b[49m\n\u001b[0;32m    794\u001b[0m \u001b[43m            \u001b[49m\u001b[43mnewline\u001b[49m\u001b[38;5;241;43m=\u001b[39;49m\u001b[38;5;124;43m\"\u001b[39;49m\u001b[38;5;124;43m\"\u001b[39;49m\u001b[43m,\u001b[49m\n\u001b[0;32m    795\u001b[0m \u001b[43m        \u001b[49m\u001b[43m)\u001b[49m\n\u001b[0;32m    796\u001b[0m     \u001b[38;5;28;01melse\u001b[39;00m:\n\u001b[0;32m    797\u001b[0m         \u001b[38;5;66;03m# Binary mode\u001b[39;00m\n\u001b[0;32m    798\u001b[0m         handle \u001b[38;5;241m=\u001b[39m \u001b[38;5;28mopen\u001b[39m(handle, ioargs\u001b[38;5;241m.\u001b[39mmode)\n",
      "\u001b[1;31mFileNotFoundError\u001b[0m: [Errno 2] No such file or directory: 'C:\\\\Users\\\\kirti\\\\Documents\\\\NASA_data\\\\ML_data\\\\limitCrops_nonExpert_votes.csv'"
     ]
    }
   ],
   "source": [
    "limitCrops_nonExpert_votes = pd.read_csv(ML_data_dir + \"limitCrops_nonExpert_votes.csv\")\n",
    "print (limitCrops_nonExpert_votes.shape)\n",
    "limitCrops_nonExpert_votes.head(2)"
   ]
  },
  {
   "cell_type": "code",
   "execution_count": null,
   "id": "6377b792",
   "metadata": {},
   "outputs": [],
   "source": []
  },
  {
   "cell_type": "markdown",
   "id": "16ad0884",
   "metadata": {},
   "source": [
    "# Read TS files"
   ]
  },
  {
   "cell_type": "code",
   "execution_count": 5,
   "id": "9e4f3d88",
   "metadata": {},
   "outputs": [
    {
     "data": {
      "text/html": [
       "<div>\n",
       "<style scoped>\n",
       "    .dataframe tbody tr th:only-of-type {\n",
       "        vertical-align: middle;\n",
       "    }\n",
       "\n",
       "    .dataframe tbody tr th {\n",
       "        vertical-align: top;\n",
       "    }\n",
       "\n",
       "    .dataframe thead th {\n",
       "        text-align: right;\n",
       "    }\n",
       "</style>\n",
       "<table border=\"1\" class=\"dataframe\">\n",
       "  <thead>\n",
       "    <tr style=\"text-align: right;\">\n",
       "      <th></th>\n",
       "      <th>ID</th>\n",
       "      <th>human_system_start_time</th>\n",
       "      <th>EVI</th>\n",
       "    </tr>\n",
       "  </thead>\n",
       "  <tbody>\n",
       "    <tr>\n",
       "      <th>0</th>\n",
       "      <td>135073_WSDA_SF_2015</td>\n",
       "      <td>2015-01-10</td>\n",
       "      <td>0.054429</td>\n",
       "    </tr>\n",
       "    <tr>\n",
       "      <th>1</th>\n",
       "      <td>135073_WSDA_SF_2015</td>\n",
       "      <td>2015-01-20</td>\n",
       "      <td>0.051731</td>\n",
       "    </tr>\n",
       "  </tbody>\n",
       "</table>\n",
       "</div>"
      ],
      "text/plain": [
       "                    ID human_system_start_time       EVI\n",
       "0  135073_WSDA_SF_2015              2015-01-10  0.054429\n",
       "1  135073_WSDA_SF_2015              2015-01-20  0.051731"
      ]
     },
     "execution_count": 5,
     "metadata": {},
     "output_type": "execute_result"
    }
   ],
   "source": [
    "file_names = [\"SG_Walla2015_\" + idx + \"_JFD.csv\", \"SG_AdamBenton2016_\" + idx + \"_JFD.csv\", \n",
    "              \"SG_Grant2017_\" + idx + \"_JFD.csv\", \"SG_FranklinYakima2018_\" + idx + \"_JFD.csv\"]\n",
    "\n",
    "data=pd.DataFrame()\n",
    "\n",
    "for file in file_names:\n",
    "    curr_file=pd.read_csv(data_dir + file)\n",
    "    curr_file['human_system_start_time'] = pd.to_datetime(curr_file['human_system_start_time'])\n",
    "    \n",
    "    # These data are for 3 years. The middle one is the correct one\n",
    "    all_years = sorted(curr_file.human_system_start_time.dt.year.unique())\n",
    "    if len(all_years)==3 or len(all_years)==2:\n",
    "        proper_year = all_years[1]\n",
    "    elif len(all_years)==1:\n",
    "        proper_year = all_years[0]\n",
    "\n",
    "    curr_file = curr_file[curr_file.human_system_start_time.dt.year==proper_year]\n",
    "    data=pd.concat([data, curr_file])\n",
    "\n",
    "data.reset_index(drop=True, inplace=True)\n",
    "data.loc[data[idx]<0, idx]=0\n",
    "data.head(2)"
   ]
  },
  {
   "cell_type": "markdown",
   "id": "caed5d24",
   "metadata": {},
   "source": [
    "# Filter the train fields TS"
   ]
  },
  {
   "cell_type": "code",
   "execution_count": 6,
   "id": "b16128b6",
   "metadata": {},
   "outputs": [],
   "source": [
    "limitCrops_nonExpert_votes_IDs = list(limitCrops_nonExpert_votes.ID.unique())\n",
    "data = data[data.ID.isin(limitCrops_nonExpert_votes_IDs)]\n",
    "data.reset_index(drop=True, inplace=True)"
   ]
  },
  {
   "cell_type": "code",
   "execution_count": 7,
   "id": "311a907a",
   "metadata": {},
   "outputs": [
    {
     "data": {
      "text/plain": [
       "1315"
      ]
     },
     "execution_count": 7,
     "metadata": {},
     "output_type": "execute_result"
    }
   ],
   "source": [
    "len(data.ID.unique())"
   ]
  },
  {
   "cell_type": "code",
   "execution_count": 8,
   "id": "ac5409a3",
   "metadata": {},
   "outputs": [],
   "source": [
    "for curr_ID in data.ID.unique():\n",
    "    crr_fld=data[data.ID==curr_ID].copy()\n",
    "    crr_fld.reset_index(drop=True, inplace=True)\n",
    "    # crr_fld['human_system_start_time'] = pd.to_datetime(crr_fld['human_system_start_time'])\n",
    "    SFYr = crr_fld.human_system_start_time.dt.year.unique()[0]\n",
    "    fig, ax = plt.subplots();\n",
    "    fig.set_size_inches(10, 2.5)\n",
    "    ax.grid(False);\n",
    "    ax.plot(crr_fld['human_system_start_time'], crr_fld[idx], \n",
    "            c ='dodgerblue', linewidth=5)\n",
    "\n",
    "    ax.axis(\"off\")\n",
    "    # ax.set_xlabel('time'); # , labelpad = 15\n",
    "    # ax.set_ylabel(idx, fontsize=12); # , labelpad = 15\n",
    "    # ax.tick_params(axis = 'y', which = 'major');\n",
    "    # ax = plt.gca()\n",
    "    # ax.axes.xaxis.set_visible(False)\n",
    "    # ax.axes.yaxis.set_visible(False)\n",
    "\n",
    "    left = crr_fld['human_system_start_time'][0]\n",
    "    right = crr_fld['human_system_start_time'].values[-1]\n",
    "    ax.set_xlim([left, right]); # the following line alsow orks\n",
    "    ax.set_ylim([-0.005, 1]); # the following line alsow orks\n",
    "\n",
    "\n",
    "    crop_count_letter=limitCrops_nonExpert_votes[limitCrops_nonExpert_votes.ID==curr_ID][\"Vote\"].values[0]\n",
    "    plot_path=\"/Users/hn/Documents/01_research_data/NASA/ML_data/limitCrops_nonExpert_images_\" + \\\n",
    "                idx + \"/\"\n",
    "    \n",
    "    plot_path=\"C:\\\\Users\\\\kirti\\\\Documents\\\\NASA_data\\\\ML_data\\\\limitCrops_nonExpert_images_\" + \\\n",
    "              idx + \"\\\\\"\"\n",
    "    os.makedirs(plot_path, exist_ok=True)\n",
    "    fig_name = plot_path + crop_count_letter + \"_\" + curr_ID +'.jpg'\n",
    "    plt.savefig(fname = fig_name, dpi=100, bbox_inches='tight', facecolor=\"w\")\n",
    "    plt.close('all')\n",
    "    # ax.legend(loc = \"upper left\");"
   ]
  },
  {
   "cell_type": "markdown",
   "id": "326f530c",
   "metadata": {},
   "source": [
    "# NDVI"
   ]
  },
  {
   "cell_type": "code",
   "execution_count": 9,
   "id": "a291633e",
   "metadata": {},
   "outputs": [],
   "source": [
    "idx=\"NDVI\""
   ]
  },
  {
   "cell_type": "code",
   "execution_count": 10,
   "id": "4b068d7b",
   "metadata": {},
   "outputs": [
    {
     "data": {
      "text/html": [
       "<div>\n",
       "<style scoped>\n",
       "    .dataframe tbody tr th:only-of-type {\n",
       "        vertical-align: middle;\n",
       "    }\n",
       "\n",
       "    .dataframe tbody tr th {\n",
       "        vertical-align: top;\n",
       "    }\n",
       "\n",
       "    .dataframe thead th {\n",
       "        text-align: right;\n",
       "    }\n",
       "</style>\n",
       "<table border=\"1\" class=\"dataframe\">\n",
       "  <thead>\n",
       "    <tr style=\"text-align: right;\">\n",
       "      <th></th>\n",
       "      <th>ID</th>\n",
       "      <th>human_system_start_time</th>\n",
       "      <th>NDVI</th>\n",
       "    </tr>\n",
       "  </thead>\n",
       "  <tbody>\n",
       "    <tr>\n",
       "      <th>0</th>\n",
       "      <td>135073_WSDA_SF_2015</td>\n",
       "      <td>2015-01-10</td>\n",
       "      <td>0.115126</td>\n",
       "    </tr>\n",
       "    <tr>\n",
       "      <th>1</th>\n",
       "      <td>135073_WSDA_SF_2015</td>\n",
       "      <td>2015-01-20</td>\n",
       "      <td>0.111097</td>\n",
       "    </tr>\n",
       "  </tbody>\n",
       "</table>\n",
       "</div>"
      ],
      "text/plain": [
       "                    ID human_system_start_time      NDVI\n",
       "0  135073_WSDA_SF_2015              2015-01-10  0.115126\n",
       "1  135073_WSDA_SF_2015              2015-01-20  0.111097"
      ]
     },
     "execution_count": 10,
     "metadata": {},
     "output_type": "execute_result"
    }
   ],
   "source": [
    "file_names = [\"SG_Walla2015_\" + idx + \"_JFD.csv\", \"SG_AdamBenton2016_\" + idx + \"_JFD.csv\", \n",
    "              \"SG_Grant2017_\" + idx + \"_JFD.csv\", \"SG_FranklinYakima2018_\" + idx + \"_JFD.csv\"]\n",
    "\n",
    "data=pd.DataFrame()\n",
    "\n",
    "for file in file_names:\n",
    "    curr_file=pd.read_csv(data_dir + file)\n",
    "    curr_file['human_system_start_time'] = pd.to_datetime(curr_file['human_system_start_time'])\n",
    "    \n",
    "    # These data are for 3 years. The middle one is the correct one\n",
    "    all_years = sorted(curr_file.human_system_start_time.dt.year.unique())\n",
    "    if len(all_years)==3 or len(all_years)==2:\n",
    "        proper_year = all_years[1]\n",
    "    elif len(all_years)==1:\n",
    "        proper_year = all_years[0]\n",
    "\n",
    "    curr_file = curr_file[curr_file.human_system_start_time.dt.year==proper_year]\n",
    "    data=pd.concat([data, curr_file])\n",
    "\n",
    "data.reset_index(drop=True, inplace=True)\n",
    "data.loc[data[idx]<0, idx]=0\n",
    "data.head(2)"
   ]
  },
  {
   "cell_type": "code",
   "execution_count": 11,
   "id": "6f18f423",
   "metadata": {},
   "outputs": [
    {
     "data": {
      "text/plain": [
       "1315"
      ]
     },
     "execution_count": 11,
     "metadata": {},
     "output_type": "execute_result"
    }
   ],
   "source": [
    "limitCrops_nonExpert_votes_IDs = list(limitCrops_nonExpert_votes.ID.unique())\n",
    "data = data[data.ID.isin(limitCrops_nonExpert_votes_IDs)]\n",
    "data.reset_index(drop=True, inplace=True)\n",
    "len(data.ID.unique())"
   ]
  },
  {
   "cell_type": "code",
   "execution_count": 12,
   "id": "7ae472ae",
   "metadata": {},
   "outputs": [
    {
     "name": "stdout",
     "output_type": "stream",
     "text": [
      "/Users/hn/Documents/01_research_data/NASA/ML_data/limitCrops_nonExpert_images_NDVI/\n"
     ]
    }
   ],
   "source": [
    "for curr_ID in data.ID.unique():\n",
    "    crr_fld=data[data.ID==curr_ID].copy()\n",
    "    crr_fld.reset_index(drop=True, inplace=True)\n",
    "    # crr_fld['human_system_start_time'] = pd.to_datetime(crr_fld['human_system_start_time'])\n",
    "    SFYr = crr_fld.human_system_start_time.dt.year.unique()[0]\n",
    "    fig, ax = plt.subplots();\n",
    "    fig.set_size_inches(10, 2.5)\n",
    "    ax.grid(False);\n",
    "    ax.plot(crr_fld['human_system_start_time'], crr_fld[idx], \n",
    "            c ='dodgerblue', linewidth=5)\n",
    "\n",
    "    ax.axis(\"off\")\n",
    "    # ax.set_xlabel('time'); # , labelpad = 15\n",
    "    # ax.set_ylabel(idx, fontsize=12); # , labelpad = 15\n",
    "    # ax.tick_params(axis = 'y', which = 'major');\n",
    "    # ax = plt.gca()\n",
    "    # ax.axes.xaxis.set_visible(False)\n",
    "    # ax.axes.yaxis.set_visible(False)\n",
    "\n",
    "    left = crr_fld['human_system_start_time'][0]\n",
    "    right = crr_fld['human_system_start_time'].values[-1]\n",
    "    ax.set_xlim([left, right]); # the following line alsow orks\n",
    "    ax.set_ylim([-0.005, 1]); # the following line alsow orks\n",
    "\n",
    "\n",
    "    crop_count_letter = limitCrops_nonExpert_votes[limitCrops_nonExpert_votes.ID==curr_ID][\"Vote\"].values[0]\n",
    "    plot_path = \"/Users/hn/Documents/01_research_data/NASA/ML_data/limitCrops_nonExpert_images_\" + idx + \"/\"\n",
    "    os.makedirs(plot_path, exist_ok=True)\n",
    "    fig_name = plot_path + crop_count_letter + \"_\" + curr_ID +'.jpg'\n",
    "    plt.savefig(fname = fig_name, dpi=100, bbox_inches='tight', facecolor=\"w\")\n",
    "    plt.close('all')\n",
    "    # ax.legend(loc = \"upper left\");\n",
    "    \n",
    "print (plot_path)"
   ]
  },
  {
   "cell_type": "code",
   "execution_count": 13,
   "id": "16e2e048",
   "metadata": {},
   "outputs": [
    {
     "data": {
      "text/html": [
       "<div>\n",
       "<style scoped>\n",
       "    .dataframe tbody tr th:only-of-type {\n",
       "        vertical-align: middle;\n",
       "    }\n",
       "\n",
       "    .dataframe tbody tr th {\n",
       "        vertical-align: top;\n",
       "    }\n",
       "\n",
       "    .dataframe thead th {\n",
       "        text-align: right;\n",
       "    }\n",
       "</style>\n",
       "<table border=\"1\" class=\"dataframe\">\n",
       "  <thead>\n",
       "    <tr style=\"text-align: right;\">\n",
       "      <th></th>\n",
       "      <th>ID</th>\n",
       "      <th>human_system_start_time</th>\n",
       "      <th>NDVI</th>\n",
       "    </tr>\n",
       "  </thead>\n",
       "  <tbody>\n",
       "    <tr>\n",
       "      <th>0</th>\n",
       "      <td>99791_WSDA_SF_2018</td>\n",
       "      <td>2018-01-10</td>\n",
       "      <td>0.135647</td>\n",
       "    </tr>\n",
       "    <tr>\n",
       "      <th>1</th>\n",
       "      <td>99791_WSDA_SF_2018</td>\n",
       "      <td>2018-01-20</td>\n",
       "      <td>0.165818</td>\n",
       "    </tr>\n",
       "  </tbody>\n",
       "</table>\n",
       "</div>"
      ],
      "text/plain": [
       "                   ID human_system_start_time      NDVI\n",
       "0  99791_WSDA_SF_2018              2018-01-10  0.135647\n",
       "1  99791_WSDA_SF_2018              2018-01-20  0.165818"
      ]
     },
     "execution_count": 13,
     "metadata": {},
     "output_type": "execute_result"
    }
   ],
   "source": [
    "crr_fld.head(2)"
   ]
  },
  {
   "cell_type": "code",
   "execution_count": null,
   "id": "be8bdbf8",
   "metadata": {},
   "outputs": [],
   "source": []
  }
 ],
 "metadata": {
  "kernelspec": {
   "display_name": "Python 3 (ipykernel)",
   "language": "python",
   "name": "python3"
  },
  "language_info": {
   "codemirror_mode": {
    "name": "ipython",
    "version": 3
   },
   "file_extension": ".py",
   "mimetype": "text/x-python",
   "name": "python",
   "nbconvert_exporter": "python",
   "pygments_lexer": "ipython3",
   "version": "3.9.12"
  }
 },
 "nbformat": 4,
 "nbformat_minor": 5
}
