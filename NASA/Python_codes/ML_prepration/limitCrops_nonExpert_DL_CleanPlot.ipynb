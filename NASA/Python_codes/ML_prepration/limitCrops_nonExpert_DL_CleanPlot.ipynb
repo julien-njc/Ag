{
 "cells": [
  {
   "cell_type": "code",
   "execution_count": 1,
   "id": "f10717cb",
   "metadata": {},
   "outputs": [],
   "source": [
    "import numpy as np\n",
    "import pandas as pd\n",
    "from datetime import date\n",
    "import time\n",
    "import scipy\n",
    "import scipy.signal\n",
    "import os, os.path\n",
    "import matplotlib\n",
    "import matplotlib.pyplot as plt\n",
    "\n",
    "import sys\n",
    "sys.path.append('/Users/hn/Documents/00_GitHub/Ag/NASA/Python_codes/')\n",
    "import NASA_core as nc\n",
    "# import NASA_plot_core.py as rcp"
   ]
  },
  {
   "cell_type": "code",
   "execution_count": null,
   "id": "ece06b8c",
   "metadata": {},
   "outputs": [],
   "source": []
  },
  {
   "cell_type": "markdown",
   "id": "273a0f94",
   "metadata": {},
   "source": [
    "# Set up Directories"
   ]
  },
  {
   "cell_type": "code",
   "execution_count": 2,
   "id": "f69f4f66",
   "metadata": {},
   "outputs": [],
   "source": [
    "data_dir = \"/Users/hn/Documents/01_research_data/NASA/VI_TS/05_SG_TS/\"\n",
    "ML_data_dir = \"/Users/hn/Documents/01_research_data/NASA/ML_data/\""
   ]
  },
  {
   "cell_type": "markdown",
   "id": "43f64c41",
   "metadata": {},
   "source": [
    "# Set other parameters"
   ]
  },
  {
   "cell_type": "code",
   "execution_count": 3,
   "id": "252939dc",
   "metadata": {},
   "outputs": [],
   "source": [
    "idx=\"EVI\""
   ]
  },
  {
   "cell_type": "markdown",
   "id": "60a7f1f5",
   "metadata": {},
   "source": [
    "# Read Train Labels and IDs"
   ]
  },
  {
   "cell_type": "code",
   "execution_count": 4,
   "id": "36045a40",
   "metadata": {},
   "outputs": [
    {
     "name": "stdout",
     "output_type": "stream",
     "text": [
      "(1315, 16)\n"
     ]
    },
    {
     "data": {
      "text/html": [
       "<div>\n",
       "<style scoped>\n",
       "    .dataframe tbody tr th:only-of-type {\n",
       "        vertical-align: middle;\n",
       "    }\n",
       "\n",
       "    .dataframe tbody tr th {\n",
       "        vertical-align: top;\n",
       "    }\n",
       "\n",
       "    .dataframe thead th {\n",
       "        text-align: right;\n",
       "    }\n",
       "</style>\n",
       "<table border=\"1\" class=\"dataframe\">\n",
       "  <thead>\n",
       "    <tr style=\"text-align: right;\">\n",
       "      <th></th>\n",
       "      <th>Form</th>\n",
       "      <th>Question</th>\n",
       "      <th>ID</th>\n",
       "      <th>Hossein</th>\n",
       "      <th>Supriya</th>\n",
       "      <th>Kirti</th>\n",
       "      <th>Mike</th>\n",
       "      <th>Min</th>\n",
       "      <th>Vote</th>\n",
       "      <th>NDVI_TS_Name</th>\n",
       "      <th>CropTyp</th>\n",
       "      <th>Irrigtn</th>\n",
       "      <th>DataSrc</th>\n",
       "      <th>Acres</th>\n",
       "      <th>LstSrvD</th>\n",
       "      <th>county</th>\n",
       "    </tr>\n",
       "  </thead>\n",
       "  <tbody>\n",
       "    <tr>\n",
       "      <th>0</th>\n",
       "      <td>31</td>\n",
       "      <td>3</td>\n",
       "      <td>53189_WSDA_SF_2016</td>\n",
       "      <td>Single Crop</td>\n",
       "      <td>Single Crop</td>\n",
       "      <td>Single Crop</td>\n",
       "      <td>none</td>\n",
       "      <td>none</td>\n",
       "      <td>single</td>\n",
       "      <td>AdamBenton2016_53189_WSDA_SF_2016.png</td>\n",
       "      <td>barley</td>\n",
       "      <td>center pivot</td>\n",
       "      <td>wsda</td>\n",
       "      <td>132</td>\n",
       "      <td>2016/09/20 00:00:00</td>\n",
       "      <td>Adams</td>\n",
       "    </tr>\n",
       "    <tr>\n",
       "      <th>1</th>\n",
       "      <td>31</td>\n",
       "      <td>4</td>\n",
       "      <td>101534_WSDA_SF_2018</td>\n",
       "      <td>Single Crop</td>\n",
       "      <td>Double Crop</td>\n",
       "      <td>Single Crop</td>\n",
       "      <td>none</td>\n",
       "      <td>none</td>\n",
       "      <td>single</td>\n",
       "      <td>FranklinYakima2018_101534_WSDA_SF_2018.png</td>\n",
       "      <td>barley</td>\n",
       "      <td>center pivot</td>\n",
       "      <td>wsda</td>\n",
       "      <td>3</td>\n",
       "      <td>2018/08/14 00:00:00</td>\n",
       "      <td>Franklin</td>\n",
       "    </tr>\n",
       "  </tbody>\n",
       "</table>\n",
       "</div>"
      ],
      "text/plain": [
       "   Form  Question                   ID      Hossein      Supriya        Kirti  \\\n",
       "0    31         3   53189_WSDA_SF_2016  Single Crop  Single Crop  Single Crop   \n",
       "1    31         4  101534_WSDA_SF_2018  Single Crop  Double Crop  Single Crop   \n",
       "\n",
       "   Mike   Min    Vote                                NDVI_TS_Name CropTyp  \\\n",
       "0  none  none  single       AdamBenton2016_53189_WSDA_SF_2016.png  barley   \n",
       "1  none  none  single  FranklinYakima2018_101534_WSDA_SF_2018.png  barley   \n",
       "\n",
       "        Irrigtn DataSrc  Acres              LstSrvD    county  \n",
       "0  center pivot    wsda    132  2016/09/20 00:00:00     Adams  \n",
       "1  center pivot    wsda      3  2018/08/14 00:00:00  Franklin  "
      ]
     },
     "execution_count": 4,
     "metadata": {},
     "output_type": "execute_result"
    }
   ],
   "source": [
    "limitCrops_nonExpert_votes = pd.read_csv(ML_data_dir + \"limitCrops_nonExpert_votes.csv\")\n",
    "print (limitCrops_nonExpert_votes.shape)\n",
    "limitCrops_nonExpert_votes.head(2)"
   ]
  },
  {
   "cell_type": "code",
   "execution_count": null,
   "id": "6377b792",
   "metadata": {},
   "outputs": [],
   "source": []
  },
  {
   "cell_type": "markdown",
   "id": "16ad0884",
   "metadata": {},
   "source": [
    "# Read TS files"
   ]
  },
  {
   "cell_type": "code",
   "execution_count": 5,
   "id": "9e4f3d88",
   "metadata": {},
   "outputs": [
    {
     "data": {
      "text/html": [
       "<div>\n",
       "<style scoped>\n",
       "    .dataframe tbody tr th:only-of-type {\n",
       "        vertical-align: middle;\n",
       "    }\n",
       "\n",
       "    .dataframe tbody tr th {\n",
       "        vertical-align: top;\n",
       "    }\n",
       "\n",
       "    .dataframe thead th {\n",
       "        text-align: right;\n",
       "    }\n",
       "</style>\n",
       "<table border=\"1\" class=\"dataframe\">\n",
       "  <thead>\n",
       "    <tr style=\"text-align: right;\">\n",
       "      <th></th>\n",
       "      <th>ID</th>\n",
       "      <th>human_system_start_time</th>\n",
       "      <th>EVI</th>\n",
       "    </tr>\n",
       "  </thead>\n",
       "  <tbody>\n",
       "    <tr>\n",
       "      <th>0</th>\n",
       "      <td>135073_WSDA_SF_2015</td>\n",
       "      <td>2015-01-10</td>\n",
       "      <td>0.054429</td>\n",
       "    </tr>\n",
       "    <tr>\n",
       "      <th>1</th>\n",
       "      <td>135073_WSDA_SF_2015</td>\n",
       "      <td>2015-01-20</td>\n",
       "      <td>0.051731</td>\n",
       "    </tr>\n",
       "  </tbody>\n",
       "</table>\n",
       "</div>"
      ],
      "text/plain": [
       "                    ID human_system_start_time       EVI\n",
       "0  135073_WSDA_SF_2015              2015-01-10  0.054429\n",
       "1  135073_WSDA_SF_2015              2015-01-20  0.051731"
      ]
     },
     "execution_count": 5,
     "metadata": {},
     "output_type": "execute_result"
    }
   ],
   "source": [
    "file_names = [\"SG_Walla2015_\" + idx + \"_JFD.csv\", \"SG_AdamBenton2016_\" + idx + \"_JFD.csv\", \n",
    "              \"SG_Grant2017_\" + idx + \"_JFD.csv\", \"SG_FranklinYakima2018_\" + idx + \"_JFD.csv\"]\n",
    "\n",
    "data=pd.DataFrame()\n",
    "\n",
    "for file in file_names:\n",
    "    curr_file=pd.read_csv(data_dir + file)\n",
    "    curr_file['human_system_start_time'] = pd.to_datetime(curr_file['human_system_start_time'])\n",
    "    \n",
    "    # These data are for 3 years. The middle one is the correct one\n",
    "    all_years = sorted(curr_file.human_system_start_time.dt.year.unique())\n",
    "    if len(all_years)==3 or len(all_years)==2:\n",
    "        proper_year = all_years[1]\n",
    "    elif len(all_years)==1:\n",
    "        proper_year = all_years[0]\n",
    "\n",
    "    curr_file = curr_file[curr_file.human_system_start_time.dt.year==proper_year]\n",
    "    data=pd.concat([data, curr_file])\n",
    "\n",
    "data.reset_index(drop=True, inplace=True)\n",
    "data.loc[data[idx]<0, idx]=0\n",
    "data.head(2)"
   ]
  },
  {
   "cell_type": "markdown",
   "id": "caed5d24",
   "metadata": {},
   "source": [
    "# Filter the train fields TS"
   ]
  },
  {
   "cell_type": "code",
   "execution_count": 6,
   "id": "b16128b6",
   "metadata": {},
   "outputs": [],
   "source": [
    "limitCrops_nonExpert_votes_IDs = list(limitCrops_nonExpert_votes.ID.unique())\n",
    "data = data[data.ID.isin(limitCrops_nonExpert_votes_IDs)]\n",
    "data.reset_index(drop=True, inplace=True)"
   ]
  },
  {
   "cell_type": "code",
   "execution_count": 7,
   "id": "311a907a",
   "metadata": {},
   "outputs": [
    {
     "data": {
      "text/plain": [
       "1315"
      ]
     },
     "execution_count": 7,
     "metadata": {},
     "output_type": "execute_result"
    }
   ],
   "source": [
    "len(data.ID.unique())"
   ]
  },
  {
   "cell_type": "code",
   "execution_count": 8,
   "id": "ac5409a3",
   "metadata": {},
   "outputs": [],
   "source": [
    "for curr_ID in data.ID.unique():\n",
    "    crr_fld=data[data.ID==curr_ID].copy()\n",
    "    crr_fld.reset_index(drop=True, inplace=True)\n",
    "    # crr_fld['human_system_start_time'] = pd.to_datetime(crr_fld['human_system_start_time'])\n",
    "    SFYr = crr_fld.human_system_start_time.dt.year.unique()[0]\n",
    "    fig, ax = plt.subplots();\n",
    "    fig.set_size_inches(10, 2.5)\n",
    "    ax.grid(False);\n",
    "    ax.plot(crr_fld['human_system_start_time'], crr_fld[idx], \n",
    "            c ='dodgerblue', linewidth=5)\n",
    "\n",
    "    ax.axis(\"off\")\n",
    "    # ax.set_xlabel('time'); # , labelpad = 15\n",
    "    # ax.set_ylabel(idx, fontsize=12); # , labelpad = 15\n",
    "    # ax.tick_params(axis = 'y', which = 'major');\n",
    "    # ax = plt.gca()\n",
    "    # ax.axes.xaxis.set_visible(False)\n",
    "    # ax.axes.yaxis.set_visible(False)\n",
    "\n",
    "    left = crr_fld['human_system_start_time'][0]\n",
    "    right = crr_fld['human_system_start_time'].values[-1]\n",
    "    ax.set_xlim([left, right]); # the following line alsow orks\n",
    "    ax.set_ylim([-0.005, 1]); # the following line alsow orks\n",
    "\n",
    "\n",
    "    crop_count_letter = limitCrops_nonExpert_votes[limitCrops_nonExpert_votes.ID==curr_ID][\"Vote\"].values[0]\n",
    "    plot_path = \"/Users/hn/Documents/01_research_data/NASA/ML_data/limitCrops_nonExpert_images_\" + idx + \"/\"\n",
    "    os.makedirs(plot_path, exist_ok=True)\n",
    "    fig_name = plot_path + crop_count_letter + \"_\" + curr_ID +'.jpg'\n",
    "    plt.savefig(fname = fig_name, dpi=100, bbox_inches='tight', facecolor=\"w\")\n",
    "    plt.close('all')\n",
    "    # ax.legend(loc = \"upper left\");"
   ]
  },
  {
   "cell_type": "markdown",
   "id": "326f530c",
   "metadata": {},
   "source": [
    "# NDVI"
   ]
  },
  {
   "cell_type": "code",
   "execution_count": 9,
   "id": "a291633e",
   "metadata": {},
   "outputs": [],
   "source": [
    "idx=\"NDVI\""
   ]
  },
  {
   "cell_type": "code",
   "execution_count": 10,
   "id": "4b068d7b",
   "metadata": {},
   "outputs": [
    {
     "data": {
      "text/html": [
       "<div>\n",
       "<style scoped>\n",
       "    .dataframe tbody tr th:only-of-type {\n",
       "        vertical-align: middle;\n",
       "    }\n",
       "\n",
       "    .dataframe tbody tr th {\n",
       "        vertical-align: top;\n",
       "    }\n",
       "\n",
       "    .dataframe thead th {\n",
       "        text-align: right;\n",
       "    }\n",
       "</style>\n",
       "<table border=\"1\" class=\"dataframe\">\n",
       "  <thead>\n",
       "    <tr style=\"text-align: right;\">\n",
       "      <th></th>\n",
       "      <th>ID</th>\n",
       "      <th>human_system_start_time</th>\n",
       "      <th>NDVI</th>\n",
       "    </tr>\n",
       "  </thead>\n",
       "  <tbody>\n",
       "    <tr>\n",
       "      <th>0</th>\n",
       "      <td>135073_WSDA_SF_2015</td>\n",
       "      <td>2015-01-10</td>\n",
       "      <td>0.115126</td>\n",
       "    </tr>\n",
       "    <tr>\n",
       "      <th>1</th>\n",
       "      <td>135073_WSDA_SF_2015</td>\n",
       "      <td>2015-01-20</td>\n",
       "      <td>0.111097</td>\n",
       "    </tr>\n",
       "  </tbody>\n",
       "</table>\n",
       "</div>"
      ],
      "text/plain": [
       "                    ID human_system_start_time      NDVI\n",
       "0  135073_WSDA_SF_2015              2015-01-10  0.115126\n",
       "1  135073_WSDA_SF_2015              2015-01-20  0.111097"
      ]
     },
     "execution_count": 10,
     "metadata": {},
     "output_type": "execute_result"
    }
   ],
   "source": [
    "file_names = [\"SG_Walla2015_\" + idx + \"_JFD.csv\", \"SG_AdamBenton2016_\" + idx + \"_JFD.csv\", \n",
    "              \"SG_Grant2017_\" + idx + \"_JFD.csv\", \"SG_FranklinYakima2018_\" + idx + \"_JFD.csv\"]\n",
    "\n",
    "data=pd.DataFrame()\n",
    "\n",
    "for file in file_names:\n",
    "    curr_file=pd.read_csv(data_dir + file)\n",
    "    curr_file['human_system_start_time'] = pd.to_datetime(curr_file['human_system_start_time'])\n",
    "    \n",
    "    # These data are for 3 years. The middle one is the correct one\n",
    "    all_years = sorted(curr_file.human_system_start_time.dt.year.unique())\n",
    "    if len(all_years)==3 or len(all_years)==2:\n",
    "        proper_year = all_years[1]\n",
    "    elif len(all_years)==1:\n",
    "        proper_year = all_years[0]\n",
    "\n",
    "    curr_file = curr_file[curr_file.human_system_start_time.dt.year==proper_year]\n",
    "    data=pd.concat([data, curr_file])\n",
    "\n",
    "data.reset_index(drop=True, inplace=True)\n",
    "data.loc[data[idx]<0, idx]=0\n",
    "data.head(2)"
   ]
  },
  {
   "cell_type": "code",
   "execution_count": 11,
   "id": "6f18f423",
   "metadata": {},
   "outputs": [
    {
     "data": {
      "text/plain": [
       "1315"
      ]
     },
     "execution_count": 11,
     "metadata": {},
     "output_type": "execute_result"
    }
   ],
   "source": [
    "limitCrops_nonExpert_votes_IDs = list(limitCrops_nonExpert_votes.ID.unique())\n",
    "data = data[data.ID.isin(limitCrops_nonExpert_votes_IDs)]\n",
    "data.reset_index(drop=True, inplace=True)\n",
    "len(data.ID.unique())"
   ]
  },
  {
   "cell_type": "code",
   "execution_count": 12,
   "id": "7ae472ae",
   "metadata": {},
   "outputs": [
    {
     "name": "stdout",
     "output_type": "stream",
     "text": [
      "/Users/hn/Documents/01_research_data/NASA/ML_data/limitCrops_nonExpert_images_NDVI/\n"
     ]
    }
   ],
   "source": [
    "for curr_ID in data.ID.unique():\n",
    "    crr_fld=data[data.ID==curr_ID].copy()\n",
    "    crr_fld.reset_index(drop=True, inplace=True)\n",
    "    # crr_fld['human_system_start_time'] = pd.to_datetime(crr_fld['human_system_start_time'])\n",
    "    SFYr = crr_fld.human_system_start_time.dt.year.unique()[0]\n",
    "    fig, ax = plt.subplots();\n",
    "    fig.set_size_inches(10, 2.5)\n",
    "    ax.grid(False);\n",
    "    ax.plot(crr_fld['human_system_start_time'], crr_fld[idx], \n",
    "            c ='dodgerblue', linewidth=5)\n",
    "\n",
    "    ax.axis(\"off\")\n",
    "    # ax.set_xlabel('time'); # , labelpad = 15\n",
    "    # ax.set_ylabel(idx, fontsize=12); # , labelpad = 15\n",
    "    # ax.tick_params(axis = 'y', which = 'major');\n",
    "    # ax = plt.gca()\n",
    "    # ax.axes.xaxis.set_visible(False)\n",
    "    # ax.axes.yaxis.set_visible(False)\n",
    "\n",
    "    left = crr_fld['human_system_start_time'][0]\n",
    "    right = crr_fld['human_system_start_time'].values[-1]\n",
    "    ax.set_xlim([left, right]); # the following line alsow orks\n",
    "    ax.set_ylim([-0.005, 1]); # the following line alsow orks\n",
    "\n",
    "\n",
    "    crop_count_letter = limitCrops_nonExpert_votes[limitCrops_nonExpert_votes.ID==curr_ID][\"Vote\"].values[0]\n",
    "    plot_path = \"/Users/hn/Documents/01_research_data/NASA/ML_data/limitCrops_nonExpert_images_\" + idx + \"/\"\n",
    "    os.makedirs(plot_path, exist_ok=True)\n",
    "    fig_name = plot_path + crop_count_letter + \"_\" + curr_ID +'.jpg'\n",
    "    plt.savefig(fname = fig_name, dpi=100, bbox_inches='tight', facecolor=\"w\")\n",
    "    plt.close('all')\n",
    "    # ax.legend(loc = \"upper left\");\n",
    "    \n",
    "print (plot_path)"
   ]
  },
  {
   "cell_type": "code",
   "execution_count": 13,
   "id": "16e2e048",
   "metadata": {},
   "outputs": [
    {
     "data": {
      "text/html": [
       "<div>\n",
       "<style scoped>\n",
       "    .dataframe tbody tr th:only-of-type {\n",
       "        vertical-align: middle;\n",
       "    }\n",
       "\n",
       "    .dataframe tbody tr th {\n",
       "        vertical-align: top;\n",
       "    }\n",
       "\n",
       "    .dataframe thead th {\n",
       "        text-align: right;\n",
       "    }\n",
       "</style>\n",
       "<table border=\"1\" class=\"dataframe\">\n",
       "  <thead>\n",
       "    <tr style=\"text-align: right;\">\n",
       "      <th></th>\n",
       "      <th>ID</th>\n",
       "      <th>human_system_start_time</th>\n",
       "      <th>NDVI</th>\n",
       "    </tr>\n",
       "  </thead>\n",
       "  <tbody>\n",
       "    <tr>\n",
       "      <th>0</th>\n",
       "      <td>99791_WSDA_SF_2018</td>\n",
       "      <td>2018-01-10</td>\n",
       "      <td>0.135647</td>\n",
       "    </tr>\n",
       "    <tr>\n",
       "      <th>1</th>\n",
       "      <td>99791_WSDA_SF_2018</td>\n",
       "      <td>2018-01-20</td>\n",
       "      <td>0.165818</td>\n",
       "    </tr>\n",
       "  </tbody>\n",
       "</table>\n",
       "</div>"
      ],
      "text/plain": [
       "                   ID human_system_start_time      NDVI\n",
       "0  99791_WSDA_SF_2018              2018-01-10  0.135647\n",
       "1  99791_WSDA_SF_2018              2018-01-20  0.165818"
      ]
     },
     "execution_count": 13,
     "metadata": {},
     "output_type": "execute_result"
    }
   ],
   "source": [
    "crr_fld.head(2)"
   ]
  },
  {
   "cell_type": "code",
   "execution_count": null,
   "id": "be8bdbf8",
   "metadata": {},
   "outputs": [],
   "source": []
  }
 ],
 "metadata": {
  "kernelspec": {
   "display_name": "Python 3 (ipykernel)",
   "language": "python",
   "name": "python3"
  },
  "language_info": {
   "codemirror_mode": {
    "name": "ipython",
    "version": 3
   },
   "file_extension": ".py",
   "mimetype": "text/x-python",
   "name": "python",
   "nbconvert_exporter": "python",
   "pygments_lexer": "ipython3",
   "version": "3.9.7"
  }
 },
 "nbformat": 4,
 "nbformat_minor": 5
}
