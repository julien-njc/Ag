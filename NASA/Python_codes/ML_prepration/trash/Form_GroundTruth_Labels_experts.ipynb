{
 "cells": [
  {
   "cell_type": "code",
   "execution_count": 88,
   "id": "b0a17944",
   "metadata": {},
   "outputs": [],
   "source": [
    "import pandas as pd\n",
    "import csv\n",
    "\n",
    "import os, os.path\n",
    "import sys"
   ]
  },
  {
   "cell_type": "markdown",
   "id": "3cb16333",
   "metadata": {},
   "source": [
    "# All chosen fields for survey 1\n",
    "A grass hay field, \"106433_WSDA_SF_2017\", was missed from meeting PDF! how the hell did this happen?\n",
    "- I had dropped grass hay from disagreement table! "
   ]
  },
  {
   "cell_type": "code",
   "execution_count": 89,
   "id": "e0af9eee",
   "metadata": {},
   "outputs": [],
   "source": [
    "perry_dir = \"/Users/hn/Documents/01_research_data/NASA/Perry_and_Co/\"\n",
    "choices_set_1_xl = pd.ExcelFile(perry_dir + \"set1_PerryandCo.xlsx\")\n",
    "choices_set_1_sheet_names = choices_set_1_xl.sheet_names  # see all sheet names\n",
    "\n",
    "chosen_fields_set1 = pd.DataFrame()\n",
    "for a_choice_sheet in choices_set_1_sheet_names:    \n",
    "    # read a damn sheet\n",
    "    a_choice_sheet = choices_set_1_xl.parse(a_choice_sheet)\n",
    "    chosen_fields_set1 = pd.concat([chosen_fields_set1, a_choice_sheet])"
   ]
  },
  {
   "cell_type": "code",
   "execution_count": 90,
   "id": "c4689ba8",
   "metadata": {},
   "outputs": [],
   "source": [
    "choices_set_2_xl = pd.ExcelFile(perry_dir + \"set_2_handPicked.xlsx\")\n",
    "choices_set_2_sheet_names = choices_set_2_xl.sheet_names  # see all sheet names\n",
    "\n",
    "chosen_fields_set2 = pd.DataFrame()\n",
    "for a_choice_sheet in choices_set_2_sheet_names:    \n",
    "    # read a damn sheet\n",
    "    a_choice_sheet = choices_set_2_xl.parse(a_choice_sheet)\n",
    "    chosen_fields_set2 = pd.concat([chosen_fields_set2, a_choice_sheet])"
   ]
  },
  {
   "cell_type": "code",
   "execution_count": 91,
   "id": "3c7b19c8",
   "metadata": {},
   "outputs": [
    {
     "name": "stdout",
     "output_type": "stream",
     "text": [
      "322\n",
      "322\n"
     ]
    }
   ],
   "source": [
    "print (len(chosen_fields_set2.ID))\n",
    "print (len(chosen_fields_set2.ID.unique()))"
   ]
  },
  {
   "cell_type": "code",
   "execution_count": 92,
   "id": "91bddb2b",
   "metadata": {},
   "outputs": [],
   "source": [
    "# # check if there are overlap between chosen fields in set 1 and set 2\n",
    "# set1_uniqueIDs = list(chosen_fields_set1.ID.unique())\n",
    "# set2_uniqueIDs = list(chosen_fields_set2.ID.unique())\n",
    "\n",
    "# A = chosen_fields_set2[chosen_fields_set2.ID.isin(set1_uniqueIDs)]\n",
    "# B = chosen_fields_set1[chosen_fields_set1.ID.isin(set2_uniqueIDs)]\n",
    "# A.shape"
   ]
  },
  {
   "cell_type": "markdown",
   "id": "9f3c743c",
   "metadata": {},
   "source": [
    "# Expert Set 1 - post meeting"
   ]
  },
  {
   "cell_type": "code",
   "execution_count": 93,
   "id": "e4157f44",
   "metadata": {},
   "outputs": [
    {
     "data": {
      "text/html": [
       "<div>\n",
       "<style scoped>\n",
       "    .dataframe tbody tr th:only-of-type {\n",
       "        vertical-align: middle;\n",
       "    }\n",
       "\n",
       "    .dataframe tbody tr th {\n",
       "        vertical-align: top;\n",
       "    }\n",
       "\n",
       "    .dataframe thead th {\n",
       "        text-align: right;\n",
       "    }\n",
       "</style>\n",
       "<table border=\"1\" class=\"dataframe\">\n",
       "  <thead>\n",
       "    <tr style=\"text-align: right;\">\n",
       "      <th></th>\n",
       "      <th>ID</th>\n",
       "      <th>Vote</th>\n",
       "    </tr>\n",
       "  </thead>\n",
       "  <tbody>\n",
       "    <tr>\n",
       "      <th>0</th>\n",
       "      <td>99837_WSDA_SF_2017</td>\n",
       "      <td>2</td>\n",
       "    </tr>\n",
       "    <tr>\n",
       "      <th>1</th>\n",
       "      <td>114615_WSDA_SF_2017</td>\n",
       "      <td>1</td>\n",
       "    </tr>\n",
       "  </tbody>\n",
       "</table>\n",
       "</div>"
      ],
      "text/plain": [
       "                    ID  Vote\n",
       "0   99837_WSDA_SF_2017     2\n",
       "1  114615_WSDA_SF_2017     1"
      ]
     },
     "execution_count": 93,
     "metadata": {},
     "output_type": "execute_result"
    }
   ],
   "source": [
    "import pandas as pd\n",
    "\n",
    "ML_data_dir = \"/Users/hn/Documents/01_research_data/NASA/ML_data/\"\n",
    "expert_set_1_meeting_Consensus = pd.read_csv(ML_data_dir + \"expert_set1_postmeeting_consensus.csv\")\n",
    "expert_set_1_meeting_Consensus.head(2)"
   ]
  },
  {
   "cell_type": "code",
   "execution_count": 94,
   "id": "4d1ea2b8",
   "metadata": {},
   "outputs": [
    {
     "name": "stdout",
     "output_type": "stream",
     "text": [
      "(111, 2)\n",
      "[2 1]\n"
     ]
    }
   ],
   "source": [
    "print (expert_set_1_meeting_Consensus.shape)\n",
    "print (expert_set_1_meeting_Consensus.Vote.unique())"
   ]
  },
  {
   "cell_type": "markdown",
   "id": "c06bb3f8",
   "metadata": {},
   "source": [
    "# Expert Set 1 - pre-meeting"
   ]
  },
  {
   "cell_type": "code",
   "execution_count": 95,
   "id": "81e456c8",
   "metadata": {},
   "outputs": [
    {
     "data": {
      "text/html": [
       "<div>\n",
       "<style scoped>\n",
       "    .dataframe tbody tr th:only-of-type {\n",
       "        vertical-align: middle;\n",
       "    }\n",
       "\n",
       "    .dataframe tbody tr th {\n",
       "        vertical-align: top;\n",
       "    }\n",
       "\n",
       "    .dataframe thead th {\n",
       "        text-align: right;\n",
       "    }\n",
       "</style>\n",
       "<table border=\"1\" class=\"dataframe\">\n",
       "  <thead>\n",
       "    <tr style=\"text-align: right;\">\n",
       "      <th></th>\n",
       "      <th>ID</th>\n",
       "      <th>PerrysVote</th>\n",
       "      <th>AndrewsVote</th>\n",
       "      <th>TimsVote</th>\n",
       "      <th>PerryVCorrected</th>\n",
       "      <th>AndrewVCorrected</th>\n",
       "      <th>TimsVCorrected</th>\n",
       "      <th>Vote</th>\n",
       "    </tr>\n",
       "  </thead>\n",
       "  <tbody>\n",
       "    <tr>\n",
       "      <th>0</th>\n",
       "      <td>157415_WSDA_SF_2015</td>\n",
       "      <td>Single Crop</td>\n",
       "      <td>Single Crop</td>\n",
       "      <td>Single Crop</td>\n",
       "      <td>Single Crop</td>\n",
       "      <td>Single Crop</td>\n",
       "      <td>Single Crop</td>\n",
       "      <td>1</td>\n",
       "    </tr>\n",
       "    <tr>\n",
       "      <th>1</th>\n",
       "      <td>155601_WSDA_SF_2015</td>\n",
       "      <td>Single Crop</td>\n",
       "      <td>Single Crop</td>\n",
       "      <td>Single Crop</td>\n",
       "      <td>Single Crop</td>\n",
       "      <td>Single Crop</td>\n",
       "      <td>Single Crop</td>\n",
       "      <td>1</td>\n",
       "    </tr>\n",
       "  </tbody>\n",
       "</table>\n",
       "</div>"
      ],
      "text/plain": [
       "                    ID   PerrysVote  AndrewsVote     TimsVote PerryVCorrected  \\\n",
       "0  157415_WSDA_SF_2015  Single Crop  Single Crop  Single Crop     Single Crop   \n",
       "1  155601_WSDA_SF_2015  Single Crop  Single Crop  Single Crop     Single Crop   \n",
       "\n",
       "  AndrewVCorrected TimsVCorrected  Vote  \n",
       "0      Single Crop    Single Crop     1  \n",
       "1      Single Crop    Single Crop     1  "
      ]
     },
     "execution_count": 95,
     "metadata": {},
     "output_type": "execute_result"
    }
   ],
   "source": [
    "expert_set1_premeeting_consensus = pd.read_csv(ML_data_dir + \"expert_set1_premeeting_consensus.csv\")\n",
    "expert_set1_premeeting_consensus.head(2)"
   ]
  },
  {
   "cell_type": "code",
   "execution_count": 96,
   "id": "fd16c7dc",
   "metadata": {},
   "outputs": [],
   "source": [
    "drop_cols = ['PerrysVote', 'AndrewsVote', 'TimsVote',\n",
    "             \"PerryVCorrected\", \"AndrewVCorrected\", \"TimsVCorrected\"]\n",
    "expert_set1_premeeting_consensus.drop(labels=drop_cols, axis=1, inplace=True)"
   ]
  },
  {
   "cell_type": "markdown",
   "id": "4f4f6366",
   "metadata": {},
   "source": [
    "# Concatenate set 1 pre and post meeting labels"
   ]
  },
  {
   "cell_type": "code",
   "execution_count": 97,
   "id": "d9cc2255",
   "metadata": {},
   "outputs": [
    {
     "data": {
      "text/plain": [
       "(285, 2)"
      ]
     },
     "execution_count": 97,
     "metadata": {},
     "output_type": "execute_result"
    }
   ],
   "source": [
    "expert_set_1_labels = pd.concat([expert_set_1_meeting_Consensus, \n",
    "                                 expert_set1_premeeting_consensus[['ID', 'Vote']]])\n",
    "\n",
    "# we need this shit, cuz some fields were requested to be discussed or had comment\n",
    "expert_set_1_labels.drop_duplicates(inplace=True) \n",
    "expert_set_1_labels.shape"
   ]
  },
  {
   "cell_type": "markdown",
   "id": "b1d8f6d5",
   "metadata": {},
   "source": [
    "# Read Experts' Set 2 pre-meeting consensus"
   ]
  },
  {
   "cell_type": "code",
   "execution_count": 98,
   "id": "d0d63ba9",
   "metadata": {},
   "outputs": [
    {
     "data": {
      "text/html": [
       "<div>\n",
       "<style scoped>\n",
       "    .dataframe tbody tr th:only-of-type {\n",
       "        vertical-align: middle;\n",
       "    }\n",
       "\n",
       "    .dataframe tbody tr th {\n",
       "        vertical-align: top;\n",
       "    }\n",
       "\n",
       "    .dataframe thead th {\n",
       "        text-align: right;\n",
       "    }\n",
       "</style>\n",
       "<table border=\"1\" class=\"dataframe\">\n",
       "  <thead>\n",
       "    <tr style=\"text-align: right;\">\n",
       "      <th></th>\n",
       "      <th>ID</th>\n",
       "      <th>PerryV</th>\n",
       "      <th>AndrewV</th>\n",
       "      <th>PerryVCorrected</th>\n",
       "      <th>AndrewVCorrected</th>\n",
       "      <th>Vote</th>\n",
       "    </tr>\n",
       "  </thead>\n",
       "  <tbody>\n",
       "    <tr>\n",
       "      <th>0</th>\n",
       "      <td>160820_WSDA_SF_2015</td>\n",
       "      <td>Single Crop</td>\n",
       "      <td>Single Crop</td>\n",
       "      <td>Single Crop</td>\n",
       "      <td>Single Crop</td>\n",
       "      <td>1</td>\n",
       "    </tr>\n",
       "    <tr>\n",
       "      <th>1</th>\n",
       "      <td>161383_WSDA_SF_2015</td>\n",
       "      <td>Single Crop</td>\n",
       "      <td>Single Crop</td>\n",
       "      <td>Single Crop</td>\n",
       "      <td>Single Crop</td>\n",
       "      <td>1</td>\n",
       "    </tr>\n",
       "  </tbody>\n",
       "</table>\n",
       "</div>"
      ],
      "text/plain": [
       "                    ID       PerryV      AndrewV PerryVCorrected  \\\n",
       "0  160820_WSDA_SF_2015  Single Crop  Single Crop     Single Crop   \n",
       "1  161383_WSDA_SF_2015  Single Crop  Single Crop     Single Crop   \n",
       "\n",
       "  AndrewVCorrected  Vote  \n",
       "0      Single Crop     1  \n",
       "1      Single Crop     1  "
      ]
     },
     "execution_count": 98,
     "metadata": {},
     "output_type": "execute_result"
    }
   ],
   "source": [
    "expert_set2_premeeting_consensus = pd.read_csv(ML_data_dir + \"expert_set2_premeeting_consensus.csv\")\n",
    "expert_set2_premeeting_consensus.head(2)"
   ]
  },
  {
   "cell_type": "code",
   "execution_count": 99,
   "id": "954dbae9",
   "metadata": {},
   "outputs": [],
   "source": [
    "set1_IDs = list(expert_set_1_labels.ID.unique())\n",
    "\n",
    "#\n",
    "#    Get rid of repeated fields\n",
    "#\n",
    "expert_set2_premeeting_consensus=expert_set2_premeeting_consensus[~expert_set2_premeeting_consensus\\\n",
    "                                                                  .ID.isin(set1_IDs)]"
   ]
  },
  {
   "cell_type": "code",
   "execution_count": 100,
   "id": "5afa2f00",
   "metadata": {},
   "outputs": [
    {
     "data": {
      "text/html": [
       "<div>\n",
       "<style scoped>\n",
       "    .dataframe tbody tr th:only-of-type {\n",
       "        vertical-align: middle;\n",
       "    }\n",
       "\n",
       "    .dataframe tbody tr th {\n",
       "        vertical-align: top;\n",
       "    }\n",
       "\n",
       "    .dataframe thead th {\n",
       "        text-align: right;\n",
       "    }\n",
       "</style>\n",
       "<table border=\"1\" class=\"dataframe\">\n",
       "  <thead>\n",
       "    <tr style=\"text-align: right;\">\n",
       "      <th></th>\n",
       "      <th>ID</th>\n",
       "      <th>PerryV</th>\n",
       "      <th>AndrewV</th>\n",
       "      <th>PerryVCorrected</th>\n",
       "      <th>AndrewVCorrected</th>\n",
       "      <th>Vote</th>\n",
       "    </tr>\n",
       "  </thead>\n",
       "  <tbody>\n",
       "    <tr>\n",
       "      <th>0</th>\n",
       "      <td>160820_WSDA_SF_2015</td>\n",
       "      <td>Single Crop</td>\n",
       "      <td>Single Crop</td>\n",
       "      <td>Single Crop</td>\n",
       "      <td>Single Crop</td>\n",
       "      <td>1</td>\n",
       "    </tr>\n",
       "    <tr>\n",
       "      <th>1</th>\n",
       "      <td>161383_WSDA_SF_2015</td>\n",
       "      <td>Single Crop</td>\n",
       "      <td>Single Crop</td>\n",
       "      <td>Single Crop</td>\n",
       "      <td>Single Crop</td>\n",
       "      <td>1</td>\n",
       "    </tr>\n",
       "  </tbody>\n",
       "</table>\n",
       "</div>"
      ],
      "text/plain": [
       "                    ID       PerryV      AndrewV PerryVCorrected  \\\n",
       "0  160820_WSDA_SF_2015  Single Crop  Single Crop     Single Crop   \n",
       "1  161383_WSDA_SF_2015  Single Crop  Single Crop     Single Crop   \n",
       "\n",
       "  AndrewVCorrected  Vote  \n",
       "0      Single Crop     1  \n",
       "1      Single Crop     1  "
      ]
     },
     "execution_count": 100,
     "metadata": {},
     "output_type": "execute_result"
    }
   ],
   "source": [
    "expert_set2_premeeting_consensus.head(2)"
   ]
  },
  {
   "cell_type": "markdown",
   "id": "86740a51",
   "metadata": {},
   "source": [
    "# Non-Expert Labels Set-2\n",
    "\n",
    "### Pre-Meeting Consensus"
   ]
  },
  {
   "cell_type": "code",
   "execution_count": 101,
   "id": "4f3e72e3",
   "metadata": {},
   "outputs": [],
   "source": [
    "NE_dir = \"/Users/hn/Documents/01_research_data/NASA/parameters/nonExpert_set2_fields/\"\n",
    "\n",
    "NE_S2_PreMeeting=pd.read_csv(NE_dir+\"NE_set2_premeeting_Consensus_IDs_Votes_IncludesUnsure.csv\")\n",
    "                                    \"NE_set2_post_expert_meeting_IDs_Votes_IncludesNA_fromOneDrive_May23.csv\"\n",
    "\n",
    "\n",
    "# Drop the Unsure ones. We will read it in the post meeting part.\n",
    "NE_S2_PreMeeting=NE_S2_PreMeeting[NE_S2_PreMeeting.HosseinV!=\"Unsure\"]\n",
    "\n",
    "# NE_S2_PreMeeting.rename(columns = {'HosseinV':'Vote'}, inplace = True)\n",
    "\n",
    "NE_S2_PreMeeting[\"Vote\"]=0\n",
    "NE_S2_PreMeeting.loc[NE_S2_PreMeeting.HosseinV==\"Single\", \"Vote\"]=1\n",
    "NE_S2_PreMeeting.loc[NE_S2_PreMeeting.HosseinV==\"Double\", \"Vote\"]=2\n",
    "\n",
    "NE_S2_PreMeeting=NE_S2_PreMeeting[[\"ID\", \"Vote\"]]"
   ]
  },
  {
   "cell_type": "code",
   "execution_count": 102,
   "id": "19e6fba6",
   "metadata": {},
   "outputs": [],
   "source": [
    "# Post-Meeting Consensus"
   ]
  },
  {
   "cell_type": "code",
   "execution_count": null,
   "id": "dfe9b116",
   "metadata": {},
   "outputs": [],
   "source": []
  },
  {
   "cell_type": "code",
   "execution_count": 16,
   "id": "912c1e4e",
   "metadata": {},
   "outputs": [
    {
     "data": {
      "text/plain": [
       "(1753, 2)"
      ]
     },
     "execution_count": 16,
     "metadata": {},
     "output_type": "execute_result"
    }
   ],
   "source": []
  },
  {
   "cell_type": "markdown",
   "id": "418d2ef0",
   "metadata": {},
   "source": [
    "# Concatenate DataFrames"
   ]
  },
  {
   "cell_type": "code",
   "execution_count": 17,
   "id": "d36d5f9a",
   "metadata": {},
   "outputs": [
    {
     "data": {
      "text/plain": [
       "(1753, 2)"
      ]
     },
     "execution_count": 17,
     "metadata": {},
     "output_type": "execute_result"
    }
   ],
   "source": [
    "train_labels = pd.concat([expert_set_1_labels, \n",
    "                          expert_set2_premeeting_consensus[['ID', 'Vote']],\n",
    "                          NE_S2_PreMeeting])\n",
    "train_labels.reset_index(drop=True, inplace=True)\n",
    "# train_labels.drop_duplicates(inplace=True)\n",
    "train_labels.shape"
   ]
  },
  {
   "cell_type": "markdown",
   "id": "f28156c3",
   "metadata": {},
   "source": [
    "# Sep 8 2022\n",
    "\n",
    "The train label we get from this notebook has 1753 fields in it. However, the one on the disk\n",
    "has 1849. Probably somewhere else I have read the old train_labels.csv and added the new fields from somewhere to it.\n",
    "But cannot recall now. Need to find it."
   ]
  },
  {
   "cell_type": "code",
   "execution_count": null,
   "id": "0194b021",
   "metadata": {},
   "outputs": [],
   "source": []
  },
  {
   "cell_type": "code",
   "execution_count": null,
   "id": "7fe8f175",
   "metadata": {},
   "outputs": [],
   "source": []
  },
  {
   "cell_type": "code",
   "execution_count": null,
   "id": "a4a3608b",
   "metadata": {},
   "outputs": [],
   "source": []
  },
  {
   "cell_type": "code",
   "execution_count": 26,
   "id": "eb530395",
   "metadata": {},
   "outputs": [],
   "source": [
    "out_folder = \"/Users/hn/Documents/01_research_data/NASA/ML_data/\"\n",
    "\n",
    "out_name = out_folder + \"train_labels_2.csv\"\n",
    "train_labels.to_csv(out_name, index = False)"
   ]
  },
  {
   "cell_type": "code",
   "execution_count": 18,
   "id": "3b592c75",
   "metadata": {},
   "outputs": [],
   "source": [
    "A = pd.read_csv(\"/Users/hn/Documents/01_research_data/NASA/ML_data/train_labels.csv\")"
   ]
  },
  {
   "cell_type": "code",
   "execution_count": 30,
   "id": "3d74aab9",
   "metadata": {},
   "outputs": [
    {
     "data": {
      "text/plain": [
       "1849"
      ]
     },
     "execution_count": 30,
     "metadata": {},
     "output_type": "execute_result"
    }
   ],
   "source": [
    "len(A.ID.unique())"
   ]
  },
  {
   "cell_type": "code",
   "execution_count": 31,
   "id": "87e8b74b",
   "metadata": {},
   "outputs": [],
   "source": [
    "evaluation_set = pd.read_csv(\"/Users/hn/Documents/01_research_data/NASA/parameters/evaluation_set.csv\")"
   ]
  },
  {
   "cell_type": "code",
   "execution_count": 33,
   "id": "540a4c51",
   "metadata": {},
   "outputs": [
    {
     "data": {
      "text/html": [
       "<div>\n",
       "<style scoped>\n",
       "    .dataframe tbody tr th:only-of-type {\n",
       "        vertical-align: middle;\n",
       "    }\n",
       "\n",
       "    .dataframe tbody tr th {\n",
       "        vertical-align: top;\n",
       "    }\n",
       "\n",
       "    .dataframe thead th {\n",
       "        text-align: right;\n",
       "    }\n",
       "</style>\n",
       "<table border=\"1\" class=\"dataframe\">\n",
       "  <thead>\n",
       "    <tr style=\"text-align: right;\">\n",
       "      <th></th>\n",
       "      <th>ID</th>\n",
       "      <th>CropTyp</th>\n",
       "      <th>Irrigtn</th>\n",
       "      <th>DataSrc</th>\n",
       "      <th>Acres</th>\n",
       "      <th>ExctAcr</th>\n",
       "      <th>LstSrvD</th>\n",
       "      <th>county</th>\n",
       "    </tr>\n",
       "  </thead>\n",
       "  <tbody>\n",
       "    <tr>\n",
       "      <th>0</th>\n",
       "      <td>100010_WSDA_SF_2017</td>\n",
       "      <td>alfalfa hay</td>\n",
       "      <td>center pivot</td>\n",
       "      <td>wsda</td>\n",
       "      <td>34</td>\n",
       "      <td>34.310305</td>\n",
       "      <td>2017/09/12</td>\n",
       "      <td>Grant</td>\n",
       "    </tr>\n",
       "    <tr>\n",
       "      <th>1</th>\n",
       "      <td>100204_WSDA_SF_2017</td>\n",
       "      <td>alfalfa hay</td>\n",
       "      <td>center pivot</td>\n",
       "      <td>wsda</td>\n",
       "      <td>62</td>\n",
       "      <td>61.826535</td>\n",
       "      <td>2017/08/09</td>\n",
       "      <td>Grant</td>\n",
       "    </tr>\n",
       "  </tbody>\n",
       "</table>\n",
       "</div>"
      ],
      "text/plain": [
       "                    ID      CropTyp       Irrigtn DataSrc  Acres    ExctAcr  \\\n",
       "0  100010_WSDA_SF_2017  alfalfa hay  center pivot    wsda     34  34.310305   \n",
       "1  100204_WSDA_SF_2017  alfalfa hay  center pivot    wsda     62  61.826535   \n",
       "\n",
       "      LstSrvD county  \n",
       "0  2017/09/12  Grant  \n",
       "1  2017/08/09  Grant  "
      ]
     },
     "execution_count": 33,
     "metadata": {},
     "output_type": "execute_result"
    }
   ],
   "source": [
    "evaluation_set.head(2)"
   ]
  },
  {
   "cell_type": "code",
   "execution_count": 35,
   "id": "630fc305",
   "metadata": {},
   "outputs": [],
   "source": [
    "A = pd.merge(A, evaluation_set, on=['ID'], how='left')"
   ]
  },
  {
   "cell_type": "code",
   "execution_count": 37,
   "id": "285e8631",
   "metadata": {},
   "outputs": [],
   "source": [
    "train_labels = pd.merge(train_labels, evaluation_set, on=['ID'], how='left')"
   ]
  },
  {
   "cell_type": "code",
   "execution_count": 41,
   "id": "ff8f5125",
   "metadata": {},
   "outputs": [
    {
     "data": {
      "text/plain": [
       "(1342, 9)"
      ]
     },
     "execution_count": 41,
     "metadata": {},
     "output_type": "execute_result"
    }
   ],
   "source": [
    "A[A.ExctAcr>10].shape"
   ]
  },
  {
   "cell_type": "code",
   "execution_count": 42,
   "id": "fe5d6b1b",
   "metadata": {},
   "outputs": [
    {
     "data": {
      "text/plain": [
       "(1267, 9)"
      ]
     },
     "execution_count": 42,
     "metadata": {},
     "output_type": "execute_result"
    }
   ],
   "source": [
    "train_labels[train_labels.ExctAcr>10].shape"
   ]
  },
  {
   "cell_type": "code",
   "execution_count": 46,
   "id": "ae8ae489",
   "metadata": {},
   "outputs": [],
   "source": [
    "expert_set_1_labels=pd.merge(expert_set_1_labels, evaluation_set, on=['ID'], how='left')\n",
    "expert_set2_premeeting_consensus=pd.merge(expert_set2_premeeting_consensus, evaluation_set, on=['ID'], how='left')\n",
    "NE_S2_PreMeeting=pd.merge(NE_S2_PreMeeting, evaluation_set, on=['ID'], how='left')"
   ]
  },
  {
   "cell_type": "code",
   "execution_count": 49,
   "id": "22df2785",
   "metadata": {},
   "outputs": [
    {
     "data": {
      "text/plain": [
       "(1319, 9)"
      ]
     },
     "execution_count": 49,
     "metadata": {},
     "output_type": "execute_result"
    }
   ],
   "source": [
    "NE_S2_PreMeeting.shape"
   ]
  },
  {
   "cell_type": "code",
   "execution_count": 50,
   "id": "0e100948",
   "metadata": {},
   "outputs": [
    {
     "data": {
      "text/plain": [
       "(149, 13)"
      ]
     },
     "execution_count": 50,
     "metadata": {},
     "output_type": "execute_result"
    }
   ],
   "source": [
    "expert_set2_premeeting_consensus.shape"
   ]
  },
  {
   "cell_type": "code",
   "execution_count": 51,
   "id": "29845cd3",
   "metadata": {},
   "outputs": [
    {
     "data": {
      "text/plain": [
       "(285, 9)"
      ]
     },
     "execution_count": 51,
     "metadata": {},
     "output_type": "execute_result"
    }
   ],
   "source": [
    "expert_set_1_labels.shape"
   ]
  },
  {
   "cell_type": "code",
   "execution_count": 53,
   "id": "0dcc5258",
   "metadata": {},
   "outputs": [
    {
     "data": {
      "text/plain": [
       "(1849, 9)"
      ]
     },
     "execution_count": 53,
     "metadata": {},
     "output_type": "execute_result"
    }
   ],
   "source": [
    "A.shape"
   ]
  },
  {
   "cell_type": "code",
   "execution_count": 56,
   "id": "ef02f220",
   "metadata": {},
   "outputs": [
    {
     "data": {
      "text/html": [
       "<div>\n",
       "<style scoped>\n",
       "    .dataframe tbody tr th:only-of-type {\n",
       "        vertical-align: middle;\n",
       "    }\n",
       "\n",
       "    .dataframe tbody tr th {\n",
       "        vertical-align: top;\n",
       "    }\n",
       "\n",
       "    .dataframe thead th {\n",
       "        text-align: right;\n",
       "    }\n",
       "</style>\n",
       "<table border=\"1\" class=\"dataframe\">\n",
       "  <thead>\n",
       "    <tr style=\"text-align: right;\">\n",
       "      <th></th>\n",
       "      <th>ID</th>\n",
       "      <th>Vote</th>\n",
       "      <th>CropTyp</th>\n",
       "      <th>Irrigtn</th>\n",
       "      <th>DataSrc</th>\n",
       "      <th>Acres</th>\n",
       "      <th>ExctAcr</th>\n",
       "      <th>LstSrvD</th>\n",
       "      <th>county</th>\n",
       "    </tr>\n",
       "  </thead>\n",
       "  <tbody>\n",
       "    <tr>\n",
       "      <th>0</th>\n",
       "      <td>99837_WSDA_SF_2017</td>\n",
       "      <td>2</td>\n",
       "      <td>barley</td>\n",
       "      <td>center pivot</td>\n",
       "      <td>wsda</td>\n",
       "      <td>73</td>\n",
       "      <td>73.250981</td>\n",
       "      <td>2017/10/10</td>\n",
       "      <td>Grant</td>\n",
       "    </tr>\n",
       "    <tr>\n",
       "      <th>1</th>\n",
       "      <td>114615_WSDA_SF_2017</td>\n",
       "      <td>1</td>\n",
       "      <td>barley</td>\n",
       "      <td>center pivot</td>\n",
       "      <td>wsda</td>\n",
       "      <td>31</td>\n",
       "      <td>30.993504</td>\n",
       "      <td>2017/10/10</td>\n",
       "      <td>Grant</td>\n",
       "    </tr>\n",
       "  </tbody>\n",
       "</table>\n",
       "</div>"
      ],
      "text/plain": [
       "                    ID  Vote CropTyp       Irrigtn DataSrc  Acres    ExctAcr  \\\n",
       "0   99837_WSDA_SF_2017     2  barley  center pivot    wsda     73  73.250981   \n",
       "1  114615_WSDA_SF_2017     1  barley  center pivot    wsda     31  30.993504   \n",
       "\n",
       "      LstSrvD county  \n",
       "0  2017/10/10  Grant  \n",
       "1  2017/10/10  Grant  "
      ]
     },
     "execution_count": 56,
     "metadata": {},
     "output_type": "execute_result"
    }
   ],
   "source": [
    "train_labels.head(2)"
   ]
  },
  {
   "cell_type": "code",
   "execution_count": 57,
   "id": "ec8c1bbe",
   "metadata": {},
   "outputs": [],
   "source": [
    "A_inside_train_labels = A[A.ID.isin(list(train_labels.ID))]"
   ]
  },
  {
   "cell_type": "code",
   "execution_count": 59,
   "id": "a278e229",
   "metadata": {},
   "outputs": [
    {
     "data": {
      "text/plain": [
       "(1753, 9)"
      ]
     },
     "execution_count": 59,
     "metadata": {},
     "output_type": "execute_result"
    }
   ],
   "source": [
    "A_inside_train_labels.shape"
   ]
  },
  {
   "cell_type": "code",
   "execution_count": 60,
   "id": "5e21e0f8",
   "metadata": {},
   "outputs": [
    {
     "data": {
      "text/plain": [
       "(1849, 9)"
      ]
     },
     "execution_count": 60,
     "metadata": {},
     "output_type": "execute_result"
    }
   ],
   "source": [
    "A.shape"
   ]
  },
  {
   "cell_type": "code",
   "execution_count": 61,
   "id": "be411796",
   "metadata": {},
   "outputs": [],
   "source": [
    "train_labels_in_A = train_labels[train_labels.ID.isin(A.ID)]"
   ]
  },
  {
   "cell_type": "code",
   "execution_count": 62,
   "id": "363a6f5f",
   "metadata": {},
   "outputs": [
    {
     "data": {
      "text/plain": [
       "(1753, 9)"
      ]
     },
     "execution_count": 62,
     "metadata": {},
     "output_type": "execute_result"
    }
   ],
   "source": [
    "train_labels_in_A.shape"
   ]
  },
  {
   "cell_type": "code",
   "execution_count": 63,
   "id": "d70e89d2",
   "metadata": {},
   "outputs": [
    {
     "data": {
      "text/plain": [
       "(1753, 9)"
      ]
     },
     "execution_count": 63,
     "metadata": {},
     "output_type": "execute_result"
    }
   ],
   "source": [
    "train_labels.shape"
   ]
  },
  {
   "cell_type": "code",
   "execution_count": 64,
   "id": "ace07ed4",
   "metadata": {},
   "outputs": [],
   "source": [
    "A_out_of_train_labels=A[~A.ID.isin(list(train_labels.ID))]"
   ]
  },
  {
   "cell_type": "code",
   "execution_count": 65,
   "id": "cf1ceae6",
   "metadata": {},
   "outputs": [
    {
     "data": {
      "text/plain": [
       "(96, 9)"
      ]
     },
     "execution_count": 65,
     "metadata": {},
     "output_type": "execute_result"
    }
   ],
   "source": [
    "A_out_of_train_labels.shape"
   ]
  },
  {
   "cell_type": "code",
   "execution_count": 66,
   "id": "b90fb9c3",
   "metadata": {},
   "outputs": [
    {
     "data": {
      "text/html": [
       "<div>\n",
       "<style scoped>\n",
       "    .dataframe tbody tr th:only-of-type {\n",
       "        vertical-align: middle;\n",
       "    }\n",
       "\n",
       "    .dataframe tbody tr th {\n",
       "        vertical-align: top;\n",
       "    }\n",
       "\n",
       "    .dataframe thead th {\n",
       "        text-align: right;\n",
       "    }\n",
       "</style>\n",
       "<table border=\"1\" class=\"dataframe\">\n",
       "  <thead>\n",
       "    <tr style=\"text-align: right;\">\n",
       "      <th></th>\n",
       "      <th>ID</th>\n",
       "      <th>Vote</th>\n",
       "      <th>CropTyp</th>\n",
       "      <th>Irrigtn</th>\n",
       "      <th>DataSrc</th>\n",
       "      <th>Acres</th>\n",
       "      <th>ExctAcr</th>\n",
       "      <th>LstSrvD</th>\n",
       "      <th>county</th>\n",
       "    </tr>\n",
       "  </thead>\n",
       "  <tbody>\n",
       "    <tr>\n",
       "      <th>1753</th>\n",
       "      <td>107807_WSDA_SF_2018</td>\n",
       "      <td>2</td>\n",
       "      <td>barley hay</td>\n",
       "      <td>center pivot</td>\n",
       "      <td>wsda</td>\n",
       "      <td>57</td>\n",
       "      <td>56.853141</td>\n",
       "      <td>2018/06/05 00:00:00</td>\n",
       "      <td>Franklin</td>\n",
       "    </tr>\n",
       "    <tr>\n",
       "      <th>1754</th>\n",
       "      <td>107169_WSDA_SF_2017</td>\n",
       "      <td>2</td>\n",
       "      <td>bean, dry</td>\n",
       "      <td>center pivot</td>\n",
       "      <td>wsda</td>\n",
       "      <td>17</td>\n",
       "      <td>17.149065</td>\n",
       "      <td>2017/10/19</td>\n",
       "      <td>Grant</td>\n",
       "    </tr>\n",
       "    <tr>\n",
       "      <th>1755</th>\n",
       "      <td>109777_WSDA_SF_2017</td>\n",
       "      <td>2</td>\n",
       "      <td>bean, dry</td>\n",
       "      <td>center pivot</td>\n",
       "      <td>wsda</td>\n",
       "      <td>140</td>\n",
       "      <td>140.014732</td>\n",
       "      <td>2017/07/18</td>\n",
       "      <td>Grant</td>\n",
       "    </tr>\n",
       "    <tr>\n",
       "      <th>1756</th>\n",
       "      <td>103840_WSDA_SF_2018</td>\n",
       "      <td>2</td>\n",
       "      <td>bean, green</td>\n",
       "      <td>center pivot</td>\n",
       "      <td>wsda</td>\n",
       "      <td>11</td>\n",
       "      <td>11.168004</td>\n",
       "      <td>2018/09/12 00:00:00</td>\n",
       "      <td>Franklin</td>\n",
       "    </tr>\n",
       "    <tr>\n",
       "      <th>1757</th>\n",
       "      <td>103204_WSDA_SF_2018</td>\n",
       "      <td>1</td>\n",
       "      <td>bluegrass seed</td>\n",
       "      <td>center pivot</td>\n",
       "      <td>wsda</td>\n",
       "      <td>5</td>\n",
       "      <td>5.351631</td>\n",
       "      <td>2018/09/11 00:00:00</td>\n",
       "      <td>Franklin</td>\n",
       "    </tr>\n",
       "    <tr>\n",
       "      <th>...</th>\n",
       "      <td>...</td>\n",
       "      <td>...</td>\n",
       "      <td>...</td>\n",
       "      <td>...</td>\n",
       "      <td>...</td>\n",
       "      <td>...</td>\n",
       "      <td>...</td>\n",
       "      <td>...</td>\n",
       "      <td>...</td>\n",
       "    </tr>\n",
       "    <tr>\n",
       "      <th>1844</th>\n",
       "      <td>57406_WSDA_SF_2016</td>\n",
       "      <td>1</td>\n",
       "      <td>wheat</td>\n",
       "      <td>center pivot</td>\n",
       "      <td>wsda</td>\n",
       "      <td>88</td>\n",
       "      <td>87.734070</td>\n",
       "      <td>2016/09/14 00:00:00</td>\n",
       "      <td>Adams</td>\n",
       "    </tr>\n",
       "    <tr>\n",
       "      <th>1845</th>\n",
       "      <td>8195_WSDA_SF_2016</td>\n",
       "      <td>1</td>\n",
       "      <td>wheat</td>\n",
       "      <td>center pivot</td>\n",
       "      <td>wsda</td>\n",
       "      <td>52</td>\n",
       "      <td>52.328133</td>\n",
       "      <td>2016/08/31 00:00:00</td>\n",
       "      <td>Benton</td>\n",
       "    </tr>\n",
       "    <tr>\n",
       "      <th>1846</th>\n",
       "      <td>98334_WSDA_SF_2017</td>\n",
       "      <td>2</td>\n",
       "      <td>wheat</td>\n",
       "      <td>center pivot</td>\n",
       "      <td>wsda</td>\n",
       "      <td>151</td>\n",
       "      <td>151.076270</td>\n",
       "      <td>2017/06/27</td>\n",
       "      <td>Grant</td>\n",
       "    </tr>\n",
       "    <tr>\n",
       "      <th>1847</th>\n",
       "      <td>99141_WSDA_SF_2017</td>\n",
       "      <td>2</td>\n",
       "      <td>wheat</td>\n",
       "      <td>center pivot</td>\n",
       "      <td>wsda</td>\n",
       "      <td>116</td>\n",
       "      <td>116.234894</td>\n",
       "      <td>2017/10/17</td>\n",
       "      <td>Grant</td>\n",
       "    </tr>\n",
       "    <tr>\n",
       "      <th>1848</th>\n",
       "      <td>49765_WSDA_SF_2018</td>\n",
       "      <td>1</td>\n",
       "      <td>corn, field</td>\n",
       "      <td>rill</td>\n",
       "      <td>wsda</td>\n",
       "      <td>2</td>\n",
       "      <td>1.979816</td>\n",
       "      <td>2018/08/29 00:00:00</td>\n",
       "      <td>Yakima</td>\n",
       "    </tr>\n",
       "  </tbody>\n",
       "</table>\n",
       "<p>96 rows × 9 columns</p>\n",
       "</div>"
      ],
      "text/plain": [
       "                       ID  Vote         CropTyp       Irrigtn DataSrc  Acres  \\\n",
       "1753  107807_WSDA_SF_2018     2      barley hay  center pivot    wsda     57   \n",
       "1754  107169_WSDA_SF_2017     2       bean, dry  center pivot    wsda     17   \n",
       "1755  109777_WSDA_SF_2017     2       bean, dry  center pivot    wsda    140   \n",
       "1756  103840_WSDA_SF_2018     2     bean, green  center pivot    wsda     11   \n",
       "1757  103204_WSDA_SF_2018     1  bluegrass seed  center pivot    wsda      5   \n",
       "...                   ...   ...             ...           ...     ...    ...   \n",
       "1844   57406_WSDA_SF_2016     1           wheat  center pivot    wsda     88   \n",
       "1845    8195_WSDA_SF_2016     1           wheat  center pivot    wsda     52   \n",
       "1846   98334_WSDA_SF_2017     2           wheat  center pivot    wsda    151   \n",
       "1847   99141_WSDA_SF_2017     2           wheat  center pivot    wsda    116   \n",
       "1848   49765_WSDA_SF_2018     1     corn, field          rill    wsda      2   \n",
       "\n",
       "         ExctAcr              LstSrvD    county  \n",
       "1753   56.853141  2018/06/05 00:00:00  Franklin  \n",
       "1754   17.149065           2017/10/19     Grant  \n",
       "1755  140.014732           2017/07/18     Grant  \n",
       "1756   11.168004  2018/09/12 00:00:00  Franklin  \n",
       "1757    5.351631  2018/09/11 00:00:00  Franklin  \n",
       "...          ...                  ...       ...  \n",
       "1844   87.734070  2016/09/14 00:00:00     Adams  \n",
       "1845   52.328133  2016/08/31 00:00:00    Benton  \n",
       "1846  151.076270           2017/06/27     Grant  \n",
       "1847  116.234894           2017/10/17     Grant  \n",
       "1848    1.979816  2018/08/29 00:00:00    Yakima  \n",
       "\n",
       "[96 rows x 9 columns]"
      ]
     },
     "execution_count": 66,
     "metadata": {},
     "output_type": "execute_result"
    }
   ],
   "source": [
    "A_out_of_train_labels"
   ]
  },
  {
   "cell_type": "code",
   "execution_count": 79,
   "id": "b99e85c5",
   "metadata": {},
   "outputs": [
    {
     "name": "stdout",
     "output_type": "stream",
     "text": [
      "(1319, 9)\n",
      "(1319, 9)\n"
     ]
    }
   ],
   "source": [
    "NE_S2_PreMeeting_in_train_labels=NE_S2_PreMeeting[NE_S2_PreMeeting.ID.isin(\n",
    "                                  list(train_labels.ID))]\n",
    "print (NE_S2_PreMeeting_in_train_labels.shape)\n",
    "print (NE_S2_PreMeeting.shape)"
   ]
  },
  {
   "cell_type": "code",
   "execution_count": 81,
   "id": "7c7bc5d0",
   "metadata": {},
   "outputs": [
    {
     "name": "stdout",
     "output_type": "stream",
     "text": [
      "(149, 13)\n",
      "(149, 13)\n"
     ]
    }
   ],
   "source": [
    "expert_set2_premeeting_consensus_labels_in_train=expert_set2_premeeting_consensus[\n",
    "     expert_set2_premeeting_consensus.ID.isin(list(train_labels.ID))]\n",
    "print (expert_set2_premeeting_consensus_labels_in_train.shape)\n",
    "print (expert_set2_premeeting_consensus.shape)"
   ]
  },
  {
   "cell_type": "code",
   "execution_count": 82,
   "id": "482593aa",
   "metadata": {},
   "outputs": [
    {
     "data": {
      "text/plain": [
       "(1753, 9)"
      ]
     },
     "execution_count": 82,
     "metadata": {},
     "output_type": "execute_result"
    }
   ],
   "source": [
    "train_labels.shape"
   ]
  },
  {
   "cell_type": "code",
   "execution_count": 85,
   "id": "e23db015",
   "metadata": {},
   "outputs": [
    {
     "data": {
      "text/plain": [
       "1849"
      ]
     },
     "execution_count": 85,
     "metadata": {},
     "output_type": "execute_result"
    }
   ],
   "source": [
    "len(A.ID.unique())\n",
    "len(A.ID)"
   ]
  },
  {
   "cell_type": "code",
   "execution_count": 86,
   "id": "8d09cc53",
   "metadata": {},
   "outputs": [
    {
     "data": {
      "text/plain": [
       "1753"
      ]
     },
     "execution_count": 86,
     "metadata": {},
     "output_type": "execute_result"
    }
   ],
   "source": [
    "len(train_labels.ID.unique())\n",
    "len(train_labels.ID)"
   ]
  },
  {
   "cell_type": "code",
   "execution_count": null,
   "id": "0cefddc6",
   "metadata": {},
   "outputs": [],
   "source": []
  }
 ],
 "metadata": {
  "kernelspec": {
   "display_name": "Python 3 (ipykernel)",
   "language": "python",
   "name": "python3"
  },
  "language_info": {
   "codemirror_mode": {
    "name": "ipython",
    "version": 3
   },
   "file_extension": ".py",
   "mimetype": "text/x-python",
   "name": "python",
   "nbconvert_exporter": "python",
   "pygments_lexer": "ipython3",
   "version": "3.9.12"
  }
 },
 "nbformat": 4,
 "nbformat_minor": 5
}
