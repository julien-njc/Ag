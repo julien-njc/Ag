{
 "cells": [
  {
   "cell_type": "code",
   "execution_count": 1,
   "id": "f10717cb",
   "metadata": {},
   "outputs": [],
   "source": [
    "import numpy as np\n",
    "import pandas as pd\n",
    "from datetime import date\n",
    "import time\n",
    "import scipy\n",
    "import scipy.signal\n",
    "import os, os.path\n",
    "import matplotlib\n",
    "import matplotlib.pyplot as plt\n",
    "\n",
    "import sys\n",
    "sys.path.append('/Users/hn/Documents/00_GitHub/Ag/NASA/Python_codes/')\n",
    "import NASA_core as nc\n",
    "# import NASA_plot_core as rcp"
   ]
  },
  {
   "cell_type": "markdown",
   "id": "273a0f94",
   "metadata": {},
   "source": [
    "# Set up Directories"
   ]
  },
  {
   "cell_type": "code",
   "execution_count": 2,
   "id": "f69f4f66",
   "metadata": {},
   "outputs": [],
   "source": [
    "data_dir = \"/Users/hn/Documents/01_research_data/NASA/VI_TS/05_SG_TS/\"\n",
    "ML_data_dir = \"/Users/hn/Documents/01_research_data/NASA/ML_data/\""
   ]
  },
  {
   "cell_type": "markdown",
   "id": "a4773df0",
   "metadata": {},
   "source": [
    "# Toss small fields."
   ]
  },
  {
   "cell_type": "code",
   "execution_count": 3,
   "id": "cca58cf4",
   "metadata": {},
   "outputs": [
    {
     "name": "stdout",
     "output_type": "stream",
     "text": [
      "(6340, 8)\n",
      "(3539, 8)\n"
     ]
    },
    {
     "data": {
      "text/html": [
       "<div>\n",
       "<style scoped>\n",
       "    .dataframe tbody tr th:only-of-type {\n",
       "        vertical-align: middle;\n",
       "    }\n",
       "\n",
       "    .dataframe tbody tr th {\n",
       "        vertical-align: top;\n",
       "    }\n",
       "\n",
       "    .dataframe thead th {\n",
       "        text-align: right;\n",
       "    }\n",
       "</style>\n",
       "<table border=\"1\" class=\"dataframe\">\n",
       "  <thead>\n",
       "    <tr style=\"text-align: right;\">\n",
       "      <th></th>\n",
       "      <th>ID</th>\n",
       "      <th>CropTyp</th>\n",
       "      <th>Irrigtn</th>\n",
       "      <th>DataSrc</th>\n",
       "      <th>Acres</th>\n",
       "      <th>ExctAcr</th>\n",
       "      <th>LstSrvD</th>\n",
       "      <th>county</th>\n",
       "    </tr>\n",
       "  </thead>\n",
       "  <tbody>\n",
       "    <tr>\n",
       "      <th>0</th>\n",
       "      <td>100010_WSDA_SF_2017</td>\n",
       "      <td>alfalfa hay</td>\n",
       "      <td>center pivot</td>\n",
       "      <td>wsda</td>\n",
       "      <td>34</td>\n",
       "      <td>34.310305</td>\n",
       "      <td>2017/09/12</td>\n",
       "      <td>Grant</td>\n",
       "    </tr>\n",
       "    <tr>\n",
       "      <th>1</th>\n",
       "      <td>100204_WSDA_SF_2017</td>\n",
       "      <td>alfalfa hay</td>\n",
       "      <td>center pivot</td>\n",
       "      <td>wsda</td>\n",
       "      <td>62</td>\n",
       "      <td>61.826535</td>\n",
       "      <td>2017/08/09</td>\n",
       "      <td>Grant</td>\n",
       "    </tr>\n",
       "  </tbody>\n",
       "</table>\n",
       "</div>"
      ],
      "text/plain": [
       "                    ID      CropTyp       Irrigtn DataSrc  Acres    ExctAcr  \\\n",
       "0  100010_WSDA_SF_2017  alfalfa hay  center pivot    wsda     34  34.310305   \n",
       "1  100204_WSDA_SF_2017  alfalfa hay  center pivot    wsda     62  61.826535   \n",
       "\n",
       "      LstSrvD county  \n",
       "0  2017/09/12  Grant  \n",
       "1  2017/08/09  Grant  "
      ]
     },
     "execution_count": 3,
     "metadata": {},
     "output_type": "execute_result"
    }
   ],
   "source": [
    "meta_dir = \"/Users/hn/Documents/01_research_data/NASA/parameters/\"\n",
    "meta = pd.read_csv(meta_dir+\"evaluation_set.csv\")\n",
    "print (meta.shape)\n",
    "meta=meta[meta.ExctAcr>10]\n",
    "print (meta.shape)\n",
    "meta.head(2)"
   ]
  },
  {
   "cell_type": "code",
   "execution_count": 5,
   "id": "b1fe14f2",
   "metadata": {},
   "outputs": [
    {
     "data": {
      "text/plain": [
       "(2605, 12)"
      ]
     },
     "execution_count": 5,
     "metadata": {},
     "output_type": "execute_result"
    }
   ],
   "source": [
    "nonExpert_V = meta_dir + \"nonExpert_2605_votes.csv\"\n",
    "nonExpert_V=pd.read_csv(nonExpert_2605_votes)\n",
    "nonExpert_V.shape"
   ]
  },
  {
   "cell_type": "markdown",
   "id": "16ad0884",
   "metadata": {},
   "source": [
    "# Read TS files"
   ]
  },
  {
   "cell_type": "code",
   "execution_count": 6,
   "id": "9e4f3d88",
   "metadata": {},
   "outputs": [
    {
     "data": {
      "text/html": [
       "<div>\n",
       "<style scoped>\n",
       "    .dataframe tbody tr th:only-of-type {\n",
       "        vertical-align: middle;\n",
       "    }\n",
       "\n",
       "    .dataframe tbody tr th {\n",
       "        vertical-align: top;\n",
       "    }\n",
       "\n",
       "    .dataframe thead th {\n",
       "        text-align: right;\n",
       "    }\n",
       "</style>\n",
       "<table border=\"1\" class=\"dataframe\">\n",
       "  <thead>\n",
       "    <tr style=\"text-align: right;\">\n",
       "      <th></th>\n",
       "      <th>ID</th>\n",
       "      <th>human_system_start_time</th>\n",
       "      <th>EVI</th>\n",
       "    </tr>\n",
       "  </thead>\n",
       "  <tbody>\n",
       "    <tr>\n",
       "      <th>0</th>\n",
       "      <td>135073_WSDA_SF_2015</td>\n",
       "      <td>2015-01-10</td>\n",
       "      <td>0.054429</td>\n",
       "    </tr>\n",
       "    <tr>\n",
       "      <th>1</th>\n",
       "      <td>135073_WSDA_SF_2015</td>\n",
       "      <td>2015-01-20</td>\n",
       "      <td>0.051731</td>\n",
       "    </tr>\n",
       "  </tbody>\n",
       "</table>\n",
       "</div>"
      ],
      "text/plain": [
       "                    ID human_system_start_time       EVI\n",
       "0  135073_WSDA_SF_2015              2015-01-10  0.054429\n",
       "1  135073_WSDA_SF_2015              2015-01-20  0.051731"
      ]
     },
     "execution_count": 6,
     "metadata": {},
     "output_type": "execute_result"
    }
   ],
   "source": [
    "VI_idx=\"EVI\"\n",
    "\n",
    "file_names = [\"SG_Walla2015_\" + VI_idx + \"_JFD.csv\", \"SG_AdamBenton2016_\" + VI_idx + \"_JFD.csv\", \n",
    "              \"SG_Grant2017_\" + VI_idx + \"_JFD.csv\", \"SG_FranklinYakima2018_\"+ VI_idx +\"_JFD.csv\"]\n",
    "\n",
    "data=pd.DataFrame()\n",
    "\n",
    "for file in file_names:\n",
    "    curr_file=pd.read_csv(data_dir + file)\n",
    "    curr_file['human_system_start_time'] = pd.to_datetime(curr_file['human_system_start_time'])\n",
    "    \n",
    "    # These data are for 3 years. The middle one is the correct one\n",
    "    all_years = sorted(curr_file.human_system_start_time.dt.year.unique())\n",
    "    if len(all_years)==3 or len(all_years)==2:\n",
    "        proper_year = all_years[1]\n",
    "    elif len(all_years)==1:\n",
    "        proper_year = all_years[0]\n",
    "\n",
    "    curr_file = curr_file[curr_file.human_system_start_time.dt.year==proper_year]\n",
    "    data=pd.concat([data, curr_file])\n",
    "\n",
    "data.reset_index(drop=True, inplace=True)\n",
    "data.loc[data[VI_idx]<0, VI_idx]=0\n",
    "data.head(2)"
   ]
  },
  {
   "cell_type": "markdown",
   "id": "caed5d24",
   "metadata": {},
   "source": [
    "# Filter the non-expert fields TS"
   ]
  },
  {
   "cell_type": "code",
   "execution_count": 7,
   "id": "957c8b86",
   "metadata": {},
   "outputs": [
    {
     "data": {
      "text/html": [
       "<div>\n",
       "<style scoped>\n",
       "    .dataframe tbody tr th:only-of-type {\n",
       "        vertical-align: middle;\n",
       "    }\n",
       "\n",
       "    .dataframe tbody tr th {\n",
       "        vertical-align: top;\n",
       "    }\n",
       "\n",
       "    .dataframe thead th {\n",
       "        text-align: right;\n",
       "    }\n",
       "</style>\n",
       "<table border=\"1\" class=\"dataframe\">\n",
       "  <thead>\n",
       "    <tr style=\"text-align: right;\">\n",
       "      <th></th>\n",
       "      <th>ID</th>\n",
       "      <th>Hossein</th>\n",
       "      <th>Supriya</th>\n",
       "      <th>Kirti</th>\n",
       "      <th>Mike</th>\n",
       "      <th>Min</th>\n",
       "      <th>Vote</th>\n",
       "      <th>CropTyp</th>\n",
       "      <th>Irrigtn</th>\n",
       "      <th>DataSrc</th>\n",
       "      <th>county</th>\n",
       "      <th>ExctAcr</th>\n",
       "    </tr>\n",
       "  </thead>\n",
       "  <tbody>\n",
       "    <tr>\n",
       "      <th>0</th>\n",
       "      <td>100041_WSDA_SF_2017</td>\n",
       "      <td>Single Crop</td>\n",
       "      <td>Single Crop</td>\n",
       "      <td>Single Crop</td>\n",
       "      <td>Single Crop</td>\n",
       "      <td>Unsure</td>\n",
       "      <td>single</td>\n",
       "      <td>grape, wine</td>\n",
       "      <td>drip</td>\n",
       "      <td>wsda</td>\n",
       "      <td>Grant</td>\n",
       "      <td>23.441439</td>\n",
       "    </tr>\n",
       "    <tr>\n",
       "      <th>1</th>\n",
       "      <td>100048_WSDA_SF_2017</td>\n",
       "      <td>Single Crop</td>\n",
       "      <td>Single Crop</td>\n",
       "      <td>Single Crop</td>\n",
       "      <td>Unsure</td>\n",
       "      <td>none</td>\n",
       "      <td>single</td>\n",
       "      <td>bean, green</td>\n",
       "      <td>rill</td>\n",
       "      <td>wsda</td>\n",
       "      <td>Grant</td>\n",
       "      <td>18.033240</td>\n",
       "    </tr>\n",
       "  </tbody>\n",
       "</table>\n",
       "</div>"
      ],
      "text/plain": [
       "                    ID      Hossein      Supriya        Kirti         Mike  \\\n",
       "0  100041_WSDA_SF_2017  Single Crop  Single Crop  Single Crop  Single Crop   \n",
       "1  100048_WSDA_SF_2017  Single Crop  Single Crop  Single Crop       Unsure   \n",
       "\n",
       "      Min    Vote      CropTyp Irrigtn DataSrc county    ExctAcr  \n",
       "0  Unsure  single  grape, wine    drip    wsda  Grant  23.441439  \n",
       "1    none  single  bean, green    rill    wsda  Grant  18.033240  "
      ]
     },
     "execution_count": 7,
     "metadata": {},
     "output_type": "execute_result"
    }
   ],
   "source": [
    "nonExpert_V.head(2)"
   ]
  },
  {
   "cell_type": "code",
   "execution_count": 8,
   "id": "b16128b6",
   "metadata": {},
   "outputs": [
    {
     "name": "stdout",
     "output_type": "stream",
     "text": [
      "77530\n",
      "2605\n"
     ]
    }
   ],
   "source": [
    "print (len(data.ID.unique()))\n",
    "nonExpert_IDs = list(nonExpert_V.ID.unique())\n",
    "data = data[data.ID.isin(nonExpert_IDs)]\n",
    "data.reset_index(drop=True, inplace=True)\n",
    "print (len(data.ID.unique()))"
   ]
  },
  {
   "cell_type": "code",
   "execution_count": 9,
   "id": "ac5409a3",
   "metadata": {},
   "outputs": [
    {
     "name": "stdout",
     "output_type": "stream",
     "text": [
      "/Users/hn/Documents/01_research_data/NASA/ML_data/SG_nonExpert_V_EVI/\n"
     ]
    }
   ],
   "source": [
    "for curr_ID in data.ID.unique():\n",
    "    crr_fld=data[data.ID==curr_ID].copy()\n",
    "    crr_fld.reset_index(drop=True, inplace=True)\n",
    "    # crr_fld['human_system_start_time'] = pd.to_datetime(crr_fld['human_system_start_time'])\n",
    "    SFYr = crr_fld.human_system_start_time.dt.year.unique()[0]\n",
    "    fig, ax = plt.subplots();\n",
    "    fig.set_size_inches(10, 2.5)\n",
    "    ax.grid(False);\n",
    "    ax.plot(crr_fld['human_system_start_time'], crr_fld[VI_idx], \n",
    "            c ='dodgerblue', linewidth=5)\n",
    "\n",
    "    ax.axis(\"off\")\n",
    "    left = crr_fld['human_system_start_time'][0]\n",
    "    right = crr_fld['human_system_start_time'].values[-1]\n",
    "    ax.set_xlim([left, right]); # the following line alsow orks\n",
    "    ax.set_ylim([-0.005, 1]); # the following line alsow orks\n",
    "\n",
    "\n",
    "    crop_count = nonExpert_V[nonExpert_V.ID==curr_ID][\"Vote\"].values[0]\n",
    "    if crop_count==1:\n",
    "        crop_count_letter=\"single\"\n",
    "    else:\n",
    "        crop_count_letter=\"double\"\n",
    "    \n",
    "    # nonExpert_V is the same as expert labels!\n",
    "    plot_path = \"/Users/hn/Documents/01_research_data/NASA/ML_data/SG_nonExpert_\" + VI_idx + \"/\"\n",
    "    os.makedirs(plot_path, exist_ok=True)\n",
    "    fig_name = plot_path + crop_count_letter + \"_\" + curr_ID +'.jpg'\n",
    "    plt.savefig(fname = fig_name, dpi=200, bbox_inches='tight', facecolor=\"w\")\n",
    "    plt.close('all')\n",
    "print (plot_path)"
   ]
  },
  {
   "cell_type": "markdown",
   "id": "d915348b",
   "metadata": {},
   "source": [
    "# NDVI"
   ]
  },
  {
   "cell_type": "code",
   "execution_count": 15,
   "id": "f90cd3b6",
   "metadata": {},
   "outputs": [
    {
     "name": "stdout",
     "output_type": "stream",
     "text": [
      "2605\n"
     ]
    },
    {
     "data": {
      "text/html": [
       "<div>\n",
       "<style scoped>\n",
       "    .dataframe tbody tr th:only-of-type {\n",
       "        vertical-align: middle;\n",
       "    }\n",
       "\n",
       "    .dataframe tbody tr th {\n",
       "        vertical-align: top;\n",
       "    }\n",
       "\n",
       "    .dataframe thead th {\n",
       "        text-align: right;\n",
       "    }\n",
       "</style>\n",
       "<table border=\"1\" class=\"dataframe\">\n",
       "  <thead>\n",
       "    <tr style=\"text-align: right;\">\n",
       "      <th></th>\n",
       "      <th>ID</th>\n",
       "      <th>human_system_start_time</th>\n",
       "      <th>NDVI</th>\n",
       "    </tr>\n",
       "  </thead>\n",
       "  <tbody>\n",
       "    <tr>\n",
       "      <th>0</th>\n",
       "      <td>144551_WSDA_SF_2015</td>\n",
       "      <td>2015-01-10</td>\n",
       "      <td>0.192163</td>\n",
       "    </tr>\n",
       "    <tr>\n",
       "      <th>1</th>\n",
       "      <td>144551_WSDA_SF_2015</td>\n",
       "      <td>2015-01-20</td>\n",
       "      <td>0.182884</td>\n",
       "    </tr>\n",
       "  </tbody>\n",
       "</table>\n",
       "</div>"
      ],
      "text/plain": [
       "                    ID human_system_start_time      NDVI\n",
       "0  144551_WSDA_SF_2015              2015-01-10  0.192163\n",
       "1  144551_WSDA_SF_2015              2015-01-20  0.182884"
      ]
     },
     "execution_count": 15,
     "metadata": {},
     "output_type": "execute_result"
    }
   ],
   "source": [
    "VI_idx=\"NDVI\"\n",
    "file_names = [\"SG_Walla2015_\" + VI_idx + \"_JFD.csv\", \"SG_AdamBenton2016_\" + VI_idx + \"_JFD.csv\", \n",
    "              \"SG_Grant2017_\" + VI_idx + \"_JFD.csv\", \"SG_FranklinYakima2018_\"+ VI_idx +\"_JFD.csv\"]\n",
    "\n",
    "data=pd.DataFrame()\n",
    "\n",
    "for file in file_names:\n",
    "    curr_file=pd.read_csv(data_dir + file)\n",
    "    curr_file['human_system_start_time'] = pd.to_datetime(curr_file['human_system_start_time'])\n",
    "    \n",
    "    # These data are for 3 years. The middle one is the correct one\n",
    "    all_years = sorted(curr_file.human_system_start_time.dt.year.unique())\n",
    "    if len(all_years)==3 or len(all_years)==2:\n",
    "        proper_year = all_years[1]\n",
    "    elif len(all_years)==1:\n",
    "        proper_year = all_years[0]\n",
    "\n",
    "    curr_file = curr_file[curr_file.human_system_start_time.dt.year==proper_year]\n",
    "    data=pd.concat([data, curr_file])\n",
    "\n",
    "data.reset_index(drop=True, inplace=True)\n",
    "data.loc[data[VI_idx]<0, VI_idx]=0\n",
    "\n",
    "nonExpert_V_IDs = list(nonExpert_V.ID.unique())\n",
    "data = data[data.ID.isin(nonExpert_V_IDs)]\n",
    "data.reset_index(drop=True, inplace=True)\n",
    "print (len(data.ID.unique()))\n",
    "data.head(2)"
   ]
  },
  {
   "cell_type": "code",
   "execution_count": 16,
   "id": "2dd484d4",
   "metadata": {},
   "outputs": [
    {
     "data": {
      "text/plain": [
       "'/Users/hn/Documents/01_research_data/NASA/ML_data/SG_nonExpert_NDVI/'"
      ]
     },
     "execution_count": 16,
     "metadata": {},
     "output_type": "execute_result"
    }
   ],
   "source": [
    "for curr_ID in data.ID.unique():\n",
    "    crr_fld=data[data.ID==curr_ID].copy()\n",
    "    crr_fld.reset_index(drop=True, inplace=True)\n",
    "    SFYr = crr_fld.human_system_start_time.dt.year.unique()[0]\n",
    "    fig, ax = plt.subplots();\n",
    "    fig.set_size_inches(10, 2.5)\n",
    "    ax.grid(False);\n",
    "    ax.plot(crr_fld['human_system_start_time'], crr_fld[VI_idx], \n",
    "            c ='dodgerblue', linewidth=5)\n",
    "\n",
    "    ax.axis(\"off\")\n",
    "\n",
    "    left = crr_fld['human_system_start_time'][0]\n",
    "    right = crr_fld['human_system_start_time'].values[-1]\n",
    "    ax.set_xlim([left, right]); # the following line alsow orks\n",
    "    ax.set_ylim([-0.005, 1]); # the following line alsow orks\n",
    "\n",
    "    crop_count = nonExpert_V[nonExpert_V.ID==curr_ID][\"Vote\"].values[0]\n",
    "    if crop_count==1:\n",
    "        crop_count_letter=\"single\"\n",
    "    else:\n",
    "        crop_count_letter=\"double\"\n",
    "    \n",
    "    # nonExpert_V is the same as expert labels!\n",
    "    plot_path = \"/Users/hn/Documents/01_research_data/NASA/ML_data/SG_nonExpert_\" + VI_idx + \"/\"\n",
    "    os.makedirs(plot_path, exist_ok=True)\n",
    "    fig_name = plot_path + crop_count_letter + \"_\" + curr_ID +'.jpg'\n",
    "    plt.savefig(fname = fig_name, dpi=200, bbox_inches='tight', facecolor=\"w\")\n",
    "    plt.close('all')\n",
    "    # ax.legend(loc = \"upper left\");\n",
    "    \n",
    "plot_path"
   ]
  },
  {
   "cell_type": "markdown",
   "id": "cd3082b7",
   "metadata": {},
   "source": [
    "# Regular EVI"
   ]
  },
  {
   "cell_type": "code",
   "execution_count": 18,
   "id": "59cf8363",
   "metadata": {},
   "outputs": [
    {
     "name": "stdout",
     "output_type": "stream",
     "text": [
      "2605\n"
     ]
    },
    {
     "data": {
      "text/html": [
       "<div>\n",
       "<style scoped>\n",
       "    .dataframe tbody tr th:only-of-type {\n",
       "        vertical-align: middle;\n",
       "    }\n",
       "\n",
       "    .dataframe tbody tr th {\n",
       "        vertical-align: top;\n",
       "    }\n",
       "\n",
       "    .dataframe thead th {\n",
       "        text-align: right;\n",
       "    }\n",
       "</style>\n",
       "<table border=\"1\" class=\"dataframe\">\n",
       "  <thead>\n",
       "    <tr style=\"text-align: right;\">\n",
       "      <th></th>\n",
       "      <th>ID</th>\n",
       "      <th>human_system_start_time</th>\n",
       "      <th>EVI</th>\n",
       "    </tr>\n",
       "  </thead>\n",
       "  <tbody>\n",
       "    <tr>\n",
       "      <th>0</th>\n",
       "      <td>144551_WSDA_SF_2015</td>\n",
       "      <td>2015-01-10</td>\n",
       "      <td>0.027474</td>\n",
       "    </tr>\n",
       "    <tr>\n",
       "      <th>1</th>\n",
       "      <td>144551_WSDA_SF_2015</td>\n",
       "      <td>2015-01-20</td>\n",
       "      <td>0.040504</td>\n",
       "    </tr>\n",
       "  </tbody>\n",
       "</table>\n",
       "</div>"
      ],
      "text/plain": [
       "                    ID human_system_start_time       EVI\n",
       "0  144551_WSDA_SF_2015              2015-01-10  0.027474\n",
       "1  144551_WSDA_SF_2015              2015-01-20  0.040504"
      ]
     },
     "execution_count": 18,
     "metadata": {},
     "output_type": "execute_result"
    }
   ],
   "source": [
    "VI_idx=\"EVI\"\n",
    "\n",
    "regular_data_dir = \"/Users/hn/Documents/01_research_data/NASA/VI_TS/04_regularized_TS/\"\n",
    "file_names = [\"regular_Walla2015_\" + VI_idx +\"_JFD.csv\", \"regular_AdamBenton2016_\" + VI_idx +\"_JFD.csv\", \n",
    "              \"regular_Grant2017_\" + VI_idx +\"_JFD.csv\", \"regular_FranklinYakima2018_\" + VI_idx +\"_JFD.csv\"]\n",
    "\n",
    "data=pd.DataFrame()\n",
    "\n",
    "for file in file_names:\n",
    "    curr_file=pd.read_csv(regular_data_dir + file)\n",
    "    curr_file['human_system_start_time'] = pd.to_datetime(curr_file['human_system_start_time'])\n",
    "    \n",
    "    # These data are for 3 years. The middle one is the correct one\n",
    "    all_years = sorted(curr_file.human_system_start_time.dt.year.unique())\n",
    "    if len(all_years)==3 or len(all_years)==2:\n",
    "        proper_year=all_years[1]\n",
    "    elif len(all_years)==1:\n",
    "        proper_year=all_years[0]\n",
    "\n",
    "    curr_file = curr_file[curr_file.human_system_start_time.dt.year==proper_year]\n",
    "    data=pd.concat([data, curr_file])\n",
    "\n",
    "data.reset_index(drop=True, inplace=True)\n",
    "data.loc[data[VI_idx]<0, VI_idx]=0\n",
    "\n",
    "nonExpert_V_IDs = list(nonExpert_V.ID.unique())\n",
    "data = data[data.ID.isin(nonExpert_V_IDs)]\n",
    "data.reset_index(drop=True, inplace=True)\n",
    "\n",
    "print (len(data.ID.unique()))\n",
    "data.head(2)"
   ]
  },
  {
   "cell_type": "code",
   "execution_count": 19,
   "id": "69ede023",
   "metadata": {},
   "outputs": [
    {
     "data": {
      "text/plain": [
       "'/Users/hn/Documents/01_research_data/NASA/ML_data/regular_nonExpert_EVI/'"
      ]
     },
     "execution_count": 19,
     "metadata": {},
     "output_type": "execute_result"
    }
   ],
   "source": [
    "for curr_ID in data.ID.unique():\n",
    "    crr_fld=data[data.ID==curr_ID].copy()\n",
    "    crr_fld.reset_index(drop=True, inplace=True)\n",
    "    SFYr = crr_fld.human_system_start_time.dt.year.unique()[0]\n",
    "    fig, ax = plt.subplots();\n",
    "    fig.set_size_inches(10, 2.5)\n",
    "    ax.grid(False);\n",
    "    ax.plot(crr_fld['human_system_start_time'], crr_fld[VI_idx], \n",
    "            c ='dodgerblue', linewidth=5)\n",
    "\n",
    "    ax.axis(\"off\")\n",
    "\n",
    "    left = crr_fld['human_system_start_time'][0]\n",
    "    right = crr_fld['human_system_start_time'].values[-1]\n",
    "    ax.set_xlim([left, right]); # the following line alsow orks\n",
    "    ax.set_ylim([-0.005, 1]); # the following line alsow orks\n",
    "\n",
    "    crop_count = nonExpert_V[nonExpert_V.ID==curr_ID][\"Vote\"].values[0]\n",
    "    if crop_count==1:\n",
    "        crop_count_letter=\"single\"\n",
    "    else:\n",
    "        crop_count_letter=\"double\"\n",
    "    \n",
    "    # nonExpert_V is the same as expert labels!\n",
    "    plot_path = \"/Users/hn/Documents/01_research_data/NASA/ML_data/regular_nonExpert_\" + VI_idx + \"/\"\n",
    "    os.makedirs(plot_path, exist_ok=True)\n",
    "    fig_name = plot_path + crop_count_letter + \"_\" + curr_ID +'.jpg'\n",
    "    plt.savefig(fname = fig_name, dpi=200, bbox_inches='tight', facecolor=\"w\")\n",
    "    plt.close('all')\n",
    "    # ax.legend(loc = \"upper left\");\n",
    "    \n",
    "plot_path"
   ]
  },
  {
   "cell_type": "markdown",
   "id": "a1dc5061",
   "metadata": {},
   "source": [
    "# Regular NDVI"
   ]
  },
  {
   "cell_type": "code",
   "execution_count": 20,
   "id": "b7e23317",
   "metadata": {},
   "outputs": [
    {
     "name": "stdout",
     "output_type": "stream",
     "text": [
      "2605\n"
     ]
    },
    {
     "data": {
      "text/html": [
       "<div>\n",
       "<style scoped>\n",
       "    .dataframe tbody tr th:only-of-type {\n",
       "        vertical-align: middle;\n",
       "    }\n",
       "\n",
       "    .dataframe tbody tr th {\n",
       "        vertical-align: top;\n",
       "    }\n",
       "\n",
       "    .dataframe thead th {\n",
       "        text-align: right;\n",
       "    }\n",
       "</style>\n",
       "<table border=\"1\" class=\"dataframe\">\n",
       "  <thead>\n",
       "    <tr style=\"text-align: right;\">\n",
       "      <th></th>\n",
       "      <th>ID</th>\n",
       "      <th>human_system_start_time</th>\n",
       "      <th>NDVI</th>\n",
       "    </tr>\n",
       "  </thead>\n",
       "  <tbody>\n",
       "    <tr>\n",
       "      <th>0</th>\n",
       "      <td>144551_WSDA_SF_2015</td>\n",
       "      <td>2015-01-10</td>\n",
       "      <td>0.346400</td>\n",
       "    </tr>\n",
       "    <tr>\n",
       "      <th>1</th>\n",
       "      <td>144551_WSDA_SF_2015</td>\n",
       "      <td>2015-01-20</td>\n",
       "      <td>0.058013</td>\n",
       "    </tr>\n",
       "  </tbody>\n",
       "</table>\n",
       "</div>"
      ],
      "text/plain": [
       "                    ID human_system_start_time      NDVI\n",
       "0  144551_WSDA_SF_2015              2015-01-10  0.346400\n",
       "1  144551_WSDA_SF_2015              2015-01-20  0.058013"
      ]
     },
     "execution_count": 20,
     "metadata": {},
     "output_type": "execute_result"
    }
   ],
   "source": [
    "VI_idx=\"NDVI\"\n",
    "\n",
    "regular_data_dir = \"/Users/hn/Documents/01_research_data/NASA/VI_TS/04_regularized_TS/\"\n",
    "file_names = [\"regular_Walla2015_\"+VI_idx +\"_JFD.csv\", \"regular_AdamBenton2016_\"+VI_idx +\"_JFD.csv\", \n",
    "              \"regular_Grant2017_\"+VI_idx +\"_JFD.csv\", \"regular_FranklinYakima2018_\"+VI_idx +\"_JFD.csv\"]\n",
    "\n",
    "data=pd.DataFrame()\n",
    "\n",
    "for file in file_names:\n",
    "    curr_file=pd.read_csv(regular_data_dir + file)\n",
    "    curr_file['human_system_start_time'] = pd.to_datetime(curr_file['human_system_start_time'])\n",
    "    \n",
    "    # These data are for 3 years. The middle one is the correct one\n",
    "    all_years = sorted(curr_file.human_system_start_time.dt.year.unique())\n",
    "    if len(all_years)==3 or len(all_years)==2:\n",
    "        proper_year = all_years[1]\n",
    "    elif len(all_years)==1:\n",
    "        proper_year = all_years[0]\n",
    "\n",
    "    curr_file = curr_file[curr_file.human_system_start_time.dt.year==proper_year]\n",
    "    data=pd.concat([data, curr_file])\n",
    "\n",
    "data.reset_index(drop=True, inplace=True)\n",
    "data.loc[data[VI_idx]<0, VI_idx]=0\n",
    "\n",
    "nonExpert_V_IDs = list(nonExpert_V.ID.unique())\n",
    "data = data[data.ID.isin(nonExpert_V_IDs)]\n",
    "data.reset_index(drop=True, inplace=True)\n",
    "\n",
    "print (len(data.ID.unique()))\n",
    "data.head(2)"
   ]
  },
  {
   "cell_type": "code",
   "execution_count": 21,
   "id": "2573b2b2",
   "metadata": {},
   "outputs": [
    {
     "data": {
      "text/plain": [
       "'/Users/hn/Documents/01_research_data/NASA/ML_data/regular_nonExpert_NDVI/'"
      ]
     },
     "execution_count": 21,
     "metadata": {},
     "output_type": "execute_result"
    }
   ],
   "source": [
    "for curr_ID in data.ID.unique():\n",
    "    crr_fld=data[data.ID==curr_ID].copy()\n",
    "    crr_fld.reset_index(drop=True, inplace=True)\n",
    "    SFYr = crr_fld.human_system_start_time.dt.year.unique()[0]\n",
    "    fig, ax = plt.subplots();\n",
    "    fig.set_size_inches(10, 2.5)\n",
    "    ax.grid(False);\n",
    "    ax.plot(crr_fld['human_system_start_time'], crr_fld[VI_idx], \n",
    "            c ='dodgerblue', linewidth=5)\n",
    "\n",
    "    ax.axis(\"off\")\n",
    "\n",
    "    left = crr_fld['human_system_start_time'][0]\n",
    "    right = crr_fld['human_system_start_time'].values[-1]\n",
    "    ax.set_xlim([left, right]); # the following line alsow orks\n",
    "    ax.set_ylim([-0.005, 1]); # the following line alsow orks\n",
    "\n",
    "    crop_count = nonExpert_V[nonExpert_V.ID==curr_ID][\"Vote\"].values[0]\n",
    "    if crop_count==1:\n",
    "        crop_count_letter=\"single\"\n",
    "    else:\n",
    "        crop_count_letter=\"double\"\n",
    "    \n",
    "    # nonExpert_V is the same as expert labels!\n",
    "    plot_path = \"/Users/hn/Documents/01_research_data/NASA/ML_data/regular_nonExpert_\" + VI_idx + \"/\"\n",
    "    os.makedirs(plot_path, exist_ok=True)\n",
    "    fig_name = plot_path + crop_count_letter + \"_\" + curr_ID +'.jpg'\n",
    "    plt.savefig(fname = fig_name, dpi=200, bbox_inches='tight', facecolor=\"w\")\n",
    "    plt.close('all')\n",
    "\n",
    "plot_path"
   ]
  },
  {
   "cell_type": "code",
   "execution_count": null,
   "id": "6070bbf8",
   "metadata": {},
   "outputs": [],
   "source": []
  }
 ],
 "metadata": {
  "kernelspec": {
   "display_name": "Python 3 (ipykernel)",
   "language": "python",
   "name": "python3"
  },
  "language_info": {
   "codemirror_mode": {
    "name": "ipython",
    "version": 3
   },
   "file_extension": ".py",
   "mimetype": "text/x-python",
   "name": "python",
   "nbconvert_exporter": "python",
   "pygments_lexer": "ipython3",
   "version": "3.9.12"
  }
 },
 "nbformat": 4,
 "nbformat_minor": 5
}
