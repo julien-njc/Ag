{
 "cells": [
  {
   "cell_type": "code",
   "execution_count": 1,
   "id": "b0a17944",
   "metadata": {},
   "outputs": [],
   "source": [
    "import pandas as pd\n",
    "import csv\n",
    "\n",
    "import os, os.path\n",
    "import sys"
   ]
  },
  {
   "cell_type": "markdown",
   "id": "3cb16333",
   "metadata": {},
   "source": [
    "# All chosen fields for survey 1\n",
    "A grass hay field, \"106433_WSDA_SF_2017\", was missed from meeting PDF! how the hell did this happen?\n",
    "- I had dropped grass hay from disagreement table! "
   ]
  },
  {
   "cell_type": "code",
   "execution_count": 2,
   "id": "e0af9eee",
   "metadata": {},
   "outputs": [],
   "source": [
    "perry_dir = \"/Users/hn/Documents/01_research_data/NASA/Perry_and_Co/\"\n",
    "choices_set_1_xl = pd.ExcelFile(perry_dir + \"set1_PerryandCo.xlsx\")\n",
    "choices_set_1_sheet_names = choices_set_1_xl.sheet_names  # see all sheet names\n",
    "\n",
    "chosen_fields_set1 = pd.DataFrame()\n",
    "for a_choice_sheet in choices_set_1_sheet_names:    \n",
    "    # read a damn sheet\n",
    "    a_choice_sheet = choices_set_1_xl.parse(a_choice_sheet)\n",
    "    chosen_fields_set1 = pd.concat([chosen_fields_set1, a_choice_sheet])"
   ]
  },
  {
   "cell_type": "code",
   "execution_count": 3,
   "id": "c4689ba8",
   "metadata": {},
   "outputs": [],
   "source": [
    "choices_set_2_xl = pd.ExcelFile(perry_dir + \"set_2_handPicked.xlsx\")\n",
    "choices_set_2_sheet_names = choices_set_2_xl.sheet_names  # see all sheet names\n",
    "\n",
    "chosen_fields_set2 = pd.DataFrame()\n",
    "for a_choice_sheet in choices_set_2_sheet_names:    \n",
    "    # read a damn sheet\n",
    "    a_choice_sheet = choices_set_2_xl.parse(a_choice_sheet)\n",
    "    chosen_fields_set2 = pd.concat([chosen_fields_set2, a_choice_sheet])"
   ]
  },
  {
   "cell_type": "code",
   "execution_count": 4,
   "id": "3c7b19c8",
   "metadata": {},
   "outputs": [
    {
     "name": "stdout",
     "output_type": "stream",
     "text": [
      "322\n",
      "322\n"
     ]
    }
   ],
   "source": [
    "print (len(chosen_fields_set2.ID))\n",
    "print (len(chosen_fields_set2.ID.unique()))"
   ]
  },
  {
   "cell_type": "code",
   "execution_count": 5,
   "id": "91bddb2b",
   "metadata": {},
   "outputs": [],
   "source": [
    "# # check if there are overlap between chosen fields in set 1 and set 2\n",
    "# set1_uniqueIDs = list(chosen_fields_set1.ID.unique())\n",
    "# set2_uniqueIDs = list(chosen_fields_set2.ID.unique())\n",
    "\n",
    "# A = chosen_fields_set2[chosen_fields_set2.ID.isin(set1_uniqueIDs)]\n",
    "# B = chosen_fields_set1[chosen_fields_set1.ID.isin(set2_uniqueIDs)]\n",
    "# A.shape"
   ]
  },
  {
   "cell_type": "markdown",
   "id": "9f3c743c",
   "metadata": {},
   "source": [
    "# Set 1 - post meeting"
   ]
  },
  {
   "cell_type": "code",
   "execution_count": 6,
   "id": "e4157f44",
   "metadata": {},
   "outputs": [
    {
     "data": {
      "text/html": [
       "<div>\n",
       "<style scoped>\n",
       "    .dataframe tbody tr th:only-of-type {\n",
       "        vertical-align: middle;\n",
       "    }\n",
       "\n",
       "    .dataframe tbody tr th {\n",
       "        vertical-align: top;\n",
       "    }\n",
       "\n",
       "    .dataframe thead th {\n",
       "        text-align: right;\n",
       "    }\n",
       "</style>\n",
       "<table border=\"1\" class=\"dataframe\">\n",
       "  <thead>\n",
       "    <tr style=\"text-align: right;\">\n",
       "      <th></th>\n",
       "      <th>ID</th>\n",
       "      <th>Vote</th>\n",
       "    </tr>\n",
       "  </thead>\n",
       "  <tbody>\n",
       "    <tr>\n",
       "      <th>0</th>\n",
       "      <td>99837_WSDA_SF_2017</td>\n",
       "      <td>2</td>\n",
       "    </tr>\n",
       "    <tr>\n",
       "      <th>1</th>\n",
       "      <td>114615_WSDA_SF_2017</td>\n",
       "      <td>1</td>\n",
       "    </tr>\n",
       "  </tbody>\n",
       "</table>\n",
       "</div>"
      ],
      "text/plain": [
       "                    ID  Vote\n",
       "0   99837_WSDA_SF_2017     2\n",
       "1  114615_WSDA_SF_2017     1"
      ]
     },
     "execution_count": 6,
     "metadata": {},
     "output_type": "execute_result"
    }
   ],
   "source": [
    "import pandas as pd\n",
    "\n",
    "ML_data_dir = \"/Users/hn/Documents/01_research_data/NASA/ML_data/\"\n",
    "set_1_meeting_Consensus = pd.read_csv(ML_data_dir + \"set1_postmeeting_consensus.csv\")\n",
    "set_1_meeting_Consensus.head(2)"
   ]
  },
  {
   "cell_type": "code",
   "execution_count": 7,
   "id": "4d1ea2b8",
   "metadata": {},
   "outputs": [
    {
     "data": {
      "text/plain": [
       "(111, 2)"
      ]
     },
     "execution_count": 7,
     "metadata": {},
     "output_type": "execute_result"
    }
   ],
   "source": [
    "set_1_meeting_Consensus.shape"
   ]
  },
  {
   "cell_type": "code",
   "execution_count": 9,
   "id": "68236d66",
   "metadata": {},
   "outputs": [
    {
     "data": {
      "text/plain": [
       "array([2, 1])"
      ]
     },
     "execution_count": 9,
     "metadata": {},
     "output_type": "execute_result"
    }
   ],
   "source": [
    "set_1_meeting_Consensus.Vote.unique()"
   ]
  },
  {
   "cell_type": "markdown",
   "id": "c06bb3f8",
   "metadata": {},
   "source": [
    "# Set 1, pre-meeting"
   ]
  },
  {
   "cell_type": "code",
   "execution_count": 21,
   "id": "81e456c8",
   "metadata": {},
   "outputs": [
    {
     "data": {
      "text/html": [
       "<div>\n",
       "<style scoped>\n",
       "    .dataframe tbody tr th:only-of-type {\n",
       "        vertical-align: middle;\n",
       "    }\n",
       "\n",
       "    .dataframe tbody tr th {\n",
       "        vertical-align: top;\n",
       "    }\n",
       "\n",
       "    .dataframe thead th {\n",
       "        text-align: right;\n",
       "    }\n",
       "</style>\n",
       "<table border=\"1\" class=\"dataframe\">\n",
       "  <thead>\n",
       "    <tr style=\"text-align: right;\">\n",
       "      <th></th>\n",
       "      <th>ID</th>\n",
       "      <th>PerrysVote</th>\n",
       "      <th>AndrewsVote</th>\n",
       "      <th>TimsVote</th>\n",
       "      <th>PerryVCorrected</th>\n",
       "      <th>AndrewVCorrected</th>\n",
       "      <th>TimsVCorrected</th>\n",
       "      <th>Vote</th>\n",
       "    </tr>\n",
       "  </thead>\n",
       "  <tbody>\n",
       "    <tr>\n",
       "      <th>0</th>\n",
       "      <td>157415_WSDA_SF_2015</td>\n",
       "      <td>Single Crop</td>\n",
       "      <td>Single Crop</td>\n",
       "      <td>Single Crop</td>\n",
       "      <td>Single Crop</td>\n",
       "      <td>Single Crop</td>\n",
       "      <td>Single Crop</td>\n",
       "      <td>1</td>\n",
       "    </tr>\n",
       "    <tr>\n",
       "      <th>1</th>\n",
       "      <td>155601_WSDA_SF_2015</td>\n",
       "      <td>Single Crop</td>\n",
       "      <td>Single Crop</td>\n",
       "      <td>Single Crop</td>\n",
       "      <td>Single Crop</td>\n",
       "      <td>Single Crop</td>\n",
       "      <td>Single Crop</td>\n",
       "      <td>1</td>\n",
       "    </tr>\n",
       "  </tbody>\n",
       "</table>\n",
       "</div>"
      ],
      "text/plain": [
       "                    ID   PerrysVote  AndrewsVote     TimsVote PerryVCorrected  \\\n",
       "0  157415_WSDA_SF_2015  Single Crop  Single Crop  Single Crop     Single Crop   \n",
       "1  155601_WSDA_SF_2015  Single Crop  Single Crop  Single Crop     Single Crop   \n",
       "\n",
       "  AndrewVCorrected TimsVCorrected  Vote  \n",
       "0      Single Crop    Single Crop     1  \n",
       "1      Single Crop    Single Crop     1  "
      ]
     },
     "execution_count": 21,
     "metadata": {},
     "output_type": "execute_result"
    }
   ],
   "source": [
    "set1_premeeting_consensus = pd.read_csv(ML_data_dir + \"set1_premeeting_consensus.csv\")\n",
    "set1_premeeting_consensus.head(2)"
   ]
  },
  {
   "cell_type": "code",
   "execution_count": 22,
   "id": "fd16c7dc",
   "metadata": {},
   "outputs": [],
   "source": [
    "drop_cols = ['PerrysVote', 'AndrewsVote', 'TimsVote',\n",
    "             \"PerryVCorrected\", \"AndrewVCorrected\", \"TimsVCorrected\"]\n",
    "set1_premeeting_consensus.drop(labels=drop_cols, axis=1, inplace=True)"
   ]
  },
  {
   "cell_type": "markdown",
   "id": "4f4f6366",
   "metadata": {},
   "source": [
    "# Concatenate set 1 pre and post meeting labels"
   ]
  },
  {
   "cell_type": "code",
   "execution_count": 23,
   "id": "d9cc2255",
   "metadata": {},
   "outputs": [
    {
     "data": {
      "text/plain": [
       "(285, 2)"
      ]
     },
     "execution_count": 23,
     "metadata": {},
     "output_type": "execute_result"
    }
   ],
   "source": [
    "set_1_labels = pd.concat([set_1_meeting_Consensus, set1_premeeting_consensus[['ID', 'Vote']]])\n",
    "\n",
    "# we need this shit, cuz some fields were requested to be discussed or had comment\n",
    "set_1_labels.drop_duplicates(inplace=True) \n",
    "set_1_labels.shape"
   ]
  },
  {
   "cell_type": "markdown",
   "id": "b1d8f6d5",
   "metadata": {},
   "source": [
    "# Read Set 2 pre-meeting consensus"
   ]
  },
  {
   "cell_type": "code",
   "execution_count": 24,
   "id": "d0d63ba9",
   "metadata": {},
   "outputs": [
    {
     "data": {
      "text/html": [
       "<div>\n",
       "<style scoped>\n",
       "    .dataframe tbody tr th:only-of-type {\n",
       "        vertical-align: middle;\n",
       "    }\n",
       "\n",
       "    .dataframe tbody tr th {\n",
       "        vertical-align: top;\n",
       "    }\n",
       "\n",
       "    .dataframe thead th {\n",
       "        text-align: right;\n",
       "    }\n",
       "</style>\n",
       "<table border=\"1\" class=\"dataframe\">\n",
       "  <thead>\n",
       "    <tr style=\"text-align: right;\">\n",
       "      <th></th>\n",
       "      <th>ID</th>\n",
       "      <th>PerryV</th>\n",
       "      <th>AndrewV</th>\n",
       "      <th>PerryVCorrected</th>\n",
       "      <th>AndrewVCorrected</th>\n",
       "      <th>Vote</th>\n",
       "    </tr>\n",
       "  </thead>\n",
       "  <tbody>\n",
       "    <tr>\n",
       "      <th>0</th>\n",
       "      <td>160820_WSDA_SF_2015</td>\n",
       "      <td>Single Crop</td>\n",
       "      <td>Single Crop</td>\n",
       "      <td>Single Crop</td>\n",
       "      <td>Single Crop</td>\n",
       "      <td>1</td>\n",
       "    </tr>\n",
       "    <tr>\n",
       "      <th>1</th>\n",
       "      <td>161383_WSDA_SF_2015</td>\n",
       "      <td>Single Crop</td>\n",
       "      <td>Single Crop</td>\n",
       "      <td>Single Crop</td>\n",
       "      <td>Single Crop</td>\n",
       "      <td>1</td>\n",
       "    </tr>\n",
       "  </tbody>\n",
       "</table>\n",
       "</div>"
      ],
      "text/plain": [
       "                    ID       PerryV      AndrewV PerryVCorrected  \\\n",
       "0  160820_WSDA_SF_2015  Single Crop  Single Crop     Single Crop   \n",
       "1  161383_WSDA_SF_2015  Single Crop  Single Crop     Single Crop   \n",
       "\n",
       "  AndrewVCorrected  Vote  \n",
       "0      Single Crop     1  \n",
       "1      Single Crop     1  "
      ]
     },
     "execution_count": 24,
     "metadata": {},
     "output_type": "execute_result"
    }
   ],
   "source": [
    "set2_premeeting_consensus = pd.read_csv(ML_data_dir + \"set2_premeeting_consensus.csv\")\n",
    "set2_premeeting_consensus.head(2)"
   ]
  },
  {
   "cell_type": "code",
   "execution_count": 25,
   "id": "954dbae9",
   "metadata": {},
   "outputs": [],
   "source": [
    "set1_IDs = list(set_1_labels.ID.unique())\n",
    "\n",
    "#\n",
    "#    Get rid of repeated fields\n",
    "#\n",
    "set2_premeeting_consensus = set2_premeeting_consensus[~set2_premeeting_consensus.ID.isin(set1_IDs)]"
   ]
  },
  {
   "cell_type": "code",
   "execution_count": 26,
   "id": "d36d5f9a",
   "metadata": {},
   "outputs": [
    {
     "data": {
      "text/plain": [
       "(434, 2)"
      ]
     },
     "execution_count": 26,
     "metadata": {},
     "output_type": "execute_result"
    }
   ],
   "source": [
    "train_labels = pd.concat([set_1_labels, set2_premeeting_consensus[['ID', 'Vote']]])\n",
    "train_labels.reset_index(drop=True, inplace=True)\n",
    "# train_labels.drop_duplicates(inplace=True)\n",
    "train_labels.shape"
   ]
  },
  {
   "cell_type": "code",
   "execution_count": 27,
   "id": "eb530395",
   "metadata": {},
   "outputs": [],
   "source": [
    "out_folder = \"/Users/hn/Documents/01_research_data/NASA/ML_data/\"\n",
    "out_name = out_folder + \"train_labels.csv\"\n",
    "train_labels.to_csv(out_name, index = False)"
   ]
  },
  {
   "cell_type": "code",
   "execution_count": null,
   "id": "3b592c75",
   "metadata": {},
   "outputs": [],
   "source": []
  }
 ],
 "metadata": {
  "kernelspec": {
   "display_name": "Python 3 (ipykernel)",
   "language": "python",
   "name": "python3"
  },
  "language_info": {
   "codemirror_mode": {
    "name": "ipython",
    "version": 3
   },
   "file_extension": ".py",
   "mimetype": "text/x-python",
   "name": "python",
   "nbconvert_exporter": "python",
   "pygments_lexer": "ipython3",
   "version": "3.9.7"
  }
 },
 "nbformat": 4,
 "nbformat_minor": 5
}
