{
 "cells": [
  {
   "cell_type": "code",
   "execution_count": 57,
   "id": "512bf786",
   "metadata": {},
   "outputs": [],
   "source": [
    "import pandas as pd\n",
    "import csv\n",
    "\n",
    "import os, os.path\n",
    "import sys"
   ]
  },
  {
   "cell_type": "markdown",
   "id": "ec3c3414",
   "metadata": {},
   "source": [
    "# All chosen fields for survey 1\n",
    "A grass hay field, \"106433_WSDA_SF_2017\", was missed from meeting PDF! how the hell did this happen?\n",
    "- I had dropped grass hay from disagreement table! "
   ]
  },
  {
   "cell_type": "code",
   "execution_count": 101,
   "id": "9ac3f82f",
   "metadata": {},
   "outputs": [],
   "source": [
    "perry_dir = \"/Users/hn/Documents/01_research_data/NASA/Perry_and_Co/\"\n",
    "choices_set_1_xl = pd.ExcelFile(perry_dir + \"set1_PerryandCo.xlsx\")\n",
    "choices_set_1_sheet_names = choices_set_1_xl.sheet_names  # see all sheet names\n",
    "\n",
    "chosen_fields_set1 = pd.DataFrame()\n",
    "for a_choice_sheet in choices_set_1_sheet_names:    \n",
    "    # read a damn sheet\n",
    "    a_choice_sheet = choices_set_1_xl.parse(a_choice_sheet)\n",
    "    chosen_fields_set1 = pd.concat([chosen_fields_set1, a_choice_sheet])"
   ]
  },
  {
   "cell_type": "code",
   "execution_count": 102,
   "id": "349fbdbc",
   "metadata": {},
   "outputs": [],
   "source": [
    "choices_set_2_xl = pd.ExcelFile(perry_dir + \"set_2_handPicked.xlsx\")\n",
    "choices_set_2_sheet_names = choices_set_2_xl.sheet_names  # see all sheet names\n",
    "\n",
    "chosen_fields_set2 = pd.DataFrame()\n",
    "for a_choice_sheet in choices_set_2_sheet_names:    \n",
    "    # read a damn sheet\n",
    "    a_choice_sheet = choices_set_2_xl.parse(a_choice_sheet)\n",
    "    chosen_fields_set2 = pd.concat([chosen_fields_set2, a_choice_sheet])"
   ]
  },
  {
   "cell_type": "code",
   "execution_count": 103,
   "id": "6f75d113",
   "metadata": {},
   "outputs": [
    {
     "name": "stdout",
     "output_type": "stream",
     "text": [
      "322\n",
      "322\n"
     ]
    }
   ],
   "source": [
    "print (len(chosen_fields_set2.ID))\n",
    "print (len(chosen_fields_set2.ID.unique()))"
   ]
  },
  {
   "cell_type": "code",
   "execution_count": 104,
   "id": "62f71ce6",
   "metadata": {},
   "outputs": [],
   "source": [
    "# # check if there are overlap between chosen fields in set 1 and set 2\n",
    "# set1_uniqueIDs = list(chosen_fields_set1.ID.unique())\n",
    "# set2_uniqueIDs = list(chosen_fields_set2.ID.unique())\n",
    "\n",
    "# A = chosen_fields_set2[chosen_fields_set2.ID.isin(set1_uniqueIDs)]\n",
    "# B = chosen_fields_set1[chosen_fields_set1.ID.isin(set2_uniqueIDs)]\n",
    "# A.shape"
   ]
  },
  {
   "cell_type": "markdown",
   "id": "276d3c76",
   "metadata": {},
   "source": [
    "# Set 1 - post meeting"
   ]
  },
  {
   "cell_type": "code",
   "execution_count": 105,
   "id": "9c146db6",
   "metadata": {},
   "outputs": [
    {
     "data": {
      "text/html": [
       "<div>\n",
       "<style scoped>\n",
       "    .dataframe tbody tr th:only-of-type {\n",
       "        vertical-align: middle;\n",
       "    }\n",
       "\n",
       "    .dataframe tbody tr th {\n",
       "        vertical-align: top;\n",
       "    }\n",
       "\n",
       "    .dataframe thead th {\n",
       "        text-align: right;\n",
       "    }\n",
       "</style>\n",
       "<table border=\"1\" class=\"dataframe\">\n",
       "  <thead>\n",
       "    <tr style=\"text-align: right;\">\n",
       "      <th></th>\n",
       "      <th>ID</th>\n",
       "      <th>Vote</th>\n",
       "    </tr>\n",
       "  </thead>\n",
       "  <tbody>\n",
       "    <tr>\n",
       "      <th>0</th>\n",
       "      <td>160546_WSDA_SF_2015</td>\n",
       "      <td>1</td>\n",
       "    </tr>\n",
       "    <tr>\n",
       "      <th>1</th>\n",
       "      <td>99837_WSDA_SF_2017</td>\n",
       "      <td>2</td>\n",
       "    </tr>\n",
       "  </tbody>\n",
       "</table>\n",
       "</div>"
      ],
      "text/plain": [
       "                    ID Vote\n",
       "0  160546_WSDA_SF_2015    1\n",
       "1   99837_WSDA_SF_2017    2"
      ]
     },
     "execution_count": 105,
     "metadata": {},
     "output_type": "execute_result"
    }
   ],
   "source": [
    "import pandas as pd\n",
    "expert_label_dir = \"/Users/hn/Documents/01_research_data/NASA/Perry_and_Co/\"\n",
    "file_name =  \"Expert_label_Consensus_Set1_Meeting.xlsx\"\n",
    "Labels_xls = pd.ExcelFile(expert_label_dir + file_name)\n",
    "sheet_names = Labels_xls.sheet_names  # see all sheet names\n",
    "meeting_Consensus = Labels_xls.parse()\n",
    "\n",
    "needed_cols = [\"ID\", \"Vote\"]\n",
    "meeting_Consensus = meeting_Consensus[needed_cols]\n",
    "meeting_Consensus.head(2)"
   ]
  },
  {
   "cell_type": "markdown",
   "id": "402ef6d6",
   "metadata": {},
   "source": [
    "# There are some \"unsures\" even after meeting. Remove them"
   ]
  },
  {
   "cell_type": "code",
   "execution_count": 106,
   "id": "c3d95bf5",
   "metadata": {},
   "outputs": [
    {
     "name": "stdout",
     "output_type": "stream",
     "text": [
      "[1 2 0 '0/2']\n",
      "[1 2]\n"
     ]
    }
   ],
   "source": [
    "print (meeting_Consensus.Vote.unique())\n",
    "\n",
    "meeting_Consensus = meeting_Consensus[meeting_Consensus.Vote.isin([1, 2])]\n",
    "meeting_Consensus.Vote = meeting_Consensus.Vote.astype(int)\n",
    "print (meeting_Consensus.Vote.unique())"
   ]
  },
  {
   "cell_type": "markdown",
   "id": "300da440",
   "metadata": {},
   "source": [
    "# Set 1, pre-meeting"
   ]
  },
  {
   "cell_type": "code",
   "execution_count": 107,
   "id": "44a624e5",
   "metadata": {},
   "outputs": [
    {
     "data": {
      "text/html": [
       "<div>\n",
       "<style scoped>\n",
       "    .dataframe tbody tr th:only-of-type {\n",
       "        vertical-align: middle;\n",
       "    }\n",
       "\n",
       "    .dataframe tbody tr th {\n",
       "        vertical-align: top;\n",
       "    }\n",
       "\n",
       "    .dataframe thead th {\n",
       "        text-align: right;\n",
       "    }\n",
       "</style>\n",
       "<table border=\"1\" class=\"dataframe\">\n",
       "  <thead>\n",
       "    <tr style=\"text-align: right;\">\n",
       "      <th></th>\n",
       "      <th>ID</th>\n",
       "      <th>PerrysVote</th>\n",
       "      <th>AndrewsVote</th>\n",
       "      <th>TimsVote</th>\n",
       "      <th>PerryVCorrected</th>\n",
       "      <th>Vote</th>\n",
       "    </tr>\n",
       "  </thead>\n",
       "  <tbody>\n",
       "    <tr>\n",
       "      <th>0</th>\n",
       "      <td>157415_WSDA_SF_2015</td>\n",
       "      <td>Single Crop</td>\n",
       "      <td>Single Crop</td>\n",
       "      <td>Single Crop</td>\n",
       "      <td>Single Crop</td>\n",
       "      <td>1</td>\n",
       "    </tr>\n",
       "    <tr>\n",
       "      <th>1</th>\n",
       "      <td>155601_WSDA_SF_2015</td>\n",
       "      <td>Single Crop</td>\n",
       "      <td>Single Crop</td>\n",
       "      <td>Single Crop</td>\n",
       "      <td>Single Crop</td>\n",
       "      <td>1</td>\n",
       "    </tr>\n",
       "  </tbody>\n",
       "</table>\n",
       "</div>"
      ],
      "text/plain": [
       "                    ID   PerrysVote  AndrewsVote     TimsVote PerryVCorrected  \\\n",
       "0  157415_WSDA_SF_2015  Single Crop  Single Crop  Single Crop     Single Crop   \n",
       "1  155601_WSDA_SF_2015  Single Crop  Single Crop  Single Crop     Single Crop   \n",
       "\n",
       "   Vote  \n",
       "0     1  \n",
       "1     1  "
      ]
     },
     "execution_count": 107,
     "metadata": {},
     "output_type": "execute_result"
    }
   ],
   "source": [
    "ML_data_dir = \"/Users/hn/Documents/01_research_data/NASA/ML_data/\"\n",
    "set1_premeeting_consensus = pd.read_csv(ML_data_dir + \"set1_premeeting_consensus.csv\")\n",
    "set1_premeeting_consensus.head(2)"
   ]
  },
  {
   "cell_type": "code",
   "execution_count": 108,
   "id": "798b2d45",
   "metadata": {},
   "outputs": [],
   "source": [
    "drop_cols = ['PerrysVote', 'AndrewsVote', 'TimsVote']\n",
    "set1_premeeting_consensus.drop(labels=drop_cols, axis=1, inplace=True)"
   ]
  },
  {
   "cell_type": "markdown",
   "id": "d168b95e",
   "metadata": {},
   "source": [
    "# Concatenate set 1 pre and post meeting labels"
   ]
  },
  {
   "cell_type": "code",
   "execution_count": 109,
   "id": "400fce18",
   "metadata": {},
   "outputs": [
    {
     "data": {
      "text/plain": [
       "(285, 2)"
      ]
     },
     "execution_count": 109,
     "metadata": {},
     "output_type": "execute_result"
    }
   ],
   "source": [
    "set_1_labels = pd.concat([meeting_Consensus, set1_premeeting_consensus[['ID', 'Vote']]])\n",
    "\n",
    "# we need this shit, cuz some fields were requested to be discussed or had comment\n",
    "set_1_labels.drop_duplicates(inplace=True) \n",
    "set_1_labels.shape"
   ]
  },
  {
   "cell_type": "markdown",
   "id": "e7b19be3",
   "metadata": {},
   "source": [
    "# Read Set 2 pre-meeting consensus"
   ]
  },
  {
   "cell_type": "code",
   "execution_count": 110,
   "id": "454a9a11",
   "metadata": {},
   "outputs": [
    {
     "data": {
      "text/html": [
       "<div>\n",
       "<style scoped>\n",
       "    .dataframe tbody tr th:only-of-type {\n",
       "        vertical-align: middle;\n",
       "    }\n",
       "\n",
       "    .dataframe tbody tr th {\n",
       "        vertical-align: top;\n",
       "    }\n",
       "\n",
       "    .dataframe thead th {\n",
       "        text-align: right;\n",
       "    }\n",
       "</style>\n",
       "<table border=\"1\" class=\"dataframe\">\n",
       "  <thead>\n",
       "    <tr style=\"text-align: right;\">\n",
       "      <th></th>\n",
       "      <th>ID</th>\n",
       "      <th>PerryV</th>\n",
       "      <th>AndrewV</th>\n",
       "      <th>PerryVCorrected</th>\n",
       "      <th>Vote</th>\n",
       "    </tr>\n",
       "  </thead>\n",
       "  <tbody>\n",
       "    <tr>\n",
       "      <th>0</th>\n",
       "      <td>148920_WSDA_SF_2015</td>\n",
       "      <td>Single Crop</td>\n",
       "      <td>Single Crop</td>\n",
       "      <td>Single Crop</td>\n",
       "      <td>1</td>\n",
       "    </tr>\n",
       "    <tr>\n",
       "      <th>1</th>\n",
       "      <td>152722_WSDA_SF_2015</td>\n",
       "      <td>Single Crop</td>\n",
       "      <td>Single Crop</td>\n",
       "      <td>Single Crop</td>\n",
       "      <td>1</td>\n",
       "    </tr>\n",
       "  </tbody>\n",
       "</table>\n",
       "</div>"
      ],
      "text/plain": [
       "                    ID       PerryV      AndrewV PerryVCorrected  Vote\n",
       "0  148920_WSDA_SF_2015  Single Crop  Single Crop     Single Crop     1\n",
       "1  152722_WSDA_SF_2015  Single Crop  Single Crop     Single Crop     1"
      ]
     },
     "execution_count": 110,
     "metadata": {},
     "output_type": "execute_result"
    }
   ],
   "source": [
    "set2_premeeting_consensus = pd.read_csv(ML_data_dir + \"set2_premeeting_consensus.csv\")\n",
    "set2_premeeting_consensus.head(2)"
   ]
  },
  {
   "cell_type": "code",
   "execution_count": 111,
   "id": "3b8d505d",
   "metadata": {},
   "outputs": [],
   "source": [
    "set1_IDs = list(set_1_labels.ID.unique())\n",
    "\n",
    "#\n",
    "#    Get rid of repeated fields\n",
    "#\n",
    "set2_premeeting_consensus = set2_premeeting_consensus[~set2_premeeting_consensus.ID.isin(set1_IDs)]"
   ]
  },
  {
   "cell_type": "code",
   "execution_count": 119,
   "id": "f92beb8e",
   "metadata": {},
   "outputs": [
    {
     "data": {
      "text/plain": [
       "(437, 2)"
      ]
     },
     "execution_count": 119,
     "metadata": {},
     "output_type": "execute_result"
    }
   ],
   "source": [
    "train_labels = pd.concat([set_1_labels, set2_premeeting_consensus[['ID', 'Vote']]])\n",
    "train_labels.reset_index(drop=True, inplace=True)\n",
    "# train_labels.drop_duplicates(inplace=True)\n",
    "train_labels.shape"
   ]
  },
  {
   "cell_type": "code",
   "execution_count": 120,
   "id": "82639517",
   "metadata": {},
   "outputs": [],
   "source": [
    "out_folder = \"/Users/hn/Documents/01_research_data/NASA/ML_data/\"\n",
    "out_name = out_folder + \"train_labels.csv\"\n",
    "train_labels.to_csv(out_name, index = False)"
   ]
  },
  {
   "cell_type": "code",
   "execution_count": null,
   "id": "068bf41b",
   "metadata": {},
   "outputs": [],
   "source": []
  },
  {
   "cell_type": "code",
   "execution_count": null,
   "id": "d83a2b7b",
   "metadata": {},
   "outputs": [],
   "source": []
  },
  {
   "cell_type": "code",
   "execution_count": null,
   "id": "b2d90baa",
   "metadata": {},
   "outputs": [],
   "source": []
  },
  {
   "cell_type": "code",
   "execution_count": null,
   "id": "8d0b4054",
   "metadata": {},
   "outputs": [],
   "source": []
  },
  {
   "cell_type": "code",
   "execution_count": null,
   "id": "2bb4f2e1",
   "metadata": {},
   "outputs": [],
   "source": []
  },
  {
   "cell_type": "code",
   "execution_count": null,
   "id": "763c3508",
   "metadata": {},
   "outputs": [],
   "source": []
  },
  {
   "cell_type": "code",
   "execution_count": null,
   "id": "5c502cd8",
   "metadata": {},
   "outputs": [],
   "source": []
  },
  {
   "cell_type": "code",
   "execution_count": null,
   "id": "4b971961",
   "metadata": {},
   "outputs": [],
   "source": []
  }
 ],
 "metadata": {
  "kernelspec": {
   "display_name": "Python 3 (ipykernel)",
   "language": "python",
   "name": "python3"
  },
  "language_info": {
   "codemirror_mode": {
    "name": "ipython",
    "version": 3
   },
   "file_extension": ".py",
   "mimetype": "text/x-python",
   "name": "python",
   "nbconvert_exporter": "python",
   "pygments_lexer": "ipython3",
   "version": "3.9.7"
  }
 },
 "nbformat": 4,
 "nbformat_minor": 5
}
