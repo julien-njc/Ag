{
 "cells": [
  {
   "cell_type": "markdown",
   "id": "5a75fc09",
   "metadata": {},
   "source": [
    "Here we want to see how much each file size would be if we eliminate NDVI"
   ]
  },
  {
   "cell_type": "code",
   "execution_count": 1,
   "id": "1c1cad2c",
   "metadata": {},
   "outputs": [],
   "source": [
    "import csv\n",
    "import numpy as np\n",
    "import pandas as pd\n",
    "from math import factorial\n",
    "\n",
    "import datetime\n",
    "from datetime import date\n",
    "import datetime\n",
    "import time\n",
    "\n",
    "import scipy\n",
    "import os, os.path\n",
    "from os import listdir\n",
    "from os.path import isfile, join\n",
    "\n",
    "import re\n",
    "# from pprint import pprint\n",
    "import matplotlib.pyplot as plt\n",
    "import matplotlib.dates as mdates\n",
    "import seaborn as sb\n",
    "\n",
    "import sys\n",
    "\n",
    "\n",
    "# search path for modules\n",
    "# look @ https://stackoverflow.com/questions/67631/how-to-import-a-module-given-the-full-path\n",
    "sys.path.append('/Users/hn/Documents/00_GitHub/Ag/NASA/Python_codes/')\n",
    "import NASA_core as nc\n",
    "import NASA_plot_core as npc"
   ]
  },
  {
   "cell_type": "markdown",
   "id": "07a1ba28",
   "metadata": {},
   "source": [
    "### Set up directories"
   ]
  },
  {
   "cell_type": "code",
   "execution_count": 2,
   "id": "68cc5399",
   "metadata": {},
   "outputs": [],
   "source": [
    "data_dir = \"/Users/hn/Documents/01_research_data/NASA/VI_TS/sixth_investig_intersected/\""
   ]
  },
  {
   "cell_type": "code",
   "execution_count": 12,
   "id": "aa4359be",
   "metadata": {},
   "outputs": [],
   "source": [
    "L5 = pd.read_csv(data_dir + \"L5_T1C2L2_Scaled_intGrant_2008-01-01_2012-05-05.csv\")\n",
    "L7 = pd.read_csv(data_dir + \"L7_T1C2L2_Scaled_intGrant_2008-01-01_2021-09-23.csv\")\n",
    "L8 = pd.read_csv(data_dir + \"L8_T1C2L2_Scaled_intGrant_2008-01-01_2021-10-14.csv\")"
   ]
  },
  {
   "cell_type": "code",
   "execution_count": 13,
   "id": "f4ffd0cd",
   "metadata": {},
   "outputs": [
    {
     "data": {
      "text/html": [
       "<div>\n",
       "<style scoped>\n",
       "    .dataframe tbody tr th:only-of-type {\n",
       "        vertical-align: middle;\n",
       "    }\n",
       "\n",
       "    .dataframe tbody tr th {\n",
       "        vertical-align: top;\n",
       "    }\n",
       "\n",
       "    .dataframe thead th {\n",
       "        text-align: right;\n",
       "    }\n",
       "</style>\n",
       "<table border=\"1\" class=\"dataframe\">\n",
       "  <thead>\n",
       "    <tr style=\"text-align: right;\">\n",
       "      <th></th>\n",
       "      <th>ID</th>\n",
       "      <th>EVI</th>\n",
       "      <th>system_start_time</th>\n",
       "    </tr>\n",
       "  </thead>\n",
       "  <tbody>\n",
       "    <tr>\n",
       "      <th>0</th>\n",
       "      <td>114928</td>\n",
       "      <td>NaN</td>\n",
       "      <td>NaN</td>\n",
       "    </tr>\n",
       "    <tr>\n",
       "      <th>1</th>\n",
       "      <td>120397</td>\n",
       "      <td>NaN</td>\n",
       "      <td>NaN</td>\n",
       "    </tr>\n",
       "  </tbody>\n",
       "</table>\n",
       "</div>"
      ],
      "text/plain": [
       "       ID  EVI  system_start_time\n",
       "0  114928  NaN                NaN\n",
       "1  120397  NaN                NaN"
      ]
     },
     "execution_count": 13,
     "metadata": {},
     "output_type": "execute_result"
    }
   ],
   "source": [
    "L5.drop(['NDVI'], axis=1, inplace=True)\n",
    "\n",
    "\n",
    "L7.drop(['NDVI'], axis=1, inplace=True)\n",
    "\n",
    "\n",
    "L8.drop(['NDVI'], axis=1, inplace=True)\n",
    "\n",
    "L8.head(2)"
   ]
  },
  {
   "cell_type": "code",
   "execution_count": 14,
   "id": "0ef373ea",
   "metadata": {},
   "outputs": [],
   "source": [
    "L578 = pd.concat([L5, L7, L8])\n"
   ]
  },
  {
   "cell_type": "code",
   "execution_count": 15,
   "id": "ea30d36c",
   "metadata": {},
   "outputs": [
    {
     "data": {
      "text/html": [
       "<div>\n",
       "<style scoped>\n",
       "    .dataframe tbody tr th:only-of-type {\n",
       "        vertical-align: middle;\n",
       "    }\n",
       "\n",
       "    .dataframe tbody tr th {\n",
       "        vertical-align: top;\n",
       "    }\n",
       "\n",
       "    .dataframe thead th {\n",
       "        text-align: right;\n",
       "    }\n",
       "</style>\n",
       "<table border=\"1\" class=\"dataframe\">\n",
       "  <thead>\n",
       "    <tr style=\"text-align: right;\">\n",
       "      <th></th>\n",
       "      <th>ID</th>\n",
       "      <th>county</th>\n",
       "      <th>EVI</th>\n",
       "      <th>system_start_time</th>\n",
       "    </tr>\n",
       "  </thead>\n",
       "  <tbody>\n",
       "    <tr>\n",
       "      <th>0</th>\n",
       "      <td>114928</td>\n",
       "      <td>Grant</td>\n",
       "      <td>NaN</td>\n",
       "      <td>NaN</td>\n",
       "    </tr>\n",
       "    <tr>\n",
       "      <th>1</th>\n",
       "      <td>120397</td>\n",
       "      <td>Grant</td>\n",
       "      <td>NaN</td>\n",
       "      <td>NaN</td>\n",
       "    </tr>\n",
       "  </tbody>\n",
       "</table>\n",
       "</div>"
      ],
      "text/plain": [
       "       ID county  EVI  system_start_time\n",
       "0  114928  Grant  NaN                NaN\n",
       "1  120397  Grant  NaN                NaN"
      ]
     },
     "execution_count": 15,
     "metadata": {},
     "output_type": "execute_result"
    }
   ],
   "source": [
    "L578.head(2)"
   ]
  },
  {
   "cell_type": "code",
   "execution_count": 16,
   "id": "1ba6072e",
   "metadata": {},
   "outputs": [],
   "source": [
    "output_dir = data_dir + \"/noNDVI/\"\n",
    "os.makedirs(output_dir, exist_ok=True)\n",
    "\n",
    "out_name = output_dir + \"GrantL578.csv\"\n",
    "L578.to_csv(out_name, index = False)\n",
    "\n",
    "out_name = output_dir + \"GrantL5.csv\"\n",
    "L5.to_csv(out_name, index = False)\n",
    "\n",
    "out_name = output_dir + \"GrantL7.csv\"\n",
    "L7.to_csv(out_name, index = False)\n",
    "\n",
    "\n",
    "out_name = output_dir + \"GrantL8.csv\"\n",
    "L8.to_csv(out_name, index = False)\n"
   ]
  },
  {
   "cell_type": "code",
   "execution_count": null,
   "id": "fa49a443",
   "metadata": {},
   "outputs": [],
   "source": []
  }
 ],
 "metadata": {
  "kernelspec": {
   "display_name": "Python 3",
   "language": "python",
   "name": "python3"
  },
  "language_info": {
   "codemirror_mode": {
    "name": "ipython",
    "version": 3
   },
   "file_extension": ".py",
   "mimetype": "text/x-python",
   "name": "python",
   "nbconvert_exporter": "python",
   "pygments_lexer": "ipython3",
   "version": "3.8.8"
  }
 },
 "nbformat": 4,
 "nbformat_minor": 5
}
