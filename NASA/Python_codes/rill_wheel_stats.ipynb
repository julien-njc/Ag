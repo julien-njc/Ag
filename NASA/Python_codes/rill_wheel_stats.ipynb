{
 "cells": [
  {
   "cell_type": "code",
   "execution_count": 1,
   "metadata": {},
   "outputs": [],
   "source": [
    "# import warnings\n",
    "# warnings.filterwarnings(\"ignore\")\n",
    "\n",
    "import csv\n",
    "import numpy as np\n",
    "import pandas as pd\n",
    "import scipy\n",
    "\n",
    "import os, os.path\n",
    "import sys\n",
    "\n",
    "# to move files from one directory to another\n",
    "import shutil"
   ]
  },
  {
   "cell_type": "code",
   "execution_count": 2,
   "metadata": {},
   "outputs": [],
   "source": [
    "sys.path.append('/Users/hn/Documents/00_GitHub/Ag/NASA/Python_codes/')\n",
    "import NASA_core as nc"
   ]
  },
  {
   "cell_type": "code",
   "execution_count": 3,
   "metadata": {},
   "outputs": [],
   "source": [
    "data_dir = \"/Users/hn/Documents/01_research_data/NASA/data_part_of_shapefile/\"\n",
    "output_dir = \"/Users/hn/Documents/01_research_data/NASA/\"\n",
    "param_dir = output_dir + \"/parameters/\"\n",
    "\n",
    "# double_crop_potens = pd.read_csv(param_dir + \"double_crop_potential_plants.csv\")"
   ]
  },
  {
   "cell_type": "code",
   "execution_count": null,
   "metadata": {},
   "outputs": [],
   "source": []
  },
  {
   "cell_type": "code",
   "execution_count": 4,
   "metadata": {},
   "outputs": [],
   "source": [
    "f_names = [\"AdamBenton2016.csv\",\n",
    "           \"FranklinYakima2018.csv\",\n",
    "           \"Grant2017.csv\",\n",
    "           \"Walla2015.csv\"]"
   ]
  },
  {
   "cell_type": "markdown",
   "metadata": {},
   "source": [
    "# List of unwanted fields"
   ]
  },
  {
   "cell_type": "code",
   "execution_count": 5,
   "metadata": {},
   "outputs": [],
   "source": [
    "unwanted_crop = [\"christmas tree\", \"conifer seed\", \n",
    "                 \"crp/conservation\", \"dahlia\", \"dandelion\", \"developed\", \n",
    "                 \"driving range\", \"flowers, nursery and christmas tree farms\",\n",
    "                 \"golf course\", \"greenhouse\", \"iris\", \"miscellaneous deciduous\", \n",
    "                 \"nursery, caneberry\", \"nursery, greenhouse\", \"nursery, holly\",\n",
    "                 \"nursery, lavender\", \"nursery, lilac\", \"nursery, orchard/vineyard\",\n",
    "                 \"nursery, ornamental\", \"nursery, silvaculture\", \"nursery, silviculture\",\n",
    "                 \"peony\", \"reclamation seed\",\n",
    "                 \"research station\", \"shellfish\", \n",
    "                 \"silvaculture\", \"silviculture\", \"tulip\"]"
   ]
  },
  {
   "cell_type": "markdown",
   "metadata": {},
   "source": [
    "# Read Files"
   ]
  },
  {
   "cell_type": "code",
   "execution_count": 6,
   "metadata": {},
   "outputs": [],
   "source": [
    "all_fields = pd.DataFrame(data=None, index=None)\n",
    "all_fields_correct_year = pd.DataFrame(data=None, index=None)\n",
    "for file in f_names:\n",
    "    curr_table = pd.read_csv(data_dir + file, low_memory=False)\n",
    "    all_fields = pd.concat([all_fields, curr_table]).reset_index(drop=True)\n",
    "    \n",
    "    # pick proper year here. currently it is in the function \n",
    "    # generate_training_set_important_counties(.)\n",
    "    # or you want to keep it in the function?\n",
    "    curr_table = nc.filter_by_lastSurvey(curr_table, file[-8:-4])\n",
    "    all_fields_correct_year = pd.concat([all_fields_correct_year, curr_table]).reset_index(drop=True)\n",
    "    \n",
    "\n",
    "all_fields['CropTyp'] = all_fields['CropTyp'].str.lower()\n",
    "all_fields.drop_duplicates(inplace=True) # sanity check\n",
    "\n",
    "\n",
    "all_fields_correct_year['CropTyp'] = all_fields_correct_year['CropTyp'].str.lower()\n",
    "all_fields_correct_year.drop_duplicates(inplace=True) # sanity check"
   ]
  },
  {
   "cell_type": "code",
   "execution_count": 7,
   "metadata": {},
   "outputs": [
    {
     "name": "stdout",
     "output_type": "stream",
     "text": [
      "all_fields.shape is:  (77530, 15)\n",
      "all_fields_correct_year.shape is:  (64846, 15)\n",
      "No. unique crops in all_fields is: 116\n",
      "No. unique crops in all_fields_correct_year is: 116\n"
     ]
    }
   ],
   "source": [
    "print (\"all_fields.shape is: \", all_fields.shape) \n",
    "print (\"all_fields_correct_year.shape is: \", all_fields_correct_year.shape) \n",
    "\n",
    "print (\"No. unique crops in all_fields is:\", len(all_fields.CropTyp.unique()))\n",
    "print (\"No. unique crops in all_fields_correct_year is:\", len(all_fields.CropTyp.unique()))"
   ]
  },
  {
   "cell_type": "markdown",
   "metadata": {},
   "source": [
    "# Filters \n",
    "  - NASS, last survey date, Irrigated fields, and unwanted locations such as research station."
   ]
  },
  {
   "cell_type": "markdown",
   "metadata": {},
   "source": [
    "# Filter Irrigated Fields"
   ]
  },
  {
   "cell_type": "code",
   "execution_count": 8,
   "metadata": {},
   "outputs": [
    {
     "name": "stdout",
     "output_type": "stream",
     "text": [
      "all_fields.shape: (77530, 15)\n",
      "all_fields_irr.shape: (53582, 15)\n",
      "\n",
      "all_fields_correct_year.shape: (64846, 15)\n",
      "all_fields_correct_year_irr.shape (44850, 15)\n"
     ]
    }
   ],
   "source": [
    "# pick up irrigated\n",
    "all_fields_irr = nc.filter_out_nonIrrigated(all_fields)\n",
    "all_fields_correct_year_irr = nc.filter_out_nonIrrigated(all_fields_correct_year)\n",
    "\n",
    "\n",
    "print (\"all_fields.shape:\", all_fields.shape)\n",
    "print (\"all_fields_irr.shape:\", all_fields_irr.shape)\n",
    "print (\"\")\n",
    "print (\"all_fields_correct_year.shape:\", all_fields_correct_year.shape)\n",
    "print (\"all_fields_correct_year_irr.shape\", all_fields_correct_year_irr.shape)"
   ]
  },
  {
   "cell_type": "code",
   "execution_count": 9,
   "metadata": {},
   "outputs": [],
   "source": [
    "del(all_fields, all_fields_correct_year)"
   ]
  },
  {
   "cell_type": "code",
   "execution_count": 10,
   "metadata": {},
   "outputs": [
    {
     "data": {
      "text/plain": [
       "(44850, 15)"
      ]
     },
     "execution_count": 10,
     "metadata": {},
     "output_type": "execute_result"
    }
   ],
   "source": [
    "all_fields_correct_year_irr.shape"
   ]
  },
  {
   "cell_type": "code",
   "execution_count": 11,
   "metadata": {},
   "outputs": [
    {
     "data": {
      "text/html": [
       "<div>\n",
       "<style scoped>\n",
       "    .dataframe tbody tr th:only-of-type {\n",
       "        vertical-align: middle;\n",
       "    }\n",
       "\n",
       "    .dataframe tbody tr th {\n",
       "        vertical-align: top;\n",
       "    }\n",
       "\n",
       "    .dataframe thead th {\n",
       "        text-align: right;\n",
       "    }\n",
       "</style>\n",
       "<table border=\"1\" class=\"dataframe\">\n",
       "  <thead>\n",
       "    <tr style=\"text-align: right;\">\n",
       "      <th></th>\n",
       "      <th>ID</th>\n",
       "      <th>CropGrp</th>\n",
       "      <th>CropTyp</th>\n",
       "      <th>Acres</th>\n",
       "      <th>Irrigtn</th>\n",
       "      <th>IntlSrD</th>\n",
       "      <th>LstSrvD</th>\n",
       "      <th>DataSrc</th>\n",
       "      <th>Notes</th>\n",
       "      <th>TRS</th>\n",
       "      <th>county</th>\n",
       "      <th>RtCrpTy</th>\n",
       "      <th>ExctAcr</th>\n",
       "      <th>Shp_Lng</th>\n",
       "      <th>Shap_Ar</th>\n",
       "    </tr>\n",
       "  </thead>\n",
       "  <tbody>\n",
       "    <tr>\n",
       "      <th>6</th>\n",
       "      <td>51380_WSDA_SF_2016</td>\n",
       "      <td>Seed</td>\n",
       "      <td>bluegrass seed</td>\n",
       "      <td>6</td>\n",
       "      <td>sprinkler</td>\n",
       "      <td>2003/07/01 00:00:00</td>\n",
       "      <td>2016/09/19 00:00:00</td>\n",
       "      <td>wsda</td>\n",
       "      <td>NaN</td>\n",
       "      <td>T20R35E24</td>\n",
       "      <td>Adams</td>\n",
       "      <td>Wheat</td>\n",
       "      <td>6.116621</td>\n",
       "      <td>937.384083</td>\n",
       "      <td>24753.087193</td>\n",
       "    </tr>\n",
       "    <tr>\n",
       "      <th>7</th>\n",
       "      <td>51381_WSDA_SF_2016</td>\n",
       "      <td>Cereal Grain</td>\n",
       "      <td>wheat</td>\n",
       "      <td>117</td>\n",
       "      <td>center pivot</td>\n",
       "      <td>2003/07/01 00:00:00</td>\n",
       "      <td>2016/09/20 00:00:00</td>\n",
       "      <td>wsda</td>\n",
       "      <td>NaN</td>\n",
       "      <td>T16R36E22</td>\n",
       "      <td>Adams</td>\n",
       "      <td>Potato</td>\n",
       "      <td>116.743101</td>\n",
       "      <td>2445.413312</td>\n",
       "      <td>472442.568255</td>\n",
       "    </tr>\n",
       "  </tbody>\n",
       "</table>\n",
       "</div>"
      ],
      "text/plain": [
       "                   ID       CropGrp         CropTyp  Acres       Irrigtn  \\\n",
       "6  51380_WSDA_SF_2016          Seed  bluegrass seed      6     sprinkler   \n",
       "7  51381_WSDA_SF_2016  Cereal Grain           wheat    117  center pivot   \n",
       "\n",
       "               IntlSrD              LstSrvD DataSrc Notes        TRS county  \\\n",
       "6  2003/07/01 00:00:00  2016/09/19 00:00:00    wsda   NaN  T20R35E24  Adams   \n",
       "7  2003/07/01 00:00:00  2016/09/20 00:00:00    wsda   NaN  T16R36E22  Adams   \n",
       "\n",
       "  RtCrpTy     ExctAcr      Shp_Lng        Shap_Ar  \n",
       "6   Wheat    6.116621   937.384083   24753.087193  \n",
       "7  Potato  116.743101  2445.413312  472442.568255  "
      ]
     },
     "execution_count": 11,
     "metadata": {},
     "output_type": "execute_result"
    }
   ],
   "source": [
    "all_fields_correct_year_irr.head(2)"
   ]
  },
  {
   "cell_type": "markdown",
   "metadata": {},
   "source": [
    "# Toss NASS"
   ]
  },
  {
   "cell_type": "code",
   "execution_count": 12,
   "metadata": {},
   "outputs": [
    {
     "name": "stdout",
     "output_type": "stream",
     "text": [
      "(44850, 15)\n",
      "(37210, 15)\n"
     ]
    }
   ],
   "source": [
    "print (all_fields_correct_year_irr.shape)\n",
    "all_fields_correct_year_irr_noNass = nc.filter_out_NASS(all_fields_correct_year_irr)\n",
    "print (all_fields_correct_year_irr_noNass.shape)"
   ]
  },
  {
   "cell_type": "markdown",
   "metadata": {},
   "source": [
    "# Drop stupid Columns"
   ]
  },
  {
   "cell_type": "code",
   "execution_count": 15,
   "metadata": {},
   "outputs": [],
   "source": [
    "all_fields_correct_year_irr_noNass.drop(labels=[\"CropGrp\", \"CropTyp\", \"IntlSrD\", \"Notes\", \"TRS\",\n",
    "                                                \"RtCrpTy\", \"Shp_Lng\", \"Shap_Ar\", \"ExctAcr\"], \n",
    "                                        axis='columns',\n",
    "                                       inplace = True)"
   ]
  },
  {
   "cell_type": "code",
   "execution_count": 22,
   "metadata": {},
   "outputs": [],
   "source": [
    "all_correct_year_irr_noNass_count = all_fields_correct_year_irr_noNass.groupby(['county', 'Irrigtn']).count()\n",
    "all_correct_year_irr_noNass_count.reset_index(inplace=True)\n",
    "all_correct_year_irr_noNass_count.sort_values(by=['county', 'Irrigtn'], inplace=True)"
   ]
  },
  {
   "cell_type": "code",
   "execution_count": 28,
   "metadata": {},
   "outputs": [
    {
     "data": {
      "text/html": [
       "<div>\n",
       "<style scoped>\n",
       "    .dataframe tbody tr th:only-of-type {\n",
       "        vertical-align: middle;\n",
       "    }\n",
       "\n",
       "    .dataframe tbody tr th {\n",
       "        vertical-align: top;\n",
       "    }\n",
       "\n",
       "    .dataframe thead th {\n",
       "        text-align: right;\n",
       "    }\n",
       "</style>\n",
       "<table border=\"1\" class=\"dataframe\">\n",
       "  <thead>\n",
       "    <tr style=\"text-align: right;\">\n",
       "      <th></th>\n",
       "      <th>county</th>\n",
       "      <th>Irrigtn</th>\n",
       "      <th>ID</th>\n",
       "      <th>Acres</th>\n",
       "      <th>LstSrvD</th>\n",
       "      <th>DataSrc</th>\n",
       "      <th>ExctAcr</th>\n",
       "    </tr>\n",
       "  </thead>\n",
       "  <tbody>\n",
       "    <tr>\n",
       "      <th>0</th>\n",
       "      <td>Adams</td>\n",
       "      <td>big gun</td>\n",
       "      <td>6</td>\n",
       "      <td>6</td>\n",
       "      <td>6</td>\n",
       "      <td>6</td>\n",
       "      <td>6</td>\n",
       "    </tr>\n",
       "    <tr>\n",
       "      <th>1</th>\n",
       "      <td>Adams</td>\n",
       "      <td>big gun/center pivot</td>\n",
       "      <td>2</td>\n",
       "      <td>2</td>\n",
       "      <td>2</td>\n",
       "      <td>2</td>\n",
       "      <td>2</td>\n",
       "    </tr>\n",
       "    <tr>\n",
       "      <th>2</th>\n",
       "      <td>Adams</td>\n",
       "      <td>big gun/sprinkler</td>\n",
       "      <td>1</td>\n",
       "      <td>1</td>\n",
       "      <td>1</td>\n",
       "      <td>1</td>\n",
       "      <td>1</td>\n",
       "    </tr>\n",
       "    <tr>\n",
       "      <th>3</th>\n",
       "      <td>Adams</td>\n",
       "      <td>center pivot</td>\n",
       "      <td>1852</td>\n",
       "      <td>1852</td>\n",
       "      <td>1852</td>\n",
       "      <td>1852</td>\n",
       "      <td>1852</td>\n",
       "    </tr>\n",
       "    <tr>\n",
       "      <th>4</th>\n",
       "      <td>Adams</td>\n",
       "      <td>center pivot/drip</td>\n",
       "      <td>4</td>\n",
       "      <td>4</td>\n",
       "      <td>4</td>\n",
       "      <td>4</td>\n",
       "      <td>4</td>\n",
       "    </tr>\n",
       "  </tbody>\n",
       "</table>\n",
       "</div>"
      ],
      "text/plain": [
       "  county               Irrigtn    ID  Acres  LstSrvD  DataSrc  ExctAcr\n",
       "0  Adams               big gun     6      6        6        6        6\n",
       "1  Adams  big gun/center pivot     2      2        2        2        2\n",
       "2  Adams     big gun/sprinkler     1      1        1        1        1\n",
       "3  Adams          center pivot  1852   1852     1852     1852     1852\n",
       "4  Adams     center pivot/drip     4      4        4        4        4"
      ]
     },
     "execution_count": 28,
     "metadata": {},
     "output_type": "execute_result"
    }
   ],
   "source": [
    "all_correct_year_irr_noNass_count.head(5)"
   ]
  },
  {
   "cell_type": "code",
   "execution_count": 34,
   "metadata": {},
   "outputs": [
    {
     "data": {
      "text/html": [
       "<div>\n",
       "<style scoped>\n",
       "    .dataframe tbody tr th:only-of-type {\n",
       "        vertical-align: middle;\n",
       "    }\n",
       "\n",
       "    .dataframe tbody tr th {\n",
       "        vertical-align: top;\n",
       "    }\n",
       "\n",
       "    .dataframe thead th {\n",
       "        text-align: right;\n",
       "    }\n",
       "</style>\n",
       "<table border=\"1\" class=\"dataframe\">\n",
       "  <thead>\n",
       "    <tr style=\"text-align: right;\">\n",
       "      <th></th>\n",
       "      <th>county</th>\n",
       "      <th>Irrigtn</th>\n",
       "      <th>count</th>\n",
       "    </tr>\n",
       "  </thead>\n",
       "  <tbody>\n",
       "    <tr>\n",
       "      <th>0</th>\n",
       "      <td>Adams</td>\n",
       "      <td>big gun</td>\n",
       "      <td>6</td>\n",
       "    </tr>\n",
       "    <tr>\n",
       "      <th>1</th>\n",
       "      <td>Adams</td>\n",
       "      <td>big gun/center pivot</td>\n",
       "      <td>2</td>\n",
       "    </tr>\n",
       "  </tbody>\n",
       "</table>\n",
       "</div>"
      ],
      "text/plain": [
       "  county               Irrigtn  count\n",
       "0  Adams               big gun      6\n",
       "1  Adams  big gun/center pivot      2"
      ]
     },
     "execution_count": 34,
     "metadata": {},
     "output_type": "execute_result"
    }
   ],
   "source": [
    "all_correct_year_irr_noNass_count.drop(labels=[\"Acres\", \"LstSrvD\", \"DataSrc\"], \n",
    "                                       axis='columns',\n",
    "                                       inplace = True)\n",
    "all_correct_year_irr_noNass_count.rename(columns={\"ID\": \"count\"}, inplace=True)\n",
    "\n",
    "all_correct_year_irr_noNass_count.head(2)"
   ]
  },
  {
   "cell_type": "code",
   "execution_count": null,
   "metadata": {},
   "outputs": [],
   "source": []
  },
  {
   "cell_type": "code",
   "execution_count": 24,
   "metadata": {},
   "outputs": [],
   "source": [
    "all_correct_year_irr_noNass_Acr = all_fields_correct_year_irr_noNass.groupby(['county', 'Irrigtn']).sum()\n",
    "all_correct_year_irr_noNass_Acr.reset_index(inplace=True)\n",
    "all_correct_year_irr_noNass_Acr.sort_values(by=['county', 'Irrigtn'], inplace=True)"
   ]
  },
  {
   "cell_type": "code",
   "execution_count": 36,
   "metadata": {},
   "outputs": [
    {
     "data": {
      "text/html": [
       "<div>\n",
       "<style scoped>\n",
       "    .dataframe tbody tr th:only-of-type {\n",
       "        vertical-align: middle;\n",
       "    }\n",
       "\n",
       "    .dataframe tbody tr th {\n",
       "        vertical-align: top;\n",
       "    }\n",
       "\n",
       "    .dataframe thead th {\n",
       "        text-align: right;\n",
       "    }\n",
       "</style>\n",
       "<table border=\"1\" class=\"dataframe\">\n",
       "  <thead>\n",
       "    <tr style=\"text-align: right;\">\n",
       "      <th></th>\n",
       "      <th>county</th>\n",
       "      <th>Irrigtn</th>\n",
       "      <th>Acres</th>\n",
       "    </tr>\n",
       "  </thead>\n",
       "  <tbody>\n",
       "    <tr>\n",
       "      <th>0</th>\n",
       "      <td>Adams</td>\n",
       "      <td>big gun</td>\n",
       "      <td>177</td>\n",
       "    </tr>\n",
       "    <tr>\n",
       "      <th>1</th>\n",
       "      <td>Adams</td>\n",
       "      <td>big gun/center pivot</td>\n",
       "      <td>5</td>\n",
       "    </tr>\n",
       "  </tbody>\n",
       "</table>\n",
       "</div>"
      ],
      "text/plain": [
       "  county               Irrigtn  Acres\n",
       "0  Adams               big gun    177\n",
       "1  Adams  big gun/center pivot      5"
      ]
     },
     "execution_count": 36,
     "metadata": {},
     "output_type": "execute_result"
    }
   ],
   "source": [
    "all_correct_year_irr_noNass_Acr.head(2)"
   ]
  },
  {
   "cell_type": "code",
   "execution_count": 37,
   "metadata": {},
   "outputs": [
    {
     "data": {
      "text/plain": [
       "(114, 3)"
      ]
     },
     "execution_count": 37,
     "metadata": {},
     "output_type": "execute_result"
    }
   ],
   "source": [
    "print (all_correct_year_irr_noNass_Acr.shape)\n",
    "print (all_correct_year_irr_noNass_count.shape)"
   ]
  },
  {
   "cell_type": "code",
   "execution_count": 39,
   "metadata": {},
   "outputs": [],
   "source": [
    "stats = pd.merge(all_correct_year_irr_noNass_count, all_correct_year_irr_noNass_Acr, \n",
    "                 on=['county', \"Irrigtn\"], how='left')\n",
    "stats.head(2)"
   ]
  },
  {
   "cell_type": "code",
   "execution_count": 41,
   "metadata": {},
   "outputs": [],
   "source": [
    "out_name = output_dir + \"rill_wheel_stat_allFields_CountyIrrType.csv\"\n",
    "stats.to_csv(out_name, index = False)\n",
    "del(stats)"
   ]
  },
  {
   "cell_type": "code",
   "execution_count": null,
   "metadata": {},
   "outputs": [],
   "source": []
  },
  {
   "cell_type": "markdown",
   "metadata": {},
   "source": [
    "# Group by irrigation type. No counties here"
   ]
  },
  {
   "cell_type": "code",
   "execution_count": 44,
   "metadata": {},
   "outputs": [
    {
     "data": {
      "text/html": [
       "<div>\n",
       "<style scoped>\n",
       "    .dataframe tbody tr th:only-of-type {\n",
       "        vertical-align: middle;\n",
       "    }\n",
       "\n",
       "    .dataframe tbody tr th {\n",
       "        vertical-align: top;\n",
       "    }\n",
       "\n",
       "    .dataframe thead th {\n",
       "        text-align: right;\n",
       "    }\n",
       "</style>\n",
       "<table border=\"1\" class=\"dataframe\">\n",
       "  <thead>\n",
       "    <tr style=\"text-align: right;\">\n",
       "      <th></th>\n",
       "      <th>Irrigtn</th>\n",
       "      <th>count</th>\n",
       "    </tr>\n",
       "  </thead>\n",
       "  <tbody>\n",
       "    <tr>\n",
       "      <th>0</th>\n",
       "      <td>big gun</td>\n",
       "      <td>125</td>\n",
       "    </tr>\n",
       "    <tr>\n",
       "      <th>1</th>\n",
       "      <td>big gun/center pivot</td>\n",
       "      <td>6</td>\n",
       "    </tr>\n",
       "  </tbody>\n",
       "</table>\n",
       "</div>"
      ],
      "text/plain": [
       "                Irrigtn  count\n",
       "0               big gun    125\n",
       "1  big gun/center pivot      6"
      ]
     },
     "execution_count": 44,
     "metadata": {},
     "output_type": "execute_result"
    }
   ],
   "source": [
    "all_correct_year_irr_noNass_count = all_fields_correct_year_irr_noNass.groupby(['Irrigtn']).count()\n",
    "all_correct_year_irr_noNass_count.reset_index(inplace=True)\n",
    "all_correct_year_irr_noNass_count.sort_values(by=['Irrigtn'], inplace=True)\n",
    "\n",
    "all_correct_year_irr_noNass_count.drop(labels=[\"Acres\", \"LstSrvD\", \"DataSrc\", \"county\", \"ExctAcr\"], \n",
    "                                       axis='columns',\n",
    "                                       inplace = True)\n",
    "all_correct_year_irr_noNass_count.rename(columns={\"ID\": \"count\"}, inplace=True)\n",
    "\n",
    "all_correct_year_irr_noNass_count.head(2)"
   ]
  },
  {
   "cell_type": "code",
   "execution_count": 48,
   "metadata": {},
   "outputs": [
    {
     "data": {
      "text/html": [
       "<div>\n",
       "<style scoped>\n",
       "    .dataframe tbody tr th:only-of-type {\n",
       "        vertical-align: middle;\n",
       "    }\n",
       "\n",
       "    .dataframe tbody tr th {\n",
       "        vertical-align: top;\n",
       "    }\n",
       "\n",
       "    .dataframe thead th {\n",
       "        text-align: right;\n",
       "    }\n",
       "</style>\n",
       "<table border=\"1\" class=\"dataframe\">\n",
       "  <thead>\n",
       "    <tr style=\"text-align: right;\">\n",
       "      <th></th>\n",
       "      <th>Irrigtn</th>\n",
       "      <th>Acres</th>\n",
       "    </tr>\n",
       "  </thead>\n",
       "  <tbody>\n",
       "    <tr>\n",
       "      <th>0</th>\n",
       "      <td>big gun</td>\n",
       "      <td>1702</td>\n",
       "    </tr>\n",
       "    <tr>\n",
       "      <th>1</th>\n",
       "      <td>big gun/center pivot</td>\n",
       "      <td>126</td>\n",
       "    </tr>\n",
       "  </tbody>\n",
       "</table>\n",
       "</div>"
      ],
      "text/plain": [
       "                Irrigtn  Acres\n",
       "0               big gun   1702\n",
       "1  big gun/center pivot    126"
      ]
     },
     "execution_count": 48,
     "metadata": {},
     "output_type": "execute_result"
    }
   ],
   "source": [
    "all_correct_year_irr_noNass_Acr = all_fields_correct_year_irr_noNass.groupby(['Irrigtn']).sum()\n",
    "all_correct_year_irr_noNass_Acr.reset_index(inplace=True)\n",
    "all_correct_year_irr_noNass_Acr.sort_values(by=['Irrigtn'], inplace=True)\n",
    "\n",
    "all_correct_year_irr_noNass_Acr.head(2)"
   ]
  },
  {
   "cell_type": "code",
   "execution_count": 49,
   "metadata": {},
   "outputs": [
    {
     "data": {
      "text/html": [
       "<div>\n",
       "<style scoped>\n",
       "    .dataframe tbody tr th:only-of-type {\n",
       "        vertical-align: middle;\n",
       "    }\n",
       "\n",
       "    .dataframe tbody tr th {\n",
       "        vertical-align: top;\n",
       "    }\n",
       "\n",
       "    .dataframe thead th {\n",
       "        text-align: right;\n",
       "    }\n",
       "</style>\n",
       "<table border=\"1\" class=\"dataframe\">\n",
       "  <thead>\n",
       "    <tr style=\"text-align: right;\">\n",
       "      <th></th>\n",
       "      <th>Irrigtn</th>\n",
       "      <th>count</th>\n",
       "      <th>Acres</th>\n",
       "    </tr>\n",
       "  </thead>\n",
       "  <tbody>\n",
       "    <tr>\n",
       "      <th>0</th>\n",
       "      <td>big gun</td>\n",
       "      <td>125</td>\n",
       "      <td>1702</td>\n",
       "    </tr>\n",
       "    <tr>\n",
       "      <th>1</th>\n",
       "      <td>big gun/center pivot</td>\n",
       "      <td>6</td>\n",
       "      <td>126</td>\n",
       "    </tr>\n",
       "  </tbody>\n",
       "</table>\n",
       "</div>"
      ],
      "text/plain": [
       "                Irrigtn  count  Acres\n",
       "0               big gun    125   1702\n",
       "1  big gun/center pivot      6    126"
      ]
     },
     "execution_count": 49,
     "metadata": {},
     "output_type": "execute_result"
    }
   ],
   "source": [
    "stats = pd.merge(all_correct_year_irr_noNass_count, all_correct_year_irr_noNass_Acr, \n",
    "                 on=[\"Irrigtn\"], how='left')\n",
    "stats.head(2)"
   ]
  },
  {
   "cell_type": "code",
   "execution_count": 50,
   "metadata": {},
   "outputs": [],
   "source": [
    "out_name = output_dir + \"rill_wheel_stat_allFields_justIrrType.csv\"\n",
    "stats.to_csv(out_name, index = False)"
   ]
  },
  {
   "cell_type": "code",
   "execution_count": null,
   "metadata": {},
   "outputs": [],
   "source": [
    "del(all_correct_year_irr_noNass_Acr, \n",
    "    all_correct_year_irr_noNass_count, \n",
    "    all_fields_correct_year_irr,\n",
    "    all_fields_irr, all_fields_correct_year_irr_noNass, stats)"
   ]
  },
  {
   "cell_type": "code",
   "execution_count": null,
   "metadata": {},
   "outputs": [],
   "source": []
  },
  {
   "cell_type": "markdown",
   "metadata": {},
   "source": [
    "# Do the same for the damn 6000 training set"
   ]
  },
  {
   "cell_type": "code",
   "execution_count": 78,
   "metadata": {},
   "outputs": [],
   "source": [
    "adir = \"/Users/hn/Documents/01_research_data/NASA/parameters/\"\n",
    "fucking_train = pd.read_csv(adir + \"evaluation_set.csv\")"
   ]
  },
  {
   "cell_type": "code",
   "execution_count": 79,
   "metadata": {},
   "outputs": [
    {
     "data": {
      "text/html": [
       "<div>\n",
       "<style scoped>\n",
       "    .dataframe tbody tr th:only-of-type {\n",
       "        vertical-align: middle;\n",
       "    }\n",
       "\n",
       "    .dataframe tbody tr th {\n",
       "        vertical-align: top;\n",
       "    }\n",
       "\n",
       "    .dataframe thead th {\n",
       "        text-align: right;\n",
       "    }\n",
       "</style>\n",
       "<table border=\"1\" class=\"dataframe\">\n",
       "  <thead>\n",
       "    <tr style=\"text-align: right;\">\n",
       "      <th></th>\n",
       "      <th>Irrigtn</th>\n",
       "      <th>Acres</th>\n",
       "      <th>county</th>\n",
       "    </tr>\n",
       "  </thead>\n",
       "  <tbody>\n",
       "    <tr>\n",
       "      <th>0</th>\n",
       "      <td>center pivot</td>\n",
       "      <td>34</td>\n",
       "      <td>Grant</td>\n",
       "    </tr>\n",
       "    <tr>\n",
       "      <th>1</th>\n",
       "      <td>center pivot</td>\n",
       "      <td>62</td>\n",
       "      <td>Grant</td>\n",
       "    </tr>\n",
       "  </tbody>\n",
       "</table>\n",
       "</div>"
      ],
      "text/plain": [
       "        Irrigtn  Acres county\n",
       "0  center pivot     34  Grant\n",
       "1  center pivot     62  Grant"
      ]
     },
     "execution_count": 79,
     "metadata": {},
     "output_type": "execute_result"
    }
   ],
   "source": [
    "fucking_train.drop(labels=['ID', \"ExctAcr\", \"LstSrvD\", \"DataSrc\", \"CropTyp\"], \n",
    "                   axis=\"columns\", \n",
    "                   inplace=True)\n",
    "fucking_train.head(2)"
   ]
  },
  {
   "cell_type": "code",
   "execution_count": 80,
   "metadata": {},
   "outputs": [
    {
     "data": {
      "text/html": [
       "<div>\n",
       "<style scoped>\n",
       "    .dataframe tbody tr th:only-of-type {\n",
       "        vertical-align: middle;\n",
       "    }\n",
       "\n",
       "    .dataframe tbody tr th {\n",
       "        vertical-align: top;\n",
       "    }\n",
       "\n",
       "    .dataframe thead th {\n",
       "        text-align: right;\n",
       "    }\n",
       "</style>\n",
       "<table border=\"1\" class=\"dataframe\">\n",
       "  <thead>\n",
       "    <tr style=\"text-align: right;\">\n",
       "      <th></th>\n",
       "      <th>county</th>\n",
       "      <th>Irrigtn</th>\n",
       "      <th>count</th>\n",
       "    </tr>\n",
       "  </thead>\n",
       "  <tbody>\n",
       "    <tr>\n",
       "      <th>0</th>\n",
       "      <td>Adams</td>\n",
       "      <td>big gun</td>\n",
       "      <td>4</td>\n",
       "    </tr>\n",
       "    <tr>\n",
       "      <th>1</th>\n",
       "      <td>Adams</td>\n",
       "      <td>center pivot</td>\n",
       "      <td>332</td>\n",
       "    </tr>\n",
       "  </tbody>\n",
       "</table>\n",
       "</div>"
      ],
      "text/plain": [
       "  county       Irrigtn  count\n",
       "0  Adams       big gun      4\n",
       "1  Adams  center pivot    332"
      ]
     },
     "execution_count": 80,
     "metadata": {},
     "output_type": "execute_result"
    }
   ],
   "source": [
    "fucking_train_count = fucking_train.groupby(['county', 'Irrigtn']).count()\n",
    "fucking_train_count.reset_index(inplace=True)\n",
    "fucking_train_count.sort_values(by=['county', 'Irrigtn'], inplace=True)\n",
    "fucking_train_count.rename(columns={\"Acres\": \"count\"}, inplace=True)\n",
    "fucking_train_count.head(2)"
   ]
  },
  {
   "cell_type": "code",
   "execution_count": 81,
   "metadata": {},
   "outputs": [
    {
     "data": {
      "text/html": [
       "<div>\n",
       "<style scoped>\n",
       "    .dataframe tbody tr th:only-of-type {\n",
       "        vertical-align: middle;\n",
       "    }\n",
       "\n",
       "    .dataframe tbody tr th {\n",
       "        vertical-align: top;\n",
       "    }\n",
       "\n",
       "    .dataframe thead th {\n",
       "        text-align: right;\n",
       "    }\n",
       "</style>\n",
       "<table border=\"1\" class=\"dataframe\">\n",
       "  <thead>\n",
       "    <tr style=\"text-align: right;\">\n",
       "      <th></th>\n",
       "      <th>county</th>\n",
       "      <th>Irrigtn</th>\n",
       "      <th>Acres</th>\n",
       "    </tr>\n",
       "  </thead>\n",
       "  <tbody>\n",
       "    <tr>\n",
       "      <th>0</th>\n",
       "      <td>Adams</td>\n",
       "      <td>big gun</td>\n",
       "      <td>70</td>\n",
       "    </tr>\n",
       "    <tr>\n",
       "      <th>1</th>\n",
       "      <td>Adams</td>\n",
       "      <td>center pivot</td>\n",
       "      <td>24223</td>\n",
       "    </tr>\n",
       "  </tbody>\n",
       "</table>\n",
       "</div>"
      ],
      "text/plain": [
       "  county       Irrigtn  Acres\n",
       "0  Adams       big gun     70\n",
       "1  Adams  center pivot  24223"
      ]
     },
     "execution_count": 81,
     "metadata": {},
     "output_type": "execute_result"
    }
   ],
   "source": [
    "fucking_train_Acr = fucking_train.groupby(['county', 'Irrigtn']).sum()\n",
    "fucking_train_Acr.reset_index(inplace=True)\n",
    "fucking_train_Acr.sort_values(by=['county', 'Irrigtn'], inplace=True)\n",
    "fucking_train_Acr.head(2)"
   ]
  },
  {
   "cell_type": "code",
   "execution_count": 82,
   "metadata": {},
   "outputs": [
    {
     "data": {
      "text/html": [
       "<div>\n",
       "<style scoped>\n",
       "    .dataframe tbody tr th:only-of-type {\n",
       "        vertical-align: middle;\n",
       "    }\n",
       "\n",
       "    .dataframe tbody tr th {\n",
       "        vertical-align: top;\n",
       "    }\n",
       "\n",
       "    .dataframe thead th {\n",
       "        text-align: right;\n",
       "    }\n",
       "</style>\n",
       "<table border=\"1\" class=\"dataframe\">\n",
       "  <thead>\n",
       "    <tr style=\"text-align: right;\">\n",
       "      <th></th>\n",
       "      <th>county</th>\n",
       "      <th>Irrigtn</th>\n",
       "      <th>count</th>\n",
       "      <th>Acres</th>\n",
       "    </tr>\n",
       "  </thead>\n",
       "  <tbody>\n",
       "    <tr>\n",
       "      <th>0</th>\n",
       "      <td>Adams</td>\n",
       "      <td>big gun</td>\n",
       "      <td>4</td>\n",
       "      <td>70</td>\n",
       "    </tr>\n",
       "    <tr>\n",
       "      <th>1</th>\n",
       "      <td>Adams</td>\n",
       "      <td>center pivot</td>\n",
       "      <td>332</td>\n",
       "      <td>24223</td>\n",
       "    </tr>\n",
       "  </tbody>\n",
       "</table>\n",
       "</div>"
      ],
      "text/plain": [
       "  county       Irrigtn  count  Acres\n",
       "0  Adams       big gun      4     70\n",
       "1  Adams  center pivot    332  24223"
      ]
     },
     "execution_count": 82,
     "metadata": {},
     "output_type": "execute_result"
    }
   ],
   "source": [
    "stats = pd.merge(fucking_train_count, fucking_train_Acr, on=['county', \"Irrigtn\"], how='left')\n",
    "stats.head(2)"
   ]
  },
  {
   "cell_type": "code",
   "execution_count": 83,
   "metadata": {},
   "outputs": [],
   "source": [
    "out_name = output_dir + \"rill_wheel_stat_trainSet_CountyIrrType.csv\"\n",
    "stats.to_csv(out_name, index = False)\n",
    "del(stats)"
   ]
  },
  {
   "cell_type": "markdown",
   "metadata": {},
   "source": [
    "# No county here"
   ]
  },
  {
   "cell_type": "code",
   "execution_count": 84,
   "metadata": {},
   "outputs": [
    {
     "data": {
      "text/html": [
       "<div>\n",
       "<style scoped>\n",
       "    .dataframe tbody tr th:only-of-type {\n",
       "        vertical-align: middle;\n",
       "    }\n",
       "\n",
       "    .dataframe tbody tr th {\n",
       "        vertical-align: top;\n",
       "    }\n",
       "\n",
       "    .dataframe thead th {\n",
       "        text-align: right;\n",
       "    }\n",
       "</style>\n",
       "<table border=\"1\" class=\"dataframe\">\n",
       "  <thead>\n",
       "    <tr style=\"text-align: right;\">\n",
       "      <th></th>\n",
       "      <th>Irrigtn</th>\n",
       "      <th>count</th>\n",
       "    </tr>\n",
       "  </thead>\n",
       "  <tbody>\n",
       "    <tr>\n",
       "      <th>0</th>\n",
       "      <td>big gun</td>\n",
       "      <td>32</td>\n",
       "    </tr>\n",
       "    <tr>\n",
       "      <th>1</th>\n",
       "      <td>big gun/sprinkler</td>\n",
       "      <td>4</td>\n",
       "    </tr>\n",
       "  </tbody>\n",
       "</table>\n",
       "</div>"
      ],
      "text/plain": [
       "             Irrigtn  count\n",
       "0            big gun     32\n",
       "1  big gun/sprinkler      4"
      ]
     },
     "execution_count": 84,
     "metadata": {},
     "output_type": "execute_result"
    }
   ],
   "source": [
    "fucking_train_count = fucking_train.groupby(['Irrigtn']).count()\n",
    "fucking_train_count.reset_index(inplace=True)\n",
    "fucking_train_count.sort_values(by=['Irrigtn'], inplace=True)\n",
    "fucking_train_count.drop(labels=[\"county\"], axis=\"columns\", inplace=True)\n",
    "\n",
    "fucking_train_count.rename(columns={\"Acres\": \"count\"}, inplace=True)\n",
    "fucking_train_count.head(2)"
   ]
  },
  {
   "cell_type": "code",
   "execution_count": 85,
   "metadata": {},
   "outputs": [
    {
     "data": {
      "text/html": [
       "<div>\n",
       "<style scoped>\n",
       "    .dataframe tbody tr th:only-of-type {\n",
       "        vertical-align: middle;\n",
       "    }\n",
       "\n",
       "    .dataframe tbody tr th {\n",
       "        vertical-align: top;\n",
       "    }\n",
       "\n",
       "    .dataframe thead th {\n",
       "        text-align: right;\n",
       "    }\n",
       "</style>\n",
       "<table border=\"1\" class=\"dataframe\">\n",
       "  <thead>\n",
       "    <tr style=\"text-align: right;\">\n",
       "      <th></th>\n",
       "      <th>Irrigtn</th>\n",
       "      <th>Acres</th>\n",
       "    </tr>\n",
       "  </thead>\n",
       "  <tbody>\n",
       "    <tr>\n",
       "      <th>0</th>\n",
       "      <td>big gun</td>\n",
       "      <td>664</td>\n",
       "    </tr>\n",
       "    <tr>\n",
       "      <th>1</th>\n",
       "      <td>big gun/sprinkler</td>\n",
       "      <td>79</td>\n",
       "    </tr>\n",
       "  </tbody>\n",
       "</table>\n",
       "</div>"
      ],
      "text/plain": [
       "             Irrigtn  Acres\n",
       "0            big gun    664\n",
       "1  big gun/sprinkler     79"
      ]
     },
     "execution_count": 85,
     "metadata": {},
     "output_type": "execute_result"
    }
   ],
   "source": [
    "fucking_train_Acr = fucking_train.groupby(['Irrigtn']).sum()\n",
    "fucking_train_Acr.reset_index(inplace=True)\n",
    "fucking_train_Acr.sort_values(by=['Irrigtn'], inplace=True)\n",
    "fucking_train_Acr.head(2)"
   ]
  },
  {
   "cell_type": "code",
   "execution_count": 86,
   "metadata": {},
   "outputs": [
    {
     "data": {
      "text/html": [
       "<div>\n",
       "<style scoped>\n",
       "    .dataframe tbody tr th:only-of-type {\n",
       "        vertical-align: middle;\n",
       "    }\n",
       "\n",
       "    .dataframe tbody tr th {\n",
       "        vertical-align: top;\n",
       "    }\n",
       "\n",
       "    .dataframe thead th {\n",
       "        text-align: right;\n",
       "    }\n",
       "</style>\n",
       "<table border=\"1\" class=\"dataframe\">\n",
       "  <thead>\n",
       "    <tr style=\"text-align: right;\">\n",
       "      <th></th>\n",
       "      <th>Irrigtn</th>\n",
       "      <th>count</th>\n",
       "      <th>Acres</th>\n",
       "    </tr>\n",
       "  </thead>\n",
       "  <tbody>\n",
       "    <tr>\n",
       "      <th>0</th>\n",
       "      <td>big gun</td>\n",
       "      <td>32</td>\n",
       "      <td>664</td>\n",
       "    </tr>\n",
       "    <tr>\n",
       "      <th>1</th>\n",
       "      <td>big gun/sprinkler</td>\n",
       "      <td>4</td>\n",
       "      <td>79</td>\n",
       "    </tr>\n",
       "  </tbody>\n",
       "</table>\n",
       "</div>"
      ],
      "text/plain": [
       "             Irrigtn  count  Acres\n",
       "0            big gun     32    664\n",
       "1  big gun/sprinkler      4     79"
      ]
     },
     "execution_count": 86,
     "metadata": {},
     "output_type": "execute_result"
    }
   ],
   "source": [
    "stats = pd.merge(fucking_train_count, fucking_train_Acr, on=[\"Irrigtn\"], how='left')\n",
    "stats.head(2)"
   ]
  },
  {
   "cell_type": "code",
   "execution_count": 87,
   "metadata": {},
   "outputs": [],
   "source": [
    "out_name = output_dir + \"rill_wheel_stat_trainSet_JustIrrType.csv\"\n",
    "stats.to_csv(out_name, index = False)"
   ]
  },
  {
   "cell_type": "code",
   "execution_count": null,
   "metadata": {},
   "outputs": [],
   "source": []
  },
  {
   "cell_type": "code",
   "execution_count": 104,
   "metadata": {},
   "outputs": [],
   "source": [
    "del(fucking_train_count, fucking_train_Acr, stats)"
   ]
  },
  {
   "cell_type": "markdown",
   "metadata": {},
   "source": [
    "# Do the same fucking shit for 250 experts' fields"
   ]
  },
  {
   "cell_type": "code",
   "execution_count": 109,
   "metadata": {},
   "outputs": [],
   "source": [
    "import pandas as pd\n",
    "import csv\n",
    "\n",
    "import os, os.path\n",
    "import sys\n",
    "\n",
    "# to move files from one directory to another\n",
    "import shutil"
   ]
  },
  {
   "cell_type": "code",
   "execution_count": 110,
   "metadata": {},
   "outputs": [
    {
     "name": "stdout",
     "output_type": "stream",
     "text": [
      "['extended_1', 'extended_2', 'extended_3', 'extended_4', 'extended_5', 'extended_6']\n"
     ]
    }
   ],
   "source": [
    "perry_dir = \"/Users/hn/Documents/01_research_data/NASA/Perry_and_Co/\"\n",
    "\n",
    "choices_set_1_xl = pd.ExcelFile(perry_dir + \"set1_PerryandCo.xlsx\")\n",
    "choices_set_1_sheet_names = choices_set_1_xl.sheet_names  # see all sheet names\n",
    "print (choices_set_1_sheet_names)\n"
   ]
  },
  {
   "cell_type": "code",
   "execution_count": 111,
   "metadata": {},
   "outputs": [],
   "source": [
    "experts_250 = pd.DataFrame()\n",
    "\n",
    "for a_sheet in choices_set_1_sheet_names:\n",
    "    a_choice_sheet = choices_set_1_xl.parse(a_sheet)\n",
    "    experts_250 = pd.concat([experts_250, a_choice_sheet]).reset_index(drop=True)"
   ]
  },
  {
   "cell_type": "code",
   "execution_count": 112,
   "metadata": {},
   "outputs": [
    {
     "data": {
      "text/html": [
       "<div>\n",
       "<style scoped>\n",
       "    .dataframe tbody tr th:only-of-type {\n",
       "        vertical-align: middle;\n",
       "    }\n",
       "\n",
       "    .dataframe tbody tr th {\n",
       "        vertical-align: top;\n",
       "    }\n",
       "\n",
       "    .dataframe thead th {\n",
       "        text-align: right;\n",
       "    }\n",
       "</style>\n",
       "<table border=\"1\" class=\"dataframe\">\n",
       "  <thead>\n",
       "    <tr style=\"text-align: right;\">\n",
       "      <th></th>\n",
       "      <th>Irrigtn</th>\n",
       "      <th>Acres</th>\n",
       "      <th>county</th>\n",
       "    </tr>\n",
       "  </thead>\n",
       "  <tbody>\n",
       "    <tr>\n",
       "      <th>0</th>\n",
       "      <td>center pivot</td>\n",
       "      <td>117</td>\n",
       "      <td>Benton</td>\n",
       "    </tr>\n",
       "    <tr>\n",
       "      <th>1</th>\n",
       "      <td>center pivot</td>\n",
       "      <td>71</td>\n",
       "      <td>Benton</td>\n",
       "    </tr>\n",
       "  </tbody>\n",
       "</table>\n",
       "</div>"
      ],
      "text/plain": [
       "        Irrigtn  Acres  county\n",
       "0  center pivot    117  Benton\n",
       "1  center pivot     71  Benton"
      ]
     },
     "execution_count": 112,
     "metadata": {},
     "output_type": "execute_result"
    }
   ],
   "source": [
    "experts_250.drop(labels = [\"Question_in_set\", \"Question_overall\", \"ID\", \n",
    "                           \"NDVI_TS_Name\", \"corrected_RGB\", \"TOA_RGB\", \"latitude\",\n",
    "                           \"longitude\", \"CropTyp\", \"DataSrc\", \"ExctAcr\", \"LstSrvD\"],\n",
    "                 axis=\"columns\",\n",
    "                inplace=True)\n",
    "experts_250.head(2)"
   ]
  },
  {
   "cell_type": "code",
   "execution_count": 114,
   "metadata": {},
   "outputs": [
    {
     "name": "stdout",
     "output_type": "stream",
     "text": [
      "  county       Irrigtn  count\n",
      "0  Adams  center pivot     46\n",
      "1  Adams          rill     10\n"
     ]
    },
    {
     "data": {
      "text/html": [
       "<div>\n",
       "<style scoped>\n",
       "    .dataframe tbody tr th:only-of-type {\n",
       "        vertical-align: middle;\n",
       "    }\n",
       "\n",
       "    .dataframe tbody tr th {\n",
       "        vertical-align: top;\n",
       "    }\n",
       "\n",
       "    .dataframe thead th {\n",
       "        text-align: right;\n",
       "    }\n",
       "</style>\n",
       "<table border=\"1\" class=\"dataframe\">\n",
       "  <thead>\n",
       "    <tr style=\"text-align: right;\">\n",
       "      <th></th>\n",
       "      <th>county</th>\n",
       "      <th>Irrigtn</th>\n",
       "      <th>Acres</th>\n",
       "    </tr>\n",
       "  </thead>\n",
       "  <tbody>\n",
       "    <tr>\n",
       "      <th>0</th>\n",
       "      <td>Adams</td>\n",
       "      <td>center pivot</td>\n",
       "      <td>3965</td>\n",
       "    </tr>\n",
       "    <tr>\n",
       "      <th>1</th>\n",
       "      <td>Adams</td>\n",
       "      <td>rill</td>\n",
       "      <td>182</td>\n",
       "    </tr>\n",
       "  </tbody>\n",
       "</table>\n",
       "</div>"
      ],
      "text/plain": [
       "  county       Irrigtn  Acres\n",
       "0  Adams  center pivot   3965\n",
       "1  Adams          rill    182"
      ]
     },
     "execution_count": 114,
     "metadata": {},
     "output_type": "execute_result"
    }
   ],
   "source": [
    "experts_250_count = experts_250.groupby(['county', 'Irrigtn']).count()\n",
    "experts_250_count.reset_index(inplace=True)\n",
    "experts_250_count.sort_values(by=['county', 'Irrigtn'], inplace=True)\n",
    "experts_250_count.rename(columns={\"Acres\": \"count\"}, inplace=True)\n",
    "print (experts_250_count.head(2))\n",
    "\n",
    "experts_250_Acr = experts_250.groupby(['county', 'Irrigtn']).sum()\n",
    "experts_250_Acr.reset_index(inplace=True)\n",
    "experts_250_Acr.sort_values(by=['county', 'Irrigtn'], inplace=True)\n",
    "experts_250_Acr.head(2)"
   ]
  },
  {
   "cell_type": "code",
   "execution_count": 117,
   "metadata": {},
   "outputs": [],
   "source": [
    "stats = pd.merge(experts_250_Acr, experts_250_count, on=[\"county\", \"Irrigtn\"], how='left')\n",
    "\n",
    "out_name = output_dir + \"rill_wheel_stat_expertsSet1_CountyIrrType.csv\"\n",
    "stats.to_csv(out_name, index = False)\n",
    "del(stats)"
   ]
  },
  {
   "cell_type": "code",
   "execution_count": 125,
   "metadata": {},
   "outputs": [
    {
     "name": "stdout",
     "output_type": "stream",
     "text": [
      "                  Irrigtn  count\n",
      "0            center pivot    200\n",
      "1  center pivot/sprinkler      3\n"
     ]
    },
    {
     "data": {
      "text/html": [
       "<div>\n",
       "<style scoped>\n",
       "    .dataframe tbody tr th:only-of-type {\n",
       "        vertical-align: middle;\n",
       "    }\n",
       "\n",
       "    .dataframe tbody tr th {\n",
       "        vertical-align: top;\n",
       "    }\n",
       "\n",
       "    .dataframe thead th {\n",
       "        text-align: right;\n",
       "    }\n",
       "</style>\n",
       "<table border=\"1\" class=\"dataframe\">\n",
       "  <thead>\n",
       "    <tr style=\"text-align: right;\">\n",
       "      <th></th>\n",
       "      <th>Irrigtn</th>\n",
       "      <th>Acres</th>\n",
       "    </tr>\n",
       "  </thead>\n",
       "  <tbody>\n",
       "    <tr>\n",
       "      <th>0</th>\n",
       "      <td>center pivot</td>\n",
       "      <td>13959</td>\n",
       "    </tr>\n",
       "    <tr>\n",
       "      <th>1</th>\n",
       "      <td>center pivot/sprinkler</td>\n",
       "      <td>315</td>\n",
       "    </tr>\n",
       "  </tbody>\n",
       "</table>\n",
       "</div>"
      ],
      "text/plain": [
       "                  Irrigtn  Acres\n",
       "0            center pivot  13959\n",
       "1  center pivot/sprinkler    315"
      ]
     },
     "execution_count": 125,
     "metadata": {},
     "output_type": "execute_result"
    }
   ],
   "source": [
    "experts_250_count = experts_250.groupby(['Irrigtn']).count()\n",
    "experts_250_count.reset_index(inplace=True)\n",
    "experts_250_count.drop(labels=[\"county\"], axis=\"columns\", inplace=True)\n",
    "experts_250_count.sort_values(by=['Irrigtn'], inplace=True)\n",
    "experts_250_count.rename(columns={\"Acres\": \"count\"}, inplace=True)\n",
    "print (experts_250_count.head(2))\n",
    "\n",
    "experts_250_Acr = experts_250.groupby(['Irrigtn']).sum()\n",
    "experts_250_Acr.reset_index(inplace=True)\n",
    "experts_250_Acr.sort_values(by=['Irrigtn'], inplace=True)\n",
    "experts_250_Acr.head(2)\n",
    "\n"
   ]
  },
  {
   "cell_type": "code",
   "execution_count": 127,
   "metadata": {},
   "outputs": [],
   "source": [
    "stats = pd.merge(experts_250_Acr, experts_250_count, on=[\"Irrigtn\"], how='left')\n",
    "\n",
    "out_name = output_dir + \"rill_wheel_stat_expertsSet1_JustIrrType.csv\"\n",
    "stats.to_csv(out_name, index = False)\n",
    "del(stats)"
   ]
  },
  {
   "cell_type": "code",
   "execution_count": null,
   "metadata": {},
   "outputs": [],
   "source": []
  }
 ],
 "metadata": {
  "kernelspec": {
   "display_name": "Python 3 (ipykernel)",
   "language": "python",
   "name": "python3"
  },
  "language_info": {
   "codemirror_mode": {
    "name": "ipython",
    "version": 3
   },
   "file_extension": ".py",
   "mimetype": "text/x-python",
   "name": "python",
   "nbconvert_exporter": "python",
   "pygments_lexer": "ipython3",
   "version": "3.9.7"
  }
 },
 "nbformat": 4,
 "nbformat_minor": 2
}
