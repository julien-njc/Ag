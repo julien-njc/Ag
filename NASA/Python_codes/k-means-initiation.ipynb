{
 "cells": [
  {
   "cell_type": "code",
   "execution_count": null,
   "id": "9af3babb",
   "metadata": {},
   "outputs": [],
   "source": [
    "# initiate the k-means"
   ]
  },
  {
   "cell_type": "code",
   "execution_count": 1,
   "id": "e97c8729",
   "metadata": {},
   "outputs": [],
   "source": [
    "import csv\n",
    "import numpy as np\n",
    "import pandas as pd\n",
    "from math import factorial\n",
    "\n",
    "import datetime\n",
    "from datetime import date\n",
    "import datetime\n",
    "import time\n",
    "\n",
    "import scipy\n",
    "import os, os.path\n",
    "from os import listdir\n",
    "from os.path import isfile, join\n",
    "\n",
    "import re\n",
    "# from pprint import pprint\n",
    "import matplotlib.pyplot as plt\n",
    "import matplotlib.dates as mdates\n",
    "import seaborn as sb\n",
    "\n",
    "import sys\n",
    "\n",
    "\n",
    "# search path for modules\n",
    "# look @ https://stackoverflow.com/questions/67631/how-to-import-a-module-given-the-full-path\n",
    "sys.path.append('/Users/hn/Documents/00_GitHub/Ag/NASA/Python_codes/')\n",
    "import NASA_core as nc\n",
    "import NASA_plot_core as npc"
   ]
  },
  {
   "cell_type": "code",
   "execution_count": 2,
   "id": "3e4f8a7a",
   "metadata": {},
   "outputs": [],
   "source": [
    "size = 20\n",
    "title_FontSize = 10\n",
    "legend_FontSize = 14\n",
    "tick_FontSize = 18\n",
    "label_FontSize = 14\n",
    "\n",
    "params = {'legend.fontsize': 17,\n",
    "          'figure.figsize': (6, 4),\n",
    "          'axes.labelsize': size,\n",
    "          'axes.titlesize': size,\n",
    "          'xtick.labelsize': size * 0.75,\n",
    "          'ytick.labelsize': size * 0.75,\n",
    "          'axes.titlepad': 10}\n",
    "\n",
    "#\n",
    "#  Once set, you cannot change them, unless restart the notebook\n",
    "#\n",
    "plt.rc('font', family = 'Palatino')\n",
    "plt.rcParams['xtick.bottom'] = True\n",
    "plt.rcParams['ytick.left'] = True\n",
    "plt.rcParams['xtick.labelbottom'] = True\n",
    "plt.rcParams['ytick.labelleft'] = True\n",
    "plt.rcParams.update(params)"
   ]
  },
  {
   "cell_type": "code",
   "execution_count": 8,
   "id": "9f47ea48",
   "metadata": {},
   "outputs": [],
   "source": [
    "data_dir = \"/Users/hn/Documents/01_research_data/NASA/data_deBug/05_SG_TS/\""
   ]
  },
  {
   "cell_type": "code",
   "execution_count": 9,
   "id": "161c56f7",
   "metadata": {},
   "outputs": [],
   "source": [
    "df = pd.read_csv(data_dir + \"SG_AdamBenton2016_EVI_JFD.csv\")\n",
    "df['human_system_start_time'] = pd.to_datetime(df['human_system_start_time'])"
   ]
  },
  {
   "cell_type": "code",
   "execution_count": 10,
   "id": "2c0b1597",
   "metadata": {},
   "outputs": [
    {
     "data": {
      "text/html": [
       "<div>\n",
       "<style scoped>\n",
       "    .dataframe tbody tr th:only-of-type {\n",
       "        vertical-align: middle;\n",
       "    }\n",
       "\n",
       "    .dataframe tbody tr th {\n",
       "        vertical-align: top;\n",
       "    }\n",
       "\n",
       "    .dataframe thead th {\n",
       "        text-align: right;\n",
       "    }\n",
       "</style>\n",
       "<table border=\"1\" class=\"dataframe\">\n",
       "  <thead>\n",
       "    <tr style=\"text-align: right;\">\n",
       "      <th></th>\n",
       "      <th>ID</th>\n",
       "      <th>human_system_start_time</th>\n",
       "      <th>EVI</th>\n",
       "    </tr>\n",
       "  </thead>\n",
       "  <tbody>\n",
       "    <tr>\n",
       "      <th>0</th>\n",
       "      <td>10000_WSDA_SF_2016</td>\n",
       "      <td>2015-01-07</td>\n",
       "      <td>0.139519</td>\n",
       "    </tr>\n",
       "    <tr>\n",
       "      <th>1</th>\n",
       "      <td>10000_WSDA_SF_2016</td>\n",
       "      <td>2015-01-17</td>\n",
       "      <td>0.145918</td>\n",
       "    </tr>\n",
       "  </tbody>\n",
       "</table>\n",
       "</div>"
      ],
      "text/plain": [
       "                   ID human_system_start_time       EVI\n",
       "0  10000_WSDA_SF_2016              2015-01-07  0.139519\n",
       "1  10000_WSDA_SF_2016              2015-01-17  0.145918"
      ]
     },
     "execution_count": 10,
     "metadata": {},
     "output_type": "execute_result"
    }
   ],
   "source": [
    "df.head(2)"
   ]
  },
  {
   "cell_type": "markdown",
   "id": "02e4939a",
   "metadata": {},
   "source": [
    "# Harmonize the x-values!!!\n",
    "\n",
    "In the regularization step we bin the date range by looking at the range of images. Therefore, for a given field\n",
    "we might have a 10-day bin that goes from Jan 1 to Jan 10 and for another field it goes from Jan 8 to Jan 17. Therefore, let us just to assume the dates are the same as opposed to changing the code to fit the damn clustering step! Anyway, we are picking maximum value of a VI in a 10-day window. The date/x-values are not exact anyway!"
   ]
  },
  {
   "cell_type": "code",
   "execution_count": 11,
   "id": "e7e42c8e",
   "metadata": {},
   "outputs": [],
   "source": [
    "fields_IDs = df.ID.unique()"
   ]
  },
  {
   "cell_type": "code",
   "execution_count": 26,
   "id": "1843b680",
   "metadata": {},
   "outputs": [
    {
     "name": "stdout",
     "output_type": "stream",
     "text": [
      "(37, 3)\n"
     ]
    },
    {
     "data": {
      "text/html": [
       "<div>\n",
       "<style scoped>\n",
       "    .dataframe tbody tr th:only-of-type {\n",
       "        vertical-align: middle;\n",
       "    }\n",
       "\n",
       "    .dataframe tbody tr th {\n",
       "        vertical-align: top;\n",
       "    }\n",
       "\n",
       "    .dataframe thead th {\n",
       "        text-align: right;\n",
       "    }\n",
       "</style>\n",
       "<table border=\"1\" class=\"dataframe\">\n",
       "  <thead>\n",
       "    <tr style=\"text-align: right;\">\n",
       "      <th></th>\n",
       "      <th>ID</th>\n",
       "      <th>human_system_start_time</th>\n",
       "      <th>EVI</th>\n",
       "    </tr>\n",
       "  </thead>\n",
       "  <tbody>\n",
       "    <tr>\n",
       "      <th>36</th>\n",
       "      <td>10000_WSDA_SF_2016</td>\n",
       "      <td>2016-01-02</td>\n",
       "      <td>0.140782</td>\n",
       "    </tr>\n",
       "    <tr>\n",
       "      <th>37</th>\n",
       "      <td>10000_WSDA_SF_2016</td>\n",
       "      <td>2016-01-12</td>\n",
       "      <td>0.129974</td>\n",
       "    </tr>\n",
       "  </tbody>\n",
       "</table>\n",
       "</div>"
      ],
      "text/plain": [
       "                    ID human_system_start_time       EVI\n",
       "36  10000_WSDA_SF_2016              2016-01-02  0.140782\n",
       "37  10000_WSDA_SF_2016              2016-01-12  0.129974"
      ]
     },
     "execution_count": 26,
     "metadata": {},
     "output_type": "execute_result"
    }
   ],
   "source": [
    "field_0 = df[df.ID == fields_IDs[0]].copy()\n",
    "field_0 = field_0[field_0['human_system_start_time'].dt.year == 2016].copy()\n",
    "print (field_0.shape)\n",
    "field_0.head(2)"
   ]
  },
  {
   "cell_type": "code",
   "execution_count": null,
   "id": "683f36d2",
   "metadata": {},
   "outputs": [],
   "source": []
  },
  {
   "cell_type": "code",
   "execution_count": 56,
   "id": "08160460",
   "metadata": {},
   "outputs": [
    {
     "name": "stdout",
     "output_type": "stream",
     "text": [
      "(36, 3)\n"
     ]
    }
   ],
   "source": [
    "field_1 = df[df.ID == fields_IDs[20]].copy()\n",
    "field_1 = field_1[field_1['human_system_start_time'].dt.year == 2016].copy()\n",
    "print (field_1.shape)"
   ]
  },
  {
   "cell_type": "code",
   "execution_count": 66,
   "id": "4a6b6c04",
   "metadata": {},
   "outputs": [
    {
     "name": "stdout",
     "output_type": "stream",
     "text": [
      "(37, 3)\n"
     ]
    }
   ],
   "source": [
    "field_1 = df[df.ID == fields_IDs[21]]\n",
    "field_1 = field_1[field_1['human_system_start_time'].dt.year == 2016].copy()\n",
    "print (field_1.shape)"
   ]
  },
  {
   "cell_type": "code",
   "execution_count": 67,
   "id": "8e0b075f",
   "metadata": {},
   "outputs": [
    {
     "name": "stdout",
     "output_type": "stream",
     "text": [
      "(2148882, 3)\n",
      "(2148880, 3)\n"
     ]
    }
   ],
   "source": [
    "print (df.shape)\n",
    "df.drop(field_1.index[35:], inplace=True)\n",
    "print (df.shape)"
   ]
  },
  {
   "cell_type": "code",
   "execution_count": 74,
   "id": "abcc6022",
   "metadata": {},
   "outputs": [
    {
     "name": "stdout",
     "output_type": "stream",
     "text": [
      "it took 0 seconds to run this code.\n"
     ]
    }
   ],
   "source": [
    "print (\"it took {:.0f} seconds to run this code.\".format(0.1234))"
   ]
  },
  {
   "cell_type": "code",
   "execution_count": 75,
   "id": "0db3067a",
   "metadata": {},
   "outputs": [
    {
     "data": {
      "text/plain": [
       "'2008-01-22'"
      ]
     },
     "execution_count": 75,
     "metadata": {},
     "output_type": "execute_result"
    }
   ],
   "source": [
    "a = 1201026676960 / 1000\n",
    "time.strftime('%Y-%m-%d', time.localtime(a))"
   ]
  },
  {
   "cell_type": "code",
   "execution_count": null,
   "id": "4eefb5f5",
   "metadata": {},
   "outputs": [],
   "source": []
  }
 ],
 "metadata": {
  "kernelspec": {
   "display_name": "Python 3",
   "language": "python",
   "name": "python3"
  },
  "language_info": {
   "codemirror_mode": {
    "name": "ipython",
    "version": 3
   },
   "file_extension": ".py",
   "mimetype": "text/x-python",
   "name": "python",
   "nbconvert_exporter": "python",
   "pygments_lexer": "ipython3",
   "version": "3.8.8"
  }
 },
 "nbformat": 4,
 "nbformat_minor": 5
}
