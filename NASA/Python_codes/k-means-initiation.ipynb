{
 "cells": [
  {
   "cell_type": "code",
   "execution_count": null,
   "id": "05e7cbee",
   "metadata": {},
   "outputs": [],
   "source": [
    "# initiate the k-means"
   ]
  },
  {
   "cell_type": "code",
   "execution_count": 1,
   "id": "4a5b39b1",
   "metadata": {},
   "outputs": [],
   "source": [
    "import csv\n",
    "import numpy as np\n",
    "import pandas as pd\n",
    "from math import factorial\n",
    "\n",
    "import datetime\n",
    "from datetime import date\n",
    "import datetime\n",
    "import time\n",
    "\n",
    "import scipy\n",
    "import os, os.path\n",
    "from os import listdir\n",
    "from os.path import isfile, join\n",
    "\n",
    "import re\n",
    "# from pprint import pprint\n",
    "import matplotlib.pyplot as plt\n",
    "import matplotlib.dates as mdates\n",
    "import seaborn as sb\n",
    "\n",
    "import sys\n",
    "\n",
    "\n",
    "# search path for modules\n",
    "# look @ https://stackoverflow.com/questions/67631/how-to-import-a-module-given-the-full-path\n",
    "sys.path.append('/Users/hn/Documents/00_GitHub/Ag/NASA/Python_codes/')\n",
    "import NASA_core as nc\n",
    "import NASA_plot_core as npc"
   ]
  },
  {
   "cell_type": "code",
   "execution_count": 2,
   "id": "5c5432b9",
   "metadata": {},
   "outputs": [],
   "source": [
    "size = 20\n",
    "title_FontSize = 10\n",
    "legend_FontSize = 14\n",
    "tick_FontSize = 18\n",
    "label_FontSize = 14\n",
    "\n",
    "params = {'legend.fontsize': 17,\n",
    "          'figure.figsize': (6, 4),\n",
    "          'axes.labelsize': size,\n",
    "          'axes.titlesize': size,\n",
    "          'xtick.labelsize': size * 0.75,\n",
    "          'ytick.labelsize': size * 0.75,\n",
    "          'axes.titlepad': 10}\n",
    "\n",
    "#\n",
    "#  Once set, you cannot change them, unless restart the notebook\n",
    "#\n",
    "plt.rc('font', family = 'Palatino')\n",
    "plt.rcParams['xtick.bottom'] = True\n",
    "plt.rcParams['ytick.left'] = True\n",
    "plt.rcParams['xtick.labelbottom'] = True\n",
    "plt.rcParams['ytick.labelleft'] = True\n",
    "plt.rcParams.update(params)"
   ]
  },
  {
   "cell_type": "code",
   "execution_count": 8,
   "id": "53f778d6",
   "metadata": {},
   "outputs": [],
   "source": [
    "data_dir = \"/Users/hn/Documents/01_research_data/NASA/data_deBug/05_SG_TS/\""
   ]
  },
  {
   "cell_type": "code",
   "execution_count": 9,
   "id": "d9479318",
   "metadata": {},
   "outputs": [],
   "source": [
    "df = pd.read_csv(data_dir + \"SG_AdamBenton2016_EVI_JFD.csv\")\n",
    "df['human_system_start_time'] = pd.to_datetime(df['human_system_start_time'])"
   ]
  },
  {
   "cell_type": "code",
   "execution_count": 10,
   "id": "b9e8bba8",
   "metadata": {},
   "outputs": [
    {
     "data": {
      "text/html": [
       "<div>\n",
       "<style scoped>\n",
       "    .dataframe tbody tr th:only-of-type {\n",
       "        vertical-align: middle;\n",
       "    }\n",
       "\n",
       "    .dataframe tbody tr th {\n",
       "        vertical-align: top;\n",
       "    }\n",
       "\n",
       "    .dataframe thead th {\n",
       "        text-align: right;\n",
       "    }\n",
       "</style>\n",
       "<table border=\"1\" class=\"dataframe\">\n",
       "  <thead>\n",
       "    <tr style=\"text-align: right;\">\n",
       "      <th></th>\n",
       "      <th>ID</th>\n",
       "      <th>human_system_start_time</th>\n",
       "      <th>EVI</th>\n",
       "    </tr>\n",
       "  </thead>\n",
       "  <tbody>\n",
       "    <tr>\n",
       "      <th>0</th>\n",
       "      <td>10000_WSDA_SF_2016</td>\n",
       "      <td>2015-01-07</td>\n",
       "      <td>0.139519</td>\n",
       "    </tr>\n",
       "    <tr>\n",
       "      <th>1</th>\n",
       "      <td>10000_WSDA_SF_2016</td>\n",
       "      <td>2015-01-17</td>\n",
       "      <td>0.145918</td>\n",
       "    </tr>\n",
       "  </tbody>\n",
       "</table>\n",
       "</div>"
      ],
      "text/plain": [
       "                   ID human_system_start_time       EVI\n",
       "0  10000_WSDA_SF_2016              2015-01-07  0.139519\n",
       "1  10000_WSDA_SF_2016              2015-01-17  0.145918"
      ]
     },
     "execution_count": 10,
     "metadata": {},
     "output_type": "execute_result"
    }
   ],
   "source": [
    "df.head(2)"
   ]
  },
  {
   "cell_type": "markdown",
   "id": "0d3266fc",
   "metadata": {},
   "source": [
    "# Harmonize the x-values!!!\n",
    "\n",
    "In the regularization step we bin the date range by looking at the range of images. Therefore, for a given field\n",
    "we might have a 10-day bin that goes from Jan 1 to Jan 10 and for another field it goes from Jan 8 to Jan 17. Therefore, let us just to assume the dates are the same as opposed to changing the code to fit the damn clustering step! Anyway, we are picking maximum value of a VI in a 10-day window. The date/x-values are not exact anyway!"
   ]
  },
  {
   "cell_type": "code",
   "execution_count": 11,
   "id": "16e25b41",
   "metadata": {},
   "outputs": [],
   "source": [
    "fields_IDs = df.ID.unique()"
   ]
  },
  {
   "cell_type": "code",
   "execution_count": 26,
   "id": "9dc14be2",
   "metadata": {},
   "outputs": [
    {
     "name": "stdout",
     "output_type": "stream",
     "text": [
      "(37, 3)\n"
     ]
    },
    {
     "data": {
      "text/html": [
       "<div>\n",
       "<style scoped>\n",
       "    .dataframe tbody tr th:only-of-type {\n",
       "        vertical-align: middle;\n",
       "    }\n",
       "\n",
       "    .dataframe tbody tr th {\n",
       "        vertical-align: top;\n",
       "    }\n",
       "\n",
       "    .dataframe thead th {\n",
       "        text-align: right;\n",
       "    }\n",
       "</style>\n",
       "<table border=\"1\" class=\"dataframe\">\n",
       "  <thead>\n",
       "    <tr style=\"text-align: right;\">\n",
       "      <th></th>\n",
       "      <th>ID</th>\n",
       "      <th>human_system_start_time</th>\n",
       "      <th>EVI</th>\n",
       "    </tr>\n",
       "  </thead>\n",
       "  <tbody>\n",
       "    <tr>\n",
       "      <th>36</th>\n",
       "      <td>10000_WSDA_SF_2016</td>\n",
       "      <td>2016-01-02</td>\n",
       "      <td>0.140782</td>\n",
       "    </tr>\n",
       "    <tr>\n",
       "      <th>37</th>\n",
       "      <td>10000_WSDA_SF_2016</td>\n",
       "      <td>2016-01-12</td>\n",
       "      <td>0.129974</td>\n",
       "    </tr>\n",
       "  </tbody>\n",
       "</table>\n",
       "</div>"
      ],
      "text/plain": [
       "                    ID human_system_start_time       EVI\n",
       "36  10000_WSDA_SF_2016              2016-01-02  0.140782\n",
       "37  10000_WSDA_SF_2016              2016-01-12  0.129974"
      ]
     },
     "execution_count": 26,
     "metadata": {},
     "output_type": "execute_result"
    }
   ],
   "source": [
    "field_0 = df[df.ID == fields_IDs[0]].copy()\n",
    "field_0 = field_0[field_0['human_system_start_time'].dt.year == 2016].copy()\n",
    "print (field_0.shape)\n",
    "field_0.head(2)"
   ]
  },
  {
   "cell_type": "code",
   "execution_count": null,
   "id": "dd4fbc43",
   "metadata": {},
   "outputs": [],
   "source": []
  },
  {
   "cell_type": "code",
   "execution_count": 56,
   "id": "4ba3b599",
   "metadata": {},
   "outputs": [
    {
     "name": "stdout",
     "output_type": "stream",
     "text": [
      "(36, 3)\n"
     ]
    }
   ],
   "source": [
    "field_1 = df[df.ID == fields_IDs[20]].copy()\n",
    "field_1 = field_1[field_1['human_system_start_time'].dt.year == 2016].copy()\n",
    "print (field_1.shape)"
   ]
  },
  {
   "cell_type": "code",
   "execution_count": 66,
   "id": "50767f56",
   "metadata": {},
   "outputs": [
    {
     "name": "stdout",
     "output_type": "stream",
     "text": [
      "(37, 3)\n"
     ]
    }
   ],
   "source": [
    "field_1 = df[df.ID == fields_IDs[21]]\n",
    "field_1 = field_1[field_1['human_system_start_time'].dt.year == 2016].copy()\n",
    "print (field_1.shape)"
   ]
  },
  {
   "cell_type": "code",
   "execution_count": 67,
   "id": "026b5237",
   "metadata": {},
   "outputs": [
    {
     "name": "stdout",
     "output_type": "stream",
     "text": [
      "(2148882, 3)\n",
      "(2148880, 3)\n"
     ]
    }
   ],
   "source": [
    "print (df.shape)\n",
    "df.drop(field_1.index[35:], inplace=True)\n",
    "print (df.shape)"
   ]
  },
  {
   "cell_type": "code",
   "execution_count": 74,
   "id": "e44e63e6",
   "metadata": {},
   "outputs": [
    {
     "name": "stdout",
     "output_type": "stream",
     "text": [
      "it took 0 seconds to run this code.\n"
     ]
    }
   ],
   "source": [
    "print (\"it took {:.0f} seconds to run this code.\".format(0.1234))"
   ]
  },
  {
   "cell_type": "code",
   "execution_count": 75,
   "id": "5e69f602",
   "metadata": {},
   "outputs": [
    {
     "data": {
      "text/plain": [
       "'2008-01-22'"
      ]
     },
     "execution_count": 75,
     "metadata": {},
     "output_type": "execute_result"
    }
   ],
   "source": [
    "a = 1201026676960 / 1000\n",
    "time.strftime('%Y-%m-%d', time.localtime(a))"
   ]
  },
  {
   "cell_type": "code",
   "execution_count": 109,
   "id": "0879410e",
   "metadata": {},
   "outputs": [
    {
     "data": {
      "text/html": [
       "<div>\n",
       "<style scoped>\n",
       "    .dataframe tbody tr th:only-of-type {\n",
       "        vertical-align: middle;\n",
       "    }\n",
       "\n",
       "    .dataframe tbody tr th {\n",
       "        vertical-align: top;\n",
       "    }\n",
       "\n",
       "    .dataframe thead th {\n",
       "        text-align: right;\n",
       "    }\n",
       "</style>\n",
       "<table border=\"1\" class=\"dataframe\">\n",
       "  <thead>\n",
       "    <tr style=\"text-align: right;\">\n",
       "      <th></th>\n",
       "      <th>county</th>\n",
       "      <th>CropTyp</th>\n",
       "      <th>year</th>\n",
       "      <th>season_count</th>\n",
       "      <th>threshold</th>\n",
       "      <th>ExctAcr</th>\n",
       "    </tr>\n",
       "  </thead>\n",
       "  <tbody>\n",
       "    <tr>\n",
       "      <th>0</th>\n",
       "      <td>Adams</td>\n",
       "      <td>alfalfa hay</td>\n",
       "      <td>2016</td>\n",
       "      <td>1</td>\n",
       "      <td>0.3</td>\n",
       "      <td>12958.262339</td>\n",
       "    </tr>\n",
       "    <tr>\n",
       "      <th>1</th>\n",
       "      <td>Adams</td>\n",
       "      <td>alfalfa hay</td>\n",
       "      <td>2016</td>\n",
       "      <td>2</td>\n",
       "      <td>0.3</td>\n",
       "      <td>1466.917252</td>\n",
       "    </tr>\n",
       "  </tbody>\n",
       "</table>\n",
       "</div>"
      ],
      "text/plain": [
       "  county      CropTyp  year  season_count  threshold       ExctAcr\n",
       "0  Adams  alfalfa hay  2016             1        0.3  12958.262339\n",
       "1  Adams  alfalfa hay  2016             2        0.3   1466.917252"
      ]
     },
     "execution_count": 109,
     "metadata": {},
     "output_type": "execute_result"
    }
   ],
   "source": [
    "A = pd.read_csv(\"/Users/hn/Documents/01_research_data/NASA/\" + \\\n",
    "                \"VI_TS/07_2crop_acr/doubleAcr_perCounty_perCrop_EVI_JFD.csv\")\n",
    "A.head(2)"
   ]
  },
  {
   "cell_type": "code",
   "execution_count": 111,
   "id": "a2b79241",
   "metadata": {},
   "outputs": [
    {
     "data": {
      "text/html": [
       "<div>\n",
       "<style scoped>\n",
       "    .dataframe tbody tr th:only-of-type {\n",
       "        vertical-align: middle;\n",
       "    }\n",
       "\n",
       "    .dataframe tbody tr th {\n",
       "        vertical-align: top;\n",
       "    }\n",
       "\n",
       "    .dataframe thead th {\n",
       "        text-align: right;\n",
       "    }\n",
       "</style>\n",
       "<table border=\"1\" class=\"dataframe\">\n",
       "  <thead>\n",
       "    <tr style=\"text-align: right;\">\n",
       "      <th></th>\n",
       "      <th>county</th>\n",
       "      <th>CropTyp</th>\n",
       "      <th>year</th>\n",
       "      <th>season_count</th>\n",
       "      <th>threshold</th>\n",
       "      <th>ExctAcr</th>\n",
       "    </tr>\n",
       "  </thead>\n",
       "  <tbody>\n",
       "    <tr>\n",
       "      <th>0</th>\n",
       "      <td>Adams</td>\n",
       "      <td>alfalfa hay</td>\n",
       "      <td>2016</td>\n",
       "      <td>1</td>\n",
       "      <td>0.3</td>\n",
       "      <td>12958.0</td>\n",
       "    </tr>\n",
       "    <tr>\n",
       "      <th>1</th>\n",
       "      <td>Adams</td>\n",
       "      <td>alfalfa hay</td>\n",
       "      <td>2016</td>\n",
       "      <td>2</td>\n",
       "      <td>0.3</td>\n",
       "      <td>1467.0</td>\n",
       "    </tr>\n",
       "  </tbody>\n",
       "</table>\n",
       "</div>"
      ],
      "text/plain": [
       "  county      CropTyp  year  season_count  threshold  ExctAcr\n",
       "0  Adams  alfalfa hay  2016             1        0.3  12958.0\n",
       "1  Adams  alfalfa hay  2016             2        0.3   1467.0"
      ]
     },
     "execution_count": 111,
     "metadata": {},
     "output_type": "execute_result"
    }
   ],
   "source": [
    "A.head(2)"
   ]
  },
  {
   "cell_type": "code",
   "execution_count": 112,
   "id": "6aed45d2",
   "metadata": {},
   "outputs": [
    {
     "data": {
      "text/plain": [
       "(1773, 6)"
      ]
     },
     "execution_count": 112,
     "metadata": {},
     "output_type": "execute_result"
    }
   ],
   "source": [
    "A.shape"
   ]
  },
  {
   "cell_type": "code",
   "execution_count": 114,
   "id": "2676dc67",
   "metadata": {},
   "outputs": [
    {
     "data": {
      "text/plain": [
       "<bound method Series.unique of 0             alfalfa hay\n",
       "1             alfalfa hay\n",
       "2            alfalfa seed\n",
       "3            alfalfa seed\n",
       "4       alfalfa/grass hay\n",
       "              ...        \n",
       "1768               walnut\n",
       "1769                wheat\n",
       "1770                wheat\n",
       "1771         wheat fallow\n",
       "1772        wildlife feed\n",
       "Name: CropTyp, Length: 1773, dtype: object>"
      ]
     },
     "execution_count": 114,
     "metadata": {},
     "output_type": "execute_result"
    }
   ],
   "source": [
    "A.CropTyp.unique"
   ]
  },
  {
   "cell_type": "code",
   "execution_count": 115,
   "id": "3845886e",
   "metadata": {},
   "outputs": [],
   "source": [
    "B = A[A.CropTyp != \"alfalfa hay\"]"
   ]
  },
  {
   "cell_type": "code",
   "execution_count": 117,
   "id": "62edc45e",
   "metadata": {},
   "outputs": [
    {
     "data": {
      "text/plain": [
       "<bound method Series.unique of 2            alfalfa seed\n",
       "3            alfalfa seed\n",
       "4       alfalfa/grass hay\n",
       "5                   apple\n",
       "6               asparagus\n",
       "              ...        \n",
       "1768               walnut\n",
       "1769                wheat\n",
       "1770                wheat\n",
       "1771         wheat fallow\n",
       "1772        wildlife feed\n",
       "Name: CropTyp, Length: 1737, dtype: object>"
      ]
     },
     "execution_count": 117,
     "metadata": {},
     "output_type": "execute_result"
    }
   ],
   "source": [
    "B.CropTyp.unique"
   ]
  },
  {
   "cell_type": "code",
   "execution_count": null,
   "id": "cda7ce7b",
   "metadata": {},
   "outputs": [],
   "source": []
  }
 ],
 "metadata": {
  "kernelspec": {
   "display_name": "Python 3",
   "language": "python",
   "name": "python3"
  },
  "language_info": {
   "codemirror_mode": {
    "name": "ipython",
    "version": 3
   },
   "file_extension": ".py",
   "mimetype": "text/x-python",
   "name": "python",
   "nbconvert_exporter": "python",
   "pygments_lexer": "ipython3",
   "version": "3.8.8"
  }
 },
 "nbformat": 4,
 "nbformat_minor": 5
}
