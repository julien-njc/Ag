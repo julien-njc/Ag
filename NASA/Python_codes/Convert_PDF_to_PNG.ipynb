{
 "cells": [
  {
   "cell_type": "code",
   "execution_count": 1,
   "id": "b30f68f2",
   "metadata": {},
   "outputs": [],
   "source": [
    "import pdf2image\n",
    "from pdf2image import convert_from_path\n",
    "import os\n",
    "# conda install -c conda-forge poppler\n",
    "# pip install poppler-utils # did not run. Above line worked"
   ]
  },
  {
   "cell_type": "code",
   "execution_count": 2,
   "id": "2b7a7a70",
   "metadata": {},
   "outputs": [],
   "source": [
    "# curr_path = \"/Users/hn/Documents/01_research_data/NASA/snapshots/TS/06_snapshot_plots_exactEval/alfalfa_grass_hay/\"\n",
    "# f_name = \"36848_WSDA_SF_2018_46.5590659_-120.74566841_corrected.pdf\"\n",
    "# image = convert_from_path(curr_path + f_name, dpi=50, poppler_path=None)\n",
    "\n",
    "# output_dir = \"/Users/hn/Documents/Adobe/\"\n",
    "# image[0].save(f'/{pdf_path}{f_name[0:-4]}.png')"
   ]
  },
  {
   "cell_type": "code",
   "execution_count": 3,
   "id": "e362287c",
   "metadata": {},
   "outputs": [],
   "source": [
    "main = \"/Users/hn/Documents/01_research_data/NASA/snapshots/TS/\"\n",
    "\n",
    "main_in = main + \"06_snapshot_plots_exactEval/\"\n",
    "main_out = main + \"06_snapshot_plots_exactEval_PNG/\""
   ]
  },
  {
   "cell_type": "code",
   "execution_count": null,
   "id": "b1b02d7a",
   "metadata": {},
   "outputs": [],
   "source": [
    "sub_folders = []\n",
    "for dir, sub_dirs, files in os.walk(main_in):\n",
    "    sub_folders.extend(sub_dirs)\n",
    "\n",
    "for a_subdir in sub_folders:\n",
    "    curr_in = main_in + a_subdir + \"/\"\n",
    "    curr_out = main_out + a_subdir + \"/\"\n",
    "    os.makedirs(curr_out, exist_ok=True)\n",
    "    \n",
    "    PDF_fiels = [x for x in os.listdir(curr_in) if x.endswith(\".pdf\")]\n",
    "    for a_pdf_file in PDF_fiels:\n",
    "        if \"corrected\" in a_pdf_file or \"TOA\" in a_pdf_file:\n",
    "            image = convert_from_path(curr_in + a_pdf_file, dpi=50)\n",
    "            image[0].save(f'/{curr_out}{a_pdf_file[0:-4]}.png')\n",
    "        else:\n",
    "            image = convert_from_path(curr_in + a_pdf_file, dpi=100)\n",
    "            image[0].save(f'/{curr_out}{a_pdf_file[0:-4]}.png')"
   ]
  },
  {
   "cell_type": "code",
   "execution_count": null,
   "id": "db3a1e0f",
   "metadata": {},
   "outputs": [],
   "source": []
  },
  {
   "cell_type": "code",
   "execution_count": null,
   "id": "445dee31",
   "metadata": {},
   "outputs": [],
   "source": [
    "# import numpy as np\n",
    "# len(np.sort(os.listdir(main_in)))"
   ]
  },
  {
   "cell_type": "code",
   "execution_count": null,
   "id": "e3924379",
   "metadata": {},
   "outputs": [],
   "source": [
    "# from glob import glob\n",
    "# sub_dirs = glob(main_in + \"*/\", recursive = True)\n",
    "# sub_dirs"
   ]
  },
  {
   "cell_type": "code",
   "execution_count": null,
   "id": "cc7dc492",
   "metadata": {},
   "outputs": [],
   "source": [
    "# print (np.sort(sub_folders))\n",
    "# print (np.sort(sub_dirs))"
   ]
  },
  {
   "cell_type": "markdown",
   "id": "892a10ce",
   "metadata": {},
   "source": [
    "# Flat"
   ]
  },
  {
   "cell_type": "code",
   "execution_count": 4,
   "id": "19b27639",
   "metadata": {},
   "outputs": [],
   "source": [
    "main_in = main + \"06_snapshot_flat/\"\n",
    "main_out = main + \"06_snapshot_flat_PNG/\""
   ]
  },
  {
   "cell_type": "code",
   "execution_count": 5,
   "id": "203958f1",
   "metadata": {},
   "outputs": [],
   "source": [
    "PDF_fiels = [x for x in os.listdir(main_in) if x.endswith(\".pdf\")]\n",
    "for a_pdf_file in PDF_fiels:\n",
    "    if \"corrected\" in a_pdf_file or \"TOA\" in a_pdf_file:\n",
    "        image = convert_from_path(main_in + a_pdf_file, dpi=50)\n",
    "        image[0].save(f'/{main_out}{a_pdf_file[0:-4]}.png')\n",
    "    else:\n",
    "        image = convert_from_path(main_in + a_pdf_file, dpi=100)\n",
    "        image[0].save(f'/{main_out}{a_pdf_file[0:-4]}.png')\n",
    "    "
   ]
  },
  {
   "cell_type": "code",
   "execution_count": null,
   "id": "3cfc9ccc",
   "metadata": {},
   "outputs": [],
   "source": []
  },
  {
   "cell_type": "code",
   "execution_count": null,
   "id": "347515a6",
   "metadata": {},
   "outputs": [],
   "source": []
  },
  {
   "cell_type": "code",
   "execution_count": null,
   "id": "88f207cd",
   "metadata": {},
   "outputs": [],
   "source": []
  }
 ],
 "metadata": {
  "kernelspec": {
   "display_name": "Python 3 (ipykernel)",
   "language": "python",
   "name": "python3"
  },
  "language_info": {
   "codemirror_mode": {
    "name": "ipython",
    "version": 3
   },
   "file_extension": ".py",
   "mimetype": "text/x-python",
   "name": "python",
   "nbconvert_exporter": "python",
   "pygments_lexer": "ipython3",
   "version": "3.9.7"
  }
 },
 "nbformat": 4,
 "nbformat_minor": 5
}
