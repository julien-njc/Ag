{
 "cells": [
  {
   "cell_type": "markdown",
   "metadata": {
    "colab_type": "text",
    "id": "r8zJPd_vu_vE"
   },
   "source": [
    "# Do everything in Python. not Images of EE\n",
    "[https://github.com/renelikestacos/Google-Earth-Engine-Python-Examples/blob/master/005_EE_Proba-V_NDVI_Time-Series_Analysis.ipynb](https://github.com/renelikestacos/Google-Earth-Engine-Python-Examples/blob/master/005_EE_Proba-V_NDVI_Time-Series_Analysis.ipynb)\n",
    "\n",
    "    1. Get the Red and NIR bands\n",
    "    2. Compute NDVI\n",
    "    3. Form pandas dataframe\n",
    "    4. Carry on\n",
    "\n",
    "However, this example is done for one point. We have to deal with space and time."
   ]
  },
  {
   "cell_type": "markdown",
   "metadata": {
    "colab_type": "text",
    "id": "kwHl-GAMvmwf"
   },
   "source": [
    "# Read shapefiles and use them to get images off EE."
   ]
  },
  {
   "cell_type": "code",
   "execution_count": 1,
   "metadata": {
    "colab": {
     "base_uri": "https://localhost:8080/",
     "height": 171
    },
    "colab_type": "code",
    "executionInfo": {
     "elapsed": 42477,
     "status": "ok",
     "timestamp": 1579721505466,
     "user": {
      "displayName": "Hossein Noorazar",
      "photoUrl": "https://lh3.googleusercontent.com/a-/AAuE7mCD51X50VG0jXrChn3oUAWabpFgjnI_rX3bygPwilU=s64",
      "userId": "07953809792932992694"
     },
     "user_tz": 480
    },
    "id": "bSmRSD1XvDzP",
    "outputId": "721433a1-e6b4-4387-d3af-6733e578c502"
   },
   "outputs": [
    {
     "ename": "AttributeError",
     "evalue": "module 'ee' has no attribute 'Authenticate'",
     "output_type": "error",
     "traceback": [
      "\u001b[0;31m---------------------------------------------------------------------------\u001b[0m",
      "\u001b[0;31mAttributeError\u001b[0m                            Traceback (most recent call last)",
      "\u001b[0;32m<ipython-input-1-bfbeabf94e64>\u001b[0m in \u001b[0;36m<module>\u001b[0;34m\u001b[0m\n\u001b[1;32m      1\u001b[0m \u001b[0;32mimport\u001b[0m \u001b[0mee\u001b[0m\u001b[0;34m\u001b[0m\u001b[0;34m\u001b[0m\u001b[0m\n\u001b[0;32m----> 2\u001b[0;31m \u001b[0mee\u001b[0m\u001b[0;34m.\u001b[0m\u001b[0mAuthenticate\u001b[0m\u001b[0;34m(\u001b[0m\u001b[0;34m)\u001b[0m\u001b[0;34m\u001b[0m\u001b[0;34m\u001b[0m\u001b[0m\n\u001b[0m",
      "\u001b[0;31mAttributeError\u001b[0m: module 'ee' has no attribute 'Authenticate'"
     ]
    }
   ],
   "source": [
    "import ee\n",
    "ee.Authenticate()"
   ]
  },
  {
   "cell_type": "code",
   "execution_count": 2,
   "metadata": {
    "colab": {},
    "colab_type": "code",
    "id": "WbmJF5N0vIMx"
   },
   "outputs": [
    {
     "ename": "AttributeError",
     "evalue": "module 'ee' has no attribute 'Initialize'",
     "output_type": "error",
     "traceback": [
      "\u001b[0;31m---------------------------------------------------------------------------\u001b[0m",
      "\u001b[0;31mAttributeError\u001b[0m                            Traceback (most recent call last)",
      "\u001b[0;32m<ipython-input-2-4ecfc9e86281>\u001b[0m in \u001b[0;36m<module>\u001b[0;34m\u001b[0m\n\u001b[1;32m      1\u001b[0m \u001b[0;31m# Initialize the library.\u001b[0m\u001b[0;34m\u001b[0m\u001b[0;34m\u001b[0m\u001b[0;34m\u001b[0m\u001b[0m\n\u001b[0;32m----> 2\u001b[0;31m \u001b[0mee\u001b[0m\u001b[0;34m.\u001b[0m\u001b[0mInitialize\u001b[0m\u001b[0;34m(\u001b[0m\u001b[0;34m)\u001b[0m\u001b[0;34m\u001b[0m\u001b[0;34m\u001b[0m\u001b[0m\n\u001b[0m",
      "\u001b[0;31mAttributeError\u001b[0m: module 'ee' has no attribute 'Initialize'"
     ]
    }
   ],
   "source": [
    "# Initialize the library.\n",
    "ee.Initialize()"
   ]
  },
  {
   "cell_type": "code",
   "execution_count": 3,
   "metadata": {
    "colab": {
     "base_uri": "https://localhost:8080/",
     "height": 457
    },
    "colab_type": "code",
    "executionInfo": {
     "elapsed": 9305,
     "status": "ok",
     "timestamp": 1579721519484,
     "user": {
      "displayName": "Hossein Noorazar",
      "photoUrl": "https://lh3.googleusercontent.com/a-/AAuE7mCD51X50VG0jXrChn3oUAWabpFgjnI_rX3bygPwilU=s64",
      "userId": "07953809792932992694"
     },
     "user_tz": 480
    },
    "id": "U8i9Zlw_vT-1",
    "outputId": "cc445b0a-1539-4bc9-93f9-88ec074bee83"
   },
   "outputs": [
    {
     "name": "stdout",
     "output_type": "stream",
     "text": [
      "Requirement already satisfied: geopandas in /Users/hn/opt/anaconda3/lib/python3.8/site-packages (0.9.0)\n",
      "Requirement already satisfied: pandas>=0.24.0 in /Users/hn/opt/anaconda3/lib/python3.8/site-packages (from geopandas) (1.2.4)\n",
      "Requirement already satisfied: shapely>=1.6 in /Users/hn/opt/anaconda3/lib/python3.8/site-packages (from geopandas) (1.7.1)\n",
      "Requirement already satisfied: pyproj>=2.2.0 in /Users/hn/opt/anaconda3/lib/python3.8/site-packages (from geopandas) (3.1.0)\n",
      "Requirement already satisfied: fiona>=1.8 in /Users/hn/opt/anaconda3/lib/python3.8/site-packages (from geopandas) (1.8.20)\n",
      "Requirement already satisfied: click>=4.0 in /Users/hn/opt/anaconda3/lib/python3.8/site-packages (from fiona>=1.8->geopandas) (7.1.2)\n",
      "Requirement already satisfied: setuptools in /Users/hn/opt/anaconda3/lib/python3.8/site-packages (from fiona>=1.8->geopandas) (52.0.0.post20210125)\n",
      "Requirement already satisfied: munch in /Users/hn/opt/anaconda3/lib/python3.8/site-packages (from fiona>=1.8->geopandas) (2.5.0)\n",
      "Requirement already satisfied: attrs>=17 in /Users/hn/opt/anaconda3/lib/python3.8/site-packages (from fiona>=1.8->geopandas) (20.3.0)\n",
      "Requirement already satisfied: certifi in /Users/hn/opt/anaconda3/lib/python3.8/site-packages (from fiona>=1.8->geopandas) (2021.10.8)\n",
      "Requirement already satisfied: click-plugins>=1.0 in /Users/hn/opt/anaconda3/lib/python3.8/site-packages (from fiona>=1.8->geopandas) (1.1.1)\n",
      "Requirement already satisfied: six>=1.7 in /Users/hn/opt/anaconda3/lib/python3.8/site-packages (from fiona>=1.8->geopandas) (1.15.0)\n",
      "Requirement already satisfied: cligj>=0.5 in /Users/hn/opt/anaconda3/lib/python3.8/site-packages (from fiona>=1.8->geopandas) (0.7.2)\n",
      "Requirement already satisfied: python-dateutil>=2.7.3 in /Users/hn/opt/anaconda3/lib/python3.8/site-packages (from pandas>=0.24.0->geopandas) (2.8.1)\n",
      "Requirement already satisfied: pytz>=2017.3 in /Users/hn/opt/anaconda3/lib/python3.8/site-packages (from pandas>=0.24.0->geopandas) (2021.1)\n",
      "Requirement already satisfied: numpy>=1.16.5 in /Users/hn/opt/anaconda3/lib/python3.8/site-packages (from pandas>=0.24.0->geopandas) (1.20.1)\n"
     ]
    }
   ],
   "source": [
    "!pip install geopandas"
   ]
  },
  {
   "cell_type": "code",
   "execution_count": 0,
   "metadata": {
    "colab": {
     "base_uri": "https://localhost:8080/",
     "height": 34
    },
    "colab_type": "code",
    "executionInfo": {
     "elapsed": 442,
     "status": "ok",
     "timestamp": 1579722349010,
     "user": {
      "displayName": "Hossein Noorazar",
      "photoUrl": "https://lh3.googleusercontent.com/a-/AAuE7mCD51X50VG0jXrChn3oUAWabpFgjnI_rX3bygPwilU=s64",
      "userId": "07953809792932992694"
     },
     "user_tz": 480
    },
    "id": "w7KxuM40vUzK",
    "outputId": "16afa72a-5f90-4539-b58d-7c750babcbc7"
   },
   "outputs": [
    {
     "name": "stdout",
     "output_type": "stream",
     "text": [
      "Folium version: 0.8.3\n"
     ]
    }
   ],
   "source": [
    "# Import libraries\n",
    "\n",
    "from IPython.display import Image\n",
    "import ee\n",
    "from pylab import *\n",
    "import seaborn as sns\n",
    "from matplotlib.pylab import rcParams\n",
    "from statsmodels.tsa.seasonal import seasonal_decompose\n",
    "\n",
    "\n",
    "import numpy as np\n",
    "import tensorflow as tp\n",
    "from IPython.display import Image\n",
    "import folium\n",
    "import matplotlib.pyplot as plt\n",
    "\n",
    "import pandas as pd\n",
    "import geopandas as gpd\n",
    "import datetime\n",
    "import time\n",
    "from shapely.geometry import Point, Polygon\n",
    "import folium\n",
    "\n",
    "# Define the URL format used for Earth Engine generated map tiles.\n",
    "EE_TILES = 'https://earthengine.googleapis.com/map/{mapid}/{{z}}/{{x}}/{{y}}?token={token}'\n",
    "\n",
    "print('Folium version: ' + folium.__version__)"
   ]
  },
  {
   "cell_type": "markdown",
   "metadata": {
    "colab_type": "text",
    "id": "EcVNrM6mvaZ-"
   },
   "source": [
    "# Load Proba-V image collection and point geometry\n",
    "\n",
    "Selected Location of point is from the Proba-V Footprint X18Y02 in Luxembourg, Europe."
   ]
  },
  {
   "cell_type": "code",
   "execution_count": 0,
   "metadata": {
    "colab": {},
    "colab_type": "code",
    "id": "Ia5GDZ1Rvgcg"
   },
   "outputs": [],
   "source": [
    "# Set start and end date\n",
    "startTime = datetime.datetime(2015, 1, 1)\n",
    "endTime = datetime.datetime(2017, 12, 31)\n",
    "\n",
    "# Create image collection\n",
    "collection = ee.ImageCollection('VITO/PROBAV/C1/S1_TOC_100M').filterDate(startTime, endTime)\n",
    "\n",
    "# Create point in Luxembourg (Proba-V Footprint: X18Y02)\n",
    "point = {'type':'Point', 'coordinates':[6.134136, 49.612485]};"
   ]
  },
  {
   "cell_type": "code",
   "execution_count": 0,
   "metadata": {
    "colab": {},
    "colab_type": "code",
    "id": "t5tqOW5_1adI"
   },
   "outputs": [],
   "source": [
    "rr = collection.getRegion(point,500)"
   ]
  },
  {
   "cell_type": "code",
   "execution_count": 0,
   "metadata": {
    "colab": {},
    "colab_type": "code",
    "id": "lmtPK-xx1pp_"
   },
   "outputs": [],
   "source": []
  },
  {
   "cell_type": "markdown",
   "metadata": {
    "colab_type": "text",
    "id": "VenERR9tvg1l"
   },
   "source": [
    "\n",
    "# Retrieve information, reshape and calculate NDVI\n",
    "\n",
    "Retrieving information from point geometry with a buffer of 500m over image collection. Reshaping data and calculating NDVI from RED and NIR band."
   ]
  },
  {
   "cell_type": "code",
   "execution_count": 0,
   "metadata": {
    "colab": {},
    "colab_type": "code",
    "id": "WzguxAPDvzZa"
   },
   "outputs": [],
   "source": [
    "info = collection.getRegion(point,500).getInfo()"
   ]
  },
  {
   "cell_type": "code",
   "execution_count": 0,
   "metadata": {
    "colab": {
     "base_uri": "https://localhost:8080/",
     "height": 54
    },
    "colab_type": "code",
    "executionInfo": {
     "elapsed": 473,
     "status": "ok",
     "timestamp": 1579723221174,
     "user": {
      "displayName": "Hossein Noorazar",
      "photoUrl": "https://lh3.googleusercontent.com/a-/AAuE7mCD51X50VG0jXrChn3oUAWabpFgjnI_rX3bygPwilU=s64",
      "userId": "07953809792932992694"
     },
     "user_tz": 480
    },
    "id": "iYUnzK07v14n",
    "outputId": "139fb1a7-5c4a-43f9-950b-40679d4c9979"
   },
   "outputs": [
    {
     "data": {
      "text/plain": [
       "['id', 'longitude', 'latitude', 'time', 'RED', 'NIR', 'BLUE', 'SWIR', 'NDVI', 'SZA', 'SAA', 'SWIRVAA', 'SWIRVZA', 'VNIRVAA', 'VNIRVZA', 'SM', 'TIME']"
      ]
     },
     "execution_count": 72,
     "metadata": {
      "tags": []
     },
     "output_type": "execute_result"
    }
   ],
   "source": [
    "info[0]"
   ]
  },
  {
   "cell_type": "code",
   "execution_count": 0,
   "metadata": {
    "colab": {},
    "colab_type": "code",
    "id": "3CCCcfSWx3x8"
   },
   "outputs": [],
   "source": []
  },
  {
   "cell_type": "code",
   "execution_count": 0,
   "metadata": {
    "colab": {},
    "colab_type": "code",
    "id": "bmjsKYYJyJg6"
   },
   "outputs": [],
   "source": [
    "# Reshape image collection \n",
    "header = info[0]\n",
    "data = array(info[1:])\n",
    "\n",
    "iTime = header.index('time')\n",
    "time = [datetime.datetime.fromtimestamp(i/1000) for i in (data[0:, iTime].astype(int))]\n",
    "\n",
    "# List of used image bands\n",
    "band_list = ['RED', 'NIR']\n",
    "\n",
    "iBands = [header.index(b) for b in band_list]\n",
    "yData = data[0:, iBands].astype(np.float)\n",
    "\n",
    "# Calculate NDVI\n",
    "red = yData[:,0]\n",
    "nir = yData[:,1]\n",
    "ndvi = (nir - red) / (nir + red)"
   ]
  },
  {
   "cell_type": "markdown",
   "metadata": {
    "colab_type": "text",
    "id": "pLv6LdSNyKXh"
   },
   "source": [
    "# Reshape NDVI array into Pandas Dataframe"
   ]
  },
  {
   "cell_type": "code",
   "execution_count": 0,
   "metadata": {
    "colab": {},
    "colab_type": "code",
    "id": "I-79gwSSyME4"
   },
   "outputs": [],
   "source": [
    "df = pd.DataFrame(data=ndvi, index=list(range(len(ndvi))), columns=['NDVI'])\n",
    "df = df.interpolate()\n",
    "df['Date'] = pd.Series(time, index=df.index)\n",
    "df = df.set_index(df.Date)\n",
    "df.index = pd.to_datetime(df.index)\n",
    "df['NDVI']=df['NDVI'].fillna(0)"
   ]
  },
  {
   "cell_type": "code",
   "execution_count": 0,
   "metadata": {
    "colab": {
     "base_uri": "https://localhost:8080/",
     "height": 34
    },
    "colab_type": "code",
    "executionInfo": {
     "elapsed": 391,
     "status": "ok",
     "timestamp": 1579722835507,
     "user": {
      "displayName": "Hossein Noorazar",
      "photoUrl": "https://lh3.googleusercontent.com/a-/AAuE7mCD51X50VG0jXrChn3oUAWabpFgjnI_rX3bygPwilU=s64",
      "userId": "07953809792932992694"
     },
     "user_tz": 480
    },
    "id": "Klg7TKWMzzI0",
    "outputId": "8168d23d-618f-412a-b335-3e5f072098e4"
   },
   "outputs": [
    {
     "data": {
      "text/plain": [
       "(1089,)"
      ]
     },
     "execution_count": 61,
     "metadata": {
      "tags": []
     },
     "output_type": "execute_result"
    }
   ],
   "source": [
    "ndvi.shape"
   ]
  },
  {
   "cell_type": "code",
   "execution_count": 0,
   "metadata": {
    "colab": {
     "base_uri": "https://localhost:8080/",
     "height": 34
    },
    "colab_type": "code",
    "executionInfo": {
     "elapsed": 494,
     "status": "ok",
     "timestamp": 1579722843409,
     "user": {
      "displayName": "Hossein Noorazar",
      "photoUrl": "https://lh3.googleusercontent.com/a-/AAuE7mCD51X50VG0jXrChn3oUAWabpFgjnI_rX3bygPwilU=s64",
      "userId": "07953809792932992694"
     },
     "user_tz": 480
    },
    "id": "gsxbj7Fx0KFn",
    "outputId": "450fd071-d661-40d6-f4c2-5ff8321253ca"
   },
   "outputs": [
    {
     "data": {
      "text/plain": [
       "(1089, 2)"
      ]
     },
     "execution_count": 63,
     "metadata": {
      "tags": []
     },
     "output_type": "execute_result"
    }
   ],
   "source": [
    "df.shape"
   ]
  },
  {
   "cell_type": "code",
   "execution_count": 0,
   "metadata": {
    "colab": {
     "base_uri": "https://localhost:8080/",
     "height": 225
    },
    "colab_type": "code",
    "executionInfo": {
     "elapsed": 1003,
     "status": "ok",
     "timestamp": 1579722865921,
     "user": {
      "displayName": "Hossein Noorazar",
      "photoUrl": "https://lh3.googleusercontent.com/a-/AAuE7mCD51X50VG0jXrChn3oUAWabpFgjnI_rX3bygPwilU=s64",
      "userId": "07953809792932992694"
     },
     "user_tz": 480
    },
    "id": "IkLhGXIf0ZSZ",
    "outputId": "3787243f-8821-4cbf-bbbd-69bb23b60e8d"
   },
   "outputs": [
    {
     "data": {
      "text/html": [
       "<div>\n",
       "<style scoped>\n",
       "    .dataframe tbody tr th:only-of-type {\n",
       "        vertical-align: middle;\n",
       "    }\n",
       "\n",
       "    .dataframe tbody tr th {\n",
       "        vertical-align: top;\n",
       "    }\n",
       "\n",
       "    .dataframe thead th {\n",
       "        text-align: right;\n",
       "    }\n",
       "</style>\n",
       "<table border=\"1\" class=\"dataframe\">\n",
       "  <thead>\n",
       "    <tr style=\"text-align: right;\">\n",
       "      <th></th>\n",
       "      <th>NDVI</th>\n",
       "      <th>Date</th>\n",
       "    </tr>\n",
       "    <tr>\n",
       "      <th>Date</th>\n",
       "      <th></th>\n",
       "      <th></th>\n",
       "    </tr>\n",
       "  </thead>\n",
       "  <tbody>\n",
       "    <tr>\n",
       "      <th>2015-01-01</th>\n",
       "      <td>0.000000</td>\n",
       "      <td>2015-01-01</td>\n",
       "    </tr>\n",
       "    <tr>\n",
       "      <th>2015-01-02</th>\n",
       "      <td>0.008690</td>\n",
       "      <td>2015-01-02</td>\n",
       "    </tr>\n",
       "    <tr>\n",
       "      <th>2015-01-03</th>\n",
       "      <td>0.022652</td>\n",
       "      <td>2015-01-03</td>\n",
       "    </tr>\n",
       "    <tr>\n",
       "      <th>2015-01-04</th>\n",
       "      <td>0.017543</td>\n",
       "      <td>2015-01-04</td>\n",
       "    </tr>\n",
       "    <tr>\n",
       "      <th>2015-01-05</th>\n",
       "      <td>0.012434</td>\n",
       "      <td>2015-01-05</td>\n",
       "    </tr>\n",
       "  </tbody>\n",
       "</table>\n",
       "</div>"
      ],
      "text/plain": [
       "                NDVI       Date\n",
       "Date                           \n",
       "2015-01-01  0.000000 2015-01-01\n",
       "2015-01-02  0.008690 2015-01-02\n",
       "2015-01-03  0.022652 2015-01-03\n",
       "2015-01-04  0.017543 2015-01-04\n",
       "2015-01-05  0.012434 2015-01-05"
      ]
     },
     "execution_count": 64,
     "metadata": {
      "tags": []
     },
     "output_type": "execute_result"
    }
   ],
   "source": [
    "df.head()"
   ]
  },
  {
   "cell_type": "code",
   "execution_count": 0,
   "metadata": {
    "colab": {},
    "colab_type": "code",
    "id": "Iy3l2avF0fi5"
   },
   "outputs": [],
   "source": []
  }
 ],
 "metadata": {
  "colab": {
   "authorship_tag": "ABX9TyPqtzp9uYY/awnq7XUvyAiu",
   "collapsed_sections": [],
   "name": "everything_in_Python",
   "provenance": []
  },
  "kernelspec": {
   "display_name": "Python 3",
   "language": "python",
   "name": "python3"
  },
  "language_info": {
   "codemirror_mode": {
    "name": "ipython",
    "version": 3
   },
   "file_extension": ".py",
   "mimetype": "text/x-python",
   "name": "python",
   "nbconvert_exporter": "python",
   "pygments_lexer": "ipython3",
   "version": "3.8.8"
  }
 },
 "nbformat": 4,
 "nbformat_minor": 1
}
