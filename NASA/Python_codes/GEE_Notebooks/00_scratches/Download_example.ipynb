{
 "cells": [
  {
   "cell_type": "markdown",
   "metadata": {
    "colab_type": "text",
    "id": "7aiV3yRp0G8v"
   },
   "source": [
    "#Donwload a ImageCollection "
   ]
  },
  {
   "cell_type": "markdown",
   "metadata": {
    "colab_type": "text",
    "id": "9kqCShGhjInR"
   },
   "source": [
    "## 1._ Install libraries"
   ]
  },
  {
   "cell_type": "code",
   "execution_count": 2,
   "metadata": {
    "colab": {},
    "colab_type": "code",
    "id": "H2lJiM_8i_Gw"
   },
   "outputs": [
    {
     "name": "stdout",
     "output_type": "stream",
     "text": [
      "Requirement already satisfied: earthengine-api in /opt/anaconda3/lib/python3.9/site-packages (0.1.290)\n",
      "Requirement already satisfied: google-auth>=1.4.1 in /opt/anaconda3/lib/python3.9/site-packages (from earthengine-api) (1.35.0)\n",
      "Requirement already satisfied: six in /opt/anaconda3/lib/python3.9/site-packages (from earthengine-api) (1.16.0)\n",
      "Requirement already satisfied: httplib2shim in /opt/anaconda3/lib/python3.9/site-packages (from earthengine-api) (0.0.3)\n",
      "Requirement already satisfied: google-cloud-storage in /opt/anaconda3/lib/python3.9/site-packages (from earthengine-api) (1.43.0)\n",
      "Requirement already satisfied: google-api-python-client<2,>=1.12.1 in /opt/anaconda3/lib/python3.9/site-packages (from earthengine-api) (1.12.8)\n",
      "Requirement already satisfied: google-auth-httplib2>=0.0.3 in /opt/anaconda3/lib/python3.9/site-packages (from earthengine-api) (0.1.0)\n",
      "Requirement already satisfied: future in /opt/anaconda3/lib/python3.9/site-packages (from earthengine-api) (0.18.2)\n",
      "Requirement already satisfied: httplib2<1dev,>=0.9.2 in /opt/anaconda3/lib/python3.9/site-packages (from earthengine-api) (0.20.2)\n",
      "Requirement already satisfied: google-api-core<2dev,>=1.21.0 in /opt/anaconda3/lib/python3.9/site-packages (from google-api-python-client<2,>=1.12.1->earthengine-api) (1.31.4)\n",
      "Requirement already satisfied: uritemplate<4dev,>=3.0.0 in /opt/anaconda3/lib/python3.9/site-packages (from google-api-python-client<2,>=1.12.1->earthengine-api) (3.0.1)\n",
      "Requirement already satisfied: setuptools>=40.3.0 in /opt/anaconda3/lib/python3.9/site-packages (from google-api-core<2dev,>=1.21.0->google-api-python-client<2,>=1.12.1->earthengine-api) (58.0.4)\n",
      "Requirement already satisfied: pytz in /opt/anaconda3/lib/python3.9/site-packages (from google-api-core<2dev,>=1.21.0->google-api-python-client<2,>=1.12.1->earthengine-api) (2021.3)\n",
      "Requirement already satisfied: googleapis-common-protos<2.0dev,>=1.6.0 in /opt/anaconda3/lib/python3.9/site-packages (from google-api-core<2dev,>=1.21.0->google-api-python-client<2,>=1.12.1->earthengine-api) (1.53.0)\n",
      "Requirement already satisfied: protobuf>=3.12.0 in /opt/anaconda3/lib/python3.9/site-packages (from google-api-core<2dev,>=1.21.0->google-api-python-client<2,>=1.12.1->earthengine-api) (3.19.1)\n",
      "Requirement already satisfied: requests<3.0.0dev,>=2.18.0 in /opt/anaconda3/lib/python3.9/site-packages (from google-api-core<2dev,>=1.21.0->google-api-python-client<2,>=1.12.1->earthengine-api) (2.26.0)\n",
      "Requirement already satisfied: packaging>=14.3 in /opt/anaconda3/lib/python3.9/site-packages (from google-api-core<2dev,>=1.21.0->google-api-python-client<2,>=1.12.1->earthengine-api) (21.0)\n",
      "Requirement already satisfied: cachetools<5.0,>=2.0.0 in /opt/anaconda3/lib/python3.9/site-packages (from google-auth>=1.4.1->earthengine-api) (4.2.4)\n",
      "Requirement already satisfied: rsa<5,>=3.1.4 in /opt/anaconda3/lib/python3.9/site-packages (from google-auth>=1.4.1->earthengine-api) (4.8)\n",
      "Requirement already satisfied: pyasn1-modules>=0.2.1 in /opt/anaconda3/lib/python3.9/site-packages (from google-auth>=1.4.1->earthengine-api) (0.2.8)\n",
      "Requirement already satisfied: pyparsing!=3.0.0,!=3.0.1,!=3.0.2,!=3.0.3,<4,>=2.4.2 in /opt/anaconda3/lib/python3.9/site-packages (from httplib2<1dev,>=0.9.2->earthengine-api) (3.0.4)\n",
      "Requirement already satisfied: pyasn1<0.5.0,>=0.4.6 in /opt/anaconda3/lib/python3.9/site-packages (from pyasn1-modules>=0.2.1->google-auth>=1.4.1->earthengine-api) (0.4.8)\n",
      "Requirement already satisfied: idna<4,>=2.5 in /opt/anaconda3/lib/python3.9/site-packages (from requests<3.0.0dev,>=2.18.0->google-api-core<2dev,>=1.21.0->google-api-python-client<2,>=1.12.1->earthengine-api) (3.2)\n",
      "Requirement already satisfied: urllib3<1.27,>=1.21.1 in /opt/anaconda3/lib/python3.9/site-packages (from requests<3.0.0dev,>=2.18.0->google-api-core<2dev,>=1.21.0->google-api-python-client<2,>=1.12.1->earthengine-api) (1.26.7)\n",
      "Requirement already satisfied: charset-normalizer~=2.0.0 in /opt/anaconda3/lib/python3.9/site-packages (from requests<3.0.0dev,>=2.18.0->google-api-core<2dev,>=1.21.0->google-api-python-client<2,>=1.12.1->earthengine-api) (2.0.4)\n",
      "Requirement already satisfied: certifi>=2017.4.17 in /opt/anaconda3/lib/python3.9/site-packages (from requests<3.0.0dev,>=2.18.0->google-api-core<2dev,>=1.21.0->google-api-python-client<2,>=1.12.1->earthengine-api) (2021.10.8)\n",
      "Requirement already satisfied: google-resumable-media<3.0dev,>=1.3.0 in /opt/anaconda3/lib/python3.9/site-packages (from google-cloud-storage->earthengine-api) (2.1.0)\n",
      "Requirement already satisfied: google-cloud-core<3.0dev,>=1.6.0 in /opt/anaconda3/lib/python3.9/site-packages (from google-cloud-storage->earthengine-api) (2.2.1)\n",
      "Requirement already satisfied: google-crc32c<2.0dev,>=1.0 in /opt/anaconda3/lib/python3.9/site-packages (from google-resumable-media<3.0dev,>=1.3.0->google-cloud-storage->earthengine-api) (1.3.0)\n",
      "Requirement already satisfied: geemap in /opt/anaconda3/lib/python3.9/site-packages (0.10.0)\n",
      "Requirement already satisfied: pyshp>=2.1.3 in /opt/anaconda3/lib/python3.9/site-packages (from geemap) (2.1.3)\n",
      "Requirement already satisfied: ffmpeg-python in /opt/anaconda3/lib/python3.9/site-packages (from geemap) (0.2.0)\n",
      "Requirement already satisfied: sankee in /opt/anaconda3/lib/python3.9/site-packages (from geemap) (0.0.7)\n",
      "Requirement already satisfied: geojson in /opt/anaconda3/lib/python3.9/site-packages (from geemap) (2.5.0)\n",
      "Requirement already satisfied: pillow in /opt/anaconda3/lib/python3.9/site-packages (from geemap) (8.4.0)\n",
      "Requirement already satisfied: ipyleaflet>=0.14.0 in /opt/anaconda3/lib/python3.9/site-packages (from geemap) (0.14.0)\n",
      "Requirement already satisfied: python-box in /opt/anaconda3/lib/python3.9/site-packages (from geemap) (5.4.1)\n",
      "Requirement already satisfied: matplotlib in /opt/anaconda3/lib/python3.9/site-packages (from geemap) (3.4.3)\n",
      "Requirement already satisfied: geocoder in /opt/anaconda3/lib/python3.9/site-packages (from geemap) (1.38.1)\n",
      "Requirement already satisfied: ipytree in /opt/anaconda3/lib/python3.9/site-packages (from geemap) (0.2.1)\n",
      "Requirement already satisfied: ipynb-py-convert in /opt/anaconda3/lib/python3.9/site-packages (from geemap) (0.4.6)\n",
      "Requirement already satisfied: xyzservices in /opt/anaconda3/lib/python3.9/site-packages (from geemap) (2021.11.0)\n",
      "Requirement already satisfied: earthengine-api>=0.1.230 in /opt/anaconda3/lib/python3.9/site-packages (from geemap) (0.1.290)\n",
      "Requirement already satisfied: colour in /opt/anaconda3/lib/python3.9/site-packages (from geemap) (0.1.5)\n",
      "Requirement already satisfied: voila in /opt/anaconda3/lib/python3.9/site-packages (from geemap) (0.2.16)\n",
      "Requirement already satisfied: jupyterlab>=3 in /opt/anaconda3/lib/python3.9/site-packages (from geemap) (3.2.1)\n",
      "Requirement already satisfied: mss in /opt/anaconda3/lib/python3.9/site-packages (from geemap) (6.1.0)\n",
      "Requirement already satisfied: folium>=0.11.0 in /opt/anaconda3/lib/python3.9/site-packages (from geemap) (0.12.1.post1)\n",
      "Requirement already satisfied: owslib in /opt/anaconda3/lib/python3.9/site-packages (from geemap) (0.25.0)\n",
      "Requirement already satisfied: click in /opt/anaconda3/lib/python3.9/site-packages (from geemap) (8.0.3)\n",
      "Requirement already satisfied: pycrs in /opt/anaconda3/lib/python3.9/site-packages (from geemap) (1.0.2)\n",
      "Requirement already satisfied: ipyevents in /opt/anaconda3/lib/python3.9/site-packages (from geemap) (2.0.1)\n",
      "Requirement already satisfied: pandas in /opt/anaconda3/lib/python3.9/site-packages (from geemap) (1.3.4)\n",
      "Requirement already satisfied: googledrivedownloader in /opt/anaconda3/lib/python3.9/site-packages (from geemap) (0.4)\n",
      "Requirement already satisfied: numpy in /opt/anaconda3/lib/python3.9/site-packages (from geemap) (1.20.3)\n",
      "Requirement already satisfied: geeadd>=0.5.1 in /opt/anaconda3/lib/python3.9/site-packages (from geemap) (0.5.5)\n",
      "Requirement already satisfied: palettable in /opt/anaconda3/lib/python3.9/site-packages (from geemap) (3.3.0)\n",
      "Requirement already satisfied: whiteboxgui>=0.6.0 in /opt/anaconda3/lib/python3.9/site-packages (from geemap) (0.6.0)\n",
      "Requirement already satisfied: bqplot in /opt/anaconda3/lib/python3.9/site-packages (from geemap) (0.12.31)\n",
      "Requirement already satisfied: ipyfilechooser>=0.6.0 in /opt/anaconda3/lib/python3.9/site-packages (from geemap) (0.6.0)\n",
      "Requirement already satisfied: google-auth-httplib2>=0.0.3 in /opt/anaconda3/lib/python3.9/site-packages (from earthengine-api>=0.1.230->geemap) (0.1.0)\n",
      "Requirement already satisfied: httplib2shim in /opt/anaconda3/lib/python3.9/site-packages (from earthengine-api>=0.1.230->geemap) (0.0.3)\n",
      "Requirement already satisfied: six in /opt/anaconda3/lib/python3.9/site-packages (from earthengine-api>=0.1.230->geemap) (1.16.0)\n",
      "Requirement already satisfied: httplib2<1dev,>=0.9.2 in /opt/anaconda3/lib/python3.9/site-packages (from earthengine-api>=0.1.230->geemap) (0.20.2)\n",
      "Requirement already satisfied: google-api-python-client<2,>=1.12.1 in /opt/anaconda3/lib/python3.9/site-packages (from earthengine-api>=0.1.230->geemap) (1.12.8)\n",
      "Requirement already satisfied: google-auth>=1.4.1 in /opt/anaconda3/lib/python3.9/site-packages (from earthengine-api>=0.1.230->geemap) (1.35.0)\n",
      "Requirement already satisfied: google-cloud-storage in /opt/anaconda3/lib/python3.9/site-packages (from earthengine-api>=0.1.230->geemap) (1.43.0)\n",
      "Requirement already satisfied: future in /opt/anaconda3/lib/python3.9/site-packages (from earthengine-api>=0.1.230->geemap) (0.18.2)\n"
     ]
    },
    {
     "name": "stdout",
     "output_type": "stream",
     "text": [
      "Requirement already satisfied: jinja2>=2.9 in /opt/anaconda3/lib/python3.9/site-packages (from folium>=0.11.0->geemap) (2.11.3)\n",
      "Requirement already satisfied: requests in /opt/anaconda3/lib/python3.9/site-packages (from folium>=0.11.0->geemap) (2.26.0)\n",
      "Requirement already satisfied: branca>=0.3.0 in /opt/anaconda3/lib/python3.9/site-packages (from folium>=0.11.0->geemap) (0.4.2)\n",
      "Requirement already satisfied: logzero>=1.5.0 in /opt/anaconda3/lib/python3.9/site-packages (from geeadd>=0.5.1->geemap) (1.7.0)\n",
      "Requirement already satisfied: beautifulsoup4>=4.9.0 in /opt/anaconda3/lib/python3.9/site-packages (from geeadd>=0.5.1->geemap) (4.10.0)\n",
      "Requirement already satisfied: soupsieve>1.2 in /opt/anaconda3/lib/python3.9/site-packages (from beautifulsoup4>=4.9.0->geeadd>=0.5.1->geemap) (2.2.1)\n",
      "Requirement already satisfied: uritemplate<4dev,>=3.0.0 in /opt/anaconda3/lib/python3.9/site-packages (from google-api-python-client<2,>=1.12.1->earthengine-api>=0.1.230->geemap) (3.0.1)\n",
      "Requirement already satisfied: google-api-core<2dev,>=1.21.0 in /opt/anaconda3/lib/python3.9/site-packages (from google-api-python-client<2,>=1.12.1->earthengine-api>=0.1.230->geemap) (1.31.4)\n",
      "Requirement already satisfied: googleapis-common-protos<2.0dev,>=1.6.0 in /opt/anaconda3/lib/python3.9/site-packages (from google-api-core<2dev,>=1.21.0->google-api-python-client<2,>=1.12.1->earthengine-api>=0.1.230->geemap) (1.53.0)\n",
      "Requirement already satisfied: packaging>=14.3 in /opt/anaconda3/lib/python3.9/site-packages (from google-api-core<2dev,>=1.21.0->google-api-python-client<2,>=1.12.1->earthengine-api>=0.1.230->geemap) (21.0)\n",
      "Requirement already satisfied: setuptools>=40.3.0 in /opt/anaconda3/lib/python3.9/site-packages (from google-api-core<2dev,>=1.21.0->google-api-python-client<2,>=1.12.1->earthengine-api>=0.1.230->geemap) (58.0.4)\n",
      "Requirement already satisfied: protobuf>=3.12.0 in /opt/anaconda3/lib/python3.9/site-packages (from google-api-core<2dev,>=1.21.0->google-api-python-client<2,>=1.12.1->earthengine-api>=0.1.230->geemap) (3.19.1)\n",
      "Requirement already satisfied: pytz in /opt/anaconda3/lib/python3.9/site-packages (from google-api-core<2dev,>=1.21.0->google-api-python-client<2,>=1.12.1->earthengine-api>=0.1.230->geemap) (2021.3)\n",
      "Requirement already satisfied: cachetools<5.0,>=2.0.0 in /opt/anaconda3/lib/python3.9/site-packages (from google-auth>=1.4.1->earthengine-api>=0.1.230->geemap) (4.2.4)\n",
      "Requirement already satisfied: pyasn1-modules>=0.2.1 in /opt/anaconda3/lib/python3.9/site-packages (from google-auth>=1.4.1->earthengine-api>=0.1.230->geemap) (0.2.8)\n",
      "Requirement already satisfied: rsa<5,>=3.1.4 in /opt/anaconda3/lib/python3.9/site-packages (from google-auth>=1.4.1->earthengine-api>=0.1.230->geemap) (4.8)\n",
      "Requirement already satisfied: pyparsing!=3.0.0,!=3.0.1,!=3.0.2,!=3.0.3,<4,>=2.4.2 in /opt/anaconda3/lib/python3.9/site-packages (from httplib2<1dev,>=0.9.2->earthengine-api>=0.1.230->geemap) (3.0.4)\n",
      "Requirement already satisfied: ipywidgets in /opt/anaconda3/lib/python3.9/site-packages (from ipyfilechooser>=0.6.0->geemap) (7.6.5)\n",
      "Requirement already satisfied: traittypes<3,>=0.2.1 in /opt/anaconda3/lib/python3.9/site-packages (from ipyleaflet>=0.14.0->geemap) (0.2.1)\n",
      "Requirement already satisfied: nbformat>=4.2.0 in /opt/anaconda3/lib/python3.9/site-packages (from ipywidgets->ipyfilechooser>=0.6.0->geemap) (5.1.3)\n",
      "Requirement already satisfied: jupyterlab-widgets>=1.0.0 in /opt/anaconda3/lib/python3.9/site-packages (from ipywidgets->ipyfilechooser>=0.6.0->geemap) (1.0.0)\n",
      "Requirement already satisfied: ipython>=4.0.0 in /opt/anaconda3/lib/python3.9/site-packages (from ipywidgets->ipyfilechooser>=0.6.0->geemap) (7.29.0)\n",
      "Requirement already satisfied: widgetsnbextension~=3.5.0 in /opt/anaconda3/lib/python3.9/site-packages (from ipywidgets->ipyfilechooser>=0.6.0->geemap) (3.5.1)\n",
      "Requirement already satisfied: ipython-genutils~=0.2.0 in /opt/anaconda3/lib/python3.9/site-packages (from ipywidgets->ipyfilechooser>=0.6.0->geemap) (0.2.0)\n",
      "Requirement already satisfied: traitlets>=4.3.1 in /opt/anaconda3/lib/python3.9/site-packages (from ipywidgets->ipyfilechooser>=0.6.0->geemap) (5.1.0)\n",
      "Requirement already satisfied: ipykernel>=4.5.1 in /opt/anaconda3/lib/python3.9/site-packages (from ipywidgets->ipyfilechooser>=0.6.0->geemap) (6.6.0)\n",
      "Requirement already satisfied: matplotlib-inline<0.2.0,>=0.1.0 in /opt/anaconda3/lib/python3.9/site-packages (from ipykernel>=4.5.1->ipywidgets->ipyfilechooser>=0.6.0->geemap) (0.1.2)\n",
      "Requirement already satisfied: jupyter-client<8.0 in /opt/anaconda3/lib/python3.9/site-packages (from ipykernel>=4.5.1->ipywidgets->ipyfilechooser>=0.6.0->geemap) (6.1.12)\n",
      "Requirement already satisfied: appnope in /opt/anaconda3/lib/python3.9/site-packages (from ipykernel>=4.5.1->ipywidgets->ipyfilechooser>=0.6.0->geemap) (0.1.2)\n",
      "Requirement already satisfied: debugpy<2.0,>=1.0.0 in /opt/anaconda3/lib/python3.9/site-packages (from ipykernel>=4.5.1->ipywidgets->ipyfilechooser>=0.6.0->geemap) (1.4.1)\n",
      "Requirement already satisfied: tornado<7.0,>=4.2 in /opt/anaconda3/lib/python3.9/site-packages (from ipykernel>=4.5.1->ipywidgets->ipyfilechooser>=0.6.0->geemap) (6.1)\n",
      "Requirement already satisfied: prompt-toolkit!=3.0.0,!=3.0.1,<3.1.0,>=2.0.0 in /opt/anaconda3/lib/python3.9/site-packages (from ipython>=4.0.0->ipywidgets->ipyfilechooser>=0.6.0->geemap) (3.0.20)\n",
      "Requirement already satisfied: decorator in /opt/anaconda3/lib/python3.9/site-packages (from ipython>=4.0.0->ipywidgets->ipyfilechooser>=0.6.0->geemap) (5.1.0)\n",
      "Requirement already satisfied: pickleshare in /opt/anaconda3/lib/python3.9/site-packages (from ipython>=4.0.0->ipywidgets->ipyfilechooser>=0.6.0->geemap) (0.7.5)\n",
      "Requirement already satisfied: jedi>=0.16 in /opt/anaconda3/lib/python3.9/site-packages (from ipython>=4.0.0->ipywidgets->ipyfilechooser>=0.6.0->geemap) (0.18.0)\n",
      "Requirement already satisfied: pygments in /opt/anaconda3/lib/python3.9/site-packages (from ipython>=4.0.0->ipywidgets->ipyfilechooser>=0.6.0->geemap) (2.10.0)\n",
      "Requirement already satisfied: pexpect>4.3 in /opt/anaconda3/lib/python3.9/site-packages (from ipython>=4.0.0->ipywidgets->ipyfilechooser>=0.6.0->geemap) (4.8.0)\n",
      "Requirement already satisfied: backcall in /opt/anaconda3/lib/python3.9/site-packages (from ipython>=4.0.0->ipywidgets->ipyfilechooser>=0.6.0->geemap) (0.2.0)\n",
      "Requirement already satisfied: parso<0.9.0,>=0.8.0 in /opt/anaconda3/lib/python3.9/site-packages (from jedi>=0.16->ipython>=4.0.0->ipywidgets->ipyfilechooser>=0.6.0->geemap) (0.8.2)\n",
      "Requirement already satisfied: MarkupSafe>=0.23 in /opt/anaconda3/lib/python3.9/site-packages (from jinja2>=2.9->folium>=0.11.0->geemap) (1.1.1)\n",
      "Requirement already satisfied: jupyter-core>=4.6.0 in /opt/anaconda3/lib/python3.9/site-packages (from jupyter-client<8.0->ipykernel>=4.5.1->ipywidgets->ipyfilechooser>=0.6.0->geemap) (4.8.1)\n",
      "Requirement already satisfied: python-dateutil>=2.1 in /opt/anaconda3/lib/python3.9/site-packages (from jupyter-client<8.0->ipykernel>=4.5.1->ipywidgets->ipyfilechooser>=0.6.0->geemap) (2.8.2)\n",
      "Requirement already satisfied: pyzmq>=13 in /opt/anaconda3/lib/python3.9/site-packages (from jupyter-client<8.0->ipykernel>=4.5.1->ipywidgets->ipyfilechooser>=0.6.0->geemap) (22.2.1)\n",
      "Requirement already satisfied: jupyterlab-server~=2.3 in /opt/anaconda3/lib/python3.9/site-packages (from jupyterlab>=3->geemap) (2.8.2)\n",
      "Requirement already satisfied: nbclassic~=0.2 in /opt/anaconda3/lib/python3.9/site-packages (from jupyterlab>=3->geemap) (0.2.6)\n",
      "Requirement already satisfied: jupyter-server~=1.4 in /opt/anaconda3/lib/python3.9/site-packages (from jupyterlab>=3->geemap) (1.4.1)\n",
      "Requirement already satisfied: prometheus-client in /opt/anaconda3/lib/python3.9/site-packages (from jupyter-server~=1.4->jupyterlab>=3->geemap) (0.11.0)\n",
      "Requirement already satisfied: nbconvert in /opt/anaconda3/lib/python3.9/site-packages (from jupyter-server~=1.4->jupyterlab>=3->geemap) (6.1.0)\n",
      "Requirement already satisfied: Send2Trash in /opt/anaconda3/lib/python3.9/site-packages (from jupyter-server~=1.4->jupyterlab>=3->geemap) (1.8.0)\n",
      "Requirement already satisfied: terminado>=0.8.3 in /opt/anaconda3/lib/python3.9/site-packages (from jupyter-server~=1.4->jupyterlab>=3->geemap) (0.9.4)\n",
      "Requirement already satisfied: anyio>=2.0.2 in /opt/anaconda3/lib/python3.9/site-packages (from jupyter-server~=1.4->jupyterlab>=3->geemap) (2.2.0)\n",
      "Requirement already satisfied: sniffio>=1.1 in /opt/anaconda3/lib/python3.9/site-packages (from anyio>=2.0.2->jupyter-server~=1.4->jupyterlab>=3->geemap) (1.2.0)\n",
      "Requirement already satisfied: idna>=2.8 in /opt/anaconda3/lib/python3.9/site-packages (from anyio>=2.0.2->jupyter-server~=1.4->jupyterlab>=3->geemap) (3.2)\n"
     ]
    },
    {
     "name": "stdout",
     "output_type": "stream",
     "text": [
      "Requirement already satisfied: entrypoints>=0.2.2 in /opt/anaconda3/lib/python3.9/site-packages (from jupyterlab-server~=2.3->jupyterlab>=3->geemap) (0.3)\n",
      "Requirement already satisfied: json5 in /opt/anaconda3/lib/python3.9/site-packages (from jupyterlab-server~=2.3->jupyterlab>=3->geemap) (0.9.6)\n",
      "Requirement already satisfied: babel in /opt/anaconda3/lib/python3.9/site-packages (from jupyterlab-server~=2.3->jupyterlab>=3->geemap) (2.9.1)\n",
      "Requirement already satisfied: jsonschema>=3.0.1 in /opt/anaconda3/lib/python3.9/site-packages (from jupyterlab-server~=2.3->jupyterlab>=3->geemap) (3.2.0)\n",
      "Requirement already satisfied: pyrsistent>=0.14.0 in /opt/anaconda3/lib/python3.9/site-packages (from jsonschema>=3.0.1->jupyterlab-server~=2.3->jupyterlab>=3->geemap) (0.18.0)\n",
      "Requirement already satisfied: attrs>=17.4.0 in /opt/anaconda3/lib/python3.9/site-packages (from jsonschema>=3.0.1->jupyterlab-server~=2.3->jupyterlab>=3->geemap) (21.2.0)\n",
      "Requirement already satisfied: notebook<7 in /opt/anaconda3/lib/python3.9/site-packages (from nbclassic~=0.2->jupyterlab>=3->geemap) (6.4.5)\n",
      "Requirement already satisfied: argon2-cffi in /opt/anaconda3/lib/python3.9/site-packages (from notebook<7->nbclassic~=0.2->jupyterlab>=3->geemap) (20.1.0)\n",
      "Requirement already satisfied: ptyprocess>=0.5 in /opt/anaconda3/lib/python3.9/site-packages (from pexpect>4.3->ipython>=4.0.0->ipywidgets->ipyfilechooser>=0.6.0->geemap) (0.7.0)\n",
      "Requirement already satisfied: wcwidth in /opt/anaconda3/lib/python3.9/site-packages (from prompt-toolkit!=3.0.0,!=3.0.1,<3.1.0,>=2.0.0->ipython>=4.0.0->ipywidgets->ipyfilechooser>=0.6.0->geemap) (0.2.5)\n",
      "Requirement already satisfied: pyasn1<0.5.0,>=0.4.6 in /opt/anaconda3/lib/python3.9/site-packages (from pyasn1-modules>=0.2.1->google-auth>=1.4.1->earthengine-api>=0.1.230->geemap) (0.4.8)\n",
      "Requirement already satisfied: charset-normalizer~=2.0.0 in /opt/anaconda3/lib/python3.9/site-packages (from requests->folium>=0.11.0->geemap) (2.0.4)\n",
      "Requirement already satisfied: urllib3<1.27,>=1.21.1 in /opt/anaconda3/lib/python3.9/site-packages (from requests->folium>=0.11.0->geemap) (1.26.7)\n",
      "Requirement already satisfied: certifi>=2017.4.17 in /opt/anaconda3/lib/python3.9/site-packages (from requests->folium>=0.11.0->geemap) (2021.10.8)\n",
      "Requirement already satisfied: whitebox in /opt/anaconda3/lib/python3.9/site-packages (from whiteboxgui>=0.6.0->geemap) (2.0.3)\n",
      "Requirement already satisfied: cffi>=1.0.0 in /opt/anaconda3/lib/python3.9/site-packages (from argon2-cffi->notebook<7->nbclassic~=0.2->jupyterlab>=3->geemap) (1.14.6)\n",
      "Requirement already satisfied: pycparser in /opt/anaconda3/lib/python3.9/site-packages (from cffi>=1.0.0->argon2-cffi->notebook<7->nbclassic~=0.2->jupyterlab>=3->geemap) (2.20)\n",
      "Requirement already satisfied: ratelim in /opt/anaconda3/lib/python3.9/site-packages (from geocoder->geemap) (0.1.6)\n",
      "Requirement already satisfied: google-cloud-core<3.0dev,>=1.6.0 in /opt/anaconda3/lib/python3.9/site-packages (from google-cloud-storage->earthengine-api>=0.1.230->geemap) (2.2.1)\n",
      "Requirement already satisfied: google-resumable-media<3.0dev,>=1.3.0 in /opt/anaconda3/lib/python3.9/site-packages (from google-cloud-storage->earthengine-api>=0.1.230->geemap) (2.1.0)\n",
      "Requirement already satisfied: google-crc32c<2.0dev,>=1.0 in /opt/anaconda3/lib/python3.9/site-packages (from google-resumable-media<3.0dev,>=1.3.0->google-cloud-storage->earthengine-api>=0.1.230->geemap) (1.3.0)\n",
      "Requirement already satisfied: kiwisolver>=1.0.1 in /opt/anaconda3/lib/python3.9/site-packages (from matplotlib->geemap) (1.3.1)\n",
      "Requirement already satisfied: cycler>=0.10 in /opt/anaconda3/lib/python3.9/site-packages (from matplotlib->geemap) (0.10.0)\n",
      "Requirement already satisfied: bleach in /opt/anaconda3/lib/python3.9/site-packages (from nbconvert->jupyter-server~=1.4->jupyterlab>=3->geemap) (4.0.0)\n",
      "Requirement already satisfied: pandocfilters>=1.4.1 in /opt/anaconda3/lib/python3.9/site-packages (from nbconvert->jupyter-server~=1.4->jupyterlab>=3->geemap) (1.4.3)\n",
      "Requirement already satisfied: jupyterlab-pygments in /opt/anaconda3/lib/python3.9/site-packages (from nbconvert->jupyter-server~=1.4->jupyterlab>=3->geemap) (0.1.2)\n",
      "Requirement already satisfied: testpath in /opt/anaconda3/lib/python3.9/site-packages (from nbconvert->jupyter-server~=1.4->jupyterlab>=3->geemap) (0.5.0)\n",
      "Requirement already satisfied: mistune<2,>=0.8.1 in /opt/anaconda3/lib/python3.9/site-packages (from nbconvert->jupyter-server~=1.4->jupyterlab>=3->geemap) (0.8.4)\n",
      "Requirement already satisfied: nbclient<0.6.0,>=0.5.0 in /opt/anaconda3/lib/python3.9/site-packages (from nbconvert->jupyter-server~=1.4->jupyterlab>=3->geemap) (0.5.3)\n",
      "Requirement already satisfied: defusedxml in /opt/anaconda3/lib/python3.9/site-packages (from nbconvert->jupyter-server~=1.4->jupyterlab>=3->geemap) (0.7.1)\n",
      "Requirement already satisfied: nest-asyncio in /opt/anaconda3/lib/python3.9/site-packages (from nbclient<0.6.0,>=0.5.0->nbconvert->jupyter-server~=1.4->jupyterlab>=3->geemap) (1.5.1)\n",
      "Requirement already satisfied: async-generator in /opt/anaconda3/lib/python3.9/site-packages (from nbclient<0.6.0,>=0.5.0->nbconvert->jupyter-server~=1.4->jupyterlab>=3->geemap) (1.10)\n",
      "Requirement already satisfied: webencodings in /opt/anaconda3/lib/python3.9/site-packages (from bleach->nbconvert->jupyter-server~=1.4->jupyterlab>=3->geemap) (0.5.1)\n",
      "Requirement already satisfied: pyyaml in /opt/anaconda3/lib/python3.9/site-packages (from owslib->geemap) (6.0)\n",
      "Requirement already satisfied: pyproj>=2 in /opt/anaconda3/lib/python3.9/site-packages (from owslib->geemap) (3.3.0)\n",
      "Requirement already satisfied: plotly>=5.2.2 in /opt/anaconda3/lib/python3.9/site-packages (from sankee->geemap) (5.4.0)\n",
      "Requirement already satisfied: tenacity>=6.2.0 in /opt/anaconda3/lib/python3.9/site-packages (from plotly>=5.2.2->sankee->geemap) (8.0.1)\n",
      "Requirement already satisfied: ee in /opt/anaconda3/lib/python3.9/site-packages (0.2)\n",
      "Requirement already satisfied: blessings in /opt/anaconda3/lib/python3.9/site-packages (from ee) (1.7)\n",
      "Requirement already satisfied: six in /opt/anaconda3/lib/python3.9/site-packages (from blessings->ee) (1.16.0)\n"
     ]
    }
   ],
   "source": [
    "!pip3 install earthengine-api;\n",
    "!pip3 install geemap;\n",
    "!pip3 install ee;"
   ]
  },
  {
   "cell_type": "code",
   "execution_count": 5,
   "metadata": {},
   "outputs": [
    {
     "data": {
      "text/plain": [
       "['/Users/hn/Documents/00_GitHub/Ag/NASA/Python_codes/GEE_Notebooks/00_scratches',\n",
       " '/Users/hn/opt/anaconda3/lib/python38.zip',\n",
       " '/Users/hn/opt/anaconda3/lib/python3.8',\n",
       " '/Users/hn/opt/anaconda3/lib/python3.8/lib-dynload',\n",
       " '',\n",
       " '/Users/hn/opt/anaconda3/lib/python3.8/site-packages',\n",
       " '/Users/hn/opt/anaconda3/lib/python3.8/site-packages/aeosa',\n",
       " '/Users/hn/opt/anaconda3/lib/python3.8/site-packages/locket-0.2.1-py3.8.egg',\n",
       " '/Users/hn/opt/anaconda3/lib/python3.8/site-packages/IPython/extensions',\n",
       " '/Users/hn/.ipython']"
      ]
     },
     "execution_count": 5,
     "metadata": {},
     "output_type": "execute_result"
    }
   ],
   "source": [
    "import sys\n",
    "sys.path"
   ]
  },
  {
   "cell_type": "code",
   "execution_count": null,
   "metadata": {},
   "outputs": [],
   "source": []
  },
  {
   "cell_type": "code",
   "execution_count": null,
   "metadata": {},
   "outputs": [],
   "source": []
  },
  {
   "cell_type": "code",
   "execution_count": null,
   "metadata": {},
   "outputs": [],
   "source": []
  },
  {
   "cell_type": "code",
   "execution_count": 3,
   "metadata": {},
   "outputs": [
    {
     "name": "stdout",
     "output_type": "stream",
     "text": [
      "Requirement already satisfied: ipykernel in /opt/anaconda3/lib/python3.9/site-packages (6.6.0)\n",
      "Requirement already satisfied: matplotlib-inline<0.2.0,>=0.1.0 in /opt/anaconda3/lib/python3.9/site-packages (from ipykernel) (0.1.2)\n",
      "Requirement already satisfied: tornado<7.0,>=4.2 in /opt/anaconda3/lib/python3.9/site-packages (from ipykernel) (6.1)\n",
      "Requirement already satisfied: appnope in /opt/anaconda3/lib/python3.9/site-packages (from ipykernel) (0.1.2)\n",
      "Requirement already satisfied: traitlets<6.0,>=5.1.0 in /opt/anaconda3/lib/python3.9/site-packages (from ipykernel) (5.1.0)\n",
      "Requirement already satisfied: debugpy<2.0,>=1.0.0 in /opt/anaconda3/lib/python3.9/site-packages (from ipykernel) (1.4.1)\n",
      "Requirement already satisfied: ipython>=7.23.1 in /opt/anaconda3/lib/python3.9/site-packages (from ipykernel) (7.29.0)\n",
      "Requirement already satisfied: jupyter-client<8.0 in /opt/anaconda3/lib/python3.9/site-packages (from ipykernel) (6.1.12)\n",
      "Requirement already satisfied: setuptools>=18.5 in /opt/anaconda3/lib/python3.9/site-packages (from ipython>=7.23.1->ipykernel) (58.0.4)\n",
      "Requirement already satisfied: pexpect>4.3 in /opt/anaconda3/lib/python3.9/site-packages (from ipython>=7.23.1->ipykernel) (4.8.0)\n",
      "Requirement already satisfied: jedi>=0.16 in /opt/anaconda3/lib/python3.9/site-packages (from ipython>=7.23.1->ipykernel) (0.18.0)\n",
      "Requirement already satisfied: prompt-toolkit!=3.0.0,!=3.0.1,<3.1.0,>=2.0.0 in /opt/anaconda3/lib/python3.9/site-packages (from ipython>=7.23.1->ipykernel) (3.0.20)\n",
      "Requirement already satisfied: decorator in /opt/anaconda3/lib/python3.9/site-packages (from ipython>=7.23.1->ipykernel) (5.1.0)\n",
      "Requirement already satisfied: pickleshare in /opt/anaconda3/lib/python3.9/site-packages (from ipython>=7.23.1->ipykernel) (0.7.5)\n",
      "Requirement already satisfied: backcall in /opt/anaconda3/lib/python3.9/site-packages (from ipython>=7.23.1->ipykernel) (0.2.0)\n",
      "Requirement already satisfied: pygments in /opt/anaconda3/lib/python3.9/site-packages (from ipython>=7.23.1->ipykernel) (2.10.0)\n",
      "Requirement already satisfied: parso<0.9.0,>=0.8.0 in /opt/anaconda3/lib/python3.9/site-packages (from jedi>=0.16->ipython>=7.23.1->ipykernel) (0.8.2)\n",
      "Requirement already satisfied: pyzmq>=13 in /opt/anaconda3/lib/python3.9/site-packages (from jupyter-client<8.0->ipykernel) (22.2.1)\n",
      "Requirement already satisfied: jupyter-core>=4.6.0 in /opt/anaconda3/lib/python3.9/site-packages (from jupyter-client<8.0->ipykernel) (4.8.1)\n",
      "Requirement already satisfied: python-dateutil>=2.1 in /opt/anaconda3/lib/python3.9/site-packages (from jupyter-client<8.0->ipykernel) (2.8.2)\n",
      "Requirement already satisfied: ptyprocess>=0.5 in /opt/anaconda3/lib/python3.9/site-packages (from pexpect>4.3->ipython>=7.23.1->ipykernel) (0.7.0)\n",
      "Requirement already satisfied: wcwidth in /opt/anaconda3/lib/python3.9/site-packages (from prompt-toolkit!=3.0.0,!=3.0.1,<3.1.0,>=2.0.0->ipython>=7.23.1->ipykernel) (0.2.5)\n",
      "Requirement already satisfied: six>=1.5 in /opt/anaconda3/lib/python3.9/site-packages (from python-dateutil>=2.1->jupyter-client<8.0->ipykernel) (1.16.0)\n"
     ]
    }
   ],
   "source": [
    "!pip3 install ipykernel --upgrade"
   ]
  },
  {
   "cell_type": "code",
   "execution_count": 4,
   "metadata": {},
   "outputs": [
    {
     "ename": "ModuleNotFoundError",
     "evalue": "No module named 'ee'",
     "output_type": "error",
     "traceback": [
      "\u001b[0;31m---------------------------------------------------------------------------\u001b[0m",
      "\u001b[0;31mModuleNotFoundError\u001b[0m                       Traceback (most recent call last)",
      "\u001b[0;32m<ipython-input-4-4eb9027ea48c>\u001b[0m in \u001b[0;36m<module>\u001b[0;34m\u001b[0m\n\u001b[0;32m----> 1\u001b[0;31m \u001b[0;32mimport\u001b[0m \u001b[0mee\u001b[0m\u001b[0;34m\u001b[0m\u001b[0;34m\u001b[0m\u001b[0m\n\u001b[0m",
      "\u001b[0;31mModuleNotFoundError\u001b[0m: No module named 'ee'"
     ]
    }
   ],
   "source": [
    "import ee"
   ]
  },
  {
   "cell_type": "markdown",
   "metadata": {
    "colab_type": "text",
    "id": "nsUe3X03jOFw"
   },
   "source": [
    "## 2._ Establish connection"
   ]
  },
  {
   "cell_type": "code",
   "execution_count": 2,
   "metadata": {
    "colab": {},
    "colab_type": "code",
    "id": "ifHQNPvPjFMq"
   },
   "outputs": [
    {
     "name": "stdout",
     "output_type": "stream",
     "text": [
      "To authorize access needed by Earth Engine, open the following URL in a web browser and follow the instructions. If the web browser does not start automatically, please manually browse the URL below.\n",
      "\n",
      "    https://accounts.google.com/o/oauth2/auth?client_id=517222506229-vsmmajv00ul0bs7p89v5m89qs8eb9359.apps.googleusercontent.com&scope=https%3A%2F%2Fwww.googleapis.com%2Fauth%2Fearthengine+https%3A%2F%2Fwww.googleapis.com%2Fauth%2Fdevstorage.full_control&redirect_uri=urn%3Aietf%3Awg%3Aoauth%3A2.0%3Aoob&response_type=code&code_challenge=tm7sM3bnVbF9E7TGV47CUCzczKhHhwFi60eEFea3iC4&code_challenge_method=S256\n",
      "\n",
      "The authorization workflow will generate a code, which you should paste in the box below. \n",
      "Enter verification code: ^C\n",
      "Traceback (most recent call last):\n",
      "  File \"/opt/anaconda3/bin/earthengine\", line 10, in <module>\n",
      "    sys.exit(main())\n",
      "  File \"/opt/anaconda3/lib/python3.9/site-packages/ee/cli/eecli.py\", line 84, in main\n",
      "    _run_command()\n",
      "  File \"/opt/anaconda3/lib/python3.9/site-packages/ee/cli/eecli.py\", line 63, in _run_command\n",
      "    dispatcher.run(args, config)\n",
      "  File \"/opt/anaconda3/lib/python3.9/site-packages/ee/cli/commands.py\", line 360, in run\n",
      "    self.command_dict[vars(args)[self.dest]].run(args, config)\n",
      "  File \"/opt/anaconda3/lib/python3.9/site-packages/ee/cli/commands.py\", line 393, in run\n",
      "    ee.Authenticate(**args_auth)\n",
      "  File \"/opt/anaconda3/lib/python3.9/site-packages/ee/__init__.py\", line 89, in Authenticate\n",
      "    oauth.authenticate(authorization_code, quiet, code_verifier)\n",
      "  File \"/opt/anaconda3/lib/python3.9/site-packages/ee/oauth.py\", line 235, in authenticate\n",
      "    _obtain_and_write_token(None, code_verifier)  # Will prompt for auth_code.\n",
      "  File \"/opt/anaconda3/lib/python3.9/site-packages/ee/oauth.py\", line 139, in _obtain_and_write_token\n",
      "    auth_code = input('Enter verification code: ')\n",
      "KeyboardInterrupt\n"
     ]
    }
   ],
   "source": [
    "!earthengine authenticate"
   ]
  },
  {
   "cell_type": "code",
   "execution_count": null,
   "metadata": {},
   "outputs": [],
   "source": []
  },
  {
   "cell_type": "code",
   "execution_count": 3,
   "metadata": {},
   "outputs": [
    {
     "ename": "ModuleNotFoundError",
     "evalue": "No module named 'ee'",
     "output_type": "error",
     "traceback": [
      "\u001b[0;31m---------------------------------------------------------------------------\u001b[0m",
      "\u001b[0;31mModuleNotFoundError\u001b[0m                       Traceback (most recent call last)",
      "\u001b[0;32m<ipython-input-3-149f7e959d08>\u001b[0m in \u001b[0;36m<module>\u001b[0;34m\u001b[0m\n\u001b[0;32m----> 1\u001b[0;31m \u001b[0;32mimport\u001b[0m \u001b[0mee\u001b[0m\u001b[0;34m\u001b[0m\u001b[0;34m\u001b[0m\u001b[0m\n\u001b[0m\u001b[1;32m      2\u001b[0m \u001b[0mservice_account\u001b[0m \u001b[0;34m=\u001b[0m \u001b[0;34m'h.noorazar@gmail.com'\u001b[0m\u001b[0;34m\u001b[0m\u001b[0;34m\u001b[0m\u001b[0m\n\u001b[1;32m      3\u001b[0m \u001b[0mcredentials\u001b[0m \u001b[0;34m=\u001b[0m \u001b[0mee\u001b[0m\u001b[0;34m.\u001b[0m\u001b[0mServiceAccountCredentials\u001b[0m\u001b[0;34m(\u001b[0m\u001b[0mservice_account\u001b[0m\u001b[0;34m,\u001b[0m \u001b[0;34m'privatekey.json'\u001b[0m\u001b[0;34m)\u001b[0m\u001b[0;34m\u001b[0m\u001b[0;34m\u001b[0m\u001b[0m\n\u001b[1;32m      4\u001b[0m \u001b[0mee\u001b[0m\u001b[0;34m.\u001b[0m\u001b[0mInitialize\u001b[0m\u001b[0;34m(\u001b[0m\u001b[0mcredentials\u001b[0m\u001b[0;34m)\u001b[0m\u001b[0;34m\u001b[0m\u001b[0;34m\u001b[0m\u001b[0m\n",
      "\u001b[0;31mModuleNotFoundError\u001b[0m: No module named 'ee'"
     ]
    }
   ],
   "source": [
    "\n",
    "service_account = 'h.noorazar@gmail.com'\n",
    "credentials = ee.ServiceAccountCredentials(service_account, 'privatekey.json')\n",
    "ee.Initialize(credentials)"
   ]
  },
  {
   "cell_type": "code",
   "execution_count": null,
   "metadata": {
    "colab": {},
    "colab_type": "code",
    "id": "qXvP1NgJjm2T"
   },
   "outputs": [],
   "source": [
    "import ee\n",
    "try:\n",
    "  ee.Initialize()\n",
    "  print('The Earth Engine package initialized successfully!')\n",
    "except ee.EEException as e:\n",
    "  print('The Earth Engine package failed to initialize!')\n",
    "except:\n",
    "  print(\"Unexpected error:\", sys.exc_info()[0])\n",
    "  raise"
   ]
  },
  {
   "cell_type": "markdown",
   "metadata": {
    "colab_type": "text",
    "id": "9Em1dg_Gj2BY"
   },
   "source": [
    "## 3._ Example"
   ]
  },
  {
   "cell_type": "code",
   "execution_count": null,
   "metadata": {},
   "outputs": [],
   "source": [
    "import ee"
   ]
  },
  {
   "cell_type": "code",
   "execution_count": null,
   "metadata": {
    "colab": {},
    "colab_type": "code",
    "id": "EQUaNf73jZ_4"
   },
   "outputs": [],
   "source": [
    "pt = ee.Geometry.Point([-2.40986111110000012, 26.76033333330000019])\n",
    "region = pt.buffer(10)\n",
    "\n",
    "col = ee.ImageCollection('LANDSAT/LC08/C01/T1')\\\n",
    "        .filterDate('2015-01-01','2015-04-30')\\\n",
    "        .filterBounds(region)\n",
    "        "
   ]
  },
  {
   "cell_type": "markdown",
   "metadata": {
    "colab_type": "text",
    "id": "TEBD8weH07A5"
   },
   "source": [
    "## 4._ Define bands "
   ]
  },
  {
   "cell_type": "code",
   "execution_count": null,
   "metadata": {
    "colab": {},
    "colab_type": "code",
    "id": "dRgW1EOc08Gh"
   },
   "outputs": [],
   "source": [
    "bands = ['B4','B5'] #Change it!\n"
   ]
  },
  {
   "cell_type": "markdown",
   "metadata": {
    "colab_type": "text",
    "id": "viZHWBOV2RQu"
   },
   "source": [
    "##5.  Function to pass to Iterate"
   ]
  },
  {
   "cell_type": "code",
   "execution_count": null,
   "metadata": {
    "colab": {},
    "colab_type": "code",
    "id": "Twoj5_E02RsP"
   },
   "outputs": [],
   "source": [
    "def accumulate(image,img):\n",
    "  name_image = image.get('system:index')\n",
    "  image = image.select([0],[name_image])\n",
    "  cumm = ee.Image(img).addBands(image)\n",
    "  return cumm\n"
   ]
  },
  {
   "cell_type": "code",
   "execution_count": null,
   "metadata": {
    "colab": {
     "base_uri": "https://localhost:8080/",
     "height": 51
    },
    "colab_type": "code",
    "executionInfo": {
     "elapsed": 2983,
     "status": "ok",
     "timestamp": 1541796978029,
     "user": {
      "displayName": "Cesar Luis Aybar Camacho",
      "photoUrl": "https://lh5.googleusercontent.com/-8ZKBw21QF8Q/AAAAAAAAAAI/AAAAAAAABb0/0hTmM6oKvH0/s64/photo.jpg",
      "userId": "11358450452440901719"
     },
     "user_tz": 300
    },
    "id": "u8nkjjmZ0_fJ",
    "outputId": "52198083-14c7-43a8-cf86-bb0a582f83a8"
   },
   "outputs": [],
   "source": [
    "for band in bands:\n",
    "  col_band = col.map(lambda img: img.select(band)\\\n",
    "                               .set('system:time_start', img.get('system:time_start'))\\\n",
    "                               .set('system:index', img.get('system:index')))\n",
    "  #  ImageCollection to List           \n",
    "  col_list = col_band.toList(col_band.size())\n",
    "\n",
    "  #  Define the initial value for iterate.\n",
    "  base = ee.Image(col_list.get(0))\n",
    "  base_name = base.get('system:index')\n",
    "  base = base.select([0], [base_name])\n",
    "  \n",
    "  #  Eliminate the image 'base'.\n",
    "  new_col = ee.ImageCollection(col_list.splice(0,1))\n",
    "\n",
    "  img_cummulative = ee.Image(new_col.iterate(accumulate,base))\n",
    "\n",
    "  task = ee.batch.Export.image.toDrive(\n",
    "      image = img_cummulative.clip(region),\n",
    "      folder = 'landsat',\n",
    "      fileNamePrefix = band,\n",
    "      scale = 30).start()  \n",
    "  \n",
    "  print('Export Image '+ band+ ' was submitted, please wait ...')"
   ]
  },
  {
   "cell_type": "code",
   "execution_count": null,
   "metadata": {
    "colab": {
     "base_uri": "https://localhost:8080/",
     "height": 170
    },
    "colab_type": "code",
    "executionInfo": {
     "elapsed": 974,
     "status": "ok",
     "timestamp": 1541796112103,
     "user": {
      "displayName": "Cesar Luis Aybar Camacho",
      "photoUrl": "https://lh5.googleusercontent.com/-8ZKBw21QF8Q/AAAAAAAAAAI/AAAAAAAABb0/0hTmM6oKvH0/s64/photo.jpg",
      "userId": "11358450452440901719"
     },
     "user_tz": 300
    },
    "id": "BxTCwhgOA081",
    "outputId": "0d5e0d0e-05ff-43ff-f1df-b782ff741a43"
   },
   "outputs": [],
   "source": [
    "img_cummulative.bandNames().getInfo()"
   ]
  }
 ],
 "metadata": {
  "colab": {
   "collapsed_sections": [],
   "name": "Copy of Download_example.ipynb",
   "provenance": [
    {
     "file_id": "1Nv8-l20l82nIQ946WR1iOkr-4b_QhISu",
     "timestamp": 1579040944422
    }
   ]
  },
  "kernelspec": {
   "display_name": "Python 3",
   "language": "python",
   "name": "python3"
  },
  "language_info": {
   "codemirror_mode": {
    "name": "ipython",
    "version": 3
   },
   "file_extension": ".py",
   "mimetype": "text/x-python",
   "name": "python",
   "nbconvert_exporter": "python",
   "pygments_lexer": "ipython3",
   "version": "3.8.8"
  }
 },
 "nbformat": 4,
 "nbformat_minor": 1
}
