{
 "cells": [
  {
   "cell_type": "code",
   "execution_count": 3,
   "id": "b9869501",
   "metadata": {},
   "outputs": [],
   "source": [
    "import ee\n",
    "import geemap"
   ]
  },
  {
   "cell_type": "code",
   "execution_count": 6,
   "id": "3f875ccc",
   "metadata": {},
   "outputs": [],
   "source": [
    "# !earthengine authenticate"
   ]
  },
  {
   "cell_type": "code",
   "execution_count": 7,
   "id": "805d47ba",
   "metadata": {},
   "outputs": [
    {
     "data": {
      "application/vnd.jupyter.widget-view+json": {
       "model_id": "38f217e33da641718e2721f3f7359b1e",
       "version_major": 2,
       "version_minor": 0
      },
      "text/plain": [
       "Map(center=[40, -100], controls=(WidgetControl(options=['position', 'transparent_bg'], widget=HBox(children=(T…"
      ]
     },
     "metadata": {},
     "output_type": "display_data"
    }
   ],
   "source": [
    "mapp = geemap.Map()\n",
    "mapp"
   ]
  },
  {
   "cell_type": "code",
   "execution_count": 8,
   "id": "a375e102",
   "metadata": {},
   "outputs": [
    {
     "data": {
      "text/plain": [
       "<ee.featurecollection.FeatureCollection at 0x7f87f182b040>"
      ]
     },
     "execution_count": 8,
     "metadata": {},
     "output_type": "execute_result"
    }
   ],
   "source": [
    "Monterey_dir = \"/Users/hn/Documents/01_research_data/NASA/shapefiles/clean_Monterey/\"\n",
    "Monterey = geemap.shp_to_ee(Monterey_dir + \"clean_Monterey.shp\")\n",
    "Monterey"
   ]
  },
  {
   "cell_type": "code",
   "execution_count": null,
   "id": "eea5af3d",
   "metadata": {},
   "outputs": [],
   "source": []
  },
  {
   "cell_type": "code",
   "execution_count": null,
   "id": "bca12da5",
   "metadata": {},
   "outputs": [],
   "source": []
  }
 ],
 "metadata": {
  "kernelspec": {
   "display_name": "GEE",
   "language": "python",
   "name": "gee"
  },
  "language_info": {
   "codemirror_mode": {
    "name": "ipython",
    "version": 3
   },
   "file_extension": ".py",
   "mimetype": "text/x-python",
   "name": "python",
   "nbconvert_exporter": "python",
   "pygments_lexer": "ipython3",
   "version": "3.9.7"
  }
 },
 "nbformat": 4,
 "nbformat_minor": 5
}
