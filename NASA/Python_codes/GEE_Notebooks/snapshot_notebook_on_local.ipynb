{
 "cells": [
  {
   "cell_type": "code",
   "execution_count": 1,
   "id": "2b58c108",
   "metadata": {},
   "outputs": [],
   "source": [
    "\n",
    "# !pip uninstall geopandas\n",
    "# pip uninstall geemap\n",
    "# !pip3 install geemap\n",
    "# !conda install  StringIO\n",
    "# !pip install geopandas\n",
    "# !conda install geemap\n",
    "# import geemap\n",
    "\n",
    "# !conda install geopandas\n",
    "# import geopandas as gpd\n",
    "\n",
    "# !conda install ee\n",
    "# !conda install ee\n",
    "#!pip install ee\n",
    "import ee\n",
    "import geemap\n",
    "import geetools\n",
    "import geopandas as gpd\n",
    "\n",
    "\n",
    "# cd /Users/hn/opt/anaconda3/envs/\n",
    "# source gee/bin/activate"
   ]
  },
  {
   "cell_type": "code",
   "execution_count": 5,
   "id": "bfde0c34",
   "metadata": {},
   "outputs": [
    {
     "name": "stdout",
     "output_type": "stream",
     "text": [
      "pip is /opt/anaconda3/bin/pip\r\n"
     ]
    }
   ],
   "source": []
  },
  {
   "cell_type": "code",
   "execution_count": null,
   "id": "28ddaded",
   "metadata": {},
   "outputs": [],
   "source": [
    "import ee\n",
    "ee.Authenticate()"
   ]
  },
  {
   "cell_type": "raw",
   "id": "f633bdaf",
   "metadata": {},
   "source": [
    "!echo $PATH\n",
    "\n",
    "print (\"------------------------------------------------------------------\")\n",
    "a = !type -a python\n",
    "print(\"!type -a python is: \", a)\n",
    "\n",
    "print (\"------------------------------------------------------------------\")\n",
    "a = !/usr/bin/python --version\n",
    "print(\"/usr/bin/python is: \", a)\n",
    "\n",
    "print (\"------------------------------------------------------------------\")\n",
    "a = !type -a conda\n",
    "print(\"!type -a conda is: \", a)\n",
    "\n",
    "print (\"------------------------------------------------------------------\")\n",
    "a = !type -a pip\n",
    "print(\"!type -a pip is: \", a)\n",
    "\n",
    "\n",
    "# list of environments\n",
    "conda env list \n",
    "\n",
    "\n",
    "# https://janakiev.com/blog/jupyter-virtual-envs/\n",
    "# Next you can add your virtual environment to Jupyter by typing:\n",
    "python -m ipykernel install --user --name=myenv"
   ]
  },
  {
   "cell_type": "code",
   "execution_count": null,
   "id": "5d56a17b",
   "metadata": {},
   "outputs": [],
   "source": []
  },
  {
   "cell_type": "raw",
   "id": "d00db5bc",
   "metadata": {},
   "source": [
    "# Watch https://www.youtube.com/watch?v=pJ05omgQCMw&list=WL&index=16\n",
    "\n",
    "!jupyter kernelspec list\n",
    "\n",
    "!jupyter kernelspec list --json\n",
    "\n",
    "!which -a python\n",
    "\n",
    "!/usr/bin/python --version\n",
    "\n",
    "!/opt/anaconda3/bin/python --version\n",
    "\n",
    "# !/opt/anaconda3/bin/python -m pip install ipykernel\n",
    "\n",
    "import sys\n",
    "print(sys.executable)\n",
    "\n",
    "import sys \n",
    "print (sys.path)\n",
    "\n",
    "conda list"
   ]
  },
  {
   "cell_type": "code",
   "execution_count": 7,
   "id": "c198eb57",
   "metadata": {},
   "outputs": [
    {
     "data": {
      "application/vnd.jupyter.widget-view+json": {
       "model_id": "ae2cf645b9b548c2a4aef69d253fbc07",
       "version_major": 2,
       "version_minor": 0
      },
      "text/plain": [
       "Map(center=[40, -100], controls=(WidgetControl(options=['position', 'transparent_bg'], widget=HBox(children=(T…"
      ]
     },
     "metadata": {},
     "output_type": "display_data"
    }
   ],
   "source": [
    "mapp = geemap.Map()\n",
    "mapp"
   ]
  },
  {
   "cell_type": "code",
   "execution_count": 9,
   "id": "8105eea2",
   "metadata": {},
   "outputs": [
    {
     "data": {
      "text/plain": [
       "<ee.featurecollection.FeatureCollection at 0x7f91c9087070>"
      ]
     },
     "execution_count": 9,
     "metadata": {},
     "output_type": "execute_result"
    }
   ],
   "source": [
    "Monterey_dir = \"/Users/hn/Documents/01_research_data/NASA/shapefiles/clean_Monterey/\"\n",
    "Monterey = geemap.shp_to_ee(Monterey_dir + \"clean_Monterey.shp\")\n",
    "Monterey"
   ]
  },
  {
   "cell_type": "code",
   "execution_count": 19,
   "id": "6f6500b5",
   "metadata": {},
   "outputs": [],
   "source": [
    "# The followings are not doable: EEException: Request payload size exceeds the limit: 10485760 bytes.\n",
    "# or another type of time limit!!!\n",
    "\n",
    "# mapp.addLayer(ee.Feature(Monterey.first()), {}, 'Monterey')\n",
    "# print (ee.Feature(Monterey.first()))"
   ]
  },
  {
   "cell_type": "code",
   "execution_count": 18,
   "id": "afaee400",
   "metadata": {},
   "outputs": [],
   "source": []
  }
 ],
 "metadata": {
  "kernelspec": {
   "display_name": "Python 3 (ipykernel)",
   "language": "python",
   "name": "python3"
  },
  "language_info": {
   "codemirror_mode": {
    "name": "ipython",
    "version": 3
   },
   "file_extension": ".py",
   "mimetype": "text/x-python",
   "name": "python",
   "nbconvert_exporter": "python",
   "pygments_lexer": "ipython3",
   "version": "3.9.7"
  }
 },
 "nbformat": 4,
 "nbformat_minor": 5
}
