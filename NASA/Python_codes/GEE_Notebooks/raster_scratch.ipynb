{
 "cells": [
  {
   "cell_type": "code",
   "execution_count": 21,
   "id": "49eb066e",
   "metadata": {},
   "outputs": [
    {
     "data": {
      "text/html": [
       "<p>To authorize access needed by Earth Engine, open the following\n",
       "        URL in a web browser and follow the instructions:</p>\n",
       "        <p><a href=https://accounts.google.com/o/oauth2/auth?client_id=517222506229-vsmmajv00ul0bs7p89v5m89qs8eb9359.apps.googleusercontent.com&scope=https%3A%2F%2Fwww.googleapis.com%2Fauth%2Fearthengine+https%3A%2F%2Fwww.googleapis.com%2Fauth%2Fdevstorage.full_control&redirect_uri=urn%3Aietf%3Awg%3Aoauth%3A2.0%3Aoob&response_type=code&code_challenge=okeuL6MYC0eLGxx54e8C4zqQVbSQO7wY6awdg4qd_ss&code_challenge_method=S256>https://accounts.google.com/o/oauth2/auth?client_id=517222506229-vsmmajv00ul0bs7p89v5m89qs8eb9359.apps.googleusercontent.com&scope=https%3A%2F%2Fwww.googleapis.com%2Fauth%2Fearthengine+https%3A%2F%2Fwww.googleapis.com%2Fauth%2Fdevstorage.full_control&redirect_uri=urn%3Aietf%3Awg%3Aoauth%3A2.0%3Aoob&response_type=code&code_challenge=okeuL6MYC0eLGxx54e8C4zqQVbSQO7wY6awdg4qd_ss&code_challenge_method=S256</a></p>\n",
       "        <p>The authorization workflow will generate a code, which you\n",
       "        should paste in the box below</p>\n",
       "        "
      ],
      "text/plain": [
       "<IPython.core.display.HTML object>"
      ]
     },
     "metadata": {},
     "output_type": "display_data"
    },
    {
     "name": "stdout",
     "output_type": "stream",
     "text": [
      "Enter verification code: 4/1AX4XfWhzwtE2RRdBI01uTETyoCvVMcqDjTayJCWO4YuW_9UhIGjSPCJT5AA\n",
      "\n",
      "Successfully saved authorization token.\n"
     ]
    }
   ],
   "source": [
    "import ee\n",
    "import geemap\n",
    "import geetools\n",
    "import rasterio\n",
    "import folium\n",
    "from folium import plugins\n",
    "\n",
    "import ee\n",
    "ee.Authenticate()\n",
    "ee.Initialize()"
   ]
  },
  {
   "cell_type": "code",
   "execution_count": 112,
   "id": "ad7b59f9",
   "metadata": {},
   "outputs": [],
   "source": []
  },
  {
   "cell_type": "raw",
   "id": "39bc7ab7",
   "metadata": {},
   "source": [
    "raster_file = \"/Users/hn/Desktop/snapshot_01.tif\"\n",
    "raster = rasterio.open(raster_file)\n",
    "print (\"raster.crs: \", print (raster.crs))\n",
    "print (\"raster.transform: \", print (raster.transform))\n",
    "print (\"raster.width: \", print (raster.width))\n",
    "print (\"raster.height: \", print (raster.height))\n",
    "print (\"raster.count: \", print (raster.count))\n",
    "print (\"raster.bounds: \", print (raster.bounds))\n",
    "print (\"raster.nodatavals: \", print (raster.nodatavals))\n",
    "print (\"raster.meta: \", print (raster.meta))"
   ]
  },
  {
   "cell_type": "markdown",
   "id": "a5b0209e",
   "metadata": {},
   "source": [
    "# Set up parameters"
   ]
  },
  {
   "cell_type": "code",
   "execution_count": 25,
   "id": "dd7ae572",
   "metadata": {},
   "outputs": [],
   "source": [
    "data_source = 'LANDSAT/LC08/C01/T1_TOA';\n",
    "bands = ['B4', 'B3', 'B2'];\n",
    "\n",
    "wstart_date = '2014-01-01';\n",
    "wend_date = '2015-01-01';\n",
    "outfile_name_prefix = 'L8_C01_T1_TOA_' + wstart_date + \"_\" + wend_date + \"_\";\n",
    "\n",
    "# Define the visualization parameters.\n",
    "vizParams = {\n",
    "    'bands': ['B4', 'B3', 'B2'],\n",
    "    'min': 0,\n",
    "    'max':[0.2, 0.2, 0.2],\n",
    "    # 'gamma': [0.95, 1.1, 1]\n",
    "}\n",
    "\n",
    "\"\"\"\n",
    "   'LANDSAT/LC08/C01/T1_TOA/LC08_044034_20140318'\n",
    "   Create a geometry representing an export region.\n",
    "\"\"\" \n",
    "xmin = -122.20;\n",
    "xmax = -120.45;\n",
    "ymin = 35.75;\n",
    "ymax = 37.1;\n",
    "xmean = (xmin + xmax) / 2.0;\n",
    "ymean = (ymin + ymax) / 2.0;"
   ]
  },
  {
   "cell_type": "raw",
   "id": "87090054",
   "metadata": {},
   "source": [
    "/////////////////////////////////////////////\n",
    "/////\n",
    "/////      Functions\n",
    "/////\n",
    "/////////////////////////////////////////////\n",
    "function add_system_start_time_image(image) {\n",
    "  image = image.addBands(image.metadata('system:time_start').rename(\"system_start_time\"));\n",
    "  return image;\n",
    "}\n",
    "\n",
    "function add_system_start_time_collection(colss){\n",
    " var c = colss.map(add_system_start_time_image);\n",
    " return c;\n",
    "}\n",
    "\n",
    "function fetch_and_mosaic_IC(data_source, bands, start_date, end_date, AOI){\n",
    "  var an_IC = ee.ImageCollection(data_source)\n",
    "                .select(bands)\n",
    "                .filterDate(wstart_date, wend_date)\n",
    "                .filterBounds(AOI)\n",
    "                .map(function(image){return image.clip(AOI)})\n",
    "                .sort('system:time_start', true);\n",
    "\n",
    "  an_IC = add_system_start_time_collection(an_IC);\n",
    "  // an_IC = addYear_to_collection(an_IC); // add year as a band\n",
    "  // an_IC = addDoY_to_collection(an_IC);  // add DoY as a band\n",
    "  \n",
    "  var start_date_DateType = ee.Date(start_date);\n",
    "  var end_date_DateType = ee.Date(end_date);\n",
    "  \n",
    "  //######**************************************\n",
    "  // Difference in days between start and end_date\n",
    "\n",
    "  var diff = end_date_DateType.difference(start_date_DateType, 'day');\n",
    "\n",
    "  // Make a list of all dates\n",
    "  var range = ee.List.sequence(0, diff.subtract(1)).map(function(day){\n",
    "                                    return start_date_DateType.advance(day,'day')});\n",
    "\n",
    "  // Funtion for iteraton over the range of dates\n",
    "  function day_mosaics(date, newlist) {\n",
    "    // Cast\n",
    "    date = ee.Date(date);\n",
    "    newlist = ee.List(newlist);\n",
    "\n",
    "    // Filter an_IC between date and the next day\n",
    "    var filtered = an_IC.filterDate(date, date.advance(1, 'day'));\n",
    "\n",
    "    var image = ee.Image(filtered.mosaic()); // Make the mosaic\n",
    "    \n",
    "    image = image.copyProperties({source: filtered.first(),\n",
    "                                  properties: ['system:time_start']\n",
    "                                  });\n",
    "    image = image.set({system_time_start: filtered.first().get('system:time_start')});\n",
    "\n",
    "    // Add the mosaic to a list only if the an_IC has images\n",
    "    return ee.List(ee.Algorithms.If(filtered.size(), newlist.add(image), newlist));\n",
    "  }\n",
    "\n",
    "  // Iterate over the range to make a new list, and then cast the list to an imagecollection\n",
    "  var newcol = ee.ImageCollection(ee.List(range.iterate(day_mosaics, ee.List([]))));\n",
    "  newcol = newcol.sort('system_time_start', true);\n",
    "  \n",
    "  return(newcol);\n",
    "}\n",
    "\n",
    "\n",
    "function visualize_and_export_image(image2vis){\n",
    "  \n",
    "//   var vizParams = {\n",
    "//   bands: ['B4', 'B3', 'B2'],\n",
    "//   min: 0,\n",
    "//   max: [0.2, 0.2, 0.2],\n",
    "//   // gamma: [0.1, 1.1, 1]\n",
    "// };\n",
    "  var imageRGB_mosaiced1 = image2vis.visualize(vizParams);\n",
    "  \n",
    "  imageRGB_mosaiced1 = imageRGB_mosaiced1.copyProperties({source: image2vis,\n",
    "                                                          properties: ['system:time_start']\n",
    "                                                          });\n",
    "  imageRGB_mosaiced1 = imageRGB_mosaiced1.set({system_time_start: image2vis.get('system_time_start')});\n",
    "  \n",
    "  // imageRGB_mosaiced1 = ee.ImageCollection([imageRGB_mosaiced1]).mosaic();\n",
    "  \n",
    "  // var the_damn_time = image2vis.reduceRegion({geometry: big_rect,\n",
    "  //                                             reducer : ee.Reducer.mean(), \n",
    "  //                                             scale : 30,\n",
    "  //                                             bestEffort : true\n",
    "  //                                             }).get('system_start_time');\n",
    "                                              \n",
    "  // var outName = ee.String(outfile_name_prefix).cat(the_damn_time);\n",
    "  // Export.image.toDrive({\n",
    "  //   // image: landsat,\n",
    "  //   image: imageRGB_mosaiced1.clip(big_rect),\n",
    "  //   description: outName,\n",
    "  //   scale: 30,\n",
    "  //   folder:\"snapshot\",\n",
    "  //   region: big_rect,\n",
    "  //   maxPixels: 1e9\n",
    "  // });\n",
    "  \n",
    "  return imageRGB_mosaiced1;\n",
    "}"
   ]
  },
  {
   "cell_type": "markdown",
   "id": "ae77fb17",
   "metadata": {},
   "source": [
    "# Functions"
   ]
  },
  {
   "cell_type": "code",
   "execution_count": 28,
   "id": "73427e22",
   "metadata": {},
   "outputs": [],
   "source": [
    "def add_system_start_time_image(image):\n",
    "    image = image.addBands(image.metadata('system:time_start').rename(\"system_start_time\"));\n",
    "    return image;\n",
    "\n",
    "def add_system_start_time_collection(colss):\n",
    "    c = colss.map(add_system_start_time_image);\n",
    "    return c;\n"
   ]
  },
  {
   "cell_type": "code",
   "execution_count": 115,
   "id": "3be9d108",
   "metadata": {},
   "outputs": [],
   "source": [
    "def fetch_and_mosaic_IC(data_source, bands, start_date, end_date, AOI):\n",
    "    an_IC = ee.ImageCollection(data_source)\\\n",
    "              .select(bands)\\\n",
    "              .filterDate(wstart_date, wend_date)\\\n",
    "              .filterBounds(AOI).map(lambda image: image.clip(AOI))\n",
    "    an_IC = an_IC.sort('system:time_start', true);\n",
    "    an_IC = add_system_start_time_collection(an_IC);\n",
    "    start_date_DateType = ee.Date(start_date);\n",
    "    end_date_DateType = ee.Date(end_date);\n",
    "    \n",
    "    # Difference in days between start and end_date\n",
    "    diff = end_date_DateType.difference(start_date_DateType, 'day');\n",
    "    \n",
    "    ## Make a list of all dates\n",
    "    xrange = ee.List.sequence(0, diff.subtract(1)).map(lambda day: start_date_DateType.advance(day,'day'))\n",
    "    \n",
    "    ## Funtion for iteraton over the range of dates\n",
    "    def day_mosaics(date, newlist):\n",
    "        ## Cast\n",
    "        date = ee.Date(date);\n",
    "        newlist = ee.List(newlist);\n",
    "\n",
    "        ## Filter an_IC between date and the next day\n",
    "        filtered = an_IC.filterDate(date, date.advance(1, 'day'));\n",
    "\n",
    "        image = ee.Image(filtered.mosaic()); ## Make the mosaic\n",
    "\n",
    "        image = image.copyProperties({source: filtered.first(),\n",
    "                                      properties: ['system:time_start']\n",
    "                                      });\n",
    "        image = image.set({system_time_start: filtered.first().get('system:time_start')});\n",
    "\n",
    "        ## Add the mosaic to a list only if the an_IC has images\n",
    "        return ee.List(ee.Algorithms.If(filtered.size(), newlist.add(image), newlist));\n",
    "    \n",
    "    ## Iterate over the xrange to make a new list, and then cast the list to an imagecollection\n",
    "    newcol = ee.ImageCollection(ee.List(xrange.iterate(day_mosaics, ee.List([]))));\n",
    "    newcol = newcol.sort('system_time_start', true);\n",
    "    \n",
    "    return(newcol)\n",
    "\n",
    "def visualize_and_export_image(image2vis):\n",
    "    imageRGB_mosaiced1 = image2vis.visualize(vizParams);\n",
    "    imageRGB_mosaiced1 = imageRGB_mosaiced1.copyProperties({source: image2vis,\n",
    "                                                          properties: ['system:time_start']\n",
    "                                                          });\n",
    "    imageRGB_mosaiced1 = imageRGB_mosaiced1.set({system_time_start: image2vis.get('system_time_start')});\n",
    "    return imageRGB_mosaiced1;\n",
    "\n",
    "\n",
    "def add_ee_layer(self, ee_image_object, vis_params, name):\n",
    "    Atr = 'Map Data &copy; <a href=\"https://earthengine.google.com/\">Google Earth Engine</a>'\n",
    "    map_id_dict = ee.Image(ee_image_object).getMapId(vis_params)\n",
    "    folium.raster_layers.TileLayer(tiles=map_id_dict['tile_fetcher'].url_format,\n",
    "                                   attr=Atr,\n",
    "                                   name=name,\n",
    "                                   overlay=True,\n",
    "                                   control=True\n",
    "                                   ).add_to(self)\n",
    "folium.Map.add_ee_layer = add_ee_layer"
   ]
  },
  {
   "cell_type": "code",
   "execution_count": 174,
   "id": "373c0ed7",
   "metadata": {},
   "outputs": [],
   "source": [
    "# Define a method for displaying Earth Engine image tiles on a folium map.\n",
    "def add_ee_layer(self, ee_object, vis_params, name):    \n",
    "    try:    \n",
    "        # display ee.Image()\n",
    "        if isinstance(ee_object, ee.image.Image):    \n",
    "            map_id_dict = ee.Image(ee_object).getMapId(vis_params)\n",
    "            folium.raster_layers.TileLayer(\n",
    "            tiles = map_id_dict['tile_fetcher'].url_format,\n",
    "            attr = 'Google Earth Engine',\n",
    "            name = name,\n",
    "            overlay = True,\n",
    "            control = True\n",
    "            ).add_to(self)\n",
    "        # display ee.ImageCollection()\n",
    "        elif isinstance(ee_object, ee.imagecollection.ImageCollection):    \n",
    "            ee_object_new = ee_object.mosaic()\n",
    "            map_id_dict = ee.Image(ee_object_new).getMapId(vis_params)\n",
    "            folium.raster_layers.TileLayer(\n",
    "            tiles = map_id_dict['tile_fetcher'].url_format,\n",
    "            attr = 'Google Earth Engine',\n",
    "            name = name,\n",
    "            overlay = True,\n",
    "            control = True\n",
    "            ).add_to(self)\n",
    "        # display ee.Geometry()\n",
    "        elif isinstance(ee_object, ee.geometry.Geometry):\n",
    "            folium.GeoJson(\n",
    "                          data = ee_object.getInfo(),\n",
    "                          name = name,\n",
    "                          # attr = 'Google Earth Engine',\n",
    "                          overlay = True,\n",
    "                          control = True\n",
    "                          ).add_to(self)\n",
    "        # display ee.FeatureCollection()\n",
    "        elif isinstance(ee_object, ee.featurecollection.FeatureCollection):  \n",
    "            ee_object_new = ee.Image().paint(ee_object, 0, 2)\n",
    "            map_id_dict = ee.Image(ee_object_new).getMapId(vis_params)\n",
    "            folium.raster_layers.TileLayer(\n",
    "            tiles = map_id_dict['tile_fetcher'].url_format,\n",
    "            attr = 'Google Earth Engine',\n",
    "            name = name,\n",
    "            overlay = True,\n",
    "            control = True\n",
    "        ).add_to(self)\n",
    "    \n",
    "    except:\n",
    "        print(\"Could not display {}\".format(name))\n",
    "    \n",
    "# Add EE drawing method to folium.\n",
    "folium.Map.add_ee_layer = add_ee_layer"
   ]
  },
  {
   "cell_type": "code",
   "execution_count": 184,
   "id": "0573bad0",
   "metadata": {},
   "outputs": [
    {
     "data": {
      "text/plain": [
       "<folium.raster_layers.TileLayer at 0x7fe512384d90>"
      ]
     },
     "execution_count": 184,
     "metadata": {},
     "output_type": "execute_result"
    }
   ],
   "source": [
    "# # Create a folium map object.\n",
    "# my_map = folium.Map(location=[xmean, ymean], zoom_start=4, height=500)\n",
    "# my_map.add_ee_layer(ee_object = big_rect, vis_params = vizParams, name = \"big rectangular\")\n",
    "# my_map\n",
    "\n",
    "folium.GeoJson(data = big_rect.getInfo(),\n",
    "               name = \"fuck me\",\n",
    "               overlay = True,\n",
    "               control = True)\n",
    "\n",
    "folium.TileLayer(data = big_rect.getInfo(),\n",
    "               name = \"fuck me\",\n",
    "               overlay = True,\n",
    "               control = True)"
   ]
  },
  {
   "cell_type": "code",
   "execution_count": 189,
   "id": "f968f31c",
   "metadata": {},
   "outputs": [
    {
     "data": {
      "text/html": [
       "<div style=\"width:100%;\"><div style=\"position:relative;width:100%;height:0;padding-bottom:60%;\"><span style=\"color:#565656\">Make this Notebook Trusted to load map: File -> Trust Notebook</span><iframe src=\"about:blank\" style=\"position:absolute;width:100%;height:100%;left:0;top:0;border:none !important;\" data-html=%3C%21DOCTYPE%20html%3E%0A%3Chead%3E%20%20%20%20%0A%20%20%20%20%3Cmeta%20http-equiv%3D%22content-type%22%20content%3D%22text/html%3B%20charset%3DUTF-8%22%20/%3E%0A%20%20%20%20%0A%20%20%20%20%20%20%20%20%3Cscript%3E%0A%20%20%20%20%20%20%20%20%20%20%20%20L_NO_TOUCH%20%3D%20false%3B%0A%20%20%20%20%20%20%20%20%20%20%20%20L_DISABLE_3D%20%3D%20false%3B%0A%20%20%20%20%20%20%20%20%3C/script%3E%0A%20%20%20%20%0A%20%20%20%20%3Cstyle%3Ehtml%2C%20body%20%7Bwidth%3A%20100%25%3Bheight%3A%20100%25%3Bmargin%3A%200%3Bpadding%3A%200%3B%7D%3C/style%3E%0A%20%20%20%20%3Cstyle%3E%23map%20%7Bposition%3Aabsolute%3Btop%3A0%3Bbottom%3A0%3Bright%3A0%3Bleft%3A0%3B%7D%3C/style%3E%0A%20%20%20%20%3Cscript%20src%3D%22https%3A//cdn.jsdelivr.net/npm/leaflet%401.6.0/dist/leaflet.js%22%3E%3C/script%3E%0A%20%20%20%20%3Cscript%20src%3D%22https%3A//code.jquery.com/jquery-1.12.4.min.js%22%3E%3C/script%3E%0A%20%20%20%20%3Cscript%20src%3D%22https%3A//maxcdn.bootstrapcdn.com/bootstrap/3.2.0/js/bootstrap.min.js%22%3E%3C/script%3E%0A%20%20%20%20%3Cscript%20src%3D%22https%3A//cdnjs.cloudflare.com/ajax/libs/Leaflet.awesome-markers/2.0.2/leaflet.awesome-markers.js%22%3E%3C/script%3E%0A%20%20%20%20%3Clink%20rel%3D%22stylesheet%22%20href%3D%22https%3A//cdn.jsdelivr.net/npm/leaflet%401.6.0/dist/leaflet.css%22/%3E%0A%20%20%20%20%3Clink%20rel%3D%22stylesheet%22%20href%3D%22https%3A//maxcdn.bootstrapcdn.com/bootstrap/3.2.0/css/bootstrap.min.css%22/%3E%0A%20%20%20%20%3Clink%20rel%3D%22stylesheet%22%20href%3D%22https%3A//maxcdn.bootstrapcdn.com/bootstrap/3.2.0/css/bootstrap-theme.min.css%22/%3E%0A%20%20%20%20%3Clink%20rel%3D%22stylesheet%22%20href%3D%22https%3A//maxcdn.bootstrapcdn.com/font-awesome/4.6.3/css/font-awesome.min.css%22/%3E%0A%20%20%20%20%3Clink%20rel%3D%22stylesheet%22%20href%3D%22https%3A//cdnjs.cloudflare.com/ajax/libs/Leaflet.awesome-markers/2.0.2/leaflet.awesome-markers.css%22/%3E%0A%20%20%20%20%3Clink%20rel%3D%22stylesheet%22%20href%3D%22https%3A//cdn.jsdelivr.net/gh/python-visualization/folium/folium/templates/leaflet.awesome.rotate.min.css%22/%3E%0A%20%20%20%20%0A%20%20%20%20%20%20%20%20%20%20%20%20%3Cmeta%20name%3D%22viewport%22%20content%3D%22width%3Ddevice-width%2C%0A%20%20%20%20%20%20%20%20%20%20%20%20%20%20%20%20initial-scale%3D1.0%2C%20maximum-scale%3D1.0%2C%20user-scalable%3Dno%22%20/%3E%0A%20%20%20%20%20%20%20%20%20%20%20%20%3Cstyle%3E%0A%20%20%20%20%20%20%20%20%20%20%20%20%20%20%20%20%23map_e8fd284696d3467bb3a606ce54600713%20%7B%0A%20%20%20%20%20%20%20%20%20%20%20%20%20%20%20%20%20%20%20%20position%3A%20relative%3B%0A%20%20%20%20%20%20%20%20%20%20%20%20%20%20%20%20%20%20%20%20width%3A%20100.0%25%3B%0A%20%20%20%20%20%20%20%20%20%20%20%20%20%20%20%20%20%20%20%20height%3A%20500.0px%3B%0A%20%20%20%20%20%20%20%20%20%20%20%20%20%20%20%20%20%20%20%20left%3A%200.0%25%3B%0A%20%20%20%20%20%20%20%20%20%20%20%20%20%20%20%20%20%20%20%20top%3A%200.0%25%3B%0A%20%20%20%20%20%20%20%20%20%20%20%20%20%20%20%20%7D%0A%20%20%20%20%20%20%20%20%20%20%20%20%3C/style%3E%0A%20%20%20%20%20%20%20%20%0A%3C/head%3E%0A%3Cbody%3E%20%20%20%20%0A%20%20%20%20%0A%20%20%20%20%20%20%20%20%20%20%20%20%3Cdiv%20class%3D%22folium-map%22%20id%3D%22map_e8fd284696d3467bb3a606ce54600713%22%20%3E%3C/div%3E%0A%20%20%20%20%20%20%20%20%0A%3C/body%3E%0A%3Cscript%3E%20%20%20%20%0A%20%20%20%20%0A%20%20%20%20%20%20%20%20%20%20%20%20var%20map_e8fd284696d3467bb3a606ce54600713%20%3D%20L.map%28%0A%20%20%20%20%20%20%20%20%20%20%20%20%20%20%20%20%22map_e8fd284696d3467bb3a606ce54600713%22%2C%0A%20%20%20%20%20%20%20%20%20%20%20%20%20%20%20%20%7B%0A%20%20%20%20%20%20%20%20%20%20%20%20%20%20%20%20%20%20%20%20center%3A%20%5B36.425%2C%20-121.325%5D%2C%0A%20%20%20%20%20%20%20%20%20%20%20%20%20%20%20%20%20%20%20%20crs%3A%20L.CRS.EPSG3857%2C%0A%20%20%20%20%20%20%20%20%20%20%20%20%20%20%20%20%20%20%20%20zoom%3A%207%2C%0A%20%20%20%20%20%20%20%20%20%20%20%20%20%20%20%20%20%20%20%20zoomControl%3A%20true%2C%0A%20%20%20%20%20%20%20%20%20%20%20%20%20%20%20%20%20%20%20%20preferCanvas%3A%20false%2C%0A%20%20%20%20%20%20%20%20%20%20%20%20%20%20%20%20%7D%0A%20%20%20%20%20%20%20%20%20%20%20%20%29%3B%0A%0A%20%20%20%20%20%20%20%20%20%20%20%20%0A%0A%20%20%20%20%20%20%20%20%0A%20%20%20%20%0A%20%20%20%20%20%20%20%20%20%20%20%20var%20tile_layer_b2994b3fa93b409594c112b1f81b59ab%20%3D%20L.tileLayer%28%0A%20%20%20%20%20%20%20%20%20%20%20%20%20%20%20%20%22https%3A//%7Bs%7D.tile.openstreetmap.org/%7Bz%7D/%7Bx%7D/%7By%7D.png%22%2C%0A%20%20%20%20%20%20%20%20%20%20%20%20%20%20%20%20%7B%22attribution%22%3A%20%22Data%20by%20%5Cu0026copy%3B%20%5Cu003ca%20href%3D%5C%22http%3A//openstreetmap.org%5C%22%5Cu003eOpenStreetMap%5Cu003c/a%5Cu003e%2C%20under%20%5Cu003ca%20href%3D%5C%22http%3A//www.openstreetmap.org/copyright%5C%22%5Cu003eODbL%5Cu003c/a%5Cu003e.%22%2C%20%22detectRetina%22%3A%20false%2C%20%22maxNativeZoom%22%3A%2018%2C%20%22maxZoom%22%3A%2018%2C%20%22minZoom%22%3A%200%2C%20%22noWrap%22%3A%20false%2C%20%22opacity%22%3A%201%2C%20%22subdomains%22%3A%20%22abc%22%2C%20%22tms%22%3A%20false%7D%0A%20%20%20%20%20%20%20%20%20%20%20%20%29.addTo%28map_e8fd284696d3467bb3a606ce54600713%29%3B%0A%20%20%20%20%20%20%20%20%0A%20%20%20%20%0A%0A%20%20%20%20%20%20%20%20function%20geo_json_27602bc49da34481be4ef1520dd1a67b_onEachFeature%28feature%2C%20layer%29%20%7B%0A%20%20%20%20%20%20%20%20%20%20%20%20layer.on%28%7B%0A%20%20%20%20%20%20%20%20%20%20%20%20%7D%29%3B%0A%20%20%20%20%20%20%20%20%7D%3B%0A%20%20%20%20%20%20%20%20var%20geo_json_27602bc49da34481be4ef1520dd1a67b%20%3D%20L.geoJson%28null%2C%20%7B%0A%20%20%20%20%20%20%20%20%20%20%20%20%20%20%20%20onEachFeature%3A%20geo_json_27602bc49da34481be4ef1520dd1a67b_onEachFeature%2C%0A%20%20%20%20%20%20%20%20%20%20%20%20%0A%20%20%20%20%20%20%20%20%7D%29%3B%0A%0A%20%20%20%20%20%20%20%20function%20geo_json_27602bc49da34481be4ef1520dd1a67b_add%20%28data%29%20%7B%0A%20%20%20%20%20%20%20%20%20%20%20%20geo_json_27602bc49da34481be4ef1520dd1a67b%0A%20%20%20%20%20%20%20%20%20%20%20%20%20%20%20%20.addData%28data%29%0A%20%20%20%20%20%20%20%20%20%20%20%20%20%20%20%20.addTo%28map_e8fd284696d3467bb3a606ce54600713%29%3B%0A%20%20%20%20%20%20%20%20%7D%0A%20%20%20%20%20%20%20%20%20%20%20%20geo_json_27602bc49da34481be4ef1520dd1a67b_add%28%7B%22coordinates%22%3A%20%5B%5B%5B-122.2%2C%2035.75%5D%2C%20%5B-120.45%2C%2035.75%5D%2C%20%5B-120.45%2C%2037.1%5D%2C%20%5B-122.2%2C%2037.1%5D%2C%20%5B-122.2%2C%2035.75%5D%5D%5D%2C%20%22type%22%3A%20%22Polygon%22%7D%29%3B%0A%0A%20%20%20%20%20%20%20%20%0A%3C/script%3E onload=\"this.contentDocument.open();this.contentDocument.write(    decodeURIComponent(this.getAttribute('data-html')));this.contentDocument.close();\" allowfullscreen webkitallowfullscreen mozallowfullscreen></iframe></div></div>"
      ],
      "text/plain": [
       "<folium.folium.Map at 0x7fe550b83ac0>"
      ]
     },
     "execution_count": 189,
     "metadata": {},
     "output_type": "execute_result"
    }
   ],
   "source": [
    "my_map = folium.Map(location=[ymean, xmean], tiles=\"OpensTreetMap\", zoom_start=7, height=500)\n",
    "my_map.add_ee_layer(ee_object = big_rect, vis_params = vizParams, name = \"big rectangular\")\n",
    "my_map"
   ]
  },
  {
   "cell_type": "code",
   "execution_count": 192,
   "id": "2ec58c47",
   "metadata": {},
   "outputs": [],
   "source": [
    "#@title Mapdisplay: Display GEE objects using folium.\n",
    "def Mapdisplay(center, dicc, Tiles=\"OpensTreetMap\",zoom_start=10):\n",
    "    '''\n",
    "    :param center: Center of the map (Latitude and Longitude).\n",
    "    :param dicc: Earth Engine Geometries or Tiles dictionary\n",
    "    :param Tiles: Mapbox Bright,Mapbox Control Room,Stamen Terrain,Stamen Toner,stamenwatercolor,cartodbpositron.\n",
    "    :zoom_start: Initial zoom level for the map.\n",
    "    :return: A folium.Map object.\n",
    "    '''\n",
    "    mapViz = folium.Map(location=center,tiles=Tiles, zoom_start=zoom_start)\n",
    "    for k,v in dicc.items():\n",
    "        if ee.image.Image in [type(x) for x in v.values()]:\n",
    "            folium.TileLayer(\n",
    "                tiles = v[\"tile_fetcher\"].url_format,\n",
    "                attr  = 'Google Earth Engine',\n",
    "                overlay =True,\n",
    "                name  = k).add_to(mapViz)\n",
    "        else:\n",
    "            folium.GeoJson(data = v,\n",
    "                           name = k).add_to(mapViz)\n",
    "    mapViz.add_child(folium.LayerControl())\n",
    "    return mapViz"
   ]
  },
  {
   "cell_type": "code",
   "execution_count": 196,
   "id": "e8f55e8f",
   "metadata": {},
   "outputs": [
    {
     "data": {
      "text/html": [
       "<div style=\"width:100%;\"><div style=\"position:relative;width:100%;height:0;padding-bottom:60%;\"><span style=\"color:#565656\">Make this Notebook Trusted to load map: File -> Trust Notebook</span><iframe src=\"about:blank\" style=\"position:absolute;width:100%;height:100%;left:0;top:0;border:none !important;\" data-html=%3C%21DOCTYPE%20html%3E%0A%3Chead%3E%20%20%20%20%0A%20%20%20%20%3Cmeta%20http-equiv%3D%22content-type%22%20content%3D%22text/html%3B%20charset%3DUTF-8%22%20/%3E%0A%20%20%20%20%0A%20%20%20%20%20%20%20%20%3Cscript%3E%0A%20%20%20%20%20%20%20%20%20%20%20%20L_NO_TOUCH%20%3D%20false%3B%0A%20%20%20%20%20%20%20%20%20%20%20%20L_DISABLE_3D%20%3D%20false%3B%0A%20%20%20%20%20%20%20%20%3C/script%3E%0A%20%20%20%20%0A%20%20%20%20%3Cstyle%3Ehtml%2C%20body%20%7Bwidth%3A%20100%25%3Bheight%3A%20100%25%3Bmargin%3A%200%3Bpadding%3A%200%3B%7D%3C/style%3E%0A%20%20%20%20%3Cstyle%3E%23map%20%7Bposition%3Aabsolute%3Btop%3A0%3Bbottom%3A0%3Bright%3A0%3Bleft%3A0%3B%7D%3C/style%3E%0A%20%20%20%20%3Cscript%20src%3D%22https%3A//cdn.jsdelivr.net/npm/leaflet%401.6.0/dist/leaflet.js%22%3E%3C/script%3E%0A%20%20%20%20%3Cscript%20src%3D%22https%3A//code.jquery.com/jquery-1.12.4.min.js%22%3E%3C/script%3E%0A%20%20%20%20%3Cscript%20src%3D%22https%3A//maxcdn.bootstrapcdn.com/bootstrap/3.2.0/js/bootstrap.min.js%22%3E%3C/script%3E%0A%20%20%20%20%3Cscript%20src%3D%22https%3A//cdnjs.cloudflare.com/ajax/libs/Leaflet.awesome-markers/2.0.2/leaflet.awesome-markers.js%22%3E%3C/script%3E%0A%20%20%20%20%3Clink%20rel%3D%22stylesheet%22%20href%3D%22https%3A//cdn.jsdelivr.net/npm/leaflet%401.6.0/dist/leaflet.css%22/%3E%0A%20%20%20%20%3Clink%20rel%3D%22stylesheet%22%20href%3D%22https%3A//maxcdn.bootstrapcdn.com/bootstrap/3.2.0/css/bootstrap.min.css%22/%3E%0A%20%20%20%20%3Clink%20rel%3D%22stylesheet%22%20href%3D%22https%3A//maxcdn.bootstrapcdn.com/bootstrap/3.2.0/css/bootstrap-theme.min.css%22/%3E%0A%20%20%20%20%3Clink%20rel%3D%22stylesheet%22%20href%3D%22https%3A//maxcdn.bootstrapcdn.com/font-awesome/4.6.3/css/font-awesome.min.css%22/%3E%0A%20%20%20%20%3Clink%20rel%3D%22stylesheet%22%20href%3D%22https%3A//cdnjs.cloudflare.com/ajax/libs/Leaflet.awesome-markers/2.0.2/leaflet.awesome-markers.css%22/%3E%0A%20%20%20%20%3Clink%20rel%3D%22stylesheet%22%20href%3D%22https%3A//cdn.jsdelivr.net/gh/python-visualization/folium/folium/templates/leaflet.awesome.rotate.min.css%22/%3E%0A%20%20%20%20%0A%20%20%20%20%20%20%20%20%20%20%20%20%3Cmeta%20name%3D%22viewport%22%20content%3D%22width%3Ddevice-width%2C%0A%20%20%20%20%20%20%20%20%20%20%20%20%20%20%20%20initial-scale%3D1.0%2C%20maximum-scale%3D1.0%2C%20user-scalable%3Dno%22%20/%3E%0A%20%20%20%20%20%20%20%20%20%20%20%20%3Cstyle%3E%0A%20%20%20%20%20%20%20%20%20%20%20%20%20%20%20%20%23map_13508baecdcf4e43b338881d064fade4%20%7B%0A%20%20%20%20%20%20%20%20%20%20%20%20%20%20%20%20%20%20%20%20position%3A%20relative%3B%0A%20%20%20%20%20%20%20%20%20%20%20%20%20%20%20%20%20%20%20%20width%3A%20100.0%25%3B%0A%20%20%20%20%20%20%20%20%20%20%20%20%20%20%20%20%20%20%20%20height%3A%20100.0%25%3B%0A%20%20%20%20%20%20%20%20%20%20%20%20%20%20%20%20%20%20%20%20left%3A%200.0%25%3B%0A%20%20%20%20%20%20%20%20%20%20%20%20%20%20%20%20%20%20%20%20top%3A%200.0%25%3B%0A%20%20%20%20%20%20%20%20%20%20%20%20%20%20%20%20%7D%0A%20%20%20%20%20%20%20%20%20%20%20%20%3C/style%3E%0A%20%20%20%20%20%20%20%20%0A%3C/head%3E%0A%3Cbody%3E%20%20%20%20%0A%20%20%20%20%0A%20%20%20%20%20%20%20%20%20%20%20%20%3Cdiv%20class%3D%22folium-map%22%20id%3D%22map_13508baecdcf4e43b338881d064fade4%22%20%3E%3C/div%3E%0A%20%20%20%20%20%20%20%20%0A%3C/body%3E%0A%3Cscript%3E%20%20%20%20%0A%20%20%20%20%0A%20%20%20%20%20%20%20%20%20%20%20%20var%20map_13508baecdcf4e43b338881d064fade4%20%3D%20L.map%28%0A%20%20%20%20%20%20%20%20%20%20%20%20%20%20%20%20%22map_13508baecdcf4e43b338881d064fade4%22%2C%0A%20%20%20%20%20%20%20%20%20%20%20%20%20%20%20%20%7B%0A%20%20%20%20%20%20%20%20%20%20%20%20%20%20%20%20%20%20%20%20center%3A%20%5B36.425%2C%20-121.325%5D%2C%0A%20%20%20%20%20%20%20%20%20%20%20%20%20%20%20%20%20%20%20%20crs%3A%20L.CRS.EPSG3857%2C%0A%20%20%20%20%20%20%20%20%20%20%20%20%20%20%20%20%20%20%20%20zoom%3A%207%2C%0A%20%20%20%20%20%20%20%20%20%20%20%20%20%20%20%20%20%20%20%20zoomControl%3A%20true%2C%0A%20%20%20%20%20%20%20%20%20%20%20%20%20%20%20%20%20%20%20%20preferCanvas%3A%20false%2C%0A%20%20%20%20%20%20%20%20%20%20%20%20%20%20%20%20%7D%0A%20%20%20%20%20%20%20%20%20%20%20%20%29%3B%0A%0A%20%20%20%20%20%20%20%20%20%20%20%20%0A%0A%20%20%20%20%20%20%20%20%0A%20%20%20%20%0A%20%20%20%20%20%20%20%20%20%20%20%20var%20tile_layer_c42d114f09644e7182820fd25df11435%20%3D%20L.tileLayer%28%0A%20%20%20%20%20%20%20%20%20%20%20%20%20%20%20%20%22https%3A//%7Bs%7D.tile.openstreetmap.org/%7Bz%7D/%7Bx%7D/%7By%7D.png%22%2C%0A%20%20%20%20%20%20%20%20%20%20%20%20%20%20%20%20%7B%22attribution%22%3A%20%22Data%20by%20%5Cu0026copy%3B%20%5Cu003ca%20href%3D%5C%22http%3A//openstreetmap.org%5C%22%5Cu003eOpenStreetMap%5Cu003c/a%5Cu003e%2C%20under%20%5Cu003ca%20href%3D%5C%22http%3A//www.openstreetmap.org/copyright%5C%22%5Cu003eODbL%5Cu003c/a%5Cu003e.%22%2C%20%22detectRetina%22%3A%20false%2C%20%22maxNativeZoom%22%3A%2018%2C%20%22maxZoom%22%3A%2018%2C%20%22minZoom%22%3A%200%2C%20%22noWrap%22%3A%20false%2C%20%22opacity%22%3A%201%2C%20%22subdomains%22%3A%20%22abc%22%2C%20%22tms%22%3A%20false%7D%0A%20%20%20%20%20%20%20%20%20%20%20%20%29.addTo%28map_13508baecdcf4e43b338881d064fade4%29%3B%0A%20%20%20%20%20%20%20%20%0A%20%20%20%20%0A%0A%20%20%20%20%20%20%20%20function%20geo_json_ac2bac7ced514f5284b73942ed0c9dab_onEachFeature%28feature%2C%20layer%29%20%7B%0A%20%20%20%20%20%20%20%20%20%20%20%20layer.on%28%7B%0A%20%20%20%20%20%20%20%20%20%20%20%20%7D%29%3B%0A%20%20%20%20%20%20%20%20%7D%3B%0A%20%20%20%20%20%20%20%20var%20geo_json_ac2bac7ced514f5284b73942ed0c9dab%20%3D%20L.geoJson%28null%2C%20%7B%0A%20%20%20%20%20%20%20%20%20%20%20%20%20%20%20%20onEachFeature%3A%20geo_json_ac2bac7ced514f5284b73942ed0c9dab_onEachFeature%2C%0A%20%20%20%20%20%20%20%20%20%20%20%20%0A%20%20%20%20%20%20%20%20%7D%29%3B%0A%0A%20%20%20%20%20%20%20%20function%20geo_json_ac2bac7ced514f5284b73942ed0c9dab_add%20%28data%29%20%7B%0A%20%20%20%20%20%20%20%20%20%20%20%20geo_json_ac2bac7ced514f5284b73942ed0c9dab%0A%20%20%20%20%20%20%20%20%20%20%20%20%20%20%20%20.addData%28data%29%0A%20%20%20%20%20%20%20%20%20%20%20%20%20%20%20%20.addTo%28map_13508baecdcf4e43b338881d064fade4%29%3B%0A%20%20%20%20%20%20%20%20%7D%0A%20%20%20%20%20%20%20%20%20%20%20%20geo_json_ac2bac7ced514f5284b73942ed0c9dab_add%28%7B%22coordinates%22%3A%20%5B-121.3249999999999%2C%2036.42623535350394%5D%2C%20%22type%22%3A%20%22Point%22%7D%29%3B%0A%0A%20%20%20%20%20%20%20%20%0A%20%20%20%20%0A%0A%20%20%20%20%20%20%20%20function%20geo_json_2446f01b5f9a4ffca7cd8e6363575553_onEachFeature%28feature%2C%20layer%29%20%7B%0A%20%20%20%20%20%20%20%20%20%20%20%20layer.on%28%7B%0A%20%20%20%20%20%20%20%20%20%20%20%20%7D%29%3B%0A%20%20%20%20%20%20%20%20%7D%3B%0A%20%20%20%20%20%20%20%20var%20geo_json_2446f01b5f9a4ffca7cd8e6363575553%20%3D%20L.geoJson%28null%2C%20%7B%0A%20%20%20%20%20%20%20%20%20%20%20%20%20%20%20%20onEachFeature%3A%20geo_json_2446f01b5f9a4ffca7cd8e6363575553_onEachFeature%2C%0A%20%20%20%20%20%20%20%20%20%20%20%20%0A%20%20%20%20%20%20%20%20%7D%29%3B%0A%0A%20%20%20%20%20%20%20%20function%20geo_json_2446f01b5f9a4ffca7cd8e6363575553_add%20%28data%29%20%7B%0A%20%20%20%20%20%20%20%20%20%20%20%20geo_json_2446f01b5f9a4ffca7cd8e6363575553%0A%20%20%20%20%20%20%20%20%20%20%20%20%20%20%20%20.addData%28data%29%0A%20%20%20%20%20%20%20%20%20%20%20%20%20%20%20%20.addTo%28map_13508baecdcf4e43b338881d064fade4%29%3B%0A%20%20%20%20%20%20%20%20%7D%0A%20%20%20%20%20%20%20%20%20%20%20%20geo_json_2446f01b5f9a4ffca7cd8e6363575553_add%28%7B%22coordinates%22%3A%20%5B%5B%5B-122.20000766516826%2C%2037.10008918208593%5D%2C%20%5B-122.20001436630844%2C%2037.10008925617915%5D%2C%20%5B-122.2000233238397%2C%2037.10008728493637%5D%2C%20%5B-122.20003251069356%2C%2037.100086171888464%5D%2C%20%5B-122.20003859163714%2C%2037.100083925020485%5D%2C%20%5B-122.20004505201828%2C%2037.10008250331263%5D%2C%20%5B-122.2000529627087%2C%2037.10007861500393%5D%2C%20%5B-122.20006139413438%2C%2037.10007549964636%5D%2C%20%5B-122.20006644620179%2C%2037.10007198751662%5D%2C%20%5B-122.2000721515761%2C%2037.10006918317606%5D%2C%20%5B-122.2000783857333%2C%2037.10006368731171%5D%2C%20%5B-122.20008539058793%2C%2037.10005881762775%5D%2C%20%5B-122.20008901163406%2C%2037.10005431980252%5D%2C%20%5B-122.20009350785308%2C%2037.10005035605543%5D%2C%20%5B-122.20009756923821%2C%2037.10004369010731%5D%2C%20%5B-122.20010258993521%2C%2037.10003745372475%5D%2C%20%5B-122.20010449172547%2C%2037.10003232823163%5D%2C%20%5B-122.20010742089056%2C%2037.10002752059296%5D%2C%20%5B-122.20010898621871%2C%2037.10002021517141%5D%2C%20%5B-122.20011162311192%2C%2037.10001310850719%5D%2C%20%5B-122.20011165426513%2C%2037.10000776333597%5D%2C%20%5B-122.20011278321603%2C%2037.10000249449424%5D%2C%20%5B-122.20011282657072%2C%2037.099999999946554%5D%2C%20%5B-122.2001108816467%2C%2035.749999999949125%5D%2C%20%5B-122.20010981126357%2C%2035.74999390356205%5D%2C%20%5B-122.20010984873217%2C%2035.7499877456694%5D%2C%20%5B-122.20010761577679%2C%2035.74998139912275%5D%2C%20%5B-122.20010646852353%2C%2035.74997486491713%5D%2C%20%5B-122.20010334259499%2C%2035.74996925380429%5D%2C%20%5B-122.20010125925769%2C%2035.74996333250212%5D%2C%20%5B-122.20009693093266%2C%2035.74995774472184%5D%2C%20%5B-122.2000935805137%2C%2035.74995173064069%5D%2C%20%5B-122.2000886478651%2C%2035.74994705144614%5D%2C%20%5B-122.20008460955718%2C%2035.74994183806958%5D%2C%20%5B-122.20007853039826%2C%2035.749937453842286%5D%2C%20%5B-122.20007324350819%2C%2035.74993243860575%5D%2C%20%5B-122.20006689677885%2C%2035.749929063792614%5D%2C%20%5B-122.20006122495029%2C%2035.749924973325676%5D%2C%20%5B-122.20005387885854%2C%2035.74992214163502%5D%2C%20%5B-122.20004707633389%2C%2035.749918524455%5D%2C%20%5B-122.20003982072288%2C%2035.749916722657694%5D%2C%20%5B-122.20003296685077%2C%2035.7499140807007%5D%2C%20%5B-122.20002493857393%2C%2035.74991302694857%5D%2C%20%5B-122.20001716189458%2C%2035.749911095751834%5D%2C%20%5B-122.20000957494706%2C%2035.749911010392914%5D%2C%20%5B-122.20000208459818%2C%2035.74991002724506%5D%2C%20%5B-122.19999901062819%2C%2035.749910014922825%5D%2C%20%5B-120.45000098937187%2C%2035.749910014922825%5D%2C%20%5B-120.44999346832049%2C%2035.74991082917956%5D%2C%20%5B-120.44998588137298%2C%2035.74991074381916%5D%2C%20%5B-120.44997804171906%2C%2035.74991249931877%5D%2C%20%5B-120.44996998053485%2C%2035.74991337205068%5D%2C%20%5B-120.44996303905631%2C%2035.74991585879817%5D%2C%20%5B-120.44995572469037%2C%2035.74991749667074%5D%2C%20%5B-120.4499488012293%2C%2035.74992095942164%5D%2C%20%5B-120.44994136123965%2C%2035.749923624756235%5D%2C%20%5B-120.4499355518742%2C%2035.749927586049914%5D%2C%20%5B-120.44992909231175%2C%2035.74993081678128%5D%2C%20%5B-120.44992363614983%2C%2035.74993571114927%5D%2C%20%5B-120.44991740957673%2C%2035.74993995692655%5D%2C%20%5B-120.44991319474931%2C%2035.74994507744827%5D%2C%20%5B-120.44990810417077%2C%2035.749949643872924%5D%2C%20%5B-120.44990454961851%2C%2035.749955580267226%5D%2C%20%5B-120.44990003209699%2C%2035.74996106852415%5D%2C%20%5B-120.44989774730844%2C%2035.74996694068117%5D%2C%20%5B-120.4498944309243%2C%2035.749972479312476%5D%2C%20%5B-120.44989306092518%2C%2035.74997898519683%5D%2C%20%5B-120.449890612051%2C%2035.749985279068895%5D%2C%20%5B-120.44989043917192%2C%2035.74999143543807%5D%2C%20%5B-120.44988916096776%2C%2035.74999750540153%5D%2C%20%5B-120.44988911835335%2C%2035.749999999949125%5D%2C%20%5B-120.44988717342933%2C%2037.09999999994655%5D%2C%20%5B-120.4498881188234%2C%2037.100005291724145%5D%2C%20%5B-120.44988796418876%2C%2037.10001063553003%5D%2C%20%5B-120.44989035307043%2C%2037.10001779776378%5D%2C%20%5B-120.44989166389091%2C%2037.100025134986694%5D%2C%20%5B-120.44989442483667%2C%2037.10003000554044%5D%2C%20%5B-120.44989614775507%2C%2037.10003517111162%5D%2C%20%5B-120.44990094977165%2C%2037.100041516103055%5D%2C%20%5B-120.44990477791512%2C%2037.100048269285004%5D%2C%20%5B-120.44990913464267%2C%2037.10005233091836%5D%2C%20%5B-120.44991259797132%2C%2037.1000569070749%5D%2C%20%5B-120.44991943088368%2C%2037.10006192976185%5D%2C%20%5B-120.4499254716314%2C%2037.10006756134874%5D%2C%20%5B-120.44993107734567%2C%2037.10007049075502%5D%2C%20%5B-120.44993600540428%2C%2037.10007411323414%5D%2C%20%5B-120.44994432531267%2C%2037.10007741380976%5D%2C%20%5B-120.44995209782124%2C%2037.100081475526196%5D%2C%20%5B-120.44995850630687%2C%2037.100083039523994%5D%2C%20%5B-120.44996450682164%2C%2037.1000854199756%5D%2C%20%5B-120.44997365145997%2C%2037.10008673571322%5D%2C%20%5B-120.44998253703652%2C%2037.10008890424568%5D%2C%20%5B-120.44998923817664%2C%2037.1000889783403%5D%2C%20%5B-120.44999583350528%2C%2037.10008992727989%5D%2C%20%5B-120.44999896060713%2C%2037.100089984840935%5D%2C%20%5B-122.20000103939292%2C%2037.10008998484093%5D%2C%20%5B-122.20000766516826%2C%2037.10008918208593%5D%5D%5D%2C%20%22type%22%3A%20%22Polygon%22%7D%29%3B%0A%0A%20%20%20%20%20%20%20%20%0A%20%20%20%20%0A%20%20%20%20%20%20%20%20%20%20%20%20var%20layer_control_139ddae436604f8c90352e2025df7667%20%3D%20%7B%0A%20%20%20%20%20%20%20%20%20%20%20%20%20%20%20%20base_layers%20%3A%20%7B%0A%20%20%20%20%20%20%20%20%20%20%20%20%20%20%20%20%20%20%20%20%22openstreetmap%22%20%3A%20tile_layer_c42d114f09644e7182820fd25df11435%2C%0A%20%20%20%20%20%20%20%20%20%20%20%20%20%20%20%20%7D%2C%0A%20%20%20%20%20%20%20%20%20%20%20%20%20%20%20%20overlays%20%3A%20%20%7B%0A%20%20%20%20%20%20%20%20%20%20%20%20%20%20%20%20%20%20%20%20%22center%22%20%3A%20geo_json_ac2bac7ced514f5284b73942ed0c9dab%2C%0A%20%20%20%20%20%20%20%20%20%20%20%20%20%20%20%20%20%20%20%20%22buffer%22%20%3A%20geo_json_2446f01b5f9a4ffca7cd8e6363575553%2C%0A%20%20%20%20%20%20%20%20%20%20%20%20%20%20%20%20%7D%2C%0A%20%20%20%20%20%20%20%20%20%20%20%20%7D%3B%0A%20%20%20%20%20%20%20%20%20%20%20%20L.control.layers%28%0A%20%20%20%20%20%20%20%20%20%20%20%20%20%20%20%20layer_control_139ddae436604f8c90352e2025df7667.base_layers%2C%0A%20%20%20%20%20%20%20%20%20%20%20%20%20%20%20%20layer_control_139ddae436604f8c90352e2025df7667.overlays%2C%0A%20%20%20%20%20%20%20%20%20%20%20%20%20%20%20%20%7B%22autoZIndex%22%3A%20true%2C%20%22collapsed%22%3A%20true%2C%20%22position%22%3A%20%22topright%22%7D%0A%20%20%20%20%20%20%20%20%20%20%20%20%29.addTo%28map_13508baecdcf4e43b338881d064fade4%29%3B%0A%20%20%20%20%20%20%20%20%0A%3C/script%3E onload=\"this.contentDocument.open();this.contentDocument.write(    decodeURIComponent(this.getAttribute('data-html')));this.contentDocument.close();\" allowfullscreen webkitallowfullscreen mozallowfullscreen></iframe></div></div>"
      ],
      "text/plain": [
       "<folium.folium.Map at 0x7fe540878f40>"
      ]
     },
     "execution_count": 196,
     "metadata": {},
     "output_type": "execute_result"
    }
   ],
   "source": [
    "buffer = big_rect.buffer(10).getInfo()\n",
    "\n",
    "# Compute the centroid of the polygon.\n",
    "centroid = big_rect.centroid().getInfo()\n",
    "\n",
    "Mapdisplay(center=(ymean, xmean), dicc={'center':centroid,'buffer':buffer}, zoom_start=7)"
   ]
  },
  {
   "cell_type": "code",
   "execution_count": 109,
   "id": "54f94513",
   "metadata": {},
   "outputs": [
    {
     "name": "stdout",
     "output_type": "stream",
     "text": [
      "Mount Everest elevation (m): 8729\n"
     ]
    }
   ],
   "source": [
    "# Print the elevation of Mount Everest.\n",
    "dem = ee.Image('USGS/SRTMGL1_003')\n",
    "xy = ee.Geometry.Point([86.9250, 27.9881])\n",
    "elev = dem.sample(xy, 30).first().get('elevation').getInfo()\n",
    "print('Mount Everest elevation (m):', elev)"
   ]
  },
  {
   "cell_type": "code",
   "execution_count": 111,
   "id": "d7e25934",
   "metadata": {},
   "outputs": [],
   "source": [
    "# # Import the Image function from the IPython.display module. \n",
    "# from IPython.display import Image\n",
    "\n",
    "# # Display a thumbnail of global elevation.\n",
    "# Image(url = dem.updateMask(dem.gt(0))\n",
    "#   .getThumbUrl({'min': 0, 'max': 4000, 'dimensions': 512,\n",
    "#                 'palette': ['006633', 'E5FFCC', '662A00', 'D8D8D8', 'F5F5F5']}))"
   ]
  },
  {
   "cell_type": "code",
   "execution_count": 159,
   "id": "8411fe6a",
   "metadata": {},
   "outputs": [
    {
     "data": {
      "text/html": [
       "<div style=\"width:100%;\"><div style=\"position:relative;width:100%;height:0;padding-bottom:60%;\"><span style=\"color:#565656\">Make this Notebook Trusted to load map: File -> Trust Notebook</span><iframe src=\"about:blank\" style=\"position:absolute;width:100%;height:100%;left:0;top:0;border:none !important;\" data-html=%3C%21DOCTYPE%20html%3E%0A%3Chead%3E%20%20%20%20%0A%20%20%20%20%3Cmeta%20http-equiv%3D%22content-type%22%20content%3D%22text/html%3B%20charset%3DUTF-8%22%20/%3E%0A%20%20%20%20%0A%20%20%20%20%20%20%20%20%3Cscript%3E%0A%20%20%20%20%20%20%20%20%20%20%20%20L_NO_TOUCH%20%3D%20false%3B%0A%20%20%20%20%20%20%20%20%20%20%20%20L_DISABLE_3D%20%3D%20false%3B%0A%20%20%20%20%20%20%20%20%3C/script%3E%0A%20%20%20%20%0A%20%20%20%20%3Cstyle%3Ehtml%2C%20body%20%7Bwidth%3A%20100%25%3Bheight%3A%20100%25%3Bmargin%3A%200%3Bpadding%3A%200%3B%7D%3C/style%3E%0A%20%20%20%20%3Cstyle%3E%23map%20%7Bposition%3Aabsolute%3Btop%3A0%3Bbottom%3A0%3Bright%3A0%3Bleft%3A0%3B%7D%3C/style%3E%0A%20%20%20%20%3Cscript%20src%3D%22https%3A//cdn.jsdelivr.net/npm/leaflet%401.6.0/dist/leaflet.js%22%3E%3C/script%3E%0A%20%20%20%20%3Cscript%20src%3D%22https%3A//code.jquery.com/jquery-1.12.4.min.js%22%3E%3C/script%3E%0A%20%20%20%20%3Cscript%20src%3D%22https%3A//maxcdn.bootstrapcdn.com/bootstrap/3.2.0/js/bootstrap.min.js%22%3E%3C/script%3E%0A%20%20%20%20%3Cscript%20src%3D%22https%3A//cdnjs.cloudflare.com/ajax/libs/Leaflet.awesome-markers/2.0.2/leaflet.awesome-markers.js%22%3E%3C/script%3E%0A%20%20%20%20%3Clink%20rel%3D%22stylesheet%22%20href%3D%22https%3A//cdn.jsdelivr.net/npm/leaflet%401.6.0/dist/leaflet.css%22/%3E%0A%20%20%20%20%3Clink%20rel%3D%22stylesheet%22%20href%3D%22https%3A//maxcdn.bootstrapcdn.com/bootstrap/3.2.0/css/bootstrap.min.css%22/%3E%0A%20%20%20%20%3Clink%20rel%3D%22stylesheet%22%20href%3D%22https%3A//maxcdn.bootstrapcdn.com/bootstrap/3.2.0/css/bootstrap-theme.min.css%22/%3E%0A%20%20%20%20%3Clink%20rel%3D%22stylesheet%22%20href%3D%22https%3A//maxcdn.bootstrapcdn.com/font-awesome/4.6.3/css/font-awesome.min.css%22/%3E%0A%20%20%20%20%3Clink%20rel%3D%22stylesheet%22%20href%3D%22https%3A//cdnjs.cloudflare.com/ajax/libs/Leaflet.awesome-markers/2.0.2/leaflet.awesome-markers.css%22/%3E%0A%20%20%20%20%3Clink%20rel%3D%22stylesheet%22%20href%3D%22https%3A//cdn.jsdelivr.net/gh/python-visualization/folium/folium/templates/leaflet.awesome.rotate.min.css%22/%3E%0A%20%20%20%20%0A%20%20%20%20%20%20%20%20%20%20%20%20%3Cmeta%20name%3D%22viewport%22%20content%3D%22width%3Ddevice-width%2C%0A%20%20%20%20%20%20%20%20%20%20%20%20%20%20%20%20initial-scale%3D1.0%2C%20maximum-scale%3D1.0%2C%20user-scalable%3Dno%22%20/%3E%0A%20%20%20%20%20%20%20%20%20%20%20%20%3Cstyle%3E%0A%20%20%20%20%20%20%20%20%20%20%20%20%20%20%20%20%23map_a0081dc436b9442e8487cc7a625a050d%20%7B%0A%20%20%20%20%20%20%20%20%20%20%20%20%20%20%20%20%20%20%20%20position%3A%20relative%3B%0A%20%20%20%20%20%20%20%20%20%20%20%20%20%20%20%20%20%20%20%20width%3A%20100.0%25%3B%0A%20%20%20%20%20%20%20%20%20%20%20%20%20%20%20%20%20%20%20%20height%3A%20500.0px%3B%0A%20%20%20%20%20%20%20%20%20%20%20%20%20%20%20%20%20%20%20%20left%3A%200.0%25%3B%0A%20%20%20%20%20%20%20%20%20%20%20%20%20%20%20%20%20%20%20%20top%3A%200.0%25%3B%0A%20%20%20%20%20%20%20%20%20%20%20%20%20%20%20%20%7D%0A%20%20%20%20%20%20%20%20%20%20%20%20%3C/style%3E%0A%20%20%20%20%20%20%20%20%0A%3C/head%3E%0A%3Cbody%3E%20%20%20%20%0A%20%20%20%20%0A%20%20%20%20%20%20%20%20%20%20%20%20%3Cdiv%20class%3D%22folium-map%22%20id%3D%22map_a0081dc436b9442e8487cc7a625a050d%22%20%3E%3C/div%3E%0A%20%20%20%20%20%20%20%20%0A%3C/body%3E%0A%3Cscript%3E%20%20%20%20%0A%20%20%20%20%0A%20%20%20%20%20%20%20%20%20%20%20%20var%20map_a0081dc436b9442e8487cc7a625a050d%20%3D%20L.map%28%0A%20%20%20%20%20%20%20%20%20%20%20%20%20%20%20%20%22map_a0081dc436b9442e8487cc7a625a050d%22%2C%0A%20%20%20%20%20%20%20%20%20%20%20%20%20%20%20%20%7B%0A%20%20%20%20%20%20%20%20%20%20%20%20%20%20%20%20%20%20%20%20center%3A%20%5B40.33%2C%20-99.42%5D%2C%0A%20%20%20%20%20%20%20%20%20%20%20%20%20%20%20%20%20%20%20%20crs%3A%20L.CRS.EPSG3857%2C%0A%20%20%20%20%20%20%20%20%20%20%20%20%20%20%20%20%20%20%20%20zoom%3A%204%2C%0A%20%20%20%20%20%20%20%20%20%20%20%20%20%20%20%20%20%20%20%20zoomControl%3A%20true%2C%0A%20%20%20%20%20%20%20%20%20%20%20%20%20%20%20%20%20%20%20%20preferCanvas%3A%20false%2C%0A%20%20%20%20%20%20%20%20%20%20%20%20%20%20%20%20%7D%0A%20%20%20%20%20%20%20%20%20%20%20%20%29%3B%0A%0A%20%20%20%20%20%20%20%20%20%20%20%20%0A%0A%20%20%20%20%20%20%20%20%0A%20%20%20%20%0A%20%20%20%20%20%20%20%20%20%20%20%20var%20tile_layer_88db7b9b913f4f498057e96f4ebd520e%20%3D%20L.tileLayer%28%0A%20%20%20%20%20%20%20%20%20%20%20%20%20%20%20%20%22https%3A//%7Bs%7D.tile.openstreetmap.org/%7Bz%7D/%7Bx%7D/%7By%7D.png%22%2C%0A%20%20%20%20%20%20%20%20%20%20%20%20%20%20%20%20%7B%22attribution%22%3A%20%22Data%20by%20%5Cu0026copy%3B%20%5Cu003ca%20href%3D%5C%22http%3A//openstreetmap.org%5C%22%5Cu003eOpenStreetMap%5Cu003c/a%5Cu003e%2C%20under%20%5Cu003ca%20href%3D%5C%22http%3A//www.openstreetmap.org/copyright%5C%22%5Cu003eODbL%5Cu003c/a%5Cu003e.%22%2C%20%22detectRetina%22%3A%20false%2C%20%22maxNativeZoom%22%3A%2018%2C%20%22maxZoom%22%3A%2018%2C%20%22minZoom%22%3A%200%2C%20%22noWrap%22%3A%20false%2C%20%22opacity%22%3A%201%2C%20%22subdomains%22%3A%20%22abc%22%2C%20%22tms%22%3A%20false%7D%0A%20%20%20%20%20%20%20%20%20%20%20%20%29.addTo%28map_a0081dc436b9442e8487cc7a625a050d%29%3B%0A%20%20%20%20%20%20%20%20%0A%3C/script%3E onload=\"this.contentDocument.open();this.contentDocument.write(    decodeURIComponent(this.getAttribute('data-html')));this.contentDocument.close();\" allowfullscreen webkitallowfullscreen mozallowfullscreen></iframe></div></div>"
      ],
      "text/plain": [
       "<folium.folium.Map at 0x7fe5123908b0>"
      ]
     },
     "execution_count": 159,
     "metadata": {},
     "output_type": "execute_result"
    }
   ],
   "source": [
    "dem = ee.Image('USGS/SRTMGL1_003')\n",
    "\n",
    "basemaps = {\n",
    "    'Google Maps': folium.TileLayer(\n",
    "        tiles = 'https://mt1.google.com/vt/lyrs=m&x={x}&y={y}&z={z}',\n",
    "        attr = 'Google',\n",
    "        name = 'Google Maps',\n",
    "        overlay = True,\n",
    "        control = True\n",
    "    ),\n",
    "    'Google Satellite': folium.TileLayer(\n",
    "        tiles = 'https://mt1.google.com/vt/lyrs=s&x={x}&y={y}&z={z}',\n",
    "        attr = 'Google',\n",
    "        name = 'Google Satellite',\n",
    "        overlay = True,\n",
    "        control = True\n",
    "    ),\n",
    "    'Google Terrain': folium.TileLayer(\n",
    "        tiles = 'https://mt1.google.com/vt/lyrs=p&x={x}&y={y}&z={z}',\n",
    "        attr = 'Google',\n",
    "        name = 'Google Terrain',\n",
    "        overlay = True,\n",
    "        control = True\n",
    "    ),\n",
    "    'Google Satellite Hybrid': folium.TileLayer(\n",
    "        tiles = 'https://mt1.google.com/vt/lyrs=y&x={x}&y={y}&z={z}',\n",
    "        attr = 'Google',\n",
    "        name = 'Google Satellite',\n",
    "        overlay = True,\n",
    "        control = True\n",
    "    ),\n",
    "    'Esri Satellite': folium.TileLayer(\n",
    "        tiles = 'https://server.arcgisonline.com/ArcGIS/rest/services/World_Imagery/MapServer/tile/{z}/{y}/{x}',\n",
    "        attr = 'Esri',\n",
    "        name = 'Esri Satellite',\n",
    "        overlay = True,\n",
    "        control = True\n",
    "    )\n",
    "}\n",
    "\n",
    "\n",
    "# Set visualization parameters.\n",
    "vis_params = {\n",
    "  'min': 0,\n",
    "  'max': 4000,\n",
    "  'palette': ['006633', 'E5FFCC', '662A00', 'D8D8D8', 'F5F5F5']}\n",
    "\n",
    "# Create a folium map object.\n",
    "my_map = folium.Map(location=[40.33, -99.42], zoom_start=4, height=500)\n",
    "my_map\n"
   ]
  },
  {
   "cell_type": "code",
   "execution_count": null,
   "id": "98f48a14",
   "metadata": {},
   "outputs": [],
   "source": [
    "# Add custom basemaps\n",
    "basemaps['Google Maps'].add_to(my_map)\n",
    "basemaps['Google Satellite Hybrid'].add_to(my_map)\n",
    "\n",
    "# Add the elevation model to the map object.\n",
    "my_map.add_ee_layer(dem.updateMask(dem.gt(0)), vis_params, 'DEM')\n",
    "\n",
    "# Display ee.Image\n",
    "dataset = ee.Image('JRC/GSW1_1/GlobalSurfaceWater')\n",
    "occurrence = dataset.select('occurrence');\n",
    "occurrenceVis = {'min': 0.0, 'max': 100.0, 'palette': ['ffffff', 'ffbbbb', '0000ff']}\n",
    "my_map.add_ee_layer(occurrence, occurrenceVis, 'JRC Surface Water')\n",
    "\n",
    "# Display ee.Geometry\n",
    "holePoly = ee.Geometry.Polygon(coords = [[[-35, -10], [-35, 10], [35, 10], [35, -10], [-35, -10]]],\n",
    "                               proj= 'EPSG:4326',\n",
    "                               geodesic = True,\n",
    "                               maxError= 1.,\n",
    "                               evenOdd = False)\n",
    "my_map.add_ee_layer(holePoly, {}, 'Polygon')\n",
    "\n",
    "# Display ee.FeatureCollection\n",
    "fc = ee.FeatureCollection('TIGER/2018/States')\n",
    "my_map.add_ee_layer(fc, {}, 'US States')\n",
    "\n",
    "# Add a layer control panel to the map.\n",
    "my_map.add_child(folium.LayerControl())\n",
    "plugins.Fullscreen().add_to(my_map)\n",
    "\n",
    "# Display the map.\n",
    "display(my_map)"
   ]
  },
  {
   "cell_type": "code",
   "execution_count": null,
   "id": "036743c2",
   "metadata": {},
   "outputs": [],
   "source": []
  },
  {
   "cell_type": "code",
   "execution_count": null,
   "id": "fd945d7d",
   "metadata": {},
   "outputs": [],
   "source": []
  },
  {
   "cell_type": "code",
   "execution_count": null,
   "id": "8aaad816",
   "metadata": {},
   "outputs": [],
   "source": []
  }
 ],
 "metadata": {
  "kernelspec": {
   "display_name": "GEE",
   "language": "python",
   "name": "gee"
  },
  "language_info": {
   "codemirror_mode": {
    "name": "ipython",
    "version": 3
   },
   "file_extension": ".py",
   "mimetype": "text/x-python",
   "name": "python",
   "nbconvert_exporter": "python",
   "pygments_lexer": "ipython3",
   "version": "3.9.7"
  }
 },
 "nbformat": 4,
 "nbformat_minor": 5
}
