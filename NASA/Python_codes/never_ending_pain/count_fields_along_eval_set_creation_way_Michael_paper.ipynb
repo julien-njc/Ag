{
 "cells": [
  {
   "cell_type": "code",
   "execution_count": 1,
   "id": "e0faa067",
   "metadata": {},
   "outputs": [],
   "source": [
    "import numpy as np\n",
    "import pandas as pd"
   ]
  },
  {
   "cell_type": "code",
   "execution_count": 2,
   "id": "62132b45",
   "metadata": {},
   "outputs": [],
   "source": [
    "perry_dir=\"/Users/hn/Documents/01_research_data/NASA/Perry_and_Co/\"\n",
    "param_dir = \"/Users/hn/Documents/01_research_data/NASA/parameters/\"\n",
    "\n",
    "ML_data_dir=\"/Users/hn/Documents/01_research_data/NASA/ML_data/\""
   ]
  },
  {
   "cell_type": "code",
   "execution_count": 43,
   "id": "6d18439e",
   "metadata": {},
   "outputs": [
    {
     "name": "stdout",
     "output_type": "stream",
     "text": [
      "294\n"
     ]
    }
   ],
   "source": [
    "set1_all_votes_Perry=pd.read_csv(perry_dir+\"set1_all_votes.csv\")\n",
    "print (len(set1_all_votes_Perry.ID.unique()))"
   ]
  },
  {
   "cell_type": "code",
   "execution_count": 44,
   "id": "ca462eae",
   "metadata": {},
   "outputs": [
    {
     "name": "stdout",
     "output_type": "stream",
     "text": [
      "6340 , 6340\n"
     ]
    }
   ],
   "source": [
    "evaluation_set=pd.read_csv(param_dir+\"evaluation_set.csv\")\n",
    "print (len(evaluation_set.ID.unique()), \",\", evaluation_set.shape[0])"
   ]
  },
  {
   "cell_type": "code",
   "execution_count": 45,
   "id": "dc86b854",
   "metadata": {},
   "outputs": [],
   "source": [
    "set1_all_votes_Perry=pd.merge(set1_all_votes_Perry, \n",
    "                              evaluation_set[[\"ID\", \"CropTyp\", \"ExctAcr\"]], \n",
    "                              on=['ID'], how='left')"
   ]
  },
  {
   "cell_type": "code",
   "execution_count": 46,
   "id": "5b17fac1",
   "metadata": {},
   "outputs": [
    {
     "name": "stdout",
     "output_type": "stream",
     "text": [
      "294\n",
      "219\n"
     ]
    }
   ],
   "source": [
    "######## Toss Small Fields\n",
    "\n",
    "print (len(set1_all_votes_Perry.ID.unique()))\n",
    "set1_all_votes_Perry=set1_all_votes_Perry[set1_all_votes_Perry.ExctAcr>10]\n",
    "print (len(set1_all_votes_Perry.ID.unique()))"
   ]
  },
  {
   "cell_type": "markdown",
   "id": "b77aa783",
   "metadata": {},
   "source": [
    "# Hard Crops for Experts"
   ]
  },
  {
   "cell_type": "code",
   "execution_count": 47,
   "id": "2e6cbd9d",
   "metadata": {},
   "outputs": [
    {
     "name": "stdout",
     "output_type": "stream",
     "text": [
      "27\n"
     ]
    },
    {
     "data": {
      "text/plain": [
       "['alfalfa seed',\n",
       " 'barley',\n",
       " 'barley hay',\n",
       " 'bean, dry',\n",
       " 'bean, green',\n",
       " 'bluegrass seed',\n",
       " 'buckwheat',\n",
       " 'canola',\n",
       " 'carrot',\n",
       " 'carrot seed',\n",
       " 'corn seed',\n",
       " 'corn, field',\n",
       " 'corn, sweet',\n",
       " 'grass hay',\n",
       " 'grass seed',\n",
       " 'market crops',\n",
       " 'mint',\n",
       " 'oat hay',\n",
       " 'onion',\n",
       " 'pea, dry',\n",
       " 'pea, green',\n",
       " 'potato',\n",
       " 'triticale',\n",
       " 'triticale hay',\n",
       " 'wheat',\n",
       " 'wheat fallow',\n",
       " 'yellow mustard']"
      ]
     },
     "execution_count": 47,
     "metadata": {},
     "output_type": "execute_result"
    }
   ],
   "source": [
    "print (len(sorted(set1_all_votes_Perry.CropTyp.unique())))\n",
    "(sorted(set1_all_votes_Perry.CropTyp.unique()))"
   ]
  },
  {
   "cell_type": "markdown",
   "id": "9e41264e",
   "metadata": {},
   "source": [
    "# Non-Expert, Survey 2"
   ]
  },
  {
   "cell_type": "code",
   "execution_count": 48,
   "id": "bd990efb",
   "metadata": {},
   "outputs": [],
   "source": [
    "NE_S2_dir = \"/Users/hn/Documents/01_research_data/NASA/parameters/nonExpert_set2_fields/\"\n",
    "nonExpert_survey2_fields=pd.read_csv(NE_S2_dir+\"nonExpert_survey2_fields.csv\")"
   ]
  },
  {
   "cell_type": "code",
   "execution_count": 49,
   "id": "13e818e7",
   "metadata": {},
   "outputs": [
    {
     "name": "stdout",
     "output_type": "stream",
     "text": [
      "1429\n",
      "(1429, 14)\n",
      "(1022, 14)\n"
     ]
    }
   ],
   "source": [
    "print (len(nonExpert_survey2_fields.ID.unique()))\n",
    "print (nonExpert_survey2_fields.shape)\n",
    "nonExpert_survey2_fields=nonExpert_survey2_fields[nonExpert_survey2_fields.ExctAcr>10]\n",
    "print (nonExpert_survey2_fields.shape)"
   ]
  },
  {
   "cell_type": "code",
   "execution_count": 51,
   "id": "11d08847",
   "metadata": {},
   "outputs": [
    {
     "name": "stdout",
     "output_type": "stream",
     "text": [
      "24\n"
     ]
    },
    {
     "data": {
      "text/plain": [
       "['barley',\n",
       " 'barley hay',\n",
       " 'bean, dry',\n",
       " 'bean, green',\n",
       " 'bluegrass seed',\n",
       " 'buckwheat',\n",
       " 'canola',\n",
       " 'carrot',\n",
       " 'corn seed',\n",
       " 'corn, field',\n",
       " 'corn, sweet',\n",
       " 'grass hay',\n",
       " 'grass seed',\n",
       " 'market crops',\n",
       " 'mint',\n",
       " 'oat hay',\n",
       " 'onion',\n",
       " 'pea seed',\n",
       " 'pea, dry',\n",
       " 'pea, green',\n",
       " 'potato',\n",
       " 'triticale',\n",
       " 'wheat',\n",
       " 'yellow mustard']"
      ]
     },
     "execution_count": 51,
     "metadata": {},
     "output_type": "execute_result"
    }
   ],
   "source": [
    "print (len(sorted(nonExpert_survey2_fields.CropTyp.unique())))\n",
    "((sorted(nonExpert_survey2_fields.CropTyp.unique())))"
   ]
  },
  {
   "cell_type": "code",
   "execution_count": 55,
   "id": "471fab04",
   "metadata": {},
   "outputs": [
    {
     "data": {
      "text/html": [
       "<div>\n",
       "<style scoped>\n",
       "    .dataframe tbody tr th:only-of-type {\n",
       "        vertical-align: middle;\n",
       "    }\n",
       "\n",
       "    .dataframe tbody tr th {\n",
       "        vertical-align: top;\n",
       "    }\n",
       "\n",
       "    .dataframe thead th {\n",
       "        text-align: right;\n",
       "    }\n",
       "</style>\n",
       "<table border=\"1\" class=\"dataframe\">\n",
       "  <thead>\n",
       "    <tr style=\"text-align: right;\">\n",
       "      <th></th>\n",
       "      <th>ID</th>\n",
       "      <th>NDVI_TS_Name</th>\n",
       "      <th>corrected_RGB</th>\n",
       "      <th>TOA_RGB</th>\n",
       "      <th>latitude</th>\n",
       "      <th>longitude</th>\n",
       "      <th>Question Text</th>\n",
       "      <th>CropTyp</th>\n",
       "      <th>Irrigtn</th>\n",
       "      <th>DataSrc</th>\n",
       "      <th>Acres</th>\n",
       "      <th>ExctAcr</th>\n",
       "      <th>LstSrvD</th>\n",
       "      <th>county</th>\n",
       "    </tr>\n",
       "  </thead>\n",
       "  <tbody>\n",
       "  </tbody>\n",
       "</table>\n",
       "</div>"
      ],
      "text/plain": [
       "Empty DataFrame\n",
       "Columns: [ID, NDVI_TS_Name, corrected_RGB, TOA_RGB, latitude, longitude, Question Text, CropTyp, Irrigtn, DataSrc, Acres, ExctAcr, LstSrvD, county]\n",
       "Index: []"
      ]
     },
     "execution_count": 55,
     "metadata": {},
     "output_type": "execute_result"
    }
   ],
   "source": [
    "nonExpert_survey2_fields[nonExpert_survey2_fields.ID.isin(list(set1_all_votes_Perry.ID))]"
   ]
  },
  {
   "cell_type": "markdown",
   "id": "6458a800",
   "metadata": {},
   "source": [
    "# Expert Set 2 dammit"
   ]
  },
  {
   "cell_type": "code",
   "execution_count": 56,
   "id": "44213392",
   "metadata": {},
   "outputs": [],
   "source": [
    "set2_all_responses=pd.read_csv(perry_dir+\"set2_all_responses.csv\")\n",
    "set2_hand_picked_extended=pd.read_csv(perry_dir+\"set2_hand_picked_extended.csv\")"
   ]
  },
  {
   "cell_type": "code",
   "execution_count": 57,
   "id": "f190cf95",
   "metadata": {},
   "outputs": [
    {
     "data": {
      "text/plain": [
       "(322, 10)"
      ]
     },
     "execution_count": 57,
     "metadata": {},
     "output_type": "execute_result"
    }
   ],
   "source": [
    "set2_all_responses.shape"
   ]
  },
  {
   "cell_type": "code",
   "execution_count": 58,
   "id": "9e560169",
   "metadata": {},
   "outputs": [
    {
     "name": "stdout",
     "output_type": "stream",
     "text": [
      "322\n"
     ]
    },
    {
     "data": {
      "text/plain": [
       "(322, 14)"
      ]
     },
     "execution_count": 58,
     "metadata": {},
     "output_type": "execute_result"
    }
   ],
   "source": [
    "print (len(set2_hand_picked_extended.ID.unique()))\n",
    "set2_hand_picked_extended.shape"
   ]
  },
  {
   "cell_type": "markdown",
   "id": "c39f70fa",
   "metadata": {},
   "source": [
    "### Some of the handpicked fields were repetitions from Set 1. Drop them"
   ]
  },
  {
   "cell_type": "code",
   "execution_count": 59,
   "id": "972c2b24",
   "metadata": {},
   "outputs": [
    {
     "data": {
      "text/plain": [
       "(139, 14)"
      ]
     },
     "execution_count": 59,
     "metadata": {},
     "output_type": "execute_result"
    }
   ],
   "source": [
    "set2_hand_picked_extended=set2_hand_picked_extended[~set2_hand_picked_extended.ID.isin(set1_all_votes_Perry.ID)]\n",
    "set2_hand_picked_extended=set2_hand_picked_extended[set2_hand_picked_extended.ExctAcr>10]\n",
    "set2_hand_picked_extended.shape"
   ]
  },
  {
   "cell_type": "code",
   "execution_count": 60,
   "id": "5c203373",
   "metadata": {},
   "outputs": [
    {
     "data": {
      "text/plain": [
       "1380"
      ]
     },
     "execution_count": 60,
     "metadata": {},
     "output_type": "execute_result"
    }
   ],
   "source": [
    "len(set2_hand_picked_extended.ID.unique())+\\\n",
    "len(nonExpert_survey2_fields.ID.unique())+\\\n",
    "len(set1_all_votes_Perry[set1_all_votes_Perry.ExctAcr>=10].ID.unique())"
   ]
  },
  {
   "cell_type": "code",
   "execution_count": 61,
   "id": "d8562e23",
   "metadata": {},
   "outputs": [
    {
     "data": {
      "text/plain": [
       "219"
      ]
     },
     "execution_count": 61,
     "metadata": {},
     "output_type": "execute_result"
    }
   ],
   "source": [
    "len(set1_all_votes_Perry[set1_all_votes_Perry.ExctAcr>=10].ID.unique())+\\\n",
    "len(set1_all_votes_Perry[set1_all_votes_Perry.ExctAcr<10].ID.unique())"
   ]
  },
  {
   "cell_type": "code",
   "execution_count": 62,
   "id": "a9d8fad8",
   "metadata": {},
   "outputs": [
    {
     "name": "stdout",
     "output_type": "stream",
     "text": [
      "(1380, 3)\n",
      "1380\n"
     ]
    }
   ],
   "source": [
    "experts_set1_and_2_NE_set2=pd.concat([set1_all_votes_Perry[[\"ID\", \"ExctAcr\", \"CropTyp\"]],\n",
    "                                      nonExpert_survey2_fields[[\"ID\", \"ExctAcr\", \"CropTyp\"]],\n",
    "                                      set2_hand_picked_extended[[\"ID\", \"ExctAcr\", \"CropTyp\"]]\n",
    "                                      ]\n",
    "                                      )\n",
    "\n",
    "print (experts_set1_and_2_NE_set2.shape)\n",
    "print (len(experts_set1_and_2_NE_set2.ID.unique()))"
   ]
  },
  {
   "cell_type": "code",
   "execution_count": null,
   "id": "11c7419f",
   "metadata": {},
   "outputs": [],
   "source": []
  },
  {
   "cell_type": "code",
   "execution_count": null,
   "id": "abe6f74b",
   "metadata": {},
   "outputs": [],
   "source": []
  },
  {
   "cell_type": "code",
   "execution_count": 63,
   "id": "a73893b8",
   "metadata": {},
   "outputs": [],
   "source": [
    "train_labels=pd.read_csv(ML_data_dir+\"train_labels.csv\")\n",
    "train_labels=pd.merge(train_labels, \n",
    "                      evaluation_set[[\"ID\", \"CropTyp\", \"ExctAcr\"]], \n",
    "                      on=['ID'], how='left')\n",
    "\n",
    "train_labels=train_labels[train_labels.ExctAcr>=10]"
   ]
  },
  {
   "cell_type": "code",
   "execution_count": 68,
   "id": "eb0402cd",
   "metadata": {},
   "outputs": [
    {
     "data": {
      "text/plain": [
       "(1342, 4)"
      ]
     },
     "execution_count": 68,
     "metadata": {},
     "output_type": "execute_result"
    }
   ],
   "source": [
    "train_labels[train_labels.ID.isin(list(experts_set1_and_2_NE_set2.ID))].shape"
   ]
  },
  {
   "cell_type": "code",
   "execution_count": 81,
   "id": "a6aaa4da",
   "metadata": {},
   "outputs": [
    {
     "data": {
      "text/html": [
       "<div>\n",
       "<style scoped>\n",
       "    .dataframe tbody tr th:only-of-type {\n",
       "        vertical-align: middle;\n",
       "    }\n",
       "\n",
       "    .dataframe tbody tr th {\n",
       "        vertical-align: top;\n",
       "    }\n",
       "\n",
       "    .dataframe thead th {\n",
       "        text-align: right;\n",
       "    }\n",
       "</style>\n",
       "<table border=\"1\" class=\"dataframe\">\n",
       "  <thead>\n",
       "    <tr style=\"text-align: right;\">\n",
       "      <th></th>\n",
       "      <th>ID</th>\n",
       "      <th>ExctAcr</th>\n",
       "      <th>CropTyp</th>\n",
       "    </tr>\n",
       "  </thead>\n",
       "  <tbody>\n",
       "    <tr>\n",
       "      <th>23</th>\n",
       "      <td>52269_WSDA_SF_2016</td>\n",
       "      <td>122.032301</td>\n",
       "      <td>bluegrass seed</td>\n",
       "    </tr>\n",
       "    <tr>\n",
       "      <th>24</th>\n",
       "      <td>51838_WSDA_SF_2016</td>\n",
       "      <td>185.294850</td>\n",
       "      <td>bluegrass seed</td>\n",
       "    </tr>\n",
       "    <tr>\n",
       "      <th>64</th>\n",
       "      <td>156767_WSDA_SF_2015</td>\n",
       "      <td>30.993346</td>\n",
       "      <td>triticale</td>\n",
       "    </tr>\n",
       "    <tr>\n",
       "      <th>72</th>\n",
       "      <td>109650_WSDA_SF_2018</td>\n",
       "      <td>63.541401</td>\n",
       "      <td>triticale</td>\n",
       "    </tr>\n",
       "    <tr>\n",
       "      <th>106</th>\n",
       "      <td>103177_WSDA_SF_2017</td>\n",
       "      <td>64.199500</td>\n",
       "      <td>canola</td>\n",
       "    </tr>\n",
       "    <tr>\n",
       "      <th>107</th>\n",
       "      <td>104671_WSDA_SF_2017</td>\n",
       "      <td>11.515580</td>\n",
       "      <td>canola</td>\n",
       "    </tr>\n",
       "    <tr>\n",
       "      <th>110</th>\n",
       "      <td>100439_WSDA_SF_2017</td>\n",
       "      <td>11.190091</td>\n",
       "      <td>canola</td>\n",
       "    </tr>\n",
       "    <tr>\n",
       "      <th>56</th>\n",
       "      <td>149714_WSDA_SF_2017</td>\n",
       "      <td>56.455126</td>\n",
       "      <td>bean, dry</td>\n",
       "    </tr>\n",
       "    <tr>\n",
       "      <th>124</th>\n",
       "      <td>3786_WSDA_SF_2016</td>\n",
       "      <td>39.791528</td>\n",
       "      <td>bluegrass seed</td>\n",
       "    </tr>\n",
       "    <tr>\n",
       "      <th>250</th>\n",
       "      <td>101090_WSDA_SF_2018</td>\n",
       "      <td>122.196713</td>\n",
       "      <td>corn, field</td>\n",
       "    </tr>\n",
       "    <tr>\n",
       "      <th>622</th>\n",
       "      <td>98394_WSDA_SF_2017</td>\n",
       "      <td>35.919558</td>\n",
       "      <td>corn, field</td>\n",
       "    </tr>\n",
       "    <tr>\n",
       "      <th>633</th>\n",
       "      <td>100493_WSDA_SF_2017</td>\n",
       "      <td>143.680853</td>\n",
       "      <td>corn, sweet</td>\n",
       "    </tr>\n",
       "    <tr>\n",
       "      <th>650</th>\n",
       "      <td>108444_WSDA_SF_2018</td>\n",
       "      <td>147.173050</td>\n",
       "      <td>corn, sweet</td>\n",
       "    </tr>\n",
       "    <tr>\n",
       "      <th>688</th>\n",
       "      <td>8301_WSDA_SF_2016</td>\n",
       "      <td>16.252985</td>\n",
       "      <td>corn, sweet</td>\n",
       "    </tr>\n",
       "    <tr>\n",
       "      <th>992</th>\n",
       "      <td>101359_WSDA_SF_2018</td>\n",
       "      <td>57.923119</td>\n",
       "      <td>potato</td>\n",
       "    </tr>\n",
       "    <tr>\n",
       "      <th>23</th>\n",
       "      <td>106585_WSDA_SF_2018</td>\n",
       "      <td>13.083442</td>\n",
       "      <td>barley hay</td>\n",
       "    </tr>\n",
       "    <tr>\n",
       "      <th>54</th>\n",
       "      <td>105141_WSDA_SF_2018</td>\n",
       "      <td>147.710359</td>\n",
       "      <td>bean, green</td>\n",
       "    </tr>\n",
       "    <tr>\n",
       "      <th>55</th>\n",
       "      <td>105947_WSDA_SF_2018</td>\n",
       "      <td>153.796504</td>\n",
       "      <td>bean, green</td>\n",
       "    </tr>\n",
       "    <tr>\n",
       "      <th>76</th>\n",
       "      <td>1297_WSDA_SF_2016</td>\n",
       "      <td>27.075714</td>\n",
       "      <td>bluegrass seed</td>\n",
       "    </tr>\n",
       "    <tr>\n",
       "      <th>77</th>\n",
       "      <td>2305_WSDA_SF_2016</td>\n",
       "      <td>95.086279</td>\n",
       "      <td>bluegrass seed</td>\n",
       "    </tr>\n",
       "    <tr>\n",
       "      <th>78</th>\n",
       "      <td>2510_WSDA_SF_2016</td>\n",
       "      <td>70.004340</td>\n",
       "      <td>bluegrass seed</td>\n",
       "    </tr>\n",
       "    <tr>\n",
       "      <th>79</th>\n",
       "      <td>2971_WSDA_SF_2016</td>\n",
       "      <td>52.518530</td>\n",
       "      <td>bluegrass seed</td>\n",
       "    </tr>\n",
       "    <tr>\n",
       "      <th>80</th>\n",
       "      <td>3751_WSDA_SF_2016</td>\n",
       "      <td>93.597763</td>\n",
       "      <td>bluegrass seed</td>\n",
       "    </tr>\n",
       "    <tr>\n",
       "      <th>81</th>\n",
       "      <td>4217_WSDA_SF_2016</td>\n",
       "      <td>102.928184</td>\n",
       "      <td>bluegrass seed</td>\n",
       "    </tr>\n",
       "    <tr>\n",
       "      <th>84</th>\n",
       "      <td>548_WSDA_SF_2016</td>\n",
       "      <td>123.154148</td>\n",
       "      <td>bluegrass seed</td>\n",
       "    </tr>\n",
       "    <tr>\n",
       "      <th>85</th>\n",
       "      <td>59682_WSDA_SF_2016</td>\n",
       "      <td>44.040894</td>\n",
       "      <td>buckwheat</td>\n",
       "    </tr>\n",
       "    <tr>\n",
       "      <th>86</th>\n",
       "      <td>1684_WSDA_SF_2016</td>\n",
       "      <td>20.182303</td>\n",
       "      <td>buckwheat</td>\n",
       "    </tr>\n",
       "    <tr>\n",
       "      <th>115</th>\n",
       "      <td>100670_WSDA_SF_2017</td>\n",
       "      <td>128.845104</td>\n",
       "      <td>canola</td>\n",
       "    </tr>\n",
       "    <tr>\n",
       "      <th>120</th>\n",
       "      <td>150407_WSDA_SF_2017</td>\n",
       "      <td>36.364172</td>\n",
       "      <td>canola</td>\n",
       "    </tr>\n",
       "    <tr>\n",
       "      <th>140</th>\n",
       "      <td>54488_WSDA_SF_2016</td>\n",
       "      <td>33.485185</td>\n",
       "      <td>corn, field</td>\n",
       "    </tr>\n",
       "    <tr>\n",
       "      <th>148</th>\n",
       "      <td>10822_WSDA_SF_2016</td>\n",
       "      <td>66.674217</td>\n",
       "      <td>corn, sweet</td>\n",
       "    </tr>\n",
       "    <tr>\n",
       "      <th>149</th>\n",
       "      <td>10825_WSDA_SF_2016</td>\n",
       "      <td>23.241693</td>\n",
       "      <td>corn, sweet</td>\n",
       "    </tr>\n",
       "    <tr>\n",
       "      <th>184</th>\n",
       "      <td>103576_WSDA_SF_2018</td>\n",
       "      <td>70.413142</td>\n",
       "      <td>grass seed</td>\n",
       "    </tr>\n",
       "    <tr>\n",
       "      <th>186</th>\n",
       "      <td>103720_WSDA_SF_2018</td>\n",
       "      <td>12.465143</td>\n",
       "      <td>grass seed</td>\n",
       "    </tr>\n",
       "    <tr>\n",
       "      <th>253</th>\n",
       "      <td>99951_WSDA_SF_2017</td>\n",
       "      <td>140.348282</td>\n",
       "      <td>pea, dry</td>\n",
       "    </tr>\n",
       "    <tr>\n",
       "      <th>294</th>\n",
       "      <td>52134_WSDA_SF_2016</td>\n",
       "      <td>96.301812</td>\n",
       "      <td>wheat</td>\n",
       "    </tr>\n",
       "    <tr>\n",
       "      <th>306</th>\n",
       "      <td>102240_WSDA_SF_2018</td>\n",
       "      <td>132.761680</td>\n",
       "      <td>yellow mustard</td>\n",
       "    </tr>\n",
       "    <tr>\n",
       "      <th>308</th>\n",
       "      <td>105033_WSDA_SF_2018</td>\n",
       "      <td>29.508786</td>\n",
       "      <td>yellow mustard</td>\n",
       "    </tr>\n",
       "  </tbody>\n",
       "</table>\n",
       "</div>"
      ],
      "text/plain": [
       "                      ID     ExctAcr         CropTyp\n",
       "23    52269_WSDA_SF_2016  122.032301  bluegrass seed\n",
       "24    51838_WSDA_SF_2016  185.294850  bluegrass seed\n",
       "64   156767_WSDA_SF_2015   30.993346       triticale\n",
       "72   109650_WSDA_SF_2018   63.541401       triticale\n",
       "106  103177_WSDA_SF_2017   64.199500          canola\n",
       "107  104671_WSDA_SF_2017   11.515580          canola\n",
       "110  100439_WSDA_SF_2017   11.190091          canola\n",
       "56   149714_WSDA_SF_2017   56.455126       bean, dry\n",
       "124    3786_WSDA_SF_2016   39.791528  bluegrass seed\n",
       "250  101090_WSDA_SF_2018  122.196713     corn, field\n",
       "622   98394_WSDA_SF_2017   35.919558     corn, field\n",
       "633  100493_WSDA_SF_2017  143.680853     corn, sweet\n",
       "650  108444_WSDA_SF_2018  147.173050     corn, sweet\n",
       "688    8301_WSDA_SF_2016   16.252985     corn, sweet\n",
       "992  101359_WSDA_SF_2018   57.923119          potato\n",
       "23   106585_WSDA_SF_2018   13.083442      barley hay\n",
       "54   105141_WSDA_SF_2018  147.710359     bean, green\n",
       "55   105947_WSDA_SF_2018  153.796504     bean, green\n",
       "76     1297_WSDA_SF_2016   27.075714  bluegrass seed\n",
       "77     2305_WSDA_SF_2016   95.086279  bluegrass seed\n",
       "78     2510_WSDA_SF_2016   70.004340  bluegrass seed\n",
       "79     2971_WSDA_SF_2016   52.518530  bluegrass seed\n",
       "80     3751_WSDA_SF_2016   93.597763  bluegrass seed\n",
       "81     4217_WSDA_SF_2016  102.928184  bluegrass seed\n",
       "84      548_WSDA_SF_2016  123.154148  bluegrass seed\n",
       "85    59682_WSDA_SF_2016   44.040894       buckwheat\n",
       "86     1684_WSDA_SF_2016   20.182303       buckwheat\n",
       "115  100670_WSDA_SF_2017  128.845104          canola\n",
       "120  150407_WSDA_SF_2017   36.364172          canola\n",
       "140   54488_WSDA_SF_2016   33.485185     corn, field\n",
       "148   10822_WSDA_SF_2016   66.674217     corn, sweet\n",
       "149   10825_WSDA_SF_2016   23.241693     corn, sweet\n",
       "184  103576_WSDA_SF_2018   70.413142      grass seed\n",
       "186  103720_WSDA_SF_2018   12.465143      grass seed\n",
       "253   99951_WSDA_SF_2017  140.348282        pea, dry\n",
       "294   52134_WSDA_SF_2016   96.301812           wheat\n",
       "306  102240_WSDA_SF_2018  132.761680  yellow mustard\n",
       "308  105033_WSDA_SF_2018   29.508786  yellow mustard"
      ]
     },
     "execution_count": 81,
     "metadata": {},
     "output_type": "execute_result"
    }
   ],
   "source": [
    "experts_set1_and_2_NE_set2[~experts_set1_and_2_NE_set2.ID.isin(list(train_labels.ID))]"
   ]
  },
  {
   "cell_type": "code",
   "execution_count": null,
   "id": "0b58db20",
   "metadata": {},
   "outputs": [],
   "source": []
  },
  {
   "cell_type": "code",
   "execution_count": null,
   "id": "e2174b44",
   "metadata": {},
   "outputs": [],
   "source": []
  },
  {
   "cell_type": "code",
   "execution_count": null,
   "id": "442335b2",
   "metadata": {},
   "outputs": [],
   "source": []
  },
  {
   "cell_type": "code",
   "execution_count": null,
   "id": "38b72c1e",
   "metadata": {},
   "outputs": [],
   "source": []
  }
 ],
 "metadata": {
  "kernelspec": {
   "display_name": "Python 3 (ipykernel)",
   "language": "python",
   "name": "python3"
  },
  "language_info": {
   "codemirror_mode": {
    "name": "ipython",
    "version": 3
   },
   "file_extension": ".py",
   "mimetype": "text/x-python",
   "name": "python",
   "nbconvert_exporter": "python",
   "pygments_lexer": "ipython3",
   "version": "3.9.12"
  }
 },
 "nbformat": 4,
 "nbformat_minor": 5
}
