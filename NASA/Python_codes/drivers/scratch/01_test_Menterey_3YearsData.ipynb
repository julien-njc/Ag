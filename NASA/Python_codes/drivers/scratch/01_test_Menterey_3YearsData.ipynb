{
 "cells": [
  {
   "cell_type": "code",
   "execution_count": 4,
   "id": "ebbdf45e",
   "metadata": {},
   "outputs": [],
   "source": [
    "import csv\n",
    "import numpy as np\n",
    "import pandas as pd\n",
    "from math import factorial\n",
    "\n",
    "import datetime\n",
    "from datetime import date\n",
    "\n",
    "import time\n",
    "\n",
    "import scipy\n",
    "import os, os.path\n",
    "from os import listdir\n",
    "from os.path import isfile, join\n",
    "\n",
    "import re\n",
    "# from pprint import pprint\n",
    "import matplotlib.pyplot as plt\n",
    "import matplotlib.dates as mdates\n",
    "import seaborn as sb\n",
    "\n",
    "import sys\n",
    "\n",
    "\n",
    "# search path for modules\n",
    "# look @ https://stackoverflow.com/questions/67631/how-to-import-a-module-given-the-full-path\n",
    "sys.path.append('/Users/hn/Documents/00_GitHub/Ag/NASA/Python_codes/')\n",
    "import NASA_core as nc\n",
    "import NASA_plot_core as npc"
   ]
  },
  {
   "cell_type": "code",
   "execution_count": 5,
   "id": "b247d249",
   "metadata": {},
   "outputs": [],
   "source": [
    "data_dir = \"/Users/hn/Documents/01_research_data/NASA/VI_TS/data_for_train_individual_counties/\"\n",
    "L7 = pd.read_csv(data_dir + \"L7_T1C2L2_Scaled_Monterey2014_2013-01-01_2015-12-31.csv\")\n",
    "L8 = pd.read_csv(data_dir + \"L8_T1C2L2_Scaled_Monterey2014_2013-01-01_2015-12-31.csv\")"
   ]
  },
  {
   "cell_type": "code",
   "execution_count": 6,
   "id": "007ad6bf",
   "metadata": {},
   "outputs": [],
   "source": [
    "# data_dir = \"/Users/hn/Documents/01_research_data/NASA/VI_TS/sixth_investig_intersected/\"\n",
    "\n",
    "# L5 = pd.read_csv(data_dir + \"L5_T1C2L2_Scaled_intGrant_2008-01-01_2012-05-05.csv\")\n",
    "# L7 = pd.read_csv(data_dir + \"L7_T1C2L2_Scaled_intGrant_2008-01-01_2021-09-23.csv\")\n",
    "# L8 = pd.read_csv(data_dir + \"L8_T1C2L2_Scaled_intGrant_2008-01-01_2021-10-14.csv\")"
   ]
  },
  {
   "cell_type": "code",
   "execution_count": 7,
   "id": "14fe95a7",
   "metadata": {},
   "outputs": [],
   "source": [
    "indeks = \"EVI\"\n",
    "\n",
    "if indeks == \"NDVI\":\n",
    "    NoVI = \"EVI\"\n",
    "else:\n",
    "    NoVI = \"NDVI\"\n",
    "    \n",
    "IDcolName = \"ID\""
   ]
  },
  {
   "cell_type": "code",
   "execution_count": 8,
   "id": "a5182407",
   "metadata": {},
   "outputs": [
    {
     "data": {
      "text/html": [
       "<div>\n",
       "<style scoped>\n",
       "    .dataframe tbody tr th:only-of-type {\n",
       "        vertical-align: middle;\n",
       "    }\n",
       "\n",
       "    .dataframe tbody tr th {\n",
       "        vertical-align: top;\n",
       "    }\n",
       "\n",
       "    .dataframe thead th {\n",
       "        text-align: right;\n",
       "    }\n",
       "</style>\n",
       "<table border=\"1\" class=\"dataframe\">\n",
       "  <thead>\n",
       "    <tr style=\"text-align: right;\">\n",
       "      <th></th>\n",
       "      <th>ID</th>\n",
       "      <th>EVI</th>\n",
       "      <th>system_start_time</th>\n",
       "    </tr>\n",
       "  </thead>\n",
       "  <tbody>\n",
       "    <tr>\n",
       "      <th>9</th>\n",
       "      <td>13235</td>\n",
       "      <td>0.397043</td>\n",
       "      <td>1.363977e+12</td>\n",
       "    </tr>\n",
       "    <tr>\n",
       "      <th>27</th>\n",
       "      <td>8868</td>\n",
       "      <td>0.202969</td>\n",
       "      <td>1.363977e+12</td>\n",
       "    </tr>\n",
       "  </tbody>\n",
       "</table>\n",
       "</div>"
      ],
      "text/plain": [
       "       ID       EVI  system_start_time\n",
       "9   13235  0.397043       1.363977e+12\n",
       "27   8868  0.202969       1.363977e+12"
      ]
     },
     "execution_count": 8,
     "metadata": {},
     "output_type": "execute_result"
    }
   ],
   "source": [
    "L7.drop([NoVI], axis=1, inplace=True)\n",
    "L7 = L7[L7[indeks].notna()]\n",
    "\n",
    "L8.drop([NoVI], axis=1, inplace=True)\n",
    "L8 = L8[L8[indeks].notna()]\n",
    "L8.head(2)"
   ]
  },
  {
   "cell_type": "code",
   "execution_count": 9,
   "id": "fafa3603",
   "metadata": {},
   "outputs": [],
   "source": [
    "IDs = np.sort(L7[IDcolName].unique())\n",
    "Monterey = pd.concat([L7, L8])"
   ]
  },
  {
   "cell_type": "code",
   "execution_count": 10,
   "id": "e16d2452",
   "metadata": {},
   "outputs": [
    {
     "data": {
      "text/html": [
       "<div>\n",
       "<style scoped>\n",
       "    .dataframe tbody tr th:only-of-type {\n",
       "        vertical-align: middle;\n",
       "    }\n",
       "\n",
       "    .dataframe tbody tr th {\n",
       "        vertical-align: top;\n",
       "    }\n",
       "\n",
       "    .dataframe thead th {\n",
       "        text-align: right;\n",
       "    }\n",
       "</style>\n",
       "<table border=\"1\" class=\"dataframe\">\n",
       "  <thead>\n",
       "    <tr style=\"text-align: right;\">\n",
       "      <th></th>\n",
       "      <th>ID</th>\n",
       "      <th>EVI</th>\n",
       "      <th>system_start_time</th>\n",
       "      <th>human_system_start_time</th>\n",
       "    </tr>\n",
       "  </thead>\n",
       "  <tbody>\n",
       "    <tr>\n",
       "      <th>0</th>\n",
       "      <td>12999</td>\n",
       "      <td>0.127193</td>\n",
       "      <td>1.357152e+09</td>\n",
       "      <td>2013-01-02</td>\n",
       "    </tr>\n",
       "    <tr>\n",
       "      <th>2</th>\n",
       "      <td>13049</td>\n",
       "      <td>0.157159</td>\n",
       "      <td>1.357152e+09</td>\n",
       "      <td>2013-01-02</td>\n",
       "    </tr>\n",
       "  </tbody>\n",
       "</table>\n",
       "</div>"
      ],
      "text/plain": [
       "      ID       EVI  system_start_time human_system_start_time\n",
       "0  12999  0.127193       1.357152e+09              2013-01-02\n",
       "2  13049  0.157159       1.357152e+09              2013-01-02"
      ]
     },
     "execution_count": 10,
     "metadata": {},
     "output_type": "execute_result"
    }
   ],
   "source": [
    "del(L7, L8)\n",
    "Monterey = nc.add_human_start_time_by_system_start_time(Monterey)\n",
    "Monterey.head(2)"
   ]
  },
  {
   "cell_type": "code",
   "execution_count": 11,
   "id": "e188adec",
   "metadata": {},
   "outputs": [],
   "source": [
    "curr_ID = IDs[0]"
   ]
  },
  {
   "cell_type": "code",
   "execution_count": 12,
   "id": "111992b4",
   "metadata": {},
   "outputs": [],
   "source": [
    "a_field = Monterey.loc[Monterey.ID == curr_ID, ].copy()\n",
    "a_field.sort_values(by='human_system_start_time', axis=0, ascending=True, inplace=True)\n",
    "a_field.reset_index(drop=True, inplace=True)"
   ]
  },
  {
   "cell_type": "markdown",
   "id": "de4215ed",
   "metadata": {},
   "source": [
    "### pre-processing"
   ]
  },
  {
   "cell_type": "code",
   "execution_count": 10,
   "id": "6f1ffef5",
   "metadata": {},
   "outputs": [],
   "source": [
    "a_field = nc.initial_clean(df = a_field, column_to_be_cleaned = indeks)\n",
    "a_field.drop([\"system_start_time\"], axis=1, inplace=True)"
   ]
  },
  {
   "cell_type": "code",
   "execution_count": 11,
   "id": "076e234d",
   "metadata": {},
   "outputs": [
    {
     "name": "stdout",
     "output_type": "stream",
     "text": [
      "0.0772170686853982\n",
      "0.7776603633111959\n"
     ]
    }
   ],
   "source": [
    "print (a_field[indeks].min())\n",
    "print (a_field[indeks].max())"
   ]
  },
  {
   "cell_type": "markdown",
   "id": "b467089a",
   "metadata": {},
   "source": [
    "# Remove/Interpolate Outliers"
   ]
  },
  {
   "cell_type": "code",
   "execution_count": 12,
   "id": "68dcc4fa",
   "metadata": {},
   "outputs": [
    {
     "name": "stdout",
     "output_type": "stream",
     "text": [
      "(195, 3)\n"
     ]
    },
    {
     "data": {
      "text/html": [
       "<div>\n",
       "<style scoped>\n",
       "    .dataframe tbody tr th:only-of-type {\n",
       "        vertical-align: middle;\n",
       "    }\n",
       "\n",
       "    .dataframe tbody tr th {\n",
       "        vertical-align: top;\n",
       "    }\n",
       "\n",
       "    .dataframe thead th {\n",
       "        text-align: right;\n",
       "    }\n",
       "</style>\n",
       "<table border=\"1\" class=\"dataframe\">\n",
       "  <thead>\n",
       "    <tr style=\"text-align: right;\">\n",
       "      <th></th>\n",
       "      <th>ID</th>\n",
       "      <th>EVI</th>\n",
       "      <th>human_system_start_time</th>\n",
       "    </tr>\n",
       "  </thead>\n",
       "  <tbody>\n",
       "    <tr>\n",
       "      <th>0</th>\n",
       "      <td>1</td>\n",
       "      <td>0.089259</td>\n",
       "      <td>2013-01-02</td>\n",
       "    </tr>\n",
       "    <tr>\n",
       "      <th>1</th>\n",
       "      <td>1</td>\n",
       "      <td>0.134279</td>\n",
       "      <td>2013-01-11</td>\n",
       "    </tr>\n",
       "  </tbody>\n",
       "</table>\n",
       "</div>"
      ],
      "text/plain": [
       "   ID       EVI human_system_start_time\n",
       "0   1  0.089259              2013-01-02\n",
       "1   1  0.134279              2013-01-11"
      ]
     },
     "execution_count": 12,
     "metadata": {},
     "output_type": "execute_result"
    }
   ],
   "source": [
    "noOutlier = nc.interpolate_outliers_EVI_NDVI(outlier_input=a_field, given_col=indeks)\n",
    "print (noOutlier.shape)\n",
    "noOutlier.head(2)"
   ]
  },
  {
   "cell_type": "code",
   "execution_count": 13,
   "id": "a1daaace",
   "metadata": {},
   "outputs": [
    {
     "name": "stdout",
     "output_type": "stream",
     "text": [
      "0.0772170686853982\n",
      "0.7776603633111959\n"
     ]
    },
    {
     "data": {
      "text/plain": [
       "True"
      ]
     },
     "execution_count": 13,
     "metadata": {},
     "output_type": "execute_result"
    }
   ],
   "source": [
    "print (noOutlier[indeks].min())\n",
    "print (noOutlier[indeks].max())\n",
    "noOutlier.equals(a_field)"
   ]
  },
  {
   "cell_type": "markdown",
   "id": "19f866d7",
   "metadata": {},
   "source": [
    "# Correct Big Jumps"
   ]
  },
  {
   "cell_type": "code",
   "execution_count": 14,
   "id": "ae37ebba",
   "metadata": {},
   "outputs": [],
   "source": [
    "NoJump_v1 = nc.correct_big_jumps_1DaySeries(dataTMS_jumpie = noOutlier, give_col = indeks, maxjump_perDay = 0.018)"
   ]
  },
  {
   "cell_type": "code",
   "execution_count": 15,
   "id": "60815b0c",
   "metadata": {},
   "outputs": [],
   "source": [
    "NoJump_v2 = nc.correct_big_jumps_1DaySeries_JFD(dataTMS_jumpie = noOutlier, \n",
    "                                            give_col = indeks, \n",
    "                                            maxjump_perDay = 0.018)"
   ]
  },
  {
   "cell_type": "code",
   "execution_count": 16,
   "id": "8d47274e",
   "metadata": {},
   "outputs": [
    {
     "data": {
      "image/png": "[encoded data removed]",
      "text/plain": [
       "<Figure size 720x288 with 1 Axes>"
      ]
     },
     "metadata": {
      "needs_background": "light"
     },
     "output_type": "display_data"
    }
   ],
   "source": [
    "fig, ax = plt.subplots(1, 1, figsize=(10, 4),\n",
    "                        sharex='col', sharey='row',\n",
    "                        # sharex=True, sharey=True,\n",
    "                        gridspec_kw={'hspace': 0.2, 'wspace': .05});\n",
    "ax.grid(True);\n",
    "ax.plot(a_field['human_system_start_time'], \n",
    "        a_field['EVI'], \n",
    "        '-', linewidth=2, color='b', label = \"0-raw\")\n",
    "\n",
    "ax.plot(NoJump_v1['human_system_start_time'], \n",
    "        NoJump_v1['EVI'], \n",
    "        '-', linewidth=3, color='r', label = \"NoJump_v1\")\n",
    "\n",
    "ax.plot(NoJump_v2['human_system_start_time'], \n",
    "        NoJump_v2['EVI'], \n",
    "        '-', linewidth=3, color='k', label = \"NoJump_v2\")\n",
    "\n",
    "xx = datetime.date(2019, 2, 28)\n",
    "# plt.axvline(x=xx, color=\"red\", label=xx)\n",
    "\n",
    "ax.xaxis.set_major_locator(mdates.YearLocator(1)) # every year.\n",
    "ax.legend(loc=\"upper left\");\n",
    "ax.set_ylim(-1, 1.6)\n",
    "ax.set_xlim([datetime.date(2012, 12, 10), datetime.date(2016, 1, 10)])\n",
    "# ax.set_xlim([datetime.date(2019, 1, 10), datetime.date(2020, 1, 1)])\n",
    "\n",
    "plot_dir = \"/Users/hn/Desktop/\"\n",
    "# file_name = plot_dir + # \"i17302.pdf\"\n",
    "# plt.savefig(fname = file_name, dpi=100, bbox_inches='tight', transparent=False)"
   ]
  },
  {
   "cell_type": "markdown",
   "id": "5eda11a4",
   "metadata": {},
   "source": [
    "# Regularize"
   ]
  },
  {
   "cell_type": "code",
   "execution_count": 17,
   "id": "59b7130b",
   "metadata": {},
   "outputs": [],
   "source": [
    "regular_window_size = 10\n",
    "regular = nc.regularize_a_field(a_df = NoJump_v2, \\\n",
    "                                V_idks = indeks, \\\n",
    "                                interval_size = regular_window_size,\\\n",
    "                                start_year=2013, \\\n",
    "                                end_year=2015)"
   ]
  },
  {
   "cell_type": "code",
   "execution_count": 18,
   "id": "2a57ae5a",
   "metadata": {},
   "outputs": [],
   "source": [
    "regular = nc.fill_theGap_linearLine(a_regularized_TS=regular, V_idx=indeks)"
   ]
  },
  {
   "cell_type": "markdown",
   "id": "232f72d5",
   "metadata": {},
   "source": [
    "# SG"
   ]
  },
  {
   "cell_type": "code",
   "execution_count": 19,
   "id": "2644084b",
   "metadata": {},
   "outputs": [],
   "source": [
    "SG = scipy.signal.savgol_filter(regular[indeks].values, window_length=7, polyorder=3)\n",
    "SG[SG > 1 ] = 1 # SG might violate the boundaries. clip them:\n",
    "SG[SG < -1 ] = -1"
   ]
  },
  {
   "cell_type": "code",
   "execution_count": 20,
   "id": "a3f198fd",
   "metadata": {},
   "outputs": [
    {
     "data": {
      "text/html": [
       "<div>\n",
       "<style scoped>\n",
       "    .dataframe tbody tr th:only-of-type {\n",
       "        vertical-align: middle;\n",
       "    }\n",
       "\n",
       "    .dataframe tbody tr th {\n",
       "        vertical-align: top;\n",
       "    }\n",
       "\n",
       "    .dataframe thead th {\n",
       "        text-align: right;\n",
       "    }\n",
       "</style>\n",
       "<table border=\"1\" class=\"dataframe\">\n",
       "  <thead>\n",
       "    <tr style=\"text-align: right;\">\n",
       "      <th></th>\n",
       "      <th>ID</th>\n",
       "      <th>human_system_start_time</th>\n",
       "      <th>EVI</th>\n",
       "    </tr>\n",
       "  </thead>\n",
       "  <tbody>\n",
       "    <tr>\n",
       "      <th>0</th>\n",
       "      <td>1</td>\n",
       "      <td>2013-01-02</td>\n",
       "      <td>0.133128</td>\n",
       "    </tr>\n",
       "    <tr>\n",
       "      <th>1</th>\n",
       "      <td>1</td>\n",
       "      <td>2013-01-12</td>\n",
       "      <td>0.108012</td>\n",
       "    </tr>\n",
       "  </tbody>\n",
       "</table>\n",
       "</div>"
      ],
      "text/plain": [
       "   ID human_system_start_time       EVI\n",
       "0   1              2013-01-02  0.133128\n",
       "1   1              2013-01-12  0.108012"
      ]
     },
     "execution_count": 20,
     "metadata": {},
     "output_type": "execute_result"
    }
   ],
   "source": [
    "SG_df = regular.copy()\n",
    "SG_df[indeks] = SG\n",
    "SG_df.head(2)"
   ]
  },
  {
   "cell_type": "code",
   "execution_count": 21,
   "id": "85b541a3",
   "metadata": {},
   "outputs": [
    {
     "data": {
      "text/plain": [
       "(15684.0, 16810.0)"
      ]
     },
     "execution_count": 21,
     "metadata": {},
     "output_type": "execute_result"
    },
    {
     "data": {
      "image/png": "[encoded data removed]",
      "text/plain": [
       "<Figure size 720x288 with 1 Axes>"
      ]
     },
     "metadata": {
      "needs_background": "light"
     },
     "output_type": "display_data"
    }
   ],
   "source": [
    "fig, ax = plt.subplots(1, 1, figsize=(10, 4),\n",
    "                       sharex='col', sharey='row',\n",
    "                       gridspec_kw={'hspace': 0.2, 'wspace': .05});\n",
    "ax.grid(True);\n",
    "# ax.plot(a_field['human_system_start_time'], \n",
    "#         a_field['EVI'], \n",
    "#         '-', linewidth=2, color='b', label = \"0-raw\")\n",
    "\n",
    "ax.scatter(a_field['human_system_start_time'], \n",
    "           a_field['EVI'], \n",
    "           s=5, color='b', label = \"0-raw\")\n",
    "\n",
    "ax.plot(regular['human_system_start_time'], \n",
    "        SG, \n",
    "        '-', linewidth=3, color='r', label = \"4-final\")\n",
    "\n",
    "xx = datetime.date(2019, 2, 28)\n",
    "\n",
    "ax.xaxis.set_major_locator(mdates.YearLocator(1)) # every year.\n",
    "ax.legend(loc=\"upper left\");\n",
    "ax.set_ylim(-1, 1.01)\n",
    "ax.set_xlim([datetime.date(2012, 12, 10), datetime.date(2016, 1, 10)])"
   ]
  },
  {
   "cell_type": "markdown",
   "id": "1f6aa7a0",
   "metadata": {},
   "source": [
    "# SOS Detection"
   ]
  },
  {
   "cell_type": "code",
   "execution_count": 22,
   "id": "c779a737",
   "metadata": {},
   "outputs": [],
   "source": [
    "regular[indeks] = SG\n",
    "\n",
    "regular = regular.reindex(columns= a_field.columns)\n",
    "regular[\"ID\"] = regular[\"ID\"].astype(str)\n",
    "a_field[\"ID\"] = a_field[\"ID\"].astype(str)"
   ]
  },
  {
   "cell_type": "code",
   "execution_count": 65,
   "id": "d89233cf",
   "metadata": {},
   "outputs": [
    {
     "data": {
      "image/png": "[encoded data removed]",
      "text/plain": [
       "<Figure size 720x216 with 1 Axes>"
      ]
     },
     "metadata": {
      "needs_background": "light"
     },
     "output_type": "display_data"
    }
   ],
   "source": [
    "fig, ax = plt.subplots(1, 1, figsize=(10, 3),\n",
    "                            sharex='col', sharey='row',\n",
    "                            gridspec_kw={'hspace': 0.1, 'wspace': .1});\n",
    "\n",
    "ax.grid(True);\n",
    "\n",
    "npc.SG_clean_SOS_orchardinPlot(raw_dt = a_field,\n",
    "                               SG_dt = regular,\n",
    "                               idx = indeks,\n",
    "                               ax = ax,\n",
    "                               onset_cut = 0.3, \n",
    "                               offset_cut = 0.3);\n",
    "\n",
    "ax.set_title(\"Hello\");"
   ]
  },
  {
   "cell_type": "markdown",
   "id": "32c994ce",
   "metadata": {},
   "source": [
    "# Find SOS and EOS"
   ]
  },
  {
   "cell_type": "code",
   "execution_count": 35,
   "id": "8d6619b3",
   "metadata": {},
   "outputs": [
    {
     "data": {
      "text/plain": [
       "True"
      ]
     },
     "execution_count": 35,
     "metadata": {},
     "output_type": "execute_result"
    }
   ],
   "source": [
    "check =  all(item in list([1, 2, 3, 4, 5]) for item in list([1, 2, 3, 5]))\n",
    "check"
   ]
  },
  {
   "cell_type": "code",
   "execution_count": 32,
   "id": "5f37f6fa",
   "metadata": {},
   "outputs": [
    {
     "ename": "SyntaxError",
     "evalue": "invalid syntax (<ipython-input-32-b56fc5e83f59>, line 1)",
     "output_type": "error",
     "traceback": [
      "\u001b[0;36m  File \u001b[0;32m\"<ipython-input-32-b56fc5e83f59>\"\u001b[0;36m, line \u001b[0;32m1\u001b[0m\n\u001b[0;31m    item in list([1, 2, 3]) for item in list([1, 2, 3, 4, 5])\u001b[0m\n\u001b[0m                            ^\u001b[0m\n\u001b[0;31mSyntaxError\u001b[0m\u001b[0;31m:\u001b[0m invalid syntax\n"
     ]
    }
   ],
   "source": [
    "item in list([1, 2, 3]) for item in list([1, 2, 3, 4, 5])"
   ]
  },
  {
   "cell_type": "code",
   "execution_count": null,
   "id": "ba4f2f97",
   "metadata": {},
   "outputs": [],
   "source": []
  }
 ],
 "metadata": {
  "kernelspec": {
   "display_name": "Python 3",
   "language": "python",
   "name": "python3"
  },
  "language_info": {
   "codemirror_mode": {
    "name": "ipython",
    "version": 3
   },
   "file_extension": ".py",
   "mimetype": "text/x-python",
   "name": "python",
   "nbconvert_exporter": "python",
   "pygments_lexer": "ipython3",
   "version": "3.8.8"
  }
 },
 "nbformat": 4,
 "nbformat_minor": 5
}
