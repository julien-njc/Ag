{
 "cells": [
  {
   "cell_type": "markdown",
   "metadata": {
    "colab_type": "text",
    "id": "view-in-github"
   },
   "source": [
    "<a href=\"https://colab.research.google.com/github/HNoorazar/Ag/blob/master/Perry_1.ipynb\" target=\"_parent\"><img src=\"https://colab.research.google.com/assets/colab-badge.svg\" alt=\"Open In Colab\"/></a>"
   ]
  },
  {
   "cell_type": "markdown",
   "metadata": {
    "id": "AbobjLfNKB0O"
   },
   "source": [
    "#**There is no free lunch**\n",
    "\n",
    "[Colab resources are not guaranteed](https://research.google.com/colaboratory/faq.html#:~:text=Colab\\%20is\\%20able\\%20to\\%20provide,other\\%20factors\\%20vary\\%20over\\%20time.). One can, however, [subscribe and increase resources]((https://colab.research.google.com/signup)) at his disposal.\n",
    "\n",
    "Creating an App also needs money and human time to create it. Please look at [Quotas and limits](https://cloud.google.com/appengine/docs/standard#:~:text=The%20standard%20environment%20gives%20you,suit%20your%20needs%2C%20see%20Quotas.) section as a starting point!\n",
    "\n",
    "I ran different counties as a separate jobs and it took hours. If they want to run all counties at once, the cost (computation or $) is even higher.\n",
    "\n",
    "<p>&nbsp;</p>\n",
    "\n",
    "Speaking of money, money is source of lots of problems. Researchers have \"shown\" [sugar is good for you and fat is bad!](https://www.npr.org/sections/thetwo-way/2016/09/13/493739074/50-years-ago-sugar-industry-quietly-paid-scientists-to-point-blame-at-fat). Sugar companies were behind this study inducted in Harvard.\n",
    "[Dallas Buyers Club](https://www.imdb.com/title/tt0790636/) showed problems within FDA. Bad cops, bad doctors who sell their souls for money. Advisors whose priority is fund not training te students. All of these (Teacher/Student, Doctor/Patient, Researcher/Society, Cop/Society) are relationships that instinctively is supposed to be based on trust and honesty. But ...\n",
    "\n",
    "Maybe you can watch Making of a Murderer and see what happened to the guy by cops, DA, AG, judge..."
   ]
  },
  {
   "cell_type": "markdown",
   "metadata": {
    "id": "c9MAEcsBblEc"
   },
   "source": [
    "# Print Local Time \n",
    "\n",
    "colab runs on cloud. So, the time is not our local time.\n",
    "This page is useful to determine how to do this."
   ]
  },
  {
   "cell_type": "code",
   "execution_count": 1,
   "metadata": {
    "colab": {
     "base_uri": "https://localhost:8080/"
    },
    "id": "y_XZYSOXbi2S",
    "outputId": "fabc2730-bd61-4456-99e3-c863c34af3b3"
   },
   "outputs": [
    {
     "name": "stdout",
     "output_type": "stream",
     "text": [
      "Thu Mar 31 14:34:47 PDT 2022\n"
     ]
    }
   ],
   "source": [
    "!rm /etc/localtime\n",
    "!ln -s /usr/share/zoneinfo/US/Pacific /etc/localtime\n",
    "!date"
   ]
  },
  {
   "cell_type": "markdown",
   "metadata": {
    "id": "jX3TvMJBe3lZ"
   },
   "source": [
    "# **geopandas and geemap musy be installed every time!!!**\n"
   ]
  },
  {
   "cell_type": "code",
   "execution_count": 2,
   "metadata": {
    "colab": {
     "base_uri": "https://localhost:8080/"
    },
    "id": "xMCOiQUYe6XS",
    "outputId": "3e126c12-4eda-4dfb-ba61-da3ecfe3fda0"
   },
   "outputs": [
    {
     "name": "stdout",
     "output_type": "stream",
     "text": [
      "geemap package not installed. Must be installed every time we want to run this notebook. Installing ...\n",
      "geopandas package not installed. Must be installed every time we want to run this notebook. Installing ...\n"
     ]
    }
   ],
   "source": [
    "# !pip install geopandas geemap\n",
    "# Installs geemap package\n",
    "import subprocess\n",
    "\n",
    "try:\n",
    "    import geemap\n",
    "except ImportError:\n",
    "    print('geemap package not installed. Must be installed every time we want to run this notebook. Installing ...')\n",
    "    subprocess.check_call([\"python\", '-m', 'pip', 'install', 'geemap'])\n",
    "\n",
    "    print('geopandas package not installed. Must be installed every time we want to run this notebook. Installing ...')\n",
    "    subprocess.check_call([\"python\", '-m', 'pip', 'install', 'geopandas'])"
   ]
  },
  {
   "cell_type": "markdown",
   "metadata": {
    "id": "4_4IBtM4ffpt"
   },
   "source": [
    "# **Authenticate and import libraries**\n",
    "\n",
    "We have to impor tthe libraries we need. Moreover, we need to Authenticate every single time!"
   ]
  },
  {
   "cell_type": "code",
   "execution_count": 3,
   "metadata": {
    "colab": {
     "base_uri": "https://localhost:8080/",
     "height": 179
    },
    "id": "ZgTaTGby3lWZ",
    "outputId": "dcc40859-f667-4198-b00d-a81480861bde"
   },
   "outputs": [
    {
     "name": "stdout",
     "output_type": "stream",
     "text": [
      "To authorize access needed by Earth Engine, open the following URL in a web browser and follow the instructions. If the web browser does not start automatically, please manually browse the URL below.\n",
      "\n",
      "    https://accounts.google.com/o/oauth2/auth?client_id=517222506229-vsmmajv00ul0bs7p89v5m89qs8eb9359.apps.googleusercontent.com&scope=https%3A%2F%2Fwww.googleapis.com%2Fauth%2Fearthengine+https%3A%2F%2Fwww.googleapis.com%2Fauth%2Fdevstorage.full_control&redirect_uri=urn%3Aietf%3Awg%3Aoauth%3A2.0%3Aoob&response_type=code&code_challenge=X2-yKy_ooL99nA_Yi6e5ykQdYr4zcjQ1q1ZLQAaLPlY&code_challenge_method=S256\n",
      "\n",
      "The authorization workflow will generate a code, which you should paste in the box below. \n",
      "Enter verification code: 4/1AX4XfWiDFsun7guZCT55TcHtYb-ddU7ortUIw7Lg4XFgwzaLSVH2pzUPip8\n",
      "\n",
      "Successfully saved authorization token.\n"
     ]
    }
   ],
   "source": [
    "import numpy as np\n",
    "import folium\n",
    "import geopandas as gpd\n",
    "import json, geemap, ee\n",
    "import pandas as pd\n",
    "\n",
    "import scipy # we need this for savitzky-golay\n",
    "\n",
    "import matplotlib.pyplot as plt\n",
    "import matplotlib.dates as mdates\n",
    "import datetime\n",
    "from datetime import date\n",
    "import datetime\n",
    "import time\n",
    "\n",
    "try:\n",
    "        ee.Initialize()\n",
    "except Exception as e:\n",
    "        ee.Authenticate()\n",
    "        ee.Initialize()"
   ]
  },
  {
   "cell_type": "markdown",
   "metadata": {
    "id": "wh4w6cCn71MV"
   },
   "source": [
    "### **Mount Google Drive and import my Python modules**\n",
    "\n",
    "Here we are importing the Python functions that are written by me and are needed; ```NASA core``` and ```NASA plot core```.\n",
    "\n",
    "**Note:** These are on Google Drive now. Perhaps we can import them from GitHub."
   ]
  },
  {
   "cell_type": "code",
   "execution_count": 4,
   "metadata": {
    "colab": {
     "base_uri": "https://localhost:8080/"
    },
    "id": "RmVZ8vYg6zWz",
    "outputId": "599d99e2-9848-48d3-bed4-5294fe898985"
   },
   "outputs": [
    {
     "name": "stdout",
     "output_type": "stream",
     "text": [
      "Mounted at /content/drive\n"
     ]
    },
    {
     "name": "stderr",
     "output_type": "stream",
     "text": [
      "/usr/local/lib/python3.7/dist-packages/statsmodels/tools/_testing.py:19: FutureWarning: pandas.util.testing is deprecated. Use the functions in the public API at pandas.testing instead.\n",
      "  import pandas.util.testing as tm\n"
     ]
    }
   ],
   "source": [
    "# Mount YOUR google drive in Colab\n",
    "from google.colab import drive\n",
    "drive.mount('/content/drive')\n",
    "import sys\n",
    "sys.path.insert(0,\"/content/drive/My Drive/Colab Notebooks/\")\n",
    "import NASA_core as nc\n",
    "import NASA_plot_core as ncp\n",
    "import GEE_Python_core as gpc"
   ]
  },
  {
   "cell_type": "markdown",
   "metadata": {
    "id": "cErRXmUS2ips"
   },
   "source": [
    "# **Change Current directory to the Colab folder on Google Drive**"
   ]
  },
  {
   "cell_type": "code",
   "execution_count": 5,
   "metadata": {
    "id": "rD5tBhc42ho2"
   },
   "outputs": [],
   "source": [
    "import os\n",
    "os.chdir(\"/content/drive/My Drive/Colab Notebooks/\") # Colab Notebooks\n",
    "# !ls"
   ]
  },
  {
   "cell_type": "code",
   "execution_count": 6,
   "metadata": {
    "id": "wDKuzyJh64ZT"
   },
   "outputs": [],
   "source": [
    "# import os\n",
    "# os.chdir(\"/content/drive/\")\n",
    "# !ls\n",
    "\n",
    "# os.chdir(\"/content/drive/MyDrive/NASA_trends/shapefiles/Grant2017/\")\n",
    "# !ls\n",
    "# os.getcwd()\n",
    "# os.listdir(\"/content/drive/MyDrive/NASA_trends/shapefiles/\")"
   ]
  },
  {
   "cell_type": "markdown",
   "metadata": {
    "id": "3pa0Uyu9vnZ4"
   },
   "source": [
    "# Please tell me where to look for the shapefile!"
   ]
  },
  {
   "cell_type": "code",
   "execution_count": 7,
   "metadata": {
    "id": "I3Lqds7fu0Jk"
   },
   "outputs": [],
   "source": [
    "# shp_path = \"/Users/hn/Documents/01_research_data/NASA/shapefiles/Grant2017/Grant2017.shp\"\n",
    "# shp_path = \"/content/My Drive/NASA_trends/shapefiles/Grant2017/Grant2017.shp\"\n",
    "shp_path = \"/content/drive/MyDrive/NASA_trends/shapefiles/Grant2017/Grant2017.shp\"\n",
    "shp_path = \"/content/drive/MyDrive/NASA_trends/shapefiles/Grant_4Fields_poly_wCentroids/Grant_4Fields_poly_wCentroids.shp\"\n",
    "\n",
    "# we read our shapefile in to a geopandas data frame using the geopandas.read_file method\n",
    "# we'll make sure it's initiated in the EPSG 4326 CRS\n",
    "Grant_4Fields_poly_wCentroids = gpd.read_file(shp_path, crs='EPSG:4326')\n",
    "\n",
    "# define a helper function to put the geodataframe in the right format for constructing an ee object\n",
    "# The following function and the immediate line after that works for 1 geometry. not all the fields in the shapefile.\n",
    "# def shp_to_ee_fmt(geodf):\n",
    "#     data = json.loads(geodf.to_json())\n",
    "#     return data['features'][0]['geometry']['coordinates']\n",
    "# Grant_4Fields_poly_wCentroids = ee.Geometry.MultiPolygon(shp_to_ee_fmt(Grant_4Fields_poly_wCentroids))\n",
    "\n",
    "# Grant_4Fields_poly_wCentroids = ee.FeatureCollection(Grant_4Fields_poly_wCentroids)"
   ]
  },
  {
   "cell_type": "code",
   "execution_count": 8,
   "metadata": {
    "id": "pFiiiP_YR5DI"
   },
   "outputs": [],
   "source": [
    "unwanted_columns = ['cntrd_ln', 'cntrd_lt', 'CropGrp', 'Shap_Ar', 'Shp_Lng', 'ExctAcr', \n",
    "                    'RtCrpTy', 'TRS', 'Notes', 'IntlSrD']\n",
    "Grant_4Fields_poly_wCentroids = Grant_4Fields_poly_wCentroids.drop(columns=unwanted_columns)"
   ]
  },
  {
   "cell_type": "code",
   "execution_count": 9,
   "metadata": {
    "colab": {
     "base_uri": "https://localhost:8080/",
     "height": 183
    },
    "id": "Un5vX6oF2qZx",
    "outputId": "dcfab0e5-92e4-4ced-ccc7-86dfa155167c"
   },
   "outputs": [
    {
     "name": "stdout",
     "output_type": "stream",
     "text": [
      "<class 'geopandas.geodataframe.GeoDataFrame'>\n",
      "++++++++++++++++++++++++++++++++++++++++++++++++++++++++++++++++++++++++++++++\n",
      "Shape of Grant_4Fields_poly_wCentroids is (4, 8)\n",
      "==============================================================================\n"
     ]
    },
    {
     "data": {
      "text/html": [
       "\n",
       "  <div id=\"df-dd5410a6-9e3f-41ca-b0b3-086531a698b7\">\n",
       "    <div class=\"colab-df-container\">\n",
       "      <div>\n",
       "<style scoped>\n",
       "    .dataframe tbody tr th:only-of-type {\n",
       "        vertical-align: middle;\n",
       "    }\n",
       "\n",
       "    .dataframe tbody tr th {\n",
       "        vertical-align: top;\n",
       "    }\n",
       "\n",
       "    .dataframe thead th {\n",
       "        text-align: right;\n",
       "    }\n",
       "</style>\n",
       "<table border=\"1\" class=\"dataframe\">\n",
       "  <thead>\n",
       "    <tr style=\"text-align: right;\">\n",
       "      <th></th>\n",
       "      <th>ID</th>\n",
       "      <th>CropTyp</th>\n",
       "      <th>Acres</th>\n",
       "      <th>Irrigtn</th>\n",
       "      <th>LstSrvD</th>\n",
       "      <th>DataSrc</th>\n",
       "      <th>county</th>\n",
       "      <th>geometry</th>\n",
       "    </tr>\n",
       "  </thead>\n",
       "  <tbody>\n",
       "    <tr>\n",
       "      <th>0</th>\n",
       "      <td>102309_WSDA_SF_2017</td>\n",
       "      <td>wheat</td>\n",
       "      <td>109.0</td>\n",
       "      <td>center pivot</td>\n",
       "      <td>2017/07/11</td>\n",
       "      <td>wsda</td>\n",
       "      <td>Grant</td>\n",
       "      <td>POLYGON ((-119.80155 46.99794, -119.80157 46.9...</td>\n",
       "    </tr>\n",
       "    <tr>\n",
       "      <th>1</th>\n",
       "      <td>104563_WSDA_SF_2017</td>\n",
       "      <td>potato</td>\n",
       "      <td>38.0</td>\n",
       "      <td>rill</td>\n",
       "      <td>2017/05/16</td>\n",
       "      <td>wsda</td>\n",
       "      <td>Grant</td>\n",
       "      <td>POLYGON ((-119.82193 47.15758, -119.82710 47.1...</td>\n",
       "    </tr>\n",
       "  </tbody>\n",
       "</table>\n",
       "</div>\n",
       "      <button class=\"colab-df-convert\" onclick=\"convertToInteractive('df-dd5410a6-9e3f-41ca-b0b3-086531a698b7')\"\n",
       "              title=\"Convert this dataframe to an interactive table.\"\n",
       "              style=\"display:none;\">\n",
       "        \n",
       "  <svg xmlns=\"http://www.w3.org/2000/svg\" height=\"24px\"viewBox=\"0 0 24 24\"\n",
       "       width=\"24px\">\n",
       "    <path d=\"M0 0h24v24H0V0z\" fill=\"none\"/>\n",
       "    <path d=\"M18.56 5.44l.94 2.06.94-2.06 2.06-.94-2.06-.94-.94-2.06-.94 2.06-2.06.94zm-11 1L8.5 8.5l.94-2.06 2.06-.94-2.06-.94L8.5 2.5l-.94 2.06-2.06.94zm10 10l.94 2.06.94-2.06 2.06-.94-2.06-.94-.94-2.06-.94 2.06-2.06.94z\"/><path d=\"M17.41 7.96l-1.37-1.37c-.4-.4-.92-.59-1.43-.59-.52 0-1.04.2-1.43.59L10.3 9.45l-7.72 7.72c-.78.78-.78 2.05 0 2.83L4 21.41c.39.39.9.59 1.41.59.51 0 1.02-.2 1.41-.59l7.78-7.78 2.81-2.81c.8-.78.8-2.07 0-2.86zM5.41 20L4 18.59l7.72-7.72 1.47 1.35L5.41 20z\"/>\n",
       "  </svg>\n",
       "      </button>\n",
       "      \n",
       "  <style>\n",
       "    .colab-df-container {\n",
       "      display:flex;\n",
       "      flex-wrap:wrap;\n",
       "      gap: 12px;\n",
       "    }\n",
       "\n",
       "    .colab-df-convert {\n",
       "      background-color: #E8F0FE;\n",
       "      border: none;\n",
       "      border-radius: 50%;\n",
       "      cursor: pointer;\n",
       "      display: none;\n",
       "      fill: #1967D2;\n",
       "      height: 32px;\n",
       "      padding: 0 0 0 0;\n",
       "      width: 32px;\n",
       "    }\n",
       "\n",
       "    .colab-df-convert:hover {\n",
       "      background-color: #E2EBFA;\n",
       "      box-shadow: 0px 1px 2px rgba(60, 64, 67, 0.3), 0px 1px 3px 1px rgba(60, 64, 67, 0.15);\n",
       "      fill: #174EA6;\n",
       "    }\n",
       "\n",
       "    [theme=dark] .colab-df-convert {\n",
       "      background-color: #3B4455;\n",
       "      fill: #D2E3FC;\n",
       "    }\n",
       "\n",
       "    [theme=dark] .colab-df-convert:hover {\n",
       "      background-color: #434B5C;\n",
       "      box-shadow: 0px 1px 3px 1px rgba(0, 0, 0, 0.15);\n",
       "      filter: drop-shadow(0px 1px 2px rgba(0, 0, 0, 0.3));\n",
       "      fill: #FFFFFF;\n",
       "    }\n",
       "  </style>\n",
       "\n",
       "      <script>\n",
       "        const buttonEl =\n",
       "          document.querySelector('#df-dd5410a6-9e3f-41ca-b0b3-086531a698b7 button.colab-df-convert');\n",
       "        buttonEl.style.display =\n",
       "          google.colab.kernel.accessAllowed ? 'block' : 'none';\n",
       "\n",
       "        async function convertToInteractive(key) {\n",
       "          const element = document.querySelector('#df-dd5410a6-9e3f-41ca-b0b3-086531a698b7');\n",
       "          const dataTable =\n",
       "            await google.colab.kernel.invokeFunction('convertToInteractive',\n",
       "                                                     [key], {});\n",
       "          if (!dataTable) return;\n",
       "\n",
       "          const docLinkHtml = 'Like what you see? Visit the ' +\n",
       "            '<a target=\"_blank\" href=https://colab.research.google.com/notebooks/data_table.ipynb>data table notebook</a>'\n",
       "            + ' to learn more about interactive tables.';\n",
       "          element.innerHTML = '';\n",
       "          dataTable['output_type'] = 'display_data';\n",
       "          await google.colab.output.renderOutput(dataTable, element);\n",
       "          const docLink = document.createElement('div');\n",
       "          docLink.innerHTML = docLinkHtml;\n",
       "          element.appendChild(docLink);\n",
       "        }\n",
       "      </script>\n",
       "    </div>\n",
       "  </div>\n",
       "  "
      ],
      "text/plain": [
       "                    ID CropTyp  Acres       Irrigtn     LstSrvD DataSrc  \\\n",
       "0  102309_WSDA_SF_2017   wheat  109.0  center pivot  2017/07/11    wsda   \n",
       "1  104563_WSDA_SF_2017  potato   38.0          rill  2017/05/16    wsda   \n",
       "\n",
       "  county                                           geometry  \n",
       "0  Grant  POLYGON ((-119.80155 46.99794, -119.80157 46.9...  \n",
       "1  Grant  POLYGON ((-119.82193 47.15758, -119.82710 47.1...  "
      ]
     },
     "execution_count": 9,
     "metadata": {},
     "output_type": "execute_result"
    }
   ],
   "source": [
    "print (type(Grant_4Fields_poly_wCentroids))\n",
    "print (\"++++++++++++++++++++++++++++++++++++++++++++++++++++++++++++++++++++++++++++++\")\n",
    "print (\"Shape of Grant_4Fields_poly_wCentroids is\", Grant_4Fields_poly_wCentroids.shape)\n",
    "print (\"==============================================================================\")\n",
    "Grant_4Fields_poly_wCentroids.head(2)"
   ]
  },
  {
   "cell_type": "markdown",
   "metadata": {
    "id": "rgU4oL8K3MV7"
   },
   "source": [
    "# **Form Geographical Regions**\n",
    "\n",
    "  - First, define a big region that covers Eastern Washington.\n",
    "  - Convert shapefile to ```ee.featurecollection.FeatureCollection```.\n"
   ]
  },
  {
   "cell_type": "code",
   "execution_count": 10,
   "metadata": {
    "id": "rgU1qGvx5jAM"
   },
   "outputs": [],
   "source": [
    "xmin = -125.0;\n",
    "ymin = 45.0;\n",
    "xmax = -116.0;\n",
    "ymax = 49.0;\n",
    "\n",
    "xmed = (xmin + xmax) / 2.0;\n",
    "ymed = (ymin+ymax) / 2.0;\n",
    "\n",
    "WA1 = ee.Geometry.Polygon([[xmin, ymin], [xmin, ymax], [xmed, ymax], [xmed, ymin], [xmin, ymin]]);\n",
    "WA2 = ee.Geometry.Polygon([[xmed, ymin], [xmed, ymax], [xmax, ymax], [xmax, ymin], [xmed, ymin]]);\n",
    "WA = [WA1,WA2];\n",
    "big_rectangle = ee.FeatureCollection(WA);\n",
    "SF = geemap.geopandas_to_ee(Grant_4Fields_poly_wCentroids)\n"
   ]
  },
  {
   "cell_type": "markdown",
   "metadata": {
    "id": "NdAnD4s4ASty"
   },
   "source": [
    "## **WARNING!**\n",
    "For some reason the function ```feature2ee(.)``` does not work ***when*** it is imported from ```core``` module. (However, it works when it is directly written here!!!!) So, What the hell will happen with the rest of functions, e.g. smoothing functions, we want to use here?"
   ]
  },
  {
   "cell_type": "code",
   "execution_count": 11,
   "metadata": {
    "id": "VlsU6nkK7Joz"
   },
   "outputs": [],
   "source": [
    "# was named \"banke\" in https://bikeshbade.com.np/tutorials/Detail/?title=Geo-pandas%20data%20frame%20to%20GEE%20feature%20collection%20using%20Python&code=13\n",
    "# Grant_4Fields_poly_wCentroids_EEFC_from_Func = feature2ee(shp_path)\n",
    "# Grant_4Fields_poly_wCentroids_EEFC_from_Func = gpc.feature2ee(shp_path)"
   ]
  },
  {
   "cell_type": "markdown",
   "metadata": {
    "id": "E9hYtdeW5ezU"
   },
   "source": [
    "# **Visualize the big region encompassing the Eastern Washington**"
   ]
  },
  {
   "cell_type": "code",
   "execution_count": 12,
   "metadata": {
    "colab": {
     "base_uri": "https://localhost:8080/",
     "height": 621,
     "referenced_widgets": [
      "f769e4f1def44dcba1ab317467029ad8",
      "4137e8d9335641469bc9f05a0d94deab",
      "f7469d998aa04f51ba8e17b73f7167fd",
      "19657da9b0184f259c5f6b19e61736cb",
      "60ce4794a2b4474eac37a9b837bfa862",
      "92d0475b5edb4add9789dd97ce560bad",
      "480cd7a5dfca45f3ae4cc4a958af5d06",
      "2595cf20f9da4f0fae8f09ad56ca2aa5",
      "c60a7fa072ce4f56ab251ddf3890e2b0",
      "77e14063b4f243dea2ad461299463343",
      "6c6f2eeb31624d47b5c1913f0e1adb75",
      "ab412a07d9ed4f1b8bfdba5244cc0ec4",
      "c87ec8d0e9a34c619e3ab11ebde86f65",
      "43b9394d2fde448e98762cd8a9290783",
      "7b6b402820da48b0b93755d4928a0225",
      "c7aa5f58777a4503aaf899233a3a8f05",
      "d3239937f43145f29f3e07751615172c",
      "d029807425524543ac4f8f925cb78eab",
      "8c4c9c5ed28940a0a48f1bd61fbb8826",
      "5f699bfc69794f0eadeb1b0ef9a95c49",
      "10b8145597c84aa09109491bfc1b6f27",
      "027961f5b9214e75943fcdcddcedcd0b",
      "96b87350f2ee4b229c99942703748dbd",
      "1e6ad4ded7a44d1fa64ec5c39c73ae6b",
      "87768fac5fef491e9c25ce5f0a22ce3b",
      "b4aa146c29e549069e5a6a329c4dc914",
      "4bd6f1ee0d994c0f93fbb2f6c3954e5e",
      "34d15103e4184ef3be4d903fac42a510"
     ]
    },
    "id": "mVmBWoEb5fAm",
    "outputId": "e1451d02-883d-4bee-8a31-c40f52fb9bcd"
   },
   "outputs": [
    {
     "data": {
      "application/vnd.jupyter.widget-view+json": {
       "model_id": "f769e4f1def44dcba1ab317467029ad8",
       "version_major": 2,
       "version_minor": 0
      },
      "text/plain": [
       "Map(center=[47.0, -120.5], controls=(WidgetControl(options=['position', 'transparent_bg'], widget=HBox(childre…"
      ]
     },
     "metadata": {
      "application/vnd.jupyter.widget-view+json": {
       "colab": {
        "custom_widget_manager": {
         "url": "https://ssl.gstatic.com/colaboratory-static/widgets/colab-cdn-widget-manager/a8874ba6619b6106/manager.min.js"
        }
       }
      }
     },
     "output_type": "display_data"
    }
   ],
   "source": [
    "Map = geemap.Map(center=[ymed, xmed], zoom=7)\n",
    "Map.addLayer(WA1, {'color': 'red'}, 'Western Half')\n",
    "Map.addLayer(WA2, {'color': 'red'}, 'Eastern Half')\n",
    "Map.addLayer(SF, {'color': 'blue'}, 'Fields')\n",
    "Map"
   ]
  },
  {
   "cell_type": "markdown",
   "metadata": {
    "id": "suZ4slkBhXrM"
   },
   "source": [
    "# **Define Parameters**"
   ]
  },
  {
   "cell_type": "code",
   "execution_count": 13,
   "metadata": {
    "id": "1ZPc-HNuhatk"
   },
   "outputs": [],
   "source": [
    "start_date = \"2017-01-01\" # Date fromat for EE YYYY-MM-DD\n",
    "end_date = \"2017-12-30\"   # Date fromat for EE YYYY-MM-DD\n",
    "cloud_perc = 70"
   ]
  },
  {
   "cell_type": "code",
   "execution_count": 14,
   "metadata": {
    "colab": {
     "base_uri": "https://localhost:8080/"
    },
    "id": "LpZWNdHzPubb",
    "outputId": "a1c6d30e-6905-49c5-8f16-ed932bf50141"
   },
   "outputs": [
    {
     "name": "stdout",
     "output_type": "stream",
     "text": [
      "The size of [imageC.size().getInfo()] is [2428].\n"
     ]
    }
   ],
   "source": [
    "imageC = gpc.extract_sentinel_IC(big_rectangle, start_date, end_date, cloud_perc);\n",
    "print (\"The size of [imageC.size().getInfo()] is [{:.0f}].\".format(imageC.size().getInfo()))\n",
    "reduced = gpc.mosaic_and_reduce_IC_mean(imageC, SF, start_date, end_date)"
   ]
  },
  {
   "cell_type": "markdown",
   "metadata": {
    "id": "h2ifGNw07cd6"
   },
   "source": [
    "# **Export output to Google Drive, only if you want!**"
   ]
  },
  {
   "cell_type": "code",
   "execution_count": 15,
   "metadata": {
    "id": "TmOxua9os46Y"
   },
   "outputs": [],
   "source": [
    "export_raw_data = False\n",
    "\n",
    "if export_raw_data==True:\n",
    "  outfile_name = \"Grant_4Fields_poly_wCentroids_colab_output\"\n",
    "  task = ee.batch.Export.table.toDrive(**{\n",
    "                                      'collection': reduced,\n",
    "                                      'description': outfile_name,\n",
    "                                      'folder': \"colab_outputs\",\n",
    "                                      'selectors':[\"ID\", \"Acres\", \"county\", \"CropTyp\", \"DataSrc\", \\\n",
    "                                                    \"Irrigtn\", \"LstSrvD\", \"EVI\", 'NDVI', \"system_start_time\"],\n",
    "                                      'fileFormat': 'CSV'})\n",
    "  task.start()\n",
    "\n",
    "  import time \n",
    "  while task.active():\n",
    "    print('Polling for task (id: {}). Still breathing'.format(task.id))\n",
    "    time.sleep(59)"
   ]
  },
  {
   "cell_type": "markdown",
   "metadata": {
    "id": "_56djzTM9cdC"
   },
   "source": [
    "#**Smooth the data**\n",
    "\n",
    "This is the end of Earh Engine Part. Below we start smoothing the data and carry on!\n",
    "\n",
    "First, all these steps can be done behind the scene. But doing them here, one at a time, has the advantage that if something goes wrong in the middle, then\n",
    "we do not lose the good stuff that was done earlier!\n",
    "For example, of one of the Python libraries/packages needs to be updated in the middle of the way\n",
    "we do not have to start doing everything from the beginning!\n",
    "<p>&nbsp;</p>\n",
    "\n",
    "Start with converting the type of ```reduced``` from ```ee.FeatureCollection``` to ```dataframe```.\n",
    "\n",
    "- For some reason when converting the ```ee.FeatureCollection``` to ```dataframe``` the function has a problem with the ```Notes``` column! So, I remove the unnecessary columns."
   ]
  },
  {
   "cell_type": "code",
   "execution_count": 16,
   "metadata": {
    "colab": {
     "base_uri": "https://localhost:8080/"
    },
    "id": "InWUd6YzwEFo",
    "outputId": "78cf261e-83ef-4150-fe40-f800b328e04e"
   },
   "outputs": [
    {
     "name": "stdout",
     "output_type": "stream",
     "text": [
      "CPU times: user 572 ms, sys: 65.1 ms, total: 638 ms\n",
      "Wall time: 2min 5s\n"
     ]
    }
   ],
   "source": [
    "# See how long it takes to convert a FeatureCollection to dataframe!\n",
    "%%time\n",
    "needed_columns = [\"ID\", \"Acres\", \"county\", \"CropTyp\", \"DataSrc\", \\\n",
    "                  \"Irrigtn\", \"LstSrvD\", \"EVI\", 'NDVI', \"system_start_time\"]\n",
    "reduced = geemap.ee_to_pandas(reduced, selectors=needed_columns)\n",
    "\n",
    "reduced = reduced[needed_columns]\n",
    "reduced.head(2)"
   ]
  },
  {
   "cell_type": "markdown",
   "metadata": {
    "id": "eYGNYXXFXduS"
   },
   "source": [
    "# Isolate the ```data``` part of the ```shapefile``` for future use."
   ]
  },
  {
   "cell_type": "code",
   "execution_count": 41,
   "metadata": {
    "colab": {
     "base_uri": "https://localhost:8080/"
    },
    "id": "PIHAOvE4XdN9",
    "outputId": "86488ced-eabb-437e-9ac6-277ede2b22e9"
   },
   "outputs": [
    {
     "data": {
      "text/plain": [
       "(4, 7)"
      ]
     },
     "execution_count": 41,
     "metadata": {},
     "output_type": "execute_result"
    }
   ],
   "source": [
    "SF_data = reduced[[\"ID\", \"Acres\", \"county\", \"CropTyp\", \\\n",
    "                   \"DataSrc\", \"Irrigtn\", \"LstSrvD\"]].copy()\n",
    "SF_data.drop_duplicates(inplace=True)\n",
    "SF_data.shape"
   ]
  },
  {
   "cell_type": "markdown",
   "metadata": {
    "id": "fK8dO0yzc94q"
   },
   "source": [
    "# NA removal\n",
    "\n",
    "Even though logically and intuitively all the bands should be either available or ```NA```, I have seen before that sometimes ```EVI``` is NA while ```NDVI``` is not. Therefore, I had to choose which VI we want to use so that we can clean the data properly. However, I did not see that here.  when I was testing this code for 4 fields.\n",
    "\n",
    "Another suprising observation was that the output of Colab had more data compared to its JS counterpart!!!"
   ]
  },
  {
   "cell_type": "code",
   "execution_count": 18,
   "metadata": {
    "id": "Nf5Athf2jlRe"
   },
   "outputs": [],
   "source": [
    "# reduced = reduced[reduced[\"system_start_time\"].notna()]\n",
    "reduced = reduced[reduced[\"EVI\"].notna()]\n",
    "reduced.reset_index(drop=True, inplace=True)"
   ]
  },
  {
   "cell_type": "markdown",
   "metadata": {
    "id": "SWE3Cw8ChnNs"
   },
   "source": [
    "# Add human readable time to the dataframe"
   ]
  },
  {
   "cell_type": "code",
   "execution_count": 19,
   "metadata": {
    "colab": {
     "base_uri": "https://localhost:8080/"
    },
    "id": "1IhNPSPCjwK4",
    "outputId": "acb52a87-4264-4c7d-acfd-2038eda0902f"
   },
   "outputs": [
    {
     "data": {
      "text/plain": [
       "1483470589.303"
      ]
     },
     "execution_count": 19,
     "metadata": {},
     "output_type": "execute_result"
    }
   ],
   "source": [
    "reduced = nc.add_human_start_time_by_system_start_time(reduced)\n",
    "reduced.head(2)\n",
    "reduced.loc[0, \"system_start_time\"]"
   ]
  },
  {
   "cell_type": "markdown",
   "metadata": {
    "id": "yEOetbtbiEZZ"
   },
   "source": [
    "# Make a plot for fun."
   ]
  },
  {
   "cell_type": "code",
   "execution_count": 58,
   "metadata": {
    "colab": {
     "base_uri": "https://localhost:8080/",
     "height": 211
    },
    "id": "maPiNLpubCtE",
    "outputId": "02f0bf7e-04b8-459f-a363-8ea67df05bfc"
   },
   "outputs": [
    {
     "data": {
      "image/png": "[encoded data removed]",
      "text/plain": [
       "<Figure size 1440x216 with 1 Axes>"
      ]
     },
     "metadata": {
      "needs_background": "light"
     },
     "output_type": "display_data"
    }
   ],
   "source": [
    "#  Pick a field\n",
    "a_field = reduced[reduced.ID==reduced.ID.unique()[0]].copy()\n",
    "a_field.sort_values(by='human_system_start_time', axis=0, ascending=True, inplace=True)\n",
    "\n",
    "# Plot\n",
    "fig, ax = plt.subplots(1, 1, figsize=(20, 3),\n",
    "                       sharex='col', sharey='row',\n",
    "                       # sharex=True, sharey=True,\n",
    "                       gridspec_kw={'hspace': 0.2, 'wspace': .05});\n",
    "ax.grid(True);\n",
    "\n",
    "ax.scatter(a_field['human_system_start_time'], a_field[\"EVI\"], s=40, c='#d62728');\n",
    "ax.plot(a_field['human_system_start_time'], a_field[\"EVI\"], \n",
    "        linestyle='-',  linewidth=3.5, color=\"#d62728\", alpha=0.8,\n",
    "        label=\"raw EVI\")\n",
    "plt.ylim([-0.5, 1.2]);\n",
    "ax.legend(loc=\"lower right\");\n"
   ]
  },
  {
   "cell_type": "markdown",
   "metadata": {
    "id": "sBUFPr-Zx2VH"
   },
   "source": [
    "# Efficiency \n",
    "\n",
    "We can and should make this more efficient. Do some of the calculations in place as opposed to creating a new ```dataframe``` and copying stuff.\n",
    "\n",
    "#**Remove outliers**"
   ]
  },
  {
   "cell_type": "code",
   "execution_count": 21,
   "metadata": {
    "id": "PschCyKp27bK"
   },
   "outputs": [],
   "source": [
    "reduced[\"ID\"] = reduced[\"ID\"].astype(str)\n",
    "IDs = np.sort(reduced[\"ID\"].unique())\n",
    "indeks = \"EVI\""
   ]
  },
  {
   "cell_type": "code",
   "execution_count": 22,
   "metadata": {
    "colab": {
     "base_uri": "https://localhost:8080/"
    },
    "id": "D4JDoe0Sf3YO",
    "outputId": "448f2248-26b4-4386-b9cc-37a522e0a85a"
   },
   "outputs": [
    {
     "name": "stdout",
     "output_type": "stream",
     "text": [
      "counter is [0].\n"
     ]
    }
   ],
   "source": [
    "no_outlier_df = pd.DataFrame(data = None,\n",
    "                         index = np.arange(reduced.shape[0]), \n",
    "                         columns = reduced.columns)\n",
    "counter = 0\n",
    "row_pointer = 0\n",
    "for a_poly in IDs:\n",
    "    if (counter % 1000 == 0):\n",
    "        print (\"counter is [{:.0f}].\".format(counter))\n",
    "    curr_field = reduced[reduced[\"ID\"]==a_poly].copy()\n",
    "    # small fields may have nothing in them!\n",
    "    if curr_field.shape[0] > 2:\n",
    "        ##************************************************\n",
    "        #\n",
    "        #    Set negative index values to zero.\n",
    "        #\n",
    "        ##************************************************\n",
    "        \"\"\"\n",
    "         we are killing some of the ourliers here and put them\n",
    "         in the normal range! do we want to do it here? No, lets do it later.\n",
    "        \"\"\"\n",
    "        # curr_field.loc[curr_field[indeks] < 0 , indeks] = 0 \n",
    "        no_Outlier_TS = nc.interpolate_outliers_EVI_NDVI(outlier_input = curr_field, given_col = indeks)\n",
    "        no_Outlier_TS.loc[no_Outlier_TS[indeks] < 0 , indeks] = 0 \n",
    "\n",
    "        \"\"\"\n",
    "        it is possible that for a field we only have x=2 data points\n",
    "        where all the EVI/NDVI is outlier. Then, there is nothing to \n",
    "        use for interpolation. So, hopefully interpolate_outliers_EVI_NDVI is returning an empty data table.\n",
    "        \"\"\" \n",
    "        if len(no_Outlier_TS) > 0:\n",
    "            no_outlier_df[row_pointer: row_pointer + curr_field.shape[0]] = no_Outlier_TS.values\n",
    "            counter += 1\n",
    "            row_pointer += curr_field.shape[0]\n",
    "\n",
    "# Sanity check. Will neved occur. At least should not!\n",
    "no_outlier_df.drop_duplicates(inplace=True)"
   ]
  },
  {
   "cell_type": "markdown",
   "metadata": {
    "id": "bygnLLy082lH"
   },
   "source": [
    "#**Remove the damn jumps**\n",
    "\n",
    "Maybe we can remove old/previous dataframes to free memory up!"
   ]
  },
  {
   "cell_type": "code",
   "execution_count": 23,
   "metadata": {
    "colab": {
     "base_uri": "https://localhost:8080/"
    },
    "id": "9DEdxPAXgYsR",
    "outputId": "31ad9bb0-6f52-46ed-bab4-a6a2f80af74a"
   },
   "outputs": [
    {
     "name": "stdout",
     "output_type": "stream",
     "text": [
      "counter is [0].\n",
      "Shape of noJump_df before dropping duplicates is (204, 11).\n",
      "Shape of noJump_df before dropping duplicates is (204, 11).\n"
     ]
    }
   ],
   "source": [
    "noJump_df = pd.DataFrame(data = None,\n",
    "                         index = np.arange(no_outlier_df.shape[0]), \n",
    "                         columns = no_outlier_df.columns)\n",
    "counter = 0\n",
    "row_pointer = 0\n",
    "\n",
    "for a_poly in IDs:\n",
    "    if (counter % 1000 == 0):\n",
    "        print (\"counter is [{:.0f}].\".format(counter))\n",
    "    curr_field = no_outlier_df[no_outlier_df[\"ID\"]==a_poly].copy()\n",
    "    \n",
    "    ################################################################\n",
    "    # Sort by DoY (sanitary check)\n",
    "    curr_field.sort_values(by=['human_system_start_time'], inplace=True)\n",
    "    curr_field.reset_index(drop=True, inplace=True)\n",
    "    \n",
    "    ################################################################\n",
    "\n",
    "    no_Outlier_TS = nc.correct_big_jumps_1DaySeries_JFD(dataTMS_jumpie = curr_field, \n",
    "                                                        give_col = indeks, \n",
    "                                                        maxjump_perDay = 0.018)\n",
    "\n",
    "    noJump_df[row_pointer: row_pointer + curr_field.shape[0]] = no_Outlier_TS.values\n",
    "    counter += 1\n",
    "    row_pointer += curr_field.shape[0]\n",
    "\n",
    "noJump_df['human_system_start_time'] = pd.to_datetime(noJump_df['human_system_start_time'])\n",
    "\n",
    "# Sanity check. Will neved occur. At least should not!\n",
    "print (\"Shape of noJump_df before dropping duplicates is {}.\".format(noJump_df.shape)) \n",
    "noJump_df.drop_duplicates(inplace=True)\n",
    "print (\"Shape of noJump_df before dropping duplicates is {}.\".format(noJump_df.shape))"
   ]
  },
  {
   "cell_type": "markdown",
   "metadata": {
    "id": "RnrloDSm-7qr"
   },
   "source": [
    "# **Regularize**\n",
    "\n",
    "Here we regularize the data. \"Regularization\" means pick a value for every 10-days. Doing this ensures 1. all inputs have the same length, 2. by picking maximum value of a VI we are reducing the noise in the time-series by eliminating noisy data points. For example, snow or shaddow can lead to understimating the true VI.\n",
    "\n",
    "Moreover, here, I am keeping only 3 columns. As long as we have ```ID``` we can\n",
    "merge the big dataframe with the final result later, here or externally.\n",
    "This will reduce amount of memory needed. Perhaps I should do this\n",
    "right the beginning."
   ]
  },
  {
   "cell_type": "code",
   "execution_count": 24,
   "metadata": {
    "colab": {
     "base_uri": "https://localhost:8080/"
    },
    "id": "b4uaS8yf3qjc",
    "outputId": "6a91db93-b021-4275-bc1b-9c36ec345695"
   },
   "outputs": [
    {
     "name": "stdout",
     "output_type": "stream",
     "text": [
      "st_yr is 2017.\n",
      "end_yr is 2017.\n",
      "nrows is 148.\n"
     ]
    }
   ],
   "source": [
    "# define parameters\n",
    "regular_window_size = 10\n",
    "reg_cols = ['ID', 'human_system_start_time', indeks] # system_start_time list(noJump_df.columns)\n",
    "\n",
    "st_yr = noJump_df.human_system_start_time.dt.year.min()\n",
    "end_yr = noJump_df.human_system_start_time.dt.year.max()\n",
    "no_days = (end_yr - st_yr + 1) * 366 # 14 years, each year 366 days!\n",
    "\n",
    "no_steps = int(np.ceil(no_days / regular_window_size)) # no_days // regular_window_size\n",
    "\n",
    "nrows = no_steps * len(IDs)\n",
    "print('st_yr is {}.'.format(st_yr))\n",
    "print('end_yr is {}.'.format(end_yr))\n",
    "print('nrows is {}.'.format(nrows))"
   ]
  },
  {
   "cell_type": "code",
   "execution_count": 25,
   "metadata": {
    "colab": {
     "base_uri": "https://localhost:8080/"
    },
    "id": "WcwcEb4p3uB9",
    "outputId": "c7721882-eed1-407b-bd67-4fbad3952ff6"
   },
   "outputs": [
    {
     "name": "stdout",
     "output_type": "stream",
     "text": [
      "counter is [0].\n"
     ]
    }
   ],
   "source": [
    "regular_df = pd.DataFrame(data = None,\n",
    "                         index = np.arange(nrows), \n",
    "                         columns = reg_cols)\n",
    "counter = 0\n",
    "row_pointer = 0\n",
    "\n",
    "for a_poly in IDs:\n",
    "    if (counter % 1000 == 0):\n",
    "        print (\"counter is [{:.0f}].\".format(counter))\n",
    "    curr_field = noJump_df[noJump_df[\"ID\"]==a_poly].copy()\n",
    "    ################################################################\n",
    "    # Sort by date (sanitary check)\n",
    "    curr_field.sort_values(by=['human_system_start_time'], inplace=True)\n",
    "    curr_field.reset_index(drop=True, inplace=True)\n",
    "    \n",
    "    ################################################################\n",
    "    regularized_TS = nc.regularize_a_field(a_df = curr_field, \\\n",
    "                                           V_idks = indeks, \\\n",
    "                                           interval_size = regular_window_size,\\\n",
    "                                           start_year = st_yr, \\\n",
    "                                           end_year = end_yr)\n",
    "    \n",
    "    regularized_TS = nc.fill_theGap_linearLine(a_regularized_TS = regularized_TS, V_idx = indeks)\n",
    "    # if (counter == 0):\n",
    "    #     print (\"regular_df columns:\",     regular_df.columns)\n",
    "    #     print (\"regularized_TS.columns\", regularized_TS.columns)\n",
    "    \n",
    "    ################################################################\n",
    "    # row_pointer = no_steps * counter\n",
    "    \n",
    "    \"\"\"\n",
    "       The reason for the following line is that we assume all years are 366 days!\n",
    "       so, the actual thing might be smaller!\n",
    "    \"\"\"\n",
    "    # why this should not work?: It may leave some empty rows in regular_df\n",
    "    # but we drop them at the end.\n",
    "    regular_df[row_pointer : (row_pointer+regularized_TS.shape[0])] = regularized_TS.values\n",
    "    row_pointer += regularized_TS.shape[0]\n",
    "\n",
    "    # right_pointer = row_pointer + min(no_steps, regularized_TS.shape[0])\n",
    "    # print('right_pointer - row_pointer + 1 is {}!'.format(right_pointer - row_pointer + 1))\n",
    "    # print('len(regularized_TS.values) is {}!'.format(len(regularized_TS.values)))\n",
    "    # try:\n",
    "    #     ### I do not know why the hell the following did not work for training set!\n",
    "    #     ### So, I converted this to try-except statement! hopefully, this will\n",
    "    #     ### work, at least as temporary remedy! Why it worked well with 2008-2021 but not 2013-2015\n",
    "    #     regular_df[row_pointer: right_pointer] = regularized_TS.values\n",
    "    # except:\n",
    "    #     regular_df[row_pointer: right_pointer+1] = regularized_TS.values\n",
    "    counter += 1\n",
    "\n",
    "regular_df['human_system_start_time'] = pd.to_datetime(regular_df['human_system_start_time'])\n",
    "regular_df.drop_duplicates(inplace=True)\n",
    "regular_df.dropna(inplace=True)\n",
    "\n",
    "# Sanity Check\n",
    "regular_df.sort_values(by=[\"ID\", 'human_system_start_time'], inplace=True)\n",
    "regular_df.reset_index(drop=True, inplace=True)\n"
   ]
  },
  {
   "cell_type": "code",
   "execution_count": 59,
   "metadata": {
    "colab": {
     "base_uri": "https://localhost:8080/",
     "height": 211
    },
    "id": "1B498-me7mMq",
    "outputId": "22db33e2-02c6-487a-cfba-ed9198bf23bd"
   },
   "outputs": [
    {
     "data": {
      "image/png": "[encoded data removed]",
      "text/plain": [
       "<Figure size 1440x216 with 1 Axes>"
      ]
     },
     "metadata": {
      "needs_background": "light"
     },
     "output_type": "display_data"
    }
   ],
   "source": [
    "#  Pick a fields\n",
    "a_field = regular_df[regular_df.ID==reduced.ID.unique()[0]].copy()\n",
    "a_field.sort_values(by='human_system_start_time', axis=0, ascending=True, inplace=True)\n",
    "\n",
    "# Plot\n",
    "fig, ax = plt.subplots(1, 1, figsize=(20, 3), sharex='col', sharey='row',\n",
    "                       gridspec_kw={'hspace': 0.2, 'wspace': .05});\n",
    "ax.grid(True);\n",
    "ax.plot(a_field['human_system_start_time'], \n",
    "        a_field[\"EVI\"], \n",
    "        linestyle='-', label=\"EVI\", linewidth=3.5, color=\"dodgerblue\", alpha=0.8)\n",
    "\n",
    "ax.legend(loc=\"lower right\");\n",
    "plt.ylim([-0.5, 1.2]);"
   ]
  },
  {
   "cell_type": "markdown",
   "metadata": {
    "id": "ram0TU5bEfqE"
   },
   "source": [
    "# **Savitzky-Golay Smoothing**"
   ]
  },
  {
   "cell_type": "code",
   "execution_count": 27,
   "metadata": {
    "colab": {
     "base_uri": "https://localhost:8080/"
    },
    "id": "f4QosTqVBH2B",
    "outputId": "a3d0ca49-91af-4eae-907c-4bb6d4f51d20"
   },
   "outputs": [
    {
     "name": "stdout",
     "output_type": "stream",
     "text": [
      "counter is [0].\n"
     ]
    }
   ],
   "source": [
    "counter = 0\n",
    "window_len = 7\n",
    "polynomial_order = 3\n",
    "\n",
    "for a_poly in IDs:\n",
    "    if (counter % 300 == 0):\n",
    "        print (\"counter is [{:.0f}].\".format(counter))\n",
    "    curr_field = regular_df[regular_df[\"ID\"]==a_poly].copy()\n",
    "    \n",
    "    # Smoothen by Savitzky-Golay\n",
    "    SG = scipy.signal.savgol_filter(curr_field[indeks].values, window_length=window_len, polyorder=polynomial_order)\n",
    "    SG[SG > 1 ] = 1 # SG might violate the boundaries. clip them:\n",
    "    SG[SG < -1 ] = -1\n",
    "    regular_df.loc[curr_field.index, indeks] = SG\n",
    "    counter += 1"
   ]
  },
  {
   "cell_type": "code",
   "execution_count": 60,
   "metadata": {
    "colab": {
     "base_uri": "https://localhost:8080/",
     "height": 211
    },
    "id": "yboIMfeWC_WH",
    "outputId": "b98d244d-2f33-47ad-ad52-96d346cf9bd2"
   },
   "outputs": [
    {
     "data": {
      "image/png": "[encoded data removed]",
      "text/plain": [
       "<Figure size 1440x216 with 1 Axes>"
      ]
     },
     "metadata": {
      "needs_background": "light"
     },
     "output_type": "display_data"
    }
   ],
   "source": [
    "#  Pick a fields\n",
    "an_ID = reduced.ID.unique()[0]\n",
    "a_field = regular_df[regular_df.ID==an_ID].copy()\n",
    "a_field.sort_values(by='human_system_start_time', axis=0, ascending=True, inplace=True)\n",
    "\n",
    "# Plot\n",
    "fig, ax = plt.subplots(1, 1, figsize=(20, 3),\n",
    "                       sharex='col', sharey='row',\n",
    "                       gridspec_kw={'hspace': 0.2, 'wspace': .05});\n",
    "ax.grid(True);\n",
    "ax.plot(a_field['human_system_start_time'], \n",
    "        a_field[\"EVI\"], \n",
    "        linestyle='-',  linewidth=3.5, color=\"dodgerblue\", alpha=0.8,\n",
    "        label=\"smooth EVI\")\n",
    "\n",
    "# Raw data where we started from\n",
    "raw = reduced[reduced.ID==an_ID].copy()\n",
    "raw.sort_values(by='human_system_start_time', axis=0, ascending=True, inplace=True)\n",
    "ax.scatter(raw['human_system_start_time'], raw[\"EVI\"], s=15, c='#d62728', label=\"raw EVI\");\n",
    "\n",
    "ax.legend(loc=\"lower right\");\n",
    "plt.ylim([-0.5, 1.2]);"
   ]
  },
  {
   "cell_type": "markdown",
   "metadata": {
    "id": "NSSjzF4dG62S"
   },
   "source": [
    "# **Season Detection**"
   ]
  },
  {
   "cell_type": "code",
   "execution_count": 29,
   "metadata": {
    "id": "sQV7Xn8VF0Du"
   },
   "outputs": [],
   "source": [
    "# Define parameters\n",
    "onset_cut, offset_cut = 0.3, 0.3"
   ]
  },
  {
   "cell_type": "code",
   "execution_count": 30,
   "metadata": {
    "colab": {
     "base_uri": "https://localhost:8080/",
     "height": 112
    },
    "id": "i7Y6kG3gUZfQ",
    "outputId": "4f1e2fb3-4467-42c1-b4fd-301a404e3460"
   },
   "outputs": [
    {
     "data": {
      "text/html": [
       "\n",
       "  <div id=\"df-1c73d7fa-80e6-4ad4-b6a6-0ffdd955d23f\">\n",
       "    <div class=\"colab-df-container\">\n",
       "      <div>\n",
       "<style scoped>\n",
       "    .dataframe tbody tr th:only-of-type {\n",
       "        vertical-align: middle;\n",
       "    }\n",
       "\n",
       "    .dataframe tbody tr th {\n",
       "        vertical-align: top;\n",
       "    }\n",
       "\n",
       "    .dataframe thead th {\n",
       "        text-align: right;\n",
       "    }\n",
       "</style>\n",
       "<table border=\"1\" class=\"dataframe\">\n",
       "  <thead>\n",
       "    <tr style=\"text-align: right;\">\n",
       "      <th></th>\n",
       "      <th>ID</th>\n",
       "      <th>human_system_start_time</th>\n",
       "      <th>EVI</th>\n",
       "      <th>Acres</th>\n",
       "      <th>county</th>\n",
       "      <th>CropTyp</th>\n",
       "      <th>DataSrc</th>\n",
       "      <th>Irrigtn</th>\n",
       "      <th>LstSrvD</th>\n",
       "    </tr>\n",
       "  </thead>\n",
       "  <tbody>\n",
       "    <tr>\n",
       "      <th>0</th>\n",
       "      <td>102309_WSDA_SF_2017</td>\n",
       "      <td>2017-01-03</td>\n",
       "      <td>-0.001559</td>\n",
       "      <td>109</td>\n",
       "      <td>Grant</td>\n",
       "      <td>wheat</td>\n",
       "      <td>wsda</td>\n",
       "      <td>center pivot</td>\n",
       "      <td>2017/07/11</td>\n",
       "    </tr>\n",
       "    <tr>\n",
       "      <th>207</th>\n",
       "      <td>102309_WSDA_SF_2017</td>\n",
       "      <td>2017-01-13</td>\n",
       "      <td>0.003118</td>\n",
       "      <td>109</td>\n",
       "      <td>Grant</td>\n",
       "      <td>wheat</td>\n",
       "      <td>wsda</td>\n",
       "      <td>center pivot</td>\n",
       "      <td>2017/07/11</td>\n",
       "    </tr>\n",
       "  </tbody>\n",
       "</table>\n",
       "</div>\n",
       "      <button class=\"colab-df-convert\" onclick=\"convertToInteractive('df-1c73d7fa-80e6-4ad4-b6a6-0ffdd955d23f')\"\n",
       "              title=\"Convert this dataframe to an interactive table.\"\n",
       "              style=\"display:none;\">\n",
       "        \n",
       "  <svg xmlns=\"http://www.w3.org/2000/svg\" height=\"24px\"viewBox=\"0 0 24 24\"\n",
       "       width=\"24px\">\n",
       "    <path d=\"M0 0h24v24H0V0z\" fill=\"none\"/>\n",
       "    <path d=\"M18.56 5.44l.94 2.06.94-2.06 2.06-.94-2.06-.94-.94-2.06-.94 2.06-2.06.94zm-11 1L8.5 8.5l.94-2.06 2.06-.94-2.06-.94L8.5 2.5l-.94 2.06-2.06.94zm10 10l.94 2.06.94-2.06 2.06-.94-2.06-.94-.94-2.06-.94 2.06-2.06.94z\"/><path d=\"M17.41 7.96l-1.37-1.37c-.4-.4-.92-.59-1.43-.59-.52 0-1.04.2-1.43.59L10.3 9.45l-7.72 7.72c-.78.78-.78 2.05 0 2.83L4 21.41c.39.39.9.59 1.41.59.51 0 1.02-.2 1.41-.59l7.78-7.78 2.81-2.81c.8-.78.8-2.07 0-2.86zM5.41 20L4 18.59l7.72-7.72 1.47 1.35L5.41 20z\"/>\n",
       "  </svg>\n",
       "      </button>\n",
       "      \n",
       "  <style>\n",
       "    .colab-df-container {\n",
       "      display:flex;\n",
       "      flex-wrap:wrap;\n",
       "      gap: 12px;\n",
       "    }\n",
       "\n",
       "    .colab-df-convert {\n",
       "      background-color: #E8F0FE;\n",
       "      border: none;\n",
       "      border-radius: 50%;\n",
       "      cursor: pointer;\n",
       "      display: none;\n",
       "      fill: #1967D2;\n",
       "      height: 32px;\n",
       "      padding: 0 0 0 0;\n",
       "      width: 32px;\n",
       "    }\n",
       "\n",
       "    .colab-df-convert:hover {\n",
       "      background-color: #E2EBFA;\n",
       "      box-shadow: 0px 1px 2px rgba(60, 64, 67, 0.3), 0px 1px 3px 1px rgba(60, 64, 67, 0.15);\n",
       "      fill: #174EA6;\n",
       "    }\n",
       "\n",
       "    [theme=dark] .colab-df-convert {\n",
       "      background-color: #3B4455;\n",
       "      fill: #D2E3FC;\n",
       "    }\n",
       "\n",
       "    [theme=dark] .colab-df-convert:hover {\n",
       "      background-color: #434B5C;\n",
       "      box-shadow: 0px 1px 3px 1px rgba(0, 0, 0, 0.15);\n",
       "      filter: drop-shadow(0px 1px 2px rgba(0, 0, 0, 0.3));\n",
       "      fill: #FFFFFF;\n",
       "    }\n",
       "  </style>\n",
       "\n",
       "      <script>\n",
       "        const buttonEl =\n",
       "          document.querySelector('#df-1c73d7fa-80e6-4ad4-b6a6-0ffdd955d23f button.colab-df-convert');\n",
       "        buttonEl.style.display =\n",
       "          google.colab.kernel.accessAllowed ? 'block' : 'none';\n",
       "\n",
       "        async function convertToInteractive(key) {\n",
       "          const element = document.querySelector('#df-1c73d7fa-80e6-4ad4-b6a6-0ffdd955d23f');\n",
       "          const dataTable =\n",
       "            await google.colab.kernel.invokeFunction('convertToInteractive',\n",
       "                                                     [key], {});\n",
       "          if (!dataTable) return;\n",
       "\n",
       "          const docLinkHtml = 'Like what you see? Visit the ' +\n",
       "            '<a target=\"_blank\" href=https://colab.research.google.com/notebooks/data_table.ipynb>data table notebook</a>'\n",
       "            + ' to learn more about interactive tables.';\n",
       "          element.innerHTML = '';\n",
       "          dataTable['output_type'] = 'display_data';\n",
       "          await google.colab.output.renderOutput(dataTable, element);\n",
       "          const docLink = document.createElement('div');\n",
       "          docLink.innerHTML = docLinkHtml;\n",
       "          element.appendChild(docLink);\n",
       "        }\n",
       "      </script>\n",
       "    </div>\n",
       "  </div>\n",
       "  "
      ],
      "text/plain": [
       "                      ID human_system_start_time       EVI  Acres county  \\\n",
       "0    102309_WSDA_SF_2017              2017-01-03 -0.001559    109  Grant   \n",
       "207  102309_WSDA_SF_2017              2017-01-13  0.003118    109  Grant   \n",
       "\n",
       "    CropTyp DataSrc       Irrigtn     LstSrvD  \n",
       "0     wheat    wsda  center pivot  2017/07/11  \n",
       "207   wheat    wsda  center pivot  2017/07/11  "
      ]
     },
     "execution_count": 30,
     "metadata": {},
     "output_type": "execute_result"
    }
   ],
   "source": [
    "regular_df['human_system_start_time'] = pd.to_datetime(regular_df['human_system_start_time'])\n",
    "regular_df = pd.merge(regular_df, SF_data, on=['ID'], how='left')\n",
    "regular_df.reset_index(drop=True, inplace=True)\n",
    "regular_df = nc.initial_clean(df=regular_df, column_to_be_cleaned = indeks)\n",
    "regular_df.head(2)"
   ]
  },
  {
   "cell_type": "code",
   "execution_count": 30,
   "metadata": {
    "id": "Su7EIy_pWpDb"
   },
   "outputs": [],
   "source": []
  },
  {
   "cell_type": "code",
   "execution_count": 31,
   "metadata": {
    "id": "rQG-Xmd-W63k"
   },
   "outputs": [],
   "source": [
    "ratio_name = indeks + \"_ratio\"\n",
    "SEOS_output_columns = ['ID', 'human_system_start_time', indeks,\n",
    "                       ratio_name, 'SOS', 'EOS', 'season_count']\n",
    "\n",
    "min_year = regular_df.human_system_start_time.dt.year.min()\n",
    "max_year = regular_df.human_system_start_time.dt.year.max()\n",
    "no_years = max_year - min_year + 1\n",
    "all_poly_and_SEOS = pd.DataFrame(data = None, \n",
    "                                 index = np.arange(4*no_years*len(regular_df)), \n",
    "                                 columns = SEOS_output_columns)\n",
    "counter = 0\n",
    "pointer_SEOS_tab = 0\n",
    "\n",
    "regular_df = regular_df[SEOS_output_columns[0:3]]"
   ]
  },
  {
   "cell_type": "code",
   "execution_count": 32,
   "metadata": {
    "id": "alEfdzWdXzNS"
   },
   "outputs": [],
   "source": []
  },
  {
   "cell_type": "code",
   "execution_count": 33,
   "metadata": {
    "colab": {
     "base_uri": "https://localhost:8080/"
    },
    "id": "PrCIxuGYY9cl",
    "outputId": "8892b354-5cba-4488-f4c9-3933e5ec363c"
   },
   "outputs": [
    {
     "name": "stdout",
     "output_type": "stream",
     "text": [
      "_________________________________________________________\n",
      "counter: 0\n",
      "102309_WSDA_SF_2017\n"
     ]
    }
   ],
   "source": [
    "for a_poly in IDs:\n",
    "    if (counter % 1000 == 0):\n",
    "        print (\"_________________________________________________________\")\n",
    "        print (\"counter: \" + str(counter))\n",
    "        print (a_poly)\n",
    "    curr_field = regular_df[regular_df['ID']==a_poly].copy()\n",
    "    curr_field.sort_values(by=['human_system_start_time'], inplace=True)\n",
    "    curr_field.reset_index(drop=True, inplace=True)\n",
    "\n",
    "    # extract unique years. Should be 2008 thru 2021.\n",
    "    # unique_years = list(pd.DatetimeIndex(curr_field['human_system_start_time']).year.unique())\n",
    "    unique_years = curr_field['human_system_start_time'].dt.year.unique()\n",
    "    \n",
    "    \"\"\"\n",
    "    detect SOS and EOS in each year\n",
    "    \"\"\"\n",
    "    for yr in unique_years:\n",
    "        curr_field_yr = curr_field[curr_field['human_system_start_time'].dt.year == yr].copy()\n",
    "\n",
    "        # Orchards EVI was between more than 0.3\n",
    "        y_orchard = curr_field_yr[curr_field_yr['human_system_start_time'].dt.month >= 5]\n",
    "        y_orchard = y_orchard[y_orchard['human_system_start_time'].dt.month <= 10]\n",
    "        y_orchard_range = max(y_orchard[indeks]) - min(y_orchard[indeks])\n",
    "\n",
    "        if y_orchard_range > 0.3:\n",
    "            #######################################################################\n",
    "            ###\n",
    "            ###             find SOS and EOS, and add them to the table\n",
    "            ###\n",
    "            #######################################################################\n",
    "            curr_field_yr = nc.addToDF_SOS_EOS_White(pd_TS = curr_field_yr, \n",
    "                                                     VegIdx = indeks, \n",
    "                                                     onset_thresh = onset_cut, \n",
    "                                                     offset_thresh = offset_cut)\n",
    "\n",
    "            ##\n",
    "            ##  Kill false detected seasons \n",
    "            ##\n",
    "            curr_field_yr = nc.Null_SOS_EOS_by_DoYDiff(pd_TS=curr_field_yr, min_season_length=40)\n",
    "\n",
    "            #\n",
    "            # extract the SOS and EOS rows \n",
    "            #\n",
    "            SEOS = curr_field_yr[(curr_field_yr['SOS'] != 0) | curr_field_yr['EOS'] != 0]\n",
    "            SEOS = SEOS.copy()\n",
    "            # SEOS = SEOS.reset_index() # not needed really\n",
    "            SOS_tb = curr_field_yr[curr_field_yr['SOS'] != 0]\n",
    "            if len(SOS_tb) >= 2:\n",
    "                SEOS[\"season_count\"] = len(SOS_tb)\n",
    "                # re-order columns of SEOS so they match!!!\n",
    "                SEOS = SEOS[all_poly_and_SEOS.columns]\n",
    "                all_poly_and_SEOS[pointer_SEOS_tab:(pointer_SEOS_tab+len(SEOS))] = SEOS.values\n",
    "                pointer_SEOS_tab += len(SEOS)\n",
    "            else:\n",
    "                # re-order columns of fine_granular_table so they match!!!\n",
    "                curr_field_yr[\"season_count\"] = 1\n",
    "                curr_field_yr = curr_field_yr[all_poly_and_SEOS.columns]\n",
    "\n",
    "                aaa = curr_field_yr.iloc[0].values.reshape(1, len(curr_field_yr.iloc[0]))\n",
    "                \n",
    "                all_poly_and_SEOS.iloc[pointer_SEOS_tab:(pointer_SEOS_tab+1)] = aaa\n",
    "                pointer_SEOS_tab += 1\n",
    "        else: \n",
    "            \"\"\"\n",
    "             here are potentially apples, cherries, etc.\n",
    "             we did not add EVI_ratio, SOS, and EOS. So, we are missing these\n",
    "             columns in the data frame. So, use 666 as proxy\n",
    "            \"\"\"\n",
    "            aaa = np.append(curr_field_yr.iloc[0], [666, 666, 666, 1])\n",
    "            aaa = aaa.reshape(1, len(aaa))\n",
    "            all_poly_and_SEOS.iloc[pointer_SEOS_tab:(pointer_SEOS_tab+1)] = aaa\n",
    "            pointer_SEOS_tab += 1\n",
    "\n",
    "        counter += 1\n",
    "\n",
    "####################################################################################\n",
    "###\n",
    "###                   Write the outputs\n",
    "###\n",
    "####################################################################################\n",
    "# replace the following line with dropna.\n",
    "# all_poly_and_SEOS = all_poly_and_SEOS[0:(pointer_SEOS_tab)]\n",
    "all_poly_and_SEOS.dropna(inplace=True)"
   ]
  },
  {
   "cell_type": "code",
   "execution_count": 42,
   "metadata": {
    "id": "QiPJbTHhCO-v"
   },
   "outputs": [],
   "source": [
    "all_poly_and_SEOS = pd.merge(all_poly_and_SEOS, SF_data, on=['ID'], how='left')"
   ]
  },
  {
   "cell_type": "code",
   "execution_count": 44,
   "metadata": {
    "colab": {
     "base_uri": "https://localhost:8080/",
     "height": 363
    },
    "id": "Sf2mf_fXCRfH",
    "outputId": "fee6fc16-a064-4f87-bc8b-6f30f699c6b2"
   },
   "outputs": [
    {
     "data": {
      "text/html": [
       "\n",
       "  <div id=\"df-e1dd0276-345d-4985-a50d-bb110c7dc302\">\n",
       "    <div class=\"colab-df-container\">\n",
       "      <div>\n",
       "<style scoped>\n",
       "    .dataframe tbody tr th:only-of-type {\n",
       "        vertical-align: middle;\n",
       "    }\n",
       "\n",
       "    .dataframe tbody tr th {\n",
       "        vertical-align: top;\n",
       "    }\n",
       "\n",
       "    .dataframe thead th {\n",
       "        text-align: right;\n",
       "    }\n",
       "</style>\n",
       "<table border=\"1\" class=\"dataframe\">\n",
       "  <thead>\n",
       "    <tr style=\"text-align: right;\">\n",
       "      <th></th>\n",
       "      <th>ID</th>\n",
       "      <th>human_system_start_time</th>\n",
       "      <th>EVI</th>\n",
       "      <th>EVI_ratio</th>\n",
       "      <th>SOS</th>\n",
       "      <th>EOS</th>\n",
       "      <th>season_count</th>\n",
       "      <th>Acres</th>\n",
       "      <th>county</th>\n",
       "      <th>CropTyp</th>\n",
       "      <th>DataSrc</th>\n",
       "      <th>Irrigtn</th>\n",
       "      <th>LstSrvD</th>\n",
       "    </tr>\n",
       "  </thead>\n",
       "  <tbody>\n",
       "    <tr>\n",
       "      <th>0</th>\n",
       "      <td>102309_WSDA_SF_2017</td>\n",
       "      <td>2017-04-13 00:00:00</td>\n",
       "      <td>0.33771</td>\n",
       "      <td>0.39969</td>\n",
       "      <td>0.33771</td>\n",
       "      <td>0.0</td>\n",
       "      <td>2</td>\n",
       "      <td>109</td>\n",
       "      <td>Grant</td>\n",
       "      <td>wheat</td>\n",
       "      <td>wsda</td>\n",
       "      <td>center pivot</td>\n",
       "      <td>2017/07/11</td>\n",
       "    </tr>\n",
       "    <tr>\n",
       "      <th>1</th>\n",
       "      <td>102309_WSDA_SF_2017</td>\n",
       "      <td>2017-07-22 00:00:00</td>\n",
       "      <td>0.226556</td>\n",
       "      <td>0.269999</td>\n",
       "      <td>0.0</td>\n",
       "      <td>0.226556</td>\n",
       "      <td>2</td>\n",
       "      <td>109</td>\n",
       "      <td>Grant</td>\n",
       "      <td>wheat</td>\n",
       "      <td>wsda</td>\n",
       "      <td>center pivot</td>\n",
       "      <td>2017/07/11</td>\n",
       "    </tr>\n",
       "    <tr>\n",
       "      <th>2</th>\n",
       "      <td>102309_WSDA_SF_2017</td>\n",
       "      <td>2017-08-11 00:00:00</td>\n",
       "      <td>0.44497</td>\n",
       "      <td>0.524836</td>\n",
       "      <td>0.44497</td>\n",
       "      <td>0.0</td>\n",
       "      <td>2</td>\n",
       "      <td>109</td>\n",
       "      <td>Grant</td>\n",
       "      <td>wheat</td>\n",
       "      <td>wsda</td>\n",
       "      <td>center pivot</td>\n",
       "      <td>2017/07/11</td>\n",
       "    </tr>\n",
       "    <tr>\n",
       "      <th>3</th>\n",
       "      <td>102309_WSDA_SF_2017</td>\n",
       "      <td>2017-10-30 00:00:00</td>\n",
       "      <td>0.077764</td>\n",
       "      <td>0.096394</td>\n",
       "      <td>0.0</td>\n",
       "      <td>0.077764</td>\n",
       "      <td>2</td>\n",
       "      <td>109</td>\n",
       "      <td>Grant</td>\n",
       "      <td>wheat</td>\n",
       "      <td>wsda</td>\n",
       "      <td>center pivot</td>\n",
       "      <td>2017/07/11</td>\n",
       "    </tr>\n",
       "    <tr>\n",
       "      <th>4</th>\n",
       "      <td>104563_WSDA_SF_2017</td>\n",
       "      <td>2017-01-03 00:00:00</td>\n",
       "      <td>0.113238</td>\n",
       "      <td>0.057203</td>\n",
       "      <td>0.0</td>\n",
       "      <td>0.0</td>\n",
       "      <td>1</td>\n",
       "      <td>38</td>\n",
       "      <td>Grant</td>\n",
       "      <td>potato</td>\n",
       "      <td>wsda</td>\n",
       "      <td>rill</td>\n",
       "      <td>2017/05/16</td>\n",
       "    </tr>\n",
       "    <tr>\n",
       "      <th>5</th>\n",
       "      <td>105429_WSDA_SF_2017</td>\n",
       "      <td>2017-01-03 00:00:00</td>\n",
       "      <td>0.097017</td>\n",
       "      <td>0.043535</td>\n",
       "      <td>0.0</td>\n",
       "      <td>0.0</td>\n",
       "      <td>1</td>\n",
       "      <td>116</td>\n",
       "      <td>Grant</td>\n",
       "      <td>bean, dry</td>\n",
       "      <td>wsda</td>\n",
       "      <td>center pivot</td>\n",
       "      <td>2017/05/14</td>\n",
       "    </tr>\n",
       "    <tr>\n",
       "      <th>6</th>\n",
       "      <td>106054_WSDA_SF_2017</td>\n",
       "      <td>2017-04-03 00:00:00</td>\n",
       "      <td>0.332719</td>\n",
       "      <td>0.410409</td>\n",
       "      <td>0.332719</td>\n",
       "      <td>0.0</td>\n",
       "      <td>2</td>\n",
       "      <td>122</td>\n",
       "      <td>Grant</td>\n",
       "      <td>bean, dry</td>\n",
       "      <td>wsda</td>\n",
       "      <td>center pivot</td>\n",
       "      <td>2017/06/28</td>\n",
       "    </tr>\n",
       "    <tr>\n",
       "      <th>7</th>\n",
       "      <td>106054_WSDA_SF_2017</td>\n",
       "      <td>2017-06-02 00:00:00</td>\n",
       "      <td>0.12103</td>\n",
       "      <td>0.156831</td>\n",
       "      <td>0.0</td>\n",
       "      <td>0.12103</td>\n",
       "      <td>2</td>\n",
       "      <td>122</td>\n",
       "      <td>Grant</td>\n",
       "      <td>bean, dry</td>\n",
       "      <td>wsda</td>\n",
       "      <td>center pivot</td>\n",
       "      <td>2017/06/28</td>\n",
       "    </tr>\n",
       "    <tr>\n",
       "      <th>8</th>\n",
       "      <td>106054_WSDA_SF_2017</td>\n",
       "      <td>2017-06-22 00:00:00</td>\n",
       "      <td>0.280937</td>\n",
       "      <td>0.34838</td>\n",
       "      <td>0.280937</td>\n",
       "      <td>0.0</td>\n",
       "      <td>2</td>\n",
       "      <td>122</td>\n",
       "      <td>Grant</td>\n",
       "      <td>bean, dry</td>\n",
       "      <td>wsda</td>\n",
       "      <td>center pivot</td>\n",
       "      <td>2017/06/28</td>\n",
       "    </tr>\n",
       "    <tr>\n",
       "      <th>9</th>\n",
       "      <td>106054_WSDA_SF_2017</td>\n",
       "      <td>2017-09-10 00:00:00</td>\n",
       "      <td>0.178185</td>\n",
       "      <td>0.225295</td>\n",
       "      <td>0.0</td>\n",
       "      <td>0.178185</td>\n",
       "      <td>2</td>\n",
       "      <td>122</td>\n",
       "      <td>Grant</td>\n",
       "      <td>bean, dry</td>\n",
       "      <td>wsda</td>\n",
       "      <td>center pivot</td>\n",
       "      <td>2017/06/28</td>\n",
       "    </tr>\n",
       "  </tbody>\n",
       "</table>\n",
       "</div>\n",
       "      <button class=\"colab-df-convert\" onclick=\"convertToInteractive('df-e1dd0276-345d-4985-a50d-bb110c7dc302')\"\n",
       "              title=\"Convert this dataframe to an interactive table.\"\n",
       "              style=\"display:none;\">\n",
       "        \n",
       "  <svg xmlns=\"http://www.w3.org/2000/svg\" height=\"24px\"viewBox=\"0 0 24 24\"\n",
       "       width=\"24px\">\n",
       "    <path d=\"M0 0h24v24H0V0z\" fill=\"none\"/>\n",
       "    <path d=\"M18.56 5.44l.94 2.06.94-2.06 2.06-.94-2.06-.94-.94-2.06-.94 2.06-2.06.94zm-11 1L8.5 8.5l.94-2.06 2.06-.94-2.06-.94L8.5 2.5l-.94 2.06-2.06.94zm10 10l.94 2.06.94-2.06 2.06-.94-2.06-.94-.94-2.06-.94 2.06-2.06.94z\"/><path d=\"M17.41 7.96l-1.37-1.37c-.4-.4-.92-.59-1.43-.59-.52 0-1.04.2-1.43.59L10.3 9.45l-7.72 7.72c-.78.78-.78 2.05 0 2.83L4 21.41c.39.39.9.59 1.41.59.51 0 1.02-.2 1.41-.59l7.78-7.78 2.81-2.81c.8-.78.8-2.07 0-2.86zM5.41 20L4 18.59l7.72-7.72 1.47 1.35L5.41 20z\"/>\n",
       "  </svg>\n",
       "      </button>\n",
       "      \n",
       "  <style>\n",
       "    .colab-df-container {\n",
       "      display:flex;\n",
       "      flex-wrap:wrap;\n",
       "      gap: 12px;\n",
       "    }\n",
       "\n",
       "    .colab-df-convert {\n",
       "      background-color: #E8F0FE;\n",
       "      border: none;\n",
       "      border-radius: 50%;\n",
       "      cursor: pointer;\n",
       "      display: none;\n",
       "      fill: #1967D2;\n",
       "      height: 32px;\n",
       "      padding: 0 0 0 0;\n",
       "      width: 32px;\n",
       "    }\n",
       "\n",
       "    .colab-df-convert:hover {\n",
       "      background-color: #E2EBFA;\n",
       "      box-shadow: 0px 1px 2px rgba(60, 64, 67, 0.3), 0px 1px 3px 1px rgba(60, 64, 67, 0.15);\n",
       "      fill: #174EA6;\n",
       "    }\n",
       "\n",
       "    [theme=dark] .colab-df-convert {\n",
       "      background-color: #3B4455;\n",
       "      fill: #D2E3FC;\n",
       "    }\n",
       "\n",
       "    [theme=dark] .colab-df-convert:hover {\n",
       "      background-color: #434B5C;\n",
       "      box-shadow: 0px 1px 3px 1px rgba(0, 0, 0, 0.15);\n",
       "      filter: drop-shadow(0px 1px 2px rgba(0, 0, 0, 0.3));\n",
       "      fill: #FFFFFF;\n",
       "    }\n",
       "  </style>\n",
       "\n",
       "      <script>\n",
       "        const buttonEl =\n",
       "          document.querySelector('#df-e1dd0276-345d-4985-a50d-bb110c7dc302 button.colab-df-convert');\n",
       "        buttonEl.style.display =\n",
       "          google.colab.kernel.accessAllowed ? 'block' : 'none';\n",
       "\n",
       "        async function convertToInteractive(key) {\n",
       "          const element = document.querySelector('#df-e1dd0276-345d-4985-a50d-bb110c7dc302');\n",
       "          const dataTable =\n",
       "            await google.colab.kernel.invokeFunction('convertToInteractive',\n",
       "                                                     [key], {});\n",
       "          if (!dataTable) return;\n",
       "\n",
       "          const docLinkHtml = 'Like what you see? Visit the ' +\n",
       "            '<a target=\"_blank\" href=https://colab.research.google.com/notebooks/data_table.ipynb>data table notebook</a>'\n",
       "            + ' to learn more about interactive tables.';\n",
       "          element.innerHTML = '';\n",
       "          dataTable['output_type'] = 'display_data';\n",
       "          await google.colab.output.renderOutput(dataTable, element);\n",
       "          const docLink = document.createElement('div');\n",
       "          docLink.innerHTML = docLinkHtml;\n",
       "          element.appendChild(docLink);\n",
       "        }\n",
       "      </script>\n",
       "    </div>\n",
       "  </div>\n",
       "  "
      ],
      "text/plain": [
       "                    ID human_system_start_time       EVI EVI_ratio       SOS  \\\n",
       "0  102309_WSDA_SF_2017     2017-04-13 00:00:00   0.33771   0.39969   0.33771   \n",
       "1  102309_WSDA_SF_2017     2017-07-22 00:00:00  0.226556  0.269999       0.0   \n",
       "2  102309_WSDA_SF_2017     2017-08-11 00:00:00   0.44497  0.524836   0.44497   \n",
       "3  102309_WSDA_SF_2017     2017-10-30 00:00:00  0.077764  0.096394       0.0   \n",
       "4  104563_WSDA_SF_2017     2017-01-03 00:00:00  0.113238  0.057203       0.0   \n",
       "5  105429_WSDA_SF_2017     2017-01-03 00:00:00  0.097017  0.043535       0.0   \n",
       "6  106054_WSDA_SF_2017     2017-04-03 00:00:00  0.332719  0.410409  0.332719   \n",
       "7  106054_WSDA_SF_2017     2017-06-02 00:00:00   0.12103  0.156831       0.0   \n",
       "8  106054_WSDA_SF_2017     2017-06-22 00:00:00  0.280937   0.34838  0.280937   \n",
       "9  106054_WSDA_SF_2017     2017-09-10 00:00:00  0.178185  0.225295       0.0   \n",
       "\n",
       "        EOS season_count  Acres county    CropTyp DataSrc       Irrigtn  \\\n",
       "0       0.0            2    109  Grant      wheat    wsda  center pivot   \n",
       "1  0.226556            2    109  Grant      wheat    wsda  center pivot   \n",
       "2       0.0            2    109  Grant      wheat    wsda  center pivot   \n",
       "3  0.077764            2    109  Grant      wheat    wsda  center pivot   \n",
       "4       0.0            1     38  Grant     potato    wsda          rill   \n",
       "5       0.0            1    116  Grant  bean, dry    wsda  center pivot   \n",
       "6       0.0            2    122  Grant  bean, dry    wsda  center pivot   \n",
       "7   0.12103            2    122  Grant  bean, dry    wsda  center pivot   \n",
       "8       0.0            2    122  Grant  bean, dry    wsda  center pivot   \n",
       "9  0.178185            2    122  Grant  bean, dry    wsda  center pivot   \n",
       "\n",
       "      LstSrvD  \n",
       "0  2017/07/11  \n",
       "1  2017/07/11  \n",
       "2  2017/07/11  \n",
       "3  2017/07/11  \n",
       "4  2017/05/16  \n",
       "5  2017/05/14  \n",
       "6  2017/06/28  \n",
       "7  2017/06/28  \n",
       "8  2017/06/28  \n",
       "9  2017/06/28  "
      ]
     },
     "execution_count": 44,
     "metadata": {},
     "output_type": "execute_result"
    }
   ],
   "source": [
    "all_poly_and_SEOS"
   ]
  },
  {
   "cell_type": "code",
   "execution_count": 46,
   "metadata": {
    "id": "SIKinbsjCcth"
   },
   "outputs": [],
   "source": [
    "F1_SEOS = all_poly_and_SEOS[all_poly_and_SEOS.ID == IDs[0]]\n",
    "F2_SEOS = all_poly_and_SEOS[all_poly_and_SEOS.ID == IDs[1]]\n",
    "F3_SEOS = all_poly_and_SEOS[all_poly_and_SEOS.ID == IDs[2]]\n",
    "F4_SEOS = all_poly_and_SEOS[all_poly_and_SEOS.ID == IDs[3]]\n",
    "\n",
    "F1_TS = regular_df[regular_df.ID == IDs[0]]\n",
    "F2_TS = regular_df[regular_df.ID == IDs[1]]\n",
    "F3_TS = regular_df[regular_df.ID == IDs[2]]\n",
    "F4_TS = regular_df[regular_df.ID == IDs[3]]"
   ]
  },
  {
   "cell_type": "code",
   "execution_count": 70,
   "metadata": {
    "colab": {
     "base_uri": "https://localhost:8080/",
     "height": 390
    },
    "id": "Q9Z8PKp-Ck46",
    "outputId": "7c637dcf-72e5-4e80-a4e2-499f8d0d0882"
   },
   "outputs": [
    {
     "data": {
      "image/png": "[encoded data removed]",
      "text/plain": [
       "<Figure size 2160x432 with 4 Axes>"
      ]
     },
     "metadata": {
      "needs_background": "light"
     },
     "output_type": "display_data"
    }
   ],
   "source": [
    "fig, axs = plt.subplots(2, 2, figsize=(30,6),\n",
    "                        sharex='col', sharey='row',\n",
    "                        gridspec_kw={'hspace': 0.2, 'wspace': .1});\n",
    "\n",
    "(ax1, ax2), (ax3, ax4) = axs;\n",
    "ax1.grid(True); ax2.grid(True);\n",
    "ax3.grid(True); ax4.grid(True);\n",
    "\n",
    "ax1.plot(F1_TS['human_system_start_time'], F1_TS[\"EVI\"], linestyle='-',  linewidth=3.5, color=\"dodgerblue\", alpha=0.8, label=\"EVI\")\n",
    "ax1.set_title(IDs[0] + \", \"+ str(F1_SEOS.season_count.unique()[0]) + \" seasons\");\n",
    "ax1.set(ylabel=\"EVI\");\n",
    "\n",
    "ax2.plot(F2_TS['human_system_start_time'], F2_TS[\"EVI\"], linestyle='-',  linewidth=3.5, color=\"dodgerblue\", alpha=0.8, label=\"EVI\")\n",
    "ax2.set_title(IDs[0] + \", \"+ str(F2_SEOS.season_count.unique()[0]) + \" seasons\");\n",
    "ax2.set(ylabel=\"EVI\");\n",
    "\n",
    "ax3.plot(F3_TS['human_system_start_time'], F3_TS[\"EVI\"], linestyle='-',  linewidth=3.5, color=\"dodgerblue\", alpha=0.8, label=\"EVI\")\n",
    "ax3.set_title(IDs[0] + \", \"+ str(F3_SEOS.season_count.unique()[0]) + \" seasons\");\n",
    "ax3.set(ylabel=\"EVI\");\n",
    "\n",
    "ax4.plot(F4_TS['human_system_start_time'], F4_TS[\"EVI\"], linestyle='-',  linewidth=3.5, color=\"dodgerblue\", alpha=0.8, label=\"EVI\")\n",
    "ax4.set_title(IDs[0] + \", \"+ str(F4_SEOS.season_count.unique()[0]) + \" seasons\");\n",
    "ax4.set(ylabel=\"EVI\");"
   ]
  },
  {
   "cell_type": "code",
   "execution_count": 65,
   "metadata": {
    "colab": {
     "base_uri": "https://localhost:8080/",
     "height": 37
    },
    "id": "rojxAYi7E9zP",
    "outputId": "e5a31158-013f-4932-d202-c2ab12af042a"
   },
   "outputs": [
    {
     "data": {
      "application/vnd.google.colaboratory.intrinsic+json": {
       "type": "string"
      },
      "text/plain": [
       "'2'"
      ]
     },
     "execution_count": 65,
     "metadata": {},
     "output_type": "execute_result"
    }
   ],
   "source": []
  },
  {
   "cell_type": "code",
   "execution_count": 63,
   "metadata": {
    "id": "ibp81BJiFZrr"
   },
   "outputs": [],
   "source": []
  },
  {
   "cell_type": "code",
   "execution_count": null,
   "metadata": {
    "id": "v3DqotXyFp3v"
   },
   "outputs": [],
   "source": []
  }
 ],
 "metadata": {
  "colab": {
   "authorship_tag": "ABX9TyP9qZEnB796mEWVK5NhYuS5",
   "collapsed_sections": [],
   "include_colab_link": true,
   "name": "Perry_1.ipynb",
   "provenance": []
  },
  "kernelspec": {
   "display_name": "Python 3 (ipykernel)",
   "language": "python",
   "name": "python3"
  },
  "language_info": {
   "codemirror_mode": {
    "name": "ipython",
    "version": 3
   },
   "file_extension": ".py",
   "mimetype": "text/x-python",
   "name": "python",
   "nbconvert_exporter": "python",
   "pygments_lexer": "ipython3",
   "version": "3.9.7"
  },
  "widgets": {
   "application/vnd.jupyter.widget-state+json": {
    "027961f5b9214e75943fcdcddcedcd0b": {
     "model_module": "@jupyter-widgets/base",
     "model_module_version": "1.2.0",
     "model_name": "LayoutModel",
     "state": {
      "_model_module": "@jupyter-widgets/base",
      "_model_module_version": "1.2.0",
      "_model_name": "LayoutModel",
      "_view_count": null,
      "_view_module": "@jupyter-widgets/base",
      "_view_module_version": "1.2.0",
      "_view_name": "LayoutView",
      "align_content": null,
      "align_items": null,
      "align_self": null,
      "border": null,
      "bottom": null,
      "display": null,
      "flex": null,
      "flex_flow": null,
      "grid_area": null,
      "grid_auto_columns": null,
      "grid_auto_flow": null,
      "grid_auto_rows": null,
      "grid_column": null,
      "grid_gap": null,
      "grid_row": null,
      "grid_template_areas": null,
      "grid_template_columns": null,
      "grid_template_rows": null,
      "height": null,
      "justify_content": null,
      "justify_items": null,
      "left": null,
      "margin": null,
      "max_height": null,
      "max_width": null,
      "min_height": null,
      "min_width": null,
      "object_fit": null,
      "object_position": null,
      "order": null,
      "overflow": null,
      "overflow_x": null,
      "overflow_y": null,
      "padding": null,
      "right": null,
      "top": null,
      "visibility": null,
      "width": null
     }
    },
    "10b8145597c84aa09109491bfc1b6f27": {
     "model_module": "@jupyter-widgets/controls",
     "model_module_version": "1.5.0",
     "model_name": "ToggleButtonModel",
     "state": {
      "_dom_classes": [],
      "_model_module": "@jupyter-widgets/controls",
      "_model_module_version": "1.5.0",
      "_model_name": "ToggleButtonModel",
      "_view_count": null,
      "_view_module": "@jupyter-widgets/controls",
      "_view_module_version": "1.5.0",
      "_view_name": "ToggleButtonView",
      "button_style": "",
      "description": "",
      "description_tooltip": null,
      "disabled": false,
      "icon": "globe",
      "layout": "IPY_MODEL_87768fac5fef491e9c25ce5f0a22ce3b",
      "style": "IPY_MODEL_b4aa146c29e549069e5a6a329c4dc914",
      "tooltip": "Search location/data",
      "value": false
     }
    },
    "19657da9b0184f259c5f6b19e61736cb": {
     "model_module": "jupyter-leaflet",
     "model_module_version": "^0.15.0",
     "model_name": "LeafletScaleControlModel",
     "state": {
      "_model_module": "jupyter-leaflet",
      "_model_module_version": "^0.15.0",
      "_model_name": "LeafletScaleControlModel",
      "_view_count": null,
      "_view_module": "jupyter-leaflet",
      "_view_module_version": "^0.15.0",
      "_view_name": "LeafletScaleControlView",
      "imperial": true,
      "max_width": 100,
      "metric": true,
      "options": [
       "imperial",
       "max_width",
       "metric",
       "position",
       "update_when_idle"
      ],
      "position": "bottomleft",
      "update_when_idle": false
     }
    },
    "1e6ad4ded7a44d1fa64ec5c39c73ae6b": {
     "model_module": "@jupyter-widgets/base",
     "model_module_version": "1.2.0",
     "model_name": "LayoutModel",
     "state": {
      "_model_module": "@jupyter-widgets/base",
      "_model_module_version": "1.2.0",
      "_model_name": "LayoutModel",
      "_view_count": null,
      "_view_module": "@jupyter-widgets/base",
      "_view_module_version": "1.2.0",
      "_view_name": "LayoutView",
      "align_content": null,
      "align_items": null,
      "align_self": null,
      "border": null,
      "bottom": null,
      "display": null,
      "flex": null,
      "flex_flow": null,
      "grid_area": null,
      "grid_auto_columns": null,
      "grid_auto_flow": null,
      "grid_auto_rows": null,
      "grid_column": null,
      "grid_gap": null,
      "grid_row": null,
      "grid_template_areas": null,
      "grid_template_columns": null,
      "grid_template_rows": null,
      "height": null,
      "justify_content": null,
      "justify_items": null,
      "left": null,
      "margin": null,
      "max_height": null,
      "max_width": null,
      "min_height": null,
      "min_width": null,
      "object_fit": null,
      "object_position": null,
      "order": null,
      "overflow": null,
      "overflow_x": null,
      "overflow_y": null,
      "padding": null,
      "right": null,
      "top": null,
      "visibility": null,
      "width": null
     }
    },
    "2595cf20f9da4f0fae8f09ad56ca2aa5": {
     "model_module": "jupyter-leaflet",
     "model_module_version": "^0.15.0",
     "model_name": "LeafletDrawControlModel",
     "state": {
      "_model_module": "jupyter-leaflet",
      "_model_module_version": "^0.15.0",
      "_model_name": "LeafletDrawControlModel",
      "_view_count": null,
      "_view_module": "jupyter-leaflet",
      "_view_module_version": "^0.15.0",
      "_view_name": "LeafletDrawControlView",
      "circle": {
       "shapeOptions": {
        "color": "#3388ff"
       }
      },
      "circlemarker": {},
      "data": [],
      "edit": true,
      "marker": {
       "shapeOptions": {
        "color": "#3388ff"
       }
      },
      "options": [
       "position"
      ],
      "polygon": {
       "shapeOptions": {}
      },
      "polyline": {
       "shapeOptions": {}
      },
      "position": "topleft",
      "rectangle": {
       "shapeOptions": {
        "color": "#3388ff"
       }
      },
      "remove": true
     }
    },
    "34d15103e4184ef3be4d903fac42a510": {
     "model_module": "@jupyter-widgets/controls",
     "model_module_version": "1.5.0",
     "model_name": "DescriptionStyleModel",
     "state": {
      "_model_module": "@jupyter-widgets/controls",
      "_model_module_version": "1.5.0",
      "_model_name": "DescriptionStyleModel",
      "_view_count": null,
      "_view_module": "@jupyter-widgets/base",
      "_view_module_version": "1.2.0",
      "_view_name": "StyleView",
      "description_width": ""
     }
    },
    "4137e8d9335641469bc9f05a0d94deab": {
     "model_module": "jupyter-leaflet",
     "model_module_version": "^0.15.0",
     "model_name": "LeafletWidgetControlModel",
     "state": {
      "_model_module": "jupyter-leaflet",
      "_model_module_version": "^0.15.0",
      "_model_name": "LeafletWidgetControlModel",
      "_view_count": null,
      "_view_module": "jupyter-leaflet",
      "_view_module_version": "^0.15.0",
      "_view_name": "LeafletWidgetControlView",
      "max_height": null,
      "max_width": null,
      "min_height": null,
      "min_width": null,
      "options": [
       "position",
       "transparent_bg"
      ],
      "position": "topleft",
      "transparent_bg": false,
      "widget": "IPY_MODEL_8c4c9c5ed28940a0a48f1bd61fbb8826"
     }
    },
    "43b9394d2fde448e98762cd8a9290783": {
     "model_module": "jupyter-leaflet",
     "model_module_version": "^0.15.0",
     "model_name": "LeafletTileLayerModel",
     "state": {
      "_model_module": "jupyter-leaflet",
      "_model_module_version": "^0.15.0",
      "_model_name": "LeafletTileLayerModel",
      "_view_count": null,
      "_view_module": "jupyter-leaflet",
      "_view_module_version": "^0.15.0",
      "_view_name": "LeafletTileLayerView",
      "attribution": "Google Earth Engine",
      "base": false,
      "bottom": true,
      "detect_retina": false,
      "loading": false,
      "max_native_zoom": 18,
      "max_zoom": 24,
      "min_native_zoom": 0,
      "min_zoom": 0,
      "name": "Western Half",
      "no_wrap": false,
      "opacity": 1,
      "options": [
       "attribution",
       "detect_retina",
       "max_native_zoom",
       "max_zoom",
       "min_native_zoom",
       "min_zoom",
       "no_wrap",
       "tile_size",
       "tms"
      ],
      "popup": null,
      "popup_max_height": null,
      "popup_max_width": 300,
      "popup_min_width": 50,
      "show_loading": false,
      "tile_size": 256,
      "tms": false,
      "url": "https://earthengine.googleapis.com/v1alpha/projects/earthengine-legacy/maps/227fe956466469838a43e967668972e6-091c9ed75ef6a775052e69b14c248f24/tiles/{z}/{x}/{y}",
      "visible": true
     }
    },
    "480cd7a5dfca45f3ae4cc4a958af5d06": {
     "model_module": "jupyter-leaflet",
     "model_module_version": "^0.15.0",
     "model_name": "LeafletAttributionControlModel",
     "state": {
      "_model_module": "jupyter-leaflet",
      "_model_module_version": "^0.15.0",
      "_model_name": "LeafletAttributionControlModel",
      "_view_count": null,
      "_view_module": "jupyter-leaflet",
      "_view_module_version": "^0.15.0",
      "_view_name": "LeafletAttributionControlView",
      "options": [
       "position",
       "prefix"
      ],
      "position": "bottomright",
      "prefix": "ipyleaflet"
     }
    },
    "4bd6f1ee0d994c0f93fbb2f6c3954e5e": {
     "model_module": "@jupyter-widgets/base",
     "model_module_version": "1.2.0",
     "model_name": "LayoutModel",
     "state": {
      "_model_module": "@jupyter-widgets/base",
      "_model_module_version": "1.2.0",
      "_model_name": "LayoutModel",
      "_view_count": null,
      "_view_module": "@jupyter-widgets/base",
      "_view_module_version": "1.2.0",
      "_view_name": "LayoutView",
      "align_content": null,
      "align_items": null,
      "align_self": null,
      "border": null,
      "bottom": null,
      "display": null,
      "flex": null,
      "flex_flow": null,
      "grid_area": null,
      "grid_auto_columns": null,
      "grid_auto_flow": null,
      "grid_auto_rows": null,
      "grid_column": null,
      "grid_gap": null,
      "grid_row": null,
      "grid_template_areas": null,
      "grid_template_columns": null,
      "grid_template_rows": null,
      "height": "28px",
      "justify_content": null,
      "justify_items": null,
      "left": null,
      "margin": null,
      "max_height": null,
      "max_width": null,
      "min_height": null,
      "min_width": null,
      "object_fit": null,
      "object_position": null,
      "order": null,
      "overflow": null,
      "overflow_x": null,
      "overflow_y": null,
      "padding": "0px 0px 0px 4px",
      "right": null,
      "top": null,
      "visibility": null,
      "width": "28px"
     }
    },
    "5f699bfc69794f0eadeb1b0ef9a95c49": {
     "model_module": "@jupyter-widgets/controls",
     "model_module_version": "1.5.0",
     "model_name": "VBoxModel",
     "state": {
      "_dom_classes": [],
      "_model_module": "@jupyter-widgets/controls",
      "_model_module_version": "1.5.0",
      "_model_name": "VBoxModel",
      "_view_count": null,
      "_view_module": "@jupyter-widgets/controls",
      "_view_module_version": "1.5.0",
      "_view_name": "VBoxView",
      "box_style": "",
      "children": [
       "IPY_MODEL_96b87350f2ee4b229c99942703748dbd"
      ],
      "layout": "IPY_MODEL_1e6ad4ded7a44d1fa64ec5c39c73ae6b"
     }
    },
    "60ce4794a2b4474eac37a9b837bfa862": {
     "model_module": "jupyter-leaflet",
     "model_module_version": "^0.15.0",
     "model_name": "LeafletFullScreenControlModel",
     "state": {
      "_model_module": "jupyter-leaflet",
      "_model_module_version": "^0.15.0",
      "_model_name": "LeafletFullScreenControlModel",
      "_view_count": null,
      "_view_module": "jupyter-leaflet",
      "_view_module_version": "^0.15.0",
      "_view_name": "LeafletFullScreenControlView",
      "options": [
       "position"
      ],
      "position": "topleft"
     }
    },
    "6c6f2eeb31624d47b5c1913f0e1adb75": {
     "model_module": "jupyter-leaflet",
     "model_module_version": "^0.15.0",
     "model_name": "LeafletMapStyleModel",
     "state": {
      "_model_module": "jupyter-leaflet",
      "_model_module_version": "^0.15.0",
      "_model_name": "LeafletMapStyleModel",
      "_view_count": null,
      "_view_module": "@jupyter-widgets/base",
      "_view_module_version": "1.2.0",
      "_view_name": "StyleView",
      "cursor": "move"
     }
    },
    "77e14063b4f243dea2ad461299463343": {
     "model_module": "jupyter-leaflet",
     "model_module_version": "^0.15.0",
     "model_name": "LeafletMapStyleModel",
     "state": {
      "_model_module": "jupyter-leaflet",
      "_model_module_version": "^0.15.0",
      "_model_name": "LeafletMapStyleModel",
      "_view_count": null,
      "_view_module": "@jupyter-widgets/base",
      "_view_module_version": "1.2.0",
      "_view_name": "StyleView",
      "cursor": "grab"
     }
    },
    "7b6b402820da48b0b93755d4928a0225": {
     "model_module": "jupyter-leaflet",
     "model_module_version": "^0.15.0",
     "model_name": "LeafletTileLayerModel",
     "state": {
      "_model_module": "jupyter-leaflet",
      "_model_module_version": "^0.15.0",
      "_model_name": "LeafletTileLayerModel",
      "_view_count": null,
      "_view_module": "jupyter-leaflet",
      "_view_module_version": "^0.15.0",
      "_view_name": "LeafletTileLayerView",
      "attribution": "Google Earth Engine",
      "base": false,
      "bottom": true,
      "detect_retina": false,
      "loading": false,
      "max_native_zoom": 18,
      "max_zoom": 24,
      "min_native_zoom": 0,
      "min_zoom": 0,
      "name": "Eastern Half",
      "no_wrap": false,
      "opacity": 1,
      "options": [
       "attribution",
       "detect_retina",
       "max_native_zoom",
       "max_zoom",
       "min_native_zoom",
       "min_zoom",
       "no_wrap",
       "tile_size",
       "tms"
      ],
      "popup": null,
      "popup_max_height": null,
      "popup_max_width": 300,
      "popup_min_width": 50,
      "show_loading": false,
      "tile_size": 256,
      "tms": false,
      "url": "https://earthengine.googleapis.com/v1alpha/projects/earthengine-legacy/maps/522ad50b983cb2cc36922340695c447f-e77c30a84054830212fade39118ac440/tiles/{z}/{x}/{y}",
      "visible": true
     }
    },
    "87768fac5fef491e9c25ce5f0a22ce3b": {
     "model_module": "@jupyter-widgets/base",
     "model_module_version": "1.2.0",
     "model_name": "LayoutModel",
     "state": {
      "_model_module": "@jupyter-widgets/base",
      "_model_module_version": "1.2.0",
      "_model_name": "LayoutModel",
      "_view_count": null,
      "_view_module": "@jupyter-widgets/base",
      "_view_module_version": "1.2.0",
      "_view_name": "LayoutView",
      "align_content": null,
      "align_items": null,
      "align_self": null,
      "border": null,
      "bottom": null,
      "display": null,
      "flex": null,
      "flex_flow": null,
      "grid_area": null,
      "grid_auto_columns": null,
      "grid_auto_flow": null,
      "grid_auto_rows": null,
      "grid_column": null,
      "grid_gap": null,
      "grid_row": null,
      "grid_template_areas": null,
      "grid_template_columns": null,
      "grid_template_rows": null,
      "height": "28px",
      "justify_content": null,
      "justify_items": null,
      "left": null,
      "margin": null,
      "max_height": null,
      "max_width": null,
      "min_height": null,
      "min_width": null,
      "object_fit": null,
      "object_position": null,
      "order": null,
      "overflow": null,
      "overflow_x": null,
      "overflow_y": null,
      "padding": "0px 0px 0px 4px",
      "right": null,
      "top": null,
      "visibility": null,
      "width": "28px"
     }
    },
    "8c4c9c5ed28940a0a48f1bd61fbb8826": {
     "model_module": "@jupyter-widgets/controls",
     "model_module_version": "1.5.0",
     "model_name": "HBoxModel",
     "state": {
      "_dom_classes": [],
      "_model_module": "@jupyter-widgets/controls",
      "_model_module_version": "1.5.0",
      "_model_name": "HBoxModel",
      "_view_count": null,
      "_view_module": "@jupyter-widgets/controls",
      "_view_module_version": "1.5.0",
      "_view_name": "HBoxView",
      "box_style": "",
      "children": [
       "IPY_MODEL_10b8145597c84aa09109491bfc1b6f27"
      ],
      "layout": "IPY_MODEL_027961f5b9214e75943fcdcddcedcd0b"
     }
    },
    "92d0475b5edb4add9789dd97ce560bad": {
     "model_module": "jupyter-leaflet",
     "model_module_version": "^0.15.0",
     "model_name": "LeafletMeasureControlModel",
     "state": {
      "_custom_units": {},
      "_model_module": "jupyter-leaflet",
      "_model_module_version": "^0.15.0",
      "_model_name": "LeafletMeasureControlModel",
      "_view_count": null,
      "_view_module": "jupyter-leaflet",
      "_view_module_version": "^0.15.0",
      "_view_name": "LeafletMeasureControlView",
      "active_color": "orange",
      "capture_z_index": 10000,
      "completed_color": "#C8F2BE",
      "options": [
       "active_color",
       "capture_z_index",
       "completed_color",
       "popup_options",
       "position",
       "primary_area_unit",
       "primary_length_unit",
       "secondary_area_unit",
       "secondary_length_unit"
      ],
      "popup_options": {
       "autoPanPadding": [
        10,
        10
       ],
       "className": "leaflet-measure-resultpopup"
      },
      "position": "bottomleft",
      "primary_area_unit": "acres",
      "primary_length_unit": "kilometers",
      "secondary_area_unit": null,
      "secondary_length_unit": null
     }
    },
    "96b87350f2ee4b229c99942703748dbd": {
     "model_module": "@jupyter-widgets/controls",
     "model_module_version": "1.5.0",
     "model_name": "ToggleButtonModel",
     "state": {
      "_dom_classes": [],
      "_model_module": "@jupyter-widgets/controls",
      "_model_module_version": "1.5.0",
      "_model_name": "ToggleButtonModel",
      "_view_count": null,
      "_view_module": "@jupyter-widgets/controls",
      "_view_module_version": "1.5.0",
      "_view_name": "ToggleButtonView",
      "button_style": "",
      "description": "",
      "description_tooltip": null,
      "disabled": false,
      "icon": "wrench",
      "layout": "IPY_MODEL_4bd6f1ee0d994c0f93fbb2f6c3954e5e",
      "style": "IPY_MODEL_34d15103e4184ef3be4d903fac42a510",
      "tooltip": "Toolbar",
      "value": false
     }
    },
    "ab412a07d9ed4f1b8bfdba5244cc0ec4": {
     "model_module": "jupyter-leaflet",
     "model_module_version": "^0.15.0",
     "model_name": "LeafletTileLayerModel",
     "state": {
      "_model_module": "jupyter-leaflet",
      "_model_module_version": "^0.15.0",
      "_model_name": "LeafletTileLayerModel",
      "_view_count": null,
      "_view_module": "jupyter-leaflet",
      "_view_module_version": "^0.15.0",
      "_view_name": "LeafletTileLayerView",
      "attribution": "&copy; <a href=\"https://www.openstreetmap.org/copyright\">OpenStreetMap</a> contributors",
      "base": true,
      "bottom": true,
      "detect_retina": false,
      "loading": false,
      "max_native_zoom": 18,
      "max_zoom": 19,
      "min_native_zoom": 0,
      "min_zoom": 1,
      "name": "OpenStreetMap.Mapnik",
      "no_wrap": false,
      "opacity": 1,
      "options": [
       "attribution",
       "detect_retina",
       "max_native_zoom",
       "max_zoom",
       "min_native_zoom",
       "min_zoom",
       "no_wrap",
       "tile_size",
       "tms"
      ],
      "popup": null,
      "popup_max_height": null,
      "popup_max_width": 300,
      "popup_min_width": 50,
      "show_loading": false,
      "tile_size": 256,
      "tms": false,
      "url": "https://a.tile.openstreetmap.org/{z}/{x}/{y}.png",
      "visible": true
     }
    },
    "b4aa146c29e549069e5a6a329c4dc914": {
     "model_module": "@jupyter-widgets/controls",
     "model_module_version": "1.5.0",
     "model_name": "DescriptionStyleModel",
     "state": {
      "_model_module": "@jupyter-widgets/controls",
      "_model_module_version": "1.5.0",
      "_model_name": "DescriptionStyleModel",
      "_view_count": null,
      "_view_module": "@jupyter-widgets/base",
      "_view_module_version": "1.2.0",
      "_view_name": "StyleView",
      "description_width": ""
     }
    },
    "c60a7fa072ce4f56ab251ddf3890e2b0": {
     "model_module": "jupyter-leaflet",
     "model_module_version": "^0.15.0",
     "model_name": "LeafletWidgetControlModel",
     "state": {
      "_model_module": "jupyter-leaflet",
      "_model_module_version": "^0.15.0",
      "_model_name": "LeafletWidgetControlModel",
      "_view_count": null,
      "_view_module": "jupyter-leaflet",
      "_view_module_version": "^0.15.0",
      "_view_name": "LeafletWidgetControlView",
      "max_height": null,
      "max_width": null,
      "min_height": null,
      "min_width": null,
      "options": [
       "position",
       "transparent_bg"
      ],
      "position": "topright",
      "transparent_bg": false,
      "widget": "IPY_MODEL_5f699bfc69794f0eadeb1b0ef9a95c49"
     }
    },
    "c7aa5f58777a4503aaf899233a3a8f05": {
     "model_module": "jupyter-leaflet",
     "model_module_version": "^0.15.0",
     "model_name": "LeafletTileLayerModel",
     "state": {
      "_model_module": "jupyter-leaflet",
      "_model_module_version": "^0.15.0",
      "_model_name": "LeafletTileLayerModel",
      "_view_count": null,
      "_view_module": "jupyter-leaflet",
      "_view_module_version": "^0.15.0",
      "_view_name": "LeafletTileLayerView",
      "attribution": "Google Earth Engine",
      "base": false,
      "bottom": true,
      "detect_retina": false,
      "loading": false,
      "max_native_zoom": 18,
      "max_zoom": 24,
      "min_native_zoom": 0,
      "min_zoom": 0,
      "name": "Fields",
      "no_wrap": false,
      "opacity": 1,
      "options": [
       "attribution",
       "detect_retina",
       "max_native_zoom",
       "max_zoom",
       "min_native_zoom",
       "min_zoom",
       "no_wrap",
       "tile_size",
       "tms"
      ],
      "popup": null,
      "popup_max_height": null,
      "popup_max_width": 300,
      "popup_min_width": 50,
      "show_loading": false,
      "tile_size": 256,
      "tms": false,
      "url": "https://earthengine.googleapis.com/v1alpha/projects/earthengine-legacy/maps/738437fc3f19b55fa83dfc2f88a39037-c9301ba0e4e3d9dcd1e1ce51d88d62e9/tiles/{z}/{x}/{y}",
      "visible": true
     }
    },
    "c87ec8d0e9a34c619e3ab11ebde86f65": {
     "model_module": "jupyter-leaflet",
     "model_module_version": "^0.15.0",
     "model_name": "LeafletTileLayerModel",
     "state": {
      "_model_module": "jupyter-leaflet",
      "_model_module_version": "^0.15.0",
      "_model_name": "LeafletTileLayerModel",
      "_view_count": null,
      "_view_module": "jupyter-leaflet",
      "_view_module_version": "^0.15.0",
      "_view_name": "LeafletTileLayerView",
      "attribution": "Google",
      "base": false,
      "bottom": true,
      "detect_retina": false,
      "loading": false,
      "max_native_zoom": 18,
      "max_zoom": 22,
      "min_native_zoom": 0,
      "min_zoom": 0,
      "name": "Google Maps",
      "no_wrap": false,
      "opacity": 1,
      "options": [
       "attribution",
       "detect_retina",
       "max_native_zoom",
       "max_zoom",
       "min_native_zoom",
       "min_zoom",
       "no_wrap",
       "tile_size",
       "tms"
      ],
      "popup": null,
      "popup_max_height": null,
      "popup_max_width": 300,
      "popup_min_width": 50,
      "show_loading": false,
      "tile_size": 256,
      "tms": false,
      "url": "https://mt1.google.com/vt/lyrs=m&x={x}&y={y}&z={z}",
      "visible": true
     }
    },
    "d029807425524543ac4f8f925cb78eab": {
     "model_module": "jupyter-leaflet",
     "model_module_version": "^0.15.0",
     "model_name": "LeafletMapStyleModel",
     "state": {
      "_model_module": "jupyter-leaflet",
      "_model_module_version": "^0.15.0",
      "_model_name": "LeafletMapStyleModel",
      "_view_count": null,
      "_view_module": "@jupyter-widgets/base",
      "_view_module_version": "1.2.0",
      "_view_name": "StyleView",
      "cursor": "grab"
     }
    },
    "d3239937f43145f29f3e07751615172c": {
     "model_module": "@jupyter-widgets/base",
     "model_module_version": "1.2.0",
     "model_name": "LayoutModel",
     "state": {
      "_model_module": "@jupyter-widgets/base",
      "_model_module_version": "1.2.0",
      "_model_name": "LayoutModel",
      "_view_count": null,
      "_view_module": "@jupyter-widgets/base",
      "_view_module_version": "1.2.0",
      "_view_name": "LayoutView",
      "align_content": null,
      "align_items": null,
      "align_self": null,
      "border": null,
      "bottom": null,
      "display": null,
      "flex": null,
      "flex_flow": null,
      "grid_area": null,
      "grid_auto_columns": null,
      "grid_auto_flow": null,
      "grid_auto_rows": null,
      "grid_column": null,
      "grid_gap": null,
      "grid_row": null,
      "grid_template_areas": null,
      "grid_template_columns": null,
      "grid_template_rows": null,
      "height": "600px",
      "justify_content": null,
      "justify_items": null,
      "left": null,
      "margin": null,
      "max_height": null,
      "max_width": null,
      "min_height": null,
      "min_width": null,
      "object_fit": null,
      "object_position": null,
      "order": null,
      "overflow": null,
      "overflow_x": null,
      "overflow_y": null,
      "padding": null,
      "right": null,
      "top": null,
      "visibility": null,
      "width": null
     }
    },
    "f7469d998aa04f51ba8e17b73f7167fd": {
     "model_module": "jupyter-leaflet",
     "model_module_version": "^0.15.0",
     "model_name": "LeafletZoomControlModel",
     "state": {
      "_model_module": "jupyter-leaflet",
      "_model_module_version": "^0.15.0",
      "_model_name": "LeafletZoomControlModel",
      "_view_count": null,
      "_view_module": "jupyter-leaflet",
      "_view_module_version": "^0.15.0",
      "_view_name": "LeafletZoomControlView",
      "options": [
       "position",
       "zoom_in_text",
       "zoom_in_title",
       "zoom_out_text",
       "zoom_out_title"
      ],
      "position": "topleft",
      "zoom_in_text": "+",
      "zoom_in_title": "Zoom in",
      "zoom_out_text": "-",
      "zoom_out_title": "Zoom out"
     }
    },
    "f769e4f1def44dcba1ab317467029ad8": {
     "model_module": "jupyter-leaflet",
     "model_module_version": "^0.15.0",
     "model_name": "LeafletMapModel",
     "state": {
      "_dom_classes": [],
      "_dragging": false,
      "_model_module": "jupyter-leaflet",
      "_model_module_version": "^0.15.0",
      "_model_name": "LeafletMapModel",
      "_view_count": null,
      "_view_module": "jupyter-leaflet",
      "_view_module_version": "^0.15.0",
      "_view_name": "LeafletMapView",
      "bottom": 878,
      "bounce_at_zoom_limits": true,
      "box_zoom": true,
      "center": [
       61.4597705702975,
       3.6914062500000004
      ],
      "close_popup_on_click": true,
      "controls": [
       "IPY_MODEL_4137e8d9335641469bc9f05a0d94deab",
       "IPY_MODEL_f7469d998aa04f51ba8e17b73f7167fd",
       "IPY_MODEL_19657da9b0184f259c5f6b19e61736cb",
       "IPY_MODEL_60ce4794a2b4474eac37a9b837bfa862",
       "IPY_MODEL_92d0475b5edb4add9789dd97ce560bad",
       "IPY_MODEL_480cd7a5dfca45f3ae4cc4a958af5d06",
       "IPY_MODEL_2595cf20f9da4f0fae8f09ad56ca2aa5",
       "IPY_MODEL_c60a7fa072ce4f56ab251ddf3890e2b0"
      ],
      "crs": {
       "custom": false,
       "name": "EPSG3857"
      },
      "default_style": "IPY_MODEL_77e14063b4f243dea2ad461299463343",
      "double_click_zoom": true,
      "dragging": true,
      "dragging_style": "IPY_MODEL_6c6f2eeb31624d47b5c1913f0e1adb75",
      "east": 166.46484375000003,
      "fullscreen": false,
      "inertia": true,
      "inertia_deceleration": 3000,
      "inertia_max_speed": 1500,
      "interpolation": "bilinear",
      "keyboard": true,
      "keyboard_pan_offset": 80,
      "keyboard_zoom_offset": 1,
      "layers": [
       "IPY_MODEL_ab412a07d9ed4f1b8bfdba5244cc0ec4",
       "IPY_MODEL_c87ec8d0e9a34c619e3ab11ebde86f65",
       "IPY_MODEL_43b9394d2fde448e98762cd8a9290783",
       "IPY_MODEL_7b6b402820da48b0b93755d4928a0225",
       "IPY_MODEL_c7aa5f58777a4503aaf899233a3a8f05"
      ],
      "layout": "IPY_MODEL_d3239937f43145f29f3e07751615172c",
      "left": 120,
      "max_zoom": 24,
      "min_zoom": 1,
      "modisdate": "2022-03-30",
      "north": 78.42019327591201,
      "options": [
       "bounce_at_zoom_limits",
       "box_zoom",
       "center",
       "close_popup_on_click",
       "double_click_zoom",
       "dragging",
       "fullscreen",
       "inertia",
       "inertia_deceleration",
       "inertia_max_speed",
       "interpolation",
       "keyboard",
       "keyboard_pan_offset",
       "keyboard_zoom_offset",
       "max_zoom",
       "min_zoom",
       "prefer_canvas",
       "scroll_wheel_zoom",
       "tap",
       "tap_tolerance",
       "touch_zoom",
       "world_copy_jump",
       "zoom",
       "zoom_animation_threshold",
       "zoom_delta",
       "zoom_snap",
       "zoom_start"
      ],
      "prefer_canvas": false,
      "right": 1971,
      "scroll_wheel_zoom": true,
      "south": 24.84656534821976,
      "style": "IPY_MODEL_77e14063b4f243dea2ad461299463343",
      "tap": true,
      "tap_tolerance": 15,
      "top": 278,
      "touch_zoom": true,
      "west": -158.90625000000003,
      "window_url": "https://b5uluotcn1c-496ff2e9c6d22116-0-colab.googleusercontent.com/outputframe.html?vrz=colab-20220324-060046-RC00_436956229",
      "world_copy_jump": false,
      "zoom": 3,
      "zoom_animation_threshold": 4,
      "zoom_delta": 1,
      "zoom_snap": 1,
      "zoom_start": 12
     }
    }
   }
  }
 },
 "nbformat": 4,
 "nbformat_minor": 1
}
