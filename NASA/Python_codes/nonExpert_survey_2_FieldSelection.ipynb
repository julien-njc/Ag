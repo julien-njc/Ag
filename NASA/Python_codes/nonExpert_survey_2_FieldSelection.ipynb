{
 "cells": [
  {
   "cell_type": "markdown",
   "id": "247cded6",
   "metadata": {},
   "source": [
    "# Second set for Non-Experts\n",
    "\n",
    "We had about 6000 fields labeled by non-experts.\n",
    "Some of them were sent to Experts!\n",
    "\n",
    "We want to do it a second time. Here,\n",
    "\n",
    "  - The fields are limited to a particular set of crops, mostly.\n",
    "  - Are chosen from the fields that are not sent to Experts."
   ]
  },
  {
   "cell_type": "code",
   "execution_count": 1,
   "id": "ba7ce082",
   "metadata": {},
   "outputs": [],
   "source": [
    "import pandas as pd\n",
    "import csv\n",
    "import numpy as np\n",
    "import os, os.path\n",
    "import sys\n",
    "\n",
    "import collections # to count frequency of elements of an array\n",
    "# to move files from one directory to another\n",
    "import shutil"
   ]
  },
  {
   "cell_type": "code",
   "execution_count": 2,
   "id": "f4883cb0",
   "metadata": {},
   "outputs": [],
   "source": [
    "param_dir = \"/Users/hn/Documents/01_research_data/NASA/parameters/\"\n",
    "plots_dir = \"/Users/hn/Documents/01_research_data/NASA/snapshots/TS/06_snapshot_flat_PNG/\""
   ]
  },
  {
   "cell_type": "code",
   "execution_count": 3,
   "id": "cd7d346b",
   "metadata": {},
   "outputs": [
    {
     "name": "stdout",
     "output_type": "stream",
     "text": [
      "['extended_1', 'extended_2', 'extended_3', 'extended_4', 'extended_5']\n",
      "['Set 1 E', 'Set 2 E', 'Set 3 E', 'Set 4 E', 'Set 5 E']\n"
     ]
    }
   ],
   "source": [
    "choices_xl = pd.ExcelFile(param_dir + \"all_extended.xlsx\")\n",
    "choices_sheet_names = choices_xl.sheet_names  # see all sheet names\n",
    "\n",
    "response_set_1_xl = pd.ExcelFile(param_dir + \"6000responses.xlsx\")\n",
    "response_sheet_names = response_set_1_xl.sheet_names  # see all sheet names\n",
    "\n",
    "print (choices_sheet_names[:5])\n",
    "print (response_sheet_names[:5])"
   ]
  },
  {
   "cell_type": "code",
   "execution_count": 4,
   "id": "40b1c4ec",
   "metadata": {},
   "outputs": [],
   "source": [
    "# evaluation_set_csv = pd.read_csv(param_dir + \"evaluation_set.csv\")\n",
    "# evaluation_set_csv.drop(labels=[\"ExctAcr\"], axis='columns', inplace=True)\n",
    "\n",
    "# print (len(evaluation_set_csv.ID))\n",
    "# print (len(evaluation_set_csv.ID.unique()))"
   ]
  },
  {
   "cell_type": "code",
   "execution_count": null,
   "id": "bbca060c",
   "metadata": {},
   "outputs": [],
   "source": []
  },
  {
   "cell_type": "markdown",
   "id": "d8c34f9b",
   "metadata": {},
   "source": [
    "# Read and assemble the choices; i.e. selected fields for survey"
   ]
  },
  {
   "cell_type": "code",
   "execution_count": 5,
   "id": "aa25147e",
   "metadata": {},
   "outputs": [
    {
     "name": "stdout",
     "output_type": "stream",
     "text": [
      "(6340, 17)\n",
      "6340\n",
      "6340\n"
     ]
    }
   ],
   "source": [
    "survey_fields = pd.DataFrame()\n",
    "for a_sheet in choices_sheet_names:\n",
    "    a_choice_sheet = choices_xl.parse(a_sheet)\n",
    "    survey_fields = pd.concat([survey_fields, a_choice_sheet])\n",
    "\n",
    "print (survey_fields.shape)\n",
    "print (len(survey_fields.ID))\n",
    "print (len(survey_fields.ID.unique()))"
   ]
  },
  {
   "cell_type": "code",
   "execution_count": 6,
   "id": "ea9cb54d",
   "metadata": {},
   "outputs": [
    {
     "data": {
      "text/html": [
       "<div>\n",
       "<style scoped>\n",
       "    .dataframe tbody tr th:only-of-type {\n",
       "        vertical-align: middle;\n",
       "    }\n",
       "\n",
       "    .dataframe tbody tr th {\n",
       "        vertical-align: top;\n",
       "    }\n",
       "\n",
       "    .dataframe thead th {\n",
       "        text-align: right;\n",
       "    }\n",
       "</style>\n",
       "<table border=\"1\" class=\"dataframe\">\n",
       "  <thead>\n",
       "    <tr style=\"text-align: right;\">\n",
       "      <th></th>\n",
       "      <th>Question_in_set</th>\n",
       "      <th>Question_overall</th>\n",
       "      <th>ID</th>\n",
       "      <th>NDVI_TS_Name</th>\n",
       "      <th>corrected_RGB</th>\n",
       "      <th>TOA_RGB</th>\n",
       "      <th>latitude</th>\n",
       "      <th>longitude</th>\n",
       "      <th>Question Text</th>\n",
       "      <th>Text box Text</th>\n",
       "      <th>CropTyp</th>\n",
       "      <th>Irrigtn</th>\n",
       "      <th>DataSrc</th>\n",
       "      <th>Acres</th>\n",
       "      <th>ExctAcr</th>\n",
       "      <th>LstSrvD</th>\n",
       "      <th>county</th>\n",
       "    </tr>\n",
       "  </thead>\n",
       "  <tbody>\n",
       "    <tr>\n",
       "      <th>0</th>\n",
       "      <td>1</td>\n",
       "      <td>1</td>\n",
       "      <td>104119_WSDA_SF_2016</td>\n",
       "      <td>AdamBenton2016_104119_WSDA_SF_2016.png</td>\n",
       "      <td>104119_WSDA_SF_2016_46.83273927_-118.91209151_...</td>\n",
       "      <td>104119_WSDA_SF_2016_46.83273927_-118.91209151_...</td>\n",
       "      <td>46.832739</td>\n",
       "      <td>-118.912092</td>\n",
       "      <td>How would you label this field?</td>\n",
       "      <td>Notes if you want to add any.</td>\n",
       "      <td>alfalfa hay</td>\n",
       "      <td>center pivot</td>\n",
       "      <td>wsda</td>\n",
       "      <td>26</td>\n",
       "      <td>26.413875</td>\n",
       "      <td>2016/08/17 00:00:00</td>\n",
       "      <td>Adams</td>\n",
       "    </tr>\n",
       "    <tr>\n",
       "      <th>1</th>\n",
       "      <td>2</td>\n",
       "      <td>2</td>\n",
       "      <td>51403_WSDA_SF_2016</td>\n",
       "      <td>AdamBenton2016_51403_WSDA_SF_2016.png</td>\n",
       "      <td>51403_WSDA_SF_2016_46.75090118_-118.9797641_co...</td>\n",
       "      <td>51403_WSDA_SF_2016_46.75090118_-118.9797641_TO...</td>\n",
       "      <td>46.750901</td>\n",
       "      <td>-118.979764</td>\n",
       "      <td>How would you label this field?</td>\n",
       "      <td>Notes if you want to add any.</td>\n",
       "      <td>alfalfa hay</td>\n",
       "      <td>center pivot</td>\n",
       "      <td>wsda</td>\n",
       "      <td>2</td>\n",
       "      <td>2.480750</td>\n",
       "      <td>2016/08/03 00:00:00</td>\n",
       "      <td>Adams</td>\n",
       "    </tr>\n",
       "  </tbody>\n",
       "</table>\n",
       "</div>"
      ],
      "text/plain": [
       "   Question_in_set  Question_overall                   ID  \\\n",
       "0                1                 1  104119_WSDA_SF_2016   \n",
       "1                2                 2   51403_WSDA_SF_2016   \n",
       "\n",
       "                             NDVI_TS_Name  \\\n",
       "0  AdamBenton2016_104119_WSDA_SF_2016.png   \n",
       "1   AdamBenton2016_51403_WSDA_SF_2016.png   \n",
       "\n",
       "                                       corrected_RGB  \\\n",
       "0  104119_WSDA_SF_2016_46.83273927_-118.91209151_...   \n",
       "1  51403_WSDA_SF_2016_46.75090118_-118.9797641_co...   \n",
       "\n",
       "                                             TOA_RGB   latitude   longitude  \\\n",
       "0  104119_WSDA_SF_2016_46.83273927_-118.91209151_...  46.832739 -118.912092   \n",
       "1  51403_WSDA_SF_2016_46.75090118_-118.9797641_TO...  46.750901 -118.979764   \n",
       "\n",
       "                     Question Text                  Text box Text  \\\n",
       "0  How would you label this field?  Notes if you want to add any.   \n",
       "1  How would you label this field?  Notes if you want to add any.   \n",
       "\n",
       "       CropTyp       Irrigtn DataSrc  Acres    ExctAcr              LstSrvD  \\\n",
       "0  alfalfa hay  center pivot    wsda     26  26.413875  2016/08/17 00:00:00   \n",
       "1  alfalfa hay  center pivot    wsda      2   2.480750  2016/08/03 00:00:00   \n",
       "\n",
       "  county  \n",
       "0  Adams  \n",
       "1  Adams  "
      ]
     },
     "execution_count": 6,
     "metadata": {},
     "output_type": "execute_result"
    }
   ],
   "source": [
    "survey_fields.head(2)"
   ]
  },
  {
   "cell_type": "markdown",
   "id": "2c86c64b",
   "metadata": {},
   "source": [
    "## Count number of questions"
   ]
  },
  {
   "cell_type": "code",
   "execution_count": 7,
   "id": "456cfade",
   "metadata": {},
   "outputs": [
    {
     "data": {
      "text/plain": [
       "['Set 6 E - Problem',\n",
       " 'Set 15 Problem',\n",
       " 'Set 20 Problem',\n",
       " 'Set 21 - Problem',\n",
       " 'Set 27 Problem',\n",
       " 'Set 29 Problem',\n",
       " 'Set 31 Problem',\n",
       " 'Set 32 Problem',\n",
       " 'Set 38 Problem',\n",
       " 'Set 41 Problem',\n",
       " 'Set 42 Problem',\n",
       " 'Set 48 Problem']"
      ]
     },
     "execution_count": 7,
     "metadata": {},
     "output_type": "execute_result"
    }
   ],
   "source": [
    "([x for x in response_sheet_names if 'problem' in x.lower()])"
   ]
  },
  {
   "cell_type": "code",
   "execution_count": 8,
   "id": "7e951785",
   "metadata": {},
   "outputs": [
    {
     "name": "stdout",
     "output_type": "stream",
     "text": [
      "There are [6340] questions.\n"
     ]
    }
   ],
   "source": [
    "question_count = 0\n",
    "\n",
    "for a_choice_sheet in choices_sheet_names:\n",
    "    \n",
    "    # read a damn sheet\n",
    "    a_choice_sheet = choices_xl.parse(a_choice_sheet)\n",
    "\n",
    "    # add them to the damn list\n",
    "    question_count += a_choice_sheet.shape[0]\n",
    "\n",
    "print('There are [{ques_count}] questions.'.format(ques_count=question_count))"
   ]
  },
  {
   "cell_type": "markdown",
   "id": "e845881d",
   "metadata": {},
   "source": [
    "# Clean Vote count start here:\n",
    "\n",
    "#### Problems:\n",
    " - In the beginning emails were not collected! (mostly alfalfa and apple?)\n",
    " - There are some Forms that I still do not have access to. Eshwar has not transferred them to Google Drive despite repeated emails.\n",
    " - There are forms with repeated answers and no email.\n",
    " - Min has responded sparsley, mostly no email, and problematic forms. \n",
    " - Different email for Hossein. Since I was receiving emails after completing forms, I used a fake email!! no, thank you!\n",
    " - Problematic forms were responded by some, and after fix by others. Drop these forms.\n",
    " - Not much Mike's vote in wheat. "
   ]
  },
  {
   "cell_type": "code",
   "execution_count": 9,
   "id": "39284291",
   "metadata": {},
   "outputs": [
    {
     "name": "stdout",
     "output_type": "stream",
     "text": [
      "(5740, 8)\n",
      "5740\n",
      "5740\n"
     ]
    }
   ],
   "source": [
    "## Define the damn output dataframe\n",
    "output_df = pd.DataFrame(columns=['Form', 'Question', 'ID',\n",
    "                                  \"Hossein\", \"Supriya\", \"Kirti\", \"Mike\", \"Min\"], \n",
    "                                   index=range(question_count))\n",
    "output_df.head(1)\n",
    "curr_row = 0\n",
    "\n",
    "extended_choices = pd.DataFrame()\n",
    "\n",
    "###### populate the output datafrme\n",
    "\n",
    "for response_sheet_name in response_sheet_names:\n",
    "    # pick up the numeric part of the sheet names\n",
    "    sheet_numeric_part = response_sheet_name.split()[1]\n",
    "    \n",
    "    # Form sheet names of choices excel sheets\n",
    "    choice_sheet_name = \"extended_\" + sheet_numeric_part\n",
    "    \n",
    "    a_choice_sheet = choices_xl.parse(choice_sheet_name)\n",
    "    a_response_sheet = response_set_1_xl.parse(response_sheet_name)\n",
    "\n",
    "    # If no email is recoded, pass. We do not want it\n",
    "    # a_response_sheet['Email Address'].isnull().any() works as well. \n",
    "    # It is an indication that the form did not collect emails! One or all!\n",
    "    if a_response_sheet['Email Address'].isnull().all():\n",
    "        continue\n",
    "\n",
    "    \n",
    "    # Fix Hossein email. (replace emails by names!)\n",
    "    a_response_sheet['Email Address'] = a_response_sheet['Email Address'].str.lower()\n",
    "\n",
    "    a_response_sheet.loc[a_response_sheet['Email Address'].str.contains('noorazar', na=False), \n",
    "                         'Email Address']=\"Hossein\"\n",
    "\n",
    "    a_response_sheet.loc[a_response_sheet['Email Address'].str.contains('kirti', na=False), \n",
    "                         'Email Address']=\"Kirti\"\n",
    "\n",
    "    a_response_sheet.loc[a_response_sheet['Email Address'].str.contains('supriya', na=False), \n",
    "                         'Email Address']=\"Supriya\"\n",
    "\n",
    "    a_response_sheet.loc[a_response_sheet['Email Address'].str.contains('brady', na=False), \n",
    "                         'Email Address']=\"Mike\"\n",
    "\n",
    "    a_response_sheet.loc[a_response_sheet['Email Address'].str.contains('ming', na=False), \n",
    "                         'Email Address']=\"Min\"\n",
    "\n",
    "    # Fix repeated Kirti in one sheet\n",
    "    #\n",
    "    #   IF Kirti responded to a problematic sheet, and then to fixed sheet,\n",
    "    #   Then we have duplicates!!!!!\n",
    "    #\n",
    "    latest_Kirti = a_response_sheet[a_response_sheet['Email Address']==\"Kirti\"].Timestamp.max()\n",
    "    Kirti = a_response_sheet[a_response_sheet['Email Address']==\"Kirti\"]\n",
    "    # The fact that we have \"<\" below, eliminates to count how many times\n",
    "    # Kirti has responded. i.e. if there is one response, it will not be dropped!\n",
    "    bad_index = Kirti[Kirti.Timestamp < latest_Kirti].index\n",
    "    a_response_sheet.drop(bad_index, inplace=True)\n",
    "\n",
    "    latest_Hossein = a_response_sheet[a_response_sheet['Email Address']==\"Hossein\"].Timestamp.max()\n",
    "    Hossein = a_response_sheet[a_response_sheet['Email Address']==\"Hossein\"]\n",
    "    # The fact that we have \"<\" below, eliminates to count how many times\n",
    "    # Kirti has responded. i.e. if there is one response, it will not be dropped!\n",
    "    bad_index = Hossein[Hossein.Timestamp < latest_Hossein].index\n",
    "    a_response_sheet.drop(bad_index, inplace=True)\n",
    "    \n",
    "    \n",
    "    latest_Supriya = a_response_sheet[a_response_sheet['Email Address']==\"Supriya\"].Timestamp.max()\n",
    "    Supriya = a_response_sheet[a_response_sheet['Email Address']==\"Supriya\"]\n",
    "    # The fact that we have \"<\" below, eliminates to count how many times\n",
    "    # Kirti has responded. i.e. if there is one response, it will not be dropped!\n",
    "    bad_index = Supriya[Supriya.Timestamp < latest_Supriya].index\n",
    "    a_response_sheet.drop(bad_index, inplace=True)\n",
    "    \n",
    "    latest_Mike = a_response_sheet[a_response_sheet['Email Address']==\"Mike\"].Timestamp.max()\n",
    "    Mike = a_response_sheet[a_response_sheet['Email Address']==\"Mike\"]\n",
    "    # The fact that we have \"<\" below, eliminates to count how many times\n",
    "    # Kirti has responded. i.e. if there is one response, it will not be dropped!\n",
    "    bad_index = Mike[Mike.Timestamp < latest_Mike].index\n",
    "    a_response_sheet.drop(bad_index, inplace=True)\n",
    "    \n",
    "    latest_Min = a_response_sheet[a_response_sheet['Email Address']==\"Min\"].Timestamp.max()\n",
    "    Min = a_response_sheet[a_response_sheet['Email Address']==\"Min\"]\n",
    "    # The fact that we have \"<\" below, eliminates to count how many times\n",
    "    # Kirti has responded. i.e. if there is one response, it will not be dropped!\n",
    "    bad_index = Min[Min.Timestamp < latest_Min].index\n",
    "    a_response_sheet.drop(bad_index, inplace=True)\n",
    "\n",
    "    if len(a_response_sheet['Email Address']) != len(a_response_sheet['Email Address'].unique()):\n",
    "        raise ValueError(\"Something is wrong in email address column\")\n",
    "\n",
    "    for a_col_name in a_response_sheet.columns:\n",
    "        if \"http\" in a_col_name:\n",
    "            question_number = a_col_name.split()[1].split(\":\")[0]\n",
    "            currnt_ID = a_choice_sheet.loc[int(question_number)-1, \"ID\"]\n",
    "            if currnt_ID in list(output_df.ID):\n",
    "                curr_idx = output_df[output_df.ID == currnt_ID].index\n",
    "                \n",
    "                if \"Hossein\" in list(a_response_sheet[\"Email Address\"]):\n",
    "                    output_df.loc[curr_idx, \"Hossein\"]=a_response_sheet[a_response_sheet[\"Email Address\"] == \\\n",
    "                                                                     \"Hossein\"][a_col_name].values[0]\n",
    "\n",
    "                if \"Supriya\" in list(a_response_sheet[\"Email Address\"]):\n",
    "                    output_df.loc[curr_idx, \"Supriya\"]=a_response_sheet[a_response_sheet[\"Email Address\"] == \\\n",
    "                                                                     \"Supriya\"][a_col_name].values[0]\n",
    "\n",
    "                if \"Kirti\" in list(a_response_sheet[\"Email Address\"]):\n",
    "                    output_df.loc[curr_idx, \"Kirti\"]=a_response_sheet[a_response_sheet[\"Email Address\"] == \\\n",
    "                                                                     \"Kirti\"][a_col_name].values[0]\n",
    "                if \"Mike\" in list(a_response_sheet[\"Email Address\"]):\n",
    "                    output_df.loc[curr_idx, \"Mike\"]=a_response_sheet[a_response_sheet[\"Email Address\"] == \\\n",
    "                                                                     \"Mike\"][a_col_name].values[0]\n",
    "                \n",
    "                if \"Min\" in list(a_response_sheet[\"Email Address\"]):\n",
    "                    output_df.loc[curr_idx, \"Min\"]=a_response_sheet[a_response_sheet[\"Email Address\"] == \\\n",
    "                                                                     \"Min\"][a_col_name].values[0]\n",
    "            else:\n",
    "                output_df.loc[curr_row, \"ID\"] = currnt_ID\n",
    "                output_df.loc[curr_row, \"Form\"] = int(sheet_numeric_part)\n",
    "                output_df.loc[curr_row, \"Question\"] = int(question_number)\n",
    "                \n",
    "                if \"Hossein\" in list(a_response_sheet[\"Email Address\"]):\n",
    "                    output_df.loc[curr_row, \"Hossein\"]=a_response_sheet[a_response_sheet[\"Email Address\"] == \\\n",
    "                                                                     \"Hossein\"][a_col_name].values[0]\n",
    "\n",
    "                if \"Supriya\" in list(a_response_sheet[\"Email Address\"]):\n",
    "                    output_df.loc[curr_row, \"Supriya\"]=a_response_sheet[a_response_sheet[\"Email Address\"] == \\\n",
    "                                                                     \"Supriya\"][a_col_name].values[0]\n",
    "\n",
    "                if \"Kirti\" in list(a_response_sheet[\"Email Address\"]):\n",
    "                    output_df.loc[curr_row, \"Kirti\"]=a_response_sheet[a_response_sheet[\"Email Address\"] == \\\n",
    "                                                                     \"Kirti\"][a_col_name].values[0]\n",
    "                if \"Mike\" in list(a_response_sheet[\"Email Address\"]):\n",
    "                    output_df.loc[curr_row, \"Mike\"]=a_response_sheet[a_response_sheet[\"Email Address\"] == \\\n",
    "                                                                     \"Mike\"][a_col_name].values[0]\n",
    "                \n",
    "                if \"Min\" in list(a_response_sheet[\"Email Address\"]):\n",
    "                    output_df.loc[curr_row, \"Min\"]=a_response_sheet[a_response_sheet[\"Email Address\"] == \\\n",
    "                                                                     \"Min\"][a_col_name].values[0]\n",
    "                curr_row += 1\n",
    "\n",
    "output_df.dropna(how='all', axis='rows', inplace=True);\n",
    "print (output_df.shape)\n",
    "print (len(output_df.ID))\n",
    "print (len(output_df.ID.unique()))"
   ]
  },
  {
   "cell_type": "code",
   "execution_count": 10,
   "id": "cc2158b6",
   "metadata": {},
   "outputs": [
    {
     "data": {
      "text/html": [
       "<div>\n",
       "<style scoped>\n",
       "    .dataframe tbody tr th:only-of-type {\n",
       "        vertical-align: middle;\n",
       "    }\n",
       "\n",
       "    .dataframe tbody tr th {\n",
       "        vertical-align: top;\n",
       "    }\n",
       "\n",
       "    .dataframe thead th {\n",
       "        text-align: right;\n",
       "    }\n",
       "</style>\n",
       "<table border=\"1\" class=\"dataframe\">\n",
       "  <thead>\n",
       "    <tr style=\"text-align: right;\">\n",
       "      <th></th>\n",
       "      <th>Form</th>\n",
       "      <th>Question</th>\n",
       "      <th>ID</th>\n",
       "      <th>Hossein</th>\n",
       "      <th>Supriya</th>\n",
       "      <th>Kirti</th>\n",
       "      <th>Mike</th>\n",
       "      <th>Min</th>\n",
       "    </tr>\n",
       "  </thead>\n",
       "  <tbody>\n",
       "    <tr>\n",
       "      <th>0</th>\n",
       "      <td>1</td>\n",
       "      <td>1</td>\n",
       "      <td>104119_WSDA_SF_2016</td>\n",
       "      <td>Single Crop</td>\n",
       "      <td>Single Crop</td>\n",
       "      <td>Single Crop</td>\n",
       "      <td>Single Crop</td>\n",
       "      <td>Single Crop</td>\n",
       "    </tr>\n",
       "    <tr>\n",
       "      <th>1</th>\n",
       "      <td>1</td>\n",
       "      <td>2</td>\n",
       "      <td>51403_WSDA_SF_2016</td>\n",
       "      <td>Single Crop</td>\n",
       "      <td>Single Crop</td>\n",
       "      <td>Single Crop</td>\n",
       "      <td>Single Crop</td>\n",
       "      <td>Unsure</td>\n",
       "    </tr>\n",
       "  </tbody>\n",
       "</table>\n",
       "</div>"
      ],
      "text/plain": [
       "  Form Question                   ID      Hossein      Supriya        Kirti  \\\n",
       "0    1        1  104119_WSDA_SF_2016  Single Crop  Single Crop  Single Crop   \n",
       "1    1        2   51403_WSDA_SF_2016  Single Crop  Single Crop  Single Crop   \n",
       "\n",
       "          Mike          Min  \n",
       "0  Single Crop  Single Crop  \n",
       "1  Single Crop       Unsure  "
      ]
     },
     "execution_count": 10,
     "metadata": {},
     "output_type": "execute_result"
    }
   ],
   "source": [
    "output_df.head(2)"
   ]
  },
  {
   "cell_type": "markdown",
   "id": "1dd77f59",
   "metadata": {},
   "source": [
    "# Correct the damn responses\n",
    "\n",
    "1. We have not been consistent in the Forms!\n",
    "2. The options we gave there was horrible. For example, the options were:\n",
    "   - Single Crop\n",
    "   - Double Crop\n",
    "   - Unsure\n",
    "   - Other:\n",
    "   \n",
    "Convert anything that has ```cover```, ```mustard``` in it to ```double-crop```, single crops are single crops, anything else will be ```Unsure```.\n",
    "\n",
    "If an answer has any of these pairs in it, it will be labeled as unsure ```[single, double]```, ```[single, cover]```,\n",
    "```[single, mustard]```."
   ]
  },
  {
   "cell_type": "code",
   "execution_count": 11,
   "id": "c32cd3fd",
   "metadata": {},
   "outputs": [
    {
     "data": {
      "text/plain": [
       "array(['Single Crop', 'Double Crop',\n",
       "       'May be mustard growing here second curve from aug-sept onwards',\n",
       "       'may be mustard',\n",
       "       'May be non-mustard cover crop suggested by second curve',\n",
       "       'Looks like a non-mustard cover crop', 'Double Crop/Cover crop',\n",
       "       nan, 'Unsure'], dtype=object)"
      ]
     },
     "execution_count": 11,
     "metadata": {},
     "output_type": "execute_result"
    }
   ],
   "source": [
    "output_df.Supriya.unique()"
   ]
  },
  {
   "cell_type": "code",
   "execution_count": 12,
   "id": "3d8f24b4",
   "metadata": {},
   "outputs": [],
   "source": [
    "output_df.reset_index(inplace=True, drop=True)\n",
    "output_backup = output_df.copy()"
   ]
  },
  {
   "cell_type": "code",
   "execution_count": 13,
   "id": "ed92eb73",
   "metadata": {},
   "outputs": [],
   "source": [
    "output_df = output_backup.copy()"
   ]
  },
  {
   "cell_type": "code",
   "execution_count": 14,
   "id": "e6c73732",
   "metadata": {},
   "outputs": [
    {
     "data": {
      "text/plain": [
       "array(['Single Crop', 'Double Crop',\n",
       "       'May be mustard growing here second curve from aug-sept onwards',\n",
       "       'may be mustard',\n",
       "       'May be non-mustard cover crop suggested by second curve',\n",
       "       'Looks like a non-mustard cover crop', 'Double Crop/Cover crop',\n",
       "       nan, 'Unsure'], dtype=object)"
      ]
     },
     "execution_count": 14,
     "metadata": {},
     "output_type": "execute_result"
    }
   ],
   "source": [
    "output_df.Supriya.unique()"
   ]
  },
  {
   "cell_type": "code",
   "execution_count": 15,
   "id": "119edb96",
   "metadata": {},
   "outputs": [
    {
     "data": {
      "text/plain": [
       "array(['Single Crop', 'Double Crop', 'none', 'Unsure'], dtype=object)"
      ]
     },
     "execution_count": 15,
     "metadata": {},
     "output_type": "execute_result"
    }
   ],
   "source": [
    "people = [\"Hossein\", \"Supriya\", \"Kirti\", \"Mike\", \"Min\"]\n",
    "\n",
    "# We need to keep \"none\" so that we can use it to compute\n",
    "# majority vote where someone has not responded a Form\n",
    "output_df[people] = output_df[people].fillna('none')\n",
    "\n",
    "for idx in output_df.index:\n",
    "    for person in people:\n",
    "        if output_df.loc[idx, person] in [\"Single Crop\", \"Double Crop\", \"Unsure\", \"none\"]:\n",
    "            continue\n",
    "            \n",
    "        if \"cover\" in output_df.loc[idx, person].lower() or \"mustard\" in output_df.loc[idx, person].lower():\n",
    "            output_df.loc[idx, person] = \"Double Crop\"\n",
    "        \n",
    "        else:\n",
    "            output_df.loc[idx, person] = \"Unsure\"\n",
    "            \n",
    "output_df.Supriya.unique()"
   ]
  },
  {
   "cell_type": "code",
   "execution_count": 16,
   "id": "f7f21471",
   "metadata": {},
   "outputs": [
    {
     "data": {
      "text/plain": [
       "5740"
      ]
     },
     "execution_count": 16,
     "metadata": {},
     "output_type": "execute_result"
    }
   ],
   "source": [
    "len(output_df.ID.unique())"
   ]
  },
  {
   "cell_type": "code",
   "execution_count": 17,
   "id": "ee075a76",
   "metadata": {},
   "outputs": [
    {
     "data": {
      "text/plain": [
       "array(['Single Crop', 'Double Crop', 'none', 'Unsure'], dtype=object)"
      ]
     },
     "execution_count": 17,
     "metadata": {},
     "output_type": "execute_result"
    }
   ],
   "source": [
    "output_df.Supriya.unique()"
   ]
  },
  {
   "cell_type": "code",
   "execution_count": 18,
   "id": "3206f662",
   "metadata": {},
   "outputs": [
    {
     "data": {
      "text/html": [
       "<div>\n",
       "<style scoped>\n",
       "    .dataframe tbody tr th:only-of-type {\n",
       "        vertical-align: middle;\n",
       "    }\n",
       "\n",
       "    .dataframe tbody tr th {\n",
       "        vertical-align: top;\n",
       "    }\n",
       "\n",
       "    .dataframe thead th {\n",
       "        text-align: right;\n",
       "    }\n",
       "</style>\n",
       "<table border=\"1\" class=\"dataframe\">\n",
       "  <thead>\n",
       "    <tr style=\"text-align: right;\">\n",
       "      <th></th>\n",
       "      <th>Question_in_set</th>\n",
       "      <th>Question_overall</th>\n",
       "      <th>ID</th>\n",
       "      <th>NDVI_TS_Name</th>\n",
       "      <th>corrected_RGB</th>\n",
       "      <th>TOA_RGB</th>\n",
       "      <th>latitude</th>\n",
       "      <th>longitude</th>\n",
       "      <th>Question Text</th>\n",
       "      <th>Text box Text</th>\n",
       "      <th>CropTyp</th>\n",
       "      <th>Irrigtn</th>\n",
       "      <th>DataSrc</th>\n",
       "      <th>Acres</th>\n",
       "      <th>ExctAcr</th>\n",
       "      <th>LstSrvD</th>\n",
       "      <th>county</th>\n",
       "    </tr>\n",
       "  </thead>\n",
       "  <tbody>\n",
       "    <tr>\n",
       "      <th>0</th>\n",
       "      <td>1</td>\n",
       "      <td>1</td>\n",
       "      <td>104119_WSDA_SF_2016</td>\n",
       "      <td>AdamBenton2016_104119_WSDA_SF_2016.png</td>\n",
       "      <td>104119_WSDA_SF_2016_46.83273927_-118.91209151_...</td>\n",
       "      <td>104119_WSDA_SF_2016_46.83273927_-118.91209151_...</td>\n",
       "      <td>46.832739</td>\n",
       "      <td>-118.912092</td>\n",
       "      <td>How would you label this field?</td>\n",
       "      <td>Notes if you want to add any.</td>\n",
       "      <td>alfalfa hay</td>\n",
       "      <td>center pivot</td>\n",
       "      <td>wsda</td>\n",
       "      <td>26</td>\n",
       "      <td>26.413875</td>\n",
       "      <td>2016/08/17 00:00:00</td>\n",
       "      <td>Adams</td>\n",
       "    </tr>\n",
       "    <tr>\n",
       "      <th>1</th>\n",
       "      <td>2</td>\n",
       "      <td>2</td>\n",
       "      <td>51403_WSDA_SF_2016</td>\n",
       "      <td>AdamBenton2016_51403_WSDA_SF_2016.png</td>\n",
       "      <td>51403_WSDA_SF_2016_46.75090118_-118.9797641_co...</td>\n",
       "      <td>51403_WSDA_SF_2016_46.75090118_-118.9797641_TO...</td>\n",
       "      <td>46.750901</td>\n",
       "      <td>-118.979764</td>\n",
       "      <td>How would you label this field?</td>\n",
       "      <td>Notes if you want to add any.</td>\n",
       "      <td>alfalfa hay</td>\n",
       "      <td>center pivot</td>\n",
       "      <td>wsda</td>\n",
       "      <td>2</td>\n",
       "      <td>2.480750</td>\n",
       "      <td>2016/08/03 00:00:00</td>\n",
       "      <td>Adams</td>\n",
       "    </tr>\n",
       "  </tbody>\n",
       "</table>\n",
       "</div>"
      ],
      "text/plain": [
       "   Question_in_set  Question_overall                   ID  \\\n",
       "0                1                 1  104119_WSDA_SF_2016   \n",
       "1                2                 2   51403_WSDA_SF_2016   \n",
       "\n",
       "                             NDVI_TS_Name  \\\n",
       "0  AdamBenton2016_104119_WSDA_SF_2016.png   \n",
       "1   AdamBenton2016_51403_WSDA_SF_2016.png   \n",
       "\n",
       "                                       corrected_RGB  \\\n",
       "0  104119_WSDA_SF_2016_46.83273927_-118.91209151_...   \n",
       "1  51403_WSDA_SF_2016_46.75090118_-118.9797641_co...   \n",
       "\n",
       "                                             TOA_RGB   latitude   longitude  \\\n",
       "0  104119_WSDA_SF_2016_46.83273927_-118.91209151_...  46.832739 -118.912092   \n",
       "1  51403_WSDA_SF_2016_46.75090118_-118.9797641_TO...  46.750901 -118.979764   \n",
       "\n",
       "                     Question Text                  Text box Text  \\\n",
       "0  How would you label this field?  Notes if you want to add any.   \n",
       "1  How would you label this field?  Notes if you want to add any.   \n",
       "\n",
       "       CropTyp       Irrigtn DataSrc  Acres    ExctAcr              LstSrvD  \\\n",
       "0  alfalfa hay  center pivot    wsda     26  26.413875  2016/08/17 00:00:00   \n",
       "1  alfalfa hay  center pivot    wsda      2   2.480750  2016/08/03 00:00:00   \n",
       "\n",
       "  county  \n",
       "0  Adams  \n",
       "1  Adams  "
      ]
     },
     "execution_count": 18,
     "metadata": {},
     "output_type": "execute_result"
    }
   ],
   "source": [
    "survey_fields.head(2)"
   ]
  },
  {
   "cell_type": "code",
   "execution_count": 19,
   "id": "7d7c4928",
   "metadata": {},
   "outputs": [
    {
     "data": {
      "text/html": [
       "<div>\n",
       "<style scoped>\n",
       "    .dataframe tbody tr th:only-of-type {\n",
       "        vertical-align: middle;\n",
       "    }\n",
       "\n",
       "    .dataframe tbody tr th {\n",
       "        vertical-align: top;\n",
       "    }\n",
       "\n",
       "    .dataframe thead th {\n",
       "        text-align: right;\n",
       "    }\n",
       "</style>\n",
       "<table border=\"1\" class=\"dataframe\">\n",
       "  <thead>\n",
       "    <tr style=\"text-align: right;\">\n",
       "      <th></th>\n",
       "      <th>Form</th>\n",
       "      <th>Question</th>\n",
       "      <th>ID</th>\n",
       "      <th>Hossein</th>\n",
       "      <th>Supriya</th>\n",
       "      <th>Kirti</th>\n",
       "      <th>Mike</th>\n",
       "      <th>Min</th>\n",
       "      <th>Question_in_set</th>\n",
       "      <th>Question_overall</th>\n",
       "      <th>...</th>\n",
       "      <th>longitude</th>\n",
       "      <th>Question Text</th>\n",
       "      <th>Text box Text</th>\n",
       "      <th>CropTyp</th>\n",
       "      <th>Irrigtn</th>\n",
       "      <th>DataSrc</th>\n",
       "      <th>Acres</th>\n",
       "      <th>ExctAcr</th>\n",
       "      <th>LstSrvD</th>\n",
       "      <th>county</th>\n",
       "    </tr>\n",
       "  </thead>\n",
       "  <tbody>\n",
       "    <tr>\n",
       "      <th>0</th>\n",
       "      <td>1</td>\n",
       "      <td>1</td>\n",
       "      <td>104119_WSDA_SF_2016</td>\n",
       "      <td>Single Crop</td>\n",
       "      <td>Single Crop</td>\n",
       "      <td>Single Crop</td>\n",
       "      <td>Single Crop</td>\n",
       "      <td>Single Crop</td>\n",
       "      <td>1</td>\n",
       "      <td>1</td>\n",
       "      <td>...</td>\n",
       "      <td>-118.912092</td>\n",
       "      <td>How would you label this field?</td>\n",
       "      <td>Notes if you want to add any.</td>\n",
       "      <td>alfalfa hay</td>\n",
       "      <td>center pivot</td>\n",
       "      <td>wsda</td>\n",
       "      <td>26</td>\n",
       "      <td>26.413875</td>\n",
       "      <td>2016/08/17 00:00:00</td>\n",
       "      <td>Adams</td>\n",
       "    </tr>\n",
       "    <tr>\n",
       "      <th>1</th>\n",
       "      <td>1</td>\n",
       "      <td>2</td>\n",
       "      <td>51403_WSDA_SF_2016</td>\n",
       "      <td>Single Crop</td>\n",
       "      <td>Single Crop</td>\n",
       "      <td>Single Crop</td>\n",
       "      <td>Single Crop</td>\n",
       "      <td>Unsure</td>\n",
       "      <td>2</td>\n",
       "      <td>2</td>\n",
       "      <td>...</td>\n",
       "      <td>-118.979764</td>\n",
       "      <td>How would you label this field?</td>\n",
       "      <td>Notes if you want to add any.</td>\n",
       "      <td>alfalfa hay</td>\n",
       "      <td>center pivot</td>\n",
       "      <td>wsda</td>\n",
       "      <td>2</td>\n",
       "      <td>2.480750</td>\n",
       "      <td>2016/08/03 00:00:00</td>\n",
       "      <td>Adams</td>\n",
       "    </tr>\n",
       "  </tbody>\n",
       "</table>\n",
       "<p>2 rows × 24 columns</p>\n",
       "</div>"
      ],
      "text/plain": [
       "  Form Question                   ID      Hossein      Supriya        Kirti  \\\n",
       "0    1        1  104119_WSDA_SF_2016  Single Crop  Single Crop  Single Crop   \n",
       "1    1        2   51403_WSDA_SF_2016  Single Crop  Single Crop  Single Crop   \n",
       "\n",
       "          Mike          Min  Question_in_set  Question_overall  ...  \\\n",
       "0  Single Crop  Single Crop                1                 1  ...   \n",
       "1  Single Crop       Unsure                2                 2  ...   \n",
       "\n",
       "    longitude                    Question Text                  Text box Text  \\\n",
       "0 -118.912092  How would you label this field?  Notes if you want to add any.   \n",
       "1 -118.979764  How would you label this field?  Notes if you want to add any.   \n",
       "\n",
       "       CropTyp       Irrigtn DataSrc Acres    ExctAcr              LstSrvD  \\\n",
       "0  alfalfa hay  center pivot    wsda    26  26.413875  2016/08/17 00:00:00   \n",
       "1  alfalfa hay  center pivot    wsda     2   2.480750  2016/08/03 00:00:00   \n",
       "\n",
       "  county  \n",
       "0  Adams  \n",
       "1  Adams  \n",
       "\n",
       "[2 rows x 24 columns]"
      ]
     },
     "execution_count": 19,
     "metadata": {},
     "output_type": "execute_result"
    }
   ],
   "source": [
    "extended_output = pd.merge(output_df, survey_fields, on=['ID'], how='left')\n",
    "extended_output.head(2)"
   ]
  },
  {
   "cell_type": "code",
   "execution_count": 20,
   "id": "b58dfe0b",
   "metadata": {},
   "outputs": [
    {
     "data": {
      "text/plain": [
       "5740"
      ]
     },
     "execution_count": 20,
     "metadata": {},
     "output_type": "execute_result"
    }
   ],
   "source": [
    "len(extended_output.ID.unique())"
   ]
  },
  {
   "cell_type": "markdown",
   "id": "5ed24567",
   "metadata": {},
   "source": [
    "# Drop the fields that are labeled by Experts\n",
    "\n",
    "#### Read First set"
   ]
  },
  {
   "cell_type": "code",
   "execution_count": 21,
   "id": "92aec250",
   "metadata": {},
   "outputs": [
    {
     "name": "stdout",
     "output_type": "stream",
     "text": [
      "(294, 21)\n"
     ]
    },
    {
     "data": {
      "text/html": [
       "<div>\n",
       "<style scoped>\n",
       "    .dataframe tbody tr th:only-of-type {\n",
       "        vertical-align: middle;\n",
       "    }\n",
       "\n",
       "    .dataframe tbody tr th {\n",
       "        vertical-align: top;\n",
       "    }\n",
       "\n",
       "    .dataframe thead th {\n",
       "        text-align: right;\n",
       "    }\n",
       "</style>\n",
       "<table border=\"1\" class=\"dataframe\">\n",
       "  <thead>\n",
       "    <tr style=\"text-align: right;\">\n",
       "      <th></th>\n",
       "      <th>Form</th>\n",
       "      <th>Question</th>\n",
       "      <th>opinion_count</th>\n",
       "      <th>ID</th>\n",
       "      <th>Perry</th>\n",
       "      <th>Andrew</th>\n",
       "      <th>Tim</th>\n",
       "      <th>Question_in_set</th>\n",
       "      <th>Question_overall</th>\n",
       "      <th>NDVI_TS_Name</th>\n",
       "      <th>...</th>\n",
       "      <th>TOA_RGB</th>\n",
       "      <th>latitude</th>\n",
       "      <th>longitude</th>\n",
       "      <th>CropTyp</th>\n",
       "      <th>Irrigtn</th>\n",
       "      <th>DataSrc</th>\n",
       "      <th>Acres</th>\n",
       "      <th>ExctAcr</th>\n",
       "      <th>LstSrvD</th>\n",
       "      <th>county</th>\n",
       "    </tr>\n",
       "  </thead>\n",
       "  <tbody>\n",
       "    <tr>\n",
       "      <th>0</th>\n",
       "      <td>3</td>\n",
       "      <td>32</td>\n",
       "      <td>3</td>\n",
       "      <td>99837_WSDA_SF_2017</td>\n",
       "      <td>Double Crop</td>\n",
       "      <td>Single Crop</td>\n",
       "      <td>Mustard Crop</td>\n",
       "      <td>32</td>\n",
       "      <td>132</td>\n",
       "      <td>Grant2017_99837_WSDA_SF_2017.png</td>\n",
       "      <td>...</td>\n",
       "      <td>99837_WSDA_SF_2017_46.87015998_-119.40630986_T...</td>\n",
       "      <td>46.87016</td>\n",
       "      <td>-119.406310</td>\n",
       "      <td>barley</td>\n",
       "      <td>center pivot</td>\n",
       "      <td>wsda</td>\n",
       "      <td>73</td>\n",
       "      <td>73.250981</td>\n",
       "      <td>2017/10/10</td>\n",
       "      <td>Grant</td>\n",
       "    </tr>\n",
       "    <tr>\n",
       "      <th>1</th>\n",
       "      <td>2</td>\n",
       "      <td>22</td>\n",
       "      <td>3</td>\n",
       "      <td>98359_WSDA_SF_2017</td>\n",
       "      <td>Double Crop</td>\n",
       "      <td>Unsure</td>\n",
       "      <td>Single Crop</td>\n",
       "      <td>22</td>\n",
       "      <td>72</td>\n",
       "      <td>Grant2017_98359_WSDA_SF_2017.png</td>\n",
       "      <td>...</td>\n",
       "      <td>98359_WSDA_SF_2017_46.93911002_-119.65673394_T...</td>\n",
       "      <td>46.93911</td>\n",
       "      <td>-119.656734</td>\n",
       "      <td>bean, dry</td>\n",
       "      <td>rill</td>\n",
       "      <td>wsda</td>\n",
       "      <td>24</td>\n",
       "      <td>24.163431</td>\n",
       "      <td>2017/07/10</td>\n",
       "      <td>Grant</td>\n",
       "    </tr>\n",
       "  </tbody>\n",
       "</table>\n",
       "<p>2 rows × 21 columns</p>\n",
       "</div>"
      ],
      "text/plain": [
       "   Form  Question  opinion_count                  ID        Perry  \\\n",
       "0     3        32              3  99837_WSDA_SF_2017  Double Crop   \n",
       "1     2        22              3  98359_WSDA_SF_2017  Double Crop   \n",
       "\n",
       "        Andrew           Tim  Question_in_set  Question_overall  \\\n",
       "0  Single Crop  Mustard Crop               32               132   \n",
       "1       Unsure   Single Crop               22                72   \n",
       "\n",
       "                       NDVI_TS_Name  ...  \\\n",
       "0  Grant2017_99837_WSDA_SF_2017.png  ...   \n",
       "1  Grant2017_98359_WSDA_SF_2017.png  ...   \n",
       "\n",
       "                                             TOA_RGB  latitude   longitude  \\\n",
       "0  99837_WSDA_SF_2017_46.87015998_-119.40630986_T...  46.87016 -119.406310   \n",
       "1  98359_WSDA_SF_2017_46.93911002_-119.65673394_T...  46.93911 -119.656734   \n",
       "\n",
       "     CropTyp       Irrigtn DataSrc Acres    ExctAcr     LstSrvD county  \n",
       "0     barley  center pivot    wsda    73  73.250981  2017/10/10  Grant  \n",
       "1  bean, dry          rill    wsda    24  24.163431  2017/07/10  Grant  \n",
       "\n",
       "[2 rows x 21 columns]"
      ]
     },
     "execution_count": 21,
     "metadata": {},
     "output_type": "execute_result"
    }
   ],
   "source": [
    "perry_dir = \"/Users/hn/Documents/01_research_data/NASA/Perry_and_Co/\"\n",
    "set1_fields = pd.read_csv(perry_dir + \"set_1_experts_stats_extended_sortOpinionCrop.csv\")\n",
    "print (set1_fields.shape)\n",
    "set1_fields.head(2)"
   ]
  },
  {
   "cell_type": "markdown",
   "id": "cfc7c823",
   "metadata": {},
   "source": [
    "#### Read Second Set"
   ]
  },
  {
   "cell_type": "code",
   "execution_count": 22,
   "id": "2483cfdd",
   "metadata": {},
   "outputs": [
    {
     "name": "stdout",
     "output_type": "stream",
     "text": [
      "(322, 1)\n"
     ]
    },
    {
     "data": {
      "text/html": [
       "<div>\n",
       "<style scoped>\n",
       "    .dataframe tbody tr th:only-of-type {\n",
       "        vertical-align: middle;\n",
       "    }\n",
       "\n",
       "    .dataframe tbody tr th {\n",
       "        vertical-align: top;\n",
       "    }\n",
       "\n",
       "    .dataframe thead th {\n",
       "        text-align: right;\n",
       "    }\n",
       "</style>\n",
       "<table border=\"1\" class=\"dataframe\">\n",
       "  <thead>\n",
       "    <tr style=\"text-align: right;\">\n",
       "      <th></th>\n",
       "      <th>ID</th>\n",
       "    </tr>\n",
       "  </thead>\n",
       "  <tbody>\n",
       "    <tr>\n",
       "      <th>0</th>\n",
       "      <td>52701_WSDA_SF_2016</td>\n",
       "    </tr>\n",
       "    <tr>\n",
       "      <th>1</th>\n",
       "      <td>53739_WSDA_SF_2016</td>\n",
       "    </tr>\n",
       "  </tbody>\n",
       "</table>\n",
       "</div>"
      ],
      "text/plain": [
       "                   ID\n",
       "0  52701_WSDA_SF_2016\n",
       "1  53739_WSDA_SF_2016"
      ]
     },
     "execution_count": 22,
     "metadata": {},
     "output_type": "execute_result"
    }
   ],
   "source": [
    "param_in_data_dir = \"/Users/hn/Documents/01_research_data/NASA/parameters/\"\n",
    "hand_picked_set2 = pd.read_csv(param_in_data_dir + \"threeHundred_IDs_Set2_Perry.csv\")\n",
    "hand_picked_set2.dropna(inplace=True)\n",
    "print (hand_picked_set2.shape)\n",
    "hand_picked_set2.head(2)"
   ]
  },
  {
   "cell_type": "markdown",
   "id": "6e5343c1",
   "metadata": {},
   "source": [
    "#### Get unique IDs of first and second set"
   ]
  },
  {
   "cell_type": "code",
   "execution_count": 23,
   "id": "be88d785",
   "metadata": {},
   "outputs": [
    {
     "name": "stdout",
     "output_type": "stream",
     "text": [
      "5740\n",
      "5740\n"
     ]
    }
   ],
   "source": [
    "expert_IDs = list(hand_picked_set2.ID) + list(set1_fields.ID)\n",
    "expert_IDs = list(set(expert_IDs))\n",
    "len(expert_IDs)\n",
    "print (len(extended_output.ID.unique()))\n",
    "print (len(extended_output.ID))"
   ]
  },
  {
   "cell_type": "code",
   "execution_count": 24,
   "id": "49a1dcaa",
   "metadata": {},
   "outputs": [
    {
     "data": {
      "text/html": [
       "<div>\n",
       "<style scoped>\n",
       "    .dataframe tbody tr th:only-of-type {\n",
       "        vertical-align: middle;\n",
       "    }\n",
       "\n",
       "    .dataframe tbody tr th {\n",
       "        vertical-align: top;\n",
       "    }\n",
       "\n",
       "    .dataframe thead th {\n",
       "        text-align: right;\n",
       "    }\n",
       "</style>\n",
       "<table border=\"1\" class=\"dataframe\">\n",
       "  <thead>\n",
       "    <tr style=\"text-align: right;\">\n",
       "      <th></th>\n",
       "      <th>Form</th>\n",
       "      <th>Question</th>\n",
       "      <th>ID</th>\n",
       "      <th>Hossein</th>\n",
       "      <th>Supriya</th>\n",
       "      <th>Kirti</th>\n",
       "      <th>Mike</th>\n",
       "      <th>Min</th>\n",
       "      <th>Question_in_set</th>\n",
       "      <th>Question_overall</th>\n",
       "      <th>...</th>\n",
       "      <th>longitude</th>\n",
       "      <th>Question Text</th>\n",
       "      <th>Text box Text</th>\n",
       "      <th>CropTyp</th>\n",
       "      <th>Irrigtn</th>\n",
       "      <th>DataSrc</th>\n",
       "      <th>Acres</th>\n",
       "      <th>ExctAcr</th>\n",
       "      <th>LstSrvD</th>\n",
       "      <th>county</th>\n",
       "    </tr>\n",
       "  </thead>\n",
       "  <tbody>\n",
       "    <tr>\n",
       "      <th>0</th>\n",
       "      <td>1</td>\n",
       "      <td>1</td>\n",
       "      <td>104119_WSDA_SF_2016</td>\n",
       "      <td>Single Crop</td>\n",
       "      <td>Single Crop</td>\n",
       "      <td>Single Crop</td>\n",
       "      <td>Single Crop</td>\n",
       "      <td>Single Crop</td>\n",
       "      <td>1</td>\n",
       "      <td>1</td>\n",
       "      <td>...</td>\n",
       "      <td>-118.912092</td>\n",
       "      <td>How would you label this field?</td>\n",
       "      <td>Notes if you want to add any.</td>\n",
       "      <td>alfalfa hay</td>\n",
       "      <td>center pivot</td>\n",
       "      <td>wsda</td>\n",
       "      <td>26</td>\n",
       "      <td>26.413875</td>\n",
       "      <td>2016/08/17 00:00:00</td>\n",
       "      <td>Adams</td>\n",
       "    </tr>\n",
       "    <tr>\n",
       "      <th>1</th>\n",
       "      <td>1</td>\n",
       "      <td>2</td>\n",
       "      <td>51403_WSDA_SF_2016</td>\n",
       "      <td>Single Crop</td>\n",
       "      <td>Single Crop</td>\n",
       "      <td>Single Crop</td>\n",
       "      <td>Single Crop</td>\n",
       "      <td>Unsure</td>\n",
       "      <td>2</td>\n",
       "      <td>2</td>\n",
       "      <td>...</td>\n",
       "      <td>-118.979764</td>\n",
       "      <td>How would you label this field?</td>\n",
       "      <td>Notes if you want to add any.</td>\n",
       "      <td>alfalfa hay</td>\n",
       "      <td>center pivot</td>\n",
       "      <td>wsda</td>\n",
       "      <td>2</td>\n",
       "      <td>2.480750</td>\n",
       "      <td>2016/08/03 00:00:00</td>\n",
       "      <td>Adams</td>\n",
       "    </tr>\n",
       "  </tbody>\n",
       "</table>\n",
       "<p>2 rows × 24 columns</p>\n",
       "</div>"
      ],
      "text/plain": [
       "  Form Question                   ID      Hossein      Supriya        Kirti  \\\n",
       "0    1        1  104119_WSDA_SF_2016  Single Crop  Single Crop  Single Crop   \n",
       "1    1        2   51403_WSDA_SF_2016  Single Crop  Single Crop  Single Crop   \n",
       "\n",
       "          Mike          Min  Question_in_set  Question_overall  ...  \\\n",
       "0  Single Crop  Single Crop                1                 1  ...   \n",
       "1  Single Crop       Unsure                2                 2  ...   \n",
       "\n",
       "    longitude                    Question Text                  Text box Text  \\\n",
       "0 -118.912092  How would you label this field?  Notes if you want to add any.   \n",
       "1 -118.979764  How would you label this field?  Notes if you want to add any.   \n",
       "\n",
       "       CropTyp       Irrigtn DataSrc Acres    ExctAcr              LstSrvD  \\\n",
       "0  alfalfa hay  center pivot    wsda    26  26.413875  2016/08/17 00:00:00   \n",
       "1  alfalfa hay  center pivot    wsda     2   2.480750  2016/08/03 00:00:00   \n",
       "\n",
       "  county  \n",
       "0  Adams  \n",
       "1  Adams  \n",
       "\n",
       "[2 rows x 24 columns]"
      ]
     },
     "execution_count": 24,
     "metadata": {},
     "output_type": "execute_result"
    }
   ],
   "source": [
    "extended_output.head(2)"
   ]
  },
  {
   "cell_type": "markdown",
   "id": "ace0cb6f",
   "metadata": {},
   "source": [
    "## Drop the fields that are labeled by Experts"
   ]
  },
  {
   "cell_type": "code",
   "execution_count": 25,
   "id": "7dddbf96",
   "metadata": {},
   "outputs": [
    {
     "data": {
      "text/plain": [
       "5286"
      ]
     },
     "execution_count": 25,
     "metadata": {},
     "output_type": "execute_result"
    }
   ],
   "source": [
    "nonExpert_extended_output = extended_output[~extended_output.ID.isin(expert_IDs)]\n",
    "len(nonExpert_extended_output.ID.unique())"
   ]
  },
  {
   "cell_type": "markdown",
   "id": "4ea5603d",
   "metadata": {},
   "source": [
    "## Keep only limited crops"
   ]
  },
  {
   "cell_type": "code",
   "execution_count": 26,
   "id": "f4e941ee",
   "metadata": {},
   "outputs": [
    {
     "data": {
      "text/plain": [
       "(1429, 24)"
      ]
     },
     "execution_count": 26,
     "metadata": {},
     "output_type": "execute_result"
    }
   ],
   "source": [
    "wanted_crops = ['alfalfa seed',\n",
    "                'barley', 'barley hay', 'bean, dry', 'bean, green', 'bluegrass seed', 'buckwheat', \n",
    "                'canola', 'carrot', 'corn seed', 'corn, field', 'corn, sweet', \n",
    "                'grass hay', 'grass seed',\n",
    "                'market crops', 'mint',\n",
    "                'oat hay', 'onion',\n",
    "                'pea seed', 'pea, dry', 'pea, green', 'potato', \n",
    "                'triticale',\n",
    "                'wheat',\n",
    "                'yellow mustard']\n",
    "\n",
    "limitCrops_nonExpert_extended = nonExpert_extended_output[nonExpert_extended_output.CropTyp.isin(wanted_crops)]\n",
    "limitCrops_nonExpert_extended.shape"
   ]
  },
  {
   "cell_type": "code",
   "execution_count": 27,
   "id": "ff2614c3",
   "metadata": {},
   "outputs": [
    {
     "data": {
      "text/plain": [
       "1429"
      ]
     },
     "execution_count": 27,
     "metadata": {},
     "output_type": "execute_result"
    }
   ],
   "source": [
    "len(limitCrops_nonExpert_extended.ID.unique())"
   ]
  },
  {
   "cell_type": "code",
   "execution_count": 28,
   "id": "2af3772c",
   "metadata": {},
   "outputs": [
    {
     "data": {
      "text/html": [
       "<div>\n",
       "<style scoped>\n",
       "    .dataframe tbody tr th:only-of-type {\n",
       "        vertical-align: middle;\n",
       "    }\n",
       "\n",
       "    .dataframe tbody tr th {\n",
       "        vertical-align: top;\n",
       "    }\n",
       "\n",
       "    .dataframe thead th {\n",
       "        text-align: right;\n",
       "    }\n",
       "</style>\n",
       "<table border=\"1\" class=\"dataframe\">\n",
       "  <thead>\n",
       "    <tr style=\"text-align: right;\">\n",
       "      <th></th>\n",
       "      <th>Form</th>\n",
       "      <th>Question</th>\n",
       "      <th>ID</th>\n",
       "      <th>Hossein</th>\n",
       "      <th>Supriya</th>\n",
       "      <th>Kirti</th>\n",
       "      <th>Mike</th>\n",
       "      <th>Min</th>\n",
       "      <th>Question_in_set</th>\n",
       "      <th>Question_overall</th>\n",
       "      <th>...</th>\n",
       "      <th>longitude</th>\n",
       "      <th>Question Text</th>\n",
       "      <th>Text box Text</th>\n",
       "      <th>CropTyp</th>\n",
       "      <th>Irrigtn</th>\n",
       "      <th>DataSrc</th>\n",
       "      <th>Acres</th>\n",
       "      <th>ExctAcr</th>\n",
       "      <th>LstSrvD</th>\n",
       "      <th>county</th>\n",
       "    </tr>\n",
       "  </thead>\n",
       "  <tbody>\n",
       "    <tr>\n",
       "      <th>1202</th>\n",
       "      <td>31</td>\n",
       "      <td>3</td>\n",
       "      <td>53189_WSDA_SF_2016</td>\n",
       "      <td>Single Crop</td>\n",
       "      <td>Single Crop</td>\n",
       "      <td>Single Crop</td>\n",
       "      <td>none</td>\n",
       "      <td>none</td>\n",
       "      <td>3</td>\n",
       "      <td>1803</td>\n",
       "      <td>...</td>\n",
       "      <td>-118.573592</td>\n",
       "      <td>How would you label this field?</td>\n",
       "      <td>Notes if you want to add any.</td>\n",
       "      <td>barley</td>\n",
       "      <td>center pivot</td>\n",
       "      <td>wsda</td>\n",
       "      <td>132</td>\n",
       "      <td>131.696925</td>\n",
       "      <td>2016/09/20 00:00:00</td>\n",
       "      <td>Adams</td>\n",
       "    </tr>\n",
       "    <tr>\n",
       "      <th>1203</th>\n",
       "      <td>31</td>\n",
       "      <td>4</td>\n",
       "      <td>101534_WSDA_SF_2018</td>\n",
       "      <td>Single Crop</td>\n",
       "      <td>Double Crop</td>\n",
       "      <td>Single Crop</td>\n",
       "      <td>none</td>\n",
       "      <td>none</td>\n",
       "      <td>4</td>\n",
       "      <td>1804</td>\n",
       "      <td>...</td>\n",
       "      <td>-119.050357</td>\n",
       "      <td>How would you label this field?</td>\n",
       "      <td>Notes if you want to add any.</td>\n",
       "      <td>barley</td>\n",
       "      <td>center pivot</td>\n",
       "      <td>wsda</td>\n",
       "      <td>3</td>\n",
       "      <td>3.220729</td>\n",
       "      <td>2018/08/14 00:00:00</td>\n",
       "      <td>Franklin</td>\n",
       "    </tr>\n",
       "  </tbody>\n",
       "</table>\n",
       "<p>2 rows × 24 columns</p>\n",
       "</div>"
      ],
      "text/plain": [
       "     Form Question                   ID      Hossein      Supriya  \\\n",
       "1202   31        3   53189_WSDA_SF_2016  Single Crop  Single Crop   \n",
       "1203   31        4  101534_WSDA_SF_2018  Single Crop  Double Crop   \n",
       "\n",
       "            Kirti  Mike   Min  Question_in_set  Question_overall  ...  \\\n",
       "1202  Single Crop  none  none                3              1803  ...   \n",
       "1203  Single Crop  none  none                4              1804  ...   \n",
       "\n",
       "       longitude                    Question Text  \\\n",
       "1202 -118.573592  How would you label this field?   \n",
       "1203 -119.050357  How would you label this field?   \n",
       "\n",
       "                      Text box Text  CropTyp       Irrigtn DataSrc Acres  \\\n",
       "1202  Notes if you want to add any.   barley  center pivot    wsda   132   \n",
       "1203  Notes if you want to add any.   barley  center pivot    wsda     3   \n",
       "\n",
       "         ExctAcr              LstSrvD    county  \n",
       "1202  131.696925  2016/09/20 00:00:00     Adams  \n",
       "1203    3.220729  2018/08/14 00:00:00  Franklin  \n",
       "\n",
       "[2 rows x 24 columns]"
      ]
     },
     "execution_count": 28,
     "metadata": {},
     "output_type": "execute_result"
    }
   ],
   "source": [
    "limitCrops_nonExpert_extended.head(2)"
   ]
  },
  {
   "cell_type": "code",
   "execution_count": 90,
   "id": "0b6a82be",
   "metadata": {},
   "outputs": [
    {
     "data": {
      "text/plain": [
       "1429"
      ]
     },
     "execution_count": 90,
     "metadata": {},
     "output_type": "execute_result"
    }
   ],
   "source": [
    "nonExpert_survey2_fields = survey_fields[survey_fields.ID.isin(list(limitCrops_nonExpert_extended.ID))].copy()\n",
    "\n",
    "nonExpert_survey2_fields.sort_values(by=['CropTyp', 'ID'], inplace=True)\n",
    "\n",
    "nonExpert_survey2_fields.reset_index(inplace=True, drop=True)\n",
    "nonExpert_survey2_fields.Question_in_set = 666\n",
    "nonExpert_survey2_fields.Question_overall = 666\n",
    "nonExpert_survey2_fields.shape\n",
    "len(nonExpert_survey2_fields.ID.unique())"
   ]
  },
  {
   "cell_type": "markdown",
   "id": "1c0a4117",
   "metadata": {},
   "source": [
    "# Write to Disc"
   ]
  },
  {
   "cell_type": "code",
   "execution_count": 91,
   "id": "31debbb4",
   "metadata": {},
   "outputs": [],
   "source": [
    "# Be consistent with previous ones, so that the Google Scrip works\n",
    "needed_cols = [\"ID\", \n",
    "               \"NDVI_TS_Name\", \"corrected_RGB\", \"TOA_RGB\", \n",
    "               \"latitude\", \"longitude\", \"Question Text\", \"CropTyp\", \"Irrigtn\", \n",
    "               \"DataSrc\", \"Acres\", \"ExctAcr\",\n",
    "               \"LstSrvD\", \"county\"]\n",
    "\n",
    "nonExpert_survey2_fields = nonExpert_survey2_fields[needed_cols]"
   ]
  },
  {
   "cell_type": "code",
   "execution_count": 92,
   "id": "a07fdd54",
   "metadata": {},
   "outputs": [],
   "source": [
    "out_dir = \"/Users/hn/Documents/01_research_data/NASA/parameters/nonExpert_set2_fields/\"\n",
    "out_name = out_dir + \"nonExpert_survey2_fields.csv\"\n",
    "nonExpert_survey2_fields.to_csv(out_name, index = False)\n"
   ]
  },
  {
   "cell_type": "code",
   "execution_count": 93,
   "id": "5e217aed",
   "metadata": {},
   "outputs": [],
   "source": [
    "no_questions = 60\n",
    "\n",
    "if nonExpert_survey2_fields.shape[0] % no_questions != 0:\n",
    "    no_dfs = nonExpert_survey2_fields.shape[0] // no_questions + 1\n",
    "else:\n",
    "    no_dfs = nonExpert_survey2_fields.shape[0] // no_questions"
   ]
  },
  {
   "cell_type": "code",
   "execution_count": 94,
   "id": "e574757f",
   "metadata": {},
   "outputs": [],
   "source": [
    "writer_extended = pd.ExcelWriter(out_dir + 'nonExpert_survey2_fields.xlsx', engine='xlsxwriter')\n",
    "\n",
    "for ii in range(no_dfs):\n",
    "    curr_result = nonExpert_survey2_fields.loc[(ii*no_questions): ((ii+1) * no_questions) - 1, ]\n",
    "    curr_result.reset_index(drop=True, inplace=True)\n",
    "    curr_result.to_excel(writer_extended, sheet_name= \"NE_S2_F\" + str(ii+1), index=False)\n",
    "\n",
    "writer_extended.save()"
   ]
  },
  {
   "cell_type": "code",
   "execution_count": 95,
   "id": "278b4e01",
   "metadata": {},
   "outputs": [
    {
     "name": "stdout",
     "output_type": "stream",
     "text": [
      "(1429, 14)\n",
      "1429\n",
      "1429\n"
     ]
    },
    {
     "data": {
      "text/plain": [
       "True"
      ]
     },
     "execution_count": 95,
     "metadata": {},
     "output_type": "execute_result"
    }
   ],
   "source": [
    "choices_xl = pd.ExcelFile(out_dir + \"nonExpert_survey2_fields.xlsx\")\n",
    "sheet_names = choices_xl.sheet_names  # see all sheet names\n",
    "\n",
    "\n",
    "survey_fields_2_check = pd.DataFrame()\n",
    "for a_sheet in sheet_names:\n",
    "    a_choice_sheet = choices_xl.parse(a_sheet)\n",
    "    survey_fields_2_check = pd.concat([survey_fields_2_check, a_choice_sheet])\n",
    "\n",
    "print (survey_fields_2_check.shape)\n",
    "print (len(survey_fields_2_check.ID))\n",
    "print (len(survey_fields_2_check.ID.unique()))\n",
    "\n",
    "survey_fields_2_check.sort_values(by=['CropTyp', 'ID'], inplace=True)\n",
    "survey_fields_2_check.reset_index(inplace=True, drop=True)\n",
    "\n",
    "survey_fields_2_check.equals(nonExpert_survey2_fields)"
   ]
  },
  {
   "cell_type": "code",
   "execution_count": 96,
   "id": "bb47c546",
   "metadata": {},
   "outputs": [
    {
     "data": {
      "text/plain": [
       "24"
      ]
     },
     "execution_count": 96,
     "metadata": {},
     "output_type": "execute_result"
    }
   ],
   "source": [
    "len(sheet_names)"
   ]
  },
  {
   "cell_type": "code",
   "execution_count": 97,
   "id": "4360ac53",
   "metadata": {},
   "outputs": [
    {
     "data": {
      "text/plain": [
       "Index(['ID', 'NDVI_TS_Name', 'corrected_RGB', 'TOA_RGB', 'latitude',\n",
       "       'longitude', 'Question Text', 'CropTyp', 'Irrigtn', 'DataSrc', 'Acres',\n",
       "       'ExctAcr', 'LstSrvD', 'county'],\n",
       "      dtype='object')"
      ]
     },
     "execution_count": 97,
     "metadata": {},
     "output_type": "execute_result"
    }
   ],
   "source": [
    "nonExpert_survey2_fields.columns"
   ]
  },
  {
   "cell_type": "code",
   "execution_count": null,
   "id": "7969156f",
   "metadata": {},
   "outputs": [],
   "source": []
  },
  {
   "cell_type": "code",
   "execution_count": null,
   "id": "fdad7e0f",
   "metadata": {},
   "outputs": [],
   "source": []
  },
  {
   "cell_type": "code",
   "execution_count": null,
   "id": "c3256a7a",
   "metadata": {},
   "outputs": [],
   "source": []
  },
  {
   "cell_type": "code",
   "execution_count": null,
   "id": "f5b69ec8",
   "metadata": {},
   "outputs": [],
   "source": []
  },
  {
   "cell_type": "code",
   "execution_count": null,
   "id": "1c0236b6",
   "metadata": {},
   "outputs": [],
   "source": []
  }
 ],
 "metadata": {
  "kernelspec": {
   "display_name": "Python 3 (ipykernel)",
   "language": "python",
   "name": "python3"
  },
  "language_info": {
   "codemirror_mode": {
    "name": "ipython",
    "version": 3
   },
   "file_extension": ".py",
   "mimetype": "text/x-python",
   "name": "python",
   "nbconvert_exporter": "python",
   "pygments_lexer": "ipython3",
   "version": "3.9.7"
  }
 },
 "nbformat": 4,
 "nbformat_minor": 5
}
