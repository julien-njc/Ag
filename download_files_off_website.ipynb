{
 "cells": [
  {
   "cell_type": "code",
   "execution_count": 1,
   "id": "5cd4d337",
   "metadata": {},
   "outputs": [],
   "source": [
    "import requests"
   ]
  },
  {
   "cell_type": "code",
   "execution_count": 2,
   "id": "31a99f9b",
   "metadata": {},
   "outputs": [],
   "source": [
    "# url = 'https://www.facebook.com/favicon.ico'\n",
    "# r = requests.get(url, allow_redirects=True)\n",
    "# open('facebook.ico', 'wb').write(r.content)"
   ]
  },
  {
   "cell_type": "code",
   "execution_count": null,
   "id": "85576f77",
   "metadata": {},
   "outputs": [],
   "source": [
    "# Change working directory if you want:\n",
    "\n",
    "import os\n",
    "print (\"I am currently in \" + os.getcwd())\n",
    "\n",
    "os.chdir(\"/some path here/\")\n",
    "print (\"I am currently in \" + os.getcwd())"
   ]
  },
  {
   "cell_type": "code",
   "execution_count": 32,
   "id": "879a9645",
   "metadata": {},
   "outputs": [],
   "source": [
    "resNames = [\"Carters\"]\n",
    "\n",
    "\n",
    "# href = \"https://nicholasinstitute.duke.edu/water/publications/creating-\" + \\\n",
    "#          \"data-service-us-army-corps-engineers-reservoirs/\"\n",
    "\n",
    "# href = \"http://water.usace.army.mil/a2w/f?p=100:1:0:/\"\n",
    "# href = \"http://www.mapbox.com/about/maps/\"\n",
    "# href = \"https://nicholasinstitute.duke.edu/reservoir-data/\"\n",
    "href = \"https://nicholasinstitute.duke.edu/reservoir-data/usace/data/daily/\"\n",
    "\n",
    "for reservoir in resNames:\n",
    "    fileName = resName.replace(\" \", \"\") +  \".csv\" # remove spaces\n",
    "    file_path =  href + fileName\n",
    "    # print (file_path)\n",
    "    r = requests.get(file_path, allow_redirects=True)\n",
    "    open('Carters.csv', 'wb').write(r.content)"
   ]
  },
  {
   "cell_type": "code",
   "execution_count": 36,
   "id": "db7d5028",
   "metadata": {},
   "outputs": [
    {
     "data": {
      "text/plain": [
       "True"
      ]
     },
     "execution_count": 36,
     "metadata": {},
     "output_type": "execute_result"
    }
   ],
   "source": [
    "# Check\n",
    "import pandas as pd\n",
    "downloaded_by_code = pd.read_csv(\"/Users/hn/Documents/00_GitHub/Carters.csv\")\n",
    "downloaded_manually = pd.read_csv(\"/Users/hn/Downloads/Carters.csv\")\n",
    "downloaded_manually.equals(downloaded_by_code)"
   ]
  },
  {
   "cell_type": "code",
   "execution_count": null,
   "id": "687185ac",
   "metadata": {},
   "outputs": [],
   "source": []
  },
  {
   "cell_type": "code",
   "execution_count": 4,
   "id": "8ef502c5",
   "metadata": {},
   "outputs": [
    {
     "name": "stdout",
     "output_type": "stream",
     "text": [
      "I am currently in /Users/hn/Desktop/Mine\n"
     ]
    }
   ],
   "source": []
  },
  {
   "cell_type": "code",
   "execution_count": null,
   "id": "64d30ece",
   "metadata": {},
   "outputs": [],
   "source": []
  },
  {
   "cell_type": "code",
   "execution_count": null,
   "id": "a75cb902",
   "metadata": {},
   "outputs": [],
   "source": []
  },
  {
   "cell_type": "code",
   "execution_count": null,
   "id": "5b4ba1da",
   "metadata": {},
   "outputs": [],
   "source": []
  }
 ],
 "metadata": {
  "kernelspec": {
   "display_name": "GEE",
   "language": "python",
   "name": "gee"
  },
  "language_info": {
   "codemirror_mode": {
    "name": "ipython",
    "version": 3
   },
   "file_extension": ".py",
   "mimetype": "text/x-python",
   "name": "python",
   "nbconvert_exporter": "python",
   "pygments_lexer": "ipython3",
   "version": "3.9.7"
  }
 },
 "nbformat": 4,
 "nbformat_minor": 5
}
