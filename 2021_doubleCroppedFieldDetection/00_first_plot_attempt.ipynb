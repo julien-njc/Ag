{
 "cells": [
  {
   "cell_type": "markdown",
   "id": "2e24a245",
   "metadata": {},
   "source": [
    "This notebook is a damn copy of ```regularization_and_smoothing_plots_Scaled_3Masks.ipynb``` from \n",
    "```/Users/hn/Documents/00_GitHub/Ag/NASA/Python_codes/00_first_investigation_Grant_4Fields/```\n"
   ]
  },
  {
   "cell_type": "code",
   "execution_count": 1,
   "id": "8b48ae73",
   "metadata": {},
   "outputs": [],
   "source": [
    "import csv\n",
    "import numpy as np\n",
    "import pandas as pd\n",
    "from math import factorial\n",
    "\n",
    "import datetime\n",
    "from datetime import date\n",
    "import datetime\n",
    "import time\n",
    "\n",
    "import scipy\n",
    "import os, os.path\n",
    "from os import listdir\n",
    "from os.path import isfile, join\n",
    "\n",
    "import re\n",
    "# from pprint import pprint\n",
    "import matplotlib.pyplot as plt\n",
    "import matplotlib.dates as mdates\n",
    "import seaborn as sb\n",
    "\n",
    "import sys\n",
    "\n",
    "\n",
    "# search path for modules\n",
    "# look @ https://stackoverflow.com/questions/67631/how-to-import-a-module-given-the-full-path\n",
    "sys.path.append('/Users/hn/Documents/00_GitHub/Ag/NASA/Python_codes/')\n",
    "import NASA_core as nc\n",
    "import NASA_plot_core as npc"
   ]
  },
  {
   "cell_type": "markdown",
   "id": "fa8f6057",
   "metadata": {},
   "source": [
    "### Set up directories"
   ]
  },
  {
   "cell_type": "code",
   "execution_count": 2,
   "id": "fedb8ee2",
   "metadata": {},
   "outputs": [],
   "source": [
    "data_dir = \"/Users/hn/Documents/01_research_data/2021_doubleCroppedFieldDetection/01_idx/\""
   ]
  },
  {
   "cell_type": "code",
   "execution_count": 3,
   "id": "f2ca2c2a",
   "metadata": {},
   "outputs": [
    {
     "data": {
      "text/plain": [
       "['AdamsFrankBentonGrant_IrrAnn_SH2016_IY_2021.csv',\n",
       " 'AdamsFrankBentonGrant_IrrAnn_SH2017_IY_2021.csv',\n",
       " 'AdamsFrankBentonGrant_IrrAnn_SH2018_IY_2021.csv']"
      ]
     },
     "execution_count": 3,
     "metadata": {},
     "output_type": "execute_result"
    }
   ],
   "source": [
    "# import glob\n",
    "# All files ending with .txt\n",
    "# glob.glob(data_dir + \"*.csv\")\n",
    "\n",
    "file_names = [x for x in os.listdir(data_dir) if x.endswith(\".csv\")]\n",
    "file_names"
   ]
  },
  {
   "cell_type": "markdown",
   "id": "5f55cff1",
   "metadata": {},
   "source": [
    "# Reda the damn data. There is no end to these projects!"
   ]
  },
  {
   "cell_type": "code",
   "execution_count": 4,
   "id": "fa36d348",
   "metadata": {},
   "outputs": [],
   "source": [
    "dataframe_list = []\n",
    "\n",
    "A = pd.read_csv(data_dir + file_names[0])\n",
    "A = A[A['NDVI'].notna()]\n",
    "dataframe_list.append(A)\n",
    "\n",
    "A = pd.read_csv(data_dir + file_names[1])\n",
    "A = A[A['NDVI'].notna()]\n",
    "dataframe_list.append(A)\n",
    "\n",
    "A = pd.read_csv(data_dir + file_names[2])\n",
    "A = A[A['NDVI'].notna()]\n",
    "dataframe_list.append(A)"
   ]
  },
  {
   "cell_type": "code",
   "execution_count": 5,
   "id": "0fbb9909",
   "metadata": {},
   "outputs": [],
   "source": [
    "all_data = pd.concat(dataframe_list)\n",
    "all_data.reset_index(drop=True, inplace=True)\n",
    "all_data = nc.add_human_start_time_by_system_start_time(all_data)\n",
    "\n",
    "all_data[\"dataset\"] = \"Sentinel\""
   ]
  },
  {
   "cell_type": "markdown",
   "id": "24c057d9",
   "metadata": {},
   "source": [
    "# are there indentical fields in these 3 years?"
   ]
  },
  {
   "cell_type": "code",
   "execution_count": 6,
   "id": "3bc5b713",
   "metadata": {},
   "outputs": [
    {
     "data": {
      "text/html": [
       "<div>\n",
       "<style scoped>\n",
       "    .dataframe tbody tr th:only-of-type {\n",
       "        vertical-align: middle;\n",
       "    }\n",
       "\n",
       "    .dataframe tbody tr th {\n",
       "        vertical-align: top;\n",
       "    }\n",
       "\n",
       "    .dataframe thead th {\n",
       "        text-align: right;\n",
       "    }\n",
       "</style>\n",
       "<table border=\"1\" class=\"dataframe\">\n",
       "  <thead>\n",
       "    <tr style=\"text-align: right;\">\n",
       "      <th></th>\n",
       "      <th>ID</th>\n",
       "      <th>county</th>\n",
       "      <th>CropTyp</th>\n",
       "      <th>Irrigtn</th>\n",
       "      <th>LstSrvD</th>\n",
       "      <th>EVI</th>\n",
       "      <th>NDVI</th>\n",
       "      <th>system_start_time</th>\n",
       "      <th>cntrd_lt</th>\n",
       "      <th>cntrd_ln</th>\n",
       "      <th>human_system_start_time</th>\n",
       "      <th>dataset</th>\n",
       "    </tr>\n",
       "  </thead>\n",
       "  <tbody>\n",
       "    <tr>\n",
       "      <th>0</th>\n",
       "      <td>54185_WSDA_SF_2016</td>\n",
       "      <td>Adams</td>\n",
       "      <td>alfalfa hay</td>\n",
       "      <td>center pivot</td>\n",
       "      <td>2016/09/27 00:00:00</td>\n",
       "      <td>0.076856</td>\n",
       "      <td>0.047853</td>\n",
       "      <td>1.578251e+09</td>\n",
       "      <td>47.069257</td>\n",
       "      <td>-118.187758</td>\n",
       "      <td>2020-01-05</td>\n",
       "      <td>Sentinel</td>\n",
       "    </tr>\n",
       "    <tr>\n",
       "      <th>1</th>\n",
       "      <td>54520_WSDA_SF_2016</td>\n",
       "      <td>Adams</td>\n",
       "      <td>alfalfa hay</td>\n",
       "      <td>sprinkler</td>\n",
       "      <td>2016/09/27 00:00:00</td>\n",
       "      <td>0.054747</td>\n",
       "      <td>0.040360</td>\n",
       "      <td>1.578251e+09</td>\n",
       "      <td>47.065840</td>\n",
       "      <td>-118.192527</td>\n",
       "      <td>2020-01-05</td>\n",
       "      <td>Sentinel</td>\n",
       "    </tr>\n",
       "  </tbody>\n",
       "</table>\n",
       "</div>"
      ],
      "text/plain": [
       "                   ID county      CropTyp       Irrigtn              LstSrvD  \\\n",
       "0  54185_WSDA_SF_2016  Adams  alfalfa hay  center pivot  2016/09/27 00:00:00   \n",
       "1  54520_WSDA_SF_2016  Adams  alfalfa hay     sprinkler  2016/09/27 00:00:00   \n",
       "\n",
       "        EVI      NDVI  system_start_time   cntrd_lt    cntrd_ln  \\\n",
       "0  0.076856  0.047853       1.578251e+09  47.069257 -118.187758   \n",
       "1  0.054747  0.040360       1.578251e+09  47.065840 -118.192527   \n",
       "\n",
       "  human_system_start_time   dataset  \n",
       "0              2020-01-05  Sentinel  \n",
       "1              2020-01-05  Sentinel  "
      ]
     },
     "execution_count": 6,
     "metadata": {},
     "output_type": "execute_result"
    }
   ],
   "source": [
    "all_data.head(2)"
   ]
  },
  {
   "cell_type": "code",
   "execution_count": 17,
   "id": "fce3846b",
   "metadata": {},
   "outputs": [],
   "source": [
    "all_data['centroid'] = (all_data['cntrd_lt'].astype(str)) + (all_data['cntrd_ln'].astype(str))"
   ]
  },
  {
   "cell_type": "code",
   "execution_count": 18,
   "id": "c2d40cca",
   "metadata": {},
   "outputs": [
    {
     "data": {
      "text/html": [
       "<div>\n",
       "<style scoped>\n",
       "    .dataframe tbody tr th:only-of-type {\n",
       "        vertical-align: middle;\n",
       "    }\n",
       "\n",
       "    .dataframe tbody tr th {\n",
       "        vertical-align: top;\n",
       "    }\n",
       "\n",
       "    .dataframe thead th {\n",
       "        text-align: right;\n",
       "    }\n",
       "</style>\n",
       "<table border=\"1\" class=\"dataframe\">\n",
       "  <thead>\n",
       "    <tr style=\"text-align: right;\">\n",
       "      <th></th>\n",
       "      <th>ID</th>\n",
       "      <th>county</th>\n",
       "      <th>CropTyp</th>\n",
       "      <th>Irrigtn</th>\n",
       "      <th>LstSrvD</th>\n",
       "      <th>EVI</th>\n",
       "      <th>NDVI</th>\n",
       "      <th>system_start_time</th>\n",
       "      <th>cntrd_lt</th>\n",
       "      <th>cntrd_ln</th>\n",
       "      <th>human_system_start_time</th>\n",
       "      <th>dataset</th>\n",
       "      <th>centroid</th>\n",
       "    </tr>\n",
       "  </thead>\n",
       "  <tbody>\n",
       "    <tr>\n",
       "      <th>0</th>\n",
       "      <td>54185_WSDA_SF_2016</td>\n",
       "      <td>Adams</td>\n",
       "      <td>alfalfa hay</td>\n",
       "      <td>center pivot</td>\n",
       "      <td>2016/09/27 00:00:00</td>\n",
       "      <td>0.076856</td>\n",
       "      <td>0.047853</td>\n",
       "      <td>1.578251e+09</td>\n",
       "      <td>47.069257</td>\n",
       "      <td>-118.187758</td>\n",
       "      <td>2020-01-05</td>\n",
       "      <td>Sentinel</td>\n",
       "      <td>47.06925743-118.18775769</td>\n",
       "    </tr>\n",
       "    <tr>\n",
       "      <th>1</th>\n",
       "      <td>54520_WSDA_SF_2016</td>\n",
       "      <td>Adams</td>\n",
       "      <td>alfalfa hay</td>\n",
       "      <td>sprinkler</td>\n",
       "      <td>2016/09/27 00:00:00</td>\n",
       "      <td>0.054747</td>\n",
       "      <td>0.040360</td>\n",
       "      <td>1.578251e+09</td>\n",
       "      <td>47.065840</td>\n",
       "      <td>-118.192527</td>\n",
       "      <td>2020-01-05</td>\n",
       "      <td>Sentinel</td>\n",
       "      <td>47.06584023-118.19252723</td>\n",
       "    </tr>\n",
       "  </tbody>\n",
       "</table>\n",
       "</div>"
      ],
      "text/plain": [
       "                   ID county      CropTyp       Irrigtn              LstSrvD  \\\n",
       "0  54185_WSDA_SF_2016  Adams  alfalfa hay  center pivot  2016/09/27 00:00:00   \n",
       "1  54520_WSDA_SF_2016  Adams  alfalfa hay     sprinkler  2016/09/27 00:00:00   \n",
       "\n",
       "        EVI      NDVI  system_start_time   cntrd_lt    cntrd_ln  \\\n",
       "0  0.076856  0.047853       1.578251e+09  47.069257 -118.187758   \n",
       "1  0.054747  0.040360       1.578251e+09  47.065840 -118.192527   \n",
       "\n",
       "  human_system_start_time   dataset                  centroid  \n",
       "0              2020-01-05  Sentinel  47.06925743-118.18775769  \n",
       "1              2020-01-05  Sentinel  47.06584023-118.19252723  "
      ]
     },
     "execution_count": 18,
     "metadata": {},
     "output_type": "execute_result"
    }
   ],
   "source": []
  },
  {
   "cell_type": "code",
   "execution_count": 19,
   "id": "06de6eac",
   "metadata": {},
   "outputs": [
    {
     "data": {
      "text/plain": [
       "20805"
      ]
     },
     "execution_count": 19,
     "metadata": {},
     "output_type": "execute_result"
    }
   ],
   "source": [
    "len(list(np.sort(all_data.centroid.unique())))"
   ]
  },
  {
   "cell_type": "code",
   "execution_count": 13,
   "id": "0ffb235d",
   "metadata": {},
   "outputs": [],
   "source": [
    "ID_list = list(np.sort(all_data.ID.unique()))"
   ]
  },
  {
   "cell_type": "code",
   "execution_count": 14,
   "id": "133522cc",
   "metadata": {},
   "outputs": [
    {
     "data": {
      "text/plain": [
       "47607"
      ]
     },
     "execution_count": 14,
     "metadata": {},
     "output_type": "execute_result"
    }
   ],
   "source": [
    "len(ID_list)"
   ]
  },
  {
   "cell_type": "code",
   "execution_count": 15,
   "id": "a1564d95",
   "metadata": {},
   "outputs": [
    {
     "data": {
      "text/html": [
       "<div>\n",
       "<style scoped>\n",
       "    .dataframe tbody tr th:only-of-type {\n",
       "        vertical-align: middle;\n",
       "    }\n",
       "\n",
       "    .dataframe tbody tr th {\n",
       "        vertical-align: top;\n",
       "    }\n",
       "\n",
       "    .dataframe thead th {\n",
       "        text-align: right;\n",
       "    }\n",
       "</style>\n",
       "<table border=\"1\" class=\"dataframe\">\n",
       "  <thead>\n",
       "    <tr style=\"text-align: right;\">\n",
       "      <th></th>\n",
       "      <th>ID</th>\n",
       "      <th>county</th>\n",
       "      <th>CropTyp</th>\n",
       "      <th>Irrigtn</th>\n",
       "      <th>LstSrvD</th>\n",
       "      <th>EVI</th>\n",
       "      <th>NDVI</th>\n",
       "      <th>system_start_time</th>\n",
       "      <th>cntrd_lt</th>\n",
       "      <th>cntrd_ln</th>\n",
       "      <th>human_system_start_time</th>\n",
       "      <th>dataset</th>\n",
       "      <th>centroid</th>\n",
       "    </tr>\n",
       "  </thead>\n",
       "  <tbody>\n",
       "    <tr>\n",
       "      <th>0</th>\n",
       "      <td>54185_WSDA_SF_2016</td>\n",
       "      <td>Adams</td>\n",
       "      <td>alfalfa hay</td>\n",
       "      <td>center pivot</td>\n",
       "      <td>2016/09/27 00:00:00</td>\n",
       "      <td>0.076856</td>\n",
       "      <td>0.047853</td>\n",
       "      <td>1.578251e+09</td>\n",
       "      <td>47.069257</td>\n",
       "      <td>-118.187758</td>\n",
       "      <td>2020-01-05</td>\n",
       "      <td>Sentinel</td>\n",
       "      <td>0          47.069257\\n1          47.065840\\n2 ...</td>\n",
       "    </tr>\n",
       "    <tr>\n",
       "      <th>1</th>\n",
       "      <td>54520_WSDA_SF_2016</td>\n",
       "      <td>Adams</td>\n",
       "      <td>alfalfa hay</td>\n",
       "      <td>sprinkler</td>\n",
       "      <td>2016/09/27 00:00:00</td>\n",
       "      <td>0.054747</td>\n",
       "      <td>0.040360</td>\n",
       "      <td>1.578251e+09</td>\n",
       "      <td>47.065840</td>\n",
       "      <td>-118.192527</td>\n",
       "      <td>2020-01-05</td>\n",
       "      <td>Sentinel</td>\n",
       "      <td>0          47.069257\\n1          47.065840\\n2 ...</td>\n",
       "    </tr>\n",
       "  </tbody>\n",
       "</table>\n",
       "</div>"
      ],
      "text/plain": [
       "                   ID county      CropTyp       Irrigtn              LstSrvD  \\\n",
       "0  54185_WSDA_SF_2016  Adams  alfalfa hay  center pivot  2016/09/27 00:00:00   \n",
       "1  54520_WSDA_SF_2016  Adams  alfalfa hay     sprinkler  2016/09/27 00:00:00   \n",
       "\n",
       "        EVI      NDVI  system_start_time   cntrd_lt    cntrd_ln  \\\n",
       "0  0.076856  0.047853       1.578251e+09  47.069257 -118.187758   \n",
       "1  0.054747  0.040360       1.578251e+09  47.065840 -118.192527   \n",
       "\n",
       "  human_system_start_time   dataset  \\\n",
       "0              2020-01-05  Sentinel   \n",
       "1              2020-01-05  Sentinel   \n",
       "\n",
       "                                            centroid  \n",
       "0  0          47.069257\\n1          47.065840\\n2 ...  \n",
       "1  0          47.069257\\n1          47.065840\\n2 ...  "
      ]
     },
     "execution_count": 15,
     "metadata": {},
     "output_type": "execute_result"
    }
   ],
   "source": [
    "all_data.head(2)"
   ]
  },
  {
   "cell_type": "code",
   "execution_count": null,
   "id": "cdbec35e",
   "metadata": {},
   "outputs": [],
   "source": []
  },
  {
   "cell_type": "code",
   "execution_count": null,
   "id": "9df980cf",
   "metadata": {},
   "outputs": [],
   "source": []
  },
  {
   "cell_type": "code",
   "execution_count": null,
   "id": "dbf9887e",
   "metadata": {},
   "outputs": [],
   "source": []
  },
  {
   "cell_type": "markdown",
   "id": "cd86798c",
   "metadata": {},
   "source": [
    "### Set the plotting style"
   ]
  },
  {
   "cell_type": "code",
   "execution_count": 25,
   "id": "955b70e2",
   "metadata": {},
   "outputs": [],
   "source": [
    "size = 20\n",
    "\n",
    "params = {'legend.fontsize': 2,\n",
    "          'figure.figsize': (3, 4),\n",
    "          'axes.labelsize': size,\n",
    "          'axes.titlesize': size,\n",
    "          'xtick.labelsize': size * 0.6,\n",
    "          'ytick.labelsize': size * 0.6,\n",
    "          'axes.titlepad': 10}\n",
    "\n",
    "#\n",
    "#  Once set, you cannot change them, unless restart the notebook\n",
    "#\n",
    "plt.rc('font', family = 'Palatino')\n",
    "plt.rcParams['xtick.bottom'] = True\n",
    "plt.rcParams['ytick.left'] = True\n",
    "plt.rcParams['xtick.labelbottom'] = True\n",
    "plt.rcParams['ytick.labelleft'] = True\n",
    "plt.rcParams.update(params)\n",
    "# pylab.rcParams.update(params)\n",
    "# plt.rc('text', usetex=True)"
   ]
  },
  {
   "cell_type": "code",
   "execution_count": 26,
   "id": "74c1dff8",
   "metadata": {},
   "outputs": [],
   "source": [
    "VI=\"NDVI\"\n",
    "interval_size = 10"
   ]
  },
  {
   "cell_type": "markdown",
   "id": "32d696cb",
   "metadata": {},
   "source": [
    "# All Smoothed versions against each other with raw "
   ]
  },
  {
   "cell_type": "code",
   "execution_count": 27,
   "id": "f65f3497",
   "metadata": {},
   "outputs": [],
   "source": [
    "color_dict = {'raw': 'r','Sentinel': 'dodgerblue'}"
   ]
  },
  {
   "cell_type": "code",
   "execution_count": 28,
   "id": "a0cf62fa",
   "metadata": {},
   "outputs": [
    {
     "name": "stdout",
     "output_type": "stream",
     "text": [
      "Populating the interactive namespace from numpy and matplotlib\n"
     ]
    },
    {
     "data": {
      "image/png": "[encoded data removed]",
      "text/plain": [
       "<Figure size 720x144 with 1 Axes>"
      ]
     },
     "metadata": {
      "needs_background": "light"
     },
     "output_type": "display_data"
    }
   ],
   "source": [
    "from IPython.display import clear_output\n",
    "import pandas as pd\n",
    "import time\n",
    "%pylab inline --no-import-all\n",
    "%load_ext autoreload\n",
    "\n",
    "%autoreload\n",
    "import NASA_core as nc\n",
    "import NASA_plot_core as npc\n",
    "\n",
    "\n",
    "size = 10\n",
    "tickWidth = 0.6\n",
    "tickLength = 3\n",
    "params = {'legend.fontsize': size * 0.5,\n",
    "          'figure.figsize': (10, 2),\n",
    "          'axes.labelsize': size,\n",
    "          'axes.titlesize': size,\n",
    "          'xtick.labelsize': size * 0.7,\n",
    "          'ytick.labelsize': size * 0.7,\n",
    "          'axes.titlepad': 2,\n",
    "          'axes.linewidth' : 0.5,\n",
    "          'xtick.major.size' : tickLength,\n",
    "          'xtick.major.width': tickWidth, \n",
    "          'xtick.minor.size' : tickLength,\n",
    "          'xtick.minor.width' : tickWidth,\n",
    "          'ytick.major.size' : tickLength,\n",
    "          'ytick.major.width': tickWidth, \n",
    "          'ytick.minor.size' : tickLength,\n",
    "          'ytick.minor.width' : tickWidth,\n",
    "          'legend.loc': 'lower left'}\n",
    "\n",
    "#\n",
    "#  Once set, you cannot change them, unless restart the notebook\n",
    "#\n",
    "plt.rc('font', family = 'Palatino')\n",
    "plt.rcParams['xtick.bottom'] = True\n",
    "plt.rcParams['ytick.left'] = True\n",
    "plt.rcParams['xtick.labelbottom'] = True\n",
    "plt.rcParams['ytick.labelleft'] = True\n",
    "\n",
    "plt.rcParams.update(params)\n",
    "\n",
    "# pylab.rcParams.update(params)\n",
    "# plt.rc('text', usetex=True)\n",
    "Lwidth = 1\n",
    "\n",
    "fig, ax = plt.subplots(1, 1, sharex='col', sharey='row',\n",
    "                       # sharex=True, sharey=True,\n",
    "                        gridspec_kw={'hspace': 0.3, 'wspace': .05});\n",
    "ax.grid(True)\n",
    "\n",
    "\n",
    "curr_dt = all_data[all_data.ID == ID_list[0]].copy()\n",
    "curr_dt.sort_values(by='human_system_start_time', axis=0, ascending=True, inplace=True)\n",
    "npc.one_satellite_smoothed(raw_dt=curr_dt, ax=ax, color_dict=color_dict, idx=VI, time_step_size=interval_size)\n",
    "\n",
    "ax.plot(curr_dt['human_system_start_time'], curr_dt['NDVI'], \n",
    "        label = \"raw\", linewidth=Lwidth, color='r')\n",
    "\n",
    "assert (len(curr_dt.cntrd_ln.unique()) == 1)\n",
    "assert (len(curr_dt.cntrd_lt.unique()) == 1)\n",
    "centriod = \", \" + str(curr_dt.cntrd_ln.unique()[0]) + \"_\" + str(curr_dt.cntrd_lt.unique()[0])\n",
    "# centriod =  \", \" + str(curr_dt.centroid_long.unique()[0]) + \"_\" + str(curr_dt.centroid_lat.unique()[0] )\n",
    "ax.set_title(curr_dt.ID.unique()[0] + \", \" + curr_dt.CropTyp.unique()[0] + centriod) \n",
    "ax.set_ylabel('NDVI') # , labelpad=20); # fontsize = label_FontSize,\n",
    "ax.tick_params(axis='y', which='major') #, labelsize = tick_FontSize)\n",
    "ax.tick_params(axis='x', which='major') #, labelsize = tick_FontSize) # \n",
    "ax.legend(loc=\"lower right\");\n",
    "\n",
    "\n",
    "file_name = data_dir + \"figures/\"+ ID_list[0] + \".pdf\"\n",
    "os.makedirs(data_dir + \"figures/\", exist_ok=True)\n",
    "plt.savefig(fname = file_name, dpi=400, transparent=False, bbox_inches='tight'); # "
   ]
  },
  {
   "cell_type": "code",
   "execution_count": 46,
   "id": "4b789f25",
   "metadata": {},
   "outputs": [
    {
     "data": {
      "text/plain": [
       "47607"
      ]
     },
     "execution_count": 46,
     "metadata": {},
     "output_type": "execute_result"
    }
   ],
   "source": [
    "len(all_data.ID.unique())"
   ]
  },
  {
   "cell_type": "code",
   "execution_count": 30,
   "id": "e015e52e",
   "metadata": {},
   "outputs": [
    {
     "data": {
      "text/plain": [
       "'Grant'"
      ]
     },
     "execution_count": 30,
     "metadata": {},
     "output_type": "execute_result"
    }
   ],
   "source": [
    "curr_dt.county.unique()[0]"
   ]
  },
  {
   "cell_type": "code",
   "execution_count": null,
   "id": "b0ee262a",
   "metadata": {},
   "outputs": [],
   "source": []
  },
  {
   "cell_type": "code",
   "execution_count": null,
   "id": "54b6ece9",
   "metadata": {},
   "outputs": [],
   "source": []
  }
 ],
 "metadata": {
  "kernelspec": {
   "display_name": "Python 3",
   "language": "python",
   "name": "python3"
  },
  "language_info": {
   "codemirror_mode": {
    "name": "ipython",
    "version": 3
   },
   "file_extension": ".py",
   "mimetype": "text/x-python",
   "name": "python",
   "nbconvert_exporter": "python",
   "pygments_lexer": "ipython3",
   "version": "3.8.8"
  }
 },
 "nbformat": 4,
 "nbformat_minor": 5
}
