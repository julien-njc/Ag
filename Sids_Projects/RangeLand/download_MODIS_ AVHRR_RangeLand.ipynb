{
 "cells": [
  {
   "cell_type": "code",
   "execution_count": 1,
   "id": "5cd4d337",
   "metadata": {},
   "outputs": [],
   "source": [
    "import requests\n",
    "import pandas as pd"
   ]
  },
  {
   "cell_type": "code",
   "execution_count": 2,
   "id": "31a99f9b",
   "metadata": {},
   "outputs": [],
   "source": [
    "# url = 'https://www.facebook.com/favicon.ico'\n",
    "# r = requests.get(url, allow_redirects=True)\n",
    "# open('facebook.ico', 'wb').write(r.content)"
   ]
  },
  {
   "cell_type": "code",
   "execution_count": 5,
   "id": "85576f77",
   "metadata": {},
   "outputs": [
    {
     "name": "stdout",
     "output_type": "stream",
     "text": [
      "I am currently in /Users/hn/Documents/01_research_data/Reservoirs\n",
      "I am currently in /Users/hn/Documents/01_research_data/MODIS\n"
     ]
    }
   ],
   "source": [
    "# Change working directory if you want:\n",
    "\n",
    "import os\n",
    "print (\"I am currently in \" + os.getcwd())\n",
    "\n",
    "data_dir = \"/Users/hn/Documents/01_research_data/MODIS/\"\n",
    "os.makedirs(data_dir, exist_ok=True)\n",
    "os.chdir(data_dir)\n",
    "print (\"I am currently in \" + os.getcwd())"
   ]
  },
  {
   "cell_type": "code",
   "execution_count": 16,
   "id": "e05b4918",
   "metadata": {},
   "outputs": [],
   "source": [
    "from bs4 import BeautifulSoup"
   ]
  },
  {
   "cell_type": "code",
   "execution_count": 12,
   "id": "879a9645",
   "metadata": {},
   "outputs": [],
   "source": [
    "href = \"https://zenodo.org/record/files/\"\n",
    "ext = '.zip'"
   ]
  },
  {
   "cell_type": "code",
   "execution_count": null,
   "id": "ccb6ac66",
   "metadata": {},
   "outputs": [],
   "source": []
  },
  {
   "cell_type": "code",
   "execution_count": 25,
   "id": "4fe7678c",
   "metadata": {},
   "outputs": [],
   "source": [
    "from urllib.request import Request, urlopen, urlretrieve\n",
    "from bs4 import BeautifulSoup"
   ]
  },
  {
   "cell_type": "code",
   "execution_count": null,
   "id": "f9326d15",
   "metadata": {},
   "outputs": [],
   "source": []
  },
  {
   "cell_type": "code",
   "execution_count": 30,
   "id": "d38bddd1",
   "metadata": {},
   "outputs": [
    {
     "name": "stdout",
     "output_type": "stream",
     "text": [
      "False\n"
     ]
    }
   ],
   "source": [
    "href=\"https://zenodo.org/record/files/\"\n",
    "def is_downloadable(url):\n",
    "    \"\"\"\n",
    "    Does the url contain a downloadable resource\n",
    "    \"\"\"\n",
    "    h = requests.head(url, allow_redirects=True)\n",
    "    header = h.headers\n",
    "    content_type = header.get('content-type')\n",
    "    if 'text' in content_type.lower():\n",
    "        return False\n",
    "    if 'html' in content_type.lower():\n",
    "        return False\n",
    "    return True\n",
    "\n",
    "print (is_downloadable(href))"
   ]
  },
  {
   "cell_type": "code",
   "execution_count": 32,
   "id": "29ae733a",
   "metadata": {},
   "outputs": [
    {
     "name": "stdout",
     "output_type": "stream",
     "text": [
      "True\n"
     ]
    }
   ],
   "source": [
    "print (is_downloadable('http://google.com/favicon.ico'))"
   ]
  },
  {
   "cell_type": "code",
   "execution_count": null,
   "id": "1fc01994",
   "metadata": {},
   "outputs": [],
   "source": []
  },
  {
   "cell_type": "code",
   "execution_count": null,
   "id": "6042693a",
   "metadata": {},
   "outputs": [],
   "source": []
  },
  {
   "cell_type": "code",
   "execution_count": null,
   "id": "f1307afd",
   "metadata": {},
   "outputs": [],
   "source": []
  },
  {
   "cell_type": "code",
   "execution_count": null,
   "id": "9590a8d5",
   "metadata": {},
   "outputs": [],
   "source": []
  },
  {
   "cell_type": "code",
   "execution_count": 33,
   "id": "4a822d77",
   "metadata": {},
   "outputs": [],
   "source": [
    "\n",
    "# href = 'http://cdimage.debian.org/debian-cd/8.2.0-live/i386/iso-hybrid/'\n",
    "# ext = 'iso'\n",
    "\n",
    "# href = \"https://zenodo.org/record/files/\"\n",
    "# ext = '.zip'\n",
    "\n",
    "# def read_url(url):\n",
    "#     url = url.replace(\" \",\"%20\")\n",
    "#     req = Request(url)\n",
    "#     a = urlopen(req).read()\n",
    "#     soup = BeautifulSoup(a, 'html.parser')\n",
    "#     x = (soup.find_all('a'))\n",
    "#     for i in x:\n",
    "#         file_name = i.extract().get_text()\n",
    "#         url_new = url + file_name\n",
    "#         url_new = url_new.replace(\" \",\"%20\")\n",
    "#         if(file_name[-1]=='/' and file_name[0]!='.'):\n",
    "#             read_url(url_new)\n",
    "#         print(url_new)\n",
    "\n",
    "# read_url(\"https://zenodo.org/record/files/\")\n",
    "\n",
    "# def listFD(url, ext=''):\n",
    "#     page = requests.get(url).text\n",
    "#     print (page)\n",
    "#     soup = BeautifulSoup(page, 'html.parser')\n",
    "#     return [url + '/' + node.get('href') for node in soup.find_all('a') if node.get('href').endswith(ext)]\n",
    "\n",
    "# for file in listFD(href, ext):\n",
    "#     print (file)\n",
    "    \n",
    "# def get_url_paths(url, ext='', params={}):\n",
    "#     response = requests.get(url, params=params)\n",
    "#     if response.ok:\n",
    "#         response_text = response.text\n",
    "#     else:\n",
    "#         return response.raise_for_status()\n",
    "#     soup = BeautifulSoup(response_text, 'html.parser')\n",
    "#     parent = [url + node.get('href') for node in soup.find_all('a') if node.get('href').endswith(ext)]\n",
    "#     return parent\n",
    "\n",
    "# url = 'http://cdimage.debian.org/debian-cd/8.2.0-live/i386/iso-hybrid/'\n",
    "# ext = 'iso'\n",
    "\n",
    "# url = \"https://zenodo.org/record/files/\"\n",
    "# ext = '.zip'\n",
    "\n",
    "# result = get_url_paths(url, ext)\n",
    "# print(result)"
   ]
  },
  {
   "cell_type": "code",
   "execution_count": null,
   "id": "71457f5b",
   "metadata": {},
   "outputs": [],
   "source": []
  },
  {
   "cell_type": "code",
   "execution_count": 58,
   "id": "d14f5ae1",
   "metadata": {},
   "outputs": [],
   "source": [
    "firsts = [\"07\", \"08\", \"09\"]+[str(x) for x in list(range(10, 22))]\n",
    "seconds = [\"v0\" + str(x) for x in range(1, 10)] + [\"v\"+str(x) for x in range(10, 15)]"
   ]
  },
  {
   "cell_type": "code",
   "execution_count": 60,
   "id": "b5fc06fa",
   "metadata": {},
   "outputs": [
    {
     "name": "stdout",
     "output_type": "stream",
     "text": [
      "counter is [0].\n",
      "counter is [50].\n",
      "counter is [100].\n",
      "counter is [150].\n",
      "counter is [200].\n"
     ]
    }
   ],
   "source": [
    "counter=0\n",
    "for firsr_part in firsts:\n",
    "    for second_part in seconds:\n",
    "        if (counter % 50 == 0):\n",
    "            print (\"counter is [{:.0f}].\".format(counter))\n",
    "        fileName = \"h\" + firsr_part + second_part + \".zip\"\n",
    "        file_path =  href + fileName\n",
    "        # print (file_path)\n",
    "        r = requests.get(file_path, allow_redirects=True)\n",
    "        open(fileName, 'wb').write(r.content)\n",
    "        counter+=1"
   ]
  },
  {
   "cell_type": "code",
   "execution_count": null,
   "id": "db7d5028",
   "metadata": {},
   "outputs": [],
   "source": []
  },
  {
   "cell_type": "code",
   "execution_count": null,
   "id": "687185ac",
   "metadata": {},
   "outputs": [],
   "source": []
  },
  {
   "cell_type": "code",
   "execution_count": null,
   "id": "8ef502c5",
   "metadata": {},
   "outputs": [],
   "source": []
  },
  {
   "cell_type": "code",
   "execution_count": null,
   "id": "64d30ece",
   "metadata": {},
   "outputs": [],
   "source": []
  },
  {
   "cell_type": "code",
   "execution_count": null,
   "id": "a75cb902",
   "metadata": {},
   "outputs": [],
   "source": []
  },
  {
   "cell_type": "code",
   "execution_count": null,
   "id": "5b4ba1da",
   "metadata": {},
   "outputs": [],
   "source": []
  }
 ],
 "metadata": {
  "kernelspec": {
   "display_name": "Python 3 (ipykernel)",
   "language": "python",
   "name": "python3"
  },
  "language_info": {
   "codemirror_mode": {
    "name": "ipython",
    "version": 3
   },
   "file_extension": ".py",
   "mimetype": "text/x-python",
   "name": "python",
   "nbconvert_exporter": "python",
   "pygments_lexer": "ipython3",
   "version": "3.9.12"
  }
 },
 "nbformat": 4,
 "nbformat_minor": 5
}
