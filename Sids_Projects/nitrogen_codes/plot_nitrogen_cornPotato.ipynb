{
 "cells": [
  {
   "cell_type": "code",
   "execution_count": null,
   "id": "26e084de",
   "metadata": {},
   "outputs": [],
   "source": []
  },
  {
   "cell_type": "code",
   "execution_count": 1,
   "id": "e5505e72",
   "metadata": {},
   "outputs": [],
   "source": [
    "import numpy as np\n",
    "import pandas as pd\n",
    "import scipy, scipy.signal\n",
    "\n",
    "from datetime import date\n",
    "import time\n",
    "\n",
    "from random import seed\n",
    "from random import random\n",
    "import random\n",
    "import os, os.path\n",
    "import shutil\n",
    "\n",
    "from sklearn.model_selection import train_test_split\n",
    "from sklearn.linear_model import LogisticRegression\n",
    "\n",
    "from sklearn.neighbors import KNeighborsClassifier\n",
    "from sklearn.model_selection import GridSearchCV\n",
    "from sklearn.metrics import classification_report\n",
    "\n",
    "import matplotlib\n",
    "import matplotlib.pyplot as plt\n",
    "from pylab import imshow\n",
    "\n",
    "import h5py\n",
    "import sys\n",
    "sys.path.append('/Users/hn/Documents/00_GitHub/Ag/NASA/Python_codes/')\n",
    "sys.path.append(\"C:\\\\Users\\\\kirti\\\\Documents\\\\NASA_Codes\\\\Python_codes\\\\\")\n",
    "import NASA_core as nc\n",
    "# import NASA_plot_core.py as rcp"
   ]
  },
  {
   "cell_type": "code",
   "execution_count": 90,
   "id": "d373d8f6",
   "metadata": {},
   "outputs": [],
   "source": [
    "data_dir = \"C:\\\\Users\\\\kirti\\\\Documents\\\\Nitrogen_data\\\\\"\n",
    "\n",
    "fName=\"Corn_Potato_Sent_2020-01-01_2021-01-01.csv\"\n",
    "potatpCornRed = pd.read_csv(data_dir + fName)\n",
    "\n",
    "meta=pd.read_csv(data_dir + \"corn_potato_data2020.csv\")"
   ]
  },
  {
   "cell_type": "code",
   "execution_count": 91,
   "id": "5508d4c7",
   "metadata": {},
   "outputs": [
    {
     "data": {
      "text/html": [
       "<div>\n",
       "<style scoped>\n",
       "    .dataframe tbody tr th:only-of-type {\n",
       "        vertical-align: middle;\n",
       "    }\n",
       "\n",
       "    .dataframe tbody tr th {\n",
       "        vertical-align: top;\n",
       "    }\n",
       "\n",
       "    .dataframe thead th {\n",
       "        text-align: right;\n",
       "    }\n",
       "</style>\n",
       "<table border=\"1\" class=\"dataframe\">\n",
       "  <thead>\n",
       "    <tr style=\"text-align: right;\">\n",
       "      <th></th>\n",
       "      <th>ID</th>\n",
       "      <th>CropTyp</th>\n",
       "      <th>CIRed</th>\n",
       "      <th>system_start_time</th>\n",
       "    </tr>\n",
       "  </thead>\n",
       "  <tbody>\n",
       "    <tr>\n",
       "      <th>0</th>\n",
       "      <td>6851_WSDA_SF_2020</td>\n",
       "      <td>Potato</td>\n",
       "      <td>NaN</td>\n",
       "      <td>NaN</td>\n",
       "    </tr>\n",
       "    <tr>\n",
       "      <th>1</th>\n",
       "      <td>10252_WSDA_SF_2020</td>\n",
       "      <td>Potato</td>\n",
       "      <td>NaN</td>\n",
       "      <td>NaN</td>\n",
       "    </tr>\n",
       "  </tbody>\n",
       "</table>\n",
       "</div>"
      ],
      "text/plain": [
       "                   ID CropTyp  CIRed  system_start_time\n",
       "0   6851_WSDA_SF_2020  Potato    NaN                NaN\n",
       "1  10252_WSDA_SF_2020  Potato    NaN                NaN"
      ]
     },
     "execution_count": 91,
     "metadata": {},
     "output_type": "execute_result"
    }
   ],
   "source": [
    "potatpCornRed.head(2)"
   ]
  },
  {
   "cell_type": "code",
   "execution_count": 92,
   "id": "bbb62681",
   "metadata": {},
   "outputs": [],
   "source": [
    "potatpCornRed.dropna(subset=['CIRed'], inplace=True)"
   ]
  },
  {
   "cell_type": "code",
   "execution_count": 93,
   "id": "1d644a27",
   "metadata": {},
   "outputs": [
    {
     "data": {
      "text/plain": [
       "array(['Potato', 'Corn, Field', 'Corn, Sweet', 'Potato Seed', 'Corn Seed'],\n",
       "      dtype=object)"
      ]
     },
     "execution_count": 93,
     "metadata": {},
     "output_type": "execute_result"
    }
   ],
   "source": [
    "potatpCornRed.CropTyp.unique()"
   ]
  },
  {
   "cell_type": "code",
   "execution_count": 94,
   "id": "0e81075d",
   "metadata": {},
   "outputs": [],
   "source": [
    "potato = potatpCornRed[potatpCornRed.CropTyp.isin([\"Potato Seed\", \"Potato\"])].copy()\n",
    "corn = potatpCornRed[potatpCornRed.CropTyp.isin(['Corn, Field', 'Corn, Sweet', 'Corn Seed'])].copy()\n",
    "\n",
    "potato.reset_index(drop=True, inplace=True)\n",
    "corn.reset_index(drop=True, inplace=True)"
   ]
  },
  {
   "cell_type": "code",
   "execution_count": 95,
   "id": "4d3159cb",
   "metadata": {},
   "outputs": [],
   "source": [
    "corn[\"chl\"] =corn[\"CIRed\"]* 6.68\n",
    "potato.loc[:, 'chl'] = potato.loc[:, 'CIRed']*0.8013\n",
    "\n",
    "corn[\"chl\"] =corn[\"chl\"]-0.67\n",
    "potato.loc[:, 'chl'] = potato.loc[:, 'chl']-0.4704\n",
    "\n",
    "corn_potato = pd.concat([corn, potato])\n",
    "corn_potato.reset_index(drop=True, inplace=True)"
   ]
  },
  {
   "cell_type": "code",
   "execution_count": 96,
   "id": "3b8dc7fd",
   "metadata": {},
   "outputs": [
    {
     "data": {
      "text/html": [
       "<div>\n",
       "<style scoped>\n",
       "    .dataframe tbody tr th:only-of-type {\n",
       "        vertical-align: middle;\n",
       "    }\n",
       "\n",
       "    .dataframe tbody tr th {\n",
       "        vertical-align: top;\n",
       "    }\n",
       "\n",
       "    .dataframe thead th {\n",
       "        text-align: right;\n",
       "    }\n",
       "</style>\n",
       "<table border=\"1\" class=\"dataframe\">\n",
       "  <thead>\n",
       "    <tr style=\"text-align: right;\">\n",
       "      <th></th>\n",
       "      <th>ID</th>\n",
       "      <th>CropTyp</th>\n",
       "      <th>CIRed</th>\n",
       "      <th>system_start_time</th>\n",
       "      <th>chl</th>\n",
       "      <th>nit</th>\n",
       "    </tr>\n",
       "  </thead>\n",
       "  <tbody>\n",
       "    <tr>\n",
       "      <th>0</th>\n",
       "      <td>210692_WSDA_SF_2020</td>\n",
       "      <td>Corn, Field</td>\n",
       "      <td>0.093239</td>\n",
       "      <td>1.577906e+12</td>\n",
       "      <td>-0.047166</td>\n",
       "      <td>0.046906</td>\n",
       "    </tr>\n",
       "    <tr>\n",
       "      <th>1</th>\n",
       "      <td>210693_WSDA_SF_2020</td>\n",
       "      <td>Corn, Field</td>\n",
       "      <td>0.084038</td>\n",
       "      <td>1.577906e+12</td>\n",
       "      <td>-0.108629</td>\n",
       "      <td>-0.243814</td>\n",
       "    </tr>\n",
       "  </tbody>\n",
       "</table>\n",
       "</div>"
      ],
      "text/plain": [
       "                    ID      CropTyp     CIRed  system_start_time       chl  \\\n",
       "0  210692_WSDA_SF_2020  Corn, Field  0.093239       1.577906e+12 -0.047166   \n",
       "1  210693_WSDA_SF_2020  Corn, Field  0.084038       1.577906e+12 -0.108629   \n",
       "\n",
       "        nit  \n",
       "0  0.046906  \n",
       "1 -0.243814  "
      ]
     },
     "execution_count": 96,
     "metadata": {},
     "output_type": "execute_result"
    }
   ],
   "source": [
    "corn_potato[\"nit\"] = corn_potato[\"chl\"]*4.73+0.27\n",
    "corn_potato.head(2)"
   ]
  },
  {
   "cell_type": "code",
   "execution_count": 97,
   "id": "9512c44c",
   "metadata": {},
   "outputs": [
    {
     "data": {
      "text/html": [
       "<div>\n",
       "<style scoped>\n",
       "    .dataframe tbody tr th:only-of-type {\n",
       "        vertical-align: middle;\n",
       "    }\n",
       "\n",
       "    .dataframe tbody tr th {\n",
       "        vertical-align: top;\n",
       "    }\n",
       "\n",
       "    .dataframe thead th {\n",
       "        text-align: right;\n",
       "    }\n",
       "</style>\n",
       "<table border=\"1\" class=\"dataframe\">\n",
       "  <thead>\n",
       "    <tr style=\"text-align: right;\">\n",
       "      <th></th>\n",
       "      <th>ID</th>\n",
       "      <th>CropTyp</th>\n",
       "      <th>CIRed</th>\n",
       "      <th>system_start_time</th>\n",
       "      <th>chl</th>\n",
       "      <th>nit</th>\n",
       "      <th>human_system_start_time</th>\n",
       "    </tr>\n",
       "  </thead>\n",
       "  <tbody>\n",
       "    <tr>\n",
       "      <th>0</th>\n",
       "      <td>210692_WSDA_SF_2020</td>\n",
       "      <td>Corn, Field</td>\n",
       "      <td>0.093239</td>\n",
       "      <td>1.577906e+12</td>\n",
       "      <td>-0.047166</td>\n",
       "      <td>0.046906</td>\n",
       "      <td>2020-01-01</td>\n",
       "    </tr>\n",
       "    <tr>\n",
       "      <th>1</th>\n",
       "      <td>210693_WSDA_SF_2020</td>\n",
       "      <td>Corn, Field</td>\n",
       "      <td>0.084038</td>\n",
       "      <td>1.577906e+12</td>\n",
       "      <td>-0.108629</td>\n",
       "      <td>-0.243814</td>\n",
       "      <td>2020-01-01</td>\n",
       "    </tr>\n",
       "  </tbody>\n",
       "</table>\n",
       "</div>"
      ],
      "text/plain": [
       "                    ID      CropTyp     CIRed  system_start_time       chl  \\\n",
       "0  210692_WSDA_SF_2020  Corn, Field  0.093239       1.577906e+12 -0.047166   \n",
       "1  210693_WSDA_SF_2020  Corn, Field  0.084038       1.577906e+12 -0.108629   \n",
       "\n",
       "        nit human_system_start_time  \n",
       "0  0.046906              2020-01-01  \n",
       "1 -0.243814              2020-01-01  "
      ]
     },
     "execution_count": 97,
     "metadata": {},
     "output_type": "execute_result"
    }
   ],
   "source": [
    "corn_potato = nc.add_human_start_time_by_system_start_time(corn_potato)\n",
    "corn_potato.head(2)"
   ]
  },
  {
   "cell_type": "code",
   "execution_count": 103,
   "id": "fb0aac00",
   "metadata": {},
   "outputs": [],
   "source": [
    "potato_nit_min=corn_potato[corn_potato.CropTyp.isin([\"Potato Seed\", \"Potato\"])].nit.min()\n",
    "potato_nit_max=corn_potato[corn_potato.CropTyp.isin([\"Potato Seed\", \"Potato\"])].nit.max()\n",
    "\n",
    "corn_nit_min=corn_potato[~corn_potato.CropTyp.isin([\"Potato Seed\", \"Potato\"])].nit.min()\n",
    "corn_nit_max=corn_potato[~corn_potato.CropTyp.isin([\"Potato Seed\", \"Potato\"])].nit.max()\n",
    "\n",
    "\n",
    "IDs=corn_potato.ID.unique()"
   ]
  },
  {
   "cell_type": "code",
   "execution_count": 119,
   "id": "4fd3c9bb",
   "metadata": {},
   "outputs": [
    {
     "name": "stderr",
     "output_type": "stream",
     "text": [
      "findfont: Font family ['Palatino'] not found. Falling back to DejaVu Sans.\n",
      "findfont: Font family ['Palatino'] not found. Falling back to DejaVu Sans.\n",
      "findfont: Font family ['Palatino'] not found. Falling back to DejaVu Sans.\n"
     ]
    },
    {
     "data": {
      "image/png": "[encoded data removed]",
      "text/plain": [
       "<Figure size 1080x288 with 1 Axes>"
      ]
     },
     "metadata": {
      "needs_background": "light"
     },
     "output_type": "display_data"
    }
   ],
   "source": [
    "size = 20\n",
    "title_FontSize = 10\n",
    "legend_FontSize = 14\n",
    "tick_FontSize = 18\n",
    "label_FontSize = 14\n",
    "\n",
    "params = {'legend.fontsize': 17,\n",
    "          'figure.figsize': (6, 4),\n",
    "          'axes.labelsize': size,\n",
    "          'axes.titlesize': size,\n",
    "          'xtick.labelsize': size * 0.75,\n",
    "          'ytick.labelsize': size * 0.75,\n",
    "          'axes.titlepad': 10}\n",
    "\n",
    "#\n",
    "#  Once set, you cannot change them, unless restart the notebook\n",
    "#\n",
    "plt.rc('font', family = 'Palatino')\n",
    "plt.rcParams['xtick.bottom'] = True\n",
    "plt.rcParams['ytick.left'] = True\n",
    "plt.rcParams['xtick.labelbottom'] = True\n",
    "plt.rcParams['ytick.labelleft'] = True\n",
    "plt.rcParams.update(params)\n",
    "\n",
    "def plot_oneColumn_CropTitle_scatter(raw_dt, ax, titlee, idx=\"NDVI\", \n",
    "                                     _label = \"raw\", _color=\"red\", \n",
    "                                     _marker_shape=\"+\",\n",
    "                                     marker_size=60, y_min=-1, y_max=1):\n",
    "\n",
    "    ax.plot(raw_dt['human_system_start_time'], raw_dt[idx], c=_color, linewidth=2,\n",
    "                label=_label);\n",
    "\n",
    "    ax.set_title(titlee)\n",
    "    ax.set_ylabel(idx, fontsize=20) # , labelpad=20); # fontsize = label_FontSize,\n",
    "    ax.tick_params(axis='y', which='major') #, labelsize = tick_FontSize)\n",
    "    ax.tick_params(axis='x', which='major') #, labelsize = tick_FontSize) # \n",
    "    ax.legend(loc=\"upper right\");\n",
    "    # plt.yticks(np.arange(0, 1, 0.2))\n",
    "    # ax.xaxis.set_major_locator(mdates.YearLocator(1))\n",
    "    ax.set_ylim(y_min-0.1, y_max+0.1)\n",
    "\n",
    "    \n",
    "\n",
    "\n",
    "indeks=\"nit\"\n",
    "\n",
    "curr = corn_potato[corn_potato.ID == _id].copy()\n",
    "curr.sort_values(by='human_system_start_time', axis=0, ascending=True, inplace=True)\n",
    "curr_meta = meta[meta.ID==_id]\n",
    "titlee = \" \".join(curr_meta.CropTyp.unique()[0].split(\", \")[::-1])\n",
    "\n",
    "fig, axs = plt.subplots(1, 1, figsize=(15, 4), sharex=False, sharey='col', # sharex=True, sharey=True,\n",
    "                       gridspec_kw={'hspace': 0.35, 'wspace': .05});\n",
    "axs.grid(True);\n",
    "plot_oneColumn_CropTitle_scatter(raw_dt = curr, ax=axs, idx=indeks, titlee=titlee,\n",
    "                                 _label = \"Canopy N\", marker_size=40,\n",
    "                                 _color=\"dodgerblue\", \n",
    "                                 _marker_shape=style_dict[\"landsat\"],\n",
    "                                y_min=corn_nit_min, y_max=corn_nit_max)"
   ]
  },
  {
   "cell_type": "code",
   "execution_count": 129,
   "id": "4bab5453",
   "metadata": {},
   "outputs": [
    {
     "data": {
      "text/plain": [
       "array(['Clallam'], dtype=object)"
      ]
     },
     "execution_count": 129,
     "metadata": {},
     "output_type": "execute_result"
    }
   ],
   "source": []
  },
  {
   "cell_type": "code",
   "execution_count": null,
   "id": "1eb113e1",
   "metadata": {},
   "outputs": [],
   "source": []
  }
 ],
 "metadata": {
  "kernelspec": {
   "display_name": "Python 3 (ipykernel)",
   "language": "python",
   "name": "python3"
  },
  "language_info": {
   "codemirror_mode": {
    "name": "ipython",
    "version": 3
   },
   "file_extension": ".py",
   "mimetype": "text/x-python",
   "name": "python",
   "nbconvert_exporter": "python",
   "pygments_lexer": "ipython3",
   "version": "3.9.12"
  }
 },
 "nbformat": 4,
 "nbformat_minor": 5
}
