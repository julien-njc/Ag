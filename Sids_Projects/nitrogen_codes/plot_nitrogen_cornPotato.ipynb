{
 "cells": [
  {
   "cell_type": "code",
   "execution_count": 1,
   "id": "e5505e72",
   "metadata": {},
   "outputs": [],
   "source": [
    "import numpy as np\n",
    "import pandas as pd\n",
    "import scipy, scipy.signal\n",
    "\n",
    "from datetime import date\n",
    "import time\n",
    "\n",
    "from random import seed\n",
    "from random import random\n",
    "import random\n",
    "import os, os.path\n",
    "import shutil\n",
    "\n",
    "from sklearn.model_selection import train_test_split\n",
    "from sklearn.linear_model import LogisticRegression\n",
    "\n",
    "from sklearn.neighbors import KNeighborsClassifier\n",
    "from sklearn.model_selection import GridSearchCV\n",
    "from sklearn.metrics import classification_report\n",
    "\n",
    "import matplotlib\n",
    "import matplotlib.pyplot as plt\n",
    "from pylab import imshow\n",
    "\n",
    "import h5py\n",
    "import sys\n",
    "sys.path.append('/Users/hn/Documents/00_GitHub/Ag/NASA/Python_codes/')\n",
    "import NASA_core as nc\n",
    "# import NASA_plot_core as rcp"
   ]
  },
  {
   "cell_type": "code",
   "execution_count": 2,
   "id": "d373d8f6",
   "metadata": {},
   "outputs": [],
   "source": [
    "data_dir = \"/Users/hn/Documents/01_research_data/Sid/Nitrogen_data/\"\n",
    "\n",
    "fName=\"Corn_Potato_Sent_2020-01-01_2021-01-01.csv\"\n",
    "potatpCornRed = pd.read_csv(data_dir + fName)\n",
    "\n",
    "meta=pd.read_csv(data_dir + \"corn_potato_data2020.csv\")"
   ]
  },
  {
   "cell_type": "code",
   "execution_count": 3,
   "id": "5508d4c7",
   "metadata": {},
   "outputs": [
    {
     "data": {
      "text/html": [
       "<div>\n",
       "<style scoped>\n",
       "    .dataframe tbody tr th:only-of-type {\n",
       "        vertical-align: middle;\n",
       "    }\n",
       "\n",
       "    .dataframe tbody tr th {\n",
       "        vertical-align: top;\n",
       "    }\n",
       "\n",
       "    .dataframe thead th {\n",
       "        text-align: right;\n",
       "    }\n",
       "</style>\n",
       "<table border=\"1\" class=\"dataframe\">\n",
       "  <thead>\n",
       "    <tr style=\"text-align: right;\">\n",
       "      <th></th>\n",
       "      <th>ID</th>\n",
       "      <th>CropTyp</th>\n",
       "      <th>CIRed</th>\n",
       "      <th>system_start_time</th>\n",
       "    </tr>\n",
       "  </thead>\n",
       "  <tbody>\n",
       "    <tr>\n",
       "      <th>0</th>\n",
       "      <td>6851_WSDA_SF_2020</td>\n",
       "      <td>Potato</td>\n",
       "      <td>NaN</td>\n",
       "      <td>NaN</td>\n",
       "    </tr>\n",
       "    <tr>\n",
       "      <th>1</th>\n",
       "      <td>10252_WSDA_SF_2020</td>\n",
       "      <td>Potato</td>\n",
       "      <td>NaN</td>\n",
       "      <td>NaN</td>\n",
       "    </tr>\n",
       "  </tbody>\n",
       "</table>\n",
       "</div>"
      ],
      "text/plain": [
       "                   ID CropTyp  CIRed  system_start_time\n",
       "0   6851_WSDA_SF_2020  Potato    NaN                NaN\n",
       "1  10252_WSDA_SF_2020  Potato    NaN                NaN"
      ]
     },
     "execution_count": 3,
     "metadata": {},
     "output_type": "execute_result"
    }
   ],
   "source": [
    "potatpCornRed.head(2)"
   ]
  },
  {
   "cell_type": "code",
   "execution_count": 4,
   "id": "bbb62681",
   "metadata": {},
   "outputs": [],
   "source": [
    "potatpCornRed.dropna(subset=['CIRed'], inplace=True)"
   ]
  },
  {
   "cell_type": "code",
   "execution_count": 5,
   "id": "1d644a27",
   "metadata": {},
   "outputs": [
    {
     "data": {
      "text/plain": [
       "array(['Potato', 'Corn, Field', 'Corn, Sweet', 'Potato Seed', 'Corn Seed'],\n",
       "      dtype=object)"
      ]
     },
     "execution_count": 5,
     "metadata": {},
     "output_type": "execute_result"
    }
   ],
   "source": [
    "potatpCornRed.CropTyp.unique()"
   ]
  },
  {
   "cell_type": "code",
   "execution_count": 6,
   "id": "0e81075d",
   "metadata": {},
   "outputs": [],
   "source": [
    "potato = potatpCornRed[potatpCornRed.CropTyp.isin([\"Potato Seed\", \"Potato\"])].copy()\n",
    "corn = potatpCornRed[potatpCornRed.CropTyp.isin(['Corn, Field', 'Corn, Sweet', 'Corn Seed'])].copy()\n",
    "\n",
    "potato.reset_index(drop=True, inplace=True)\n",
    "corn.reset_index(drop=True, inplace=True)"
   ]
  },
  {
   "cell_type": "code",
   "execution_count": 7,
   "id": "4d3159cb",
   "metadata": {},
   "outputs": [],
   "source": [
    "corn[\"chl\"] =corn[\"CIRed\"]* 6.68\n",
    "corn[\"chl\"] =corn[\"chl\"]-0.67\n",
    "\n",
    "potato.loc[:, 'chl'] = potato.loc[:, 'CIRed']*0.8013\n",
    "potato.loc[:, 'chl'] = potato.loc[:, 'chl']-0.4704\n",
    "\n",
    "corn_potato = pd.concat([corn, potato])\n",
    "corn_potato.reset_index(drop=True, inplace=True)"
   ]
  },
  {
   "cell_type": "code",
   "execution_count": 8,
   "id": "3b8dc7fd",
   "metadata": {},
   "outputs": [
    {
     "data": {
      "text/html": [
       "<div>\n",
       "<style scoped>\n",
       "    .dataframe tbody tr th:only-of-type {\n",
       "        vertical-align: middle;\n",
       "    }\n",
       "\n",
       "    .dataframe tbody tr th {\n",
       "        vertical-align: top;\n",
       "    }\n",
       "\n",
       "    .dataframe thead th {\n",
       "        text-align: right;\n",
       "    }\n",
       "</style>\n",
       "<table border=\"1\" class=\"dataframe\">\n",
       "  <thead>\n",
       "    <tr style=\"text-align: right;\">\n",
       "      <th></th>\n",
       "      <th>ID</th>\n",
       "      <th>CropTyp</th>\n",
       "      <th>CIRed</th>\n",
       "      <th>system_start_time</th>\n",
       "      <th>chl</th>\n",
       "      <th>nit</th>\n",
       "    </tr>\n",
       "  </thead>\n",
       "  <tbody>\n",
       "    <tr>\n",
       "      <th>0</th>\n",
       "      <td>210692_WSDA_SF_2020</td>\n",
       "      <td>Corn, Field</td>\n",
       "      <td>0.093239</td>\n",
       "      <td>1.577906e+12</td>\n",
       "      <td>-0.047166</td>\n",
       "      <td>0.046906</td>\n",
       "    </tr>\n",
       "    <tr>\n",
       "      <th>1</th>\n",
       "      <td>210693_WSDA_SF_2020</td>\n",
       "      <td>Corn, Field</td>\n",
       "      <td>0.084038</td>\n",
       "      <td>1.577906e+12</td>\n",
       "      <td>-0.108629</td>\n",
       "      <td>-0.243814</td>\n",
       "    </tr>\n",
       "  </tbody>\n",
       "</table>\n",
       "</div>"
      ],
      "text/plain": [
       "                    ID      CropTyp     CIRed  system_start_time       chl  \\\n",
       "0  210692_WSDA_SF_2020  Corn, Field  0.093239       1.577906e+12 -0.047166   \n",
       "1  210693_WSDA_SF_2020  Corn, Field  0.084038       1.577906e+12 -0.108629   \n",
       "\n",
       "        nit  \n",
       "0  0.046906  \n",
       "1 -0.243814  "
      ]
     },
     "execution_count": 8,
     "metadata": {},
     "output_type": "execute_result"
    }
   ],
   "source": [
    "corn_potato[\"nit\"] = corn_potato[\"chl\"]*4.73+0.27\n",
    "corn_potato.head(2)"
   ]
  },
  {
   "cell_type": "code",
   "execution_count": 9,
   "id": "9512c44c",
   "metadata": {},
   "outputs": [
    {
     "data": {
      "text/html": [
       "<div>\n",
       "<style scoped>\n",
       "    .dataframe tbody tr th:only-of-type {\n",
       "        vertical-align: middle;\n",
       "    }\n",
       "\n",
       "    .dataframe tbody tr th {\n",
       "        vertical-align: top;\n",
       "    }\n",
       "\n",
       "    .dataframe thead th {\n",
       "        text-align: right;\n",
       "    }\n",
       "</style>\n",
       "<table border=\"1\" class=\"dataframe\">\n",
       "  <thead>\n",
       "    <tr style=\"text-align: right;\">\n",
       "      <th></th>\n",
       "      <th>ID</th>\n",
       "      <th>CropTyp</th>\n",
       "      <th>CIRed</th>\n",
       "      <th>system_start_time</th>\n",
       "      <th>chl</th>\n",
       "      <th>nit</th>\n",
       "      <th>human_system_start_time</th>\n",
       "    </tr>\n",
       "  </thead>\n",
       "  <tbody>\n",
       "    <tr>\n",
       "      <th>0</th>\n",
       "      <td>210692_WSDA_SF_2020</td>\n",
       "      <td>Corn, Field</td>\n",
       "      <td>0.093239</td>\n",
       "      <td>1.577906e+12</td>\n",
       "      <td>-0.047166</td>\n",
       "      <td>0.046906</td>\n",
       "      <td>2020-01-01</td>\n",
       "    </tr>\n",
       "    <tr>\n",
       "      <th>1</th>\n",
       "      <td>210693_WSDA_SF_2020</td>\n",
       "      <td>Corn, Field</td>\n",
       "      <td>0.084038</td>\n",
       "      <td>1.577906e+12</td>\n",
       "      <td>-0.108629</td>\n",
       "      <td>-0.243814</td>\n",
       "      <td>2020-01-01</td>\n",
       "    </tr>\n",
       "  </tbody>\n",
       "</table>\n",
       "</div>"
      ],
      "text/plain": [
       "                    ID      CropTyp     CIRed  system_start_time       chl  \\\n",
       "0  210692_WSDA_SF_2020  Corn, Field  0.093239       1.577906e+12 -0.047166   \n",
       "1  210693_WSDA_SF_2020  Corn, Field  0.084038       1.577906e+12 -0.108629   \n",
       "\n",
       "        nit human_system_start_time  \n",
       "0  0.046906              2020-01-01  \n",
       "1 -0.243814              2020-01-01  "
      ]
     },
     "execution_count": 9,
     "metadata": {},
     "output_type": "execute_result"
    }
   ],
   "source": [
    "corn_potato = nc.add_human_start_time_by_system_start_time(corn_potato)\n",
    "corn_potato.head(2)"
   ]
  },
  {
   "cell_type": "code",
   "execution_count": 10,
   "id": "2cd4ccad",
   "metadata": {},
   "outputs": [],
   "source": [
    "###### Round the damn numbers\n",
    "corn_potato=corn_potato.round(1)"
   ]
  },
  {
   "cell_type": "code",
   "execution_count": null,
   "id": "98135f53",
   "metadata": {},
   "outputs": [],
   "source": []
  },
  {
   "cell_type": "code",
   "execution_count": 11,
   "id": "fb0aac00",
   "metadata": {},
   "outputs": [],
   "source": [
    "potato_nit_min=corn_potato[corn_potato.CropTyp.isin([\"Potato Seed\", \"Potato\"])].nit.min()\n",
    "potato_nit_max=corn_potato[corn_potato.CropTyp.isin([\"Potato Seed\", \"Potato\"])].nit.max()\n",
    "\n",
    "corn_nit_min=corn_potato[~corn_potato.CropTyp.isin([\"Potato Seed\", \"Potato\"])].nit.min()\n",
    "corn_nit_max=corn_potato[~corn_potato.CropTyp.isin([\"Potato Seed\", \"Potato\"])].nit.max()\n",
    "\n",
    "\n",
    "IDs=corn_potato.ID.unique()"
   ]
  },
  {
   "cell_type": "code",
   "execution_count": 12,
   "id": "28d29fd3",
   "metadata": {},
   "outputs": [],
   "source": [
    "_id=IDs[0]"
   ]
  },
  {
   "cell_type": "code",
   "execution_count": 13,
   "id": "d644778c",
   "metadata": {},
   "outputs": [],
   "source": [
    "def plot_oneColumn_CropTitle_scatter(raw_dt, ax, titlee, idx=\"NDVI\", \n",
    "                                     _label = \"raw\", _color=\"red\", \n",
    "                                     y_min=-1, y_max=1):\n",
    "\n",
    "    ax.plot(raw_dt['human_system_start_time'], raw_dt[idx], c=_color, linewidth=2,\n",
    "                label=_label);\n",
    "\n",
    "    ax.set_title(titlee)\n",
    "    ax.set_ylabel(idx, fontsize=20) # , labelpad=20); # fontsize = label_FontSize,\n",
    "    ax.tick_params(axis='y', which='major') #, labelsize = tick_FontSize)\n",
    "    ax.tick_params(axis='x', which='major') #, labelsize = tick_FontSize) # \n",
    "    ax.legend(loc=\"upper right\");\n",
    "    # plt.yticks(np.arange(0, 1, 0.2))\n",
    "    # ax.xaxis.set_major_locator(mdates.YearLocator(1))\n",
    "    ax.set_ylim(y_min-0.1, y_max+0.1)"
   ]
  },
  {
   "cell_type": "code",
   "execution_count": 14,
   "id": "4fd3c9bb",
   "metadata": {},
   "outputs": [
    {
     "data": {
      "image/png": "[encoded data removed]",
      "text/plain": [
       "<Figure size 1080x288 with 1 Axes>"
      ]
     },
     "metadata": {
      "needs_background": "light"
     },
     "output_type": "display_data"
    }
   ],
   "source": [
    "size = 20\n",
    "title_FontSize = 10\n",
    "legend_FontSize = 14\n",
    "tick_FontSize = 18\n",
    "label_FontSize = 14\n",
    "\n",
    "params = {'legend.fontsize': 17,\n",
    "          'figure.figsize': (6, 4),\n",
    "          'axes.labelsize': size,\n",
    "          'axes.titlesize': size,\n",
    "          'xtick.labelsize': size * 0.75,\n",
    "          'ytick.labelsize': size * 0.75,\n",
    "          'axes.titlepad': 10}\n",
    "\n",
    "#\n",
    "#  Once set, you cannot change them, unless restart the notebook\n",
    "#\n",
    "plt.rc('font', family = 'Palatino')\n",
    "plt.rcParams['xtick.bottom'] = True\n",
    "plt.rcParams['ytick.left'] = True\n",
    "plt.rcParams['xtick.labelbottom'] = True\n",
    "plt.rcParams['ytick.labelleft'] = True\n",
    "plt.rcParams.update(params)\n",
    "\n",
    "def plot_oneColumn_CropTitle_scatter(raw_dt, ax, titlee, idx=\"NDVI\", \n",
    "                                     _label = \"raw\", _color=\"red\", \n",
    "                                     _marker_shape=\"+\",\n",
    "                                     marker_size=60, y_min=-1, y_max=1):\n",
    "\n",
    "    ax.plot(raw_dt['human_system_start_time'], raw_dt[idx], c=_color, linewidth=2,\n",
    "                label=_label);\n",
    "\n",
    "    ax.set_title(titlee)\n",
    "    ax.set_ylabel(idx, fontsize=20) # , labelpad=20); # fontsize = label_FontSize,\n",
    "    ax.tick_params(axis='y', which='major') #, labelsize = tick_FontSize)\n",
    "    ax.tick_params(axis='x', which='major') #, labelsize = tick_FontSize) # \n",
    "    ax.legend(loc=\"upper right\");\n",
    "    # plt.yticks(np.arange(0, 1, 0.2))\n",
    "    # ax.xaxis.set_major_locator(mdates.YearLocator(1))\n",
    "    ax.set_ylim(y_min-0.1, y_max+0.1)\n",
    "\n",
    "    \n",
    "\n",
    "\n",
    "indeks=\"nit\"\n",
    "\n",
    "curr = corn_potato[corn_potato.ID == _id].copy()\n",
    "curr.sort_values(by='human_system_start_time', axis=0, ascending=True, inplace=True)\n",
    "curr_meta = meta[meta.ID==_id]\n",
    "titlee = \" \".join(curr_meta.CropTyp.unique()[0].split(\", \")[::-1])\n",
    "\n",
    "fig, axs = plt.subplots(1, 1, figsize=(15, 4), sharex=False, sharey='col', # sharex=True, sharey=True,\n",
    "                       gridspec_kw={'hspace': 0.35, 'wspace': .05});\n",
    "axs.grid(True);\n",
    "plot_oneColumn_CropTitle_scatter(raw_dt = curr, ax=axs, idx=indeks, titlee=titlee,\n",
    "                                 _label = \"Canopy N\", marker_size=40,\n",
    "                                 _color=\"dodgerblue\",\n",
    "                                y_min=corn_nit_min, y_max=corn_nit_max)"
   ]
  },
  {
   "cell_type": "code",
   "execution_count": 15,
   "id": "4bab5453",
   "metadata": {},
   "outputs": [
    {
     "data": {
      "text/plain": [
       "array(['Corn, Field', 'Corn, Sweet', 'Corn Seed', 'Potato', 'Potato Seed'],\n",
       "      dtype=object)"
      ]
     },
     "execution_count": 15,
     "metadata": {},
     "output_type": "execute_result"
    }
   ],
   "source": [
    "corn_potato.CropTyp.unique()"
   ]
  },
  {
   "cell_type": "code",
   "execution_count": 16,
   "id": "1eb113e1",
   "metadata": {},
   "outputs": [
    {
     "name": "stdout",
     "output_type": "stream",
     "text": [
      "-14.8\n",
      "47.4\n"
     ]
    }
   ],
   "source": [
    "A = corn_potato[corn_potato.CropTyp=='Corn, Field']\n",
    "print (A.nit.min())\n",
    "print (A.nit.max())"
   ]
  },
  {
   "cell_type": "code",
   "execution_count": 17,
   "id": "2fe5b1cc",
   "metadata": {},
   "outputs": [
    {
     "name": "stdout",
     "output_type": "stream",
     "text": [
      "-11.8\n",
      "21.6\n"
     ]
    }
   ],
   "source": [
    "A = corn_potato[corn_potato.CropTyp=='Corn, Sweet']\n",
    "print (A.nit.min())\n",
    "print (A.nit.max())"
   ]
  },
  {
   "cell_type": "code",
   "execution_count": 18,
   "id": "887900e6",
   "metadata": {},
   "outputs": [
    {
     "name": "stdout",
     "output_type": "stream",
     "text": [
      "-6.0\n",
      "8.4\n"
     ]
    }
   ],
   "source": [
    "A = corn_potato[corn_potato.CropTyp=='Corn Seed']\n",
    "print (A.nit.min())\n",
    "print (A.nit.max())"
   ]
  },
  {
   "cell_type": "code",
   "execution_count": 19,
   "id": "7e090e70",
   "metadata": {},
   "outputs": [
    {
     "name": "stdout",
     "output_type": "stream",
     "text": [
      "-3.4\n",
      "2.3\n"
     ]
    }
   ],
   "source": [
    "A = corn_potato[corn_potato.CropTyp=='Potato']\n",
    "print (A.nit.min())\n",
    "print (A.nit.max())"
   ]
  },
  {
   "cell_type": "code",
   "execution_count": 20,
   "id": "251ee4a4",
   "metadata": {},
   "outputs": [
    {
     "name": "stdout",
     "output_type": "stream",
     "text": [
      "-2.2\n",
      "-0.8\n"
     ]
    }
   ],
   "source": [
    "A = corn_potato[corn_potato.CropTyp=='Potato Seed']\n",
    "print (A.nit.min())\n",
    "print (A.nit.max())"
   ]
  },
  {
   "cell_type": "code",
   "execution_count": 21,
   "id": "db992e6b",
   "metadata": {},
   "outputs": [
    {
     "name": "stdout",
     "output_type": "stream",
     "text": [
      "[47.4, 31.3, 29.5, 28.3, 23.2, 23.2, 23.1, 22.8, 22.5, 22.4]\n"
     ]
    }
   ],
   "source": [
    "print (sorted(corn_potato[corn_potato.CropTyp=='Corn, Field'].nit)[::-1][:10])"
   ]
  },
  {
   "cell_type": "code",
   "execution_count": 22,
   "id": "94b76efd",
   "metadata": {},
   "outputs": [
    {
     "data": {
      "text/html": [
       "<div>\n",
       "<style scoped>\n",
       "    .dataframe tbody tr th:only-of-type {\n",
       "        vertical-align: middle;\n",
       "    }\n",
       "\n",
       "    .dataframe tbody tr th {\n",
       "        vertical-align: top;\n",
       "    }\n",
       "\n",
       "    .dataframe thead th {\n",
       "        text-align: right;\n",
       "    }\n",
       "</style>\n",
       "<table border=\"1\" class=\"dataframe\">\n",
       "  <thead>\n",
       "    <tr style=\"text-align: right;\">\n",
       "      <th></th>\n",
       "      <th>ID</th>\n",
       "      <th>OBJECTID</th>\n",
       "      <th>CropTyp</th>\n",
       "      <th>Acres</th>\n",
       "      <th>Irrigtn</th>\n",
       "      <th>InitialSur</th>\n",
       "      <th>LstSrvD</th>\n",
       "      <th>DataSource</th>\n",
       "      <th>Notes</th>\n",
       "      <th>TRS</th>\n",
       "      <th>county</th>\n",
       "      <th>RotationCr</th>\n",
       "      <th>CoverCrop</th>\n",
       "      <th>ExactAcres</th>\n",
       "      <th>CropGroup</th>\n",
       "      <th>SHAPE_Leng</th>\n",
       "      <th>SHAPE_Area</th>\n",
       "    </tr>\n",
       "  </thead>\n",
       "  <tbody>\n",
       "    <tr>\n",
       "      <th>2296</th>\n",
       "      <td>87497_WSDA_SF_2020</td>\n",
       "      <td>87497</td>\n",
       "      <td>Corn, Field</td>\n",
       "      <td>8</td>\n",
       "      <td>center pivot</td>\n",
       "      <td>2003/07/01</td>\n",
       "      <td>2020/08/18</td>\n",
       "      <td>WSDA</td>\n",
       "      <td>NaN</td>\n",
       "      <td>T20R23E36</td>\n",
       "      <td>Grant</td>\n",
       "      <td>Alfalfa Hay</td>\n",
       "      <td>NaN</td>\n",
       "      <td>7.710204</td>\n",
       "      <td>Cereal Grain</td>\n",
       "      <td>913.718021</td>\n",
       "      <td>31202.087992</td>\n",
       "    </tr>\n",
       "  </tbody>\n",
       "</table>\n",
       "</div>"
      ],
      "text/plain": [
       "                      ID  OBJECTID      CropTyp  Acres       Irrigtn  \\\n",
       "2296  87497_WSDA_SF_2020     87497  Corn, Field      8  center pivot   \n",
       "\n",
       "      InitialSur     LstSrvD DataSource Notes        TRS county   RotationCr  \\\n",
       "2296  2003/07/01  2020/08/18       WSDA   NaN  T20R23E36  Grant  Alfalfa Hay   \n",
       "\n",
       "     CoverCrop  ExactAcres     CropGroup  SHAPE_Leng    SHAPE_Area  \n",
       "2296       NaN    7.710204  Cereal Grain  913.718021  31202.087992  "
      ]
     },
     "execution_count": 22,
     "metadata": {},
     "output_type": "execute_result"
    }
   ],
   "source": [
    "field_corn = corn_potato[corn_potato.CropTyp=='Corn, Field'].copy()\n",
    "field_corn.sort_values(by=['nit'], inplace=True, ascending=False)\n",
    "field_corn.reset_index(drop=True, inplace=True)\n",
    "\n",
    "meta[meta.ID==field_corn.ID[0]]"
   ]
  },
  {
   "cell_type": "code",
   "execution_count": 23,
   "id": "23d7ebf0",
   "metadata": {},
   "outputs": [
    {
     "data": {
      "text/plain": [
       "CropTyp\n",
       "Corn Seed         6\n",
       "Corn, Field    1859\n",
       "Corn, Sweet     686\n",
       "Potato         1104\n",
       "Potato Seed       4\n",
       "Name: ID, dtype: int64"
      ]
     },
     "execution_count": 23,
     "metadata": {},
     "output_type": "execute_result"
    }
   ],
   "source": [
    "corn_potato.groupby(['CropTyp'])['ID'].nunique()"
   ]
  },
  {
   "cell_type": "code",
   "execution_count": 24,
   "id": "4cccd238",
   "metadata": {},
   "outputs": [
    {
     "data": {
      "text/plain": [
       "array(['119975_WSDA_SF_2020', '120667_WSDA_SF_2020',\n",
       "       '122029_WSDA_SF_2020', '122075_WSDA_SF_2020'], dtype=object)"
      ]
     },
     "execution_count": 24,
     "metadata": {},
     "output_type": "execute_result"
    }
   ],
   "source": [
    "corn_potato[corn_potato.CropTyp==\"Potato Seed\"].ID.unique()"
   ]
  },
  {
   "cell_type": "code",
   "execution_count": 25,
   "id": "2a546fd1",
   "metadata": {},
   "outputs": [
    {
     "data": {
      "text/html": [
       "<div>\n",
       "<style scoped>\n",
       "    .dataframe tbody tr th:only-of-type {\n",
       "        vertical-align: middle;\n",
       "    }\n",
       "\n",
       "    .dataframe tbody tr th {\n",
       "        vertical-align: top;\n",
       "    }\n",
       "\n",
       "    .dataframe thead th {\n",
       "        text-align: right;\n",
       "    }\n",
       "</style>\n",
       "<table border=\"1\" class=\"dataframe\">\n",
       "  <thead>\n",
       "    <tr style=\"text-align: right;\">\n",
       "      <th></th>\n",
       "      <th>ID</th>\n",
       "      <th>OBJECTID</th>\n",
       "      <th>CropTyp</th>\n",
       "      <th>Acres</th>\n",
       "      <th>Irrigtn</th>\n",
       "      <th>InitialSur</th>\n",
       "      <th>LstSrvD</th>\n",
       "      <th>DataSource</th>\n",
       "      <th>Notes</th>\n",
       "      <th>TRS</th>\n",
       "      <th>county</th>\n",
       "      <th>RotationCr</th>\n",
       "      <th>CoverCrop</th>\n",
       "      <th>ExactAcres</th>\n",
       "      <th>CropGroup</th>\n",
       "      <th>SHAPE_Leng</th>\n",
       "      <th>SHAPE_Area</th>\n",
       "    </tr>\n",
       "  </thead>\n",
       "  <tbody>\n",
       "    <tr>\n",
       "      <th>3054</th>\n",
       "      <td>68064_WSDA_SF_2020</td>\n",
       "      <td>68064</td>\n",
       "      <td>Potato</td>\n",
       "      <td>28</td>\n",
       "      <td>center pivot</td>\n",
       "      <td>2003/07/01</td>\n",
       "      <td>2020/12/31</td>\n",
       "      <td>NASS</td>\n",
       "      <td>NaN</td>\n",
       "      <td>T18R28E36</td>\n",
       "      <td>Grant</td>\n",
       "      <td>Corn, Sweet</td>\n",
       "      <td>NaN</td>\n",
       "      <td>28.434663</td>\n",
       "      <td>Vegetable</td>\n",
       "      <td>1374.863474</td>\n",
       "      <td>115070.996978</td>\n",
       "    </tr>\n",
       "  </tbody>\n",
       "</table>\n",
       "</div>"
      ],
      "text/plain": [
       "                      ID  OBJECTID CropTyp  Acres       Irrigtn  InitialSur  \\\n",
       "3054  68064_WSDA_SF_2020     68064  Potato     28  center pivot  2003/07/01   \n",
       "\n",
       "         LstSrvD DataSource Notes        TRS county   RotationCr CoverCrop  \\\n",
       "3054  2020/12/31       NASS   NaN  T18R28E36  Grant  Corn, Sweet       NaN   \n",
       "\n",
       "      ExactAcres  CropGroup   SHAPE_Leng     SHAPE_Area  \n",
       "3054   28.434663  Vegetable  1374.863474  115070.996978  "
      ]
     },
     "execution_count": 25,
     "metadata": {},
     "output_type": "execute_result"
    }
   ],
   "source": [
    "potato = corn_potato[corn_potato.CropTyp=='Potato'].copy()\n",
    "potato.sort_values(by=['nit'], inplace=True, ascending=False)\n",
    "potato.reset_index(drop=True, inplace=True)\n",
    "\n",
    "meta[meta.ID==potato.ID[0]]"
   ]
  },
  {
   "cell_type": "code",
   "execution_count": null,
   "id": "867ce13a",
   "metadata": {},
   "outputs": [],
   "source": []
  },
  {
   "cell_type": "code",
   "execution_count": 26,
   "id": "0e5529ab",
   "metadata": {},
   "outputs": [
    {
     "data": {
      "text/html": [
       "<div>\n",
       "<style scoped>\n",
       "    .dataframe tbody tr th:only-of-type {\n",
       "        vertical-align: middle;\n",
       "    }\n",
       "\n",
       "    .dataframe tbody tr th {\n",
       "        vertical-align: top;\n",
       "    }\n",
       "\n",
       "    .dataframe thead th {\n",
       "        text-align: right;\n",
       "    }\n",
       "</style>\n",
       "<table border=\"1\" class=\"dataframe\">\n",
       "  <thead>\n",
       "    <tr style=\"text-align: right;\">\n",
       "      <th></th>\n",
       "      <th>ID</th>\n",
       "      <th>OBJECTID</th>\n",
       "      <th>CropTyp</th>\n",
       "      <th>Acres</th>\n",
       "      <th>Irrigtn</th>\n",
       "      <th>InitialSur</th>\n",
       "      <th>LstSrvD</th>\n",
       "      <th>DataSource</th>\n",
       "      <th>Notes</th>\n",
       "      <th>TRS</th>\n",
       "      <th>county</th>\n",
       "      <th>RotationCr</th>\n",
       "      <th>CoverCrop</th>\n",
       "      <th>ExactAcres</th>\n",
       "      <th>CropGroup</th>\n",
       "      <th>SHAPE_Leng</th>\n",
       "      <th>SHAPE_Area</th>\n",
       "    </tr>\n",
       "  </thead>\n",
       "  <tbody>\n",
       "    <tr>\n",
       "      <th>1307</th>\n",
       "      <td>72599_WSDA_SF_2020</td>\n",
       "      <td>72599</td>\n",
       "      <td>Corn, Field</td>\n",
       "      <td>16</td>\n",
       "      <td>rill</td>\n",
       "      <td>2003/07/01</td>\n",
       "      <td>2020/12/31</td>\n",
       "      <td>NASS</td>\n",
       "      <td>NaN</td>\n",
       "      <td>T17R30E12</td>\n",
       "      <td>Grant</td>\n",
       "      <td>Alfalfa Hay</td>\n",
       "      <td>NaN</td>\n",
       "      <td>15.8511</td>\n",
       "      <td>Cereal Grain</td>\n",
       "      <td>981.321722</td>\n",
       "      <td>64147.127318</td>\n",
       "    </tr>\n",
       "  </tbody>\n",
       "</table>\n",
       "</div>"
      ],
      "text/plain": [
       "                      ID  OBJECTID      CropTyp  Acres Irrigtn  InitialSur  \\\n",
       "1307  72599_WSDA_SF_2020     72599  Corn, Field     16    rill  2003/07/01   \n",
       "\n",
       "         LstSrvD DataSource Notes        TRS county   RotationCr CoverCrop  \\\n",
       "1307  2020/12/31       NASS   NaN  T17R30E12  Grant  Alfalfa Hay       NaN   \n",
       "\n",
       "      ExactAcres     CropGroup  SHAPE_Leng    SHAPE_Area  \n",
       "1307     15.8511  Cereal Grain  981.321722  64147.127318  "
      ]
     },
     "execution_count": 26,
     "metadata": {},
     "output_type": "execute_result"
    }
   ],
   "source": [
    "meta[meta.ID==field_corn.ID[1]]"
   ]
  },
  {
   "cell_type": "code",
   "execution_count": null,
   "id": "f8dcf89f",
   "metadata": {},
   "outputs": [],
   "source": []
  }
 ],
 "metadata": {
  "kernelspec": {
   "display_name": "Python 3 (ipykernel)",
   "language": "python",
   "name": "python3"
  },
  "language_info": {
   "codemirror_mode": {
    "name": "ipython",
    "version": 3
   },
   "file_extension": ".py",
   "mimetype": "text/x-python",
   "name": "python",
   "nbconvert_exporter": "python",
   "pygments_lexer": "ipython3",
   "version": "3.9.12"
  }
 },
 "nbformat": 4,
 "nbformat_minor": 5
}
