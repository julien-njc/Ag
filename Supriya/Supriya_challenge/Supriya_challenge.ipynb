{
 "cells": [
  {
   "cell_type": "code",
   "execution_count": null,
   "metadata": {},
   "outputs": [],
   "source": [
    "# import warnings\n",
    "# warnings.filterwarnings(\"ignore\")\n",
    "\n",
    "import csv\n",
    "import numpy as np\n",
    "import pandas as pd\n",
    "# import geopandas as gpd\n",
    "from IPython.display import Image\n",
    "# from shapely.geometry import Point, Polygon\n",
    "from math import factorial\n",
    "import scipy\n",
    "import scipy.signal\n",
    "import os, os.path\n",
    "\n",
    "from datetime import date\n",
    "import datetime\n",
    "import time\n",
    "\n",
    "from statsmodels.sandbox.regression.predstd import wls_prediction_std\n",
    "from sklearn.linear_model import LinearRegression\n",
    "from patsy import cr\n",
    "\n",
    "# from pprint import pprint\n",
    "import matplotlib.pylab as pylab\n",
    "import matplotlib.pyplot as plt\n",
    "import seaborn as sb\n",
    "\n",
    "import sys\n",
    "import io\n",
    "\n",
    "# to move files from one directory to another\n",
    "import shutil\n",
    "\n",
    "\n",
    "import yfinance as yf\n",
    "from nasdaq_stock import nasdaq_stock as nasdaq_stock\n",
    "import requests\n",
    "\n",
    "\n",
    "from pylab import rcParams\n",
    "\n",
    "\n",
    "\n",
    "# search path for modules\n",
    "# look @ https://stackoverflow.com/questions/67631/how-to-import-a-module-given-the-full-path\n",
    "sys.path.append('../')\n",
    "import cycles_core as cc\n",
    "import cycles_plot_core as cpc"
   ]
  },
  {
   "cell_type": "code",
   "execution_count": 2,
   "metadata": {},
   "outputs": [],
   "source": [
    "data_dir = \"/Users/hn/Documents/01_research_data/Supriya_challenge/Gridmet/\""
   ]
  },
  {
   "cell_type": "code",
   "execution_count": 35,
   "metadata": {},
   "outputs": [
    {
     "data": {
      "text/plain": [
       "['AZ_gridmet_1979_2020_CONUS_daily.csv',\n",
       " 'CAa_gridmet_1979_2020_CONUS_daily.csv']"
      ]
     },
     "execution_count": 35,
     "metadata": {},
     "output_type": "execute_result"
    }
   ],
   "source": [
    "# List all the csv files in the data directory\n",
    "file_names = [x for x in os.listdir(data_dir) if x.endswith(\".csv\")]\n",
    "file_names.sort()\n",
    "file_names[0:2]"
   ]
  },
  {
   "cell_type": "code",
   "execution_count": null,
   "metadata": {},
   "outputs": [],
   "source": []
  },
  {
   "cell_type": "code",
   "execution_count": 36,
   "metadata": {},
   "outputs": [
    {
     "data": {
      "text/plain": [
       "['AZ_gridmet_1979_2020_CONUS_daily.csv',\n",
       " 'CAa_gridmet_1979_2020_CONUS_daily.csv']"
      ]
     },
     "execution_count": 36,
     "metadata": {},
     "output_type": "execute_result"
    }
   ],
   "source": [
    "file_names[0:2]"
   ]
  },
  {
   "cell_type": "code",
   "execution_count": 53,
   "metadata": {},
   "outputs": [],
   "source": [
    "###\n",
    "###   Read CSV file. skip the first 16 rows\n",
    "###\n",
    "a_df = pd.read_csv(data_dir + file_names[0], skiprows=16)\n",
    "\n",
    "\n",
    "###\n",
    "###  sort by date column.\n",
    "###\n",
    "a_df.sort_values(by=['yyyy-mm-dd'], inplace=True)\n",
    "\n",
    "###\n",
    "###  Reset index\n",
    "###\n",
    "a_df.reset_index(drop=True, inplace=True)\n",
    "\n",
    "\n",
    "a_df ['tmmx(C)'] = a_df['tmmx(K)'] - 273.15\n",
    "a_df ['tmmn(C)'] = a_df['tmmn(K)'] - 273.15\n",
    "a_df ['tavg(C)'] = (a_df['tmmx(C)'] + a_df['tmmn(C)']) / 2"
   ]
  },
  {
   "cell_type": "code",
   "execution_count": 54,
   "metadata": {},
   "outputs": [
    {
     "name": "stdout",
     "output_type": "stream",
     "text": [
      "(15183, 9)\n"
     ]
    },
    {
     "data": {
      "text/html": [
       "<div>\n",
       "<style scoped>\n",
       "    .dataframe tbody tr th:only-of-type {\n",
       "        vertical-align: middle;\n",
       "    }\n",
       "\n",
       "    .dataframe tbody tr th {\n",
       "        vertical-align: top;\n",
       "    }\n",
       "\n",
       "    .dataframe thead th {\n",
       "        text-align: right;\n",
       "    }\n",
       "</style>\n",
       "<table border=\"1\" class=\"dataframe\">\n",
       "  <thead>\n",
       "    <tr style=\"text-align: right;\">\n",
       "      <th></th>\n",
       "      <th>yyyy-mm-dd</th>\n",
       "      <th>sph(kg/kg)</th>\n",
       "      <th>pr(mm)</th>\n",
       "      <th>srad(Wm-2)</th>\n",
       "      <th>tmmx(K)</th>\n",
       "      <th>tmmn(K)</th>\n",
       "      <th>tmmx(C)</th>\n",
       "      <th>tmmn(C)</th>\n",
       "      <th>tavg(C)</th>\n",
       "    </tr>\n",
       "  </thead>\n",
       "  <tbody>\n",
       "    <tr>\n",
       "      <th>0</th>\n",
       "      <td>1979-01-01</td>\n",
       "      <td>0.00239</td>\n",
       "      <td>0.0</td>\n",
       "      <td>191.2</td>\n",
       "      <td>286.1</td>\n",
       "      <td>272.9</td>\n",
       "      <td>12.95</td>\n",
       "      <td>-0.25</td>\n",
       "      <td>6.35</td>\n",
       "    </tr>\n",
       "    <tr>\n",
       "      <th>1</th>\n",
       "      <td>1979-01-02</td>\n",
       "      <td>0.00182</td>\n",
       "      <td>0.0</td>\n",
       "      <td>138.0</td>\n",
       "      <td>285.1</td>\n",
       "      <td>270.6</td>\n",
       "      <td>11.95</td>\n",
       "      <td>-2.55</td>\n",
       "      <td>4.70</td>\n",
       "    </tr>\n",
       "    <tr>\n",
       "      <th>2</th>\n",
       "      <td>1979-01-03</td>\n",
       "      <td>0.00297</td>\n",
       "      <td>0.0</td>\n",
       "      <td>119.6</td>\n",
       "      <td>289.5</td>\n",
       "      <td>274.7</td>\n",
       "      <td>16.35</td>\n",
       "      <td>1.55</td>\n",
       "      <td>8.95</td>\n",
       "    </tr>\n",
       "  </tbody>\n",
       "</table>\n",
       "</div>"
      ],
      "text/plain": [
       "   yyyy-mm-dd  sph(kg/kg)  pr(mm)  srad(Wm-2)  tmmx(K)  tmmn(K)  tmmx(C)  \\\n",
       "0  1979-01-01     0.00239     0.0       191.2    286.1    272.9    12.95   \n",
       "1  1979-01-02     0.00182     0.0       138.0    285.1    270.6    11.95   \n",
       "2  1979-01-03     0.00297     0.0       119.6    289.5    274.7    16.35   \n",
       "\n",
       "   tmmn(C)  tavg(C)  \n",
       "0    -0.25     6.35  \n",
       "1    -2.55     4.70  \n",
       "2     1.55     8.95  "
      ]
     },
     "execution_count": 54,
     "metadata": {},
     "output_type": "execute_result"
    }
   ],
   "source": [
    "print (a_df.shape)\n",
    "a_df.head(3)"
   ]
  },
  {
   "cell_type": "code",
   "execution_count": 55,
   "metadata": {},
   "outputs": [
    {
     "data": {
      "text/plain": [
       "Rolling [window=10,center=False,axis=0]"
      ]
     },
     "execution_count": 55,
     "metadata": {},
     "output_type": "execute_result"
    }
   ],
   "source": [
    "window_size = 10\n",
    "a_df.rolling(window_size)"
   ]
  },
  {
   "cell_type": "code",
   "execution_count": null,
   "metadata": {},
   "outputs": [],
   "source": [
    "for window in a_df.rolling(window = 10):\n",
    "    print(window)"
   ]
  },
  {
   "cell_type": "code",
   "execution_count": null,
   "metadata": {},
   "outputs": [],
   "source": []
  }
 ],
 "metadata": {
  "kernelspec": {
   "display_name": "Python 3",
   "language": "python",
   "name": "python3"
  },
  "language_info": {
   "codemirror_mode": {
    "name": "ipython",
    "version": 3
   },
   "file_extension": ".py",
   "mimetype": "text/x-python",
   "name": "python",
   "nbconvert_exporter": "python",
   "pygments_lexer": "ipython3",
   "version": "3.7.4"
  }
 },
 "nbformat": 4,
 "nbformat_minor": 2
}
