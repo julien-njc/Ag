{
 "cells": [
  {
   "cell_type": "code",
   "execution_count": 1,
   "id": "932187ef",
   "metadata": {},
   "outputs": [],
   "source": [
    "import warnings\n",
    "warnings.filterwarnings(\"ignore\")\n",
    "\n",
    "\n",
    "import pandas as pd\n",
    "import os, os.path\n",
    "\n",
    "from datetime import date\n",
    "import datetime\n",
    "import time\n",
    "\n",
    "# from pprint import pprint\n",
    "import matplotlib.pylab as pylab\n",
    "import matplotlib.pyplot as plt\n",
    "import seaborn as sb\n",
    "\n",
    "import sys\n",
    "import io\n",
    "\n",
    "\n",
    "\n",
    "from pylab import rcParams\n",
    "\n",
    "# search path for modules\n",
    "# look @ https://stackoverflow.com/questions/67631/how-to-import-a-module-given-the-full-path"
   ]
  },
  {
   "cell_type": "markdown",
   "id": "fd178231",
   "metadata": {},
   "source": [
    "# Functions"
   ]
  },
  {
   "cell_type": "code",
   "execution_count": 23,
   "id": "ed74214f",
   "metadata": {},
   "outputs": [],
   "source": [
    "def add_human_start_time(HDF):\n",
    "    HDF.system_start_time = HDF.system_start_time / 1000\n",
    "    time_array = HDF[\"system_start_time\"].values.copy()\n",
    "    human_time_array = [time.strftime('%Y-%m-%d', time.localtime(x)) for x in time_array]\n",
    "    HDF[\"human_system_start_time\"] = human_time_array\n",
    "\n",
    "    if type(HDF[\"human_system_start_time\"]==str):\n",
    "        HDF['human_system_start_time'] = pd.to_datetime(HDF['human_system_start_time'])\n",
    "    return(HDF)"
   ]
  },
  {
   "cell_type": "markdown",
   "id": "d60a793d",
   "metadata": {},
   "source": [
    "# Set Directories"
   ]
  },
  {
   "cell_type": "code",
   "execution_count": 2,
   "id": "6606982e",
   "metadata": {},
   "outputs": [],
   "source": [
    "data_dir = \"/Users/hn/Documents/01_research_data/Supriya/Shapefiles_landsatcode_NDVIAnalysis/\""
   ]
  },
  {
   "cell_type": "markdown",
   "id": "aac60996",
   "metadata": {},
   "source": [
    "# Read Data"
   ]
  },
  {
   "cell_type": "code",
   "execution_count": 3,
   "id": "6820c35c",
   "metadata": {},
   "outputs": [
    {
     "data": {
      "text/html": [
       "<div>\n",
       "<style scoped>\n",
       "    .dataframe tbody tr th:only-of-type {\n",
       "        vertical-align: middle;\n",
       "    }\n",
       "\n",
       "    .dataframe tbody tr th {\n",
       "        vertical-align: top;\n",
       "    }\n",
       "\n",
       "    .dataframe thead th {\n",
       "        text-align: right;\n",
       "    }\n",
       "</style>\n",
       "<table border=\"1\" class=\"dataframe\">\n",
       "  <thead>\n",
       "    <tr style=\"text-align: right;\">\n",
       "      <th></th>\n",
       "      <th>system_start_time</th>\n",
       "      <th>image_year</th>\n",
       "      <th>doy</th>\n",
       "      <th>NDVI</th>\n",
       "    </tr>\n",
       "  </thead>\n",
       "  <tbody>\n",
       "    <tr>\n",
       "      <th>0</th>\n",
       "      <td>1.264012e+12</td>\n",
       "      <td>2010.0</td>\n",
       "      <td>19.0</td>\n",
       "      <td>0.134250</td>\n",
       "    </tr>\n",
       "    <tr>\n",
       "      <th>1</th>\n",
       "      <td>1.264789e+12</td>\n",
       "      <td>2010.0</td>\n",
       "      <td>28.0</td>\n",
       "      <td>0.074665</td>\n",
       "    </tr>\n",
       "    <tr>\n",
       "      <th>2</th>\n",
       "      <td>1.266171e+12</td>\n",
       "      <td>2010.0</td>\n",
       "      <td>44.0</td>\n",
       "      <td>0.085049</td>\n",
       "    </tr>\n",
       "    <tr>\n",
       "      <th>3</th>\n",
       "      <td>1.266777e+12</td>\n",
       "      <td>2010.0</td>\n",
       "      <td>51.0</td>\n",
       "      <td>0.213128</td>\n",
       "    </tr>\n",
       "    <tr>\n",
       "      <th>4</th>\n",
       "      <td>1.267554e+12</td>\n",
       "      <td>2010.0</td>\n",
       "      <td>60.0</td>\n",
       "      <td>NaN</td>\n",
       "    </tr>\n",
       "  </tbody>\n",
       "</table>\n",
       "</div>"
      ],
      "text/plain": [
       "   system_start_time  image_year   doy      NDVI\n",
       "0       1.264012e+12      2010.0  19.0  0.134250\n",
       "1       1.264789e+12      2010.0  28.0  0.074665\n",
       "2       1.266171e+12      2010.0  44.0  0.085049\n",
       "3       1.266777e+12      2010.0  51.0  0.213128\n",
       "4       1.267554e+12      2010.0  60.0       NaN"
      ]
     },
     "execution_count": 3,
     "metadata": {},
     "output_type": "execute_result"
    }
   ],
   "source": [
    "buffer_region_reduced = pd.read_csv(data_dir + \"buffer_region_reduced_10cloud.csv\")\n",
    "buffer_region_reduced.head(5)"
   ]
  },
  {
   "cell_type": "code",
   "execution_count": 11,
   "id": "1cdf36a4",
   "metadata": {},
   "outputs": [
    {
     "data": {
      "text/html": [
       "<div>\n",
       "<style scoped>\n",
       "    .dataframe tbody tr th:only-of-type {\n",
       "        vertical-align: middle;\n",
       "    }\n",
       "\n",
       "    .dataframe tbody tr th {\n",
       "        vertical-align: top;\n",
       "    }\n",
       "\n",
       "    .dataframe thead th {\n",
       "        text-align: right;\n",
       "    }\n",
       "</style>\n",
       "<table border=\"1\" class=\"dataframe\">\n",
       "  <thead>\n",
       "    <tr style=\"text-align: right;\">\n",
       "      <th></th>\n",
       "      <th>system_start_time</th>\n",
       "      <th>image_year</th>\n",
       "      <th>doy</th>\n",
       "      <th>NDVI</th>\n",
       "    </tr>\n",
       "  </thead>\n",
       "  <tbody>\n",
       "    <tr>\n",
       "      <th>0</th>\n",
       "      <td>1.264012e+12</td>\n",
       "      <td>2010.0</td>\n",
       "      <td>19.0</td>\n",
       "      <td>0.134250</td>\n",
       "    </tr>\n",
       "    <tr>\n",
       "      <th>1</th>\n",
       "      <td>1.264789e+12</td>\n",
       "      <td>2010.0</td>\n",
       "      <td>28.0</td>\n",
       "      <td>0.074665</td>\n",
       "    </tr>\n",
       "    <tr>\n",
       "      <th>2</th>\n",
       "      <td>1.266171e+12</td>\n",
       "      <td>2010.0</td>\n",
       "      <td>44.0</td>\n",
       "      <td>0.085049</td>\n",
       "    </tr>\n",
       "    <tr>\n",
       "      <th>3</th>\n",
       "      <td>1.266777e+12</td>\n",
       "      <td>2010.0</td>\n",
       "      <td>51.0</td>\n",
       "      <td>0.213128</td>\n",
       "    </tr>\n",
       "    <tr>\n",
       "      <th>4</th>\n",
       "      <td>1.268159e+12</td>\n",
       "      <td>2010.0</td>\n",
       "      <td>67.0</td>\n",
       "      <td>0.242836</td>\n",
       "    </tr>\n",
       "  </tbody>\n",
       "</table>\n",
       "</div>"
      ],
      "text/plain": [
       "   system_start_time  image_year   doy      NDVI\n",
       "0       1.264012e+12      2010.0  19.0  0.134250\n",
       "1       1.264789e+12      2010.0  28.0  0.074665\n",
       "2       1.266171e+12      2010.0  44.0  0.085049\n",
       "3       1.266777e+12      2010.0  51.0  0.213128\n",
       "4       1.268159e+12      2010.0  67.0  0.242836"
      ]
     },
     "execution_count": 11,
     "metadata": {},
     "output_type": "execute_result"
    }
   ],
   "source": [
    "# drop NAs\n",
    "\n",
    "buffer_region_reduced.dropna(subset=['NDVI'], inplace=True)\n",
    "buffer_region_reduced.reset_index(drop=True, inplace=True)\n",
    "\n",
    "buffer_region_reduced.sort_values(by='system_start_time', inplace=True)\n",
    "buffer_region_reduced.head(5)"
   ]
  },
  {
   "cell_type": "code",
   "execution_count": 24,
   "id": "65b642fe",
   "metadata": {},
   "outputs": [],
   "source": [
    "buffer_region_reduced = add_human_start_time(buffer_region_reduced)\n",
    "buffer_region_reduced.head(2)"
   ]
  },
  {
   "cell_type": "code",
   "execution_count": 39,
   "id": "e6a47d21",
   "metadata": {},
   "outputs": [],
   "source": [
    "# Plot params\n",
    "\n",
    "import matplotlib.pylab as pylab\n",
    "size = 15\n",
    "title_FontSize = 10\n",
    "legend_FontSize = 8\n",
    "tick_FontSize = 12\n",
    "label_FontSize = 14\n",
    "\n",
    "params = {'legend.fontsize': 'large',\n",
    "          'figure.figsize': (6, 4),\n",
    "          'axes.labelsize': size,\n",
    "          'axes.titlesize': size,\n",
    "          'xtick.labelsize': size * 0.75,\n",
    "          'ytick.labelsize': size * 0.75,\n",
    "          'axes.titlepad': 10}\n",
    "\n",
    "\n",
    "#\n",
    "#  Once set, you cannot change them, unless restart the notebook\n",
    "#\n",
    "plt.rc('font', family = 'serif')\n",
    "# plt.rcParams['xtick.bottom'] = False\n",
    "# plt.rcParams['ytick.left'] = False\n",
    "plt.rcParams['xtick.labelbottom'] = True\n",
    "plt.rcParams['ytick.labelleft'] = True\n",
    "plt.rcParams.update(params)\n",
    "pylab.rcParams.update(params)\n",
    "# plt.rc('text', usetex=True)"
   ]
  },
  {
   "cell_type": "code",
   "execution_count": 42,
   "id": "7b9cc59b",
   "metadata": {},
   "outputs": [
    {
     "data": {
      "image/png": "[encoded data removed]",
      "text/plain": [
       "<Figure size 864x288 with 1 Axes>"
      ]
     },
     "metadata": {
      "needs_background": "light"
     },
     "output_type": "display_data"
    }
   ],
   "source": [
    "fig, ax = plt.subplots();\n",
    "fig.set_size_inches(12, 4)\n",
    "\n",
    "ax.plot(buffer_region_reduced[\"human_system_start_time\"].values,\n",
    "        buffer_region_reduced[\"NDVI\"].values,\n",
    "        linewidth = 3,\n",
    "        c ='dodgerblue', label = 'NDVI')\n",
    "\n",
    "################################################\n",
    "#\n",
    "# Set labels and ticks\n",
    "#\n",
    "plt.title('Buffered Area (Landsat-5)', loc='left')\n",
    "\n",
    "# ax.set_xlabel('time'); # , labelpad = 15\n",
    "# ax.set_ylabel(r'NDVI'); # , labelpad = 15\n",
    "ax.tick_params(axis = 'y', which = 'major')\n",
    "ax.tick_params(axis = 'x', which = 'major')\n",
    "\n",
    "# plt.xlim([300, 800])\n",
    "\n",
    "ax.grid(True);\n",
    "ax.legend(loc = \"upper right\");\n",
    "\n",
    "plot_dir = data_dir\n",
    "os.makedirs(plot_dir, exist_ok=True)\n",
    "\n",
    "file_name = plot_dir + \"NDVI_buffer.pdf\"\n",
    "plt.savefig(fname = file_name, dpi=400, bbox_inches='tight', transparent=False)\n",
    "\n"
   ]
  },
  {
   "cell_type": "markdown",
   "id": "9613b0fa",
   "metadata": {},
   "source": [
    "# Mosaiced data"
   ]
  },
  {
   "cell_type": "code",
   "execution_count": 53,
   "id": "b0500558",
   "metadata": {},
   "outputs": [],
   "source": [
    "buffer_region_reduced_Mosaic = pd.read_csv(data_dir + \"buffer_region_reduced_10cloud_Mosaic.csv\")\n",
    "\n",
    "# drop NAs\n",
    "buffer_region_reduced_Mosaic.dropna(subset=['NDVI'], inplace=True)\n",
    "buffer_region_reduced_Mosaic.reset_index(drop=True, inplace=True)\n",
    "buffer_region_reduced_Mosaic.sort_values(by='system_start_time', inplace=True)\n",
    "buffer_region_reduced_Mosaic = add_human_start_time(buffer_region_reduced_Mosaic)"
   ]
  },
  {
   "cell_type": "code",
   "execution_count": 54,
   "id": "64d05a11",
   "metadata": {},
   "outputs": [
    {
     "data": {
      "image/png": "[encoded data removed]",
      "text/plain": [
       "<Figure size 864x288 with 1 Axes>"
      ]
     },
     "metadata": {
      "needs_background": "light"
     },
     "output_type": "display_data"
    }
   ],
   "source": [
    "fig, ax = plt.subplots();\n",
    "fig.set_size_inches(12, 4)\n",
    "\n",
    "ax.plot(buffer_region_reduced_Mosaic[\"human_system_start_time\"].values,\n",
    "        buffer_region_reduced_Mosaic[\"NDVI\"].values,\n",
    "        linewidth = 3,\n",
    "        c ='dodgerblue', label = 'NDVI')\n",
    "\n",
    "################################################\n",
    "#\n",
    "# Set labels and ticks\n",
    "#\n",
    "plt.title('Buffered Area (Landsat-5)', loc='left')\n",
    "\n",
    "# ax.set_xlabel('time'); # , labelpad = 15\n",
    "# ax.set_ylabel(r'NDVI'); # , labelpad = 15\n",
    "ax.tick_params(axis = 'y', which = 'major')\n",
    "ax.tick_params(axis = 'x', which = 'major')\n",
    "\n",
    "# plt.xlim([300, 800])\n",
    "\n",
    "ax.grid(True);\n",
    "ax.legend(loc = \"upper right\");\n",
    "\n",
    "plot_dir = data_dir\n",
    "os.makedirs(plot_dir, exist_ok=True)\n",
    "\n",
    "file_name = plot_dir + \"NDVI_buffer_Mosaic.pdf\"\n",
    "plt.savefig(fname = file_name, dpi=400, bbox_inches='tight', transparent=False)"
   ]
  },
  {
   "cell_type": "code",
   "execution_count": null,
   "id": "653ac84f",
   "metadata": {},
   "outputs": [],
   "source": []
  }
 ],
 "metadata": {
  "kernelspec": {
   "display_name": "Python 3",
   "language": "python",
   "name": "python3"
  },
  "language_info": {
   "codemirror_mode": {
    "name": "ipython",
    "version": 3
   },
   "file_extension": ".py",
   "mimetype": "text/x-python",
   "name": "python",
   "nbconvert_exporter": "python",
   "pygments_lexer": "ipython3",
   "version": "3.8.8"
  }
 },
 "nbformat": 4,
 "nbformat_minor": 5
}
