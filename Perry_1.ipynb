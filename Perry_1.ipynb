{
  "nbformat": 4,
  "nbformat_minor": 0,
  "metadata": {
    "colab": {
      "name": "Perry_1.ipynb",
      "provenance": [],
      "collapsed_sections": [],
      "authorship_tag": "ABX9TyNSGd9OcXJkdjqE1pgeAyyo",
      "include_colab_link": true
    },
    "kernelspec": {
      "name": "python3",
      "display_name": "Python 3"
    },
    "language_info": {
      "name": "python"
    },
    "widgets": {
      "application/vnd.jupyter.widget-state+json": {
        "9d7e207fa37c49998472755df6ea407b": {
          "model_module": "jupyter-leaflet",
          "model_name": "LeafletMapModel",
          "model_module_version": "^0.15.0",
          "state": {
            "_dom_classes": [],
            "_model_module": "jupyter-leaflet",
            "_model_module_version": "^0.15.0",
            "_model_name": "LeafletMapModel",
            "_view_count": null,
            "_view_module": "jupyter-leaflet",
            "_view_module_version": "^0.15.0",
            "_view_name": "LeafletMapView",
            "bottom": 11806.435012817383,
            "bounce_at_zoom_limits": true,
            "box_zoom": true,
            "center": [
              47.141646833770565,
              -119.07360495999455
            ],
            "close_popup_on_click": true,
            "controls": [
              "IPY_MODEL_a5da0488a98a4a989ef8b4cae55b31d9",
              "IPY_MODEL_ef330b4856024eb0a9739481168c4a1c",
              "IPY_MODEL_0f9f195119de46b7a1b67324000b2bb4",
              "IPY_MODEL_c1359c4777894f3099dbdf1381b5ec97",
              "IPY_MODEL_a0ff10d2fcf5446a9b341f99c27198a4",
              "IPY_MODEL_93546223267242f78316a4bab8126a94",
              "IPY_MODEL_89a9e6ad23dd4ed8a26ea74669fde8cf",
              "IPY_MODEL_03fc2063175d465e9eadc0c7cc281f2d"
            ],
            "crs": {
              "name": "EPSG3857",
              "custom": false
            },
            "default_style": "IPY_MODEL_bc62c1564f6341f29d34186e82e0cedd",
            "double_click_zoom": true,
            "dragging": true,
            "dragging_style": "IPY_MODEL_aae1177447ff418982ad5070e161305c",
            "east": -108.90575828030707,
            "fullscreen": false,
            "inertia": true,
            "inertia_deceleration": 3000,
            "inertia_max_speed": 1500,
            "interpolation": "bilinear",
            "keyboard": true,
            "keyboard_pan_offset": 80,
            "keyboard_zoom_offset": 1,
            "layers": [
              "IPY_MODEL_e9c53fd139d7460f83e7d88b620d80f3",
              "IPY_MODEL_697450fae22e4802a44e0f506a2afcfa",
              "IPY_MODEL_2c817520ef28425dba6a40a58e921267",
              "IPY_MODEL_9738acb8ba704f10a2326ea4d3d93d84",
              "IPY_MODEL_09bd9a59ad2741c98f634bc1a7cd6ebc"
            ],
            "layout": "IPY_MODEL_cb12290d55834a3d83218bc69b57c7ec",
            "left": 4620.155868530273,
            "max_zoom": 24,
            "min_zoom": 1,
            "modisdate": "2022-03-29",
            "north": 49.33632682905332,
            "options": [
              "bounce_at_zoom_limits",
              "box_zoom",
              "center",
              "close_popup_on_click",
              "double_click_zoom",
              "dragging",
              "fullscreen",
              "inertia",
              "inertia_deceleration",
              "inertia_max_speed",
              "interpolation",
              "keyboard",
              "keyboard_pan_offset",
              "keyboard_zoom_offset",
              "max_zoom",
              "min_zoom",
              "prefer_canvas",
              "scroll_wheel_zoom",
              "tap",
              "tap_tolerance",
              "touch_zoom",
              "world_copy_jump",
              "zoom",
              "zoom_animation_threshold",
              "zoom_delta",
              "zoom_snap",
              "zoom_start"
            ],
            "prefer_canvas": false,
            "right": 6471.155868530273,
            "scroll_wheel_zoom": true,
            "south": 44.8524808171337,
            "style": "IPY_MODEL_bc62c1564f6341f29d34186e82e0cedd",
            "tap": true,
            "tap_tolerance": 15,
            "top": 11206.435012817383,
            "touch_zoom": true,
            "west": -129.24145163968208,
            "window_url": "https://b5uluotcn1c-496ff2e9c6d22116-0-colab.googleusercontent.com/outputframe.html?vrz=colab-20220324-060046-RC00_436956229",
            "world_copy_jump": false,
            "zoom": 7,
            "zoom_animation_threshold": 4,
            "zoom_delta": 1,
            "zoom_snap": 1,
            "zoom_start": 12,
            "_dragging": false
          }
        },
        "a5da0488a98a4a989ef8b4cae55b31d9": {
          "model_module": "jupyter-leaflet",
          "model_name": "LeafletWidgetControlModel",
          "model_module_version": "^0.15.0",
          "state": {
            "_model_module": "jupyter-leaflet",
            "_model_module_version": "^0.15.0",
            "_model_name": "LeafletWidgetControlModel",
            "_view_count": null,
            "_view_module": "jupyter-leaflet",
            "_view_module_version": "^0.15.0",
            "_view_name": "LeafletWidgetControlView",
            "max_height": null,
            "max_width": null,
            "min_height": null,
            "min_width": null,
            "options": [
              "position",
              "transparent_bg"
            ],
            "position": "topleft",
            "transparent_bg": false,
            "widget": "IPY_MODEL_c13fef68550b471fb1634d40c6a31842"
          }
        },
        "ef330b4856024eb0a9739481168c4a1c": {
          "model_module": "jupyter-leaflet",
          "model_name": "LeafletZoomControlModel",
          "model_module_version": "^0.15.0",
          "state": {
            "_model_module": "jupyter-leaflet",
            "_model_module_version": "^0.15.0",
            "_model_name": "LeafletZoomControlModel",
            "_view_count": null,
            "_view_module": "jupyter-leaflet",
            "_view_module_version": "^0.15.0",
            "_view_name": "LeafletZoomControlView",
            "options": [
              "position",
              "zoom_in_text",
              "zoom_in_title",
              "zoom_out_text",
              "zoom_out_title"
            ],
            "position": "topleft",
            "zoom_in_text": "+",
            "zoom_in_title": "Zoom in",
            "zoom_out_text": "-",
            "zoom_out_title": "Zoom out"
          }
        },
        "0f9f195119de46b7a1b67324000b2bb4": {
          "model_module": "jupyter-leaflet",
          "model_name": "LeafletScaleControlModel",
          "model_module_version": "^0.15.0",
          "state": {
            "_model_module": "jupyter-leaflet",
            "_model_module_version": "^0.15.0",
            "_model_name": "LeafletScaleControlModel",
            "_view_count": null,
            "_view_module": "jupyter-leaflet",
            "_view_module_version": "^0.15.0",
            "_view_name": "LeafletScaleControlView",
            "imperial": true,
            "max_width": 100,
            "metric": true,
            "options": [
              "imperial",
              "max_width",
              "metric",
              "position",
              "update_when_idle"
            ],
            "position": "bottomleft",
            "update_when_idle": false
          }
        },
        "c1359c4777894f3099dbdf1381b5ec97": {
          "model_module": "jupyter-leaflet",
          "model_name": "LeafletFullScreenControlModel",
          "model_module_version": "^0.15.0",
          "state": {
            "_model_module": "jupyter-leaflet",
            "_model_module_version": "^0.15.0",
            "_model_name": "LeafletFullScreenControlModel",
            "_view_count": null,
            "_view_module": "jupyter-leaflet",
            "_view_module_version": "^0.15.0",
            "_view_name": "LeafletFullScreenControlView",
            "options": [
              "position"
            ],
            "position": "topleft"
          }
        },
        "a0ff10d2fcf5446a9b341f99c27198a4": {
          "model_module": "jupyter-leaflet",
          "model_name": "LeafletMeasureControlModel",
          "model_module_version": "^0.15.0",
          "state": {
            "_custom_units": {},
            "_model_module": "jupyter-leaflet",
            "_model_module_version": "^0.15.0",
            "_model_name": "LeafletMeasureControlModel",
            "_view_count": null,
            "_view_module": "jupyter-leaflet",
            "_view_module_version": "^0.15.0",
            "_view_name": "LeafletMeasureControlView",
            "active_color": "orange",
            "capture_z_index": 10000,
            "completed_color": "#C8F2BE",
            "options": [
              "active_color",
              "capture_z_index",
              "completed_color",
              "popup_options",
              "position",
              "primary_area_unit",
              "primary_length_unit",
              "secondary_area_unit",
              "secondary_length_unit"
            ],
            "popup_options": {
              "className": "leaflet-measure-resultpopup",
              "autoPanPadding": [
                10,
                10
              ]
            },
            "position": "bottomleft",
            "primary_area_unit": "acres",
            "primary_length_unit": "kilometers",
            "secondary_area_unit": null,
            "secondary_length_unit": null
          }
        },
        "93546223267242f78316a4bab8126a94": {
          "model_module": "jupyter-leaflet",
          "model_name": "LeafletAttributionControlModel",
          "model_module_version": "^0.15.0",
          "state": {
            "_model_module": "jupyter-leaflet",
            "_model_module_version": "^0.15.0",
            "_model_name": "LeafletAttributionControlModel",
            "_view_count": null,
            "_view_module": "jupyter-leaflet",
            "_view_module_version": "^0.15.0",
            "_view_name": "LeafletAttributionControlView",
            "options": [
              "position",
              "prefix"
            ],
            "position": "bottomright",
            "prefix": "ipyleaflet"
          }
        },
        "89a9e6ad23dd4ed8a26ea74669fde8cf": {
          "model_module": "jupyter-leaflet",
          "model_name": "LeafletDrawControlModel",
          "model_module_version": "^0.15.0",
          "state": {
            "_model_module": "jupyter-leaflet",
            "_model_module_version": "^0.15.0",
            "_model_name": "LeafletDrawControlModel",
            "_view_count": null,
            "_view_module": "jupyter-leaflet",
            "_view_module_version": "^0.15.0",
            "_view_name": "LeafletDrawControlView",
            "circle": {
              "shapeOptions": {
                "color": "#3388ff"
              }
            },
            "circlemarker": {},
            "data": [],
            "edit": true,
            "marker": {
              "shapeOptions": {
                "color": "#3388ff"
              }
            },
            "options": [
              "position"
            ],
            "polygon": {
              "shapeOptions": {}
            },
            "polyline": {
              "shapeOptions": {}
            },
            "position": "topleft",
            "rectangle": {
              "shapeOptions": {
                "color": "#3388ff"
              }
            },
            "remove": true
          }
        },
        "03fc2063175d465e9eadc0c7cc281f2d": {
          "model_module": "jupyter-leaflet",
          "model_name": "LeafletWidgetControlModel",
          "model_module_version": "^0.15.0",
          "state": {
            "_model_module": "jupyter-leaflet",
            "_model_module_version": "^0.15.0",
            "_model_name": "LeafletWidgetControlModel",
            "_view_count": null,
            "_view_module": "jupyter-leaflet",
            "_view_module_version": "^0.15.0",
            "_view_name": "LeafletWidgetControlView",
            "max_height": null,
            "max_width": null,
            "min_height": null,
            "min_width": null,
            "options": [
              "position",
              "transparent_bg"
            ],
            "position": "topright",
            "transparent_bg": false,
            "widget": "IPY_MODEL_1f2ddb53affb4772b280a21a0e272994"
          }
        },
        "bc62c1564f6341f29d34186e82e0cedd": {
          "model_module": "jupyter-leaflet",
          "model_name": "LeafletMapStyleModel",
          "model_module_version": "^0.15.0",
          "state": {
            "_model_module": "jupyter-leaflet",
            "_model_module_version": "^0.15.0",
            "_model_name": "LeafletMapStyleModel",
            "_view_count": null,
            "_view_module": "@jupyter-widgets/base",
            "_view_module_version": "1.2.0",
            "_view_name": "StyleView",
            "cursor": "grab"
          }
        },
        "aae1177447ff418982ad5070e161305c": {
          "model_module": "jupyter-leaflet",
          "model_name": "LeafletMapStyleModel",
          "model_module_version": "^0.15.0",
          "state": {
            "_model_module": "jupyter-leaflet",
            "_model_module_version": "^0.15.0",
            "_model_name": "LeafletMapStyleModel",
            "_view_count": null,
            "_view_module": "@jupyter-widgets/base",
            "_view_module_version": "1.2.0",
            "_view_name": "StyleView",
            "cursor": "move"
          }
        },
        "e9c53fd139d7460f83e7d88b620d80f3": {
          "model_module": "jupyter-leaflet",
          "model_name": "LeafletTileLayerModel",
          "model_module_version": "^0.15.0",
          "state": {
            "_model_module": "jupyter-leaflet",
            "_model_module_version": "^0.15.0",
            "_model_name": "LeafletTileLayerModel",
            "_view_count": null,
            "_view_module": "jupyter-leaflet",
            "_view_module_version": "^0.15.0",
            "_view_name": "LeafletTileLayerView",
            "attribution": "&copy; <a href=\"https://www.openstreetmap.org/copyright\">OpenStreetMap</a> contributors",
            "base": true,
            "bottom": true,
            "detect_retina": false,
            "loading": false,
            "max_native_zoom": 18,
            "max_zoom": 19,
            "min_native_zoom": 0,
            "min_zoom": 1,
            "name": "OpenStreetMap.Mapnik",
            "no_wrap": false,
            "opacity": 1,
            "options": [
              "attribution",
              "detect_retina",
              "max_native_zoom",
              "max_zoom",
              "min_native_zoom",
              "min_zoom",
              "no_wrap",
              "tile_size",
              "tms"
            ],
            "popup": null,
            "popup_max_height": null,
            "popup_max_width": 300,
            "popup_min_width": 50,
            "show_loading": false,
            "tile_size": 256,
            "tms": false,
            "url": "https://a.tile.openstreetmap.org/{z}/{x}/{y}.png",
            "visible": true
          }
        },
        "697450fae22e4802a44e0f506a2afcfa": {
          "model_module": "jupyter-leaflet",
          "model_name": "LeafletTileLayerModel",
          "model_module_version": "^0.15.0",
          "state": {
            "_model_module": "jupyter-leaflet",
            "_model_module_version": "^0.15.0",
            "_model_name": "LeafletTileLayerModel",
            "_view_count": null,
            "_view_module": "jupyter-leaflet",
            "_view_module_version": "^0.15.0",
            "_view_name": "LeafletTileLayerView",
            "attribution": "Google",
            "base": false,
            "bottom": true,
            "detect_retina": false,
            "loading": false,
            "max_native_zoom": 18,
            "max_zoom": 22,
            "min_native_zoom": 0,
            "min_zoom": 0,
            "name": "Google Maps",
            "no_wrap": false,
            "opacity": 1,
            "options": [
              "attribution",
              "detect_retina",
              "max_native_zoom",
              "max_zoom",
              "min_native_zoom",
              "min_zoom",
              "no_wrap",
              "tile_size",
              "tms"
            ],
            "popup": null,
            "popup_max_height": null,
            "popup_max_width": 300,
            "popup_min_width": 50,
            "show_loading": false,
            "tile_size": 256,
            "tms": false,
            "url": "https://mt1.google.com/vt/lyrs=m&x={x}&y={y}&z={z}",
            "visible": true
          }
        },
        "2c817520ef28425dba6a40a58e921267": {
          "model_module": "jupyter-leaflet",
          "model_name": "LeafletTileLayerModel",
          "model_module_version": "^0.15.0",
          "state": {
            "_model_module": "jupyter-leaflet",
            "_model_module_version": "^0.15.0",
            "_model_name": "LeafletTileLayerModel",
            "_view_count": null,
            "_view_module": "jupyter-leaflet",
            "_view_module_version": "^0.15.0",
            "_view_name": "LeafletTileLayerView",
            "attribution": "Google Earth Engine",
            "base": false,
            "bottom": true,
            "detect_retina": false,
            "loading": false,
            "max_native_zoom": 18,
            "max_zoom": 24,
            "min_native_zoom": 0,
            "min_zoom": 0,
            "name": "Western Half",
            "no_wrap": false,
            "opacity": 1,
            "options": [
              "attribution",
              "detect_retina",
              "max_native_zoom",
              "max_zoom",
              "min_native_zoom",
              "min_zoom",
              "no_wrap",
              "tile_size",
              "tms"
            ],
            "popup": null,
            "popup_max_height": null,
            "popup_max_width": 300,
            "popup_min_width": 50,
            "show_loading": false,
            "tile_size": 256,
            "tms": false,
            "url": "https://earthengine.googleapis.com/v1alpha/projects/earthengine-legacy/maps/227fe956466469838a43e967668972e6-608400228e99b5d8440753d6a8bb72f9/tiles/{z}/{x}/{y}",
            "visible": true
          }
        },
        "9738acb8ba704f10a2326ea4d3d93d84": {
          "model_module": "jupyter-leaflet",
          "model_name": "LeafletTileLayerModel",
          "model_module_version": "^0.15.0",
          "state": {
            "_model_module": "jupyter-leaflet",
            "_model_module_version": "^0.15.0",
            "_model_name": "LeafletTileLayerModel",
            "_view_count": null,
            "_view_module": "jupyter-leaflet",
            "_view_module_version": "^0.15.0",
            "_view_name": "LeafletTileLayerView",
            "attribution": "Google Earth Engine",
            "base": false,
            "bottom": true,
            "detect_retina": false,
            "loading": false,
            "max_native_zoom": 18,
            "max_zoom": 24,
            "min_native_zoom": 0,
            "min_zoom": 0,
            "name": "Eastern Half",
            "no_wrap": false,
            "opacity": 1,
            "options": [
              "attribution",
              "detect_retina",
              "max_native_zoom",
              "max_zoom",
              "min_native_zoom",
              "min_zoom",
              "no_wrap",
              "tile_size",
              "tms"
            ],
            "popup": null,
            "popup_max_height": null,
            "popup_max_width": 300,
            "popup_min_width": 50,
            "show_loading": false,
            "tile_size": 256,
            "tms": false,
            "url": "https://earthengine.googleapis.com/v1alpha/projects/earthengine-legacy/maps/522ad50b983cb2cc36922340695c447f-61fd26eeee54585ca1ca6a352c257289/tiles/{z}/{x}/{y}",
            "visible": true
          }
        },
        "09bd9a59ad2741c98f634bc1a7cd6ebc": {
          "model_module": "jupyter-leaflet",
          "model_name": "LeafletTileLayerModel",
          "model_module_version": "^0.15.0",
          "state": {
            "_model_module": "jupyter-leaflet",
            "_model_module_version": "^0.15.0",
            "_model_name": "LeafletTileLayerModel",
            "_view_count": null,
            "_view_module": "jupyter-leaflet",
            "_view_module_version": "^0.15.0",
            "_view_name": "LeafletTileLayerView",
            "attribution": "Google Earth Engine",
            "base": false,
            "bottom": true,
            "detect_retina": false,
            "loading": false,
            "max_native_zoom": 18,
            "max_zoom": 24,
            "min_native_zoom": 0,
            "min_zoom": 0,
            "name": "Fields",
            "no_wrap": false,
            "opacity": 1,
            "options": [
              "attribution",
              "detect_retina",
              "max_native_zoom",
              "max_zoom",
              "min_native_zoom",
              "min_zoom",
              "no_wrap",
              "tile_size",
              "tms"
            ],
            "popup": null,
            "popup_max_height": null,
            "popup_max_width": 300,
            "popup_min_width": 50,
            "show_loading": false,
            "tile_size": 256,
            "tms": false,
            "url": "https://earthengine.googleapis.com/v1alpha/projects/earthengine-legacy/maps/738437fc3f19b55fa83dfc2f88a39037-f0debb674073df57abfddbd5413d44ab/tiles/{z}/{x}/{y}",
            "visible": true
          }
        },
        "cb12290d55834a3d83218bc69b57c7ec": {
          "model_module": "@jupyter-widgets/base",
          "model_name": "LayoutModel",
          "model_module_version": "1.2.0",
          "state": {
            "_model_module": "@jupyter-widgets/base",
            "_model_module_version": "1.2.0",
            "_model_name": "LayoutModel",
            "_view_count": null,
            "_view_module": "@jupyter-widgets/base",
            "_view_module_version": "1.2.0",
            "_view_name": "LayoutView",
            "align_content": null,
            "align_items": null,
            "align_self": null,
            "border": null,
            "bottom": null,
            "display": null,
            "flex": null,
            "flex_flow": null,
            "grid_area": null,
            "grid_auto_columns": null,
            "grid_auto_flow": null,
            "grid_auto_rows": null,
            "grid_column": null,
            "grid_gap": null,
            "grid_row": null,
            "grid_template_areas": null,
            "grid_template_columns": null,
            "grid_template_rows": null,
            "height": "600px",
            "justify_content": null,
            "justify_items": null,
            "left": null,
            "margin": null,
            "max_height": null,
            "max_width": null,
            "min_height": null,
            "min_width": null,
            "object_fit": null,
            "object_position": null,
            "order": null,
            "overflow": null,
            "overflow_x": null,
            "overflow_y": null,
            "padding": null,
            "right": null,
            "top": null,
            "visibility": null,
            "width": null
          }
        },
        "061d4d3f2b4640339aa06b541e717a92": {
          "model_module": "jupyter-leaflet",
          "model_name": "LeafletMapStyleModel",
          "model_module_version": "^0.15.0",
          "state": {
            "_model_module": "jupyter-leaflet",
            "_model_module_version": "^0.15.0",
            "_model_name": "LeafletMapStyleModel",
            "_view_count": null,
            "_view_module": "@jupyter-widgets/base",
            "_view_module_version": "1.2.0",
            "_view_name": "StyleView",
            "cursor": "grab"
          }
        },
        "c13fef68550b471fb1634d40c6a31842": {
          "model_module": "@jupyter-widgets/controls",
          "model_name": "HBoxModel",
          "model_module_version": "1.5.0",
          "state": {
            "_dom_classes": [],
            "_model_module": "@jupyter-widgets/controls",
            "_model_module_version": "1.5.0",
            "_model_name": "HBoxModel",
            "_view_count": null,
            "_view_module": "@jupyter-widgets/controls",
            "_view_module_version": "1.5.0",
            "_view_name": "HBoxView",
            "box_style": "",
            "children": [
              "IPY_MODEL_ae080e542ece43ba96e77d617433d9f7"
            ],
            "layout": "IPY_MODEL_9bd9904079334be2a2f717a6d7a3961b"
          }
        },
        "1f2ddb53affb4772b280a21a0e272994": {
          "model_module": "@jupyter-widgets/controls",
          "model_name": "VBoxModel",
          "model_module_version": "1.5.0",
          "state": {
            "_dom_classes": [],
            "_model_module": "@jupyter-widgets/controls",
            "_model_module_version": "1.5.0",
            "_model_name": "VBoxModel",
            "_view_count": null,
            "_view_module": "@jupyter-widgets/controls",
            "_view_module_version": "1.5.0",
            "_view_name": "VBoxView",
            "box_style": "",
            "children": [
              "IPY_MODEL_1947519fc82b477b817069a81fbf7242"
            ],
            "layout": "IPY_MODEL_2f3e24a05e7647c5922f8d4cdb43ba83"
          }
        },
        "ae080e542ece43ba96e77d617433d9f7": {
          "model_module": "@jupyter-widgets/controls",
          "model_name": "ToggleButtonModel",
          "model_module_version": "1.5.0",
          "state": {
            "_dom_classes": [],
            "_model_module": "@jupyter-widgets/controls",
            "_model_module_version": "1.5.0",
            "_model_name": "ToggleButtonModel",
            "_view_count": null,
            "_view_module": "@jupyter-widgets/controls",
            "_view_module_version": "1.5.0",
            "_view_name": "ToggleButtonView",
            "button_style": "",
            "description": "",
            "description_tooltip": null,
            "disabled": false,
            "icon": "globe",
            "layout": "IPY_MODEL_e6995ffc817f44d08cbc519fdef07857",
            "style": "IPY_MODEL_b2bce4265663478ca35b615d53006a85",
            "tooltip": "Search location/data",
            "value": false
          }
        },
        "9bd9904079334be2a2f717a6d7a3961b": {
          "model_module": "@jupyter-widgets/base",
          "model_name": "LayoutModel",
          "model_module_version": "1.2.0",
          "state": {
            "_model_module": "@jupyter-widgets/base",
            "_model_module_version": "1.2.0",
            "_model_name": "LayoutModel",
            "_view_count": null,
            "_view_module": "@jupyter-widgets/base",
            "_view_module_version": "1.2.0",
            "_view_name": "LayoutView",
            "align_content": null,
            "align_items": null,
            "align_self": null,
            "border": null,
            "bottom": null,
            "display": null,
            "flex": null,
            "flex_flow": null,
            "grid_area": null,
            "grid_auto_columns": null,
            "grid_auto_flow": null,
            "grid_auto_rows": null,
            "grid_column": null,
            "grid_gap": null,
            "grid_row": null,
            "grid_template_areas": null,
            "grid_template_columns": null,
            "grid_template_rows": null,
            "height": null,
            "justify_content": null,
            "justify_items": null,
            "left": null,
            "margin": null,
            "max_height": null,
            "max_width": null,
            "min_height": null,
            "min_width": null,
            "object_fit": null,
            "object_position": null,
            "order": null,
            "overflow": null,
            "overflow_x": null,
            "overflow_y": null,
            "padding": null,
            "right": null,
            "top": null,
            "visibility": null,
            "width": null
          }
        },
        "1947519fc82b477b817069a81fbf7242": {
          "model_module": "@jupyter-widgets/controls",
          "model_name": "ToggleButtonModel",
          "model_module_version": "1.5.0",
          "state": {
            "_dom_classes": [],
            "_model_module": "@jupyter-widgets/controls",
            "_model_module_version": "1.5.0",
            "_model_name": "ToggleButtonModel",
            "_view_count": null,
            "_view_module": "@jupyter-widgets/controls",
            "_view_module_version": "1.5.0",
            "_view_name": "ToggleButtonView",
            "button_style": "",
            "description": "",
            "description_tooltip": null,
            "disabled": false,
            "icon": "wrench",
            "layout": "IPY_MODEL_484df1d14971455695c8e740c8637a4b",
            "style": "IPY_MODEL_eef7daf2a85f42a2a3d0b40601e235d7",
            "tooltip": "Toolbar",
            "value": false
          }
        },
        "2f3e24a05e7647c5922f8d4cdb43ba83": {
          "model_module": "@jupyter-widgets/base",
          "model_name": "LayoutModel",
          "model_module_version": "1.2.0",
          "state": {
            "_model_module": "@jupyter-widgets/base",
            "_model_module_version": "1.2.0",
            "_model_name": "LayoutModel",
            "_view_count": null,
            "_view_module": "@jupyter-widgets/base",
            "_view_module_version": "1.2.0",
            "_view_name": "LayoutView",
            "align_content": null,
            "align_items": null,
            "align_self": null,
            "border": null,
            "bottom": null,
            "display": null,
            "flex": null,
            "flex_flow": null,
            "grid_area": null,
            "grid_auto_columns": null,
            "grid_auto_flow": null,
            "grid_auto_rows": null,
            "grid_column": null,
            "grid_gap": null,
            "grid_row": null,
            "grid_template_areas": null,
            "grid_template_columns": null,
            "grid_template_rows": null,
            "height": null,
            "justify_content": null,
            "justify_items": null,
            "left": null,
            "margin": null,
            "max_height": null,
            "max_width": null,
            "min_height": null,
            "min_width": null,
            "object_fit": null,
            "object_position": null,
            "order": null,
            "overflow": null,
            "overflow_x": null,
            "overflow_y": null,
            "padding": null,
            "right": null,
            "top": null,
            "visibility": null,
            "width": null
          }
        },
        "e6995ffc817f44d08cbc519fdef07857": {
          "model_module": "@jupyter-widgets/base",
          "model_name": "LayoutModel",
          "model_module_version": "1.2.0",
          "state": {
            "_model_module": "@jupyter-widgets/base",
            "_model_module_version": "1.2.0",
            "_model_name": "LayoutModel",
            "_view_count": null,
            "_view_module": "@jupyter-widgets/base",
            "_view_module_version": "1.2.0",
            "_view_name": "LayoutView",
            "align_content": null,
            "align_items": null,
            "align_self": null,
            "border": null,
            "bottom": null,
            "display": null,
            "flex": null,
            "flex_flow": null,
            "grid_area": null,
            "grid_auto_columns": null,
            "grid_auto_flow": null,
            "grid_auto_rows": null,
            "grid_column": null,
            "grid_gap": null,
            "grid_row": null,
            "grid_template_areas": null,
            "grid_template_columns": null,
            "grid_template_rows": null,
            "height": "28px",
            "justify_content": null,
            "justify_items": null,
            "left": null,
            "margin": null,
            "max_height": null,
            "max_width": null,
            "min_height": null,
            "min_width": null,
            "object_fit": null,
            "object_position": null,
            "order": null,
            "overflow": null,
            "overflow_x": null,
            "overflow_y": null,
            "padding": "0px 0px 0px 4px",
            "right": null,
            "top": null,
            "visibility": null,
            "width": "28px"
          }
        },
        "b2bce4265663478ca35b615d53006a85": {
          "model_module": "@jupyter-widgets/controls",
          "model_name": "DescriptionStyleModel",
          "model_module_version": "1.5.0",
          "state": {
            "_model_module": "@jupyter-widgets/controls",
            "_model_module_version": "1.5.0",
            "_model_name": "DescriptionStyleModel",
            "_view_count": null,
            "_view_module": "@jupyter-widgets/base",
            "_view_module_version": "1.2.0",
            "_view_name": "StyleView",
            "description_width": ""
          }
        },
        "484df1d14971455695c8e740c8637a4b": {
          "model_module": "@jupyter-widgets/base",
          "model_name": "LayoutModel",
          "model_module_version": "1.2.0",
          "state": {
            "_model_module": "@jupyter-widgets/base",
            "_model_module_version": "1.2.0",
            "_model_name": "LayoutModel",
            "_view_count": null,
            "_view_module": "@jupyter-widgets/base",
            "_view_module_version": "1.2.0",
            "_view_name": "LayoutView",
            "align_content": null,
            "align_items": null,
            "align_self": null,
            "border": null,
            "bottom": null,
            "display": null,
            "flex": null,
            "flex_flow": null,
            "grid_area": null,
            "grid_auto_columns": null,
            "grid_auto_flow": null,
            "grid_auto_rows": null,
            "grid_column": null,
            "grid_gap": null,
            "grid_row": null,
            "grid_template_areas": null,
            "grid_template_columns": null,
            "grid_template_rows": null,
            "height": "28px",
            "justify_content": null,
            "justify_items": null,
            "left": null,
            "margin": null,
            "max_height": null,
            "max_width": null,
            "min_height": null,
            "min_width": null,
            "object_fit": null,
            "object_position": null,
            "order": null,
            "overflow": null,
            "overflow_x": null,
            "overflow_y": null,
            "padding": "0px 0px 0px 4px",
            "right": null,
            "top": null,
            "visibility": null,
            "width": "28px"
          }
        },
        "eef7daf2a85f42a2a3d0b40601e235d7": {
          "model_module": "@jupyter-widgets/controls",
          "model_name": "DescriptionStyleModel",
          "model_module_version": "1.5.0",
          "state": {
            "_model_module": "@jupyter-widgets/controls",
            "_model_module_version": "1.5.0",
            "_model_name": "DescriptionStyleModel",
            "_view_count": null,
            "_view_module": "@jupyter-widgets/base",
            "_view_module_version": "1.2.0",
            "_view_name": "StyleView",
            "description_width": ""
          }
        }
      }
    }
  },
  "cells": [
    {
      "cell_type": "markdown",
      "metadata": {
        "id": "view-in-github",
        "colab_type": "text"
      },
      "source": [
        "<a href=\"https://colab.research.google.com/github/HNoorazar/Ag/blob/master/Perry_1.ipynb\" target=\"_parent\"><img src=\"https://colab.research.google.com/assets/colab-badge.svg\" alt=\"Open In Colab\"/></a>"
      ]
    },
    {
      "cell_type": "markdown",
      "source": [
        "#**There is no free lunch**\n",
        "\n",
        "[Colab resources are not guaranteed](https://research.google.com/colaboratory/faq.html#:~:text=Colab\\%20is\\%20able\\%20to\\%20provide,other\\%20factors\\%20vary\\%20over\\%20time.). One can, however, [subscribe and increase resources]((https://colab.research.google.com/signup)) at his disposal.\n",
        "\n",
        "Creating an App also needs money and human time to create it. Please look at [Quotas and limits](https://cloud.google.com/appengine/docs/standard#:~:text=The%20standard%20environment%20gives%20you,suit%20your%20needs%2C%20see%20Quotas.) section as a starting point!\n",
        "\n",
        "I ran different counties as a separate jobs and it took hours. If they want to run all counties at once, the cost (computation or $) is even higher.\n",
        "\n",
        "<p>&nbsp;</p>\n",
        "\n",
        "Speaking of money, money is source of lots of problems. Researchers have \"shown\" [sugar is good for you and fat is bad!](https://www.npr.org/sections/thetwo-way/2016/09/13/493739074/50-years-ago-sugar-industry-quietly-paid-scientists-to-point-blame-at-fat). Sugar companies were behind this study inducted in Harvard.\n",
        "[Dallas Buyers Club](https://www.imdb.com/title/tt0790636/) showed problems within FDA. Bad cops, bad doctors who sell their souls for money. Advisors whose priority is fund not training te students. All of these (Teacher/Student, Doctor/Patient, Researcher/Society, Cop/Society) are relationships that instinctively is supposed to be based on trust and honesty. But ...\n",
        "\n",
        "Maybe you can watch Making of a Murderer and see what happened to the guy by cops, DA, AG, judge..."
      ],
      "metadata": {
        "id": "AbobjLfNKB0O"
      }
    },
    {
      "cell_type": "markdown",
      "source": [
        "# Print Local Time \n",
        "\n",
        "colab runs on cloud. So, the time is not our local time.\n",
        "This page is useful to determine how to do this."
      ],
      "metadata": {
        "id": "c9MAEcsBblEc"
      }
    },
    {
      "cell_type": "code",
      "source": [
        "!rm /etc/localtime\n",
        "!ln -s /usr/share/zoneinfo/US/Pacific /etc/localtime\n",
        "!date"
      ],
      "metadata": {
        "colab": {
          "base_uri": "https://localhost:8080/"
        },
        "id": "y_XZYSOXbi2S",
        "outputId": "bd832c83-b463-4f75-e80d-ccb05d8c1e95"
      },
      "execution_count": 1,
      "outputs": [
        {
          "output_type": "stream",
          "name": "stdout",
          "text": [
            "Wed Mar 30 10:29:54 PDT 2022\n"
          ]
        }
      ]
    },
    {
      "cell_type": "markdown",
      "source": [
        "# **geopandas and geemap musy be installed every time!!!**\n"
      ],
      "metadata": {
        "id": "jX3TvMJBe3lZ"
      }
    },
    {
      "cell_type": "code",
      "source": [
        "# !pip install geopandas geemap\n",
        "# Installs geemap package\n",
        "import subprocess\n",
        "\n",
        "try:\n",
        "    import geemap\n",
        "except ImportError:\n",
        "    print('geemap package not installed. Must be installed every time we want to run this notebook. Installing ...')\n",
        "    subprocess.check_call([\"python\", '-m', 'pip', 'install', 'geemap'])\n",
        "\n",
        "    print('geopandas package not installed. Must be installed every time we want to run this notebook. Installing ...')\n",
        "    subprocess.check_call([\"python\", '-m', 'pip', 'install', 'geopandas'])"
      ],
      "metadata": {
        "id": "xMCOiQUYe6XS"
      },
      "execution_count": 2,
      "outputs": []
    },
    {
      "cell_type": "markdown",
      "source": [
        "# **Authenticate and import libraries**\n",
        "\n",
        "We have to impor tthe libraries we need. Moreover, we need to Authenticate every single time!"
      ],
      "metadata": {
        "id": "4_4IBtM4ffpt"
      }
    },
    {
      "cell_type": "code",
      "source": [
        "import numpy as np\n",
        "import folium\n",
        "import geopandas as gpd\n",
        "import json, geemap, ee\n",
        "import pandas as pd\n",
        "\n",
        "import scipy # we need this for savitzky-golay\n",
        "\n",
        "import matplotlib.pyplot as plt\n",
        "import matplotlib.dates as mdates\n",
        "import datetime\n",
        "from datetime import date\n",
        "import datetime\n",
        "import time\n",
        "\n",
        "try:\n",
        "        ee.Initialize()\n",
        "except Exception as e:\n",
        "        ee.Authenticate()\n",
        "        ee.Initialize()"
      ],
      "metadata": {
        "id": "ZgTaTGby3lWZ"
      },
      "execution_count": 99,
      "outputs": []
    },
    {
      "cell_type": "markdown",
      "source": [
        "### **Mount Google Drive and import my Python modules**\n",
        "\n",
        "Here we are importing the Python functions that are written by me and are needed; ```NASA core``` and ```NASA plot core```.\n",
        "\n",
        "**Note:** These are on Google Drive now. Perhaps we can import them from GitHub."
      ],
      "metadata": {
        "id": "wh4w6cCn71MV"
      }
    },
    {
      "cell_type": "code",
      "source": [
        "# Mount YOUR google drive in Colab\n",
        "from google.colab import drive\n",
        "drive.mount('/content/drive')\n",
        "import sys\n",
        "sys.path.insert(0,\"/content/drive/My Drive/Colab Notebooks/\")\n",
        "import NASA_core as nc\n",
        "import NASA_plot_core as ncp\n",
        "import GEE_Python_core as gpc"
      ],
      "metadata": {
        "colab": {
          "base_uri": "https://localhost:8080/"
        },
        "id": "RmVZ8vYg6zWz",
        "outputId": "9cac682b-a00b-4c95-b77b-66c6a1947307"
      },
      "execution_count": 4,
      "outputs": [
        {
          "output_type": "stream",
          "name": "stdout",
          "text": [
            "Drive already mounted at /content/drive; to attempt to forcibly remount, call drive.mount(\"/content/drive\", force_remount=True).\n"
          ]
        },
        {
          "output_type": "stream",
          "name": "stderr",
          "text": [
            "/usr/local/lib/python3.7/dist-packages/statsmodels/tools/_testing.py:19: FutureWarning: pandas.util.testing is deprecated. Use the functions in the public API at pandas.testing instead.\n",
            "  import pandas.util.testing as tm\n"
          ]
        }
      ]
    },
    {
      "cell_type": "markdown",
      "source": [
        "# **Change Current directory to the Colab folder on Google Drive**"
      ],
      "metadata": {
        "id": "cErRXmUS2ips"
      }
    },
    {
      "cell_type": "code",
      "source": [
        "import os\n",
        "os.chdir(\"/content/drive/My Drive/Colab Notebooks/\") # Colab Notebooks\n",
        "# !ls"
      ],
      "metadata": {
        "id": "rD5tBhc42ho2"
      },
      "execution_count": 5,
      "outputs": []
    },
    {
      "cell_type": "code",
      "source": [
        "# import os\n",
        "# os.chdir(\"/content/drive/\")\n",
        "# !ls\n",
        "\n",
        "# os.chdir(\"/content/drive/MyDrive/NASA_trends/shapefiles/Grant2017/\")\n",
        "# !ls\n",
        "# os.getcwd()\n",
        "# os.listdir(\"/content/drive/MyDrive/NASA_trends/shapefiles/\")"
      ],
      "metadata": {
        "id": "wDKuzyJh64ZT"
      },
      "execution_count": 6,
      "outputs": []
    },
    {
      "cell_type": "markdown",
      "source": [
        "# Please tell me where to look for the shapefile!"
      ],
      "metadata": {
        "id": "3pa0Uyu9vnZ4"
      }
    },
    {
      "cell_type": "code",
      "source": [
        "# shp_path = \"/Users/hn/Documents/01_research_data/NASA/shapefiles/Grant2017/Grant2017.shp\"\n",
        "# shp_path = \"/content/My Drive/NASA_trends/shapefiles/Grant2017/Grant2017.shp\"\n",
        "shp_path = \"/content/drive/MyDrive/NASA_trends/shapefiles/Grant2017/Grant2017.shp\"\n",
        "shp_path = \"/content/drive/MyDrive/NASA_trends/shapefiles/Grant_4Fields_poly_wCentroids/Grant_4Fields_poly_wCentroids.shp\"\n",
        "\n",
        "# we read our shapefile in to a geopandas data frame using the geopandas.read_file method\n",
        "# we'll make sure it's initiated in the EPSG 4326 CRS\n",
        "Grant_4Fields_poly_wCentroids = gpd.read_file(shp_path, crs='EPSG:4326')\n",
        "\n",
        "# define a helper function to put the geodataframe in the right format for constructing an ee object\n",
        "# The following function and the immediate line after that works for 1 geometry. not all the fields in the shapefile.\n",
        "# def shp_to_ee_fmt(geodf):\n",
        "#     data = json.loads(geodf.to_json())\n",
        "#     return data['features'][0]['geometry']['coordinates']\n",
        "# Grant_4Fields_poly_wCentroids = ee.Geometry.MultiPolygon(shp_to_ee_fmt(Grant_4Fields_poly_wCentroids))\n",
        "\n",
        "# Grant_4Fields_poly_wCentroids = ee.FeatureCollection(Grant_4Fields_poly_wCentroids)"
      ],
      "metadata": {
        "id": "I3Lqds7fu0Jk"
      },
      "execution_count": 7,
      "outputs": []
    },
    {
      "cell_type": "code",
      "source": [
        "unwanted_columns = ['cntrd_ln', 'cntrd_lt', 'CropGrp', 'Shap_Ar', 'Shp_Lng', 'ExctAcr', \n",
        "                    'RtCrpTy', 'TRS', 'Notes', 'IntlSrD']\n",
        "Grant_4Fields_poly_wCentroids = Grant_4Fields_poly_wCentroids.drop(columns=unwanted_columns)"
      ],
      "metadata": {
        "id": "pFiiiP_YR5DI"
      },
      "execution_count": 8,
      "outputs": []
    },
    {
      "cell_type": "code",
      "source": [
        "print (type(Grant_4Fields_poly_wCentroids))\n",
        "print (\"++++++++++++++++++++++++++++++++++++++++++++++++++++++++++++++++++++++++++++++\")\n",
        "print (\"Shape of Grant_4Fields_poly_wCentroids is\", Grant_4Fields_poly_wCentroids.shape)\n",
        "print (\"==============================================================================\")\n",
        "Grant_4Fields_poly_wCentroids.head(2)"
      ],
      "metadata": {
        "colab": {
          "base_uri": "https://localhost:8080/",
          "height": 183
        },
        "id": "Un5vX6oF2qZx",
        "outputId": "a49d3960-c8bd-4ecc-88e2-4db6b4dc9665"
      },
      "execution_count": 9,
      "outputs": [
        {
          "output_type": "stream",
          "name": "stdout",
          "text": [
            "<class 'geopandas.geodataframe.GeoDataFrame'>\n",
            "++++++++++++++++++++++++++++++++++++++++++++++++++++++++++++++++++++++++++++++\n",
            "Shape of Grant_4Fields_poly_wCentroids is (4, 8)\n",
            "==============================================================================\n"
          ]
        },
        {
          "output_type": "execute_result",
          "data": {
            "text/plain": [
              "                    ID CropTyp  Acres       Irrigtn     LstSrvD DataSrc  \\\n",
              "0  102309_WSDA_SF_2017   wheat  109.0  center pivot  2017/07/11    wsda   \n",
              "1  104563_WSDA_SF_2017  potato   38.0          rill  2017/05/16    wsda   \n",
              "\n",
              "  county                                           geometry  \n",
              "0  Grant  POLYGON ((-119.80155 46.99794, -119.80157 46.9...  \n",
              "1  Grant  POLYGON ((-119.82193 47.15758, -119.82710 47.1...  "
            ],
            "text/html": [
              "\n",
              "  <div id=\"df-27baeadb-fa30-497f-b1a1-e689072cf7bc\">\n",
              "    <div class=\"colab-df-container\">\n",
              "      <div>\n",
              "<style scoped>\n",
              "    .dataframe tbody tr th:only-of-type {\n",
              "        vertical-align: middle;\n",
              "    }\n",
              "\n",
              "    .dataframe tbody tr th {\n",
              "        vertical-align: top;\n",
              "    }\n",
              "\n",
              "    .dataframe thead th {\n",
              "        text-align: right;\n",
              "    }\n",
              "</style>\n",
              "<table border=\"1\" class=\"dataframe\">\n",
              "  <thead>\n",
              "    <tr style=\"text-align: right;\">\n",
              "      <th></th>\n",
              "      <th>ID</th>\n",
              "      <th>CropTyp</th>\n",
              "      <th>Acres</th>\n",
              "      <th>Irrigtn</th>\n",
              "      <th>LstSrvD</th>\n",
              "      <th>DataSrc</th>\n",
              "      <th>county</th>\n",
              "      <th>geometry</th>\n",
              "    </tr>\n",
              "  </thead>\n",
              "  <tbody>\n",
              "    <tr>\n",
              "      <th>0</th>\n",
              "      <td>102309_WSDA_SF_2017</td>\n",
              "      <td>wheat</td>\n",
              "      <td>109.0</td>\n",
              "      <td>center pivot</td>\n",
              "      <td>2017/07/11</td>\n",
              "      <td>wsda</td>\n",
              "      <td>Grant</td>\n",
              "      <td>POLYGON ((-119.80155 46.99794, -119.80157 46.9...</td>\n",
              "    </tr>\n",
              "    <tr>\n",
              "      <th>1</th>\n",
              "      <td>104563_WSDA_SF_2017</td>\n",
              "      <td>potato</td>\n",
              "      <td>38.0</td>\n",
              "      <td>rill</td>\n",
              "      <td>2017/05/16</td>\n",
              "      <td>wsda</td>\n",
              "      <td>Grant</td>\n",
              "      <td>POLYGON ((-119.82193 47.15758, -119.82710 47.1...</td>\n",
              "    </tr>\n",
              "  </tbody>\n",
              "</table>\n",
              "</div>\n",
              "      <button class=\"colab-df-convert\" onclick=\"convertToInteractive('df-27baeadb-fa30-497f-b1a1-e689072cf7bc')\"\n",
              "              title=\"Convert this dataframe to an interactive table.\"\n",
              "              style=\"display:none;\">\n",
              "        \n",
              "  <svg xmlns=\"http://www.w3.org/2000/svg\" height=\"24px\"viewBox=\"0 0 24 24\"\n",
              "       width=\"24px\">\n",
              "    <path d=\"M0 0h24v24H0V0z\" fill=\"none\"/>\n",
              "    <path d=\"M18.56 5.44l.94 2.06.94-2.06 2.06-.94-2.06-.94-.94-2.06-.94 2.06-2.06.94zm-11 1L8.5 8.5l.94-2.06 2.06-.94-2.06-.94L8.5 2.5l-.94 2.06-2.06.94zm10 10l.94 2.06.94-2.06 2.06-.94-2.06-.94-.94-2.06-.94 2.06-2.06.94z\"/><path d=\"M17.41 7.96l-1.37-1.37c-.4-.4-.92-.59-1.43-.59-.52 0-1.04.2-1.43.59L10.3 9.45l-7.72 7.72c-.78.78-.78 2.05 0 2.83L4 21.41c.39.39.9.59 1.41.59.51 0 1.02-.2 1.41-.59l7.78-7.78 2.81-2.81c.8-.78.8-2.07 0-2.86zM5.41 20L4 18.59l7.72-7.72 1.47 1.35L5.41 20z\"/>\n",
              "  </svg>\n",
              "      </button>\n",
              "      \n",
              "  <style>\n",
              "    .colab-df-container {\n",
              "      display:flex;\n",
              "      flex-wrap:wrap;\n",
              "      gap: 12px;\n",
              "    }\n",
              "\n",
              "    .colab-df-convert {\n",
              "      background-color: #E8F0FE;\n",
              "      border: none;\n",
              "      border-radius: 50%;\n",
              "      cursor: pointer;\n",
              "      display: none;\n",
              "      fill: #1967D2;\n",
              "      height: 32px;\n",
              "      padding: 0 0 0 0;\n",
              "      width: 32px;\n",
              "    }\n",
              "\n",
              "    .colab-df-convert:hover {\n",
              "      background-color: #E2EBFA;\n",
              "      box-shadow: 0px 1px 2px rgba(60, 64, 67, 0.3), 0px 1px 3px 1px rgba(60, 64, 67, 0.15);\n",
              "      fill: #174EA6;\n",
              "    }\n",
              "\n",
              "    [theme=dark] .colab-df-convert {\n",
              "      background-color: #3B4455;\n",
              "      fill: #D2E3FC;\n",
              "    }\n",
              "\n",
              "    [theme=dark] .colab-df-convert:hover {\n",
              "      background-color: #434B5C;\n",
              "      box-shadow: 0px 1px 3px 1px rgba(0, 0, 0, 0.15);\n",
              "      filter: drop-shadow(0px 1px 2px rgba(0, 0, 0, 0.3));\n",
              "      fill: #FFFFFF;\n",
              "    }\n",
              "  </style>\n",
              "\n",
              "      <script>\n",
              "        const buttonEl =\n",
              "          document.querySelector('#df-27baeadb-fa30-497f-b1a1-e689072cf7bc button.colab-df-convert');\n",
              "        buttonEl.style.display =\n",
              "          google.colab.kernel.accessAllowed ? 'block' : 'none';\n",
              "\n",
              "        async function convertToInteractive(key) {\n",
              "          const element = document.querySelector('#df-27baeadb-fa30-497f-b1a1-e689072cf7bc');\n",
              "          const dataTable =\n",
              "            await google.colab.kernel.invokeFunction('convertToInteractive',\n",
              "                                                     [key], {});\n",
              "          if (!dataTable) return;\n",
              "\n",
              "          const docLinkHtml = 'Like what you see? Visit the ' +\n",
              "            '<a target=\"_blank\" href=https://colab.research.google.com/notebooks/data_table.ipynb>data table notebook</a>'\n",
              "            + ' to learn more about interactive tables.';\n",
              "          element.innerHTML = '';\n",
              "          dataTable['output_type'] = 'display_data';\n",
              "          await google.colab.output.renderOutput(dataTable, element);\n",
              "          const docLink = document.createElement('div');\n",
              "          docLink.innerHTML = docLinkHtml;\n",
              "          element.appendChild(docLink);\n",
              "        }\n",
              "      </script>\n",
              "    </div>\n",
              "  </div>\n",
              "  "
            ]
          },
          "metadata": {},
          "execution_count": 9
        }
      ]
    },
    {
      "cell_type": "markdown",
      "source": [
        "# **Form Geographical Regions**\n",
        "\n",
        "  - First, define a big region that covers Eastern Washington.\n",
        "  - Convert shapefile to ```ee.featurecollection.FeatureCollection```.\n"
      ],
      "metadata": {
        "id": "rgU4oL8K3MV7"
      }
    },
    {
      "cell_type": "code",
      "source": [
        "xmin = -125.0;\n",
        "ymin = 45.0;\n",
        "xmax = -116.0;\n",
        "ymax = 49.0;\n",
        "\n",
        "xmed = (xmin + xmax) / 2.0;\n",
        "ymed = (ymin+ymax) / 2.0;\n",
        "\n",
        "WA1 = ee.Geometry.Polygon([[xmin, ymin], [xmin, ymax], [xmed, ymax], [xmed, ymin], [xmin, ymin]]);\n",
        "WA2 = ee.Geometry.Polygon([[xmed, ymin], [xmed, ymax], [xmax, ymax], [xmax, ymin], [xmed, ymin]]);\n",
        "WA = [WA1,WA2];\n",
        "big_rectangle = ee.FeatureCollection(WA);\n",
        "SF = geemap.geopandas_to_ee(Grant_4Fields_poly_wCentroids)\n"
      ],
      "metadata": {
        "id": "rgU1qGvx5jAM"
      },
      "execution_count": 11,
      "outputs": []
    },
    {
      "cell_type": "markdown",
      "source": [
        "## **WARNING!**\n",
        "For some reason the function ```feature2ee(.)``` does not work ***when*** it is imported from ```core``` module. (However, it works when it is directly written here!!!!) So, What the hell will happen with the rest of functions, e.g. smoothing functions, we want to use here?"
      ],
      "metadata": {
        "id": "NdAnD4s4ASty"
      }
    },
    {
      "cell_type": "code",
      "source": [
        "# was named \"banke\" in https://bikeshbade.com.np/tutorials/Detail/?title=Geo-pandas%20data%20frame%20to%20GEE%20feature%20collection%20using%20Python&code=13\n",
        "# Grant_4Fields_poly_wCentroids_EEFC_from_Func = feature2ee(shp_path)\n",
        "# Grant_4Fields_poly_wCentroids_EEFC_from_Func = gpc.feature2ee(shp_path)"
      ],
      "metadata": {
        "id": "VlsU6nkK7Joz"
      },
      "execution_count": 12,
      "outputs": []
    },
    {
      "cell_type": "markdown",
      "source": [
        "# **Visualize the big region encompassing the Eastern Washington**"
      ],
      "metadata": {
        "id": "E9hYtdeW5ezU"
      }
    },
    {
      "cell_type": "code",
      "source": [
        "Map = geemap.Map(center=[ymed, xmed], zoom=7)\n",
        "Map.addLayer(WA1, {'color': 'red'}, 'Western Half')\n",
        "Map.addLayer(WA2, {'color': 'red'}, 'Eastern Half')\n",
        "Map.addLayer(SF, {'color': 'blue'}, 'Fields')\n",
        "Map"
      ],
      "metadata": {
        "colab": {
          "base_uri": "https://localhost:8080/",
          "height": 621,
          "referenced_widgets": [
            "9d7e207fa37c49998472755df6ea407b",
            "a5da0488a98a4a989ef8b4cae55b31d9",
            "ef330b4856024eb0a9739481168c4a1c",
            "0f9f195119de46b7a1b67324000b2bb4",
            "c1359c4777894f3099dbdf1381b5ec97",
            "a0ff10d2fcf5446a9b341f99c27198a4",
            "93546223267242f78316a4bab8126a94",
            "89a9e6ad23dd4ed8a26ea74669fde8cf",
            "03fc2063175d465e9eadc0c7cc281f2d",
            "bc62c1564f6341f29d34186e82e0cedd",
            "aae1177447ff418982ad5070e161305c",
            "e9c53fd139d7460f83e7d88b620d80f3",
            "697450fae22e4802a44e0f506a2afcfa",
            "2c817520ef28425dba6a40a58e921267",
            "9738acb8ba704f10a2326ea4d3d93d84",
            "09bd9a59ad2741c98f634bc1a7cd6ebc",
            "cb12290d55834a3d83218bc69b57c7ec",
            "061d4d3f2b4640339aa06b541e717a92",
            "c13fef68550b471fb1634d40c6a31842",
            "1f2ddb53affb4772b280a21a0e272994",
            "ae080e542ece43ba96e77d617433d9f7",
            "9bd9904079334be2a2f717a6d7a3961b",
            "1947519fc82b477b817069a81fbf7242",
            "2f3e24a05e7647c5922f8d4cdb43ba83",
            "e6995ffc817f44d08cbc519fdef07857",
            "b2bce4265663478ca35b615d53006a85",
            "484df1d14971455695c8e740c8637a4b",
            "eef7daf2a85f42a2a3d0b40601e235d7"
          ]
        },
        "id": "mVmBWoEb5fAm",
        "outputId": "a83298d3-e6b8-47c5-f3de-7243a278f18b"
      },
      "execution_count": 14,
      "outputs": [
        {
          "output_type": "display_data",
          "data": {
            "text/plain": [
              "Map(center=[47.0, -120.5], controls=(WidgetControl(options=['position', 'transparent_bg'], widget=HBox(childre…"
            ],
            "application/vnd.jupyter.widget-view+json": {
              "version_major": 2,
              "version_minor": 0,
              "model_id": "9d7e207fa37c49998472755df6ea407b"
            }
          },
          "metadata": {
            "application/vnd.jupyter.widget-view+json": {
              "colab": {
                "custom_widget_manager": {
                  "url": "https://ssl.gstatic.com/colaboratory-static/widgets/colab-cdn-widget-manager/a8874ba6619b6106/manager.min.js"
                }
              }
            }
          }
        }
      ]
    },
    {
      "cell_type": "markdown",
      "source": [
        "# **Define Parameters**"
      ],
      "metadata": {
        "id": "suZ4slkBhXrM"
      }
    },
    {
      "cell_type": "code",
      "source": [
        "start_date = \"2017-01-01\" # Date fromat for EE YYYY-MM-DD\n",
        "end_date = \"2017-12-30\"   # Date fromat for EE YYYY-MM-DD\n",
        "cloud_perc = 70"
      ],
      "metadata": {
        "id": "1ZPc-HNuhatk"
      },
      "execution_count": 15,
      "outputs": []
    },
    {
      "cell_type": "code",
      "source": [
        "imageC = gpc.extract_sentinel_IC(big_rectangle, start_date, end_date, cloud_perc);\n",
        "print (\"The size of [imageC.size().getInfo()] is [{:.0f}].\".format(imageC.size().getInfo()))\n",
        "reduced = gpc.mosaic_and_reduce_IC_mean(imageC, SF, start_date, end_date)"
      ],
      "metadata": {
        "colab": {
          "base_uri": "https://localhost:8080/"
        },
        "id": "LpZWNdHzPubb",
        "outputId": "21be3c7e-8494-4529-b0ae-597ff21a9cfb"
      },
      "execution_count": 16,
      "outputs": [
        {
          "output_type": "stream",
          "name": "stdout",
          "text": [
            "2428\n"
          ]
        }
      ]
    },
    {
      "cell_type": "markdown",
      "source": [
        "# **Export output to Google Drive, only if you want!**"
      ],
      "metadata": {
        "id": "h2ifGNw07cd6"
      }
    },
    {
      "cell_type": "code",
      "source": [
        "export_raw_data = False\n",
        "\n",
        "if export_raw_data==True:\n",
        "  outfile_name = \"Grant_4Fields_poly_wCentroids_colab_output\"\n",
        "  task = ee.batch.Export.table.toDrive(**{\n",
        "                                      'collection': reduced,\n",
        "                                      'description': outfile_name,\n",
        "                                      'folder': \"colab_outputs\",\n",
        "                                      'selectors':[\"ID\", \"Acres\", \"county\", \"CropTyp\", \"DataSrc\", \\\n",
        "                                                    \"Irrigtn\", \"LstSrvD\", \"EVI\", 'NDVI', \"system_start_time\"],\n",
        "                                      'fileFormat': 'CSV'})\n",
        "  task.start()\n",
        "\n",
        "  import time \n",
        "  while task.active():\n",
        "    print('Polling for task (id: {}). Still breathing'.format(task.id))\n",
        "    time.sleep(59)"
      ],
      "metadata": {
        "colab": {
          "base_uri": "https://localhost:8080/"
        },
        "id": "TmOxua9os46Y",
        "outputId": "99caf22f-a1b5-480b-826b-a2f14020e6a8"
      },
      "execution_count": null,
      "outputs": [
        {
          "output_type": "stream",
          "name": "stdout",
          "text": [
            "Polling for task (id: SYLVOVKSUWMZTHE4ZSFX57HG).\n"
          ]
        }
      ]
    },
    {
      "cell_type": "markdown",
      "source": [
        "#**Smooth the data**\n",
        "\n",
        "This is the end of Earh Engine Part. Below we start smoothing the data and carry on!\n",
        "\n",
        "First, all these steps can be done behind the scene. But doing them here, one at a time, has the advantage that if something goes wrong in the middle, then\n",
        "we do not lose the good stuff that was done earlier!\n",
        "For example, of one of the Python libraries/packages needs to be updated in the middle of the way\n",
        "we do not have to start doing everything from the beginning!\n",
        "<p>&nbsp;</p>\n",
        "\n",
        "Start with converting the type of ```reduced``` from ```ee.FeatureCollection``` to ```dataframe```.\n",
        "\n",
        "- For some reason when converting the ```ee.FeatureCollection``` to ```dataframe``` the function has a problem with the ```Notes``` column! So, I remove the unnecessary columns."
      ],
      "metadata": {
        "id": "_56djzTM9cdC"
      }
    },
    {
      "cell_type": "code",
      "source": [
        "# See how long it takes to convert a FeatureCollection to dataframe!\n",
        "%%time\n",
        "needed_columns = [\"ID\", \"Acres\", \"county\", \"CropTyp\", \"DataSrc\", \\\n",
        "                  \"Irrigtn\", \"LstSrvD\", \"EVI\", 'NDVI', \"system_start_time\"]\n",
        "reduced = geemap.ee_to_pandas(reduced, selectors=needed_columns)\n",
        "\n",
        "reduced = reduced[needed_columns]\n",
        "reduced.head(2)"
      ],
      "metadata": {
        "colab": {
          "base_uri": "https://localhost:8080/"
        },
        "id": "InWUd6YzwEFo",
        "outputId": "c77b8816-15c4-4327-c4f6-0a09d288dcb9"
      },
      "execution_count": 22,
      "outputs": [
        {
          "output_type": "stream",
          "name": "stdout",
          "text": [
            "CPU times: user 858 ms, sys: 121 ms, total: 978 ms\n",
            "Wall time: 2min 5s\n"
          ]
        }
      ]
    },
    {
      "cell_type": "code",
      "source": [
        "reduced.loc[0, \"system_start_time\"]"
      ],
      "metadata": {
        "colab": {
          "base_uri": "https://localhost:8080/"
        },
        "id": "6kRRqtTd5pno",
        "outputId": "b310c309-1f70-4058-c53e-ff3113427cd7"
      },
      "execution_count": 23,
      "outputs": [
        {
          "output_type": "execute_result",
          "data": {
            "text/plain": [
              "1483470589303.0"
            ]
          },
          "metadata": {},
          "execution_count": 23
        }
      ]
    },
    {
      "cell_type": "markdown",
      "source": [
        "# NA removal\n",
        "\n",
        "Even though logically and intuitively all the bands should be either available or ```NA```, I have seen before that sometimes ```EVI``` is NA while ```NDVI``` is not. Therefore, I had to choose which VI we want to use so that we can clean the data properly. However, I did not see that here.  when I was testing this code for 4 fields.\n",
        "\n",
        "Another suprising observation was that the output of Colab had more data compared to its JS counterpart!!!"
      ],
      "metadata": {
        "id": "fK8dO0yzc94q"
      }
    },
    {
      "cell_type": "code",
      "source": [
        "# reduced = reduced[reduced[\"system_start_time\"].notna()]\n",
        "reduced = reduced[reduced[\"EVI\"].notna()]\n",
        "reduced.reset_index(drop=True, inplace=True)"
      ],
      "metadata": {
        "id": "Nf5Athf2jlRe"
      },
      "execution_count": 24,
      "outputs": []
    },
    {
      "cell_type": "code",
      "source": [
        "reduced.loc[0, \"system_start_time\"]"
      ],
      "metadata": {
        "colab": {
          "base_uri": "https://localhost:8080/"
        },
        "id": "YGo99k8W6U2V",
        "outputId": "724daa6e-cb6c-468f-df24-0e1b6c1c92bc"
      },
      "execution_count": 25,
      "outputs": [
        {
          "output_type": "execute_result",
          "data": {
            "text/plain": [
              "1483470589303.0"
            ]
          },
          "metadata": {},
          "execution_count": 25
        }
      ]
    },
    {
      "cell_type": "markdown",
      "source": [
        "# Add human readable time to the dataframe"
      ],
      "metadata": {
        "id": "SWE3Cw8ChnNs"
      }
    },
    {
      "cell_type": "code",
      "source": [
        "reduced = nc.add_human_start_time_by_system_start_time(reduced)\n",
        "reduced.head(2)\n",
        "reduced.loc[0, \"system_start_time\"]"
      ],
      "metadata": {
        "id": "1IhNPSPCjwK4",
        "colab": {
          "base_uri": "https://localhost:8080/"
        },
        "outputId": "347a62d2-155c-48d6-d239-3797b0410573"
      },
      "execution_count": 26,
      "outputs": [
        {
          "output_type": "execute_result",
          "data": {
            "text/plain": [
              "1483470589.303"
            ]
          },
          "metadata": {},
          "execution_count": 26
        }
      ]
    },
    {
      "cell_type": "markdown",
      "source": [
        "# Make a plot for fun."
      ],
      "metadata": {
        "id": "yEOetbtbiEZZ"
      }
    },
    {
      "cell_type": "code",
      "source": [
        "#  Pick a field\n",
        "a_field = reduced[reduced.ID==reduced.ID.unique()[0]].copy()\n",
        "a_field.sort_values(by='human_system_start_time', axis=0, ascending=True, inplace=True)\n",
        "\n",
        "# Plot\n",
        "fig, ax = plt.subplots(1, 1, figsize=(20, 3),\n",
        "                       sharex='col', sharey='row',\n",
        "                       # sharex=True, sharey=True,\n",
        "                       gridspec_kw={'hspace': 0.2, 'wspace': .05});\n",
        "ax.grid(True);\n",
        "\n",
        "ncp.plot_oneColumn(raw_dt=a_field, ax = ax, idx = \"EVI\", _label = \"EVI\", _color=\"#d62728\")\n",
        "plt.ylim([-0.5, 1.2])"
      ],
      "metadata": {
        "colab": {
          "base_uri": "https://localhost:8080/",
          "height": 245
        },
        "id": "maPiNLpubCtE",
        "outputId": "3180bdeb-029d-44d1-fa5d-a5690883242e"
      },
      "execution_count": 116,
      "outputs": [
        {
          "output_type": "execute_result",
          "data": {
            "text/plain": [
              "(-0.5, 1.2)"
            ]
          },
          "metadata": {},
          "execution_count": 116
        },
        {
          "output_type": "display_data",
          "data": {
            "text/plain": [
              "<Figure size 1440x216 with 1 Axes>"
            ],
            "image/png": "[encoded data removed]"
          },
          "metadata": {
            "needs_background": "light"
          }
        }
      ]
    },
    {
      "cell_type": "markdown",
      "source": [
        "# Efficiency \n",
        "\n",
        "We can and should make this more efficient. Do some of the calculations in place as opposed to creating a new ```dataframe``` and copying stuff.\n",
        "\n",
        "#**Remove outliers**"
      ],
      "metadata": {
        "id": "sBUFPr-Zx2VH"
      }
    },
    {
      "cell_type": "code",
      "source": [
        "reduced[\"ID\"] = reduced[\"ID\"].astype(str)\n",
        "IDs = np.sort(reduced[\"ID\"].unique())\n",
        "indeks = \"EVI\""
      ],
      "metadata": {
        "id": "PschCyKp27bK"
      },
      "execution_count": 28,
      "outputs": []
    },
    {
      "cell_type": "code",
      "source": [
        "no_outlier_df = pd.DataFrame(data = None,\n",
        "                         index = np.arange(reduced.shape[0]), \n",
        "                         columns = reduced.columns)\n",
        "counter = 0\n",
        "row_pointer = 0\n",
        "for a_poly in IDs:\n",
        "    if (counter % 1000 == 0):\n",
        "        print (\"counter is [{:.0f}].\".format(counter))\n",
        "    curr_field = reduced[reduced[\"ID\"]==a_poly].copy()\n",
        "    # small fields may have nothing in them!\n",
        "    if curr_field.shape[0] > 2:\n",
        "        ##************************************************\n",
        "        #\n",
        "        #    Set negative index values to zero.\n",
        "        #\n",
        "        ##************************************************\n",
        "        \"\"\"\n",
        "         we are killing some of the ourliers here and put them\n",
        "         in the normal range! do we want to do it here? No, lets do it later.\n",
        "        \"\"\"\n",
        "        # curr_field.loc[curr_field[indeks] < 0 , indeks] = 0 \n",
        "        no_Outlier_TS = nc.interpolate_outliers_EVI_NDVI(outlier_input = curr_field, given_col = indeks)\n",
        "        no_Outlier_TS.loc[no_Outlier_TS[indeks] < 0 , indeks] = 0 \n",
        "\n",
        "        \"\"\"\n",
        "        it is possible that for a field we only have x=2 data points\n",
        "        where all the EVI/NDVI is outlier. Then, there is nothing to \n",
        "        use for interpolation. So, hopefully interpolate_outliers_EVI_NDVI is returning an empty data table.\n",
        "        \"\"\" \n",
        "        if len(no_Outlier_TS) > 0:\n",
        "            no_outlier_df[row_pointer: row_pointer + curr_field.shape[0]] = no_Outlier_TS.values\n",
        "            counter += 1\n",
        "            row_pointer += curr_field.shape[0]\n",
        "\n",
        "# Sanity check. Will neved occur. At least should not!\n",
        "no_outlier_df.drop_duplicates(inplace=True)"
      ],
      "metadata": {
        "colab": {
          "base_uri": "https://localhost:8080/"
        },
        "id": "D4JDoe0Sf3YO",
        "outputId": "13006f6b-9b92-4b58-9df4-ef057e0f7cfe"
      },
      "execution_count": 49,
      "outputs": [
        {
          "output_type": "stream",
          "name": "stdout",
          "text": [
            "counter is [0].\n"
          ]
        }
      ]
    },
    {
      "cell_type": "markdown",
      "source": [
        "#**Remove the damn jumps**\n",
        "\n",
        "Maybe we can remove old/previous dataframes to free memory up!"
      ],
      "metadata": {
        "id": "bygnLLy082lH"
      }
    },
    {
      "cell_type": "code",
      "source": [
        "noJump_df = pd.DataFrame(data = None,\n",
        "                         index = np.arange(no_outlier_df.shape[0]), \n",
        "                         columns = no_outlier_df.columns)\n",
        "counter = 0\n",
        "row_pointer = 0\n",
        "\n",
        "for a_poly in IDs:\n",
        "    if (counter % 1000 == 0):\n",
        "        print (\"counter is [{:.0f}].\".format(counter))\n",
        "    curr_field = no_outlier_df[no_outlier_df[\"ID\"]==a_poly].copy()\n",
        "    \n",
        "    ################################################################\n",
        "    # Sort by DoY (sanitary check)\n",
        "    curr_field.sort_values(by=['human_system_start_time'], inplace=True)\n",
        "    curr_field.reset_index(drop=True, inplace=True)\n",
        "    \n",
        "    ################################################################\n",
        "\n",
        "    no_Outlier_TS = nc.correct_big_jumps_1DaySeries_JFD(dataTMS_jumpie = curr_field, \n",
        "                                                        give_col = indeks, \n",
        "                                                        maxjump_perDay = 0.018)\n",
        "\n",
        "    noJump_df[row_pointer: row_pointer + curr_field.shape[0]] = no_Outlier_TS.values\n",
        "    counter += 1\n",
        "    row_pointer += curr_field.shape[0]\n",
        "\n",
        "noJump_df['human_system_start_time'] = pd.to_datetime(noJump_df['human_system_start_time'])\n",
        "\n",
        "# Sanity check. Will neved occur. At least should not!\n",
        "print (\"Shape of noJump_df before dropping duplicates is {}.\".format(noJump_df.shape)) \n",
        "noJump_df.drop_duplicates(inplace=True)\n",
        "print (\"Shape of noJump_df before dropping duplicates is {}.\".format(noJump_df.shape))"
      ],
      "metadata": {
        "colab": {
          "base_uri": "https://localhost:8080/"
        },
        "id": "9DEdxPAXgYsR",
        "outputId": "7b3e0d6b-3f0d-4049-fa9f-6948c3ec9373"
      },
      "execution_count": 59,
      "outputs": [
        {
          "output_type": "stream",
          "name": "stdout",
          "text": [
            "counter is [0].\n",
            "Shape of noJump_df before dropping duplicates is (204, 11).\n",
            "Shape of noJump_df before dropping duplicates is (204, 11).\n"
          ]
        }
      ]
    },
    {
      "cell_type": "markdown",
      "source": [
        "# **Regularize**\n",
        "\n",
        "Here we regularize the data. \"Regularization\" means pick a value for every 10-days. Doing this ensures 1. all inputs have the same length, 2. by picking maximum value of a VI we are reducing the noise in the time-series by eliminating noisy data points. For example, snow or shaddow can lead to understimating the true VI.\n",
        "\n",
        "Moreover, here, I am keeping only 3 columns. As long as we have ```ID``` we can\n",
        "merge the big dataframe with the final result later, here or externally.\n",
        "This will reduce amount of memory needed. Perhaps I should do this\n",
        "right the beginning."
      ],
      "metadata": {
        "id": "RnrloDSm-7qr"
      }
    },
    {
      "cell_type": "code",
      "source": [
        "# define parameters\n",
        "regular_window_size = 10\n",
        "reg_cols = ['ID', 'human_system_start_time', indeks] # list(noJump_df.columns)\n",
        "\n",
        "st_yr = noJump_df.human_system_start_time.dt.year.min()\n",
        "end_yr = noJump_df.human_system_start_time.dt.year.max()\n",
        "no_days = (end_yr - st_yr + 1) * 366 # 14 years, each year 366 days!\n",
        "\n",
        "no_steps = int(np.ceil(no_days / regular_window_size)) # no_days // regular_window_size\n",
        "\n",
        "nrows = no_steps * len(IDs)\n",
        "print('st_yr is {}.'.format(st_yr))\n",
        "print('end_yr is {}.'.format(end_yr))\n",
        "print('nrows is {}.'.format(nrows))"
      ],
      "metadata": {
        "colab": {
          "base_uri": "https://localhost:8080/"
        },
        "id": "b4uaS8yf3qjc",
        "outputId": "046ca9e6-99d5-49f4-abc0-f41df878c018"
      },
      "execution_count": 101,
      "outputs": [
        {
          "output_type": "stream",
          "name": "stdout",
          "text": [
            "st_yr is 2017.\n",
            "end_yr is 2017.\n",
            "nrows is 148.\n"
          ]
        }
      ]
    },
    {
      "cell_type": "code",
      "source": [
        "regular_df = pd.DataFrame(data = None,\n",
        "                         index = np.arange(nrows), \n",
        "                         columns = reg_cols)\n",
        "counter = 0\n",
        "row_pointer = 0\n",
        "\n",
        "for a_poly in IDs:\n",
        "    if (counter % 1000 == 0):\n",
        "        print (\"counter is [{:.0f}].\".format(counter))\n",
        "    curr_field = noJump_df[noJump_df[\"ID\"]==a_poly].copy()\n",
        "    ################################################################\n",
        "    # Sort by date (sanitary check)\n",
        "    curr_field.sort_values(by=['human_system_start_time'], inplace=True)\n",
        "    curr_field.reset_index(drop=True, inplace=True)\n",
        "    \n",
        "    ################################################################\n",
        "    regularized_TS = nc.regularize_a_field(a_df = curr_field, \\\n",
        "                                           V_idks = indeks, \\\n",
        "                                           interval_size = regular_window_size,\\\n",
        "                                           start_year = st_yr, \\\n",
        "                                           end_year = end_yr)\n",
        "    \n",
        "    regularized_TS = nc.fill_theGap_linearLine(a_regularized_TS = regularized_TS, V_idx = indeks)\n",
        "    # if (counter == 0):\n",
        "    #     print (\"regular_df columns:\",     regular_df.columns)\n",
        "    #     print (\"regularized_TS.columns\", regularized_TS.columns)\n",
        "    \n",
        "    ################################################################\n",
        "    # row_pointer = no_steps * counter\n",
        "    \n",
        "    \"\"\"\n",
        "       The reason for the following line is that we assume all years are 366 days!\n",
        "       so, the actual thing might be smaller!\n",
        "    \"\"\"\n",
        "    # why this should not work?: It may leave some empty rows in regular_df\n",
        "    # but we drop them at the end.\n",
        "    regular_df[row_pointer : (row_pointer+regularized_TS.shape[0])] = regularized_TS.values\n",
        "    row_pointer += regularized_TS.shape[0]\n",
        "\n",
        "    # right_pointer = row_pointer + min(no_steps, regularized_TS.shape[0])\n",
        "    # print('right_pointer - row_pointer + 1 is {}!'.format(right_pointer - row_pointer + 1))\n",
        "    # print('len(regularized_TS.values) is {}!'.format(len(regularized_TS.values)))\n",
        "    # try:\n",
        "    #     ### I do not know why the hell the following did not work for training set!\n",
        "    #     ### So, I converted this to try-except statement! hopefully, this will\n",
        "    #     ### work, at least as temporary remedy! Why it worked well with 2008-2021 but not 2013-2015\n",
        "    #     regular_df[row_pointer: right_pointer] = regularized_TS.values\n",
        "    # except:\n",
        "    #     regular_df[row_pointer: right_pointer+1] = regularized_TS.values\n",
        "    counter += 1\n",
        "\n",
        "regular_df['human_system_start_time'] = pd.to_datetime(regular_df['human_system_start_time'])\n",
        "regular_df.drop_duplicates(inplace=True)\n",
        "regular_df.dropna(inplace=True)\n",
        "\n",
        "# Sanity Check\n",
        "regular_df.sort_values(by=[\"ID\", 'human_system_start_time'], inplace=True)\n",
        "regular_df.reset_index(drop=True, inplace=True)\n"
      ],
      "metadata": {
        "colab": {
          "base_uri": "https://localhost:8080/"
        },
        "id": "WcwcEb4p3uB9",
        "outputId": "b2aa2591-51f2-49cd-9614-0c74d23acd98"
      },
      "execution_count": 102,
      "outputs": [
        {
          "output_type": "stream",
          "name": "stdout",
          "text": [
            "counter is [0].\n"
          ]
        }
      ]
    },
    {
      "cell_type": "code",
      "source": [
        "#  Pick a fields\n",
        "a_field = regular_df[regular_df.ID==reduced.ID.unique()[0]].copy()\n",
        "a_field.sort_values(by='human_system_start_time', axis=0, ascending=True, inplace=True)\n",
        "\n",
        "# Plot\n",
        "fig, ax = plt.subplots(1, 1, figsize=(20, 3), sharex='col', sharey='row',\n",
        "                       gridspec_kw={'hspace': 0.2, 'wspace': .05});\n",
        "ax.grid(True);\n",
        "ax.plot(a_field['human_system_start_time'], \n",
        "        a_field[\"EVI\"], \n",
        "        linestyle='-', label=\"EVI\", linewidth=3.5, color=\"#d62728\", alpha=0.8)\n",
        "\n",
        "ax.legend(loc=\"lower right\");\n",
        "plt.ylim([-0.5, 1.2]);"
      ],
      "metadata": {
        "colab": {
          "base_uri": "https://localhost:8080/",
          "height": 211
        },
        "id": "1B498-me7mMq",
        "outputId": "3b4d8975-d639-4566-84da-76285c4585c5"
      },
      "execution_count": 121,
      "outputs": [
        {
          "output_type": "display_data",
          "data": {
            "text/plain": [
              "<Figure size 1440x216 with 1 Axes>"
            ],
            "image/png": "[encoded data removed]"
          },
          "metadata": {
            "needs_background": "light"
          }
        }
      ]
    },
    {
      "cell_type": "markdown",
      "source": [
        "# **Savitzky-Golay Smoothing**"
      ],
      "metadata": {
        "id": "ram0TU5bEfqE"
      }
    },
    {
      "cell_type": "code",
      "source": [
        "counter = 0\n",
        "window_len = 7\n",
        "polynomial_order = 3\n",
        "\n",
        "for a_poly in IDs:\n",
        "    if (counter % 300 == 0):\n",
        "        print (\"counter is [{:.0f}].\".format(counter))\n",
        "    curr_field = regular_df[regular_df[\"ID\"]==a_poly].copy()\n",
        "    \n",
        "    # Smoothen by Savitzky-Golay\n",
        "    SG = scipy.signal.savgol_filter(curr_field[indeks].values, window_length=window_len, polyorder=polynomial_order)\n",
        "    SG[SG > 1 ] = 1 # SG might violate the boundaries. clip them:\n",
        "    SG[SG < -1 ] = -1\n",
        "    regular_df.loc[curr_field.index, indeks] = SG\n",
        "    counter += 1"
      ],
      "metadata": {
        "colab": {
          "base_uri": "https://localhost:8080/"
        },
        "id": "f4QosTqVBH2B",
        "outputId": "81c649a6-6921-4500-de14-6fc68138ed15"
      },
      "execution_count": 104,
      "outputs": [
        {
          "output_type": "stream",
          "name": "stdout",
          "text": [
            "counter is [0].\n"
          ]
        }
      ]
    },
    {
      "cell_type": "code",
      "source": [
        "#  Pick a fields\n",
        "an_ID = reduced.ID.unique()[0]\n",
        "a_field = regular_df[regular_df.ID==an_ID].copy()\n",
        "a_field.sort_values(by='human_system_start_time', axis=0, ascending=True, inplace=True)\n",
        "\n",
        "# Plot\n",
        "fig, ax = plt.subplots(1, 1, figsize=(20, 3),\n",
        "                       sharex='col', sharey='row',\n",
        "                       gridspec_kw={'hspace': 0.2, 'wspace': .05});\n",
        "ax.grid(True);\n",
        "ax.plot(a_field['human_system_start_time'], \n",
        "        a_field[\"EVI\"], \n",
        "        linestyle='-',  linewidth=3.5, color=\"#d62728\", alpha=0.8,\n",
        "        label=\"smooth EVI\")\n",
        "\n",
        "# Raw data where we started from\n",
        "raw = reduced[reduced.ID==an_ID].copy()\n",
        "raw.sort_values(by='human_system_start_time', axis=0, ascending=True, inplace=True)\n",
        "ax.scatter(raw['human_system_start_time'], raw[\"EVI\"], s=15, c='dodgerblue', label=\"raw EVI\");\n",
        "\n",
        "ax.legend(loc=\"lower right\");\n",
        "plt.ylim([-0.5, 1.2]);"
      ],
      "metadata": {
        "colab": {
          "base_uri": "https://localhost:8080/",
          "height": 211
        },
        "id": "yboIMfeWC_WH",
        "outputId": "207d1a17-96d1-444b-b806-39bd53b27118"
      },
      "execution_count": 124,
      "outputs": [
        {
          "output_type": "display_data",
          "data": {
            "text/plain": [
              "<Figure size 1440x216 with 1 Axes>"
            ],
            "image/png": "[encoded data removed]"
          },
          "metadata": {
            "needs_background": "light"
          }
        }
      ]
    },
    {
      "cell_type": "markdown",
      "source": [
        "# **Season Detection**"
      ],
      "metadata": {
        "id": "NSSjzF4dG62S"
      }
    },
    {
      "cell_type": "code",
      "source": [
        ""
      ],
      "metadata": {
        "id": "sQV7Xn8VF0Du"
      },
      "execution_count": null,
      "outputs": []
    }
  ]
}