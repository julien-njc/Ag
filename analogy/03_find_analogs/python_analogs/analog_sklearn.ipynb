{
 "cells": [
  {
   "cell_type": "code",
   "execution_count": 1,
   "metadata": {},
   "outputs": [],
   "source": [
    "import numpy as np\n",
    "import pandas as pd\n",
    "from sklearn import preprocessing"
   ]
  },
  {
   "cell_type": "code",
   "execution_count": 2,
   "metadata": {},
   "outputs": [],
   "source": [
    "in_dir = \"/Users/hn/Desktop/Desktop/Kirti/check_point/analogs/\"\n",
    "out_dir = \"/Users/hn/Desktop/\""
   ]
  },
  {
   "cell_type": "code",
   "execution_count": 3,
   "metadata": {},
   "outputs": [
    {
     "data": {
      "text/html": [
       "<div>\n",
       "<style scoped>\n",
       "    .dataframe tbody tr th:only-of-type {\n",
       "        vertical-align: middle;\n",
       "    }\n",
       "\n",
       "    .dataframe tbody tr th {\n",
       "        vertical-align: top;\n",
       "    }\n",
       "\n",
       "    .dataframe thead th {\n",
       "        text-align: right;\n",
       "    }\n",
       "</style>\n",
       "<table border=\"1\" class=\"dataframe\">\n",
       "  <thead>\n",
       "    <tr style=\"text-align: right;\">\n",
       "      <th></th>\n",
       "      <th>year</th>\n",
       "      <th>location</th>\n",
       "      <th>medianDoY</th>\n",
       "      <th>NumLarvaGens_Aug</th>\n",
       "      <th>mean_escaped_Gen1</th>\n",
       "      <th>mean_escaped_Gen2</th>\n",
       "      <th>mean_escaped_Gen3</th>\n",
       "      <th>mean_escaped_Gen4</th>\n",
       "      <th>mean_precip</th>\n",
       "      <th>mean_gdd</th>\n",
       "      <th>treatment</th>\n",
       "      <th>ClimateScenario</th>\n",
       "    </tr>\n",
       "  </thead>\n",
       "  <tbody>\n",
       "    <tr>\n",
       "      <th>0</th>\n",
       "      <td>1979</td>\n",
       "      <td>32.46875_-109.90625</td>\n",
       "      <td>68</td>\n",
       "      <td>2.939262</td>\n",
       "      <td>1.319697</td>\n",
       "      <td>7.080458</td>\n",
       "      <td>1.348167</td>\n",
       "      <td>0.0</td>\n",
       "      <td>300.525</td>\n",
       "      <td>4821.668922</td>\n",
       "      <td>0</td>\n",
       "      <td>observed</td>\n",
       "    </tr>\n",
       "    <tr>\n",
       "      <th>1</th>\n",
       "      <td>1979</td>\n",
       "      <td>32.46875_-109.96875</td>\n",
       "      <td>68</td>\n",
       "      <td>2.946050</td>\n",
       "      <td>1.245847</td>\n",
       "      <td>7.104994</td>\n",
       "      <td>1.396980</td>\n",
       "      <td>0.0</td>\n",
       "      <td>303.925</td>\n",
       "      <td>4831.770062</td>\n",
       "      <td>0</td>\n",
       "      <td>observed</td>\n",
       "    </tr>\n",
       "  </tbody>\n",
       "</table>\n",
       "</div>"
      ],
      "text/plain": [
       "   year             location  medianDoY  NumLarvaGens_Aug  mean_escaped_Gen1  \\\n",
       "0  1979  32.46875_-109.90625         68          2.939262           1.319697   \n",
       "1  1979  32.46875_-109.96875         68          2.946050           1.245847   \n",
       "\n",
       "   mean_escaped_Gen2  mean_escaped_Gen3  mean_escaped_Gen4  mean_precip  \\\n",
       "0           7.080458           1.348167                0.0      300.525   \n",
       "1           7.104994           1.396980                0.0      303.925   \n",
       "\n",
       "      mean_gdd  treatment ClimateScenario  \n",
       "0  4821.668922          0        observed  \n",
       "1  4831.770062          0        observed  "
      ]
     },
     "execution_count": 3,
     "metadata": {},
     "output_type": "execute_result"
    }
   ],
   "source": [
    "all_data_usa = pd.read_csv(in_dir + \"all_data_usa.csv\")\n",
    "avg_rcp45 = pd.read_csv(in_dir + \"averaged_data_rcp45.csv\")\n",
    "all_data_usa.head(2)"
   ]
  },
  {
   "cell_type": "code",
   "execution_count": 4,
   "metadata": {},
   "outputs": [
    {
     "data": {
      "text/html": [
       "<div>\n",
       "<style scoped>\n",
       "    .dataframe tbody tr th:only-of-type {\n",
       "        vertical-align: middle;\n",
       "    }\n",
       "\n",
       "    .dataframe tbody tr th {\n",
       "        vertical-align: top;\n",
       "    }\n",
       "\n",
       "    .dataframe thead th {\n",
       "        text-align: right;\n",
       "    }\n",
       "</style>\n",
       "<table border=\"1\" class=\"dataframe\">\n",
       "  <thead>\n",
       "    <tr style=\"text-align: right;\">\n",
       "      <th></th>\n",
       "      <th>year</th>\n",
       "      <th>location</th>\n",
       "      <th>medianDoY</th>\n",
       "      <th>NumLarvaGens_Aug</th>\n",
       "      <th>mean_escaped_Gen1</th>\n",
       "      <th>mean_escaped_Gen2</th>\n",
       "      <th>mean_escaped_Gen3</th>\n",
       "      <th>mean_escaped_Gen4</th>\n",
       "      <th>mean_precip</th>\n",
       "      <th>mean_gdd</th>\n",
       "      <th>treatment</th>\n",
       "      <th>ClimateScenario</th>\n",
       "    </tr>\n",
       "  </thead>\n",
       "  <tbody>\n",
       "    <tr>\n",
       "      <th>0</th>\n",
       "      <td>2026</td>\n",
       "      <td>43.53125_-116.59375</td>\n",
       "      <td>92</td>\n",
       "      <td>2.352305</td>\n",
       "      <td>23.368053</td>\n",
       "      <td>27.85959</td>\n",
       "      <td>3.009202</td>\n",
       "      <td>0.025247</td>\n",
       "      <td>268.491667</td>\n",
       "      <td>3669.118839</td>\n",
       "      <td>1</td>\n",
       "      <td>ensembe_mean</td>\n",
       "    </tr>\n",
       "    <tr>\n",
       "      <th>1</th>\n",
       "      <td>2026</td>\n",
       "      <td>43.59375_-116.78125</td>\n",
       "      <td>92</td>\n",
       "      <td>2.336201</td>\n",
       "      <td>24.035184</td>\n",
       "      <td>27.50817</td>\n",
       "      <td>2.912981</td>\n",
       "      <td>0.027137</td>\n",
       "      <td>260.750000</td>\n",
       "      <td>3623.723188</td>\n",
       "      <td>1</td>\n",
       "      <td>ensembe_mean</td>\n",
       "    </tr>\n",
       "  </tbody>\n",
       "</table>\n",
       "</div>"
      ],
      "text/plain": [
       "   year             location  medianDoY  NumLarvaGens_Aug  mean_escaped_Gen1  \\\n",
       "0  2026  43.53125_-116.59375         92          2.352305          23.368053   \n",
       "1  2026  43.59375_-116.78125         92          2.336201          24.035184   \n",
       "\n",
       "   mean_escaped_Gen2  mean_escaped_Gen3  mean_escaped_Gen4  mean_precip  \\\n",
       "0           27.85959           3.009202           0.025247   268.491667   \n",
       "1           27.50817           2.912981           0.027137   260.750000   \n",
       "\n",
       "      mean_gdd  treatment ClimateScenario  \n",
       "0  3669.118839          1    ensembe_mean  \n",
       "1  3623.723188          1    ensembe_mean  "
      ]
     },
     "execution_count": 4,
     "metadata": {},
     "output_type": "execute_result"
    }
   ],
   "source": [
    "avg_rcp45.head(2)"
   ]
  },
  {
   "cell_type": "markdown",
   "metadata": {},
   "source": [
    "## Append\n",
    "\n",
    "  - First append the needed treated unit to all historical/control units so we can find nearest locations.\n",
    "  - Then take numeric part of the data to be able to operate on them.\n",
    "        - normalize\n",
    "        - find distances\n",
    "  - add the distances back to the data frame.\n",
    "  - sort the data frame according to distances."
   ]
  },
  {
   "cell_type": "code",
   "execution_count": null,
   "metadata": {},
   "outputs": [],
   "source": [
    "one_site = avg_rcp45.iloc[0, :].copy()\n",
    "dt = all_data_usa.append(one_site)"
   ]
  },
  {
   "cell_type": "markdown",
   "metadata": {},
   "source": [
    "# Sklearn starts"
   ]
  },
  {
   "cell_type": "markdown",
   "metadata": {},
   "source": [
    "#### Take the numerical values so we can work with them, normalize them, compute KNNs"
   ]
  },
  {
   "cell_type": "code",
   "execution_count": null,
   "metadata": {},
   "outputs": [],
   "source": [
    "dt_numeric = dt.drop(['year', 'location', 'treatment', 'ClimateScenario'], axis=1).copy()\n",
    "dt_numeric.head(2)"
   ]
  },
  {
   "cell_type": "markdown",
   "metadata": {},
   "source": [
    "### Normalize data"
   ]
  },
  {
   "cell_type": "code",
   "execution_count": null,
   "metadata": {},
   "outputs": [],
   "source": [
    "x = dt_numeric.values\n",
    "min_max_scaler = preprocessing.MinMaxScaler()\n",
    "x_scaled = min_max_scaler.fit_transform(x)\n",
    "normalized_dt = pd.DataFrame(x_scaled)\n",
    "normalized_dt.tail(2)"
   ]
  },
  {
   "cell_type": "code",
   "execution_count": null,
   "metadata": {},
   "outputs": [],
   "source": [
    "normalized_dt.head(2)"
   ]
  },
  {
   "cell_type": "code",
   "execution_count": null,
   "metadata": {},
   "outputs": [],
   "source": [
    "print (type(normalized_dt))\n",
    "print (type(normalized_dt.iloc[1,1]))"
   ]
  },
  {
   "cell_type": "markdown",
   "metadata": {},
   "source": [
    "### compute Euclidean distances \n",
    "Subtract the last row from all other rows to compute distances."
   ]
  },
  {
   "cell_type": "code",
   "execution_count": null,
   "metadata": {},
   "outputs": [],
   "source": [
    "subtracted = normalized_dt - normalized_dt.iloc[-1, ]\n",
    "distances = np.linalg.norm(subtracted, axis=1, keepdims=True)\n",
    "dt['distances'] = distances\n",
    "dt = dt.sort_values(by=['distances'])\n",
    "dt.head(2)"
   ]
  },
  {
   "cell_type": "code",
   "execution_count": null,
   "metadata": {},
   "outputs": [],
   "source": [
    "out_name = one_site['location'] + '_' + str(one_site['year']) + \".csv\"\n",
    "\n",
    "print (out_name)\n",
    "\n",
    "dt.to_csv(out_dir + out_name, sep='\\t')\n",
    "\n"
   ]
  },
  {
   "cell_type": "code",
   "execution_count": null,
   "metadata": {},
   "outputs": [],
   "source": [
    "dt.head(10)"
   ]
  },
  {
   "cell_type": "code",
   "execution_count": null,
   "metadata": {},
   "outputs": [],
   "source": []
  }
 ],
 "metadata": {
  "kernelspec": {
   "display_name": "Python 3",
   "language": "python",
   "name": "python3"
  },
  "language_info": {
   "codemirror_mode": {
    "name": "ipython",
    "version": 3
   },
   "file_extension": ".py",
   "mimetype": "text/x-python",
   "name": "python",
   "nbconvert_exporter": "python",
   "pygments_lexer": "ipython3",
   "version": "3.6.8"
  }
 },
 "nbformat": 4,
 "nbformat_minor": 2
}
