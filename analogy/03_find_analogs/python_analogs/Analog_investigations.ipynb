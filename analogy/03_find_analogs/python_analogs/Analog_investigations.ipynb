{
 "cells": [
  {
   "cell_type": "markdown",
   "metadata": {},
   "source": [
    "# import libraries"
   ]
  },
  {
   "cell_type": "code",
   "execution_count": 1,
   "metadata": {},
   "outputs": [],
   "source": [
    "# basic libraries\n",
    "\n",
    "import numpy as np\n",
    "import pandas as pd\n",
    "from sklearn.covariance import EmpiricalCovariance, MinCovDet\n",
    "import sklearn.covariance\n",
    "from scipy.spatial import distance\n",
    "import sklearn\n",
    "from sklearn import preprocessing\n",
    "from sklearn.preprocessing import StandardScaler\n",
    "from sklearn.decomposition import PCA\n",
    "import math\n",
    "# plotting stuff\n",
    "import matplotlib.pyplot as plt\n",
    "import matplotlib as mpl\n",
    "import collections\n",
    "import seaborn as sb\n",
    "from matplotlib.pylab import rcParams\n",
    "rcParams['figure.figsize'] = 8, 6\n",
    "\n",
    "import warnings"
   ]
  },
  {
   "cell_type": "markdown",
   "metadata": {},
   "source": [
    "# Define directories"
   ]
  },
  {
   "cell_type": "code",
   "execution_count": 2,
   "metadata": {},
   "outputs": [],
   "source": [
    "in_dir = \"/Users/hn/Desktop/Desktop/Kirti/check_point/analogs/\"\n",
    "out_dir = \"/Users/hn/Desktop/\""
   ]
  },
  {
   "cell_type": "markdown",
   "metadata": {},
   "source": [
    "# Read data"
   ]
  },
  {
   "cell_type": "code",
   "execution_count": 3,
   "metadata": {},
   "outputs": [
    {
     "data": {
      "text/html": [
       "<div>\n",
       "<style scoped>\n",
       "    .dataframe tbody tr th:only-of-type {\n",
       "        vertical-align: middle;\n",
       "    }\n",
       "\n",
       "    .dataframe tbody tr th {\n",
       "        vertical-align: top;\n",
       "    }\n",
       "\n",
       "    .dataframe thead th {\n",
       "        text-align: right;\n",
       "    }\n",
       "</style>\n",
       "<table border=\"1\" class=\"dataframe\">\n",
       "  <thead>\n",
       "    <tr style=\"text-align: right;\">\n",
       "      <th></th>\n",
       "      <th>year</th>\n",
       "      <th>location</th>\n",
       "      <th>medianDoY</th>\n",
       "      <th>NumLarvaGens_Aug</th>\n",
       "      <th>mean_escaped_Gen1</th>\n",
       "      <th>mean_escaped_Gen2</th>\n",
       "      <th>mean_escaped_Gen3</th>\n",
       "      <th>mean_escaped_Gen4</th>\n",
       "      <th>mean_precip</th>\n",
       "      <th>mean_gdd</th>\n",
       "      <th>treatment</th>\n",
       "      <th>ClimateScenario</th>\n",
       "    </tr>\n",
       "  </thead>\n",
       "  <tbody>\n",
       "    <tr>\n",
       "      <th>0</th>\n",
       "      <td>1979</td>\n",
       "      <td>32.46875_-109.90625</td>\n",
       "      <td>68</td>\n",
       "      <td>2.939262</td>\n",
       "      <td>1.319697</td>\n",
       "      <td>7.080458</td>\n",
       "      <td>1.348167</td>\n",
       "      <td>0.0</td>\n",
       "      <td>300.525</td>\n",
       "      <td>4821.668922</td>\n",
       "      <td>0</td>\n",
       "      <td>observed</td>\n",
       "    </tr>\n",
       "    <tr>\n",
       "      <th>1</th>\n",
       "      <td>1979</td>\n",
       "      <td>32.46875_-109.96875</td>\n",
       "      <td>68</td>\n",
       "      <td>2.946050</td>\n",
       "      <td>1.245847</td>\n",
       "      <td>7.104994</td>\n",
       "      <td>1.396980</td>\n",
       "      <td>0.0</td>\n",
       "      <td>303.925</td>\n",
       "      <td>4831.770062</td>\n",
       "      <td>0</td>\n",
       "      <td>observed</td>\n",
       "    </tr>\n",
       "  </tbody>\n",
       "</table>\n",
       "</div>"
      ],
      "text/plain": [
       "   year             location  medianDoY  NumLarvaGens_Aug  mean_escaped_Gen1  \\\n",
       "0  1979  32.46875_-109.90625         68          2.939262           1.319697   \n",
       "1  1979  32.46875_-109.96875         68          2.946050           1.245847   \n",
       "\n",
       "   mean_escaped_Gen2  mean_escaped_Gen3  mean_escaped_Gen4  mean_precip  \\\n",
       "0           7.080458           1.348167                0.0      300.525   \n",
       "1           7.104994           1.396980                0.0      303.925   \n",
       "\n",
       "      mean_gdd  treatment ClimateScenario  \n",
       "0  4821.668922          0        observed  \n",
       "1  4831.770062          0        observed  "
      ]
     },
     "execution_count": 3,
     "metadata": {},
     "output_type": "execute_result"
    }
   ],
   "source": [
    "all_data_usa = pd.read_csv(in_dir + \"all_data_usa.csv\")\n",
    "all_data_usa.head(2)"
   ]
  },
  {
   "cell_type": "markdown",
   "metadata": {},
   "source": [
    "# Take numerical part of data\n",
    "i.e. drop the string columns indication years, locations, etc."
   ]
  },
  {
   "cell_type": "code",
   "execution_count": 4,
   "metadata": {},
   "outputs": [
    {
     "name": "stdout",
     "output_type": "stream",
     "text": [
      "['year', 'location', 'medianDoY', 'NumLarvaGens_Aug', 'mean_escaped_Gen1', 'mean_escaped_Gen2', 'mean_escaped_Gen3', 'mean_escaped_Gen4', 'mean_precip', 'mean_gdd', 'treatment', 'ClimateScenario']\n"
     ]
    }
   ],
   "source": [
    "print(list(all_data_usa)) # print makes it horizontal"
   ]
  },
  {
   "cell_type": "code",
   "execution_count": 5,
   "metadata": {},
   "outputs": [],
   "source": [
    "numeric_feat = ['medianDoY', 'NumLarvaGens_Aug', 'mean_escaped_Gen1', 'mean_escaped_Gen2',\n",
    "                'mean_escaped_Gen3', 'mean_escaped_Gen4', 'mean_precip', 'mean_gdd']\n",
    "all_usa_numeric = all_data_usa.loc[:, numeric_feat].copy()"
   ]
  },
  {
   "cell_type": "code",
   "execution_count": 6,
   "metadata": {},
   "outputs": [
    {
     "data": {
      "text/html": [
       "<div>\n",
       "<style scoped>\n",
       "    .dataframe tbody tr th:only-of-type {\n",
       "        vertical-align: middle;\n",
       "    }\n",
       "\n",
       "    .dataframe tbody tr th {\n",
       "        vertical-align: top;\n",
       "    }\n",
       "\n",
       "    .dataframe thead th {\n",
       "        text-align: right;\n",
       "    }\n",
       "</style>\n",
       "<table border=\"1\" class=\"dataframe\">\n",
       "  <thead>\n",
       "    <tr style=\"text-align: right;\">\n",
       "      <th></th>\n",
       "      <th>medianDoY</th>\n",
       "      <th>NumLarvaGens_Aug</th>\n",
       "      <th>mean_escaped_Gen1</th>\n",
       "      <th>mean_escaped_Gen2</th>\n",
       "      <th>mean_escaped_Gen3</th>\n",
       "      <th>mean_escaped_Gen4</th>\n",
       "      <th>mean_precip</th>\n",
       "      <th>mean_gdd</th>\n",
       "    </tr>\n",
       "  </thead>\n",
       "  <tbody>\n",
       "    <tr>\n",
       "      <th>0</th>\n",
       "      <td>68</td>\n",
       "      <td>2.939262</td>\n",
       "      <td>1.319697</td>\n",
       "      <td>7.080458</td>\n",
       "      <td>1.348167</td>\n",
       "      <td>0.0</td>\n",
       "      <td>300.525</td>\n",
       "      <td>4821.668922</td>\n",
       "    </tr>\n",
       "    <tr>\n",
       "      <th>1</th>\n",
       "      <td>68</td>\n",
       "      <td>2.946050</td>\n",
       "      <td>1.245847</td>\n",
       "      <td>7.104994</td>\n",
       "      <td>1.396980</td>\n",
       "      <td>0.0</td>\n",
       "      <td>303.925</td>\n",
       "      <td>4831.770062</td>\n",
       "    </tr>\n",
       "  </tbody>\n",
       "</table>\n",
       "</div>"
      ],
      "text/plain": [
       "   medianDoY  NumLarvaGens_Aug  mean_escaped_Gen1  mean_escaped_Gen2  \\\n",
       "0         68          2.939262           1.319697           7.080458   \n",
       "1         68          2.946050           1.245847           7.104994   \n",
       "\n",
       "   mean_escaped_Gen3  mean_escaped_Gen4  mean_precip     mean_gdd  \n",
       "0           1.348167                0.0      300.525  4821.668922  \n",
       "1           1.396980                0.0      303.925  4831.770062  "
      ]
     },
     "execution_count": 6,
     "metadata": {},
     "output_type": "execute_result"
    }
   ],
   "source": [
    "all_usa_numeric.head(2)"
   ]
  },
  {
   "cell_type": "code",
   "execution_count": 7,
   "metadata": {},
   "outputs": [],
   "source": [
    "# compute correlation matrix\n",
    "corr_Mat = all_usa_numeric.corr()"
   ]
  },
  {
   "cell_type": "markdown",
   "metadata": {},
   "source": [
    "plt.matshow(corr_Mat)\n",
    "plt.show()"
   ]
  },
  {
   "cell_type": "code",
   "execution_count": 8,
   "metadata": {},
   "outputs": [
    {
     "data": {
      "image/png": "[encoded data removed]",
      "text/plain": [
       "<Figure size 720x360 with 2 Axes>"
      ]
     },
     "metadata": {},
     "output_type": "display_data"
    }
   ],
   "source": [
    "mask = np.array(corr_Mat)\n",
    "mask[np.tril_indices_from(mask)] = False\n",
    "fig,ax= plt.subplots()\n",
    "fig.set_size_inches(10,5)\n",
    "\n",
    "# the following line can be added to the plot command\n",
    "# .set_xticklabels(ax.get_xticklabels(), rotation=70) # , vmax=.8\n",
    "sb.heatmap(corr_Mat, mask=mask, annot=True, square=True); "
   ]
  },
  {
   "cell_type": "code",
   "execution_count": 9,
   "metadata": {},
   "outputs": [
    {
     "data": {
      "text/html": [
       "<div>\n",
       "<style scoped>\n",
       "    .dataframe tbody tr th:only-of-type {\n",
       "        vertical-align: middle;\n",
       "    }\n",
       "\n",
       "    .dataframe tbody tr th {\n",
       "        vertical-align: top;\n",
       "    }\n",
       "\n",
       "    .dataframe thead th {\n",
       "        text-align: right;\n",
       "    }\n",
       "</style>\n",
       "<table border=\"1\" class=\"dataframe\">\n",
       "  <thead>\n",
       "    <tr style=\"text-align: right;\">\n",
       "      <th></th>\n",
       "      <th>medianDoY</th>\n",
       "      <th>NumLarvaGens_Aug</th>\n",
       "      <th>mean_escaped_Gen1</th>\n",
       "      <th>mean_escaped_Gen2</th>\n",
       "      <th>mean_escaped_Gen3</th>\n",
       "      <th>mean_escaped_Gen4</th>\n",
       "      <th>mean_precip</th>\n",
       "      <th>mean_gdd</th>\n",
       "    </tr>\n",
       "  </thead>\n",
       "  <tbody>\n",
       "    <tr>\n",
       "      <th>medianDoY</th>\n",
       "      <td>1.000000</td>\n",
       "      <td>-0.930232</td>\n",
       "      <td>0.857038</td>\n",
       "      <td>-0.152723</td>\n",
       "      <td>-0.817308</td>\n",
       "      <td>-0.369176</td>\n",
       "      <td>0.284099</td>\n",
       "      <td>-0.950182</td>\n",
       "    </tr>\n",
       "    <tr>\n",
       "      <th>NumLarvaGens_Aug</th>\n",
       "      <td>-0.930232</td>\n",
       "      <td>1.000000</td>\n",
       "      <td>-0.850017</td>\n",
       "      <td>0.192258</td>\n",
       "      <td>0.878302</td>\n",
       "      <td>0.444866</td>\n",
       "      <td>-0.284415</td>\n",
       "      <td>0.983979</td>\n",
       "    </tr>\n",
       "    <tr>\n",
       "      <th>mean_escaped_Gen1</th>\n",
       "      <td>0.857038</td>\n",
       "      <td>-0.850017</td>\n",
       "      <td>1.000000</td>\n",
       "      <td>0.103807</td>\n",
       "      <td>-0.734399</td>\n",
       "      <td>-0.284559</td>\n",
       "      <td>-0.080484</td>\n",
       "      <td>-0.882840</td>\n",
       "    </tr>\n",
       "    <tr>\n",
       "      <th>mean_escaped_Gen2</th>\n",
       "      <td>-0.152723</td>\n",
       "      <td>0.192258</td>\n",
       "      <td>0.103807</td>\n",
       "      <td>1.000000</td>\n",
       "      <td>0.100283</td>\n",
       "      <td>-0.088287</td>\n",
       "      <td>-0.408131</td>\n",
       "      <td>0.131926</td>\n",
       "    </tr>\n",
       "    <tr>\n",
       "      <th>mean_escaped_Gen3</th>\n",
       "      <td>-0.817308</td>\n",
       "      <td>0.878302</td>\n",
       "      <td>-0.734399</td>\n",
       "      <td>0.100283</td>\n",
       "      <td>1.000000</td>\n",
       "      <td>0.572224</td>\n",
       "      <td>-0.276170</td>\n",
       "      <td>0.875230</td>\n",
       "    </tr>\n",
       "    <tr>\n",
       "      <th>mean_escaped_Gen4</th>\n",
       "      <td>-0.369176</td>\n",
       "      <td>0.444866</td>\n",
       "      <td>-0.284559</td>\n",
       "      <td>-0.088287</td>\n",
       "      <td>0.572224</td>\n",
       "      <td>1.000000</td>\n",
       "      <td>-0.171632</td>\n",
       "      <td>0.430681</td>\n",
       "    </tr>\n",
       "    <tr>\n",
       "      <th>mean_precip</th>\n",
       "      <td>0.284099</td>\n",
       "      <td>-0.284415</td>\n",
       "      <td>-0.080484</td>\n",
       "      <td>-0.408131</td>\n",
       "      <td>-0.276170</td>\n",
       "      <td>-0.171632</td>\n",
       "      <td>1.000000</td>\n",
       "      <td>-0.270580</td>\n",
       "    </tr>\n",
       "    <tr>\n",
       "      <th>mean_gdd</th>\n",
       "      <td>-0.950182</td>\n",
       "      <td>0.983979</td>\n",
       "      <td>-0.882840</td>\n",
       "      <td>0.131926</td>\n",
       "      <td>0.875230</td>\n",
       "      <td>0.430681</td>\n",
       "      <td>-0.270580</td>\n",
       "      <td>1.000000</td>\n",
       "    </tr>\n",
       "  </tbody>\n",
       "</table>\n",
       "</div>"
      ],
      "text/plain": [
       "                   medianDoY  NumLarvaGens_Aug  mean_escaped_Gen1  \\\n",
       "medianDoY           1.000000         -0.930232           0.857038   \n",
       "NumLarvaGens_Aug   -0.930232          1.000000          -0.850017   \n",
       "mean_escaped_Gen1   0.857038         -0.850017           1.000000   \n",
       "mean_escaped_Gen2  -0.152723          0.192258           0.103807   \n",
       "mean_escaped_Gen3  -0.817308          0.878302          -0.734399   \n",
       "mean_escaped_Gen4  -0.369176          0.444866          -0.284559   \n",
       "mean_precip         0.284099         -0.284415          -0.080484   \n",
       "mean_gdd           -0.950182          0.983979          -0.882840   \n",
       "\n",
       "                   mean_escaped_Gen2  mean_escaped_Gen3  mean_escaped_Gen4  \\\n",
       "medianDoY                  -0.152723          -0.817308          -0.369176   \n",
       "NumLarvaGens_Aug            0.192258           0.878302           0.444866   \n",
       "mean_escaped_Gen1           0.103807          -0.734399          -0.284559   \n",
       "mean_escaped_Gen2           1.000000           0.100283          -0.088287   \n",
       "mean_escaped_Gen3           0.100283           1.000000           0.572224   \n",
       "mean_escaped_Gen4          -0.088287           0.572224           1.000000   \n",
       "mean_precip                -0.408131          -0.276170          -0.171632   \n",
       "mean_gdd                    0.131926           0.875230           0.430681   \n",
       "\n",
       "                   mean_precip  mean_gdd  \n",
       "medianDoY             0.284099 -0.950182  \n",
       "NumLarvaGens_Aug     -0.284415  0.983979  \n",
       "mean_escaped_Gen1    -0.080484 -0.882840  \n",
       "mean_escaped_Gen2    -0.408131  0.131926  \n",
       "mean_escaped_Gen3    -0.276170  0.875230  \n",
       "mean_escaped_Gen4    -0.171632  0.430681  \n",
       "mean_precip           1.000000 -0.270580  \n",
       "mean_gdd             -0.270580  1.000000  "
      ]
     },
     "execution_count": 9,
     "metadata": {},
     "output_type": "execute_result"
    }
   ],
   "source": [
    "corr_Mat"
   ]
  },
  {
   "cell_type": "code",
   "execution_count": 10,
   "metadata": {},
   "outputs": [
    {
     "name": "stdout",
     "output_type": "stream",
     "text": [
      "condition number of the correlation matrix is 436.38.\n"
     ]
    },
    {
     "data": {
      "text/html": [
       "<div>\n",
       "<style scoped>\n",
       "    .dataframe tbody tr th:only-of-type {\n",
       "        vertical-align: middle;\n",
       "    }\n",
       "\n",
       "    .dataframe tbody tr th {\n",
       "        vertical-align: top;\n",
       "    }\n",
       "\n",
       "    .dataframe thead th {\n",
       "        text-align: right;\n",
       "    }\n",
       "</style>\n",
       "<table border=\"1\" class=\"dataframe\">\n",
       "  <thead>\n",
       "    <tr style=\"text-align: right;\">\n",
       "      <th></th>\n",
       "      <th>medianDoY</th>\n",
       "      <th>NumLarvaGens_Aug</th>\n",
       "      <th>mean_escaped_Gen1</th>\n",
       "      <th>mean_escaped_Gen2</th>\n",
       "      <th>mean_escaped_Gen3</th>\n",
       "      <th>mean_escaped_Gen4</th>\n",
       "      <th>mean_precip</th>\n",
       "      <th>mean_gdd</th>\n",
       "    </tr>\n",
       "  </thead>\n",
       "  <tbody>\n",
       "    <tr>\n",
       "      <th>medianDoY</th>\n",
       "      <td>11.540989</td>\n",
       "      <td>-1.731001</td>\n",
       "      <td>-3.141946</td>\n",
       "      <td>0.668877</td>\n",
       "      <td>-0.158892</td>\n",
       "      <td>-0.077251</td>\n",
       "      <td>-1.195379</td>\n",
       "      <td>9.656126</td>\n",
       "    </tr>\n",
       "    <tr>\n",
       "      <th>NumLarvaGens_Aug</th>\n",
       "      <td>-1.731001</td>\n",
       "      <td>38.957673</td>\n",
       "      <td>-0.497507</td>\n",
       "      <td>-2.817479</td>\n",
       "      <td>-2.215185</td>\n",
       "      <td>-0.878786</td>\n",
       "      <td>-0.635755</td>\n",
       "      <td>-37.900581</td>\n",
       "    </tr>\n",
       "    <tr>\n",
       "      <th>mean_escaped_Gen1</th>\n",
       "      <td>-3.141946</td>\n",
       "      <td>-0.497507</td>\n",
       "      <td>12.165586</td>\n",
       "      <td>-1.633520</td>\n",
       "      <td>-0.222199</td>\n",
       "      <td>-1.260194</td>\n",
       "      <td>3.533136</td>\n",
       "      <td>10.153098</td>\n",
       "    </tr>\n",
       "    <tr>\n",
       "      <th>mean_escaped_Gen2</th>\n",
       "      <td>0.668877</td>\n",
       "      <td>-2.817479</td>\n",
       "      <td>-1.633520</td>\n",
       "      <td>1.687188</td>\n",
       "      <td>0.132260</td>\n",
       "      <td>0.505908</td>\n",
       "      <td>0.076079</td>\n",
       "      <td>1.430118</td>\n",
       "    </tr>\n",
       "    <tr>\n",
       "      <th>mean_escaped_Gen3</th>\n",
       "      <td>-0.158892</td>\n",
       "      <td>-2.215185</td>\n",
       "      <td>-0.222199</td>\n",
       "      <td>0.132260</td>\n",
       "      <td>5.508070</td>\n",
       "      <td>-1.198954</td>\n",
       "      <td>0.100369</td>\n",
       "      <td>-2.462197</td>\n",
       "    </tr>\n",
       "    <tr>\n",
       "      <th>mean_escaped_Gen4</th>\n",
       "      <td>-0.077251</td>\n",
       "      <td>-0.878786</td>\n",
       "      <td>-1.260194</td>\n",
       "      <td>0.505908</td>\n",
       "      <td>-1.198954</td>\n",
       "      <td>1.766883</td>\n",
       "      <td>-0.191791</td>\n",
       "      <td>-0.151485</td>\n",
       "    </tr>\n",
       "    <tr>\n",
       "      <th>mean_precip</th>\n",
       "      <td>-1.195379</td>\n",
       "      <td>-0.635755</td>\n",
       "      <td>3.533136</td>\n",
       "      <td>0.076079</td>\n",
       "      <td>0.100369</td>\n",
       "      <td>-0.191791</td>\n",
       "      <td>2.342275</td>\n",
       "      <td>3.227426</td>\n",
       "    </tr>\n",
       "    <tr>\n",
       "      <th>mean_gdd</th>\n",
       "      <td>9.656126</td>\n",
       "      <td>-37.900581</td>\n",
       "      <td>10.153098</td>\n",
       "      <td>1.430118</td>\n",
       "      <td>-2.462197</td>\n",
       "      <td>-0.151485</td>\n",
       "      <td>3.227426</td>\n",
       "      <td>59.336864</td>\n",
       "    </tr>\n",
       "  </tbody>\n",
       "</table>\n",
       "</div>"
      ],
      "text/plain": [
       "                   medianDoY  NumLarvaGens_Aug  mean_escaped_Gen1  \\\n",
       "medianDoY          11.540989         -1.731001          -3.141946   \n",
       "NumLarvaGens_Aug   -1.731001         38.957673          -0.497507   \n",
       "mean_escaped_Gen1  -3.141946         -0.497507          12.165586   \n",
       "mean_escaped_Gen2   0.668877         -2.817479          -1.633520   \n",
       "mean_escaped_Gen3  -0.158892         -2.215185          -0.222199   \n",
       "mean_escaped_Gen4  -0.077251         -0.878786          -1.260194   \n",
       "mean_precip        -1.195379         -0.635755           3.533136   \n",
       "mean_gdd            9.656126        -37.900581          10.153098   \n",
       "\n",
       "                   mean_escaped_Gen2  mean_escaped_Gen3  mean_escaped_Gen4  \\\n",
       "medianDoY                   0.668877          -0.158892          -0.077251   \n",
       "NumLarvaGens_Aug           -2.817479          -2.215185          -0.878786   \n",
       "mean_escaped_Gen1          -1.633520          -0.222199          -1.260194   \n",
       "mean_escaped_Gen2           1.687188           0.132260           0.505908   \n",
       "mean_escaped_Gen3           0.132260           5.508070          -1.198954   \n",
       "mean_escaped_Gen4           0.505908          -1.198954           1.766883   \n",
       "mean_precip                 0.076079           0.100369          -0.191791   \n",
       "mean_gdd                    1.430118          -2.462197          -0.151485   \n",
       "\n",
       "                   mean_precip   mean_gdd  \n",
       "medianDoY            -1.195379   9.656126  \n",
       "NumLarvaGens_Aug     -0.635755 -37.900581  \n",
       "mean_escaped_Gen1     3.533136  10.153098  \n",
       "mean_escaped_Gen2     0.076079   1.430118  \n",
       "mean_escaped_Gen3     0.100369  -2.462197  \n",
       "mean_escaped_Gen4    -0.191791  -0.151485  \n",
       "mean_precip           2.342275   3.227426  \n",
       "mean_gdd              3.227426  59.336864  "
      ]
     },
     "execution_count": 10,
     "metadata": {},
     "output_type": "execute_result"
    }
   ],
   "source": [
    "print (\"condition number of the correlation matrix is {:0.2f}.\".format(np.linalg.cond(corr_Mat.values)))\n",
    "corr_Mat_inv = pd.DataFrame(np.linalg.pinv(corr_Mat.values), corr_Mat.columns, corr_Mat.index)\n",
    "corr_Mat_inv"
   ]
  },
  {
   "cell_type": "markdown",
   "metadata": {},
   "source": [
    "# Drop the mean_gdd\n",
    "The mean_gdd has high correlation with other features, lets drop it and see how it goes"
   ]
  },
  {
   "cell_type": "code",
   "execution_count": null,
   "metadata": {},
   "outputs": [],
   "source": [
    "numeric_feat = ['medianDoY', 'NumLarvaGens_Aug', 'mean_escaped_Gen1', 'mean_escaped_Gen2',\n",
    "                'mean_escaped_Gen3', 'mean_escaped_Gen4', 'mean_precip']\n",
    "\n",
    "all_usa_numeric = all_data_usa.loc[:, numeric_feat].copy()\n",
    "corr_Mat = all_usa_numeric.corr()"
   ]
  },
  {
   "cell_type": "code",
   "execution_count": null,
   "metadata": {},
   "outputs": [],
   "source": [
    "corr_Mat"
   ]
  },
  {
   "cell_type": "markdown",
   "metadata": {},
   "source": [
    "# Standerdize, mian_max normalize\n",
    "\n",
    "Scaling, standardizing, the data is already in the definition of correlation, so, scaling would not help that."
   ]
  },
  {
   "cell_type": "markdown",
   "metadata": {},
   "source": [
    "### standardize:"
   ]
  },
  {
   "cell_type": "markdown",
   "metadata": {},
   "source": [
    "numeric_feat = ['medianDoY', 'NumLarvaGens_Aug', 'mean_escaped_Gen1', 'mean_escaped_Gen2',\n",
    "            'mean_escaped_Gen3', 'mean_escaped_Gen4', 'mean_precip', 'mean_gdd']\n",
    "all_usa_numeric = all_data_usa.loc[:, numeric_feat].copy()\n",
    "\n",
    "# standardize\n",
    "all_usa_numeric = StandardScaler().fit_transform(all_usa_numeric)\n",
    "\n",
    "# convert back to dataframe\n",
    "all_usa_numeric = pd.DataFrame(data=all_usa_numeric, columns=features)\n",
    "all_usa_numeric.head(2)\n",
    "\n",
    "###############################################################\n",
    "\n",
    "corr_Mat = all_usa_numeric.corr()\n",
    "mask = np.array(corr_Mat)\n",
    "mask[np.tril_indices_from(mask)] = False\n",
    "fig,ax= plt.subplots()\n",
    "fig.set_size_inches(10,5)\n",
    "sb.heatmap(corr_Mat, mask=mask, annot=True, square=True); \n",
    "###############################################################\n",
    "\n",
    "### min max scaling\n",
    "\n",
    "numeric_feat = ['medianDoY', 'NumLarvaGens_Aug', 'mean_escaped_Gen1', 'mean_escaped_Gen2',\n",
    "            'mean_escaped_Gen3', 'mean_escaped_Gen4', 'mean_precip', 'mean_gdd']\n",
    "\n",
    "all_usa_numeric = all_data_usa.loc[:, numeric_feat].copy()\n",
    "\n",
    "x = all_usa_numeric.values\n",
    "min_max_scaler = preprocessing.MinMaxScaler()\n",
    "x_scaled = min_max_scaler.fit_transform(x)\n",
    "normalized_dt = pd.DataFrame(x_scaled, columns = numeric_feat)\n",
    "normalized_dt.tail(2)\n",
    "\n",
    "corr_Mat = all_usa_numeric.corr()\n",
    "mask = np.array(corr_Mat)\n",
    "mask[np.tril_indices_from(mask)] = False\n",
    "fig,ax= plt.subplots()\n",
    "fig.set_size_inches(10,5)\n",
    "sb.heatmap(corr_Mat, mask=mask, annot=True, square=True); "
   ]
  },
  {
   "cell_type": "markdown",
   "metadata": {},
   "source": [
    "# Apply PCA"
   ]
  },
  {
   "cell_type": "code",
   "execution_count": null,
   "metadata": {},
   "outputs": [],
   "source": [
    "numeric_feat = ['medianDoY', 'NumLarvaGens_Aug', 'mean_escaped_Gen1', 'mean_escaped_Gen2',\n",
    "                'mean_escaped_Gen3', 'mean_escaped_Gen4', 'mean_precip', 'mean_gdd']\n",
    "\n",
    "all_usa_numeric = all_data_usa.loc[:, numeric_feat].copy()\n",
    "all_usa_numeric.head(2)"
   ]
  },
  {
   "cell_type": "markdown",
   "metadata": {},
   "source": [
    "## min_max scaling\n",
    "\n",
    "    all_usa_numeric = all_usa_numeric.values\n",
    "    min_max_scaler = preprocessing.MinMaxScaler()\n",
    "    all_usa_scaled = min_max_scaler.fit_transform(all_usa_numeric)\n",
    "    all_usa_scaled = pd.DataFrame(all_usa_scaled, columns=numeric_feat)\n",
    "    all_usa_scaled.head(2)\n",
    "\n",
    "    pca = PCA(n_components=2)\n",
    "    principal_components = pca.fit_transform(all_usa_scaled)\n",
    "\n",
    "    principal_Df = pd.DataFrame(data = principal_components, columns = ['principal component 1', 'principal component 2'])\n",
    "    principal_Df.head(2)"
   ]
  },
  {
   "cell_type": "code",
   "execution_count": 11,
   "metadata": {},
   "outputs": [
    {
     "data": {
      "image/png": "[encoded data removed]",
      "text/plain": [
       "<Figure size 432x288 with 1 Axes>"
      ]
     },
     "metadata": {},
     "output_type": "display_data"
    }
   ],
   "source": [
    "one_loc = all_data_usa[all_data_usa['location'] == all_data_usa['location'][3]]\n",
    "one_loc.hist(column=\"mean_gdd\");"
   ]
  },
  {
   "cell_type": "code",
   "execution_count": 13,
   "metadata": {},
   "outputs": [
    {
     "data": {
      "image/png": "[encoded data removed]",
      "text/plain": [
       "<Figure size 432x288 with 1 Axes>"
      ]
     },
     "metadata": {},
     "output_type": "display_data"
    }
   ],
   "source": [
    "one_loc['mean_precip'].hist();\n"
   ]
  },
  {
   "cell_type": "code",
   "execution_count": 14,
   "metadata": {},
   "outputs": [
    {
     "data": {
      "image/png": "[encoded data removed]",
      "text/plain": [
       "<Figure size 432x288 with 20 Axes>"
      ]
     },
     "metadata": {},
     "output_type": "display_data"
    }
   ],
   "source": [
    "two_locs = all_data_usa[all_data_usa['location'].isin(all_data_usa['location'][0:20])];\n",
    "two_locs.hist(column=\"mean_gdd\", by='location');"
   ]
  },
  {
   "cell_type": "code",
   "execution_count": null,
   "metadata": {},
   "outputs": [],
   "source": [
    "# all_data_usa.hist(column=\"mean_gdd\", by='location');"
   ]
  },
  {
   "cell_type": "code",
   "execution_count": null,
   "metadata": {},
   "outputs": [],
   "source": [
    "# all_data_usa.hist(column=\"mean_precip\", by='location');"
   ]
  },
  {
   "cell_type": "code",
   "execution_count": 15,
   "metadata": {},
   "outputs": [
    {
     "data": {
      "text/plain": [
       "array(['32.46875_-109.90625', '32.46875_-109.96875',\n",
       "       '35.15625_-118.84375', '35.21875_-82.34375', '35.21875_-82.46875',\n",
       "       '35.28125_-82.34375', '35.28125_-82.40625', '35.28125_-82.46875',\n",
       "       '35.34375_-119.21875', '35.34375_-119.28125',\n",
       "       '35.34375_-119.40625', '35.34375_-82.15625', '35.34375_-82.28125',\n",
       "       '35.34375_-82.34375', '35.34375_-82.40625', '35.34375_-82.46875',\n",
       "       '35.40625_-119.40625', '35.40625_-82.28125', '35.40625_-82.34375',\n",
       "       '35.40625_-82.40625'], dtype=object)"
      ]
     },
     "execution_count": 15,
     "metadata": {},
     "output_type": "execute_result"
    }
   ],
   "source": [
    "two_locs.location.unique()"
   ]
  },
  {
   "cell_type": "code",
   "execution_count": 16,
   "metadata": {},
   "outputs": [],
   "source": [
    "numeric_feat = ['medianDoY', 'NumLarvaGens_Aug', 'mean_escaped_Gen1', 'mean_escaped_Gen2',\n",
    "                'mean_escaped_Gen3', 'mean_escaped_Gen4', 'mean_precip', 'mean_gdd']\n",
    "two_locs_numeric = two_locs.loc[:, numeric_feat].copy()"
   ]
  },
  {
   "cell_type": "code",
   "execution_count": null,
   "metadata": {},
   "outputs": [],
   "source": [
    "# mahalanobis(two_locs_numeric) # this is something, it has to give pairwise dist. of rows"
   ]
  },
  {
   "cell_type": "code",
   "execution_count": 23,
   "metadata": {},
   "outputs": [
    {
     "data": {
      "text/html": [
       "<div>\n",
       "<style scoped>\n",
       "    .dataframe tbody tr th:only-of-type {\n",
       "        vertical-align: middle;\n",
       "    }\n",
       "\n",
       "    .dataframe tbody tr th {\n",
       "        vertical-align: top;\n",
       "    }\n",
       "\n",
       "    .dataframe thead th {\n",
       "        text-align: right;\n",
       "    }\n",
       "</style>\n",
       "<table border=\"1\" class=\"dataframe\">\n",
       "  <thead>\n",
       "    <tr style=\"text-align: right;\">\n",
       "      <th></th>\n",
       "      <th>medianDoY</th>\n",
       "      <th>NumLarvaGens_Aug</th>\n",
       "      <th>mean_escaped_Gen1</th>\n",
       "      <th>mean_escaped_Gen2</th>\n",
       "      <th>mean_escaped_Gen3</th>\n",
       "      <th>mean_escaped_Gen4</th>\n",
       "      <th>mean_precip</th>\n",
       "      <th>mean_gdd</th>\n",
       "    </tr>\n",
       "  </thead>\n",
       "  <tbody>\n",
       "    <tr>\n",
       "      <th>0</th>\n",
       "      <td>68</td>\n",
       "      <td>2.939262</td>\n",
       "      <td>1.319697</td>\n",
       "      <td>7.080458</td>\n",
       "      <td>1.348167</td>\n",
       "      <td>0.00000</td>\n",
       "      <td>300.525</td>\n",
       "      <td>4821.668922</td>\n",
       "    </tr>\n",
       "    <tr>\n",
       "      <th>1</th>\n",
       "      <td>68</td>\n",
       "      <td>2.946050</td>\n",
       "      <td>1.245847</td>\n",
       "      <td>7.104994</td>\n",
       "      <td>1.396980</td>\n",
       "      <td>0.00000</td>\n",
       "      <td>303.925</td>\n",
       "      <td>4831.770062</td>\n",
       "    </tr>\n",
       "    <tr>\n",
       "      <th>2</th>\n",
       "      <td>62</td>\n",
       "      <td>3.563884</td>\n",
       "      <td>0.568308</td>\n",
       "      <td>10.111412</td>\n",
       "      <td>7.650414</td>\n",
       "      <td>0.63345</td>\n",
       "      <td>176.500</td>\n",
       "      <td>6068.648203</td>\n",
       "    </tr>\n",
       "    <tr>\n",
       "      <th>3</th>\n",
       "      <td>89</td>\n",
       "      <td>2.199465</td>\n",
       "      <td>4.978327</td>\n",
       "      <td>7.436132</td>\n",
       "      <td>0.107327</td>\n",
       "      <td>0.00000</td>\n",
       "      <td>2670.975</td>\n",
       "      <td>3688.668537</td>\n",
       "    </tr>\n",
       "    <tr>\n",
       "      <th>4</th>\n",
       "      <td>92</td>\n",
       "      <td>2.091111</td>\n",
       "      <td>6.356177</td>\n",
       "      <td>5.861102</td>\n",
       "      <td>0.007612</td>\n",
       "      <td>0.00000</td>\n",
       "      <td>2631.075</td>\n",
       "      <td>3410.160966</td>\n",
       "    </tr>\n",
       "  </tbody>\n",
       "</table>\n",
       "</div>"
      ],
      "text/plain": [
       "   medianDoY  NumLarvaGens_Aug  mean_escaped_Gen1  mean_escaped_Gen2  \\\n",
       "0         68          2.939262           1.319697           7.080458   \n",
       "1         68          2.946050           1.245847           7.104994   \n",
       "2         62          3.563884           0.568308          10.111412   \n",
       "3         89          2.199465           4.978327           7.436132   \n",
       "4         92          2.091111           6.356177           5.861102   \n",
       "\n",
       "   mean_escaped_Gen3  mean_escaped_Gen4  mean_precip     mean_gdd  \n",
       "0           1.348167            0.00000      300.525  4821.668922  \n",
       "1           1.396980            0.00000      303.925  4831.770062  \n",
       "2           7.650414            0.63345      176.500  6068.648203  \n",
       "3           0.107327            0.00000     2670.975  3688.668537  \n",
       "4           0.007612            0.00000     2631.075  3410.160966  "
      ]
     },
     "execution_count": 23,
     "metadata": {},
     "output_type": "execute_result"
    }
   ],
   "source": [
    "two_locs_numeric.head()"
   ]
  },
  {
   "cell_type": "code",
   "execution_count": 25,
   "metadata": {},
   "outputs": [],
   "source": [
    "one_loc = all_data_usa[all_data_usa['location'] == all_data_usa['location'][3]]\n",
    "one_loc_numeric = one_loc.loc[:, numeric_feat].copy()"
   ]
  },
  {
   "cell_type": "code",
   "execution_count": null,
   "metadata": {},
   "outputs": [],
   "source": [
    "cov_mat = one_loc_numeric.cov()\n",
    "cov_mat_inv = pd.DataFrame(np.linalg.pinv(cov_mat.values), cov_mat.columns, cov_mat.index)\n",
    "distance.mahalanobis(two_locs_numeric.iloc[0], two_locs_numeric.iloc[1], cov_mat_inv)"
   ]
  },
  {
   "cell_type": "code",
   "execution_count": null,
   "metadata": {},
   "outputs": [],
   "source": [
    "cov_mat_inv.head(2)"
   ]
  },
  {
   "cell_type": "code",
   "execution_count": null,
   "metadata": {},
   "outputs": [],
   "source": [
    "cov_mat.head()"
   ]
  },
  {
   "cell_type": "code",
   "execution_count": null,
   "metadata": {},
   "outputs": [],
   "source": [
    "\n",
    "# robust_cov = MinCovDet().fit(one_loc_numeric)\n"
   ]
  },
  {
   "cell_type": "code",
   "execution_count": null,
   "metadata": {},
   "outputs": [],
   "source": [
    ".mahalanobis(two_locs_numeric)"
   ]
  },
  {
   "cell_type": "code",
   "execution_count": null,
   "metadata": {},
   "outputs": [],
   "source": [
    "# the following two are the same\n",
    "# emp_cov = EmpiricalCovariance(assume_centered=False).fit(one_loc_numeric)\n",
    "cov1 = sklearn.covariance.empirical_covariance(one_loc_numeric, assume_centered=False)"
   ]
  },
  {
   "cell_type": "code",
   "execution_count": null,
   "metadata": {},
   "outputs": [],
   "source": [
    "cov_mat = one_loc_numeric.cov()"
   ]
  },
  {
   "cell_type": "code",
   "execution_count": null,
   "metadata": {},
   "outputs": [],
   "source": [
    "cov_mat"
   ]
  },
  {
   "cell_type": "code",
   "execution_count": null,
   "metadata": {},
   "outputs": [],
   "source": []
  },
  {
   "cell_type": "code",
   "execution_count": null,
   "metadata": {},
   "outputs": [],
   "source": []
  }
 ],
 "metadata": {
  "kernelspec": {
   "display_name": "Python 3",
   "language": "python",
   "name": "python3"
  },
  "language_info": {
   "codemirror_mode": {
    "name": "ipython",
    "version": 3
   },
   "file_extension": ".py",
   "mimetype": "text/x-python",
   "name": "python",
   "nbconvert_exporter": "python",
   "pygments_lexer": "ipython3",
   "version": "3.6.8"
  }
 },
 "nbformat": 4,
 "nbformat_minor": 2
}
